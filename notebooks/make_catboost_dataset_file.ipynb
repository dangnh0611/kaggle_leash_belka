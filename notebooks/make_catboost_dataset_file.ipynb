{
 "cells": [
  {
   "cell_type": "code",
   "execution_count": 1,
   "id": "e99eb57d",
   "metadata": {},
   "outputs": [
    {
     "name": "stderr",
     "output_type": "stream",
     "text": [
      "/tmp/ipykernel_41203/3612288966.py:1: DeprecationWarning: \n",
      "Pyarrow will become a required dependency of pandas in the next major release of pandas (pandas 3.0),\n",
      "(to allow more performant data types, such as the Arrow string type, and better interoperability with other libraries)\n",
      "but was not found to be installed on your system.\n",
      "If this would cause problems for you,\n",
      "please provide us feedback at https://github.com/pandas-dev/pandas/issues/54466\n",
      "        \n",
      "  import pandas as pd\n",
      "No normalization for SPS. Feature removed!\n",
      "No normalization for AvgIpc. Feature removed!\n",
      "Skipped loading some Tensorflow models, missing a dependency. No module named 'tensorflow'\n",
      "\u001b[34m\u001b[1mwandb\u001b[0m: \u001b[33mWARNING\u001b[0m W&B installed but not logged in.  Run `wandb login` or set the WANDB_API_KEY env variable.\n",
      "Skipped loading modules with pytorch-geometric dependency, missing a dependency. No module named 'torch_geometric'\n",
      "Skipped loading modules with pytorch-geometric dependency, missing a dependency. cannot import name 'DMPNN' from 'deepchem.models.torch_models' (/opt/conda/lib/python3.10/site-packages/deepchem/models/torch_models/__init__.py)\n",
      "Skipped loading some Jax models, missing a dependency. No module named 'jax'\n",
      "Skipped loading some PyTorch models, missing a dependency. No module named 'tensorflow'\n"
     ]
    }
   ],
   "source": [
    "import pandas as pd\n",
    "import numpy as np\n",
    "import os\n",
    "import sys\n",
    "import polars as pl\n",
    "import json\n",
    "from joblib import Parallel, delayed\n",
    "import deepchem\n",
    "from tqdm import tqdm\n",
    "import warnings\n",
    "warnings.filterwarnings(\"ignore\")\n",
    "\n",
    "# Configure Polars \n",
    "cfg = pl.Config()\n",
    "cfg.set_tbl_rows(20)\n",
    "cfg.set_tbl_cols(50)\n",
    "from sklearn.model_selection import StratifiedGroupKFold, GroupKFold, KFold, GroupShuffleSplit, ShuffleSplit, StratifiedKFold\n",
    "import gc\n",
    "import random\n",
    "import catboost\n",
    "from catboost.utils import create_cd"
   ]
  },
  {
   "cell_type": "code",
   "execution_count": 2,
   "id": "64ca0042",
   "metadata": {},
   "outputs": [],
   "source": [
    "DELIMITER = '\\t'\n",
    "NUM_FEATURES = 2048\n",
    "FEATURE_NAMES = [f'ECFP_{i}' for i in range(NUM_FEATURES)]"
   ]
  },
  {
   "cell_type": "code",
   "execution_count": null,
   "id": "82156da2",
   "metadata": {},
   "outputs": [],
   "source": []
  },
  {
   "cell_type": "code",
   "execution_count": null,
   "id": "1a1c9c3c",
   "metadata": {},
   "outputs": [],
   "source": []
  },
  {
   "cell_type": "code",
   "execution_count": 3,
   "id": "1f33a6d6",
   "metadata": {},
   "outputs": [
    {
     "name": "stdout",
     "output_type": "stream",
     "text": [
      "CPU times: user 3.03 ms, sys: 8 s, total: 8 s\n",
      "Wall time: 8.01 s\n"
     ]
    },
    {
     "data": {
      "text/plain": [
       "(98415610, 256)"
      ]
     },
     "execution_count": 3,
     "metadata": {},
     "output_type": "execute_result"
    }
   ],
   "source": [
    "%%time\n",
    "data = np.load('/home/dangnh36/datasets/competitions/leash_belka/processed/features/ecfp6/train.npy')\n",
    "data.shape"
   ]
  },
  {
   "cell_type": "code",
   "execution_count": null,
   "id": "1c546409",
   "metadata": {},
   "outputs": [],
   "source": []
  },
  {
   "cell_type": "code",
   "execution_count": null,
   "id": "e58847f1",
   "metadata": {},
   "outputs": [],
   "source": []
  },
  {
   "cell_type": "code",
   "execution_count": null,
   "id": "cc95a1c4",
   "metadata": {},
   "outputs": [],
   "source": []
  },
  {
   "cell_type": "code",
   "execution_count": null,
   "id": "aad09a66",
   "metadata": {},
   "outputs": [],
   "source": []
  },
  {
   "cell_type": "code",
   "execution_count": 4,
   "id": "ade95373",
   "metadata": {},
   "outputs": [],
   "source": [
    "# np.unpackbits(data[:10], axis=1).shape"
   ]
  },
  {
   "cell_type": "code",
   "execution_count": 5,
   "id": "ecb56e29",
   "metadata": {},
   "outputs": [],
   "source": [
    "# data = np.unpackbits(data, axis=1)\n",
    "# gc.collect()\n",
    "# data.shape"
   ]
  },
  {
   "cell_type": "code",
   "execution_count": 6,
   "id": "e94a5d42",
   "metadata": {},
   "outputs": [
    {
     "data": {
      "text/plain": [
       "0.3255673423926982"
      ]
     },
     "execution_count": 6,
     "metadata": {},
     "output_type": "execute_result"
    }
   ],
   "source": [
    "(data!=0).mean()"
   ]
  },
  {
   "cell_type": "code",
   "execution_count": 15,
   "id": "14f7b2a6",
   "metadata": {},
   "outputs": [
    {
     "data": {
      "text/plain": [
       "0.366262875"
      ]
     },
     "execution_count": 15,
     "metadata": {},
     "output_type": "execute_result"
    }
   ],
   "source": [
    "(0.325567 / 8) * (4 + 4 + 1)"
   ]
  },
  {
   "cell_type": "code",
   "execution_count": null,
   "id": "068c9c00",
   "metadata": {},
   "outputs": [],
   "source": [
    "1"
   ]
  },
  {
   "cell_type": "code",
   "execution_count": null,
   "id": "ba03e06d",
   "metadata": {},
   "outputs": [],
   "source": []
  },
  {
   "cell_type": "markdown",
   "id": "c73090e1",
   "metadata": {},
   "source": [
    "# Make a sample dataset to test"
   ]
  },
  {
   "cell_type": "code",
   "execution_count": 4,
   "id": "f4e66b09",
   "metadata": {},
   "outputs": [
    {
     "data": {
      "text/html": [
       "<div><style>\n",
       ".dataframe > thead > tr,\n",
       ".dataframe > tbody > tr {\n",
       "  text-align: right;\n",
       "  white-space: pre-wrap;\n",
       "}\n",
       "</style>\n",
       "<small>shape: (66_710_159, 2)</small><table border=\"1\" class=\"dataframe\"><thead><tr><th>label</th><th>index</th></tr><tr><td>i64</td><td>i64</td></tr></thead><tbody><tr><td>0</td><td>363110</td></tr><tr><td>0</td><td>363111</td></tr><tr><td>0</td><td>363112</td></tr><tr><td>0</td><td>363113</td></tr><tr><td>0</td><td>363114</td></tr><tr><td>0</td><td>363115</td></tr><tr><td>0</td><td>363116</td></tr><tr><td>0</td><td>363118</td></tr><tr><td>0</td><td>363119</td></tr><tr><td>0</td><td>363120</td></tr><tr><td>&hellip;</td><td>&hellip;</td></tr><tr><td>0</td><td>98414962</td></tr><tr><td>0</td><td>98414963</td></tr><tr><td>0</td><td>98414964</td></tr><tr><td>0</td><td>98414965</td></tr><tr><td>0</td><td>98414966</td></tr><tr><td>0</td><td>98414967</td></tr><tr><td>0</td><td>98414968</td></tr><tr><td>0</td><td>98414969</td></tr><tr><td>0</td><td>98414970</td></tr><tr><td>0</td><td>98414971</td></tr></tbody></table></div>"
      ],
      "text/plain": [
       "shape: (66_710_159, 2)\n",
       "┌───────┬──────────┐\n",
       "│ label ┆ index    │\n",
       "│ ---   ┆ ---      │\n",
       "│ i64   ┆ i64      │\n",
       "╞═══════╪══════════╡\n",
       "│ 0     ┆ 363110   │\n",
       "│ 0     ┆ 363111   │\n",
       "│ 0     ┆ 363112   │\n",
       "│ 0     ┆ 363113   │\n",
       "│ 0     ┆ 363114   │\n",
       "│ 0     ┆ 363115   │\n",
       "│ 0     ┆ 363116   │\n",
       "│ 0     ┆ 363118   │\n",
       "│ 0     ┆ 363119   │\n",
       "│ 0     ┆ 363120   │\n",
       "│ …     ┆ …        │\n",
       "│ 0     ┆ 98414962 │\n",
       "│ 0     ┆ 98414963 │\n",
       "│ 0     ┆ 98414964 │\n",
       "│ 0     ┆ 98414965 │\n",
       "│ 0     ┆ 98414966 │\n",
       "│ 0     ┆ 98414967 │\n",
       "│ 0     ┆ 98414968 │\n",
       "│ 0     ┆ 98414969 │\n",
       "│ 0     ┆ 98414970 │\n",
       "│ 0     ┆ 98414971 │\n",
       "└───────┴──────────┘"
      ]
     },
     "execution_count": 4,
     "metadata": {},
     "output_type": "execute_result"
    }
   ],
   "source": [
    "train_split_df = pl.scan_csv('/home/dangnh36/datasets/competitions/leash_belka/processed/cv/v1/train.csv').collect()\n",
    "train_split_df"
   ]
  },
  {
   "cell_type": "code",
   "execution_count": 5,
   "id": "98b89ed3",
   "metadata": {},
   "outputs": [
    {
     "data": {
      "text/plain": [
       "(1052622,)"
      ]
     },
     "execution_count": 5,
     "metadata": {},
     "output_type": "execute_result"
    }
   ],
   "source": [
    "NUM_SAMPLES = 5_000_000\n",
    "pos_idxs = train_split_df.filter(pl.col('label') > 0)['index'].to_numpy()\n",
    "pos_idxs.shape"
   ]
  },
  {
   "cell_type": "code",
   "execution_count": 6,
   "id": "c09acd9e",
   "metadata": {},
   "outputs": [
    {
     "name": "stdout",
     "output_type": "stream",
     "text": [
      "Num neg: 3947378\n"
     ]
    },
    {
     "data": {
      "text/plain": [
       "5000000"
      ]
     },
     "execution_count": 6,
     "metadata": {},
     "output_type": "execute_result"
    }
   ],
   "source": [
    "remain_idxs = train_split_df.filter(pl.col('label') == 0)['index'].to_numpy()\n",
    "num_neg = NUM_SAMPLES - len(pos_idxs)\n",
    "print('Num neg:', num_neg)\n",
    "np.random.seed(42)\n",
    "neg_idxs = np.random.choice(remain_idxs, num_neg, replace = False)\n",
    "sampled_idxs = pos_idxs.tolist() + neg_idxs.tolist()\n",
    "len(sampled_idxs)"
   ]
  },
  {
   "cell_type": "code",
   "execution_count": 7,
   "id": "a3a96001",
   "metadata": {},
   "outputs": [
    {
     "data": {
      "text/plain": [
       "(5000000, 256)"
      ]
     },
     "execution_count": 7,
     "metadata": {},
     "output_type": "execute_result"
    }
   ],
   "source": [
    "sampled_data = data[sampled_idxs]\n",
    "sampled_data.shape"
   ]
  },
  {
   "cell_type": "code",
   "execution_count": 17,
   "id": "5561bacc",
   "metadata": {},
   "outputs": [],
   "source": []
  },
  {
   "cell_type": "code",
   "execution_count": null,
   "id": "fe92f409",
   "metadata": {},
   "outputs": [],
   "source": []
  },
  {
   "cell_type": "code",
   "execution_count": 28,
   "id": "72b3f608",
   "metadata": {},
   "outputs": [
    {
     "data": {
      "text/html": [
       "<div><style>\n",
       ".dataframe > thead > tr,\n",
       ".dataframe > tbody > tr {\n",
       "  text-align: right;\n",
       "  white-space: pre-wrap;\n",
       "}\n",
       "</style>\n",
       "<small>shape: (299_837, 2)</small><table border=\"1\" class=\"dataframe\"><thead><tr><th>index</th><th>subset</th></tr><tr><td>i64</td><td>u8</td></tr></thead><tbody><tr><td>486</td><td>0</td></tr><tr><td>489</td><td>0</td></tr><tr><td>494</td><td>0</td></tr><tr><td>498</td><td>0</td></tr><tr><td>504</td><td>0</td></tr><tr><td>519</td><td>0</td></tr><tr><td>527</td><td>0</td></tr><tr><td>528</td><td>0</td></tr><tr><td>534</td><td>0</td></tr><tr><td>546</td><td>0</td></tr><tr><td>&hellip;</td><td>&hellip;</td></tr><tr><td>98358442</td><td>3</td></tr><tr><td>98366593</td><td>3</td></tr><tr><td>98367281</td><td>3</td></tr><tr><td>98367317</td><td>3</td></tr><tr><td>98391952</td><td>3</td></tr><tr><td>98392959</td><td>3</td></tr><tr><td>98406691</td><td>3</td></tr><tr><td>98409910</td><td>3</td></tr><tr><td>98411447</td><td>3</td></tr><tr><td>98412085</td><td>3</td></tr></tbody></table></div>"
      ],
      "text/plain": [
       "shape: (299_837, 2)\n",
       "┌──────────┬────────┐\n",
       "│ index    ┆ subset │\n",
       "│ ---      ┆ ---    │\n",
       "│ i64      ┆ u8     │\n",
       "╞══════════╪════════╡\n",
       "│ 486      ┆ 0      │\n",
       "│ 489      ┆ 0      │\n",
       "│ 494      ┆ 0      │\n",
       "│ 498      ┆ 0      │\n",
       "│ 504      ┆ 0      │\n",
       "│ 519      ┆ 0      │\n",
       "│ 527      ┆ 0      │\n",
       "│ 528      ┆ 0      │\n",
       "│ 534      ┆ 0      │\n",
       "│ 546      ┆ 0      │\n",
       "│ …        ┆ …      │\n",
       "│ 98358442 ┆ 3      │\n",
       "│ 98366593 ┆ 3      │\n",
       "│ 98367281 ┆ 3      │\n",
       "│ 98367317 ┆ 3      │\n",
       "│ 98391952 ┆ 3      │\n",
       "│ 98392959 ┆ 3      │\n",
       "│ 98406691 ┆ 3      │\n",
       "│ 98409910 ┆ 3      │\n",
       "│ 98411447 ┆ 3      │\n",
       "│ 98412085 ┆ 3      │\n",
       "└──────────┴────────┘"
      ]
     },
     "execution_count": 28,
     "metadata": {},
     "output_type": "execute_result"
    }
   ],
   "source": [
    "val_df = pl.scan_csv('/home/dangnh36/datasets/competitions/leash_belka/processed/cv/v1/val.csv',\n",
    "                    dtypes = {'subset': pl.UInt8}).filter(pl.col('subset').is_in([0, 2, 3])).collect()\n",
    "val_df"
   ]
  },
  {
   "cell_type": "code",
   "execution_count": 29,
   "id": "24c86e73",
   "metadata": {},
   "outputs": [
    {
     "data": {
      "text/plain": [
       "(299837,)"
      ]
     },
     "execution_count": 29,
     "metadata": {},
     "output_type": "execute_result"
    }
   ],
   "source": [
    "val_idxs = val_df['index'].to_numpy()\n",
    "val_idxs.shape"
   ]
  },
  {
   "cell_type": "code",
   "execution_count": 30,
   "id": "07d4dbdf",
   "metadata": {},
   "outputs": [],
   "source": [
    "sampled_idxs = val_idxs"
   ]
  },
  {
   "cell_type": "code",
   "execution_count": null,
   "id": "d2c350aa",
   "metadata": {},
   "outputs": [],
   "source": []
  },
  {
   "cell_type": "code",
   "execution_count": 14,
   "id": "fd5fb6e4",
   "metadata": {},
   "outputs": [],
   "source": [
    "catboost.utils.create_cd(\n",
    "      label=0,\n",
    "      cat_features=list(range(3, NUM_FEATURES+3)),\n",
    "      text_features=None,\n",
    "      embedding_features=None,\n",
    "      weight=None,\n",
    "      baseline=None,\n",
    "      doc_id=None,\n",
    "      group_id=None,\n",
    "      subgroup_id=None,\n",
    "      timestamp=None,\n",
    "      auxiliary_columns=None,\n",
    "      feature_names={i+3: FEATURE_NAMES[i] for i in range(NUM_FEATURES)},\n",
    "      output_path='/home/dangnh36/datasets/competitions/leash_belka/processed/features/catboost/train_ecfp6_2048_2048.cd'\n",
    ")"
   ]
  },
  {
   "cell_type": "code",
   "execution_count": null,
   "id": "3248d933",
   "metadata": {},
   "outputs": [],
   "source": []
  },
  {
   "cell_type": "code",
   "execution_count": 15,
   "id": "a642ade0",
   "metadata": {},
   "outputs": [],
   "source": [
    "catboost.utils.create_cd(\n",
    "      label=0,\n",
    "      text_features=None,\n",
    "      embedding_features=None,\n",
    "      weight=None,\n",
    "      baseline=None,\n",
    "      doc_id=None,\n",
    "      group_id=None,\n",
    "      subgroup_id=None,\n",
    "      timestamp=None,\n",
    "      auxiliary_columns=None,\n",
    "      feature_names={i+3: FEATURE_NAMES[i] for i in range(NUM_FEATURES)},\n",
    "      output_path='/home/dangnh36/datasets/competitions/leash_belka/processed/features/catboost/train_ecfp6_2048_2048_noctr.cd'\n",
    ")"
   ]
  },
  {
   "cell_type": "code",
   "execution_count": null,
   "id": "49e75a0d",
   "metadata": {},
   "outputs": [],
   "source": []
  },
  {
   "cell_type": "code",
   "execution_count": 5,
   "id": "c43bb753",
   "metadata": {},
   "outputs": [
    {
     "name": "stdout",
     "output_type": "stream",
     "text": [
      "0\tLabel\t\n",
      "3\tCateg\tECFP_0\n",
      "4\tCateg\tECFP_1\n",
      "5\tCateg\tECFP_2\n",
      "6\tCateg\tECFP_3\n",
      "7\tCateg\tECFP_4\n",
      "8\tCateg\tECFP_5\n",
      "9\tCateg\tECFP_6\n",
      "10\tCateg\tECFP_7\n",
      "11\tCateg\tECFP_8\n",
      "12\tCateg\tECFP_9\n",
      "13\tCateg\tECFP_10\n",
      "14\tCateg\tECFP_11\n",
      "15\tCateg\tECFP_12\n",
      "16\tCateg\tECFP_13\n",
      "17\tCateg\tECFP_14\n",
      "18\tCateg\tECFP_15\n",
      "19\tCateg\tECFP_16\n",
      "20\tCateg\tECFP_17\n",
      "21\tCateg\tECFP_18\n",
      "22\tCateg\tECFP_19\n",
      "23\tCateg\tECFP_20\n",
      "24\tCateg\tECFP_21\n",
      "25\tCateg\tECFP_22\n",
      "26\tCateg\tECFP_23\n",
      "27\tCateg\tECFP_24\n",
      "28\tCateg\tECFP_25\n",
      "29\tCateg\tECFP_26\n",
      "30\tCateg\tECFP_27\n",
      "31\tCateg\tECFP_28\n",
      "32\tCateg\tECFP_29\n",
      "33\tCateg\tECFP_30\n",
      "34\tCateg\tECFP_31\n",
      "35\tCateg\tECFP_32\n",
      "36\tCateg\tECFP_33\n",
      "37\tCateg\tECFP_34\n",
      "38\tCateg\tECFP_35\n",
      "39\tCateg\tECFP_36\n",
      "40\tCateg\tECFP_37\n",
      "41\tCateg\tECFP_38\n",
      "42\tCateg\tECFP_39\n",
      "43\tCateg\tECFP_40\n",
      "44\tCateg\tECFP_41\n",
      "45\tCateg\tECFP_42\n",
      "46\tCateg\tECFP_43\n",
      "47\tCateg\tECFP_44\n",
      "48\tCateg\tECFP_45\n",
      "49\tCateg\tECFP_46\n",
      "50\tCateg\tECFP_47\n",
      "51\tCateg\tECFP_48\n",
      "52\tCateg\tECFP_49\n",
      "53\tCateg\tECFP_50\n",
      "54\tCateg\tECFP_51\n",
      "55\tCateg\tECFP_52\n",
      "56\tCateg\tECFP_53\n",
      "57\tCateg\tECFP_54\n",
      "58\tCateg\tECFP_55\n",
      "59\tCateg\tECFP_56\n",
      "60\tCateg\tECFP_57\n",
      "61\tCateg\tECFP_58\n",
      "62\tCateg\tECFP_59\n",
      "63\tCateg\tECFP_60\n",
      "64\tCateg\tECFP_61\n",
      "65\tCateg\tECFP_62\n",
      "66\tCateg\tECFP_63\n",
      "67\tCateg\tECFP_64\n",
      "68\tCateg\tECFP_65\n",
      "69\tCateg\tECFP_66\n",
      "70\tCateg\tECFP_67\n",
      "71\tCateg\tECFP_68\n",
      "72\tCateg\tECFP_69\n",
      "73\tCateg\tECFP_70\n",
      "74\tCateg\tECFP_71\n",
      "75\tCateg\tECFP_72\n",
      "76\tCateg\tECFP_73\n",
      "77\tCateg\tECFP_74\n",
      "78\tCateg\tECFP_75\n",
      "79\tCateg\tECFP_76\n",
      "80\tCateg\tECFP_77\n",
      "81\tCateg\tECFP_78\n",
      "82\tCateg\tECFP_79\n",
      "83\tCateg\tECFP_80\n",
      "84\tCateg\tECFP_81\n",
      "85\tCateg\tECFP_82\n",
      "86\tCateg\tECFP_83\n",
      "87\tCateg\tECFP_84\n",
      "88\tCateg\tECFP_85\n",
      "89\tCateg\tECFP_86\n",
      "90\tCateg\tECFP_87\n",
      "91\tCateg\tECFP_88\n",
      "92\tCateg\tECFP_89\n",
      "93\tCateg\tECFP_90\n",
      "94\tCateg\tECFP_91\n",
      "95\tCateg\tECFP_92\n",
      "96\tCateg\tECFP_93\n",
      "97\tCateg\tECFP_94\n",
      "98\tCateg\tECFP_95\n",
      "99\tCateg\tECFP_96\n",
      "100\tCateg\tECFP_97\n",
      "101\tCateg\tECFP_98\n",
      "102\tCateg\tECFP_99\n",
      "103\tCateg\tECFP_100\n",
      "104\tCateg\tECFP_101\n",
      "105\tCateg\tECFP_102\n",
      "106\tCateg\tECFP_103\n",
      "107\tCateg\tECFP_104\n",
      "108\tCateg\tECFP_105\n",
      "109\tCateg\tECFP_106\n",
      "110\tCateg\tECFP_107\n",
      "111\tCateg\tECFP_108\n",
      "112\tCateg\tECFP_109\n",
      "113\tCateg\tECFP_110\n",
      "114\tCateg\tECFP_111\n",
      "115\tCateg\tECFP_112\n",
      "116\tCateg\tECFP_113\n",
      "117\tCateg\tECFP_114\n",
      "118\tCateg\tECFP_115\n",
      "119\tCateg\tECFP_116\n",
      "120\tCateg\tECFP_117\n",
      "121\tCateg\tECFP_118\n",
      "122\tCateg\tECFP_119\n",
      "123\tCateg\tECFP_120\n",
      "124\tCateg\tECFP_121\n",
      "125\tCateg\tECFP_122\n",
      "126\tCateg\tECFP_123\n",
      "127\tCateg\tECFP_124\n",
      "128\tCateg\tECFP_125\n",
      "129\tCateg\tECFP_126\n",
      "130\tCateg\tECFP_127\n",
      "131\tCateg\tECFP_128\n",
      "132\tCateg\tECFP_129\n",
      "133\tCateg\tECFP_130\n",
      "134\tCateg\tECFP_131\n",
      "135\tCateg\tECFP_132\n",
      "136\tCateg\tECFP_133\n",
      "137\tCateg\tECFP_134\n",
      "138\tCateg\tECFP_135\n",
      "139\tCateg\tECFP_136\n",
      "140\tCateg\tECFP_137\n",
      "141\tCateg\tECFP_138\n",
      "142\tCateg\tECFP_139\n",
      "143\tCateg\tECFP_140\n",
      "144\tCateg\tECFP_141\n",
      "145\tCateg\tECFP_142\n",
      "146\tCateg\tECFP_143\n",
      "147\tCateg\tECFP_144\n",
      "148\tCateg\tECFP_145\n",
      "149\tCateg\tECFP_146\n",
      "150\tCateg\tECFP_147\n",
      "151\tCateg\tECFP_148\n",
      "152\tCateg\tECFP_149\n",
      "153\tCateg\tECFP_150\n",
      "154\tCateg\tECFP_151\n",
      "155\tCateg\tECFP_152\n",
      "156\tCateg\tECFP_153\n",
      "157\tCateg\tECFP_154\n",
      "158\tCateg\tECFP_155\n",
      "159\tCateg\tECFP_156\n",
      "160\tCateg\tECFP_157\n",
      "161\tCateg\tECFP_158\n",
      "162\tCateg\tECFP_159\n",
      "163\tCateg\tECFP_160\n",
      "164\tCateg\tECFP_161\n",
      "165\tCateg\tECFP_162\n",
      "166\tCateg\tECFP_163\n",
      "167\tCateg\tECFP_164\n",
      "168\tCateg\tECFP_165\n",
      "169\tCateg\tECFP_166\n",
      "170\tCateg\tECFP_167\n",
      "171\tCateg\tECFP_168\n",
      "172\tCateg\tECFP_169\n",
      "173\tCateg\tECFP_170\n",
      "174\tCateg\tECFP_171\n",
      "175\tCateg\tECFP_172\n",
      "176\tCateg\tECFP_173\n",
      "177\tCateg\tECFP_174\n",
      "178\tCateg\tECFP_175\n",
      "179\tCateg\tECFP_176\n",
      "180\tCateg\tECFP_177\n",
      "181\tCateg\tECFP_178\n",
      "182\tCateg\tECFP_179\n",
      "183\tCateg\tECFP_180\n",
      "184\tCateg\tECFP_181\n",
      "185\tCateg\tECFP_182\n",
      "186\tCateg\tECFP_183\n",
      "187\tCateg\tECFP_184\n",
      "188\tCateg\tECFP_185\n",
      "189\tCateg\tECFP_186\n",
      "190\tCateg\tECFP_187\n",
      "191\tCateg\tECFP_188\n",
      "192\tCateg\tECFP_189\n",
      "193\tCateg\tECFP_190\n",
      "194\tCateg\tECFP_191\n",
      "195\tCateg\tECFP_192\n",
      "196\tCateg\tECFP_193\n",
      "197\tCateg\tECFP_194\n",
      "198\tCateg\tECFP_195\n",
      "199\tCateg\tECFP_196\n",
      "200\tCateg\tECFP_197\n",
      "201\tCateg\tECFP_198\n",
      "202\tCateg\tECFP_199\n",
      "203\tCateg\tECFP_200\n",
      "204\tCateg\tECFP_201\n",
      "205\tCateg\tECFP_202\n",
      "206\tCateg\tECFP_203\n",
      "207\tCateg\tECFP_204\n",
      "208\tCateg\tECFP_205\n",
      "209\tCateg\tECFP_206\n",
      "210\tCateg\tECFP_207\n",
      "211\tCateg\tECFP_208\n",
      "212\tCateg\tECFP_209\n",
      "213\tCateg\tECFP_210\n",
      "214\tCateg\tECFP_211\n",
      "215\tCateg\tECFP_212\n",
      "216\tCateg\tECFP_213\n",
      "217\tCateg\tECFP_214\n",
      "218\tCateg\tECFP_215\n",
      "219\tCateg\tECFP_216\n",
      "220\tCateg\tECFP_217\n",
      "221\tCateg\tECFP_218\n",
      "222\tCateg\tECFP_219\n",
      "223\tCateg\tECFP_220\n",
      "224\tCateg\tECFP_221\n",
      "225\tCateg\tECFP_222\n",
      "226\tCateg\tECFP_223\n",
      "227\tCateg\tECFP_224\n",
      "228\tCateg\tECFP_225\n",
      "229\tCateg\tECFP_226\n",
      "230\tCateg\tECFP_227\n",
      "231\tCateg\tECFP_228\n",
      "232\tCateg\tECFP_229\n",
      "233\tCateg\tECFP_230\n",
      "234\tCateg\tECFP_231\n",
      "235\tCateg\tECFP_232\n",
      "236\tCateg\tECFP_233\n",
      "237\tCateg\tECFP_234\n",
      "238\tCateg\tECFP_235\n",
      "239\tCateg\tECFP_236\n",
      "240\tCateg\tECFP_237\n",
      "241\tCateg\tECFP_238\n",
      "242\tCateg\tECFP_239\n",
      "243\tCateg\tECFP_240\n",
      "244\tCateg\tECFP_241\n",
      "245\tCateg\tECFP_242\n",
      "246\tCateg\tECFP_243\n",
      "247\tCateg\tECFP_244\n",
      "248\tCateg\tECFP_245\n",
      "249\tCateg\tECFP_246\n",
      "250\tCateg\tECFP_247\n",
      "251\tCateg\tECFP_248\n",
      "252\tCateg\tECFP_249\n",
      "253\tCateg\tECFP_250\n",
      "254\tCateg\tECFP_251\n",
      "255\tCateg\tECFP_252\n",
      "256\tCateg\tECFP_253\n",
      "257\tCateg\tECFP_254\n",
      "258\tCateg\tECFP_255\n"
     ]
    }
   ],
   "source": [
    "!cat /home/dangnh36/datasets/competitions/leash_belka/processed/features/train_ecfp6_2048_256_uint8.cd"
   ]
  },
  {
   "cell_type": "code",
   "execution_count": 9,
   "id": "42ec96d9",
   "metadata": {},
   "outputs": [
    {
     "data": {
      "text/plain": [
       "(66710159, 3)"
      ]
     },
     "execution_count": 9,
     "metadata": {},
     "output_type": "execute_result"
    }
   ],
   "source": [
    "# NUM_SAMPLES = 98415610\n",
    "# NUM_SAMPLES = 5_000_000\n",
    "# NUM_SAMPLES = 299_837\n",
    "NUM_SAMPLES = 66710159\n",
    "NUM_FEATURES = 256\n",
    "DTYPE = np.uint8\n",
    "\n",
    "label = pl.scan_csv('/home/dangnh36/datasets/competitions/leash_belka/processed/train_v2.csv',\n",
    "                   dtypes = {\n",
    "                    'BRD4': pl.UInt8,\n",
    "                    'HSA': pl.UInt8,\n",
    "                    'sEH': pl.UInt8,\n",
    "                }).select(pl.col('BRD4', 'HSA', 'sEH')).collect().to_numpy()[sampled_idxs]\n",
    "label.shape"
   ]
  },
  {
   "cell_type": "code",
   "execution_count": null,
   "id": "369bb140",
   "metadata": {},
   "outputs": [],
   "source": []
  },
  {
   "cell_type": "code",
   "execution_count": 10,
   "id": "a244cf9b",
   "metadata": {},
   "outputs": [
    {
     "data": {
      "text/plain": [
       "(66710159, 259)"
      ]
     },
     "execution_count": 10,
     "metadata": {},
     "output_type": "execute_result"
    }
   ],
   "source": [
    "all_data = np.empty((NUM_SAMPLES, NUM_FEATURES + 3), dtype = np.uint8)\n",
    "all_data.shape"
   ]
  },
  {
   "cell_type": "code",
   "execution_count": 11,
   "id": "eaaa0460",
   "metadata": {},
   "outputs": [
    {
     "name": "stdout",
     "output_type": "stream",
     "text": [
      "CPU times: user 807 ms, sys: 17.4 s, total: 18.2 s\n",
      "Wall time: 18.2 s\n"
     ]
    }
   ],
   "source": [
    "%%time\n",
    "all_data[:, :3] = label"
   ]
  },
  {
   "cell_type": "code",
   "execution_count": 13,
   "id": "af51cb62",
   "metadata": {},
   "outputs": [],
   "source": [
    "all_data[:, 3:] = data[sampled_idxs]"
   ]
  },
  {
   "cell_type": "code",
   "execution_count": 14,
   "id": "6315743d",
   "metadata": {},
   "outputs": [
    {
     "data": {
      "text/plain": [
       "(66710159, 259)"
      ]
     },
     "execution_count": 14,
     "metadata": {},
     "output_type": "execute_result"
    }
   ],
   "source": [
    "all_data.shape"
   ]
  },
  {
   "cell_type": "code",
   "execution_count": null,
   "id": "65958d3d",
   "metadata": {},
   "outputs": [],
   "source": []
  },
  {
   "cell_type": "code",
   "execution_count": 34,
   "id": "e7014ea8",
   "metadata": {},
   "outputs": [
    {
     "name": "stdout",
     "output_type": "stream",
     "text": [
      "CPU times: user 226 ms, sys: 144 ms, total: 370 ms\n",
      "Wall time: 366 ms\n"
     ]
    }
   ],
   "source": [
    "%%time\n",
    "all_data[:, 3:] = np.unpackbits(data[sampled_idxs], axis = 1)\n",
    "# all_data[:, 3:] = data[sampled_idxs]"
   ]
  },
  {
   "cell_type": "code",
   "execution_count": 35,
   "id": "c65bea36",
   "metadata": {},
   "outputs": [
    {
     "data": {
      "text/plain": [
       "(299837, 2051)"
      ]
     },
     "execution_count": 35,
     "metadata": {},
     "output_type": "execute_result"
    }
   ],
   "source": [
    "all_data.shape"
   ]
  },
  {
   "cell_type": "code",
   "execution_count": null,
   "id": "f4b132bf",
   "metadata": {},
   "outputs": [],
   "source": []
  },
  {
   "cell_type": "code",
   "execution_count": null,
   "id": "697ace2c",
   "metadata": {},
   "outputs": [],
   "source": []
  },
  {
   "cell_type": "code",
   "execution_count": null,
   "id": "7c7cb2a4",
   "metadata": {},
   "outputs": [],
   "source": []
  },
  {
   "cell_type": "code",
   "execution_count": 23,
   "id": "34409d02",
   "metadata": {},
   "outputs": [],
   "source": [
    "np.save('/home/dangnh36/datasets/competitions/leash_belka/processed/features/_train_ecfp6_2048_256_uint8_5M.npy', all_data)"
   ]
  },
  {
   "cell_type": "code",
   "execution_count": null,
   "id": "d6d7da85",
   "metadata": {},
   "outputs": [],
   "source": []
  },
  {
   "cell_type": "code",
   "execution_count": 36,
   "id": "ff6ab67a",
   "metadata": {},
   "outputs": [],
   "source": [
    "# df = pl.from_numpy(data, schema=[(feature_name, pl.UInt8) for feature_name in feature_names])\n",
    "# df\n",
    "\n",
    "# header = DELIMITER.join(features)\n",
    "header = ''\n",
    "np.savetxt('/home/dangnh36/datasets/competitions/leash_belka/processed/features/catboost/_val_ecfp6_2048_2048.tsv',\n",
    "           all_data,\n",
    "           fmt = '%d',\n",
    "           delimiter='\\t',\n",
    "           header = header)"
   ]
  },
  {
   "cell_type": "code",
   "execution_count": null,
   "id": "9ffc09ab",
   "metadata": {},
   "outputs": [],
   "source": []
  },
  {
   "cell_type": "code",
   "execution_count": 12,
   "id": "fea2ff84",
   "metadata": {},
   "outputs": [],
   "source": [
    "# header = ''\n",
    "# np.savetxt('/home/dangnh36/datasets/competitions/leash_belka/processed/features/catboost/train_ecfp6_2048_256_uint8_500k.tsv',\n",
    "#            all_data[:500000],\n",
    "#            fmt = '%d',\n",
    "#            delimiter='\\t',\n",
    "#            header = header)"
   ]
  },
  {
   "cell_type": "code",
   "execution_count": null,
   "id": "2aa48a56",
   "metadata": {},
   "outputs": [],
   "source": []
  },
  {
   "cell_type": "code",
   "execution_count": null,
   "id": "576f4bbe",
   "metadata": {},
   "outputs": [],
   "source": []
  },
  {
   "cell_type": "code",
   "execution_count": null,
   "id": "9824ab34",
   "metadata": {},
   "outputs": [],
   "source": []
  },
  {
   "cell_type": "code",
   "execution_count": null,
   "id": "3135dc93",
   "metadata": {},
   "outputs": [],
   "source": []
  },
  {
   "cell_type": "markdown",
   "id": "06ca4ab0",
   "metadata": {},
   "source": [
    "# Test"
   ]
  },
  {
   "cell_type": "code",
   "execution_count": 7,
   "id": "f4fcefb4",
   "metadata": {},
   "outputs": [],
   "source": [
    "catboost.utils.create_cd(\n",
    "      label=None,\n",
    "      cat_features=list(range(0, NUM_FEATURES)),\n",
    "      text_features=None,\n",
    "      embedding_features=None,\n",
    "      weight=None,\n",
    "      baseline=None,\n",
    "      doc_id=None,\n",
    "      group_id=None,\n",
    "      subgroup_id=None,\n",
    "      timestamp=None,\n",
    "      auxiliary_columns=None,\n",
    "      feature_names={i+0: FEATURE_NAMES[i] for i in range(NUM_FEATURES)},\n",
    "      output_path='/home/dangnh36/datasets/competitions/leash_belka/processed/datasets/catboost/ecfp6/test_ctr.cd'\n",
    ")"
   ]
  },
  {
   "cell_type": "code",
   "execution_count": 4,
   "id": "c6f7dceb",
   "metadata": {},
   "outputs": [
    {
     "name": "stdout",
     "output_type": "stream",
     "text": [
      "CPU times: user 0 ns, sys: 177 ms, total: 177 ms\n",
      "Wall time: 1.28 s\n"
     ]
    },
    {
     "data": {
      "text/plain": [
       "(878022, 256)"
      ]
     },
     "execution_count": 4,
     "metadata": {},
     "output_type": "execute_result"
    }
   ],
   "source": [
    "%%time\n",
    "data = np.load('/home/dangnh36/datasets/competitions/leash_belka/processed/features/ecfp6/test.npy')\n",
    "data.shape"
   ]
  },
  {
   "cell_type": "code",
   "execution_count": 5,
   "id": "7871461c",
   "metadata": {},
   "outputs": [
    {
     "data": {
      "text/plain": [
       "(878022, 2048)"
      ]
     },
     "execution_count": 5,
     "metadata": {},
     "output_type": "execute_result"
    }
   ],
   "source": [
    "data = np.unpackbits(data, axis = 1)\n",
    "data.shape"
   ]
  },
  {
   "cell_type": "code",
   "execution_count": 6,
   "id": "b16a0753",
   "metadata": {},
   "outputs": [],
   "source": [
    "header = ''\n",
    "np.savetxt('/home/dangnh36/datasets/competitions/leash_belka/processed/datasets/catboost/ecfp6/test.tsv',\n",
    "           data,\n",
    "           fmt = '%d',\n",
    "           delimiter='\\t',\n",
    "           header = header)"
   ]
  },
  {
   "cell_type": "code",
   "execution_count": null,
   "id": "848f7e82",
   "metadata": {},
   "outputs": [],
   "source": []
  },
  {
   "cell_type": "code",
   "execution_count": null,
   "id": "0987a75e",
   "metadata": {},
   "outputs": [],
   "source": []
  },
  {
   "cell_type": "code",
   "execution_count": null,
   "id": "c7438452",
   "metadata": {},
   "outputs": [],
   "source": []
  },
  {
   "cell_type": "code",
   "execution_count": 11,
   "id": "85e00bd9",
   "metadata": {},
   "outputs": [
    {
     "data": {
      "text/plain": [
       "(98415610, 256)"
      ]
     },
     "execution_count": 11,
     "metadata": {},
     "output_type": "execute_result"
    }
   ],
   "source": [
    "data.shape"
   ]
  },
  {
   "cell_type": "code",
   "execution_count": 4,
   "id": "38affaa6",
   "metadata": {},
   "outputs": [
    {
     "name": "stdout",
     "output_type": "stream",
     "text": [
      "(66710159, 3)\n"
     ]
    },
    {
     "data": {
      "text/html": [
       "<div><style>\n",
       ".dataframe > thead > tr,\n",
       ".dataframe > tbody > tr {\n",
       "  text-align: right;\n",
       "  white-space: pre-wrap;\n",
       "}\n",
       "</style>\n",
       "<small>shape: (5, 3)</small><table border=\"1\" class=\"dataframe\"><thead><tr><th>_index</th><th>index</th><th>label</th></tr><tr><td>u32</td><td>i64</td><td>i64</td></tr></thead><tbody><tr><td>0</td><td>363110</td><td>0</td></tr><tr><td>1</td><td>363118</td><td>0</td></tr><tr><td>2</td><td>363119</td><td>0</td></tr><tr><td>3</td><td>363122</td><td>0</td></tr><tr><td>4</td><td>363123</td><td>0</td></tr></tbody></table></div>"
      ],
      "text/plain": [
       "shape: (5, 3)\n",
       "┌────────┬────────┬───────┐\n",
       "│ _index ┆ index  ┆ label │\n",
       "│ ---    ┆ ---    ┆ ---   │\n",
       "│ u32    ┆ i64    ┆ i64   │\n",
       "╞════════╪════════╪═══════╡\n",
       "│ 0      ┆ 363110 ┆ 0     │\n",
       "│ 1      ┆ 363118 ┆ 0     │\n",
       "│ 2      ┆ 363119 ┆ 0     │\n",
       "│ 3      ┆ 363122 ┆ 0     │\n",
       "│ 4      ┆ 363123 ┆ 0     │\n",
       "└────────┴────────┴───────┘"
      ]
     },
     "execution_count": 4,
     "metadata": {},
     "output_type": "execute_result"
    }
   ],
   "source": [
    "cv_train_df = pl.scan_csv('/home/dangnh36/datasets/competitions/leash_belka/processed/cv/v1/train.csv').with_row_index('_index').collect()\n",
    "print(cv_train_df.shape)\n",
    "cv_train_df.head(5)"
   ]
  },
  {
   "cell_type": "code",
   "execution_count": 5,
   "id": "b86f7a4f",
   "metadata": {},
   "outputs": [],
   "source": [
    "sampled_idxs = cv_train_df['index'].to_numpy()"
   ]
  },
  {
   "cell_type": "code",
   "execution_count": 6,
   "id": "26b9a1da",
   "metadata": {},
   "outputs": [
    {
     "data": {
      "text/plain": [
       "(66710159,)"
      ]
     },
     "execution_count": 6,
     "metadata": {},
     "output_type": "execute_result"
    }
   ],
   "source": [
    "sampled_idxs.shape"
   ]
  },
  {
   "cell_type": "code",
   "execution_count": 13,
   "id": "caa4ccf7",
   "metadata": {},
   "outputs": [
    {
     "data": {
      "text/plain": [
       "(66710159, 256)"
      ]
     },
     "execution_count": 13,
     "metadata": {},
     "output_type": "execute_result"
    }
   ],
   "source": [
    "data = data[cv_train_df['index'].to_numpy()]\n",
    "data.shape"
   ]
  },
  {
   "cell_type": "code",
   "execution_count": null,
   "id": "a31a5c0b",
   "metadata": {},
   "outputs": [],
   "source": []
  },
  {
   "cell_type": "code",
   "execution_count": 15,
   "id": "7f645e17",
   "metadata": {},
   "outputs": [
    {
     "data": {
      "text/plain": [
       "(66710159, 259)"
      ]
     },
     "execution_count": 15,
     "metadata": {},
     "output_type": "execute_result"
    }
   ],
   "source": [
    "all_data.shape"
   ]
  },
  {
   "cell_type": "code",
   "execution_count": 16,
   "id": "e7b40fcb",
   "metadata": {},
   "outputs": [],
   "source": [
    "header = ''\n",
    "np.savetxt('/home/dangnh36/datasets/competitions/leash_belka/processed/datasets/catboost/ecfp6_packbits/_train_66M.tsv',\n",
    "           all_data,\n",
    "           fmt = '%d',\n",
    "           delimiter='\\t',\n",
    "           header = header)"
   ]
  },
  {
   "cell_type": "code",
   "execution_count": null,
   "id": "4c3f097d",
   "metadata": {},
   "outputs": [],
   "source": []
  },
  {
   "cell_type": "code",
   "execution_count": null,
   "id": "bb4f4687",
   "metadata": {},
   "outputs": [],
   "source": []
  },
  {
   "cell_type": "code",
   "execution_count": null,
   "id": "54beb61f",
   "metadata": {},
   "outputs": [],
   "source": []
  }
 ],
 "metadata": {
  "kernelspec": {
   "display_name": "Python 3 (ipykernel)",
   "language": "python",
   "name": "python3"
  },
  "language_info": {
   "codemirror_mode": {
    "name": "ipython",
    "version": 3
   },
   "file_extension": ".py",
   "mimetype": "text/x-python",
   "name": "python",
   "nbconvert_exporter": "python",
   "pygments_lexer": "ipython3",
   "version": "3.10.13"
  }
 },
 "nbformat": 4,
 "nbformat_minor": 5
}
