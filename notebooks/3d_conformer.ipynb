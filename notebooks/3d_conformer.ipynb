{
 "cells": [
  {
   "cell_type": "code",
   "execution_count": 3,
   "id": "5f076320",
   "metadata": {},
   "outputs": [],
   "source": [
    "import torch\n",
    "import numpy as np\n",
    "import os\n",
    "from torch import nn\n",
    "import sys\n",
    "import polars as pl\n",
    "import sklearn\n",
    "import shap\n",
    "from functools import partial\n",
    "import pandas as pd\n",
    "import random\n",
    "from matplotlib import pyplot as plt\n",
    "import time\n",
    "from rdkit.Chem import DataStructs\n",
    "from tqdm import tqdm\n",
    "from joblib import Parallel, delayed\n",
    "import math\n",
    "from skfp import fingerprints as skfps\n",
    "from rdkit import Chem\n",
    "from rdkit.Chem import AllChem\n",
    "\n",
    "sys.path.append('../')\n",
    "from src.utils.chem import normalize_smiles"
   ]
  },
  {
   "cell_type": "code",
   "execution_count": 4,
   "id": "ce04c053",
   "metadata": {},
   "outputs": [
    {
     "name": "stdout",
     "output_type": "stream",
     "text": [
      "7.411371916532516e-05 GB\n"
     ]
    },
    {
     "data": {
      "text/html": [
       "<div><style>\n",
       ".dataframe > thead > tr,\n",
       ".dataframe > tbody > tr {\n",
       "  text-align: right;\n",
       "  white-space: pre-wrap;\n",
       "}\n",
       "</style>\n",
       "<small>shape: (1_000, 7)</small><table border=\"1\" class=\"dataframe\"><thead><tr><th>molecule</th><th>bb1</th><th>bb2</th><th>bb3</th><th>BRD4</th><th>HSA</th><th>sEH</th></tr><tr><td>str</td><td>u16</td><td>u16</td><td>u16</td><td>u8</td><td>u8</td><td>u8</td></tr></thead><tbody><tr><td>&quot;C#CCOc1ccc(CNc…</td><td>1640</td><td>1653</td><td>765</td><td>0</td><td>0</td><td>0</td></tr><tr><td>&quot;C#CCOc1ccc(CNc…</td><td>1640</td><td>1653</td><td>205</td><td>0</td><td>0</td><td>0</td></tr><tr><td>&quot;C#CCOc1ccc(CNc…</td><td>1640</td><td>1653</td><td>1653</td><td>0</td><td>0</td><td>0</td></tr><tr><td>&quot;C#CCOc1ccc(CNc…</td><td>1640</td><td>1653</td><td>146</td><td>0</td><td>0</td><td>0</td></tr><tr><td>&quot;C#CCOc1ccc(CNc…</td><td>1640</td><td>1653</td><td>439</td><td>0</td><td>0</td><td>0</td></tr><tr><td>&hellip;</td><td>&hellip;</td><td>&hellip;</td><td>&hellip;</td><td>&hellip;</td><td>&hellip;</td><td>&hellip;</td></tr><tr><td>&quot;C#CCOc1cccc(CN…</td><td>1640</td><td>1596</td><td>585</td><td>0</td><td>0</td><td>0</td></tr><tr><td>&quot;C#CCOc1cccc(CN…</td><td>1640</td><td>1596</td><td>1813</td><td>0</td><td>0</td><td>0</td></tr><tr><td>&quot;C#CCOc1cccc(CN…</td><td>1640</td><td>1596</td><td>1979</td><td>0</td><td>0</td><td>0</td></tr><tr><td>&quot;C#CCOc1cccc(CN…</td><td>1640</td><td>1596</td><td>664</td><td>0</td><td>0</td><td>0</td></tr><tr><td>&quot;C#CCOc1cccc(CN…</td><td>1640</td><td>1596</td><td>534</td><td>0</td><td>0</td><td>0</td></tr></tbody></table></div>"
      ],
      "text/plain": [
       "shape: (1_000, 7)\n",
       "┌───────────────────────────────────┬──────┬──────┬──────┬──────┬─────┬─────┐\n",
       "│ molecule                          ┆ bb1  ┆ bb2  ┆ bb3  ┆ BRD4 ┆ HSA ┆ sEH │\n",
       "│ ---                               ┆ ---  ┆ ---  ┆ ---  ┆ ---  ┆ --- ┆ --- │\n",
       "│ str                               ┆ u16  ┆ u16  ┆ u16  ┆ u8   ┆ u8  ┆ u8  │\n",
       "╞═══════════════════════════════════╪══════╪══════╪══════╪══════╪═════╪═════╡\n",
       "│ C#CCOc1ccc(CNc2nc(NCC3CCCN3c3ccc… ┆ 1640 ┆ 1653 ┆ 765  ┆ 0    ┆ 0   ┆ 0   │\n",
       "│ C#CCOc1ccc(CNc2nc(NCc3cccc(Br)n3… ┆ 1640 ┆ 1653 ┆ 205  ┆ 0    ┆ 0   ┆ 0   │\n",
       "│ C#CCOc1ccc(CNc2nc(NCc3ccc(OCC#C)… ┆ 1640 ┆ 1653 ┆ 1653 ┆ 0    ┆ 0   ┆ 0   │\n",
       "│ C#CCOc1ccc(CNc2nc(NCCNC(=O)C(=C)… ┆ 1640 ┆ 1653 ┆ 146  ┆ 0    ┆ 0   ┆ 0   │\n",
       "│ C#CCOc1ccc(CNc2nc(NCC(=O)NCC=C)n… ┆ 1640 ┆ 1653 ┆ 439  ┆ 0    ┆ 0   ┆ 0   │\n",
       "│ …                                 ┆ …    ┆ …    ┆ …    ┆ …    ┆ …   ┆ …   │\n",
       "│ C#CCOc1cccc(CNc2nc(NCc3cnn(Cc4cc… ┆ 1640 ┆ 1596 ┆ 585  ┆ 0    ┆ 0   ┆ 0   │\n",
       "│ C#CCOc1cccc(CNc2nc(NCc3cnns3)nc(… ┆ 1640 ┆ 1596 ┆ 1813 ┆ 0    ┆ 0   ┆ 0   │\n",
       "│ C#CCOc1cccc(CNc2nc(NCc3nc(-c4ccs… ┆ 1640 ┆ 1596 ┆ 1979 ┆ 0    ┆ 0   ┆ 0   │\n",
       "│ C#CCOc1cccc(CNc2nc(NCc3nc4c(s3)C… ┆ 1640 ┆ 1596 ┆ 664  ┆ 0    ┆ 0   ┆ 0   │\n",
       "│ C#CCOc1cccc(CNc2nc(NCc3nc4c(s3)C… ┆ 1640 ┆ 1596 ┆ 534  ┆ 0    ┆ 0   ┆ 0   │\n",
       "└───────────────────────────────────┴──────┴──────┴──────┴──────┴─────┴─────┘"
      ]
     },
     "execution_count": 4,
     "metadata": {},
     "output_type": "execute_result"
    }
   ],
   "source": [
    "train_df = pl.scan_csv('/home/dangnh36/datasets/competitions/leash_belka/processed/train_v2.csv').head(1000).select(\n",
    "        pl.col('molecule'),\n",
    "        pl.col('bb1', 'bb2', 'bb3').cast(pl.UInt16),\n",
    "        pl.col('BRD4', 'HSA', 'sEH').cast(pl.UInt8),\n",
    "    ).collect()\n",
    "print(train_df.estimated_size('gb'), 'GB')\n",
    "train_df"
   ]
  },
  {
   "cell_type": "code",
   "execution_count": 5,
   "id": "bae5ae07",
   "metadata": {},
   "outputs": [],
   "source": [
    "def create_3d_conformer_rdkit(mol, n = 1):\n",
    "    new_mol = Chem.AddHs(mol)\n",
    "    res = AllChem.EmbedMultipleConfs(new_mol, numConfs=n)\n",
    "    ### MMFF generates multiple conformations\n",
    "    res = AllChem.MMFFOptimizeMoleculeConfs(new_mol)\n",
    "    new_mol = Chem.RemoveHs(new_mol)\n",
    "    index = np.argmin([x[1] for x in res])\n",
    "    energy = res[index][1]\n",
    "    conf = new_mol.GetConformer(id=int(index))\n",
    "    return conf"
   ]
  },
  {
   "cell_type": "code",
   "execution_count": 6,
   "id": "4c862d01",
   "metadata": {},
   "outputs": [
    {
     "data": {
      "text/plain": [
       "1000"
      ]
     },
     "execution_count": 6,
     "metadata": {},
     "output_type": "execute_result"
    }
   ],
   "source": [
    "mols = [normalize_smiles(smiles,\n",
    "                     canonical=True,\n",
    "                     do_random = False,\n",
    "                     isomeric=True,\n",
    "                     kekulize = False,\n",
    "                     replace_dy=True,\n",
    "                     return_mol=True) for smiles in train_df[:, 'molecule']]\n",
    "len(mols)"
   ]
  },
  {
   "cell_type": "code",
   "execution_count": 19,
   "id": "5e5873b6",
   "metadata": {},
   "outputs": [
    {
     "name": "stderr",
     "output_type": "stream",
     "text": [
      "  0%|                                         | 1/1000 [00:00<11:38,  1.43it/s]"
     ]
    },
    {
     "name": "stdout",
     "output_type": "stream",
     "text": [
      "(41, 3)\n"
     ]
    },
    {
     "name": "stderr",
     "output_type": "stream",
     "text": [
      "\r",
      "  0%|                                         | 2/1000 [00:00<07:32,  2.20it/s]"
     ]
    },
    {
     "name": "stdout",
     "output_type": "stream",
     "text": [
      "(37, 3)\n"
     ]
    },
    {
     "name": "stderr",
     "output_type": "stream",
     "text": [
      "\r",
      "  0%|                                         | 3/1000 [00:01<08:32,  1.95it/s]"
     ]
    },
    {
     "name": "stdout",
     "output_type": "stream",
     "text": [
      "(40, 3)\n"
     ]
    },
    {
     "name": "stderr",
     "output_type": "stream",
     "text": [
      "\r",
      "  0%|▏                                        | 4/1000 [00:02<10:48,  1.54it/s]"
     ]
    },
    {
     "name": "stdout",
     "output_type": "stream",
     "text": [
      "(37, 3)\n"
     ]
    },
    {
     "name": "stderr",
     "output_type": "stream",
     "text": [
      "\r",
      "  0%|▏                                        | 5/1000 [00:02<08:19,  1.99it/s]"
     ]
    },
    {
     "name": "stdout",
     "output_type": "stream",
     "text": [
      "(36, 3)\n"
     ]
    },
    {
     "name": "stderr",
     "output_type": "stream",
     "text": [
      "\r",
      "  1%|▏                                        | 6/1000 [00:03<09:22,  1.77it/s]"
     ]
    },
    {
     "name": "stdout",
     "output_type": "stream",
     "text": [
      "(36, 3)\n"
     ]
    },
    {
     "name": "stderr",
     "output_type": "stream",
     "text": [
      "\r",
      "  1%|▎                                        | 7/1000 [00:03<07:43,  2.14it/s]"
     ]
    },
    {
     "name": "stdout",
     "output_type": "stream",
     "text": [
      "(36, 3)\n"
     ]
    },
    {
     "name": "stderr",
     "output_type": "stream",
     "text": [
      "\r",
      "  1%|▎                                        | 8/1000 [00:04<07:22,  2.24it/s]"
     ]
    },
    {
     "name": "stdout",
     "output_type": "stream",
     "text": [
      "(35, 3)\n"
     ]
    },
    {
     "name": "stderr",
     "output_type": "stream",
     "text": [
      "\r",
      "  1%|▎                                        | 9/1000 [00:05<10:21,  1.59it/s]"
     ]
    },
    {
     "name": "stdout",
     "output_type": "stream",
     "text": [
      "(47, 3)\n"
     ]
    },
    {
     "name": "stderr",
     "output_type": "stream",
     "text": [
      "\r",
      "  1%|▍                                       | 10/1000 [00:05<10:27,  1.58it/s]"
     ]
    },
    {
     "name": "stdout",
     "output_type": "stream",
     "text": [
      "(46, 3)\n"
     ]
    },
    {
     "name": "stderr",
     "output_type": "stream",
     "text": [
      "\r",
      "  1%|▍                                       | 11/1000 [00:05<08:31,  1.93it/s]"
     ]
    },
    {
     "name": "stdout",
     "output_type": "stream",
     "text": [
      "(38, 3)\n"
     ]
    },
    {
     "name": "stderr",
     "output_type": "stream",
     "text": [
      "\r",
      "  1%|▍                                       | 12/1000 [00:06<07:29,  2.20it/s]"
     ]
    },
    {
     "name": "stdout",
     "output_type": "stream",
     "text": [
      "(40, 3)\n"
     ]
    },
    {
     "name": "stderr",
     "output_type": "stream",
     "text": [
      "\r",
      "  1%|▌                                       | 13/1000 [00:06<07:33,  2.17it/s]"
     ]
    },
    {
     "name": "stdout",
     "output_type": "stream",
     "text": [
      "(39, 3)\n"
     ]
    },
    {
     "name": "stderr",
     "output_type": "stream",
     "text": [
      "\r",
      "  1%|▌                                       | 14/1000 [00:07<07:16,  2.26it/s]"
     ]
    },
    {
     "name": "stdout",
     "output_type": "stream",
     "text": [
      "(46, 3)\n"
     ]
    },
    {
     "name": "stderr",
     "output_type": "stream",
     "text": [
      "\r",
      "  2%|▌                                       | 15/1000 [00:07<06:33,  2.50it/s]"
     ]
    },
    {
     "name": "stdout",
     "output_type": "stream",
     "text": [
      "(38, 3)\n"
     ]
    },
    {
     "name": "stderr",
     "output_type": "stream",
     "text": [
      "\r",
      "  2%|▋                                       | 16/1000 [00:07<06:20,  2.58it/s]"
     ]
    },
    {
     "name": "stdout",
     "output_type": "stream",
     "text": [
      "(38, 3)\n"
     ]
    },
    {
     "name": "stderr",
     "output_type": "stream",
     "text": [
      "\r",
      "  2%|▋                                       | 17/1000 [00:08<05:39,  2.89it/s]"
     ]
    },
    {
     "name": "stdout",
     "output_type": "stream",
     "text": [
      "(36, 3)\n"
     ]
    },
    {
     "name": "stderr",
     "output_type": "stream",
     "text": [
      "\r",
      "  2%|▋                                       | 18/1000 [00:08<07:01,  2.33it/s]"
     ]
    },
    {
     "name": "stdout",
     "output_type": "stream",
     "text": [
      "(38, 3)\n"
     ]
    },
    {
     "name": "stderr",
     "output_type": "stream",
     "text": [
      "\r",
      "  2%|▊                                       | 19/1000 [00:09<08:00,  2.04it/s]"
     ]
    },
    {
     "name": "stdout",
     "output_type": "stream",
     "text": [
      "(37, 3)\n"
     ]
    },
    {
     "name": "stderr",
     "output_type": "stream",
     "text": [
      "\r",
      "  2%|▊                                       | 20/1000 [00:09<07:00,  2.33it/s]"
     ]
    },
    {
     "name": "stdout",
     "output_type": "stream",
     "text": [
      "(40, 3)\n"
     ]
    },
    {
     "name": "stderr",
     "output_type": "stream",
     "text": [
      "\r",
      "  2%|▊                                       | 21/1000 [00:09<06:46,  2.41it/s]"
     ]
    },
    {
     "name": "stdout",
     "output_type": "stream",
     "text": [
      "(35, 3)\n"
     ]
    },
    {
     "name": "stderr",
     "output_type": "stream",
     "text": [
      "\r",
      "  2%|▉                                       | 22/1000 [00:10<08:44,  1.86it/s]"
     ]
    },
    {
     "name": "stdout",
     "output_type": "stream",
     "text": [
      "(39, 3)\n"
     ]
    },
    {
     "name": "stderr",
     "output_type": "stream",
     "text": [
      "\r",
      "  2%|▉                                       | 23/1000 [00:11<08:29,  1.92it/s]"
     ]
    },
    {
     "name": "stdout",
     "output_type": "stream",
     "text": [
      "(40, 3)\n"
     ]
    },
    {
     "name": "stderr",
     "output_type": "stream",
     "text": [
      "\r",
      "  2%|▉                                       | 24/1000 [00:11<08:17,  1.96it/s]"
     ]
    },
    {
     "name": "stdout",
     "output_type": "stream",
     "text": [
      "(37, 3)\n"
     ]
    },
    {
     "name": "stderr",
     "output_type": "stream",
     "text": [
      "\r",
      "  2%|█                                       | 25/1000 [00:12<07:11,  2.26it/s]"
     ]
    },
    {
     "name": "stdout",
     "output_type": "stream",
     "text": [
      "(38, 3)\n"
     ]
    },
    {
     "name": "stderr",
     "output_type": "stream",
     "text": [
      "\r",
      "  3%|█                                       | 26/1000 [00:12<08:35,  1.89it/s]"
     ]
    },
    {
     "name": "stdout",
     "output_type": "stream",
     "text": [
      "(34, 3)\n"
     ]
    },
    {
     "name": "stderr",
     "output_type": "stream",
     "text": [
      "\r",
      "  3%|█                                       | 27/1000 [00:13<07:40,  2.12it/s]"
     ]
    },
    {
     "name": "stdout",
     "output_type": "stream",
     "text": [
      "(39, 3)\n"
     ]
    },
    {
     "name": "stderr",
     "output_type": "stream",
     "text": [
      "\r",
      "  3%|█                                       | 28/1000 [00:13<08:45,  1.85it/s]"
     ]
    },
    {
     "name": "stdout",
     "output_type": "stream",
     "text": [
      "(41, 3)\n"
     ]
    },
    {
     "name": "stderr",
     "output_type": "stream",
     "text": [
      "\r",
      "  3%|█▏                                      | 29/1000 [00:14<07:15,  2.23it/s]"
     ]
    },
    {
     "name": "stdout",
     "output_type": "stream",
     "text": [
      "(44, 3)\n"
     ]
    },
    {
     "name": "stderr",
     "output_type": "stream",
     "text": [
      "\r",
      "  3%|█▏                                      | 30/1000 [00:15<10:16,  1.57it/s]"
     ]
    },
    {
     "name": "stdout",
     "output_type": "stream",
     "text": [
      "(41, 3)\n"
     ]
    },
    {
     "name": "stderr",
     "output_type": "stream",
     "text": [
      "\r",
      "  3%|█▏                                      | 31/1000 [00:15<09:31,  1.70it/s]"
     ]
    },
    {
     "name": "stdout",
     "output_type": "stream",
     "text": [
      "(38, 3)\n"
     ]
    },
    {
     "name": "stderr",
     "output_type": "stream",
     "text": [
      "\r",
      "  3%|█▎                                      | 32/1000 [00:15<08:07,  1.99it/s]"
     ]
    },
    {
     "name": "stdout",
     "output_type": "stream",
     "text": [
      "(37, 3)\n"
     ]
    },
    {
     "name": "stderr",
     "output_type": "stream",
     "text": [
      "\r",
      "  3%|█▎                                      | 33/1000 [00:16<07:12,  2.24it/s]"
     ]
    },
    {
     "name": "stdout",
     "output_type": "stream",
     "text": [
      "(40, 3)\n"
     ]
    },
    {
     "name": "stderr",
     "output_type": "stream",
     "text": [
      "\r",
      "  3%|█▎                                      | 34/1000 [00:16<06:28,  2.49it/s]"
     ]
    },
    {
     "name": "stdout",
     "output_type": "stream",
     "text": [
      "(40, 3)\n"
     ]
    },
    {
     "name": "stderr",
     "output_type": "stream",
     "text": [
      "\r",
      "  4%|█▍                                      | 35/1000 [00:16<06:38,  2.42it/s]"
     ]
    },
    {
     "name": "stdout",
     "output_type": "stream",
     "text": [
      "(36, 3)\n"
     ]
    },
    {
     "name": "stderr",
     "output_type": "stream",
     "text": [
      "\r",
      "  4%|█▍                                      | 36/1000 [00:17<08:06,  1.98it/s]"
     ]
    },
    {
     "name": "stdout",
     "output_type": "stream",
     "text": [
      "(47, 3)\n"
     ]
    },
    {
     "name": "stderr",
     "output_type": "stream",
     "text": [
      "\r",
      "  4%|█▍                                      | 37/1000 [00:18<09:03,  1.77it/s]"
     ]
    },
    {
     "name": "stdout",
     "output_type": "stream",
     "text": [
      "(39, 3)\n"
     ]
    },
    {
     "name": "stderr",
     "output_type": "stream",
     "text": [
      "\r",
      "  4%|█▌                                      | 38/1000 [00:18<07:43,  2.08it/s]"
     ]
    },
    {
     "name": "stdout",
     "output_type": "stream",
     "text": [
      "(40, 3)\n"
     ]
    },
    {
     "name": "stderr",
     "output_type": "stream",
     "text": [
      "\r",
      "  4%|█▌                                      | 39/1000 [00:19<09:21,  1.71it/s]"
     ]
    },
    {
     "name": "stdout",
     "output_type": "stream",
     "text": [
      "(39, 3)\n"
     ]
    },
    {
     "name": "stderr",
     "output_type": "stream",
     "text": [
      "\r",
      "  4%|█▌                                      | 40/1000 [00:19<07:53,  2.03it/s]"
     ]
    },
    {
     "name": "stdout",
     "output_type": "stream",
     "text": [
      "(39, 3)\n"
     ]
    },
    {
     "name": "stderr",
     "output_type": "stream",
     "text": [
      "\r",
      "  4%|█▋                                      | 41/1000 [00:20<06:55,  2.31it/s]"
     ]
    },
    {
     "name": "stdout",
     "output_type": "stream",
     "text": [
      "(40, 3)\n"
     ]
    },
    {
     "name": "stderr",
     "output_type": "stream",
     "text": [
      "\r",
      "  4%|█▋                                      | 42/1000 [00:20<06:07,  2.61it/s]"
     ]
    },
    {
     "name": "stdout",
     "output_type": "stream",
     "text": [
      "(39, 3)\n"
     ]
    },
    {
     "name": "stderr",
     "output_type": "stream",
     "text": [
      "\r",
      "  4%|█▋                                      | 43/1000 [00:20<06:18,  2.53it/s]"
     ]
    },
    {
     "name": "stdout",
     "output_type": "stream",
     "text": [
      "(40, 3)\n"
     ]
    },
    {
     "name": "stderr",
     "output_type": "stream",
     "text": [
      "\r",
      "  4%|█▊                                      | 44/1000 [00:21<06:21,  2.51it/s]"
     ]
    },
    {
     "name": "stdout",
     "output_type": "stream",
     "text": [
      "(39, 3)\n"
     ]
    },
    {
     "name": "stderr",
     "output_type": "stream",
     "text": [
      "\r",
      "  4%|█▊                                      | 45/1000 [00:21<05:38,  2.82it/s]"
     ]
    },
    {
     "name": "stdout",
     "output_type": "stream",
     "text": [
      "(39, 3)\n"
     ]
    },
    {
     "name": "stderr",
     "output_type": "stream",
     "text": [
      "\r",
      "  5%|█▊                                      | 46/1000 [00:21<05:07,  3.10it/s]"
     ]
    },
    {
     "name": "stdout",
     "output_type": "stream",
     "text": [
      "(39, 3)\n"
     ]
    },
    {
     "name": "stderr",
     "output_type": "stream",
     "text": [
      "\r",
      "  5%|█▉                                      | 47/1000 [00:21<05:01,  3.16it/s]"
     ]
    },
    {
     "name": "stdout",
     "output_type": "stream",
     "text": [
      "(40, 3)\n"
     ]
    },
    {
     "name": "stderr",
     "output_type": "stream",
     "text": [
      "\r",
      "  5%|█▉                                      | 48/1000 [00:22<06:06,  2.60it/s]"
     ]
    },
    {
     "name": "stdout",
     "output_type": "stream",
     "text": [
      "(43, 3)\n"
     ]
    },
    {
     "name": "stderr",
     "output_type": "stream",
     "text": [
      "\r",
      "  5%|█▉                                      | 49/1000 [00:22<05:31,  2.87it/s]"
     ]
    },
    {
     "name": "stdout",
     "output_type": "stream",
     "text": [
      "(38, 3)\n"
     ]
    },
    {
     "name": "stderr",
     "output_type": "stream",
     "text": [
      "\r",
      "  5%|██                                      | 50/1000 [00:23<05:37,  2.81it/s]"
     ]
    },
    {
     "name": "stdout",
     "output_type": "stream",
     "text": [
      "(35, 3)\n"
     ]
    },
    {
     "name": "stderr",
     "output_type": "stream",
     "text": [
      "\r",
      "  5%|██                                      | 51/1000 [00:23<07:00,  2.26it/s]"
     ]
    },
    {
     "name": "stdout",
     "output_type": "stream",
     "text": [
      "(39, 3)\n"
     ]
    },
    {
     "name": "stderr",
     "output_type": "stream",
     "text": [
      "\r",
      "  5%|██                                      | 52/1000 [00:24<05:59,  2.63it/s]"
     ]
    },
    {
     "name": "stdout",
     "output_type": "stream",
     "text": [
      "(36, 3)\n"
     ]
    },
    {
     "name": "stderr",
     "output_type": "stream",
     "text": [
      "\r",
      "  5%|██                                      | 53/1000 [00:24<05:23,  2.92it/s]"
     ]
    },
    {
     "name": "stdout",
     "output_type": "stream",
     "text": [
      "(37, 3)\n"
     ]
    },
    {
     "name": "stderr",
     "output_type": "stream",
     "text": [
      "\r",
      "  5%|██▏                                     | 54/1000 [00:24<05:06,  3.09it/s]"
     ]
    },
    {
     "name": "stdout",
     "output_type": "stream",
     "text": [
      "(40, 3)\n"
     ]
    },
    {
     "name": "stderr",
     "output_type": "stream",
     "text": [
      "\r",
      "  6%|██▏                                     | 55/1000 [00:25<06:46,  2.33it/s]"
     ]
    },
    {
     "name": "stdout",
     "output_type": "stream",
     "text": [
      "(37, 3)\n"
     ]
    },
    {
     "name": "stderr",
     "output_type": "stream",
     "text": [
      "\r",
      "  6%|██▏                                     | 56/1000 [00:25<06:19,  2.49it/s]"
     ]
    },
    {
     "name": "stdout",
     "output_type": "stream",
     "text": [
      "(40, 3)\n"
     ]
    },
    {
     "name": "stderr",
     "output_type": "stream",
     "text": [
      "\r",
      "  6%|██▎                                     | 57/1000 [00:25<05:55,  2.65it/s]"
     ]
    },
    {
     "name": "stdout",
     "output_type": "stream",
     "text": [
      "(39, 3)\n"
     ]
    },
    {
     "name": "stderr",
     "output_type": "stream",
     "text": [
      "\r",
      "  6%|██▎                                     | 58/1000 [00:26<06:19,  2.48it/s]"
     ]
    },
    {
     "name": "stdout",
     "output_type": "stream",
     "text": [
      "(38, 3)\n"
     ]
    },
    {
     "name": "stderr",
     "output_type": "stream",
     "text": [
      "\r",
      "  6%|██▎                                     | 59/1000 [00:26<05:49,  2.70it/s]"
     ]
    },
    {
     "name": "stdout",
     "output_type": "stream",
     "text": [
      "(39, 3)\n"
     ]
    },
    {
     "name": "stderr",
     "output_type": "stream",
     "text": [
      "\r",
      "  6%|██▍                                     | 60/1000 [00:27<05:53,  2.66it/s]"
     ]
    },
    {
     "name": "stdout",
     "output_type": "stream",
     "text": [
      "(39, 3)\n"
     ]
    },
    {
     "name": "stderr",
     "output_type": "stream",
     "text": [
      "\r",
      "  6%|██▍                                     | 61/1000 [00:27<07:20,  2.13it/s]"
     ]
    },
    {
     "name": "stdout",
     "output_type": "stream",
     "text": [
      "(39, 3)\n"
     ]
    },
    {
     "name": "stderr",
     "output_type": "stream",
     "text": [
      "\r",
      "  6%|██▍                                     | 62/1000 [00:28<08:01,  1.95it/s]"
     ]
    },
    {
     "name": "stdout",
     "output_type": "stream",
     "text": [
      "(45, 3)\n"
     ]
    },
    {
     "name": "stderr",
     "output_type": "stream",
     "text": [
      "\r",
      "  6%|██▌                                     | 63/1000 [00:28<06:59,  2.23it/s]"
     ]
    },
    {
     "name": "stdout",
     "output_type": "stream",
     "text": [
      "(38, 3)\n"
     ]
    },
    {
     "name": "stderr",
     "output_type": "stream",
     "text": [
      "\r",
      "  6%|██▌                                     | 64/1000 [00:28<06:05,  2.56it/s]"
     ]
    },
    {
     "name": "stdout",
     "output_type": "stream",
     "text": [
      "(37, 3)\n"
     ]
    },
    {
     "name": "stderr",
     "output_type": "stream",
     "text": [
      "\r",
      "  6%|██▌                                     | 65/1000 [00:29<06:43,  2.32it/s]"
     ]
    },
    {
     "name": "stdout",
     "output_type": "stream",
     "text": [
      "(40, 3)\n"
     ]
    },
    {
     "name": "stderr",
     "output_type": "stream",
     "text": [
      "\r",
      "  7%|██▋                                     | 66/1000 [00:30<07:44,  2.01it/s]"
     ]
    },
    {
     "name": "stdout",
     "output_type": "stream",
     "text": [
      "(43, 3)\n"
     ]
    },
    {
     "name": "stderr",
     "output_type": "stream",
     "text": [
      "\r",
      "  7%|██▋                                     | 67/1000 [00:30<07:11,  2.16it/s]"
     ]
    },
    {
     "name": "stdout",
     "output_type": "stream",
     "text": [
      "(43, 3)\n"
     ]
    },
    {
     "name": "stderr",
     "output_type": "stream",
     "text": [
      "\r",
      "  7%|██▋                                     | 68/1000 [00:31<07:41,  2.02it/s]"
     ]
    },
    {
     "name": "stdout",
     "output_type": "stream",
     "text": [
      "(43, 3)\n"
     ]
    },
    {
     "name": "stderr",
     "output_type": "stream",
     "text": [
      "\r",
      "  7%|██▊                                     | 69/1000 [00:31<06:38,  2.34it/s]"
     ]
    },
    {
     "name": "stdout",
     "output_type": "stream",
     "text": [
      "(40, 3)\n"
     ]
    },
    {
     "name": "stderr",
     "output_type": "stream",
     "text": [
      "\r",
      "  7%|██▊                                     | 70/1000 [00:32<10:19,  1.50it/s]"
     ]
    },
    {
     "name": "stdout",
     "output_type": "stream",
     "text": [
      "(42, 3)\n"
     ]
    },
    {
     "name": "stderr",
     "output_type": "stream",
     "text": [
      "\r",
      "  7%|██▊                                     | 71/1000 [00:32<08:19,  1.86it/s]"
     ]
    },
    {
     "name": "stdout",
     "output_type": "stream",
     "text": [
      "(38, 3)\n"
     ]
    },
    {
     "name": "stderr",
     "output_type": "stream",
     "text": [
      "\r",
      "  7%|██▉                                     | 72/1000 [00:33<07:43,  2.00it/s]"
     ]
    },
    {
     "name": "stdout",
     "output_type": "stream",
     "text": [
      "(40, 3)\n"
     ]
    },
    {
     "name": "stderr",
     "output_type": "stream",
     "text": [
      "\r",
      "  7%|██▉                                     | 73/1000 [00:33<07:17,  2.12it/s]"
     ]
    },
    {
     "name": "stdout",
     "output_type": "stream",
     "text": [
      "(41, 3)\n"
     ]
    },
    {
     "name": "stderr",
     "output_type": "stream",
     "text": [
      "\r",
      "  7%|██▉                                     | 74/1000 [00:33<06:20,  2.43it/s]"
     ]
    },
    {
     "name": "stdout",
     "output_type": "stream",
     "text": [
      "(40, 3)\n"
     ]
    },
    {
     "name": "stderr",
     "output_type": "stream",
     "text": [
      "\r",
      "  8%|███                                     | 75/1000 [00:34<05:35,  2.76it/s]"
     ]
    },
    {
     "name": "stdout",
     "output_type": "stream",
     "text": [
      "(40, 3)\n"
     ]
    },
    {
     "name": "stderr",
     "output_type": "stream",
     "text": [
      "\r",
      "  8%|███                                     | 76/1000 [00:34<05:00,  3.07it/s]"
     ]
    },
    {
     "name": "stdout",
     "output_type": "stream",
     "text": [
      "(38, 3)\n"
     ]
    },
    {
     "name": "stderr",
     "output_type": "stream",
     "text": [
      "\r",
      "  8%|███                                     | 77/1000 [00:35<06:51,  2.24it/s]"
     ]
    },
    {
     "name": "stdout",
     "output_type": "stream",
     "text": [
      "(43, 3)\n"
     ]
    },
    {
     "name": "stderr",
     "output_type": "stream",
     "text": [
      "\r",
      "  8%|███                                     | 78/1000 [00:35<06:06,  2.52it/s]"
     ]
    },
    {
     "name": "stdout",
     "output_type": "stream",
     "text": [
      "(40, 3)\n"
     ]
    },
    {
     "name": "stderr",
     "output_type": "stream",
     "text": [
      "\r",
      "  8%|███▏                                    | 79/1000 [00:36<07:29,  2.05it/s]"
     ]
    },
    {
     "name": "stdout",
     "output_type": "stream",
     "text": [
      "(40, 3)\n"
     ]
    },
    {
     "name": "stderr",
     "output_type": "stream",
     "text": [
      "\r",
      "  8%|███▏                                    | 80/1000 [00:36<06:33,  2.34it/s]"
     ]
    },
    {
     "name": "stdout",
     "output_type": "stream",
     "text": [
      "(42, 3)\n"
     ]
    },
    {
     "name": "stderr",
     "output_type": "stream",
     "text": [
      "\r",
      "  8%|███▏                                    | 81/1000 [00:36<06:26,  2.38it/s]"
     ]
    },
    {
     "name": "stdout",
     "output_type": "stream",
     "text": [
      "(39, 3)\n"
     ]
    },
    {
     "name": "stderr",
     "output_type": "stream",
     "text": [
      "\r",
      "  8%|███▎                                    | 82/1000 [00:36<05:35,  2.74it/s]"
     ]
    },
    {
     "name": "stdout",
     "output_type": "stream",
     "text": [
      "(38, 3)\n"
     ]
    },
    {
     "name": "stderr",
     "output_type": "stream",
     "text": [
      "\r",
      "  8%|███▎                                    | 83/1000 [00:37<05:03,  3.02it/s]"
     ]
    },
    {
     "name": "stdout",
     "output_type": "stream",
     "text": [
      "(39, 3)\n"
     ]
    },
    {
     "name": "stderr",
     "output_type": "stream",
     "text": [
      "\r",
      "  8%|███▎                                    | 84/1000 [00:37<05:53,  2.59it/s]"
     ]
    },
    {
     "name": "stdout",
     "output_type": "stream",
     "text": [
      "(39, 3)\n"
     ]
    },
    {
     "name": "stderr",
     "output_type": "stream",
     "text": [
      "\r",
      "  8%|███▍                                    | 85/1000 [00:38<05:26,  2.80it/s]"
     ]
    },
    {
     "name": "stdout",
     "output_type": "stream",
     "text": [
      "(39, 3)\n"
     ]
    },
    {
     "name": "stderr",
     "output_type": "stream",
     "text": [
      "\r",
      "  9%|███▍                                    | 86/1000 [00:38<05:11,  2.94it/s]"
     ]
    },
    {
     "name": "stdout",
     "output_type": "stream",
     "text": [
      "(39, 3)\n"
     ]
    },
    {
     "name": "stderr",
     "output_type": "stream",
     "text": [
      "\r",
      "  9%|███▍                                    | 87/1000 [00:38<05:25,  2.80it/s]"
     ]
    },
    {
     "name": "stdout",
     "output_type": "stream",
     "text": [
      "(38, 3)\n"
     ]
    },
    {
     "name": "stderr",
     "output_type": "stream",
     "text": [
      "\r",
      "  9%|███▌                                    | 88/1000 [00:39<07:14,  2.10it/s]"
     ]
    },
    {
     "name": "stdout",
     "output_type": "stream",
     "text": [
      "(45, 3)\n"
     ]
    },
    {
     "name": "stderr",
     "output_type": "stream",
     "text": [
      "\r",
      "  9%|███▌                                    | 89/1000 [00:40<07:48,  1.94it/s]"
     ]
    },
    {
     "name": "stdout",
     "output_type": "stream",
     "text": [
      "(39, 3)\n"
     ]
    },
    {
     "name": "stderr",
     "output_type": "stream",
     "text": [
      "\r",
      "  9%|███▌                                    | 90/1000 [00:40<07:21,  2.06it/s]"
     ]
    },
    {
     "name": "stdout",
     "output_type": "stream",
     "text": [
      "(39, 3)\n"
     ]
    },
    {
     "name": "stderr",
     "output_type": "stream",
     "text": [
      "\r",
      "  9%|███▋                                    | 91/1000 [00:40<06:14,  2.43it/s]"
     ]
    },
    {
     "name": "stdout",
     "output_type": "stream",
     "text": [
      "(38, 3)\n"
     ]
    },
    {
     "name": "stderr",
     "output_type": "stream",
     "text": [
      "\r",
      "  9%|███▋                                    | 92/1000 [00:41<05:56,  2.55it/s]"
     ]
    },
    {
     "name": "stdout",
     "output_type": "stream",
     "text": [
      "(39, 3)\n"
     ]
    },
    {
     "name": "stderr",
     "output_type": "stream",
     "text": [
      "\r",
      "  9%|███▋                                    | 93/1000 [00:41<05:45,  2.62it/s]"
     ]
    },
    {
     "name": "stdout",
     "output_type": "stream",
     "text": [
      "(39, 3)\n"
     ]
    },
    {
     "name": "stderr",
     "output_type": "stream",
     "text": [
      "\r",
      "  9%|███▊                                    | 94/1000 [00:41<05:12,  2.90it/s]"
     ]
    },
    {
     "name": "stdout",
     "output_type": "stream",
     "text": [
      "(36, 3)\n"
     ]
    },
    {
     "name": "stderr",
     "output_type": "stream",
     "text": [
      "\r",
      " 10%|███▊                                    | 95/1000 [00:42<07:27,  2.02it/s]"
     ]
    },
    {
     "name": "stdout",
     "output_type": "stream",
     "text": [
      "(36, 3)\n"
     ]
    },
    {
     "name": "stderr",
     "output_type": "stream",
     "text": [
      "\r",
      " 10%|███▊                                    | 96/1000 [00:43<08:25,  1.79it/s]"
     ]
    },
    {
     "name": "stdout",
     "output_type": "stream",
     "text": [
      "(42, 3)\n"
     ]
    },
    {
     "name": "stderr",
     "output_type": "stream",
     "text": [
      "\r",
      " 10%|███▉                                    | 97/1000 [00:43<07:14,  2.08it/s]"
     ]
    },
    {
     "name": "stdout",
     "output_type": "stream",
     "text": [
      "(38, 3)\n"
     ]
    },
    {
     "name": "stderr",
     "output_type": "stream",
     "text": [
      "\r",
      " 10%|███▉                                    | 98/1000 [00:43<06:54,  2.18it/s]"
     ]
    },
    {
     "name": "stdout",
     "output_type": "stream",
     "text": [
      "(38, 3)\n"
     ]
    },
    {
     "name": "stderr",
     "output_type": "stream",
     "text": [
      "\r",
      " 10%|███▉                                    | 99/1000 [00:44<05:53,  2.55it/s]"
     ]
    },
    {
     "name": "stdout",
     "output_type": "stream",
     "text": [
      "(37, 3)\n"
     ]
    },
    {
     "name": "stderr",
     "output_type": "stream",
     "text": [
      "\r",
      " 10%|███▉                                   | 100/1000 [00:44<05:18,  2.83it/s]"
     ]
    },
    {
     "name": "stdout",
     "output_type": "stream",
     "text": [
      "(39, 3)\n"
     ]
    },
    {
     "name": "stderr",
     "output_type": "stream",
     "text": [
      "\r",
      " 10%|███▉                                   | 101/1000 [00:44<05:54,  2.54it/s]"
     ]
    },
    {
     "name": "stdout",
     "output_type": "stream",
     "text": [
      "(44, 3)\n"
     ]
    },
    {
     "name": "stderr",
     "output_type": "stream",
     "text": [
      "\r",
      " 10%|███▉                                   | 102/1000 [00:45<06:10,  2.42it/s]"
     ]
    },
    {
     "name": "stdout",
     "output_type": "stream",
     "text": [
      "(47, 3)\n"
     ]
    },
    {
     "name": "stderr",
     "output_type": "stream",
     "text": [
      "\r",
      " 10%|████                                   | 103/1000 [00:45<06:32,  2.29it/s]"
     ]
    },
    {
     "name": "stdout",
     "output_type": "stream",
     "text": [
      "(39, 3)\n"
     ]
    },
    {
     "name": "stderr",
     "output_type": "stream",
     "text": [
      "\r",
      " 10%|████                                   | 104/1000 [00:46<06:31,  2.29it/s]"
     ]
    },
    {
     "name": "stdout",
     "output_type": "stream",
     "text": [
      "(45, 3)\n"
     ]
    },
    {
     "name": "stderr",
     "output_type": "stream",
     "text": [
      "\r",
      " 10%|████                                   | 105/1000 [00:46<06:13,  2.39it/s]"
     ]
    },
    {
     "name": "stdout",
     "output_type": "stream",
     "text": [
      "(38, 3)\n"
     ]
    },
    {
     "name": "stderr",
     "output_type": "stream",
     "text": [
      "\r",
      " 11%|████▏                                  | 106/1000 [00:47<06:01,  2.47it/s]"
     ]
    },
    {
     "name": "stdout",
     "output_type": "stream",
     "text": [
      "(37, 3)\n"
     ]
    },
    {
     "name": "stderr",
     "output_type": "stream",
     "text": [
      "\r",
      " 11%|████▏                                  | 107/1000 [00:47<06:06,  2.44it/s]"
     ]
    },
    {
     "name": "stdout",
     "output_type": "stream",
     "text": [
      "(39, 3)\n"
     ]
    },
    {
     "name": "stderr",
     "output_type": "stream",
     "text": [
      "\r",
      " 11%|████▏                                  | 108/1000 [00:47<05:22,  2.76it/s]"
     ]
    },
    {
     "name": "stdout",
     "output_type": "stream",
     "text": [
      "(40, 3)\n"
     ]
    },
    {
     "name": "stderr",
     "output_type": "stream",
     "text": [
      "\r",
      " 11%|████▎                                  | 109/1000 [00:48<05:38,  2.63it/s]"
     ]
    },
    {
     "name": "stdout",
     "output_type": "stream",
     "text": [
      "(40, 3)\n"
     ]
    },
    {
     "name": "stderr",
     "output_type": "stream",
     "text": [
      "\r",
      " 11%|████▎                                  | 110/1000 [00:48<05:50,  2.54it/s]"
     ]
    },
    {
     "name": "stdout",
     "output_type": "stream",
     "text": [
      "(41, 3)\n"
     ]
    },
    {
     "name": "stderr",
     "output_type": "stream",
     "text": [
      "\r",
      " 11%|████▎                                  | 111/1000 [00:48<05:08,  2.88it/s]"
     ]
    },
    {
     "name": "stdout",
     "output_type": "stream",
     "text": [
      "(37, 3)\n"
     ]
    },
    {
     "name": "stderr",
     "output_type": "stream",
     "text": [
      "\r",
      " 11%|████▎                                  | 112/1000 [00:49<06:17,  2.35it/s]"
     ]
    },
    {
     "name": "stdout",
     "output_type": "stream",
     "text": [
      "(42, 3)\n"
     ]
    },
    {
     "name": "stderr",
     "output_type": "stream",
     "text": [
      "\r",
      " 11%|████▍                                  | 113/1000 [00:49<05:26,  2.72it/s]"
     ]
    },
    {
     "name": "stdout",
     "output_type": "stream",
     "text": [
      "(37, 3)\n"
     ]
    },
    {
     "name": "stderr",
     "output_type": "stream",
     "text": [
      "\r",
      " 11%|████▍                                  | 114/1000 [00:50<05:41,  2.59it/s]"
     ]
    },
    {
     "name": "stdout",
     "output_type": "stream",
     "text": [
      "(37, 3)\n"
     ]
    },
    {
     "name": "stderr",
     "output_type": "stream",
     "text": [
      "\r",
      " 12%|████▍                                  | 115/1000 [00:50<04:59,  2.95it/s]"
     ]
    },
    {
     "name": "stdout",
     "output_type": "stream",
     "text": [
      "(38, 3)\n"
     ]
    },
    {
     "name": "stderr",
     "output_type": "stream",
     "text": [
      "\r",
      " 12%|████▌                                  | 116/1000 [00:50<04:32,  3.25it/s]"
     ]
    },
    {
     "name": "stdout",
     "output_type": "stream",
     "text": [
      "(37, 3)\n"
     ]
    },
    {
     "name": "stderr",
     "output_type": "stream",
     "text": [
      "\r",
      " 12%|████▌                                  | 117/1000 [00:50<04:35,  3.20it/s]"
     ]
    },
    {
     "name": "stdout",
     "output_type": "stream",
     "text": [
      "(37, 3)\n"
     ]
    },
    {
     "name": "stderr",
     "output_type": "stream",
     "text": [
      "\r",
      " 12%|████▌                                  | 118/1000 [00:51<04:18,  3.41it/s]"
     ]
    },
    {
     "name": "stdout",
     "output_type": "stream",
     "text": [
      "(39, 3)\n"
     ]
    },
    {
     "name": "stderr",
     "output_type": "stream",
     "text": [
      "\r",
      " 12%|████▋                                  | 119/1000 [00:51<04:02,  3.63it/s]"
     ]
    },
    {
     "name": "stdout",
     "output_type": "stream",
     "text": [
      "(38, 3)\n"
     ]
    },
    {
     "name": "stderr",
     "output_type": "stream",
     "text": [
      "\r",
      " 12%|████▋                                  | 120/1000 [00:51<04:38,  3.16it/s]"
     ]
    },
    {
     "name": "stdout",
     "output_type": "stream",
     "text": [
      "(41, 3)\n"
     ]
    },
    {
     "name": "stderr",
     "output_type": "stream",
     "text": [
      "\r",
      " 12%|████▋                                  | 121/1000 [00:52<04:46,  3.07it/s]"
     ]
    },
    {
     "name": "stdout",
     "output_type": "stream",
     "text": [
      "(41, 3)\n"
     ]
    },
    {
     "name": "stderr",
     "output_type": "stream",
     "text": [
      "\r",
      " 12%|████▊                                  | 122/1000 [00:52<04:50,  3.02it/s]"
     ]
    },
    {
     "name": "stdout",
     "output_type": "stream",
     "text": [
      "(45, 3)\n"
     ]
    },
    {
     "name": "stderr",
     "output_type": "stream",
     "text": [
      "\r",
      " 12%|████▊                                  | 123/1000 [00:52<04:36,  3.18it/s]"
     ]
    },
    {
     "name": "stdout",
     "output_type": "stream",
     "text": [
      "(40, 3)\n"
     ]
    },
    {
     "name": "stderr",
     "output_type": "stream",
     "text": [
      "\r",
      " 12%|████▊                                  | 124/1000 [00:53<04:19,  3.38it/s]"
     ]
    },
    {
     "name": "stdout",
     "output_type": "stream",
     "text": [
      "(39, 3)\n"
     ]
    },
    {
     "name": "stderr",
     "output_type": "stream",
     "text": [
      "\r",
      " 12%|████▉                                  | 125/1000 [00:53<04:07,  3.54it/s]"
     ]
    },
    {
     "name": "stdout",
     "output_type": "stream",
     "text": [
      "(39, 3)\n"
     ]
    },
    {
     "name": "stderr",
     "output_type": "stream",
     "text": [
      "\r",
      " 13%|████▉                                  | 126/1000 [00:53<04:23,  3.32it/s]"
     ]
    },
    {
     "name": "stdout",
     "output_type": "stream",
     "text": [
      "(37, 3)\n"
     ]
    },
    {
     "name": "stderr",
     "output_type": "stream",
     "text": [
      "\r",
      " 13%|████▉                                  | 127/1000 [00:53<04:09,  3.50it/s]"
     ]
    },
    {
     "name": "stdout",
     "output_type": "stream",
     "text": [
      "(36, 3)\n"
     ]
    },
    {
     "name": "stderr",
     "output_type": "stream",
     "text": [
      "\r",
      " 13%|████▉                                  | 128/1000 [00:54<04:04,  3.56it/s]"
     ]
    },
    {
     "name": "stdout",
     "output_type": "stream",
     "text": [
      "(38, 3)\n"
     ]
    },
    {
     "name": "stderr",
     "output_type": "stream",
     "text": [
      "\r",
      " 13%|█████                                  | 129/1000 [00:54<04:06,  3.53it/s]"
     ]
    },
    {
     "name": "stdout",
     "output_type": "stream",
     "text": [
      "(34, 3)\n"
     ]
    },
    {
     "name": "stderr",
     "output_type": "stream",
     "text": [
      "\r",
      " 13%|█████                                  | 130/1000 [00:54<04:09,  3.49it/s]"
     ]
    },
    {
     "name": "stdout",
     "output_type": "stream",
     "text": [
      "(37, 3)\n"
     ]
    },
    {
     "name": "stderr",
     "output_type": "stream",
     "text": [
      "\r",
      " 13%|█████                                  | 131/1000 [00:55<04:25,  3.27it/s]"
     ]
    },
    {
     "name": "stdout",
     "output_type": "stream",
     "text": [
      "(41, 3)\n"
     ]
    },
    {
     "name": "stderr",
     "output_type": "stream",
     "text": [
      "\r",
      " 13%|█████▏                                 | 132/1000 [00:55<04:17,  3.37it/s]"
     ]
    },
    {
     "name": "stdout",
     "output_type": "stream",
     "text": [
      "(38, 3)\n"
     ]
    },
    {
     "name": "stderr",
     "output_type": "stream",
     "text": [
      "\r",
      " 13%|█████▏                                 | 133/1000 [00:55<04:00,  3.60it/s]"
     ]
    },
    {
     "name": "stdout",
     "output_type": "stream",
     "text": [
      "(37, 3)\n"
     ]
    },
    {
     "name": "stderr",
     "output_type": "stream",
     "text": [
      "\r",
      " 13%|█████▏                                 | 134/1000 [00:56<04:43,  3.05it/s]"
     ]
    },
    {
     "name": "stdout",
     "output_type": "stream",
     "text": [
      "(44, 3)\n"
     ]
    },
    {
     "name": "stderr",
     "output_type": "stream",
     "text": [
      "\r",
      " 14%|█████▎                                 | 135/1000 [00:56<05:09,  2.79it/s]"
     ]
    },
    {
     "name": "stdout",
     "output_type": "stream",
     "text": [
      "(41, 3)\n"
     ]
    },
    {
     "name": "stderr",
     "output_type": "stream",
     "text": [
      "\r",
      " 14%|█████▎                                 | 136/1000 [00:56<05:43,  2.51it/s]"
     ]
    },
    {
     "name": "stdout",
     "output_type": "stream",
     "text": [
      "(39, 3)\n"
     ]
    },
    {
     "name": "stderr",
     "output_type": "stream",
     "text": [
      "\r",
      " 14%|█████▎                                 | 137/1000 [00:57<06:37,  2.17it/s]"
     ]
    },
    {
     "name": "stdout",
     "output_type": "stream",
     "text": [
      "(37, 3)\n"
     ]
    },
    {
     "name": "stderr",
     "output_type": "stream",
     "text": [
      "\r",
      " 14%|█████▍                                 | 138/1000 [00:58<06:50,  2.10it/s]"
     ]
    },
    {
     "name": "stdout",
     "output_type": "stream",
     "text": [
      "(37, 3)\n"
     ]
    },
    {
     "name": "stderr",
     "output_type": "stream",
     "text": [
      "\r",
      " 14%|█████▍                                 | 139/1000 [00:58<06:11,  2.32it/s]"
     ]
    },
    {
     "name": "stdout",
     "output_type": "stream",
     "text": [
      "(37, 3)\n"
     ]
    },
    {
     "name": "stderr",
     "output_type": "stream",
     "text": [
      "\r",
      " 14%|█████▍                                 | 140/1000 [00:58<06:01,  2.38it/s]"
     ]
    },
    {
     "name": "stdout",
     "output_type": "stream",
     "text": [
      "(38, 3)\n"
     ]
    },
    {
     "name": "stderr",
     "output_type": "stream",
     "text": [
      "\r",
      " 14%|█████▍                                 | 141/1000 [00:59<05:44,  2.49it/s]"
     ]
    },
    {
     "name": "stdout",
     "output_type": "stream",
     "text": [
      "(46, 3)\n"
     ]
    },
    {
     "name": "stderr",
     "output_type": "stream",
     "text": [
      "\r",
      " 14%|█████▌                                 | 142/1000 [00:59<05:14,  2.72it/s]"
     ]
    },
    {
     "name": "stdout",
     "output_type": "stream",
     "text": [
      "(38, 3)\n"
     ]
    },
    {
     "name": "stderr",
     "output_type": "stream",
     "text": [
      "\r",
      " 14%|█████▌                                 | 143/1000 [00:59<06:11,  2.30it/s]"
     ]
    },
    {
     "name": "stdout",
     "output_type": "stream",
     "text": [
      "(37, 3)\n"
     ]
    },
    {
     "name": "stderr",
     "output_type": "stream",
     "text": [
      "\r",
      " 14%|█████▌                                 | 144/1000 [01:00<05:18,  2.68it/s]"
     ]
    },
    {
     "name": "stdout",
     "output_type": "stream",
     "text": [
      "(37, 3)\n"
     ]
    },
    {
     "name": "stderr",
     "output_type": "stream",
     "text": [
      "\r",
      " 14%|█████▋                                 | 145/1000 [01:00<04:41,  3.03it/s]"
     ]
    },
    {
     "name": "stdout",
     "output_type": "stream",
     "text": [
      "(37, 3)\n"
     ]
    },
    {
     "name": "stderr",
     "output_type": "stream",
     "text": [
      "\r",
      " 15%|█████▋                                 | 146/1000 [01:01<05:54,  2.41it/s]"
     ]
    },
    {
     "name": "stdout",
     "output_type": "stream",
     "text": [
      "(37, 3)\n"
     ]
    },
    {
     "name": "stderr",
     "output_type": "stream",
     "text": [
      "\r",
      " 15%|█████▋                                 | 147/1000 [01:01<05:23,  2.63it/s]"
     ]
    },
    {
     "name": "stdout",
     "output_type": "stream",
     "text": [
      "(37, 3)\n"
     ]
    },
    {
     "name": "stderr",
     "output_type": "stream",
     "text": [
      "\r",
      " 15%|█████▊                                 | 148/1000 [01:01<04:58,  2.85it/s]"
     ]
    },
    {
     "name": "stdout",
     "output_type": "stream",
     "text": [
      "(38, 3)\n"
     ]
    },
    {
     "name": "stderr",
     "output_type": "stream",
     "text": [
      "\r",
      " 15%|█████▊                                 | 149/1000 [01:02<06:25,  2.21it/s]"
     ]
    },
    {
     "name": "stdout",
     "output_type": "stream",
     "text": [
      "(35, 3)\n"
     ]
    },
    {
     "name": "stderr",
     "output_type": "stream",
     "text": [
      "\r",
      " 15%|█████▊                                 | 150/1000 [01:02<05:21,  2.65it/s]"
     ]
    },
    {
     "name": "stdout",
     "output_type": "stream",
     "text": [
      "(39, 3)\n"
     ]
    },
    {
     "name": "stderr",
     "output_type": "stream",
     "text": [
      "\r",
      " 15%|█████▉                                 | 151/1000 [01:02<05:11,  2.72it/s]"
     ]
    },
    {
     "name": "stdout",
     "output_type": "stream",
     "text": [
      "(36, 3)\n"
     ]
    },
    {
     "name": "stderr",
     "output_type": "stream",
     "text": [
      "\r",
      " 15%|█████▉                                 | 152/1000 [01:03<05:47,  2.44it/s]"
     ]
    },
    {
     "name": "stdout",
     "output_type": "stream",
     "text": [
      "(36, 3)\n"
     ]
    },
    {
     "name": "stderr",
     "output_type": "stream",
     "text": [
      "\r",
      " 15%|█████▉                                 | 153/1000 [01:03<05:43,  2.46it/s]"
     ]
    },
    {
     "name": "stdout",
     "output_type": "stream",
     "text": [
      "(37, 3)\n"
     ]
    },
    {
     "name": "stderr",
     "output_type": "stream",
     "text": [
      "\r",
      " 15%|██████                                 | 154/1000 [01:04<05:06,  2.76it/s]"
     ]
    },
    {
     "name": "stdout",
     "output_type": "stream",
     "text": [
      "(40, 3)\n"
     ]
    },
    {
     "name": "stderr",
     "output_type": "stream",
     "text": [
      "\r",
      " 16%|██████                                 | 155/1000 [01:04<05:43,  2.46it/s]"
     ]
    },
    {
     "name": "stdout",
     "output_type": "stream",
     "text": [
      "(40, 3)\n"
     ]
    },
    {
     "name": "stderr",
     "output_type": "stream",
     "text": [
      "\r",
      " 16%|██████                                 | 156/1000 [01:05<05:53,  2.39it/s]"
     ]
    },
    {
     "name": "stdout",
     "output_type": "stream",
     "text": [
      "(40, 3)\n"
     ]
    },
    {
     "name": "stderr",
     "output_type": "stream",
     "text": [
      "\r",
      " 16%|██████                                 | 157/1000 [01:05<07:46,  1.81it/s]"
     ]
    },
    {
     "name": "stdout",
     "output_type": "stream",
     "text": [
      "(38, 3)\n"
     ]
    },
    {
     "name": "stderr",
     "output_type": "stream",
     "text": [
      "\r",
      " 16%|██████▏                                | 158/1000 [01:07<10:12,  1.38it/s]"
     ]
    },
    {
     "name": "stdout",
     "output_type": "stream",
     "text": [
      "(38, 3)\n"
     ]
    },
    {
     "name": "stderr",
     "output_type": "stream",
     "text": [
      "\r",
      " 16%|██████▏                                | 159/1000 [01:07<08:24,  1.67it/s]"
     ]
    },
    {
     "name": "stdout",
     "output_type": "stream",
     "text": [
      "(38, 3)\n"
     ]
    },
    {
     "name": "stderr",
     "output_type": "stream",
     "text": [
      "\r",
      " 16%|██████▏                                | 160/1000 [01:07<08:29,  1.65it/s]"
     ]
    },
    {
     "name": "stdout",
     "output_type": "stream",
     "text": [
      "(43, 3)\n"
     ]
    },
    {
     "name": "stderr",
     "output_type": "stream",
     "text": [
      "\r",
      " 16%|██████▎                                | 161/1000 [01:08<07:37,  1.84it/s]"
     ]
    },
    {
     "name": "stdout",
     "output_type": "stream",
     "text": [
      "(37, 3)\n"
     ]
    },
    {
     "name": "stderr",
     "output_type": "stream",
     "text": [
      "\r",
      " 16%|██████▎                                | 162/1000 [01:08<06:27,  2.16it/s]"
     ]
    },
    {
     "name": "stdout",
     "output_type": "stream",
     "text": [
      "(38, 3)\n"
     ]
    },
    {
     "name": "stderr",
     "output_type": "stream",
     "text": [
      "\r",
      " 16%|██████▎                                | 163/1000 [01:08<06:04,  2.30it/s]"
     ]
    },
    {
     "name": "stdout",
     "output_type": "stream",
     "text": [
      "(37, 3)\n"
     ]
    },
    {
     "name": "stderr",
     "output_type": "stream",
     "text": [
      "\r",
      " 16%|██████▍                                | 164/1000 [01:09<05:52,  2.37it/s]"
     ]
    },
    {
     "name": "stdout",
     "output_type": "stream",
     "text": [
      "(38, 3)\n"
     ]
    },
    {
     "name": "stderr",
     "output_type": "stream",
     "text": [
      "\r",
      " 16%|██████▍                                | 165/1000 [01:09<05:03,  2.76it/s]"
     ]
    },
    {
     "name": "stdout",
     "output_type": "stream",
     "text": [
      "(36, 3)\n"
     ]
    },
    {
     "name": "stderr",
     "output_type": "stream",
     "text": [
      "\r",
      " 17%|██████▍                                | 166/1000 [01:10<05:18,  2.62it/s]"
     ]
    },
    {
     "name": "stdout",
     "output_type": "stream",
     "text": [
      "(40, 3)\n"
     ]
    },
    {
     "name": "stderr",
     "output_type": "stream",
     "text": [
      "\r",
      " 17%|██████▌                                | 167/1000 [01:10<05:17,  2.62it/s]"
     ]
    },
    {
     "name": "stdout",
     "output_type": "stream",
     "text": [
      "(39, 3)\n"
     ]
    },
    {
     "name": "stderr",
     "output_type": "stream",
     "text": [
      "\r",
      " 17%|██████▌                                | 168/1000 [01:10<04:54,  2.82it/s]"
     ]
    },
    {
     "name": "stdout",
     "output_type": "stream",
     "text": [
      "(39, 3)\n"
     ]
    },
    {
     "name": "stderr",
     "output_type": "stream",
     "text": [
      "\r",
      " 17%|██████▌                                | 169/1000 [01:11<04:57,  2.79it/s]"
     ]
    },
    {
     "name": "stdout",
     "output_type": "stream",
     "text": [
      "(37, 3)\n"
     ]
    },
    {
     "name": "stderr",
     "output_type": "stream",
     "text": [
      "\r",
      " 17%|██████▋                                | 170/1000 [01:11<04:42,  2.94it/s]"
     ]
    },
    {
     "name": "stdout",
     "output_type": "stream",
     "text": [
      "(41, 3)\n"
     ]
    },
    {
     "name": "stderr",
     "output_type": "stream",
     "text": [
      "\r",
      " 17%|██████▋                                | 171/1000 [01:11<04:25,  3.12it/s]"
     ]
    },
    {
     "name": "stdout",
     "output_type": "stream",
     "text": [
      "(39, 3)\n"
     ]
    },
    {
     "name": "stderr",
     "output_type": "stream",
     "text": [
      "\r",
      " 17%|██████▋                                | 172/1000 [01:12<04:51,  2.84it/s]"
     ]
    },
    {
     "name": "stdout",
     "output_type": "stream",
     "text": [
      "(36, 3)\n"
     ]
    },
    {
     "name": "stderr",
     "output_type": "stream",
     "text": [
      "\r",
      " 17%|██████▋                                | 173/1000 [01:12<04:27,  3.09it/s]"
     ]
    },
    {
     "name": "stdout",
     "output_type": "stream",
     "text": [
      "(36, 3)\n"
     ]
    },
    {
     "name": "stderr",
     "output_type": "stream",
     "text": [
      "\r",
      " 17%|██████▊                                | 174/1000 [01:12<05:11,  2.66it/s]"
     ]
    },
    {
     "name": "stdout",
     "output_type": "stream",
     "text": [
      "(45, 3)\n"
     ]
    },
    {
     "name": "stderr",
     "output_type": "stream",
     "text": [
      "\r",
      " 18%|██████▊                                | 175/1000 [01:13<04:40,  2.94it/s]"
     ]
    },
    {
     "name": "stdout",
     "output_type": "stream",
     "text": [
      "(36, 3)\n"
     ]
    },
    {
     "name": "stderr",
     "output_type": "stream",
     "text": [
      "\r",
      " 18%|██████▊                                | 176/1000 [01:13<04:29,  3.06it/s]"
     ]
    },
    {
     "name": "stdout",
     "output_type": "stream",
     "text": [
      "(36, 3)\n"
     ]
    },
    {
     "name": "stderr",
     "output_type": "stream",
     "text": [
      "\r",
      " 18%|██████▉                                | 177/1000 [01:13<04:52,  2.81it/s]"
     ]
    },
    {
     "name": "stdout",
     "output_type": "stream",
     "text": [
      "(38, 3)\n"
     ]
    },
    {
     "name": "stderr",
     "output_type": "stream",
     "text": [
      "\r",
      " 18%|██████▉                                | 178/1000 [01:14<05:58,  2.29it/s]"
     ]
    },
    {
     "name": "stdout",
     "output_type": "stream",
     "text": [
      "(35, 3)\n"
     ]
    },
    {
     "name": "stderr",
     "output_type": "stream",
     "text": [
      "\r",
      " 18%|██████▉                                | 179/1000 [01:14<05:08,  2.66it/s]"
     ]
    },
    {
     "name": "stdout",
     "output_type": "stream",
     "text": [
      "(37, 3)\n"
     ]
    },
    {
     "name": "stderr",
     "output_type": "stream",
     "text": [
      "\r",
      " 18%|███████                                | 180/1000 [01:15<05:10,  2.64it/s]"
     ]
    },
    {
     "name": "stdout",
     "output_type": "stream",
     "text": [
      "(36, 3)\n"
     ]
    },
    {
     "name": "stderr",
     "output_type": "stream",
     "text": [
      "\r",
      " 18%|███████                                | 181/1000 [01:15<04:30,  3.03it/s]"
     ]
    },
    {
     "name": "stdout",
     "output_type": "stream",
     "text": [
      "(35, 3)\n"
     ]
    },
    {
     "name": "stderr",
     "output_type": "stream",
     "text": [
      "\r",
      " 18%|███████                                | 182/1000 [01:15<04:07,  3.30it/s]"
     ]
    },
    {
     "name": "stdout",
     "output_type": "stream",
     "text": [
      "(36, 3)\n"
     ]
    },
    {
     "name": "stderr",
     "output_type": "stream",
     "text": [
      "\r",
      " 18%|███████▏                               | 183/1000 [01:15<04:07,  3.30it/s]"
     ]
    },
    {
     "name": "stdout",
     "output_type": "stream",
     "text": [
      "(36, 3)\n"
     ]
    },
    {
     "name": "stderr",
     "output_type": "stream",
     "text": [
      "\r",
      " 18%|███████▏                               | 184/1000 [01:16<04:10,  3.25it/s]"
     ]
    },
    {
     "name": "stdout",
     "output_type": "stream",
     "text": [
      "(38, 3)\n"
     ]
    },
    {
     "name": "stderr",
     "output_type": "stream",
     "text": [
      "\r",
      " 18%|███████▏                               | 185/1000 [01:16<05:47,  2.35it/s]"
     ]
    },
    {
     "name": "stdout",
     "output_type": "stream",
     "text": [
      "(40, 3)\n"
     ]
    },
    {
     "name": "stderr",
     "output_type": "stream",
     "text": [
      "\r",
      " 19%|███████▎                               | 186/1000 [01:17<05:05,  2.66it/s]"
     ]
    },
    {
     "name": "stdout",
     "output_type": "stream",
     "text": [
      "(37, 3)\n"
     ]
    },
    {
     "name": "stderr",
     "output_type": "stream",
     "text": [
      "\r",
      " 19%|███████▎                               | 187/1000 [01:17<05:06,  2.65it/s]"
     ]
    },
    {
     "name": "stdout",
     "output_type": "stream",
     "text": [
      "(37, 3)\n"
     ]
    },
    {
     "name": "stderr",
     "output_type": "stream",
     "text": [
      "\r",
      " 19%|███████▎                               | 188/1000 [01:17<05:24,  2.50it/s]"
     ]
    },
    {
     "name": "stdout",
     "output_type": "stream",
     "text": [
      "(38, 3)\n"
     ]
    },
    {
     "name": "stderr",
     "output_type": "stream",
     "text": [
      "\r",
      " 19%|███████▎                               | 189/1000 [01:18<05:04,  2.66it/s]"
     ]
    },
    {
     "name": "stdout",
     "output_type": "stream",
     "text": [
      "(37, 3)\n"
     ]
    },
    {
     "name": "stderr",
     "output_type": "stream",
     "text": [
      "\r",
      " 19%|███████▍                               | 190/1000 [01:18<05:08,  2.62it/s]"
     ]
    },
    {
     "name": "stdout",
     "output_type": "stream",
     "text": [
      "(41, 3)\n"
     ]
    },
    {
     "name": "stderr",
     "output_type": "stream",
     "text": [
      "\r",
      " 19%|███████▍                               | 191/1000 [01:18<04:50,  2.79it/s]"
     ]
    },
    {
     "name": "stdout",
     "output_type": "stream",
     "text": [
      "(39, 3)\n"
     ]
    },
    {
     "name": "stderr",
     "output_type": "stream",
     "text": [
      "\r",
      " 19%|███████▍                               | 192/1000 [01:19<04:40,  2.88it/s]"
     ]
    },
    {
     "name": "stdout",
     "output_type": "stream",
     "text": [
      "(35, 3)\n"
     ]
    },
    {
     "name": "stderr",
     "output_type": "stream",
     "text": [
      "\r",
      " 19%|███████▌                               | 193/1000 [01:19<04:07,  3.26it/s]"
     ]
    },
    {
     "name": "stdout",
     "output_type": "stream",
     "text": [
      "(35, 3)\n"
     ]
    },
    {
     "name": "stderr",
     "output_type": "stream",
     "text": [
      "\r",
      " 19%|███████▌                               | 194/1000 [01:19<03:56,  3.41it/s]"
     ]
    },
    {
     "name": "stdout",
     "output_type": "stream",
     "text": [
      "(38, 3)\n"
     ]
    },
    {
     "name": "stderr",
     "output_type": "stream",
     "text": [
      "\r",
      " 20%|███████▌                               | 195/1000 [01:20<05:11,  2.58it/s]"
     ]
    },
    {
     "name": "stdout",
     "output_type": "stream",
     "text": [
      "(36, 3)\n"
     ]
    },
    {
     "name": "stderr",
     "output_type": "stream",
     "text": [
      "\r",
      " 20%|███████▋                               | 196/1000 [01:20<04:43,  2.83it/s]"
     ]
    },
    {
     "name": "stdout",
     "output_type": "stream",
     "text": [
      "(39, 3)\n"
     ]
    },
    {
     "name": "stderr",
     "output_type": "stream",
     "text": [
      "\r",
      " 20%|███████▋                               | 197/1000 [01:22<10:49,  1.24it/s]"
     ]
    },
    {
     "name": "stdout",
     "output_type": "stream",
     "text": [
      "(48, 3)\n"
     ]
    },
    {
     "name": "stderr",
     "output_type": "stream",
     "text": [
      "\r",
      " 20%|███████▋                               | 198/1000 [01:22<08:29,  1.57it/s]"
     ]
    },
    {
     "name": "stdout",
     "output_type": "stream",
     "text": [
      "(36, 3)\n"
     ]
    },
    {
     "name": "stderr",
     "output_type": "stream",
     "text": [
      "\r",
      " 20%|███████▊                               | 199/1000 [01:23<08:00,  1.67it/s]"
     ]
    },
    {
     "name": "stdout",
     "output_type": "stream",
     "text": [
      "(38, 3)\n"
     ]
    },
    {
     "name": "stderr",
     "output_type": "stream",
     "text": [
      "\r",
      " 20%|███████▊                               | 200/1000 [01:24<10:46,  1.24it/s]"
     ]
    },
    {
     "name": "stdout",
     "output_type": "stream",
     "text": [
      "(41, 3)\n"
     ]
    },
    {
     "name": "stderr",
     "output_type": "stream",
     "text": [
      "\r",
      " 20%|███████▊                               | 201/1000 [01:24<09:09,  1.45it/s]"
     ]
    },
    {
     "name": "stdout",
     "output_type": "stream",
     "text": [
      "(38, 3)\n"
     ]
    },
    {
     "name": "stderr",
     "output_type": "stream",
     "text": [
      "\r",
      " 20%|███████▉                               | 202/1000 [01:25<08:05,  1.64it/s]"
     ]
    },
    {
     "name": "stdout",
     "output_type": "stream",
     "text": [
      "(42, 3)\n"
     ]
    },
    {
     "name": "stderr",
     "output_type": "stream",
     "text": [
      "\r",
      " 20%|███████▉                               | 203/1000 [01:25<07:09,  1.85it/s]"
     ]
    },
    {
     "name": "stdout",
     "output_type": "stream",
     "text": [
      "(39, 3)\n"
     ]
    },
    {
     "name": "stderr",
     "output_type": "stream",
     "text": [
      "\r",
      " 20%|███████▉                               | 204/1000 [01:26<06:12,  2.14it/s]"
     ]
    },
    {
     "name": "stdout",
     "output_type": "stream",
     "text": [
      "(40, 3)\n"
     ]
    },
    {
     "name": "stderr",
     "output_type": "stream",
     "text": [
      "\r",
      " 20%|███████▉                               | 205/1000 [01:26<05:32,  2.39it/s]"
     ]
    },
    {
     "name": "stdout",
     "output_type": "stream",
     "text": [
      "(39, 3)\n"
     ]
    },
    {
     "name": "stderr",
     "output_type": "stream",
     "text": [
      "\r",
      " 21%|████████                               | 206/1000 [01:26<05:02,  2.63it/s]"
     ]
    },
    {
     "name": "stdout",
     "output_type": "stream",
     "text": [
      "(40, 3)\n"
     ]
    },
    {
     "name": "stderr",
     "output_type": "stream",
     "text": [
      "\r",
      " 21%|████████                               | 207/1000 [01:26<04:32,  2.91it/s]"
     ]
    },
    {
     "name": "stdout",
     "output_type": "stream",
     "text": [
      "(39, 3)\n"
     ]
    },
    {
     "name": "stderr",
     "output_type": "stream",
     "text": [
      "\r",
      " 21%|████████                               | 208/1000 [01:27<04:15,  3.10it/s]"
     ]
    },
    {
     "name": "stdout",
     "output_type": "stream",
     "text": [
      "(41, 3)\n"
     ]
    },
    {
     "name": "stderr",
     "output_type": "stream",
     "text": [
      "\r",
      " 21%|████████▏                              | 209/1000 [01:27<04:09,  3.16it/s]"
     ]
    },
    {
     "name": "stdout",
     "output_type": "stream",
     "text": [
      "(39, 3)\n"
     ]
    },
    {
     "name": "stderr",
     "output_type": "stream",
     "text": [
      "\r",
      " 21%|████████▏                              | 210/1000 [01:27<03:54,  3.36it/s]"
     ]
    },
    {
     "name": "stdout",
     "output_type": "stream",
     "text": [
      "(38, 3)\n"
     ]
    },
    {
     "name": "stderr",
     "output_type": "stream",
     "text": [
      "\r",
      " 21%|████████▏                              | 211/1000 [01:27<03:53,  3.38it/s]"
     ]
    },
    {
     "name": "stdout",
     "output_type": "stream",
     "text": [
      "(37, 3)\n"
     ]
    },
    {
     "name": "stderr",
     "output_type": "stream",
     "text": [
      "\r",
      " 21%|████████▎                              | 212/1000 [01:28<03:54,  3.36it/s]"
     ]
    },
    {
     "name": "stdout",
     "output_type": "stream",
     "text": [
      "(41, 3)\n"
     ]
    },
    {
     "name": "stderr",
     "output_type": "stream",
     "text": [
      "\r",
      " 21%|████████▎                              | 213/1000 [01:28<03:49,  3.43it/s]"
     ]
    },
    {
     "name": "stdout",
     "output_type": "stream",
     "text": [
      "(40, 3)\n"
     ]
    },
    {
     "name": "stderr",
     "output_type": "stream",
     "text": [
      "\r",
      " 21%|████████▎                              | 214/1000 [01:28<03:43,  3.51it/s]"
     ]
    },
    {
     "name": "stdout",
     "output_type": "stream",
     "text": [
      "(39, 3)\n"
     ]
    },
    {
     "name": "stderr",
     "output_type": "stream",
     "text": [
      "\r",
      " 22%|████████▍                              | 215/1000 [01:29<03:35,  3.65it/s]"
     ]
    },
    {
     "name": "stdout",
     "output_type": "stream",
     "text": [
      "(40, 3)\n"
     ]
    },
    {
     "name": "stderr",
     "output_type": "stream",
     "text": [
      "\r",
      " 22%|████████▍                              | 216/1000 [01:29<05:18,  2.46it/s]"
     ]
    },
    {
     "name": "stdout",
     "output_type": "stream",
     "text": [
      "(41, 3)\n"
     ]
    },
    {
     "name": "stderr",
     "output_type": "stream",
     "text": [
      "\r",
      " 22%|████████▍                              | 217/1000 [01:30<04:48,  2.71it/s]"
     ]
    },
    {
     "name": "stdout",
     "output_type": "stream",
     "text": [
      "(38, 3)\n"
     ]
    },
    {
     "name": "stderr",
     "output_type": "stream",
     "text": [
      "\r",
      " 22%|████████▌                              | 218/1000 [01:30<04:33,  2.86it/s]"
     ]
    },
    {
     "name": "stdout",
     "output_type": "stream",
     "text": [
      "(37, 3)\n"
     ]
    },
    {
     "name": "stderr",
     "output_type": "stream",
     "text": [
      " 22%|████████▌                              | 220/1000 [01:31<04:48,  2.70it/s]"
     ]
    },
    {
     "name": "stdout",
     "output_type": "stream",
     "text": [
      "(41, 3)\n",
      "(37, 3)\n"
     ]
    },
    {
     "name": "stderr",
     "output_type": "stream",
     "text": [
      "\r",
      " 22%|████████▌                              | 221/1000 [01:31<05:18,  2.44it/s]"
     ]
    },
    {
     "name": "stdout",
     "output_type": "stream",
     "text": [
      "(37, 3)\n"
     ]
    },
    {
     "name": "stderr",
     "output_type": "stream",
     "text": [
      "\r",
      " 22%|████████▋                              | 222/1000 [01:32<04:43,  2.75it/s]"
     ]
    },
    {
     "name": "stdout",
     "output_type": "stream",
     "text": [
      "(36, 3)\n"
     ]
    },
    {
     "name": "stderr",
     "output_type": "stream",
     "text": [
      "\r",
      " 22%|████████▋                              | 223/1000 [01:32<04:18,  3.01it/s]"
     ]
    },
    {
     "name": "stdout",
     "output_type": "stream",
     "text": [
      "(37, 3)\n"
     ]
    },
    {
     "name": "stderr",
     "output_type": "stream",
     "text": [
      "\r",
      " 22%|████████▋                              | 224/1000 [01:32<04:17,  3.01it/s]"
     ]
    },
    {
     "name": "stdout",
     "output_type": "stream",
     "text": [
      "(36, 3)\n"
     ]
    },
    {
     "name": "stderr",
     "output_type": "stream",
     "text": [
      "\r",
      " 22%|████████▊                              | 225/1000 [01:33<05:07,  2.52it/s]"
     ]
    },
    {
     "name": "stdout",
     "output_type": "stream",
     "text": [
      "(36, 3)\n"
     ]
    },
    {
     "name": "stderr",
     "output_type": "stream",
     "text": [
      "\r",
      " 23%|████████▊                              | 226/1000 [01:34<08:36,  1.50it/s]"
     ]
    },
    {
     "name": "stdout",
     "output_type": "stream",
     "text": [
      "(42, 3)\n"
     ]
    },
    {
     "name": "stderr",
     "output_type": "stream",
     "text": [
      "\r",
      " 23%|████████▊                              | 227/1000 [01:34<07:22,  1.75it/s]"
     ]
    },
    {
     "name": "stdout",
     "output_type": "stream",
     "text": [
      "(41, 3)\n"
     ]
    },
    {
     "name": "stderr",
     "output_type": "stream",
     "text": [
      "\r",
      " 23%|████████▉                              | 228/1000 [01:35<09:36,  1.34it/s]"
     ]
    },
    {
     "name": "stdout",
     "output_type": "stream",
     "text": [
      "(40, 3)\n"
     ]
    },
    {
     "name": "stderr",
     "output_type": "stream",
     "text": [
      "\r",
      " 23%|████████▉                              | 229/1000 [01:36<08:37,  1.49it/s]"
     ]
    },
    {
     "name": "stdout",
     "output_type": "stream",
     "text": [
      "(35, 3)\n"
     ]
    },
    {
     "name": "stderr",
     "output_type": "stream",
     "text": [
      "\r",
      " 23%|████████▉                              | 230/1000 [01:36<07:30,  1.71it/s]"
     ]
    },
    {
     "name": "stdout",
     "output_type": "stream",
     "text": [
      "(43, 3)\n"
     ]
    },
    {
     "name": "stderr",
     "output_type": "stream",
     "text": [
      "\r",
      " 23%|█████████                              | 231/1000 [01:37<06:47,  1.89it/s]"
     ]
    },
    {
     "name": "stdout",
     "output_type": "stream",
     "text": [
      "(38, 3)\n"
     ]
    },
    {
     "name": "stderr",
     "output_type": "stream",
     "text": [
      "\r",
      " 23%|█████████                              | 232/1000 [01:37<05:50,  2.19it/s]"
     ]
    },
    {
     "name": "stdout",
     "output_type": "stream",
     "text": [
      "(38, 3)\n"
     ]
    },
    {
     "name": "stderr",
     "output_type": "stream",
     "text": [
      "\r",
      " 23%|█████████                              | 233/1000 [01:37<05:04,  2.52it/s]"
     ]
    },
    {
     "name": "stdout",
     "output_type": "stream",
     "text": [
      "(35, 3)\n"
     ]
    },
    {
     "name": "stderr",
     "output_type": "stream",
     "text": [
      "\r",
      " 23%|█████████▏                             | 234/1000 [01:38<04:52,  2.62it/s]"
     ]
    },
    {
     "name": "stdout",
     "output_type": "stream",
     "text": [
      "(40, 3)\n"
     ]
    },
    {
     "name": "stderr",
     "output_type": "stream",
     "text": [
      "\r",
      " 24%|█████████▏                             | 235/1000 [01:38<04:58,  2.57it/s]"
     ]
    },
    {
     "name": "stdout",
     "output_type": "stream",
     "text": [
      "(36, 3)\n"
     ]
    },
    {
     "name": "stderr",
     "output_type": "stream",
     "text": [
      "\r",
      " 24%|█████████▏                             | 236/1000 [01:38<04:53,  2.61it/s]"
     ]
    },
    {
     "name": "stdout",
     "output_type": "stream",
     "text": [
      "(40, 3)\n"
     ]
    },
    {
     "name": "stderr",
     "output_type": "stream",
     "text": [
      "\r",
      " 24%|█████████▏                             | 237/1000 [01:39<04:36,  2.76it/s]"
     ]
    },
    {
     "name": "stdout",
     "output_type": "stream",
     "text": [
      "(41, 3)\n"
     ]
    },
    {
     "name": "stderr",
     "output_type": "stream",
     "text": [
      "\r",
      " 24%|█████████▎                             | 238/1000 [01:39<04:53,  2.60it/s]"
     ]
    },
    {
     "name": "stdout",
     "output_type": "stream",
     "text": [
      "(39, 3)\n"
     ]
    },
    {
     "name": "stderr",
     "output_type": "stream",
     "text": [
      "\r",
      " 24%|█████████▎                             | 239/1000 [01:40<05:17,  2.39it/s]"
     ]
    },
    {
     "name": "stdout",
     "output_type": "stream",
     "text": [
      "(41, 3)\n"
     ]
    },
    {
     "name": "stderr",
     "output_type": "stream",
     "text": [
      "\r",
      " 24%|█████████▎                             | 240/1000 [01:40<05:35,  2.27it/s]"
     ]
    },
    {
     "name": "stdout",
     "output_type": "stream",
     "text": [
      "(49, 3)\n"
     ]
    },
    {
     "name": "stderr",
     "output_type": "stream",
     "text": [
      "\r",
      " 24%|█████████▍                             | 241/1000 [01:41<05:48,  2.18it/s]"
     ]
    },
    {
     "name": "stdout",
     "output_type": "stream",
     "text": [
      "(39, 3)\n"
     ]
    },
    {
     "name": "stderr",
     "output_type": "stream",
     "text": [
      "\r",
      " 24%|█████████▍                             | 242/1000 [01:41<05:22,  2.35it/s]"
     ]
    },
    {
     "name": "stdout",
     "output_type": "stream",
     "text": [
      "(42, 3)\n"
     ]
    },
    {
     "name": "stderr",
     "output_type": "stream",
     "text": [
      "\r",
      " 24%|█████████▍                             | 243/1000 [01:41<04:54,  2.57it/s]"
     ]
    },
    {
     "name": "stdout",
     "output_type": "stream",
     "text": [
      "(41, 3)\n"
     ]
    },
    {
     "name": "stderr",
     "output_type": "stream",
     "text": [
      "\r",
      " 24%|█████████▌                             | 244/1000 [01:42<04:26,  2.84it/s]"
     ]
    },
    {
     "name": "stdout",
     "output_type": "stream",
     "text": [
      "(35, 3)\n"
     ]
    },
    {
     "name": "stderr",
     "output_type": "stream",
     "text": [
      "\r",
      " 24%|█████████▌                             | 245/1000 [01:42<05:33,  2.26it/s]"
     ]
    },
    {
     "name": "stdout",
     "output_type": "stream",
     "text": [
      "(39, 3)\n"
     ]
    },
    {
     "name": "stderr",
     "output_type": "stream",
     "text": [
      "\r",
      " 25%|█████████▌                             | 246/1000 [01:42<04:43,  2.66it/s]"
     ]
    },
    {
     "name": "stdout",
     "output_type": "stream",
     "text": [
      "(36, 3)\n"
     ]
    },
    {
     "name": "stderr",
     "output_type": "stream",
     "text": [
      "\r",
      " 25%|█████████▋                             | 247/1000 [01:43<05:28,  2.29it/s]"
     ]
    },
    {
     "name": "stdout",
     "output_type": "stream",
     "text": [
      "(40, 3)\n"
     ]
    },
    {
     "name": "stderr",
     "output_type": "stream",
     "text": [
      "\r",
      " 25%|█████████▋                             | 248/1000 [01:43<04:58,  2.52it/s]"
     ]
    },
    {
     "name": "stdout",
     "output_type": "stream",
     "text": [
      "(40, 3)\n"
     ]
    },
    {
     "name": "stderr",
     "output_type": "stream",
     "text": [
      "\r",
      " 25%|█████████▋                             | 249/1000 [01:44<04:35,  2.72it/s]"
     ]
    },
    {
     "name": "stdout",
     "output_type": "stream",
     "text": [
      "(41, 3)\n"
     ]
    },
    {
     "name": "stderr",
     "output_type": "stream",
     "text": [
      "\r",
      " 25%|█████████▊                             | 250/1000 [01:44<04:17,  2.91it/s]"
     ]
    },
    {
     "name": "stdout",
     "output_type": "stream",
     "text": [
      "(36, 3)\n"
     ]
    },
    {
     "name": "stderr",
     "output_type": "stream",
     "text": [
      "\r",
      " 25%|█████████▊                             | 251/1000 [01:44<04:03,  3.08it/s]"
     ]
    },
    {
     "name": "stdout",
     "output_type": "stream",
     "text": [
      "(41, 3)\n"
     ]
    },
    {
     "name": "stderr",
     "output_type": "stream",
     "text": [
      "\r",
      " 25%|█████████▊                             | 252/1000 [01:45<04:17,  2.91it/s]"
     ]
    },
    {
     "name": "stdout",
     "output_type": "stream",
     "text": [
      "(43, 3)\n"
     ]
    },
    {
     "name": "stderr",
     "output_type": "stream",
     "text": [
      "\r",
      " 25%|█████████▊                             | 253/1000 [01:46<09:34,  1.30it/s]"
     ]
    },
    {
     "name": "stdout",
     "output_type": "stream",
     "text": [
      "(38, 3)\n"
     ]
    },
    {
     "name": "stderr",
     "output_type": "stream",
     "text": [
      "\r",
      " 25%|█████████▉                             | 254/1000 [01:47<07:55,  1.57it/s]"
     ]
    },
    {
     "name": "stdout",
     "output_type": "stream",
     "text": [
      "(39, 3)\n"
     ]
    },
    {
     "name": "stderr",
     "output_type": "stream",
     "text": [
      "\r",
      " 26%|█████████▉                             | 255/1000 [01:47<06:42,  1.85it/s]"
     ]
    },
    {
     "name": "stdout",
     "output_type": "stream",
     "text": [
      "(41, 3)\n"
     ]
    },
    {
     "name": "stderr",
     "output_type": "stream",
     "text": [
      "\r",
      " 26%|█████████▉                             | 256/1000 [01:47<05:28,  2.26it/s]"
     ]
    },
    {
     "name": "stdout",
     "output_type": "stream",
     "text": [
      "(36, 3)\n"
     ]
    },
    {
     "name": "stderr",
     "output_type": "stream",
     "text": [
      "\r",
      " 26%|██████████                             | 257/1000 [01:47<04:40,  2.65it/s]"
     ]
    },
    {
     "name": "stdout",
     "output_type": "stream",
     "text": [
      "(39, 3)\n"
     ]
    },
    {
     "name": "stderr",
     "output_type": "stream",
     "text": [
      "\r",
      " 26%|██████████                             | 258/1000 [01:48<04:19,  2.86it/s]"
     ]
    },
    {
     "name": "stdout",
     "output_type": "stream",
     "text": [
      "(41, 3)\n"
     ]
    },
    {
     "name": "stderr",
     "output_type": "stream",
     "text": [
      " 26%|██████████▏                            | 260/1000 [01:48<03:32,  3.49it/s]"
     ]
    },
    {
     "name": "stdout",
     "output_type": "stream",
     "text": [
      "(41, 3)\n",
      "(37, 3)\n"
     ]
    },
    {
     "name": "stderr",
     "output_type": "stream",
     "text": [
      "\r",
      " 26%|██████████▏                            | 261/1000 [01:49<04:48,  2.56it/s]"
     ]
    },
    {
     "name": "stdout",
     "output_type": "stream",
     "text": [
      "(39, 3)\n"
     ]
    },
    {
     "name": "stderr",
     "output_type": "stream",
     "text": [
      "\r",
      " 26%|██████████▏                            | 262/1000 [01:49<05:09,  2.38it/s]"
     ]
    },
    {
     "name": "stdout",
     "output_type": "stream",
     "text": [
      "(39, 3)\n"
     ]
    },
    {
     "name": "stderr",
     "output_type": "stream",
     "text": [
      "\r",
      " 26%|██████████▎                            | 263/1000 [01:50<04:23,  2.80it/s]"
     ]
    },
    {
     "name": "stdout",
     "output_type": "stream",
     "text": [
      "(36, 3)\n"
     ]
    },
    {
     "name": "stderr",
     "output_type": "stream",
     "text": [
      "\r",
      " 26%|██████████▎                            | 264/1000 [01:50<05:51,  2.10it/s]"
     ]
    },
    {
     "name": "stdout",
     "output_type": "stream",
     "text": [
      "(39, 3)\n"
     ]
    },
    {
     "name": "stderr",
     "output_type": "stream",
     "text": [
      "\r",
      " 26%|██████████▎                            | 265/1000 [01:51<06:08,  1.99it/s]"
     ]
    },
    {
     "name": "stdout",
     "output_type": "stream",
     "text": [
      "(40, 3)\n"
     ]
    },
    {
     "name": "stderr",
     "output_type": "stream",
     "text": [
      "\r",
      " 27%|██████████▎                            | 266/1000 [01:51<06:16,  1.95it/s]"
     ]
    },
    {
     "name": "stdout",
     "output_type": "stream",
     "text": [
      "(40, 3)\n"
     ]
    },
    {
     "name": "stderr",
     "output_type": "stream",
     "text": [
      "\r",
      " 27%|██████████▍                            | 267/1000 [01:52<05:21,  2.28it/s]"
     ]
    },
    {
     "name": "stdout",
     "output_type": "stream",
     "text": [
      "(41, 3)\n"
     ]
    },
    {
     "name": "stderr",
     "output_type": "stream",
     "text": [
      "\r",
      " 27%|██████████▍                            | 268/1000 [01:52<04:31,  2.70it/s]"
     ]
    },
    {
     "name": "stdout",
     "output_type": "stream",
     "text": [
      "(35, 3)\n"
     ]
    },
    {
     "name": "stderr",
     "output_type": "stream",
     "text": [
      "\r",
      " 27%|██████████▍                            | 269/1000 [01:52<04:38,  2.63it/s]"
     ]
    },
    {
     "name": "stdout",
     "output_type": "stream",
     "text": [
      "(40, 3)\n"
     ]
    },
    {
     "name": "stderr",
     "output_type": "stream",
     "text": [
      "\r",
      " 27%|██████████▌                            | 270/1000 [01:52<04:06,  2.96it/s]"
     ]
    },
    {
     "name": "stdout",
     "output_type": "stream",
     "text": [
      "(39, 3)\n"
     ]
    },
    {
     "name": "stderr",
     "output_type": "stream",
     "text": [
      "\r",
      " 27%|██████████▌                            | 271/1000 [01:53<04:35,  2.65it/s]"
     ]
    },
    {
     "name": "stdout",
     "output_type": "stream",
     "text": [
      "(40, 3)\n"
     ]
    },
    {
     "name": "stderr",
     "output_type": "stream",
     "text": [
      "\r",
      " 27%|██████████▌                            | 272/1000 [01:53<04:01,  3.02it/s]"
     ]
    },
    {
     "name": "stdout",
     "output_type": "stream",
     "text": [
      "(36, 3)\n"
     ]
    },
    {
     "name": "stderr",
     "output_type": "stream",
     "text": [
      "\r",
      " 27%|██████████▋                            | 273/1000 [01:54<04:02,  3.00it/s]"
     ]
    },
    {
     "name": "stdout",
     "output_type": "stream",
     "text": [
      "(45, 3)\n"
     ]
    },
    {
     "name": "stderr",
     "output_type": "stream",
     "text": [
      "\r",
      " 27%|██████████▋                            | 274/1000 [01:54<04:12,  2.87it/s]"
     ]
    },
    {
     "name": "stdout",
     "output_type": "stream",
     "text": [
      "(38, 3)\n"
     ]
    },
    {
     "name": "stderr",
     "output_type": "stream",
     "text": [
      "\r",
      " 28%|██████████▋                            | 275/1000 [01:54<03:54,  3.09it/s]"
     ]
    },
    {
     "name": "stdout",
     "output_type": "stream",
     "text": [
      "(39, 3)\n"
     ]
    },
    {
     "name": "stderr",
     "output_type": "stream",
     "text": [
      "\r",
      " 28%|██████████▊                            | 276/1000 [01:54<03:55,  3.07it/s]"
     ]
    },
    {
     "name": "stdout",
     "output_type": "stream",
     "text": [
      "(42, 3)\n"
     ]
    },
    {
     "name": "stderr",
     "output_type": "stream",
     "text": [
      "\r",
      " 28%|██████████▊                            | 277/1000 [01:55<05:58,  2.02it/s]"
     ]
    },
    {
     "name": "stdout",
     "output_type": "stream",
     "text": [
      "(39, 3)\n"
     ]
    },
    {
     "name": "stderr",
     "output_type": "stream",
     "text": [
      "\r",
      " 28%|██████████▊                            | 278/1000 [01:56<05:46,  2.08it/s]"
     ]
    },
    {
     "name": "stdout",
     "output_type": "stream",
     "text": [
      "(41, 3)\n"
     ]
    },
    {
     "name": "stderr",
     "output_type": "stream",
     "text": [
      "\r",
      " 28%|██████████▉                            | 279/1000 [01:56<05:26,  2.21it/s]"
     ]
    },
    {
     "name": "stdout",
     "output_type": "stream",
     "text": [
      "(36, 3)\n"
     ]
    },
    {
     "name": "stderr",
     "output_type": "stream",
     "text": [
      "\r",
      " 28%|██████████▉                            | 280/1000 [01:56<04:33,  2.63it/s]"
     ]
    },
    {
     "name": "stdout",
     "output_type": "stream",
     "text": [
      "(35, 3)\n"
     ]
    },
    {
     "name": "stderr",
     "output_type": "stream",
     "text": [
      "\r",
      " 28%|██████████▉                            | 281/1000 [01:57<04:18,  2.78it/s]"
     ]
    },
    {
     "name": "stdout",
     "output_type": "stream",
     "text": [
      "(35, 3)\n"
     ]
    },
    {
     "name": "stderr",
     "output_type": "stream",
     "text": [
      "\r",
      " 28%|██████████▉                            | 282/1000 [01:57<05:34,  2.14it/s]"
     ]
    },
    {
     "name": "stdout",
     "output_type": "stream",
     "text": [
      "(41, 3)\n"
     ]
    },
    {
     "name": "stderr",
     "output_type": "stream",
     "text": [
      "\r",
      " 28%|███████████                            | 283/1000 [01:58<04:42,  2.54it/s]"
     ]
    },
    {
     "name": "stdout",
     "output_type": "stream",
     "text": [
      "(37, 3)\n"
     ]
    },
    {
     "name": "stderr",
     "output_type": "stream",
     "text": [
      "\r",
      " 28%|███████████                            | 284/1000 [01:58<04:16,  2.79it/s]"
     ]
    },
    {
     "name": "stdout",
     "output_type": "stream",
     "text": [
      "(39, 3)\n"
     ]
    },
    {
     "name": "stderr",
     "output_type": "stream",
     "text": [
      "\r",
      " 28%|███████████                            | 285/1000 [01:58<04:30,  2.65it/s]"
     ]
    },
    {
     "name": "stdout",
     "output_type": "stream",
     "text": [
      "(36, 3)\n"
     ]
    },
    {
     "name": "stderr",
     "output_type": "stream",
     "text": [
      "\r",
      " 29%|███████████▏                           | 286/1000 [01:59<04:19,  2.75it/s]"
     ]
    },
    {
     "name": "stdout",
     "output_type": "stream",
     "text": [
      "(35, 3)\n"
     ]
    },
    {
     "name": "stderr",
     "output_type": "stream",
     "text": [
      " 29%|███████████▏                           | 288/1000 [01:59<03:38,  3.26it/s]"
     ]
    },
    {
     "name": "stdout",
     "output_type": "stream",
     "text": [
      "(41, 3)\n",
      "(35, 3)\n"
     ]
    },
    {
     "name": "stderr",
     "output_type": "stream",
     "text": [
      "\r",
      " 29%|███████████▎                           | 289/1000 [02:00<03:35,  3.30it/s]"
     ]
    },
    {
     "name": "stdout",
     "output_type": "stream",
     "text": [
      "(36, 3)\n"
     ]
    },
    {
     "name": "stderr",
     "output_type": "stream",
     "text": [
      " 29%|███████████▎                           | 291/1000 [02:00<03:34,  3.31it/s]"
     ]
    },
    {
     "name": "stdout",
     "output_type": "stream",
     "text": [
      "(40, 3)\n",
      "(36, 3)\n"
     ]
    },
    {
     "name": "stderr",
     "output_type": "stream",
     "text": [
      "\r",
      " 29%|███████████▍                           | 292/1000 [02:01<03:42,  3.19it/s]"
     ]
    },
    {
     "name": "stdout",
     "output_type": "stream",
     "text": [
      "(37, 3)\n"
     ]
    },
    {
     "name": "stderr",
     "output_type": "stream",
     "text": [
      "\r",
      " 29%|███████████▍                           | 293/1000 [02:01<03:30,  3.36it/s]"
     ]
    },
    {
     "name": "stdout",
     "output_type": "stream",
     "text": [
      "(41, 3)\n"
     ]
    },
    {
     "name": "stderr",
     "output_type": "stream",
     "text": [
      "\r",
      " 29%|███████████▍                           | 294/1000 [02:01<03:19,  3.54it/s]"
     ]
    },
    {
     "name": "stdout",
     "output_type": "stream",
     "text": [
      "(40, 3)\n"
     ]
    },
    {
     "name": "stderr",
     "output_type": "stream",
     "text": [
      "\r",
      " 30%|███████████▌                           | 295/1000 [02:01<03:02,  3.86it/s]"
     ]
    },
    {
     "name": "stdout",
     "output_type": "stream",
     "text": [
      "(37, 3)\n"
     ]
    },
    {
     "name": "stderr",
     "output_type": "stream",
     "text": [
      "\r",
      " 30%|███████████▌                           | 296/1000 [02:02<03:11,  3.68it/s]"
     ]
    },
    {
     "name": "stdout",
     "output_type": "stream",
     "text": [
      "(37, 3)\n"
     ]
    },
    {
     "name": "stderr",
     "output_type": "stream",
     "text": [
      "\r",
      " 30%|███████████▌                           | 297/1000 [02:02<02:58,  3.94it/s]"
     ]
    },
    {
     "name": "stdout",
     "output_type": "stream",
     "text": [
      "(36, 3)\n"
     ]
    },
    {
     "name": "stderr",
     "output_type": "stream",
     "text": [
      "\r",
      " 30%|███████████▌                           | 298/1000 [02:02<02:55,  3.99it/s]"
     ]
    },
    {
     "name": "stdout",
     "output_type": "stream",
     "text": [
      "(42, 3)\n"
     ]
    },
    {
     "name": "stderr",
     "output_type": "stream",
     "text": [
      "\r",
      " 30%|███████████▋                           | 299/1000 [02:02<02:46,  4.20it/s]"
     ]
    },
    {
     "name": "stdout",
     "output_type": "stream",
     "text": [
      "(37, 3)\n"
     ]
    },
    {
     "name": "stderr",
     "output_type": "stream",
     "text": [
      "\r",
      " 30%|███████████▋                           | 300/1000 [02:03<04:26,  2.63it/s]"
     ]
    },
    {
     "name": "stdout",
     "output_type": "stream",
     "text": [
      "(42, 3)\n"
     ]
    },
    {
     "name": "stderr",
     "output_type": "stream",
     "text": [
      "\r",
      " 30%|███████████▋                           | 301/1000 [02:03<05:08,  2.26it/s]"
     ]
    },
    {
     "name": "stdout",
     "output_type": "stream",
     "text": [
      "(36, 3)\n"
     ]
    },
    {
     "name": "stderr",
     "output_type": "stream",
     "text": [
      "\r",
      " 30%|███████████▊                           | 302/1000 [02:04<05:07,  2.27it/s]"
     ]
    },
    {
     "name": "stdout",
     "output_type": "stream",
     "text": [
      "(33, 3)\n"
     ]
    },
    {
     "name": "stderr",
     "output_type": "stream",
     "text": [
      "\r",
      " 30%|███████████▊                           | 303/1000 [02:04<05:01,  2.31it/s]"
     ]
    },
    {
     "name": "stdout",
     "output_type": "stream",
     "text": [
      "(42, 3)\n"
     ]
    },
    {
     "name": "stderr",
     "output_type": "stream",
     "text": [
      "\r",
      " 30%|███████████▊                           | 304/1000 [02:05<05:25,  2.14it/s]"
     ]
    },
    {
     "name": "stdout",
     "output_type": "stream",
     "text": [
      "(38, 3)\n"
     ]
    },
    {
     "name": "stderr",
     "output_type": "stream",
     "text": [
      "\r",
      " 30%|███████████▉                           | 305/1000 [02:05<05:41,  2.03it/s]"
     ]
    },
    {
     "name": "stdout",
     "output_type": "stream",
     "text": [
      "(44, 3)\n"
     ]
    },
    {
     "name": "stderr",
     "output_type": "stream",
     "text": [
      "\r",
      " 31%|███████████▉                           | 306/1000 [02:06<06:57,  1.66it/s]"
     ]
    },
    {
     "name": "stdout",
     "output_type": "stream",
     "text": [
      "(42, 3)\n"
     ]
    },
    {
     "name": "stderr",
     "output_type": "stream",
     "text": [
      "\r",
      " 31%|███████████▉                           | 307/1000 [02:07<06:28,  1.79it/s]"
     ]
    },
    {
     "name": "stdout",
     "output_type": "stream",
     "text": [
      "(38, 3)\n"
     ]
    },
    {
     "name": "stderr",
     "output_type": "stream",
     "text": [
      "\r",
      " 31%|████████████                           | 308/1000 [02:08<07:24,  1.56it/s]"
     ]
    },
    {
     "name": "stdout",
     "output_type": "stream",
     "text": [
      "(37, 3)\n"
     ]
    },
    {
     "name": "stderr",
     "output_type": "stream",
     "text": [
      "\r",
      " 31%|████████████                           | 309/1000 [02:08<07:31,  1.53it/s]"
     ]
    },
    {
     "name": "stdout",
     "output_type": "stream",
     "text": [
      "(40, 3)\n"
     ]
    },
    {
     "name": "stderr",
     "output_type": "stream",
     "text": [
      "\r",
      " 31%|████████████                           | 310/1000 [02:09<06:24,  1.79it/s]"
     ]
    },
    {
     "name": "stdout",
     "output_type": "stream",
     "text": [
      "(34, 3)\n"
     ]
    },
    {
     "name": "stderr",
     "output_type": "stream",
     "text": [
      "\r",
      " 31%|████████████▏                          | 311/1000 [02:10<10:43,  1.07it/s]"
     ]
    },
    {
     "name": "stdout",
     "output_type": "stream",
     "text": [
      "(43, 3)\n"
     ]
    },
    {
     "name": "stderr",
     "output_type": "stream",
     "text": [
      "\r",
      " 31%|████████████▏                          | 312/1000 [02:11<10:19,  1.11it/s]"
     ]
    },
    {
     "name": "stdout",
     "output_type": "stream",
     "text": [
      "(45, 3)\n"
     ]
    },
    {
     "name": "stderr",
     "output_type": "stream",
     "text": [
      "\r",
      " 31%|████████████▏                          | 313/1000 [02:12<08:37,  1.33it/s]"
     ]
    },
    {
     "name": "stdout",
     "output_type": "stream",
     "text": [
      "(38, 3)\n"
     ]
    },
    {
     "name": "stderr",
     "output_type": "stream",
     "text": [
      "\r",
      " 31%|████████████▏                          | 314/1000 [02:12<08:18,  1.38it/s]"
     ]
    },
    {
     "name": "stdout",
     "output_type": "stream",
     "text": [
      "(37, 3)\n"
     ]
    },
    {
     "name": "stderr",
     "output_type": "stream",
     "text": [
      "\r",
      " 32%|████████████▎                          | 315/1000 [02:13<08:11,  1.39it/s]"
     ]
    },
    {
     "name": "stdout",
     "output_type": "stream",
     "text": [
      "(37, 3)\n"
     ]
    },
    {
     "name": "stderr",
     "output_type": "stream",
     "text": [
      "\r",
      " 32%|████████████▎                          | 316/1000 [02:15<11:04,  1.03it/s]"
     ]
    },
    {
     "name": "stdout",
     "output_type": "stream",
     "text": [
      "(39, 3)\n"
     ]
    },
    {
     "name": "stderr",
     "output_type": "stream",
     "text": [
      "\r",
      " 32%|████████████▎                          | 317/1000 [02:15<09:30,  1.20it/s]"
     ]
    },
    {
     "name": "stdout",
     "output_type": "stream",
     "text": [
      "(42, 3)\n"
     ]
    },
    {
     "name": "stderr",
     "output_type": "stream",
     "text": [
      "\r",
      " 32%|████████████▍                          | 318/1000 [02:15<08:01,  1.42it/s]"
     ]
    },
    {
     "name": "stdout",
     "output_type": "stream",
     "text": [
      "(38, 3)\n"
     ]
    },
    {
     "name": "stderr",
     "output_type": "stream",
     "text": [
      "\r",
      " 32%|████████████▍                          | 319/1000 [02:16<07:00,  1.62it/s]"
     ]
    },
    {
     "name": "stdout",
     "output_type": "stream",
     "text": [
      "(41, 3)\n"
     ]
    },
    {
     "name": "stderr",
     "output_type": "stream",
     "text": [
      "\r",
      " 32%|████████████▍                          | 320/1000 [02:17<07:22,  1.54it/s]"
     ]
    },
    {
     "name": "stdout",
     "output_type": "stream",
     "text": [
      "(43, 3)\n"
     ]
    },
    {
     "name": "stderr",
     "output_type": "stream",
     "text": [
      "\r",
      " 32%|████████████▌                          | 321/1000 [02:17<06:41,  1.69it/s]"
     ]
    },
    {
     "name": "stdout",
     "output_type": "stream",
     "text": [
      "(41, 3)\n"
     ]
    },
    {
     "name": "stderr",
     "output_type": "stream",
     "text": [
      "\r",
      " 32%|████████████▌                          | 322/1000 [02:18<06:59,  1.61it/s]"
     ]
    },
    {
     "name": "stdout",
     "output_type": "stream",
     "text": [
      "(38, 3)\n"
     ]
    },
    {
     "name": "stderr",
     "output_type": "stream",
     "text": [
      "\r",
      " 32%|████████████▌                          | 323/1000 [02:18<06:11,  1.82it/s]"
     ]
    },
    {
     "name": "stdout",
     "output_type": "stream",
     "text": [
      "(36, 3)\n"
     ]
    },
    {
     "name": "stderr",
     "output_type": "stream",
     "text": [
      "\r",
      " 32%|████████████▋                          | 324/1000 [02:19<05:31,  2.04it/s]"
     ]
    },
    {
     "name": "stdout",
     "output_type": "stream",
     "text": [
      "(38, 3)\n"
     ]
    },
    {
     "name": "stderr",
     "output_type": "stream",
     "text": [
      "\r",
      " 32%|████████████▋                          | 325/1000 [02:19<05:18,  2.12it/s]"
     ]
    },
    {
     "name": "stdout",
     "output_type": "stream",
     "text": [
      "(38, 3)\n"
     ]
    },
    {
     "name": "stderr",
     "output_type": "stream",
     "text": [
      "\r",
      " 33%|████████████▋                          | 326/1000 [02:19<05:15,  2.13it/s]"
     ]
    },
    {
     "name": "stdout",
     "output_type": "stream",
     "text": [
      "(37, 3)\n"
     ]
    },
    {
     "name": "stderr",
     "output_type": "stream",
     "text": [
      "\r",
      " 33%|████████████▊                          | 327/1000 [02:20<04:59,  2.25it/s]"
     ]
    },
    {
     "name": "stdout",
     "output_type": "stream",
     "text": [
      "(38, 3)\n"
     ]
    },
    {
     "name": "stderr",
     "output_type": "stream",
     "text": [
      "\r",
      " 33%|████████████▊                          | 328/1000 [02:20<04:54,  2.28it/s]"
     ]
    },
    {
     "name": "stdout",
     "output_type": "stream",
     "text": [
      "(40, 3)\n"
     ]
    },
    {
     "name": "stderr",
     "output_type": "stream",
     "text": [
      "\r",
      " 33%|████████████▊                          | 329/1000 [02:21<05:15,  2.13it/s]"
     ]
    },
    {
     "name": "stdout",
     "output_type": "stream",
     "text": [
      "(44, 3)\n"
     ]
    },
    {
     "name": "stderr",
     "output_type": "stream",
     "text": [
      "\r",
      " 33%|████████████▊                          | 330/1000 [02:22<06:12,  1.80it/s]"
     ]
    },
    {
     "name": "stdout",
     "output_type": "stream",
     "text": [
      "(38, 3)\n"
     ]
    },
    {
     "name": "stderr",
     "output_type": "stream",
     "text": [
      "\r",
      " 33%|████████████▉                          | 331/1000 [02:22<05:28,  2.04it/s]"
     ]
    },
    {
     "name": "stdout",
     "output_type": "stream",
     "text": [
      "(37, 3)\n"
     ]
    },
    {
     "name": "stderr",
     "output_type": "stream",
     "text": [
      "\r",
      " 33%|████████████▉                          | 332/1000 [02:22<05:16,  2.11it/s]"
     ]
    },
    {
     "name": "stdout",
     "output_type": "stream",
     "text": [
      "(40, 3)\n"
     ]
    },
    {
     "name": "stderr",
     "output_type": "stream",
     "text": [
      "\r",
      " 33%|████████████▉                          | 333/1000 [02:23<05:27,  2.03it/s]"
     ]
    },
    {
     "name": "stdout",
     "output_type": "stream",
     "text": [
      "(38, 3)\n"
     ]
    },
    {
     "name": "stderr",
     "output_type": "stream",
     "text": [
      "\r",
      " 33%|█████████████                          | 334/1000 [02:24<06:39,  1.67it/s]"
     ]
    },
    {
     "name": "stdout",
     "output_type": "stream",
     "text": [
      "(39, 3)\n"
     ]
    },
    {
     "name": "stderr",
     "output_type": "stream",
     "text": [
      "\r",
      " 34%|█████████████                          | 335/1000 [02:24<07:17,  1.52it/s]"
     ]
    },
    {
     "name": "stdout",
     "output_type": "stream",
     "text": [
      "(43, 3)\n"
     ]
    },
    {
     "name": "stderr",
     "output_type": "stream",
     "text": [
      "\r",
      " 34%|█████████████                          | 336/1000 [02:25<06:47,  1.63it/s]"
     ]
    },
    {
     "name": "stdout",
     "output_type": "stream",
     "text": [
      "(43, 3)\n"
     ]
    },
    {
     "name": "stderr",
     "output_type": "stream",
     "text": [
      "\r",
      " 34%|█████████████▏                         | 337/1000 [02:26<06:33,  1.68it/s]"
     ]
    },
    {
     "name": "stdout",
     "output_type": "stream",
     "text": [
      "(37, 3)\n"
     ]
    },
    {
     "name": "stderr",
     "output_type": "stream",
     "text": [
      "\r",
      " 34%|█████████████▏                         | 338/1000 [02:26<06:06,  1.80it/s]"
     ]
    },
    {
     "name": "stdout",
     "output_type": "stream",
     "text": [
      "(46, 3)\n"
     ]
    },
    {
     "name": "stderr",
     "output_type": "stream",
     "text": [
      "\r",
      " 34%|█████████████▏                         | 339/1000 [02:26<05:57,  1.85it/s]"
     ]
    },
    {
     "name": "stdout",
     "output_type": "stream",
     "text": [
      "(44, 3)\n"
     ]
    },
    {
     "name": "stderr",
     "output_type": "stream",
     "text": [
      "\r",
      " 34%|█████████████▎                         | 340/1000 [02:27<05:46,  1.91it/s]"
     ]
    },
    {
     "name": "stdout",
     "output_type": "stream",
     "text": [
      "(44, 3)\n"
     ]
    },
    {
     "name": "stderr",
     "output_type": "stream",
     "text": [
      "\r",
      " 34%|█████████████▎                         | 341/1000 [02:28<06:44,  1.63it/s]"
     ]
    },
    {
     "name": "stdout",
     "output_type": "stream",
     "text": [
      "(43, 3)\n"
     ]
    },
    {
     "name": "stderr",
     "output_type": "stream",
     "text": [
      "\r",
      " 34%|█████████████▎                         | 342/1000 [02:28<06:17,  1.74it/s]"
     ]
    },
    {
     "name": "stdout",
     "output_type": "stream",
     "text": [
      "(42, 3)\n"
     ]
    },
    {
     "name": "stderr",
     "output_type": "stream",
     "text": [
      "\r",
      " 34%|█████████████▍                         | 343/1000 [02:29<05:49,  1.88it/s]"
     ]
    },
    {
     "name": "stdout",
     "output_type": "stream",
     "text": [
      "(43, 3)\n"
     ]
    },
    {
     "name": "stderr",
     "output_type": "stream",
     "text": [
      "\r",
      " 34%|█████████████▍                         | 344/1000 [02:29<05:13,  2.09it/s]"
     ]
    },
    {
     "name": "stdout",
     "output_type": "stream",
     "text": [
      "(40, 3)\n"
     ]
    },
    {
     "name": "stderr",
     "output_type": "stream",
     "text": [
      "\r",
      " 34%|█████████████▍                         | 345/1000 [02:29<04:40,  2.34it/s]"
     ]
    },
    {
     "name": "stdout",
     "output_type": "stream",
     "text": [
      "(35, 3)\n"
     ]
    },
    {
     "name": "stderr",
     "output_type": "stream",
     "text": [
      "\r",
      " 35%|█████████████▍                         | 346/1000 [02:30<04:16,  2.55it/s]"
     ]
    },
    {
     "name": "stdout",
     "output_type": "stream",
     "text": [
      "(35, 3)\n"
     ]
    },
    {
     "name": "stderr",
     "output_type": "stream",
     "text": [
      "\r",
      " 35%|█████████████▌                         | 347/1000 [02:30<03:58,  2.74it/s]"
     ]
    },
    {
     "name": "stdout",
     "output_type": "stream",
     "text": [
      "(35, 3)\n"
     ]
    },
    {
     "name": "stderr",
     "output_type": "stream",
     "text": [
      "\r",
      " 35%|█████████████▌                         | 348/1000 [02:31<06:06,  1.78it/s]"
     ]
    },
    {
     "name": "stdout",
     "output_type": "stream",
     "text": [
      "(36, 3)\n"
     ]
    },
    {
     "name": "stderr",
     "output_type": "stream",
     "text": [
      "\r",
      " 35%|█████████████▌                         | 349/1000 [02:32<07:26,  1.46it/s]"
     ]
    },
    {
     "name": "stdout",
     "output_type": "stream",
     "text": [
      "(47, 3)\n"
     ]
    },
    {
     "name": "stderr",
     "output_type": "stream",
     "text": [
      "\r",
      " 35%|█████████████▋                         | 350/1000 [02:33<07:51,  1.38it/s]"
     ]
    },
    {
     "name": "stdout",
     "output_type": "stream",
     "text": [
      "(40, 3)\n"
     ]
    },
    {
     "name": "stderr",
     "output_type": "stream",
     "text": [
      "\r",
      " 35%|█████████████▋                         | 351/1000 [02:33<07:26,  1.45it/s]"
     ]
    },
    {
     "name": "stdout",
     "output_type": "stream",
     "text": [
      "(40, 3)\n"
     ]
    },
    {
     "name": "stderr",
     "output_type": "stream",
     "text": [
      "\r",
      " 35%|█████████████▋                         | 352/1000 [02:34<06:29,  1.66it/s]"
     ]
    },
    {
     "name": "stdout",
     "output_type": "stream",
     "text": [
      "(41, 3)\n"
     ]
    },
    {
     "name": "stderr",
     "output_type": "stream",
     "text": [
      "\r",
      " 35%|█████████████▊                         | 353/1000 [02:34<05:56,  1.82it/s]"
     ]
    },
    {
     "name": "stdout",
     "output_type": "stream",
     "text": [
      "(41, 3)\n"
     ]
    },
    {
     "name": "stderr",
     "output_type": "stream",
     "text": [
      "\r",
      " 35%|█████████████▊                         | 354/1000 [02:35<05:49,  1.85it/s]"
     ]
    },
    {
     "name": "stdout",
     "output_type": "stream",
     "text": [
      "(43, 3)\n"
     ]
    },
    {
     "name": "stderr",
     "output_type": "stream",
     "text": [
      "\r",
      " 36%|█████████████▊                         | 355/1000 [02:35<05:31,  1.95it/s]"
     ]
    },
    {
     "name": "stdout",
     "output_type": "stream",
     "text": [
      "(42, 3)\n"
     ]
    },
    {
     "name": "stderr",
     "output_type": "stream",
     "text": [
      "\r",
      " 36%|█████████████▉                         | 356/1000 [02:35<04:47,  2.24it/s]"
     ]
    },
    {
     "name": "stdout",
     "output_type": "stream",
     "text": [
      "(35, 3)\n"
     ]
    },
    {
     "name": "stderr",
     "output_type": "stream",
     "text": [
      "\r",
      " 36%|█████████████▉                         | 357/1000 [02:36<04:35,  2.33it/s]"
     ]
    },
    {
     "name": "stdout",
     "output_type": "stream",
     "text": [
      "(40, 3)\n"
     ]
    },
    {
     "name": "stderr",
     "output_type": "stream",
     "text": [
      "\r",
      " 36%|█████████████▉                         | 358/1000 [02:37<05:19,  2.01it/s]"
     ]
    },
    {
     "name": "stdout",
     "output_type": "stream",
     "text": [
      "(39, 3)\n"
     ]
    },
    {
     "name": "stderr",
     "output_type": "stream",
     "text": [
      "\r",
      " 36%|██████████████                         | 359/1000 [02:37<05:07,  2.08it/s]"
     ]
    },
    {
     "name": "stdout",
     "output_type": "stream",
     "text": [
      "(40, 3)\n"
     ]
    },
    {
     "name": "stderr",
     "output_type": "stream",
     "text": [
      "\r",
      " 36%|██████████████                         | 360/1000 [02:37<04:44,  2.25it/s]"
     ]
    },
    {
     "name": "stdout",
     "output_type": "stream",
     "text": [
      "(39, 3)\n"
     ]
    },
    {
     "name": "stderr",
     "output_type": "stream",
     "text": [
      "\r",
      " 36%|██████████████                         | 361/1000 [02:38<04:19,  2.46it/s]"
     ]
    },
    {
     "name": "stdout",
     "output_type": "stream",
     "text": [
      "(35, 3)\n"
     ]
    },
    {
     "name": "stderr",
     "output_type": "stream",
     "text": [
      "\r",
      " 36%|██████████████                         | 362/1000 [02:38<04:44,  2.24it/s]"
     ]
    },
    {
     "name": "stdout",
     "output_type": "stream",
     "text": [
      "(39, 3)\n"
     ]
    },
    {
     "name": "stderr",
     "output_type": "stream",
     "text": [
      "\r",
      " 36%|██████████████▏                        | 363/1000 [02:38<04:14,  2.51it/s]"
     ]
    },
    {
     "name": "stdout",
     "output_type": "stream",
     "text": [
      "(36, 3)\n"
     ]
    },
    {
     "name": "stderr",
     "output_type": "stream",
     "text": [
      "\r",
      " 36%|██████████████▏                        | 364/1000 [02:39<04:29,  2.36it/s]"
     ]
    },
    {
     "name": "stdout",
     "output_type": "stream",
     "text": [
      "(37, 3)\n"
     ]
    },
    {
     "name": "stderr",
     "output_type": "stream",
     "text": [
      "\r",
      " 36%|██████████████▏                        | 365/1000 [02:39<04:40,  2.26it/s]"
     ]
    },
    {
     "name": "stdout",
     "output_type": "stream",
     "text": [
      "(37, 3)\n"
     ]
    },
    {
     "name": "stderr",
     "output_type": "stream",
     "text": [
      "\r",
      " 37%|██████████████▎                        | 366/1000 [02:40<04:17,  2.46it/s]"
     ]
    },
    {
     "name": "stdout",
     "output_type": "stream",
     "text": [
      "(37, 3)\n"
     ]
    },
    {
     "name": "stderr",
     "output_type": "stream",
     "text": [
      "\r",
      " 37%|██████████████▎                        | 367/1000 [02:40<04:57,  2.13it/s]"
     ]
    },
    {
     "name": "stdout",
     "output_type": "stream",
     "text": [
      "(41, 3)\n"
     ]
    },
    {
     "name": "stderr",
     "output_type": "stream",
     "text": [
      "\r",
      " 37%|██████████████▎                        | 368/1000 [02:41<04:47,  2.19it/s]"
     ]
    },
    {
     "name": "stdout",
     "output_type": "stream",
     "text": [
      "(40, 3)\n"
     ]
    },
    {
     "name": "stderr",
     "output_type": "stream",
     "text": [
      "\r",
      " 37%|██████████████▍                        | 369/1000 [02:41<04:22,  2.41it/s]"
     ]
    },
    {
     "name": "stdout",
     "output_type": "stream",
     "text": [
      "(37, 3)\n"
     ]
    },
    {
     "name": "stderr",
     "output_type": "stream",
     "text": [
      "\r",
      " 37%|██████████████▍                        | 370/1000 [02:41<04:08,  2.54it/s]"
     ]
    },
    {
     "name": "stdout",
     "output_type": "stream",
     "text": [
      "(37, 3)\n"
     ]
    },
    {
     "name": "stderr",
     "output_type": "stream",
     "text": [
      "\r",
      " 37%|██████████████▍                        | 371/1000 [02:42<05:22,  1.95it/s]"
     ]
    },
    {
     "name": "stdout",
     "output_type": "stream",
     "text": [
      "(36, 3)\n"
     ]
    },
    {
     "name": "stderr",
     "output_type": "stream",
     "text": [
      "\r",
      " 37%|██████████████▌                        | 372/1000 [02:43<04:44,  2.21it/s]"
     ]
    },
    {
     "name": "stdout",
     "output_type": "stream",
     "text": [
      "(39, 3)\n"
     ]
    },
    {
     "name": "stderr",
     "output_type": "stream",
     "text": [
      "\r",
      " 37%|██████████████▌                        | 373/1000 [02:43<05:24,  1.93it/s]"
     ]
    },
    {
     "name": "stdout",
     "output_type": "stream",
     "text": [
      "(43, 3)\n"
     ]
    },
    {
     "name": "stderr",
     "output_type": "stream",
     "text": [
      "\r",
      " 37%|██████████████▌                        | 374/1000 [02:44<06:09,  1.69it/s]"
     ]
    },
    {
     "name": "stdout",
     "output_type": "stream",
     "text": [
      "(40, 3)\n"
     ]
    },
    {
     "name": "stderr",
     "output_type": "stream",
     "text": [
      "\r",
      " 38%|██████████████▋                        | 375/1000 [02:44<05:19,  1.96it/s]"
     ]
    },
    {
     "name": "stdout",
     "output_type": "stream",
     "text": [
      "(37, 3)\n"
     ]
    },
    {
     "name": "stderr",
     "output_type": "stream",
     "text": [
      "\r",
      " 38%|██████████████▋                        | 376/1000 [02:45<04:52,  2.13it/s]"
     ]
    },
    {
     "name": "stdout",
     "output_type": "stream",
     "text": [
      "(37, 3)\n"
     ]
    },
    {
     "name": "stderr",
     "output_type": "stream",
     "text": [
      "\r",
      " 38%|██████████████▋                        | 377/1000 [02:45<04:32,  2.29it/s]"
     ]
    },
    {
     "name": "stdout",
     "output_type": "stream",
     "text": [
      "(38, 3)\n"
     ]
    },
    {
     "name": "stderr",
     "output_type": "stream",
     "text": [
      "\r",
      " 38%|██████████████▋                        | 378/1000 [02:45<04:08,  2.50it/s]"
     ]
    },
    {
     "name": "stdout",
     "output_type": "stream",
     "text": [
      "(39, 3)\n"
     ]
    },
    {
     "name": "stderr",
     "output_type": "stream",
     "text": [
      "\r",
      " 38%|██████████████▊                        | 379/1000 [02:46<05:11,  1.99it/s]"
     ]
    },
    {
     "name": "stdout",
     "output_type": "stream",
     "text": [
      "(40, 3)\n"
     ]
    },
    {
     "name": "stderr",
     "output_type": "stream",
     "text": [
      "\r",
      " 38%|██████████████▊                        | 380/1000 [02:46<04:32,  2.28it/s]"
     ]
    },
    {
     "name": "stdout",
     "output_type": "stream",
     "text": [
      "(37, 3)\n"
     ]
    },
    {
     "name": "stderr",
     "output_type": "stream",
     "text": [
      "\r",
      " 38%|██████████████▊                        | 381/1000 [02:47<04:39,  2.21it/s]"
     ]
    },
    {
     "name": "stdout",
     "output_type": "stream",
     "text": [
      "(37, 3)\n"
     ]
    },
    {
     "name": "stderr",
     "output_type": "stream",
     "text": [
      "\r",
      " 38%|██████████████▉                        | 382/1000 [02:47<04:08,  2.49it/s]"
     ]
    },
    {
     "name": "stdout",
     "output_type": "stream",
     "text": [
      "(38, 3)\n"
     ]
    },
    {
     "name": "stderr",
     "output_type": "stream",
     "text": [
      "\r",
      " 38%|██████████████▉                        | 383/1000 [02:48<04:47,  2.15it/s]"
     ]
    },
    {
     "name": "stdout",
     "output_type": "stream",
     "text": [
      "(38, 3)\n"
     ]
    },
    {
     "name": "stderr",
     "output_type": "stream",
     "text": [
      "\r",
      " 38%|██████████████▉                        | 384/1000 [02:48<04:16,  2.40it/s]"
     ]
    },
    {
     "name": "stdout",
     "output_type": "stream",
     "text": [
      "(37, 3)\n"
     ]
    },
    {
     "name": "stderr",
     "output_type": "stream",
     "text": [
      "\r",
      " 38%|███████████████                        | 385/1000 [02:48<03:53,  2.63it/s]"
     ]
    },
    {
     "name": "stdout",
     "output_type": "stream",
     "text": [
      "(36, 3)\n"
     ]
    },
    {
     "name": "stderr",
     "output_type": "stream",
     "text": [
      "\r",
      " 39%|███████████████                        | 386/1000 [02:49<04:01,  2.54it/s]"
     ]
    },
    {
     "name": "stdout",
     "output_type": "stream",
     "text": [
      "(43, 3)\n"
     ]
    },
    {
     "name": "stderr",
     "output_type": "stream",
     "text": [
      "\r",
      " 39%|███████████████                        | 387/1000 [02:49<03:26,  2.97it/s]"
     ]
    },
    {
     "name": "stdout",
     "output_type": "stream",
     "text": [
      "(36, 3)\n"
     ]
    },
    {
     "name": "stderr",
     "output_type": "stream",
     "text": [
      "\r",
      " 39%|███████████████▏                       | 388/1000 [02:50<05:47,  1.76it/s]"
     ]
    },
    {
     "name": "stdout",
     "output_type": "stream",
     "text": [
      "(36, 3)\n"
     ]
    },
    {
     "name": "stderr",
     "output_type": "stream",
     "text": [
      "\r",
      " 39%|███████████████▏                       | 389/1000 [02:50<04:49,  2.11it/s]"
     ]
    },
    {
     "name": "stdout",
     "output_type": "stream",
     "text": [
      "(34, 3)\n"
     ]
    },
    {
     "name": "stderr",
     "output_type": "stream",
     "text": [
      "\r",
      " 39%|███████████████▏                       | 390/1000 [02:51<04:31,  2.25it/s]"
     ]
    },
    {
     "name": "stdout",
     "output_type": "stream",
     "text": [
      "(40, 3)\n"
     ]
    },
    {
     "name": "stderr",
     "output_type": "stream",
     "text": [
      "\r",
      " 39%|███████████████▏                       | 391/1000 [02:51<04:54,  2.07it/s]"
     ]
    },
    {
     "name": "stdout",
     "output_type": "stream",
     "text": [
      "(37, 3)\n"
     ]
    },
    {
     "name": "stderr",
     "output_type": "stream",
     "text": [
      "\r",
      " 39%|███████████████▎                       | 392/1000 [02:53<07:30,  1.35it/s]"
     ]
    },
    {
     "name": "stdout",
     "output_type": "stream",
     "text": [
      "(43, 3)\n"
     ]
    },
    {
     "name": "stderr",
     "output_type": "stream",
     "text": [
      "\r",
      " 39%|███████████████▎                       | 393/1000 [02:53<06:13,  1.62it/s]"
     ]
    },
    {
     "name": "stdout",
     "output_type": "stream",
     "text": [
      "(37, 3)\n"
     ]
    },
    {
     "name": "stderr",
     "output_type": "stream",
     "text": [
      "\r",
      " 39%|███████████████▎                       | 394/1000 [02:54<06:13,  1.62it/s]"
     ]
    },
    {
     "name": "stdout",
     "output_type": "stream",
     "text": [
      "(37, 3)\n"
     ]
    },
    {
     "name": "stderr",
     "output_type": "stream",
     "text": [
      "\r",
      " 40%|███████████████▍                       | 395/1000 [02:54<05:51,  1.72it/s]"
     ]
    },
    {
     "name": "stdout",
     "output_type": "stream",
     "text": [
      "(40, 3)\n"
     ]
    },
    {
     "name": "stderr",
     "output_type": "stream",
     "text": [
      "\r",
      " 40%|███████████████▍                       | 396/1000 [02:55<05:35,  1.80it/s]"
     ]
    },
    {
     "name": "stdout",
     "output_type": "stream",
     "text": [
      "(37, 3)\n"
     ]
    },
    {
     "name": "stderr",
     "output_type": "stream",
     "text": [
      "\r",
      " 40%|███████████████▍                       | 397/1000 [02:55<04:51,  2.07it/s]"
     ]
    },
    {
     "name": "stdout",
     "output_type": "stream",
     "text": [
      "(39, 3)\n"
     ]
    },
    {
     "name": "stderr",
     "output_type": "stream",
     "text": [
      "\r",
      " 40%|███████████████▌                       | 398/1000 [02:55<04:17,  2.34it/s]"
     ]
    },
    {
     "name": "stdout",
     "output_type": "stream",
     "text": [
      "(37, 3)\n"
     ]
    },
    {
     "name": "stderr",
     "output_type": "stream",
     "text": [
      "\r",
      " 40%|███████████████▌                       | 399/1000 [02:56<05:39,  1.77it/s]"
     ]
    },
    {
     "name": "stdout",
     "output_type": "stream",
     "text": [
      "(42, 3)\n"
     ]
    },
    {
     "name": "stderr",
     "output_type": "stream",
     "text": [
      "\r",
      " 40%|███████████████▌                       | 400/1000 [02:57<05:44,  1.74it/s]"
     ]
    },
    {
     "name": "stdout",
     "output_type": "stream",
     "text": [
      "(40, 3)\n"
     ]
    },
    {
     "name": "stderr",
     "output_type": "stream",
     "text": [
      "\r",
      " 40%|███████████████▋                       | 401/1000 [02:57<05:07,  1.95it/s]"
     ]
    },
    {
     "name": "stdout",
     "output_type": "stream",
     "text": [
      "(42, 3)\n"
     ]
    },
    {
     "name": "stderr",
     "output_type": "stream",
     "text": [
      "\r",
      " 40%|███████████████▋                       | 402/1000 [02:58<04:49,  2.07it/s]"
     ]
    },
    {
     "name": "stdout",
     "output_type": "stream",
     "text": [
      "(40, 3)\n"
     ]
    },
    {
     "name": "stderr",
     "output_type": "stream",
     "text": [
      "\r",
      " 40%|███████████████▋                       | 403/1000 [02:58<04:48,  2.07it/s]"
     ]
    },
    {
     "name": "stdout",
     "output_type": "stream",
     "text": [
      "(39, 3)\n"
     ]
    },
    {
     "name": "stderr",
     "output_type": "stream",
     "text": [
      "\r",
      " 40%|███████████████▊                       | 404/1000 [02:58<04:14,  2.35it/s]"
     ]
    },
    {
     "name": "stdout",
     "output_type": "stream",
     "text": [
      "(40, 3)\n"
     ]
    },
    {
     "name": "stderr",
     "output_type": "stream",
     "text": [
      "\r",
      " 40%|███████████████▊                       | 405/1000 [02:59<03:55,  2.53it/s]"
     ]
    },
    {
     "name": "stdout",
     "output_type": "stream",
     "text": [
      "(39, 3)\n"
     ]
    },
    {
     "name": "stderr",
     "output_type": "stream",
     "text": [
      "\r",
      " 41%|███████████████▊                       | 406/1000 [02:59<04:03,  2.44it/s]"
     ]
    },
    {
     "name": "stdout",
     "output_type": "stream",
     "text": [
      "(39, 3)\n"
     ]
    },
    {
     "name": "stderr",
     "output_type": "stream",
     "text": [
      "\r",
      " 41%|███████████████▊                       | 407/1000 [02:59<03:29,  2.84it/s]"
     ]
    },
    {
     "name": "stdout",
     "output_type": "stream",
     "text": [
      "(38, 3)\n"
     ]
    },
    {
     "name": "stderr",
     "output_type": "stream",
     "text": [
      "\r",
      " 41%|███████████████▉                       | 408/1000 [03:00<03:12,  3.08it/s]"
     ]
    },
    {
     "name": "stdout",
     "output_type": "stream",
     "text": [
      "(42, 3)\n"
     ]
    },
    {
     "name": "stderr",
     "output_type": "stream",
     "text": [
      "\r",
      " 41%|███████████████▉                       | 409/1000 [03:00<04:04,  2.42it/s]"
     ]
    },
    {
     "name": "stdout",
     "output_type": "stream",
     "text": [
      "(40, 3)\n"
     ]
    },
    {
     "name": "stderr",
     "output_type": "stream",
     "text": [
      "\r",
      " 41%|███████████████▉                       | 410/1000 [03:01<03:54,  2.52it/s]"
     ]
    },
    {
     "name": "stdout",
     "output_type": "stream",
     "text": [
      "(39, 3)\n"
     ]
    },
    {
     "name": "stderr",
     "output_type": "stream",
     "text": [
      "\r",
      " 41%|████████████████                       | 411/1000 [03:01<04:09,  2.36it/s]"
     ]
    },
    {
     "name": "stdout",
     "output_type": "stream",
     "text": [
      "(38, 3)\n"
     ]
    },
    {
     "name": "stderr",
     "output_type": "stream",
     "text": [
      "\r",
      " 41%|████████████████                       | 412/1000 [03:01<03:40,  2.66it/s]"
     ]
    },
    {
     "name": "stdout",
     "output_type": "stream",
     "text": [
      "(39, 3)\n"
     ]
    },
    {
     "name": "stderr",
     "output_type": "stream",
     "text": [
      "\r",
      " 41%|████████████████                       | 413/1000 [03:02<03:18,  2.96it/s]"
     ]
    },
    {
     "name": "stdout",
     "output_type": "stream",
     "text": [
      "(40, 3)\n"
     ]
    },
    {
     "name": "stderr",
     "output_type": "stream",
     "text": [
      "\r",
      " 41%|████████████████▏                      | 414/1000 [03:02<03:08,  3.10it/s]"
     ]
    },
    {
     "name": "stdout",
     "output_type": "stream",
     "text": [
      "(38, 3)\n"
     ]
    },
    {
     "name": "stderr",
     "output_type": "stream",
     "text": [
      "\r",
      " 42%|████████████████▏                      | 415/1000 [03:02<02:55,  3.33it/s]"
     ]
    },
    {
     "name": "stdout",
     "output_type": "stream",
     "text": [
      "(36, 3)\n"
     ]
    },
    {
     "name": "stderr",
     "output_type": "stream",
     "text": [
      "\r",
      " 42%|████████████████▏                      | 416/1000 [03:02<03:08,  3.11it/s]"
     ]
    },
    {
     "name": "stdout",
     "output_type": "stream",
     "text": [
      "(41, 3)\n"
     ]
    },
    {
     "name": "stderr",
     "output_type": "stream",
     "text": [
      "\r",
      " 42%|████████████████▎                      | 417/1000 [03:03<03:28,  2.80it/s]"
     ]
    },
    {
     "name": "stdout",
     "output_type": "stream",
     "text": [
      "(43, 3)\n"
     ]
    },
    {
     "name": "stderr",
     "output_type": "stream",
     "text": [
      "\r",
      " 42%|████████████████▎                      | 418/1000 [03:03<04:11,  2.32it/s]"
     ]
    },
    {
     "name": "stdout",
     "output_type": "stream",
     "text": [
      "(41, 3)\n"
     ]
    },
    {
     "name": "stderr",
     "output_type": "stream",
     "text": [
      "\r",
      " 42%|████████████████▎                      | 419/1000 [03:04<04:26,  2.18it/s]"
     ]
    },
    {
     "name": "stdout",
     "output_type": "stream",
     "text": [
      "(48, 3)\n"
     ]
    },
    {
     "name": "stderr",
     "output_type": "stream",
     "text": [
      "\r",
      " 42%|████████████████▍                      | 420/1000 [03:04<04:31,  2.14it/s]"
     ]
    },
    {
     "name": "stdout",
     "output_type": "stream",
     "text": [
      "(40, 3)\n"
     ]
    },
    {
     "name": "stderr",
     "output_type": "stream",
     "text": [
      "\r",
      " 42%|████████████████▍                      | 421/1000 [03:05<03:55,  2.46it/s]"
     ]
    },
    {
     "name": "stdout",
     "output_type": "stream",
     "text": [
      "(36, 3)\n"
     ]
    },
    {
     "name": "stderr",
     "output_type": "stream",
     "text": [
      "\r",
      " 42%|████████████████▍                      | 422/1000 [03:05<03:28,  2.77it/s]"
     ]
    },
    {
     "name": "stdout",
     "output_type": "stream",
     "text": [
      "(36, 3)\n"
     ]
    },
    {
     "name": "stderr",
     "output_type": "stream",
     "text": [
      "\r",
      " 42%|████████████████▍                      | 423/1000 [03:06<04:27,  2.16it/s]"
     ]
    },
    {
     "name": "stdout",
     "output_type": "stream",
     "text": [
      "(36, 3)\n"
     ]
    },
    {
     "name": "stderr",
     "output_type": "stream",
     "text": [
      "\r",
      " 42%|████████████████▌                      | 424/1000 [03:06<05:24,  1.77it/s]"
     ]
    },
    {
     "name": "stdout",
     "output_type": "stream",
     "text": [
      "(38, 3)\n"
     ]
    },
    {
     "name": "stderr",
     "output_type": "stream",
     "text": [
      "\r",
      " 42%|████████████████▌                      | 425/1000 [03:07<04:30,  2.12it/s]"
     ]
    },
    {
     "name": "stdout",
     "output_type": "stream",
     "text": [
      "(35, 3)\n"
     ]
    },
    {
     "name": "stderr",
     "output_type": "stream",
     "text": [
      "\r",
      " 43%|████████████████▌                      | 426/1000 [03:07<03:51,  2.48it/s]"
     ]
    },
    {
     "name": "stdout",
     "output_type": "stream",
     "text": [
      "(34, 3)\n"
     ]
    },
    {
     "name": "stderr",
     "output_type": "stream",
     "text": [
      "\r",
      " 43%|████████████████▋                      | 427/1000 [03:08<06:49,  1.40it/s]"
     ]
    },
    {
     "name": "stdout",
     "output_type": "stream",
     "text": [
      "(39, 3)\n"
     ]
    },
    {
     "name": "stderr",
     "output_type": "stream",
     "text": [
      "\r",
      " 43%|████████████████▋                      | 428/1000 [03:09<05:28,  1.74it/s]"
     ]
    },
    {
     "name": "stdout",
     "output_type": "stream",
     "text": [
      "(34, 3)\n"
     ]
    },
    {
     "name": "stderr",
     "output_type": "stream",
     "text": [
      "\r",
      " 43%|████████████████▋                      | 429/1000 [03:09<05:16,  1.80it/s]"
     ]
    },
    {
     "name": "stdout",
     "output_type": "stream",
     "text": [
      "(37, 3)\n"
     ]
    },
    {
     "name": "stderr",
     "output_type": "stream",
     "text": [
      "\r",
      " 43%|████████████████▊                      | 430/1000 [03:10<05:39,  1.68it/s]"
     ]
    },
    {
     "name": "stdout",
     "output_type": "stream",
     "text": [
      "(37, 3)\n"
     ]
    },
    {
     "name": "stderr",
     "output_type": "stream",
     "text": [
      "\r",
      " 43%|████████████████▊                      | 431/1000 [03:10<05:01,  1.89it/s]"
     ]
    },
    {
     "name": "stdout",
     "output_type": "stream",
     "text": [
      "(36, 3)\n"
     ]
    },
    {
     "name": "stderr",
     "output_type": "stream",
     "text": [
      "\r",
      " 43%|████████████████▊                      | 432/1000 [03:11<04:13,  2.24it/s]"
     ]
    },
    {
     "name": "stdout",
     "output_type": "stream",
     "text": [
      "(36, 3)\n"
     ]
    },
    {
     "name": "stderr",
     "output_type": "stream",
     "text": [
      "\r",
      " 43%|████████████████▉                      | 433/1000 [03:11<04:04,  2.32it/s]"
     ]
    },
    {
     "name": "stdout",
     "output_type": "stream",
     "text": [
      "(36, 3)\n"
     ]
    },
    {
     "name": "stderr",
     "output_type": "stream",
     "text": [
      "\r",
      " 43%|████████████████▉                      | 434/1000 [03:11<03:51,  2.45it/s]"
     ]
    },
    {
     "name": "stdout",
     "output_type": "stream",
     "text": [
      "(35, 3)\n"
     ]
    },
    {
     "name": "stderr",
     "output_type": "stream",
     "text": [
      "\r",
      " 44%|████████████████▉                      | 435/1000 [03:11<03:22,  2.80it/s]"
     ]
    },
    {
     "name": "stdout",
     "output_type": "stream",
     "text": [
      "(35, 3)\n"
     ]
    },
    {
     "name": "stderr",
     "output_type": "stream",
     "text": [
      "\r",
      " 44%|█████████████████                      | 436/1000 [03:12<03:06,  3.03it/s]"
     ]
    },
    {
     "name": "stdout",
     "output_type": "stream",
     "text": [
      "(42, 3)\n"
     ]
    },
    {
     "name": "stderr",
     "output_type": "stream",
     "text": [
      "\r",
      " 44%|█████████████████                      | 437/1000 [03:12<03:01,  3.11it/s]"
     ]
    },
    {
     "name": "stdout",
     "output_type": "stream",
     "text": [
      "(40, 3)\n"
     ]
    },
    {
     "name": "stderr",
     "output_type": "stream",
     "text": [
      "\r",
      " 44%|█████████████████                      | 438/1000 [03:12<02:56,  3.18it/s]"
     ]
    },
    {
     "name": "stdout",
     "output_type": "stream",
     "text": [
      "(39, 3)\n"
     ]
    },
    {
     "name": "stderr",
     "output_type": "stream",
     "text": [
      "\r",
      " 44%|█████████████████                      | 439/1000 [03:13<02:54,  3.22it/s]"
     ]
    },
    {
     "name": "stdout",
     "output_type": "stream",
     "text": [
      "(39, 3)\n"
     ]
    },
    {
     "name": "stderr",
     "output_type": "stream",
     "text": [
      "\r",
      " 44%|█████████████████▏                     | 440/1000 [03:13<02:53,  3.23it/s]"
     ]
    },
    {
     "name": "stdout",
     "output_type": "stream",
     "text": [
      "(41, 3)\n"
     ]
    },
    {
     "name": "stderr",
     "output_type": "stream",
     "text": [
      "\r",
      " 44%|█████████████████▏                     | 441/1000 [03:13<02:55,  3.18it/s]"
     ]
    },
    {
     "name": "stdout",
     "output_type": "stream",
     "text": [
      "(38, 3)\n"
     ]
    },
    {
     "name": "stderr",
     "output_type": "stream",
     "text": [
      "\r",
      " 44%|█████████████████▏                     | 442/1000 [03:14<03:14,  2.88it/s]"
     ]
    },
    {
     "name": "stdout",
     "output_type": "stream",
     "text": [
      "(42, 3)\n"
     ]
    },
    {
     "name": "stderr",
     "output_type": "stream",
     "text": [
      "\r",
      " 44%|█████████████████▎                     | 443/1000 [03:14<03:17,  2.82it/s]"
     ]
    },
    {
     "name": "stdout",
     "output_type": "stream",
     "text": [
      "(41, 3)\n"
     ]
    },
    {
     "name": "stderr",
     "output_type": "stream",
     "text": [
      "\r",
      " 44%|█████████████████▎                     | 444/1000 [03:15<03:46,  2.45it/s]"
     ]
    },
    {
     "name": "stdout",
     "output_type": "stream",
     "text": [
      "(37, 3)\n"
     ]
    },
    {
     "name": "stderr",
     "output_type": "stream",
     "text": [
      "\r",
      " 44%|█████████████████▎                     | 445/1000 [03:15<03:30,  2.63it/s]"
     ]
    },
    {
     "name": "stdout",
     "output_type": "stream",
     "text": [
      "(39, 3)\n"
     ]
    },
    {
     "name": "stderr",
     "output_type": "stream",
     "text": [
      "\r",
      " 45%|█████████████████▍                     | 446/1000 [03:15<03:08,  2.95it/s]"
     ]
    },
    {
     "name": "stdout",
     "output_type": "stream",
     "text": [
      "(39, 3)\n"
     ]
    },
    {
     "name": "stderr",
     "output_type": "stream",
     "text": [
      "\r",
      " 45%|█████████████████▍                     | 447/1000 [03:15<02:53,  3.19it/s]"
     ]
    },
    {
     "name": "stdout",
     "output_type": "stream",
     "text": [
      "(39, 3)\n"
     ]
    },
    {
     "name": "stderr",
     "output_type": "stream",
     "text": [
      "\r",
      " 45%|█████████████████▍                     | 448/1000 [03:16<03:29,  2.64it/s]"
     ]
    },
    {
     "name": "stdout",
     "output_type": "stream",
     "text": [
      "(39, 3)\n"
     ]
    },
    {
     "name": "stderr",
     "output_type": "stream",
     "text": [
      "\r",
      " 45%|█████████████████▌                     | 449/1000 [03:16<03:15,  2.82it/s]"
     ]
    },
    {
     "name": "stdout",
     "output_type": "stream",
     "text": [
      "(39, 3)\n"
     ]
    },
    {
     "name": "stderr",
     "output_type": "stream",
     "text": [
      "\r",
      " 45%|█████████████████▌                     | 450/1000 [03:17<03:10,  2.89it/s]"
     ]
    },
    {
     "name": "stdout",
     "output_type": "stream",
     "text": [
      "(39, 3)\n"
     ]
    },
    {
     "name": "stderr",
     "output_type": "stream",
     "text": [
      "\r",
      " 45%|█████████████████▌                     | 451/1000 [03:17<03:24,  2.68it/s]"
     ]
    },
    {
     "name": "stdout",
     "output_type": "stream",
     "text": [
      "(46, 3)\n"
     ]
    },
    {
     "name": "stderr",
     "output_type": "stream",
     "text": [
      "\r",
      " 45%|█████████████████▋                     | 452/1000 [03:18<03:46,  2.42it/s]"
     ]
    },
    {
     "name": "stdout",
     "output_type": "stream",
     "text": [
      "(39, 3)\n"
     ]
    },
    {
     "name": "stderr",
     "output_type": "stream",
     "text": [
      "\r",
      " 45%|█████████████████▋                     | 453/1000 [03:18<03:33,  2.57it/s]"
     ]
    },
    {
     "name": "stdout",
     "output_type": "stream",
     "text": [
      "(38, 3)\n"
     ]
    },
    {
     "name": "stderr",
     "output_type": "stream",
     "text": [
      "\r",
      " 45%|█████████████████▋                     | 454/1000 [03:18<03:53,  2.34it/s]"
     ]
    },
    {
     "name": "stdout",
     "output_type": "stream",
     "text": [
      "(48, 3)\n"
     ]
    },
    {
     "name": "stderr",
     "output_type": "stream",
     "text": [
      "\r",
      " 46%|█████████████████▋                     | 455/1000 [03:19<03:35,  2.53it/s]"
     ]
    },
    {
     "name": "stdout",
     "output_type": "stream",
     "text": [
      "(38, 3)\n"
     ]
    },
    {
     "name": "stderr",
     "output_type": "stream",
     "text": [
      "\r",
      " 46%|█████████████████▊                     | 456/1000 [03:21<07:37,  1.19it/s]"
     ]
    },
    {
     "name": "stdout",
     "output_type": "stream",
     "text": [
      "(39, 3)\n"
     ]
    },
    {
     "name": "stderr",
     "output_type": "stream",
     "text": [
      "\r",
      " 46%|█████████████████▊                     | 457/1000 [03:21<06:10,  1.47it/s]"
     ]
    },
    {
     "name": "stdout",
     "output_type": "stream",
     "text": [
      "(41, 3)\n"
     ]
    },
    {
     "name": "stderr",
     "output_type": "stream",
     "text": [
      "\r",
      " 46%|█████████████████▊                     | 458/1000 [03:21<05:16,  1.71it/s]"
     ]
    },
    {
     "name": "stdout",
     "output_type": "stream",
     "text": [
      "(39, 3)\n"
     ]
    },
    {
     "name": "stderr",
     "output_type": "stream",
     "text": [
      "\r",
      " 46%|█████████████████▉                     | 459/1000 [03:22<04:41,  1.92it/s]"
     ]
    },
    {
     "name": "stdout",
     "output_type": "stream",
     "text": [
      "(39, 3)\n"
     ]
    },
    {
     "name": "stderr",
     "output_type": "stream",
     "text": [
      "\r",
      " 46%|█████████████████▉                     | 460/1000 [03:22<04:05,  2.20it/s]"
     ]
    },
    {
     "name": "stdout",
     "output_type": "stream",
     "text": [
      "(39, 3)\n"
     ]
    },
    {
     "name": "stderr",
     "output_type": "stream",
     "text": [
      "\r",
      " 46%|█████████████████▉                     | 461/1000 [03:22<03:55,  2.29it/s]"
     ]
    },
    {
     "name": "stdout",
     "output_type": "stream",
     "text": [
      "(38, 3)\n"
     ]
    },
    {
     "name": "stderr",
     "output_type": "stream",
     "text": [
      "\r",
      " 46%|██████████████████                     | 462/1000 [03:23<04:17,  2.09it/s]"
     ]
    },
    {
     "name": "stdout",
     "output_type": "stream",
     "text": [
      "(38, 3)\n"
     ]
    },
    {
     "name": "stderr",
     "output_type": "stream",
     "text": [
      "\r",
      " 46%|██████████████████                     | 463/1000 [03:23<03:52,  2.31it/s]"
     ]
    },
    {
     "name": "stdout",
     "output_type": "stream",
     "text": [
      "(38, 3)\n"
     ]
    },
    {
     "name": "stderr",
     "output_type": "stream",
     "text": [
      "\r",
      " 46%|██████████████████                     | 464/1000 [03:24<03:45,  2.38it/s]"
     ]
    },
    {
     "name": "stdout",
     "output_type": "stream",
     "text": [
      "(39, 3)\n"
     ]
    },
    {
     "name": "stderr",
     "output_type": "stream",
     "text": [
      "\r",
      " 46%|██████████████████▏                    | 465/1000 [03:24<03:18,  2.69it/s]"
     ]
    },
    {
     "name": "stdout",
     "output_type": "stream",
     "text": [
      "(34, 3)\n"
     ]
    },
    {
     "name": "stderr",
     "output_type": "stream",
     "text": [
      "\r",
      " 47%|██████████████████▏                    | 466/1000 [03:24<03:10,  2.81it/s]"
     ]
    },
    {
     "name": "stdout",
     "output_type": "stream",
     "text": [
      "(40, 3)\n"
     ]
    },
    {
     "name": "stderr",
     "output_type": "stream",
     "text": [
      "\r",
      " 47%|██████████████████▏                    | 467/1000 [03:24<02:53,  3.07it/s]"
     ]
    },
    {
     "name": "stdout",
     "output_type": "stream",
     "text": [
      "(37, 3)\n"
     ]
    },
    {
     "name": "stderr",
     "output_type": "stream",
     "text": [
      "\r",
      " 47%|██████████████████▎                    | 468/1000 [03:25<02:47,  3.17it/s]"
     ]
    },
    {
     "name": "stdout",
     "output_type": "stream",
     "text": [
      "(37, 3)\n"
     ]
    },
    {
     "name": "stderr",
     "output_type": "stream",
     "text": [
      "\r",
      " 47%|██████████████████▎                    | 469/1000 [03:25<03:01,  2.93it/s]"
     ]
    },
    {
     "name": "stdout",
     "output_type": "stream",
     "text": [
      "(39, 3)\n"
     ]
    },
    {
     "name": "stderr",
     "output_type": "stream",
     "text": [
      "\r",
      " 47%|██████████████████▎                    | 470/1000 [03:25<02:49,  3.12it/s]"
     ]
    },
    {
     "name": "stdout",
     "output_type": "stream",
     "text": [
      "(36, 3)\n"
     ]
    },
    {
     "name": "stderr",
     "output_type": "stream",
     "text": [
      "\r",
      " 47%|██████████████████▎                    | 471/1000 [03:26<02:53,  3.06it/s]"
     ]
    },
    {
     "name": "stdout",
     "output_type": "stream",
     "text": [
      "(41, 3)\n"
     ]
    },
    {
     "name": "stderr",
     "output_type": "stream",
     "text": [
      "\r",
      " 47%|██████████████████▍                    | 472/1000 [03:26<02:42,  3.24it/s]"
     ]
    },
    {
     "name": "stdout",
     "output_type": "stream",
     "text": [
      "(36, 3)\n"
     ]
    },
    {
     "name": "stderr",
     "output_type": "stream",
     "text": [
      "\r",
      " 47%|██████████████████▍                    | 473/1000 [03:26<02:30,  3.50it/s]"
     ]
    },
    {
     "name": "stdout",
     "output_type": "stream",
     "text": [
      "(36, 3)\n"
     ]
    },
    {
     "name": "stderr",
     "output_type": "stream",
     "text": [
      "\r",
      " 47%|██████████████████▍                    | 474/1000 [03:27<02:46,  3.15it/s]"
     ]
    },
    {
     "name": "stdout",
     "output_type": "stream",
     "text": [
      "(37, 3)\n"
     ]
    },
    {
     "name": "stderr",
     "output_type": "stream",
     "text": [
      "\r",
      " 48%|██████████████████▌                    | 475/1000 [03:27<03:26,  2.54it/s]"
     ]
    },
    {
     "name": "stdout",
     "output_type": "stream",
     "text": [
      "(34, 3)\n"
     ]
    },
    {
     "name": "stderr",
     "output_type": "stream",
     "text": [
      "\r",
      " 48%|██████████████████▌                    | 476/1000 [03:27<03:07,  2.79it/s]"
     ]
    },
    {
     "name": "stdout",
     "output_type": "stream",
     "text": [
      "(34, 3)\n"
     ]
    },
    {
     "name": "stderr",
     "output_type": "stream",
     "text": [
      "\r",
      " 48%|██████████████████▌                    | 477/1000 [03:28<04:12,  2.07it/s]"
     ]
    },
    {
     "name": "stdout",
     "output_type": "stream",
     "text": [
      "(36, 3)\n"
     ]
    },
    {
     "name": "stderr",
     "output_type": "stream",
     "text": [
      "\r",
      " 48%|██████████████████▋                    | 478/1000 [03:28<03:30,  2.48it/s]"
     ]
    },
    {
     "name": "stdout",
     "output_type": "stream",
     "text": [
      "(37, 3)\n"
     ]
    },
    {
     "name": "stderr",
     "output_type": "stream",
     "text": [
      "\r",
      " 48%|██████████████████▋                    | 479/1000 [03:29<04:46,  1.82it/s]"
     ]
    },
    {
     "name": "stdout",
     "output_type": "stream",
     "text": [
      "(38, 3)\n"
     ]
    },
    {
     "name": "stderr",
     "output_type": "stream",
     "text": [
      "\r",
      " 48%|██████████████████▋                    | 480/1000 [03:30<04:05,  2.12it/s]"
     ]
    },
    {
     "name": "stdout",
     "output_type": "stream",
     "text": [
      "(38, 3)\n"
     ]
    },
    {
     "name": "stderr",
     "output_type": "stream",
     "text": [
      "\r",
      " 48%|██████████████████▊                    | 481/1000 [03:31<07:02,  1.23it/s]"
     ]
    },
    {
     "name": "stdout",
     "output_type": "stream",
     "text": [
      "(44, 3)\n"
     ]
    },
    {
     "name": "stderr",
     "output_type": "stream",
     "text": [
      "\r",
      " 48%|██████████████████▊                    | 482/1000 [03:31<05:30,  1.57it/s]"
     ]
    },
    {
     "name": "stdout",
     "output_type": "stream",
     "text": [
      "(35, 3)\n"
     ]
    },
    {
     "name": "stderr",
     "output_type": "stream",
     "text": [
      "\r",
      " 48%|██████████████████▊                    | 483/1000 [03:32<04:58,  1.73it/s]"
     ]
    },
    {
     "name": "stdout",
     "output_type": "stream",
     "text": [
      "(34, 3)\n"
     ]
    },
    {
     "name": "stderr",
     "output_type": "stream",
     "text": [
      "\r",
      " 48%|██████████████████▉                    | 484/1000 [03:33<05:13,  1.65it/s]"
     ]
    },
    {
     "name": "stdout",
     "output_type": "stream",
     "text": [
      "(41, 3)\n"
     ]
    },
    {
     "name": "stderr",
     "output_type": "stream",
     "text": [
      "\r",
      " 48%|██████████████████▉                    | 485/1000 [03:33<04:26,  1.93it/s]"
     ]
    },
    {
     "name": "stdout",
     "output_type": "stream",
     "text": [
      "(37, 3)\n"
     ]
    },
    {
     "name": "stderr",
     "output_type": "stream",
     "text": [
      "\r",
      " 49%|██████████████████▉                    | 486/1000 [03:34<04:41,  1.82it/s]"
     ]
    },
    {
     "name": "stdout",
     "output_type": "stream",
     "text": [
      "(40, 3)\n"
     ]
    },
    {
     "name": "stderr",
     "output_type": "stream",
     "text": [
      "\r",
      " 49%|██████████████████▉                    | 487/1000 [03:34<04:10,  2.04it/s]"
     ]
    },
    {
     "name": "stdout",
     "output_type": "stream",
     "text": [
      "(40, 3)\n"
     ]
    },
    {
     "name": "stderr",
     "output_type": "stream",
     "text": [
      "\r",
      " 49%|███████████████████                    | 488/1000 [03:34<03:40,  2.33it/s]"
     ]
    },
    {
     "name": "stdout",
     "output_type": "stream",
     "text": [
      "(37, 3)\n"
     ]
    },
    {
     "name": "stderr",
     "output_type": "stream",
     "text": [
      "\r",
      " 49%|███████████████████                    | 489/1000 [03:35<03:23,  2.51it/s]"
     ]
    },
    {
     "name": "stdout",
     "output_type": "stream",
     "text": [
      "(37, 3)\n"
     ]
    },
    {
     "name": "stderr",
     "output_type": "stream",
     "text": [
      "\r",
      " 49%|███████████████████                    | 490/1000 [03:35<03:03,  2.78it/s]"
     ]
    },
    {
     "name": "stdout",
     "output_type": "stream",
     "text": [
      "(33, 3)\n"
     ]
    },
    {
     "name": "stderr",
     "output_type": "stream",
     "text": [
      "\r",
      " 49%|███████████████████▏                   | 491/1000 [03:35<03:03,  2.78it/s]"
     ]
    },
    {
     "name": "stdout",
     "output_type": "stream",
     "text": [
      "(37, 3)\n"
     ]
    },
    {
     "name": "stderr",
     "output_type": "stream",
     "text": [
      "\r",
      " 49%|███████████████████▏                   | 492/1000 [03:36<03:19,  2.54it/s]"
     ]
    },
    {
     "name": "stdout",
     "output_type": "stream",
     "text": [
      "(36, 3)\n"
     ]
    },
    {
     "name": "stderr",
     "output_type": "stream",
     "text": [
      "\r",
      " 49%|███████████████████▏                   | 493/1000 [03:36<03:08,  2.69it/s]"
     ]
    },
    {
     "name": "stdout",
     "output_type": "stream",
     "text": [
      "(36, 3)\n"
     ]
    },
    {
     "name": "stderr",
     "output_type": "stream",
     "text": [
      "\r",
      " 49%|███████████████████▎                   | 494/1000 [03:36<03:03,  2.76it/s]"
     ]
    },
    {
     "name": "stdout",
     "output_type": "stream",
     "text": [
      "(36, 3)\n"
     ]
    },
    {
     "name": "stderr",
     "output_type": "stream",
     "text": [
      "\r",
      " 50%|███████████████████▎                   | 495/1000 [03:37<03:00,  2.80it/s]"
     ]
    },
    {
     "name": "stdout",
     "output_type": "stream",
     "text": [
      "(35, 3)\n"
     ]
    },
    {
     "name": "stderr",
     "output_type": "stream",
     "text": [
      "\r",
      " 50%|███████████████████▎                   | 496/1000 [03:37<04:00,  2.09it/s]"
     ]
    },
    {
     "name": "stdout",
     "output_type": "stream",
     "text": [
      "(35, 3)\n"
     ]
    },
    {
     "name": "stderr",
     "output_type": "stream",
     "text": [
      "\r",
      " 50%|███████████████████▍                   | 497/1000 [03:38<03:32,  2.36it/s]"
     ]
    },
    {
     "name": "stdout",
     "output_type": "stream",
     "text": [
      "(35, 3)\n"
     ]
    },
    {
     "name": "stderr",
     "output_type": "stream",
     "text": [
      "\r",
      " 50%|███████████████████▍                   | 498/1000 [03:38<03:41,  2.27it/s]"
     ]
    },
    {
     "name": "stdout",
     "output_type": "stream",
     "text": [
      "(39, 3)\n"
     ]
    },
    {
     "name": "stderr",
     "output_type": "stream",
     "text": [
      "\r",
      " 50%|███████████████████▍                   | 499/1000 [03:38<03:20,  2.50it/s]"
     ]
    },
    {
     "name": "stdout",
     "output_type": "stream",
     "text": [
      "(38, 3)\n"
     ]
    },
    {
     "name": "stderr",
     "output_type": "stream",
     "text": [
      "\r",
      " 50%|███████████████████▌                   | 500/1000 [03:39<03:24,  2.44it/s]"
     ]
    },
    {
     "name": "stdout",
     "output_type": "stream",
     "text": [
      "(43, 3)\n"
     ]
    },
    {
     "name": "stderr",
     "output_type": "stream",
     "text": [
      "\r",
      " 50%|███████████████████▌                   | 501/1000 [03:40<04:06,  2.02it/s]"
     ]
    },
    {
     "name": "stdout",
     "output_type": "stream",
     "text": [
      "(47, 3)\n"
     ]
    },
    {
     "name": "stderr",
     "output_type": "stream",
     "text": [
      "\r",
      " 50%|███████████████████▌                   | 502/1000 [03:40<04:34,  1.81it/s]"
     ]
    },
    {
     "name": "stdout",
     "output_type": "stream",
     "text": [
      "(46, 3)\n"
     ]
    },
    {
     "name": "stderr",
     "output_type": "stream",
     "text": [
      "\r",
      " 50%|███████████████████▌                   | 503/1000 [03:41<04:29,  1.85it/s]"
     ]
    },
    {
     "name": "stdout",
     "output_type": "stream",
     "text": [
      "(45, 3)\n"
     ]
    },
    {
     "name": "stderr",
     "output_type": "stream",
     "text": [
      "\r",
      " 50%|███████████████████▋                   | 504/1000 [03:41<04:42,  1.76it/s]"
     ]
    },
    {
     "name": "stdout",
     "output_type": "stream",
     "text": [
      "(38, 3)\n"
     ]
    },
    {
     "name": "stderr",
     "output_type": "stream",
     "text": [
      "\r",
      " 50%|███████████████████▋                   | 505/1000 [03:42<04:22,  1.89it/s]"
     ]
    },
    {
     "name": "stdout",
     "output_type": "stream",
     "text": [
      "(40, 3)\n"
     ]
    },
    {
     "name": "stderr",
     "output_type": "stream",
     "text": [
      "\r",
      " 51%|███████████████████▋                   | 506/1000 [03:42<03:50,  2.14it/s]"
     ]
    },
    {
     "name": "stdout",
     "output_type": "stream",
     "text": [
      "(39, 3)\n"
     ]
    },
    {
     "name": "stderr",
     "output_type": "stream",
     "text": [
      "\r",
      " 51%|███████████████████▊                   | 507/1000 [03:43<03:38,  2.26it/s]"
     ]
    },
    {
     "name": "stdout",
     "output_type": "stream",
     "text": [
      "(39, 3)\n"
     ]
    },
    {
     "name": "stderr",
     "output_type": "stream",
     "text": [
      "\r",
      " 51%|███████████████████▊                   | 508/1000 [03:43<04:10,  1.96it/s]"
     ]
    },
    {
     "name": "stdout",
     "output_type": "stream",
     "text": [
      "(40, 3)\n"
     ]
    },
    {
     "name": "stderr",
     "output_type": "stream",
     "text": [
      "\r",
      " 51%|███████████████████▊                   | 509/1000 [03:44<03:53,  2.10it/s]"
     ]
    },
    {
     "name": "stdout",
     "output_type": "stream",
     "text": [
      "(39, 3)\n"
     ]
    },
    {
     "name": "stderr",
     "output_type": "stream",
     "text": [
      "\r",
      " 51%|███████████████████▉                   | 510/1000 [03:44<03:57,  2.06it/s]"
     ]
    },
    {
     "name": "stdout",
     "output_type": "stream",
     "text": [
      "(46, 3)\n"
     ]
    },
    {
     "name": "stderr",
     "output_type": "stream",
     "text": [
      "\r",
      " 51%|███████████████████▉                   | 511/1000 [03:44<03:37,  2.24it/s]"
     ]
    },
    {
     "name": "stdout",
     "output_type": "stream",
     "text": [
      "(38, 3)\n"
     ]
    },
    {
     "name": "stderr",
     "output_type": "stream",
     "text": [
      "\r",
      " 51%|███████████████████▉                   | 512/1000 [03:45<03:18,  2.46it/s]"
     ]
    },
    {
     "name": "stdout",
     "output_type": "stream",
     "text": [
      "(38, 3)\n"
     ]
    },
    {
     "name": "stderr",
     "output_type": "stream",
     "text": [
      "\r",
      " 51%|████████████████████                   | 513/1000 [03:45<03:55,  2.07it/s]"
     ]
    },
    {
     "name": "stdout",
     "output_type": "stream",
     "text": [
      "(36, 3)\n"
     ]
    },
    {
     "name": "stderr",
     "output_type": "stream",
     "text": [
      "\r",
      " 51%|████████████████████                   | 514/1000 [03:46<04:51,  1.67it/s]"
     ]
    },
    {
     "name": "stdout",
     "output_type": "stream",
     "text": [
      "(38, 3)\n"
     ]
    },
    {
     "name": "stderr",
     "output_type": "stream",
     "text": [
      "\r",
      " 52%|████████████████████                   | 515/1000 [03:47<04:11,  1.93it/s]"
     ]
    },
    {
     "name": "stdout",
     "output_type": "stream",
     "text": [
      "(36, 3)\n"
     ]
    },
    {
     "name": "stderr",
     "output_type": "stream",
     "text": [
      "\r",
      " 52%|████████████████████                   | 516/1000 [03:47<03:47,  2.13it/s]"
     ]
    },
    {
     "name": "stdout",
     "output_type": "stream",
     "text": [
      "(37, 3)\n"
     ]
    },
    {
     "name": "stderr",
     "output_type": "stream",
     "text": [
      "\r",
      " 52%|████████████████████▏                  | 517/1000 [03:47<03:28,  2.32it/s]"
     ]
    },
    {
     "name": "stdout",
     "output_type": "stream",
     "text": [
      "(40, 3)\n"
     ]
    },
    {
     "name": "stderr",
     "output_type": "stream",
     "text": [
      "\r",
      " 52%|████████████████████▏                  | 518/1000 [03:48<03:30,  2.29it/s]"
     ]
    },
    {
     "name": "stdout",
     "output_type": "stream",
     "text": [
      "(35, 3)\n"
     ]
    },
    {
     "name": "stderr",
     "output_type": "stream",
     "text": [
      "\r",
      " 52%|████████████████████▏                  | 519/1000 [03:48<03:58,  2.02it/s]"
     ]
    },
    {
     "name": "stdout",
     "output_type": "stream",
     "text": [
      "(39, 3)\n"
     ]
    },
    {
     "name": "stderr",
     "output_type": "stream",
     "text": [
      "\r",
      " 52%|████████████████████▎                  | 520/1000 [03:49<03:45,  2.13it/s]"
     ]
    },
    {
     "name": "stdout",
     "output_type": "stream",
     "text": [
      "(40, 3)\n"
     ]
    },
    {
     "name": "stderr",
     "output_type": "stream",
     "text": [
      "\r",
      " 52%|████████████████████▎                  | 521/1000 [03:49<03:29,  2.28it/s]"
     ]
    },
    {
     "name": "stdout",
     "output_type": "stream",
     "text": [
      "(37, 3)\n"
     ]
    },
    {
     "name": "stderr",
     "output_type": "stream",
     "text": [
      "\r",
      " 52%|████████████████████▎                  | 522/1000 [03:50<03:09,  2.52it/s]"
     ]
    },
    {
     "name": "stdout",
     "output_type": "stream",
     "text": [
      "(34, 3)\n"
     ]
    },
    {
     "name": "stderr",
     "output_type": "stream",
     "text": [
      "\r",
      " 52%|████████████████████▍                  | 523/1000 [03:50<03:08,  2.54it/s]"
     ]
    },
    {
     "name": "stdout",
     "output_type": "stream",
     "text": [
      "(38, 3)\n"
     ]
    },
    {
     "name": "stderr",
     "output_type": "stream",
     "text": [
      "\r",
      " 52%|████████████████████▍                  | 524/1000 [03:50<02:59,  2.65it/s]"
     ]
    },
    {
     "name": "stdout",
     "output_type": "stream",
     "text": [
      "(34, 3)\n"
     ]
    },
    {
     "name": "stderr",
     "output_type": "stream",
     "text": [
      "\r",
      " 52%|████████████████████▍                  | 525/1000 [03:52<05:27,  1.45it/s]"
     ]
    },
    {
     "name": "stdout",
     "output_type": "stream",
     "text": [
      "(39, 3)\n"
     ]
    },
    {
     "name": "stderr",
     "output_type": "stream",
     "text": [
      "\r",
      " 53%|████████████████████▌                  | 526/1000 [03:52<05:20,  1.48it/s]"
     ]
    },
    {
     "name": "stdout",
     "output_type": "stream",
     "text": [
      "(39, 3)\n"
     ]
    },
    {
     "name": "stderr",
     "output_type": "stream",
     "text": [
      "\r",
      " 53%|████████████████████▌                  | 527/1000 [03:53<06:06,  1.29it/s]"
     ]
    },
    {
     "name": "stdout",
     "output_type": "stream",
     "text": [
      "(38, 3)\n"
     ]
    },
    {
     "name": "stderr",
     "output_type": "stream",
     "text": [
      "\r",
      " 53%|████████████████████▌                  | 528/1000 [03:54<05:41,  1.38it/s]"
     ]
    },
    {
     "name": "stdout",
     "output_type": "stream",
     "text": [
      "(41, 3)\n"
     ]
    },
    {
     "name": "stderr",
     "output_type": "stream",
     "text": [
      "\r",
      " 53%|████████████████████▋                  | 529/1000 [03:55<06:41,  1.17it/s]"
     ]
    },
    {
     "name": "stdout",
     "output_type": "stream",
     "text": [
      "(44, 3)\n"
     ]
    },
    {
     "name": "stderr",
     "output_type": "stream",
     "text": [
      "\r",
      " 53%|████████████████████▋                  | 530/1000 [03:56<07:14,  1.08it/s]"
     ]
    },
    {
     "name": "stdout",
     "output_type": "stream",
     "text": [
      "(41, 3)\n"
     ]
    },
    {
     "name": "stderr",
     "output_type": "stream",
     "text": [
      "\r",
      " 53%|████████████████████▋                  | 531/1000 [03:57<05:56,  1.32it/s]"
     ]
    },
    {
     "name": "stdout",
     "output_type": "stream",
     "text": [
      "(38, 3)\n"
     ]
    },
    {
     "name": "stderr",
     "output_type": "stream",
     "text": [
      "\r",
      " 53%|████████████████████▋                  | 532/1000 [03:57<04:58,  1.57it/s]"
     ]
    },
    {
     "name": "stdout",
     "output_type": "stream",
     "text": [
      "(37, 3)\n"
     ]
    },
    {
     "name": "stderr",
     "output_type": "stream",
     "text": [
      "\r",
      " 53%|████████████████████▊                  | 533/1000 [03:58<05:10,  1.51it/s]"
     ]
    },
    {
     "name": "stdout",
     "output_type": "stream",
     "text": [
      "(37, 3)\n"
     ]
    },
    {
     "name": "stderr",
     "output_type": "stream",
     "text": [
      "\r",
      " 53%|████████████████████▊                  | 534/1000 [03:58<04:54,  1.58it/s]"
     ]
    },
    {
     "name": "stdout",
     "output_type": "stream",
     "text": [
      "(40, 3)\n"
     ]
    },
    {
     "name": "stderr",
     "output_type": "stream",
     "text": [
      "\r",
      " 54%|████████████████████▊                  | 535/1000 [03:59<05:17,  1.46it/s]"
     ]
    },
    {
     "name": "stdout",
     "output_type": "stream",
     "text": [
      "(42, 3)\n"
     ]
    },
    {
     "name": "stderr",
     "output_type": "stream",
     "text": [
      "\r",
      " 54%|████████████████████▉                  | 536/1000 [03:59<04:47,  1.61it/s]"
     ]
    },
    {
     "name": "stdout",
     "output_type": "stream",
     "text": [
      "(43, 3)\n"
     ]
    },
    {
     "name": "stderr",
     "output_type": "stream",
     "text": [
      "\r",
      " 54%|████████████████████▉                  | 537/1000 [04:00<04:04,  1.90it/s]"
     ]
    },
    {
     "name": "stdout",
     "output_type": "stream",
     "text": [
      "(40, 3)\n"
     ]
    },
    {
     "name": "stderr",
     "output_type": "stream",
     "text": [
      "\r",
      " 54%|████████████████████▉                  | 538/1000 [04:00<03:28,  2.22it/s]"
     ]
    },
    {
     "name": "stdout",
     "output_type": "stream",
     "text": [
      "(34, 3)\n"
     ]
    },
    {
     "name": "stderr",
     "output_type": "stream",
     "text": [
      "\r",
      " 54%|█████████████████████                  | 539/1000 [04:00<03:20,  2.30it/s]"
     ]
    },
    {
     "name": "stdout",
     "output_type": "stream",
     "text": [
      "(36, 3)\n"
     ]
    },
    {
     "name": "stderr",
     "output_type": "stream",
     "text": [
      "\r",
      " 54%|█████████████████████                  | 540/1000 [04:01<03:26,  2.23it/s]"
     ]
    },
    {
     "name": "stdout",
     "output_type": "stream",
     "text": [
      "(41, 3)\n"
     ]
    },
    {
     "name": "stderr",
     "output_type": "stream",
     "text": [
      "\r",
      " 54%|█████████████████████                  | 541/1000 [04:02<04:17,  1.78it/s]"
     ]
    },
    {
     "name": "stdout",
     "output_type": "stream",
     "text": [
      "(47, 3)\n"
     ]
    },
    {
     "name": "stderr",
     "output_type": "stream",
     "text": [
      "\r",
      " 54%|█████████████████████▏                 | 542/1000 [04:03<04:46,  1.60it/s]"
     ]
    },
    {
     "name": "stdout",
     "output_type": "stream",
     "text": [
      "(39, 3)\n"
     ]
    },
    {
     "name": "stderr",
     "output_type": "stream",
     "text": [
      "\r",
      " 54%|█████████████████████▏                 | 543/1000 [04:03<04:31,  1.68it/s]"
     ]
    },
    {
     "name": "stdout",
     "output_type": "stream",
     "text": [
      "(44, 3)\n"
     ]
    },
    {
     "name": "stderr",
     "output_type": "stream",
     "text": [
      "\r",
      " 54%|█████████████████████▏                 | 544/1000 [04:03<03:55,  1.94it/s]"
     ]
    },
    {
     "name": "stdout",
     "output_type": "stream",
     "text": [
      "(40, 3)\n"
     ]
    },
    {
     "name": "stderr",
     "output_type": "stream",
     "text": [
      "\r",
      " 55%|█████████████████████▎                 | 545/1000 [04:04<03:37,  2.09it/s]"
     ]
    },
    {
     "name": "stdout",
     "output_type": "stream",
     "text": [
      "(39, 3)\n"
     ]
    },
    {
     "name": "stderr",
     "output_type": "stream",
     "text": [
      "\r",
      " 55%|█████████████████████▎                 | 546/1000 [04:04<03:23,  2.24it/s]"
     ]
    },
    {
     "name": "stdout",
     "output_type": "stream",
     "text": [
      "(39, 3)\n"
     ]
    },
    {
     "name": "stderr",
     "output_type": "stream",
     "text": [
      "\r",
      " 55%|█████████████████████▎                 | 547/1000 [04:05<03:48,  1.99it/s]"
     ]
    },
    {
     "name": "stdout",
     "output_type": "stream",
     "text": [
      "(40, 3)\n"
     ]
    },
    {
     "name": "stderr",
     "output_type": "stream",
     "text": [
      "\r",
      " 55%|█████████████████████▎                 | 548/1000 [04:05<03:31,  2.13it/s]"
     ]
    },
    {
     "name": "stdout",
     "output_type": "stream",
     "text": [
      "(39, 3)\n"
     ]
    },
    {
     "name": "stderr",
     "output_type": "stream",
     "text": [
      "\r",
      " 55%|█████████████████████▍                 | 549/1000 [04:06<04:25,  1.70it/s]"
     ]
    },
    {
     "name": "stdout",
     "output_type": "stream",
     "text": [
      "(40, 3)\n"
     ]
    },
    {
     "name": "stderr",
     "output_type": "stream",
     "text": [
      "\r",
      " 55%|█████████████████████▍                 | 550/1000 [04:07<04:27,  1.69it/s]"
     ]
    },
    {
     "name": "stdout",
     "output_type": "stream",
     "text": [
      "(40, 3)\n"
     ]
    },
    {
     "name": "stderr",
     "output_type": "stream",
     "text": [
      "\r",
      " 55%|█████████████████████▍                 | 551/1000 [04:07<04:02,  1.85it/s]"
     ]
    },
    {
     "name": "stdout",
     "output_type": "stream",
     "text": [
      "(39, 3)\n"
     ]
    },
    {
     "name": "stderr",
     "output_type": "stream",
     "text": [
      "\r",
      " 55%|█████████████████████▌                 | 552/1000 [04:08<04:35,  1.62it/s]"
     ]
    },
    {
     "name": "stdout",
     "output_type": "stream",
     "text": [
      "(39, 3)\n"
     ]
    },
    {
     "name": "stderr",
     "output_type": "stream",
     "text": [
      "\r",
      " 55%|█████████████████████▌                 | 553/1000 [04:08<04:00,  1.86it/s]"
     ]
    },
    {
     "name": "stdout",
     "output_type": "stream",
     "text": [
      "(40, 3)\n"
     ]
    },
    {
     "name": "stderr",
     "output_type": "stream",
     "text": [
      "\r",
      " 55%|█████████████████████▌                 | 554/1000 [04:09<04:13,  1.76it/s]"
     ]
    },
    {
     "name": "stdout",
     "output_type": "stream",
     "text": [
      "(39, 3)\n"
     ]
    },
    {
     "name": "stderr",
     "output_type": "stream",
     "text": [
      "\r",
      " 56%|█████████████████████▋                 | 555/1000 [04:09<03:37,  2.04it/s]"
     ]
    },
    {
     "name": "stdout",
     "output_type": "stream",
     "text": [
      "(39, 3)\n"
     ]
    },
    {
     "name": "stderr",
     "output_type": "stream",
     "text": [
      "\r",
      " 56%|█████████████████████▋                 | 556/1000 [04:11<05:43,  1.29it/s]"
     ]
    },
    {
     "name": "stdout",
     "output_type": "stream",
     "text": [
      "(40, 3)\n"
     ]
    },
    {
     "name": "stderr",
     "output_type": "stream",
     "text": [
      "\r",
      " 56%|█████████████████████▋                 | 557/1000 [04:11<05:33,  1.33it/s]"
     ]
    },
    {
     "name": "stdout",
     "output_type": "stream",
     "text": [
      "(43, 3)\n"
     ]
    },
    {
     "name": "stderr",
     "output_type": "stream",
     "text": [
      "\r",
      " 56%|█████████████████████▊                 | 558/1000 [04:12<04:57,  1.49it/s]"
     ]
    },
    {
     "name": "stdout",
     "output_type": "stream",
     "text": [
      "(38, 3)\n"
     ]
    },
    {
     "name": "stderr",
     "output_type": "stream",
     "text": [
      "\r",
      " 56%|█████████████████████▊                 | 559/1000 [04:13<05:10,  1.42it/s]"
     ]
    },
    {
     "name": "stdout",
     "output_type": "stream",
     "text": [
      "(39, 3)\n"
     ]
    },
    {
     "name": "stderr",
     "output_type": "stream",
     "text": [
      "\r",
      " 56%|█████████████████████▊                 | 560/1000 [04:13<04:20,  1.69it/s]"
     ]
    },
    {
     "name": "stdout",
     "output_type": "stream",
     "text": [
      "(35, 3)\n"
     ]
    },
    {
     "name": "stderr",
     "output_type": "stream",
     "text": [
      "\r",
      " 56%|█████████████████████▉                 | 561/1000 [04:13<03:52,  1.89it/s]"
     ]
    },
    {
     "name": "stdout",
     "output_type": "stream",
     "text": [
      "(38, 3)\n"
     ]
    },
    {
     "name": "stderr",
     "output_type": "stream",
     "text": [
      "\r",
      " 56%|█████████████████████▉                 | 562/1000 [04:14<03:30,  2.08it/s]"
     ]
    },
    {
     "name": "stdout",
     "output_type": "stream",
     "text": [
      "(39, 3)\n"
     ]
    },
    {
     "name": "stderr",
     "output_type": "stream",
     "text": [
      "\r",
      " 56%|█████████████████████▉                 | 563/1000 [04:14<03:32,  2.06it/s]"
     ]
    },
    {
     "name": "stdout",
     "output_type": "stream",
     "text": [
      "(36, 3)\n"
     ]
    },
    {
     "name": "stderr",
     "output_type": "stream",
     "text": [
      "\r",
      " 56%|█████████████████████▉                 | 564/1000 [04:15<03:45,  1.93it/s]"
     ]
    },
    {
     "name": "stdout",
     "output_type": "stream",
     "text": [
      "(37, 3)\n"
     ]
    },
    {
     "name": "stderr",
     "output_type": "stream",
     "text": [
      "\r",
      " 56%|██████████████████████                 | 565/1000 [04:15<03:43,  1.95it/s]"
     ]
    },
    {
     "name": "stdout",
     "output_type": "stream",
     "text": [
      "(40, 3)\n"
     ]
    },
    {
     "name": "stderr",
     "output_type": "stream",
     "text": [
      "\r",
      " 57%|██████████████████████                 | 566/1000 [04:15<03:10,  2.27it/s]"
     ]
    },
    {
     "name": "stdout",
     "output_type": "stream",
     "text": [
      "(37, 3)\n"
     ]
    },
    {
     "name": "stderr",
     "output_type": "stream",
     "text": [
      "\r",
      " 57%|██████████████████████                 | 567/1000 [04:16<02:54,  2.48it/s]"
     ]
    },
    {
     "name": "stdout",
     "output_type": "stream",
     "text": [
      "(40, 3)\n"
     ]
    },
    {
     "name": "stderr",
     "output_type": "stream",
     "text": [
      "\r",
      " 57%|██████████████████████▏                | 568/1000 [04:16<02:41,  2.68it/s]"
     ]
    },
    {
     "name": "stdout",
     "output_type": "stream",
     "text": [
      "(39, 3)\n"
     ]
    },
    {
     "name": "stderr",
     "output_type": "stream",
     "text": [
      "\r",
      " 57%|██████████████████████▏                | 569/1000 [04:17<03:47,  1.89it/s]"
     ]
    },
    {
     "name": "stdout",
     "output_type": "stream",
     "text": [
      "(38, 3)\n"
     ]
    },
    {
     "name": "stderr",
     "output_type": "stream",
     "text": [
      "\r",
      " 57%|██████████████████████▏                | 570/1000 [04:17<03:34,  2.01it/s]"
     ]
    },
    {
     "name": "stdout",
     "output_type": "stream",
     "text": [
      "(39, 3)\n"
     ]
    },
    {
     "name": "stderr",
     "output_type": "stream",
     "text": [
      "\r",
      " 57%|██████████████████████▎                | 571/1000 [04:18<03:27,  2.07it/s]"
     ]
    },
    {
     "name": "stdout",
     "output_type": "stream",
     "text": [
      "(39, 3)\n"
     ]
    },
    {
     "name": "stderr",
     "output_type": "stream",
     "text": [
      "\r",
      " 57%|██████████████████████▎                | 572/1000 [04:18<03:33,  2.01it/s]"
     ]
    },
    {
     "name": "stdout",
     "output_type": "stream",
     "text": [
      "(39, 3)\n"
     ]
    },
    {
     "name": "stderr",
     "output_type": "stream",
     "text": [
      "\r",
      " 57%|██████████████████████▎                | 573/1000 [04:19<03:12,  2.22it/s]"
     ]
    },
    {
     "name": "stdout",
     "output_type": "stream",
     "text": [
      "(39, 3)\n"
     ]
    },
    {
     "name": "stderr",
     "output_type": "stream",
     "text": [
      "\r",
      " 57%|██████████████████████▍                | 574/1000 [04:19<03:30,  2.02it/s]"
     ]
    },
    {
     "name": "stdout",
     "output_type": "stream",
     "text": [
      "(45, 3)\n"
     ]
    },
    {
     "name": "stderr",
     "output_type": "stream",
     "text": [
      "\r",
      " 57%|██████████████████████▍                | 575/1000 [04:20<03:05,  2.29it/s]"
     ]
    },
    {
     "name": "stdout",
     "output_type": "stream",
     "text": [
      "(41, 3)\n"
     ]
    },
    {
     "name": "stderr",
     "output_type": "stream",
     "text": [
      "\r",
      " 58%|██████████████████████▍                | 576/1000 [04:20<02:47,  2.52it/s]"
     ]
    },
    {
     "name": "stdout",
     "output_type": "stream",
     "text": [
      "(38, 3)\n"
     ]
    },
    {
     "name": "stderr",
     "output_type": "stream",
     "text": [
      "\r",
      " 58%|██████████████████████▌                | 577/1000 [04:20<02:32,  2.78it/s]"
     ]
    },
    {
     "name": "stdout",
     "output_type": "stream",
     "text": [
      "(37, 3)\n"
     ]
    },
    {
     "name": "stderr",
     "output_type": "stream",
     "text": [
      "\r",
      " 58%|██████████████████████▌                | 578/1000 [04:21<02:50,  2.48it/s]"
     ]
    },
    {
     "name": "stdout",
     "output_type": "stream",
     "text": [
      "(39, 3)\n"
     ]
    },
    {
     "name": "stderr",
     "output_type": "stream",
     "text": [
      "\r",
      " 58%|██████████████████████▌                | 579/1000 [04:21<02:42,  2.59it/s]"
     ]
    },
    {
     "name": "stdout",
     "output_type": "stream",
     "text": [
      "(40, 3)\n"
     ]
    },
    {
     "name": "stderr",
     "output_type": "stream",
     "text": [
      "\r",
      " 58%|██████████████████████▌                | 580/1000 [04:22<03:51,  1.81it/s]"
     ]
    },
    {
     "name": "stdout",
     "output_type": "stream",
     "text": [
      "(47, 3)\n"
     ]
    },
    {
     "name": "stderr",
     "output_type": "stream",
     "text": [
      "\r",
      " 58%|██████████████████████▋                | 581/1000 [04:23<03:57,  1.76it/s]"
     ]
    },
    {
     "name": "stdout",
     "output_type": "stream",
     "text": [
      "(43, 3)\n"
     ]
    },
    {
     "name": "stderr",
     "output_type": "stream",
     "text": [
      "\r",
      " 58%|██████████████████████▋                | 582/1000 [04:23<03:28,  2.01it/s]"
     ]
    },
    {
     "name": "stdout",
     "output_type": "stream",
     "text": [
      "(43, 3)\n"
     ]
    },
    {
     "name": "stderr",
     "output_type": "stream",
     "text": [
      "\r",
      " 58%|██████████████████████▋                | 583/1000 [04:23<03:14,  2.15it/s]"
     ]
    },
    {
     "name": "stdout",
     "output_type": "stream",
     "text": [
      "(43, 3)\n"
     ]
    },
    {
     "name": "stderr",
     "output_type": "stream",
     "text": [
      "\r",
      " 58%|██████████████████████▊                | 584/1000 [04:24<03:07,  2.22it/s]"
     ]
    },
    {
     "name": "stdout",
     "output_type": "stream",
     "text": [
      "(43, 3)\n"
     ]
    },
    {
     "name": "stderr",
     "output_type": "stream",
     "text": [
      "\r",
      " 58%|██████████████████████▊                | 585/1000 [04:24<02:40,  2.58it/s]"
     ]
    },
    {
     "name": "stdout",
     "output_type": "stream",
     "text": [
      "(36, 3)\n"
     ]
    },
    {
     "name": "stderr",
     "output_type": "stream",
     "text": [
      "\r",
      " 59%|██████████████████████▊                | 586/1000 [04:24<02:23,  2.88it/s]"
     ]
    },
    {
     "name": "stdout",
     "output_type": "stream",
     "text": [
      "(37, 3)\n"
     ]
    },
    {
     "name": "stderr",
     "output_type": "stream",
     "text": [
      "\r",
      " 59%|██████████████████████▉                | 587/1000 [04:25<03:25,  2.01it/s]"
     ]
    },
    {
     "name": "stdout",
     "output_type": "stream",
     "text": [
      "(46, 3)\n"
     ]
    },
    {
     "name": "stderr",
     "output_type": "stream",
     "text": [
      "\r",
      " 59%|██████████████████████▉                | 588/1000 [04:25<02:57,  2.32it/s]"
     ]
    },
    {
     "name": "stdout",
     "output_type": "stream",
     "text": [
      "(40, 3)\n"
     ]
    },
    {
     "name": "stderr",
     "output_type": "stream",
     "text": [
      "\r",
      " 59%|██████████████████████▉                | 589/1000 [04:26<02:44,  2.49it/s]"
     ]
    },
    {
     "name": "stdout",
     "output_type": "stream",
     "text": [
      "(42, 3)\n"
     ]
    },
    {
     "name": "stderr",
     "output_type": "stream",
     "text": [
      "\r",
      " 59%|███████████████████████                | 590/1000 [04:26<02:24,  2.83it/s]"
     ]
    },
    {
     "name": "stdout",
     "output_type": "stream",
     "text": [
      "(38, 3)\n"
     ]
    },
    {
     "name": "stderr",
     "output_type": "stream",
     "text": [
      "\r",
      " 59%|███████████████████████                | 591/1000 [04:26<02:28,  2.75it/s]"
     ]
    },
    {
     "name": "stdout",
     "output_type": "stream",
     "text": [
      "(40, 3)\n"
     ]
    },
    {
     "name": "stderr",
     "output_type": "stream",
     "text": [
      "\r",
      " 59%|███████████████████████                | 592/1000 [04:27<02:22,  2.87it/s]"
     ]
    },
    {
     "name": "stdout",
     "output_type": "stream",
     "text": [
      "(41, 3)\n"
     ]
    },
    {
     "name": "stderr",
     "output_type": "stream",
     "text": [
      "\r",
      " 59%|███████████████████████▏               | 593/1000 [04:27<02:33,  2.65it/s]"
     ]
    },
    {
     "name": "stdout",
     "output_type": "stream",
     "text": [
      "(40, 3)\n"
     ]
    },
    {
     "name": "stderr",
     "output_type": "stream",
     "text": [
      "\r",
      " 59%|███████████████████████▏               | 594/1000 [04:28<02:40,  2.53it/s]"
     ]
    },
    {
     "name": "stdout",
     "output_type": "stream",
     "text": [
      "(40, 3)\n"
     ]
    },
    {
     "name": "stderr",
     "output_type": "stream",
     "text": [
      "\r",
      " 60%|███████████████████████▏               | 595/1000 [04:28<03:06,  2.17it/s]"
     ]
    },
    {
     "name": "stdout",
     "output_type": "stream",
     "text": [
      "(40, 3)\n"
     ]
    },
    {
     "name": "stderr",
     "output_type": "stream",
     "text": [
      "\r",
      " 60%|███████████████████████▏               | 596/1000 [04:28<02:44,  2.46it/s]"
     ]
    },
    {
     "name": "stdout",
     "output_type": "stream",
     "text": [
      "(40, 3)\n"
     ]
    },
    {
     "name": "stderr",
     "output_type": "stream",
     "text": [
      "\r",
      " 60%|███████████████████████▎               | 597/1000 [04:29<02:23,  2.80it/s]"
     ]
    },
    {
     "name": "stdout",
     "output_type": "stream",
     "text": [
      "(38, 3)\n"
     ]
    },
    {
     "name": "stderr",
     "output_type": "stream",
     "text": [
      "\r",
      " 60%|███████████████████████▎               | 598/1000 [04:29<02:42,  2.47it/s]"
     ]
    },
    {
     "name": "stdout",
     "output_type": "stream",
     "text": [
      "(43, 3)\n"
     ]
    },
    {
     "name": "stderr",
     "output_type": "stream",
     "text": [
      "\r",
      " 60%|███████████████████████▎               | 599/1000 [04:29<02:25,  2.75it/s]"
     ]
    },
    {
     "name": "stdout",
     "output_type": "stream",
     "text": [
      "(40, 3)\n"
     ]
    },
    {
     "name": "stderr",
     "output_type": "stream",
     "text": [
      "\r",
      " 60%|███████████████████████▍               | 600/1000 [04:30<02:18,  2.88it/s]"
     ]
    },
    {
     "name": "stdout",
     "output_type": "stream",
     "text": [
      "(40, 3)\n"
     ]
    },
    {
     "name": "stderr",
     "output_type": "stream",
     "text": [
      "\r",
      " 60%|███████████████████████▍               | 601/1000 [04:30<02:11,  3.04it/s]"
     ]
    },
    {
     "name": "stdout",
     "output_type": "stream",
     "text": [
      "(42, 3)\n"
     ]
    },
    {
     "name": "stderr",
     "output_type": "stream",
     "text": [
      "\r",
      " 60%|███████████████████████▍               | 602/1000 [04:31<02:52,  2.31it/s]"
     ]
    },
    {
     "name": "stdout",
     "output_type": "stream",
     "text": [
      "(39, 3)\n"
     ]
    },
    {
     "name": "stderr",
     "output_type": "stream",
     "text": [
      "\r",
      " 60%|███████████████████████▌               | 603/1000 [04:31<02:30,  2.64it/s]"
     ]
    },
    {
     "name": "stdout",
     "output_type": "stream",
     "text": [
      "(39, 3)\n"
     ]
    },
    {
     "name": "stderr",
     "output_type": "stream",
     "text": [
      "\r",
      " 60%|███████████████████████▌               | 604/1000 [04:31<02:13,  2.96it/s]"
     ]
    },
    {
     "name": "stdout",
     "output_type": "stream",
     "text": [
      "(38, 3)\n"
     ]
    },
    {
     "name": "stderr",
     "output_type": "stream",
     "text": [
      "\r",
      " 60%|███████████████████████▌               | 605/1000 [04:32<02:53,  2.27it/s]"
     ]
    },
    {
     "name": "stdout",
     "output_type": "stream",
     "text": [
      "(39, 3)\n"
     ]
    },
    {
     "name": "stderr",
     "output_type": "stream",
     "text": [
      "\r",
      " 61%|███████████████████████▋               | 606/1000 [04:32<03:09,  2.08it/s]"
     ]
    },
    {
     "name": "stdout",
     "output_type": "stream",
     "text": [
      "(39, 3)\n"
     ]
    },
    {
     "name": "stderr",
     "output_type": "stream",
     "text": [
      "\r",
      " 61%|███████████████████████▋               | 607/1000 [04:33<03:09,  2.07it/s]"
     ]
    },
    {
     "name": "stdout",
     "output_type": "stream",
     "text": [
      "(38, 3)\n"
     ]
    },
    {
     "name": "stderr",
     "output_type": "stream",
     "text": [
      "\r",
      " 61%|███████████████████████▋               | 608/1000 [04:33<02:45,  2.36it/s]"
     ]
    },
    {
     "name": "stdout",
     "output_type": "stream",
     "text": [
      "(39, 3)\n"
     ]
    },
    {
     "name": "stderr",
     "output_type": "stream",
     "text": [
      "\r",
      " 61%|███████████████████████▊               | 609/1000 [04:33<02:23,  2.72it/s]"
     ]
    },
    {
     "name": "stdout",
     "output_type": "stream",
     "text": [
      "(39, 3)\n"
     ]
    },
    {
     "name": "stderr",
     "output_type": "stream",
     "text": [
      "\r",
      " 61%|███████████████████████▊               | 610/1000 [04:34<02:53,  2.25it/s]"
     ]
    },
    {
     "name": "stdout",
     "output_type": "stream",
     "text": [
      "(38, 3)\n"
     ]
    },
    {
     "name": "stderr",
     "output_type": "stream",
     "text": [
      "\r",
      " 61%|███████████████████████▊               | 611/1000 [04:34<02:47,  2.33it/s]"
     ]
    },
    {
     "name": "stdout",
     "output_type": "stream",
     "text": [
      "(45, 3)\n"
     ]
    },
    {
     "name": "stderr",
     "output_type": "stream",
     "text": [
      "\r",
      " 61%|███████████████████████▊               | 612/1000 [04:35<02:46,  2.33it/s]"
     ]
    },
    {
     "name": "stdout",
     "output_type": "stream",
     "text": [
      "(39, 3)\n"
     ]
    },
    {
     "name": "stderr",
     "output_type": "stream",
     "text": [
      "\r",
      " 61%|███████████████████████▉               | 613/1000 [04:36<03:51,  1.67it/s]"
     ]
    },
    {
     "name": "stdout",
     "output_type": "stream",
     "text": [
      "(39, 3)\n"
     ]
    },
    {
     "name": "stderr",
     "output_type": "stream",
     "text": [
      "\r",
      " 61%|███████████████████████▉               | 614/1000 [04:36<03:25,  1.88it/s]"
     ]
    },
    {
     "name": "stdout",
     "output_type": "stream",
     "text": [
      "(38, 3)\n"
     ]
    },
    {
     "name": "stderr",
     "output_type": "stream",
     "text": [
      "\r",
      " 62%|███████████████████████▉               | 615/1000 [04:37<03:53,  1.65it/s]"
     ]
    },
    {
     "name": "stdout",
     "output_type": "stream",
     "text": [
      "(37, 3)\n"
     ]
    },
    {
     "name": "stderr",
     "output_type": "stream",
     "text": [
      "\r",
      " 62%|████████████████████████               | 616/1000 [04:37<03:19,  1.93it/s]"
     ]
    },
    {
     "name": "stdout",
     "output_type": "stream",
     "text": [
      "(39, 3)\n"
     ]
    },
    {
     "name": "stderr",
     "output_type": "stream",
     "text": [
      "\r",
      " 62%|████████████████████████               | 617/1000 [04:38<03:31,  1.81it/s]"
     ]
    },
    {
     "name": "stdout",
     "output_type": "stream",
     "text": [
      "(38, 3)\n"
     ]
    },
    {
     "name": "stderr",
     "output_type": "stream",
     "text": [
      "\r",
      " 62%|████████████████████████               | 618/1000 [04:38<03:15,  1.95it/s]"
     ]
    },
    {
     "name": "stdout",
     "output_type": "stream",
     "text": [
      "(37, 3)\n"
     ]
    },
    {
     "name": "stderr",
     "output_type": "stream",
     "text": [
      "\r",
      " 62%|████████████████████████▏              | 619/1000 [04:40<05:50,  1.09it/s]"
     ]
    },
    {
     "name": "stdout",
     "output_type": "stream",
     "text": [
      "(41, 3)\n"
     ]
    },
    {
     "name": "stderr",
     "output_type": "stream",
     "text": [
      "\r",
      " 62%|████████████████████████▏              | 620/1000 [04:41<04:52,  1.30it/s]"
     ]
    },
    {
     "name": "stdout",
     "output_type": "stream",
     "text": [
      "(36, 3)\n"
     ]
    },
    {
     "name": "stderr",
     "output_type": "stream",
     "text": [
      "\r",
      " 62%|████████████████████████▏              | 621/1000 [04:41<03:55,  1.61it/s]"
     ]
    },
    {
     "name": "stdout",
     "output_type": "stream",
     "text": [
      "(37, 3)\n"
     ]
    },
    {
     "name": "stderr",
     "output_type": "stream",
     "text": [
      "\r",
      " 62%|████████████████████████▎              | 622/1000 [04:41<03:38,  1.73it/s]"
     ]
    },
    {
     "name": "stdout",
     "output_type": "stream",
     "text": [
      "(38, 3)\n"
     ]
    },
    {
     "name": "stderr",
     "output_type": "stream",
     "text": [
      "\r",
      " 62%|████████████████████████▎              | 623/1000 [04:42<03:10,  1.98it/s]"
     ]
    },
    {
     "name": "stdout",
     "output_type": "stream",
     "text": [
      "(39, 3)\n"
     ]
    },
    {
     "name": "stderr",
     "output_type": "stream",
     "text": [
      "\r",
      " 62%|████████████████████████▎              | 624/1000 [04:42<02:57,  2.12it/s]"
     ]
    },
    {
     "name": "stdout",
     "output_type": "stream",
     "text": [
      "(37, 3)\n"
     ]
    },
    {
     "name": "stderr",
     "output_type": "stream",
     "text": [
      "\r",
      " 62%|████████████████████████▍              | 625/1000 [04:42<02:33,  2.44it/s]"
     ]
    },
    {
     "name": "stdout",
     "output_type": "stream",
     "text": [
      "(36, 3)\n"
     ]
    },
    {
     "name": "stderr",
     "output_type": "stream",
     "text": [
      "\r",
      " 63%|████████████████████████▍              | 626/1000 [04:43<03:05,  2.01it/s]"
     ]
    },
    {
     "name": "stdout",
     "output_type": "stream",
     "text": [
      "(36, 3)\n"
     ]
    },
    {
     "name": "stderr",
     "output_type": "stream",
     "text": [
      "\r",
      " 63%|████████████████████████▍              | 627/1000 [04:43<02:37,  2.36it/s]"
     ]
    },
    {
     "name": "stdout",
     "output_type": "stream",
     "text": [
      "(39, 3)\n"
     ]
    },
    {
     "name": "stderr",
     "output_type": "stream",
     "text": [
      "\r",
      " 63%|████████████████████████▍              | 628/1000 [04:44<02:52,  2.15it/s]"
     ]
    },
    {
     "name": "stdout",
     "output_type": "stream",
     "text": [
      "(42, 3)\n"
     ]
    },
    {
     "name": "stderr",
     "output_type": "stream",
     "text": [
      "\r",
      " 63%|████████████████████████▌              | 629/1000 [04:44<02:27,  2.51it/s]"
     ]
    },
    {
     "name": "stdout",
     "output_type": "stream",
     "text": [
      "(38, 3)\n"
     ]
    },
    {
     "name": "stderr",
     "output_type": "stream",
     "text": [
      "\r",
      " 63%|████████████████████████▌              | 630/1000 [04:44<02:12,  2.79it/s]"
     ]
    },
    {
     "name": "stdout",
     "output_type": "stream",
     "text": [
      "(38, 3)\n"
     ]
    },
    {
     "name": "stderr",
     "output_type": "stream",
     "text": [
      "\r",
      " 63%|████████████████████████▌              | 631/1000 [04:45<02:32,  2.42it/s]"
     ]
    },
    {
     "name": "stdout",
     "output_type": "stream",
     "text": [
      "(38, 3)\n"
     ]
    },
    {
     "name": "stderr",
     "output_type": "stream",
     "text": [
      "\r",
      " 63%|████████████████████████▋              | 632/1000 [04:46<02:55,  2.09it/s]"
     ]
    },
    {
     "name": "stdout",
     "output_type": "stream",
     "text": [
      "(40, 3)\n"
     ]
    },
    {
     "name": "stderr",
     "output_type": "stream",
     "text": [
      "\r",
      " 63%|████████████████████████▋              | 633/1000 [04:46<02:32,  2.40it/s]"
     ]
    },
    {
     "name": "stdout",
     "output_type": "stream",
     "text": [
      "(38, 3)\n"
     ]
    },
    {
     "name": "stderr",
     "output_type": "stream",
     "text": [
      "\r",
      " 63%|████████████████████████▋              | 634/1000 [04:46<02:24,  2.53it/s]"
     ]
    },
    {
     "name": "stdout",
     "output_type": "stream",
     "text": [
      "(39, 3)\n"
     ]
    },
    {
     "name": "stderr",
     "output_type": "stream",
     "text": [
      "\r",
      " 64%|████████████████████████▊              | 635/1000 [04:47<02:06,  2.88it/s]"
     ]
    },
    {
     "name": "stdout",
     "output_type": "stream",
     "text": [
      "(37, 3)\n"
     ]
    },
    {
     "name": "stderr",
     "output_type": "stream",
     "text": [
      "\r",
      " 64%|████████████████████████▊              | 636/1000 [04:47<02:07,  2.86it/s]"
     ]
    },
    {
     "name": "stdout",
     "output_type": "stream",
     "text": [
      "(38, 3)\n"
     ]
    },
    {
     "name": "stderr",
     "output_type": "stream",
     "text": [
      "\r",
      " 64%|████████████████████████▊              | 637/1000 [04:47<01:58,  3.06it/s]"
     ]
    },
    {
     "name": "stdout",
     "output_type": "stream",
     "text": [
      "(39, 3)\n"
     ]
    },
    {
     "name": "stderr",
     "output_type": "stream",
     "text": [
      "\r",
      " 64%|████████████████████████▉              | 638/1000 [04:48<02:31,  2.38it/s]"
     ]
    },
    {
     "name": "stdout",
     "output_type": "stream",
     "text": [
      "(44, 3)\n"
     ]
    },
    {
     "name": "stderr",
     "output_type": "stream",
     "text": [
      "\r",
      " 64%|████████████████████████▉              | 639/1000 [04:49<03:38,  1.65it/s]"
     ]
    },
    {
     "name": "stdout",
     "output_type": "stream",
     "text": [
      "(47, 3)\n"
     ]
    },
    {
     "name": "stderr",
     "output_type": "stream",
     "text": [
      "\r",
      " 64%|████████████████████████▉              | 640/1000 [04:49<03:11,  1.88it/s]"
     ]
    },
    {
     "name": "stdout",
     "output_type": "stream",
     "text": [
      "(39, 3)\n"
     ]
    },
    {
     "name": "stderr",
     "output_type": "stream",
     "text": [
      "\r",
      " 64%|████████████████████████▉              | 641/1000 [04:50<03:31,  1.70it/s]"
     ]
    },
    {
     "name": "stdout",
     "output_type": "stream",
     "text": [
      "(45, 3)\n"
     ]
    },
    {
     "name": "stderr",
     "output_type": "stream",
     "text": [
      "\r",
      " 64%|█████████████████████████              | 642/1000 [04:51<04:06,  1.45it/s]"
     ]
    },
    {
     "name": "stdout",
     "output_type": "stream",
     "text": [
      "(38, 3)\n"
     ]
    },
    {
     "name": "stderr",
     "output_type": "stream",
     "text": [
      "\r",
      " 64%|█████████████████████████              | 643/1000 [04:51<03:18,  1.80it/s]"
     ]
    },
    {
     "name": "stdout",
     "output_type": "stream",
     "text": [
      "(38, 3)\n"
     ]
    },
    {
     "name": "stderr",
     "output_type": "stream",
     "text": [
      "\r",
      " 64%|█████████████████████████              | 644/1000 [04:51<02:44,  2.16it/s]"
     ]
    },
    {
     "name": "stdout",
     "output_type": "stream",
     "text": [
      "(38, 3)\n"
     ]
    },
    {
     "name": "stderr",
     "output_type": "stream",
     "text": [
      "\r",
      " 64%|█████████████████████████▏             | 645/1000 [04:52<02:55,  2.02it/s]"
     ]
    },
    {
     "name": "stdout",
     "output_type": "stream",
     "text": [
      "(39, 3)\n"
     ]
    },
    {
     "name": "stderr",
     "output_type": "stream",
     "text": [
      "\r",
      " 65%|█████████████████████████▏             | 646/1000 [04:52<02:28,  2.38it/s]"
     ]
    },
    {
     "name": "stdout",
     "output_type": "stream",
     "text": [
      "(37, 3)\n"
     ]
    },
    {
     "name": "stderr",
     "output_type": "stream",
     "text": [
      "\r",
      " 65%|█████████████████████████▏             | 647/1000 [04:53<02:49,  2.08it/s]"
     ]
    },
    {
     "name": "stdout",
     "output_type": "stream",
     "text": [
      "(37, 3)\n"
     ]
    },
    {
     "name": "stderr",
     "output_type": "stream",
     "text": [
      "\r",
      " 65%|█████████████████████████▎             | 648/1000 [04:53<02:28,  2.38it/s]"
     ]
    },
    {
     "name": "stdout",
     "output_type": "stream",
     "text": [
      "(39, 3)\n"
     ]
    },
    {
     "name": "stderr",
     "output_type": "stream",
     "text": [
      "\r",
      " 65%|█████████████████████████▎             | 649/1000 [04:54<04:06,  1.42it/s]"
     ]
    },
    {
     "name": "stdout",
     "output_type": "stream",
     "text": [
      "(40, 3)\n"
     ]
    },
    {
     "name": "stderr",
     "output_type": "stream",
     "text": [
      "\r",
      " 65%|█████████████████████████▎             | 650/1000 [04:55<03:19,  1.75it/s]"
     ]
    },
    {
     "name": "stdout",
     "output_type": "stream",
     "text": [
      "(40, 3)\n"
     ]
    },
    {
     "name": "stderr",
     "output_type": "stream",
     "text": [
      "\r",
      " 65%|█████████████████████████▍             | 651/1000 [04:55<02:47,  2.09it/s]"
     ]
    },
    {
     "name": "stdout",
     "output_type": "stream",
     "text": [
      "(41, 3)\n"
     ]
    },
    {
     "name": "stderr",
     "output_type": "stream",
     "text": [
      "\r",
      " 65%|█████████████████████████▍             | 652/1000 [04:55<02:27,  2.36it/s]"
     ]
    },
    {
     "name": "stdout",
     "output_type": "stream",
     "text": [
      "(42, 3)\n"
     ]
    },
    {
     "name": "stderr",
     "output_type": "stream",
     "text": [
      "\r",
      " 65%|█████████████████████████▍             | 653/1000 [04:55<02:10,  2.66it/s]"
     ]
    },
    {
     "name": "stdout",
     "output_type": "stream",
     "text": [
      "(39, 3)\n"
     ]
    },
    {
     "name": "stderr",
     "output_type": "stream",
     "text": [
      "\r",
      " 65%|█████████████████████████▌             | 654/1000 [04:56<01:56,  2.98it/s]"
     ]
    },
    {
     "name": "stdout",
     "output_type": "stream",
     "text": [
      "(37, 3)\n"
     ]
    },
    {
     "name": "stderr",
     "output_type": "stream",
     "text": [
      "\r",
      " 66%|█████████████████████████▌             | 655/1000 [04:56<01:50,  3.12it/s]"
     ]
    },
    {
     "name": "stdout",
     "output_type": "stream",
     "text": [
      "(42, 3)\n"
     ]
    },
    {
     "name": "stderr",
     "output_type": "stream",
     "text": [
      "\r",
      " 66%|█████████████████████████▌             | 656/1000 [04:57<02:10,  2.64it/s]"
     ]
    },
    {
     "name": "stdout",
     "output_type": "stream",
     "text": [
      "(37, 3)\n"
     ]
    },
    {
     "name": "stderr",
     "output_type": "stream",
     "text": [
      "\r",
      " 66%|█████████████████████████▌             | 657/1000 [04:57<02:06,  2.72it/s]"
     ]
    },
    {
     "name": "stdout",
     "output_type": "stream",
     "text": [
      "(37, 3)\n"
     ]
    },
    {
     "name": "stderr",
     "output_type": "stream",
     "text": [
      "\r",
      " 66%|█████████████████████████▋             | 658/1000 [04:57<01:54,  3.00it/s]"
     ]
    },
    {
     "name": "stdout",
     "output_type": "stream",
     "text": [
      "(38, 3)\n"
     ]
    },
    {
     "name": "stderr",
     "output_type": "stream",
     "text": [
      "\r",
      " 66%|█████████████████████████▋             | 659/1000 [04:57<01:46,  3.20it/s]"
     ]
    },
    {
     "name": "stdout",
     "output_type": "stream",
     "text": [
      "(38, 3)\n"
     ]
    },
    {
     "name": "stderr",
     "output_type": "stream",
     "text": [
      "\r",
      " 66%|█████████████████████████▋             | 660/1000 [04:58<02:05,  2.71it/s]"
     ]
    },
    {
     "name": "stdout",
     "output_type": "stream",
     "text": [
      "(37, 3)\n"
     ]
    },
    {
     "name": "stderr",
     "output_type": "stream",
     "text": [
      "\r",
      " 66%|█████████████████████████▊             | 661/1000 [04:58<01:59,  2.84it/s]"
     ]
    },
    {
     "name": "stdout",
     "output_type": "stream",
     "text": [
      "(37, 3)\n"
     ]
    },
    {
     "name": "stderr",
     "output_type": "stream",
     "text": [
      "\r",
      " 66%|█████████████████████████▊             | 662/1000 [04:58<01:46,  3.17it/s]"
     ]
    },
    {
     "name": "stdout",
     "output_type": "stream",
     "text": [
      "(37, 3)\n"
     ]
    },
    {
     "name": "stderr",
     "output_type": "stream",
     "text": [
      "\r",
      " 66%|█████████████████████████▊             | 663/1000 [04:59<01:42,  3.30it/s]"
     ]
    },
    {
     "name": "stdout",
     "output_type": "stream",
     "text": [
      "(37, 3)\n"
     ]
    },
    {
     "name": "stderr",
     "output_type": "stream",
     "text": [
      "\r",
      " 66%|█████████████████████████▉             | 664/1000 [04:59<01:48,  3.09it/s]"
     ]
    },
    {
     "name": "stdout",
     "output_type": "stream",
     "text": [
      "(38, 3)\n"
     ]
    },
    {
     "name": "stderr",
     "output_type": "stream",
     "text": [
      "\r",
      " 66%|█████████████████████████▉             | 665/1000 [04:59<01:51,  3.00it/s]"
     ]
    },
    {
     "name": "stdout",
     "output_type": "stream",
     "text": [
      "(39, 3)\n"
     ]
    },
    {
     "name": "stderr",
     "output_type": "stream",
     "text": [
      "\r",
      " 67%|█████████████████████████▉             | 666/1000 [05:00<02:51,  1.94it/s]"
     ]
    },
    {
     "name": "stdout",
     "output_type": "stream",
     "text": [
      "(38, 3)\n"
     ]
    },
    {
     "name": "stderr",
     "output_type": "stream",
     "text": [
      "\r",
      " 67%|██████████████████████████             | 667/1000 [05:01<02:40,  2.07it/s]"
     ]
    },
    {
     "name": "stdout",
     "output_type": "stream",
     "text": [
      "(41, 3)\n"
     ]
    },
    {
     "name": "stderr",
     "output_type": "stream",
     "text": [
      "\r",
      " 67%|██████████████████████████             | 668/1000 [05:01<02:35,  2.13it/s]"
     ]
    },
    {
     "name": "stdout",
     "output_type": "stream",
     "text": [
      "(37, 3)\n"
     ]
    },
    {
     "name": "stderr",
     "output_type": "stream",
     "text": [
      "\r",
      " 67%|██████████████████████████             | 669/1000 [05:02<02:23,  2.31it/s]"
     ]
    },
    {
     "name": "stdout",
     "output_type": "stream",
     "text": [
      "(37, 3)\n"
     ]
    },
    {
     "name": "stderr",
     "output_type": "stream",
     "text": [
      "\r",
      " 67%|██████████████████████████▏            | 670/1000 [05:02<02:18,  2.38it/s]"
     ]
    },
    {
     "name": "stdout",
     "output_type": "stream",
     "text": [
      "(41, 3)\n"
     ]
    },
    {
     "name": "stderr",
     "output_type": "stream",
     "text": [
      "\r",
      " 67%|██████████████████████████▏            | 671/1000 [05:02<02:02,  2.68it/s]"
     ]
    },
    {
     "name": "stdout",
     "output_type": "stream",
     "text": [
      "(38, 3)\n"
     ]
    },
    {
     "name": "stderr",
     "output_type": "stream",
     "text": [
      "\r",
      " 67%|██████████████████████████▏            | 672/1000 [05:03<01:59,  2.74it/s]"
     ]
    },
    {
     "name": "stdout",
     "output_type": "stream",
     "text": [
      "(45, 3)\n"
     ]
    },
    {
     "name": "stderr",
     "output_type": "stream",
     "text": [
      "\r",
      " 67%|██████████████████████████▏            | 673/1000 [05:03<01:50,  2.96it/s]"
     ]
    },
    {
     "name": "stdout",
     "output_type": "stream",
     "text": [
      "(40, 3)\n"
     ]
    },
    {
     "name": "stderr",
     "output_type": "stream",
     "text": [
      "\r",
      " 67%|██████████████████████████▎            | 674/1000 [05:03<01:42,  3.17it/s]"
     ]
    },
    {
     "name": "stdout",
     "output_type": "stream",
     "text": [
      "(39, 3)\n"
     ]
    },
    {
     "name": "stderr",
     "output_type": "stream",
     "text": [
      "\r",
      " 68%|██████████████████████████▎            | 675/1000 [05:03<01:37,  3.35it/s]"
     ]
    },
    {
     "name": "stdout",
     "output_type": "stream",
     "text": [
      "(40, 3)\n"
     ]
    },
    {
     "name": "stderr",
     "output_type": "stream",
     "text": [
      "\r",
      " 68%|██████████████████████████▎            | 676/1000 [05:04<01:32,  3.49it/s]"
     ]
    },
    {
     "name": "stdout",
     "output_type": "stream",
     "text": [
      "(39, 3)\n"
     ]
    },
    {
     "name": "stderr",
     "output_type": "stream",
     "text": [
      "\r",
      " 68%|██████████████████████████▍            | 677/1000 [05:04<01:30,  3.58it/s]"
     ]
    },
    {
     "name": "stdout",
     "output_type": "stream",
     "text": [
      "(37, 3)\n"
     ]
    },
    {
     "name": "stderr",
     "output_type": "stream",
     "text": [
      "\r",
      " 68%|██████████████████████████▍            | 678/1000 [05:04<01:33,  3.44it/s]"
     ]
    },
    {
     "name": "stdout",
     "output_type": "stream",
     "text": [
      "(36, 3)\n"
     ]
    },
    {
     "name": "stderr",
     "output_type": "stream",
     "text": [
      "\r",
      " 68%|██████████████████████████▍            | 679/1000 [05:05<01:36,  3.33it/s]"
     ]
    },
    {
     "name": "stdout",
     "output_type": "stream",
     "text": [
      "(36, 3)\n"
     ]
    },
    {
     "name": "stderr",
     "output_type": "stream",
     "text": [
      "\r",
      " 68%|██████████████████████████▌            | 680/1000 [05:05<01:39,  3.20it/s]"
     ]
    },
    {
     "name": "stdout",
     "output_type": "stream",
     "text": [
      "(38, 3)\n"
     ]
    },
    {
     "name": "stderr",
     "output_type": "stream",
     "text": [
      "\r",
      " 68%|██████████████████████████▌            | 681/1000 [05:05<01:49,  2.91it/s]"
     ]
    },
    {
     "name": "stdout",
     "output_type": "stream",
     "text": [
      "(38, 3)\n"
     ]
    },
    {
     "name": "stderr",
     "output_type": "stream",
     "text": [
      "\r",
      " 68%|██████████████████████████▌            | 682/1000 [05:05<01:37,  3.27it/s]"
     ]
    },
    {
     "name": "stdout",
     "output_type": "stream",
     "text": [
      "(34, 3)\n"
     ]
    },
    {
     "name": "stderr",
     "output_type": "stream",
     "text": [
      "\r",
      " 68%|██████████████████████████▋            | 683/1000 [05:06<01:58,  2.68it/s]"
     ]
    },
    {
     "name": "stdout",
     "output_type": "stream",
     "text": [
      "(37, 3)\n"
     ]
    },
    {
     "name": "stderr",
     "output_type": "stream",
     "text": [
      "\r",
      " 68%|██████████████████████████▋            | 684/1000 [05:06<02:00,  2.62it/s]"
     ]
    },
    {
     "name": "stdout",
     "output_type": "stream",
     "text": [
      "(37, 3)\n"
     ]
    },
    {
     "name": "stderr",
     "output_type": "stream",
     "text": [
      "\r",
      " 68%|██████████████████████████▋            | 685/1000 [05:07<02:29,  2.11it/s]"
     ]
    },
    {
     "name": "stdout",
     "output_type": "stream",
     "text": [
      "(41, 3)\n"
     ]
    },
    {
     "name": "stderr",
     "output_type": "stream",
     "text": [
      "\r",
      " 69%|██████████████████████████▊            | 686/1000 [05:07<02:05,  2.50it/s]"
     ]
    },
    {
     "name": "stdout",
     "output_type": "stream",
     "text": [
      "(38, 3)\n"
     ]
    },
    {
     "name": "stderr",
     "output_type": "stream",
     "text": [
      "\r",
      " 69%|██████████████████████████▊            | 687/1000 [05:08<02:02,  2.56it/s]"
     ]
    },
    {
     "name": "stdout",
     "output_type": "stream",
     "text": [
      "(37, 3)\n"
     ]
    },
    {
     "name": "stderr",
     "output_type": "stream",
     "text": [
      "\r",
      " 69%|██████████████████████████▊            | 688/1000 [05:08<02:03,  2.53it/s]"
     ]
    },
    {
     "name": "stdout",
     "output_type": "stream",
     "text": [
      "(44, 3)\n"
     ]
    },
    {
     "name": "stderr",
     "output_type": "stream",
     "text": [
      "\r",
      " 69%|██████████████████████████▊            | 689/1000 [05:08<01:52,  2.78it/s]"
     ]
    },
    {
     "name": "stdout",
     "output_type": "stream",
     "text": [
      "(41, 3)\n"
     ]
    },
    {
     "name": "stderr",
     "output_type": "stream",
     "text": [
      "\r",
      " 69%|██████████████████████████▉            | 690/1000 [05:09<01:43,  2.99it/s]"
     ]
    },
    {
     "name": "stdout",
     "output_type": "stream",
     "text": [
      "(39, 3)\n"
     ]
    },
    {
     "name": "stderr",
     "output_type": "stream",
     "text": [
      "\r",
      " 69%|██████████████████████████▉            | 691/1000 [05:09<01:49,  2.81it/s]"
     ]
    },
    {
     "name": "stdout",
     "output_type": "stream",
     "text": [
      "(37, 3)\n"
     ]
    },
    {
     "name": "stderr",
     "output_type": "stream",
     "text": [
      "\r",
      " 69%|██████████████████████████▉            | 692/1000 [05:09<01:35,  3.22it/s]"
     ]
    },
    {
     "name": "stdout",
     "output_type": "stream",
     "text": [
      "(37, 3)\n"
     ]
    },
    {
     "name": "stderr",
     "output_type": "stream",
     "text": [
      "\r",
      " 69%|███████████████████████████            | 693/1000 [05:10<01:42,  3.00it/s]"
     ]
    },
    {
     "name": "stdout",
     "output_type": "stream",
     "text": [
      "(37, 3)\n"
     ]
    },
    {
     "name": "stderr",
     "output_type": "stream",
     "text": [
      "\r",
      " 69%|███████████████████████████            | 694/1000 [05:10<01:33,  3.27it/s]"
     ]
    },
    {
     "name": "stdout",
     "output_type": "stream",
     "text": [
      "(38, 3)\n"
     ]
    },
    {
     "name": "stderr",
     "output_type": "stream",
     "text": [
      "\r",
      " 70%|███████████████████████████            | 695/1000 [05:10<01:43,  2.95it/s]"
     ]
    },
    {
     "name": "stdout",
     "output_type": "stream",
     "text": [
      "(46, 3)\n"
     ]
    },
    {
     "name": "stderr",
     "output_type": "stream",
     "text": [
      "\r",
      " 70%|███████████████████████████▏           | 696/1000 [05:11<01:39,  3.06it/s]"
     ]
    },
    {
     "name": "stdout",
     "output_type": "stream",
     "text": [
      "(38, 3)\n"
     ]
    },
    {
     "name": "stderr",
     "output_type": "stream",
     "text": [
      "\r",
      " 70%|███████████████████████████▏           | 697/1000 [05:11<01:33,  3.23it/s]"
     ]
    },
    {
     "name": "stdout",
     "output_type": "stream",
     "text": [
      "(37, 3)\n"
     ]
    },
    {
     "name": "stderr",
     "output_type": "stream",
     "text": [
      "\r",
      " 70%|███████████████████████████▏           | 698/1000 [05:11<01:45,  2.86it/s]"
     ]
    },
    {
     "name": "stdout",
     "output_type": "stream",
     "text": [
      "(37, 3)\n"
     ]
    },
    {
     "name": "stderr",
     "output_type": "stream",
     "text": [
      "\r",
      " 70%|███████████████████████████▎           | 699/1000 [05:12<01:47,  2.80it/s]"
     ]
    },
    {
     "name": "stdout",
     "output_type": "stream",
     "text": [
      "(37, 3)\n"
     ]
    },
    {
     "name": "stderr",
     "output_type": "stream",
     "text": [
      "\r",
      " 70%|███████████████████████████▎           | 700/1000 [05:12<02:20,  2.13it/s]"
     ]
    },
    {
     "name": "stdout",
     "output_type": "stream",
     "text": [
      "(37, 3)\n"
     ]
    },
    {
     "name": "stderr",
     "output_type": "stream",
     "text": [
      "\r",
      " 70%|███████████████████████████▎           | 701/1000 [05:13<01:59,  2.51it/s]"
     ]
    },
    {
     "name": "stdout",
     "output_type": "stream",
     "text": [
      "(37, 3)\n"
     ]
    },
    {
     "name": "stderr",
     "output_type": "stream",
     "text": [
      "\r",
      " 70%|███████████████████████████▍           | 702/1000 [05:13<01:48,  2.74it/s]"
     ]
    },
    {
     "name": "stdout",
     "output_type": "stream",
     "text": [
      "(37, 3)\n"
     ]
    },
    {
     "name": "stderr",
     "output_type": "stream",
     "text": [
      "\r",
      " 70%|███████████████████████████▍           | 703/1000 [05:13<01:53,  2.61it/s]"
     ]
    },
    {
     "name": "stdout",
     "output_type": "stream",
     "text": [
      "(37, 3)\n"
     ]
    },
    {
     "name": "stderr",
     "output_type": "stream",
     "text": [
      "\r",
      " 70%|███████████████████████████▍           | 704/1000 [05:14<01:46,  2.78it/s]"
     ]
    },
    {
     "name": "stdout",
     "output_type": "stream",
     "text": [
      "(41, 3)\n"
     ]
    },
    {
     "name": "stderr",
     "output_type": "stream",
     "text": [
      "\r",
      " 70%|███████████████████████████▍           | 705/1000 [05:14<01:53,  2.60it/s]"
     ]
    },
    {
     "name": "stdout",
     "output_type": "stream",
     "text": [
      "(38, 3)\n"
     ]
    },
    {
     "name": "stderr",
     "output_type": "stream",
     "text": [
      "\r",
      " 71%|███████████████████████████▌           | 706/1000 [05:14<01:47,  2.75it/s]"
     ]
    },
    {
     "name": "stdout",
     "output_type": "stream",
     "text": [
      "(35, 3)\n"
     ]
    },
    {
     "name": "stderr",
     "output_type": "stream",
     "text": [
      "\r",
      " 71%|███████████████████████████▌           | 707/1000 [05:15<01:39,  2.94it/s]"
     ]
    },
    {
     "name": "stdout",
     "output_type": "stream",
     "text": [
      "(39, 3)\n"
     ]
    },
    {
     "name": "stderr",
     "output_type": "stream",
     "text": [
      "\r",
      " 71%|███████████████████████████▌           | 708/1000 [05:15<01:29,  3.25it/s]"
     ]
    },
    {
     "name": "stdout",
     "output_type": "stream",
     "text": [
      "(36, 3)\n"
     ]
    },
    {
     "name": "stderr",
     "output_type": "stream",
     "text": [
      "\r",
      " 71%|███████████████████████████▋           | 709/1000 [05:15<01:22,  3.52it/s]"
     ]
    },
    {
     "name": "stdout",
     "output_type": "stream",
     "text": [
      "(36, 3)\n"
     ]
    },
    {
     "name": "stderr",
     "output_type": "stream",
     "text": [
      "\r",
      " 71%|███████████████████████████▋           | 710/1000 [05:16<01:39,  2.93it/s]"
     ]
    },
    {
     "name": "stdout",
     "output_type": "stream",
     "text": [
      "(37, 3)\n"
     ]
    },
    {
     "name": "stderr",
     "output_type": "stream",
     "text": [
      "\r",
      " 71%|███████████████████████████▋           | 711/1000 [05:16<01:41,  2.86it/s]"
     ]
    },
    {
     "name": "stdout",
     "output_type": "stream",
     "text": [
      "(37, 3)\n"
     ]
    },
    {
     "name": "stderr",
     "output_type": "stream",
     "text": [
      "\r",
      " 71%|███████████████████████████▊           | 712/1000 [05:16<01:32,  3.11it/s]"
     ]
    },
    {
     "name": "stdout",
     "output_type": "stream",
     "text": [
      "(40, 3)\n"
     ]
    },
    {
     "name": "stderr",
     "output_type": "stream",
     "text": [
      "\r",
      " 71%|███████████████████████████▊           | 713/1000 [05:17<01:37,  2.95it/s]"
     ]
    },
    {
     "name": "stdout",
     "output_type": "stream",
     "text": [
      "(40, 3)\n"
     ]
    },
    {
     "name": "stderr",
     "output_type": "stream",
     "text": [
      "\r",
      " 71%|███████████████████████████▊           | 714/1000 [05:18<02:34,  1.85it/s]"
     ]
    },
    {
     "name": "stdout",
     "output_type": "stream",
     "text": [
      "(40, 3)\n"
     ]
    },
    {
     "name": "stderr",
     "output_type": "stream",
     "text": [
      "\r",
      " 72%|███████████████████████████▉           | 715/1000 [05:18<02:08,  2.21it/s]"
     ]
    },
    {
     "name": "stdout",
     "output_type": "stream",
     "text": [
      "(38, 3)\n"
     ]
    },
    {
     "name": "stderr",
     "output_type": "stream",
     "text": [
      "\r",
      " 72%|███████████████████████████▉           | 716/1000 [05:18<02:10,  2.17it/s]"
     ]
    },
    {
     "name": "stdout",
     "output_type": "stream",
     "text": [
      "(38, 3)\n"
     ]
    },
    {
     "name": "stderr",
     "output_type": "stream",
     "text": [
      "\r",
      " 72%|███████████████████████████▉           | 717/1000 [05:19<01:59,  2.36it/s]"
     ]
    },
    {
     "name": "stdout",
     "output_type": "stream",
     "text": [
      "(38, 3)\n"
     ]
    },
    {
     "name": "stderr",
     "output_type": "stream",
     "text": [
      "\r",
      " 72%|████████████████████████████           | 718/1000 [05:19<01:56,  2.42it/s]"
     ]
    },
    {
     "name": "stdout",
     "output_type": "stream",
     "text": [
      "(43, 3)\n"
     ]
    },
    {
     "name": "stderr",
     "output_type": "stream",
     "text": [
      "\r",
      " 72%|████████████████████████████           | 719/1000 [05:19<01:43,  2.71it/s]"
     ]
    },
    {
     "name": "stdout",
     "output_type": "stream",
     "text": [
      "(37, 3)\n"
     ]
    },
    {
     "name": "stderr",
     "output_type": "stream",
     "text": [
      "\r",
      " 72%|████████████████████████████           | 720/1000 [05:20<01:35,  2.93it/s]"
     ]
    },
    {
     "name": "stdout",
     "output_type": "stream",
     "text": [
      "(38, 3)\n"
     ]
    },
    {
     "name": "stderr",
     "output_type": "stream",
     "text": [
      "\r",
      " 72%|████████████████████████████           | 721/1000 [05:20<01:27,  3.20it/s]"
     ]
    },
    {
     "name": "stdout",
     "output_type": "stream",
     "text": [
      "(37, 3)\n"
     ]
    },
    {
     "name": "stderr",
     "output_type": "stream",
     "text": [
      "\r",
      " 72%|████████████████████████████▏          | 722/1000 [05:20<01:20,  3.47it/s]"
     ]
    },
    {
     "name": "stdout",
     "output_type": "stream",
     "text": [
      "(37, 3)\n"
     ]
    },
    {
     "name": "stderr",
     "output_type": "stream",
     "text": [
      "\r",
      " 72%|████████████████████████████▏          | 723/1000 [05:21<01:37,  2.84it/s]"
     ]
    },
    {
     "name": "stdout",
     "output_type": "stream",
     "text": [
      "(38, 3)\n"
     ]
    },
    {
     "name": "stderr",
     "output_type": "stream",
     "text": [
      "\r",
      " 72%|████████████████████████████▏          | 724/1000 [05:21<02:11,  2.10it/s]"
     ]
    },
    {
     "name": "stdout",
     "output_type": "stream",
     "text": [
      "(37, 3)\n"
     ]
    },
    {
     "name": "stderr",
     "output_type": "stream",
     "text": [
      "\r",
      " 72%|████████████████████████████▎          | 725/1000 [05:22<01:51,  2.47it/s]"
     ]
    },
    {
     "name": "stdout",
     "output_type": "stream",
     "text": [
      "(37, 3)\n"
     ]
    },
    {
     "name": "stderr",
     "output_type": "stream",
     "text": [
      "\r",
      " 73%|████████████████████████████▎          | 726/1000 [05:22<01:36,  2.84it/s]"
     ]
    },
    {
     "name": "stdout",
     "output_type": "stream",
     "text": [
      "(36, 3)\n"
     ]
    },
    {
     "name": "stderr",
     "output_type": "stream",
     "text": [
      "\r",
      " 73%|████████████████████████████▎          | 727/1000 [05:22<01:30,  3.01it/s]"
     ]
    },
    {
     "name": "stdout",
     "output_type": "stream",
     "text": [
      "(40, 3)\n"
     ]
    },
    {
     "name": "stderr",
     "output_type": "stream",
     "text": [
      "\r",
      " 73%|████████████████████████████▍          | 728/1000 [05:23<02:36,  1.73it/s]"
     ]
    },
    {
     "name": "stdout",
     "output_type": "stream",
     "text": [
      "(39, 3)\n"
     ]
    },
    {
     "name": "stderr",
     "output_type": "stream",
     "text": [
      "\r",
      " 73%|████████████████████████████▍          | 729/1000 [05:24<02:25,  1.86it/s]"
     ]
    },
    {
     "name": "stdout",
     "output_type": "stream",
     "text": [
      "(40, 3)\n"
     ]
    },
    {
     "name": "stderr",
     "output_type": "stream",
     "text": [
      "\r",
      " 73%|████████████████████████████▍          | 730/1000 [05:24<02:04,  2.17it/s]"
     ]
    },
    {
     "name": "stdout",
     "output_type": "stream",
     "text": [
      "(39, 3)\n"
     ]
    },
    {
     "name": "stderr",
     "output_type": "stream",
     "text": [
      "\r",
      " 73%|████████████████████████████▌          | 731/1000 [05:24<01:46,  2.54it/s]"
     ]
    },
    {
     "name": "stdout",
     "output_type": "stream",
     "text": [
      "(37, 3)\n"
     ]
    },
    {
     "name": "stderr",
     "output_type": "stream",
     "text": [
      "\r",
      " 73%|████████████████████████████▌          | 732/1000 [05:25<01:57,  2.27it/s]"
     ]
    },
    {
     "name": "stdout",
     "output_type": "stream",
     "text": [
      "(41, 3)\n"
     ]
    },
    {
     "name": "stderr",
     "output_type": "stream",
     "text": [
      "\r",
      " 73%|████████████████████████████▌          | 733/1000 [05:25<01:46,  2.50it/s]"
     ]
    },
    {
     "name": "stdout",
     "output_type": "stream",
     "text": [
      "(41, 3)\n"
     ]
    },
    {
     "name": "stderr",
     "output_type": "stream",
     "text": [
      "\r",
      " 73%|████████████████████████████▋          | 734/1000 [05:25<01:34,  2.81it/s]"
     ]
    },
    {
     "name": "stdout",
     "output_type": "stream",
     "text": [
      "(39, 3)\n"
     ]
    },
    {
     "name": "stderr",
     "output_type": "stream",
     "text": [
      "\r",
      " 74%|████████████████████████████▋          | 735/1000 [05:26<01:28,  2.98it/s]"
     ]
    },
    {
     "name": "stdout",
     "output_type": "stream",
     "text": [
      "(37, 3)\n"
     ]
    },
    {
     "name": "stderr",
     "output_type": "stream",
     "text": [
      " 74%|████████████████████████████▋          | 737/1000 [05:26<01:12,  3.62it/s]"
     ]
    },
    {
     "name": "stdout",
     "output_type": "stream",
     "text": [
      "(36, 3)\n",
      "(36, 3)\n"
     ]
    },
    {
     "name": "stderr",
     "output_type": "stream",
     "text": [
      "\r",
      " 74%|████████████████████████████▊          | 738/1000 [05:27<01:42,  2.55it/s]"
     ]
    },
    {
     "name": "stdout",
     "output_type": "stream",
     "text": [
      "(45, 3)\n"
     ]
    },
    {
     "name": "stderr",
     "output_type": "stream",
     "text": [
      "\r",
      " 74%|████████████████████████████▊          | 739/1000 [05:27<01:50,  2.37it/s]"
     ]
    },
    {
     "name": "stdout",
     "output_type": "stream",
     "text": [
      "(36, 3)\n"
     ]
    },
    {
     "name": "stderr",
     "output_type": "stream",
     "text": [
      "\r",
      " 74%|████████████████████████████▊          | 740/1000 [05:28<01:37,  2.65it/s]"
     ]
    },
    {
     "name": "stdout",
     "output_type": "stream",
     "text": [
      "(36, 3)\n"
     ]
    },
    {
     "name": "stderr",
     "output_type": "stream",
     "text": [
      "\r",
      " 74%|████████████████████████████▉          | 741/1000 [05:28<02:09,  2.00it/s]"
     ]
    },
    {
     "name": "stdout",
     "output_type": "stream",
     "text": [
      "(37, 3)\n"
     ]
    },
    {
     "name": "stderr",
     "output_type": "stream",
     "text": [
      "\r",
      " 74%|████████████████████████████▉          | 742/1000 [05:29<01:47,  2.39it/s]"
     ]
    },
    {
     "name": "stdout",
     "output_type": "stream",
     "text": [
      "(37, 3)\n"
     ]
    },
    {
     "name": "stderr",
     "output_type": "stream",
     "text": [
      "\r",
      " 74%|████████████████████████████▉          | 743/1000 [05:29<01:44,  2.47it/s]"
     ]
    },
    {
     "name": "stdout",
     "output_type": "stream",
     "text": [
      "(38, 3)\n"
     ]
    },
    {
     "name": "stderr",
     "output_type": "stream",
     "text": [
      "\r",
      " 74%|█████████████████████████████          | 744/1000 [05:29<01:28,  2.88it/s]"
     ]
    },
    {
     "name": "stdout",
     "output_type": "stream",
     "text": [
      "(35, 3)\n"
     ]
    },
    {
     "name": "stderr",
     "output_type": "stream",
     "text": [
      "\r",
      " 74%|█████████████████████████████          | 745/1000 [05:30<01:40,  2.53it/s]"
     ]
    },
    {
     "name": "stdout",
     "output_type": "stream",
     "text": [
      "(37, 3)\n"
     ]
    },
    {
     "name": "stderr",
     "output_type": "stream",
     "text": [
      "\r",
      " 75%|█████████████████████████████          | 746/1000 [05:30<01:27,  2.89it/s]"
     ]
    },
    {
     "name": "stdout",
     "output_type": "stream",
     "text": [
      "(36, 3)\n"
     ]
    },
    {
     "name": "stderr",
     "output_type": "stream",
     "text": [
      "\r",
      " 75%|█████████████████████████████▏         | 747/1000 [05:30<01:26,  2.93it/s]"
     ]
    },
    {
     "name": "stdout",
     "output_type": "stream",
     "text": [
      "(35, 3)\n"
     ]
    },
    {
     "name": "stderr",
     "output_type": "stream",
     "text": [
      "\r",
      " 75%|█████████████████████████████▏         | 748/1000 [05:31<01:25,  2.94it/s]"
     ]
    },
    {
     "name": "stdout",
     "output_type": "stream",
     "text": [
      "(36, 3)\n"
     ]
    },
    {
     "name": "stderr",
     "output_type": "stream",
     "text": [
      "\r",
      " 75%|█████████████████████████████▏         | 749/1000 [05:31<01:18,  3.20it/s]"
     ]
    },
    {
     "name": "stdout",
     "output_type": "stream",
     "text": [
      "(36, 3)\n"
     ]
    },
    {
     "name": "stderr",
     "output_type": "stream",
     "text": [
      "\r",
      " 75%|█████████████████████████████▎         | 750/1000 [05:31<01:15,  3.31it/s]"
     ]
    },
    {
     "name": "stdout",
     "output_type": "stream",
     "text": [
      "(38, 3)\n"
     ]
    },
    {
     "name": "stderr",
     "output_type": "stream",
     "text": [
      "\r",
      " 75%|█████████████████████████████▎         | 751/1000 [05:31<01:17,  3.20it/s]"
     ]
    },
    {
     "name": "stdout",
     "output_type": "stream",
     "text": [
      "(40, 3)\n"
     ]
    },
    {
     "name": "stderr",
     "output_type": "stream",
     "text": [
      "\r",
      " 75%|█████████████████████████████▎         | 752/1000 [05:32<01:11,  3.46it/s]"
     ]
    },
    {
     "name": "stdout",
     "output_type": "stream",
     "text": [
      "(37, 3)\n"
     ]
    },
    {
     "name": "stderr",
     "output_type": "stream",
     "text": [
      "\r",
      " 75%|█████████████████████████████▎         | 753/1000 [05:32<01:17,  3.18it/s]"
     ]
    },
    {
     "name": "stdout",
     "output_type": "stream",
     "text": [
      "(37, 3)\n"
     ]
    },
    {
     "name": "stderr",
     "output_type": "stream",
     "text": [
      "\r",
      " 75%|█████████████████████████████▍         | 754/1000 [05:32<01:19,  3.11it/s]"
     ]
    },
    {
     "name": "stdout",
     "output_type": "stream",
     "text": [
      "(38, 3)\n"
     ]
    },
    {
     "name": "stderr",
     "output_type": "stream",
     "text": [
      "\r",
      " 76%|█████████████████████████████▍         | 755/1000 [05:33<02:03,  1.99it/s]"
     ]
    },
    {
     "name": "stdout",
     "output_type": "stream",
     "text": [
      "(37, 3)\n"
     ]
    },
    {
     "name": "stderr",
     "output_type": "stream",
     "text": [
      "\r",
      " 76%|█████████████████████████████▍         | 756/1000 [05:34<02:09,  1.89it/s]"
     ]
    },
    {
     "name": "stdout",
     "output_type": "stream",
     "text": [
      "(37, 3)\n"
     ]
    },
    {
     "name": "stderr",
     "output_type": "stream",
     "text": [
      "\r",
      " 76%|█████████████████████████████▌         | 757/1000 [05:35<02:31,  1.61it/s]"
     ]
    },
    {
     "name": "stdout",
     "output_type": "stream",
     "text": [
      "(39, 3)\n"
     ]
    },
    {
     "name": "stderr",
     "output_type": "stream",
     "text": [
      "\r",
      " 76%|█████████████████████████████▌         | 758/1000 [05:35<02:06,  1.91it/s]"
     ]
    },
    {
     "name": "stdout",
     "output_type": "stream",
     "text": [
      "(37, 3)\n"
     ]
    },
    {
     "name": "stderr",
     "output_type": "stream",
     "text": [
      "\r",
      " 76%|█████████████████████████████▌         | 759/1000 [05:35<01:48,  2.21it/s]"
     ]
    },
    {
     "name": "stdout",
     "output_type": "stream",
     "text": [
      "(36, 3)\n"
     ]
    },
    {
     "name": "stderr",
     "output_type": "stream",
     "text": [
      "\r",
      " 76%|█████████████████████████████▋         | 760/1000 [05:36<02:01,  1.98it/s]"
     ]
    },
    {
     "name": "stdout",
     "output_type": "stream",
     "text": [
      "(42, 3)\n"
     ]
    },
    {
     "name": "stderr",
     "output_type": "stream",
     "text": [
      "\r",
      " 76%|█████████████████████████████▋         | 761/1000 [05:36<01:46,  2.25it/s]"
     ]
    },
    {
     "name": "stdout",
     "output_type": "stream",
     "text": [
      "(41, 3)\n"
     ]
    },
    {
     "name": "stderr",
     "output_type": "stream",
     "text": [
      "\r",
      " 76%|█████████████████████████████▋         | 762/1000 [05:37<01:47,  2.22it/s]"
     ]
    },
    {
     "name": "stdout",
     "output_type": "stream",
     "text": [
      "(39, 3)\n"
     ]
    },
    {
     "name": "stderr",
     "output_type": "stream",
     "text": [
      "\r",
      " 76%|█████████████████████████████▊         | 763/1000 [05:37<01:35,  2.49it/s]"
     ]
    },
    {
     "name": "stdout",
     "output_type": "stream",
     "text": [
      "(38, 3)\n"
     ]
    },
    {
     "name": "stderr",
     "output_type": "stream",
     "text": [
      "\r",
      " 76%|█████████████████████████████▊         | 764/1000 [05:37<01:21,  2.89it/s]"
     ]
    },
    {
     "name": "stdout",
     "output_type": "stream",
     "text": [
      "(35, 3)\n"
     ]
    },
    {
     "name": "stderr",
     "output_type": "stream",
     "text": [
      "\r",
      " 76%|█████████████████████████████▊         | 765/1000 [05:37<01:12,  3.23it/s]"
     ]
    },
    {
     "name": "stdout",
     "output_type": "stream",
     "text": [
      "(35, 3)\n"
     ]
    },
    {
     "name": "stderr",
     "output_type": "stream",
     "text": [
      "\r",
      " 77%|█████████████████████████████▊         | 766/1000 [05:38<01:20,  2.90it/s]"
     ]
    },
    {
     "name": "stdout",
     "output_type": "stream",
     "text": [
      "(38, 3)\n"
     ]
    },
    {
     "name": "stderr",
     "output_type": "stream",
     "text": [
      "\r",
      " 77%|█████████████████████████████▉         | 767/1000 [05:38<01:28,  2.63it/s]"
     ]
    },
    {
     "name": "stdout",
     "output_type": "stream",
     "text": [
      "(36, 3)\n"
     ]
    },
    {
     "name": "stderr",
     "output_type": "stream",
     "text": [
      "\r",
      " 77%|█████████████████████████████▉         | 768/1000 [05:39<01:20,  2.88it/s]"
     ]
    },
    {
     "name": "stdout",
     "output_type": "stream",
     "text": [
      "(38, 3)\n"
     ]
    },
    {
     "name": "stderr",
     "output_type": "stream",
     "text": [
      "\r",
      " 77%|█████████████████████████████▉         | 769/1000 [05:39<01:13,  3.13it/s]"
     ]
    },
    {
     "name": "stdout",
     "output_type": "stream",
     "text": [
      "(39, 3)\n"
     ]
    },
    {
     "name": "stderr",
     "output_type": "stream",
     "text": [
      "\r",
      " 77%|██████████████████████████████         | 770/1000 [05:39<01:08,  3.38it/s]"
     ]
    },
    {
     "name": "stdout",
     "output_type": "stream",
     "text": [
      "(38, 3)\n"
     ]
    },
    {
     "name": "stderr",
     "output_type": "stream",
     "text": [
      "\r",
      " 77%|██████████████████████████████         | 771/1000 [05:40<01:55,  1.99it/s]"
     ]
    },
    {
     "name": "stdout",
     "output_type": "stream",
     "text": [
      "(48, 3)\n"
     ]
    },
    {
     "name": "stderr",
     "output_type": "stream",
     "text": [
      "\r",
      " 77%|██████████████████████████████         | 772/1000 [05:40<01:37,  2.35it/s]"
     ]
    },
    {
     "name": "stdout",
     "output_type": "stream",
     "text": [
      "(36, 3)\n"
     ]
    },
    {
     "name": "stderr",
     "output_type": "stream",
     "text": [
      "\r",
      " 77%|██████████████████████████████▏        | 773/1000 [05:41<01:24,  2.68it/s]"
     ]
    },
    {
     "name": "stdout",
     "output_type": "stream",
     "text": [
      "(38, 3)\n"
     ]
    },
    {
     "name": "stderr",
     "output_type": "stream",
     "text": [
      "\r",
      " 77%|██████████████████████████████▏        | 774/1000 [05:41<01:49,  2.07it/s]"
     ]
    },
    {
     "name": "stdout",
     "output_type": "stream",
     "text": [
      "(41, 3)\n"
     ]
    },
    {
     "name": "stderr",
     "output_type": "stream",
     "text": [
      "\r",
      " 78%|██████████████████████████████▏        | 775/1000 [05:42<01:32,  2.42it/s]"
     ]
    },
    {
     "name": "stdout",
     "output_type": "stream",
     "text": [
      "(38, 3)\n"
     ]
    },
    {
     "name": "stderr",
     "output_type": "stream",
     "text": [
      "\r",
      " 78%|██████████████████████████████▎        | 776/1000 [05:42<01:23,  2.69it/s]"
     ]
    },
    {
     "name": "stdout",
     "output_type": "stream",
     "text": [
      "(38, 3)\n"
     ]
    },
    {
     "name": "stderr",
     "output_type": "stream",
     "text": [
      "\r",
      " 78%|██████████████████████████████▎        | 777/1000 [05:42<01:23,  2.67it/s]"
     ]
    },
    {
     "name": "stdout",
     "output_type": "stream",
     "text": [
      "(42, 3)\n"
     ]
    },
    {
     "name": "stderr",
     "output_type": "stream",
     "text": [
      "\r",
      " 78%|██████████████████████████████▎        | 778/1000 [05:43<01:26,  2.56it/s]"
     ]
    },
    {
     "name": "stdout",
     "output_type": "stream",
     "text": [
      "(39, 3)\n"
     ]
    },
    {
     "name": "stderr",
     "output_type": "stream",
     "text": [
      "\r",
      " 78%|██████████████████████████████▍        | 779/1000 [05:43<01:30,  2.44it/s]"
     ]
    },
    {
     "name": "stdout",
     "output_type": "stream",
     "text": [
      "(38, 3)\n"
     ]
    },
    {
     "name": "stderr",
     "output_type": "stream",
     "text": [
      "\r",
      " 78%|██████████████████████████████▍        | 780/1000 [05:43<01:26,  2.54it/s]"
     ]
    },
    {
     "name": "stdout",
     "output_type": "stream",
     "text": [
      "(40, 3)\n"
     ]
    },
    {
     "name": "stderr",
     "output_type": "stream",
     "text": [
      "\r",
      " 78%|██████████████████████████████▍        | 781/1000 [05:44<01:29,  2.45it/s]"
     ]
    },
    {
     "name": "stdout",
     "output_type": "stream",
     "text": [
      "(40, 3)\n"
     ]
    },
    {
     "name": "stderr",
     "output_type": "stream",
     "text": [
      "\r",
      " 78%|██████████████████████████████▍        | 782/1000 [05:44<01:21,  2.67it/s]"
     ]
    },
    {
     "name": "stdout",
     "output_type": "stream",
     "text": [
      "(39, 3)\n"
     ]
    },
    {
     "name": "stderr",
     "output_type": "stream",
     "text": [
      "\r",
      " 78%|██████████████████████████████▌        | 783/1000 [05:45<01:41,  2.14it/s]"
     ]
    },
    {
     "name": "stdout",
     "output_type": "stream",
     "text": [
      "(38, 3)\n"
     ]
    },
    {
     "name": "stderr",
     "output_type": "stream",
     "text": [
      "\r",
      " 78%|██████████████████████████████▌        | 784/1000 [05:45<01:40,  2.15it/s]"
     ]
    },
    {
     "name": "stdout",
     "output_type": "stream",
     "text": [
      "(40, 3)\n"
     ]
    },
    {
     "name": "stderr",
     "output_type": "stream",
     "text": [
      "\r",
      " 78%|██████████████████████████████▌        | 785/1000 [05:47<02:26,  1.47it/s]"
     ]
    },
    {
     "name": "stdout",
     "output_type": "stream",
     "text": [
      "(40, 3)\n"
     ]
    },
    {
     "name": "stderr",
     "output_type": "stream",
     "text": [
      "\r",
      " 79%|██████████████████████████████▋        | 786/1000 [05:47<01:59,  1.79it/s]"
     ]
    },
    {
     "name": "stdout",
     "output_type": "stream",
     "text": [
      "(39, 3)\n"
     ]
    },
    {
     "name": "stderr",
     "output_type": "stream",
     "text": [
      "\r",
      " 79%|██████████████████████████████▋        | 787/1000 [05:47<01:50,  1.92it/s]"
     ]
    },
    {
     "name": "stdout",
     "output_type": "stream",
     "text": [
      "(41, 3)\n"
     ]
    },
    {
     "name": "stderr",
     "output_type": "stream",
     "text": [
      "\r",
      " 79%|██████████████████████████████▋        | 788/1000 [05:48<01:46,  1.99it/s]"
     ]
    },
    {
     "name": "stdout",
     "output_type": "stream",
     "text": [
      "(39, 3)\n"
     ]
    },
    {
     "name": "stderr",
     "output_type": "stream",
     "text": [
      "\r",
      " 79%|██████████████████████████████▊        | 789/1000 [05:48<01:48,  1.94it/s]"
     ]
    },
    {
     "name": "stdout",
     "output_type": "stream",
     "text": [
      "(38, 3)\n"
     ]
    },
    {
     "name": "stderr",
     "output_type": "stream",
     "text": [
      "\r",
      " 79%|██████████████████████████████▊        | 790/1000 [05:49<01:32,  2.26it/s]"
     ]
    },
    {
     "name": "stdout",
     "output_type": "stream",
     "text": [
      "(37, 3)\n"
     ]
    },
    {
     "name": "stderr",
     "output_type": "stream",
     "text": [
      "\r",
      " 79%|██████████████████████████████▊        | 791/1000 [05:49<01:24,  2.47it/s]"
     ]
    },
    {
     "name": "stdout",
     "output_type": "stream",
     "text": [
      "(41, 3)\n"
     ]
    },
    {
     "name": "stderr",
     "output_type": "stream",
     "text": [
      "\r",
      " 79%|██████████████████████████████▉        | 792/1000 [05:49<01:28,  2.36it/s]"
     ]
    },
    {
     "name": "stdout",
     "output_type": "stream",
     "text": [
      "(41, 3)\n"
     ]
    },
    {
     "name": "stderr",
     "output_type": "stream",
     "text": [
      "\r",
      " 79%|██████████████████████████████▉        | 793/1000 [05:50<01:30,  2.29it/s]"
     ]
    },
    {
     "name": "stdout",
     "output_type": "stream",
     "text": [
      "(41, 3)\n"
     ]
    },
    {
     "name": "stderr",
     "output_type": "stream",
     "text": [
      "\r",
      " 79%|██████████████████████████████▉        | 794/1000 [05:50<01:30,  2.28it/s]"
     ]
    },
    {
     "name": "stdout",
     "output_type": "stream",
     "text": [
      "(40, 3)\n"
     ]
    },
    {
     "name": "stderr",
     "output_type": "stream",
     "text": [
      "\r",
      " 80%|███████████████████████████████        | 795/1000 [05:51<01:29,  2.30it/s]"
     ]
    },
    {
     "name": "stdout",
     "output_type": "stream",
     "text": [
      "(39, 3)\n"
     ]
    },
    {
     "name": "stderr",
     "output_type": "stream",
     "text": [
      "\r",
      " 80%|███████████████████████████████        | 796/1000 [05:51<01:20,  2.54it/s]"
     ]
    },
    {
     "name": "stdout",
     "output_type": "stream",
     "text": [
      "(41, 3)\n"
     ]
    },
    {
     "name": "stderr",
     "output_type": "stream",
     "text": [
      "\r",
      " 80%|███████████████████████████████        | 797/1000 [05:51<01:16,  2.66it/s]"
     ]
    },
    {
     "name": "stdout",
     "output_type": "stream",
     "text": [
      "(40, 3)\n"
     ]
    },
    {
     "name": "stderr",
     "output_type": "stream",
     "text": [
      "\r",
      " 80%|███████████████████████████████        | 798/1000 [05:52<01:09,  2.91it/s]"
     ]
    },
    {
     "name": "stdout",
     "output_type": "stream",
     "text": [
      "(40, 3)\n"
     ]
    },
    {
     "name": "stderr",
     "output_type": "stream",
     "text": [
      "\r",
      " 80%|███████████████████████████████▏       | 799/1000 [05:52<01:02,  3.21it/s]"
     ]
    },
    {
     "name": "stdout",
     "output_type": "stream",
     "text": [
      "(35, 3)\n"
     ]
    },
    {
     "name": "stderr",
     "output_type": "stream",
     "text": [
      "\r",
      " 80%|███████████████████████████████▏       | 800/1000 [05:52<00:59,  3.33it/s]"
     ]
    },
    {
     "name": "stdout",
     "output_type": "stream",
     "text": [
      "(37, 3)\n"
     ]
    },
    {
     "name": "stderr",
     "output_type": "stream",
     "text": [
      "\r",
      " 80%|███████████████████████████████▏       | 801/1000 [05:52<00:58,  3.43it/s]"
     ]
    },
    {
     "name": "stdout",
     "output_type": "stream",
     "text": [
      "(41, 3)\n"
     ]
    },
    {
     "name": "stderr",
     "output_type": "stream",
     "text": [
      "\r",
      " 80%|███████████████████████████████▎       | 802/1000 [05:53<00:55,  3.56it/s]"
     ]
    },
    {
     "name": "stdout",
     "output_type": "stream",
     "text": [
      "(38, 3)\n"
     ]
    },
    {
     "name": "stderr",
     "output_type": "stream",
     "text": [
      "\r",
      " 80%|███████████████████████████████▎       | 803/1000 [05:53<00:58,  3.38it/s]"
     ]
    },
    {
     "name": "stdout",
     "output_type": "stream",
     "text": [
      "(35, 3)\n"
     ]
    },
    {
     "name": "stderr",
     "output_type": "stream",
     "text": [
      "\r",
      " 80%|███████████████████████████████▎       | 804/1000 [05:53<00:56,  3.44it/s]"
     ]
    },
    {
     "name": "stdout",
     "output_type": "stream",
     "text": [
      "(39, 3)\n"
     ]
    },
    {
     "name": "stderr",
     "output_type": "stream",
     "text": [
      "\r",
      " 80%|███████████████████████████████▍       | 805/1000 [05:53<00:54,  3.60it/s]"
     ]
    },
    {
     "name": "stdout",
     "output_type": "stream",
     "text": [
      "(37, 3)\n"
     ]
    },
    {
     "name": "stderr",
     "output_type": "stream",
     "text": [
      "\r",
      " 81%|███████████████████████████████▍       | 806/1000 [05:54<01:05,  2.96it/s]"
     ]
    },
    {
     "name": "stdout",
     "output_type": "stream",
     "text": [
      "(41, 3)\n"
     ]
    },
    {
     "name": "stderr",
     "output_type": "stream",
     "text": [
      "\r",
      " 81%|███████████████████████████████▍       | 807/1000 [05:54<01:03,  3.04it/s]"
     ]
    },
    {
     "name": "stdout",
     "output_type": "stream",
     "text": [
      "(40, 3)\n"
     ]
    },
    {
     "name": "stderr",
     "output_type": "stream",
     "text": [
      "\r",
      " 81%|███████████████████████████████▌       | 808/1000 [05:54<00:57,  3.33it/s]"
     ]
    },
    {
     "name": "stdout",
     "output_type": "stream",
     "text": [
      "(37, 3)\n"
     ]
    },
    {
     "name": "stderr",
     "output_type": "stream",
     "text": [
      "\r",
      " 81%|███████████████████████████████▌       | 809/1000 [05:56<01:49,  1.75it/s]"
     ]
    },
    {
     "name": "stdout",
     "output_type": "stream",
     "text": [
      "(39, 3)\n"
     ]
    },
    {
     "name": "stderr",
     "output_type": "stream",
     "text": [
      "\r",
      " 81%|███████████████████████████████▌       | 810/1000 [05:56<01:32,  2.05it/s]"
     ]
    },
    {
     "name": "stdout",
     "output_type": "stream",
     "text": [
      "(37, 3)\n"
     ]
    },
    {
     "name": "stderr",
     "output_type": "stream",
     "text": [
      "\r",
      " 81%|███████████████████████████████▋       | 811/1000 [05:56<01:18,  2.40it/s]"
     ]
    },
    {
     "name": "stdout",
     "output_type": "stream",
     "text": [
      "(37, 3)\n"
     ]
    },
    {
     "name": "stderr",
     "output_type": "stream",
     "text": [
      "\r",
      " 81%|███████████████████████████████▋       | 812/1000 [05:57<01:32,  2.03it/s]"
     ]
    },
    {
     "name": "stdout",
     "output_type": "stream",
     "text": [
      "(36, 3)\n"
     ]
    },
    {
     "name": "stderr",
     "output_type": "stream",
     "text": [
      "\r",
      " 81%|███████████████████████████████▋       | 813/1000 [05:57<01:20,  2.32it/s]"
     ]
    },
    {
     "name": "stdout",
     "output_type": "stream",
     "text": [
      "(37, 3)\n"
     ]
    },
    {
     "name": "stderr",
     "output_type": "stream",
     "text": [
      "\r",
      " 81%|███████████████████████████████▋       | 814/1000 [05:57<01:12,  2.55it/s]"
     ]
    },
    {
     "name": "stdout",
     "output_type": "stream",
     "text": [
      "(40, 3)\n"
     ]
    },
    {
     "name": "stderr",
     "output_type": "stream",
     "text": [
      "\r",
      " 82%|███████████████████████████████▊       | 815/1000 [05:58<01:02,  2.96it/s]"
     ]
    },
    {
     "name": "stdout",
     "output_type": "stream",
     "text": [
      "(37, 3)\n"
     ]
    },
    {
     "name": "stderr",
     "output_type": "stream",
     "text": [
      "\r",
      " 82%|███████████████████████████████▊       | 816/1000 [05:58<01:18,  2.34it/s]"
     ]
    },
    {
     "name": "stdout",
     "output_type": "stream",
     "text": [
      "(36, 3)\n"
     ]
    },
    {
     "name": "stderr",
     "output_type": "stream",
     "text": [
      "\r",
      " 82%|███████████████████████████████▊       | 817/1000 [05:59<01:18,  2.32it/s]"
     ]
    },
    {
     "name": "stdout",
     "output_type": "stream",
     "text": [
      "(36, 3)\n"
     ]
    },
    {
     "name": "stderr",
     "output_type": "stream",
     "text": [
      "\r",
      " 82%|███████████████████████████████▉       | 818/1000 [05:59<01:10,  2.58it/s]"
     ]
    },
    {
     "name": "stdout",
     "output_type": "stream",
     "text": [
      "(37, 3)\n"
     ]
    },
    {
     "name": "stderr",
     "output_type": "stream",
     "text": [
      "\r",
      " 82%|███████████████████████████████▉       | 819/1000 [05:59<01:02,  2.90it/s]"
     ]
    },
    {
     "name": "stdout",
     "output_type": "stream",
     "text": [
      "(36, 3)\n"
     ]
    },
    {
     "name": "stderr",
     "output_type": "stream",
     "text": [
      "\r",
      " 82%|███████████████████████████████▉       | 820/1000 [06:00<01:05,  2.75it/s]"
     ]
    },
    {
     "name": "stdout",
     "output_type": "stream",
     "text": [
      "(42, 3)\n"
     ]
    },
    {
     "name": "stderr",
     "output_type": "stream",
     "text": [
      "\r",
      " 82%|████████████████████████████████       | 821/1000 [06:00<01:03,  2.81it/s]"
     ]
    },
    {
     "name": "stdout",
     "output_type": "stream",
     "text": [
      "(41, 3)\n"
     ]
    },
    {
     "name": "stderr",
     "output_type": "stream",
     "text": [
      "\r",
      " 82%|████████████████████████████████       | 822/1000 [06:00<01:03,  2.81it/s]"
     ]
    },
    {
     "name": "stdout",
     "output_type": "stream",
     "text": [
      "(40, 3)\n"
     ]
    },
    {
     "name": "stderr",
     "output_type": "stream",
     "text": [
      "\r",
      " 82%|████████████████████████████████       | 823/1000 [06:01<01:18,  2.24it/s]"
     ]
    },
    {
     "name": "stdout",
     "output_type": "stream",
     "text": [
      "(35, 3)\n"
     ]
    },
    {
     "name": "stderr",
     "output_type": "stream",
     "text": [
      "\r",
      " 82%|████████████████████████████████▏      | 824/1000 [06:01<01:14,  2.37it/s]"
     ]
    },
    {
     "name": "stdout",
     "output_type": "stream",
     "text": [
      "(43, 3)\n"
     ]
    },
    {
     "name": "stderr",
     "output_type": "stream",
     "text": [
      "\r",
      " 82%|████████████████████████████████▏      | 825/1000 [06:02<01:33,  1.87it/s]"
     ]
    },
    {
     "name": "stdout",
     "output_type": "stream",
     "text": [
      "(39, 3)\n"
     ]
    },
    {
     "name": "stderr",
     "output_type": "stream",
     "text": [
      "\r",
      " 83%|████████████████████████████████▏      | 826/1000 [06:03<01:22,  2.12it/s]"
     ]
    },
    {
     "name": "stdout",
     "output_type": "stream",
     "text": [
      "(38, 3)\n"
     ]
    },
    {
     "name": "stderr",
     "output_type": "stream",
     "text": [
      "\r",
      " 83%|████████████████████████████████▎      | 827/1000 [06:03<01:46,  1.63it/s]"
     ]
    },
    {
     "name": "stdout",
     "output_type": "stream",
     "text": [
      "(38, 3)\n"
     ]
    },
    {
     "name": "stderr",
     "output_type": "stream",
     "text": [
      "\r",
      " 83%|████████████████████████████████▎      | 828/1000 [06:04<01:37,  1.76it/s]"
     ]
    },
    {
     "name": "stdout",
     "output_type": "stream",
     "text": [
      "(38, 3)\n"
     ]
    },
    {
     "name": "stderr",
     "output_type": "stream",
     "text": [
      "\r",
      " 83%|████████████████████████████████▎      | 829/1000 [06:04<01:37,  1.76it/s]"
     ]
    },
    {
     "name": "stdout",
     "output_type": "stream",
     "text": [
      "(39, 3)\n"
     ]
    },
    {
     "name": "stderr",
     "output_type": "stream",
     "text": [
      "\r",
      " 83%|████████████████████████████████▎      | 830/1000 [06:05<01:37,  1.74it/s]"
     ]
    },
    {
     "name": "stdout",
     "output_type": "stream",
     "text": [
      "(35, 3)\n"
     ]
    },
    {
     "name": "stderr",
     "output_type": "stream",
     "text": [
      "\r",
      " 83%|████████████████████████████████▍      | 831/1000 [06:06<01:37,  1.74it/s]"
     ]
    },
    {
     "name": "stdout",
     "output_type": "stream",
     "text": [
      "(40, 3)\n"
     ]
    },
    {
     "name": "stderr",
     "output_type": "stream",
     "text": [
      "\r",
      " 83%|████████████████████████████████▍      | 832/1000 [06:06<01:35,  1.75it/s]"
     ]
    },
    {
     "name": "stdout",
     "output_type": "stream",
     "text": [
      "(36, 3)\n"
     ]
    },
    {
     "name": "stderr",
     "output_type": "stream",
     "text": [
      "\r",
      " 83%|████████████████████████████████▍      | 833/1000 [06:07<01:24,  1.98it/s]"
     ]
    },
    {
     "name": "stdout",
     "output_type": "stream",
     "text": [
      "(42, 3)\n"
     ]
    },
    {
     "name": "stderr",
     "output_type": "stream",
     "text": [
      "\r",
      " 83%|████████████████████████████████▌      | 834/1000 [06:07<01:29,  1.86it/s]"
     ]
    },
    {
     "name": "stdout",
     "output_type": "stream",
     "text": [
      "(41, 3)\n"
     ]
    },
    {
     "name": "stderr",
     "output_type": "stream",
     "text": [
      "\r",
      " 84%|████████████████████████████████▌      | 835/1000 [06:08<01:20,  2.04it/s]"
     ]
    },
    {
     "name": "stdout",
     "output_type": "stream",
     "text": [
      "(40, 3)\n"
     ]
    },
    {
     "name": "stderr",
     "output_type": "stream",
     "text": [
      "\r",
      " 84%|████████████████████████████████▌      | 836/1000 [06:08<01:14,  2.20it/s]"
     ]
    },
    {
     "name": "stdout",
     "output_type": "stream",
     "text": [
      "(36, 3)\n"
     ]
    },
    {
     "name": "stderr",
     "output_type": "stream",
     "text": [
      "\r",
      " 84%|████████████████████████████████▋      | 837/1000 [06:08<01:06,  2.44it/s]"
     ]
    },
    {
     "name": "stdout",
     "output_type": "stream",
     "text": [
      "(41, 3)\n"
     ]
    },
    {
     "name": "stderr",
     "output_type": "stream",
     "text": [
      "\r",
      " 84%|████████████████████████████████▋      | 838/1000 [06:09<00:59,  2.71it/s]"
     ]
    },
    {
     "name": "stdout",
     "output_type": "stream",
     "text": [
      "(39, 3)\n"
     ]
    },
    {
     "name": "stderr",
     "output_type": "stream",
     "text": [
      "\r",
      " 84%|████████████████████████████████▋      | 839/1000 [06:09<00:58,  2.74it/s]"
     ]
    },
    {
     "name": "stdout",
     "output_type": "stream",
     "text": [
      "(41, 3)\n"
     ]
    },
    {
     "name": "stderr",
     "output_type": "stream",
     "text": [
      "\r",
      " 84%|████████████████████████████████▊      | 840/1000 [06:10<01:11,  2.23it/s]"
     ]
    },
    {
     "name": "stdout",
     "output_type": "stream",
     "text": [
      "(34, 3)\n"
     ]
    },
    {
     "name": "stderr",
     "output_type": "stream",
     "text": [
      "\r",
      " 84%|████████████████████████████████▊      | 841/1000 [06:10<01:07,  2.37it/s]"
     ]
    },
    {
     "name": "stdout",
     "output_type": "stream",
     "text": [
      "(39, 3)\n"
     ]
    },
    {
     "name": "stderr",
     "output_type": "stream",
     "text": [
      "\r",
      " 84%|████████████████████████████████▊      | 842/1000 [06:10<01:07,  2.34it/s]"
     ]
    },
    {
     "name": "stdout",
     "output_type": "stream",
     "text": [
      "(49, 3)\n"
     ]
    },
    {
     "name": "stderr",
     "output_type": "stream",
     "text": [
      "\r",
      " 84%|████████████████████████████████▉      | 843/1000 [06:11<01:03,  2.47it/s]"
     ]
    },
    {
     "name": "stdout",
     "output_type": "stream",
     "text": [
      "(44, 3)\n"
     ]
    },
    {
     "name": "stderr",
     "output_type": "stream",
     "text": [
      "\r",
      " 84%|████████████████████████████████▉      | 844/1000 [06:11<00:59,  2.62it/s]"
     ]
    },
    {
     "name": "stdout",
     "output_type": "stream",
     "text": [
      "(39, 3)\n"
     ]
    },
    {
     "name": "stderr",
     "output_type": "stream",
     "text": [
      "\r",
      " 84%|████████████████████████████████▉      | 845/1000 [06:11<00:56,  2.76it/s]"
     ]
    },
    {
     "name": "stdout",
     "output_type": "stream",
     "text": [
      "(42, 3)\n"
     ]
    },
    {
     "name": "stderr",
     "output_type": "stream",
     "text": [
      "\r",
      " 85%|████████████████████████████████▉      | 846/1000 [06:12<00:58,  2.62it/s]"
     ]
    },
    {
     "name": "stdout",
     "output_type": "stream",
     "text": [
      "(44, 3)\n"
     ]
    },
    {
     "name": "stderr",
     "output_type": "stream",
     "text": [
      "\r",
      " 85%|█████████████████████████████████      | 847/1000 [06:12<01:03,  2.43it/s]"
     ]
    },
    {
     "name": "stdout",
     "output_type": "stream",
     "text": [
      "(43, 3)\n"
     ]
    },
    {
     "name": "stderr",
     "output_type": "stream",
     "text": [
      "\r",
      " 85%|█████████████████████████████████      | 848/1000 [06:13<00:57,  2.65it/s]"
     ]
    },
    {
     "name": "stdout",
     "output_type": "stream",
     "text": [
      "(38, 3)\n"
     ]
    },
    {
     "name": "stderr",
     "output_type": "stream",
     "text": [
      "\r",
      " 85%|█████████████████████████████████      | 849/1000 [06:13<01:09,  2.18it/s]"
     ]
    },
    {
     "name": "stdout",
     "output_type": "stream",
     "text": [
      "(41, 3)\n"
     ]
    },
    {
     "name": "stderr",
     "output_type": "stream",
     "text": [
      "\r",
      " 85%|█████████████████████████████████▏     | 850/1000 [06:13<01:00,  2.48it/s]"
     ]
    },
    {
     "name": "stdout",
     "output_type": "stream",
     "text": [
      "(39, 3)\n"
     ]
    },
    {
     "name": "stderr",
     "output_type": "stream",
     "text": [
      "\r",
      " 85%|█████████████████████████████████▏     | 851/1000 [06:14<00:54,  2.73it/s]"
     ]
    },
    {
     "name": "stdout",
     "output_type": "stream",
     "text": [
      "(39, 3)\n"
     ]
    },
    {
     "name": "stderr",
     "output_type": "stream",
     "text": [
      "\r",
      " 85%|█████████████████████████████████▏     | 852/1000 [06:14<00:50,  2.95it/s]"
     ]
    },
    {
     "name": "stdout",
     "output_type": "stream",
     "text": [
      "(35, 3)\n"
     ]
    },
    {
     "name": "stderr",
     "output_type": "stream",
     "text": [
      "\r",
      " 85%|█████████████████████████████████▎     | 853/1000 [06:14<00:49,  2.99it/s]"
     ]
    },
    {
     "name": "stdout",
     "output_type": "stream",
     "text": [
      "(39, 3)\n"
     ]
    },
    {
     "name": "stderr",
     "output_type": "stream",
     "text": [
      "\r",
      " 85%|█████████████████████████████████▎     | 854/1000 [06:15<00:50,  2.90it/s]"
     ]
    },
    {
     "name": "stdout",
     "output_type": "stream",
     "text": [
      "(36, 3)\n"
     ]
    },
    {
     "name": "stderr",
     "output_type": "stream",
     "text": [
      "\r",
      " 86%|█████████████████████████████████▎     | 855/1000 [06:15<00:52,  2.74it/s]"
     ]
    },
    {
     "name": "stdout",
     "output_type": "stream",
     "text": [
      "(40, 3)\n"
     ]
    },
    {
     "name": "stderr",
     "output_type": "stream",
     "text": [
      "\r",
      " 86%|█████████████████████████████████▍     | 856/1000 [06:15<00:51,  2.80it/s]"
     ]
    },
    {
     "name": "stdout",
     "output_type": "stream",
     "text": [
      "(40, 3)\n"
     ]
    },
    {
     "name": "stderr",
     "output_type": "stream",
     "text": [
      "\r",
      " 86%|█████████████████████████████████▍     | 857/1000 [06:16<00:56,  2.52it/s]"
     ]
    },
    {
     "name": "stdout",
     "output_type": "stream",
     "text": [
      "(41, 3)\n"
     ]
    },
    {
     "name": "stderr",
     "output_type": "stream",
     "text": [
      "\r",
      " 86%|█████████████████████████████████▍     | 858/1000 [06:16<00:49,  2.86it/s]"
     ]
    },
    {
     "name": "stdout",
     "output_type": "stream",
     "text": [
      "(38, 3)\n"
     ]
    },
    {
     "name": "stderr",
     "output_type": "stream",
     "text": [
      "\r",
      " 86%|█████████████████████████████████▌     | 859/1000 [06:16<00:46,  3.03it/s]"
     ]
    },
    {
     "name": "stdout",
     "output_type": "stream",
     "text": [
      "(36, 3)\n"
     ]
    },
    {
     "name": "stderr",
     "output_type": "stream",
     "text": [
      "\r",
      " 86%|█████████████████████████████████▌     | 860/1000 [06:17<00:43,  3.19it/s]"
     ]
    },
    {
     "name": "stdout",
     "output_type": "stream",
     "text": [
      "(41, 3)\n"
     ]
    },
    {
     "name": "stderr",
     "output_type": "stream",
     "text": [
      "\r",
      " 86%|█████████████████████████████████▌     | 861/1000 [06:17<01:02,  2.21it/s]"
     ]
    },
    {
     "name": "stdout",
     "output_type": "stream",
     "text": [
      "(43, 3)\n"
     ]
    },
    {
     "name": "stderr",
     "output_type": "stream",
     "text": [
      "\r",
      " 86%|█████████████████████████████████▌     | 862/1000 [06:18<01:04,  2.14it/s]"
     ]
    },
    {
     "name": "stdout",
     "output_type": "stream",
     "text": [
      "(38, 3)\n"
     ]
    },
    {
     "name": "stderr",
     "output_type": "stream",
     "text": [
      "\r",
      " 86%|█████████████████████████████████▋     | 863/1000 [06:18<00:58,  2.34it/s]"
     ]
    },
    {
     "name": "stdout",
     "output_type": "stream",
     "text": [
      "(39, 3)\n"
     ]
    },
    {
     "name": "stderr",
     "output_type": "stream",
     "text": [
      "\r",
      " 86%|█████████████████████████████████▋     | 864/1000 [06:19<00:50,  2.68it/s]"
     ]
    },
    {
     "name": "stdout",
     "output_type": "stream",
     "text": [
      "(41, 3)\n"
     ]
    },
    {
     "name": "stderr",
     "output_type": "stream",
     "text": [
      "\r",
      " 86%|█████████████████████████████████▋     | 865/1000 [06:19<00:48,  2.78it/s]"
     ]
    },
    {
     "name": "stdout",
     "output_type": "stream",
     "text": [
      "(36, 3)\n"
     ]
    },
    {
     "name": "stderr",
     "output_type": "stream",
     "text": [
      "\r",
      " 87%|█████████████████████████████████▊     | 866/1000 [06:19<00:48,  2.79it/s]"
     ]
    },
    {
     "name": "stdout",
     "output_type": "stream",
     "text": [
      "(39, 3)\n"
     ]
    },
    {
     "name": "stderr",
     "output_type": "stream",
     "text": [
      "\r",
      " 87%|█████████████████████████████████▊     | 867/1000 [06:20<00:46,  2.88it/s]"
     ]
    },
    {
     "name": "stdout",
     "output_type": "stream",
     "text": [
      "(39, 3)\n"
     ]
    },
    {
     "name": "stderr",
     "output_type": "stream",
     "text": [
      "\r",
      " 87%|█████████████████████████████████▊     | 868/1000 [06:21<01:21,  1.62it/s]"
     ]
    },
    {
     "name": "stdout",
     "output_type": "stream",
     "text": [
      "(41, 3)\n"
     ]
    },
    {
     "name": "stderr",
     "output_type": "stream",
     "text": [
      "\r",
      " 87%|█████████████████████████████████▉     | 869/1000 [06:21<01:08,  1.93it/s]"
     ]
    },
    {
     "name": "stdout",
     "output_type": "stream",
     "text": [
      "(41, 3)\n"
     ]
    },
    {
     "name": "stderr",
     "output_type": "stream",
     "text": [
      "\r",
      " 87%|█████████████████████████████████▉     | 870/1000 [06:22<01:16,  1.71it/s]"
     ]
    },
    {
     "name": "stdout",
     "output_type": "stream",
     "text": [
      "(44, 3)\n"
     ]
    },
    {
     "name": "stderr",
     "output_type": "stream",
     "text": [
      "\r",
      " 87%|█████████████████████████████████▉     | 871/1000 [06:22<01:02,  2.08it/s]"
     ]
    },
    {
     "name": "stdout",
     "output_type": "stream",
     "text": [
      "(37, 3)\n"
     ]
    },
    {
     "name": "stderr",
     "output_type": "stream",
     "text": [
      " 87%|██████████████████████████████████     | 873/1000 [06:23<00:44,  2.88it/s]"
     ]
    },
    {
     "name": "stdout",
     "output_type": "stream",
     "text": [
      "(39, 3)\n",
      "(39, 3)\n"
     ]
    },
    {
     "name": "stderr",
     "output_type": "stream",
     "text": [
      "\r",
      " 87%|██████████████████████████████████     | 874/1000 [06:23<00:38,  3.24it/s]"
     ]
    },
    {
     "name": "stdout",
     "output_type": "stream",
     "text": [
      "(36, 3)\n"
     ]
    },
    {
     "name": "stderr",
     "output_type": "stream",
     "text": [
      "\r",
      " 88%|██████████████████████████████████▏    | 875/1000 [06:23<00:38,  3.21it/s]"
     ]
    },
    {
     "name": "stdout",
     "output_type": "stream",
     "text": [
      "(39, 3)\n"
     ]
    },
    {
     "name": "stderr",
     "output_type": "stream",
     "text": [
      "\r",
      " 88%|██████████████████████████████████▏    | 876/1000 [06:23<00:37,  3.33it/s]"
     ]
    },
    {
     "name": "stdout",
     "output_type": "stream",
     "text": [
      "(40, 3)\n"
     ]
    },
    {
     "name": "stderr",
     "output_type": "stream",
     "text": [
      "\r",
      " 88%|██████████████████████████████████▏    | 877/1000 [06:24<00:35,  3.49it/s]"
     ]
    },
    {
     "name": "stdout",
     "output_type": "stream",
     "text": [
      "(40, 3)\n"
     ]
    },
    {
     "name": "stderr",
     "output_type": "stream",
     "text": [
      "\r",
      " 88%|██████████████████████████████████▏    | 878/1000 [06:24<00:35,  3.48it/s]"
     ]
    },
    {
     "name": "stdout",
     "output_type": "stream",
     "text": [
      "(41, 3)\n"
     ]
    },
    {
     "name": "stderr",
     "output_type": "stream",
     "text": [
      "\r",
      " 88%|██████████████████████████████████▎    | 879/1000 [06:24<00:34,  3.53it/s]"
     ]
    },
    {
     "name": "stdout",
     "output_type": "stream",
     "text": [
      "(39, 3)\n"
     ]
    },
    {
     "name": "stderr",
     "output_type": "stream",
     "text": [
      "\r",
      " 88%|██████████████████████████████████▎    | 880/1000 [06:25<00:35,  3.41it/s]"
     ]
    },
    {
     "name": "stdout",
     "output_type": "stream",
     "text": [
      "(35, 3)\n"
     ]
    },
    {
     "name": "stderr",
     "output_type": "stream",
     "text": [
      "\r",
      " 88%|██████████████████████████████████▎    | 881/1000 [06:25<00:35,  3.35it/s]"
     ]
    },
    {
     "name": "stdout",
     "output_type": "stream",
     "text": [
      "(40, 3)\n"
     ]
    },
    {
     "name": "stderr",
     "output_type": "stream",
     "text": [
      "\r",
      " 88%|██████████████████████████████████▍    | 882/1000 [06:25<00:33,  3.48it/s]"
     ]
    },
    {
     "name": "stdout",
     "output_type": "stream",
     "text": [
      "(39, 3)\n"
     ]
    },
    {
     "name": "stderr",
     "output_type": "stream",
     "text": [
      " 88%|██████████████████████████████████▍    | 884/1000 [06:26<00:30,  3.77it/s]"
     ]
    },
    {
     "name": "stdout",
     "output_type": "stream",
     "text": [
      "(41, 3)\n",
      "(40, 3)\n"
     ]
    },
    {
     "name": "stderr",
     "output_type": "stream",
     "text": [
      "\r",
      " 88%|██████████████████████████████████▌    | 885/1000 [06:26<00:29,  3.96it/s]"
     ]
    },
    {
     "name": "stdout",
     "output_type": "stream",
     "text": [
      "(36, 3)\n"
     ]
    },
    {
     "name": "stderr",
     "output_type": "stream",
     "text": [
      "\r",
      " 89%|██████████████████████████████████▌    | 886/1000 [06:26<00:27,  4.09it/s]"
     ]
    },
    {
     "name": "stdout",
     "output_type": "stream",
     "text": [
      "(37, 3)\n"
     ]
    },
    {
     "name": "stderr",
     "output_type": "stream",
     "text": [
      " 89%|██████████████████████████████████▋    | 888/1000 [06:27<00:35,  3.14it/s]"
     ]
    },
    {
     "name": "stdout",
     "output_type": "stream",
     "text": [
      "(45, 3)\n",
      "(34, 3)\n"
     ]
    },
    {
     "name": "stderr",
     "output_type": "stream",
     "text": [
      "\r",
      " 89%|██████████████████████████████████▋    | 889/1000 [06:27<00:37,  2.99it/s]"
     ]
    },
    {
     "name": "stdout",
     "output_type": "stream",
     "text": [
      "(38, 3)\n"
     ]
    },
    {
     "name": "stderr",
     "output_type": "stream",
     "text": [
      "\r",
      " 89%|██████████████████████████████████▋    | 890/1000 [06:28<00:34,  3.23it/s]"
     ]
    },
    {
     "name": "stdout",
     "output_type": "stream",
     "text": [
      "(39, 3)\n"
     ]
    },
    {
     "name": "stderr",
     "output_type": "stream",
     "text": [
      "\r",
      " 89%|██████████████████████████████████▋    | 891/1000 [06:28<00:52,  2.08it/s]"
     ]
    },
    {
     "name": "stdout",
     "output_type": "stream",
     "text": [
      "(42, 3)\n"
     ]
    },
    {
     "name": "stderr",
     "output_type": "stream",
     "text": [
      "\r",
      " 89%|██████████████████████████████████▊    | 892/1000 [06:29<00:55,  1.93it/s]"
     ]
    },
    {
     "name": "stdout",
     "output_type": "stream",
     "text": [
      "(39, 3)\n"
     ]
    },
    {
     "name": "stderr",
     "output_type": "stream",
     "text": [
      "\r",
      " 89%|██████████████████████████████████▊    | 893/1000 [06:30<01:02,  1.72it/s]"
     ]
    },
    {
     "name": "stdout",
     "output_type": "stream",
     "text": [
      "(41, 3)\n"
     ]
    },
    {
     "name": "stderr",
     "output_type": "stream",
     "text": [
      "\r",
      " 89%|██████████████████████████████████▊    | 894/1000 [06:30<00:50,  2.10it/s]"
     ]
    },
    {
     "name": "stdout",
     "output_type": "stream",
     "text": [
      "(36, 3)\n"
     ]
    },
    {
     "name": "stderr",
     "output_type": "stream",
     "text": [
      "\r",
      " 90%|██████████████████████████████████▉    | 895/1000 [06:30<00:41,  2.51it/s]"
     ]
    },
    {
     "name": "stdout",
     "output_type": "stream",
     "text": [
      "(35, 3)\n"
     ]
    },
    {
     "name": "stderr",
     "output_type": "stream",
     "text": [
      "\r",
      " 90%|██████████████████████████████████▉    | 896/1000 [06:30<00:36,  2.87it/s]"
     ]
    },
    {
     "name": "stdout",
     "output_type": "stream",
     "text": [
      "(35, 3)\n"
     ]
    },
    {
     "name": "stderr",
     "output_type": "stream",
     "text": [
      "\r",
      " 90%|██████████████████████████████████▉    | 897/1000 [06:31<00:41,  2.51it/s]"
     ]
    },
    {
     "name": "stdout",
     "output_type": "stream",
     "text": [
      "(41, 3)\n"
     ]
    },
    {
     "name": "stderr",
     "output_type": "stream",
     "text": [
      "\r",
      " 90%|███████████████████████████████████    | 898/1000 [06:32<00:52,  1.94it/s]"
     ]
    },
    {
     "name": "stdout",
     "output_type": "stream",
     "text": [
      "(42, 3)\n"
     ]
    },
    {
     "name": "stderr",
     "output_type": "stream",
     "text": [
      "\r",
      " 90%|███████████████████████████████████    | 899/1000 [06:32<00:51,  1.97it/s]"
     ]
    },
    {
     "name": "stdout",
     "output_type": "stream",
     "text": [
      "(37, 3)\n"
     ]
    },
    {
     "name": "stderr",
     "output_type": "stream",
     "text": [
      "\r",
      " 90%|███████████████████████████████████    | 900/1000 [06:32<00:43,  2.30it/s]"
     ]
    },
    {
     "name": "stdout",
     "output_type": "stream",
     "text": [
      "(39, 3)\n"
     ]
    },
    {
     "name": "stderr",
     "output_type": "stream",
     "text": [
      "\r",
      " 90%|███████████████████████████████████▏   | 901/1000 [06:33<00:37,  2.66it/s]"
     ]
    },
    {
     "name": "stdout",
     "output_type": "stream",
     "text": [
      "(36, 3)\n"
     ]
    },
    {
     "name": "stderr",
     "output_type": "stream",
     "text": [
      "\r",
      " 90%|███████████████████████████████████▏   | 902/1000 [06:33<00:45,  2.17it/s]"
     ]
    },
    {
     "name": "stdout",
     "output_type": "stream",
     "text": [
      "(43, 3)\n"
     ]
    },
    {
     "name": "stderr",
     "output_type": "stream",
     "text": [
      "\r",
      " 90%|███████████████████████████████████▏   | 903/1000 [06:34<00:37,  2.57it/s]"
     ]
    },
    {
     "name": "stdout",
     "output_type": "stream",
     "text": [
      "(35, 3)\n"
     ]
    },
    {
     "name": "stderr",
     "output_type": "stream",
     "text": [
      " 90%|███████████████████████████████████▎   | 905/1000 [06:34<00:30,  3.11it/s]"
     ]
    },
    {
     "name": "stdout",
     "output_type": "stream",
     "text": [
      "(41, 3)\n",
      "(35, 3)\n"
     ]
    },
    {
     "name": "stderr",
     "output_type": "stream",
     "text": [
      "\r",
      " 91%|███████████████████████████████████▎   | 906/1000 [06:34<00:31,  3.03it/s]"
     ]
    },
    {
     "name": "stdout",
     "output_type": "stream",
     "text": [
      "(36, 3)\n"
     ]
    },
    {
     "name": "stderr",
     "output_type": "stream",
     "text": [
      "\r",
      " 91%|███████████████████████████████████▎   | 907/1000 [06:35<00:29,  3.17it/s]"
     ]
    },
    {
     "name": "stdout",
     "output_type": "stream",
     "text": [
      "(38, 3)\n"
     ]
    },
    {
     "name": "stderr",
     "output_type": "stream",
     "text": [
      "\r",
      " 91%|███████████████████████████████████▍   | 908/1000 [06:35<00:27,  3.29it/s]"
     ]
    },
    {
     "name": "stdout",
     "output_type": "stream",
     "text": [
      "(40, 3)\n"
     ]
    },
    {
     "name": "stderr",
     "output_type": "stream",
     "text": [
      "\r",
      " 91%|███████████████████████████████████▍   | 909/1000 [06:35<00:31,  2.91it/s]"
     ]
    },
    {
     "name": "stdout",
     "output_type": "stream",
     "text": [
      "(36, 3)\n"
     ]
    },
    {
     "name": "stderr",
     "output_type": "stream",
     "text": [
      "\r",
      " 91%|███████████████████████████████████▍   | 910/1000 [06:36<00:34,  2.60it/s]"
     ]
    },
    {
     "name": "stdout",
     "output_type": "stream",
     "text": [
      "(38, 3)\n"
     ]
    },
    {
     "name": "stderr",
     "output_type": "stream",
     "text": [
      "\r",
      " 91%|███████████████████████████████████▌   | 911/1000 [06:36<00:30,  2.92it/s]"
     ]
    },
    {
     "name": "stdout",
     "output_type": "stream",
     "text": [
      "(37, 3)\n"
     ]
    },
    {
     "name": "stderr",
     "output_type": "stream",
     "text": [
      "\r",
      " 91%|███████████████████████████████████▌   | 912/1000 [06:36<00:27,  3.19it/s]"
     ]
    },
    {
     "name": "stdout",
     "output_type": "stream",
     "text": [
      "(41, 3)\n"
     ]
    },
    {
     "name": "stderr",
     "output_type": "stream",
     "text": [
      "\r",
      " 91%|███████████████████████████████████▌   | 913/1000 [06:37<00:25,  3.41it/s]"
     ]
    },
    {
     "name": "stdout",
     "output_type": "stream",
     "text": [
      "(40, 3)\n"
     ]
    },
    {
     "name": "stderr",
     "output_type": "stream",
     "text": [
      "\r",
      " 91%|███████████████████████████████████▋   | 914/1000 [06:38<00:44,  1.92it/s]"
     ]
    },
    {
     "name": "stdout",
     "output_type": "stream",
     "text": [
      "(37, 3)\n"
     ]
    },
    {
     "name": "stderr",
     "output_type": "stream",
     "text": [
      "\r",
      " 92%|███████████████████████████████████▋   | 915/1000 [06:38<00:45,  1.85it/s]"
     ]
    },
    {
     "name": "stdout",
     "output_type": "stream",
     "text": [
      "(37, 3)\n"
     ]
    },
    {
     "name": "stderr",
     "output_type": "stream",
     "text": [
      " 92%|███████████████████████████████████▊   | 917/1000 [06:39<00:31,  2.67it/s]"
     ]
    },
    {
     "name": "stdout",
     "output_type": "stream",
     "text": [
      "(37, 3)\n",
      "(36, 3)\n"
     ]
    },
    {
     "name": "stderr",
     "output_type": "stream",
     "text": [
      "\r",
      " 92%|███████████████████████████████████▊   | 918/1000 [06:39<00:31,  2.58it/s]"
     ]
    },
    {
     "name": "stdout",
     "output_type": "stream",
     "text": [
      "(42, 3)\n"
     ]
    },
    {
     "name": "stderr",
     "output_type": "stream",
     "text": [
      "\r",
      " 92%|███████████████████████████████████▊   | 919/1000 [06:40<00:30,  2.65it/s]"
     ]
    },
    {
     "name": "stdout",
     "output_type": "stream",
     "text": [
      "(37, 3)\n"
     ]
    },
    {
     "name": "stderr",
     "output_type": "stream",
     "text": [
      "\r",
      " 92%|███████████████████████████████████▉   | 920/1000 [06:40<00:31,  2.51it/s]"
     ]
    },
    {
     "name": "stdout",
     "output_type": "stream",
     "text": [
      "(42, 3)\n"
     ]
    },
    {
     "name": "stderr",
     "output_type": "stream",
     "text": [
      " 92%|███████████████████████████████████▉   | 922/1000 [06:40<00:24,  3.16it/s]"
     ]
    },
    {
     "name": "stdout",
     "output_type": "stream",
     "text": [
      "(36, 3)\n",
      "(33, 3)\n"
     ]
    },
    {
     "name": "stderr",
     "output_type": "stream",
     "text": [
      "\r",
      " 92%|███████████████████████████████████▉   | 923/1000 [06:41<00:21,  3.51it/s]"
     ]
    },
    {
     "name": "stdout",
     "output_type": "stream",
     "text": [
      "(33, 3)\n"
     ]
    },
    {
     "name": "stderr",
     "output_type": "stream",
     "text": [
      "\r",
      " 92%|████████████████████████████████████   | 924/1000 [06:41<00:22,  3.45it/s]"
     ]
    },
    {
     "name": "stdout",
     "output_type": "stream",
     "text": [
      "(42, 3)\n"
     ]
    },
    {
     "name": "stderr",
     "output_type": "stream",
     "text": [
      "\r",
      " 92%|████████████████████████████████████   | 925/1000 [06:42<00:27,  2.77it/s]"
     ]
    },
    {
     "name": "stdout",
     "output_type": "stream",
     "text": [
      "(38, 3)\n"
     ]
    },
    {
     "name": "stderr",
     "output_type": "stream",
     "text": [
      "\r",
      " 93%|████████████████████████████████████   | 926/1000 [06:42<00:31,  2.33it/s]"
     ]
    },
    {
     "name": "stdout",
     "output_type": "stream",
     "text": [
      "(44, 3)\n"
     ]
    },
    {
     "name": "stderr",
     "output_type": "stream",
     "text": [
      "\r",
      " 93%|████████████████████████████████████▏  | 927/1000 [06:42<00:29,  2.46it/s]"
     ]
    },
    {
     "name": "stdout",
     "output_type": "stream",
     "text": [
      "(42, 3)\n"
     ]
    },
    {
     "name": "stderr",
     "output_type": "stream",
     "text": [
      "\r",
      " 93%|████████████████████████████████████▏  | 928/1000 [06:43<00:26,  2.68it/s]"
     ]
    },
    {
     "name": "stdout",
     "output_type": "stream",
     "text": [
      "(38, 3)\n"
     ]
    },
    {
     "name": "stderr",
     "output_type": "stream",
     "text": [
      "\r",
      " 93%|████████████████████████████████████▏  | 929/1000 [06:44<00:38,  1.87it/s]"
     ]
    },
    {
     "name": "stdout",
     "output_type": "stream",
     "text": [
      "(37, 3)\n"
     ]
    },
    {
     "name": "stderr",
     "output_type": "stream",
     "text": [
      "\r",
      " 93%|████████████████████████████████████▎  | 930/1000 [06:44<00:41,  1.68it/s]"
     ]
    },
    {
     "name": "stdout",
     "output_type": "stream",
     "text": [
      "(37, 3)\n"
     ]
    },
    {
     "name": "stderr",
     "output_type": "stream",
     "text": [
      "\r",
      " 93%|████████████████████████████████████▎  | 931/1000 [06:45<00:35,  1.96it/s]"
     ]
    },
    {
     "name": "stdout",
     "output_type": "stream",
     "text": [
      "(40, 3)\n"
     ]
    },
    {
     "name": "stderr",
     "output_type": "stream",
     "text": [
      "\r",
      " 93%|████████████████████████████████████▎  | 932/1000 [06:45<00:31,  2.19it/s]"
     ]
    },
    {
     "name": "stdout",
     "output_type": "stream",
     "text": [
      "(34, 3)\n"
     ]
    },
    {
     "name": "stderr",
     "output_type": "stream",
     "text": [
      "\r",
      " 93%|████████████████████████████████████▍  | 933/1000 [06:45<00:27,  2.44it/s]"
     ]
    },
    {
     "name": "stdout",
     "output_type": "stream",
     "text": [
      "(36, 3)\n"
     ]
    },
    {
     "name": "stderr",
     "output_type": "stream",
     "text": [
      "\r",
      " 93%|████████████████████████████████████▍  | 934/1000 [06:46<00:24,  2.70it/s]"
     ]
    },
    {
     "name": "stdout",
     "output_type": "stream",
     "text": [
      "(36, 3)\n"
     ]
    },
    {
     "name": "stderr",
     "output_type": "stream",
     "text": [
      "\r",
      " 94%|████████████████████████████████████▍  | 935/1000 [06:46<00:23,  2.72it/s]"
     ]
    },
    {
     "name": "stdout",
     "output_type": "stream",
     "text": [
      "(43, 3)\n"
     ]
    },
    {
     "name": "stderr",
     "output_type": "stream",
     "text": [
      "\r",
      " 94%|████████████████████████████████████▌  | 936/1000 [06:46<00:22,  2.79it/s]"
     ]
    },
    {
     "name": "stdout",
     "output_type": "stream",
     "text": [
      "(45, 3)\n"
     ]
    },
    {
     "name": "stderr",
     "output_type": "stream",
     "text": [
      "\r",
      " 94%|████████████████████████████████████▌  | 937/1000 [06:47<00:22,  2.82it/s]"
     ]
    },
    {
     "name": "stdout",
     "output_type": "stream",
     "text": [
      "(38, 3)\n"
     ]
    },
    {
     "name": "stderr",
     "output_type": "stream",
     "text": [
      "\r",
      " 94%|████████████████████████████████████▌  | 938/1000 [06:47<00:20,  2.97it/s]"
     ]
    },
    {
     "name": "stdout",
     "output_type": "stream",
     "text": [
      "(37, 3)\n"
     ]
    },
    {
     "name": "stderr",
     "output_type": "stream",
     "text": [
      "\r",
      " 94%|████████████████████████████████████▌  | 939/1000 [06:47<00:22,  2.72it/s]"
     ]
    },
    {
     "name": "stdout",
     "output_type": "stream",
     "text": [
      "(39, 3)\n"
     ]
    },
    {
     "name": "stderr",
     "output_type": "stream",
     "text": [
      "\r",
      " 94%|████████████████████████████████████▋  | 940/1000 [06:48<00:26,  2.25it/s]"
     ]
    },
    {
     "name": "stdout",
     "output_type": "stream",
     "text": [
      "(38, 3)\n"
     ]
    },
    {
     "name": "stderr",
     "output_type": "stream",
     "text": [
      "\r",
      " 94%|████████████████████████████████████▋  | 941/1000 [06:49<00:28,  2.06it/s]"
     ]
    },
    {
     "name": "stdout",
     "output_type": "stream",
     "text": [
      "(37, 3)\n"
     ]
    },
    {
     "name": "stderr",
     "output_type": "stream",
     "text": [
      "\r",
      " 94%|████████████████████████████████████▋  | 942/1000 [06:49<00:25,  2.30it/s]"
     ]
    },
    {
     "name": "stdout",
     "output_type": "stream",
     "text": [
      "(39, 3)\n"
     ]
    },
    {
     "name": "stderr",
     "output_type": "stream",
     "text": [
      "\r",
      " 94%|████████████████████████████████████▊  | 943/1000 [06:49<00:22,  2.52it/s]"
     ]
    },
    {
     "name": "stdout",
     "output_type": "stream",
     "text": [
      "(39, 3)\n"
     ]
    },
    {
     "name": "stderr",
     "output_type": "stream",
     "text": [
      "\r",
      " 94%|████████████████████████████████████▊  | 944/1000 [06:50<00:24,  2.32it/s]"
     ]
    },
    {
     "name": "stdout",
     "output_type": "stream",
     "text": [
      "(42, 3)\n"
     ]
    },
    {
     "name": "stderr",
     "output_type": "stream",
     "text": [
      "\r",
      " 94%|████████████████████████████████████▊  | 945/1000 [06:50<00:21,  2.53it/s]"
     ]
    },
    {
     "name": "stdout",
     "output_type": "stream",
     "text": [
      "(38, 3)\n"
     ]
    },
    {
     "name": "stderr",
     "output_type": "stream",
     "text": [
      "\r",
      " 95%|████████████████████████████████████▉  | 946/1000 [06:50<00:20,  2.67it/s]"
     ]
    },
    {
     "name": "stdout",
     "output_type": "stream",
     "text": [
      "(41, 3)\n"
     ]
    },
    {
     "name": "stderr",
     "output_type": "stream",
     "text": [
      "\r",
      " 95%|████████████████████████████████████▉  | 947/1000 [06:51<00:23,  2.25it/s]"
     ]
    },
    {
     "name": "stdout",
     "output_type": "stream",
     "text": [
      "(43, 3)\n"
     ]
    },
    {
     "name": "stderr",
     "output_type": "stream",
     "text": [
      "\r",
      " 95%|████████████████████████████████████▉  | 948/1000 [06:52<00:30,  1.73it/s]"
     ]
    },
    {
     "name": "stdout",
     "output_type": "stream",
     "text": [
      "(45, 3)\n"
     ]
    },
    {
     "name": "stderr",
     "output_type": "stream",
     "text": [
      "\r",
      " 95%|█████████████████████████████████████  | 949/1000 [06:53<00:33,  1.53it/s]"
     ]
    },
    {
     "name": "stdout",
     "output_type": "stream",
     "text": [
      "(41, 3)\n"
     ]
    },
    {
     "name": "stderr",
     "output_type": "stream",
     "text": [
      "\r",
      " 95%|█████████████████████████████████████  | 950/1000 [06:53<00:30,  1.66it/s]"
     ]
    },
    {
     "name": "stdout",
     "output_type": "stream",
     "text": [
      "(38, 3)\n"
     ]
    },
    {
     "name": "stderr",
     "output_type": "stream",
     "text": [
      "\r",
      " 95%|█████████████████████████████████████  | 951/1000 [06:54<00:26,  1.84it/s]"
     ]
    },
    {
     "name": "stdout",
     "output_type": "stream",
     "text": [
      "(36, 3)\n"
     ]
    },
    {
     "name": "stderr",
     "output_type": "stream",
     "text": [
      "\r",
      " 95%|█████████████████████████████████████▏ | 952/1000 [06:54<00:22,  2.15it/s]"
     ]
    },
    {
     "name": "stdout",
     "output_type": "stream",
     "text": [
      "(38, 3)\n"
     ]
    },
    {
     "name": "stderr",
     "output_type": "stream",
     "text": [
      "\r",
      " 95%|█████████████████████████████████████▏ | 953/1000 [06:54<00:22,  2.09it/s]"
     ]
    },
    {
     "name": "stdout",
     "output_type": "stream",
     "text": [
      "(38, 3)\n"
     ]
    },
    {
     "name": "stderr",
     "output_type": "stream",
     "text": [
      "\r",
      " 95%|█████████████████████████████████████▏ | 954/1000 [06:55<00:19,  2.39it/s]"
     ]
    },
    {
     "name": "stdout",
     "output_type": "stream",
     "text": [
      "(37, 3)\n"
     ]
    },
    {
     "name": "stderr",
     "output_type": "stream",
     "text": [
      "\r",
      " 96%|█████████████████████████████████████▏ | 955/1000 [06:55<00:16,  2.67it/s]"
     ]
    },
    {
     "name": "stdout",
     "output_type": "stream",
     "text": [
      "(40, 3)\n"
     ]
    },
    {
     "name": "stderr",
     "output_type": "stream",
     "text": [
      "\r",
      " 96%|█████████████████████████████████████▎ | 956/1000 [06:55<00:16,  2.60it/s]"
     ]
    },
    {
     "name": "stdout",
     "output_type": "stream",
     "text": [
      "(38, 3)\n"
     ]
    },
    {
     "name": "stderr",
     "output_type": "stream",
     "text": [
      "\r",
      " 96%|█████████████████████████████████████▎ | 957/1000 [06:56<00:15,  2.79it/s]"
     ]
    },
    {
     "name": "stdout",
     "output_type": "stream",
     "text": [
      "(40, 3)\n"
     ]
    },
    {
     "name": "stderr",
     "output_type": "stream",
     "text": [
      "\r",
      " 96%|█████████████████████████████████████▎ | 958/1000 [06:56<00:15,  2.72it/s]"
     ]
    },
    {
     "name": "stdout",
     "output_type": "stream",
     "text": [
      "(44, 3)\n"
     ]
    },
    {
     "name": "stderr",
     "output_type": "stream",
     "text": [
      "\r",
      " 96%|█████████████████████████████████████▍ | 959/1000 [06:57<00:21,  1.94it/s]"
     ]
    },
    {
     "name": "stdout",
     "output_type": "stream",
     "text": [
      "(38, 3)\n"
     ]
    },
    {
     "name": "stderr",
     "output_type": "stream",
     "text": [
      "\r",
      " 96%|█████████████████████████████████████▍ | 960/1000 [06:57<00:19,  2.07it/s]"
     ]
    },
    {
     "name": "stdout",
     "output_type": "stream",
     "text": [
      "(37, 3)\n"
     ]
    },
    {
     "name": "stderr",
     "output_type": "stream",
     "text": [
      "\r",
      " 96%|█████████████████████████████████████▍ | 961/1000 [06:58<00:18,  2.07it/s]"
     ]
    },
    {
     "name": "stdout",
     "output_type": "stream",
     "text": [
      "(40, 3)\n"
     ]
    },
    {
     "name": "stderr",
     "output_type": "stream",
     "text": [
      "\r",
      " 96%|█████████████████████████████████████▌ | 962/1000 [06:58<00:17,  2.21it/s]"
     ]
    },
    {
     "name": "stdout",
     "output_type": "stream",
     "text": [
      "(36, 3)\n"
     ]
    },
    {
     "name": "stderr",
     "output_type": "stream",
     "text": [
      "\r",
      " 96%|█████████████████████████████████████▌ | 963/1000 [06:58<00:14,  2.52it/s]"
     ]
    },
    {
     "name": "stdout",
     "output_type": "stream",
     "text": [
      "(37, 3)\n"
     ]
    },
    {
     "name": "stderr",
     "output_type": "stream",
     "text": [
      "\r",
      " 96%|█████████████████████████████████████▌ | 964/1000 [06:59<00:17,  2.11it/s]"
     ]
    },
    {
     "name": "stdout",
     "output_type": "stream",
     "text": [
      "(41, 3)\n"
     ]
    },
    {
     "name": "stderr",
     "output_type": "stream",
     "text": [
      "\r",
      " 96%|█████████████████████████████████████▋ | 965/1000 [07:00<00:18,  1.94it/s]"
     ]
    },
    {
     "name": "stdout",
     "output_type": "stream",
     "text": [
      "(38, 3)\n"
     ]
    },
    {
     "name": "stderr",
     "output_type": "stream",
     "text": [
      "\r",
      " 97%|█████████████████████████████████████▋ | 966/1000 [07:00<00:19,  1.73it/s]"
     ]
    },
    {
     "name": "stdout",
     "output_type": "stream",
     "text": [
      "(38, 3)\n"
     ]
    },
    {
     "name": "stderr",
     "output_type": "stream",
     "text": [
      "\r",
      " 97%|█████████████████████████████████████▋ | 967/1000 [07:01<00:15,  2.09it/s]"
     ]
    },
    {
     "name": "stdout",
     "output_type": "stream",
     "text": [
      "(38, 3)\n"
     ]
    },
    {
     "name": "stderr",
     "output_type": "stream",
     "text": [
      "\r",
      " 97%|█████████████████████████████████████▊ | 968/1000 [07:01<00:14,  2.26it/s]"
     ]
    },
    {
     "name": "stdout",
     "output_type": "stream",
     "text": [
      "(39, 3)\n"
     ]
    },
    {
     "name": "stderr",
     "output_type": "stream",
     "text": [
      "\r",
      " 97%|█████████████████████████████████████▊ | 969/1000 [07:01<00:13,  2.36it/s]"
     ]
    },
    {
     "name": "stdout",
     "output_type": "stream",
     "text": [
      "(43, 3)\n"
     ]
    },
    {
     "name": "stderr",
     "output_type": "stream",
     "text": [
      "\r",
      " 97%|█████████████████████████████████████▊ | 970/1000 [07:02<00:12,  2.48it/s]"
     ]
    },
    {
     "name": "stdout",
     "output_type": "stream",
     "text": [
      "(43, 3)\n"
     ]
    },
    {
     "name": "stderr",
     "output_type": "stream",
     "text": [
      "\r",
      " 97%|█████████████████████████████████████▊ | 971/1000 [07:02<00:10,  2.76it/s]"
     ]
    },
    {
     "name": "stdout",
     "output_type": "stream",
     "text": [
      "(37, 3)\n"
     ]
    },
    {
     "name": "stderr",
     "output_type": "stream",
     "text": [
      "\r",
      " 97%|█████████████████████████████████████▉ | 972/1000 [07:02<00:09,  2.87it/s]"
     ]
    },
    {
     "name": "stdout",
     "output_type": "stream",
     "text": [
      "(46, 3)\n"
     ]
    },
    {
     "name": "stderr",
     "output_type": "stream",
     "text": [
      "\r",
      " 97%|█████████████████████████████████████▉ | 973/1000 [07:03<00:09,  2.85it/s]"
     ]
    },
    {
     "name": "stdout",
     "output_type": "stream",
     "text": [
      "(44, 3)\n"
     ]
    },
    {
     "name": "stderr",
     "output_type": "stream",
     "text": [
      "\r",
      " 97%|█████████████████████████████████████▉ | 974/1000 [07:03<00:08,  2.95it/s]"
     ]
    },
    {
     "name": "stdout",
     "output_type": "stream",
     "text": [
      "(44, 3)\n"
     ]
    },
    {
     "name": "stderr",
     "output_type": "stream",
     "text": [
      "\r",
      " 98%|██████████████████████████████████████ | 975/1000 [07:03<00:09,  2.75it/s]"
     ]
    },
    {
     "name": "stdout",
     "output_type": "stream",
     "text": [
      "(39, 3)\n"
     ]
    },
    {
     "name": "stderr",
     "output_type": "stream",
     "text": [
      "\r",
      " 98%|██████████████████████████████████████ | 976/1000 [07:04<00:12,  1.92it/s]"
     ]
    },
    {
     "name": "stdout",
     "output_type": "stream",
     "text": [
      "(43, 3)\n"
     ]
    },
    {
     "name": "stderr",
     "output_type": "stream",
     "text": [
      "\r",
      " 98%|██████████████████████████████████████ | 977/1000 [07:05<00:10,  2.20it/s]"
     ]
    },
    {
     "name": "stdout",
     "output_type": "stream",
     "text": [
      "(40, 3)\n"
     ]
    },
    {
     "name": "stderr",
     "output_type": "stream",
     "text": [
      "\r",
      " 98%|██████████████████████████████████████▏| 978/1000 [07:05<00:09,  2.33it/s]"
     ]
    },
    {
     "name": "stdout",
     "output_type": "stream",
     "text": [
      "(42, 3)\n"
     ]
    },
    {
     "name": "stderr",
     "output_type": "stream",
     "text": [
      "\r",
      " 98%|██████████████████████████████████████▏| 979/1000 [07:05<00:08,  2.61it/s]"
     ]
    },
    {
     "name": "stdout",
     "output_type": "stream",
     "text": [
      "(39, 3)\n"
     ]
    },
    {
     "name": "stderr",
     "output_type": "stream",
     "text": [
      "\r",
      " 98%|██████████████████████████████████████▏| 980/1000 [07:07<00:13,  1.51it/s]"
     ]
    },
    {
     "name": "stdout",
     "output_type": "stream",
     "text": [
      "(43, 3)\n"
     ]
    },
    {
     "name": "stderr",
     "output_type": "stream",
     "text": [
      "\r",
      " 98%|██████████████████████████████████████▎| 981/1000 [07:08<00:14,  1.29it/s]"
     ]
    },
    {
     "name": "stdout",
     "output_type": "stream",
     "text": [
      "(42, 3)\n"
     ]
    },
    {
     "name": "stderr",
     "output_type": "stream",
     "text": [
      "\r",
      " 98%|██████████████████████████████████████▎| 982/1000 [07:08<00:12,  1.40it/s]"
     ]
    },
    {
     "name": "stdout",
     "output_type": "stream",
     "text": [
      "(40, 3)\n"
     ]
    },
    {
     "name": "stderr",
     "output_type": "stream",
     "text": [
      "\r",
      " 98%|██████████████████████████████████████▎| 983/1000 [07:08<00:09,  1.75it/s]"
     ]
    },
    {
     "name": "stdout",
     "output_type": "stream",
     "text": [
      "(35, 3)\n"
     ]
    },
    {
     "name": "stderr",
     "output_type": "stream",
     "text": [
      "\r",
      " 98%|██████████████████████████████████████▍| 984/1000 [07:09<00:07,  2.07it/s]"
     ]
    },
    {
     "name": "stdout",
     "output_type": "stream",
     "text": [
      "(41, 3)\n"
     ]
    },
    {
     "name": "stderr",
     "output_type": "stream",
     "text": [
      "\r",
      " 98%|██████████████████████████████████████▍| 985/1000 [07:09<00:07,  2.08it/s]"
     ]
    },
    {
     "name": "stdout",
     "output_type": "stream",
     "text": [
      "(36, 3)\n"
     ]
    },
    {
     "name": "stderr",
     "output_type": "stream",
     "text": [
      "\r",
      " 99%|██████████████████████████████████████▍| 986/1000 [07:10<00:06,  2.16it/s]"
     ]
    },
    {
     "name": "stdout",
     "output_type": "stream",
     "text": [
      "(35, 3)\n"
     ]
    },
    {
     "name": "stderr",
     "output_type": "stream",
     "text": [
      " 99%|██████████████████████████████████████▌| 988/1000 [07:10<00:03,  3.02it/s]"
     ]
    },
    {
     "name": "stdout",
     "output_type": "stream",
     "text": [
      "(35, 3)\n",
      "(36, 3)\n"
     ]
    },
    {
     "name": "stderr",
     "output_type": "stream",
     "text": [
      "\r",
      " 99%|██████████████████████████████████████▌| 989/1000 [07:10<00:03,  2.89it/s]"
     ]
    },
    {
     "name": "stdout",
     "output_type": "stream",
     "text": [
      "(47, 3)\n"
     ]
    },
    {
     "name": "stderr",
     "output_type": "stream",
     "text": [
      "\r",
      " 99%|██████████████████████████████████████▌| 990/1000 [07:11<00:03,  2.61it/s]"
     ]
    },
    {
     "name": "stdout",
     "output_type": "stream",
     "text": [
      "(42, 3)\n"
     ]
    },
    {
     "name": "stderr",
     "output_type": "stream",
     "text": [
      "\r",
      " 99%|██████████████████████████████████████▋| 991/1000 [07:11<00:03,  2.84it/s]"
     ]
    },
    {
     "name": "stdout",
     "output_type": "stream",
     "text": [
      "(40, 3)\n"
     ]
    },
    {
     "name": "stderr",
     "output_type": "stream",
     "text": [
      "\r",
      " 99%|██████████████████████████████████████▋| 992/1000 [07:11<00:02,  3.11it/s]"
     ]
    },
    {
     "name": "stdout",
     "output_type": "stream",
     "text": [
      "(40, 3)\n"
     ]
    },
    {
     "name": "stderr",
     "output_type": "stream",
     "text": [
      "\r",
      " 99%|██████████████████████████████████████▋| 993/1000 [07:12<00:02,  2.45it/s]"
     ]
    },
    {
     "name": "stdout",
     "output_type": "stream",
     "text": [
      "(41, 3)\n"
     ]
    },
    {
     "name": "stderr",
     "output_type": "stream",
     "text": [
      "\r",
      " 99%|██████████████████████████████████████▊| 994/1000 [07:12<00:02,  2.64it/s]"
     ]
    },
    {
     "name": "stdout",
     "output_type": "stream",
     "text": [
      "(41, 3)\n"
     ]
    },
    {
     "name": "stderr",
     "output_type": "stream",
     "text": [
      "\r",
      "100%|██████████████████████████████████████▊| 995/1000 [07:13<00:01,  2.68it/s]"
     ]
    },
    {
     "name": "stdout",
     "output_type": "stream",
     "text": [
      "(43, 3)\n"
     ]
    },
    {
     "name": "stderr",
     "output_type": "stream",
     "text": [
      "\r",
      "100%|██████████████████████████████████████▊| 996/1000 [07:13<00:01,  2.76it/s]"
     ]
    },
    {
     "name": "stdout",
     "output_type": "stream",
     "text": [
      "(42, 3)\n"
     ]
    },
    {
     "name": "stderr",
     "output_type": "stream",
     "text": [
      "\r",
      "100%|██████████████████████████████████████▉| 997/1000 [07:13<00:01,  2.86it/s]"
     ]
    },
    {
     "name": "stdout",
     "output_type": "stream",
     "text": [
      "(35, 3)\n"
     ]
    },
    {
     "name": "stderr",
     "output_type": "stream",
     "text": [
      "\r",
      "100%|██████████████████████████████████████▉| 998/1000 [07:14<00:00,  2.68it/s]"
     ]
    },
    {
     "name": "stdout",
     "output_type": "stream",
     "text": [
      "(40, 3)\n"
     ]
    },
    {
     "name": "stderr",
     "output_type": "stream",
     "text": [
      "\r",
      "100%|██████████████████████████████████████▉| 999/1000 [07:14<00:00,  2.86it/s]"
     ]
    },
    {
     "name": "stdout",
     "output_type": "stream",
     "text": [
      "(39, 3)\n"
     ]
    },
    {
     "name": "stderr",
     "output_type": "stream",
     "text": [
      "100%|██████████████████████████████████████| 1000/1000 [07:14<00:00,  2.30it/s]"
     ]
    },
    {
     "name": "stdout",
     "output_type": "stream",
     "text": [
      "(40, 3)\n",
      "CPU times: user 7min 15s, sys: 515 ms, total: 7min 16s\n",
      "Wall time: 7min 14s\n"
     ]
    },
    {
     "name": "stderr",
     "output_type": "stream",
     "text": [
      "\n"
     ]
    }
   ],
   "source": [
    "%%time\n",
    "for mol in tqdm(mols):\n",
    "    xyz = create_3d_conformer_rdkit(mol).GetPositions()\n",
    "    print(xyz.shape)"
   ]
  },
  {
   "cell_type": "code",
   "execution_count": 20,
   "id": "a5b42481",
   "metadata": {},
   "outputs": [],
   "source": [
    "from skfp.fingerprints import E3FPFingerprint\n",
    "from skfp.preprocessing import MolFromSmilesTransformer, ConformerGenerator"
   ]
  },
  {
   "cell_type": "code",
   "execution_count": 21,
   "id": "5ed0336f",
   "metadata": {},
   "outputs": [
    {
     "name": "stdout",
     "output_type": "stream",
     "text": [
      "CPU times: user 4min 13s, sys: 61.2 ms, total: 4min 14s\n",
      "Wall time: 4min 14s\n"
     ]
    }
   ],
   "source": [
    "%%time\n",
    "\n",
    "conf_gen = ConformerGenerator()\n",
    "mols = conf_gen.transform(mols)"
   ]
  },
  {
   "cell_type": "code",
   "execution_count": null,
   "id": "7dbf44f7",
   "metadata": {},
   "outputs": [],
   "source": []
  },
  {
   "cell_type": "code",
   "execution_count": null,
   "id": "18396707",
   "metadata": {},
   "outputs": [],
   "source": []
  },
  {
   "cell_type": "code",
   "execution_count": null,
   "id": "d9ced095",
   "metadata": {},
   "outputs": [],
   "source": []
  },
  {
   "cell_type": "markdown",
   "id": "bdfcae38",
   "metadata": {},
   "source": [
    "# Conforce"
   ]
  },
  {
   "cell_type": "code",
   "execution_count": 7,
   "id": "3e93041b",
   "metadata": {},
   "outputs": [],
   "source": [
    "import sys\n",
    "import CDPL.Chem as CDPLChem\n",
    "import CDPL.ConfGen as ConfGen\n",
    "import py3Dmol\n",
    "\n",
    "# dictionary mapping status codes to human readable strings\n",
    "STATUS_TO_STR = {\n",
    "    ConfGen.ReturnCode.UNINITIALIZED: 'uninitialized',\n",
    "    ConfGen.ReturnCode.TIMEOUT: 'max. processing time exceeded',\n",
    "    ConfGen.ReturnCode.ABORTED: 'aborted',\n",
    "    ConfGen.ReturnCode.FORCEFIELD_SETUP_FAILED: 'force field setup failed',\n",
    "    ConfGen.ReturnCode.FORCEFIELD_MINIMIZATION_FAILED: 'force field structure refinement failed',\n",
    "    ConfGen.ReturnCode.FRAGMENT_LIBRARY_NOT_SET: 'fragment library not available',\n",
    "    ConfGen.ReturnCode.FRAGMENT_CONF_GEN_FAILED: 'fragment conformer generation failed',\n",
    "    ConfGen.ReturnCode.FRAGMENT_CONF_GEN_TIMEOUT: 'fragment conformer generation timeout',\n",
    "    ConfGen.ReturnCode.FRAGMENT_ALREADY_PROCESSED: 'fragment already processed',\n",
    "    ConfGen.ReturnCode.TORSION_DRIVING_FAILED: 'torsion driving failed',\n",
    "    ConfGen.ReturnCode.CONF_GEN_FAILED: 'conformer generation failed'\n",
    "}\n",
    "\n",
    "\n",
    "def gen3DStructure(smiles, struct_gen) -> int:\n",
    "    smiles = normalize_smiles(\n",
    "         smiles,\n",
    "         canonical=True,\n",
    "         do_random = False,\n",
    "         isomeric=True,\n",
    "         kekulize = False,\n",
    "         replace_dy=True,\n",
    "         return_mol=False)\n",
    "    mol = CDPLChem.parseSMILES(smiles)\n",
    "    # prepare the molecule for 3D structure generation\n",
    "    ConfGen.prepareForConformerGeneration(mol)\n",
    "\n",
    "    # generate the 3D structure\n",
    "    status = struct_gen.generate(mol)\n",
    "\n",
    "    # if successful, store the generated conformer ensemble as\n",
    "    # per atom 3D coordinates arrays (= the way conformers are represented in CDPKit)\n",
    "\n",
    "    if status == ConfGen.ReturnCode.SUCCESS:\n",
    "        struct_gen.setCoordinates(mol)\n",
    "        # enforce the output of 3D coordinates in case of MDL file formats\n",
    "#         Chem.setMDLDimensionality(mol, 3)\n",
    "    else:\n",
    "        print(f'Error: 3D structure generation for molecule {smiles} failed: {STATUS_TO_STR[status]}')\n",
    "\n",
    "    # return status code\n",
    "    return status, mol"
   ]
  },
  {
   "cell_type": "code",
   "execution_count": 8,
   "id": "4e704c6f",
   "metadata": {},
   "outputs": [],
   "source": [
    "SDF_PATH = '/home/dangnh36/datasets/competitions/leash_belka/processed/features/3d_mols.sdf'\n",
    "\n",
    "struct_gen = ConfGen.StructureGenerator()\n",
    "struct_gen.settings.timeout = 3600 * 1000  # apply the -t argument\n",
    "\n",
    "writer = CDPLChem.MolecularGraphWriter(SDF_PATH)"
   ]
  },
  {
   "cell_type": "code",
   "execution_count": 9,
   "id": "9a71a350",
   "metadata": {},
   "outputs": [
    {
     "name": "stderr",
     "output_type": "stream",
     "text": [
      " 31%|████████████▋                            | 31/100 [00:06<00:24,  2.81it/s]"
     ]
    },
    {
     "name": "stdout",
     "output_type": "stream",
     "text": [
      "Error: 3D structure generation for molecule C#CCOc1ccc(CNc2nc(Nc3ccc(B4OC(C)(C)C(C)(C)O4)cc3)nc(N[C@@H](CC#C)CC(=O)NC)n2)cc1 failed: force field setup failed\n"
     ]
    },
    {
     "name": "stderr",
     "output_type": "stream",
     "text": [
      "100%|████████████████████████████████████████| 100/100 [00:16<00:00,  5.99it/s]\n"
     ]
    }
   ],
   "source": [
    "for i in tqdm(range(100)):\n",
    "    smiles = train_df[i, 'molecule']\n",
    "    status, mol = gen3DStructure(smiles, struct_gen)\n",
    "    if not writer.write(mol):\n",
    "        print(f'Error: writing 3D structure of molecule failed:\\n{smiles}')\n",
    "    # output the generated 3D structure\n",
    "    # if not writer.write(mol):\n",
    "    #     sys.exit('Error: writing 3D structure of molecule %s failed' % mol_id)"
   ]
  },
  {
   "cell_type": "code",
   "execution_count": null,
   "id": "d16f9218",
   "metadata": {},
   "outputs": [],
   "source": []
  },
  {
   "cell_type": "code",
   "execution_count": 30,
   "id": "9a18d507",
   "metadata": {},
   "outputs": [
    {
     "data": {
      "application/3dmoljs_load.v0": "<div id=\"3dmolviewer_1720185752745868\"  style=\"position: relative; width: 1200px; height: 400px;\">\n        <p id=\"3dmolwarning_1720185752745868\" style=\"background-color:#ffcccc;color:black\">3Dmol.js failed to load for some reason.  Please check your browser console for error messages.<br></p>\n        </div>\n<script>\n\nvar loadScriptAsync = function(uri){\n  return new Promise((resolve, reject) => {\n    //this is to ignore the existence of requirejs amd\n    var savedexports, savedmodule;\n    if (typeof exports !== 'undefined') savedexports = exports;\n    else exports = {}\n    if (typeof module !== 'undefined') savedmodule = module;\n    else module = {}\n\n    var tag = document.createElement('script');\n    tag.src = uri;\n    tag.async = true;\n    tag.onload = () => {\n        exports = savedexports;\n        module = savedmodule;\n        resolve();\n    };\n  var firstScriptTag = document.getElementsByTagName('script')[0];\n  firstScriptTag.parentNode.insertBefore(tag, firstScriptTag);\n});\n};\n\nif(typeof $3Dmolpromise === 'undefined') {\n$3Dmolpromise = null;\n  $3Dmolpromise = loadScriptAsync('https://cdnjs.cloudflare.com/ajax/libs/3Dmol/2.1.0/3Dmol-min.js');\n}\n\nvar viewer_1720185752745868 = null;\nvar warn = document.getElementById(\"3dmolwarning_1720185752745868\");\nif(warn) {\n    warn.parentNode.removeChild(warn);\n}\n$3Dmolpromise.then(function() {\nvar viewergrid_1720185752745868 = null;\nviewergrid_1720185752745868 = $3Dmol.createViewerGrid(document.getElementById(\"3dmolviewer_1720185752745868\"),{rows: 1, cols: 3, control_all: true},{backgroundColor:\"white\"});\nviewer_1720185752745868 = viewergrid_1720185752745868[0][0];\nviewergrid_1720185752745868[0][0].zoomTo();viewergrid_1720185752745868[0][1].zoomTo();viewergrid_1720185752745868[0][2].zoomTo();\tviewergrid_1720185752745868[0][0].removeAllModels();\n\tviewergrid_1720185752745868[0][0].addModel(\"\\n     RDKit          3D\\n\\n 71 73  0  0  0  0  0  0  0  0999 V2000\\n   -0.9349   -0.0011    2.4960 C   0  0  0  0  0  0  0  0  0  0  0  0\\n   -0.5137    0.0000    1.3720 C   0  0  0  0  0  0  0  0  0  0  0  0\\n    0.0000    0.0000    0.0000 C   0  0  1  0  0  0  0  0  0  0  0  0\\n    1.4180   -0.0000    0.0000 O   0  0  0  0  0  0  0  0  0  0  0  0\\n    2.0477   -0.0000   -1.2234 C   0  0  0  0  0  0  0  0  0  0  0  0\\n    1.3038   -0.0000   -2.4061 C   0  0  0  0  0  0  0  0  0  0  0  0\\n    1.9385    0.0010   -3.6571 C   0  0  0  0  0  0  0  0  0  0  0  0\\n    3.3366   -0.0009   -3.7789 C   0  0  0  0  0  0  0  0  0  0  0  0\\n    4.0165   -0.0004   -5.1002 C   0  0  1  0  0  0  0  0  0  0  0  0\\n    3.5513    1.0039   -6.0308 N   0  0  0  0  0  0  0  0  0  0  0  0\\n    3.9289    2.3499   -6.0198 C   0  0  0  0  0  0  0  0  0  0  0  0\\n    3.4155    3.1761   -6.9496 N   0  0  0  0  0  0  0  0  0  0  0  0\\n    3.8258    4.4520   -6.8861 C   0  0  0  0  0  0  0  0  0  0  0  0\\n    3.3227    5.3400   -7.8415 N   0  0  0  0  0  0  0  0  0  0  0  0\\n    3.5486    6.6590   -8.0271 C   0  0  0  0  0  0  0  0  0  0  0  0\\n    4.3799    7.5510   -7.2925 C   0  0  0  0  0  0  0  0  0  0  0  0\\n    4.2472    8.7787   -7.8996 C   0  0  0  0  0  0  0  0  0  0  0  0\\n    4.8375   10.0974   -7.6233 C   0  0  2  0  0  0  0  0  0  0  0  0\\n    6.3759   10.0109   -7.7246 C   0  0  2  0  0  0  0  0  0  0  0  0\\n    4.4475   10.5521   -6.2002 C   0  0  2  0  0  0  0  0  0  0  0  0\\n    4.3782   11.2045   -8.5990 C   0  0  2  0  0  0  0  0  0  0  0  0\\n    3.3893    8.5709   -8.9372 N   0  0  0  0  0  0  0  0  0  0  0  0\\n    2.9672    7.3053   -9.0519 N   0  0  0  0  0  0  0  0  0  0  0  0\\n    4.6764    4.9457   -5.9699 N   0  0  0  0  0  0  0  0  0  0  0  0\\n    5.1587    4.0767   -5.0572 C   0  0  0  0  0  0  0  0  0  0  0  0\\n    6.0499    4.5285   -4.0794 N   0  0  0  0  0  0  0  0  0  0  0  0\\n    6.5228    5.8885   -3.9464 C   0  0  1  0  0  0  0  0  0  0  0  0\\n    5.5483    6.6344   -3.0167 C   0  0  1  0  0  0  0  0  0  0  0  0\\n    5.9294    8.0396   -2.8047 C   0  0  0  0  0  0  0  0  0  0  0  0\\n    6.2438    9.1868   -2.6417 C   0  0  0  0  0  0  0  0  0  0  0  0\\n    7.9663    5.8490   -3.4121 C   0  0  2  0  0  0  0  0  0  0  0  0\\n    8.9350    5.1058   -4.3124 C   0  0  0  0  0  0  0  0  0  0  0  0\\n    8.5668    4.5929   -5.3672 O   0  0  0  0  0  0  0  0  0  0  0  0\\n   10.2293    5.0944   -3.8211 N   0  0  0  0  0  0  0  0  0  0  0  0\\n   11.3296    4.4605   -4.5103 C   0  0  1  0  0  0  0  0  0  0  0  0\\n    4.7963    2.7718   -5.0729 N   0  0  0  0  0  0  0  0  0  0  0  0\\n    4.0537   -0.0155   -2.5670 C   0  0  0  0  0  0  0  0  0  0  0  0\\n    3.4395   -0.0194   -1.3072 C   0  0  0  0  0  0  0  0  0  0  0  0\\n   -1.3082   -0.0020    3.4935 H   0  0  0  0  0  0  0  0  0  0  0  0\\n   -0.3860   -0.8477   -0.5771 H   0  0  0  0  0  0  0  0  0  0  0  0\\n   -0.3162    0.9102   -0.5198 H   0  0  0  0  0  0  0  0  0  0  0  0\\n    0.2169   -0.0042   -2.3698 H   0  0  0  0  0  0  0  0  0  0  0  0\\n    1.2988   -0.0043   -4.5361 H   0  0  0  0  0  0  0  0  0  0  0  0\\n    5.1050    0.0630   -4.9829 H   0  0  0  0  0  0  0  0  0  0  0  0\\n    3.8365   -0.9807   -5.5596 H   0  0  0  0  0  0  0  0  0  0  0  0\\n    2.8160    0.7225   -6.6694 H   0  0  0  0  0  0  0  0  0  0  0  0\\n    2.6347    4.9696   -8.4935 H   0  0  0  0  0  0  0  0  0  0  0  0\\n    5.0133    7.3500   -6.4412 H   0  0  0  0  0  0  0  0  0  0  0  0\\n    6.8388   10.9906   -7.5577 H   0  0  0  0  0  0  0  0  0  0  0  0\\n    6.6868    9.6595   -8.7156 H   0  0  0  0  0  0  0  0  0  0  0  0\\n    6.8025    9.3256   -6.9840 H   0  0  0  0  0  0  0  0  0  0  0  0\\n    4.8477   11.5487   -5.9801 H   0  0  0  0  0  0  0  0  0  0  0  0\\n    4.8315    9.8752   -5.4291 H   0  0  0  0  0  0  0  0  0  0  0  0\\n    3.3579   10.5973   -6.0852 H   0  0  0  0  0  0  0  0  0  0  0  0\\n    4.8466   12.1656   -8.3549 H   0  0  0  0  0  0  0  0  0  0  0  0\\n    3.2933   11.3557   -8.5564 H   0  0  0  0  0  0  0  0  0  0  0  0\\n    4.6497   10.9676   -9.6345 H   0  0  0  0  0  0  0  0  0  0  0  0\\n    3.0572    9.2479   -9.6129 H   0  0  0  0  0  0  0  0  0  0  0  0\\n    6.3081    3.8856   -3.3392 H   0  0  0  0  0  0  0  0  0  0  0  0\\n    6.4995    6.3464   -4.9425 H   0  0  0  0  0  0  0  0  0  0  0  0\\n    4.5419    6.6292   -3.4566 H   0  0  0  0  0  0  0  0  0  0  0  0\\n    5.4679    6.1195   -2.0513 H   0  0  0  0  0  0  0  0  0  0  0  0\\n    6.5224   10.2040   -2.4942 H   0  0  0  0  0  0  0  0  0  0  0  0\\n    7.9959    5.3521   -2.4328 H   0  0  0  0  0  0  0  0  0  0  0  0\\n    8.3516    6.8649   -3.2575 H   0  0  0  0  0  0  0  0  0  0  0  0\\n   10.4337    5.5686   -2.9466 H   0  0  0  0  0  0  0  0  0  0  0  0\\n   11.8917    3.8678   -3.7846 H   0  0  0  0  0  0  0  0  0  0  0  0\\n   10.9731    3.8181   -5.3190 H   0  0  0  0  0  0  0  0  0  0  0  0\\n   11.9742    5.2437   -4.9166 H   0  0  0  0  0  0  0  0  0  0  0  0\\n    5.1420   -0.0242   -2.6127 H   0  0  0  0  0  0  0  0  0  0  0  0\\n    4.0365   -0.0317   -0.3983 H   0  0  0  0  0  0  0  0  0  0  0  0\\n  1  2  3  0\\n  2  3  1  0\\n  3  4  1  0\\n  4  5  1  0\\n  5  6  2  0\\n  6  7  1  0\\n  7  8  2  0\\n  8  9  1  0\\n  9 10  1  0\\n 10 11  1  0\\n 11 12  2  0\\n 12 13  1  0\\n 13 14  1  0\\n 14 15  1  0\\n 15 16  1  0\\n 16 17  2  0\\n 18 17  1  6\\n 18 19  1  0\\n 18 20  1  0\\n 18 21  1  0\\n 17 22  1  0\\n 15 23  2  0\\n 22 23  1  0\\n 13 24  2  0\\n 24 25  1  0\\n 25 26  1  0\\n 26 27  1  0\\n 27 28  1  0\\n 28 29  1  0\\n 29 30  3  0\\n 27 31  1  0\\n 31 32  1  0\\n 32 33  2  0\\n 32 34  1  0\\n 34 35  1  0\\n 11 36  1  0\\n 25 36  2  0\\n  8 37  1  0\\n  5 38  1  0\\n 37 38  2  0\\n  1 39  1  0\\n  3 40  1  6\\n  3 41  1  0\\n  6 42  1  0\\n  7 43  1  0\\n  9 44  1  1\\n  9 45  1  0\\n 10 46  1  0\\n 14 47  1  0\\n 16 48  1  0\\n 19 49  1  1\\n 19 50  1  0\\n 19 51  1  0\\n 20 52  1  1\\n 20 53  1  0\\n 20 54  1  0\\n 21 55  1  1\\n 21 56  1  0\\n 21 57  1  0\\n 22 58  1  0\\n 26 59  1  0\\n 27 60  1  6\\n 28 61  1  6\\n 28 62  1  0\\n 30 63  1  0\\n 31 64  1  1\\n 31 65  1  0\\n 34 66  1  0\\n 35 67  1  1\\n 35 68  1  0\\n 35 69  1  0\\n 37 70  1  0\\n 38 71  1  0\\nM  END\\n\",\"sdf\");\n\tviewergrid_1720185752745868[0][0].setStyle({\"stick\": {}});\n\tviewergrid_1720185752745868[0][1].removeAllModels();\n\tviewergrid_1720185752745868[0][1].addModel(\"\\n     RDKit          3D\\n\\n 66 67  0  0  0  0  0  0  0  0999 V2000\\n   -0.9349   -0.0011    2.4960 C   0  0  0  0  0  0  0  0  0  0  0  0\\n   -0.5137    0.0000    1.3720 C   0  0  0  0  0  0  0  0  0  0  0  0\\n    0.0000    0.0000    0.0000 C   0  0  1  0  0  0  0  0  0  0  0  0\\n    1.4180    0.0000    0.0000 O   0  0  0  0  0  0  0  0  0  0  0  0\\n    2.0477   -0.0000   -1.2234 C   0  0  0  0  0  0  0  0  0  0  0  0\\n    1.3038   -0.0000   -2.4061 C   0  0  0  0  0  0  0  0  0  0  0  0\\n    1.9385    0.0010   -3.6571 C   0  0  0  0  0  0  0  0  0  0  0  0\\n    3.3366   -0.0009   -3.7789 C   0  0  0  0  0  0  0  0  0  0  0  0\\n    4.0165   -0.0004   -5.1002 C   0  0  1  0  0  0  0  0  0  0  0  0\\n    5.0444   -1.0042   -5.2632 N   0  0  0  0  0  0  0  0  0  0  0  0\\n    4.8164   -2.3502   -5.5648 C   0  0  0  0  0  0  0  0  0  0  0  0\\n    5.8716   -3.1759   -5.6881 N   0  0  0  0  0  0  0  0  0  0  0  0\\n    5.5819   -4.4518   -5.9857 C   0  0  0  0  0  0  0  0  0  0  0  0\\n    6.6520   -5.3393   -6.1323 N   0  0  0  0  0  0  0  0  0  0  0  0\\n    6.5324   -6.7448   -6.4507 C   0  0  2  0  0  0  0  0  0  0  0  0\\n    7.8925   -7.4555   -6.5441 C   0  0  1  0  0  0  0  0  0  0  0  0\\n    8.7872   -6.8444   -7.6261 C   0  0  2  0  0  0  0  0  0  0  0  0\\n    8.7649   -7.3315   -4.9178 S   0  0  0  0  0  4  0  0  0  0  0  0\\n    7.5103   -8.1865   -3.9296 C   0  0  2  0  0  0  0  0  0  0  0  0\\n    9.9616   -8.2358   -4.9701 O   0  0  0  0  0  0  0  0  0  0  0  0\\n    4.3421   -4.9458   -6.1457 N   0  0  0  0  0  0  0  0  0  0  0  0\\n    3.3188   -4.0771   -6.0070 C   0  0  0  0  0  0  0  0  0  0  0  0\\n    2.0052   -4.5292   -6.1640 N   0  0  0  0  0  0  0  0  0  0  0  0\\n    0.8207   -3.7087   -6.0430 C   0  0  1  0  0  0  0  0  0  0  0  0\\n    0.5030   -3.1367   -7.4366 C   0  0  1  0  0  0  0  0  0  0  0  0\\n   -0.6919   -2.2783   -7.4388 C   0  0  0  0  0  0  0  0  0  0  0  0\\n   -1.6645   -1.5742   -7.4310 C   0  0  0  0  0  0  0  0  0  0  0  0\\n   -0.3128   -4.5770   -5.4668 C   0  0  2  0  0  0  0  0  0  0  0  0\\n   -0.0078   -5.1577   -4.0990 C   0  0  0  0  0  0  0  0  0  0  0  0\\n    1.0588   -4.9350   -3.5301 O   0  0  0  0  0  0  0  0  0  0  0  0\\n   -1.0449   -5.9227   -3.5931 N   0  0  0  0  0  0  0  0  0  0  0  0\\n   -0.9932   -6.5668   -2.3008 C   0  0  1  0  0  0  0  0  0  0  0  0\\n    3.5418   -2.7723   -5.7204 N   0  0  0  0  0  0  0  0  0  0  0  0\\n    4.0537   -0.0155   -2.5670 C   0  0  0  0  0  0  0  0  0  0  0  0\\n    3.4395   -0.0194   -1.3072 C   0  0  0  0  0  0  0  0  0  0  0  0\\n   -1.3082   -0.0020    3.4935 H   0  0  0  0  0  0  0  0  0  0  0  0\\n   -0.3860   -0.8477   -0.5771 H   0  0  0  0  0  0  0  0  0  0  0  0\\n   -0.3162    0.9102   -0.5198 H   0  0  0  0  0  0  0  0  0  0  0  0\\n    0.2169   -0.0042   -2.3698 H   0  0  0  0  0  0  0  0  0  0  0  0\\n    1.2988   -0.0043   -4.5361 H   0  0  0  0  0  0  0  0  0  0  0  0\\n    3.2883   -0.0635   -5.9178 H   0  0  0  0  0  0  0  0  0  0  0  0\\n    4.4947    0.9801   -5.2203 H   0  0  0  0  0  0  0  0  0  0  0  0\\n    5.9915   -0.7227   -5.0359 H   0  0  0  0  0  0  0  0  0  0  0  0\\n    7.5908   -4.9568   -6.1204 H   0  0  0  0  0  0  0  0  0  0  0  0\\n    5.9902   -6.8189   -7.3982 H   0  0  0  0  0  0  0  0  0  0  0  0\\n    5.8989   -7.2251   -5.6953 H   0  0  0  0  0  0  0  0  0  0  0  0\\n    7.7586   -8.5214   -6.7612 H   0  0  0  0  0  0  0  0  0  0  0  0\\n    8.9604   -5.7774   -7.4467 H   0  0  0  0  0  0  0  0  0  0  0  0\\n    8.3432   -6.9546   -8.6203 H   0  0  0  0  0  0  0  0  0  0  0  0\\n    9.7648   -7.3379   -7.6587 H   0  0  0  0  0  0  0  0  0  0  0  0\\n    7.3030   -9.1706   -4.3563 H   0  0  0  0  0  0  0  0  0  0  0  0\\n    6.5959   -7.5931   -3.8840 H   0  0  0  0  0  0  0  0  0  0  0  0\\n    7.9001   -8.3112   -2.9161 H   0  0  0  0  0  0  0  0  0  0  0  0\\n    1.8661   -5.4787   -6.4911 H   0  0  0  0  0  0  0  0  0  0  0  0\\n    1.0555   -2.8869   -5.3561 H   0  0  0  0  0  0  0  0  0  0  0  0\\n    1.3469   -2.5268   -7.7862 H   0  0  0  0  0  0  0  0  0  0  0  0\\n    0.3821   -3.9469   -8.1663 H   0  0  0  0  0  0  0  0  0  0  0  0\\n   -2.5281   -0.9512   -7.4263 H   0  0  0  0  0  0  0  0  0  0  0  0\\n   -0.5194   -5.4247   -6.1343 H   0  0  0  0  0  0  0  0  0  0  0  0\\n   -1.2451   -4.0022   -5.3958 H   0  0  0  0  0  0  0  0  0  0  0  0\\n   -1.8969   -6.0271   -4.1360 H   0  0  0  0  0  0  0  0  0  0  0  0\\n   -1.3429   -7.5953   -2.4171 H   0  0  0  0  0  0  0  0  0  0  0  0\\n    0.0218   -6.5624   -1.8965 H   0  0  0  0  0  0  0  0  0  0  0  0\\n   -1.6631   -6.0297   -1.6250 H   0  0  0  0  0  0  0  0  0  0  0  0\\n    5.1420   -0.0242   -2.6127 H   0  0  0  0  0  0  0  0  0  0  0  0\\n    4.0365   -0.0317   -0.3983 H   0  0  0  0  0  0  0  0  0  0  0  0\\n  1  2  3  0\\n  2  3  1  0\\n  3  4  1  0\\n  4  5  1  0\\n  5  6  2  0\\n  6  7  1  0\\n  7  8  2  0\\n  8  9  1  0\\n  9 10  1  0\\n 10 11  1  0\\n 11 12  2  0\\n 12 13  1  0\\n 13 14  1  0\\n 14 15  1  0\\n 15 16  1  0\\n 16 17  1  0\\n 18 16  1  6\\n 18 19  1  0\\n 18 20  2  0\\n 13 21  2  0\\n 21 22  1  0\\n 22 23  1  0\\n 23 24  1  0\\n 24 25  1  0\\n 25 26  1  0\\n 26 27  3  0\\n 24 28  1  0\\n 28 29  1  0\\n 29 30  2  0\\n 29 31  1  0\\n 31 32  1  0\\n 11 33  1  0\\n 22 33  2  0\\n  8 34  1  0\\n  5 35  1  0\\n 34 35  2  0\\n  1 36  1  0\\n  3 37  1  6\\n  3 38  1  0\\n  6 39  1  0\\n  7 40  1  0\\n  9 41  1  6\\n  9 42  1  0\\n 10 43  1  0\\n 14 44  1  0\\n 15 45  1  6\\n 15 46  1  0\\n 16 47  1  6\\n 17 48  1  1\\n 17 49  1  0\\n 17 50  1  0\\n 19 51  1  6\\n 19 52  1  0\\n 19 53  1  0\\n 23 54  1  0\\n 24 55  1  1\\n 25 56  1  6\\n 25 57  1  0\\n 27 58  1  0\\n 28 59  1  6\\n 28 60  1  0\\n 31 61  1  0\\n 32 62  1  6\\n 32 63  1  0\\n 32 64  1  0\\n 34 65  1  0\\n 35 66  1  0\\nM  END\\n\",\"sdf\");\n\tviewergrid_1720185752745868[0][1].setStyle({\"stick\": {}});\n\tviewergrid_1720185752745868[0][2].removeAllModels();\n\tviewergrid_1720185752745868[0][2].addModel(\"\\n     RDKit          3D\\n\\n 73 76  0  0  0  0  0  0  0  0999 V2000\\n   -0.9349   -0.0011    2.4960 C   0  0  0  0  0  0  0  0  0  0  0  0\\n   -0.5137    0.0000    1.3720 C   0  0  0  0  0  0  0  0  0  0  0  0\\n    0.0000    0.0000    0.0000 C   0  0  1  0  0  0  0  0  0  0  0  0\\n    1.4180   -0.0000    0.0000 O   0  0  0  0  0  0  0  0  0  0  0  0\\n    2.0477   -0.0000   -1.2234 C   0  0  0  0  0  0  0  0  0  0  0  0\\n    1.3038   -0.0000   -2.4061 C   0  0  0  0  0  0  0  0  0  0  0  0\\n    1.9385    0.0010   -3.6571 C   0  0  0  0  0  0  0  0  0  0  0  0\\n    3.3366   -0.0009   -3.7789 C   0  0  0  0  0  0  0  0  0  0  0  0\\n    4.0165   -0.0004   -5.1002 C   0  0  1  0  0  0  0  0  0  0  0  0\\n    5.0444   -1.0042   -5.2632 N   0  0  0  0  0  0  0  0  0  0  0  0\\n    4.8164   -2.3502   -5.5648 C   0  0  0  0  0  0  0  0  0  0  0  0\\n    5.8716   -3.1759   -5.6881 N   0  0  0  0  0  0  0  0  0  0  0  0\\n    5.5819   -4.4518   -5.9857 C   0  0  0  0  0  0  0  0  0  0  0  0\\n    6.6520   -5.3393   -6.1323 N   0  0  0  0  0  0  0  0  0  0  0  0\\n    6.5324   -6.7448   -6.4507 C   0  0  2  0  0  0  0  0  0  0  0  0\\n    7.8798   -7.4164   -6.5360 C   0  0  2  0  0  0  0  0  0  0  0  0\\n    8.7020   -7.3891   -5.2380 C   0  0  2  0  0  0  0  0  0  0  0  0\\n    9.7496   -8.4825   -5.5010 C   0  0  2  0  0  0  0  0  0  0  0  0\\n    9.3991   -8.9518   -6.9289 C   0  0  2  0  0  0  0  0  0  0  0  0\\n   10.0146  -10.2756   -7.3166 C   0  0  2  0  0  0  0  0  0  0  0  0\\n    9.6965   -7.8018   -7.8972 C   0  0  1  0  0  0  0  0  0  0  0  0\\n    8.7006   -6.8064   -7.5624 O   0  0  0  0  0  0  0  0  0  0  0  0\\n    7.8766   -8.8917   -6.9156 C   0  0  2  0  0  0  0  0  0  0  0  0\\n    4.3421   -4.9458   -6.1457 N   0  0  0  0  0  0  0  0  0  0  0  0\\n    3.3188   -4.0771   -6.0070 C   0  0  0  0  0  0  0  0  0  0  0  0\\n    2.0052   -4.5292   -6.1640 N   0  0  0  0  0  0  0  0  0  0  0  0\\n    0.8207   -3.7087   -6.0430 C   0  0  1  0  0  0  0  0  0  0  0  0\\n    0.5030   -3.1367   -7.4366 C   0  0  1  0  0  0  0  0  0  0  0  0\\n   -0.6919   -2.2783   -7.4388 C   0  0  0  0  0  0  0  0  0  0  0  0\\n   -1.6645   -1.5742   -7.4310 C   0  0  0  0  0  0  0  0  0  0  0  0\\n   -0.3128   -4.5770   -5.4668 C   0  0  2  0  0  0  0  0  0  0  0  0\\n   -0.0078   -5.1577   -4.0990 C   0  0  0  0  0  0  0  0  0  0  0  0\\n    1.0588   -4.9350   -3.5301 O   0  0  0  0  0  0  0  0  0  0  0  0\\n   -1.0449   -5.9227   -3.5931 N   0  0  0  0  0  0  0  0  0  0  0  0\\n   -0.9932   -6.5668   -2.3008 C   0  0  1  0  0  0  0  0  0  0  0  0\\n    3.5418   -2.7723   -5.7204 N   0  0  0  0  0  0  0  0  0  0  0  0\\n    4.0537   -0.0155   -2.5670 C   0  0  0  0  0  0  0  0  0  0  0  0\\n    3.4395   -0.0194   -1.3072 C   0  0  0  0  0  0  0  0  0  0  0  0\\n   -1.3082   -0.0020    3.4935 H   0  0  0  0  0  0  0  0  0  0  0  0\\n   -0.3860   -0.8477   -0.5771 H   0  0  0  0  0  0  0  0  0  0  0  0\\n   -0.3162    0.9102   -0.5198 H   0  0  0  0  0  0  0  0  0  0  0  0\\n    0.2169   -0.0042   -2.3698 H   0  0  0  0  0  0  0  0  0  0  0  0\\n    1.2988   -0.0043   -4.5361 H   0  0  0  0  0  0  0  0  0  0  0  0\\n    3.2883   -0.0635   -5.9178 H   0  0  0  0  0  0  0  0  0  0  0  0\\n    4.4947    0.9801   -5.2203 H   0  0  0  0  0  0  0  0  0  0  0  0\\n    5.9915   -0.7227   -5.0359 H   0  0  0  0  0  0  0  0  0  0  0  0\\n    7.5908   -4.9568   -6.1204 H   0  0  0  0  0  0  0  0  0  0  0  0\\n    6.0331   -6.8571   -7.4197 H   0  0  0  0  0  0  0  0  0  0  0  0\\n    5.8869   -7.2460   -5.7312 H   0  0  0  0  0  0  0  0  0  0  0  0\\n    8.0984   -7.6436   -4.3602 H   0  0  0  0  0  0  0  0  0  0  0  0\\n    9.1834   -6.4194   -5.0736 H   0  0  0  0  0  0  0  0  0  0  0  0\\n    9.6381   -9.2938   -4.7721 H   0  0  0  0  0  0  0  0  0  0  0  0\\n   10.7711   -8.0951   -5.4256 H   0  0  0  0  0  0  0  0  0  0  0  0\\n    9.6998  -10.5787   -8.3208 H   0  0  0  0  0  0  0  0  0  0  0  0\\n    9.7160  -11.0678   -6.6219 H   0  0  0  0  0  0  0  0  0  0  0  0\\n   11.1079  -10.2155   -7.3104 H   0  0  0  0  0  0  0  0  0  0  0  0\\n   10.6954   -7.3722   -7.7740 H   0  0  0  0  0  0  0  0  0  0  0  0\\n    9.5520   -8.0835   -8.9456 H   0  0  0  0  0  0  0  0  0  0  0  0\\n    7.4408   -9.0825   -7.9028 H   0  0  0  0  0  0  0  0  0  0  0  0\\n    7.4084   -9.5406   -6.1680 H   0  0  0  0  0  0  0  0  0  0  0  0\\n    1.8661   -5.4787   -6.4911 H   0  0  0  0  0  0  0  0  0  0  0  0\\n    1.0555   -2.8869   -5.3561 H   0  0  0  0  0  0  0  0  0  0  0  0\\n    1.3469   -2.5268   -7.7862 H   0  0  0  0  0  0  0  0  0  0  0  0\\n    0.3821   -3.9469   -8.1663 H   0  0  0  0  0  0  0  0  0  0  0  0\\n   -2.5281   -0.9512   -7.4263 H   0  0  0  0  0  0  0  0  0  0  0  0\\n   -0.5194   -5.4247   -6.1343 H   0  0  0  0  0  0  0  0  0  0  0  0\\n   -1.2451   -4.0022   -5.3958 H   0  0  0  0  0  0  0  0  0  0  0  0\\n   -1.8969   -6.0271   -4.1360 H   0  0  0  0  0  0  0  0  0  0  0  0\\n   -1.3429   -7.5953   -2.4171 H   0  0  0  0  0  0  0  0  0  0  0  0\\n    0.0218   -6.5624   -1.8965 H   0  0  0  0  0  0  0  0  0  0  0  0\\n   -1.6631   -6.0297   -1.6250 H   0  0  0  0  0  0  0  0  0  0  0  0\\n    5.1420   -0.0242   -2.6127 H   0  0  0  0  0  0  0  0  0  0  0  0\\n    4.0365   -0.0317   -0.3983 H   0  0  0  0  0  0  0  0  0  0  0  0\\n  1  2  3  0\\n  2  3  1  0\\n  3  4  1  0\\n  4  5  1  0\\n  5  6  2  0\\n  6  7  1  0\\n  7  8  2  0\\n  8  9  1  0\\n  9 10  1  0\\n 10 11  1  0\\n 11 12  2  0\\n 12 13  1  0\\n 13 14  1  0\\n 14 15  1  0\\n 15 16  1  0\\n 16 17  1  0\\n 17 18  1  0\\n 18 19  1  0\\n 19 20  1  0\\n 19 21  1  6\\n 16 22  1  6\\n 21 22  1  0\\n 16 23  1  0\\n 19 23  1  0\\n 13 24  2  0\\n 24 25  1  0\\n 25 26  1  0\\n 26 27  1  0\\n 27 28  1  0\\n 28 29  1  0\\n 29 30  3  0\\n 27 31  1  0\\n 31 32  1  0\\n 32 33  2  0\\n 32 34  1  0\\n 34 35  1  0\\n 11 36  1  0\\n 25 36  2  0\\n  8 37  1  0\\n  5 38  1  0\\n 37 38  2  0\\n  1 39  1  0\\n  3 40  1  6\\n  3 41  1  0\\n  6 42  1  0\\n  7 43  1  0\\n  9 44  1  6\\n  9 45  1  0\\n 10 46  1  0\\n 14 47  1  0\\n 15 48  1  6\\n 15 49  1  0\\n 17 50  1  1\\n 17 51  1  0\\n 18 52  1  1\\n 18 53  1  0\\n 20 54  1  6\\n 20 55  1  0\\n 20 56  1  0\\n 21 57  1  6\\n 21 58  1  0\\n 23 59  1  6\\n 23 60  1  0\\n 26 61  1  0\\n 27 62  1  1\\n 28 63  1  6\\n 28 64  1  0\\n 30 65  1  0\\n 31 66  1  6\\n 31 67  1  0\\n 34 68  1  0\\n 35 69  1  6\\n 35 70  1  0\\n 35 71  1  0\\n 37 72  1  0\\n 38 73  1  0\\nM  END\\n\",\"sdf\");\n\tviewergrid_1720185752745868[0][2].setStyle({\"stick\": {}});\n\tviewergrid_1720185752745868[0][0].zoomTo();\n\tviewergrid_1720185752745868[0][1].zoomTo();\n\tviewergrid_1720185752745868[0][2].zoomTo();\nviewergrid_1720185752745868[0][2].render();\nviewergrid_1720185752745868[0][1].render();\nviewergrid_1720185752745868[0][0].render();\n});\n</script>",
      "text/html": [
       "<div id=\"3dmolviewer_1720185752745868\"  style=\"position: relative; width: 1200px; height: 400px;\">\n",
       "        <p id=\"3dmolwarning_1720185752745868\" style=\"background-color:#ffcccc;color:black\">3Dmol.js failed to load for some reason.  Please check your browser console for error messages.<br></p>\n",
       "        </div>\n",
       "<script>\n",
       "\n",
       "var loadScriptAsync = function(uri){\n",
       "  return new Promise((resolve, reject) => {\n",
       "    //this is to ignore the existence of requirejs amd\n",
       "    var savedexports, savedmodule;\n",
       "    if (typeof exports !== 'undefined') savedexports = exports;\n",
       "    else exports = {}\n",
       "    if (typeof module !== 'undefined') savedmodule = module;\n",
       "    else module = {}\n",
       "\n",
       "    var tag = document.createElement('script');\n",
       "    tag.src = uri;\n",
       "    tag.async = true;\n",
       "    tag.onload = () => {\n",
       "        exports = savedexports;\n",
       "        module = savedmodule;\n",
       "        resolve();\n",
       "    };\n",
       "  var firstScriptTag = document.getElementsByTagName('script')[0];\n",
       "  firstScriptTag.parentNode.insertBefore(tag, firstScriptTag);\n",
       "});\n",
       "};\n",
       "\n",
       "if(typeof $3Dmolpromise === 'undefined') {\n",
       "$3Dmolpromise = null;\n",
       "  $3Dmolpromise = loadScriptAsync('https://cdnjs.cloudflare.com/ajax/libs/3Dmol/2.1.0/3Dmol-min.js');\n",
       "}\n",
       "\n",
       "var viewer_1720185752745868 = null;\n",
       "var warn = document.getElementById(\"3dmolwarning_1720185752745868\");\n",
       "if(warn) {\n",
       "    warn.parentNode.removeChild(warn);\n",
       "}\n",
       "$3Dmolpromise.then(function() {\n",
       "var viewergrid_1720185752745868 = null;\n",
       "viewergrid_1720185752745868 = $3Dmol.createViewerGrid(document.getElementById(\"3dmolviewer_1720185752745868\"),{rows: 1, cols: 3, control_all: true},{backgroundColor:\"white\"});\n",
       "viewer_1720185752745868 = viewergrid_1720185752745868[0][0];\n",
       "viewergrid_1720185752745868[0][0].zoomTo();viewergrid_1720185752745868[0][1].zoomTo();viewergrid_1720185752745868[0][2].zoomTo();\tviewergrid_1720185752745868[0][0].removeAllModels();\n",
       "\tviewergrid_1720185752745868[0][0].addModel(\"\\n     RDKit          3D\\n\\n 71 73  0  0  0  0  0  0  0  0999 V2000\\n   -0.9349   -0.0011    2.4960 C   0  0  0  0  0  0  0  0  0  0  0  0\\n   -0.5137    0.0000    1.3720 C   0  0  0  0  0  0  0  0  0  0  0  0\\n    0.0000    0.0000    0.0000 C   0  0  1  0  0  0  0  0  0  0  0  0\\n    1.4180   -0.0000    0.0000 O   0  0  0  0  0  0  0  0  0  0  0  0\\n    2.0477   -0.0000   -1.2234 C   0  0  0  0  0  0  0  0  0  0  0  0\\n    1.3038   -0.0000   -2.4061 C   0  0  0  0  0  0  0  0  0  0  0  0\\n    1.9385    0.0010   -3.6571 C   0  0  0  0  0  0  0  0  0  0  0  0\\n    3.3366   -0.0009   -3.7789 C   0  0  0  0  0  0  0  0  0  0  0  0\\n    4.0165   -0.0004   -5.1002 C   0  0  1  0  0  0  0  0  0  0  0  0\\n    3.5513    1.0039   -6.0308 N   0  0  0  0  0  0  0  0  0  0  0  0\\n    3.9289    2.3499   -6.0198 C   0  0  0  0  0  0  0  0  0  0  0  0\\n    3.4155    3.1761   -6.9496 N   0  0  0  0  0  0  0  0  0  0  0  0\\n    3.8258    4.4520   -6.8861 C   0  0  0  0  0  0  0  0  0  0  0  0\\n    3.3227    5.3400   -7.8415 N   0  0  0  0  0  0  0  0  0  0  0  0\\n    3.5486    6.6590   -8.0271 C   0  0  0  0  0  0  0  0  0  0  0  0\\n    4.3799    7.5510   -7.2925 C   0  0  0  0  0  0  0  0  0  0  0  0\\n    4.2472    8.7787   -7.8996 C   0  0  0  0  0  0  0  0  0  0  0  0\\n    4.8375   10.0974   -7.6233 C   0  0  2  0  0  0  0  0  0  0  0  0\\n    6.3759   10.0109   -7.7246 C   0  0  2  0  0  0  0  0  0  0  0  0\\n    4.4475   10.5521   -6.2002 C   0  0  2  0  0  0  0  0  0  0  0  0\\n    4.3782   11.2045   -8.5990 C   0  0  2  0  0  0  0  0  0  0  0  0\\n    3.3893    8.5709   -8.9372 N   0  0  0  0  0  0  0  0  0  0  0  0\\n    2.9672    7.3053   -9.0519 N   0  0  0  0  0  0  0  0  0  0  0  0\\n    4.6764    4.9457   -5.9699 N   0  0  0  0  0  0  0  0  0  0  0  0\\n    5.1587    4.0767   -5.0572 C   0  0  0  0  0  0  0  0  0  0  0  0\\n    6.0499    4.5285   -4.0794 N   0  0  0  0  0  0  0  0  0  0  0  0\\n    6.5228    5.8885   -3.9464 C   0  0  1  0  0  0  0  0  0  0  0  0\\n    5.5483    6.6344   -3.0167 C   0  0  1  0  0  0  0  0  0  0  0  0\\n    5.9294    8.0396   -2.8047 C   0  0  0  0  0  0  0  0  0  0  0  0\\n    6.2438    9.1868   -2.6417 C   0  0  0  0  0  0  0  0  0  0  0  0\\n    7.9663    5.8490   -3.4121 C   0  0  2  0  0  0  0  0  0  0  0  0\\n    8.9350    5.1058   -4.3124 C   0  0  0  0  0  0  0  0  0  0  0  0\\n    8.5668    4.5929   -5.3672 O   0  0  0  0  0  0  0  0  0  0  0  0\\n   10.2293    5.0944   -3.8211 N   0  0  0  0  0  0  0  0  0  0  0  0\\n   11.3296    4.4605   -4.5103 C   0  0  1  0  0  0  0  0  0  0  0  0\\n    4.7963    2.7718   -5.0729 N   0  0  0  0  0  0  0  0  0  0  0  0\\n    4.0537   -0.0155   -2.5670 C   0  0  0  0  0  0  0  0  0  0  0  0\\n    3.4395   -0.0194   -1.3072 C   0  0  0  0  0  0  0  0  0  0  0  0\\n   -1.3082   -0.0020    3.4935 H   0  0  0  0  0  0  0  0  0  0  0  0\\n   -0.3860   -0.8477   -0.5771 H   0  0  0  0  0  0  0  0  0  0  0  0\\n   -0.3162    0.9102   -0.5198 H   0  0  0  0  0  0  0  0  0  0  0  0\\n    0.2169   -0.0042   -2.3698 H   0  0  0  0  0  0  0  0  0  0  0  0\\n    1.2988   -0.0043   -4.5361 H   0  0  0  0  0  0  0  0  0  0  0  0\\n    5.1050    0.0630   -4.9829 H   0  0  0  0  0  0  0  0  0  0  0  0\\n    3.8365   -0.9807   -5.5596 H   0  0  0  0  0  0  0  0  0  0  0  0\\n    2.8160    0.7225   -6.6694 H   0  0  0  0  0  0  0  0  0  0  0  0\\n    2.6347    4.9696   -8.4935 H   0  0  0  0  0  0  0  0  0  0  0  0\\n    5.0133    7.3500   -6.4412 H   0  0  0  0  0  0  0  0  0  0  0  0\\n    6.8388   10.9906   -7.5577 H   0  0  0  0  0  0  0  0  0  0  0  0\\n    6.6868    9.6595   -8.7156 H   0  0  0  0  0  0  0  0  0  0  0  0\\n    6.8025    9.3256   -6.9840 H   0  0  0  0  0  0  0  0  0  0  0  0\\n    4.8477   11.5487   -5.9801 H   0  0  0  0  0  0  0  0  0  0  0  0\\n    4.8315    9.8752   -5.4291 H   0  0  0  0  0  0  0  0  0  0  0  0\\n    3.3579   10.5973   -6.0852 H   0  0  0  0  0  0  0  0  0  0  0  0\\n    4.8466   12.1656   -8.3549 H   0  0  0  0  0  0  0  0  0  0  0  0\\n    3.2933   11.3557   -8.5564 H   0  0  0  0  0  0  0  0  0  0  0  0\\n    4.6497   10.9676   -9.6345 H   0  0  0  0  0  0  0  0  0  0  0  0\\n    3.0572    9.2479   -9.6129 H   0  0  0  0  0  0  0  0  0  0  0  0\\n    6.3081    3.8856   -3.3392 H   0  0  0  0  0  0  0  0  0  0  0  0\\n    6.4995    6.3464   -4.9425 H   0  0  0  0  0  0  0  0  0  0  0  0\\n    4.5419    6.6292   -3.4566 H   0  0  0  0  0  0  0  0  0  0  0  0\\n    5.4679    6.1195   -2.0513 H   0  0  0  0  0  0  0  0  0  0  0  0\\n    6.5224   10.2040   -2.4942 H   0  0  0  0  0  0  0  0  0  0  0  0\\n    7.9959    5.3521   -2.4328 H   0  0  0  0  0  0  0  0  0  0  0  0\\n    8.3516    6.8649   -3.2575 H   0  0  0  0  0  0  0  0  0  0  0  0\\n   10.4337    5.5686   -2.9466 H   0  0  0  0  0  0  0  0  0  0  0  0\\n   11.8917    3.8678   -3.7846 H   0  0  0  0  0  0  0  0  0  0  0  0\\n   10.9731    3.8181   -5.3190 H   0  0  0  0  0  0  0  0  0  0  0  0\\n   11.9742    5.2437   -4.9166 H   0  0  0  0  0  0  0  0  0  0  0  0\\n    5.1420   -0.0242   -2.6127 H   0  0  0  0  0  0  0  0  0  0  0  0\\n    4.0365   -0.0317   -0.3983 H   0  0  0  0  0  0  0  0  0  0  0  0\\n  1  2  3  0\\n  2  3  1  0\\n  3  4  1  0\\n  4  5  1  0\\n  5  6  2  0\\n  6  7  1  0\\n  7  8  2  0\\n  8  9  1  0\\n  9 10  1  0\\n 10 11  1  0\\n 11 12  2  0\\n 12 13  1  0\\n 13 14  1  0\\n 14 15  1  0\\n 15 16  1  0\\n 16 17  2  0\\n 18 17  1  6\\n 18 19  1  0\\n 18 20  1  0\\n 18 21  1  0\\n 17 22  1  0\\n 15 23  2  0\\n 22 23  1  0\\n 13 24  2  0\\n 24 25  1  0\\n 25 26  1  0\\n 26 27  1  0\\n 27 28  1  0\\n 28 29  1  0\\n 29 30  3  0\\n 27 31  1  0\\n 31 32  1  0\\n 32 33  2  0\\n 32 34  1  0\\n 34 35  1  0\\n 11 36  1  0\\n 25 36  2  0\\n  8 37  1  0\\n  5 38  1  0\\n 37 38  2  0\\n  1 39  1  0\\n  3 40  1  6\\n  3 41  1  0\\n  6 42  1  0\\n  7 43  1  0\\n  9 44  1  1\\n  9 45  1  0\\n 10 46  1  0\\n 14 47  1  0\\n 16 48  1  0\\n 19 49  1  1\\n 19 50  1  0\\n 19 51  1  0\\n 20 52  1  1\\n 20 53  1  0\\n 20 54  1  0\\n 21 55  1  1\\n 21 56  1  0\\n 21 57  1  0\\n 22 58  1  0\\n 26 59  1  0\\n 27 60  1  6\\n 28 61  1  6\\n 28 62  1  0\\n 30 63  1  0\\n 31 64  1  1\\n 31 65  1  0\\n 34 66  1  0\\n 35 67  1  1\\n 35 68  1  0\\n 35 69  1  0\\n 37 70  1  0\\n 38 71  1  0\\nM  END\\n\",\"sdf\");\n",
       "\tviewergrid_1720185752745868[0][0].setStyle({\"stick\": {}});\n",
       "\tviewergrid_1720185752745868[0][1].removeAllModels();\n",
       "\tviewergrid_1720185752745868[0][1].addModel(\"\\n     RDKit          3D\\n\\n 66 67  0  0  0  0  0  0  0  0999 V2000\\n   -0.9349   -0.0011    2.4960 C   0  0  0  0  0  0  0  0  0  0  0  0\\n   -0.5137    0.0000    1.3720 C   0  0  0  0  0  0  0  0  0  0  0  0\\n    0.0000    0.0000    0.0000 C   0  0  1  0  0  0  0  0  0  0  0  0\\n    1.4180    0.0000    0.0000 O   0  0  0  0  0  0  0  0  0  0  0  0\\n    2.0477   -0.0000   -1.2234 C   0  0  0  0  0  0  0  0  0  0  0  0\\n    1.3038   -0.0000   -2.4061 C   0  0  0  0  0  0  0  0  0  0  0  0\\n    1.9385    0.0010   -3.6571 C   0  0  0  0  0  0  0  0  0  0  0  0\\n    3.3366   -0.0009   -3.7789 C   0  0  0  0  0  0  0  0  0  0  0  0\\n    4.0165   -0.0004   -5.1002 C   0  0  1  0  0  0  0  0  0  0  0  0\\n    5.0444   -1.0042   -5.2632 N   0  0  0  0  0  0  0  0  0  0  0  0\\n    4.8164   -2.3502   -5.5648 C   0  0  0  0  0  0  0  0  0  0  0  0\\n    5.8716   -3.1759   -5.6881 N   0  0  0  0  0  0  0  0  0  0  0  0\\n    5.5819   -4.4518   -5.9857 C   0  0  0  0  0  0  0  0  0  0  0  0\\n    6.6520   -5.3393   -6.1323 N   0  0  0  0  0  0  0  0  0  0  0  0\\n    6.5324   -6.7448   -6.4507 C   0  0  2  0  0  0  0  0  0  0  0  0\\n    7.8925   -7.4555   -6.5441 C   0  0  1  0  0  0  0  0  0  0  0  0\\n    8.7872   -6.8444   -7.6261 C   0  0  2  0  0  0  0  0  0  0  0  0\\n    8.7649   -7.3315   -4.9178 S   0  0  0  0  0  4  0  0  0  0  0  0\\n    7.5103   -8.1865   -3.9296 C   0  0  2  0  0  0  0  0  0  0  0  0\\n    9.9616   -8.2358   -4.9701 O   0  0  0  0  0  0  0  0  0  0  0  0\\n    4.3421   -4.9458   -6.1457 N   0  0  0  0  0  0  0  0  0  0  0  0\\n    3.3188   -4.0771   -6.0070 C   0  0  0  0  0  0  0  0  0  0  0  0\\n    2.0052   -4.5292   -6.1640 N   0  0  0  0  0  0  0  0  0  0  0  0\\n    0.8207   -3.7087   -6.0430 C   0  0  1  0  0  0  0  0  0  0  0  0\\n    0.5030   -3.1367   -7.4366 C   0  0  1  0  0  0  0  0  0  0  0  0\\n   -0.6919   -2.2783   -7.4388 C   0  0  0  0  0  0  0  0  0  0  0  0\\n   -1.6645   -1.5742   -7.4310 C   0  0  0  0  0  0  0  0  0  0  0  0\\n   -0.3128   -4.5770   -5.4668 C   0  0  2  0  0  0  0  0  0  0  0  0\\n   -0.0078   -5.1577   -4.0990 C   0  0  0  0  0  0  0  0  0  0  0  0\\n    1.0588   -4.9350   -3.5301 O   0  0  0  0  0  0  0  0  0  0  0  0\\n   -1.0449   -5.9227   -3.5931 N   0  0  0  0  0  0  0  0  0  0  0  0\\n   -0.9932   -6.5668   -2.3008 C   0  0  1  0  0  0  0  0  0  0  0  0\\n    3.5418   -2.7723   -5.7204 N   0  0  0  0  0  0  0  0  0  0  0  0\\n    4.0537   -0.0155   -2.5670 C   0  0  0  0  0  0  0  0  0  0  0  0\\n    3.4395   -0.0194   -1.3072 C   0  0  0  0  0  0  0  0  0  0  0  0\\n   -1.3082   -0.0020    3.4935 H   0  0  0  0  0  0  0  0  0  0  0  0\\n   -0.3860   -0.8477   -0.5771 H   0  0  0  0  0  0  0  0  0  0  0  0\\n   -0.3162    0.9102   -0.5198 H   0  0  0  0  0  0  0  0  0  0  0  0\\n    0.2169   -0.0042   -2.3698 H   0  0  0  0  0  0  0  0  0  0  0  0\\n    1.2988   -0.0043   -4.5361 H   0  0  0  0  0  0  0  0  0  0  0  0\\n    3.2883   -0.0635   -5.9178 H   0  0  0  0  0  0  0  0  0  0  0  0\\n    4.4947    0.9801   -5.2203 H   0  0  0  0  0  0  0  0  0  0  0  0\\n    5.9915   -0.7227   -5.0359 H   0  0  0  0  0  0  0  0  0  0  0  0\\n    7.5908   -4.9568   -6.1204 H   0  0  0  0  0  0  0  0  0  0  0  0\\n    5.9902   -6.8189   -7.3982 H   0  0  0  0  0  0  0  0  0  0  0  0\\n    5.8989   -7.2251   -5.6953 H   0  0  0  0  0  0  0  0  0  0  0  0\\n    7.7586   -8.5214   -6.7612 H   0  0  0  0  0  0  0  0  0  0  0  0\\n    8.9604   -5.7774   -7.4467 H   0  0  0  0  0  0  0  0  0  0  0  0\\n    8.3432   -6.9546   -8.6203 H   0  0  0  0  0  0  0  0  0  0  0  0\\n    9.7648   -7.3379   -7.6587 H   0  0  0  0  0  0  0  0  0  0  0  0\\n    7.3030   -9.1706   -4.3563 H   0  0  0  0  0  0  0  0  0  0  0  0\\n    6.5959   -7.5931   -3.8840 H   0  0  0  0  0  0  0  0  0  0  0  0\\n    7.9001   -8.3112   -2.9161 H   0  0  0  0  0  0  0  0  0  0  0  0\\n    1.8661   -5.4787   -6.4911 H   0  0  0  0  0  0  0  0  0  0  0  0\\n    1.0555   -2.8869   -5.3561 H   0  0  0  0  0  0  0  0  0  0  0  0\\n    1.3469   -2.5268   -7.7862 H   0  0  0  0  0  0  0  0  0  0  0  0\\n    0.3821   -3.9469   -8.1663 H   0  0  0  0  0  0  0  0  0  0  0  0\\n   -2.5281   -0.9512   -7.4263 H   0  0  0  0  0  0  0  0  0  0  0  0\\n   -0.5194   -5.4247   -6.1343 H   0  0  0  0  0  0  0  0  0  0  0  0\\n   -1.2451   -4.0022   -5.3958 H   0  0  0  0  0  0  0  0  0  0  0  0\\n   -1.8969   -6.0271   -4.1360 H   0  0  0  0  0  0  0  0  0  0  0  0\\n   -1.3429   -7.5953   -2.4171 H   0  0  0  0  0  0  0  0  0  0  0  0\\n    0.0218   -6.5624   -1.8965 H   0  0  0  0  0  0  0  0  0  0  0  0\\n   -1.6631   -6.0297   -1.6250 H   0  0  0  0  0  0  0  0  0  0  0  0\\n    5.1420   -0.0242   -2.6127 H   0  0  0  0  0  0  0  0  0  0  0  0\\n    4.0365   -0.0317   -0.3983 H   0  0  0  0  0  0  0  0  0  0  0  0\\n  1  2  3  0\\n  2  3  1  0\\n  3  4  1  0\\n  4  5  1  0\\n  5  6  2  0\\n  6  7  1  0\\n  7  8  2  0\\n  8  9  1  0\\n  9 10  1  0\\n 10 11  1  0\\n 11 12  2  0\\n 12 13  1  0\\n 13 14  1  0\\n 14 15  1  0\\n 15 16  1  0\\n 16 17  1  0\\n 18 16  1  6\\n 18 19  1  0\\n 18 20  2  0\\n 13 21  2  0\\n 21 22  1  0\\n 22 23  1  0\\n 23 24  1  0\\n 24 25  1  0\\n 25 26  1  0\\n 26 27  3  0\\n 24 28  1  0\\n 28 29  1  0\\n 29 30  2  0\\n 29 31  1  0\\n 31 32  1  0\\n 11 33  1  0\\n 22 33  2  0\\n  8 34  1  0\\n  5 35  1  0\\n 34 35  2  0\\n  1 36  1  0\\n  3 37  1  6\\n  3 38  1  0\\n  6 39  1  0\\n  7 40  1  0\\n  9 41  1  6\\n  9 42  1  0\\n 10 43  1  0\\n 14 44  1  0\\n 15 45  1  6\\n 15 46  1  0\\n 16 47  1  6\\n 17 48  1  1\\n 17 49  1  0\\n 17 50  1  0\\n 19 51  1  6\\n 19 52  1  0\\n 19 53  1  0\\n 23 54  1  0\\n 24 55  1  1\\n 25 56  1  6\\n 25 57  1  0\\n 27 58  1  0\\n 28 59  1  6\\n 28 60  1  0\\n 31 61  1  0\\n 32 62  1  6\\n 32 63  1  0\\n 32 64  1  0\\n 34 65  1  0\\n 35 66  1  0\\nM  END\\n\",\"sdf\");\n",
       "\tviewergrid_1720185752745868[0][1].setStyle({\"stick\": {}});\n",
       "\tviewergrid_1720185752745868[0][2].removeAllModels();\n",
       "\tviewergrid_1720185752745868[0][2].addModel(\"\\n     RDKit          3D\\n\\n 73 76  0  0  0  0  0  0  0  0999 V2000\\n   -0.9349   -0.0011    2.4960 C   0  0  0  0  0  0  0  0  0  0  0  0\\n   -0.5137    0.0000    1.3720 C   0  0  0  0  0  0  0  0  0  0  0  0\\n    0.0000    0.0000    0.0000 C   0  0  1  0  0  0  0  0  0  0  0  0\\n    1.4180   -0.0000    0.0000 O   0  0  0  0  0  0  0  0  0  0  0  0\\n    2.0477   -0.0000   -1.2234 C   0  0  0  0  0  0  0  0  0  0  0  0\\n    1.3038   -0.0000   -2.4061 C   0  0  0  0  0  0  0  0  0  0  0  0\\n    1.9385    0.0010   -3.6571 C   0  0  0  0  0  0  0  0  0  0  0  0\\n    3.3366   -0.0009   -3.7789 C   0  0  0  0  0  0  0  0  0  0  0  0\\n    4.0165   -0.0004   -5.1002 C   0  0  1  0  0  0  0  0  0  0  0  0\\n    5.0444   -1.0042   -5.2632 N   0  0  0  0  0  0  0  0  0  0  0  0\\n    4.8164   -2.3502   -5.5648 C   0  0  0  0  0  0  0  0  0  0  0  0\\n    5.8716   -3.1759   -5.6881 N   0  0  0  0  0  0  0  0  0  0  0  0\\n    5.5819   -4.4518   -5.9857 C   0  0  0  0  0  0  0  0  0  0  0  0\\n    6.6520   -5.3393   -6.1323 N   0  0  0  0  0  0  0  0  0  0  0  0\\n    6.5324   -6.7448   -6.4507 C   0  0  2  0  0  0  0  0  0  0  0  0\\n    7.8798   -7.4164   -6.5360 C   0  0  2  0  0  0  0  0  0  0  0  0\\n    8.7020   -7.3891   -5.2380 C   0  0  2  0  0  0  0  0  0  0  0  0\\n    9.7496   -8.4825   -5.5010 C   0  0  2  0  0  0  0  0  0  0  0  0\\n    9.3991   -8.9518   -6.9289 C   0  0  2  0  0  0  0  0  0  0  0  0\\n   10.0146  -10.2756   -7.3166 C   0  0  2  0  0  0  0  0  0  0  0  0\\n    9.6965   -7.8018   -7.8972 C   0  0  1  0  0  0  0  0  0  0  0  0\\n    8.7006   -6.8064   -7.5624 O   0  0  0  0  0  0  0  0  0  0  0  0\\n    7.8766   -8.8917   -6.9156 C   0  0  2  0  0  0  0  0  0  0  0  0\\n    4.3421   -4.9458   -6.1457 N   0  0  0  0  0  0  0  0  0  0  0  0\\n    3.3188   -4.0771   -6.0070 C   0  0  0  0  0  0  0  0  0  0  0  0\\n    2.0052   -4.5292   -6.1640 N   0  0  0  0  0  0  0  0  0  0  0  0\\n    0.8207   -3.7087   -6.0430 C   0  0  1  0  0  0  0  0  0  0  0  0\\n    0.5030   -3.1367   -7.4366 C   0  0  1  0  0  0  0  0  0  0  0  0\\n   -0.6919   -2.2783   -7.4388 C   0  0  0  0  0  0  0  0  0  0  0  0\\n   -1.6645   -1.5742   -7.4310 C   0  0  0  0  0  0  0  0  0  0  0  0\\n   -0.3128   -4.5770   -5.4668 C   0  0  2  0  0  0  0  0  0  0  0  0\\n   -0.0078   -5.1577   -4.0990 C   0  0  0  0  0  0  0  0  0  0  0  0\\n    1.0588   -4.9350   -3.5301 O   0  0  0  0  0  0  0  0  0  0  0  0\\n   -1.0449   -5.9227   -3.5931 N   0  0  0  0  0  0  0  0  0  0  0  0\\n   -0.9932   -6.5668   -2.3008 C   0  0  1  0  0  0  0  0  0  0  0  0\\n    3.5418   -2.7723   -5.7204 N   0  0  0  0  0  0  0  0  0  0  0  0\\n    4.0537   -0.0155   -2.5670 C   0  0  0  0  0  0  0  0  0  0  0  0\\n    3.4395   -0.0194   -1.3072 C   0  0  0  0  0  0  0  0  0  0  0  0\\n   -1.3082   -0.0020    3.4935 H   0  0  0  0  0  0  0  0  0  0  0  0\\n   -0.3860   -0.8477   -0.5771 H   0  0  0  0  0  0  0  0  0  0  0  0\\n   -0.3162    0.9102   -0.5198 H   0  0  0  0  0  0  0  0  0  0  0  0\\n    0.2169   -0.0042   -2.3698 H   0  0  0  0  0  0  0  0  0  0  0  0\\n    1.2988   -0.0043   -4.5361 H   0  0  0  0  0  0  0  0  0  0  0  0\\n    3.2883   -0.0635   -5.9178 H   0  0  0  0  0  0  0  0  0  0  0  0\\n    4.4947    0.9801   -5.2203 H   0  0  0  0  0  0  0  0  0  0  0  0\\n    5.9915   -0.7227   -5.0359 H   0  0  0  0  0  0  0  0  0  0  0  0\\n    7.5908   -4.9568   -6.1204 H   0  0  0  0  0  0  0  0  0  0  0  0\\n    6.0331   -6.8571   -7.4197 H   0  0  0  0  0  0  0  0  0  0  0  0\\n    5.8869   -7.2460   -5.7312 H   0  0  0  0  0  0  0  0  0  0  0  0\\n    8.0984   -7.6436   -4.3602 H   0  0  0  0  0  0  0  0  0  0  0  0\\n    9.1834   -6.4194   -5.0736 H   0  0  0  0  0  0  0  0  0  0  0  0\\n    9.6381   -9.2938   -4.7721 H   0  0  0  0  0  0  0  0  0  0  0  0\\n   10.7711   -8.0951   -5.4256 H   0  0  0  0  0  0  0  0  0  0  0  0\\n    9.6998  -10.5787   -8.3208 H   0  0  0  0  0  0  0  0  0  0  0  0\\n    9.7160  -11.0678   -6.6219 H   0  0  0  0  0  0  0  0  0  0  0  0\\n   11.1079  -10.2155   -7.3104 H   0  0  0  0  0  0  0  0  0  0  0  0\\n   10.6954   -7.3722   -7.7740 H   0  0  0  0  0  0  0  0  0  0  0  0\\n    9.5520   -8.0835   -8.9456 H   0  0  0  0  0  0  0  0  0  0  0  0\\n    7.4408   -9.0825   -7.9028 H   0  0  0  0  0  0  0  0  0  0  0  0\\n    7.4084   -9.5406   -6.1680 H   0  0  0  0  0  0  0  0  0  0  0  0\\n    1.8661   -5.4787   -6.4911 H   0  0  0  0  0  0  0  0  0  0  0  0\\n    1.0555   -2.8869   -5.3561 H   0  0  0  0  0  0  0  0  0  0  0  0\\n    1.3469   -2.5268   -7.7862 H   0  0  0  0  0  0  0  0  0  0  0  0\\n    0.3821   -3.9469   -8.1663 H   0  0  0  0  0  0  0  0  0  0  0  0\\n   -2.5281   -0.9512   -7.4263 H   0  0  0  0  0  0  0  0  0  0  0  0\\n   -0.5194   -5.4247   -6.1343 H   0  0  0  0  0  0  0  0  0  0  0  0\\n   -1.2451   -4.0022   -5.3958 H   0  0  0  0  0  0  0  0  0  0  0  0\\n   -1.8969   -6.0271   -4.1360 H   0  0  0  0  0  0  0  0  0  0  0  0\\n   -1.3429   -7.5953   -2.4171 H   0  0  0  0  0  0  0  0  0  0  0  0\\n    0.0218   -6.5624   -1.8965 H   0  0  0  0  0  0  0  0  0  0  0  0\\n   -1.6631   -6.0297   -1.6250 H   0  0  0  0  0  0  0  0  0  0  0  0\\n    5.1420   -0.0242   -2.6127 H   0  0  0  0  0  0  0  0  0  0  0  0\\n    4.0365   -0.0317   -0.3983 H   0  0  0  0  0  0  0  0  0  0  0  0\\n  1  2  3  0\\n  2  3  1  0\\n  3  4  1  0\\n  4  5  1  0\\n  5  6  2  0\\n  6  7  1  0\\n  7  8  2  0\\n  8  9  1  0\\n  9 10  1  0\\n 10 11  1  0\\n 11 12  2  0\\n 12 13  1  0\\n 13 14  1  0\\n 14 15  1  0\\n 15 16  1  0\\n 16 17  1  0\\n 17 18  1  0\\n 18 19  1  0\\n 19 20  1  0\\n 19 21  1  6\\n 16 22  1  6\\n 21 22  1  0\\n 16 23  1  0\\n 19 23  1  0\\n 13 24  2  0\\n 24 25  1  0\\n 25 26  1  0\\n 26 27  1  0\\n 27 28  1  0\\n 28 29  1  0\\n 29 30  3  0\\n 27 31  1  0\\n 31 32  1  0\\n 32 33  2  0\\n 32 34  1  0\\n 34 35  1  0\\n 11 36  1  0\\n 25 36  2  0\\n  8 37  1  0\\n  5 38  1  0\\n 37 38  2  0\\n  1 39  1  0\\n  3 40  1  6\\n  3 41  1  0\\n  6 42  1  0\\n  7 43  1  0\\n  9 44  1  6\\n  9 45  1  0\\n 10 46  1  0\\n 14 47  1  0\\n 15 48  1  6\\n 15 49  1  0\\n 17 50  1  1\\n 17 51  1  0\\n 18 52  1  1\\n 18 53  1  0\\n 20 54  1  6\\n 20 55  1  0\\n 20 56  1  0\\n 21 57  1  6\\n 21 58  1  0\\n 23 59  1  6\\n 23 60  1  0\\n 26 61  1  0\\n 27 62  1  1\\n 28 63  1  6\\n 28 64  1  0\\n 30 65  1  0\\n 31 66  1  6\\n 31 67  1  0\\n 34 68  1  0\\n 35 69  1  6\\n 35 70  1  0\\n 35 71  1  0\\n 37 72  1  0\\n 38 73  1  0\\nM  END\\n\",\"sdf\");\n",
       "\tviewergrid_1720185752745868[0][2].setStyle({\"stick\": {}});\n",
       "\tviewergrid_1720185752745868[0][0].zoomTo();\n",
       "\tviewergrid_1720185752745868[0][1].zoomTo();\n",
       "\tviewergrid_1720185752745868[0][2].zoomTo();\n",
       "viewergrid_1720185752745868[0][2].render();\n",
       "viewergrid_1720185752745868[0][1].render();\n",
       "viewergrid_1720185752745868[0][0].render();\n",
       "});\n",
       "</script>"
      ]
     },
     "metadata": {},
     "output_type": "display_data"
    }
   ],
   "source": [
    "#visualization\n",
    "rd_mols = Chem.SDMolSupplier(SDF_PATH, removeHs=False, sanitize=False)\n",
    "\n",
    "p = py3Dmol.view(width=1200, height=400, viewergrid=(1,3))\n",
    "#\n",
    "for j,t in enumerate([10, 20, 30]):\n",
    "    p.removeAllModels(viewer=(0,j))\n",
    "    p.addModel(Chem.MolToMolBlock(rd_mols[t], confId=0), 'sdf', viewer=(0,j))\n",
    "    p.setStyle({'stick':{}}, viewer=(0,j))\n",
    "p.zoomTo()\n",
    "p.show()"
   ]
  },
  {
   "cell_type": "code",
   "execution_count": 28,
   "id": "3779ade0",
   "metadata": {},
   "outputs": [
    {
     "data": {
      "application/3dmoljs_load.v0": "<div id=\"3dmolviewer_17201856699751413\"  style=\"position: relative; width: 1200px; height: 400px;\">\n        <p id=\"3dmolwarning_17201856699751413\" style=\"background-color:#ffcccc;color:black\">3Dmol.js failed to load for some reason.  Please check your browser console for error messages.<br></p>\n        </div>\n<script>\n\nvar loadScriptAsync = function(uri){\n  return new Promise((resolve, reject) => {\n    //this is to ignore the existence of requirejs amd\n    var savedexports, savedmodule;\n    if (typeof exports !== 'undefined') savedexports = exports;\n    else exports = {}\n    if (typeof module !== 'undefined') savedmodule = module;\n    else module = {}\n\n    var tag = document.createElement('script');\n    tag.src = uri;\n    tag.async = true;\n    tag.onload = () => {\n        exports = savedexports;\n        module = savedmodule;\n        resolve();\n    };\n  var firstScriptTag = document.getElementsByTagName('script')[0];\n  firstScriptTag.parentNode.insertBefore(tag, firstScriptTag);\n});\n};\n\nif(typeof $3Dmolpromise === 'undefined') {\n$3Dmolpromise = null;\n  $3Dmolpromise = loadScriptAsync('https://cdnjs.cloudflare.com/ajax/libs/3Dmol/2.1.0/3Dmol-min.js');\n}\n\nvar viewer_17201856699751413 = null;\nvar warn = document.getElementById(\"3dmolwarning_17201856699751413\");\nif(warn) {\n    warn.parentNode.removeChild(warn);\n}\n$3Dmolpromise.then(function() {\nvar viewergrid_17201856699751413 = null;\nviewergrid_17201856699751413 = $3Dmol.createViewerGrid(document.getElementById(\"3dmolviewer_17201856699751413\"),{rows: 1, cols: 3, control_all: true},{backgroundColor:\"white\"});\nviewer_17201856699751413 = viewergrid_17201856699751413[0][0];\nviewergrid_17201856699751413[0][0].zoomTo();viewergrid_17201856699751413[0][1].zoomTo();viewergrid_17201856699751413[0][2].zoomTo();\tviewergrid_17201856699751413[0][0].removeAllModels();\n\tviewergrid_17201856699751413[0][0].addModel(\"\\n     RDKit          3D\\n\\n 38 40  0  0  0  0  0  0  0  0999 V2000\\n   -0.9349   -0.0011    2.4960 C   0  0  0  0  0  0  0  0  0  0  0  0\\n   -0.5137    0.0000    1.3720 C   0  0  0  0  0  0  0  0  0  0  0  0\\n    0.0000    0.0000    0.0000 C   0  0  0  0  0  0  0  0  0  0  0  0\\n    1.4180   -0.0000    0.0000 O   0  0  0  0  0  0  0  0  0  0  0  0\\n    2.0477   -0.0000   -1.2234 C   0  0  0  0  0  0  0  0  0  0  0  0\\n    1.3038   -0.0000   -2.4061 C   0  0  0  0  0  0  0  0  0  0  0  0\\n    1.9385    0.0010   -3.6571 C   0  0  0  0  0  0  0  0  0  0  0  0\\n    3.3366   -0.0009   -3.7789 C   0  0  0  0  0  0  0  0  0  0  0  0\\n    4.0165   -0.0004   -5.1002 C   0  0  0  0  0  0  0  0  0  0  0  0\\n    3.5513    1.0039   -6.0308 N   0  0  0  0  0  0  0  0  0  0  0  0\\n    3.9289    2.3499   -6.0198 C   0  0  0  0  0  0  0  0  0  0  0  0\\n    3.4155    3.1761   -6.9496 N   0  0  0  0  0  0  0  0  0  0  0  0\\n    3.8258    4.4520   -6.8861 C   0  0  0  0  0  0  0  0  0  0  0  0\\n    3.3227    5.3400   -7.8415 N   0  0  0  0  0  0  0  0  0  0  0  0\\n    3.5486    6.6590   -8.0271 C   0  0  0  0  0  0  0  0  0  0  0  0\\n    4.3799    7.5510   -7.2925 C   0  0  0  0  0  0  0  0  0  0  0  0\\n    4.2472    8.7787   -7.8996 C   0  0  0  0  0  0  0  0  0  0  0  0\\n    4.8375   10.0974   -7.6233 C   0  0  0  0  0  0  0  0  0  0  0  0\\n    6.3759   10.0109   -7.7246 C   0  0  0  0  0  0  0  0  0  0  0  0\\n    4.4475   10.5521   -6.2002 C   0  0  0  0  0  0  0  0  0  0  0  0\\n    4.3782   11.2045   -8.5990 C   0  0  0  0  0  0  0  0  0  0  0  0\\n    3.3893    8.5709   -8.9372 N   0  0  0  0  0  0  0  0  0  0  0  0\\n    2.9672    7.3053   -9.0519 N   0  0  0  0  0  0  0  0  0  0  0  0\\n    4.6764    4.9457   -5.9699 N   0  0  0  0  0  0  0  0  0  0  0  0\\n    5.1587    4.0767   -5.0572 C   0  0  0  0  0  0  0  0  0  0  0  0\\n    6.0499    4.5285   -4.0794 N   0  0  0  0  0  0  0  0  0  0  0  0\\n    6.5228    5.8885   -3.9464 C   0  0  1  0  0  0  0  0  0  0  0  0\\n    5.5483    6.6344   -3.0167 C   0  0  0  0  0  0  0  0  0  0  0  0\\n    5.9294    8.0396   -2.8047 C   0  0  0  0  0  0  0  0  0  0  0  0\\n    6.2438    9.1868   -2.6417 C   0  0  0  0  0  0  0  0  0  0  0  0\\n    7.9663    5.8490   -3.4121 C   0  0  0  0  0  0  0  0  0  0  0  0\\n    8.9350    5.1058   -4.3124 C   0  0  0  0  0  0  0  0  0  0  0  0\\n    8.5668    4.5929   -5.3672 O   0  0  0  0  0  0  0  0  0  0  0  0\\n   10.2293    5.0944   -3.8211 N   0  0  0  0  0  0  0  0  0  0  0  0\\n   11.3296    4.4605   -4.5103 C   0  0  0  0  0  0  0  0  0  0  0  0\\n    4.7963    2.7718   -5.0729 N   0  0  0  0  0  0  0  0  0  0  0  0\\n    4.0537   -0.0155   -2.5670 C   0  0  0  0  0  0  0  0  0  0  0  0\\n    3.4395   -0.0194   -1.3072 C   0  0  0  0  0  0  0  0  0  0  0  0\\n  1  2  3  0\\n  2  3  1  0\\n  3  4  1  0\\n  4  5  1  0\\n  5  6  2  0\\n  6  7  1  0\\n  7  8  2  0\\n  8  9  1  0\\n  9 10  1  0\\n 10 11  1  0\\n 11 12  2  0\\n 12 13  1  0\\n 13 14  1  0\\n 14 15  1  0\\n 15 16  1  0\\n 16 17  2  0\\n 17 18  1  0\\n 18 19  1  0\\n 18 20  1  0\\n 18 21  1  0\\n 17 22  1  0\\n 15 23  2  0\\n 22 23  1  0\\n 13 24  2  0\\n 24 25  1  0\\n 25 26  1  0\\n 26 27  1  0\\n 27 28  1  1\\n 28 29  1  0\\n 29 30  3  0\\n 27 31  1  0\\n 31 32  1  0\\n 32 33  2  0\\n 32 34  1  0\\n 34 35  1  0\\n 11 36  1  0\\n 25 36  2  0\\n  8 37  1  0\\n  5 38  1  0\\n 37 38  2  0\\nM  END\\n\",\"sdf\");\n\tviewergrid_17201856699751413[0][0].setStyle({\"stick\": {}});\n\tviewergrid_17201856699751413[0][1].removeAllModels();\n\tviewergrid_17201856699751413[0][1].addModel(\"\\n     RDKit          3D\\n\\n 35 36  0  0  0  0  0  0  0  0999 V2000\\n   -0.9349   -0.0011    2.4960 C   0  0  0  0  0  0  0  0  0  0  0  0\\n   -0.5137    0.0000    1.3720 C   0  0  0  0  0  0  0  0  0  0  0  0\\n    0.0000    0.0000    0.0000 C   0  0  0  0  0  0  0  0  0  0  0  0\\n    1.4180    0.0000    0.0000 O   0  0  0  0  0  0  0  0  0  0  0  0\\n    2.0477   -0.0000   -1.2234 C   0  0  0  0  0  0  0  0  0  0  0  0\\n    1.3038   -0.0000   -2.4061 C   0  0  0  0  0  0  0  0  0  0  0  0\\n    1.9385    0.0010   -3.6571 C   0  0  0  0  0  0  0  0  0  0  0  0\\n    3.3366   -0.0009   -3.7789 C   0  0  0  0  0  0  0  0  0  0  0  0\\n    4.0165   -0.0004   -5.1002 C   0  0  0  0  0  0  0  0  0  0  0  0\\n    5.0444   -1.0042   -5.2632 N   0  0  0  0  0  0  0  0  0  0  0  0\\n    4.8164   -2.3502   -5.5648 C   0  0  0  0  0  0  0  0  0  0  0  0\\n    5.8716   -3.1759   -5.6881 N   0  0  0  0  0  0  0  0  0  0  0  0\\n    5.5819   -4.4518   -5.9857 C   0  0  0  0  0  0  0  0  0  0  0  0\\n    6.6520   -5.3393   -6.1323 N   0  0  0  0  0  0  0  0  0  0  0  0\\n    6.5324   -6.7448   -6.4507 C   0  0  0  0  0  0  0  0  0  0  0  0\\n    7.8925   -7.4555   -6.5441 C   0  0  1  0  0  0  0  0  0  0  0  0\\n    8.7872   -6.8444   -7.6261 C   0  0  0  0  0  0  0  0  0  0  0  0\\n    8.7649   -7.3315   -4.9178 S   0  0  0  0  0  4  0  0  0  0  0  0\\n    7.5103   -8.1865   -3.9296 C   0  0  0  0  0  0  0  0  0  0  0  0\\n    9.9616   -8.2358   -4.9701 O   0  0  0  0  0  0  0  0  0  0  0  0\\n    4.3421   -4.9458   -6.1457 N   0  0  0  0  0  0  0  0  0  0  0  0\\n    3.3188   -4.0771   -6.0070 C   0  0  0  0  0  0  0  0  0  0  0  0\\n    2.0052   -4.5292   -6.1640 N   0  0  0  0  0  0  0  0  0  0  0  0\\n    0.8207   -3.7087   -6.0430 C   0  0  1  0  0  0  0  0  0  0  0  0\\n    0.5030   -3.1367   -7.4366 C   0  0  0  0  0  0  0  0  0  0  0  0\\n   -0.6919   -2.2783   -7.4388 C   0  0  0  0  0  0  0  0  0  0  0  0\\n   -1.6645   -1.5742   -7.4310 C   0  0  0  0  0  0  0  0  0  0  0  0\\n   -0.3128   -4.5770   -5.4668 C   0  0  0  0  0  0  0  0  0  0  0  0\\n   -0.0078   -5.1577   -4.0990 C   0  0  0  0  0  0  0  0  0  0  0  0\\n    1.0588   -4.9350   -3.5301 O   0  0  0  0  0  0  0  0  0  0  0  0\\n   -1.0449   -5.9227   -3.5931 N   0  0  0  0  0  0  0  0  0  0  0  0\\n   -0.9932   -6.5668   -2.3008 C   0  0  0  0  0  0  0  0  0  0  0  0\\n    3.5418   -2.7723   -5.7204 N   0  0  0  0  0  0  0  0  0  0  0  0\\n    4.0537   -0.0155   -2.5670 C   0  0  0  0  0  0  0  0  0  0  0  0\\n    3.4395   -0.0194   -1.3072 C   0  0  0  0  0  0  0  0  0  0  0  0\\n  1  2  3  0\\n  2  3  1  0\\n  3  4  1  0\\n  4  5  1  0\\n  5  6  2  0\\n  6  7  1  0\\n  7  8  2  0\\n  8  9  1  0\\n  9 10  1  0\\n 10 11  1  0\\n 11 12  2  0\\n 12 13  1  0\\n 13 14  1  0\\n 14 15  1  0\\n 15 16  1  0\\n 16 17  1  6\\n 16 18  1  0\\n 18 19  1  1\\n 18 20  2  0\\n 13 21  2  0\\n 21 22  1  0\\n 22 23  1  0\\n 23 24  1  0\\n 24 25  1  6\\n 25 26  1  0\\n 26 27  3  0\\n 24 28  1  0\\n 28 29  1  0\\n 29 30  2  0\\n 29 31  1  0\\n 31 32  1  0\\n 11 33  1  0\\n 22 33  2  0\\n  8 34  1  0\\n  5 35  1  0\\n 34 35  2  0\\nM  END\\n\",\"sdf\");\n\tviewergrid_17201856699751413[0][1].setStyle({\"stick\": {}});\n\tviewergrid_17201856699751413[0][2].removeAllModels();\n\tviewergrid_17201856699751413[0][2].addModel(\"\\n     RDKit          3D\\n\\n 38 41  0  0  0  0  0  0  0  0999 V2000\\n   -0.9349   -0.0011    2.4960 C   0  0  0  0  0  0  0  0  0  0  0  0\\n   -0.5137    0.0000    1.3720 C   0  0  0  0  0  0  0  0  0  0  0  0\\n    0.0000    0.0000    0.0000 C   0  0  0  0  0  0  0  0  0  0  0  0\\n    1.4180   -0.0000    0.0000 O   0  0  0  0  0  0  0  0  0  0  0  0\\n    2.0477   -0.0000   -1.2234 C   0  0  0  0  0  0  0  0  0  0  0  0\\n    1.3038   -0.0000   -2.4061 C   0  0  0  0  0  0  0  0  0  0  0  0\\n    1.9385    0.0010   -3.6571 C   0  0  0  0  0  0  0  0  0  0  0  0\\n    3.3366   -0.0009   -3.7789 C   0  0  0  0  0  0  0  0  0  0  0  0\\n    4.0165   -0.0004   -5.1002 C   0  0  0  0  0  0  0  0  0  0  0  0\\n    5.0444   -1.0042   -5.2632 N   0  0  0  0  0  0  0  0  0  0  0  0\\n    4.8164   -2.3502   -5.5648 C   0  0  0  0  0  0  0  0  0  0  0  0\\n    5.8716   -3.1759   -5.6881 N   0  0  0  0  0  0  0  0  0  0  0  0\\n    5.5819   -4.4518   -5.9857 C   0  0  0  0  0  0  0  0  0  0  0  0\\n    6.6520   -5.3393   -6.1323 N   0  0  0  0  0  0  0  0  0  0  0  0\\n    6.5324   -6.7448   -6.4507 C   0  0  0  0  0  0  0  0  0  0  0  0\\n    7.8798   -7.4164   -6.5360 C   0  0  2  0  0  0  0  0  0  0  0  0\\n    8.7020   -7.3891   -5.2380 C   0  0  0  0  0  0  0  0  0  0  0  0\\n    9.7496   -8.4825   -5.5010 C   0  0  0  0  0  0  0  0  0  0  0  0\\n    9.3991   -8.9518   -6.9289 C   0  0  2  0  0  0  0  0  0  0  0  0\\n   10.0146  -10.2756   -7.3166 C   0  0  0  0  0  0  0  0  0  0  0  0\\n    9.6965   -7.8018   -7.8972 C   0  0  0  0  0  0  0  0  0  0  0  0\\n    8.7006   -6.8064   -7.5624 O   0  0  0  0  0  0  0  0  0  0  0  0\\n    7.8766   -8.8917   -6.9156 C   0  0  0  0  0  0  0  0  0  0  0  0\\n    4.3421   -4.9458   -6.1457 N   0  0  0  0  0  0  0  0  0  0  0  0\\n    3.3188   -4.0771   -6.0070 C   0  0  0  0  0  0  0  0  0  0  0  0\\n    2.0052   -4.5292   -6.1640 N   0  0  0  0  0  0  0  0  0  0  0  0\\n    0.8207   -3.7087   -6.0430 C   0  0  1  0  0  0  0  0  0  0  0  0\\n    0.5030   -3.1367   -7.4366 C   0  0  0  0  0  0  0  0  0  0  0  0\\n   -0.6919   -2.2783   -7.4388 C   0  0  0  0  0  0  0  0  0  0  0  0\\n   -1.6645   -1.5742   -7.4310 C   0  0  0  0  0  0  0  0  0  0  0  0\\n   -0.3128   -4.5770   -5.4668 C   0  0  0  0  0  0  0  0  0  0  0  0\\n   -0.0078   -5.1577   -4.0990 C   0  0  0  0  0  0  0  0  0  0  0  0\\n    1.0588   -4.9350   -3.5301 O   0  0  0  0  0  0  0  0  0  0  0  0\\n   -1.0449   -5.9227   -3.5931 N   0  0  0  0  0  0  0  0  0  0  0  0\\n   -0.9932   -6.5668   -2.3008 C   0  0  0  0  0  0  0  0  0  0  0  0\\n    3.5418   -2.7723   -5.7204 N   0  0  0  0  0  0  0  0  0  0  0  0\\n    4.0537   -0.0155   -2.5670 C   0  0  0  0  0  0  0  0  0  0  0  0\\n    3.4395   -0.0194   -1.3072 C   0  0  0  0  0  0  0  0  0  0  0  0\\n  1  2  3  0\\n  2  3  1  0\\n  3  4  1  0\\n  4  5  1  0\\n  5  6  2  0\\n  6  7  1  0\\n  7  8  2  0\\n  8  9  1  0\\n  9 10  1  0\\n 10 11  1  0\\n 11 12  2  0\\n 12 13  1  0\\n 13 14  1  0\\n 14 15  1  0\\n 16 15  1  1\\n 16 17  1  0\\n 17 18  1  0\\n 18 19  1  0\\n 19 20  1  6\\n 19 21  1  0\\n 16 22  1  0\\n 21 22  1  0\\n 16 23  1  0\\n 19 23  1  0\\n 13 24  2  0\\n 24 25  1  0\\n 25 26  1  0\\n 26 27  1  0\\n 27 28  1  6\\n 28 29  1  0\\n 29 30  3  0\\n 27 31  1  0\\n 31 32  1  0\\n 32 33  2  0\\n 32 34  1  0\\n 34 35  1  0\\n 11 36  1  0\\n 25 36  2  0\\n  8 37  1  0\\n  5 38  1  0\\n 37 38  2  0\\nM  END\\n\",\"sdf\");\n\tviewergrid_17201856699751413[0][2].setStyle({\"stick\": {}});\n\tviewergrid_17201856699751413[0][0].zoomTo();\n\tviewergrid_17201856699751413[0][1].zoomTo();\n\tviewergrid_17201856699751413[0][2].zoomTo();\nviewergrid_17201856699751413[0][2].render();\nviewergrid_17201856699751413[0][1].render();\nviewergrid_17201856699751413[0][0].render();\n});\n</script>",
      "text/html": [
       "<div id=\"3dmolviewer_17201856699751413\"  style=\"position: relative; width: 1200px; height: 400px;\">\n",
       "        <p id=\"3dmolwarning_17201856699751413\" style=\"background-color:#ffcccc;color:black\">3Dmol.js failed to load for some reason.  Please check your browser console for error messages.<br></p>\n",
       "        </div>\n",
       "<script>\n",
       "\n",
       "var loadScriptAsync = function(uri){\n",
       "  return new Promise((resolve, reject) => {\n",
       "    //this is to ignore the existence of requirejs amd\n",
       "    var savedexports, savedmodule;\n",
       "    if (typeof exports !== 'undefined') savedexports = exports;\n",
       "    else exports = {}\n",
       "    if (typeof module !== 'undefined') savedmodule = module;\n",
       "    else module = {}\n",
       "\n",
       "    var tag = document.createElement('script');\n",
       "    tag.src = uri;\n",
       "    tag.async = true;\n",
       "    tag.onload = () => {\n",
       "        exports = savedexports;\n",
       "        module = savedmodule;\n",
       "        resolve();\n",
       "    };\n",
       "  var firstScriptTag = document.getElementsByTagName('script')[0];\n",
       "  firstScriptTag.parentNode.insertBefore(tag, firstScriptTag);\n",
       "});\n",
       "};\n",
       "\n",
       "if(typeof $3Dmolpromise === 'undefined') {\n",
       "$3Dmolpromise = null;\n",
       "  $3Dmolpromise = loadScriptAsync('https://cdnjs.cloudflare.com/ajax/libs/3Dmol/2.1.0/3Dmol-min.js');\n",
       "}\n",
       "\n",
       "var viewer_17201856699751413 = null;\n",
       "var warn = document.getElementById(\"3dmolwarning_17201856699751413\");\n",
       "if(warn) {\n",
       "    warn.parentNode.removeChild(warn);\n",
       "}\n",
       "$3Dmolpromise.then(function() {\n",
       "var viewergrid_17201856699751413 = null;\n",
       "viewergrid_17201856699751413 = $3Dmol.createViewerGrid(document.getElementById(\"3dmolviewer_17201856699751413\"),{rows: 1, cols: 3, control_all: true},{backgroundColor:\"white\"});\n",
       "viewer_17201856699751413 = viewergrid_17201856699751413[0][0];\n",
       "viewergrid_17201856699751413[0][0].zoomTo();viewergrid_17201856699751413[0][1].zoomTo();viewergrid_17201856699751413[0][2].zoomTo();\tviewergrid_17201856699751413[0][0].removeAllModels();\n",
       "\tviewergrid_17201856699751413[0][0].addModel(\"\\n     RDKit          3D\\n\\n 38 40  0  0  0  0  0  0  0  0999 V2000\\n   -0.9349   -0.0011    2.4960 C   0  0  0  0  0  0  0  0  0  0  0  0\\n   -0.5137    0.0000    1.3720 C   0  0  0  0  0  0  0  0  0  0  0  0\\n    0.0000    0.0000    0.0000 C   0  0  0  0  0  0  0  0  0  0  0  0\\n    1.4180   -0.0000    0.0000 O   0  0  0  0  0  0  0  0  0  0  0  0\\n    2.0477   -0.0000   -1.2234 C   0  0  0  0  0  0  0  0  0  0  0  0\\n    1.3038   -0.0000   -2.4061 C   0  0  0  0  0  0  0  0  0  0  0  0\\n    1.9385    0.0010   -3.6571 C   0  0  0  0  0  0  0  0  0  0  0  0\\n    3.3366   -0.0009   -3.7789 C   0  0  0  0  0  0  0  0  0  0  0  0\\n    4.0165   -0.0004   -5.1002 C   0  0  0  0  0  0  0  0  0  0  0  0\\n    3.5513    1.0039   -6.0308 N   0  0  0  0  0  0  0  0  0  0  0  0\\n    3.9289    2.3499   -6.0198 C   0  0  0  0  0  0  0  0  0  0  0  0\\n    3.4155    3.1761   -6.9496 N   0  0  0  0  0  0  0  0  0  0  0  0\\n    3.8258    4.4520   -6.8861 C   0  0  0  0  0  0  0  0  0  0  0  0\\n    3.3227    5.3400   -7.8415 N   0  0  0  0  0  0  0  0  0  0  0  0\\n    3.5486    6.6590   -8.0271 C   0  0  0  0  0  0  0  0  0  0  0  0\\n    4.3799    7.5510   -7.2925 C   0  0  0  0  0  0  0  0  0  0  0  0\\n    4.2472    8.7787   -7.8996 C   0  0  0  0  0  0  0  0  0  0  0  0\\n    4.8375   10.0974   -7.6233 C   0  0  0  0  0  0  0  0  0  0  0  0\\n    6.3759   10.0109   -7.7246 C   0  0  0  0  0  0  0  0  0  0  0  0\\n    4.4475   10.5521   -6.2002 C   0  0  0  0  0  0  0  0  0  0  0  0\\n    4.3782   11.2045   -8.5990 C   0  0  0  0  0  0  0  0  0  0  0  0\\n    3.3893    8.5709   -8.9372 N   0  0  0  0  0  0  0  0  0  0  0  0\\n    2.9672    7.3053   -9.0519 N   0  0  0  0  0  0  0  0  0  0  0  0\\n    4.6764    4.9457   -5.9699 N   0  0  0  0  0  0  0  0  0  0  0  0\\n    5.1587    4.0767   -5.0572 C   0  0  0  0  0  0  0  0  0  0  0  0\\n    6.0499    4.5285   -4.0794 N   0  0  0  0  0  0  0  0  0  0  0  0\\n    6.5228    5.8885   -3.9464 C   0  0  1  0  0  0  0  0  0  0  0  0\\n    5.5483    6.6344   -3.0167 C   0  0  0  0  0  0  0  0  0  0  0  0\\n    5.9294    8.0396   -2.8047 C   0  0  0  0  0  0  0  0  0  0  0  0\\n    6.2438    9.1868   -2.6417 C   0  0  0  0  0  0  0  0  0  0  0  0\\n    7.9663    5.8490   -3.4121 C   0  0  0  0  0  0  0  0  0  0  0  0\\n    8.9350    5.1058   -4.3124 C   0  0  0  0  0  0  0  0  0  0  0  0\\n    8.5668    4.5929   -5.3672 O   0  0  0  0  0  0  0  0  0  0  0  0\\n   10.2293    5.0944   -3.8211 N   0  0  0  0  0  0  0  0  0  0  0  0\\n   11.3296    4.4605   -4.5103 C   0  0  0  0  0  0  0  0  0  0  0  0\\n    4.7963    2.7718   -5.0729 N   0  0  0  0  0  0  0  0  0  0  0  0\\n    4.0537   -0.0155   -2.5670 C   0  0  0  0  0  0  0  0  0  0  0  0\\n    3.4395   -0.0194   -1.3072 C   0  0  0  0  0  0  0  0  0  0  0  0\\n  1  2  3  0\\n  2  3  1  0\\n  3  4  1  0\\n  4  5  1  0\\n  5  6  2  0\\n  6  7  1  0\\n  7  8  2  0\\n  8  9  1  0\\n  9 10  1  0\\n 10 11  1  0\\n 11 12  2  0\\n 12 13  1  0\\n 13 14  1  0\\n 14 15  1  0\\n 15 16  1  0\\n 16 17  2  0\\n 17 18  1  0\\n 18 19  1  0\\n 18 20  1  0\\n 18 21  1  0\\n 17 22  1  0\\n 15 23  2  0\\n 22 23  1  0\\n 13 24  2  0\\n 24 25  1  0\\n 25 26  1  0\\n 26 27  1  0\\n 27 28  1  1\\n 28 29  1  0\\n 29 30  3  0\\n 27 31  1  0\\n 31 32  1  0\\n 32 33  2  0\\n 32 34  1  0\\n 34 35  1  0\\n 11 36  1  0\\n 25 36  2  0\\n  8 37  1  0\\n  5 38  1  0\\n 37 38  2  0\\nM  END\\n\",\"sdf\");\n",
       "\tviewergrid_17201856699751413[0][0].setStyle({\"stick\": {}});\n",
       "\tviewergrid_17201856699751413[0][1].removeAllModels();\n",
       "\tviewergrid_17201856699751413[0][1].addModel(\"\\n     RDKit          3D\\n\\n 35 36  0  0  0  0  0  0  0  0999 V2000\\n   -0.9349   -0.0011    2.4960 C   0  0  0  0  0  0  0  0  0  0  0  0\\n   -0.5137    0.0000    1.3720 C   0  0  0  0  0  0  0  0  0  0  0  0\\n    0.0000    0.0000    0.0000 C   0  0  0  0  0  0  0  0  0  0  0  0\\n    1.4180    0.0000    0.0000 O   0  0  0  0  0  0  0  0  0  0  0  0\\n    2.0477   -0.0000   -1.2234 C   0  0  0  0  0  0  0  0  0  0  0  0\\n    1.3038   -0.0000   -2.4061 C   0  0  0  0  0  0  0  0  0  0  0  0\\n    1.9385    0.0010   -3.6571 C   0  0  0  0  0  0  0  0  0  0  0  0\\n    3.3366   -0.0009   -3.7789 C   0  0  0  0  0  0  0  0  0  0  0  0\\n    4.0165   -0.0004   -5.1002 C   0  0  0  0  0  0  0  0  0  0  0  0\\n    5.0444   -1.0042   -5.2632 N   0  0  0  0  0  0  0  0  0  0  0  0\\n    4.8164   -2.3502   -5.5648 C   0  0  0  0  0  0  0  0  0  0  0  0\\n    5.8716   -3.1759   -5.6881 N   0  0  0  0  0  0  0  0  0  0  0  0\\n    5.5819   -4.4518   -5.9857 C   0  0  0  0  0  0  0  0  0  0  0  0\\n    6.6520   -5.3393   -6.1323 N   0  0  0  0  0  0  0  0  0  0  0  0\\n    6.5324   -6.7448   -6.4507 C   0  0  0  0  0  0  0  0  0  0  0  0\\n    7.8925   -7.4555   -6.5441 C   0  0  1  0  0  0  0  0  0  0  0  0\\n    8.7872   -6.8444   -7.6261 C   0  0  0  0  0  0  0  0  0  0  0  0\\n    8.7649   -7.3315   -4.9178 S   0  0  0  0  0  4  0  0  0  0  0  0\\n    7.5103   -8.1865   -3.9296 C   0  0  0  0  0  0  0  0  0  0  0  0\\n    9.9616   -8.2358   -4.9701 O   0  0  0  0  0  0  0  0  0  0  0  0\\n    4.3421   -4.9458   -6.1457 N   0  0  0  0  0  0  0  0  0  0  0  0\\n    3.3188   -4.0771   -6.0070 C   0  0  0  0  0  0  0  0  0  0  0  0\\n    2.0052   -4.5292   -6.1640 N   0  0  0  0  0  0  0  0  0  0  0  0\\n    0.8207   -3.7087   -6.0430 C   0  0  1  0  0  0  0  0  0  0  0  0\\n    0.5030   -3.1367   -7.4366 C   0  0  0  0  0  0  0  0  0  0  0  0\\n   -0.6919   -2.2783   -7.4388 C   0  0  0  0  0  0  0  0  0  0  0  0\\n   -1.6645   -1.5742   -7.4310 C   0  0  0  0  0  0  0  0  0  0  0  0\\n   -0.3128   -4.5770   -5.4668 C   0  0  0  0  0  0  0  0  0  0  0  0\\n   -0.0078   -5.1577   -4.0990 C   0  0  0  0  0  0  0  0  0  0  0  0\\n    1.0588   -4.9350   -3.5301 O   0  0  0  0  0  0  0  0  0  0  0  0\\n   -1.0449   -5.9227   -3.5931 N   0  0  0  0  0  0  0  0  0  0  0  0\\n   -0.9932   -6.5668   -2.3008 C   0  0  0  0  0  0  0  0  0  0  0  0\\n    3.5418   -2.7723   -5.7204 N   0  0  0  0  0  0  0  0  0  0  0  0\\n    4.0537   -0.0155   -2.5670 C   0  0  0  0  0  0  0  0  0  0  0  0\\n    3.4395   -0.0194   -1.3072 C   0  0  0  0  0  0  0  0  0  0  0  0\\n  1  2  3  0\\n  2  3  1  0\\n  3  4  1  0\\n  4  5  1  0\\n  5  6  2  0\\n  6  7  1  0\\n  7  8  2  0\\n  8  9  1  0\\n  9 10  1  0\\n 10 11  1  0\\n 11 12  2  0\\n 12 13  1  0\\n 13 14  1  0\\n 14 15  1  0\\n 15 16  1  0\\n 16 17  1  6\\n 16 18  1  0\\n 18 19  1  1\\n 18 20  2  0\\n 13 21  2  0\\n 21 22  1  0\\n 22 23  1  0\\n 23 24  1  0\\n 24 25  1  6\\n 25 26  1  0\\n 26 27  3  0\\n 24 28  1  0\\n 28 29  1  0\\n 29 30  2  0\\n 29 31  1  0\\n 31 32  1  0\\n 11 33  1  0\\n 22 33  2  0\\n  8 34  1  0\\n  5 35  1  0\\n 34 35  2  0\\nM  END\\n\",\"sdf\");\n",
       "\tviewergrid_17201856699751413[0][1].setStyle({\"stick\": {}});\n",
       "\tviewergrid_17201856699751413[0][2].removeAllModels();\n",
       "\tviewergrid_17201856699751413[0][2].addModel(\"\\n     RDKit          3D\\n\\n 38 41  0  0  0  0  0  0  0  0999 V2000\\n   -0.9349   -0.0011    2.4960 C   0  0  0  0  0  0  0  0  0  0  0  0\\n   -0.5137    0.0000    1.3720 C   0  0  0  0  0  0  0  0  0  0  0  0\\n    0.0000    0.0000    0.0000 C   0  0  0  0  0  0  0  0  0  0  0  0\\n    1.4180   -0.0000    0.0000 O   0  0  0  0  0  0  0  0  0  0  0  0\\n    2.0477   -0.0000   -1.2234 C   0  0  0  0  0  0  0  0  0  0  0  0\\n    1.3038   -0.0000   -2.4061 C   0  0  0  0  0  0  0  0  0  0  0  0\\n    1.9385    0.0010   -3.6571 C   0  0  0  0  0  0  0  0  0  0  0  0\\n    3.3366   -0.0009   -3.7789 C   0  0  0  0  0  0  0  0  0  0  0  0\\n    4.0165   -0.0004   -5.1002 C   0  0  0  0  0  0  0  0  0  0  0  0\\n    5.0444   -1.0042   -5.2632 N   0  0  0  0  0  0  0  0  0  0  0  0\\n    4.8164   -2.3502   -5.5648 C   0  0  0  0  0  0  0  0  0  0  0  0\\n    5.8716   -3.1759   -5.6881 N   0  0  0  0  0  0  0  0  0  0  0  0\\n    5.5819   -4.4518   -5.9857 C   0  0  0  0  0  0  0  0  0  0  0  0\\n    6.6520   -5.3393   -6.1323 N   0  0  0  0  0  0  0  0  0  0  0  0\\n    6.5324   -6.7448   -6.4507 C   0  0  0  0  0  0  0  0  0  0  0  0\\n    7.8798   -7.4164   -6.5360 C   0  0  2  0  0  0  0  0  0  0  0  0\\n    8.7020   -7.3891   -5.2380 C   0  0  0  0  0  0  0  0  0  0  0  0\\n    9.7496   -8.4825   -5.5010 C   0  0  0  0  0  0  0  0  0  0  0  0\\n    9.3991   -8.9518   -6.9289 C   0  0  2  0  0  0  0  0  0  0  0  0\\n   10.0146  -10.2756   -7.3166 C   0  0  0  0  0  0  0  0  0  0  0  0\\n    9.6965   -7.8018   -7.8972 C   0  0  0  0  0  0  0  0  0  0  0  0\\n    8.7006   -6.8064   -7.5624 O   0  0  0  0  0  0  0  0  0  0  0  0\\n    7.8766   -8.8917   -6.9156 C   0  0  0  0  0  0  0  0  0  0  0  0\\n    4.3421   -4.9458   -6.1457 N   0  0  0  0  0  0  0  0  0  0  0  0\\n    3.3188   -4.0771   -6.0070 C   0  0  0  0  0  0  0  0  0  0  0  0\\n    2.0052   -4.5292   -6.1640 N   0  0  0  0  0  0  0  0  0  0  0  0\\n    0.8207   -3.7087   -6.0430 C   0  0  1  0  0  0  0  0  0  0  0  0\\n    0.5030   -3.1367   -7.4366 C   0  0  0  0  0  0  0  0  0  0  0  0\\n   -0.6919   -2.2783   -7.4388 C   0  0  0  0  0  0  0  0  0  0  0  0\\n   -1.6645   -1.5742   -7.4310 C   0  0  0  0  0  0  0  0  0  0  0  0\\n   -0.3128   -4.5770   -5.4668 C   0  0  0  0  0  0  0  0  0  0  0  0\\n   -0.0078   -5.1577   -4.0990 C   0  0  0  0  0  0  0  0  0  0  0  0\\n    1.0588   -4.9350   -3.5301 O   0  0  0  0  0  0  0  0  0  0  0  0\\n   -1.0449   -5.9227   -3.5931 N   0  0  0  0  0  0  0  0  0  0  0  0\\n   -0.9932   -6.5668   -2.3008 C   0  0  0  0  0  0  0  0  0  0  0  0\\n    3.5418   -2.7723   -5.7204 N   0  0  0  0  0  0  0  0  0  0  0  0\\n    4.0537   -0.0155   -2.5670 C   0  0  0  0  0  0  0  0  0  0  0  0\\n    3.4395   -0.0194   -1.3072 C   0  0  0  0  0  0  0  0  0  0  0  0\\n  1  2  3  0\\n  2  3  1  0\\n  3  4  1  0\\n  4  5  1  0\\n  5  6  2  0\\n  6  7  1  0\\n  7  8  2  0\\n  8  9  1  0\\n  9 10  1  0\\n 10 11  1  0\\n 11 12  2  0\\n 12 13  1  0\\n 13 14  1  0\\n 14 15  1  0\\n 16 15  1  1\\n 16 17  1  0\\n 17 18  1  0\\n 18 19  1  0\\n 19 20  1  6\\n 19 21  1  0\\n 16 22  1  0\\n 21 22  1  0\\n 16 23  1  0\\n 19 23  1  0\\n 13 24  2  0\\n 24 25  1  0\\n 25 26  1  0\\n 26 27  1  0\\n 27 28  1  6\\n 28 29  1  0\\n 29 30  3  0\\n 27 31  1  0\\n 31 32  1  0\\n 32 33  2  0\\n 32 34  1  0\\n 34 35  1  0\\n 11 36  1  0\\n 25 36  2  0\\n  8 37  1  0\\n  5 38  1  0\\n 37 38  2  0\\nM  END\\n\",\"sdf\");\n",
       "\tviewergrid_17201856699751413[0][2].setStyle({\"stick\": {}});\n",
       "\tviewergrid_17201856699751413[0][0].zoomTo();\n",
       "\tviewergrid_17201856699751413[0][1].zoomTo();\n",
       "\tviewergrid_17201856699751413[0][2].zoomTo();\n",
       "viewergrid_17201856699751413[0][2].render();\n",
       "viewergrid_17201856699751413[0][1].render();\n",
       "viewergrid_17201856699751413[0][0].render();\n",
       "});\n",
       "</script>"
      ]
     },
     "metadata": {},
     "output_type": "display_data"
    }
   ],
   "source": [
    "#visualization\n",
    "rd_mols = Chem.SDMolSupplier(SDF_PATH)\n",
    "\n",
    "p = py3Dmol.view(width=1200, height=400, viewergrid=(1,3))\n",
    "#\n",
    "for j,t in enumerate([10, 20, 30]):\n",
    "    p.removeAllModels(viewer=(0,j))\n",
    "    p.addModel(Chem.MolToMolBlock(rd_mols[t], confId=0), 'sdf', viewer=(0,j))\n",
    "    p.setStyle({'stick':{}}, viewer=(0,j))\n",
    "p.zoomTo()\n",
    "p.show()"
   ]
  },
  {
   "cell_type": "code",
   "execution_count": 31,
   "id": "43fbd340",
   "metadata": {},
   "outputs": [
    {
     "name": "stdout",
     "output_type": "stream",
     "text": [
      "75 75 41\n",
      "[[-9.34900e-01 -1.10000e-03  2.49600e+00]\n",
      " [-5.13700e-01  0.00000e+00  1.37200e+00]\n",
      " [ 0.00000e+00  0.00000e+00  0.00000e+00]\n",
      " [ 1.41800e+00 -0.00000e+00  0.00000e+00]\n",
      " [ 2.04770e+00 -0.00000e+00 -1.22340e+00]\n",
      " [ 1.30380e+00 -0.00000e+00 -2.40610e+00]\n",
      " [ 1.93850e+00  1.00000e-03 -3.65710e+00]\n",
      " [ 3.33660e+00 -9.00000e-04 -3.77890e+00]\n",
      " [ 4.01650e+00 -4.00000e-04 -5.10020e+00]\n",
      " [ 5.04440e+00 -1.00420e+00 -5.26320e+00]\n",
      " [ 4.81640e+00 -2.35020e+00 -5.56480e+00]\n",
      " [ 5.87160e+00 -3.17590e+00 -5.68810e+00]\n",
      " [ 5.58190e+00 -4.45180e+00 -5.98570e+00]\n",
      " [ 6.65200e+00 -5.33930e+00 -6.13230e+00]\n",
      " [ 6.53240e+00 -6.74480e+00 -6.45070e+00]\n",
      " [ 7.87980e+00 -7.41640e+00 -6.53600e+00]\n",
      " [ 8.65900e+00 -7.32510e+00 -5.21740e+00]\n",
      " [ 8.22960e+00 -8.57440e+00 -4.46200e+00]\n",
      " [ 8.11810e+00 -9.62030e+00 -5.56600e+00]\n",
      " [ 7.72080e+00 -8.85590e+00 -6.74100e+00]\n",
      " [ 7.41340e+00 -9.44280e+00 -7.97210e+00]\n",
      " [ 7.26510e+00 -1.08162e+01 -8.15150e+00]\n",
      " [ 6.96250e+00 -1.13663e+01 -9.40500e+00]\n",
      " [ 6.83310e+00 -1.04544e+01 -1.04505e+01]\n",
      " [ 6.98310e+00 -9.12410e+00 -1.02729e+01]\n",
      " [ 7.26940e+00 -8.62410e+00 -9.03390e+00]\n",
      " [ 4.34210e+00 -4.94580e+00 -6.14570e+00]\n",
      " [ 3.31880e+00 -4.07710e+00 -6.00700e+00]\n",
      " [ 2.00520e+00 -4.52920e+00 -6.16400e+00]\n",
      " [ 8.20700e-01 -3.70870e+00 -6.04300e+00]\n",
      " [ 5.03000e-01 -3.13670e+00 -7.43660e+00]\n",
      " [-6.91900e-01 -2.27830e+00 -7.43880e+00]\n",
      " [-1.66450e+00 -1.57420e+00 -7.43100e+00]\n",
      " [-3.12800e-01 -4.57700e+00 -5.46680e+00]\n",
      " [-7.80000e-03 -5.15770e+00 -4.09900e+00]\n",
      " [ 1.05880e+00 -4.93500e+00 -3.53010e+00]\n",
      " [-1.04490e+00 -5.92270e+00 -3.59310e+00]\n",
      " [-9.93200e-01 -6.56680e+00 -2.30080e+00]\n",
      " [ 3.54180e+00 -2.77230e+00 -5.72040e+00]\n",
      " [ 4.05370e+00 -1.55000e-02 -2.56700e+00]\n",
      " [ 3.43950e+00 -1.94000e-02 -1.30720e+00]\n",
      " [-1.30820e+00 -2.00000e-03  3.49350e+00]\n",
      " [-3.86000e-01 -8.47700e-01 -5.77100e-01]\n",
      " [-3.16200e-01  9.10200e-01 -5.19800e-01]\n",
      " [ 2.16900e-01 -4.20000e-03 -2.36980e+00]\n",
      " [ 1.29880e+00 -4.30000e-03 -4.53610e+00]\n",
      " [ 3.28830e+00 -6.35000e-02 -5.91780e+00]\n",
      " [ 4.49470e+00  9.80100e-01 -5.22030e+00]\n",
      " [ 5.99150e+00 -7.22700e-01 -5.03590e+00]\n",
      " [ 7.59080e+00 -4.95680e+00 -6.12040e+00]\n",
      " [ 6.03310e+00 -6.85710e+00 -7.41970e+00]\n",
      " [ 5.88690e+00 -7.24600e+00 -5.73120e+00]\n",
      " [ 8.46540e+00 -6.96260e+00 -7.34460e+00]\n",
      " [ 9.73590e+00 -7.37660e+00 -5.42120e+00]\n",
      " [ 8.46500e+00 -6.40510e+00 -4.65830e+00]\n",
      " [ 8.93990e+00 -8.86420e+00 -3.68260e+00]\n",
      " [ 7.25270e+00 -8.41450e+00 -3.99080e+00]\n",
      " [ 7.38400e+00 -1.03911e+01 -5.30960e+00]\n",
      " [ 9.08850e+00 -1.00984e+01 -5.74220e+00]\n",
      " [ 7.41590e+00 -1.14776e+01 -7.30510e+00]\n",
      " [ 6.85070e+00 -1.24322e+01 -9.55260e+00]\n",
      " [ 6.60570e+00 -1.07765e+01 -1.14594e+01]\n",
      " [ 1.86610e+00 -5.47870e+00 -6.49110e+00]\n",
      " [ 1.05550e+00 -2.88690e+00 -5.35610e+00]\n",
      " [ 1.34690e+00 -2.52680e+00 -7.78620e+00]\n",
      " [ 3.82100e-01 -3.94690e+00 -8.16630e+00]\n",
      " [-2.52810e+00 -9.51200e-01 -7.42630e+00]\n",
      " [-5.19400e-01 -5.42470e+00 -6.13430e+00]\n",
      " [-1.24510e+00 -4.00220e+00 -5.39580e+00]\n",
      " [-1.89690e+00 -6.02710e+00 -4.13600e+00]\n",
      " [-1.34290e+00 -7.59530e+00 -2.41710e+00]\n",
      " [ 2.18000e-02 -6.56240e+00 -1.89650e+00]\n",
      " [-1.66310e+00 -6.02970e+00 -1.62500e+00]\n",
      " [ 5.14200e+00 -2.42000e-02 -2.61270e+00]\n",
      " [ 4.03650e+00 -3.17000e-02 -3.98300e-01]]\n",
      "\n",
      "\n",
      "[[-9.34900e-01 -1.10000e-03  2.49600e+00]\n",
      " [-5.13700e-01  0.00000e+00  1.37200e+00]\n",
      " [ 0.00000e+00  0.00000e+00  0.00000e+00]\n",
      " [ 1.41800e+00 -0.00000e+00  0.00000e+00]\n",
      " [ 2.04770e+00 -0.00000e+00 -1.22340e+00]\n",
      " [ 1.30380e+00 -0.00000e+00 -2.40610e+00]\n",
      " [ 1.93850e+00  1.00000e-03 -3.65710e+00]\n",
      " [ 3.33660e+00 -9.00000e-04 -3.77890e+00]\n",
      " [ 4.01650e+00 -4.00000e-04 -5.10020e+00]\n",
      " [ 5.04440e+00 -1.00420e+00 -5.26320e+00]\n",
      " [ 4.81640e+00 -2.35020e+00 -5.56480e+00]\n",
      " [ 5.87160e+00 -3.17590e+00 -5.68810e+00]\n",
      " [ 5.58190e+00 -4.45180e+00 -5.98570e+00]\n",
      " [ 6.65200e+00 -5.33930e+00 -6.13230e+00]\n",
      " [ 6.53240e+00 -6.74480e+00 -6.45070e+00]\n",
      " [ 7.87980e+00 -7.41640e+00 -6.53600e+00]\n",
      " [ 8.65900e+00 -7.32510e+00 -5.21740e+00]\n",
      " [ 8.22960e+00 -8.57440e+00 -4.46200e+00]\n",
      " [ 8.11810e+00 -9.62030e+00 -5.56600e+00]\n",
      " [ 7.72080e+00 -8.85590e+00 -6.74100e+00]\n",
      " [ 7.41340e+00 -9.44280e+00 -7.97210e+00]\n",
      " [ 7.26510e+00 -1.08162e+01 -8.15150e+00]\n",
      " [ 6.96250e+00 -1.13663e+01 -9.40500e+00]\n",
      " [ 6.83310e+00 -1.04544e+01 -1.04505e+01]\n",
      " [ 6.98310e+00 -9.12410e+00 -1.02729e+01]\n",
      " [ 7.26940e+00 -8.62410e+00 -9.03390e+00]\n",
      " [ 4.34210e+00 -4.94580e+00 -6.14570e+00]\n",
      " [ 3.31880e+00 -4.07710e+00 -6.00700e+00]\n",
      " [ 2.00520e+00 -4.52920e+00 -6.16400e+00]\n",
      " [ 8.20700e-01 -3.70870e+00 -6.04300e+00]\n",
      " [ 5.03000e-01 -3.13670e+00 -7.43660e+00]\n",
      " [-6.91900e-01 -2.27830e+00 -7.43880e+00]\n",
      " [-1.66450e+00 -1.57420e+00 -7.43100e+00]\n",
      " [-3.12800e-01 -4.57700e+00 -5.46680e+00]\n",
      " [-7.80000e-03 -5.15770e+00 -4.09900e+00]\n",
      " [ 1.05880e+00 -4.93500e+00 -3.53010e+00]\n",
      " [-1.04490e+00 -5.92270e+00 -3.59310e+00]\n",
      " [-9.93200e-01 -6.56680e+00 -2.30080e+00]\n",
      " [ 3.54180e+00 -2.77230e+00 -5.72040e+00]\n",
      " [ 4.05370e+00 -1.55000e-02 -2.56700e+00]\n",
      " [ 3.43950e+00 -1.94000e-02 -1.30720e+00]\n",
      " [-1.30820e+00 -2.00000e-03  3.49350e+00]\n",
      " [-3.86000e-01 -8.47700e-01 -5.77100e-01]\n",
      " [-3.16200e-01  9.10200e-01 -5.19800e-01]\n",
      " [ 2.16900e-01 -4.20000e-03 -2.36980e+00]\n",
      " [ 1.29880e+00 -4.30000e-03 -4.53610e+00]\n",
      " [ 3.28830e+00 -6.35000e-02 -5.91780e+00]\n",
      " [ 4.49470e+00  9.80100e-01 -5.22030e+00]\n",
      " [ 5.99150e+00 -7.22700e-01 -5.03590e+00]\n",
      " [ 7.59080e+00 -4.95680e+00 -6.12040e+00]\n",
      " [ 6.03310e+00 -6.85710e+00 -7.41970e+00]\n",
      " [ 5.88690e+00 -7.24600e+00 -5.73120e+00]\n",
      " [ 8.46540e+00 -6.96260e+00 -7.34460e+00]\n",
      " [ 9.73590e+00 -7.37660e+00 -5.42120e+00]\n",
      " [ 8.46500e+00 -6.40510e+00 -4.65830e+00]\n",
      " [ 8.93990e+00 -8.86420e+00 -3.68260e+00]\n",
      " [ 7.25270e+00 -8.41450e+00 -3.99080e+00]\n",
      " [ 7.38400e+00 -1.03911e+01 -5.30960e+00]\n",
      " [ 9.08850e+00 -1.00984e+01 -5.74220e+00]\n",
      " [ 7.41590e+00 -1.14776e+01 -7.30510e+00]\n",
      " [ 6.85070e+00 -1.24322e+01 -9.55260e+00]\n",
      " [ 6.60570e+00 -1.07765e+01 -1.14594e+01]\n",
      " [ 1.86610e+00 -5.47870e+00 -6.49110e+00]\n",
      " [ 1.05550e+00 -2.88690e+00 -5.35610e+00]\n",
      " [ 1.34690e+00 -2.52680e+00 -7.78620e+00]\n",
      " [ 3.82100e-01 -3.94690e+00 -8.16630e+00]\n",
      " [-2.52810e+00 -9.51200e-01 -7.42630e+00]\n",
      " [-5.19400e-01 -5.42470e+00 -6.13430e+00]\n",
      " [-1.24510e+00 -4.00220e+00 -5.39580e+00]\n",
      " [-1.89690e+00 -6.02710e+00 -4.13600e+00]\n",
      " [-1.34290e+00 -7.59530e+00 -2.41710e+00]\n",
      " [ 2.18000e-02 -6.56240e+00 -1.89650e+00]\n",
      " [-1.66310e+00 -6.02970e+00 -1.62500e+00]\n",
      " [ 5.14200e+00 -2.42000e-02 -2.61270e+00]\n",
      " [ 4.03650e+00 -3.17000e-02 -3.98300e-01]]\n"
     ]
    }
   ],
   "source": [
    "cdpl_mols = Chem.SDMolSupplier(SDF_PATH, removeHs=False, sanitize=False)\n",
    "\n",
    "\n",
    "for i in range(1):\n",
    "    cdpl_mol = cdpl_mols[i]\n",
    "    cdpl_num_atoms = cdpl_mol.GetNumAtoms()\n",
    "    cdpl_pos = cdpl_mols.GetItemText(i).split('\\n')[4:4 + cdpl_num_atoms]\n",
    "    cdpl_pos = np.array([[float(x) for x in line.split()[:3]] for line in cdpl_pos], dtype=np.float32)\n",
    "    \n",
    "    rd_mol = rd_mols[i]\n",
    "    rd_pos = rd_mol.GetConformer().GetPositions()\n",
    "#     assert sum(cdpl_pos - rd_pos) == 0\n",
    "    print(cdpl_num_atoms, rd_mol.GetNumAtoms(), mols[i].GetNumAtoms())\n",
    "    print(cdpl_pos, rd_pos, sep = '\\n\\n\\n')"
   ]
  },
  {
   "cell_type": "code",
   "execution_count": 13,
   "id": "4bab9695",
   "metadata": {},
   "outputs": [],
   "source": [
    "# kaggle_mol[0].GetConformer().GetPositions()"
   ]
  },
  {
   "cell_type": "code",
   "execution_count": null,
   "id": "7612a66e",
   "metadata": {},
   "outputs": [],
   "source": []
  },
  {
   "cell_type": "code",
   "execution_count": null,
   "id": "125e204e",
   "metadata": {},
   "outputs": [],
   "source": []
  },
  {
   "cell_type": "code",
   "execution_count": null,
   "id": "1f1b14c7",
   "metadata": {},
   "outputs": [],
   "source": []
  },
  {
   "cell_type": "code",
   "execution_count": null,
   "id": "6ba458b0",
   "metadata": {},
   "outputs": [],
   "source": []
  },
  {
   "cell_type": "code",
   "execution_count": null,
   "id": "0735bbf5",
   "metadata": {},
   "outputs": [],
   "source": []
  },
  {
   "cell_type": "code",
   "execution_count": null,
   "id": "78a371e3",
   "metadata": {},
   "outputs": [],
   "source": []
  },
  {
   "cell_type": "code",
   "execution_count": null,
   "id": "acc4d60e",
   "metadata": {},
   "outputs": [],
   "source": []
  },
  {
   "cell_type": "code",
   "execution_count": null,
   "id": "be43112f",
   "metadata": {},
   "outputs": [],
   "source": []
  },
  {
   "cell_type": "code",
   "execution_count": null,
   "id": "d8c7ef21",
   "metadata": {},
   "outputs": [],
   "source": []
  },
  {
   "cell_type": "code",
   "execution_count": null,
   "id": "0c70d455",
   "metadata": {},
   "outputs": [],
   "source": []
  },
  {
   "cell_type": "code",
   "execution_count": null,
   "id": "446b729f",
   "metadata": {},
   "outputs": [],
   "source": []
  },
  {
   "cell_type": "code",
   "execution_count": null,
   "id": "4ae7236e",
   "metadata": {},
   "outputs": [],
   "source": []
  },
  {
   "cell_type": "code",
   "execution_count": null,
   "id": "db970e7e",
   "metadata": {},
   "outputs": [],
   "source": []
  },
  {
   "cell_type": "code",
   "execution_count": null,
   "id": "cf1f2527",
   "metadata": {},
   "outputs": [],
   "source": []
  },
  {
   "cell_type": "code",
   "execution_count": null,
   "id": "5a1a31df",
   "metadata": {},
   "outputs": [],
   "source": []
  },
  {
   "cell_type": "code",
   "execution_count": null,
   "id": "9c41b2b6",
   "metadata": {},
   "outputs": [],
   "source": []
  },
  {
   "cell_type": "code",
   "execution_count": null,
   "id": "0e054eff",
   "metadata": {},
   "outputs": [],
   "source": []
  },
  {
   "cell_type": "code",
   "execution_count": null,
   "id": "6714b71b",
   "metadata": {},
   "outputs": [],
   "source": []
  },
  {
   "cell_type": "code",
   "execution_count": null,
   "id": "6746998d",
   "metadata": {},
   "outputs": [],
   "source": []
  },
  {
   "cell_type": "code",
   "execution_count": null,
   "id": "852e588a",
   "metadata": {},
   "outputs": [],
   "source": []
  },
  {
   "cell_type": "code",
   "execution_count": null,
   "id": "1399ad5f",
   "metadata": {},
   "outputs": [],
   "source": []
  },
  {
   "cell_type": "code",
   "execution_count": null,
   "id": "cd59e002",
   "metadata": {},
   "outputs": [],
   "source": []
  }
 ],
 "metadata": {
  "kernelspec": {
   "display_name": "Python 3 (ipykernel)",
   "language": "python",
   "name": "python3"
  },
  "language_info": {
   "codemirror_mode": {
    "name": "ipython",
    "version": 3
   },
   "file_extension": ".py",
   "mimetype": "text/x-python",
   "name": "python",
   "nbconvert_exporter": "python",
   "pygments_lexer": "ipython3",
   "version": "3.10.13"
  }
 },
 "nbformat": 4,
 "nbformat_minor": 5
}
