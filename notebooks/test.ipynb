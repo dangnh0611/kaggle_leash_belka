{
 "cells": [
  {
   "cell_type": "code",
   "execution_count": 1,
   "id": "ec9f9527-563f-4fe2-991f-aba8ab927090",
   "metadata": {},
   "outputs": [],
   "source": [
    "import torch\n",
    "from torch.nn import BCEWithLogitsLoss\n",
    "import polars as pl\n",
    "import numpy as np\n",
    "from tqdm import tqdm\n",
    "from rdkit.ML.Descriptors.MoleculeDescriptors import MolecularDescriptorCalculator\n",
    "from rdkit.Chem import Descriptors\n",
    "from math import log\n",
    "import math"
   ]
  },
  {
   "cell_type": "code",
   "execution_count": 2,
   "id": "05a8d090",
   "metadata": {},
   "outputs": [
    {
     "data": {
      "text/plain": [
       "tensor([[0., 0., 0., 0., 0., 0., 0., 0., 0.],\n",
       "        [0., 0., 0., 0., 0., 0., 0., 0., 0.],\n",
       "        [0., 0., 0., 0., 0., 0., 0., 0., 0.],\n",
       "        [0., 0., 0., 0., 0., 0., 0., 0., 0.]])"
      ]
     },
     "execution_count": 2,
     "metadata": {},
     "output_type": "execute_result"
    }
   ],
   "source": [
    "arr = torch.zeros((4, 9))\n",
    "arr"
   ]
  },
  {
   "cell_type": "code",
   "execution_count": 11,
   "id": "02f205b3",
   "metadata": {},
   "outputs": [
    {
     "data": {
      "text/plain": [
       "tensor([[0., 0., 0., 0., 0., 0., 0., 0., 0.],\n",
       "        [3., 3., 3., 0., 0., 3., 0., 0., 0.],\n",
       "        [0., 0., 0., 0., 0., 0., 0., 0., 0.],\n",
       "        [3., 3., 3., 0., 0., 3., 0., 0., 0.]])"
      ]
     },
     "execution_count": 11,
     "metadata": {},
     "output_type": "execute_result"
    }
   ],
   "source": [
    "arr[3, np.array([0, 1, 2, 0, 0, 0, 5], dtype = np.uint8).tolist()] = 3\n",
    "arr"
   ]
  },
  {
   "cell_type": "code",
   "execution_count": null,
   "id": "3b0df79d",
   "metadata": {},
   "outputs": [],
   "source": [
    "parameters = DNP.desc_norm_params.items()"
   ]
  },
  {
   "cell_type": "code",
   "execution_count": 30,
   "id": "3f3cf4fe",
   "metadata": {},
   "outputs": [
    {
     "data": {
      "text/plain": [
       "872"
      ]
     },
     "execution_count": 30,
     "metadata": {},
     "output_type": "execute_result"
    }
   ],
   "source": [
    "691 + 181"
   ]
  },
  {
   "cell_type": "code",
   "execution_count": 35,
   "id": "579eb466",
   "metadata": {},
   "outputs": [
    {
     "data": {
      "text/plain": [
       "98784649.0"
      ]
     },
     "execution_count": 35,
     "metadata": {},
     "output_type": "execute_result"
    }
   ],
   "source": [
    "271*((181*693) + (691*692/2))"
   ]
  },
  {
   "cell_type": "code",
   "execution_count": 36,
   "id": "ea7c1554",
   "metadata": {},
   "outputs": [
    {
     "data": {
      "text/plain": [
       "98784649.0"
      ]
     },
     "execution_count": 36,
     "metadata": {},
     "output_type": "execute_result"
    }
   ],
   "source": [
    "271 * 693 * 181 + 271 * (691 * 690 / 2 + 691)"
   ]
  },
  {
   "cell_type": "code",
   "execution_count": 37,
   "id": "d9779278",
   "metadata": {},
   "outputs": [
    {
     "data": {
      "text/plain": [
       "1143"
      ]
     },
     "execution_count": 37,
     "metadata": {},
     "output_type": "execute_result"
    }
   ],
   "source": [
    "271 + 872"
   ]
  },
  {
   "cell_type": "code",
   "execution_count": 38,
   "id": "2c03eae1",
   "metadata": {},
   "outputs": [
    {
     "data": {
      "text/plain": [
       "859"
      ]
     },
     "execution_count": 38,
     "metadata": {},
     "output_type": "execute_result"
    }
   ],
   "source": [
    "36 + 377 + 446"
   ]
  },
  {
   "cell_type": "code",
   "execution_count": 51,
   "id": "3e53d3f1",
   "metadata": {},
   "outputs": [
    {
     "data": {
      "text/plain": [
       "361623.6162361624"
      ]
     },
     "execution_count": 51,
     "metadata": {},
     "output_type": "execute_result"
    }
   ],
   "source": [
    "98_000_000 / 271"
   ]
  },
  {
   "cell_type": "code",
   "execution_count": 50,
   "id": "50364e70",
   "metadata": {},
   "outputs": [
    {
     "data": {
      "text/plain": [
       "364519.0"
      ]
     },
     "execution_count": 50,
     "metadata": {},
     "output_type": "execute_result"
    }
   ],
   "source": [
    "(181*693) + (691*692/2)"
   ]
  },
  {
   "cell_type": "code",
   "execution_count": 57,
   "id": "7e61b155",
   "metadata": {},
   "outputs": [],
   "source": [
    "# BB1 appear\n",
    "train_bb1 = (181*693) + (691*692/2) # 364519\n",
    "train_bb23_691 = (271 * 181 + 271 * 690 / 2 + 271 ) + (271 * 690 / 2) # 236312\n",
    "train_bb23_2 = 271 * 181 # 49051\n",
    "train_bb23_181 = 271 * 693 # 187803"
   ]
  },
  {
   "cell_type": "code",
   "execution_count": null,
   "id": "152300e9",
   "metadata": {},
   "outputs": [],
   "source": [
    "test_bb1 = 377 * 446 # 168142\n",
    "test_bb2 = 36 * 446 # 16056\n",
    "test_bb3 = 36 * 377 # 13572"
   ]
  },
  {
   "cell_type": "code",
   "execution_count": 81,
   "id": "79011af3",
   "metadata": {},
   "outputs": [],
   "source": [
    "idxs = np.array([0, 10, 20, 30])"
   ]
  },
  {
   "cell_type": "code",
   "execution_count": 82,
   "id": "e4940b99",
   "metadata": {},
   "outputs": [
    {
     "data": {
      "text/plain": [
       "array([0, 1])"
      ]
     },
     "execution_count": 82,
     "metadata": {},
     "output_type": "execute_result"
    }
   ],
   "source": [
    "np.where(idxs < 15)[0]"
   ]
  },
  {
   "cell_type": "code",
   "execution_count": 84,
   "id": "062b9091",
   "metadata": {},
   "outputs": [
    {
     "data": {
      "text/plain": [
       "array([[0.5 , 1.  , 0.75],\n",
       "       [2.  , 2.5 , 1.5 ],\n",
       "       [3.5 , 4.  , 2.25],\n",
       "       [5.  , 5.5 , 3.  ]])"
      ]
     },
     "execution_count": 84,
     "metadata": {},
     "output_type": "execute_result"
    }
   ],
   "source": [
    "arr = np.array([[1,2,3], [4,5,6], [7, 8, 9], [10, 11, 12]])\n",
    "div = np.array([2,2,4])\n",
    "arr/div"
   ]
  },
  {
   "cell_type": "code",
   "execution_count": null,
   "id": "81eda195",
   "metadata": {},
   "outputs": [],
   "source": []
  },
  {
   "cell_type": "code",
   "execution_count": null,
   "id": "f1c370b5",
   "metadata": {},
   "outputs": [],
   "source": []
  },
  {
   "cell_type": "code",
   "execution_count": 78,
   "id": "6a539e80",
   "metadata": {},
   "outputs": [
    {
     "data": {
      "text/plain": [
       "12159750"
      ]
     },
     "execution_count": 78,
     "metadata": {},
     "output_type": "execute_result"
    }
   ],
   "source": [
    "486390 * 25"
   ]
  },
  {
   "cell_type": "code",
   "execution_count": 62,
   "id": "d51b805b",
   "metadata": {},
   "outputs": [
    {
     "data": {
      "text/plain": [
       "2.1679235408166906"
      ]
     },
     "execution_count": 62,
     "metadata": {},
     "output_type": "execute_result"
    }
   ],
   "source": [
    "364519 / 168142"
   ]
  },
  {
   "cell_type": "code",
   "execution_count": null,
   "id": "42a2e179",
   "metadata": {},
   "outputs": [],
   "source": [
    "17, 36, 36"
   ]
  },
  {
   "cell_type": "code",
   "execution_count": 65,
   "id": "9503489e",
   "metadata": {},
   "outputs": [
    {
     "data": {
      "text/plain": [
       "648.0"
      ]
     },
     "execution_count": 65,
     "metadata": {},
     "output_type": "execute_result"
    }
   ],
   "source": [
    "17 * 36 * 36 / 2 / 17"
   ]
  },
  {
   "cell_type": "code",
   "execution_count": 64,
   "id": "f426eb5a",
   "metadata": {},
   "outputs": [
    {
     "data": {
      "text/plain": [
       "(1296, 1224)"
      ]
     },
     "execution_count": 64,
     "metadata": {},
     "output_type": "execute_result"
    }
   ],
   "source": [
    "36 * 36, 17 * 36 * 2"
   ]
  },
  {
   "cell_type": "code",
   "execution_count": 66,
   "id": "c0d9f347",
   "metadata": {},
   "outputs": [
    {
     "data": {
      "text/plain": [
       "281.26466049382714"
      ]
     },
     "execution_count": 66,
     "metadata": {},
     "output_type": "execute_result"
    }
   ],
   "source": [
    "364519 / 1296"
   ]
  },
  {
   "cell_type": "code",
   "execution_count": 77,
   "id": "70678e23",
   "metadata": {},
   "outputs": [
    {
     "data": {
      "text/plain": [
       "2830500"
      ]
     },
     "execution_count": 77,
     "metadata": {},
     "output_type": "execute_result"
    }
   ],
   "source": [
    "11322 * 250"
   ]
  },
  {
   "cell_type": "code",
   "execution_count": null,
   "id": "06fd25a9",
   "metadata": {},
   "outputs": [],
   "source": []
  },
  {
   "cell_type": "code",
   "execution_count": 69,
   "id": "bf4a8582",
   "metadata": {},
   "outputs": [
    {
     "data": {
      "text/plain": [
       "6053112"
      ]
     },
     "execution_count": 69,
     "metadata": {},
     "output_type": "execute_result"
    }
   ],
   "source": [
    "36 * 377*446"
   ]
  },
  {
   "cell_type": "code",
   "execution_count": 70,
   "id": "33ae8c22",
   "metadata": {},
   "outputs": [
    {
     "data": {
      "text/plain": [
       "12.444976253623635"
      ]
     },
     "execution_count": 70,
     "metadata": {},
     "output_type": "execute_result"
    }
   ],
   "source": [
    "6053112 / 486390"
   ]
  },
  {
   "cell_type": "code",
   "execution_count": 71,
   "id": "d7c02ce0",
   "metadata": {},
   "outputs": [
    {
     "data": {
      "text/plain": [
       "26.97975698513538"
      ]
     },
     "execution_count": 71,
     "metadata": {},
     "output_type": "execute_result"
    }
   ],
   "source": [
    "12.444976253623635 * 2.1679235408166906"
   ]
  },
  {
   "cell_type": "code",
   "execution_count": null,
   "id": "49bdba28",
   "metadata": {},
   "outputs": [],
   "source": [
    "271 * 181 + 271 * ()"
   ]
  },
  {
   "cell_type": "code",
   "execution_count": null,
   "id": "82d44554",
   "metadata": {},
   "outputs": [],
   "source": []
  },
  {
   "cell_type": "code",
   "execution_count": null,
   "id": "fa95d3f9",
   "metadata": {},
   "outputs": [],
   "source": [
    "364519, 361623"
   ]
  },
  {
   "cell_type": "code",
   "execution_count": null,
   "id": "85ef0dab",
   "metadata": {},
   "outputs": [],
   "source": []
  },
  {
   "cell_type": "code",
   "execution_count": 46,
   "id": "66993480",
   "metadata": {},
   "outputs": [
    {
     "data": {
      "text/plain": [
       "(604296, 67144, 53361)"
      ]
     },
     "execution_count": 46,
     "metadata": {},
     "output_type": "execute_result"
    }
   ],
   "source": [
    "693 * 872, 77 * 872, 77 * 693"
   ]
  },
  {
   "cell_type": "code",
   "execution_count": 47,
   "id": "c1779692",
   "metadata": {},
   "outputs": [
    {
     "data": {
      "text/plain": [
       "(168142, 16056, 13572)"
      ]
     },
     "execution_count": 47,
     "metadata": {},
     "output_type": "execute_result"
    }
   ],
   "source": [
    "377 * 446, 36 * 446, 36 * 377"
   ]
  },
  {
   "cell_type": "code",
   "execution_count": null,
   "id": "c816eda3",
   "metadata": {},
   "outputs": [],
   "source": []
  },
  {
   "cell_type": "code",
   "execution_count": 49,
   "id": "b70db71f",
   "metadata": {},
   "outputs": [
    {
     "data": {
      "text/plain": [
       "(3.593962246196667, 4.181863477827603, 3.9316976127320955)"
      ]
     },
     "execution_count": 49,
     "metadata": {},
     "output_type": "execute_result"
    }
   ],
   "source": [
    "604296 / 168142, 67144 / 16056, 53361 / 13572"
   ]
  },
  {
   "cell_type": "code",
   "execution_count": null,
   "id": "e83496cd",
   "metadata": {},
   "outputs": [],
   "source": []
  },
  {
   "cell_type": "code",
   "execution_count": null,
   "id": "c06ad565",
   "metadata": {},
   "outputs": [],
   "source": []
  },
  {
   "cell_type": "code",
   "execution_count": null,
   "id": "14f1091c",
   "metadata": {},
   "outputs": [],
   "source": []
  },
  {
   "cell_type": "code",
   "execution_count": null,
   "id": "119d5dcc",
   "metadata": {},
   "outputs": [],
   "source": [
    "271 * (691 + 2) * (691 + 181)\n",
    "\n",
    "17x((2x34)+(34x35/2))\n",
    "\n",
    "17x(36x37/2)\n",
    "\n",
    "36x377x446"
   ]
  },
  {
   "cell_type": "code",
   "execution_count": 41,
   "id": "25e4bb49",
   "metadata": {},
   "outputs": [
    {
     "data": {
      "text/plain": [
       "25.61491587392938"
      ]
     },
     "execution_count": 41,
     "metadata": {},
     "output_type": "execute_result"
    }
   ],
   "source": [
    "(36 * 377 * 446) / (271 * 872)"
   ]
  },
  {
   "cell_type": "code",
   "execution_count": null,
   "id": "1b2a03e5",
   "metadata": {},
   "outputs": [],
   "source": []
  },
  {
   "cell_type": "code",
   "execution_count": 27,
   "id": "f65bed06",
   "metadata": {},
   "outputs": [
    {
     "data": {
      "text/plain": [
       "6053112"
      ]
     },
     "execution_count": 27,
     "metadata": {},
     "output_type": "execute_result"
    }
   ],
   "source": [
    "36 * 377 * 446"
   ]
  },
  {
   "cell_type": "code",
   "execution_count": 42,
   "id": "54be431c",
   "metadata": {},
   "outputs": [
    {
     "data": {
      "text/plain": [
       "12.106224"
      ]
     },
     "execution_count": 42,
     "metadata": {},
     "output_type": "execute_result"
    }
   ],
   "source": [
    "36 * 377 * 446 / 500_000"
   ]
  },
  {
   "cell_type": "code",
   "execution_count": 24,
   "id": "4fd22c4c",
   "metadata": {},
   "outputs": [],
   "source": [
    "def log2(n):\n",
    "    return log(n, 2)"
   ]
  },
  {
   "cell_type": "code",
   "execution_count": 33,
   "id": "73fb784f",
   "metadata": {},
   "outputs": [
    {
     "data": {
      "text/plain": [
       "81882108.0"
      ]
     },
     "execution_count": 33,
     "metadata": {},
     "output_type": "execute_result"
    }
   ],
   "source": [
    "271 * 693 * 872 / 2"
   ]
  },
  {
   "cell_type": "code",
   "execution_count": 29,
   "id": "7d7ac599",
   "metadata": {},
   "outputs": [
    {
     "data": {
      "text/plain": [
       "27.287044908268015"
      ]
     },
     "execution_count": 29,
     "metadata": {},
     "output_type": "execute_result"
    }
   ],
   "source": [
    "log2(271) + log2(693) + log2(691 + 181)"
   ]
  },
  {
   "cell_type": "code",
   "execution_count": 28,
   "id": "90cf5368",
   "metadata": {},
   "outputs": [
    {
     "data": {
      "text/plain": [
       "22.529245614631282"
      ]
     },
     "execution_count": 28,
     "metadata": {},
     "output_type": "execute_result"
    }
   ],
   "source": [
    "log2(36) + log2(377) + log2(446)"
   ]
  },
  {
   "cell_type": "code",
   "execution_count": null,
   "id": "0e87a571",
   "metadata": {},
   "outputs": [],
   "source": []
  },
  {
   "cell_type": "code",
   "execution_count": 45,
   "id": "366d7747",
   "metadata": {},
   "outputs": [
    {
     "data": {
      "text/plain": [
       "(0.0036900369003690036, 0.001443001443001443, 0.0011467889908256881)"
      ]
     },
     "execution_count": 45,
     "metadata": {},
     "output_type": "execute_result"
    }
   ],
   "source": []
  },
  {
   "cell_type": "code",
   "execution_count": null,
   "id": "f0b05208",
   "metadata": {},
   "outputs": [],
   "source": [
    "1/36, 1/377, 1/446"
   ]
  },
  {
   "cell_type": "code",
   "execution_count": null,
   "id": "87f80bf3",
   "metadata": {},
   "outputs": [],
   "source": []
  },
  {
   "cell_type": "code",
   "execution_count": 15,
   "id": "27f10c9c",
   "metadata": {},
   "outputs": [
    {
     "data": {
      "text/plain": [
       "210"
      ]
     },
     "execution_count": 15,
     "metadata": {},
     "output_type": "execute_result"
    }
   ],
   "source": [
    "len(Descriptors._descList)"
   ]
  },
  {
   "cell_type": "code",
   "execution_count": null,
   "id": "79e3f835",
   "metadata": {},
   "outputs": [],
   "source": [
    "MolecularDescriptorCalculator."
   ]
  },
  {
   "cell_type": "code",
   "execution_count": 12,
   "id": "5b02b707",
   "metadata": {},
   "outputs": [
    {
     "name": "stdout",
     "output_type": "stream",
     "text": [
      "-10 [False]\n",
      "-9 [False]\n",
      "-8 [ True]\n",
      "-7 [ True]\n",
      "-6 [ True]\n",
      "-5 [ True]\n",
      "-4 [ True]\n",
      "-3 [ True]\n",
      "-2 [ True]\n",
      "-1 [ True]\n",
      "0 [ True]\n",
      "1 [False]\n",
      "2 [False]\n",
      "3 [False]\n",
      "4 [False]\n",
      "5 [False]\n",
      "6 [False]\n",
      "7 [False]\n",
      "8 [False]\n",
      "9 [False]\n"
     ]
    }
   ],
   "source": [
    "n = 81542164.0\n",
    "arr1 = np.array([n], np.float32)\n",
    "for i in range(-10, 10, 1):\n",
    "    arr2 = np.array([n + i], dtype = np.float32)\n",
    "    print(i, arr1 == arr2 )"
   ]
  },
  {
   "cell_type": "code",
   "execution_count": null,
   "id": "34d2aecf",
   "metadata": {},
   "outputs": [],
   "source": []
  },
  {
   "cell_type": "code",
   "execution_count": null,
   "id": "03183da1",
   "metadata": {},
   "outputs": [],
   "source": []
  },
  {
   "cell_type": "code",
   "execution_count": null,
   "id": "6a3426e3",
   "metadata": {},
   "outputs": [],
   "source": [
    "li = [81542164, 48869979]\n",
    "\n",
    "arr = torch.Tensor(li)\n",
    "arr = torch.tensor(li, dtype = torch.float32)\n",
    "# equivalent to \n",
    "\n",
    "arr2 = torch.from_numpy(np.array(li))\n",
    "print('[0]', arr, arr2)\n",
    "print('[1]', arr.dtype, arr2.dtype)\n",
    "print('[2]', arr.type(torch.int64) == arr2, arr == arr2.float())\n",
    "print('[3]', arr2 - arr, arr - arr2)\n",
    "print('[4]', arr2==arr, arr == arr2)\n",
    "print('[5]', arr.type(torch.int64) == arr2, arr == arr2.float())\n",
    "print('-----[6]----', arr.cpu().numpy() == arr2.cpu().numpy(), arr2.cpu().numpy() == arr.cpu().numpy())\n",
    "print('[7]', arr.numpy().dtype, arr2.numpy().dtype)\n",
    "print('[8]', arr.numpy().astype('int64') == arr2.numpy(), arr.numpy() == arr2.numpy().astype('float32'))"
   ]
  },
  {
   "cell_type": "code",
   "execution_count": null,
   "id": "0e9c0549",
   "metadata": {},
   "outputs": [],
   "source": []
  },
  {
   "cell_type": "code",
   "execution_count": 4,
   "id": "adfe60e1",
   "metadata": {},
   "outputs": [
    {
     "name": "stdout",
     "output_type": "stream",
     "text": [
      "[0] tensor([81542160., 48869980.]) tensor([81542164, 48869979])\n",
      "[1] torch.float32 torch.int64\n",
      "[2] tensor([0., 0.]) tensor([0., 0.])\n",
      "[3] tensor([False, False]) tensor([True, True])\n",
      "[4] tensor([True, True]) tensor([True, True])\n",
      "[5] [False False] [False False]\n"
     ]
    }
   ],
   "source": [
    "li = [81542164, 48869979]\n",
    "\n",
    "arr = torch.tensor(li, dtype = torch.float32)\n",
    "# arr = torch.Tensor(li)\n",
    "\n",
    "arr2 = torch.from_numpy(np.array(li))\n",
    "print('[0]', arr, arr2)\n",
    "print('[1]', arr.dtype, arr2.dtype)\n",
    "print('[2]', arr2 - arr, arr - arr2)\n",
    "print('[3]', arr.type(torch.int64) == arr2, arr == arr2.float())\n",
    "print('[4]', arr2==arr, arr == arr2)\n",
    "print('[5]', arr.cpu().numpy() == arr2.cpu().numpy(), arr2.cpu().numpy() == arr.cpu().numpy())"
   ]
  },
  {
   "cell_type": "code",
   "execution_count": null,
   "id": "c5d833dc",
   "metadata": {},
   "outputs": [],
   "source": []
  },
  {
   "cell_type": "code",
   "execution_count": null,
   "id": "eb7fd590",
   "metadata": {},
   "outputs": [],
   "source": []
  },
  {
   "cell_type": "code",
   "execution_count": null,
   "id": "4a53625c",
   "metadata": {},
   "outputs": [],
   "source": []
  },
  {
   "cell_type": "code",
   "execution_count": null,
   "id": "a156dd31",
   "metadata": {},
   "outputs": [],
   "source": []
  },
  {
   "cell_type": "code",
   "execution_count": null,
   "id": "8d929821",
   "metadata": {},
   "outputs": [],
   "source": []
  },
  {
   "cell_type": "code",
   "execution_count": null,
   "id": "e1115d7e",
   "metadata": {},
   "outputs": [],
   "source": [
    "df = pl.scan_csv('/home/dangnh36/datasets/competitions/leash_belka/processed/cv/16_19_0_2/train.csv').select(pl.col(\n",
    "                                    'index')).collect()\n",
    "df"
   ]
  },
  {
   "cell_type": "code",
   "execution_count": null,
   "id": "6cb5df8b",
   "metadata": {},
   "outputs": [],
   "source": [
    "df.select(pl.n_unique('index'))"
   ]
  },
  {
   "cell_type": "code",
   "execution_count": null,
   "id": "2591a559",
   "metadata": {},
   "outputs": [],
   "source": []
  },
  {
   "cell_type": "code",
   "execution_count": null,
   "id": "9bde56ba",
   "metadata": {},
   "outputs": [],
   "source": [
    "arr = df.to_numpy()[:, 0]\n",
    "arr.shape"
   ]
  },
  {
   "cell_type": "code",
   "execution_count": null,
   "id": "c26a8bea",
   "metadata": {},
   "outputs": [],
   "source": [
    "84053897 / 2"
   ]
  },
  {
   "cell_type": "code",
   "execution_count": null,
   "id": "d677b9dc",
   "metadata": {},
   "outputs": [],
   "source": [
    "arr1 = np.random.choice(arr, 42026948, replace=False)\n",
    "arr1.shape"
   ]
  },
  {
   "cell_type": "code",
   "execution_count": null,
   "id": "460e3ac0",
   "metadata": {},
   "outputs": [],
   "source": [
    "arr2 = np.random.choice(arr, 42026948, replace=False)\n",
    "arr2.shape"
   ]
  },
  {
   "cell_type": "code",
   "execution_count": null,
   "id": "667b3cfc",
   "metadata": {},
   "outputs": [],
   "source": [
    "len(set(arr1.tolist() + arr2.tolist()))"
   ]
  },
  {
   "cell_type": "code",
   "execution_count": null,
   "id": "eb38ee0d",
   "metadata": {},
   "outputs": [],
   "source": [
    "84053897 - 63042196"
   ]
  },
  {
   "cell_type": "code",
   "execution_count": null,
   "id": "cc5af6d6",
   "metadata": {},
   "outputs": [],
   "source": []
  },
  {
   "cell_type": "code",
   "execution_count": null,
   "id": "bf54fe79",
   "metadata": {},
   "outputs": [],
   "source": []
  },
  {
   "cell_type": "code",
   "execution_count": null,
   "id": "7d9bae3b",
   "metadata": {},
   "outputs": [],
   "source": [
    "sampler = None\n",
    "\n",
    "class Dataset:\n",
    "    def __len__(self):\n",
    "        return 84053897\n",
    "\n",
    "dataset = Dataset()\n",
    "\n",
    "from torch.utils.data import BatchSampler, RandomSampler, SequentialSampler\n",
    "if sampler is None:\n",
    "    # default behavior of torch.utils.data.DataLoader\n",
    "    sampler = RandomSampler(dataset,\n",
    "                            replacement=False,\n",
    "                            num_samples=None,\n",
    "                            generator=None)\n",
    "# dataset's __getitem__(self, idxs) where idxs is a list of indices\n",
    "# this may speedup when e.g tokenizer a batch of strings\n",
    "# instead of tokenize each idividual string then collate to a batch\n",
    "sampler = BatchSampler(sampler, 4096, True)\n",
    "sampler"
   ]
  },
  {
   "cell_type": "code",
   "execution_count": null,
   "id": "5317aaa9",
   "metadata": {},
   "outputs": [],
   "source": [
    "all_idxs = []\n",
    "all_idxs2 = []\n",
    "for i, idxs in tqdm(enumerate(sampler)):\n",
    "    print(type(idxs), type(idxs[0]))\n",
    "    break\n",
    "    assert len(idxs) == 4096, f'{len(idxs)}'\n",
    "    all_idxs.extend(torch.Tensor(idxs).cpu().numpy())\n",
    "    all_idxs2.extend(idxs)\n"
   ]
  },
  {
   "cell_type": "code",
   "execution_count": null,
   "id": "f561e0b8",
   "metadata": {},
   "outputs": [],
   "source": [
    "print(len(all_idxs))"
   ]
  },
  {
   "cell_type": "code",
   "execution_count": null,
   "id": "cc10268d",
   "metadata": {},
   "outputs": [],
   "source": [
    "print(len(set(all_idxs)))"
   ]
  },
  {
   "cell_type": "code",
   "execution_count": null,
   "id": "6c7fad1d",
   "metadata": {},
   "outputs": [],
   "source": [
    "print(len(set(all_idxs2)))"
   ]
  },
  {
   "cell_type": "code",
   "execution_count": null,
   "id": "b4459808",
   "metadata": {},
   "outputs": [],
   "source": [
    "all_idxs[:10]"
   ]
  },
  {
   "cell_type": "code",
   "execution_count": null,
   "id": "c93419ab",
   "metadata": {},
   "outputs": [],
   "source": [
    "type(all_idxs[0])"
   ]
  },
  {
   "cell_type": "code",
   "execution_count": null,
   "id": "b6358410",
   "metadata": {},
   "outputs": [],
   "source": [
    "all_idxs2[:10]"
   ]
  },
  {
   "cell_type": "code",
   "execution_count": null,
   "id": "5b681fbc",
   "metadata": {},
   "outputs": [],
   "source": [
    "for i in range(len(all_idxs)):\n",
    "    if all_idxs[i] != all_idxs2[i]:\n",
    "        print(all_idxs[i], all_idxs2[i])"
   ]
  },
  {
   "cell_type": "code",
   "execution_count": null,
   "id": "9e820e6c",
   "metadata": {},
   "outputs": [],
   "source": []
  },
  {
   "cell_type": "code",
   "execution_count": null,
   "id": "e1febbb6",
   "metadata": {},
   "outputs": [],
   "source": [
    "torch.Tensor(idxs).cpu().numpy()"
   ]
  },
  {
   "cell_type": "code",
   "execution_count": null,
   "id": "e8fe161d",
   "metadata": {},
   "outputs": [],
   "source": [
    "torch.Tensor(idxs).cpu().numpy()"
   ]
  },
  {
   "cell_type": "code",
   "execution_count": null,
   "id": "793fd77e",
   "metadata": {},
   "outputs": [],
   "source": [
    "len(set([int(e) for e in all_idxs]))"
   ]
  },
  {
   "cell_type": "code",
   "execution_count": null,
   "id": "70b5c6fe",
   "metadata": {},
   "outputs": [],
   "source": [
    "all_idxs[:10]"
   ]
  },
  {
   "cell_type": "code",
   "execution_count": null,
   "id": "cda0dfd3",
   "metadata": {},
   "outputs": [],
   "source": [
    "all_idxs2[:10]"
   ]
  },
  {
   "cell_type": "code",
   "execution_count": null,
   "id": "35fca0fb",
   "metadata": {},
   "outputs": [],
   "source": [
    "type(all_idxs[0]), type(all_idxs2[0])"
   ]
  },
  {
   "cell_type": "code",
   "execution_count": null,
   "id": "4ab5d538",
   "metadata": {},
   "outputs": [],
   "source": []
  },
  {
   "cell_type": "code",
   "execution_count": null,
   "id": "226e83a9",
   "metadata": {},
   "outputs": [],
   "source": []
  },
  {
   "cell_type": "code",
   "execution_count": null,
   "id": "e29cce06",
   "metadata": {},
   "outputs": [],
   "source": [
    "mask = torch.Tensor(\n",
    "[\n",
    "    [1, 1, 1, 0],\n",
    "    [1, 0, 0, 0],\n",
    "    [1, 1, 0, 0]\n",
    "]\n",
    "    \n",
    ")\n",
    "mask_pad = ( mask).long().bool().unsqueeze(1)\n",
    "mask_pad = ( mask_pad.permute(0, 2,1) * mask_pad).unsqueeze(1)\n",
    "print(mask_pad.shape)\n",
    "mask_pad"
   ]
  },
  {
   "cell_type": "code",
   "execution_count": null,
   "id": "f18fd675",
   "metadata": {},
   "outputs": [],
   "source": []
  },
  {
   "cell_type": "code",
   "execution_count": null,
   "id": "39a78193",
   "metadata": {},
   "outputs": [],
   "source": [
    "arr = torch.Tensor([[0, 0, 0], [0, 0, 0]]).long()\n",
    "idxs = torch.Tensor([[0, 2], [1, 2]]).long()\n",
    "# arr[idxs] = 1\n",
    "for i, row in enumerate(idxs):\n",
    "    arr[i, row] = 1\n",
    "        \n",
    "arr"
   ]
  },
  {
   "cell_type": "code",
   "execution_count": null,
   "id": "b8810a11",
   "metadata": {},
   "outputs": [],
   "source": []
  },
  {
   "cell_type": "code",
   "execution_count": null,
   "id": "ba768841",
   "metadata": {},
   "outputs": [],
   "source": []
  },
  {
   "cell_type": "code",
   "execution_count": null,
   "id": "1c31409a-de74-4473-961d-8bb0480b98c8",
   "metadata": {},
   "outputs": [],
   "source": [
    "%%time\n",
    "features = np.load('/home/dangnh36/datasets/competitions/leash_belka/processed/features/ecfp6/train.npy', mmap_mode='r')\n",
    "# print(features.sum())\n",
    "features.shape"
   ]
  },
  {
   "cell_type": "code",
   "execution_count": null,
   "id": "6c883a3b-042b-407e-b02f-17084b10b4c7",
   "metadata": {},
   "outputs": [],
   "source": []
  },
  {
   "cell_type": "code",
   "execution_count": null,
   "id": "fc833058-fea3-4cb0-8629-2225071375eb",
   "metadata": {},
   "outputs": [],
   "source": [
    "%%time\n",
    "\n",
    "arr = np.unpackbits(features, axis = -1)\n",
    "arr.shape"
   ]
  },
  {
   "cell_type": "code",
   "execution_count": null,
   "id": "1cccda7e-0049-4579-887d-079ee34e1634",
   "metadata": {},
   "outputs": [],
   "source": []
  },
  {
   "cell_type": "code",
   "execution_count": null,
   "id": "9dcab7f7-9d31-4288-b7cd-fce4d8be616e",
   "metadata": {},
   "outputs": [],
   "source": []
  },
  {
   "cell_type": "code",
   "execution_count": null,
   "id": "7b288a04-f55d-41a1-95ba-e231ec8a2bb1",
   "metadata": {},
   "outputs": [],
   "source": []
  },
  {
   "cell_type": "code",
   "execution_count": null,
   "id": "c9ec193d-e4e3-48e9-9d6e-eee99f1fea60",
   "metadata": {},
   "outputs": [],
   "source": []
  },
  {
   "cell_type": "code",
   "execution_count": null,
   "id": "ee8c6525-b7dc-452a-92b5-fd87394e0fb2",
   "metadata": {},
   "outputs": [],
   "source": [
    "pred = torch.Tensor([[12, -12, 0], [2, -4, -14], [3, 3, 3]]).float()\n",
    "target = torch.Tensor([[1, 0, 0], [0, 0, 0], [1, 1, 0]]).float()"
   ]
  },
  {
   "cell_type": "code",
   "execution_count": null,
   "id": "e326de58-d37c-441a-8196-e72ec8fc9778",
   "metadata": {},
   "outputs": [],
   "source": [
    "mean = BCEWithLogitsLoss(reduction='mean')\n",
    "sum = BCEWithLogitsLoss(reduction='sum')"
   ]
  },
  {
   "cell_type": "code",
   "execution_count": null,
   "id": "eef951b3-9afb-46dd-9884-a55092093d25",
   "metadata": {},
   "outputs": [],
   "source": [
    "mean(pred, target) * 9"
   ]
  },
  {
   "cell_type": "code",
   "execution_count": null,
   "id": "fe0beeff-f9ad-41b3-91c4-c14b013f3f0a",
   "metadata": {},
   "outputs": [],
   "source": [
    "sum(pred, target)"
   ]
  },
  {
   "cell_type": "code",
   "execution_count": null,
   "id": "114bca90-da6d-46f3-98c5-a9521f716c6d",
   "metadata": {},
   "outputs": [],
   "source": [
    "df = pl.scan_csv('/home/dangnh36/datasets/competitions/leash_belka/processed/cv/v1/val.csv').collect()\n",
    "df"
   ]
  },
  {
   "cell_type": "code",
   "execution_count": null,
   "id": "119cdc06-7c34-4a8e-9cc5-21d108cf0faf",
   "metadata": {},
   "outputs": [],
   "source": [
    "df[np.array([0, 1, 4]), 'subset'] = 11\n",
    "df"
   ]
  },
  {
   "cell_type": "code",
   "execution_count": null,
   "id": "5952c4f4-301a-4d8b-a131-b6d5397778cc",
   "metadata": {},
   "outputs": [],
   "source": [
    "# idxs = np.concatenate(idxs)\n",
    "# orders = np.argsort(idxs)\n",
    "# preds = np.concatenate(preds)[orders]\n",
    "# targets = np.concatenate(targets)[orders]\n",
    "\n",
    "# # fill nan in preds\n",
    "# nan_row_idxs = np.any(np.isnan(preds), axis=-1)\n",
    "# num_nan = nan_row_idxs.sum()\n",
    "# if num_nan > 0:\n",
    "#     logger.warning(\"%d nan rows in prediction, set to 0\", num_nan)\n",
    "#     preds[nan_row_idxs, :] = 0\n",
    "#     assert not np.any(np.isnan(preds))\n",
    "\n",
    "# target_cols = ['BRD4', 'HSA', 'eSH']"
   ]
  },
  {
   "cell_type": "code",
   "execution_count": null,
   "id": "9bc8cf2c-dcf7-49d1-97d1-30617aabb7f7",
   "metadata": {},
   "outputs": [],
   "source": []
  },
  {
   "cell_type": "code",
   "execution_count": null,
   "id": "0db0191e-fea2-45e7-9006-5ee0bc8fb0bc",
   "metadata": {},
   "outputs": [],
   "source": []
  },
  {
   "cell_type": "code",
   "execution_count": null,
   "id": "6fc3a82e-3198-422d-ba80-7265da7223e5",
   "metadata": {},
   "outputs": [],
   "source": []
  },
  {
   "cell_type": "code",
   "execution_count": null,
   "id": "1f344f48-c8e3-48a9-b5c5-b5ecd71adb57",
   "metadata": {},
   "outputs": [],
   "source": []
  },
  {
   "cell_type": "code",
   "execution_count": null,
   "id": "496b793b-7976-4a63-a547-9b1047da84e5",
   "metadata": {},
   "outputs": [],
   "source": [
    "train_df = pl.scan_csv('/home/dangnh36/datasets/competitions/leash_belka/processed/train_v2.csv').select(\n",
    "        pl.col('molecule'),\n",
    "#         pl.col('bb1', 'bb2', 'bb3').cast(pl.UInt16),\n",
    "        # pl.col('BRD4', 'HSA', 'sEH').cast(pl.UInt8),\n",
    "    ).collect()\n",
    "print(train_df.estimated_size('gb'), 'GB')\n",
    "train_df"
   ]
  },
  {
   "cell_type": "code",
   "execution_count": null,
   "id": "636350fb",
   "metadata": {},
   "outputs": [],
   "source": [
    "help(Chem.MolToSmiles)"
   ]
  },
  {
   "cell_type": "code",
   "execution_count": null,
   "id": "7614ecd8-5683-4928-9cb1-046ca51072a3",
   "metadata": {},
   "outputs": [],
   "source": [
    "from rdkit import Chem\n",
    "\n",
    "def canonical_smiles(x):\n",
    "    normalized = Chem.MolToSmiles(\n",
    "        Chem.MolFromSmiles(x), canonical=True,\n",
    "#         isomericSmiles=False\n",
    "    )\n",
    "    return normalized"
   ]
  },
  {
   "cell_type": "code",
   "execution_count": null,
   "id": "ef9aa8ed",
   "metadata": {},
   "outputs": [],
   "source": [
    "canonical_smiles(train_df[0, 'molecule'])"
   ]
  },
  {
   "cell_type": "code",
   "execution_count": null,
   "id": "81b80894-e970-41d2-8b13-6149f64d58fc",
   "metadata": {},
   "outputs": [],
   "source": [
    "for i in tqdm(range(1000_000)):\n",
    "    mol = train_df[i, 'molecule']\n",
    "    can = canonical_smiles(mol)\n",
    "    assert mol == can, f'\\n{mol}\\n{can}'"
   ]
  },
  {
   "cell_type": "code",
   "execution_count": null,
   "id": "fccb0176-9d3e-407a-945a-fab928fa74db",
   "metadata": {},
   "outputs": [],
   "source": [
    "!cat /home/dangnh36/datasets/competitions/leash_belka/processed/features/maccs/README.md"
   ]
  },
  {
   "cell_type": "code",
   "execution_count": null,
   "id": "16e67f4a",
   "metadata": {},
   "outputs": [],
   "source": [
    "arr = np.memmap('/home/dangnh36/datasets/competitions/leash_belka/processed/features/maccs/train.mmap',\n",
    "               dtype = np.uint8, shape = (98_415_610, 21))\n",
    "arr.shape"
   ]
  },
  {
   "cell_type": "code",
   "execution_count": null,
   "id": "1b135123",
   "metadata": {},
   "outputs": [],
   "source": [
    "np.save('/home/dangnh36/datasets/competitions/leash_belka/processed/features/maccs/train.npy', np.array(arr))"
   ]
  },
  {
   "cell_type": "code",
   "execution_count": null,
   "id": "e2121808",
   "metadata": {},
   "outputs": [],
   "source": []
  },
  {
   "cell_type": "code",
   "execution_count": null,
   "id": "b6b9aa33",
   "metadata": {},
   "outputs": [],
   "source": [
    "arr = np.memmap('/home/dangnh36/datasets/competitions/leash_belka/processed/features/maccs/test.mmap',\n",
    "               dtype = np.uint8, shape = (878_022, 21))\n",
    "arr.shape"
   ]
  },
  {
   "cell_type": "code",
   "execution_count": null,
   "id": "410b8e99",
   "metadata": {},
   "outputs": [],
   "source": [
    "np.save('/home/dangnh36/datasets/competitions/leash_belka/processed/features/maccs/test.npy', np.array(arr))"
   ]
  },
  {
   "cell_type": "code",
   "execution_count": null,
   "id": "8fe1e00a",
   "metadata": {},
   "outputs": [],
   "source": []
  },
  {
   "cell_type": "code",
   "execution_count": null,
   "id": "d504a341",
   "metadata": {},
   "outputs": [],
   "source": []
  }
 ],
 "metadata": {
  "kernelspec": {
   "display_name": "Python 3 (ipykernel)",
   "language": "python",
   "name": "python3"
  },
  "language_info": {
   "codemirror_mode": {
    "name": "ipython",
    "version": 3
   },
   "file_extension": ".py",
   "mimetype": "text/x-python",
   "name": "python",
   "nbconvert_exporter": "python",
   "pygments_lexer": "ipython3",
   "version": "3.10.13"
  }
 },
 "nbformat": 4,
 "nbformat_minor": 5
}
