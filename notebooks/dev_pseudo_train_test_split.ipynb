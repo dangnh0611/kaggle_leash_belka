{
 "cells": [
  {
   "cell_type": "code",
   "execution_count": 1,
   "id": "0342d69e-1e4f-4ab8-a11f-fe24b3c0cde3",
   "metadata": {},
   "outputs": [
    {
     "name": "stderr",
     "output_type": "stream",
     "text": [
      "No normalization for SPS. Feature removed!\n",
      "No normalization for AvgIpc. Feature removed!\n",
      "/opt/conda/lib/python3.10/site-packages/tqdm/auto.py:21: TqdmWarning: IProgress not found. Please update jupyter and ipywidgets. See https://ipywidgets.readthedocs.io/en/stable/user_install.html\n",
      "  from .autonotebook import tqdm as notebook_tqdm\n",
      "Skipped loading some Tensorflow models, missing a dependency. No module named 'tensorflow'\n",
      "\u001b[34m\u001b[1mwandb\u001b[0m: \u001b[33mWARNING\u001b[0m W&B installed but not logged in.  Run `wandb login` or set the WANDB_API_KEY env variable.\n",
      "Skipped loading modules with pytorch-geometric dependency, missing a dependency. No module named 'torch_geometric'\n",
      "Skipped loading modules with pytorch-geometric dependency, missing a dependency. cannot import name 'DMPNN' from 'deepchem.models.torch_models' (/opt/conda/lib/python3.10/site-packages/deepchem/models/torch_models/__init__.py)\n",
      "Skipped loading some Jax models, missing a dependency. No module named 'jax'\n",
      "Skipped loading some PyTorch models, missing a dependency. No module named 'tensorflow'\n"
     ]
    }
   ],
   "source": [
    "import pandas as pd\n",
    "import numpy as np\n",
    "import os\n",
    "import sys\n",
    "import polars as pl\n",
    "import json\n",
    "from joblib import Parallel, delayed\n",
    "import deepchem\n",
    "from tqdm import tqdm\n",
    "\n",
    "# Configure Polars \n",
    "cfg = pl.Config()\n",
    "cfg.set_tbl_rows(20)\n",
    "cfg.set_tbl_cols(50)\n",
    "from sklearn.model_selection import StratifiedGroupKFold, GroupKFold, KFold"
   ]
  },
  {
   "cell_type": "code",
   "execution_count": 2,
   "id": "5e8393a6-ef87-4807-aa11-7726c31b8826",
   "metadata": {},
   "outputs": [],
   "source": [
    "PERCENTILES = [0.01, 0.025, 0.05, 0.1, 0.25, 0.5, 0.75, 0.9, 0.95, 0.975, 0.99]"
   ]
  },
  {
   "cell_type": "code",
   "execution_count": 3,
   "id": "92551b03-48e3-4e07-8e66-c47630c8d55b",
   "metadata": {},
   "outputs": [
    {
     "name": "stdout",
     "output_type": "stream",
     "text": [
      "train_bbs --> 1145\n",
      "train_bb1s --> 271\n",
      "train_bb2s --> 693\n",
      "train_bb3s --> 872\n",
      "test_bb1s --> 341\n",
      "test_bb2s --> 1140\n",
      "test_bb3s --> 1389\n",
      "test_bbs --> 2110\n",
      "all_bbs --> 2110\n"
     ]
    },
    {
     "data": {
      "text/plain": [
       "[None, None, None, None, None, None, None, None, None]"
      ]
     },
     "execution_count": 3,
     "metadata": {},
     "output_type": "execute_result"
    }
   ],
   "source": [
    "with open('/home/dangnh36/datasets/competitions/leash_belka/processed/meta/building_blocks.json', 'r') as f:\n",
    "    bbs_meta = json.load(f)\n",
    "\n",
    "[print(k, '-->', len(v)) for k, v in bbs_meta.items()]"
   ]
  },
  {
   "cell_type": "code",
   "execution_count": 4,
   "id": "1edd7bf1-6c9c-49ca-830e-dcaa2097e9eb",
   "metadata": {},
   "outputs": [
    {
     "name": "stdout",
     "output_type": "stream",
     "text": [
      "5971685\n"
     ]
    }
   ],
   "source": [
    "with open('/home/dangnh36/datasets/competitions/leash_belka/processed/meta/scaffolds.json', 'r') as f:\n",
    "    scaffolds = json.load(f)\n",
    "print(len(scaffolds))"
   ]
  },
  {
   "cell_type": "code",
   "execution_count": null,
   "id": "76c732fc-272c-4cdd-a414-392376249327",
   "metadata": {},
   "outputs": [],
   "source": []
  },
  {
   "cell_type": "code",
   "execution_count": null,
   "id": "df424842-5010-457c-bc33-203d5cc506d0",
   "metadata": {},
   "outputs": [],
   "source": []
  },
  {
   "cell_type": "code",
   "execution_count": 5,
   "id": "fb0c39ff-3a85-4dc9-ae5c-ff5fcbe2d5c1",
   "metadata": {},
   "outputs": [
    {
     "name": "stdout",
     "output_type": "stream",
     "text": [
      "8601.91998577118\n"
     ]
    },
    {
     "data": {
      "text/html": [
       "<div><style>\n",
       ".dataframe > thead > tr,\n",
       ".dataframe > tbody > tr {\n",
       "  text-align: right;\n",
       "  white-space: pre-wrap;\n",
       "}\n",
       "</style>\n",
       "<small>shape: (98_415_610, 8)</small><table border=\"1\" class=\"dataframe\"><thead><tr><th>molecule</th><th>bb1</th><th>bb2</th><th>bb3</th><th>BRD4</th><th>HSA</th><th>eSH</th><th>scaffold_idx</th></tr><tr><td>str</td><td>u16</td><td>u16</td><td>u16</td><td>u8</td><td>u8</td><td>u8</td><td>i64</td></tr></thead><tbody><tr><td>&quot;C#CCOc1ccc(CNc…</td><td>1640</td><td>1653</td><td>765</td><td>0</td><td>0</td><td>0</td><td>4283326</td></tr><tr><td>&quot;C#CCOc1ccc(CNc…</td><td>1640</td><td>1653</td><td>205</td><td>0</td><td>0</td><td>0</td><td>4486646</td></tr><tr><td>&quot;C#CCOc1ccc(CNc…</td><td>1640</td><td>1653</td><td>1653</td><td>0</td><td>0</td><td>0</td><td>1015728</td></tr><tr><td>&quot;C#CCOc1ccc(CNc…</td><td>1640</td><td>1653</td><td>146</td><td>0</td><td>0</td><td>0</td><td>5301385</td></tr><tr><td>&quot;C#CCOc1ccc(CNc…</td><td>1640</td><td>1653</td><td>439</td><td>0</td><td>0</td><td>0</td><td>5301385</td></tr><tr><td>&quot;C#CCOc1ccc(CNc…</td><td>1640</td><td>1653</td><td>196</td><td>0</td><td>0</td><td>0</td><td>5301385</td></tr><tr><td>&quot;C#CCOc1ccc(CNc…</td><td>1640</td><td>1653</td><td>253</td><td>0</td><td>0</td><td>0</td><td>5301385</td></tr><tr><td>&quot;C#CCOc1ccc(CNc…</td><td>1640</td><td>1653</td><td>1219</td><td>0</td><td>0</td><td>0</td><td>5301385</td></tr><tr><td>&quot;C#CCOc1ccc(CNc…</td><td>1640</td><td>1653</td><td>604</td><td>0</td><td>0</td><td>0</td><td>543172</td></tr><tr><td>&quot;C#CCOc1ccc(CNc…</td><td>1640</td><td>1653</td><td>121</td><td>0</td><td>0</td><td>0</td><td>2571428</td></tr><tr><td>&hellip;</td><td>&hellip;</td><td>&hellip;</td><td>&hellip;</td><td>&hellip;</td><td>&hellip;</td><td>&hellip;</td><td>&hellip;</td></tr><tr><td>&quot;[N-]=[N+]=NCCC…</td><td>141</td><td>1415</td><td>536</td><td>0</td><td>0</td><td>0</td><td>4068980</td></tr><tr><td>&quot;[N-]=[N+]=NCCC…</td><td>141</td><td>1415</td><td>1367</td><td>0</td><td>0</td><td>0</td><td>2088996</td></tr><tr><td>&quot;[N-]=[N+]=NCCC…</td><td>141</td><td>1415</td><td>329</td><td>0</td><td>0</td><td>0</td><td>3192765</td></tr><tr><td>&quot;[N-]=[N+]=NCCC…</td><td>141</td><td>1415</td><td>757</td><td>0</td><td>0</td><td>0</td><td>4085046</td></tr><tr><td>&quot;[N-]=[N+]=NCCC…</td><td>141</td><td>1415</td><td>335</td><td>0</td><td>0</td><td>0</td><td>4087757</td></tr><tr><td>&quot;[N-]=[N+]=NCCC…</td><td>141</td><td>1415</td><td>1792</td><td>0</td><td>0</td><td>0</td><td>4674025</td></tr><tr><td>&quot;[N-]=[N+]=NCCC…</td><td>141</td><td>1415</td><td>1178</td><td>0</td><td>0</td><td>0</td><td>5240137</td></tr><tr><td>&quot;[N-]=[N+]=NCCC…</td><td>141</td><td>1415</td><td>1699</td><td>0</td><td>0</td><td>0</td><td>5240137</td></tr><tr><td>&quot;[N-]=[N+]=NCCC…</td><td>141</td><td>1415</td><td>1308</td><td>0</td><td>0</td><td>0</td><td>3617024</td></tr><tr><td>&quot;[N-]=[N+]=NCCC…</td><td>141</td><td>1415</td><td>1415</td><td>0</td><td>0</td><td>0</td><td>268351</td></tr></tbody></table></div>"
      ],
      "text/plain": [
       "shape: (98_415_610, 8)\n",
       "┌───────────────────────────────────┬──────┬──────┬──────┬──────┬─────┬─────┬──────────────┐\n",
       "│ molecule                          ┆ bb1  ┆ bb2  ┆ bb3  ┆ BRD4 ┆ HSA ┆ eSH ┆ scaffold_idx │\n",
       "│ ---                               ┆ ---  ┆ ---  ┆ ---  ┆ ---  ┆ --- ┆ --- ┆ ---          │\n",
       "│ str                               ┆ u16  ┆ u16  ┆ u16  ┆ u8   ┆ u8  ┆ u8  ┆ i64          │\n",
       "╞═══════════════════════════════════╪══════╪══════╪══════╪══════╪═════╪═════╪══════════════╡\n",
       "│ C#CCOc1ccc(CNc2nc(NCC3CCCN3c3ccc… ┆ 1640 ┆ 1653 ┆ 765  ┆ 0    ┆ 0   ┆ 0   ┆ 4283326      │\n",
       "│ C#CCOc1ccc(CNc2nc(NCc3cccc(Br)n3… ┆ 1640 ┆ 1653 ┆ 205  ┆ 0    ┆ 0   ┆ 0   ┆ 4486646      │\n",
       "│ C#CCOc1ccc(CNc2nc(NCc3ccc(OCC#C)… ┆ 1640 ┆ 1653 ┆ 1653 ┆ 0    ┆ 0   ┆ 0   ┆ 1015728      │\n",
       "│ C#CCOc1ccc(CNc2nc(NCCNC(=O)C(=C)… ┆ 1640 ┆ 1653 ┆ 146  ┆ 0    ┆ 0   ┆ 0   ┆ 5301385      │\n",
       "│ C#CCOc1ccc(CNc2nc(NCC(=O)NCC=C)n… ┆ 1640 ┆ 1653 ┆ 439  ┆ 0    ┆ 0   ┆ 0   ┆ 5301385      │\n",
       "│ C#CCOc1ccc(CNc2nc(NCC(C)OCC=C)nc… ┆ 1640 ┆ 1653 ┆ 196  ┆ 0    ┆ 0   ┆ 0   ┆ 5301385      │\n",
       "│ C#CCOc1ccc(CNc2nc(NCCCOCC=C)nc(N… ┆ 1640 ┆ 1653 ┆ 253  ┆ 0    ┆ 0   ┆ 0   ┆ 5301385      │\n",
       "│ C#CCOc1ccc(CNc2nc(NCCOCC=C)nc(N[… ┆ 1640 ┆ 1653 ┆ 1219 ┆ 0    ┆ 0   ┆ 0   ┆ 5301385      │\n",
       "│ C#CCOc1ccc(CNc2nc(Nc3cnn(C4CCN(C… ┆ 1640 ┆ 1653 ┆ 604  ┆ 0    ┆ 0   ┆ 0   ┆ 543172       │\n",
       "│ C#CCOc1ccc(CNc2nc(Nc3n[nH]c4c3CN… ┆ 1640 ┆ 1653 ┆ 121  ┆ 0    ┆ 0   ┆ 0   ┆ 2571428      │\n",
       "│ …                                 ┆ …    ┆ …    ┆ …    ┆ …    ┆ …   ┆ …   ┆ …            │\n",
       "│ [N-]=[N+]=NCCC[C@H](Nc1nc(Nc2ncc… ┆ 141  ┆ 1415 ┆ 536  ┆ 0    ┆ 0   ┆ 0   ┆ 4068980      │\n",
       "│ [N-]=[N+]=NCCC[C@H](Nc1nc(Nc2ncn… ┆ 141  ┆ 1415 ┆ 1367 ┆ 0    ┆ 0   ┆ 0   ┆ 2088996      │\n",
       "│ [N-]=[N+]=NCCC[C@H](Nc1nc(Nc2ncn… ┆ 141  ┆ 1415 ┆ 329  ┆ 0    ┆ 0   ┆ 0   ┆ 3192765      │\n",
       "│ [N-]=[N+]=NCCC[C@H](Nc1nc(Nc2noc… ┆ 141  ┆ 1415 ┆ 757  ┆ 0    ┆ 0   ┆ 0   ┆ 4085046      │\n",
       "│ [N-]=[N+]=NCCC[C@H](Nc1nc(Nc2ncn… ┆ 141  ┆ 1415 ┆ 335  ┆ 0    ┆ 0   ┆ 0   ┆ 4087757      │\n",
       "│ [N-]=[N+]=NCCC[C@H](Nc1nc(Nc2noc… ┆ 141  ┆ 1415 ┆ 1792 ┆ 0    ┆ 0   ┆ 0   ┆ 4674025      │\n",
       "│ [N-]=[N+]=NCCC[C@H](Nc1nc(Nc2nnc… ┆ 141  ┆ 1415 ┆ 1178 ┆ 0    ┆ 0   ┆ 0   ┆ 5240137      │\n",
       "│ [N-]=[N+]=NCCC[C@H](Nc1nc(Nc2nnc… ┆ 141  ┆ 1415 ┆ 1699 ┆ 0    ┆ 0   ┆ 0   ┆ 5240137      │\n",
       "│ [N-]=[N+]=NCCC[C@H](Nc1nc(Nc2nnn… ┆ 141  ┆ 1415 ┆ 1308 ┆ 0    ┆ 0   ┆ 0   ┆ 3617024      │\n",
       "│ [N-]=[N+]=NCCC[C@H](Nc1nc(Nc2noc… ┆ 141  ┆ 1415 ┆ 1415 ┆ 0    ┆ 0   ┆ 0   ┆ 268351       │\n",
       "└───────────────────────────────────┴──────┴──────┴──────┴──────┴─────┴─────┴──────────────┘"
      ]
     },
     "execution_count": 5,
     "metadata": {},
     "output_type": "execute_result"
    }
   ],
   "source": [
    "train_scaffolds = pl.scan_csv('/home/dangnh36/datasets/competitions/leash_belka/processed/train_scaffold.csv').collect()\n",
    "train_df = pl.scan_csv('/home/dangnh36/datasets/competitions/leash_belka/processed/train_v2.csv')\\\n",
    "    .select(\n",
    "        pl.col('molecule'),\n",
    "        pl.col('bb1', 'bb2', 'bb3').cast(pl.UInt16),\n",
    "        pl.col('BRD4', 'HSA', 'eSH').cast(pl.UInt8),\n",
    "        scaffold_idx = train_scaffolds['scaffold_idx'],\n",
    "    )\\\n",
    "    .collect()\n",
    "print(train_df.estimated_size('mb'))\n",
    "train_df"
   ]
  },
  {
   "cell_type": "code",
   "execution_count": null,
   "id": "906a0b6d-7627-41e3-bede-9cdcf526d4de",
   "metadata": {},
   "outputs": [],
   "source": []
  },
  {
   "cell_type": "code",
   "execution_count": null,
   "id": "cb9cef9b-962a-4070-95f5-f1845179cb6b",
   "metadata": {},
   "outputs": [],
   "source": []
  },
  {
   "cell_type": "code",
   "execution_count": null,
   "id": "61a7fb77-ecf3-4e7c-86cc-46915487179c",
   "metadata": {},
   "outputs": [],
   "source": []
  },
  {
   "cell_type": "code",
   "execution_count": null,
   "id": "94989cc2-7c41-4274-ae54-3a8c6dc77065",
   "metadata": {},
   "outputs": [],
   "source": []
  },
  {
   "cell_type": "code",
   "execution_count": 6,
   "id": "9d74ae2a-b18f-4b5f-9173-2a52b557adbd",
   "metadata": {},
   "outputs": [
    {
     "name": "stdout",
     "output_type": "stream",
     "text": [
      "84.21934127807617\n"
     ]
    },
    {
     "data": {
      "text/html": [
       "<div><style>\n",
       ".dataframe > thead > tr,\n",
       ".dataframe > tbody > tr {\n",
       "  text-align: right;\n",
       "  white-space: pre-wrap;\n",
       "}\n",
       "</style>\n",
       "<small>shape: (878_022, 7)</small><table border=\"1\" class=\"dataframe\"><thead><tr><th>molecule</th><th>id</th><th>bb1</th><th>bb2</th><th>bb3</th><th>protein</th><th>scaffold_idx</th></tr><tr><td>str</td><td>i64</td><td>u16</td><td>u16</td><td>u16</td><td>str</td><td>i64</td></tr></thead><tbody><tr><td>&quot;Cc1ccnc2ccc(-c…</td><td>295484575</td><td>149</td><td>836</td><td>2040</td><td>&quot;BRD4&quot;</td><td>1860147</td></tr><tr><td>&quot;COc1cc(OC)cc(-…</td><td>295312030</td><td>1270</td><td>297</td><td>446</td><td>&quot;BRD4&quot;</td><td>1652571</td></tr><tr><td>&quot;COC(=O)c1ccc2n…</td><td>296318714</td><td>1022</td><td>654</td><td>1657</td><td>&quot;BRD4&quot;</td><td>359321</td></tr><tr><td>&quot;O=C(N[Dy])c1nc…</td><td>296516138</td><td>504</td><td>724</td><td>152</td><td>&quot;BRD4&quot;</td><td>3653278</td></tr><tr><td>&quot;CCCc1ccc(-c2cc…</td><td>295421548</td><td>1249</td><td>1144</td><td>978</td><td>&quot;BRD4&quot;</td><td>3336239</td></tr><tr><td>&quot;N#Cc1ccc(Nc2nc…</td><td>296352350</td><td>359</td><td>1279</td><td>65</td><td>&quot;BRD4&quot;</td><td>3500670</td></tr><tr><td>&quot;CC1(C)CC(C(=O)…</td><td>295536283</td><td>592</td><td>705</td><td>1312</td><td>&quot;sEH&quot;</td><td>4905609</td></tr><tr><td>&quot;O=C(N[Dy])[C@@…</td><td>296712181</td><td>198</td><td>1082</td><td>78</td><td>&quot;BRD4&quot;</td><td>3226661</td></tr><tr><td>&quot;O=C1CC(C(=O)N2…</td><td>296888143</td><td>542</td><td>607</td><td>1672</td><td>&quot;BRD4&quot;</td><td>2726008</td></tr><tr><td>&quot;Cc1ccccc1-c1cs…</td><td>295947175</td><td>1577</td><td>1011</td><td>955</td><td>&quot;BRD4&quot;</td><td>323982</td></tr><tr><td>&hellip;</td><td>&hellip;</td><td>&hellip;</td><td>&hellip;</td><td>&hellip;</td><td>&hellip;</td><td>&hellip;</td></tr><tr><td>&quot;O=C(N[Dy])[C@@…</td><td>295306453</td><td>1270</td><td>405</td><td>1526</td><td>&quot;BRD4&quot;</td><td>895340</td></tr><tr><td>&quot;C=CCC(Nc1nc(NC…</td><td>295275195</td><td>1470</td><td>1770</td><td>1736</td><td>&quot;BRD4&quot;</td><td>1745176</td></tr><tr><td>&quot;CCc1nc2ccccc2n…</td><td>295408396</td><td>1737</td><td>1997</td><td>936</td><td>&quot;BRD4&quot;</td><td>4658097</td></tr><tr><td>&quot;COc1ccc(C[C@H]…</td><td>295675951</td><td>1611</td><td>1242</td><td>1056</td><td>&quot;BRD4&quot;</td><td>5855032</td></tr><tr><td>&quot;CC(O)CCNc1nc(N…</td><td>295951195</td><td>2042</td><td>1402</td><td>113</td><td>&quot;BRD4&quot;</td><td>5858112</td></tr><tr><td>&quot;Cc1cccc(NC(=O)…</td><td>295356251</td><td>1413</td><td>856</td><td>382</td><td>&quot;sEH&quot;</td><td>4457006</td></tr><tr><td>&quot;O=C(N[Dy])c1cc…</td><td>296835998</td><td>1333</td><td>1936</td><td>1019</td><td>&quot;BRD4&quot;</td><td>3466498</td></tr><tr><td>&quot;CCS(=O)(=O)c1c…</td><td>295596350</td><td>7</td><td>1491</td><td>1233</td><td>&quot;BRD4&quot;</td><td>2101844</td></tr><tr><td>&quot;CCCCOc1ncc(-c2…</td><td>296852812</td><td>751</td><td>278</td><td>1072</td><td>&quot;HSA&quot;</td><td>1751409</td></tr><tr><td>&quot;COCC1(CCNc2nc(…</td><td>295608308</td><td>87</td><td>656</td><td>605</td><td>&quot;BRD4&quot;</td><td>1987164</td></tr></tbody></table></div>"
      ],
      "text/plain": [
       "shape: (878_022, 7)\n",
       "┌───────────────────────────────────┬───────────┬──────┬──────┬──────┬─────────┬──────────────┐\n",
       "│ molecule                          ┆ id        ┆ bb1  ┆ bb2  ┆ bb3  ┆ protein ┆ scaffold_idx │\n",
       "│ ---                               ┆ ---       ┆ ---  ┆ ---  ┆ ---  ┆ ---     ┆ ---          │\n",
       "│ str                               ┆ i64       ┆ u16  ┆ u16  ┆ u16  ┆ str     ┆ i64          │\n",
       "╞═══════════════════════════════════╪═══════════╪══════╪══════╪══════╪═════════╪══════════════╡\n",
       "│ Cc1ccnc2ccc(-c3cccc([C@@H]4CN(C(… ┆ 295484575 ┆ 149  ┆ 836  ┆ 2040 ┆ BRD4    ┆ 1860147      │\n",
       "│ COc1cc(OC)cc(-c2ccccc2C2=C[C@@H]… ┆ 295312030 ┆ 1270 ┆ 297  ┆ 446  ┆ BRD4    ┆ 1652571      │\n",
       "│ COC(=O)c1ccc2nc(Nc3nc(Nc4cc(Cl)n… ┆ 296318714 ┆ 1022 ┆ 654  ┆ 1657 ┆ BRD4    ┆ 359321       │\n",
       "│ O=C(N[Dy])c1nc(Br)cnc1Nc1nc(Nc2c… ┆ 296516138 ┆ 504  ┆ 724  ┆ 152  ┆ BRD4    ┆ 3653278      │\n",
       "│ CCCc1ccc(-c2ccc(-c3ccc4c(c3)c(C(… ┆ 295421548 ┆ 1249 ┆ 1144 ┆ 978  ┆ BRD4    ┆ 3336239      │\n",
       "│ N#Cc1ccc(Nc2nc(NCc3cccnc3-n3ccnc… ┆ 296352350 ┆ 359  ┆ 1279 ┆ 65   ┆ BRD4    ┆ 3500670      │\n",
       "│ CC1(C)CC(C(=O)N2C[C@H](Oc3ccccc3… ┆ 295536283 ┆ 592  ┆ 705  ┆ 1312 ┆ sEH     ┆ 4905609      │\n",
       "│ O=C(N[Dy])[C@@H]1C=C(c2ccc(C=C3C… ┆ 296712181 ┆ 198  ┆ 1082 ┆ 78   ┆ BRD4    ┆ 3226661      │\n",
       "│ O=C1CC(C(=O)N2CCN(c3cc(C(=O)N[Dy… ┆ 296888143 ┆ 542  ┆ 607  ┆ 1672 ┆ BRD4    ┆ 2726008      │\n",
       "│ Cc1ccccc1-c1csc(Nc2nc(NCc3cn(C)n… ┆ 295947175 ┆ 1577 ┆ 1011 ┆ 955  ┆ BRD4    ┆ 323982       │\n",
       "│ …                                 ┆ …         ┆ …    ┆ …    ┆ …    ┆ …       ┆ …            │\n",
       "│ O=C(N[Dy])[C@@H]1C=C(c2ccccc2C=C… ┆ 295306453 ┆ 1270 ┆ 405  ┆ 1526 ┆ BRD4    ┆ 895340       │\n",
       "│ C=CCC(Nc1nc(NCC(C)c2c(Cl)cccc2Cl… ┆ 295275195 ┆ 1470 ┆ 1770 ┆ 1736 ┆ BRD4    ┆ 1745176      │\n",
       "│ CCc1nc2ccccc2n1CCC(=O)N1CCC[C@@H… ┆ 295408396 ┆ 1737 ┆ 1997 ┆ 936  ┆ BRD4    ┆ 4658097      │\n",
       "│ COc1ccc(C[C@H](Nc2nc(Nc3cc(C4CC4… ┆ 295675951 ┆ 1611 ┆ 1242 ┆ 1056 ┆ BRD4    ┆ 5855032      │\n",
       "│ CC(O)CCNc1nc(NCCCN2CCNC(=O)C2)nc… ┆ 295951195 ┆ 2042 ┆ 1402 ┆ 113  ┆ BRD4    ┆ 5858112      │\n",
       "│ Cc1cccc(NC(=O)c2cccc(-c3ccc(C(=O… ┆ 295356251 ┆ 1413 ┆ 856  ┆ 382  ┆ sEH     ┆ 4457006      │\n",
       "│ O=C(N[Dy])c1cc(-c2cc(O)ccc2F)cnc… ┆ 296835998 ┆ 1333 ┆ 1936 ┆ 1019 ┆ BRD4    ┆ 3466498      │\n",
       "│ CCS(=O)(=O)c1cc(C(=O)N[Dy])c(OC)… ┆ 295596350 ┆ 7    ┆ 1491 ┆ 1233 ┆ BRD4    ┆ 2101844      │\n",
       "│ CCCCOc1ncc(-c2cnc(N3CCN(C(=O)C4(… ┆ 296852812 ┆ 751  ┆ 278  ┆ 1072 ┆ HSA     ┆ 1751409      │\n",
       "│ COCC1(CCNc2nc(NCC3CCC(SC)CC3)nc(… ┆ 295608308 ┆ 87   ┆ 656  ┆ 605  ┆ BRD4    ┆ 1987164      │\n",
       "└───────────────────────────────────┴───────────┴──────┴──────┴──────┴─────────┴──────────────┘"
      ]
     },
     "execution_count": 6,
     "metadata": {},
     "output_type": "execute_result"
    }
   ],
   "source": [
    "test_scaffolds = pl.scan_csv('/home/dangnh36/datasets/competitions/leash_belka/processed/test_scaffold.csv').collect()\n",
    "test_df = pl.scan_csv('/home/dangnh36/datasets/competitions/leash_belka/processed/test_v2.csv')\\\n",
    "    .select(\n",
    "        pl.col('id','molecule'),\n",
    "        pl.col('bb1', 'bb2', 'bb3').cast(pl.UInt16),\n",
    "        pl.col('protein'),\n",
    "        scaffold_idx = test_scaffolds['scaffold_idx']\n",
    "    ).group_by('molecule').first().collect()\n",
    "print(test_df.estimated_size('mb'))\n",
    "test_df"
   ]
  },
  {
   "cell_type": "code",
   "execution_count": 7,
   "id": "590e063c-b413-4c1a-b668-cec11a11004f",
   "metadata": {},
   "outputs": [
    {
     "data": {
      "text/plain": [
       "2634066"
      ]
     },
     "execution_count": 7,
     "metadata": {},
     "output_type": "execute_result"
    }
   ],
   "source": [
    "878_022 * 3"
   ]
  },
  {
   "cell_type": "code",
   "execution_count": 8,
   "id": "d422a554-6b36-42d4-b0b0-a2f2361f978b",
   "metadata": {},
   "outputs": [
    {
     "data": {
      "text/plain": [
       "0.026764717507720574"
      ]
     },
     "execution_count": 8,
     "metadata": {},
     "output_type": "execute_result"
    }
   ],
   "source": [
    "2634066 / 98_415_610"
   ]
  },
  {
   "cell_type": "code",
   "execution_count": null,
   "id": "d877be8f-329e-4c0d-8d8b-b6c264fcd2f3",
   "metadata": {},
   "outputs": [],
   "source": []
  },
  {
   "cell_type": "code",
   "execution_count": 9,
   "id": "46c87e8b-860f-4a75-bbc0-e422a86dc210",
   "metadata": {},
   "outputs": [
    {
     "data": {
      "text/html": [
       "<div><style>\n",
       ".dataframe > thead > tr,\n",
       ".dataframe > tbody > tr {\n",
       "  text-align: right;\n",
       "  white-space: pre-wrap;\n",
       "}\n",
       "</style>\n",
       "<small>shape: (99_293_632, 7)</small><table border=\"1\" class=\"dataframe\"><thead><tr><th>molecule</th><th>bb1</th><th>bb2</th><th>bb3</th><th>scaffold_idx</th><th>ori</th><th>mol_per_scaf</th></tr><tr><td>str</td><td>u16</td><td>u16</td><td>u16</td><td>i64</td><td>i32</td><td>u32</td></tr></thead><tbody><tr><td>&quot;C#CCOc1ccc(CNc…</td><td>1640</td><td>1653</td><td>765</td><td>4283326</td><td>0</td><td>844</td></tr><tr><td>&quot;C#CCOc1ccc(CNc…</td><td>1640</td><td>1653</td><td>205</td><td>4486646</td><td>0</td><td>9444</td></tr><tr><td>&quot;C#CCOc1ccc(CNc…</td><td>1640</td><td>1653</td><td>1653</td><td>1015728</td><td>0</td><td>9030</td></tr><tr><td>&quot;C#CCOc1ccc(CNc…</td><td>1640</td><td>1653</td><td>146</td><td>5301385</td><td>0</td><td>26814</td></tr><tr><td>&quot;C#CCOc1ccc(CNc…</td><td>1640</td><td>1653</td><td>439</td><td>5301385</td><td>0</td><td>26814</td></tr><tr><td>&quot;C#CCOc1ccc(CNc…</td><td>1640</td><td>1653</td><td>196</td><td>5301385</td><td>0</td><td>26814</td></tr><tr><td>&quot;C#CCOc1ccc(CNc…</td><td>1640</td><td>1653</td><td>253</td><td>5301385</td><td>0</td><td>26814</td></tr><tr><td>&quot;C#CCOc1ccc(CNc…</td><td>1640</td><td>1653</td><td>1219</td><td>5301385</td><td>0</td><td>26814</td></tr><tr><td>&quot;C#CCOc1ccc(CNc…</td><td>1640</td><td>1653</td><td>604</td><td>543172</td><td>0</td><td>844</td></tr><tr><td>&quot;C#CCOc1ccc(CNc…</td><td>1640</td><td>1653</td><td>121</td><td>2571428</td><td>0</td><td>864</td></tr><tr><td>&hellip;</td><td>&hellip;</td><td>&hellip;</td><td>&hellip;</td><td>&hellip;</td><td>&hellip;</td><td>&hellip;</td></tr><tr><td>&quot;O=C(N[Dy])[C@@…</td><td>1270</td><td>405</td><td>1526</td><td>895340</td><td>1</td><td>1</td></tr><tr><td>&quot;C=CCC(Nc1nc(NC…</td><td>1470</td><td>1770</td><td>1736</td><td>1745176</td><td>1</td><td>2276</td></tr><tr><td>&quot;CCc1nc2ccccc2n…</td><td>1737</td><td>1997</td><td>936</td><td>4658097</td><td>1</td><td>17</td></tr><tr><td>&quot;COc1ccc(C[C@H]…</td><td>1611</td><td>1242</td><td>1056</td><td>5855032</td><td>1</td><td>47</td></tr><tr><td>&quot;CC(O)CCNc1nc(N…</td><td>2042</td><td>1402</td><td>113</td><td>5858112</td><td>1</td><td>2276</td></tr><tr><td>&quot;Cc1cccc(NC(=O)…</td><td>1413</td><td>856</td><td>382</td><td>4457006</td><td>1</td><td>1</td></tr><tr><td>&quot;O=C(N[Dy])c1cc…</td><td>1333</td><td>1936</td><td>1019</td><td>3466498</td><td>1</td><td>14</td></tr><tr><td>&quot;CCS(=O)(=O)c1c…</td><td>7</td><td>1491</td><td>1233</td><td>2101844</td><td>1</td><td>174</td></tr><tr><td>&quot;CCCCOc1ncc(-c2…</td><td>751</td><td>278</td><td>1072</td><td>1751409</td><td>1</td><td>24</td></tr><tr><td>&quot;COCC1(CCNc2nc(…</td><td>87</td><td>656</td><td>605</td><td>1987164</td><td>1</td><td>727</td></tr></tbody></table></div>"
      ],
      "text/plain": [
       "shape: (99_293_632, 7)\n",
       "┌───────────────────────────────────┬──────┬──────┬──────┬──────────────┬─────┬──────────────┐\n",
       "│ molecule                          ┆ bb1  ┆ bb2  ┆ bb3  ┆ scaffold_idx ┆ ori ┆ mol_per_scaf │\n",
       "│ ---                               ┆ ---  ┆ ---  ┆ ---  ┆ ---          ┆ --- ┆ ---          │\n",
       "│ str                               ┆ u16  ┆ u16  ┆ u16  ┆ i64          ┆ i32 ┆ u32          │\n",
       "╞═══════════════════════════════════╪══════╪══════╪══════╪══════════════╪═════╪══════════════╡\n",
       "│ C#CCOc1ccc(CNc2nc(NCC3CCCN3c3ccc… ┆ 1640 ┆ 1653 ┆ 765  ┆ 4283326      ┆ 0   ┆ 844          │\n",
       "│ C#CCOc1ccc(CNc2nc(NCc3cccc(Br)n3… ┆ 1640 ┆ 1653 ┆ 205  ┆ 4486646      ┆ 0   ┆ 9444         │\n",
       "│ C#CCOc1ccc(CNc2nc(NCc3ccc(OCC#C)… ┆ 1640 ┆ 1653 ┆ 1653 ┆ 1015728      ┆ 0   ┆ 9030         │\n",
       "│ C#CCOc1ccc(CNc2nc(NCCNC(=O)C(=C)… ┆ 1640 ┆ 1653 ┆ 146  ┆ 5301385      ┆ 0   ┆ 26814        │\n",
       "│ C#CCOc1ccc(CNc2nc(NCC(=O)NCC=C)n… ┆ 1640 ┆ 1653 ┆ 439  ┆ 5301385      ┆ 0   ┆ 26814        │\n",
       "│ C#CCOc1ccc(CNc2nc(NCC(C)OCC=C)nc… ┆ 1640 ┆ 1653 ┆ 196  ┆ 5301385      ┆ 0   ┆ 26814        │\n",
       "│ C#CCOc1ccc(CNc2nc(NCCCOCC=C)nc(N… ┆ 1640 ┆ 1653 ┆ 253  ┆ 5301385      ┆ 0   ┆ 26814        │\n",
       "│ C#CCOc1ccc(CNc2nc(NCCOCC=C)nc(N[… ┆ 1640 ┆ 1653 ┆ 1219 ┆ 5301385      ┆ 0   ┆ 26814        │\n",
       "│ C#CCOc1ccc(CNc2nc(Nc3cnn(C4CCN(C… ┆ 1640 ┆ 1653 ┆ 604  ┆ 543172       ┆ 0   ┆ 844          │\n",
       "│ C#CCOc1ccc(CNc2nc(Nc3n[nH]c4c3CN… ┆ 1640 ┆ 1653 ┆ 121  ┆ 2571428      ┆ 0   ┆ 864          │\n",
       "│ …                                 ┆ …    ┆ …    ┆ …    ┆ …            ┆ …   ┆ …            │\n",
       "│ O=C(N[Dy])[C@@H]1C=C(c2ccccc2C=C… ┆ 1270 ┆ 405  ┆ 1526 ┆ 895340       ┆ 1   ┆ 1            │\n",
       "│ C=CCC(Nc1nc(NCC(C)c2c(Cl)cccc2Cl… ┆ 1470 ┆ 1770 ┆ 1736 ┆ 1745176      ┆ 1   ┆ 2276         │\n",
       "│ CCc1nc2ccccc2n1CCC(=O)N1CCC[C@@H… ┆ 1737 ┆ 1997 ┆ 936  ┆ 4658097      ┆ 1   ┆ 17           │\n",
       "│ COc1ccc(C[C@H](Nc2nc(Nc3cc(C4CC4… ┆ 1611 ┆ 1242 ┆ 1056 ┆ 5855032      ┆ 1   ┆ 47           │\n",
       "│ CC(O)CCNc1nc(NCCCN2CCNC(=O)C2)nc… ┆ 2042 ┆ 1402 ┆ 113  ┆ 5858112      ┆ 1   ┆ 2276         │\n",
       "│ Cc1cccc(NC(=O)c2cccc(-c3ccc(C(=O… ┆ 1413 ┆ 856  ┆ 382  ┆ 4457006      ┆ 1   ┆ 1            │\n",
       "│ O=C(N[Dy])c1cc(-c2cc(O)ccc2F)cnc… ┆ 1333 ┆ 1936 ┆ 1019 ┆ 3466498      ┆ 1   ┆ 14           │\n",
       "│ CCS(=O)(=O)c1cc(C(=O)N[Dy])c(OC)… ┆ 7    ┆ 1491 ┆ 1233 ┆ 2101844      ┆ 1   ┆ 174          │\n",
       "│ CCCCOc1ncc(-c2cnc(N3CCN(C(=O)C4(… ┆ 751  ┆ 278  ┆ 1072 ┆ 1751409      ┆ 1   ┆ 24           │\n",
       "│ COCC1(CCNc2nc(NCC3CCC(SC)CC3)nc(… ┆ 87   ┆ 656  ┆ 605  ┆ 1987164      ┆ 1   ┆ 727          │\n",
       "└───────────────────────────────────┴──────┴──────┴──────┴──────────────┴─────┴──────────────┘"
      ]
     },
     "execution_count": 9,
     "metadata": {},
     "output_type": "execute_result"
    }
   ],
   "source": [
    "df = pl.concat([train_df.select(pl.col('molecule', 'bb1', 'bb2', 'bb3', 'scaffold_idx'), ori=pl.lit(0)),\n",
    "                test_df.select(pl.col('molecule', 'bb1', 'bb2', 'bb3', 'scaffold_idx'), ori= pl.lit(1))])\n",
    "df = df.with_columns(\n",
    "    pl.col('molecule').count().over('scaffold_idx').alias('mol_per_scaf')\n",
    ")\n",
    "\n",
    "df"
   ]
  },
  {
   "cell_type": "code",
   "execution_count": 10,
   "id": "b0b5720b-00c7-439e-9f0c-5a73c3ca6c4f",
   "metadata": {},
   "outputs": [
    {
     "data": {
      "text/plain": [
       "878022"
      ]
     },
     "execution_count": 10,
     "metadata": {},
     "output_type": "execute_result"
    }
   ],
   "source": [
    "df['ori'].sum()"
   ]
  },
  {
   "cell_type": "code",
   "execution_count": 11,
   "id": "11e8750f-3787-4f6a-b3ac-10b34368ac92",
   "metadata": {},
   "outputs": [
    {
     "data": {
      "text/html": [
       "<div><style>\n",
       ".dataframe > thead > tr,\n",
       ".dataframe > tbody > tr {\n",
       "  text-align: right;\n",
       "  white-space: pre-wrap;\n",
       "}\n",
       "</style>\n",
       "<small>shape: (99_293_632, 7)</small><table border=\"1\" class=\"dataframe\"><thead><tr><th>molecule</th><th>bb1</th><th>bb2</th><th>bb3</th><th>scaffold_idx</th><th>ori</th><th>mol_per_scaf</th></tr><tr><td>str</td><td>u16</td><td>u16</td><td>u16</td><td>i64</td><td>i32</td><td>u32</td></tr></thead><tbody><tr><td>&quot;C#CCOc1ccc(CNc…</td><td>1640</td><td>1653</td><td>765</td><td>4283326</td><td>0</td><td>844</td></tr><tr><td>&quot;C#CCOc1ccc(CNc…</td><td>1640</td><td>1653</td><td>205</td><td>4486646</td><td>0</td><td>9444</td></tr><tr><td>&quot;C#CCOc1ccc(CNc…</td><td>1640</td><td>1653</td><td>1653</td><td>1015728</td><td>0</td><td>9030</td></tr><tr><td>&quot;C#CCOc1ccc(CNc…</td><td>1640</td><td>1653</td><td>146</td><td>5301385</td><td>0</td><td>26814</td></tr><tr><td>&quot;C#CCOc1ccc(CNc…</td><td>1640</td><td>1653</td><td>439</td><td>5301385</td><td>0</td><td>26814</td></tr><tr><td>&quot;C#CCOc1ccc(CNc…</td><td>1640</td><td>1653</td><td>196</td><td>5301385</td><td>0</td><td>26814</td></tr><tr><td>&quot;C#CCOc1ccc(CNc…</td><td>1640</td><td>1653</td><td>253</td><td>5301385</td><td>0</td><td>26814</td></tr><tr><td>&quot;C#CCOc1ccc(CNc…</td><td>1640</td><td>1653</td><td>1219</td><td>5301385</td><td>0</td><td>26814</td></tr><tr><td>&quot;C#CCOc1ccc(CNc…</td><td>1640</td><td>1653</td><td>604</td><td>543172</td><td>0</td><td>844</td></tr><tr><td>&quot;C#CCOc1ccc(CNc…</td><td>1640</td><td>1653</td><td>121</td><td>2571428</td><td>0</td><td>864</td></tr><tr><td>&hellip;</td><td>&hellip;</td><td>&hellip;</td><td>&hellip;</td><td>&hellip;</td><td>&hellip;</td><td>&hellip;</td></tr><tr><td>&quot;O=C(N[Dy])[C@@…</td><td>1270</td><td>405</td><td>1526</td><td>895340</td><td>1</td><td>1</td></tr><tr><td>&quot;C=CCC(Nc1nc(NC…</td><td>1470</td><td>1770</td><td>1736</td><td>1745176</td><td>1</td><td>2276</td></tr><tr><td>&quot;CCc1nc2ccccc2n…</td><td>1737</td><td>1997</td><td>936</td><td>4658097</td><td>1</td><td>17</td></tr><tr><td>&quot;COc1ccc(C[C@H]…</td><td>1611</td><td>1242</td><td>1056</td><td>5855032</td><td>1</td><td>47</td></tr><tr><td>&quot;CC(O)CCNc1nc(N…</td><td>2042</td><td>1402</td><td>113</td><td>5858112</td><td>1</td><td>2276</td></tr><tr><td>&quot;Cc1cccc(NC(=O)…</td><td>1413</td><td>856</td><td>382</td><td>4457006</td><td>1</td><td>1</td></tr><tr><td>&quot;O=C(N[Dy])c1cc…</td><td>1333</td><td>1936</td><td>1019</td><td>3466498</td><td>1</td><td>14</td></tr><tr><td>&quot;CCS(=O)(=O)c1c…</td><td>7</td><td>1491</td><td>1233</td><td>2101844</td><td>1</td><td>174</td></tr><tr><td>&quot;CCCCOc1ncc(-c2…</td><td>751</td><td>278</td><td>1072</td><td>1751409</td><td>1</td><td>24</td></tr><tr><td>&quot;COCC1(CCNc2nc(…</td><td>87</td><td>656</td><td>605</td><td>1987164</td><td>1</td><td>727</td></tr></tbody></table></div>"
      ],
      "text/plain": [
       "shape: (99_293_632, 7)\n",
       "┌───────────────────────────────────┬──────┬──────┬──────┬──────────────┬─────┬──────────────┐\n",
       "│ molecule                          ┆ bb1  ┆ bb2  ┆ bb3  ┆ scaffold_idx ┆ ori ┆ mol_per_scaf │\n",
       "│ ---                               ┆ ---  ┆ ---  ┆ ---  ┆ ---          ┆ --- ┆ ---          │\n",
       "│ str                               ┆ u16  ┆ u16  ┆ u16  ┆ i64          ┆ i32 ┆ u32          │\n",
       "╞═══════════════════════════════════╪══════╪══════╪══════╪══════════════╪═════╪══════════════╡\n",
       "│ C#CCOc1ccc(CNc2nc(NCC3CCCN3c3ccc… ┆ 1640 ┆ 1653 ┆ 765  ┆ 4283326      ┆ 0   ┆ 844          │\n",
       "│ C#CCOc1ccc(CNc2nc(NCc3cccc(Br)n3… ┆ 1640 ┆ 1653 ┆ 205  ┆ 4486646      ┆ 0   ┆ 9444         │\n",
       "│ C#CCOc1ccc(CNc2nc(NCc3ccc(OCC#C)… ┆ 1640 ┆ 1653 ┆ 1653 ┆ 1015728      ┆ 0   ┆ 9030         │\n",
       "│ C#CCOc1ccc(CNc2nc(NCCNC(=O)C(=C)… ┆ 1640 ┆ 1653 ┆ 146  ┆ 5301385      ┆ 0   ┆ 26814        │\n",
       "│ C#CCOc1ccc(CNc2nc(NCC(=O)NCC=C)n… ┆ 1640 ┆ 1653 ┆ 439  ┆ 5301385      ┆ 0   ┆ 26814        │\n",
       "│ C#CCOc1ccc(CNc2nc(NCC(C)OCC=C)nc… ┆ 1640 ┆ 1653 ┆ 196  ┆ 5301385      ┆ 0   ┆ 26814        │\n",
       "│ C#CCOc1ccc(CNc2nc(NCCCOCC=C)nc(N… ┆ 1640 ┆ 1653 ┆ 253  ┆ 5301385      ┆ 0   ┆ 26814        │\n",
       "│ C#CCOc1ccc(CNc2nc(NCCOCC=C)nc(N[… ┆ 1640 ┆ 1653 ┆ 1219 ┆ 5301385      ┆ 0   ┆ 26814        │\n",
       "│ C#CCOc1ccc(CNc2nc(Nc3cnn(C4CCN(C… ┆ 1640 ┆ 1653 ┆ 604  ┆ 543172       ┆ 0   ┆ 844          │\n",
       "│ C#CCOc1ccc(CNc2nc(Nc3n[nH]c4c3CN… ┆ 1640 ┆ 1653 ┆ 121  ┆ 2571428      ┆ 0   ┆ 864          │\n",
       "│ …                                 ┆ …    ┆ …    ┆ …    ┆ …            ┆ …   ┆ …            │\n",
       "│ O=C(N[Dy])[C@@H]1C=C(c2ccccc2C=C… ┆ 1270 ┆ 405  ┆ 1526 ┆ 895340       ┆ 1   ┆ 1            │\n",
       "│ C=CCC(Nc1nc(NCC(C)c2c(Cl)cccc2Cl… ┆ 1470 ┆ 1770 ┆ 1736 ┆ 1745176      ┆ 1   ┆ 2276         │\n",
       "│ CCc1nc2ccccc2n1CCC(=O)N1CCC[C@@H… ┆ 1737 ┆ 1997 ┆ 936  ┆ 4658097      ┆ 1   ┆ 17           │\n",
       "│ COc1ccc(C[C@H](Nc2nc(Nc3cc(C4CC4… ┆ 1611 ┆ 1242 ┆ 1056 ┆ 5855032      ┆ 1   ┆ 47           │\n",
       "│ CC(O)CCNc1nc(NCCCN2CCNC(=O)C2)nc… ┆ 2042 ┆ 1402 ┆ 113  ┆ 5858112      ┆ 1   ┆ 2276         │\n",
       "│ Cc1cccc(NC(=O)c2cccc(-c3ccc(C(=O… ┆ 1413 ┆ 856  ┆ 382  ┆ 4457006      ┆ 1   ┆ 1            │\n",
       "│ O=C(N[Dy])c1cc(-c2cc(O)ccc2F)cnc… ┆ 1333 ┆ 1936 ┆ 1019 ┆ 3466498      ┆ 1   ┆ 14           │\n",
       "│ CCS(=O)(=O)c1cc(C(=O)N[Dy])c(OC)… ┆ 7    ┆ 1491 ┆ 1233 ┆ 2101844      ┆ 1   ┆ 174          │\n",
       "│ CCCCOc1ncc(-c2cnc(N3CCN(C(=O)C4(… ┆ 751  ┆ 278  ┆ 1072 ┆ 1751409      ┆ 1   ┆ 24           │\n",
       "│ COCC1(CCNc2nc(NCC3CCC(SC)CC3)nc(… ┆ 87   ┆ 656  ┆ 605  ┆ 1987164      ┆ 1   ┆ 727          │\n",
       "└───────────────────────────────────┴──────┴──────┴──────┴──────────────┴─────┴──────────────┘"
      ]
     },
     "execution_count": 11,
     "metadata": {},
     "output_type": "execute_result"
    }
   ],
   "source": [
    "df"
   ]
  },
  {
   "cell_type": "code",
   "execution_count": 12,
   "id": "f9c307e9-97d4-45a3-a9be-7b375fd5600b",
   "metadata": {},
   "outputs": [
    {
     "data": {
      "text/html": [
       "<div><style>\n",
       ".dataframe > thead > tr,\n",
       ".dataframe > tbody > tr {\n",
       "  text-align: right;\n",
       "  white-space: pre-wrap;\n",
       "}\n",
       "</style>\n",
       "<small>shape: (98_415_610, 7)</small><table border=\"1\" class=\"dataframe\"><thead><tr><th>molecule</th><th>bb1</th><th>bb2</th><th>bb3</th><th>scaffold_idx</th><th>ori</th><th>mol_per_scaf</th></tr><tr><td>str</td><td>u16</td><td>u16</td><td>u16</td><td>i64</td><td>i32</td><td>u32</td></tr></thead><tbody><tr><td>&quot;C#CCOc1ccc(CNc…</td><td>1640</td><td>1653</td><td>765</td><td>4283326</td><td>0</td><td>844</td></tr><tr><td>&quot;C#CCOc1ccc(CNc…</td><td>1640</td><td>1653</td><td>205</td><td>4486646</td><td>0</td><td>9444</td></tr><tr><td>&quot;C#CCOc1ccc(CNc…</td><td>1640</td><td>1653</td><td>1653</td><td>1015728</td><td>0</td><td>9030</td></tr><tr><td>&quot;C#CCOc1ccc(CNc…</td><td>1640</td><td>1653</td><td>146</td><td>5301385</td><td>0</td><td>26814</td></tr><tr><td>&quot;C#CCOc1ccc(CNc…</td><td>1640</td><td>1653</td><td>439</td><td>5301385</td><td>0</td><td>26814</td></tr><tr><td>&quot;C#CCOc1ccc(CNc…</td><td>1640</td><td>1653</td><td>196</td><td>5301385</td><td>0</td><td>26814</td></tr><tr><td>&quot;C#CCOc1ccc(CNc…</td><td>1640</td><td>1653</td><td>253</td><td>5301385</td><td>0</td><td>26814</td></tr><tr><td>&quot;C#CCOc1ccc(CNc…</td><td>1640</td><td>1653</td><td>1219</td><td>5301385</td><td>0</td><td>26814</td></tr><tr><td>&quot;C#CCOc1ccc(CNc…</td><td>1640</td><td>1653</td><td>604</td><td>543172</td><td>0</td><td>844</td></tr><tr><td>&quot;C#CCOc1ccc(CNc…</td><td>1640</td><td>1653</td><td>121</td><td>2571428</td><td>0</td><td>864</td></tr><tr><td>&hellip;</td><td>&hellip;</td><td>&hellip;</td><td>&hellip;</td><td>&hellip;</td><td>&hellip;</td><td>&hellip;</td></tr><tr><td>&quot;[N-]=[N+]=NCCC…</td><td>141</td><td>1415</td><td>536</td><td>4068980</td><td>0</td><td>276</td></tr><tr><td>&quot;[N-]=[N+]=NCCC…</td><td>141</td><td>1415</td><td>1367</td><td>2088996</td><td>0</td><td>20</td></tr><tr><td>&quot;[N-]=[N+]=NCCC…</td><td>141</td><td>1415</td><td>329</td><td>3192765</td><td>0</td><td>260</td></tr><tr><td>&quot;[N-]=[N+]=NCCC…</td><td>141</td><td>1415</td><td>757</td><td>4085046</td><td>0</td><td>20</td></tr><tr><td>&quot;[N-]=[N+]=NCCC…</td><td>141</td><td>1415</td><td>335</td><td>4087757</td><td>0</td><td>20</td></tr><tr><td>&quot;[N-]=[N+]=NCCC…</td><td>141</td><td>1415</td><td>1792</td><td>4674025</td><td>0</td><td>20</td></tr><tr><td>&quot;[N-]=[N+]=NCCC…</td><td>141</td><td>1415</td><td>1178</td><td>5240137</td><td>0</td><td>60</td></tr><tr><td>&quot;[N-]=[N+]=NCCC…</td><td>141</td><td>1415</td><td>1699</td><td>5240137</td><td>0</td><td>60</td></tr><tr><td>&quot;[N-]=[N+]=NCCC…</td><td>141</td><td>1415</td><td>1308</td><td>3617024</td><td>0</td><td>20</td></tr><tr><td>&quot;[N-]=[N+]=NCCC…</td><td>141</td><td>1415</td><td>1415</td><td>268351</td><td>0</td><td>20</td></tr></tbody></table></div>"
      ],
      "text/plain": [
       "shape: (98_415_610, 7)\n",
       "┌───────────────────────────────────┬──────┬──────┬──────┬──────────────┬─────┬──────────────┐\n",
       "│ molecule                          ┆ bb1  ┆ bb2  ┆ bb3  ┆ scaffold_idx ┆ ori ┆ mol_per_scaf │\n",
       "│ ---                               ┆ ---  ┆ ---  ┆ ---  ┆ ---          ┆ --- ┆ ---          │\n",
       "│ str                               ┆ u16  ┆ u16  ┆ u16  ┆ i64          ┆ i32 ┆ u32          │\n",
       "╞═══════════════════════════════════╪══════╪══════╪══════╪══════════════╪═════╪══════════════╡\n",
       "│ C#CCOc1ccc(CNc2nc(NCC3CCCN3c3ccc… ┆ 1640 ┆ 1653 ┆ 765  ┆ 4283326      ┆ 0   ┆ 844          │\n",
       "│ C#CCOc1ccc(CNc2nc(NCc3cccc(Br)n3… ┆ 1640 ┆ 1653 ┆ 205  ┆ 4486646      ┆ 0   ┆ 9444         │\n",
       "│ C#CCOc1ccc(CNc2nc(NCc3ccc(OCC#C)… ┆ 1640 ┆ 1653 ┆ 1653 ┆ 1015728      ┆ 0   ┆ 9030         │\n",
       "│ C#CCOc1ccc(CNc2nc(NCCNC(=O)C(=C)… ┆ 1640 ┆ 1653 ┆ 146  ┆ 5301385      ┆ 0   ┆ 26814        │\n",
       "│ C#CCOc1ccc(CNc2nc(NCC(=O)NCC=C)n… ┆ 1640 ┆ 1653 ┆ 439  ┆ 5301385      ┆ 0   ┆ 26814        │\n",
       "│ C#CCOc1ccc(CNc2nc(NCC(C)OCC=C)nc… ┆ 1640 ┆ 1653 ┆ 196  ┆ 5301385      ┆ 0   ┆ 26814        │\n",
       "│ C#CCOc1ccc(CNc2nc(NCCCOCC=C)nc(N… ┆ 1640 ┆ 1653 ┆ 253  ┆ 5301385      ┆ 0   ┆ 26814        │\n",
       "│ C#CCOc1ccc(CNc2nc(NCCOCC=C)nc(N[… ┆ 1640 ┆ 1653 ┆ 1219 ┆ 5301385      ┆ 0   ┆ 26814        │\n",
       "│ C#CCOc1ccc(CNc2nc(Nc3cnn(C4CCN(C… ┆ 1640 ┆ 1653 ┆ 604  ┆ 543172       ┆ 0   ┆ 844          │\n",
       "│ C#CCOc1ccc(CNc2nc(Nc3n[nH]c4c3CN… ┆ 1640 ┆ 1653 ┆ 121  ┆ 2571428      ┆ 0   ┆ 864          │\n",
       "│ …                                 ┆ …    ┆ …    ┆ …    ┆ …            ┆ …   ┆ …            │\n",
       "│ [N-]=[N+]=NCCC[C@H](Nc1nc(Nc2ncc… ┆ 141  ┆ 1415 ┆ 536  ┆ 4068980      ┆ 0   ┆ 276          │\n",
       "│ [N-]=[N+]=NCCC[C@H](Nc1nc(Nc2ncn… ┆ 141  ┆ 1415 ┆ 1367 ┆ 2088996      ┆ 0   ┆ 20           │\n",
       "│ [N-]=[N+]=NCCC[C@H](Nc1nc(Nc2ncn… ┆ 141  ┆ 1415 ┆ 329  ┆ 3192765      ┆ 0   ┆ 260          │\n",
       "│ [N-]=[N+]=NCCC[C@H](Nc1nc(Nc2noc… ┆ 141  ┆ 1415 ┆ 757  ┆ 4085046      ┆ 0   ┆ 20           │\n",
       "│ [N-]=[N+]=NCCC[C@H](Nc1nc(Nc2ncn… ┆ 141  ┆ 1415 ┆ 335  ┆ 4087757      ┆ 0   ┆ 20           │\n",
       "│ [N-]=[N+]=NCCC[C@H](Nc1nc(Nc2noc… ┆ 141  ┆ 1415 ┆ 1792 ┆ 4674025      ┆ 0   ┆ 20           │\n",
       "│ [N-]=[N+]=NCCC[C@H](Nc1nc(Nc2nnc… ┆ 141  ┆ 1415 ┆ 1178 ┆ 5240137      ┆ 0   ┆ 60           │\n",
       "│ [N-]=[N+]=NCCC[C@H](Nc1nc(Nc2nnc… ┆ 141  ┆ 1415 ┆ 1699 ┆ 5240137      ┆ 0   ┆ 60           │\n",
       "│ [N-]=[N+]=NCCC[C@H](Nc1nc(Nc2nnn… ┆ 141  ┆ 1415 ┆ 1308 ┆ 3617024      ┆ 0   ┆ 20           │\n",
       "│ [N-]=[N+]=NCCC[C@H](Nc1nc(Nc2noc… ┆ 141  ┆ 1415 ┆ 1415 ┆ 268351       ┆ 0   ┆ 20           │\n",
       "└───────────────────────────────────┴──────┴──────┴──────┴──────────────┴─────┴──────────────┘"
      ]
     },
     "execution_count": 12,
     "metadata": {},
     "output_type": "execute_result"
    }
   ],
   "source": [
    "train_df = df.filter(pl.col('ori') == 0)\n",
    "train_df"
   ]
  },
  {
   "cell_type": "code",
   "execution_count": 13,
   "id": "2a697840-e7b5-46e1-85b9-f3af1c1438dc",
   "metadata": {},
   "outputs": [
    {
     "data": {
      "text/html": [
       "<div><style>\n",
       ".dataframe > thead > tr,\n",
       ".dataframe > tbody > tr {\n",
       "  text-align: right;\n",
       "  white-space: pre-wrap;\n",
       "}\n",
       "</style>\n",
       "<small>shape: (7,)</small><table border=\"1\" class=\"dataframe\"><thead><tr><th>mol_per_scaf</th></tr><tr><td>u32</td></tr></thead><tbody><tr><td>6005</td></tr><tr><td>6009</td></tr><tr><td>6016</td></tr><tr><td>6039</td></tr><tr><td>6052</td></tr><tr><td>6113</td></tr><tr><td>6116</td></tr></tbody></table></div>"
      ],
      "text/plain": [
       "shape: (7,)\n",
       "Series: 'mol_per_scaf' [u32]\n",
       "[\n",
       "\t6005\n",
       "\t6009\n",
       "\t6016\n",
       "\t6039\n",
       "\t6052\n",
       "\t6113\n",
       "\t6116\n",
       "]"
      ]
     },
     "execution_count": 13,
     "metadata": {},
     "output_type": "execute_result"
    }
   ],
   "source": [
    "train_df.filter(pl.col('mol_per_scaf').is_between(6000, 6116))['mol_per_scaf'].unique()"
   ]
  },
  {
   "cell_type": "code",
   "execution_count": 14,
   "id": "a53ada1c-b922-45ae-9708-d658c002a639",
   "metadata": {},
   "outputs": [
    {
     "data": {
      "text/html": [
       "<div><style>\n",
       ".dataframe > thead > tr,\n",
       ".dataframe > tbody > tr {\n",
       "  text-align: right;\n",
       "  white-space: pre-wrap;\n",
       "}\n",
       "</style>\n",
       "<small>shape: (878_022, 7)</small><table border=\"1\" class=\"dataframe\"><thead><tr><th>molecule</th><th>bb1</th><th>bb2</th><th>bb3</th><th>scaffold_idx</th><th>ori</th><th>mol_per_scaf</th></tr><tr><td>str</td><td>u16</td><td>u16</td><td>u16</td><td>i64</td><td>i32</td><td>u32</td></tr></thead><tbody><tr><td>&quot;Cc1ccnc2ccc(-c…</td><td>149</td><td>836</td><td>2040</td><td>1860147</td><td>1</td><td>1</td></tr><tr><td>&quot;COc1cc(OC)cc(-…</td><td>1270</td><td>297</td><td>446</td><td>1652571</td><td>1</td><td>6</td></tr><tr><td>&quot;COC(=O)c1ccc2n…</td><td>1022</td><td>654</td><td>1657</td><td>359321</td><td>1</td><td>167</td></tr><tr><td>&quot;O=C(N[Dy])c1nc…</td><td>504</td><td>724</td><td>152</td><td>3653278</td><td>1</td><td>2</td></tr><tr><td>&quot;CCCc1ccc(-c2cc…</td><td>1249</td><td>1144</td><td>978</td><td>3336239</td><td>1</td><td>1</td></tr><tr><td>&quot;N#Cc1ccc(Nc2nc…</td><td>359</td><td>1279</td><td>65</td><td>3500670</td><td>1</td><td>3612</td></tr><tr><td>&quot;CC1(C)CC(C(=O)…</td><td>592</td><td>705</td><td>1312</td><td>4905609</td><td>1</td><td>2</td></tr><tr><td>&quot;O=C(N[Dy])[C@@…</td><td>198</td><td>1082</td><td>78</td><td>3226661</td><td>1</td><td>1</td></tr><tr><td>&quot;O=C1CC(C(=O)N2…</td><td>542</td><td>607</td><td>1672</td><td>2726008</td><td>1</td><td>1</td></tr><tr><td>&quot;Cc1ccccc1-c1cs…</td><td>1577</td><td>1011</td><td>955</td><td>323982</td><td>1</td><td>993</td></tr><tr><td>&hellip;</td><td>&hellip;</td><td>&hellip;</td><td>&hellip;</td><td>&hellip;</td><td>&hellip;</td><td>&hellip;</td></tr><tr><td>&quot;O=C(N[Dy])[C@@…</td><td>1270</td><td>405</td><td>1526</td><td>895340</td><td>1</td><td>1</td></tr><tr><td>&quot;C=CCC(Nc1nc(NC…</td><td>1470</td><td>1770</td><td>1736</td><td>1745176</td><td>1</td><td>2276</td></tr><tr><td>&quot;CCc1nc2ccccc2n…</td><td>1737</td><td>1997</td><td>936</td><td>4658097</td><td>1</td><td>17</td></tr><tr><td>&quot;COc1ccc(C[C@H]…</td><td>1611</td><td>1242</td><td>1056</td><td>5855032</td><td>1</td><td>47</td></tr><tr><td>&quot;CC(O)CCNc1nc(N…</td><td>2042</td><td>1402</td><td>113</td><td>5858112</td><td>1</td><td>2276</td></tr><tr><td>&quot;Cc1cccc(NC(=O)…</td><td>1413</td><td>856</td><td>382</td><td>4457006</td><td>1</td><td>1</td></tr><tr><td>&quot;O=C(N[Dy])c1cc…</td><td>1333</td><td>1936</td><td>1019</td><td>3466498</td><td>1</td><td>14</td></tr><tr><td>&quot;CCS(=O)(=O)c1c…</td><td>7</td><td>1491</td><td>1233</td><td>2101844</td><td>1</td><td>174</td></tr><tr><td>&quot;CCCCOc1ncc(-c2…</td><td>751</td><td>278</td><td>1072</td><td>1751409</td><td>1</td><td>24</td></tr><tr><td>&quot;COCC1(CCNc2nc(…</td><td>87</td><td>656</td><td>605</td><td>1987164</td><td>1</td><td>727</td></tr></tbody></table></div>"
      ],
      "text/plain": [
       "shape: (878_022, 7)\n",
       "┌───────────────────────────────────┬──────┬──────┬──────┬──────────────┬─────┬──────────────┐\n",
       "│ molecule                          ┆ bb1  ┆ bb2  ┆ bb3  ┆ scaffold_idx ┆ ori ┆ mol_per_scaf │\n",
       "│ ---                               ┆ ---  ┆ ---  ┆ ---  ┆ ---          ┆ --- ┆ ---          │\n",
       "│ str                               ┆ u16  ┆ u16  ┆ u16  ┆ i64          ┆ i32 ┆ u32          │\n",
       "╞═══════════════════════════════════╪══════╪══════╪══════╪══════════════╪═════╪══════════════╡\n",
       "│ Cc1ccnc2ccc(-c3cccc([C@@H]4CN(C(… ┆ 149  ┆ 836  ┆ 2040 ┆ 1860147      ┆ 1   ┆ 1            │\n",
       "│ COc1cc(OC)cc(-c2ccccc2C2=C[C@@H]… ┆ 1270 ┆ 297  ┆ 446  ┆ 1652571      ┆ 1   ┆ 6            │\n",
       "│ COC(=O)c1ccc2nc(Nc3nc(Nc4cc(Cl)n… ┆ 1022 ┆ 654  ┆ 1657 ┆ 359321       ┆ 1   ┆ 167          │\n",
       "│ O=C(N[Dy])c1nc(Br)cnc1Nc1nc(Nc2c… ┆ 504  ┆ 724  ┆ 152  ┆ 3653278      ┆ 1   ┆ 2            │\n",
       "│ CCCc1ccc(-c2ccc(-c3ccc4c(c3)c(C(… ┆ 1249 ┆ 1144 ┆ 978  ┆ 3336239      ┆ 1   ┆ 1            │\n",
       "│ N#Cc1ccc(Nc2nc(NCc3cccnc3-n3ccnc… ┆ 359  ┆ 1279 ┆ 65   ┆ 3500670      ┆ 1   ┆ 3612         │\n",
       "│ CC1(C)CC(C(=O)N2C[C@H](Oc3ccccc3… ┆ 592  ┆ 705  ┆ 1312 ┆ 4905609      ┆ 1   ┆ 2            │\n",
       "│ O=C(N[Dy])[C@@H]1C=C(c2ccc(C=C3C… ┆ 198  ┆ 1082 ┆ 78   ┆ 3226661      ┆ 1   ┆ 1            │\n",
       "│ O=C1CC(C(=O)N2CCN(c3cc(C(=O)N[Dy… ┆ 542  ┆ 607  ┆ 1672 ┆ 2726008      ┆ 1   ┆ 1            │\n",
       "│ Cc1ccccc1-c1csc(Nc2nc(NCc3cn(C)n… ┆ 1577 ┆ 1011 ┆ 955  ┆ 323982       ┆ 1   ┆ 993          │\n",
       "│ …                                 ┆ …    ┆ …    ┆ …    ┆ …            ┆ …   ┆ …            │\n",
       "│ O=C(N[Dy])[C@@H]1C=C(c2ccccc2C=C… ┆ 1270 ┆ 405  ┆ 1526 ┆ 895340       ┆ 1   ┆ 1            │\n",
       "│ C=CCC(Nc1nc(NCC(C)c2c(Cl)cccc2Cl… ┆ 1470 ┆ 1770 ┆ 1736 ┆ 1745176      ┆ 1   ┆ 2276         │\n",
       "│ CCc1nc2ccccc2n1CCC(=O)N1CCC[C@@H… ┆ 1737 ┆ 1997 ┆ 936  ┆ 4658097      ┆ 1   ┆ 17           │\n",
       "│ COc1ccc(C[C@H](Nc2nc(Nc3cc(C4CC4… ┆ 1611 ┆ 1242 ┆ 1056 ┆ 5855032      ┆ 1   ┆ 47           │\n",
       "│ CC(O)CCNc1nc(NCCCN2CCNC(=O)C2)nc… ┆ 2042 ┆ 1402 ┆ 113  ┆ 5858112      ┆ 1   ┆ 2276         │\n",
       "│ Cc1cccc(NC(=O)c2cccc(-c3ccc(C(=O… ┆ 1413 ┆ 856  ┆ 382  ┆ 4457006      ┆ 1   ┆ 1            │\n",
       "│ O=C(N[Dy])c1cc(-c2cc(O)ccc2F)cnc… ┆ 1333 ┆ 1936 ┆ 1019 ┆ 3466498      ┆ 1   ┆ 14           │\n",
       "│ CCS(=O)(=O)c1cc(C(=O)N[Dy])c(OC)… ┆ 7    ┆ 1491 ┆ 1233 ┆ 2101844      ┆ 1   ┆ 174          │\n",
       "│ CCCCOc1ncc(-c2cnc(N3CCN(C(=O)C4(… ┆ 751  ┆ 278  ┆ 1072 ┆ 1751409      ┆ 1   ┆ 24           │\n",
       "│ COCC1(CCNc2nc(NCC3CCC(SC)CC3)nc(… ┆ 87   ┆ 656  ┆ 605  ┆ 1987164      ┆ 1   ┆ 727          │\n",
       "└───────────────────────────────────┴──────┴──────┴──────┴──────────────┴─────┴──────────────┘"
      ]
     },
     "execution_count": 14,
     "metadata": {},
     "output_type": "execute_result"
    }
   ],
   "source": [
    "test_df = df.filter(pl.col('ori') == 1)\n",
    "test_df"
   ]
  },
  {
   "cell_type": "code",
   "execution_count": 15,
   "id": "343b7ae8-ffcd-43e2-a88e-c9596781f7fa",
   "metadata": {},
   "outputs": [
    {
     "data": {
      "text/plain": [
       "1107117"
      ]
     },
     "execution_count": 15,
     "metadata": {},
     "output_type": "execute_result"
    }
   ],
   "source": [
    "369039 * 3"
   ]
  },
  {
   "cell_type": "code",
   "execution_count": null,
   "id": "026bfe0c-dfad-4e23-bd49-e9578e8409f2",
   "metadata": {},
   "outputs": [],
   "source": []
  },
  {
   "cell_type": "code",
   "execution_count": 16,
   "id": "82beb6de-3f6d-4561-b632-8af59713fcca",
   "metadata": {},
   "outputs": [
    {
     "name": "stdout",
     "output_type": "stream",
     "text": [
      "Number of test only building blocks: 965\n"
     ]
    },
    {
     "data": {
      "text/html": [
       "<div><style>\n",
       ".dataframe > thead > tr,\n",
       ".dataframe > tbody > tr {\n",
       "  text-align: right;\n",
       "  white-space: pre-wrap;\n",
       "}\n",
       "</style>\n",
       "<small>shape: (369_039, 7)</small><table border=\"1\" class=\"dataframe\"><thead><tr><th>molecule</th><th>bb1</th><th>bb2</th><th>bb3</th><th>scaffold_idx</th><th>ori</th><th>mol_per_scaf</th></tr><tr><td>str</td><td>u16</td><td>u16</td><td>u16</td><td>i64</td><td>i32</td><td>u32</td></tr></thead><tbody><tr><td>&quot;COC(=O)c1ccc2n…</td><td>1022</td><td>654</td><td>1657</td><td>359321</td><td>1</td><td>167</td></tr><tr><td>&quot;O=C(N[Dy])c1nc…</td><td>504</td><td>724</td><td>152</td><td>3653278</td><td>1</td><td>2</td></tr><tr><td>&quot;Cc1ccccc1-c1cs…</td><td>1577</td><td>1011</td><td>955</td><td>323982</td><td>1</td><td>993</td></tr><tr><td>&quot;Cc1nn(C)c2ncc(…</td><td>977</td><td>730</td><td>1841</td><td>1232031</td><td>1</td><td>288</td></tr><tr><td>&quot;COC(=O)c1ccc2n…</td><td>141</td><td>24</td><td>1657</td><td>957473</td><td>1</td><td>188</td></tr><tr><td>&quot;COc1ncc(Nc2nc(…</td><td>1123</td><td>830</td><td>1220</td><td>220317</td><td>1</td><td>1329</td></tr><tr><td>&quot;C#CC[C@@H](CC(…</td><td>1640</td><td>1242</td><td>2026</td><td>1281519</td><td>1</td><td>6116</td></tr><tr><td>&quot;Cc1cc(F)ccc1Nc…</td><td>1575</td><td>1199</td><td>712</td><td>2651247</td><td>1</td><td>776</td></tr><tr><td>&quot;COc1cc(C(=O)N[…</td><td>1422</td><td>1556</td><td>596</td><td>483951</td><td>1</td><td>659</td></tr><tr><td>&quot;Cc1ccc(CNc2nc(…</td><td>1993</td><td>1146</td><td>975</td><td>1062125</td><td>1</td><td>11</td></tr><tr><td>&hellip;</td><td>&hellip;</td><td>&hellip;</td><td>&hellip;</td><td>&hellip;</td><td>&hellip;</td><td>&hellip;</td></tr><tr><td>&quot;CCOC(=O)c1cnc(…</td><td>2058</td><td>1757</td><td>615</td><td>5229411</td><td>1</td><td>219</td></tr><tr><td>&quot;Cc1cc(=O)oc2cc…</td><td>653</td><td>85</td><td>712</td><td>5630826</td><td>1</td><td>87</td></tr><tr><td>&quot;Cc1nn(C)c2ncc(…</td><td>971</td><td>1177</td><td>1841</td><td>2517935</td><td>1</td><td>2276</td></tr><tr><td>&quot;Cn1ccnc1Nc1nc(…</td><td>699</td><td>1992</td><td>233</td><td>5281750</td><td>1</td><td>56</td></tr><tr><td>&quot;COc1cc(F)c(Cl)…</td><td>1674</td><td>154</td><td>1398</td><td>30036</td><td>1</td><td>2305</td></tr><tr><td>&quot;COC(=O)c1cscc1…</td><td>1493</td><td>1266</td><td>1194</td><td>2126369</td><td>1</td><td>24</td></tr><tr><td>&quot;C=CCC(Nc1nc(NC…</td><td>1470</td><td>1770</td><td>1736</td><td>1745176</td><td>1</td><td>2276</td></tr><tr><td>&quot;COc1ccc(C[C@H]…</td><td>1611</td><td>1242</td><td>1056</td><td>5855032</td><td>1</td><td>47</td></tr><tr><td>&quot;CC(O)CCNc1nc(N…</td><td>2042</td><td>1402</td><td>113</td><td>5858112</td><td>1</td><td>2276</td></tr><tr><td>&quot;CCS(=O)(=O)c1c…</td><td>7</td><td>1491</td><td>1233</td><td>2101844</td><td>1</td><td>174</td></tr></tbody></table></div>"
      ],
      "text/plain": [
       "shape: (369_039, 7)\n",
       "┌───────────────────────────────────┬──────┬──────┬──────┬──────────────┬─────┬──────────────┐\n",
       "│ molecule                          ┆ bb1  ┆ bb2  ┆ bb3  ┆ scaffold_idx ┆ ori ┆ mol_per_scaf │\n",
       "│ ---                               ┆ ---  ┆ ---  ┆ ---  ┆ ---          ┆ --- ┆ ---          │\n",
       "│ str                               ┆ u16  ┆ u16  ┆ u16  ┆ i64          ┆ i32 ┆ u32          │\n",
       "╞═══════════════════════════════════╪══════╪══════╪══════╪══════════════╪═════╪══════════════╡\n",
       "│ COC(=O)c1ccc2nc(Nc3nc(Nc4cc(Cl)n… ┆ 1022 ┆ 654  ┆ 1657 ┆ 359321       ┆ 1   ┆ 167          │\n",
       "│ O=C(N[Dy])c1nc(Br)cnc1Nc1nc(Nc2c… ┆ 504  ┆ 724  ┆ 152  ┆ 3653278      ┆ 1   ┆ 2            │\n",
       "│ Cc1ccccc1-c1csc(Nc2nc(NCc3cn(C)n… ┆ 1577 ┆ 1011 ┆ 955  ┆ 323982       ┆ 1   ┆ 993          │\n",
       "│ Cc1nn(C)c2ncc(CNc3nc(Nc4ccc(F)nc… ┆ 977  ┆ 730  ┆ 1841 ┆ 1232031      ┆ 1   ┆ 288          │\n",
       "│ COC(=O)c1ccc2nc(Nc3nc(NCC4(N5CCO… ┆ 141  ┆ 24   ┆ 1657 ┆ 957473       ┆ 1   ┆ 188          │\n",
       "│ COc1ncc(Nc2nc(Nc3nc4ccc(C#N)cc4s… ┆ 1123 ┆ 830  ┆ 1220 ┆ 220317       ┆ 1   ┆ 1329         │\n",
       "│ C#CC[C@@H](CC(=O)N[Dy])Nc1nc(Nc2… ┆ 1640 ┆ 1242 ┆ 2026 ┆ 1281519      ┆ 1   ┆ 6116         │\n",
       "│ Cc1cc(F)ccc1Nc1nc(Nc2nc(OCc3cccc… ┆ 1575 ┆ 1199 ┆ 712  ┆ 2651247      ┆ 1   ┆ 776          │\n",
       "│ COc1cc(C(=O)N[Dy])c(N)cc1Nc1nc(N… ┆ 1422 ┆ 1556 ┆ 596  ┆ 483951       ┆ 1   ┆ 659          │\n",
       "│ Cc1ccc(CNc2nc(NCCN3C(=O)c4ccccc4… ┆ 1993 ┆ 1146 ┆ 975  ┆ 1062125      ┆ 1   ┆ 11           │\n",
       "│ …                                 ┆ …    ┆ …    ┆ …    ┆ …            ┆ …   ┆ …            │\n",
       "│ CCOC(=O)c1cnc(Nc2nc(NCc3nc(-c4cc… ┆ 2058 ┆ 1757 ┆ 615  ┆ 5229411      ┆ 1   ┆ 219          │\n",
       "│ Cc1cc(=O)oc2cc(Nc3nc(Nc4nc(OCc5c… ┆ 653  ┆ 85   ┆ 712  ┆ 5630826      ┆ 1   ┆ 87           │\n",
       "│ Cc1nn(C)c2ncc(CNc3nc(NCC(F)(F)C(… ┆ 971  ┆ 1177 ┆ 1841 ┆ 2517935      ┆ 1   ┆ 2276         │\n",
       "│ Cn1ccnc1Nc1nc(Nc2nc(-c3cccc([N+]… ┆ 699  ┆ 1992 ┆ 233  ┆ 5281750      ┆ 1   ┆ 56           │\n",
       "│ COc1cc(F)c(Cl)cc1Nc1nc(NCC(=O)N2… ┆ 1674 ┆ 154  ┆ 1398 ┆ 30036        ┆ 1   ┆ 2305         │\n",
       "│ COC(=O)c1cscc1Nc1nc(NCC2(O)CCSC2… ┆ 1493 ┆ 1266 ┆ 1194 ┆ 2126369      ┆ 1   ┆ 24           │\n",
       "│ C=CCC(Nc1nc(NCC(C)c2c(Cl)cccc2Cl… ┆ 1470 ┆ 1770 ┆ 1736 ┆ 1745176      ┆ 1   ┆ 2276         │\n",
       "│ COc1ccc(C[C@H](Nc2nc(Nc3cc(C4CC4… ┆ 1611 ┆ 1242 ┆ 1056 ┆ 5855032      ┆ 1   ┆ 47           │\n",
       "│ CC(O)CCNc1nc(NCCCN2CCNC(=O)C2)nc… ┆ 2042 ┆ 1402 ┆ 113  ┆ 5858112      ┆ 1   ┆ 2276         │\n",
       "│ CCS(=O)(=O)c1cc(C(=O)N[Dy])c(OC)… ┆ 7    ┆ 1491 ┆ 1233 ┆ 2101844      ┆ 1   ┆ 174          │\n",
       "└───────────────────────────────────┴──────┴──────┴──────┴──────────────┴─────┴──────────────┘"
      ]
     },
     "execution_count": 16,
     "metadata": {},
     "output_type": "execute_result"
    }
   ],
   "source": [
    "all_bbs = bbs_meta['all_bbs']\n",
    "test_only_bbs = set(bbs_meta['test_bbs']).difference(bbs_meta['train_bbs'])\n",
    "print('Number of test only building blocks:', len(test_only_bbs))\n",
    "test_only_bb_idxs = [all_bbs.index(bb) for bb in test_only_bbs]\n",
    "test2_df = df.filter(~((pl.col('bb1').is_in(test_only_bb_idxs) | pl.col('bb2').is_in(test_only_bb_idxs) | pl.col('bb3').is_in(test_only_bb_idxs))) & pl.col('ori') == 1)\n",
    "test2_df"
   ]
  },
  {
   "cell_type": "code",
   "execution_count": 17,
   "id": "98846671-9156-4649-95c0-8316ef190013",
   "metadata": {},
   "outputs": [
    {
     "data": {
      "text/html": [
       "<div><style>\n",
       ".dataframe > thead > tr,\n",
       ".dataframe > tbody > tr {\n",
       "  text-align: right;\n",
       "  white-space: pre-wrap;\n",
       "}\n",
       "</style>\n",
       "<small>shape: (1, 7)</small><table border=\"1\" class=\"dataframe\"><thead><tr><th>molecule</th><th>bb1</th><th>bb2</th><th>bb3</th><th>scaffold_idx</th><th>ori</th><th>mol_per_scaf</th></tr><tr><td>u32</td><td>u32</td><td>u32</td><td>u32</td><td>u32</td><td>u32</td><td>u32</td></tr></thead><tbody><tr><td>508983</td><td>70</td><td>447</td><td>518</td><td>245841</td><td>1</td><td>1014</td></tr></tbody></table></div>"
      ],
      "text/plain": [
       "shape: (1, 7)\n",
       "┌──────────┬─────┬─────┬─────┬──────────────┬─────┬──────────────┐\n",
       "│ molecule ┆ bb1 ┆ bb2 ┆ bb3 ┆ scaffold_idx ┆ ori ┆ mol_per_scaf │\n",
       "│ ---      ┆ --- ┆ --- ┆ --- ┆ ---          ┆ --- ┆ ---          │\n",
       "│ u32      ┆ u32 ┆ u32 ┆ u32 ┆ u32          ┆ u32 ┆ u32          │\n",
       "╞══════════╪═════╪═════╪═════╪══════════════╪═════╪══════════════╡\n",
       "│ 508983   ┆ 70  ┆ 447 ┆ 518 ┆ 245841       ┆ 1   ┆ 1014         │\n",
       "└──────────┴─────┴─────┴─────┴──────────────┴─────┴──────────────┘"
      ]
     },
     "execution_count": 17,
     "metadata": {},
     "output_type": "execute_result"
    }
   ],
   "source": [
    "test1_df = df.filter(((pl.col('bb1').is_in(test_only_bb_idxs) | pl.col('bb2').is_in(test_only_bb_idxs) | pl.col('bb3').is_in(test_only_bb_idxs))) & pl.col('ori') == 1)\n",
    "test1_df.select(pl.col('*').n_unique())"
   ]
  },
  {
   "cell_type": "code",
   "execution_count": 18,
   "id": "88f7fe4c-36a8-4040-9be1-4e222b277001",
   "metadata": {},
   "outputs": [
    {
     "data": {
      "text/plain": [
       "965"
      ]
     },
     "execution_count": 18,
     "metadata": {},
     "output_type": "execute_result"
    }
   ],
   "source": [
    "len(list(set(test1_df['bb1'].to_list() + test1_df['bb2'].to_list() + test1_df['bb3'].to_list())))"
   ]
  },
  {
   "cell_type": "code",
   "execution_count": 19,
   "id": "7fe3e50c-a5b7-417d-9c1d-5c64a35a5a8c",
   "metadata": {},
   "outputs": [
    {
     "data": {
      "text/plain": [
       "1526949"
      ]
     },
     "execution_count": 19,
     "metadata": {},
     "output_type": "execute_result"
    }
   ],
   "source": [
    "508_983 * 3"
   ]
  },
  {
   "cell_type": "code",
   "execution_count": 20,
   "id": "7ffff6af-fa8f-4d72-acb6-cb3f0a07a18e",
   "metadata": {},
   "outputs": [
    {
     "data": {
      "text/html": [
       "<div><style>\n",
       ".dataframe > thead > tr,\n",
       ".dataframe > tbody > tr {\n",
       "  text-align: right;\n",
       "  white-space: pre-wrap;\n",
       "}\n",
       "</style>\n",
       "<small>shape: (1, 7)</small><table border=\"1\" class=\"dataframe\"><thead><tr><th>molecule</th><th>bb1</th><th>bb2</th><th>bb3</th><th>scaffold_idx</th><th>ori</th><th>mol_per_scaf</th></tr><tr><td>u32</td><td>u32</td><td>u32</td><td>u32</td><td>u32</td><td>u32</td><td>u32</td></tr></thead><tbody><tr><td>369039</td><td>271</td><td>693</td><td>871</td><td>123824</td><td>1</td><td>2331</td></tr></tbody></table></div>"
      ],
      "text/plain": [
       "shape: (1, 7)\n",
       "┌──────────┬─────┬─────┬─────┬──────────────┬─────┬──────────────┐\n",
       "│ molecule ┆ bb1 ┆ bb2 ┆ bb3 ┆ scaffold_idx ┆ ori ┆ mol_per_scaf │\n",
       "│ ---      ┆ --- ┆ --- ┆ --- ┆ ---          ┆ --- ┆ ---          │\n",
       "│ u32      ┆ u32 ┆ u32 ┆ u32 ┆ u32          ┆ u32 ┆ u32          │\n",
       "╞══════════╪═════╪═════╪═════╪══════════════╪═════╪══════════════╡\n",
       "│ 369039   ┆ 271 ┆ 693 ┆ 871 ┆ 123824       ┆ 1   ┆ 2331         │\n",
       "└──────────┴─────┴─────┴─────┴──────────────┴─────┴──────────────┘"
      ]
     },
     "execution_count": 20,
     "metadata": {},
     "output_type": "execute_result"
    }
   ],
   "source": [
    "test2_df.select(pl.n_unique('*'))"
   ]
  },
  {
   "cell_type": "code",
   "execution_count": 21,
   "id": "91d83443-54d3-43d1-a4f5-5761e0f00f05",
   "metadata": {},
   "outputs": [
    {
     "data": {
      "text/plain": [
       "1145"
      ]
     },
     "execution_count": 21,
     "metadata": {},
     "output_type": "execute_result"
    }
   ],
   "source": [
    "len(list(set(test2_df['bb1'].to_list() + test2_df['bb2'].to_list() + test2_df['bb3'].to_list())))"
   ]
  },
  {
   "cell_type": "code",
   "execution_count": null,
   "id": "ae5f0571-5e36-41d3-b843-389f54c178cf",
   "metadata": {},
   "outputs": [],
   "source": []
  },
  {
   "cell_type": "code",
   "execution_count": null,
   "id": "6b62dee1-1ece-4542-a95f-6b0d7f5d5aef",
   "metadata": {},
   "outputs": [],
   "source": []
  },
  {
   "cell_type": "code",
   "execution_count": null,
   "id": "4e8be7de-a1c2-4b09-8301-1d55e12291f5",
   "metadata": {},
   "outputs": [],
   "source": []
  },
  {
   "cell_type": "code",
   "execution_count": 22,
   "id": "17d6e9d2-a725-4168-abc3-a56bd403df08",
   "metadata": {},
   "outputs": [
    {
     "data": {
      "text/plain": [
       "5711873"
      ]
     },
     "execution_count": 22,
     "metadata": {},
     "output_type": "execute_result"
    }
   ],
   "source": [
    "train_scaffolds = list(set(train_df['scaffold_idx'].to_list()))\n",
    "len(train_scaffolds)"
   ]
  },
  {
   "cell_type": "code",
   "execution_count": 23,
   "id": "54d1230c-2a6b-43f7-994c-8f1d136f0bdb",
   "metadata": {},
   "outputs": [
    {
     "data": {
      "text/plain": [
       "123824"
      ]
     },
     "execution_count": 23,
     "metadata": {},
     "output_type": "execute_result"
    }
   ],
   "source": [
    "test2_scaffolds = list(set(test2_df['scaffold_idx'].to_list()))\n",
    "len(test2_scaffolds)"
   ]
  },
  {
   "cell_type": "code",
   "execution_count": 24,
   "id": "436a5df5-5b1e-4584-9f43-63b91f66b19a",
   "metadata": {},
   "outputs": [
    {
     "data": {
      "text/plain": [
       "15908"
      ]
     },
     "execution_count": 24,
     "metadata": {},
     "output_type": "execute_result"
    }
   ],
   "source": [
    "test2_only_scaffold_idxs = set(test2_scaffolds).difference(set(train_scaffolds))\n",
    "len(test2_only_scaffold_idxs)"
   ]
  },
  {
   "cell_type": "code",
   "execution_count": 25,
   "id": "ac999083-0bac-4dc7-9f8e-f8f98213362c",
   "metadata": {},
   "outputs": [
    {
     "data": {
      "text/html": [
       "<div><style>\n",
       ".dataframe > thead > tr,\n",
       ".dataframe > tbody > tr {\n",
       "  text-align: right;\n",
       "  white-space: pre-wrap;\n",
       "}\n",
       "</style>\n",
       "<small>shape: (172_264, 7)</small><table border=\"1\" class=\"dataframe\"><thead><tr><th>molecule</th><th>bb1</th><th>bb2</th><th>bb3</th><th>scaffold_idx</th><th>ori</th><th>mol_per_scaf</th></tr><tr><td>str</td><td>u16</td><td>u16</td><td>u16</td><td>i64</td><td>i32</td><td>u32</td></tr></thead><tbody><tr><td>&quot;COC(=O)c1ccc2n…</td><td>1022</td><td>654</td><td>1657</td><td>359321</td><td>1</td><td>167</td></tr><tr><td>&quot;O=C(N[Dy])c1nc…</td><td>504</td><td>724</td><td>152</td><td>3653278</td><td>1</td><td>2</td></tr><tr><td>&quot;C#CC[C@@H](CC(…</td><td>1640</td><td>1242</td><td>2026</td><td>1281519</td><td>1</td><td>6116</td></tr><tr><td>&quot;COc1cc(C(=O)N[…</td><td>1422</td><td>1556</td><td>596</td><td>483951</td><td>1</td><td>659</td></tr><tr><td>&quot;CC1CN(S(=O)(=O…</td><td>171</td><td>2003</td><td>1937</td><td>4816126</td><td>1</td><td>1</td></tr><tr><td>&quot;CC(C)(C)c1nnc(…</td><td>550</td><td>2066</td><td>1131</td><td>4243260</td><td>1</td><td>8</td></tr><tr><td>&quot;O=C(COC[C@H]1C…</td><td>766</td><td>730</td><td>615</td><td>1841029</td><td>1</td><td>256</td></tr><tr><td>&quot;COc1ncc(Nc2nc(…</td><td>1946</td><td>830</td><td>423</td><td>5382949</td><td>1</td><td>4</td></tr><tr><td>&quot;Cn1ccc2cc(Nc3n…</td><td>186</td><td>1795</td><td>1085</td><td>1988879</td><td>1</td><td>87</td></tr><tr><td>&quot;CN(C)c1cccnc1C…</td><td>1946</td><td>28</td><td>81</td><td>3398675</td><td>1</td><td>8</td></tr><tr><td>&hellip;</td><td>&hellip;</td><td>&hellip;</td><td>&hellip;</td><td>&hellip;</td><td>&hellip;</td><td>&hellip;</td></tr><tr><td>&quot;COC(=O)c1ccc(N…</td><td>1245</td><td>1712</td><td>62</td><td>3247049</td><td>1</td><td>2305</td></tr><tr><td>&quot;N#Cc1ccnc(Nc2n…</td><td>36</td><td>361</td><td>711</td><td>251250</td><td>1</td><td>3597</td></tr><tr><td>&quot;Cc1cc(C)nc(Nc2…</td><td>1271</td><td>1534</td><td>578</td><td>3001841</td><td>1</td><td>870</td></tr><tr><td>&quot;Cn1ccc(S(=O)(=…</td><td>104</td><td>1734</td><td>2067</td><td>2073572</td><td>1</td><td>47</td></tr><tr><td>&quot;O=C(N[Dy])[C@@…</td><td>1239</td><td>1335</td><td>1106</td><td>3527451</td><td>1</td><td>199</td></tr><tr><td>&quot;CCC1=NN(Cc2ccc…</td><td>1723</td><td>659</td><td>925</td><td>1183640</td><td>1</td><td>1</td></tr><tr><td>&quot;COC(=O)c1cc(Nc…</td><td>1097</td><td>1768</td><td>143</td><td>4704288</td><td>1</td><td>522</td></tr><tr><td>&quot;Cc1cc(=O)oc2cc…</td><td>653</td><td>85</td><td>712</td><td>5630826</td><td>1</td><td>87</td></tr><tr><td>&quot;Cc1nn(C)c2ncc(…</td><td>971</td><td>1177</td><td>1841</td><td>2517935</td><td>1</td><td>2276</td></tr><tr><td>&quot;CCS(=O)(=O)c1c…</td><td>7</td><td>1491</td><td>1233</td><td>2101844</td><td>1</td><td>174</td></tr></tbody></table></div>"
      ],
      "text/plain": [
       "shape: (172_264, 7)\n",
       "┌───────────────────────────────────┬──────┬──────┬──────┬──────────────┬─────┬──────────────┐\n",
       "│ molecule                          ┆ bb1  ┆ bb2  ┆ bb3  ┆ scaffold_idx ┆ ori ┆ mol_per_scaf │\n",
       "│ ---                               ┆ ---  ┆ ---  ┆ ---  ┆ ---          ┆ --- ┆ ---          │\n",
       "│ str                               ┆ u16  ┆ u16  ┆ u16  ┆ i64          ┆ i32 ┆ u32          │\n",
       "╞═══════════════════════════════════╪══════╪══════╪══════╪══════════════╪═════╪══════════════╡\n",
       "│ COC(=O)c1ccc2nc(Nc3nc(Nc4cc(Cl)n… ┆ 1022 ┆ 654  ┆ 1657 ┆ 359321       ┆ 1   ┆ 167          │\n",
       "│ O=C(N[Dy])c1nc(Br)cnc1Nc1nc(Nc2c… ┆ 504  ┆ 724  ┆ 152  ┆ 3653278      ┆ 1   ┆ 2            │\n",
       "│ C#CC[C@@H](CC(=O)N[Dy])Nc1nc(Nc2… ┆ 1640 ┆ 1242 ┆ 2026 ┆ 1281519      ┆ 1   ┆ 6116         │\n",
       "│ COc1cc(C(=O)N[Dy])c(N)cc1Nc1nc(N… ┆ 1422 ┆ 1556 ┆ 596  ┆ 483951       ┆ 1   ┆ 659          │\n",
       "│ CC1CN(S(=O)(=O)CCNc2nc(NCc3cccnc… ┆ 171  ┆ 2003 ┆ 1937 ┆ 4816126      ┆ 1   ┆ 1            │\n",
       "│ CC(C)(C)c1nnc(CNc2nc(NCCc3coc4cc… ┆ 550  ┆ 2066 ┆ 1131 ┆ 4243260      ┆ 1   ┆ 8            │\n",
       "│ O=C(COC[C@H]1CCCN1c1nc(NCc2nc(-c… ┆ 766  ┆ 730  ┆ 615  ┆ 1841029      ┆ 1   ┆ 256          │\n",
       "│ COc1ncc(Nc2nc(NCC#Cc3cccnc3)nc(N… ┆ 1946 ┆ 830  ┆ 423  ┆ 5382949      ┆ 1   ┆ 4            │\n",
       "│ Cn1ccc2cc(Nc3nc(NCCNC(=O)c4cccnc… ┆ 186  ┆ 1795 ┆ 1085 ┆ 1988879      ┆ 1   ┆ 87           │\n",
       "│ CN(C)c1cccnc1CNc1nc(Nc2c(C(=O)N[… ┆ 1946 ┆ 28   ┆ 81   ┆ 3398675      ┆ 1   ┆ 8            │\n",
       "│ …                                 ┆ …    ┆ …    ┆ …    ┆ …            ┆ …   ┆ …            │\n",
       "│ COC(=O)c1ccc(Nc2nc(Nc3nc(-c4cccn… ┆ 1245 ┆ 1712 ┆ 62   ┆ 3247049      ┆ 1   ┆ 2305         │\n",
       "│ N#Cc1ccnc(Nc2nc(NCCc3nnc4c(=O)[n… ┆ 36   ┆ 361  ┆ 711  ┆ 251250       ┆ 1   ┆ 3597         │\n",
       "│ Cc1cc(C)nc(Nc2nc(NCC3(O)C4C5CC6C… ┆ 1271 ┆ 1534 ┆ 578  ┆ 3001841      ┆ 1   ┆ 870          │\n",
       "│ Cn1ccc(S(=O)(=O)NCCNc2nc(Nc3cccc… ┆ 104  ┆ 1734 ┆ 2067 ┆ 2073572      ┆ 1   ┆ 47           │\n",
       "│ O=C(N[Dy])[C@@H](Nc1nc(NCC2(O)CC… ┆ 1239 ┆ 1335 ┆ 1106 ┆ 3527451      ┆ 1   ┆ 199          │\n",
       "│ CCC1=NN(Cc2ccccc2C)C(=O)C1CCNc1n… ┆ 1723 ┆ 659  ┆ 925  ┆ 1183640      ┆ 1   ┆ 1            │\n",
       "│ COC(=O)c1cc(Nc2nc(NCCS(=O)(=O)c3… ┆ 1097 ┆ 1768 ┆ 143  ┆ 4704288      ┆ 1   ┆ 522          │\n",
       "│ Cc1cc(=O)oc2cc(Nc3nc(Nc4nc(OCc5c… ┆ 653  ┆ 85   ┆ 712  ┆ 5630826      ┆ 1   ┆ 87           │\n",
       "│ Cc1nn(C)c2ncc(CNc3nc(NCC(F)(F)C(… ┆ 971  ┆ 1177 ┆ 1841 ┆ 2517935      ┆ 1   ┆ 2276         │\n",
       "│ CCS(=O)(=O)c1cc(C(=O)N[Dy])c(OC)… ┆ 7    ┆ 1491 ┆ 1233 ┆ 2101844      ┆ 1   ┆ 174          │\n",
       "└───────────────────────────────────┴──────┴──────┴──────┴──────────────┴─────┴──────────────┘"
      ]
     },
     "execution_count": 25,
     "metadata": {},
     "output_type": "execute_result"
    }
   ],
   "source": [
    "test3_df = test2_df.filter(pl.col('scaffold_idx').is_in(test2_only_scaffold_idxs))\n",
    "test3_df"
   ]
  },
  {
   "cell_type": "code",
   "execution_count": 26,
   "id": "6632de6c-ecae-444b-a88a-bcab95f13de9",
   "metadata": {},
   "outputs": [
    {
     "data": {
      "text/html": [
       "<div><style>\n",
       ".dataframe > thead > tr,\n",
       ".dataframe > tbody > tr {\n",
       "  text-align: right;\n",
       "  white-space: pre-wrap;\n",
       "}\n",
       "</style>\n",
       "<small>shape: (196_775, 7)</small><table border=\"1\" class=\"dataframe\"><thead><tr><th>molecule</th><th>bb1</th><th>bb2</th><th>bb3</th><th>scaffold_idx</th><th>ori</th><th>mol_per_scaf</th></tr><tr><td>str</td><td>u16</td><td>u16</td><td>u16</td><td>i64</td><td>i32</td><td>u32</td></tr></thead><tbody><tr><td>&quot;Cc1ccccc1-c1cs…</td><td>1577</td><td>1011</td><td>955</td><td>323982</td><td>1</td><td>993</td></tr><tr><td>&quot;Cc1nn(C)c2ncc(…</td><td>977</td><td>730</td><td>1841</td><td>1232031</td><td>1</td><td>288</td></tr><tr><td>&quot;COC(=O)c1ccc2n…</td><td>141</td><td>24</td><td>1657</td><td>957473</td><td>1</td><td>188</td></tr><tr><td>&quot;COc1ncc(Nc2nc(…</td><td>1123</td><td>830</td><td>1220</td><td>220317</td><td>1</td><td>1329</td></tr><tr><td>&quot;Cc1cc(F)ccc1Nc…</td><td>1575</td><td>1199</td><td>712</td><td>2651247</td><td>1</td><td>776</td></tr><tr><td>&quot;Cc1ccc(CNc2nc(…</td><td>1993</td><td>1146</td><td>975</td><td>1062125</td><td>1</td><td>11</td></tr><tr><td>&quot;Cc1nncn1CCCNc1…</td><td>971</td><td>249</td><td>1367</td><td>4010337</td><td>1</td><td>47</td></tr><tr><td>&quot;C=CCOC(C)CNc1n…</td><td>1457</td><td>196</td><td>1963</td><td>2287328</td><td>1</td><td>860</td></tr><tr><td>&quot;COC(=O)c1cscc1…</td><td>1483</td><td>1194</td><td>1227</td><td>3589772</td><td>1</td><td>27876</td></tr><tr><td>&quot;C#Cc1ccc(Nc2nc…</td><td>1160</td><td>1982</td><td>666</td><td>5216015</td><td>1</td><td>194</td></tr><tr><td>&hellip;</td><td>&hellip;</td><td>&hellip;</td><td>&hellip;</td><td>&hellip;</td><td>&hellip;</td><td>&hellip;</td></tr><tr><td>&quot;COCCNC(=O)CNc1…</td><td>1336</td><td>1913</td><td>1801</td><td>4098350</td><td>1</td><td>86668</td></tr><tr><td>&quot;O=C(N[Dy])c1cc…</td><td>1748</td><td>43</td><td>1425</td><td>4967421</td><td>1</td><td>957</td></tr><tr><td>&quot;CC1CCc2nc(CNc3…</td><td>527</td><td>531</td><td>1259</td><td>920901</td><td>1</td><td>174</td></tr><tr><td>&quot;CCOC(=O)c1cnc(…</td><td>2058</td><td>1757</td><td>615</td><td>5229411</td><td>1</td><td>219</td></tr><tr><td>&quot;Cn1ccnc1Nc1nc(…</td><td>699</td><td>1992</td><td>233</td><td>5281750</td><td>1</td><td>56</td></tr><tr><td>&quot;COc1cc(F)c(Cl)…</td><td>1674</td><td>154</td><td>1398</td><td>30036</td><td>1</td><td>2305</td></tr><tr><td>&quot;COC(=O)c1cscc1…</td><td>1493</td><td>1266</td><td>1194</td><td>2126369</td><td>1</td><td>24</td></tr><tr><td>&quot;C=CCC(Nc1nc(NC…</td><td>1470</td><td>1770</td><td>1736</td><td>1745176</td><td>1</td><td>2276</td></tr><tr><td>&quot;COc1ccc(C[C@H]…</td><td>1611</td><td>1242</td><td>1056</td><td>5855032</td><td>1</td><td>47</td></tr><tr><td>&quot;CC(O)CCNc1nc(N…</td><td>2042</td><td>1402</td><td>113</td><td>5858112</td><td>1</td><td>2276</td></tr></tbody></table></div>"
      ],
      "text/plain": [
       "shape: (196_775, 7)\n",
       "┌───────────────────────────────────┬──────┬──────┬──────┬──────────────┬─────┬──────────────┐\n",
       "│ molecule                          ┆ bb1  ┆ bb2  ┆ bb3  ┆ scaffold_idx ┆ ori ┆ mol_per_scaf │\n",
       "│ ---                               ┆ ---  ┆ ---  ┆ ---  ┆ ---          ┆ --- ┆ ---          │\n",
       "│ str                               ┆ u16  ┆ u16  ┆ u16  ┆ i64          ┆ i32 ┆ u32          │\n",
       "╞═══════════════════════════════════╪══════╪══════╪══════╪══════════════╪═════╪══════════════╡\n",
       "│ Cc1ccccc1-c1csc(Nc2nc(NCc3cn(C)n… ┆ 1577 ┆ 1011 ┆ 955  ┆ 323982       ┆ 1   ┆ 993          │\n",
       "│ Cc1nn(C)c2ncc(CNc3nc(Nc4ccc(F)nc… ┆ 977  ┆ 730  ┆ 1841 ┆ 1232031      ┆ 1   ┆ 288          │\n",
       "│ COC(=O)c1ccc2nc(Nc3nc(NCC4(N5CCO… ┆ 141  ┆ 24   ┆ 1657 ┆ 957473       ┆ 1   ┆ 188          │\n",
       "│ COc1ncc(Nc2nc(Nc3nc4ccc(C#N)cc4s… ┆ 1123 ┆ 830  ┆ 1220 ┆ 220317       ┆ 1   ┆ 1329         │\n",
       "│ Cc1cc(F)ccc1Nc1nc(Nc2nc(OCc3cccc… ┆ 1575 ┆ 1199 ┆ 712  ┆ 2651247      ┆ 1   ┆ 776          │\n",
       "│ Cc1ccc(CNc2nc(NCCN3C(=O)c4ccccc4… ┆ 1993 ┆ 1146 ┆ 975  ┆ 1062125      ┆ 1   ┆ 11           │\n",
       "│ Cc1nncn1CCCNc1nc(Nc2ncnc(=O)[nH]… ┆ 971  ┆ 249  ┆ 1367 ┆ 4010337      ┆ 1   ┆ 47           │\n",
       "│ C=CCOC(C)CNc1nc(NCc2ccsc2)nc(Nc2… ┆ 1457 ┆ 196  ┆ 1963 ┆ 2287328      ┆ 1   ┆ 860          │\n",
       "│ COC(=O)c1cscc1Nc1nc(Nc2ccc(OC)cc… ┆ 1483 ┆ 1194 ┆ 1227 ┆ 3589772      ┆ 1   ┆ 27876        │\n",
       "│ C#Cc1ccc(Nc2nc(NCc3cnc(Cl)s3)nc(… ┆ 1160 ┆ 1982 ┆ 666  ┆ 5216015      ┆ 1   ┆ 194          │\n",
       "│ …                                 ┆ …    ┆ …    ┆ …    ┆ …            ┆ …   ┆ …            │\n",
       "│ COCCNC(=O)CNc1nc(Nc2ncccc2CO)nc(… ┆ 1336 ┆ 1913 ┆ 1801 ┆ 4098350      ┆ 1   ┆ 86668        │\n",
       "│ O=C(N[Dy])c1cc(I)ccc1Nc1nc(NCc2c… ┆ 1748 ┆ 43   ┆ 1425 ┆ 4967421      ┆ 1   ┆ 957          │\n",
       "│ CC1CCc2nc(CNc3nc(Nc4ccc(N5CCN(C)… ┆ 527  ┆ 531  ┆ 1259 ┆ 920901       ┆ 1   ┆ 174          │\n",
       "│ CCOC(=O)c1cnc(Nc2nc(NCc3nc(-c4cc… ┆ 2058 ┆ 1757 ┆ 615  ┆ 5229411      ┆ 1   ┆ 219          │\n",
       "│ Cn1ccnc1Nc1nc(Nc2nc(-c3cccc([N+]… ┆ 699  ┆ 1992 ┆ 233  ┆ 5281750      ┆ 1   ┆ 56           │\n",
       "│ COc1cc(F)c(Cl)cc1Nc1nc(NCC(=O)N2… ┆ 1674 ┆ 154  ┆ 1398 ┆ 30036        ┆ 1   ┆ 2305         │\n",
       "│ COC(=O)c1cscc1Nc1nc(NCC2(O)CCSC2… ┆ 1493 ┆ 1266 ┆ 1194 ┆ 2126369      ┆ 1   ┆ 24           │\n",
       "│ C=CCC(Nc1nc(NCC(C)c2c(Cl)cccc2Cl… ┆ 1470 ┆ 1770 ┆ 1736 ┆ 1745176      ┆ 1   ┆ 2276         │\n",
       "│ COc1ccc(C[C@H](Nc2nc(Nc3cc(C4CC4… ┆ 1611 ┆ 1242 ┆ 1056 ┆ 5855032      ┆ 1   ┆ 47           │\n",
       "│ CC(O)CCNc1nc(NCCCN2CCNC(=O)C2)nc… ┆ 2042 ┆ 1402 ┆ 113  ┆ 5858112      ┆ 1   ┆ 2276         │\n",
       "└───────────────────────────────────┴──────┴──────┴──────┴──────────────┴─────┴──────────────┘"
      ]
     },
     "execution_count": 26,
     "metadata": {},
     "output_type": "execute_result"
    }
   ],
   "source": [
    "test4_df = test2_df.filter(~pl.col('scaffold_idx').is_in(test2_only_scaffold_idxs))\n",
    "test4_df"
   ]
  },
  {
   "cell_type": "code",
   "execution_count": null,
   "id": "1f4d51d2-1f9d-49f8-9f4b-d0b4e7a603c6",
   "metadata": {},
   "outputs": [],
   "source": []
  },
  {
   "cell_type": "code",
   "execution_count": 100,
   "id": "5437d7e1-c465-4736-b11d-2af444ab3979",
   "metadata": {},
   "outputs": [
    {
     "data": {
      "text/html": [
       "<div><style>\n",
       ".dataframe > thead > tr,\n",
       ".dataframe > tbody > tr {\n",
       "  text-align: right;\n",
       "  white-space: pre-wrap;\n",
       "}\n",
       "</style>\n",
       "<small>shape: (17, 2)</small><table border=\"1\" class=\"dataframe\"><thead><tr><th>statistic</th><th>value</th></tr><tr><td>str</td><td>f64</td></tr></thead><tbody><tr><td>&quot;count&quot;</td><td>369039.0</td></tr><tr><td>&quot;null_count&quot;</td><td>0.0</td></tr><tr><td>&quot;mean&quot;</td><td>8847.973656</td></tr><tr><td>&quot;std&quot;</td><td>44135.506861</td></tr><tr><td>&quot;min&quot;</td><td>1.0</td></tr><tr><td>&quot;1%&quot;</td><td>1.0</td></tr><tr><td>&quot;2.5%&quot;</td><td>1.0</td></tr><tr><td>&quot;5%&quot;</td><td>2.0</td></tr><tr><td>&quot;10%&quot;</td><td>8.0</td></tr><tr><td>&quot;25%&quot;</td><td>47.0</td></tr><tr><td>&quot;50%&quot;</td><td>261.0</td></tr><tr><td>&quot;75%&quot;</td><td>2305.0</td></tr><tr><td>&quot;90%&quot;</td><td>7314.0</td></tr><tr><td>&quot;95%&quot;</td><td>25315.0</td></tr><tr><td>&quot;97.5%&quot;</td><td>79516.0</td></tr><tr><td>&quot;99%&quot;</td><td>237652.0</td></tr><tr><td>&quot;max&quot;</td><td>500170.0</td></tr></tbody></table></div>"
      ],
      "text/plain": [
       "shape: (17, 2)\n",
       "┌────────────┬──────────────┐\n",
       "│ statistic  ┆ value        │\n",
       "│ ---        ┆ ---          │\n",
       "│ str        ┆ f64          │\n",
       "╞════════════╪══════════════╡\n",
       "│ count      ┆ 369039.0     │\n",
       "│ null_count ┆ 0.0          │\n",
       "│ mean       ┆ 8847.973656  │\n",
       "│ std        ┆ 44135.506861 │\n",
       "│ min        ┆ 1.0          │\n",
       "│ 1%         ┆ 1.0          │\n",
       "│ 2.5%       ┆ 1.0          │\n",
       "│ 5%         ┆ 2.0          │\n",
       "│ 10%        ┆ 8.0          │\n",
       "│ 25%        ┆ 47.0         │\n",
       "│ 50%        ┆ 261.0        │\n",
       "│ 75%        ┆ 2305.0       │\n",
       "│ 90%        ┆ 7314.0       │\n",
       "│ 95%        ┆ 25315.0      │\n",
       "│ 97.5%      ┆ 79516.0      │\n",
       "│ 99%        ┆ 237652.0     │\n",
       "│ max        ┆ 500170.0     │\n",
       "└────────────┴──────────────┘"
      ]
     },
     "execution_count": 100,
     "metadata": {},
     "output_type": "execute_result"
    }
   ],
   "source": [
    "test2_df['mol_per_scaf'].describe(percentiles = PERCENTILES)"
   ]
  },
  {
   "cell_type": "code",
   "execution_count": 108,
   "id": "1199843e-1754-468b-8605-5338e7d69c7a",
   "metadata": {},
   "outputs": [
    {
     "data": {
      "text/html": [
       "<div><style>\n",
       ".dataframe > thead > tr,\n",
       ".dataframe > tbody > tr {\n",
       "  text-align: right;\n",
       "  white-space: pre-wrap;\n",
       "}\n",
       "</style>\n",
       "<small>shape: (19_078, 7)</small><table border=\"1\" class=\"dataframe\"><thead><tr><th>molecule</th><th>bb1</th><th>bb2</th><th>bb3</th><th>scaffold_idx</th><th>ori</th><th>mol_per_scaf</th></tr><tr><td>str</td><td>u16</td><td>u16</td><td>u16</td><td>i64</td><td>i32</td><td>u32</td></tr></thead><tbody><tr><td>&quot;O=C(N[Dy])c1nc…</td><td>504</td><td>724</td><td>152</td><td>3653278</td><td>1</td><td>2</td></tr><tr><td>&quot;CC1CN(S(=O)(=O…</td><td>171</td><td>2003</td><td>1937</td><td>4816126</td><td>1</td><td>1</td></tr><tr><td>&quot;O=C(N[Dy])[C@@…</td><td>1147</td><td>547</td><td>1636</td><td>1152678</td><td>1</td><td>1</td></tr><tr><td>&quot;Cc1cccc2oc(CCN…</td><td>1775</td><td>433</td><td>2085</td><td>4729637</td><td>1</td><td>1</td></tr><tr><td>&quot;COc1cc(CNc2nc(…</td><td>1759</td><td>857</td><td>1705</td><td>1990006</td><td>1</td><td>2</td></tr><tr><td>&quot;O=C(CC[C@H](Nc…</td><td>1423</td><td>1405</td><td>2081</td><td>5425841</td><td>1</td><td>1</td></tr><tr><td>&quot;O=C(N[Dy])[C@@…</td><td>1239</td><td>1372</td><td>1405</td><td>5860529</td><td>1</td><td>1</td></tr><tr><td>&quot;CCC1=NN(Cc2ccc…</td><td>722</td><td>344</td><td>925</td><td>5551587</td><td>1</td><td>2</td></tr><tr><td>&quot;O=C(N[Dy])C(CC…</td><td>582</td><td>260</td><td>731</td><td>3872980</td><td>1</td><td>2</td></tr><tr><td>&quot;O=C(N[Dy])c1sc…</td><td>1167</td><td>1386</td><td>624</td><td>4007386</td><td>1</td><td>2</td></tr><tr><td>&hellip;</td><td>&hellip;</td><td>&hellip;</td><td>&hellip;</td><td>&hellip;</td><td>&hellip;</td><td>&hellip;</td></tr><tr><td>&quot;CSc1ncc(Nc2nc(…</td><td>1660</td><td>2086</td><td>1485</td><td>1487361</td><td>1</td><td>2</td></tr><tr><td>&quot;O=C(N[Dy])[C@H…</td><td>1063</td><td>1917</td><td>1917</td><td>2766130</td><td>1</td><td>1</td></tr><tr><td>&quot;O=C(CNc1nc(NCc…</td><td>968</td><td>1906</td><td>1061</td><td>4108961</td><td>1</td><td>1</td></tr><tr><td>&quot;O=C1NC(Cc2ccc(…</td><td>1239</td><td>1050</td><td>1813</td><td>914809</td><td>1</td><td>2</td></tr><tr><td>&quot;COc1cc(CNc2nc(…</td><td>1160</td><td>724</td><td>1069</td><td>1477794</td><td>1</td><td>1</td></tr><tr><td>&quot;Cc1ccc2cccc(Nc…</td><td>1160</td><td>229</td><td>423</td><td>4347098</td><td>1</td><td>1</td></tr><tr><td>&quot;O=C(N[Dy])[C@@…</td><td>1758</td><td>1761</td><td>911</td><td>3917722</td><td>1</td><td>1</td></tr><tr><td>&quot;CNC(=O)c1cc(Oc…</td><td>1320</td><td>1398</td><td>1409</td><td>3707415</td><td>1</td><td>2</td></tr><tr><td>&quot;O=C(NCCCNc1nc(…</td><td>179</td><td>1163</td><td>1928</td><td>3336456</td><td>1</td><td>2</td></tr><tr><td>&quot;CCC1=NN(Cc2ccc…</td><td>1723</td><td>659</td><td>925</td><td>1183640</td><td>1</td><td>1</td></tr></tbody></table></div>"
      ],
      "text/plain": [
       "shape: (19_078, 7)\n",
       "┌───────────────────────────────────┬──────┬──────┬──────┬──────────────┬─────┬──────────────┐\n",
       "│ molecule                          ┆ bb1  ┆ bb2  ┆ bb3  ┆ scaffold_idx ┆ ori ┆ mol_per_scaf │\n",
       "│ ---                               ┆ ---  ┆ ---  ┆ ---  ┆ ---          ┆ --- ┆ ---          │\n",
       "│ str                               ┆ u16  ┆ u16  ┆ u16  ┆ i64          ┆ i32 ┆ u32          │\n",
       "╞═══════════════════════════════════╪══════╪══════╪══════╪══════════════╪═════╪══════════════╡\n",
       "│ O=C(N[Dy])c1nc(Br)cnc1Nc1nc(Nc2c… ┆ 504  ┆ 724  ┆ 152  ┆ 3653278      ┆ 1   ┆ 2            │\n",
       "│ CC1CN(S(=O)(=O)CCNc2nc(NCc3cccnc… ┆ 171  ┆ 2003 ┆ 1937 ┆ 4816126      ┆ 1   ┆ 1            │\n",
       "│ O=C(N[Dy])[C@@H](CC1CCCC1)Nc1nc(… ┆ 1147 ┆ 547  ┆ 1636 ┆ 1152678      ┆ 1   ┆ 1            │\n",
       "│ Cc1cccc2oc(CCNc3nc(NCc4ccc5ccccc… ┆ 1775 ┆ 433  ┆ 2085 ┆ 4729637      ┆ 1   ┆ 1            │\n",
       "│ COc1cc(CNc2nc(NCC(=O)NCCN3CCOCC3… ┆ 1759 ┆ 857  ┆ 1705 ┆ 1990006      ┆ 1   ┆ 2            │\n",
       "│ O=C(CC[C@H](Nc1nc(NCc2cc3c(s2)CC… ┆ 1423 ┆ 1405 ┆ 2081 ┆ 5425841      ┆ 1   ┆ 1            │\n",
       "│ O=C(N[Dy])[C@@H](Nc1nc(NCC23CC4C… ┆ 1239 ┆ 1372 ┆ 1405 ┆ 5860529      ┆ 1   ┆ 1            │\n",
       "│ CCC1=NN(Cc2ccccc2C)C(=O)C1CCNc1n… ┆ 722  ┆ 344  ┆ 925  ┆ 5551587      ┆ 1   ┆ 2            │\n",
       "│ O=C(N[Dy])C(CC1CCCCC1)Nc1nc(Nc2c… ┆ 582  ┆ 260  ┆ 731  ┆ 3872980      ┆ 1   ┆ 2            │\n",
       "│ O=C(N[Dy])c1sc(Nc2nc(NCc3cnc(-c4… ┆ 1167 ┆ 1386 ┆ 624  ┆ 4007386      ┆ 1   ┆ 2            │\n",
       "│ …                                 ┆ …    ┆ …    ┆ …    ┆ …            ┆ …   ┆ …            │\n",
       "│ CSc1ncc(Nc2nc(NCC3(CO)CC4C=CC3C4… ┆ 1660 ┆ 2086 ┆ 1485 ┆ 1487361      ┆ 1   ┆ 2            │\n",
       "│ O=C(N[Dy])[C@H]1COCCN1c1nc(NCCc2… ┆ 1063 ┆ 1917 ┆ 1917 ┆ 2766130      ┆ 1   ┆ 1            │\n",
       "│ O=C(CNc1nc(NCc2c(F)cccc2N2CCCC2)… ┆ 968  ┆ 1906 ┆ 1061 ┆ 4108961      ┆ 1   ┆ 1            │\n",
       "│ O=C1NC(Cc2ccc(Nc3nc(NCc4cnns4)nc… ┆ 1239 ┆ 1050 ┆ 1813 ┆ 914809       ┆ 1   ┆ 2            │\n",
       "│ COc1cc(CNc2nc(Nc3ccc(-n4cccc4)cc… ┆ 1160 ┆ 724  ┆ 1069 ┆ 1477794      ┆ 1   ┆ 1            │\n",
       "│ Cc1ccc2cccc(Nc3nc(NCC#Cc4cccnc4)… ┆ 1160 ┆ 229  ┆ 423  ┆ 4347098      ┆ 1   ┆ 1            │\n",
       "│ O=C(N[Dy])[C@@H]1CCCN1C(=O)[C@@H… ┆ 1758 ┆ 1761 ┆ 911  ┆ 3917722      ┆ 1   ┆ 1            │\n",
       "│ CNC(=O)c1cc(Oc2ccc(Nc3nc(NCC(=O)… ┆ 1320 ┆ 1398 ┆ 1409 ┆ 3707415      ┆ 1   ┆ 2            │\n",
       "│ O=C(NCCCNc1nc(Nc2nc3cc(Br)ccn3n2… ┆ 179  ┆ 1163 ┆ 1928 ┆ 3336456      ┆ 1   ┆ 2            │\n",
       "│ CCC1=NN(Cc2ccccc2C)C(=O)C1CCNc1n… ┆ 1723 ┆ 659  ┆ 925  ┆ 1183640      ┆ 1   ┆ 1            │\n",
       "└───────────────────────────────────┴──────┴──────┴──────┴──────────────┴─────┴──────────────┘"
      ]
     },
     "execution_count": 108,
     "metadata": {},
     "output_type": "execute_result"
    }
   ],
   "source": [
    "test2_df.filter(pl.col('mol_per_scaf') <= 2)"
   ]
  },
  {
   "cell_type": "code",
   "execution_count": 121,
   "id": "8773027c-26f2-4b58-872f-06c527d7ad9a",
   "metadata": {},
   "outputs": [
    {
     "data": {
      "text/html": [
       "<div><style>\n",
       ".dataframe > thead > tr,\n",
       ".dataframe > tbody > tr {\n",
       "  text-align: right;\n",
       "  white-space: pre-wrap;\n",
       "}\n",
       "</style>\n",
       "<small>shape: (162_668, 7)</small><table border=\"1\" class=\"dataframe\"><thead><tr><th>molecule</th><th>bb1</th><th>bb2</th><th>bb3</th><th>scaffold_idx</th><th>ori</th><th>mol_per_scaf</th></tr><tr><td>str</td><td>u16</td><td>u16</td><td>u16</td><td>i64</td><td>i32</td><td>u32</td></tr></thead><tbody><tr><td>&quot;COC(=O)c1ccc2n…</td><td>1022</td><td>654</td><td>1657</td><td>359321</td><td>1</td><td>167</td></tr><tr><td>&quot;O=C(N[Dy])c1nc…</td><td>504</td><td>724</td><td>152</td><td>3653278</td><td>1</td><td>2</td></tr><tr><td>&quot;C#CC[C@@H](CC(…</td><td>1640</td><td>1242</td><td>2026</td><td>1281519</td><td>1</td><td>6116</td></tr><tr><td>&quot;COc1cc(C(=O)N[…</td><td>1422</td><td>1556</td><td>596</td><td>483951</td><td>1</td><td>659</td></tr><tr><td>&quot;CC(C)(C)c1nnc(…</td><td>550</td><td>2066</td><td>1131</td><td>4243260</td><td>1</td><td>8</td></tr><tr><td>&quot;O=C(COC[C@H]1C…</td><td>766</td><td>730</td><td>615</td><td>1841029</td><td>1</td><td>256</td></tr><tr><td>&quot;COc1ncc(Nc2nc(…</td><td>1946</td><td>830</td><td>423</td><td>5382949</td><td>1</td><td>4</td></tr><tr><td>&quot;Cn1ccc2cc(Nc3n…</td><td>186</td><td>1795</td><td>1085</td><td>1988879</td><td>1</td><td>87</td></tr><tr><td>&quot;CN(C)c1cccnc1C…</td><td>1946</td><td>28</td><td>81</td><td>3398675</td><td>1</td><td>8</td></tr><tr><td>&quot;CC1CC(CNc2nc(N…</td><td>1423</td><td>1935</td><td>942</td><td>5286594</td><td>1</td><td>10</td></tr><tr><td>&hellip;</td><td>&hellip;</td><td>&hellip;</td><td>&hellip;</td><td>&hellip;</td><td>&hellip;</td><td>&hellip;</td></tr><tr><td>&quot;O=C(N[Dy])c1cc…</td><td>1024</td><td>763</td><td>1313</td><td>1864422</td><td>1</td><td>288</td></tr><tr><td>&quot;COC(=O)c1ccc(N…</td><td>1245</td><td>1712</td><td>62</td><td>3247049</td><td>1</td><td>2305</td></tr><tr><td>&quot;N#Cc1ccnc(Nc2n…</td><td>36</td><td>361</td><td>711</td><td>251250</td><td>1</td><td>3597</td></tr><tr><td>&quot;Cc1cc(C)nc(Nc2…</td><td>1271</td><td>1534</td><td>578</td><td>3001841</td><td>1</td><td>870</td></tr><tr><td>&quot;Cn1ccc(S(=O)(=…</td><td>104</td><td>1734</td><td>2067</td><td>2073572</td><td>1</td><td>47</td></tr><tr><td>&quot;O=C(N[Dy])[C@@…</td><td>1239</td><td>1335</td><td>1106</td><td>3527451</td><td>1</td><td>199</td></tr><tr><td>&quot;COC(=O)c1cc(Nc…</td><td>1097</td><td>1768</td><td>143</td><td>4704288</td><td>1</td><td>522</td></tr><tr><td>&quot;Cc1cc(=O)oc2cc…</td><td>653</td><td>85</td><td>712</td><td>5630826</td><td>1</td><td>87</td></tr><tr><td>&quot;Cc1nn(C)c2ncc(…</td><td>971</td><td>1177</td><td>1841</td><td>2517935</td><td>1</td><td>2276</td></tr><tr><td>&quot;CCS(=O)(=O)c1c…</td><td>7</td><td>1491</td><td>1233</td><td>2101844</td><td>1</td><td>174</td></tr></tbody></table></div>"
      ],
      "text/plain": [
       "shape: (162_668, 7)\n",
       "┌───────────────────────────────────┬──────┬──────┬──────┬──────────────┬─────┬──────────────┐\n",
       "│ molecule                          ┆ bb1  ┆ bb2  ┆ bb3  ┆ scaffold_idx ┆ ori ┆ mol_per_scaf │\n",
       "│ ---                               ┆ ---  ┆ ---  ┆ ---  ┆ ---          ┆ --- ┆ ---          │\n",
       "│ str                               ┆ u16  ┆ u16  ┆ u16  ┆ i64          ┆ i32 ┆ u32          │\n",
       "╞═══════════════════════════════════╪══════╪══════╪══════╪══════════════╪═════╪══════════════╡\n",
       "│ COC(=O)c1ccc2nc(Nc3nc(Nc4cc(Cl)n… ┆ 1022 ┆ 654  ┆ 1657 ┆ 359321       ┆ 1   ┆ 167          │\n",
       "│ O=C(N[Dy])c1nc(Br)cnc1Nc1nc(Nc2c… ┆ 504  ┆ 724  ┆ 152  ┆ 3653278      ┆ 1   ┆ 2            │\n",
       "│ C#CC[C@@H](CC(=O)N[Dy])Nc1nc(Nc2… ┆ 1640 ┆ 1242 ┆ 2026 ┆ 1281519      ┆ 1   ┆ 6116         │\n",
       "│ COc1cc(C(=O)N[Dy])c(N)cc1Nc1nc(N… ┆ 1422 ┆ 1556 ┆ 596  ┆ 483951       ┆ 1   ┆ 659          │\n",
       "│ CC(C)(C)c1nnc(CNc2nc(NCCc3coc4cc… ┆ 550  ┆ 2066 ┆ 1131 ┆ 4243260      ┆ 1   ┆ 8            │\n",
       "│ O=C(COC[C@H]1CCCN1c1nc(NCc2nc(-c… ┆ 766  ┆ 730  ┆ 615  ┆ 1841029      ┆ 1   ┆ 256          │\n",
       "│ COc1ncc(Nc2nc(NCC#Cc3cccnc3)nc(N… ┆ 1946 ┆ 830  ┆ 423  ┆ 5382949      ┆ 1   ┆ 4            │\n",
       "│ Cn1ccc2cc(Nc3nc(NCCNC(=O)c4cccnc… ┆ 186  ┆ 1795 ┆ 1085 ┆ 1988879      ┆ 1   ┆ 87           │\n",
       "│ CN(C)c1cccnc1CNc1nc(Nc2c(C(=O)N[… ┆ 1946 ┆ 28   ┆ 81   ┆ 3398675      ┆ 1   ┆ 8            │\n",
       "│ CC1CC(CNc2nc(Nc3nc4cc([N+](=O)[O… ┆ 1423 ┆ 1935 ┆ 942  ┆ 5286594      ┆ 1   ┆ 10           │\n",
       "│ …                                 ┆ …    ┆ …    ┆ …    ┆ …            ┆ …   ┆ …            │\n",
       "│ O=C(N[Dy])c1cc(Cl)ncc1Nc1nc(Nc2c… ┆ 1024 ┆ 763  ┆ 1313 ┆ 1864422      ┆ 1   ┆ 288          │\n",
       "│ COC(=O)c1ccc(Nc2nc(Nc3nc(-c4cccn… ┆ 1245 ┆ 1712 ┆ 62   ┆ 3247049      ┆ 1   ┆ 2305         │\n",
       "│ N#Cc1ccnc(Nc2nc(NCCc3nnc4c(=O)[n… ┆ 36   ┆ 361  ┆ 711  ┆ 251250       ┆ 1   ┆ 3597         │\n",
       "│ Cc1cc(C)nc(Nc2nc(NCC3(O)C4C5CC6C… ┆ 1271 ┆ 1534 ┆ 578  ┆ 3001841      ┆ 1   ┆ 870          │\n",
       "│ Cn1ccc(S(=O)(=O)NCCNc2nc(Nc3cccc… ┆ 104  ┆ 1734 ┆ 2067 ┆ 2073572      ┆ 1   ┆ 47           │\n",
       "│ O=C(N[Dy])[C@@H](Nc1nc(NCC2(O)CC… ┆ 1239 ┆ 1335 ┆ 1106 ┆ 3527451      ┆ 1   ┆ 199          │\n",
       "│ COC(=O)c1cc(Nc2nc(NCCS(=O)(=O)c3… ┆ 1097 ┆ 1768 ┆ 143  ┆ 4704288      ┆ 1   ┆ 522          │\n",
       "│ Cc1cc(=O)oc2cc(Nc3nc(Nc4nc(OCc5c… ┆ 653  ┆ 85   ┆ 712  ┆ 5630826      ┆ 1   ┆ 87           │\n",
       "│ Cc1nn(C)c2ncc(CNc3nc(NCC(F)(F)C(… ┆ 971  ┆ 1177 ┆ 1841 ┆ 2517935      ┆ 1   ┆ 2276         │\n",
       "│ CCS(=O)(=O)c1cc(C(=O)N[Dy])c(OC)… ┆ 7    ┆ 1491 ┆ 1233 ┆ 2101844      ┆ 1   ┆ 174          │\n",
       "└───────────────────────────────────┴──────┴──────┴──────┴──────────────┴─────┴──────────────┘"
      ]
     },
     "execution_count": 121,
     "metadata": {},
     "output_type": "execute_result"
    }
   ],
   "source": [
    "test3_df.filter(pl.col('mol_per_scaf') >= 2)"
   ]
  },
  {
   "cell_type": "code",
   "execution_count": null,
   "id": "3b7970de-2dc2-4ad0-8702-e2cf5a8c827c",
   "metadata": {},
   "outputs": [],
   "source": []
  },
  {
   "cell_type": "code",
   "execution_count": 109,
   "id": "edbda1f9-2c23-4ad5-83f6-ade72f3c75a1",
   "metadata": {},
   "outputs": [
    {
     "data": {
      "text/plain": [
       "0.05169643316831012"
      ]
     },
     "execution_count": 109,
     "metadata": {},
     "output_type": "execute_result"
    }
   ],
   "source": [
    "19_078 / 369039.0"
   ]
  },
  {
   "cell_type": "code",
   "execution_count": null,
   "id": "21160d2f-6d6b-4c72-acf9-ffff0cf85bdf",
   "metadata": {},
   "outputs": [],
   "source": []
  },
  {
   "cell_type": "code",
   "execution_count": 110,
   "id": "60130d56-f034-4226-8ac4-edb3d108a08a",
   "metadata": {},
   "outputs": [
    {
     "data": {
      "text/html": [
       "<div><style>\n",
       ".dataframe > thead > tr,\n",
       ".dataframe > tbody > tr {\n",
       "  text-align: right;\n",
       "  white-space: pre-wrap;\n",
       "}\n",
       "</style>\n",
       "<small>shape: (1, 8)</small><table border=\"1\" class=\"dataframe\"><thead><tr><th>molecule</th><th>bb1</th><th>bb2</th><th>bb3</th><th>scaffold_idx</th><th>ori</th><th>mol_per_scaf</th><th>index</th></tr><tr><td>u32</td><td>u32</td><td>u32</td><td>u32</td><td>u32</td><td>u32</td><td>u32</td><td>u32</td></tr></thead><tbody><tr><td>4805682</td><td>4805682</td><td>4805682</td><td>4805682</td><td>4805682</td><td>4805682</td><td>4805682</td><td>4805682</td></tr></tbody></table></div>"
      ],
      "text/plain": [
       "shape: (1, 8)\n",
       "┌──────────┬─────────┬─────────┬─────────┬──────────────┬─────────┬──────────────┬─────────┐\n",
       "│ molecule ┆ bb1     ┆ bb2     ┆ bb3     ┆ scaffold_idx ┆ ori     ┆ mol_per_scaf ┆ index   │\n",
       "│ ---      ┆ ---     ┆ ---     ┆ ---     ┆ ---          ┆ ---     ┆ ---          ┆ ---     │\n",
       "│ u32      ┆ u32     ┆ u32     ┆ u32     ┆ u32          ┆ u32     ┆ u32          ┆ u32     │\n",
       "╞══════════╪═════════╪═════════╪═════════╪══════════════╪═════════╪══════════════╪═════════╡\n",
       "│ 4805682  ┆ 4805682 ┆ 4805682 ┆ 4805682 ┆ 4805682      ┆ 4805682 ┆ 4805682      ┆ 4805682 │\n",
       "└──────────┴─────────┴─────────┴─────────┴──────────────┴─────────┴──────────────┴─────────┘"
      ]
     },
     "execution_count": 110,
     "metadata": {},
     "output_type": "execute_result"
    }
   ],
   "source": [
    "stage2_df.filter(pl.col('mol_per_scaf') <=2).count()"
   ]
  },
  {
   "cell_type": "code",
   "execution_count": 106,
   "id": "f27b59ac-4d31-431f-b29a-b541d2880004",
   "metadata": {},
   "outputs": [
    {
     "data": {
      "text/plain": [
       "(98784649, 8)"
      ]
     },
     "execution_count": 106,
     "metadata": {},
     "output_type": "execute_result"
    }
   ],
   "source": [
    "stage2_df.shape"
   ]
  },
  {
   "cell_type": "code",
   "execution_count": 111,
   "id": "f70f3dcf-41cf-43cb-b771-90184b82a21b",
   "metadata": {},
   "outputs": [
    {
     "data": {
      "text/plain": [
       "0.04864806474131421"
      ]
     },
     "execution_count": 111,
     "metadata": {},
     "output_type": "execute_result"
    }
   ],
   "source": [
    "4805682 / 98_784_649"
   ]
  },
  {
   "cell_type": "code",
   "execution_count": null,
   "id": "21fe0593-7776-44b5-b998-f76bd7c886d0",
   "metadata": {},
   "outputs": [],
   "source": []
  },
  {
   "cell_type": "code",
   "execution_count": null,
   "id": "bece2981-8c32-4b43-b9a5-24b97964962c",
   "metadata": {},
   "outputs": [],
   "source": []
  },
  {
   "cell_type": "code",
   "execution_count": 103,
   "id": "9636984e-acfa-4a2a-9b06-780e689347d3",
   "metadata": {},
   "outputs": [
    {
     "data": {
      "text/html": [
       "<div><style>\n",
       ".dataframe > thead > tr,\n",
       ".dataframe > tbody > tr {\n",
       "  text-align: right;\n",
       "  white-space: pre-wrap;\n",
       "}\n",
       "</style>\n",
       "<small>shape: (0, 7)</small><table border=\"1\" class=\"dataframe\"><thead><tr><th>molecule</th><th>bb1</th><th>bb2</th><th>bb3</th><th>scaffold_idx</th><th>ori</th><th>mol_per_scaf</th></tr><tr><td>str</td><td>u16</td><td>u16</td><td>u16</td><td>i64</td><td>i32</td><td>u32</td></tr></thead><tbody></tbody></table></div>"
      ],
      "text/plain": [
       "shape: (0, 7)\n",
       "┌──────────┬─────┬─────┬─────┬──────────────┬─────┬──────────────┐\n",
       "│ molecule ┆ bb1 ┆ bb2 ┆ bb3 ┆ scaffold_idx ┆ ori ┆ mol_per_scaf │\n",
       "│ ---      ┆ --- ┆ --- ┆ --- ┆ ---          ┆ --- ┆ ---          │\n",
       "│ str      ┆ u16 ┆ u16 ┆ u16 ┆ i64          ┆ i32 ┆ u32          │\n",
       "╞══════════╪═════╪═════╪═════╪══════════════╪═════╪══════════════╡\n",
       "└──────────┴─────┴─────┴─────┴──────────────┴─────┴──────────────┘"
      ]
     },
     "execution_count": 103,
     "metadata": {},
     "output_type": "execute_result"
    }
   ],
   "source": [
    "test4_df.filter(pl.col('mol_per_scaf') == 1)"
   ]
  },
  {
   "cell_type": "code",
   "execution_count": null,
   "id": "107cc2dd-9749-4864-8ac9-46824a0bf8b4",
   "metadata": {},
   "outputs": [],
   "source": []
  },
  {
   "cell_type": "code",
   "execution_count": null,
   "id": "23c30e6f-496a-40d7-935e-3b2ebdbf955d",
   "metadata": {},
   "outputs": [],
   "source": []
  },
  {
   "cell_type": "code",
   "execution_count": null,
   "id": "d7ffe0bc-2273-4e3a-af7d-b231a0ae693d",
   "metadata": {},
   "outputs": [],
   "source": []
  },
  {
   "cell_type": "code",
   "execution_count": 27,
   "id": "00326e52-562e-4923-b145-ff1993ccd4b4",
   "metadata": {},
   "outputs": [
    {
     "data": {
      "text/plain": [
       "6116"
      ]
     },
     "execution_count": 27,
     "metadata": {},
     "output_type": "execute_result"
    }
   ],
   "source": [
    "test3_df['mol_per_scaf'].max()"
   ]
  },
  {
   "cell_type": "code",
   "execution_count": 28,
   "id": "c0d54e65-058c-4c7f-9519-73574866eb3e",
   "metadata": {},
   "outputs": [
    {
     "data": {
      "text/plain": [
       "500170"
      ]
     },
     "execution_count": 28,
     "metadata": {},
     "output_type": "execute_result"
    }
   ],
   "source": [
    "test4_df['mol_per_scaf'].max()"
   ]
  },
  {
   "cell_type": "code",
   "execution_count": 95,
   "id": "7a9b97fa-bd31-4f37-9737-44d5968084b3",
   "metadata": {},
   "outputs": [
    {
     "name": "stderr",
     "output_type": "stream",
     "text": [
      "/tmp/ipykernel_2464168/2285076470.py:1: DeprecationWarning: `count` is deprecated. It has been renamed to `len`.\n",
      "  test3_df.filter(pl.col('mol_per_scaf').is_between(500, 5000000)).group_by('scaffold_idx').first().group_by('mol_per_scaf').count().sort('mol_per_scaf')\n"
     ]
    },
    {
     "data": {
      "text/html": [
       "<div><style>\n",
       ".dataframe > thead > tr,\n",
       ".dataframe > tbody > tr {\n",
       "  text-align: right;\n",
       "  white-space: pre-wrap;\n",
       "}\n",
       "</style>\n",
       "<small>shape: (36, 2)</small><table border=\"1\" class=\"dataframe\"><thead><tr><th>mol_per_scaf</th><th>count</th></tr><tr><td>u32</td><td>u32</td></tr></thead><tbody><tr><td>504</td><td>1</td></tr><tr><td>517</td><td>1</td></tr><tr><td>522</td><td>1</td></tr><tr><td>524</td><td>1</td></tr><tr><td>528</td><td>1</td></tr><tr><td>530</td><td>1</td></tr><tr><td>582</td><td>1</td></tr><tr><td>619</td><td>1</td></tr><tr><td>659</td><td>1</td></tr><tr><td>688</td><td>1</td></tr><tr><td>&hellip;</td><td>&hellip;</td></tr><tr><td>1419</td><td>1</td></tr><tr><td>1499</td><td>1</td></tr><tr><td>1808</td><td>1</td></tr><tr><td>2276</td><td>1</td></tr><tr><td>2305</td><td>3</td></tr><tr><td>3597</td><td>1</td></tr><tr><td>3657</td><td>2</td></tr><tr><td>4276</td><td>1</td></tr><tr><td>4818</td><td>1</td></tr><tr><td>6116</td><td>1</td></tr></tbody></table></div>"
      ],
      "text/plain": [
       "shape: (36, 2)\n",
       "┌──────────────┬───────┐\n",
       "│ mol_per_scaf ┆ count │\n",
       "│ ---          ┆ ---   │\n",
       "│ u32          ┆ u32   │\n",
       "╞══════════════╪═══════╡\n",
       "│ 504          ┆ 1     │\n",
       "│ 517          ┆ 1     │\n",
       "│ 522          ┆ 1     │\n",
       "│ 524          ┆ 1     │\n",
       "│ 528          ┆ 1     │\n",
       "│ 530          ┆ 1     │\n",
       "│ 582          ┆ 1     │\n",
       "│ 619          ┆ 1     │\n",
       "│ 659          ┆ 1     │\n",
       "│ 688          ┆ 1     │\n",
       "│ …            ┆ …     │\n",
       "│ 1419         ┆ 1     │\n",
       "│ 1499         ┆ 1     │\n",
       "│ 1808         ┆ 1     │\n",
       "│ 2276         ┆ 1     │\n",
       "│ 2305         ┆ 3     │\n",
       "│ 3597         ┆ 1     │\n",
       "│ 3657         ┆ 2     │\n",
       "│ 4276         ┆ 1     │\n",
       "│ 4818         ┆ 1     │\n",
       "│ 6116         ┆ 1     │\n",
       "└──────────────┴───────┘"
      ]
     },
     "execution_count": 95,
     "metadata": {},
     "output_type": "execute_result"
    }
   ],
   "source": [
    "test3_df.filter(pl.col('mol_per_scaf').is_between(500, 5000000)).group_by('scaffold_idx').first().group_by('mol_per_scaf').count().sort('mol_per_scaf')"
   ]
  },
  {
   "cell_type": "code",
   "execution_count": 90,
   "id": "62a92ee7-3f05-47eb-92f7-291a40d9bed8",
   "metadata": {},
   "outputs": [
    {
     "data": {
      "text/html": [
       "<div><style>\n",
       ".dataframe > thead > tr,\n",
       ".dataframe > tbody > tr {\n",
       "  text-align: right;\n",
       "  white-space: pre-wrap;\n",
       "}\n",
       "</style>\n",
       "<small>shape: (14,)</small><table border=\"1\" class=\"dataframe\"><thead><tr><th>mol_per_scaf</th></tr><tr><td>u32</td></tr></thead><tbody><tr><td>1032</td></tr><tr><td>1072</td></tr><tr><td>1324</td></tr><tr><td>1368</td></tr><tr><td>1419</td></tr><tr><td>1499</td></tr><tr><td>1808</td></tr><tr><td>2276</td></tr><tr><td>2305</td></tr><tr><td>3597</td></tr><tr><td>3657</td></tr><tr><td>4276</td></tr><tr><td>4818</td></tr><tr><td>6116</td></tr></tbody></table></div>"
      ],
      "text/plain": [
       "shape: (14,)\n",
       "Series: 'mol_per_scaf' [u32]\n",
       "[\n",
       "\t1032\n",
       "\t1072\n",
       "\t1324\n",
       "\t1368\n",
       "\t1419\n",
       "\t1499\n",
       "\t1808\n",
       "\t2276\n",
       "\t2305\n",
       "\t3597\n",
       "\t3657\n",
       "\t4276\n",
       "\t4818\n",
       "\t6116\n",
       "]"
      ]
     },
     "execution_count": 90,
     "metadata": {},
     "output_type": "execute_result"
    }
   ],
   "source": [
    "test3_df.filter(pl.col('mol_per_scaf').is_between(1000, 6116))['mol_per_scaf'].unique()"
   ]
  },
  {
   "cell_type": "code",
   "execution_count": 30,
   "id": "4dd2f025-7739-441d-a5ad-49ef139ff10f",
   "metadata": {},
   "outputs": [
    {
     "data": {
      "text/plain": [
       "<Axes: >"
      ]
     },
     "execution_count": 30,
     "metadata": {},
     "output_type": "execute_result"
    },
    {
     "data": {
      "image/png": "[encoded data removed]",
      "text/plain": [
       "<Figure size 640x480 with 1 Axes>"
      ]
     },
     "metadata": {},
     "output_type": "display_data"
    }
   ],
   "source": [
    "test3_df.filter(pl.col('mol_per_scaf').is_between(0, 20)).group_by('scaffold_idx').first().to_pandas()['mol_per_scaf'].hist(bins=20)"
   ]
  },
  {
   "cell_type": "code",
   "execution_count": 117,
   "id": "cb3c1da3-6ed1-4a04-b1b8-14d099ca7283",
   "metadata": {},
   "outputs": [
    {
     "data": {
      "text/plain": [
       "<Axes: >"
      ]
     },
     "execution_count": 117,
     "metadata": {},
     "output_type": "execute_result"
    },
    {
     "data": {
      "image/png": "[encoded data removed]",
      "text/plain": [
       "<Figure size 640x480 with 1 Axes>"
      ]
     },
     "metadata": {},
     "output_type": "display_data"
    }
   ],
   "source": [
    "test4_df.filter(pl.col('mol_per_scaf').is_between(1, 20)).group_by('scaffold_idx').first().to_pandas()['mol_per_scaf'].hist(bins=20)"
   ]
  },
  {
   "cell_type": "code",
   "execution_count": 119,
   "id": "6d733cae-70dd-43c7-9cae-db9edb82f79f",
   "metadata": {},
   "outputs": [
    {
     "data": {
      "text/plain": [
       "2"
      ]
     },
     "execution_count": 119,
     "metadata": {},
     "output_type": "execute_result"
    }
   ],
   "source": [
    "test4_df.filter(pl.col('mol_per_scaf').is_between(1, 20)).group_by('scaffold_idx').first().to_pandas()['mol_per_scaf'].min()"
   ]
  },
  {
   "cell_type": "code",
   "execution_count": 89,
   "id": "803b956e-269b-4373-9b18-39c53838f9d8",
   "metadata": {},
   "outputs": [
    {
     "name": "stderr",
     "output_type": "stream",
     "text": [
      "/tmp/ipykernel_2464168/1334723929.py:1: DeprecationWarning: `groupby` is deprecated. It has been renamed to `group_by`.\n",
      "  test4_df.filter(pl.col('mol_per_scaf').is_between(0, 1)).groupby('scaffold_idx').first().count()\n"
     ]
    },
    {
     "data": {
      "text/html": [
       "<div><style>\n",
       ".dataframe > thead > tr,\n",
       ".dataframe > tbody > tr {\n",
       "  text-align: right;\n",
       "  white-space: pre-wrap;\n",
       "}\n",
       "</style>\n",
       "<small>shape: (1, 7)</small><table border=\"1\" class=\"dataframe\"><thead><tr><th>scaffold_idx</th><th>molecule</th><th>bb1</th><th>bb2</th><th>bb3</th><th>ori</th><th>mol_per_scaf</th></tr><tr><td>u32</td><td>u32</td><td>u32</td><td>u32</td><td>u32</td><td>u32</td><td>u32</td></tr></thead><tbody><tr><td>0</td><td>0</td><td>0</td><td>0</td><td>0</td><td>0</td><td>0</td></tr></tbody></table></div>"
      ],
      "text/plain": [
       "shape: (1, 7)\n",
       "┌──────────────┬──────────┬─────┬─────┬─────┬─────┬──────────────┐\n",
       "│ scaffold_idx ┆ molecule ┆ bb1 ┆ bb2 ┆ bb3 ┆ ori ┆ mol_per_scaf │\n",
       "│ ---          ┆ ---      ┆ --- ┆ --- ┆ --- ┆ --- ┆ ---          │\n",
       "│ u32          ┆ u32      ┆ u32 ┆ u32 ┆ u32 ┆ u32 ┆ u32          │\n",
       "╞══════════════╪══════════╪═════╪═════╪═════╪═════╪══════════════╡\n",
       "│ 0            ┆ 0        ┆ 0   ┆ 0   ┆ 0   ┆ 0   ┆ 0            │\n",
       "└──────────────┴──────────┴─────┴─────┴─────┴─────┴──────────────┘"
      ]
     },
     "execution_count": 89,
     "metadata": {},
     "output_type": "execute_result"
    }
   ],
   "source": [
    "test4_df.filter(pl.col('mol_per_scaf').is_between(0, 1)).groupby('scaffold_idx').first().count()"
   ]
  },
  {
   "cell_type": "code",
   "execution_count": null,
   "id": "0d6affac-efb4-4f6d-867b-544ba01308c8",
   "metadata": {},
   "outputs": [],
   "source": []
  },
  {
   "cell_type": "code",
   "execution_count": null,
   "id": "03d53fe8-bc5a-4140-aaec-5ef08ee07619",
   "metadata": {},
   "outputs": [],
   "source": []
  },
  {
   "cell_type": "code",
   "execution_count": 32,
   "id": "7d060a83-7fac-448b-b53b-647bb3ba4671",
   "metadata": {},
   "outputs": [
    {
     "data": {
      "text/plain": [
       "mol_per_scaf\n",
       "2     5052\n",
       "3     2310\n",
       "4     3020\n",
       "5     1433\n",
       "6     1611\n",
       "7      451\n",
       "8     2151\n",
       "9     2036\n",
       "10    1068\n",
       "11     614\n",
       "12    1010\n",
       "13    2071\n",
       "14     302\n",
       "15     708\n",
       "16     584\n",
       "17     123\n",
       "18     890\n",
       "19      94\n",
       "20    3143\n",
       "Name: count, dtype: int64"
      ]
     },
     "execution_count": 32,
     "metadata": {},
     "output_type": "execute_result"
    }
   ],
   "source": [
    "test4_df.filter(pl.col('mol_per_scaf').is_between(0, 20)).group_by('scaffold_idx').first().to_pandas()['mol_per_scaf'].value_counts().sort_index()"
   ]
  },
  {
   "cell_type": "code",
   "execution_count": null,
   "id": "9b35edea-1b34-4fdc-bbd8-1abcecb67166",
   "metadata": {},
   "outputs": [],
   "source": []
  },
  {
   "cell_type": "code",
   "execution_count": null,
   "id": "c8531eac-fdb9-438b-adf2-4662153cc856",
   "metadata": {},
   "outputs": [],
   "source": []
  },
  {
   "cell_type": "code",
   "execution_count": 120,
   "id": "dc8a00fc-8a75-49bf-85f0-4ee5a3e8ffa0",
   "metadata": {},
   "outputs": [
    {
     "data": {
      "text/plain": [
       "<Axes: >"
      ]
     },
     "execution_count": 120,
     "metadata": {},
     "output_type": "execute_result"
    },
    {
     "data": {
      "image/png": "[encoded data removed]",
      "text/plain": [
       "<Figure size 640x480 with 1 Axes>"
      ]
     },
     "metadata": {},
     "output_type": "display_data"
    }
   ],
   "source": [
    "train_df.filter(pl.col('mol_per_scaf').is_between(2, 20)).group_by('scaffold_idx').first().to_pandas()['mol_per_scaf'].hist(bins=18)"
   ]
  },
  {
   "cell_type": "code",
   "execution_count": null,
   "id": "9173fc80-d950-409a-a0d8-f7a076d01c1a",
   "metadata": {},
   "outputs": [],
   "source": []
  },
  {
   "cell_type": "code",
   "execution_count": null,
   "id": "a442e8d9-8a7c-46f4-bc98-763eda88dc89",
   "metadata": {},
   "outputs": [],
   "source": []
  },
  {
   "cell_type": "code",
   "execution_count": 34,
   "id": "5a571b44-8fb7-4c5b-b7f6-73da2ba922b3",
   "metadata": {},
   "outputs": [
    {
     "data": {
      "text/html": [
       "<div><style>\n",
       ".dataframe > thead > tr,\n",
       ".dataframe > tbody > tr {\n",
       "  text-align: right;\n",
       "  white-space: pre-wrap;\n",
       "}\n",
       "</style>\n",
       "<small>shape: (9, 8)</small><table border=\"1\" class=\"dataframe\"><thead><tr><th>statistic</th><th>scaffold_idx</th><th>molecule</th><th>bb1</th><th>bb2</th><th>bb3</th><th>ori</th><th>mol_per_scaf</th></tr><tr><td>str</td><td>f64</td><td>str</td><td>f64</td><td>f64</td><td>f64</td><td>f64</td><td>f64</td></tr></thead><tbody><tr><td>&quot;count&quot;</td><td>5.711873e6</td><td>&quot;5711873&quot;</td><td>5.711873e6</td><td>5.711873e6</td><td>5.711873e6</td><td>5.711873e6</td><td>5.711873e6</td></tr><tr><td>&quot;null_count&quot;</td><td>0.0</td><td>&quot;0&quot;</td><td>0.0</td><td>0.0</td><td>0.0</td><td>0.0</td><td>0.0</td></tr><tr><td>&quot;mean&quot;</td><td>2.9859e6</td><td>null</td><td>1190.967814</td><td>1070.118147</td><td>1063.178762</td><td>0.0</td><td>17.265634</td></tr><tr><td>&quot;std&quot;</td><td>1.7240e6</td><td>null</td><td>592.022755</td><td>602.359966</td><td>598.26569</td><td>0.0</td><td>516.847742</td></tr><tr><td>&quot;min&quot;</td><td>0.0</td><td>&quot;C#CCOc1ccc(CNc…</td><td>7.0</td><td>16.0</td><td>3.0</td><td>0.0</td><td>1.0</td></tr><tr><td>&quot;25%&quot;</td><td>1.492883e6</td><td>null</td><td>673.0</td><td>586.0</td><td>578.0</td><td>0.0</td><td>1.0</td></tr><tr><td>&quot;50%&quot;</td><td>2.985789e6</td><td>null</td><td>1174.0</td><td>1094.0</td><td>1065.0</td><td>0.0</td><td>2.0</td></tr><tr><td>&quot;75%&quot;</td><td>4.478989e6</td><td>null</td><td>1758.0</td><td>1563.0</td><td>1543.0</td><td>0.0</td><td>4.0</td></tr><tr><td>&quot;max&quot;</td><td>5.971684e6</td><td>&quot;O=c1ncnc(Nc2nc…</td><td>2084.0</td><td>2097.0</td><td>2106.0</td><td>0.0</td><td>500170.0</td></tr></tbody></table></div>"
      ],
      "text/plain": [
       "shape: (9, 8)\n",
       "┌────────────┬────────────┬────────────┬───────────┬───────────┬───────────┬───────────┬───────────┐\n",
       "│ statistic  ┆ scaffold_i ┆ molecule   ┆ bb1       ┆ bb2       ┆ bb3       ┆ ori       ┆ mol_per_s │\n",
       "│ ---        ┆ dx         ┆ ---        ┆ ---       ┆ ---       ┆ ---       ┆ ---       ┆ caf       │\n",
       "│ str        ┆ ---        ┆ str        ┆ f64       ┆ f64       ┆ f64       ┆ f64       ┆ ---       │\n",
       "│            ┆ f64        ┆            ┆           ┆           ┆           ┆           ┆ f64       │\n",
       "╞════════════╪════════════╪════════════╪═══════════╪═══════════╪═══════════╪═══════════╪═══════════╡\n",
       "│ count      ┆ 5.711873e6 ┆ 5711873    ┆ 5.711873e ┆ 5.711873e ┆ 5.711873e ┆ 5.711873e ┆ 5.711873e │\n",
       "│            ┆            ┆            ┆ 6         ┆ 6         ┆ 6         ┆ 6         ┆ 6         │\n",
       "│ null_count ┆ 0.0        ┆ 0          ┆ 0.0       ┆ 0.0       ┆ 0.0       ┆ 0.0       ┆ 0.0       │\n",
       "│ mean       ┆ 2.9859e6   ┆ null       ┆ 1190.9678 ┆ 1070.1181 ┆ 1063.1787 ┆ 0.0       ┆ 17.265634 │\n",
       "│            ┆            ┆            ┆ 14        ┆ 47        ┆ 62        ┆           ┆           │\n",
       "│ std        ┆ 1.7240e6   ┆ null       ┆ 592.02275 ┆ 602.35996 ┆ 598.26569 ┆ 0.0       ┆ 516.84774 │\n",
       "│            ┆            ┆            ┆ 5         ┆ 6         ┆           ┆           ┆ 2         │\n",
       "│ min        ┆ 0.0        ┆ C#CCOc1ccc ┆ 7.0       ┆ 16.0      ┆ 3.0       ┆ 0.0       ┆ 1.0       │\n",
       "│            ┆            ┆ (CNc2nc(NC ┆           ┆           ┆           ┆           ┆           │\n",
       "│            ┆            ┆ 3=C(C#N)CC ┆           ┆           ┆           ┆           ┆           │\n",
       "│            ┆            ┆ C3…        ┆           ┆           ┆           ┆           ┆           │\n",
       "│ 25%        ┆ 1.492883e6 ┆ null       ┆ 673.0     ┆ 586.0     ┆ 578.0     ┆ 0.0       ┆ 1.0       │\n",
       "│ 50%        ┆ 2.985789e6 ┆ null       ┆ 1174.0    ┆ 1094.0    ┆ 1065.0    ┆ 0.0       ┆ 2.0       │\n",
       "│ 75%        ┆ 4.478989e6 ┆ null       ┆ 1758.0    ┆ 1563.0    ┆ 1543.0    ┆ 0.0       ┆ 4.0       │\n",
       "│ max        ┆ 5.971684e6 ┆ O=c1ncnc(N ┆ 2084.0    ┆ 2097.0    ┆ 2106.0    ┆ 0.0       ┆ 500170.0  │\n",
       "│            ┆            ┆ c2nc(NCc3n ┆           ┆           ┆           ┆           ┆           │\n",
       "│            ┆            ┆ c4c(F)c(F) ┆           ┆           ┆           ┆           ┆           │\n",
       "│            ┆            ┆ cc…        ┆           ┆           ┆           ┆           ┆           │\n",
       "└────────────┴────────────┴────────────┴───────────┴───────────┴───────────┴───────────┴───────────┘"
      ]
     },
     "execution_count": 34,
     "metadata": {},
     "output_type": "execute_result"
    }
   ],
   "source": [
    "train_df.group_by('scaffold_idx').first().describe()"
   ]
  },
  {
   "cell_type": "code",
   "execution_count": null,
   "id": "d84e2ba1-0731-4aeb-9851-b7c0d6bc81d3",
   "metadata": {},
   "outputs": [],
   "source": []
  },
  {
   "cell_type": "code",
   "execution_count": null,
   "id": "e76f3ea1-c77e-48f7-91c0-c1d33f11c135",
   "metadata": {},
   "outputs": [],
   "source": []
  },
  {
   "cell_type": "code",
   "execution_count": null,
   "id": "419aae4e-b0b5-4ba5-a4bb-6c727684a8e6",
   "metadata": {},
   "outputs": [],
   "source": []
  },
  {
   "cell_type": "code",
   "execution_count": null,
   "id": "99e451de-4c66-44ae-9025-a69a070f489c",
   "metadata": {},
   "outputs": [],
   "source": []
  },
  {
   "cell_type": "code",
   "execution_count": null,
   "id": "813f0c93-a4a3-46aa-86cb-ec65a158077c",
   "metadata": {},
   "outputs": [],
   "source": []
  },
  {
   "cell_type": "code",
   "execution_count": 35,
   "id": "77bbef84-2fda-4ba7-91e1-08873d707f35",
   "metadata": {},
   "outputs": [
    {
     "data": {
      "text/plain": [
       "(369039, 7)"
      ]
     },
     "execution_count": 35,
     "metadata": {},
     "output_type": "execute_result"
    }
   ],
   "source": [
    "test2_df.shape"
   ]
  },
  {
   "cell_type": "code",
   "execution_count": 36,
   "id": "05c6e530-e4dc-4cc0-946d-76ac416da10c",
   "metadata": {},
   "outputs": [
    {
     "data": {
      "text/plain": [
       "267.68078441573925"
      ]
     },
     "execution_count": 36,
     "metadata": {},
     "output_type": "execute_result"
    }
   ],
   "source": [
    "(98_415_610  + 369039) / 369039"
   ]
  },
  {
   "cell_type": "code",
   "execution_count": 37,
   "id": "b1cdc11c-52e0-4972-81d3-5532b1ec71af",
   "metadata": {},
   "outputs": [
    {
     "data": {
      "text/plain": [
       "5725844"
      ]
     },
     "execution_count": 37,
     "metadata": {},
     "output_type": "execute_result"
    }
   ],
   "source": [
    "5_971_685 - 245841"
   ]
  },
  {
   "cell_type": "code",
   "execution_count": 38,
   "id": "1b0d68a4-0bd0-4ccf-94a1-e7ca28e936a3",
   "metadata": {},
   "outputs": [
    {
     "data": {
      "text/plain": [
       "21365.089552238805"
      ]
     },
     "execution_count": 38,
     "metadata": {},
     "output_type": "execute_result"
    }
   ],
   "source": [
    "5725844 / 268"
   ]
  },
  {
   "cell_type": "markdown",
   "id": "9d851387-3cb3-446c-93dc-e3a33dfd9b71",
   "metadata": {},
   "source": []
  },
  {
   "cell_type": "code",
   "execution_count": null,
   "id": "822cc9ef-54c2-4f6b-aa3e-952063b6851e",
   "metadata": {},
   "outputs": [],
   "source": []
  },
  {
   "cell_type": "code",
   "execution_count": null,
   "id": "c0195853-4118-49e5-87ef-e1fb0d0f266e",
   "metadata": {},
   "outputs": [],
   "source": [
    "369039 / "
   ]
  },
  {
   "cell_type": "code",
   "execution_count": null,
   "id": "ba1daf38-b91e-48c8-a914-801204137070",
   "metadata": {},
   "outputs": [],
   "source": []
  },
  {
   "cell_type": "code",
   "execution_count": 39,
   "id": "ac8cbbda-3b45-4708-82c4-e74e5d7011b5",
   "metadata": {},
   "outputs": [
    {
     "data": {
      "text/plain": [
       "199"
      ]
     },
     "execution_count": 39,
     "metadata": {},
     "output_type": "execute_result"
    }
   ],
   "source": [
    "test2_df.filter(pl.col('mol_per_scaf').is_between(4000, 6116))['mol_per_scaf'].n_unique()"
   ]
  },
  {
   "cell_type": "code",
   "execution_count": null,
   "id": "17828573-a33b-4b2e-a8d2-f39c1d44ec42",
   "metadata": {},
   "outputs": [],
   "source": []
  },
  {
   "cell_type": "code",
   "execution_count": 40,
   "id": "8f1dbd00-cb1f-44f0-8b6b-48fdae496073",
   "metadata": {},
   "outputs": [
    {
     "data": {
      "text/html": [
       "<div><style>\n",
       ".dataframe > thead > tr,\n",
       ".dataframe > tbody > tr {\n",
       "  text-align: right;\n",
       "  white-space: pre-wrap;\n",
       "}\n",
       "</style>\n",
       "<small>shape: (198,)</small><table border=\"1\" class=\"dataframe\"><thead><tr><th>mol_per_scaf</th></tr><tr><td>u32</td></tr></thead><tbody><tr><td>4002</td></tr><tr><td>4015</td></tr><tr><td>4021</td></tr><tr><td>4023</td></tr><tr><td>4032</td></tr><tr><td>4056</td></tr><tr><td>4065</td></tr><tr><td>4066</td></tr><tr><td>4089</td></tr><tr><td>4095</td></tr><tr><td>&hellip;</td></tr><tr><td>5939</td></tr><tr><td>5956</td></tr><tr><td>5996</td></tr><tr><td>6005</td></tr><tr><td>6009</td></tr><tr><td>6016</td></tr><tr><td>6039</td></tr><tr><td>6052</td></tr><tr><td>6113</td></tr><tr><td>6116</td></tr></tbody></table></div>"
      ],
      "text/plain": [
       "shape: (198,)\n",
       "Series: 'mol_per_scaf' [u32]\n",
       "[\n",
       "\t4002\n",
       "\t4015\n",
       "\t4021\n",
       "\t4023\n",
       "\t4032\n",
       "\t4056\n",
       "\t4065\n",
       "\t4066\n",
       "\t4089\n",
       "\t4095\n",
       "\t…\n",
       "\t5939\n",
       "\t5956\n",
       "\t5996\n",
       "\t6005\n",
       "\t6009\n",
       "\t6016\n",
       "\t6039\n",
       "\t6052\n",
       "\t6113\n",
       "\t6116\n",
       "]"
      ]
     },
     "execution_count": 40,
     "metadata": {},
     "output_type": "execute_result"
    }
   ],
   "source": [
    "test4_df.filter(pl.col('mol_per_scaf').is_between(4000, 6116))['mol_per_scaf'].unique()"
   ]
  },
  {
   "cell_type": "code",
   "execution_count": 41,
   "id": "f075c74b-c54f-42eb-8c5f-8ab82354ee2f",
   "metadata": {},
   "outputs": [
    {
     "data": {
      "text/html": [
       "<div><style>\n",
       ".dataframe > thead > tr,\n",
       ".dataframe > tbody > tr {\n",
       "  text-align: right;\n",
       "  white-space: pre-wrap;\n",
       "}\n",
       "</style>\n",
       "<small>shape: (468,)</small><table border=\"1\" class=\"dataframe\"><thead><tr><th>mol_per_scaf</th></tr><tr><td>u32</td></tr></thead><tbody><tr><td>6116</td></tr><tr><td>6124</td></tr><tr><td>6134</td></tr><tr><td>6144</td></tr><tr><td>6150</td></tr><tr><td>6159</td></tr><tr><td>6161</td></tr><tr><td>6206</td></tr><tr><td>6208</td></tr><tr><td>6211</td></tr><tr><td>&hellip;</td></tr><tr><td>176859</td></tr><tr><td>195471</td></tr><tr><td>224960</td></tr><tr><td>231854</td></tr><tr><td>237652</td></tr><tr><td>246438</td></tr><tr><td>312835</td></tr><tr><td>334990</td></tr><tr><td>413576</td></tr><tr><td>500170</td></tr></tbody></table></div>"
      ],
      "text/plain": [
       "shape: (468,)\n",
       "Series: 'mol_per_scaf' [u32]\n",
       "[\n",
       "\t6116\n",
       "\t6124\n",
       "\t6134\n",
       "\t6144\n",
       "\t6150\n",
       "\t6159\n",
       "\t6161\n",
       "\t6206\n",
       "\t6208\n",
       "\t6211\n",
       "\t…\n",
       "\t176859\n",
       "\t195471\n",
       "\t224960\n",
       "\t231854\n",
       "\t237652\n",
       "\t246438\n",
       "\t312835\n",
       "\t334990\n",
       "\t413576\n",
       "\t500170\n",
       "]"
      ]
     },
     "execution_count": 41,
     "metadata": {},
     "output_type": "execute_result"
    }
   ],
   "source": [
    "test4_df.filter(pl.col('mol_per_scaf').is_between(6116, 50000000))['mol_per_scaf'].unique()"
   ]
  },
  {
   "cell_type": "code",
   "execution_count": null,
   "id": "db8a6a45-dd88-4cb9-864b-115d9ec77753",
   "metadata": {},
   "outputs": [],
   "source": []
  },
  {
   "cell_type": "code",
   "execution_count": null,
   "id": "eb41a42a-bec0-4740-a305-b22e914dc0a7",
   "metadata": {},
   "outputs": [],
   "source": []
  },
  {
   "cell_type": "code",
   "execution_count": null,
   "id": "27417a2a-be2a-409f-ab3f-ff69054bf0f3",
   "metadata": {},
   "outputs": [],
   "source": []
  },
  {
   "cell_type": "code",
   "execution_count": 42,
   "id": "900e3ed9-96cb-4762-94df-099d9740b863",
   "metadata": {},
   "outputs": [
    {
     "data": {
      "text/html": [
       "<div><style>\n",
       ".dataframe > thead > tr,\n",
       ".dataframe > tbody > tr {\n",
       "  text-align: right;\n",
       "  white-space: pre-wrap;\n",
       "}\n",
       "</style>\n",
       "<small>shape: (198,)</small><table border=\"1\" class=\"dataframe\"><thead><tr><th>mol_per_scaf</th></tr><tr><td>u32</td></tr></thead><tbody><tr><td>4002</td></tr><tr><td>4015</td></tr><tr><td>4021</td></tr><tr><td>4023</td></tr><tr><td>4032</td></tr><tr><td>4056</td></tr><tr><td>4065</td></tr><tr><td>4066</td></tr><tr><td>4089</td></tr><tr><td>4095</td></tr><tr><td>&hellip;</td></tr><tr><td>5939</td></tr><tr><td>5956</td></tr><tr><td>5996</td></tr><tr><td>6005</td></tr><tr><td>6009</td></tr><tr><td>6016</td></tr><tr><td>6039</td></tr><tr><td>6052</td></tr><tr><td>6113</td></tr><tr><td>6116</td></tr></tbody></table></div>"
      ],
      "text/plain": [
       "shape: (198,)\n",
       "Series: 'mol_per_scaf' [u32]\n",
       "[\n",
       "\t4002\n",
       "\t4015\n",
       "\t4021\n",
       "\t4023\n",
       "\t4032\n",
       "\t4056\n",
       "\t4065\n",
       "\t4066\n",
       "\t4089\n",
       "\t4095\n",
       "\t…\n",
       "\t5939\n",
       "\t5956\n",
       "\t5996\n",
       "\t6005\n",
       "\t6009\n",
       "\t6016\n",
       "\t6039\n",
       "\t6052\n",
       "\t6113\n",
       "\t6116\n",
       "]"
      ]
     },
     "execution_count": 42,
     "metadata": {},
     "output_type": "execute_result"
    }
   ],
   "source": [
    "train_df.filter(pl.col('mol_per_scaf').is_between(4000, 6116))['mol_per_scaf'].unique()"
   ]
  },
  {
   "cell_type": "code",
   "execution_count": null,
   "id": "3e91729e-f35c-4cf3-bc8a-f192b2fc6a2f",
   "metadata": {},
   "outputs": [],
   "source": []
  },
  {
   "cell_type": "code",
   "execution_count": null,
   "id": "ca516c84-8a3b-4313-a2e8-12d7ef7b429c",
   "metadata": {},
   "outputs": [],
   "source": []
  },
  {
   "cell_type": "code",
   "execution_count": null,
   "id": "6fbc859a-0c1e-4c17-8586-6c138aee945a",
   "metadata": {},
   "outputs": [],
   "source": []
  },
  {
   "cell_type": "code",
   "execution_count": null,
   "id": "2920a690-c3dd-44af-822f-56d7091015e3",
   "metadata": {},
   "outputs": [],
   "source": []
  },
  {
   "cell_type": "code",
   "execution_count": null,
   "id": "1ac8ae3a-3b5d-4185-8f08-1488acad3805",
   "metadata": {},
   "outputs": [],
   "source": []
  },
  {
   "cell_type": "code",
   "execution_count": 43,
   "id": "e820b1ca-52a2-4ce7-b690-e9fbff8bca99",
   "metadata": {},
   "outputs": [
    {
     "data": {
      "text/html": [
       "<div><style>\n",
       ".dataframe > thead > tr,\n",
       ".dataframe > tbody > tr {\n",
       "  text-align: right;\n",
       "  white-space: pre-wrap;\n",
       "}\n",
       "</style>\n",
       "<small>shape: (9, 2)</small><table border=\"1\" class=\"dataframe\"><thead><tr><th>statistic</th><th>value</th></tr><tr><td>str</td><td>f64</td></tr></thead><tbody><tr><td>&quot;count&quot;</td><td>369039.0</td></tr><tr><td>&quot;null_count&quot;</td><td>0.0</td></tr><tr><td>&quot;mean&quot;</td><td>8847.973656</td></tr><tr><td>&quot;std&quot;</td><td>44135.506861</td></tr><tr><td>&quot;min&quot;</td><td>1.0</td></tr><tr><td>&quot;25%&quot;</td><td>47.0</td></tr><tr><td>&quot;50%&quot;</td><td>261.0</td></tr><tr><td>&quot;75%&quot;</td><td>2305.0</td></tr><tr><td>&quot;max&quot;</td><td>500170.0</td></tr></tbody></table></div>"
      ],
      "text/plain": [
       "shape: (9, 2)\n",
       "┌────────────┬──────────────┐\n",
       "│ statistic  ┆ value        │\n",
       "│ ---        ┆ ---          │\n",
       "│ str        ┆ f64          │\n",
       "╞════════════╪══════════════╡\n",
       "│ count      ┆ 369039.0     │\n",
       "│ null_count ┆ 0.0          │\n",
       "│ mean       ┆ 8847.973656  │\n",
       "│ std        ┆ 44135.506861 │\n",
       "│ min        ┆ 1.0          │\n",
       "│ 25%        ┆ 47.0         │\n",
       "│ 50%        ┆ 261.0        │\n",
       "│ 75%        ┆ 2305.0       │\n",
       "│ max        ┆ 500170.0     │\n",
       "└────────────┴──────────────┘"
      ]
     },
     "execution_count": 43,
     "metadata": {},
     "output_type": "execute_result"
    }
   ],
   "source": [
    "test2_df['mol_per_scaf'].describe()"
   ]
  },
  {
   "cell_type": "code",
   "execution_count": 44,
   "id": "6e122308-ec3b-4e64-9420-45d21e82feb4",
   "metadata": {},
   "outputs": [
    {
     "data": {
      "text/html": [
       "<div><style>\n",
       ".dataframe > thead > tr,\n",
       ".dataframe > tbody > tr {\n",
       "  text-align: right;\n",
       "  white-space: pre-wrap;\n",
       "}\n",
       "</style>\n",
       "<small>shape: (1, 7)</small><table border=\"1\" class=\"dataframe\"><thead><tr><th>molecule</th><th>bb1</th><th>bb2</th><th>bb3</th><th>scaffold_idx</th><th>ori</th><th>mol_per_scaf</th></tr><tr><td>u32</td><td>u32</td><td>u32</td><td>u32</td><td>u32</td><td>u32</td><td>u32</td></tr></thead><tbody><tr><td>38989</td><td>38989</td><td>38989</td><td>38989</td><td>38989</td><td>38989</td><td>38989</td></tr></tbody></table></div>"
      ],
      "text/plain": [
       "shape: (1, 7)\n",
       "┌──────────┬───────┬───────┬───────┬──────────────┬───────┬──────────────┐\n",
       "│ molecule ┆ bb1   ┆ bb2   ┆ bb3   ┆ scaffold_idx ┆ ori   ┆ mol_per_scaf │\n",
       "│ ---      ┆ ---   ┆ ---   ┆ ---   ┆ ---          ┆ ---   ┆ ---          │\n",
       "│ u32      ┆ u32   ┆ u32   ┆ u32   ┆ u32          ┆ u32   ┆ u32          │\n",
       "╞══════════╪═══════╪═══════╪═══════╪══════════════╪═══════╪══════════════╡\n",
       "│ 38989    ┆ 38989 ┆ 38989 ┆ 38989 ┆ 38989        ┆ 38989 ┆ 38989        │\n",
       "└──────────┴───────┴───────┴───────┴──────────────┴───────┴──────────────┘"
      ]
     },
     "execution_count": 44,
     "metadata": {},
     "output_type": "execute_result"
    }
   ],
   "source": [
    "test2_df.filter(pl.col('mol_per_scaf') > 6116).count()"
   ]
  },
  {
   "cell_type": "code",
   "execution_count": null,
   "id": "bda92017-3ac2-41f4-ad29-421ac3ad5ccf",
   "metadata": {},
   "outputs": [],
   "source": []
  },
  {
   "cell_type": "code",
   "execution_count": null,
   "id": "9d502cf4-c275-4754-a1ac-de0f890d0642",
   "metadata": {},
   "outputs": [],
   "source": []
  },
  {
   "cell_type": "code",
   "execution_count": null,
   "id": "191eb4e9-3052-49ea-a945-887b9181ad9a",
   "metadata": {},
   "outputs": [],
   "source": []
  },
  {
   "cell_type": "code",
   "execution_count": null,
   "id": "2677904c-9a83-4cf3-9a9c-729ed1390e30",
   "metadata": {},
   "outputs": [],
   "source": []
  },
  {
   "cell_type": "markdown",
   "id": "15bda9fa-8121-4653-8a59-edde6a549d9b",
   "metadata": {},
   "source": [
    "## TODOs\n",
    "How to choose Test-only BB? by spliting on BB scaffold or not?"
   ]
  },
  {
   "cell_type": "code",
   "execution_count": 12,
   "id": "8ad66bdb-af74-4137-aa4d-53a0814c23a2",
   "metadata": {},
   "outputs": [
    {
     "data": {
      "text/plain": [
       "500170"
      ]
     },
     "execution_count": 12,
     "metadata": {},
     "output_type": "execute_result"
    }
   ],
   "source": [
    "df['mol_per_scaf'].max()"
   ]
  },
  {
   "cell_type": "code",
   "execution_count": 45,
   "id": "6bc9c22b-0a6c-4d86-8f38-566a07312fb6",
   "metadata": {},
   "outputs": [
    {
     "name": "stdout",
     "output_type": "stream",
     "text": [
      "Number of test only building blocks: 965\n"
     ]
    },
    {
     "data": {
      "text/html": [
       "<div><style>\n",
       ".dataframe > thead > tr,\n",
       ".dataframe > tbody > tr {\n",
       "  text-align: right;\n",
       "  white-space: pre-wrap;\n",
       "}\n",
       "</style>\n",
       "<small>shape: (1, 7)</small><table border=\"1\" class=\"dataframe\"><thead><tr><th>molecule</th><th>bb1</th><th>bb2</th><th>bb3</th><th>scaffold_idx</th><th>ori</th><th>mol_per_scaf</th></tr><tr><td>u32</td><td>u32</td><td>u32</td><td>u32</td><td>u32</td><td>u32</td><td>u32</td></tr></thead><tbody><tr><td>98784649</td><td>271</td><td>693</td><td>872</td><td>5727781</td><td>2</td><td>2389</td></tr></tbody></table></div>"
      ],
      "text/plain": [
       "shape: (1, 7)\n",
       "┌──────────┬─────┬─────┬─────┬──────────────┬─────┬──────────────┐\n",
       "│ molecule ┆ bb1 ┆ bb2 ┆ bb3 ┆ scaffold_idx ┆ ori ┆ mol_per_scaf │\n",
       "│ ---      ┆ --- ┆ --- ┆ --- ┆ ---          ┆ --- ┆ ---          │\n",
       "│ u32      ┆ u32 ┆ u32 ┆ u32 ┆ u32          ┆ u32 ┆ u32          │\n",
       "╞══════════╪═════╪═════╪═════╪══════════════╪═════╪══════════════╡\n",
       "│ 98784649 ┆ 271 ┆ 693 ┆ 872 ┆ 5727781      ┆ 2   ┆ 2389         │\n",
       "└──────────┴─────┴─────┴─────┴──────────────┴─────┴──────────────┘"
      ]
     },
     "metadata": {},
     "output_type": "display_data"
    },
    {
     "data": {
      "text/html": [
       "<div><style>\n",
       ".dataframe > thead > tr,\n",
       ".dataframe > tbody > tr {\n",
       "  text-align: right;\n",
       "  white-space: pre-wrap;\n",
       "}\n",
       "</style>\n",
       "<small>shape: (1, 7)</small><table border=\"1\" class=\"dataframe\"><thead><tr><th>molecule</th><th>bb1</th><th>bb2</th><th>bb3</th><th>scaffold_idx</th><th>ori</th><th>mol_per_scaf</th></tr><tr><td>u32</td><td>u32</td><td>u32</td><td>u32</td><td>u32</td><td>u32</td><td>u32</td></tr></thead><tbody><tr><td>508983</td><td>70</td><td>447</td><td>518</td><td>245841</td><td>1</td><td>1014</td></tr></tbody></table></div>"
      ],
      "text/plain": [
       "shape: (1, 7)\n",
       "┌──────────┬─────┬─────┬─────┬──────────────┬─────┬──────────────┐\n",
       "│ molecule ┆ bb1 ┆ bb2 ┆ bb3 ┆ scaffold_idx ┆ ori ┆ mol_per_scaf │\n",
       "│ ---      ┆ --- ┆ --- ┆ --- ┆ ---          ┆ --- ┆ ---          │\n",
       "│ u32      ┆ u32 ┆ u32 ┆ u32 ┆ u32          ┆ u32 ┆ u32          │\n",
       "╞══════════╪═════╪═════╪═════╪══════════════╪═════╪══════════════╡\n",
       "│ 508983   ┆ 70  ┆ 447 ┆ 518 ┆ 245841       ┆ 1   ┆ 1014         │\n",
       "└──────────┴─────┴─────┴─────┴──────────────┴─────┴──────────────┘"
      ]
     },
     "metadata": {},
     "output_type": "display_data"
    }
   ],
   "source": [
    "all_bbs = bbs_meta['all_bbs']\n",
    "\n",
    "# stage 1: BB-split\n",
    "# in this stage, we hold out a set of test-only building blocks\n",
    "test_only_bbs = set(bbs_meta['test_bbs']).difference(bbs_meta['train_bbs'])\n",
    "print('Number of test only building blocks:', len(test_only_bbs))\n",
    "test_only_bb_idxs = [all_bbs.index(bb) for bb in test_only_bbs]\n",
    "train1_df = df.filter(~ (pl.col('bb1').is_in(test_only_bb_idxs) | pl.col('bb2').is_in(test_only_bb_idxs) | pl.col('bb3').is_in(test_only_bb_idxs)))\n",
    "test1_df = df.filter((pl.col('bb1').is_in(test_only_bb_idxs) | pl.col('bb2').is_in(test_only_bb_idxs) | pl.col('bb3').is_in(test_only_bb_idxs)))\n",
    "\n",
    "display(train1_df.select(pl.col('*').n_unique()))\n",
    "display(test1_df.select(pl.col('*').n_unique()))"
   ]
  },
  {
   "cell_type": "code",
   "execution_count": null,
   "id": "04c8e849-a3d9-4ede-a90a-c3eeed2ec077",
   "metadata": {},
   "outputs": [],
   "source": []
  },
  {
   "cell_type": "code",
   "execution_count": null,
   "id": "b0e01d54-d37a-40f6-9ab3-f907e2dbb8a1",
   "metadata": {},
   "outputs": [],
   "source": []
  },
  {
   "cell_type": "code",
   "execution_count": null,
   "id": "f9c43481-f203-429b-a8e5-45802ca62c08",
   "metadata": {},
   "outputs": [],
   "source": []
  },
  {
   "cell_type": "code",
   "execution_count": null,
   "id": "4db2d2fc-d5e5-4dc6-8f97-023e7b1fb9d4",
   "metadata": {},
   "outputs": [],
   "source": []
  },
  {
   "cell_type": "code",
   "execution_count": 14,
   "id": "7ad30c83-4ecc-49cd-b415-c6529622eec6",
   "metadata": {},
   "outputs": [],
   "source": [
    "from sklearn.model_selection import StratifiedGroupKFold, GroupKFold"
   ]
  },
  {
   "cell_type": "code",
   "execution_count": 15,
   "id": "2887daa6-c41d-4e23-8fce-03cd581acc50",
   "metadata": {},
   "outputs": [
    {
     "data": {
      "text/html": [
       "<div><style>\n",
       ".dataframe > thead > tr,\n",
       ".dataframe > tbody > tr {\n",
       "  text-align: right;\n",
       "  white-space: pre-wrap;\n",
       "}\n",
       "</style>\n",
       "<small>shape: (98_784_649, 8)</small><table border=\"1\" class=\"dataframe\"><thead><tr><th>molecule</th><th>bb1</th><th>bb2</th><th>bb3</th><th>scaffold_idx</th><th>ori</th><th>mol_per_scaf</th><th>index</th></tr><tr><td>str</td><td>u16</td><td>u16</td><td>u16</td><td>i64</td><td>i32</td><td>u32</td><td>i64</td></tr></thead><tbody><tr><td>&quot;C#CCOc1ccc(CNc…</td><td>1640</td><td>1653</td><td>765</td><td>4283326</td><td>0</td><td>844</td><td>0</td></tr><tr><td>&quot;C#CCOc1ccc(CNc…</td><td>1640</td><td>1653</td><td>205</td><td>4486646</td><td>0</td><td>9444</td><td>1</td></tr><tr><td>&quot;C#CCOc1ccc(CNc…</td><td>1640</td><td>1653</td><td>1653</td><td>1015728</td><td>0</td><td>9030</td><td>2</td></tr><tr><td>&quot;C#CCOc1ccc(CNc…</td><td>1640</td><td>1653</td><td>146</td><td>5301385</td><td>0</td><td>26814</td><td>3</td></tr><tr><td>&quot;C#CCOc1ccc(CNc…</td><td>1640</td><td>1653</td><td>439</td><td>5301385</td><td>0</td><td>26814</td><td>4</td></tr><tr><td>&quot;C#CCOc1ccc(CNc…</td><td>1640</td><td>1653</td><td>196</td><td>5301385</td><td>0</td><td>26814</td><td>5</td></tr><tr><td>&quot;C#CCOc1ccc(CNc…</td><td>1640</td><td>1653</td><td>253</td><td>5301385</td><td>0</td><td>26814</td><td>6</td></tr><tr><td>&quot;C#CCOc1ccc(CNc…</td><td>1640</td><td>1653</td><td>1219</td><td>5301385</td><td>0</td><td>26814</td><td>7</td></tr><tr><td>&quot;C#CCOc1ccc(CNc…</td><td>1640</td><td>1653</td><td>604</td><td>543172</td><td>0</td><td>844</td><td>8</td></tr><tr><td>&quot;C#CCOc1ccc(CNc…</td><td>1640</td><td>1653</td><td>121</td><td>2571428</td><td>0</td><td>864</td><td>9</td></tr><tr><td>&hellip;</td><td>&hellip;</td><td>&hellip;</td><td>&hellip;</td><td>&hellip;</td><td>&hellip;</td><td>&hellip;</td><td>&hellip;</td></tr><tr><td>&quot;O=C(N[Dy])C1CC…</td><td>112</td><td>2014</td><td>534</td><td>3912991</td><td>1</td><td>8</td><td>98784639</td></tr><tr><td>&quot;O=C(N[Dy])c1nc…</td><td>875</td><td>393</td><td>1979</td><td>4709603</td><td>1</td><td>489</td><td>98784640</td></tr><tr><td>&quot;Cc1ccc(CNc2nc(…</td><td>2059</td><td>1770</td><td>975</td><td>5945980</td><td>1</td><td>2640</td><td>98784641</td></tr><tr><td>&quot;Cc1cc(C)c(CNc2…</td><td>1461</td><td>283</td><td>1397</td><td>4503814</td><td>1</td><td>542</td><td>98784642</td></tr><tr><td>&quot;CCS(=O)(=O)c1c…</td><td>7</td><td>612</td><td>1718</td><td>5202112</td><td>1</td><td>4959</td><td>98784643</td></tr><tr><td>&quot;COc1ccc(Nc2nc(…</td><td>1779</td><td>1958</td><td>1697</td><td>2217250</td><td>1</td><td>500170</td><td>98784644</td></tr><tr><td>&quot;COc1ncccc1Nc1n…</td><td>159</td><td>1029</td><td>826</td><td>4424049</td><td>1</td><td>1513</td><td>98784645</td></tr><tr><td>&quot;Cc1cscc1CNc1nc…</td><td>575</td><td>151</td><td>1456</td><td>4803782</td><td>1</td><td>63850</td><td>98784646</td></tr><tr><td>&quot;N#Cc1ncc(Nc2nc…</td><td>957</td><td>1545</td><td>324</td><td>2032781</td><td>1</td><td>1792</td><td>98784647</td></tr><tr><td>&quot;COCC1(CNc2nc(N…</td><td>673</td><td>2089</td><td>1412</td><td>5741906</td><td>1</td><td>4276</td><td>98784648</td></tr></tbody></table></div>"
      ],
      "text/plain": [
       "shape: (98_784_649, 8)\n",
       "┌──────────────────────────────┬──────┬──────┬──────┬──────────────┬─────┬──────────────┬──────────┐\n",
       "│ molecule                     ┆ bb1  ┆ bb2  ┆ bb3  ┆ scaffold_idx ┆ ori ┆ mol_per_scaf ┆ index    │\n",
       "│ ---                          ┆ ---  ┆ ---  ┆ ---  ┆ ---          ┆ --- ┆ ---          ┆ ---      │\n",
       "│ str                          ┆ u16  ┆ u16  ┆ u16  ┆ i64          ┆ i32 ┆ u32          ┆ i64      │\n",
       "╞══════════════════════════════╪══════╪══════╪══════╪══════════════╪═════╪══════════════╪══════════╡\n",
       "│ C#CCOc1ccc(CNc2nc(NCC3CCCN3c ┆ 1640 ┆ 1653 ┆ 765  ┆ 4283326      ┆ 0   ┆ 844          ┆ 0        │\n",
       "│ 3ccc…                        ┆      ┆      ┆      ┆              ┆     ┆              ┆          │\n",
       "│ C#CCOc1ccc(CNc2nc(NCc3cccc(B ┆ 1640 ┆ 1653 ┆ 205  ┆ 4486646      ┆ 0   ┆ 9444         ┆ 1        │\n",
       "│ r)n3…                        ┆      ┆      ┆      ┆              ┆     ┆              ┆          │\n",
       "│ C#CCOc1ccc(CNc2nc(NCc3ccc(OC ┆ 1640 ┆ 1653 ┆ 1653 ┆ 1015728      ┆ 0   ┆ 9030         ┆ 2        │\n",
       "│ C#C)…                        ┆      ┆      ┆      ┆              ┆     ┆              ┆          │\n",
       "│ C#CCOc1ccc(CNc2nc(NCCNC(=O)C ┆ 1640 ┆ 1653 ┆ 146  ┆ 5301385      ┆ 0   ┆ 26814        ┆ 3        │\n",
       "│ (=C)…                        ┆      ┆      ┆      ┆              ┆     ┆              ┆          │\n",
       "│ C#CCOc1ccc(CNc2nc(NCC(=O)NCC ┆ 1640 ┆ 1653 ┆ 439  ┆ 5301385      ┆ 0   ┆ 26814        ┆ 4        │\n",
       "│ =C)n…                        ┆      ┆      ┆      ┆              ┆     ┆              ┆          │\n",
       "│ C#CCOc1ccc(CNc2nc(NCC(C)OCC= ┆ 1640 ┆ 1653 ┆ 196  ┆ 5301385      ┆ 0   ┆ 26814        ┆ 5        │\n",
       "│ C)nc…                        ┆      ┆      ┆      ┆              ┆     ┆              ┆          │\n",
       "│ C#CCOc1ccc(CNc2nc(NCCCOCC=C) ┆ 1640 ┆ 1653 ┆ 253  ┆ 5301385      ┆ 0   ┆ 26814        ┆ 6        │\n",
       "│ nc(N…                        ┆      ┆      ┆      ┆              ┆     ┆              ┆          │\n",
       "│ C#CCOc1ccc(CNc2nc(NCCOCC=C)n ┆ 1640 ┆ 1653 ┆ 1219 ┆ 5301385      ┆ 0   ┆ 26814        ┆ 7        │\n",
       "│ c(N[…                        ┆      ┆      ┆      ┆              ┆     ┆              ┆          │\n",
       "│ C#CCOc1ccc(CNc2nc(Nc3cnn(C4C ┆ 1640 ┆ 1653 ┆ 604  ┆ 543172       ┆ 0   ┆ 844          ┆ 8        │\n",
       "│ CN(C…                        ┆      ┆      ┆      ┆              ┆     ┆              ┆          │\n",
       "│ C#CCOc1ccc(CNc2nc(Nc3n[nH]c4 ┆ 1640 ┆ 1653 ┆ 121  ┆ 2571428      ┆ 0   ┆ 864          ┆ 9        │\n",
       "│ c3CN…                        ┆      ┆      ┆      ┆              ┆     ┆              ┆          │\n",
       "│ …                            ┆ …    ┆ …    ┆ …    ┆ …            ┆ …   ┆ …            ┆ …        │\n",
       "│ O=C(N[Dy])C1CCCN1c1nc(NCc2nc ┆ 112  ┆ 2014 ┆ 534  ┆ 3912991      ┆ 1   ┆ 8            ┆ 98784639 │\n",
       "│ 3c(s…                        ┆      ┆      ┆      ┆              ┆     ┆              ┆          │\n",
       "│ O=C(N[Dy])c1nc(Cl)cc(Cl)c1Nc ┆ 875  ┆ 393  ┆ 1979 ┆ 4709603      ┆ 1   ┆ 489          ┆ 98784640 │\n",
       "│ 1nc(…                        ┆      ┆      ┆      ┆              ┆     ┆              ┆          │\n",
       "│ Cc1ccc(CNc2nc(NCC(C)c3c(Cl)c ┆ 2059 ┆ 1770 ┆ 975  ┆ 5945980      ┆ 1   ┆ 2640         ┆ 98784641 │\n",
       "│ ccc3…                        ┆      ┆      ┆      ┆              ┆     ┆              ┆          │\n",
       "│ Cc1cc(C)c(CNc2nc(NCc3sccc3C) ┆ 1461 ┆ 283  ┆ 1397 ┆ 4503814      ┆ 1   ┆ 542          ┆ 98784642 │\n",
       "│ nc(N…                        ┆      ┆      ┆      ┆              ┆     ┆              ┆          │\n",
       "│ CCS(=O)(=O)c1cc(C(=O)N[Dy])c ┆ 7    ┆ 612  ┆ 1718 ┆ 5202112      ┆ 1   ┆ 4959         ┆ 98784643 │\n",
       "│ (OC)…                        ┆      ┆      ┆      ┆              ┆     ┆              ┆          │\n",
       "│ COc1ccc(Nc2nc(Nc3cc(F)c(F)cc ┆ 1779 ┆ 1958 ┆ 1697 ┆ 2217250      ┆ 1   ┆ 500170       ┆ 98784644 │\n",
       "│ 3[N+…                        ┆      ┆      ┆      ┆              ┆     ┆              ┆          │\n",
       "│ COc1ncccc1Nc1nc(NCc2cnsc2)nc ┆ 159  ┆ 1029 ┆ 826  ┆ 4424049      ┆ 1   ┆ 1513         ┆ 98784645 │\n",
       "│ (N[C…                        ┆      ┆      ┆      ┆              ┆     ┆              ┆          │\n",
       "│ Cc1cscc1CNc1nc(Nc2ccc(C(=O)N ┆ 575  ┆ 151  ┆ 1456 ┆ 4803782      ┆ 1   ┆ 63850        ┆ 98784646 │\n",
       "│ [Dy]…                        ┆      ┆      ┆      ┆              ┆     ┆              ┆          │\n",
       "│ N#Cc1ncc(Nc2nc(Nc3nc(-c4ccc( ┆ 957  ┆ 1545 ┆ 324  ┆ 2032781      ┆ 1   ┆ 1792         ┆ 98784647 │\n",
       "│ Cl)c…                        ┆      ┆      ┆      ┆              ┆     ┆              ┆          │\n",
       "│ COCC1(CNc2nc(Nc3ccc(C(=O)N[D ┆ 673  ┆ 2089 ┆ 1412 ┆ 5741906      ┆ 1   ┆ 4276         ┆ 98784648 │\n",
       "│ y])c…                        ┆      ┆      ┆      ┆              ┆     ┆              ┆          │\n",
       "└──────────────────────────────┴──────┴──────┴──────┴──────────────┴─────┴──────────────┴──────────┘"
      ]
     },
     "execution_count": 15,
     "metadata": {},
     "output_type": "execute_result"
    }
   ],
   "source": [
    "train1_df = train1_df.with_columns(index = pl.Series(list(range(len(train1_df)))))\n",
    "train1_df"
   ]
  },
  {
   "cell_type": "code",
   "execution_count": 16,
   "id": "fd7fca45-f68d-4936-9c05-f8b70095d8d8",
   "metadata": {},
   "outputs": [
    {
     "data": {
      "text/html": [
       "<div><style>\n",
       ".dataframe > thead > tr,\n",
       ".dataframe > tbody > tr {\n",
       "  text-align: right;\n",
       "  white-space: pre-wrap;\n",
       "}\n",
       "</style>\n",
       "<small>shape: (1, 8)</small><table border=\"1\" class=\"dataframe\"><thead><tr><th>molecule</th><th>bb1</th><th>bb2</th><th>bb3</th><th>scaffold_idx</th><th>ori</th><th>mol_per_scaf</th><th>index</th></tr><tr><td>u32</td><td>u32</td><td>u32</td><td>u32</td><td>u32</td><td>u32</td><td>u32</td><td>u32</td></tr></thead><tbody><tr><td>2226280</td><td>115</td><td>451</td><td>526</td><td>364</td><td>2</td><td>5</td><td>2226280</td></tr></tbody></table></div>"
      ],
      "text/plain": [
       "shape: (1, 8)\n",
       "┌──────────┬─────┬─────┬─────┬──────────────┬─────┬──────────────┬─────────┐\n",
       "│ molecule ┆ bb1 ┆ bb2 ┆ bb3 ┆ scaffold_idx ┆ ori ┆ mol_per_scaf ┆ index   │\n",
       "│ ---      ┆ --- ┆ --- ┆ --- ┆ ---          ┆ --- ┆ ---          ┆ ---     │\n",
       "│ u32      ┆ u32 ┆ u32 ┆ u32 ┆ u32          ┆ u32 ┆ u32          ┆ u32     │\n",
       "╞══════════╪═════╪═════╪═════╪══════════════╪═════╪══════════════╪═════════╡\n",
       "│ 2226280  ┆ 115 ┆ 451 ┆ 526 ┆ 364          ┆ 2   ┆ 5            ┆ 2226280 │\n",
       "└──────────┴─────┴─────┴─────┴──────────────┴─────┴──────────────┴─────────┘"
      ]
     },
     "execution_count": 16,
     "metadata": {},
     "output_type": "execute_result"
    }
   ],
   "source": [
    "train1_df.filter(pl.col('mol_per_scaf').is_between(6116, 6150)).select(pl.col('*').n_unique())"
   ]
  },
  {
   "cell_type": "code",
   "execution_count": 17,
   "id": "74309fee-7489-4c71-81d0-b5e6d5fbe0e2",
   "metadata": {},
   "outputs": [
    {
     "data": {
      "text/html": [
       "<div><style>\n",
       ".dataframe > thead > tr,\n",
       ".dataframe > tbody > tr {\n",
       "  text-align: right;\n",
       "  white-space: pre-wrap;\n",
       "}\n",
       "</style>\n",
       "<small>shape: (1, 8)</small><table border=\"1\" class=\"dataframe\"><thead><tr><th>molecule</th><th>bb1</th><th>bb2</th><th>bb3</th><th>scaffold_idx</th><th>ori</th><th>mol_per_scaf</th><th>index</th></tr><tr><td>u32</td><td>u32</td><td>u32</td><td>u32</td><td>u32</td><td>u32</td><td>u32</td><td>u32</td></tr></thead><tbody><tr><td>79349425</td><td>271</td><td>693</td><td>872</td><td>5726656</td><td>2</td><td>1922</td><td>79349425</td></tr></tbody></table></div>"
      ],
      "text/plain": [
       "shape: (1, 8)\n",
       "┌──────────┬─────┬─────┬─────┬──────────────┬─────┬──────────────┬──────────┐\n",
       "│ molecule ┆ bb1 ┆ bb2 ┆ bb3 ┆ scaffold_idx ┆ ori ┆ mol_per_scaf ┆ index    │\n",
       "│ ---      ┆ --- ┆ --- ┆ --- ┆ ---          ┆ --- ┆ ---          ┆ ---      │\n",
       "│ u32      ┆ u32 ┆ u32 ┆ u32 ┆ u32          ┆ u32 ┆ u32          ┆ u32      │\n",
       "╞══════════╪═════╪═════╪═════╪══════════════╪═════╪══════════════╪══════════╡\n",
       "│ 79349425 ┆ 271 ┆ 693 ┆ 872 ┆ 5726656      ┆ 2   ┆ 1922         ┆ 79349425 │\n",
       "└──────────┴─────┴─────┴─────┴──────────────┴─────┴──────────────┴──────────┘"
      ]
     },
     "execution_count": 17,
     "metadata": {},
     "output_type": "execute_result"
    }
   ],
   "source": [
    "tmp_train1_df = train1_df.filter(pl.col('mol_per_scaf').is_between(0, 6116))\n",
    "tmp_train1_df.filter(pl.col('mol_per_scaf') >= 0).select(pl.col('*').n_unique())"
   ]
  },
  {
   "cell_type": "code",
   "execution_count": 18,
   "id": "7ce5144c-bb39-43fe-8748-6ffac7938c79",
   "metadata": {},
   "outputs": [
    {
     "data": {
      "text/html": [
       "<div><style>\n",
       ".dataframe > thead > tr,\n",
       ".dataframe > tbody > tr {\n",
       "  text-align: right;\n",
       "  white-space: pre-wrap;\n",
       "}\n",
       "</style>\n",
       "<small>shape: (19_435_224, 8)</small><table border=\"1\" class=\"dataframe\"><thead><tr><th>molecule</th><th>bb1</th><th>bb2</th><th>bb3</th><th>scaffold_idx</th><th>ori</th><th>mol_per_scaf</th><th>index</th></tr><tr><td>str</td><td>u16</td><td>u16</td><td>u16</td><td>i64</td><td>i32</td><td>u32</td><td>i64</td></tr></thead><tbody><tr><td>&quot;C#CCOc1ccc(CNc…</td><td>1640</td><td>1653</td><td>205</td><td>4486646</td><td>0</td><td>9444</td><td>1</td></tr><tr><td>&quot;C#CCOc1ccc(CNc…</td><td>1640</td><td>1653</td><td>1653</td><td>1015728</td><td>0</td><td>9030</td><td>2</td></tr><tr><td>&quot;C#CCOc1ccc(CNc…</td><td>1640</td><td>1653</td><td>146</td><td>5301385</td><td>0</td><td>26814</td><td>3</td></tr><tr><td>&quot;C#CCOc1ccc(CNc…</td><td>1640</td><td>1653</td><td>439</td><td>5301385</td><td>0</td><td>26814</td><td>4</td></tr><tr><td>&quot;C#CCOc1ccc(CNc…</td><td>1640</td><td>1653</td><td>196</td><td>5301385</td><td>0</td><td>26814</td><td>5</td></tr><tr><td>&quot;C#CCOc1ccc(CNc…</td><td>1640</td><td>1653</td><td>253</td><td>5301385</td><td>0</td><td>26814</td><td>6</td></tr><tr><td>&quot;C#CCOc1ccc(CNc…</td><td>1640</td><td>1653</td><td>1219</td><td>5301385</td><td>0</td><td>26814</td><td>7</td></tr><tr><td>&quot;C#CCOc1ccc(CNc…</td><td>1640</td><td>1653</td><td>728</td><td>5084942</td><td>0</td><td>7616</td><td>10</td></tr><tr><td>&quot;C#CCOc1ccc(CNc…</td><td>1640</td><td>1653</td><td>298</td><td>2494349</td><td>0</td><td>133931</td><td>11</td></tr><tr><td>&quot;C#CCOc1ccc(CNc…</td><td>1640</td><td>1653</td><td>849</td><td>5301385</td><td>0</td><td>26814</td><td>14</td></tr><tr><td>&hellip;</td><td>&hellip;</td><td>&hellip;</td><td>&hellip;</td><td>&hellip;</td><td>&hellip;</td><td>&hellip;</td><td>&hellip;</td></tr><tr><td>&quot;C#CCOc1ccc(CNc…</td><td>637</td><td>437</td><td>1653</td><td>2494349</td><td>1</td><td>133931</td><td>98784542</td></tr><tr><td>&quot;COc1cc(C#N)c(F…</td><td>905</td><td>1503</td><td>98</td><td>4632750</td><td>1</td><td>334990</td><td>98784557</td></tr><tr><td>&quot;COC(=O)c1ccc(N…</td><td>1120</td><td>749</td><td>1115</td><td>4861294</td><td>1</td><td>413576</td><td>98784558</td></tr><tr><td>&quot;CCOC(CNc1nc(NC…</td><td>1120</td><td>1682</td><td>955</td><td>1699942</td><td>1</td><td>18348</td><td>98784562</td></tr><tr><td>&quot;O=C(C[C@@H](Cc…</td><td>1600</td><td>1788</td><td>1851</td><td>902295</td><td>1</td><td>69884</td><td>98784571</td></tr><tr><td>&quot;N#Cc1ccc(C[C@H…</td><td>1844</td><td>478</td><td>1324</td><td>4583912</td><td>1</td><td>224960</td><td>98784595</td></tr><tr><td>&quot;COC(=O)Cc1nc(N…</td><td>1426</td><td>454</td><td>245</td><td>3043841</td><td>1</td><td>22726</td><td>98784632</td></tr><tr><td>&quot;COC(=O)c1ccc(N…</td><td>186</td><td>1587</td><td>1115</td><td>2123870</td><td>1</td><td>8439</td><td>98784638</td></tr><tr><td>&quot;COc1ccc(Nc2nc(…</td><td>1779</td><td>1958</td><td>1697</td><td>2217250</td><td>1</td><td>500170</td><td>98784644</td></tr><tr><td>&quot;Cc1cscc1CNc1nc…</td><td>575</td><td>151</td><td>1456</td><td>4803782</td><td>1</td><td>63850</td><td>98784646</td></tr></tbody></table></div>"
      ],
      "text/plain": [
       "shape: (19_435_224, 8)\n",
       "┌──────────────────────────────┬──────┬──────┬──────┬──────────────┬─────┬──────────────┬──────────┐\n",
       "│ molecule                     ┆ bb1  ┆ bb2  ┆ bb3  ┆ scaffold_idx ┆ ori ┆ mol_per_scaf ┆ index    │\n",
       "│ ---                          ┆ ---  ┆ ---  ┆ ---  ┆ ---          ┆ --- ┆ ---          ┆ ---      │\n",
       "│ str                          ┆ u16  ┆ u16  ┆ u16  ┆ i64          ┆ i32 ┆ u32          ┆ i64      │\n",
       "╞══════════════════════════════╪══════╪══════╪══════╪══════════════╪═════╪══════════════╪══════════╡\n",
       "│ C#CCOc1ccc(CNc2nc(NCc3cccc(B ┆ 1640 ┆ 1653 ┆ 205  ┆ 4486646      ┆ 0   ┆ 9444         ┆ 1        │\n",
       "│ r)n3…                        ┆      ┆      ┆      ┆              ┆     ┆              ┆          │\n",
       "│ C#CCOc1ccc(CNc2nc(NCc3ccc(OC ┆ 1640 ┆ 1653 ┆ 1653 ┆ 1015728      ┆ 0   ┆ 9030         ┆ 2        │\n",
       "│ C#C)…                        ┆      ┆      ┆      ┆              ┆     ┆              ┆          │\n",
       "│ C#CCOc1ccc(CNc2nc(NCCNC(=O)C ┆ 1640 ┆ 1653 ┆ 146  ┆ 5301385      ┆ 0   ┆ 26814        ┆ 3        │\n",
       "│ (=C)…                        ┆      ┆      ┆      ┆              ┆     ┆              ┆          │\n",
       "│ C#CCOc1ccc(CNc2nc(NCC(=O)NCC ┆ 1640 ┆ 1653 ┆ 439  ┆ 5301385      ┆ 0   ┆ 26814        ┆ 4        │\n",
       "│ =C)n…                        ┆      ┆      ┆      ┆              ┆     ┆              ┆          │\n",
       "│ C#CCOc1ccc(CNc2nc(NCC(C)OCC= ┆ 1640 ┆ 1653 ┆ 196  ┆ 5301385      ┆ 0   ┆ 26814        ┆ 5        │\n",
       "│ C)nc…                        ┆      ┆      ┆      ┆              ┆     ┆              ┆          │\n",
       "│ C#CCOc1ccc(CNc2nc(NCCCOCC=C) ┆ 1640 ┆ 1653 ┆ 253  ┆ 5301385      ┆ 0   ┆ 26814        ┆ 6        │\n",
       "│ nc(N…                        ┆      ┆      ┆      ┆              ┆     ┆              ┆          │\n",
       "│ C#CCOc1ccc(CNc2nc(NCCOCC=C)n ┆ 1640 ┆ 1653 ┆ 1219 ┆ 5301385      ┆ 0   ┆ 26814        ┆ 7        │\n",
       "│ c(N[…                        ┆      ┆      ┆      ┆              ┆     ┆              ┆          │\n",
       "│ C#CCOc1ccc(CNc2nc(Nc3cc(C(C) ┆ 1640 ┆ 1653 ┆ 728  ┆ 5084942      ┆ 0   ┆ 7616         ┆ 10       │\n",
       "│ (C)C…                        ┆      ┆      ┆      ┆              ┆     ┆              ┆          │\n",
       "│ C#CCOc1ccc(CNc2nc(Nc3cc(C(C) ┆ 1640 ┆ 1653 ┆ 298  ┆ 2494349      ┆ 0   ┆ 133931       ┆ 11       │\n",
       "│ (C)C…                        ┆      ┆      ┆      ┆              ┆     ┆              ┆          │\n",
       "│ C#CCOc1ccc(CNc2nc(NCCNC(=O)N ┆ 1640 ┆ 1653 ┆ 849  ┆ 5301385      ┆ 0   ┆ 26814        ┆ 14       │\n",
       "│ C(C)…                        ┆      ┆      ┆      ┆              ┆     ┆              ┆          │\n",
       "│ …                            ┆ …    ┆ …    ┆ …    ┆ …            ┆ …   ┆ …            ┆ …        │\n",
       "│ C#CCOc1ccc(CNc2nc(NCCCOCC)nc ┆ 637  ┆ 437  ┆ 1653 ┆ 2494349      ┆ 1   ┆ 133931       ┆ 98784542 │\n",
       "│ (Nc3…                        ┆      ┆      ┆      ┆              ┆     ┆              ┆          │\n",
       "│ COc1cc(C#N)c(F)cc1Nc1nc(Nc2c ┆ 905  ┆ 1503 ┆ 98   ┆ 4632750      ┆ 1   ┆ 334990       ┆ 98784557 │\n",
       "│ cc([…                        ┆      ┆      ┆      ┆              ┆     ┆              ┆          │\n",
       "│ COC(=O)c1ccc(Nc2nc(Nc3cc(C)c ┆ 1120 ┆ 749  ┆ 1115 ┆ 4861294      ┆ 1   ┆ 413576       ┆ 98784558 │\n",
       "│ c(Cl…                        ┆      ┆      ┆      ┆              ┆     ┆              ┆          │\n",
       "│ CCOC(CNc1nc(NCc2cn(C)nc2Br)n ┆ 1120 ┆ 1682 ┆ 955  ┆ 1699942      ┆ 1   ┆ 18348        ┆ 98784562 │\n",
       "│ c(Nc…                        ┆      ┆      ┆      ┆              ┆     ┆              ┆          │\n",
       "│ O=C(C[C@@H](Cc1ccc(Br)cc1)Nc ┆ 1600 ┆ 1788 ┆ 1851 ┆ 902295       ┆ 1   ┆ 69884        ┆ 98784571 │\n",
       "│ 1nc(…                        ┆      ┆      ┆      ┆              ┆     ┆              ┆          │\n",
       "│ N#Cc1ccc(C[C@H](CC(=O)N[Dy]) ┆ 1844 ┆ 478  ┆ 1324 ┆ 4583912      ┆ 1   ┆ 224960       ┆ 98784595 │\n",
       "│ Nc2n…                        ┆      ┆      ┆      ┆              ┆     ┆              ┆          │\n",
       "│ COC(=O)Cc1nc(Nc2nc(NCc3ccc(S ┆ 1426 ┆ 454  ┆ 245  ┆ 3043841      ┆ 1   ┆ 22726        ┆ 98784632 │\n",
       "│ C)c(…                        ┆      ┆      ┆      ┆              ┆     ┆              ┆          │\n",
       "│ COC(=O)c1ccc(Nc2nc(NCc3ccc4c ┆ 186  ┆ 1587 ┆ 1115 ┆ 2123870      ┆ 1   ┆ 8439         ┆ 98784638 │\n",
       "│ (c3)…                        ┆      ┆      ┆      ┆              ┆     ┆              ┆          │\n",
       "│ COc1ccc(Nc2nc(Nc3cc(F)c(F)cc ┆ 1779 ┆ 1958 ┆ 1697 ┆ 2217250      ┆ 1   ┆ 500170       ┆ 98784644 │\n",
       "│ 3[N+…                        ┆      ┆      ┆      ┆              ┆     ┆              ┆          │\n",
       "│ Cc1cscc1CNc1nc(Nc2ccc(C(=O)N ┆ 575  ┆ 151  ┆ 1456 ┆ 4803782      ┆ 1   ┆ 63850        ┆ 98784646 │\n",
       "│ [Dy]…                        ┆      ┆      ┆      ┆              ┆     ┆              ┆          │\n",
       "└──────────────────────────────┴──────┴──────┴──────┴──────────────┴─────┴──────────────┴──────────┘"
      ]
     },
     "execution_count": 18,
     "metadata": {},
     "output_type": "execute_result"
    }
   ],
   "source": [
    "remain_tmp_train1_df = train1_df.filter(~pl.col('mol_per_scaf').is_between(0, 6116))\n",
    "remain_tmp_train1_df"
   ]
  },
  {
   "cell_type": "code",
   "execution_count": 19,
   "id": "c4bf3155-5d23-4a4b-b642-b61774ed1e7a",
   "metadata": {},
   "outputs": [
    {
     "data": {
      "text/plain": [
       "0.8032566375773629"
      ]
     },
     "execution_count": 19,
     "metadata": {},
     "output_type": "execute_result"
    }
   ],
   "source": [
    "79349425 / 98784649"
   ]
  },
  {
   "cell_type": "markdown",
   "id": "c3516fea-2f91-42c8-8e7b-d0d614b3b239",
   "metadata": {},
   "source": [
    "Hmm, 6116 is 80% percentile. Let's verify"
   ]
  },
  {
   "cell_type": "code",
   "execution_count": 20,
   "id": "baed7ebf-6b10-42c5-a1c3-8ce897dc1923",
   "metadata": {},
   "outputs": [
    {
     "data": {
      "text/html": [
       "<div><style>\n",
       ".dataframe > thead > tr,\n",
       ".dataframe > tbody > tr {\n",
       "  text-align: right;\n",
       "  white-space: pre-wrap;\n",
       "}\n",
       "</style>\n",
       "<small>shape: (7, 9)</small><table border=\"1\" class=\"dataframe\"><thead><tr><th>statistic</th><th>molecule</th><th>bb1</th><th>bb2</th><th>bb3</th><th>scaffold_idx</th><th>ori</th><th>mol_per_scaf</th><th>index</th></tr><tr><td>str</td><td>str</td><td>f64</td><td>f64</td><td>f64</td><td>f64</td><td>f64</td><td>f64</td><td>f64</td></tr></thead><tbody><tr><td>&quot;count&quot;</td><td>&quot;98784649&quot;</td><td>9.8784649e7</td><td>9.8784649e7</td><td>9.8784649e7</td><td>9.8784649e7</td><td>9.8784649e7</td><td>9.8784649e7</td><td>9.8784649e7</td></tr><tr><td>&quot;null_count&quot;</td><td>&quot;0&quot;</td><td>0.0</td><td>0.0</td><td>0.0</td><td>0.0</td><td>0.0</td><td>0.0</td><td>0.0</td></tr><tr><td>&quot;mean&quot;</td><td>null</td><td>1088.99631</td><td>1076.385107</td><td>1045.043548</td><td>3.0288e6</td><td>0.003736</td><td>15463.047904</td><td>4.9392324e7</td></tr><tr><td>&quot;std&quot;</td><td>null</td><td>590.596121</td><td>611.750833</td><td>611.632137</td><td>1.7254e6</td><td>0.061007</td><td>58910.282717</td><td>2.8517e7</td></tr><tr><td>&quot;min&quot;</td><td>&quot;C#CCOc1ccc(CNc…</td><td>7.0</td><td>0.0</td><td>0.0</td><td>0.0</td><td>0.0</td><td>1.0</td><td>0.0</td></tr><tr><td>&quot;80%&quot;</td><td>null</td><td>1723.0</td><td>1701.0</td><td>1681.0</td><td>4.815338e6</td><td>0.0</td><td>6116.0</td><td>7.9027718e7</td></tr><tr><td>&quot;max&quot;</td><td>&quot;[N-]=[N+]=NCCC…</td><td>2084.0</td><td>2109.0</td><td>2109.0</td><td>5.971684e6</td><td>1.0</td><td>500170.0</td><td>9.8784648e7</td></tr></tbody></table></div>"
      ],
      "text/plain": [
       "shape: (7, 9)\n",
       "┌──────────┬──────────┬──────────┬──────────┬──────────┬──────────┬──────────┬──────────┬──────────┐\n",
       "│ statisti ┆ molecule ┆ bb1      ┆ bb2      ┆ bb3      ┆ scaffold ┆ ori      ┆ mol_per_ ┆ index    │\n",
       "│ c        ┆ ---      ┆ ---      ┆ ---      ┆ ---      ┆ _idx     ┆ ---      ┆ scaf     ┆ ---      │\n",
       "│ ---      ┆ str      ┆ f64      ┆ f64      ┆ f64      ┆ ---      ┆ f64      ┆ ---      ┆ f64      │\n",
       "│ str      ┆          ┆          ┆          ┆          ┆ f64      ┆          ┆ f64      ┆          │\n",
       "╞══════════╪══════════╪══════════╪══════════╪══════════╪══════════╪══════════╪══════════╪══════════╡\n",
       "│ count    ┆ 98784649 ┆ 9.878464 ┆ 9.878464 ┆ 9.878464 ┆ 9.878464 ┆ 9.878464 ┆ 9.878464 ┆ 9.878464 │\n",
       "│          ┆          ┆ 9e7      ┆ 9e7      ┆ 9e7      ┆ 9e7      ┆ 9e7      ┆ 9e7      ┆ 9e7      │\n",
       "│ null_cou ┆ 0        ┆ 0.0      ┆ 0.0      ┆ 0.0      ┆ 0.0      ┆ 0.0      ┆ 0.0      ┆ 0.0      │\n",
       "│ nt       ┆          ┆          ┆          ┆          ┆          ┆          ┆          ┆          │\n",
       "│ mean     ┆ null     ┆ 1088.996 ┆ 1076.385 ┆ 1045.043 ┆ 3.0288e6 ┆ 0.003736 ┆ 15463.04 ┆ 4.939232 │\n",
       "│          ┆          ┆ 31       ┆ 107      ┆ 548      ┆          ┆          ┆ 7904     ┆ 4e7      │\n",
       "│ std      ┆ null     ┆ 590.5961 ┆ 611.7508 ┆ 611.6321 ┆ 1.7254e6 ┆ 0.061007 ┆ 58910.28 ┆ 2.8517e7 │\n",
       "│          ┆          ┆ 21       ┆ 33       ┆ 37       ┆          ┆          ┆ 2717     ┆          │\n",
       "│ min      ┆ C#CCOc1c ┆ 7.0      ┆ 0.0      ┆ 0.0      ┆ 0.0      ┆ 0.0      ┆ 1.0      ┆ 0.0      │\n",
       "│          ┆ cc(CNc2n ┆          ┆          ┆          ┆          ┆          ┆          ┆          │\n",
       "│          ┆ c(NC(=N) ┆          ┆          ┆          ┆          ┆          ┆          ┆          │\n",
       "│          ┆ CCCN)nc( ┆          ┆          ┆          ┆          ┆          ┆          ┆          │\n",
       "│          ┆ …        ┆          ┆          ┆          ┆          ┆          ┆          ┆          │\n",
       "│ 80%      ┆ null     ┆ 1723.0   ┆ 1701.0   ┆ 1681.0   ┆ 4.815338 ┆ 0.0      ┆ 6116.0   ┆ 7.902771 │\n",
       "│          ┆          ┆          ┆          ┆          ┆ e6       ┆          ┆          ┆ 8e7      │\n",
       "│ max      ┆ [N-]=[N+ ┆ 2084.0   ┆ 2109.0   ┆ 2109.0   ┆ 5.971684 ┆ 1.0      ┆ 500170.0 ┆ 9.878464 │\n",
       "│          ┆ ]=NCCC[C ┆          ┆          ┆          ┆ e6       ┆          ┆          ┆ 8e7      │\n",
       "│          ┆ @H](Nc1n ┆          ┆          ┆          ┆          ┆          ┆          ┆          │\n",
       "│          ┆ c(Nc2noc ┆          ┆          ┆          ┆          ┆          ┆          ┆          │\n",
       "│          ┆ …        ┆          ┆          ┆          ┆          ┆          ┆          ┆          │\n",
       "└──────────┴──────────┴──────────┴──────────┴──────────┴──────────┴──────────┴──────────┴──────────┘"
      ]
     },
     "execution_count": 20,
     "metadata": {},
     "output_type": "execute_result"
    }
   ],
   "source": [
    "train1_df.describe(percentiles=[0.8])"
   ]
  },
  {
   "cell_type": "code",
   "execution_count": null,
   "id": "b1ddf780-6a7e-4755-9b79-fbc91b886c6e",
   "metadata": {},
   "outputs": [],
   "source": []
  },
  {
   "cell_type": "code",
   "execution_count": null,
   "id": "7eb1a881-00dc-438f-9565-e5eed8aecf6a",
   "metadata": {},
   "outputs": [],
   "source": []
  },
  {
   "cell_type": "code",
   "execution_count": 21,
   "id": "2c9ba931-cd1c-434e-a8e5-8ae80477e734",
   "metadata": {},
   "outputs": [
    {
     "data": {
      "text/plain": [
       "460.62685761389497"
      ]
     },
     "execution_count": 21,
     "metadata": {},
     "output_type": "execute_result"
    }
   ],
   "source": [
    "79349425 / 172264"
   ]
  },
  {
   "cell_type": "markdown",
   "id": "92d74069-36b7-4e50-bb8d-08c23ec41c77",
   "metadata": {},
   "source": [
    "# Hypothesis 2: BB-split -> Scaffold Split on lower 80% percentile -> Random Split on all"
   ]
  },
  {
   "cell_type": "code",
   "execution_count": 47,
   "id": "a07f24f8-4ff1-4c3c-9136-cba02e068414",
   "metadata": {},
   "outputs": [
    {
     "data": {
      "text/html": [
       "<div><style>\n",
       ".dataframe > thead > tr,\n",
       ".dataframe > tbody > tr {\n",
       "  text-align: right;\n",
       "  white-space: pre-wrap;\n",
       "}\n",
       "</style>\n",
       "<small>shape: (98_784_649, 8)</small><table border=\"1\" class=\"dataframe\"><thead><tr><th>molecule</th><th>bb1</th><th>bb2</th><th>bb3</th><th>scaffold_idx</th><th>ori</th><th>mol_per_scaf</th><th>index</th></tr><tr><td>str</td><td>u16</td><td>u16</td><td>u16</td><td>i64</td><td>i32</td><td>u32</td><td>i64</td></tr></thead><tbody><tr><td>&quot;C#CCOc1ccc(CNc…</td><td>1640</td><td>1653</td><td>765</td><td>4283326</td><td>0</td><td>844</td><td>0</td></tr><tr><td>&quot;C#CCOc1ccc(CNc…</td><td>1640</td><td>1653</td><td>205</td><td>4486646</td><td>0</td><td>9444</td><td>1</td></tr><tr><td>&quot;C#CCOc1ccc(CNc…</td><td>1640</td><td>1653</td><td>1653</td><td>1015728</td><td>0</td><td>9030</td><td>2</td></tr><tr><td>&quot;C#CCOc1ccc(CNc…</td><td>1640</td><td>1653</td><td>146</td><td>5301385</td><td>0</td><td>26814</td><td>3</td></tr><tr><td>&quot;C#CCOc1ccc(CNc…</td><td>1640</td><td>1653</td><td>439</td><td>5301385</td><td>0</td><td>26814</td><td>4</td></tr><tr><td>&quot;C#CCOc1ccc(CNc…</td><td>1640</td><td>1653</td><td>196</td><td>5301385</td><td>0</td><td>26814</td><td>5</td></tr><tr><td>&quot;C#CCOc1ccc(CNc…</td><td>1640</td><td>1653</td><td>253</td><td>5301385</td><td>0</td><td>26814</td><td>6</td></tr><tr><td>&quot;C#CCOc1ccc(CNc…</td><td>1640</td><td>1653</td><td>1219</td><td>5301385</td><td>0</td><td>26814</td><td>7</td></tr><tr><td>&quot;C#CCOc1ccc(CNc…</td><td>1640</td><td>1653</td><td>604</td><td>543172</td><td>0</td><td>844</td><td>8</td></tr><tr><td>&quot;C#CCOc1ccc(CNc…</td><td>1640</td><td>1653</td><td>121</td><td>2571428</td><td>0</td><td>864</td><td>9</td></tr><tr><td>&hellip;</td><td>&hellip;</td><td>&hellip;</td><td>&hellip;</td><td>&hellip;</td><td>&hellip;</td><td>&hellip;</td><td>&hellip;</td></tr><tr><td>&quot;CCOC(=O)c1cnc(…</td><td>2058</td><td>1757</td><td>615</td><td>5229411</td><td>1</td><td>219</td><td>98784639</td></tr><tr><td>&quot;Cc1cc(=O)oc2cc…</td><td>653</td><td>85</td><td>712</td><td>5630826</td><td>1</td><td>87</td><td>98784640</td></tr><tr><td>&quot;Cc1nn(C)c2ncc(…</td><td>971</td><td>1177</td><td>1841</td><td>2517935</td><td>1</td><td>2276</td><td>98784641</td></tr><tr><td>&quot;Cn1ccnc1Nc1nc(…</td><td>699</td><td>1992</td><td>233</td><td>5281750</td><td>1</td><td>56</td><td>98784642</td></tr><tr><td>&quot;COc1cc(F)c(Cl)…</td><td>1674</td><td>154</td><td>1398</td><td>30036</td><td>1</td><td>2305</td><td>98784643</td></tr><tr><td>&quot;COC(=O)c1cscc1…</td><td>1493</td><td>1266</td><td>1194</td><td>2126369</td><td>1</td><td>24</td><td>98784644</td></tr><tr><td>&quot;C=CCC(Nc1nc(NC…</td><td>1470</td><td>1770</td><td>1736</td><td>1745176</td><td>1</td><td>2276</td><td>98784645</td></tr><tr><td>&quot;COc1ccc(C[C@H]…</td><td>1611</td><td>1242</td><td>1056</td><td>5855032</td><td>1</td><td>47</td><td>98784646</td></tr><tr><td>&quot;CC(O)CCNc1nc(N…</td><td>2042</td><td>1402</td><td>113</td><td>5858112</td><td>1</td><td>2276</td><td>98784647</td></tr><tr><td>&quot;CCS(=O)(=O)c1c…</td><td>7</td><td>1491</td><td>1233</td><td>2101844</td><td>1</td><td>174</td><td>98784648</td></tr></tbody></table></div>"
      ],
      "text/plain": [
       "shape: (98_784_649, 8)\n",
       "┌──────────────────────────────┬──────┬──────┬──────┬──────────────┬─────┬──────────────┬──────────┐\n",
       "│ molecule                     ┆ bb1  ┆ bb2  ┆ bb3  ┆ scaffold_idx ┆ ori ┆ mol_per_scaf ┆ index    │\n",
       "│ ---                          ┆ ---  ┆ ---  ┆ ---  ┆ ---          ┆ --- ┆ ---          ┆ ---      │\n",
       "│ str                          ┆ u16  ┆ u16  ┆ u16  ┆ i64          ┆ i32 ┆ u32          ┆ i64      │\n",
       "╞══════════════════════════════╪══════╪══════╪══════╪══════════════╪═════╪══════════════╪══════════╡\n",
       "│ C#CCOc1ccc(CNc2nc(NCC3CCCN3c ┆ 1640 ┆ 1653 ┆ 765  ┆ 4283326      ┆ 0   ┆ 844          ┆ 0        │\n",
       "│ 3ccc…                        ┆      ┆      ┆      ┆              ┆     ┆              ┆          │\n",
       "│ C#CCOc1ccc(CNc2nc(NCc3cccc(B ┆ 1640 ┆ 1653 ┆ 205  ┆ 4486646      ┆ 0   ┆ 9444         ┆ 1        │\n",
       "│ r)n3…                        ┆      ┆      ┆      ┆              ┆     ┆              ┆          │\n",
       "│ C#CCOc1ccc(CNc2nc(NCc3ccc(OC ┆ 1640 ┆ 1653 ┆ 1653 ┆ 1015728      ┆ 0   ┆ 9030         ┆ 2        │\n",
       "│ C#C)…                        ┆      ┆      ┆      ┆              ┆     ┆              ┆          │\n",
       "│ C#CCOc1ccc(CNc2nc(NCCNC(=O)C ┆ 1640 ┆ 1653 ┆ 146  ┆ 5301385      ┆ 0   ┆ 26814        ┆ 3        │\n",
       "│ (=C)…                        ┆      ┆      ┆      ┆              ┆     ┆              ┆          │\n",
       "│ C#CCOc1ccc(CNc2nc(NCC(=O)NCC ┆ 1640 ┆ 1653 ┆ 439  ┆ 5301385      ┆ 0   ┆ 26814        ┆ 4        │\n",
       "│ =C)n…                        ┆      ┆      ┆      ┆              ┆     ┆              ┆          │\n",
       "│ C#CCOc1ccc(CNc2nc(NCC(C)OCC= ┆ 1640 ┆ 1653 ┆ 196  ┆ 5301385      ┆ 0   ┆ 26814        ┆ 5        │\n",
       "│ C)nc…                        ┆      ┆      ┆      ┆              ┆     ┆              ┆          │\n",
       "│ C#CCOc1ccc(CNc2nc(NCCCOCC=C) ┆ 1640 ┆ 1653 ┆ 253  ┆ 5301385      ┆ 0   ┆ 26814        ┆ 6        │\n",
       "│ nc(N…                        ┆      ┆      ┆      ┆              ┆     ┆              ┆          │\n",
       "│ C#CCOc1ccc(CNc2nc(NCCOCC=C)n ┆ 1640 ┆ 1653 ┆ 1219 ┆ 5301385      ┆ 0   ┆ 26814        ┆ 7        │\n",
       "│ c(N[…                        ┆      ┆      ┆      ┆              ┆     ┆              ┆          │\n",
       "│ C#CCOc1ccc(CNc2nc(Nc3cnn(C4C ┆ 1640 ┆ 1653 ┆ 604  ┆ 543172       ┆ 0   ┆ 844          ┆ 8        │\n",
       "│ CN(C…                        ┆      ┆      ┆      ┆              ┆     ┆              ┆          │\n",
       "│ C#CCOc1ccc(CNc2nc(Nc3n[nH]c4 ┆ 1640 ┆ 1653 ┆ 121  ┆ 2571428      ┆ 0   ┆ 864          ┆ 9        │\n",
       "│ c3CN…                        ┆      ┆      ┆      ┆              ┆     ┆              ┆          │\n",
       "│ …                            ┆ …    ┆ …    ┆ …    ┆ …            ┆ …   ┆ …            ┆ …        │\n",
       "│ CCOC(=O)c1cnc(Nc2nc(NCc3nc(- ┆ 2058 ┆ 1757 ┆ 615  ┆ 5229411      ┆ 1   ┆ 219          ┆ 98784639 │\n",
       "│ c4cc…                        ┆      ┆      ┆      ┆              ┆     ┆              ┆          │\n",
       "│ Cc1cc(=O)oc2cc(Nc3nc(Nc4nc(O ┆ 653  ┆ 85   ┆ 712  ┆ 5630826      ┆ 1   ┆ 87           ┆ 98784640 │\n",
       "│ Cc5c…                        ┆      ┆      ┆      ┆              ┆     ┆              ┆          │\n",
       "│ Cc1nn(C)c2ncc(CNc3nc(NCC(F)( ┆ 971  ┆ 1177 ┆ 1841 ┆ 2517935      ┆ 1   ┆ 2276         ┆ 98784641 │\n",
       "│ F)C(…                        ┆      ┆      ┆      ┆              ┆     ┆              ┆          │\n",
       "│ Cn1ccnc1Nc1nc(Nc2nc(-c3cccc( ┆ 699  ┆ 1992 ┆ 233  ┆ 5281750      ┆ 1   ┆ 56           ┆ 98784642 │\n",
       "│ [N+]…                        ┆      ┆      ┆      ┆              ┆     ┆              ┆          │\n",
       "│ COc1cc(F)c(Cl)cc1Nc1nc(NCC(= ┆ 1674 ┆ 154  ┆ 1398 ┆ 30036        ┆ 1   ┆ 2305         ┆ 98784643 │\n",
       "│ O)N2…                        ┆      ┆      ┆      ┆              ┆     ┆              ┆          │\n",
       "│ COC(=O)c1cscc1Nc1nc(NCC2(O)C ┆ 1493 ┆ 1266 ┆ 1194 ┆ 2126369      ┆ 1   ┆ 24           ┆ 98784644 │\n",
       "│ CSC2…                        ┆      ┆      ┆      ┆              ┆     ┆              ┆          │\n",
       "│ C=CCC(Nc1nc(NCC(C)c2c(Cl)ccc ┆ 1470 ┆ 1770 ┆ 1736 ┆ 1745176      ┆ 1   ┆ 2276         ┆ 98784645 │\n",
       "│ c2Cl…                        ┆      ┆      ┆      ┆              ┆     ┆              ┆          │\n",
       "│ COc1ccc(C[C@H](Nc2nc(Nc3cc(C ┆ 1611 ┆ 1242 ┆ 1056 ┆ 5855032      ┆ 1   ┆ 47           ┆ 98784646 │\n",
       "│ 4CC4…                        ┆      ┆      ┆      ┆              ┆     ┆              ┆          │\n",
       "│ CC(O)CCNc1nc(NCCCN2CCNC(=O)C ┆ 2042 ┆ 1402 ┆ 113  ┆ 5858112      ┆ 1   ┆ 2276         ┆ 98784647 │\n",
       "│ 2)nc…                        ┆      ┆      ┆      ┆              ┆     ┆              ┆          │\n",
       "│ CCS(=O)(=O)c1cc(C(=O)N[Dy])c ┆ 7    ┆ 1491 ┆ 1233 ┆ 2101844      ┆ 1   ┆ 174          ┆ 98784648 │\n",
       "│ (OC)…                        ┆      ┆      ┆      ┆              ┆     ┆              ┆          │\n",
       "└──────────────────────────────┴──────┴──────┴──────┴──────────────┴─────┴──────────────┴──────────┘"
      ]
     },
     "execution_count": 47,
     "metadata": {},
     "output_type": "execute_result"
    }
   ],
   "source": [
    "stage2_df = stage2_df.with_columns(index = pl.Series(list(range(len(stage2_df)))))\n",
    "stage2_df"
   ]
  },
  {
   "cell_type": "code",
   "execution_count": 48,
   "id": "6a1c43b5-5198-4081-9a01-bc1aa4f199ac",
   "metadata": {},
   "outputs": [
    {
     "data": {
      "text/plain": [
       "(98784649, 8)"
      ]
     },
     "execution_count": 48,
     "metadata": {},
     "output_type": "execute_result"
    }
   ],
   "source": [
    "stage2_df.shape"
   ]
  },
  {
   "cell_type": "code",
   "execution_count": 132,
   "id": "feac0091-65d0-4608-89ec-4ab01cf9c043",
   "metadata": {},
   "outputs": [
    {
     "data": {
      "text/plain": [
       "79027719"
      ]
     },
     "execution_count": 132,
     "metadata": {},
     "output_type": "execute_result"
    }
   ],
   "source": [
    "# lower_stage2_idxs = stage2_df.sort('mol_per_scaf', descending = False)[: int(stage2_df.shape[0] * 0.8), 'index']\n",
    "# print(len(lower_stage2_idxs))\n",
    "\n",
    "# lower_stage2_df = stage2_df[lower_stage2_idxs]\n",
    "# print(lower_stage2_df['mol_per_scaf'].max())\n",
    "\n",
    "\n",
    "# higher_stage2_df = stage2_df.filter(~pl.col('index').is_in(lower_stage2_idxs))\n",
    "# higher_stage2_df.shape"
   ]
  },
  {
   "cell_type": "code",
   "execution_count": 49,
   "id": "127c9815-2f6a-47ec-afdf-e7642d09c1a6",
   "metadata": {},
   "outputs": [
    {
     "data": {
      "text/html": [
       "<div><style>\n",
       ".dataframe > thead > tr,\n",
       ".dataframe > tbody > tr {\n",
       "  text-align: right;\n",
       "  white-space: pre-wrap;\n",
       "}\n",
       "</style>\n",
       "<small>shape: (7, 2)</small><table border=\"1\" class=\"dataframe\"><thead><tr><th>statistic</th><th>value</th></tr><tr><td>str</td><td>f64</td></tr></thead><tbody><tr><td>&quot;count&quot;</td><td>9.8784649e7</td></tr><tr><td>&quot;null_count&quot;</td><td>0.0</td></tr><tr><td>&quot;mean&quot;</td><td>15463.047904</td></tr><tr><td>&quot;std&quot;</td><td>58910.282717</td></tr><tr><td>&quot;min&quot;</td><td>1.0</td></tr><tr><td>&quot;80%&quot;</td><td>6116.0</td></tr><tr><td>&quot;max&quot;</td><td>500170.0</td></tr></tbody></table></div>"
      ],
      "text/plain": [
       "shape: (7, 2)\n",
       "┌────────────┬──────────────┐\n",
       "│ statistic  ┆ value        │\n",
       "│ ---        ┆ ---          │\n",
       "│ str        ┆ f64          │\n",
       "╞════════════╪══════════════╡\n",
       "│ count      ┆ 9.8784649e7  │\n",
       "│ null_count ┆ 0.0          │\n",
       "│ mean       ┆ 15463.047904 │\n",
       "│ std        ┆ 58910.282717 │\n",
       "│ min        ┆ 1.0          │\n",
       "│ 80%        ┆ 6116.0       │\n",
       "│ max        ┆ 500170.0     │\n",
       "└────────────┴──────────────┘"
      ]
     },
     "execution_count": 49,
     "metadata": {},
     "output_type": "execute_result"
    }
   ],
   "source": [
    "stage2_df['mol_per_scaf'].describe(percentiles=[0.8])"
   ]
  },
  {
   "cell_type": "code",
   "execution_count": 194,
   "id": "46477703-1892-41e8-885c-cb8163fb2056",
   "metadata": {},
   "outputs": [],
   "source": [
    "lower_stage2_df = stage2_df.filter(pl.col('mol_per_scaf').is_between(1, 6116))\n",
    "higher_stage2_df = stage2_df.filter((pl.col('mol_per_scaf') > 6116) | (pl.col('mol_per_scaf') <=0))"
   ]
  },
  {
   "cell_type": "code",
   "execution_count": 195,
   "id": "f7a0c358-18d0-45aa-8b1f-115fddfaa223",
   "metadata": {},
   "outputs": [
    {
     "data": {
      "text/plain": [
       "(98784649, 8)"
      ]
     },
     "execution_count": 195,
     "metadata": {},
     "output_type": "execute_result"
    }
   ],
   "source": [
    "stage2_df.shape"
   ]
  },
  {
   "cell_type": "code",
   "execution_count": 196,
   "id": "25ebff8a-733f-471e-bff4-3c6e430eabfe",
   "metadata": {},
   "outputs": [
    {
     "data": {
      "text/plain": [
       "(19435224, 8)"
      ]
     },
     "execution_count": 196,
     "metadata": {},
     "output_type": "execute_result"
    }
   ],
   "source": [
    "higher_stage2_df.shape"
   ]
  },
  {
   "cell_type": "code",
   "execution_count": null,
   "id": "bcd1ab94-64dd-42b4-a24a-d5b1003ad0cc",
   "metadata": {},
   "outputs": [],
   "source": []
  },
  {
   "cell_type": "code",
   "execution_count": 197,
   "id": "0d1a289a-d116-4754-bfd3-c5f432100755",
   "metadata": {},
   "outputs": [
    {
     "data": {
      "text/html": [
       "<div><style>\n",
       ".dataframe > thead > tr,\n",
       ".dataframe > tbody > tr {\n",
       "  text-align: right;\n",
       "  white-space: pre-wrap;\n",
       "}\n",
       "</style>\n",
       "<small>shape: (1, 8)</small><table border=\"1\" class=\"dataframe\"><thead><tr><th>molecule</th><th>bb1</th><th>bb2</th><th>bb3</th><th>scaffold_idx</th><th>ori</th><th>mol_per_scaf</th><th>index</th></tr><tr><td>u32</td><td>u32</td><td>u32</td><td>u32</td><td>u32</td><td>u32</td><td>u32</td><td>u32</td></tr></thead><tbody><tr><td>2177296</td><td>107</td><td>418</td><td>490</td><td>356</td><td>2</td><td>1</td><td>2177296</td></tr></tbody></table></div>"
      ],
      "text/plain": [
       "shape: (1, 8)\n",
       "┌──────────┬─────┬─────┬─────┬──────────────┬─────┬──────────────┬─────────┐\n",
       "│ molecule ┆ bb1 ┆ bb2 ┆ bb3 ┆ scaffold_idx ┆ ori ┆ mol_per_scaf ┆ index   │\n",
       "│ ---      ┆ --- ┆ --- ┆ --- ┆ ---          ┆ --- ┆ ---          ┆ ---     │\n",
       "│ u32      ┆ u32 ┆ u32 ┆ u32 ┆ u32          ┆ u32 ┆ u32          ┆ u32     │\n",
       "╞══════════╪═════╪═════╪═════╪══════════════╪═════╪══════════════╪═════════╡\n",
       "│ 2177296  ┆ 107 ┆ 418 ┆ 490 ┆ 356          ┆ 2   ┆ 1            ┆ 2177296 │\n",
       "└──────────┴─────┴─────┴─────┴──────────────┴─────┴──────────────┴─────────┘"
      ]
     },
     "execution_count": 197,
     "metadata": {},
     "output_type": "execute_result"
    }
   ],
   "source": [
    "stage2_df.filter(pl.col('mol_per_scaf') == 6116).select(pl.n_unique('*'))"
   ]
  },
  {
   "cell_type": "code",
   "execution_count": 198,
   "id": "0dbfc1bc-1765-488e-a3ca-326b57c7e2e4",
   "metadata": {},
   "outputs": [
    {
     "data": {
      "text/plain": [
       "(79349425, 8)"
      ]
     },
     "execution_count": 198,
     "metadata": {},
     "output_type": "execute_result"
    }
   ],
   "source": [
    "lower_stage2_df.shape"
   ]
  },
  {
   "cell_type": "code",
   "execution_count": 199,
   "id": "a8039af0-af92-4829-9655-a1df3bf4478c",
   "metadata": {},
   "outputs": [
    {
     "data": {
      "text/plain": [
       "(19435224, 8)"
      ]
     },
     "execution_count": 199,
     "metadata": {},
     "output_type": "execute_result"
    }
   ],
   "source": [
    "higher_stage2_df.shape"
   ]
  },
  {
   "cell_type": "code",
   "execution_count": 205,
   "id": "63b8ddec-3d3f-4889-b298-669760a3d35d",
   "metadata": {},
   "outputs": [
    {
     "data": {
      "text/plain": [
       "460.62685761389497"
      ]
     },
     "execution_count": 205,
     "metadata": {},
     "output_type": "execute_result"
    }
   ],
   "source": [
    "79349425 / 172264"
   ]
  },
  {
   "cell_type": "code",
   "execution_count": 201,
   "id": "cd032e6c-5825-4873-be9b-93c715058792",
   "metadata": {},
   "outputs": [
    {
     "data": {
      "text/plain": [
       "458.75934031486554"
      ]
     },
     "execution_count": 201,
     "metadata": {},
     "output_type": "execute_result"
    }
   ],
   "source": [
    "79027719 / 172264"
   ]
  },
  {
   "cell_type": "code",
   "execution_count": 202,
   "id": "1d638604-76dc-4395-823a-60bc52bdf456",
   "metadata": {},
   "outputs": [
    {
     "data": {
      "text/plain": [
       "150528.98857142858"
      ]
     },
     "execution_count": 202,
     "metadata": {},
     "output_type": "execute_result"
    }
   ],
   "source": [
    "79027719 / 525"
   ]
  },
  {
   "cell_type": "code",
   "execution_count": 203,
   "id": "cc962e67-691a-4b30-9638-a707e52931b0",
   "metadata": {},
   "outputs": [
    {
     "data": {
      "text/plain": [
       "0.0019047619047619048"
      ]
     },
     "execution_count": 203,
     "metadata": {},
     "output_type": "execute_result"
    }
   ],
   "source": [
    "1/525"
   ]
  },
  {
   "cell_type": "code",
   "execution_count": 204,
   "id": "fbe08ec4-6707-454c-949e-8abdf77a1f44",
   "metadata": {},
   "outputs": [
    {
     "data": {
      "text/plain": [
       "472.84548282391125"
      ]
     },
     "execution_count": 204,
     "metadata": {},
     "output_type": "execute_result"
    }
   ],
   "source": [
    "76916829 / 162_668"
   ]
  },
  {
   "cell_type": "code",
   "execution_count": 304,
   "id": "e1a66b2e-3cd2-4e7b-8435-e8255c71d8ae",
   "metadata": {},
   "outputs": [
    {
     "name": "stdout",
     "output_type": "stream",
     "text": [
      "Fold 0:\n",
      "79190726 158699\n"
     ]
    }
   ],
   "source": [
    "# splitter = StratifiedGroupKFold(n_splits=573, shuffle=True, random_state=42)\n",
    "splitter = GroupKFold(n_splits=500)\n",
    "\n",
    "fold2_meta = {}\n",
    "for i, (tmp_train2_idxs, tmp_test2_idxs) in enumerate(splitter.split(range(len(lower_stage2_df)), range(len(lower_stage2_df)), lower_stage2_df['scaffold_idx'])):\n",
    "    print(f\"Fold {i}:\")\n",
    "    train2_idxs = lower_stage2_df[tmp_train2_idxs, 'index'].to_list()\n",
    "    test2_idxs = lower_stage2_df[tmp_test2_idxs, 'index'].to_list()\n",
    "    print(len(train2_idxs), len(test2_idxs))\n",
    "    fold2_meta[i] = {}\n",
    "    fold2_meta[i]['train'] = train2_idxs\n",
    "    fold2_meta[i]['test'] = test2_idxs\n",
    "    if i >= 0:\n",
    "        break"
   ]
  },
  {
   "cell_type": "code",
   "execution_count": 305,
   "id": "a23e540a-ac35-47eb-ac0c-bb3ca8748bb5",
   "metadata": {},
   "outputs": [
    {
     "data": {
      "text/plain": [
       "(79190726, 158699)"
      ]
     },
     "execution_count": 305,
     "metadata": {},
     "output_type": "execute_result"
    }
   ],
   "source": [
    "len(train2_idxs), len(test2_idxs)"
   ]
  },
  {
   "cell_type": "code",
   "execution_count": 306,
   "id": "1254e686-2b58-4102-adfa-63bf7e769e08",
   "metadata": {},
   "outputs": [
    {
     "data": {
      "text/plain": [
       "0"
      ]
     },
     "execution_count": 306,
     "metadata": {},
     "output_type": "execute_result"
    }
   ],
   "source": [
    "import gc\n",
    "gc.collect()"
   ]
  },
  {
   "cell_type": "code",
   "execution_count": 307,
   "id": "0de0c60f-f99e-4bbc-8f13-1849682e8b12",
   "metadata": {},
   "outputs": [
    {
     "data": {
      "text/plain": [
       "(98784649, 8)"
      ]
     },
     "execution_count": 307,
     "metadata": {},
     "output_type": "execute_result"
    }
   ],
   "source": [
    "stage2_df.shape"
   ]
  },
  {
   "cell_type": "code",
   "execution_count": 308,
   "id": "cbbeb46d-beab-4478-b5a1-bad4f578c10e",
   "metadata": {},
   "outputs": [
    {
     "data": {
      "text/html": [
       "<div><style>\n",
       ".dataframe > thead > tr,\n",
       ".dataframe > tbody > tr {\n",
       "  text-align: right;\n",
       "  white-space: pre-wrap;\n",
       "}\n",
       "</style>\n",
       "<small>shape: (79_190_726, 8)</small><table border=\"1\" class=\"dataframe\"><thead><tr><th>molecule</th><th>bb1</th><th>bb2</th><th>bb3</th><th>scaffold_idx</th><th>ori</th><th>mol_per_scaf</th><th>index</th></tr><tr><td>str</td><td>u16</td><td>u16</td><td>u16</td><td>i64</td><td>i32</td><td>u32</td><td>i64</td></tr></thead><tbody><tr><td>&quot;C#CCOc1ccc(CNc…</td><td>1640</td><td>1653</td><td>765</td><td>4283326</td><td>0</td><td>844</td><td>0</td></tr><tr><td>&quot;C#CCOc1ccc(CNc…</td><td>1640</td><td>1653</td><td>604</td><td>543172</td><td>0</td><td>844</td><td>8</td></tr><tr><td>&quot;C#CCOc1ccc(CNc…</td><td>1640</td><td>1653</td><td>121</td><td>2571428</td><td>0</td><td>864</td><td>9</td></tr><tr><td>&quot;C#CCOc1ccc(CNc…</td><td>1640</td><td>1653</td><td>1134</td><td>4654763</td><td>0</td><td>1728</td><td>12</td></tr><tr><td>&quot;C#CCOc1ccc(CNc…</td><td>1640</td><td>1653</td><td>1896</td><td>5600610</td><td>0</td><td>864</td><td>13</td></tr><tr><td>&quot;C#CCOc1ccc(CNc…</td><td>1640</td><td>1653</td><td>1617</td><td>2301320</td><td>0</td><td>844</td><td>17</td></tr><tr><td>&quot;C#CCOc1ccc(CNc…</td><td>1640</td><td>1653</td><td>1150</td><td>4484748</td><td>0</td><td>2595</td><td>19</td></tr><tr><td>&quot;C#CCOc1ccc(CNc…</td><td>1640</td><td>1653</td><td>802</td><td>1825155</td><td>0</td><td>844</td><td>21</td></tr><tr><td>&quot;C#CCOc1ccc(CNc…</td><td>1640</td><td>1653</td><td>815</td><td>2021587</td><td>0</td><td>3396</td><td>23</td></tr><tr><td>&quot;C#CCOc1ccc(CNc…</td><td>1640</td><td>1653</td><td>825</td><td>2637570</td><td>0</td><td>1420</td><td>24</td></tr><tr><td>&hellip;</td><td>&hellip;</td><td>&hellip;</td><td>&hellip;</td><td>&hellip;</td><td>&hellip;</td><td>&hellip;</td><td>&hellip;</td></tr><tr><td>&quot;COC(=O)c1cc(Nc…</td><td>1097</td><td>1768</td><td>143</td><td>4704288</td><td>1</td><td>522</td><td>98784638</td></tr><tr><td>&quot;CCOC(=O)c1cnc(…</td><td>2058</td><td>1757</td><td>615</td><td>5229411</td><td>1</td><td>219</td><td>98784639</td></tr><tr><td>&quot;Cc1cc(=O)oc2cc…</td><td>653</td><td>85</td><td>712</td><td>5630826</td><td>1</td><td>87</td><td>98784640</td></tr><tr><td>&quot;Cn1ccnc1Nc1nc(…</td><td>699</td><td>1992</td><td>233</td><td>5281750</td><td>1</td><td>56</td><td>98784642</td></tr><tr><td>&quot;COc1cc(F)c(Cl)…</td><td>1674</td><td>154</td><td>1398</td><td>30036</td><td>1</td><td>2305</td><td>98784643</td></tr><tr><td>&quot;COC(=O)c1cscc1…</td><td>1493</td><td>1266</td><td>1194</td><td>2126369</td><td>1</td><td>24</td><td>98784644</td></tr><tr><td>&quot;C=CCC(Nc1nc(NC…</td><td>1470</td><td>1770</td><td>1736</td><td>1745176</td><td>1</td><td>2276</td><td>98784645</td></tr><tr><td>&quot;COc1ccc(C[C@H]…</td><td>1611</td><td>1242</td><td>1056</td><td>5855032</td><td>1</td><td>47</td><td>98784646</td></tr><tr><td>&quot;CC(O)CCNc1nc(N…</td><td>2042</td><td>1402</td><td>113</td><td>5858112</td><td>1</td><td>2276</td><td>98784647</td></tr><tr><td>&quot;CCS(=O)(=O)c1c…</td><td>7</td><td>1491</td><td>1233</td><td>2101844</td><td>1</td><td>174</td><td>98784648</td></tr></tbody></table></div>"
      ],
      "text/plain": [
       "shape: (79_190_726, 8)\n",
       "┌──────────────────────────────┬──────┬──────┬──────┬──────────────┬─────┬──────────────┬──────────┐\n",
       "│ molecule                     ┆ bb1  ┆ bb2  ┆ bb3  ┆ scaffold_idx ┆ ori ┆ mol_per_scaf ┆ index    │\n",
       "│ ---                          ┆ ---  ┆ ---  ┆ ---  ┆ ---          ┆ --- ┆ ---          ┆ ---      │\n",
       "│ str                          ┆ u16  ┆ u16  ┆ u16  ┆ i64          ┆ i32 ┆ u32          ┆ i64      │\n",
       "╞══════════════════════════════╪══════╪══════╪══════╪══════════════╪═════╪══════════════╪══════════╡\n",
       "│ C#CCOc1ccc(CNc2nc(NCC3CCCN3c ┆ 1640 ┆ 1653 ┆ 765  ┆ 4283326      ┆ 0   ┆ 844          ┆ 0        │\n",
       "│ 3ccc…                        ┆      ┆      ┆      ┆              ┆     ┆              ┆          │\n",
       "│ C#CCOc1ccc(CNc2nc(Nc3cnn(C4C ┆ 1640 ┆ 1653 ┆ 604  ┆ 543172       ┆ 0   ┆ 844          ┆ 8        │\n",
       "│ CN(C…                        ┆      ┆      ┆      ┆              ┆     ┆              ┆          │\n",
       "│ C#CCOc1ccc(CNc2nc(Nc3n[nH]c4 ┆ 1640 ┆ 1653 ┆ 121  ┆ 2571428      ┆ 0   ┆ 864          ┆ 9        │\n",
       "│ c3CN…                        ┆      ┆      ┆      ┆              ┆     ┆              ┆          │\n",
       "│ C#CCOc1ccc(CNc2nc(NCc3ncoc3C ┆ 1640 ┆ 1653 ┆ 1134 ┆ 4654763      ┆ 0   ┆ 1728         ┆ 12       │\n",
       "│ (C)(…                        ┆      ┆      ┆      ┆              ┆     ┆              ┆          │\n",
       "│ C#CCOc1ccc(CNc2nc(NCC(C)(CC( ┆ 1640 ┆ 1653 ┆ 1896 ┆ 5600610      ┆ 0   ┆ 864          ┆ 13       │\n",
       "│ C)C)…                        ┆      ┆      ┆      ┆              ┆     ┆              ┆          │\n",
       "│ C#CCOc1ccc(CNc2nc(NCC(C)Cn3c ┆ 1640 ┆ 1653 ┆ 1617 ┆ 2301320      ┆ 0   ┆ 844          ┆ 17       │\n",
       "│ ccn3…                        ┆      ┆      ┆      ┆              ┆     ┆              ┆          │\n",
       "│ C#CCOc1ccc(CNc2nc(NCC(C)Oc3c ┆ 1640 ┆ 1653 ┆ 1150 ┆ 4484748      ┆ 0   ┆ 2595         ┆ 19       │\n",
       "│ cc(C…                        ┆      ┆      ┆      ┆              ┆     ┆              ┆          │\n",
       "│ C#CCOc1ccc(CNc2nc(NCC(C)Sc3c ┆ 1640 ┆ 1653 ┆ 802  ┆ 1825155      ┆ 0   ┆ 844          ┆ 21       │\n",
       "│ cccc…                        ┆      ┆      ┆      ┆              ┆     ┆              ┆          │\n",
       "│ C#CCOc1ccc(CNc2nc(NCC(C)c3nc ┆ 1640 ┆ 1653 ┆ 815  ┆ 2021587      ┆ 0   ┆ 3396         ┆ 23       │\n",
       "│ cs3)…                        ┆      ┆      ┆      ┆              ┆     ┆              ┆          │\n",
       "│ C#CCOc1ccc(CNc2nc(NCC(C)(O)c ┆ 1640 ┆ 1653 ┆ 825  ┆ 2637570      ┆ 0   ┆ 1420         ┆ 24       │\n",
       "│ 3ccs…                        ┆      ┆      ┆      ┆              ┆     ┆              ┆          │\n",
       "│ …                            ┆ …    ┆ …    ┆ …    ┆ …            ┆ …   ┆ …            ┆ …        │\n",
       "│ COC(=O)c1cc(Nc2nc(NCCS(=O)(= ┆ 1097 ┆ 1768 ┆ 143  ┆ 4704288      ┆ 1   ┆ 522          ┆ 98784638 │\n",
       "│ O)c3…                        ┆      ┆      ┆      ┆              ┆     ┆              ┆          │\n",
       "│ CCOC(=O)c1cnc(Nc2nc(NCc3nc(- ┆ 2058 ┆ 1757 ┆ 615  ┆ 5229411      ┆ 1   ┆ 219          ┆ 98784639 │\n",
       "│ c4cc…                        ┆      ┆      ┆      ┆              ┆     ┆              ┆          │\n",
       "│ Cc1cc(=O)oc2cc(Nc3nc(Nc4nc(O ┆ 653  ┆ 85   ┆ 712  ┆ 5630826      ┆ 1   ┆ 87           ┆ 98784640 │\n",
       "│ Cc5c…                        ┆      ┆      ┆      ┆              ┆     ┆              ┆          │\n",
       "│ Cn1ccnc1Nc1nc(Nc2nc(-c3cccc( ┆ 699  ┆ 1992 ┆ 233  ┆ 5281750      ┆ 1   ┆ 56           ┆ 98784642 │\n",
       "│ [N+]…                        ┆      ┆      ┆      ┆              ┆     ┆              ┆          │\n",
       "│ COc1cc(F)c(Cl)cc1Nc1nc(NCC(= ┆ 1674 ┆ 154  ┆ 1398 ┆ 30036        ┆ 1   ┆ 2305         ┆ 98784643 │\n",
       "│ O)N2…                        ┆      ┆      ┆      ┆              ┆     ┆              ┆          │\n",
       "│ COC(=O)c1cscc1Nc1nc(NCC2(O)C ┆ 1493 ┆ 1266 ┆ 1194 ┆ 2126369      ┆ 1   ┆ 24           ┆ 98784644 │\n",
       "│ CSC2…                        ┆      ┆      ┆      ┆              ┆     ┆              ┆          │\n",
       "│ C=CCC(Nc1nc(NCC(C)c2c(Cl)ccc ┆ 1470 ┆ 1770 ┆ 1736 ┆ 1745176      ┆ 1   ┆ 2276         ┆ 98784645 │\n",
       "│ c2Cl…                        ┆      ┆      ┆      ┆              ┆     ┆              ┆          │\n",
       "│ COc1ccc(C[C@H](Nc2nc(Nc3cc(C ┆ 1611 ┆ 1242 ┆ 1056 ┆ 5855032      ┆ 1   ┆ 47           ┆ 98784646 │\n",
       "│ 4CC4…                        ┆      ┆      ┆      ┆              ┆     ┆              ┆          │\n",
       "│ CC(O)CCNc1nc(NCCCN2CCNC(=O)C ┆ 2042 ┆ 1402 ┆ 113  ┆ 5858112      ┆ 1   ┆ 2276         ┆ 98784647 │\n",
       "│ 2)nc…                        ┆      ┆      ┆      ┆              ┆     ┆              ┆          │\n",
       "│ CCS(=O)(=O)c1cc(C(=O)N[Dy])c ┆ 7    ┆ 1491 ┆ 1233 ┆ 2101844      ┆ 1   ┆ 174          ┆ 98784648 │\n",
       "│ (OC)…                        ┆      ┆      ┆      ┆              ┆     ┆              ┆          │\n",
       "└──────────────────────────────┴──────┴──────┴──────┴──────────────┴─────┴──────────────┴──────────┘"
      ]
     },
     "execution_count": 308,
     "metadata": {},
     "output_type": "execute_result"
    }
   ],
   "source": [
    "gen_train2_df = stage2_df[train2_idxs]\n",
    "gen_train2_df"
   ]
  },
  {
   "cell_type": "code",
   "execution_count": 309,
   "id": "c9eb052d-8d8b-4514-98c0-b079fca16089",
   "metadata": {},
   "outputs": [
    {
     "data": {
      "text/html": [
       "<div><style>\n",
       ".dataframe > thead > tr,\n",
       ".dataframe > tbody > tr {\n",
       "  text-align: right;\n",
       "  white-space: pre-wrap;\n",
       "}\n",
       "</style>\n",
       "<small>shape: (158_699, 8)</small><table border=\"1\" class=\"dataframe\"><thead><tr><th>molecule</th><th>bb1</th><th>bb2</th><th>bb3</th><th>scaffold_idx</th><th>ori</th><th>mol_per_scaf</th><th>index</th></tr><tr><td>str</td><td>u16</td><td>u16</td><td>u16</td><td>i64</td><td>i32</td><td>u32</td><td>i64</td></tr></thead><tbody><tr><td>&quot;C#CC[C@@H](CC(…</td><td>1640</td><td>1982</td><td>655</td><td>5305031</td><td>0</td><td>6116</td><td>1222</td></tr><tr><td>&quot;C#CC[C@@H](CC(…</td><td>1640</td><td>2090</td><td>655</td><td>5305031</td><td>0</td><td>6116</td><td>1976</td></tr><tr><td>&quot;C#CC[C@@H](CC(…</td><td>1640</td><td>740</td><td>666</td><td>3622246</td><td>0</td><td>40</td><td>4548</td></tr><tr><td>&quot;C#CC[C@@H](CC(…</td><td>1640</td><td>740</td><td>1471</td><td>3193630</td><td>0</td><td>100</td><td>4749</td></tr><tr><td>&quot;C#CC[C@@H](CC(…</td><td>1640</td><td>740</td><td>247</td><td>3193630</td><td>0</td><td>100</td><td>4750</td></tr><tr><td>&quot;C#CC[C@@H](CC(…</td><td>1640</td><td>740</td><td>219</td><td>3193630</td><td>0</td><td>100</td><td>4751</td></tr><tr><td>&quot;C#CC[C@@H](CC(…</td><td>1640</td><td>740</td><td>487</td><td>3193630</td><td>0</td><td>100</td><td>4752</td></tr><tr><td>&quot;C#CC[C@@H](CC(…</td><td>1640</td><td>740</td><td>1751</td><td>3193630</td><td>0</td><td>100</td><td>4753</td></tr><tr><td>&quot;C#CC[C@@H](CC(…</td><td>1640</td><td>136</td><td>1372</td><td>5411475</td><td>0</td><td>904</td><td>7172</td></tr><tr><td>&quot;C#CC[C@@H](CC(…</td><td>1640</td><td>548</td><td>655</td><td>5305031</td><td>0</td><td>6116</td><td>8696</td></tr><tr><td>&hellip;</td><td>&hellip;</td><td>&hellip;</td><td>&hellip;</td><td>&hellip;</td><td>&hellip;</td><td>&hellip;</td><td>&hellip;</td></tr><tr><td>&quot;CC(=O)c1ccc(C[…</td><td>1174</td><td>972</td><td>1841</td><td>2517935</td><td>1</td><td>2276</td><td>98783513</td></tr><tr><td>&quot;Cc1nn(C)c2ncc(…</td><td>667</td><td>1360</td><td>1841</td><td>2517935</td><td>1</td><td>2276</td><td>98783739</td></tr><tr><td>&quot;CCS(=O)CCNc1nc…</td><td>603</td><td>1176</td><td>1841</td><td>2517935</td><td>1</td><td>2276</td><td>98783775</td></tr><tr><td>&quot;CC(=O)SCCNc1nc…</td><td>1600</td><td>954</td><td>1841</td><td>2517935</td><td>1</td><td>2276</td><td>98783863</td></tr><tr><td>&quot;C=C(C)C(=O)NCC…</td><td>1483</td><td>146</td><td>1841</td><td>2517935</td><td>1</td><td>2276</td><td>98784106</td></tr><tr><td>&quot;Cc1nn(C)c2ncc(…</td><td>1860</td><td>1360</td><td>1841</td><td>2517935</td><td>1</td><td>2276</td><td>98784309</td></tr><tr><td>&quot;CC1(C)CCOC1CCN…</td><td>493</td><td>128</td><td>1492</td><td>5462914</td><td>1</td><td>45</td><td>98784352</td></tr><tr><td>&quot;CCC(CC)(CNc1nc…</td><td>104</td><td>981</td><td>1841</td><td>2517935</td><td>1</td><td>2276</td><td>98784571</td></tr><tr><td>&quot;C=C(C)C(=O)NCC…</td><td>347</td><td>146</td><td>1841</td><td>2517935</td><td>1</td><td>2276</td><td>98784572</td></tr><tr><td>&quot;Cc1nn(C)c2ncc(…</td><td>971</td><td>1177</td><td>1841</td><td>2517935</td><td>1</td><td>2276</td><td>98784641</td></tr></tbody></table></div>"
      ],
      "text/plain": [
       "shape: (158_699, 8)\n",
       "┌──────────────────────────────┬──────┬──────┬──────┬──────────────┬─────┬──────────────┬──────────┐\n",
       "│ molecule                     ┆ bb1  ┆ bb2  ┆ bb3  ┆ scaffold_idx ┆ ori ┆ mol_per_scaf ┆ index    │\n",
       "│ ---                          ┆ ---  ┆ ---  ┆ ---  ┆ ---          ┆ --- ┆ ---          ┆ ---      │\n",
       "│ str                          ┆ u16  ┆ u16  ┆ u16  ┆ i64          ┆ i32 ┆ u32          ┆ i64      │\n",
       "╞══════════════════════════════╪══════╪══════╪══════╪══════════════╪═════╪══════════════╪══════════╡\n",
       "│ C#CC[C@@H](CC(=O)N[Dy])Nc1nc ┆ 1640 ┆ 1982 ┆ 655  ┆ 5305031      ┆ 0   ┆ 6116         ┆ 1222     │\n",
       "│ (NCC…                        ┆      ┆      ┆      ┆              ┆     ┆              ┆          │\n",
       "│ C#CC[C@@H](CC(=O)N[Dy])Nc1nc ┆ 1640 ┆ 2090 ┆ 655  ┆ 5305031      ┆ 0   ┆ 6116         ┆ 1976     │\n",
       "│ (NCC…                        ┆      ┆      ┆      ┆              ┆     ┆              ┆          │\n",
       "│ C#CC[C@@H](CC(=O)N[Dy])Nc1nc ┆ 1640 ┆ 740  ┆ 666  ┆ 3622246      ┆ 0   ┆ 40           ┆ 4548     │\n",
       "│ (NCc…                        ┆      ┆      ┆      ┆              ┆     ┆              ┆          │\n",
       "│ C#CC[C@@H](CC(=O)N[Dy])Nc1nc ┆ 1640 ┆ 740  ┆ 1471 ┆ 3193630      ┆ 0   ┆ 100          ┆ 4749     │\n",
       "│ (NCC…                        ┆      ┆      ┆      ┆              ┆     ┆              ┆          │\n",
       "│ C#CC[C@@H](CC(=O)N[Dy])Nc1nc ┆ 1640 ┆ 740  ┆ 247  ┆ 3193630      ┆ 0   ┆ 100          ┆ 4750     │\n",
       "│ (NCC…                        ┆      ┆      ┆      ┆              ┆     ┆              ┆          │\n",
       "│ C#CC[C@@H](CC(=O)N[Dy])Nc1nc ┆ 1640 ┆ 740  ┆ 219  ┆ 3193630      ┆ 0   ┆ 100          ┆ 4751     │\n",
       "│ (NCC…                        ┆      ┆      ┆      ┆              ┆     ┆              ┆          │\n",
       "│ C#CC[C@@H](CC(=O)N[Dy])Nc1nc ┆ 1640 ┆ 740  ┆ 487  ┆ 3193630      ┆ 0   ┆ 100          ┆ 4752     │\n",
       "│ (NCC…                        ┆      ┆      ┆      ┆              ┆     ┆              ┆          │\n",
       "│ C#CC[C@@H](CC(=O)N[Dy])Nc1nc ┆ 1640 ┆ 740  ┆ 1751 ┆ 3193630      ┆ 0   ┆ 100          ┆ 4753     │\n",
       "│ (NCC…                        ┆      ┆      ┆      ┆              ┆     ┆              ┆          │\n",
       "│ C#CC[C@@H](CC(=O)N[Dy])Nc1nc ┆ 1640 ┆ 136  ┆ 1372 ┆ 5411475      ┆ 0   ┆ 904          ┆ 7172     │\n",
       "│ (NCC…                        ┆      ┆      ┆      ┆              ┆     ┆              ┆          │\n",
       "│ C#CC[C@@H](CC(=O)N[Dy])Nc1nc ┆ 1640 ┆ 548  ┆ 655  ┆ 5305031      ┆ 0   ┆ 6116         ┆ 8696     │\n",
       "│ (NCC…                        ┆      ┆      ┆      ┆              ┆     ┆              ┆          │\n",
       "│ …                            ┆ …    ┆ …    ┆ …    ┆ …            ┆ …   ┆ …            ┆ …        │\n",
       "│ CC(=O)c1ccc(C[C@H](Nc2nc(NCC ┆ 1174 ┆ 972  ┆ 1841 ┆ 2517935      ┆ 1   ┆ 2276         ┆ 98783513 │\n",
       "│ OCC(…                        ┆      ┆      ┆      ┆              ┆     ┆              ┆          │\n",
       "│ Cc1nn(C)c2ncc(CNc3nc(NC(=N)C ┆ 667  ┆ 1360 ┆ 1841 ┆ 2517935      ┆ 1   ┆ 2276         ┆ 98783739 │\n",
       "│ CCN)…                        ┆      ┆      ┆      ┆              ┆     ┆              ┆          │\n",
       "│ CCS(=O)CCNc1nc(NCc2cnc3c(c2) ┆ 603  ┆ 1176 ┆ 1841 ┆ 2517935      ┆ 1   ┆ 2276         ┆ 98783775 │\n",
       "│ c(C)…                        ┆      ┆      ┆      ┆              ┆     ┆              ┆          │\n",
       "│ CC(=O)SCCNc1nc(NCc2cnc3c(c2) ┆ 1600 ┆ 954  ┆ 1841 ┆ 2517935      ┆ 1   ┆ 2276         ┆ 98783863 │\n",
       "│ c(C)…                        ┆      ┆      ┆      ┆              ┆     ┆              ┆          │\n",
       "│ C=C(C)C(=O)NCCNc1nc(NCc2cnc3 ┆ 1483 ┆ 146  ┆ 1841 ┆ 2517935      ┆ 1   ┆ 2276         ┆ 98784106 │\n",
       "│ c(c2…                        ┆      ┆      ┆      ┆              ┆     ┆              ┆          │\n",
       "│ Cc1nn(C)c2ncc(CNc3nc(NC(=N)C ┆ 1860 ┆ 1360 ┆ 1841 ┆ 2517935      ┆ 1   ┆ 2276         ┆ 98784309 │\n",
       "│ CCN)…                        ┆      ┆      ┆      ┆              ┆     ┆              ┆          │\n",
       "│ CC1(C)CCOC1CCNc1nc(NCC2(F)CC ┆ 493  ┆ 128  ┆ 1492 ┆ 5462914      ┆ 1   ┆ 45           ┆ 98784352 │\n",
       "│ OC2)…                        ┆      ┆      ┆      ┆              ┆     ┆              ┆          │\n",
       "│ CCC(CC)(CNc1nc(NCc2cnc3c(c2) ┆ 104  ┆ 981  ┆ 1841 ┆ 2517935      ┆ 1   ┆ 2276         ┆ 98784571 │\n",
       "│ c(C)…                        ┆      ┆      ┆      ┆              ┆     ┆              ┆          │\n",
       "│ C=C(C)C(=O)NCCNc1nc(NCc2cnc3 ┆ 347  ┆ 146  ┆ 1841 ┆ 2517935      ┆ 1   ┆ 2276         ┆ 98784572 │\n",
       "│ c(c2…                        ┆      ┆      ┆      ┆              ┆     ┆              ┆          │\n",
       "│ Cc1nn(C)c2ncc(CNc3nc(NCC(F)( ┆ 971  ┆ 1177 ┆ 1841 ┆ 2517935      ┆ 1   ┆ 2276         ┆ 98784641 │\n",
       "│ F)C(…                        ┆      ┆      ┆      ┆              ┆     ┆              ┆          │\n",
       "└──────────────────────────────┴──────┴──────┴──────┴──────────────┴─────┴──────────────┴──────────┘"
      ]
     },
     "execution_count": 309,
     "metadata": {},
     "output_type": "execute_result"
    }
   ],
   "source": [
    "gen_test2_df = stage2_df[test2_idxs]\n",
    "gen_test2_df"
   ]
  },
  {
   "cell_type": "code",
   "execution_count": 310,
   "id": "0094b100-9e63-4f47-9de1-d3d2455f5b02",
   "metadata": {},
   "outputs": [
    {
     "data": {
      "text/html": [
       "<div><style>\n",
       ".dataframe > thead > tr,\n",
       ".dataframe > tbody > tr {\n",
       "  text-align: right;\n",
       "  white-space: pre-wrap;\n",
       "}\n",
       "</style>\n",
       "<small>shape: (17, 9)</small><table border=\"1\" class=\"dataframe\"><thead><tr><th>statistic</th><th>molecule</th><th>bb1</th><th>bb2</th><th>bb3</th><th>scaffold_idx</th><th>ori</th><th>mol_per_scaf</th><th>index</th></tr><tr><td>str</td><td>str</td><td>f64</td><td>f64</td><td>f64</td><td>f64</td><td>f64</td><td>f64</td><td>f64</td></tr></thead><tbody><tr><td>&quot;count&quot;</td><td>&quot;158699&quot;</td><td>158699.0</td><td>158699.0</td><td>158699.0</td><td>158699.0</td><td>158699.0</td><td>158699.0</td><td>158699.0</td></tr><tr><td>&quot;null_count&quot;</td><td>&quot;0&quot;</td><td>0.0</td><td>0.0</td><td>0.0</td><td>0.0</td><td>0.0</td><td>0.0</td><td>0.0</td></tr><tr><td>&quot;mean&quot;</td><td>null</td><td>1100.87482</td><td>1095.139163</td><td>1076.178817</td><td>3.1523e6</td><td>0.017511</td><td>914.472511</td><td>4.9954e7</td></tr><tr><td>&quot;std&quot;</td><td>null</td><td>587.81115</td><td>617.139602</td><td>610.401692</td><td>1.8187e6</td><td>0.131166</td><td>1540.533764</td><td>2.8985e7</td></tr><tr><td>&quot;min&quot;</td><td>&quot;C#CCOc1ccc(CNc…</td><td>7.0</td><td>0.0</td><td>0.0</td><td>15.0</td><td>0.0</td><td>1.0</td><td>1222.0</td></tr><tr><td>&quot;1%&quot;</td><td>null</td><td>21.0</td><td>26.0</td><td>23.0</td><td>69717.0</td><td>0.0</td><td>1.0</td><td>942885.0</td></tr><tr><td>&quot;2.5%&quot;</td><td>null</td><td>104.0</td><td>49.0</td><td>53.0</td><td>134115.0</td><td>0.0</td><td>1.0</td><td>2.306146e6</td></tr><tr><td>&quot;5%&quot;</td><td>null</td><td>170.0</td><td>103.0</td><td>127.0</td><td>272306.0</td><td>0.0</td><td>2.0</td><td>4.692601e6</td></tr><tr><td>&quot;10%&quot;</td><td>null</td><td>346.0</td><td>207.0</td><td>227.0</td><td>506992.0</td><td>0.0</td><td>5.0</td><td>9.653092e6</td></tr><tr><td>&quot;25%&quot;</td><td>null</td><td>590.0</td><td>615.0</td><td>546.0</td><td>1.512937e6</td><td>0.0</td><td>40.0</td><td>2.5798043e7</td></tr><tr><td>&quot;50%&quot;</td><td>null</td><td>1097.0</td><td>1139.0</td><td>1109.0</td><td>3.177337e6</td><td>0.0</td><td>174.0</td><td>4.8954681e7</td></tr><tr><td>&quot;75%&quot;</td><td>null</td><td>1631.0</td><td>1638.0</td><td>1616.0</td><td>4.949795e6</td><td>0.0</td><td>957.0</td><td>7.4851472e7</td></tr><tr><td>&quot;90%&quot;</td><td>null</td><td>1921.0</td><td>1939.0</td><td>1904.0</td><td>5.415573e6</td><td>0.0</td><td>3597.0</td><td>9.1064898e7</td></tr><tr><td>&quot;95%&quot;</td><td>null</td><td>2011.0</td><td>2025.0</td><td>2035.0</td><td>5.687016e6</td><td>0.0</td><td>4646.0</td><td>9.5964784e7</td></tr><tr><td>&quot;97.5%&quot;</td><td>null</td><td>2050.0</td><td>2064.0</td><td>2069.0</td><td>5.809664e6</td><td>0.0</td><td>6116.0</td><td>9.7745866e7</td></tr><tr><td>&quot;99%&quot;</td><td>null</td><td>2061.0</td><td>2088.0</td><td>2093.0</td><td>5.946807e6</td><td>1.0</td><td>6116.0</td><td>9.8575463e7</td></tr><tr><td>&quot;max&quot;</td><td>&quot;[N-]=[N+]=NCCC…</td><td>2084.0</td><td>2109.0</td><td>2109.0</td><td>5.971386e6</td><td>1.0</td><td>6116.0</td><td>9.8784641e7</td></tr></tbody></table></div>"
      ],
      "text/plain": [
       "shape: (17, 9)\n",
       "┌──────────┬──────────┬──────────┬──────────┬──────────┬──────────┬──────────┬──────────┬──────────┐\n",
       "│ statisti ┆ molecule ┆ bb1      ┆ bb2      ┆ bb3      ┆ scaffold ┆ ori      ┆ mol_per_ ┆ index    │\n",
       "│ c        ┆ ---      ┆ ---      ┆ ---      ┆ ---      ┆ _idx     ┆ ---      ┆ scaf     ┆ ---      │\n",
       "│ ---      ┆ str      ┆ f64      ┆ f64      ┆ f64      ┆ ---      ┆ f64      ┆ ---      ┆ f64      │\n",
       "│ str      ┆          ┆          ┆          ┆          ┆ f64      ┆          ┆ f64      ┆          │\n",
       "╞══════════╪══════════╪══════════╪══════════╪══════════╪══════════╪══════════╪══════════╪══════════╡\n",
       "│ count    ┆ 158699   ┆ 158699.0 ┆ 158699.0 ┆ 158699.0 ┆ 158699.0 ┆ 158699.0 ┆ 158699.0 ┆ 158699.0 │\n",
       "│ null_cou ┆ 0        ┆ 0.0      ┆ 0.0      ┆ 0.0      ┆ 0.0      ┆ 0.0      ┆ 0.0      ┆ 0.0      │\n",
       "│ nt       ┆          ┆          ┆          ┆          ┆          ┆          ┆          ┆          │\n",
       "│ mean     ┆ null     ┆ 1100.874 ┆ 1095.139 ┆ 1076.178 ┆ 3.1523e6 ┆ 0.017511 ┆ 914.4725 ┆ 4.9954e7 │\n",
       "│          ┆          ┆ 82       ┆ 163      ┆ 817      ┆          ┆          ┆ 11       ┆          │\n",
       "│ std      ┆ null     ┆ 587.8111 ┆ 617.1396 ┆ 610.4016 ┆ 1.8187e6 ┆ 0.131166 ┆ 1540.533 ┆ 2.8985e7 │\n",
       "│          ┆          ┆ 5        ┆ 02       ┆ 92       ┆          ┆          ┆ 764      ┆          │\n",
       "│ min      ┆ C#CCOc1c ┆ 7.0      ┆ 0.0      ┆ 0.0      ┆ 15.0     ┆ 0.0      ┆ 1.0      ┆ 1222.0   │\n",
       "│          ┆ cc(CNc2n ┆          ┆          ┆          ┆          ┆          ┆          ┆          │\n",
       "│          ┆ c(NCC(=O ┆          ┆          ┆          ┆          ┆          ┆          ┆          │\n",
       "│          ┆ )N3CCN(C ┆          ┆          ┆          ┆          ┆          ┆          ┆          │\n",
       "│          ┆ …        ┆          ┆          ┆          ┆          ┆          ┆          ┆          │\n",
       "│ 1%       ┆ null     ┆ 21.0     ┆ 26.0     ┆ 23.0     ┆ 69717.0  ┆ 0.0      ┆ 1.0      ┆ 942885.0 │\n",
       "│ 2.5%     ┆ null     ┆ 104.0    ┆ 49.0     ┆ 53.0     ┆ 134115.0 ┆ 0.0      ┆ 1.0      ┆ 2.306146 │\n",
       "│          ┆          ┆          ┆          ┆          ┆          ┆          ┆          ┆ e6       │\n",
       "│ 5%       ┆ null     ┆ 170.0    ┆ 103.0    ┆ 127.0    ┆ 272306.0 ┆ 0.0      ┆ 2.0      ┆ 4.692601 │\n",
       "│          ┆          ┆          ┆          ┆          ┆          ┆          ┆          ┆ e6       │\n",
       "│ 10%      ┆ null     ┆ 346.0    ┆ 207.0    ┆ 227.0    ┆ 506992.0 ┆ 0.0      ┆ 5.0      ┆ 9.653092 │\n",
       "│          ┆          ┆          ┆          ┆          ┆          ┆          ┆          ┆ e6       │\n",
       "│ 25%      ┆ null     ┆ 590.0    ┆ 615.0    ┆ 546.0    ┆ 1.512937 ┆ 0.0      ┆ 40.0     ┆ 2.579804 │\n",
       "│          ┆          ┆          ┆          ┆          ┆ e6       ┆          ┆          ┆ 3e7      │\n",
       "│ 50%      ┆ null     ┆ 1097.0   ┆ 1139.0   ┆ 1109.0   ┆ 3.177337 ┆ 0.0      ┆ 174.0    ┆ 4.895468 │\n",
       "│          ┆          ┆          ┆          ┆          ┆ e6       ┆          ┆          ┆ 1e7      │\n",
       "│ 75%      ┆ null     ┆ 1631.0   ┆ 1638.0   ┆ 1616.0   ┆ 4.949795 ┆ 0.0      ┆ 957.0    ┆ 7.485147 │\n",
       "│          ┆          ┆          ┆          ┆          ┆ e6       ┆          ┆          ┆ 2e7      │\n",
       "│ 90%      ┆ null     ┆ 1921.0   ┆ 1939.0   ┆ 1904.0   ┆ 5.415573 ┆ 0.0      ┆ 3597.0   ┆ 9.106489 │\n",
       "│          ┆          ┆          ┆          ┆          ┆ e6       ┆          ┆          ┆ 8e7      │\n",
       "│ 95%      ┆ null     ┆ 2011.0   ┆ 2025.0   ┆ 2035.0   ┆ 5.687016 ┆ 0.0      ┆ 4646.0   ┆ 9.596478 │\n",
       "│          ┆          ┆          ┆          ┆          ┆ e6       ┆          ┆          ┆ 4e7      │\n",
       "│ 97.5%    ┆ null     ┆ 2050.0   ┆ 2064.0   ┆ 2069.0   ┆ 5.809664 ┆ 0.0      ┆ 6116.0   ┆ 9.774586 │\n",
       "│          ┆          ┆          ┆          ┆          ┆ e6       ┆          ┆          ┆ 6e7      │\n",
       "│ 99%      ┆ null     ┆ 2061.0   ┆ 2088.0   ┆ 2093.0   ┆ 5.946807 ┆ 1.0      ┆ 6116.0   ┆ 9.857546 │\n",
       "│          ┆          ┆          ┆          ┆          ┆ e6       ┆          ┆          ┆ 3e7      │\n",
       "│ max      ┆ [N-]=[N+ ┆ 2084.0   ┆ 2109.0   ┆ 2109.0   ┆ 5.971386 ┆ 1.0      ┆ 6116.0   ┆ 9.878464 │\n",
       "│          ┆ ]=NCCC[C ┆          ┆          ┆          ┆ e6       ┆          ┆          ┆ 1e7      │\n",
       "│          ┆ @H](Nc1n ┆          ┆          ┆          ┆          ┆          ┆          ┆          │\n",
       "│          ┆ c(Nc2ncn ┆          ┆          ┆          ┆          ┆          ┆          ┆          │\n",
       "│          ┆ …        ┆          ┆          ┆          ┆          ┆          ┆          ┆          │\n",
       "└──────────┴──────────┴──────────┴──────────┴──────────┴──────────┴──────────┴──────────┴──────────┘"
      ]
     },
     "execution_count": 310,
     "metadata": {},
     "output_type": "execute_result"
    }
   ],
   "source": [
    "gen_test2_df.describe(percentiles=PERCENTILES)"
   ]
  },
  {
   "cell_type": "code",
   "execution_count": 311,
   "id": "11148115-9657-4958-aaf2-922f660119de",
   "metadata": {},
   "outputs": [
    {
     "name": "stderr",
     "output_type": "stream",
     "text": [
      "/tmp/ipykernel_2464168/4259884994.py:1: DeprecationWarning: `count` is deprecated. It has been renamed to `len`.\n",
      "  gen_test2_df.filter(pl.col('mol_per_scaf').is_between(2000, 5000000)).group_by('scaffold_idx').first().group_by('mol_per_scaf').count().sort('mol_per_scaf')\n"
     ]
    },
    {
     "data": {
      "text/html": [
       "<div><style>\n",
       ".dataframe > thead > tr,\n",
       ".dataframe > tbody > tr {\n",
       "  text-align: right;\n",
       "  white-space: pre-wrap;\n",
       "}\n",
       "</style>\n",
       "<small>shape: (7, 2)</small><table border=\"1\" class=\"dataframe\"><thead><tr><th>mol_per_scaf</th><th>count</th></tr><tr><td>u32</td><td>u32</td></tr></thead><tbody><tr><td>2276</td><td>1</td></tr><tr><td>2305</td><td>1</td></tr><tr><td>2723</td><td>1</td></tr><tr><td>3597</td><td>1</td></tr><tr><td>3667</td><td>1</td></tr><tr><td>4646</td><td>1</td></tr><tr><td>6116</td><td>1</td></tr></tbody></table></div>"
      ],
      "text/plain": [
       "shape: (7, 2)\n",
       "┌──────────────┬───────┐\n",
       "│ mol_per_scaf ┆ count │\n",
       "│ ---          ┆ ---   │\n",
       "│ u32          ┆ u32   │\n",
       "╞══════════════╪═══════╡\n",
       "│ 2276         ┆ 1     │\n",
       "│ 2305         ┆ 1     │\n",
       "│ 2723         ┆ 1     │\n",
       "│ 3597         ┆ 1     │\n",
       "│ 3667         ┆ 1     │\n",
       "│ 4646         ┆ 1     │\n",
       "│ 6116         ┆ 1     │\n",
       "└──────────────┴───────┘"
      ]
     },
     "execution_count": 311,
     "metadata": {},
     "output_type": "execute_result"
    }
   ],
   "source": [
    "gen_test2_df.filter(pl.col('mol_per_scaf').is_between(2000, 5000000)).group_by('scaffold_idx').first().group_by('mol_per_scaf').count().sort('mol_per_scaf')"
   ]
  },
  {
   "cell_type": "code",
   "execution_count": 312,
   "id": "1bb25b2a-eafb-4342-8bcd-50fedb9b8897",
   "metadata": {},
   "outputs": [
    {
     "name": "stderr",
     "output_type": "stream",
     "text": [
      "/tmp/ipykernel_2464168/2285076470.py:1: DeprecationWarning: `count` is deprecated. It has been renamed to `len`.\n",
      "  test3_df.filter(pl.col('mol_per_scaf').is_between(500, 5000000)).group_by('scaffold_idx').first().group_by('mol_per_scaf').count().sort('mol_per_scaf')\n"
     ]
    },
    {
     "data": {
      "text/html": [
       "<div><style>\n",
       ".dataframe > thead > tr,\n",
       ".dataframe > tbody > tr {\n",
       "  text-align: right;\n",
       "  white-space: pre-wrap;\n",
       "}\n",
       "</style>\n",
       "<small>shape: (36, 2)</small><table border=\"1\" class=\"dataframe\"><thead><tr><th>mol_per_scaf</th><th>count</th></tr><tr><td>u32</td><td>u32</td></tr></thead><tbody><tr><td>504</td><td>1</td></tr><tr><td>517</td><td>1</td></tr><tr><td>522</td><td>1</td></tr><tr><td>524</td><td>1</td></tr><tr><td>528</td><td>1</td></tr><tr><td>530</td><td>1</td></tr><tr><td>582</td><td>1</td></tr><tr><td>619</td><td>1</td></tr><tr><td>659</td><td>1</td></tr><tr><td>688</td><td>1</td></tr><tr><td>&hellip;</td><td>&hellip;</td></tr><tr><td>1419</td><td>1</td></tr><tr><td>1499</td><td>1</td></tr><tr><td>1808</td><td>1</td></tr><tr><td>2276</td><td>1</td></tr><tr><td>2305</td><td>3</td></tr><tr><td>3597</td><td>1</td></tr><tr><td>3657</td><td>2</td></tr><tr><td>4276</td><td>1</td></tr><tr><td>4818</td><td>1</td></tr><tr><td>6116</td><td>1</td></tr></tbody></table></div>"
      ],
      "text/plain": [
       "shape: (36, 2)\n",
       "┌──────────────┬───────┐\n",
       "│ mol_per_scaf ┆ count │\n",
       "│ ---          ┆ ---   │\n",
       "│ u32          ┆ u32   │\n",
       "╞══════════════╪═══════╡\n",
       "│ 504          ┆ 1     │\n",
       "│ 517          ┆ 1     │\n",
       "│ 522          ┆ 1     │\n",
       "│ 524          ┆ 1     │\n",
       "│ 528          ┆ 1     │\n",
       "│ 530          ┆ 1     │\n",
       "│ 582          ┆ 1     │\n",
       "│ 619          ┆ 1     │\n",
       "│ 659          ┆ 1     │\n",
       "│ 688          ┆ 1     │\n",
       "│ …            ┆ …     │\n",
       "│ 1419         ┆ 1     │\n",
       "│ 1499         ┆ 1     │\n",
       "│ 1808         ┆ 1     │\n",
       "│ 2276         ┆ 1     │\n",
       "│ 2305         ┆ 3     │\n",
       "│ 3597         ┆ 1     │\n",
       "│ 3657         ┆ 2     │\n",
       "│ 4276         ┆ 1     │\n",
       "│ 4818         ┆ 1     │\n",
       "│ 6116         ┆ 1     │\n",
       "└──────────────┴───────┘"
      ]
     },
     "execution_count": 312,
     "metadata": {},
     "output_type": "execute_result"
    }
   ],
   "source": [
    "test3_df.filter(pl.col('mol_per_scaf').is_between(500, 5000000)).group_by('scaffold_idx').first().group_by('mol_per_scaf').count().sort('mol_per_scaf')"
   ]
  },
  {
   "cell_type": "code",
   "execution_count": 313,
   "id": "004c5e89-ab29-4406-9ae6-000640ac0d74",
   "metadata": {},
   "outputs": [
    {
     "data": {
      "text/plain": [
       "0"
      ]
     },
     "execution_count": 313,
     "metadata": {},
     "output_type": "execute_result"
    }
   ],
   "source": [
    "import gc\n",
    "gc.collect()"
   ]
  },
  {
   "cell_type": "code",
   "execution_count": 314,
   "id": "029e4773-5312-4a54-92c1-7f13bc243b3d",
   "metadata": {},
   "outputs": [
    {
     "data": {
      "text/html": [
       "<div><style>\n",
       ".dataframe > thead > tr,\n",
       ".dataframe > tbody > tr {\n",
       "  text-align: right;\n",
       "  white-space: pre-wrap;\n",
       "}\n",
       "</style>\n",
       "<small>shape: (1, 8)</small><table border=\"1\" class=\"dataframe\"><thead><tr><th>molecule</th><th>bb1</th><th>bb2</th><th>bb3</th><th>scaffold_idx</th><th>ori</th><th>mol_per_scaf</th><th>index</th></tr><tr><td>u32</td><td>u32</td><td>u32</td><td>u32</td><td>u32</td><td>u32</td><td>u32</td><td>u32</td></tr></thead><tbody><tr><td>158699</td><td>271</td><td>693</td><td>869</td><td>11453</td><td>2</td><td>193</td><td>158699</td></tr></tbody></table></div>"
      ],
      "text/plain": [
       "shape: (1, 8)\n",
       "┌──────────┬─────┬─────┬─────┬──────────────┬─────┬──────────────┬────────┐\n",
       "│ molecule ┆ bb1 ┆ bb2 ┆ bb3 ┆ scaffold_idx ┆ ori ┆ mol_per_scaf ┆ index  │\n",
       "│ ---      ┆ --- ┆ --- ┆ --- ┆ ---          ┆ --- ┆ ---          ┆ ---    │\n",
       "│ u32      ┆ u32 ┆ u32 ┆ u32 ┆ u32          ┆ u32 ┆ u32          ┆ u32    │\n",
       "╞══════════╪═════╪═════╪═════╪══════════════╪═════╪══════════════╪════════╡\n",
       "│ 158699   ┆ 271 ┆ 693 ┆ 869 ┆ 11453        ┆ 2   ┆ 193          ┆ 158699 │\n",
       "└──────────┴─────┴─────┴─────┴──────────────┴─────┴──────────────┴────────┘"
      ]
     },
     "execution_count": 314,
     "metadata": {},
     "output_type": "execute_result"
    }
   ],
   "source": [
    "gen_test2_df.select(pl.n_unique('*'))"
   ]
  },
  {
   "cell_type": "code",
   "execution_count": 315,
   "id": "0fe5020f-33d8-47ea-97ee-4f6f17ca5355",
   "metadata": {},
   "outputs": [
    {
     "data": {
      "text/plain": [
       "(19435224, 8)"
      ]
     },
     "execution_count": 315,
     "metadata": {},
     "output_type": "execute_result"
    }
   ],
   "source": [
    "higher_stage2_df.shape"
   ]
  },
  {
   "cell_type": "code",
   "execution_count": 316,
   "id": "6fcbdafc-d766-4291-afc2-4cd59f7b740e",
   "metadata": {},
   "outputs": [
    {
     "data": {
      "text/plain": [
       "(98625950, 8)"
      ]
     },
     "execution_count": 316,
     "metadata": {},
     "output_type": "execute_result"
    }
   ],
   "source": [
    "stage3_df = pl.concat([higher_stage2_df, gen_train2_df])\n",
    "stage3_df.shape"
   ]
  },
  {
   "cell_type": "code",
   "execution_count": 317,
   "id": "b22a6253-7f62-44a4-9b14-fd14e5e89354",
   "metadata": {},
   "outputs": [
    {
     "data": {
      "text/plain": [
       "98415610"
      ]
     },
     "execution_count": 317,
     "metadata": {},
     "output_type": "execute_result"
    }
   ],
   "source": [
    "98625950 + test1_df.shape[0] + gen_test2_df.shape[0] - 878_022"
   ]
  },
  {
   "cell_type": "code",
   "execution_count": null,
   "id": "5460c091-3f65-4060-963a-9910fc18ea7e",
   "metadata": {},
   "outputs": [],
   "source": []
  },
  {
   "cell_type": "code",
   "execution_count": 318,
   "id": "e3f24d12-5352-4fc9-9d8e-df7e5682b083",
   "metadata": {},
   "outputs": [
    {
     "data": {
      "text/plain": [
       "-467.8882285822953"
      ]
     },
     "execution_count": 318,
     "metadata": {},
     "output_type": "execute_result"
    }
   ],
   "source": [
    "(98625950 + test1_df.shape[0] + gen_test2_df.shape[0] - 878_022) / (test1_df.shape[0] + gen_test2_df.shape[0] - 878_022)"
   ]
  },
  {
   "cell_type": "code",
   "execution_count": 319,
   "id": "ada19c20-ccba-42ca-be4a-89fb09c46fb3",
   "metadata": {},
   "outputs": [
    {
     "data": {
      "text/plain": [
       "-210340"
      ]
     },
     "execution_count": 319,
     "metadata": {},
     "output_type": "execute_result"
    }
   ],
   "source": [
    "test1_df.shape[0] + gen_test2_df.shape[0] - 878_022"
   ]
  },
  {
   "cell_type": "code",
   "execution_count": 320,
   "id": "b85b9c21-695d-4399-8466-85fae8c8532d",
   "metadata": {},
   "outputs": [
    {
     "data": {
      "text/plain": [
       "210340"
      ]
     },
     "execution_count": 320,
     "metadata": {},
     "output_type": "execute_result"
    }
   ],
   "source": [
    "test2_df.shape[0] - gen_test2_df.shape[0]"
   ]
  },
  {
   "cell_type": "code",
   "execution_count": 321,
   "id": "488072f2-8f16-4ddc-86a6-a56dda249300",
   "metadata": {},
   "outputs": [
    {
     "data": {
      "text/plain": [
       "457.2883761994377"
      ]
     },
     "execution_count": 321,
     "metadata": {},
     "output_type": "execute_result"
    }
   ],
   "source": [
    "98410745 / 215205"
   ]
  },
  {
   "cell_type": "code",
   "execution_count": null,
   "id": "cac7ab1a-9ca1-403a-a6a1-b67ea6e00d59",
   "metadata": {},
   "outputs": [],
   "source": []
  },
  {
   "cell_type": "code",
   "execution_count": null,
   "id": "64b733a1-d53a-4763-a232-03a2a24b13b1",
   "metadata": {},
   "outputs": [],
   "source": []
  },
  {
   "cell_type": "code",
   "execution_count": null,
   "id": "108358b2-21ac-4625-8c1f-034fe6b035b3",
   "metadata": {},
   "outputs": [],
   "source": []
  },
  {
   "cell_type": "code",
   "execution_count": 322,
   "id": "0a8cf85b-579c-4ae7-8db8-164168ef5c1c",
   "metadata": {},
   "outputs": [
    {
     "name": "stdout",
     "output_type": "stream",
     "text": [
      "Fold 0:\n",
      "98415210 210740\n"
     ]
    },
    {
     "data": {
      "text/plain": [
       "{0: {'train': array([       0,        1,        2, ..., 98625947, 98625948, 98625949]),\n",
       "  'test': array([      40,      698,     1724, ..., 98624522, 98624688, 98624981])}}"
      ]
     },
     "execution_count": 322,
     "metadata": {},
     "output_type": "execute_result"
    }
   ],
   "source": [
    "# splitter = StratifiedGroupKFold(n_splits=573, shuffle=True, random_state=42)\n",
    "splitter = KFold(n_splits=468, shuffle=True, random_state=42)\n",
    "\n",
    "fold3_meta = {}\n",
    "for i, (tmp_train3_idxs, tmp_test3_idxs) in enumerate(splitter.split(range(len(stage3_df)))):\n",
    "    print(f\"Fold {i}:\")\n",
    "    # train2_idxs = tmp_train1_df[tmp_train2_idxs, 'index'].to_list()\n",
    "    # test2_idxs = tmp_train1_df[tmp_test2_idxs, 'index'].to_list()\n",
    "    train3_idxs = tmp_train3_idxs\n",
    "    test3_idxs = tmp_test3_idxs\n",
    "    print(len(train3_idxs), len(test3_idxs))\n",
    "    fold3_meta[i] = {}\n",
    "    fold3_meta[i]['train'] = train3_idxs\n",
    "    fold3_meta[i]['test'] = test3_idxs\n",
    "    if i >= 0:\n",
    "        break\n",
    "fold3_meta"
   ]
  },
  {
   "cell_type": "code",
   "execution_count": 323,
   "id": "9507ee91-e231-4042-9251-1449551368f4",
   "metadata": {},
   "outputs": [
    {
     "data": {
      "text/html": [
       "<div><style>\n",
       ".dataframe > thead > tr,\n",
       ".dataframe > tbody > tr {\n",
       "  text-align: right;\n",
       "  white-space: pre-wrap;\n",
       "}\n",
       "</style>\n",
       "<small>shape: (210_740, 8)</small><table border=\"1\" class=\"dataframe\"><thead><tr><th>molecule</th><th>bb1</th><th>bb2</th><th>bb3</th><th>scaffold_idx</th><th>ori</th><th>mol_per_scaf</th><th>index</th></tr><tr><td>str</td><td>u16</td><td>u16</td><td>u16</td><td>i64</td><td>i32</td><td>u32</td><td>i64</td></tr></thead><tbody><tr><td>&quot;C#CCOc1ccc(CNc…</td><td>1640</td><td>1653</td><td>843</td><td>806999</td><td>0</td><td>14112</td><td>85</td></tr><tr><td>&quot;C#CC[C@@H](CC(…</td><td>1640</td><td>1982</td><td>785</td><td>4789196</td><td>0</td><td>12232</td><td>1612</td></tr><tr><td>&quot;C#CC[C@@H](CC(…</td><td>1640</td><td>1784</td><td>1702</td><td>1413163</td><td>0</td><td>8640</td><td>3774</td></tr><tr><td>&quot;C#CC[C@@H](CC(…</td><td>1640</td><td>253</td><td>1824</td><td>585701</td><td>0</td><td>41322</td><td>5631</td></tr><tr><td>&quot;C#CC[C@@H](CC(…</td><td>1640</td><td>15</td><td>1941</td><td>2963783</td><td>0</td><td>195471</td><td>6359</td></tr><tr><td>&quot;C#CC[C@@H](CC(…</td><td>1640</td><td>136</td><td>1732</td><td>2080038</td><td>0</td><td>40035</td><td>6812</td></tr><tr><td>&quot;C#CC[C@@H](CC(…</td><td>1640</td><td>136</td><td>1161</td><td>4867705</td><td>0</td><td>246438</td><td>6972</td></tr><tr><td>&quot;C#CC[C@@H](CC(…</td><td>1640</td><td>17</td><td>386</td><td>2963783</td><td>0</td><td>195471</td><td>8241</td></tr><tr><td>&quot;C#CC[C@@H](CC(…</td><td>1640</td><td>17</td><td>192</td><td>162518</td><td>0</td><td>237652</td><td>8268</td></tr><tr><td>&quot;C#CC[C@@H](CC(…</td><td>1640</td><td>17</td><td>2101</td><td>2217250</td><td>0</td><td>500170</td><td>8541</td></tr><tr><td>&hellip;</td><td>&hellip;</td><td>&hellip;</td><td>&hellip;</td><td>&hellip;</td><td>&hellip;</td><td>&hellip;</td><td>&hellip;</td></tr><tr><td>&quot;Cc1nc(CCNc2nc(…</td><td>104</td><td>1268</td><td>1855</td><td>3139327</td><td>1</td><td>1324</td><td>98780302</td></tr><tr><td>&quot;COc1c(Cl)ncnc1…</td><td>1256</td><td>715</td><td>1215</td><td>5160291</td><td>1</td><td>1131</td><td>98780916</td></tr><tr><td>&quot;N#Cc1cccnc1Nc1…</td><td>589</td><td>821</td><td>47</td><td>3930962</td><td>1</td><td>3597</td><td>98781891</td></tr><tr><td>&quot;COc1cc(Nc2nc(N…</td><td>511</td><td>358</td><td>1178</td><td>1748930</td><td>1</td><td>3513</td><td>98782468</td></tr><tr><td>&quot;C#CCOc1ccc(CNc…</td><td>1253</td><td>393</td><td>1653</td><td>3509624</td><td>1</td><td>1699</td><td>98782694</td></tr><tr><td>&quot;O=C(N[Dy])c1cc…</td><td>2036</td><td>1139</td><td>1059</td><td>3630944</td><td>1</td><td>9</td><td>98782695</td></tr><tr><td>&quot;CC1(CCCCNc2nc(…</td><td>271</td><td>339</td><td>1838</td><td>4057326</td><td>1</td><td>30</td><td>98782929</td></tr><tr><td>&quot;CCOC(=O)c1ccc(…</td><td>500</td><td>69</td><td>489</td><td>3466920</td><td>1</td><td>2305</td><td>98783016</td></tr><tr><td>&quot;CC(=O)Nc1cccc(…</td><td>1239</td><td>416</td><td>136</td><td>3527451</td><td>1</td><td>199</td><td>98783212</td></tr><tr><td>&quot;Cn1cc(C[C@@H](…</td><td>1026</td><td>703</td><td>533</td><td>4329841</td><td>1</td><td>1</td><td>98783553</td></tr></tbody></table></div>"
      ],
      "text/plain": [
       "shape: (210_740, 8)\n",
       "┌──────────────────────────────┬──────┬──────┬──────┬──────────────┬─────┬──────────────┬──────────┐\n",
       "│ molecule                     ┆ bb1  ┆ bb2  ┆ bb3  ┆ scaffold_idx ┆ ori ┆ mol_per_scaf ┆ index    │\n",
       "│ ---                          ┆ ---  ┆ ---  ┆ ---  ┆ ---          ┆ --- ┆ ---          ┆ ---      │\n",
       "│ str                          ┆ u16  ┆ u16  ┆ u16  ┆ i64          ┆ i32 ┆ u32          ┆ i64      │\n",
       "╞══════════════════════════════╪══════╪══════╪══════╪══════════════╪═════╪══════════════╪══════════╡\n",
       "│ C#CCOc1ccc(CNc2nc(Nc3nccnc3C ┆ 1640 ┆ 1653 ┆ 843  ┆ 806999       ┆ 0   ┆ 14112        ┆ 85       │\n",
       "│ (=O)…                        ┆      ┆      ┆      ┆              ┆     ┆              ┆          │\n",
       "│ C#CC[C@@H](CC(=O)N[Dy])Nc1nc ┆ 1640 ┆ 1982 ┆ 785  ┆ 4789196      ┆ 0   ┆ 12232        ┆ 1612     │\n",
       "│ (NCc…                        ┆      ┆      ┆      ┆              ┆     ┆              ┆          │\n",
       "│ C#CC[C@@H](CC(=O)N[Dy])Nc1nc ┆ 1640 ┆ 1784 ┆ 1702 ┆ 1413163      ┆ 0   ┆ 8640         ┆ 3774     │\n",
       "│ (NCC…                        ┆      ┆      ┆      ┆              ┆     ┆              ┆          │\n",
       "│ C#CC[C@@H](CC(=O)N[Dy])Nc1nc ┆ 1640 ┆ 253  ┆ 1824 ┆ 585701       ┆ 0   ┆ 41322        ┆ 5631     │\n",
       "│ (NCC…                        ┆      ┆      ┆      ┆              ┆     ┆              ┆          │\n",
       "│ C#CC[C@@H](CC(=O)N[Dy])Nc1nc ┆ 1640 ┆ 15   ┆ 1941 ┆ 2963783      ┆ 0   ┆ 195471       ┆ 6359     │\n",
       "│ (NCC…                        ┆      ┆      ┆      ┆              ┆     ┆              ┆          │\n",
       "│ C#CC[C@@H](CC(=O)N[Dy])Nc1nc ┆ 1640 ┆ 136  ┆ 1732 ┆ 2080038      ┆ 0   ┆ 40035        ┆ 6812     │\n",
       "│ (NCC…                        ┆      ┆      ┆      ┆              ┆     ┆              ┆          │\n",
       "│ C#CC[C@@H](CC(=O)N[Dy])Nc1nc ┆ 1640 ┆ 136  ┆ 1161 ┆ 4867705      ┆ 0   ┆ 246438       ┆ 6972     │\n",
       "│ (Nc2…                        ┆      ┆      ┆      ┆              ┆     ┆              ┆          │\n",
       "│ C#CC[C@@H](CC(=O)N[Dy])Nc1nc ┆ 1640 ┆ 17   ┆ 386  ┆ 2963783      ┆ 0   ┆ 195471       ┆ 8241     │\n",
       "│ (NC[…                        ┆      ┆      ┆      ┆              ┆     ┆              ┆          │\n",
       "│ C#CC[C@@H](CC(=O)N[Dy])Nc1nc ┆ 1640 ┆ 17   ┆ 192  ┆ 162518       ┆ 0   ┆ 237652       ┆ 8268     │\n",
       "│ (Nc2…                        ┆      ┆      ┆      ┆              ┆     ┆              ┆          │\n",
       "│ C#CC[C@@H](CC(=O)N[Dy])Nc1nc ┆ 1640 ┆ 17   ┆ 2101 ┆ 2217250      ┆ 0   ┆ 500170       ┆ 8541     │\n",
       "│ (Nc2…                        ┆      ┆      ┆      ┆              ┆     ┆              ┆          │\n",
       "│ …                            ┆ …    ┆ …    ┆ …    ┆ …            ┆ …   ┆ …            ┆ …        │\n",
       "│ Cc1nc(CCNc2nc(Nc3nc(-c4ccc(C ┆ 104  ┆ 1268 ┆ 1855 ┆ 3139327      ┆ 1   ┆ 1324         ┆ 98780302 │\n",
       "│ l)cc…                        ┆      ┆      ┆      ┆              ┆     ┆              ┆          │\n",
       "│ COc1c(Cl)ncnc1Nc1nc(NCc2nc3c ┆ 1256 ┆ 715  ┆ 1215 ┆ 5160291      ┆ 1   ┆ 1131         ┆ 98780916 │\n",
       "│ cccc…                        ┆      ┆      ┆      ┆              ┆     ┆              ┆          │\n",
       "│ N#Cc1cccnc1Nc1nc(NCCS(=O)(=O ┆ 589  ┆ 821  ┆ 47   ┆ 3930962      ┆ 1   ┆ 3597         ┆ 98781891 │\n",
       "│ )Nc2…                        ┆      ┆      ┆      ┆              ┆     ┆              ┆          │\n",
       "│ COc1cc(Nc2nc(Nc3nnc(S)s3)nc( ┆ 511  ┆ 358  ┆ 1178 ┆ 1748930      ┆ 1   ┆ 3513         ┆ 98782468 │\n",
       "│ Nc3c…                        ┆      ┆      ┆      ┆              ┆     ┆              ┆          │\n",
       "│ C#CCOc1ccc(CNc2nc(NCc3cccc(C ┆ 1253 ┆ 393  ┆ 1653 ┆ 3509624      ┆ 1   ┆ 1699         ┆ 98782694 │\n",
       "│ (F)(…                        ┆      ┆      ┆      ┆              ┆     ┆              ┆          │\n",
       "│ O=C(N[Dy])c1ccncc1Nc1nc(NCc2 ┆ 2036 ┆ 1139 ┆ 1059 ┆ 3630944      ┆ 1   ┆ 9            ┆ 98782695 │\n",
       "│ ccc3…                        ┆      ┆      ┆      ┆              ┆     ┆              ┆          │\n",
       "│ CC1(CCCCNc2nc(Nc3nccnc3Br)nc ┆ 271  ┆ 339  ┆ 1838 ┆ 4057326      ┆ 1   ┆ 30           ┆ 98782929 │\n",
       "│ (N3[…                        ┆      ┆      ┆      ┆              ┆     ┆              ┆          │\n",
       "│ CCOC(=O)c1ccc(O)c(Nc2nc(Nc3c ┆ 500  ┆ 69   ┆ 489  ┆ 3466920      ┆ 1   ┆ 2305         ┆ 98783016 │\n",
       "│ ccc4…                        ┆      ┆      ┆      ┆              ┆     ┆              ┆          │\n",
       "│ CC(=O)Nc1cccc(Nc2nc(NCC3CCCC ┆ 1239 ┆ 416  ┆ 136  ┆ 3527451      ┆ 1   ┆ 199          ┆ 98783212 │\n",
       "│ 3NS(…                        ┆      ┆      ┆      ┆              ┆     ┆              ┆          │\n",
       "│ Cn1cc(C[C@@H](Nc2nc(NCc3nc4c ┆ 1026 ┆ 703  ┆ 533  ┆ 4329841      ┆ 1   ┆ 1            ┆ 98783553 │\n",
       "│ (F)c…                        ┆      ┆      ┆      ┆              ┆     ┆              ┆          │\n",
       "└──────────────────────────────┴──────┴──────┴──────┴──────────────┴─────┴──────────────┴──────────┘"
      ]
     },
     "execution_count": 323,
     "metadata": {},
     "output_type": "execute_result"
    }
   ],
   "source": [
    "gen_test3_df = stage3_df[test3_idxs]\n",
    "gen_train3_df = stage3_df[train3_idxs]\n",
    "gen_test3_df"
   ]
  },
  {
   "cell_type": "code",
   "execution_count": 324,
   "id": "03cdc7ed-d5b1-4c31-8b32-7c745f5d5c02",
   "metadata": {},
   "outputs": [
    {
     "data": {
      "text/html": [
       "<div><style>\n",
       ".dataframe > thead > tr,\n",
       ".dataframe > tbody > tr {\n",
       "  text-align: right;\n",
       "  white-space: pre-wrap;\n",
       "}\n",
       "</style>\n",
       "<small>shape: (1, 8)</small><table border=\"1\" class=\"dataframe\"><thead><tr><th>molecule</th><th>bb1</th><th>bb2</th><th>bb3</th><th>scaffold_idx</th><th>ori</th><th>mol_per_scaf</th><th>index</th></tr><tr><td>u32</td><td>u32</td><td>u32</td><td>u32</td><td>u32</td><td>u32</td><td>u32</td><td>u32</td></tr></thead><tbody><tr><td>210740</td><td>271</td><td>693</td><td>871</td><td>117641</td><td>2</td><td>2331</td><td>210740</td></tr></tbody></table></div>"
      ],
      "text/plain": [
       "shape: (1, 8)\n",
       "┌──────────┬─────┬─────┬─────┬──────────────┬─────┬──────────────┬────────┐\n",
       "│ molecule ┆ bb1 ┆ bb2 ┆ bb3 ┆ scaffold_idx ┆ ori ┆ mol_per_scaf ┆ index  │\n",
       "│ ---      ┆ --- ┆ --- ┆ --- ┆ ---          ┆ --- ┆ ---          ┆ ---    │\n",
       "│ u32      ┆ u32 ┆ u32 ┆ u32 ┆ u32          ┆ u32 ┆ u32          ┆ u32    │\n",
       "╞══════════╪═════╪═════╪═════╪══════════════╪═════╪══════════════╪════════╡\n",
       "│ 210740   ┆ 271 ┆ 693 ┆ 871 ┆ 117641       ┆ 2   ┆ 2331         ┆ 210740 │\n",
       "└──────────┴─────┴─────┴─────┴──────────────┴─────┴──────────────┴────────┘"
      ]
     },
     "execution_count": 324,
     "metadata": {},
     "output_type": "execute_result"
    }
   ],
   "source": [
    "gen_test3_df.select(pl.n_unique('*'))"
   ]
  },
  {
   "cell_type": "code",
   "execution_count": 325,
   "id": "5155dccd-2520-4462-ac46-0bb0ff824a66",
   "metadata": {},
   "outputs": [
    {
     "data": {
      "text/plain": [
       "(369039, 7)"
      ]
     },
     "execution_count": 325,
     "metadata": {},
     "output_type": "execute_result"
    }
   ],
   "source": [
    "test2_df.shape"
   ]
  },
  {
   "cell_type": "code",
   "execution_count": null,
   "id": "9d876989-fc76-4714-8e28-583d9b3ba7d5",
   "metadata": {},
   "outputs": [],
   "source": []
  },
  {
   "cell_type": "code",
   "execution_count": 326,
   "id": "0006203e-d6e6-4162-a2b3-3daa4aa27073",
   "metadata": {},
   "outputs": [
    {
     "data": {
      "text/html": [
       "<div><style>\n",
       ".dataframe > thead > tr,\n",
       ".dataframe > tbody > tr {\n",
       "  text-align: right;\n",
       "  white-space: pre-wrap;\n",
       "}\n",
       "</style>\n",
       "<small>shape: (4_865, 8)</small><table border=\"1\" class=\"dataframe\"><thead><tr><th>molecule</th><th>bb1</th><th>bb2</th><th>bb3</th><th>scaffold_idx</th><th>ori</th><th>mol_per_scaf</th><th>index</th></tr><tr><td>str</td><td>u16</td><td>u16</td><td>u16</td><td>i64</td><td>i32</td><td>u32</td><td>i64</td></tr></thead><tbody><tr><td>&quot;C=C1CCC(CNc2nc…</td><td>873</td><td>740</td><td>116</td><td>1771451</td><td>0</td><td>1</td><td>4724314</td></tr><tr><td>&quot;Cn1ccc2cc(Nc3n…</td><td>873</td><td>734</td><td>1795</td><td>3067872</td><td>0</td><td>1</td><td>4730853</td></tr><tr><td>&quot;CC(C)(C)OC(=O)…</td><td>873</td><td>909</td><td>1644</td><td>2040881</td><td>0</td><td>1</td><td>4733904</td></tr><tr><td>&quot;CC(C)Cn1cnc2c(…</td><td>873</td><td>855</td><td>1768</td><td>3094529</td><td>0</td><td>1</td><td>4735944</td></tr><tr><td>&quot;CC(C)c1nnc([C@…</td><td>873</td><td>1563</td><td>105</td><td>4883419</td><td>0</td><td>1</td><td>4737210</td></tr><tr><td>&quot;CC(CNc1nc(Nc2n…</td><td>873</td><td>79</td><td>1932</td><td>335382</td><td>0</td><td>1</td><td>4738109</td></tr><tr><td>&quot;CCC1=NN(Cc2ccc…</td><td>873</td><td>518</td><td>925</td><td>4810975</td><td>0</td><td>1</td><td>4739133</td></tr><tr><td>&quot;CC(CNc1nc(NCCc…</td><td>873</td><td>1770</td><td>1726</td><td>1030674</td><td>0</td><td>1</td><td>4741135</td></tr><tr><td>&quot;CC(O)(CNc1nc(N…</td><td>873</td><td>1222</td><td>659</td><td>4408914</td><td>0</td><td>1</td><td>4742450</td></tr><tr><td>&quot;CC(O)(CNc1nc(N…</td><td>873</td><td>1222</td><td>1437</td><td>332488</td><td>0</td><td>1</td><td>4742556</td></tr><tr><td>&hellip;</td><td>&hellip;</td><td>&hellip;</td><td>&hellip;</td><td>&hellip;</td><td>&hellip;</td><td>&hellip;</td><td>&hellip;</td></tr><tr><td>&quot;COC(=O)c1scnc1…</td><td>171</td><td>2088</td><td>419</td><td>3537327</td><td>1</td><td>1</td><td>98600717</td></tr><tr><td>&quot;Cc1ccc(-c2cc(C…</td><td>1775</td><td>26</td><td>287</td><td>5341847</td><td>1</td><td>1</td><td>98610167</td></tr><tr><td>&quot;CSc1ncc(Nc2nc(…</td><td>1660</td><td>474</td><td>1979</td><td>4295536</td><td>1</td><td>1</td><td>98615903</td></tr><tr><td>&quot;CN1CCN(Cc2cccc…</td><td>930</td><td>1148</td><td>579</td><td>1348696</td><td>1</td><td>1</td><td>98621730</td></tr><tr><td>&quot;O=C(N[Dy])[C@H…</td><td>179</td><td>1339</td><td>1065</td><td>1104846</td><td>1</td><td>1</td><td>98647650</td></tr><tr><td>&quot;Cn1c(CNc2nc(Nc…</td><td>1147</td><td>854</td><td>1056</td><td>3946833</td><td>1</td><td>1</td><td>98657678</td></tr><tr><td>&quot;CN1CCN(Cc2ccc(…</td><td>1464</td><td>2033</td><td>951</td><td>2748676</td><td>1</td><td>1</td><td>98683225</td></tr><tr><td>&quot;CC(C)(C)OC(=O)…</td><td>1993</td><td>1094</td><td>604</td><td>2667280</td><td>1</td><td>1</td><td>98732395</td></tr><tr><td>&quot;CC(C)(C)OC(=O)…</td><td>930</td><td>1321</td><td>1792</td><td>53066</td><td>1</td><td>1</td><td>98741671</td></tr><tr><td>&quot;Cc1cc(=O)oc2cc…</td><td>1675</td><td>85</td><td>641</td><td>603458</td><td>1</td><td>1</td><td>98763055</td></tr></tbody></table></div>"
      ],
      "text/plain": [
       "shape: (4_865, 8)\n",
       "┌──────────────────────────────┬──────┬──────┬──────┬──────────────┬─────┬──────────────┬──────────┐\n",
       "│ molecule                     ┆ bb1  ┆ bb2  ┆ bb3  ┆ scaffold_idx ┆ ori ┆ mol_per_scaf ┆ index    │\n",
       "│ ---                          ┆ ---  ┆ ---  ┆ ---  ┆ ---          ┆ --- ┆ ---          ┆ ---      │\n",
       "│ str                          ┆ u16  ┆ u16  ┆ u16  ┆ i64          ┆ i32 ┆ u32          ┆ i64      │\n",
       "╞══════════════════════════════╪══════╪══════╪══════╪══════════════╪═════╪══════════════╪══════════╡\n",
       "│ C=C1CCC(CNc2nc(NCCc3c(C)[nH] ┆ 873  ┆ 740  ┆ 116  ┆ 1771451      ┆ 0   ┆ 1            ┆ 4724314  │\n",
       "│ [nH]…                        ┆      ┆      ┆      ┆              ┆     ┆              ┆          │\n",
       "│ Cn1ccc2cc(Nc3nc(Nc4ccccc4N4C ┆ 873  ┆ 734  ┆ 1795 ┆ 3067872      ┆ 0   ┆ 1            ┆ 4730853  │\n",
       "│ CN(C…                        ┆      ┆      ┆      ┆              ┆     ┆              ┆          │\n",
       "│ CC(C)(C)OC(=O)N1CCN(c2nc(NCc ┆ 873  ┆ 909  ┆ 1644 ┆ 2040881      ┆ 0   ┆ 1            ┆ 4733904  │\n",
       "│ 3ccc…                        ┆      ┆      ┆      ┆              ┆     ┆              ┆          │\n",
       "│ CC(C)Cn1cnc2c(Nc3nc(NCCS(=O) ┆ 873  ┆ 855  ┆ 1768 ┆ 3094529      ┆ 0   ┆ 1            ┆ 4735944  │\n",
       "│ (=O)…                        ┆      ┆      ┆      ┆              ┆     ┆              ┆          │\n",
       "│ CC(C)c1nnc([C@H]2C[C@H](CNc3 ┆ 873  ┆ 1563 ┆ 105  ┆ 4883419      ┆ 0   ┆ 1            ┆ 4737210  │\n",
       "│ nc(N…                        ┆      ┆      ┆      ┆              ┆     ┆              ┆          │\n",
       "│ CC(CNc1nc(Nc2nc3nc[nH]c3c(=O ┆ 873  ┆ 79   ┆ 1932 ┆ 335382       ┆ 0   ┆ 1            ┆ 4738109  │\n",
       "│ )[nH…                        ┆      ┆      ┆      ┆              ┆     ┆              ┆          │\n",
       "│ CCC1=NN(Cc2ccccc2C)C(=O)C1CC ┆ 873  ┆ 518  ┆ 925  ┆ 4810975      ┆ 0   ┆ 1            ┆ 4739133  │\n",
       "│ Nc1n…                        ┆      ┆      ┆      ┆              ┆     ┆              ┆          │\n",
       "│ CC(CNc1nc(NCCc2nccc(C3CC3)n2 ┆ 873  ┆ 1770 ┆ 1726 ┆ 1030674      ┆ 0   ┆ 1            ┆ 4741135  │\n",
       "│ )nc(…                        ┆      ┆      ┆      ┆              ┆     ┆              ┆          │\n",
       "│ CC(O)(CNc1nc(Nc2ccc(C(=O)N3C ┆ 873  ┆ 1222 ┆ 659  ┆ 4408914      ┆ 0   ┆ 1            ┆ 4742450  │\n",
       "│ COCC…                        ┆      ┆      ┆      ┆              ┆     ┆              ┆          │\n",
       "│ CC(O)(CNc1nc(Nc2nccc(=O)[nH] ┆ 873  ┆ 1222 ┆ 1437 ┆ 332488       ┆ 0   ┆ 1            ┆ 4742556  │\n",
       "│ 2)nc…                        ┆      ┆      ┆      ┆              ┆     ┆              ┆          │\n",
       "│ …                            ┆ …    ┆ …    ┆ …    ┆ …            ┆ …   ┆ …            ┆ …        │\n",
       "│ COC(=O)c1scnc1Nc1nc(NC2=C(C# ┆ 171  ┆ 2088 ┆ 419  ┆ 3537327      ┆ 1   ┆ 1            ┆ 98600717 │\n",
       "│ N)CC…                        ┆      ┆      ┆      ┆              ┆     ┆              ┆          │\n",
       "│ Cc1ccc(-c2cc(C(F)(F)F)nc(OCC ┆ 1775 ┆ 26   ┆ 287  ┆ 5341847      ┆ 1   ┆ 1            ┆ 98610167 │\n",
       "│ Nc3n…                        ┆      ┆      ┆      ┆              ┆     ┆              ┆          │\n",
       "│ CSc1ncc(Nc2nc(NCc3nc(-c4ccsc ┆ 1660 ┆ 474  ┆ 1979 ┆ 4295536      ┆ 1   ┆ 1            ┆ 98615903 │\n",
       "│ 4)no…                        ┆      ┆      ┆      ┆              ┆     ┆              ┆          │\n",
       "│ CN1CCN(Cc2cccc(Nc3nc(NCC(=O) ┆ 930  ┆ 1148 ┆ 579  ┆ 1348696      ┆ 1   ┆ 1            ┆ 98621730 │\n",
       "│ NC4(…                        ┆      ┆      ┆      ┆              ┆     ┆              ┆          │\n",
       "│ O=C(N[Dy])[C@H](Cc1cscn1)Nc1 ┆ 179  ┆ 1339 ┆ 1065 ┆ 1104846      ┆ 1   ┆ 1            ┆ 98647650 │\n",
       "│ nc(N…                        ┆      ┆      ┆      ┆              ┆     ┆              ┆          │\n",
       "│ Cn1c(CNc2nc(Nc3cc(C4CC4)[nH] ┆ 1147 ┆ 854  ┆ 1056 ┆ 3946833      ┆ 1   ┆ 1            ┆ 98657678 │\n",
       "│ n3)n…                        ┆      ┆      ┆      ┆              ┆     ┆              ┆          │\n",
       "│ CN1CCN(Cc2ccc(Nc3nc(NCC4(C)C ┆ 1464 ┆ 2033 ┆ 951  ┆ 2748676      ┆ 1   ┆ 1            ┆ 98683225 │\n",
       "│ CC5(…                        ┆      ┆      ┆      ┆              ┆     ┆              ┆          │\n",
       "│ CC(C)(C)OC(=O)N1CCC(n2cc(Nc3 ┆ 1993 ┆ 1094 ┆ 604  ┆ 2667280      ┆ 1   ┆ 1            ┆ 98732395 │\n",
       "│ nc(N…                        ┆      ┆      ┆      ┆              ┆     ┆              ┆          │\n",
       "│ CC(C)(C)OC(=O)N1C[C@@H](Nc2n ┆ 930  ┆ 1321 ┆ 1792 ┆ 53066        ┆ 1   ┆ 1            ┆ 98741671 │\n",
       "│ c(Nc…                        ┆      ┆      ┆      ┆              ┆     ┆              ┆          │\n",
       "│ Cc1cc(=O)oc2cc(Nc3nc(Nc4nc5c ┆ 1675 ┆ 85   ┆ 641  ┆ 603458       ┆ 1   ┆ 1            ┆ 98763055 │\n",
       "│ (s4)…                        ┆      ┆      ┆      ┆              ┆     ┆              ┆          │\n",
       "└──────────────────────────────┴──────┴──────┴──────┴──────────────┴─────┴──────────────┴──────────┘"
      ]
     },
     "execution_count": 326,
     "metadata": {},
     "output_type": "execute_result"
    }
   ],
   "source": [
    "gen_test2_df.filter(pl.col('mol_per_scaf') == 1)"
   ]
  },
  {
   "cell_type": "code",
   "execution_count": 327,
   "id": "93d7c35e-60b9-499a-8d49-67ffe8095fa8",
   "metadata": {},
   "outputs": [
    {
     "data": {
      "text/html": [
       "<div><style>\n",
       ".dataframe > thead > tr,\n",
       ".dataframe > tbody > tr {\n",
       "  text-align: right;\n",
       "  white-space: pre-wrap;\n",
       "}\n",
       "</style>\n",
       "<small>shape: (1, 1)</small><table border=\"1\" class=\"dataframe\"><thead><tr><th>scaffold_idx</th></tr><tr><td>u32</td></tr></thead><tbody><tr><td>11453</td></tr></tbody></table></div>"
      ],
      "text/plain": [
       "shape: (1, 1)\n",
       "┌──────────────┐\n",
       "│ scaffold_idx │\n",
       "│ ---          │\n",
       "│ u32          │\n",
       "╞══════════════╡\n",
       "│ 11453        │\n",
       "└──────────────┘"
      ]
     },
     "execution_count": 327,
     "metadata": {},
     "output_type": "execute_result"
    }
   ],
   "source": [
    "gen_test2_df.select(pl.n_unique('scaffold_idx'))"
   ]
  },
  {
   "cell_type": "code",
   "execution_count": 328,
   "id": "73f4a663-b28b-40fe-8600-f78fbaf23ef2",
   "metadata": {},
   "outputs": [
    {
     "data": {
      "text/plain": [
       "5167"
      ]
     },
     "execution_count": 328,
     "metadata": {},
     "output_type": "execute_result"
    }
   ],
   "source": [
    "gen_test3_df.filter(pl.col('mol_per_scaf') <= 1)['scaffold_idx'].n_unique()"
   ]
  },
  {
   "cell_type": "code",
   "execution_count": 329,
   "id": "a4949a51-86ae-4cf2-8105-9b098a31f117",
   "metadata": {},
   "outputs": [
    {
     "data": {
      "text/html": [
       "<div><style>\n",
       ".dataframe > thead > tr,\n",
       ".dataframe > tbody > tr {\n",
       "  text-align: right;\n",
       "  white-space: pre-wrap;\n",
       "}\n",
       "</style>\n",
       "<small>shape: (369_439, 8)</small><table border=\"1\" class=\"dataframe\"><thead><tr><th>molecule</th><th>bb1</th><th>bb2</th><th>bb3</th><th>scaffold_idx</th><th>ori</th><th>mol_per_scaf</th><th>index</th></tr><tr><td>str</td><td>u16</td><td>u16</td><td>u16</td><td>i64</td><td>i32</td><td>u32</td><td>i64</td></tr></thead><tbody><tr><td>&quot;C#CC[C@@H](CC(…</td><td>1640</td><td>1982</td><td>655</td><td>5305031</td><td>0</td><td>6116</td><td>1222</td></tr><tr><td>&quot;C#CC[C@@H](CC(…</td><td>1640</td><td>2090</td><td>655</td><td>5305031</td><td>0</td><td>6116</td><td>1976</td></tr><tr><td>&quot;C#CC[C@@H](CC(…</td><td>1640</td><td>740</td><td>666</td><td>3622246</td><td>0</td><td>40</td><td>4548</td></tr><tr><td>&quot;C#CC[C@@H](CC(…</td><td>1640</td><td>740</td><td>1471</td><td>3193630</td><td>0</td><td>100</td><td>4749</td></tr><tr><td>&quot;C#CC[C@@H](CC(…</td><td>1640</td><td>740</td><td>247</td><td>3193630</td><td>0</td><td>100</td><td>4750</td></tr><tr><td>&quot;C#CC[C@@H](CC(…</td><td>1640</td><td>740</td><td>219</td><td>3193630</td><td>0</td><td>100</td><td>4751</td></tr><tr><td>&quot;C#CC[C@@H](CC(…</td><td>1640</td><td>740</td><td>487</td><td>3193630</td><td>0</td><td>100</td><td>4752</td></tr><tr><td>&quot;C#CC[C@@H](CC(…</td><td>1640</td><td>740</td><td>1751</td><td>3193630</td><td>0</td><td>100</td><td>4753</td></tr><tr><td>&quot;C#CC[C@@H](CC(…</td><td>1640</td><td>136</td><td>1372</td><td>5411475</td><td>0</td><td>904</td><td>7172</td></tr><tr><td>&quot;C#CC[C@@H](CC(…</td><td>1640</td><td>548</td><td>655</td><td>5305031</td><td>0</td><td>6116</td><td>8696</td></tr><tr><td>&hellip;</td><td>&hellip;</td><td>&hellip;</td><td>&hellip;</td><td>&hellip;</td><td>&hellip;</td><td>&hellip;</td><td>&hellip;</td></tr><tr><td>&quot;Cc1nc(CCNc2nc(…</td><td>104</td><td>1268</td><td>1855</td><td>3139327</td><td>1</td><td>1324</td><td>98780302</td></tr><tr><td>&quot;COc1c(Cl)ncnc1…</td><td>1256</td><td>715</td><td>1215</td><td>5160291</td><td>1</td><td>1131</td><td>98780916</td></tr><tr><td>&quot;N#Cc1cccnc1Nc1…</td><td>589</td><td>821</td><td>47</td><td>3930962</td><td>1</td><td>3597</td><td>98781891</td></tr><tr><td>&quot;COc1cc(Nc2nc(N…</td><td>511</td><td>358</td><td>1178</td><td>1748930</td><td>1</td><td>3513</td><td>98782468</td></tr><tr><td>&quot;C#CCOc1ccc(CNc…</td><td>1253</td><td>393</td><td>1653</td><td>3509624</td><td>1</td><td>1699</td><td>98782694</td></tr><tr><td>&quot;O=C(N[Dy])c1cc…</td><td>2036</td><td>1139</td><td>1059</td><td>3630944</td><td>1</td><td>9</td><td>98782695</td></tr><tr><td>&quot;CC1(CCCCNc2nc(…</td><td>271</td><td>339</td><td>1838</td><td>4057326</td><td>1</td><td>30</td><td>98782929</td></tr><tr><td>&quot;CCOC(=O)c1ccc(…</td><td>500</td><td>69</td><td>489</td><td>3466920</td><td>1</td><td>2305</td><td>98783016</td></tr><tr><td>&quot;CC(=O)Nc1cccc(…</td><td>1239</td><td>416</td><td>136</td><td>3527451</td><td>1</td><td>199</td><td>98783212</td></tr><tr><td>&quot;Cn1cc(C[C@@H](…</td><td>1026</td><td>703</td><td>533</td><td>4329841</td><td>1</td><td>1</td><td>98783553</td></tr></tbody></table></div>"
      ],
      "text/plain": [
       "shape: (369_439, 8)\n",
       "┌──────────────────────────────┬──────┬──────┬──────┬──────────────┬─────┬──────────────┬──────────┐\n",
       "│ molecule                     ┆ bb1  ┆ bb2  ┆ bb3  ┆ scaffold_idx ┆ ori ┆ mol_per_scaf ┆ index    │\n",
       "│ ---                          ┆ ---  ┆ ---  ┆ ---  ┆ ---          ┆ --- ┆ ---          ┆ ---      │\n",
       "│ str                          ┆ u16  ┆ u16  ┆ u16  ┆ i64          ┆ i32 ┆ u32          ┆ i64      │\n",
       "╞══════════════════════════════╪══════╪══════╪══════╪══════════════╪═════╪══════════════╪══════════╡\n",
       "│ C#CC[C@@H](CC(=O)N[Dy])Nc1nc ┆ 1640 ┆ 1982 ┆ 655  ┆ 5305031      ┆ 0   ┆ 6116         ┆ 1222     │\n",
       "│ (NCC…                        ┆      ┆      ┆      ┆              ┆     ┆              ┆          │\n",
       "│ C#CC[C@@H](CC(=O)N[Dy])Nc1nc ┆ 1640 ┆ 2090 ┆ 655  ┆ 5305031      ┆ 0   ┆ 6116         ┆ 1976     │\n",
       "│ (NCC…                        ┆      ┆      ┆      ┆              ┆     ┆              ┆          │\n",
       "│ C#CC[C@@H](CC(=O)N[Dy])Nc1nc ┆ 1640 ┆ 740  ┆ 666  ┆ 3622246      ┆ 0   ┆ 40           ┆ 4548     │\n",
       "│ (NCc…                        ┆      ┆      ┆      ┆              ┆     ┆              ┆          │\n",
       "│ C#CC[C@@H](CC(=O)N[Dy])Nc1nc ┆ 1640 ┆ 740  ┆ 1471 ┆ 3193630      ┆ 0   ┆ 100          ┆ 4749     │\n",
       "│ (NCC…                        ┆      ┆      ┆      ┆              ┆     ┆              ┆          │\n",
       "│ C#CC[C@@H](CC(=O)N[Dy])Nc1nc ┆ 1640 ┆ 740  ┆ 247  ┆ 3193630      ┆ 0   ┆ 100          ┆ 4750     │\n",
       "│ (NCC…                        ┆      ┆      ┆      ┆              ┆     ┆              ┆          │\n",
       "│ C#CC[C@@H](CC(=O)N[Dy])Nc1nc ┆ 1640 ┆ 740  ┆ 219  ┆ 3193630      ┆ 0   ┆ 100          ┆ 4751     │\n",
       "│ (NCC…                        ┆      ┆      ┆      ┆              ┆     ┆              ┆          │\n",
       "│ C#CC[C@@H](CC(=O)N[Dy])Nc1nc ┆ 1640 ┆ 740  ┆ 487  ┆ 3193630      ┆ 0   ┆ 100          ┆ 4752     │\n",
       "│ (NCC…                        ┆      ┆      ┆      ┆              ┆     ┆              ┆          │\n",
       "│ C#CC[C@@H](CC(=O)N[Dy])Nc1nc ┆ 1640 ┆ 740  ┆ 1751 ┆ 3193630      ┆ 0   ┆ 100          ┆ 4753     │\n",
       "│ (NCC…                        ┆      ┆      ┆      ┆              ┆     ┆              ┆          │\n",
       "│ C#CC[C@@H](CC(=O)N[Dy])Nc1nc ┆ 1640 ┆ 136  ┆ 1372 ┆ 5411475      ┆ 0   ┆ 904          ┆ 7172     │\n",
       "│ (NCC…                        ┆      ┆      ┆      ┆              ┆     ┆              ┆          │\n",
       "│ C#CC[C@@H](CC(=O)N[Dy])Nc1nc ┆ 1640 ┆ 548  ┆ 655  ┆ 5305031      ┆ 0   ┆ 6116         ┆ 8696     │\n",
       "│ (NCC…                        ┆      ┆      ┆      ┆              ┆     ┆              ┆          │\n",
       "│ …                            ┆ …    ┆ …    ┆ …    ┆ …            ┆ …   ┆ …            ┆ …        │\n",
       "│ Cc1nc(CCNc2nc(Nc3nc(-c4ccc(C ┆ 104  ┆ 1268 ┆ 1855 ┆ 3139327      ┆ 1   ┆ 1324         ┆ 98780302 │\n",
       "│ l)cc…                        ┆      ┆      ┆      ┆              ┆     ┆              ┆          │\n",
       "│ COc1c(Cl)ncnc1Nc1nc(NCc2nc3c ┆ 1256 ┆ 715  ┆ 1215 ┆ 5160291      ┆ 1   ┆ 1131         ┆ 98780916 │\n",
       "│ cccc…                        ┆      ┆      ┆      ┆              ┆     ┆              ┆          │\n",
       "│ N#Cc1cccnc1Nc1nc(NCCS(=O)(=O ┆ 589  ┆ 821  ┆ 47   ┆ 3930962      ┆ 1   ┆ 3597         ┆ 98781891 │\n",
       "│ )Nc2…                        ┆      ┆      ┆      ┆              ┆     ┆              ┆          │\n",
       "│ COc1cc(Nc2nc(Nc3nnc(S)s3)nc( ┆ 511  ┆ 358  ┆ 1178 ┆ 1748930      ┆ 1   ┆ 3513         ┆ 98782468 │\n",
       "│ Nc3c…                        ┆      ┆      ┆      ┆              ┆     ┆              ┆          │\n",
       "│ C#CCOc1ccc(CNc2nc(NCc3cccc(C ┆ 1253 ┆ 393  ┆ 1653 ┆ 3509624      ┆ 1   ┆ 1699         ┆ 98782694 │\n",
       "│ (F)(…                        ┆      ┆      ┆      ┆              ┆     ┆              ┆          │\n",
       "│ O=C(N[Dy])c1ccncc1Nc1nc(NCc2 ┆ 2036 ┆ 1139 ┆ 1059 ┆ 3630944      ┆ 1   ┆ 9            ┆ 98782695 │\n",
       "│ ccc3…                        ┆      ┆      ┆      ┆              ┆     ┆              ┆          │\n",
       "│ CC1(CCCCNc2nc(Nc3nccnc3Br)nc ┆ 271  ┆ 339  ┆ 1838 ┆ 4057326      ┆ 1   ┆ 30           ┆ 98782929 │\n",
       "│ (N3[…                        ┆      ┆      ┆      ┆              ┆     ┆              ┆          │\n",
       "│ CCOC(=O)c1ccc(O)c(Nc2nc(Nc3c ┆ 500  ┆ 69   ┆ 489  ┆ 3466920      ┆ 1   ┆ 2305         ┆ 98783016 │\n",
       "│ ccc4…                        ┆      ┆      ┆      ┆              ┆     ┆              ┆          │\n",
       "│ CC(=O)Nc1cccc(Nc2nc(NCC3CCCC ┆ 1239 ┆ 416  ┆ 136  ┆ 3527451      ┆ 1   ┆ 199          ┆ 98783212 │\n",
       "│ 3NS(…                        ┆      ┆      ┆      ┆              ┆     ┆              ┆          │\n",
       "│ Cn1cc(C[C@@H](Nc2nc(NCc3nc4c ┆ 1026 ┆ 703  ┆ 533  ┆ 4329841      ┆ 1   ┆ 1            ┆ 98783553 │\n",
       "│ (F)c…                        ┆      ┆      ┆      ┆              ┆     ┆              ┆          │\n",
       "└──────────────────────────────┴──────┴──────┴──────┴──────────────┴─────┴──────────────┴──────────┘"
      ]
     },
     "execution_count": 329,
     "metadata": {},
     "output_type": "execute_result"
    }
   ],
   "source": [
    "gen_test_df = pl.concat([gen_test2_df, gen_test3_df])\n",
    "gen_test_df"
   ]
  },
  {
   "cell_type": "code",
   "execution_count": 330,
   "id": "8b9ce86e-b36d-43ca-9d6c-03b5cc87d2c0",
   "metadata": {},
   "outputs": [],
   "source": [
    "gen_train3_df = stage3_df[train3_idxs]"
   ]
  },
  {
   "cell_type": "code",
   "execution_count": 331,
   "id": "0b242e04-3498-4b27-b0cf-178d39b0a658",
   "metadata": {},
   "outputs": [
    {
     "data": {
      "text/plain": [
       "(98415210, 8)"
      ]
     },
     "execution_count": 331,
     "metadata": {},
     "output_type": "execute_result"
    }
   ],
   "source": [
    "gen_train3_df.shape"
   ]
  },
  {
   "cell_type": "code",
   "execution_count": 332,
   "id": "d5a47b67-a4bb-4960-9df0-2de7d68b0b80",
   "metadata": {},
   "outputs": [],
   "source": [
    "gen_train_df = gen_train3_df"
   ]
  },
  {
   "cell_type": "code",
   "execution_count": 333,
   "id": "4447600b-e5d3-4823-a201-c496fa8fff22",
   "metadata": {},
   "outputs": [
    {
     "data": {
      "text/html": [
       "<div><style>\n",
       ".dataframe > thead > tr,\n",
       ".dataframe > tbody > tr {\n",
       "  text-align: right;\n",
       "  white-space: pre-wrap;\n",
       "}\n",
       "</style>\n",
       "<small>shape: (1, 8)</small><table border=\"1\" class=\"dataframe\"><thead><tr><th>molecule</th><th>bb1</th><th>bb2</th><th>bb3</th><th>scaffold_idx</th><th>ori</th><th>mol_per_scaf</th><th>index</th></tr><tr><td>u32</td><td>u32</td><td>u32</td><td>u32</td><td>u32</td><td>u32</td><td>u32</td><td>u32</td></tr></thead><tbody><tr><td>369439</td><td>271</td><td>693</td><td>872</td><td>129094</td><td>2</td><td>2333</td><td>369439</td></tr></tbody></table></div>"
      ],
      "text/plain": [
       "shape: (1, 8)\n",
       "┌──────────┬─────┬─────┬─────┬──────────────┬─────┬──────────────┬────────┐\n",
       "│ molecule ┆ bb1 ┆ bb2 ┆ bb3 ┆ scaffold_idx ┆ ori ┆ mol_per_scaf ┆ index  │\n",
       "│ ---      ┆ --- ┆ --- ┆ --- ┆ ---          ┆ --- ┆ ---          ┆ ---    │\n",
       "│ u32      ┆ u32 ┆ u32 ┆ u32 ┆ u32          ┆ u32 ┆ u32          ┆ u32    │\n",
       "╞══════════╪═════╪═════╪═════╪══════════════╪═════╪══════════════╪════════╡\n",
       "│ 369439   ┆ 271 ┆ 693 ┆ 872 ┆ 129094       ┆ 2   ┆ 2333         ┆ 369439 │\n",
       "└──────────┴─────┴─────┴─────┴──────────────┴─────┴──────────────┴────────┘"
      ]
     },
     "execution_count": 333,
     "metadata": {},
     "output_type": "execute_result"
    }
   ],
   "source": [
    "gen_test_df.select(pl.n_unique('*'))"
   ]
  },
  {
   "cell_type": "code",
   "execution_count": 334,
   "id": "8221414c-c8e5-42f6-bd37-d913e60c2084",
   "metadata": {},
   "outputs": [
    {
     "name": "stdout",
     "output_type": "stream",
     "text": [
      "Number of pseudo test-only scaffold_idxs: 16623\n"
     ]
    }
   ],
   "source": [
    "gen_test_only_scaffold_idxs = list(set(gen_test_df['scaffold_idx']).difference(set(gen_train_df['scaffold_idx'])))\n",
    "print('Number of pseudo test-only scaffold_idxs:', len(gen_test_only_scaffold_idxs))"
   ]
  },
  {
   "cell_type": "code",
   "execution_count": 335,
   "id": "f5458032-c1e5-4b04-bac1-834ec8685c55",
   "metadata": {},
   "outputs": [
    {
     "data": {
      "text/html": [
       "<div><style>\n",
       ".dataframe > thead > tr,\n",
       ".dataframe > tbody > tr {\n",
       "  text-align: right;\n",
       "  white-space: pre-wrap;\n",
       "}\n",
       "</style>\n",
       "<small>shape: (1, 8)</small><table border=\"1\" class=\"dataframe\"><thead><tr><th>molecule</th><th>bb1</th><th>bb2</th><th>bb3</th><th>scaffold_idx</th><th>ori</th><th>mol_per_scaf</th><th>index</th></tr><tr><td>u32</td><td>u32</td><td>u32</td><td>u32</td><td>u32</td><td>u32</td><td>u32</td><td>u32</td></tr></thead><tbody><tr><td>163872</td><td>271</td><td>693</td><td>870</td><td>16623</td><td>2</td><td>193</td><td>163872</td></tr></tbody></table></div>"
      ],
      "text/plain": [
       "shape: (1, 8)\n",
       "┌──────────┬─────┬─────┬─────┬──────────────┬─────┬──────────────┬────────┐\n",
       "│ molecule ┆ bb1 ┆ bb2 ┆ bb3 ┆ scaffold_idx ┆ ori ┆ mol_per_scaf ┆ index  │\n",
       "│ ---      ┆ --- ┆ --- ┆ --- ┆ ---          ┆ --- ┆ ---          ┆ ---    │\n",
       "│ u32      ┆ u32 ┆ u32 ┆ u32 ┆ u32          ┆ u32 ┆ u32          ┆ u32    │\n",
       "╞══════════╪═════╪═════╪═════╪══════════════╪═════╪══════════════╪════════╡\n",
       "│ 163872   ┆ 271 ┆ 693 ┆ 870 ┆ 16623        ┆ 2   ┆ 193          ┆ 163872 │\n",
       "└──────────┴─────┴─────┴─────┴──────────────┴─────┴──────────────┴────────┘"
      ]
     },
     "execution_count": 335,
     "metadata": {},
     "output_type": "execute_result"
    }
   ],
   "source": [
    "gen_test_df.filter(pl.col('scaffold_idx').is_in(gen_test_only_scaffold_idxs)).select(pl.n_unique('*'))"
   ]
  },
  {
   "cell_type": "markdown",
   "id": "aeef1a91-16a6-45e5-8987-bf941fdf5405",
   "metadata": {},
   "source": [
    "For pseudo part: The number of scaffold which mol_per_scaffold == 1 is too large.\n",
    "When a Random Split is performed without range filtering, the obtainted test split will contain almost \"small\" test-only scaffold cluster (cluster with less than 2 mol_per_scaf)."
   ]
  },
  {
   "cell_type": "code",
   "execution_count": null,
   "id": "c58848f8-bebe-48b5-851a-22b39a7c3010",
   "metadata": {},
   "outputs": [],
   "source": []
  },
  {
   "cell_type": "code",
   "execution_count": null,
   "id": "7d9723eb-1424-46b5-9372-a9cf7621d51d",
   "metadata": {},
   "outputs": [],
   "source": []
  },
  {
   "cell_type": "code",
   "execution_count": null,
   "id": "98a5f242-4b8d-4376-bdf4-1ed33cdc018b",
   "metadata": {},
   "outputs": [],
   "source": []
  },
  {
   "cell_type": "code",
   "execution_count": null,
   "id": "e6268d78-7dc4-414c-94d7-07e60ff42c0f",
   "metadata": {},
   "outputs": [],
   "source": []
  },
  {
   "cell_type": "code",
   "execution_count": null,
   "id": "62e7d6a2-c7dd-4985-bc9e-94b37ea358a5",
   "metadata": {},
   "outputs": [],
   "source": [
    "increase number of distince molecules, but reduce the number of distince scaffolds\n",
    "-> Stage 2: 480 folds, Stage 3: 483 folds -> 170.2k and 16.8k"
   ]
  },
  {
   "cell_type": "code",
   "execution_count": null,
   "id": "46b16830-fb20-4dfd-ba22-fe392f3d1258",
   "metadata": {},
   "outputs": [],
   "source": []
  },
  {
   "cell_type": "code",
   "execution_count": null,
   "id": "522630cc-0f16-4cf1-89b0-e34cf836b4c3",
   "metadata": {},
   "outputs": [],
   "source": []
  },
  {
   "cell_type": "code",
   "execution_count": null,
   "id": "7f8132d2-99ea-4646-a348-c16a3ad9feff",
   "metadata": {},
   "outputs": [],
   "source": []
  },
  {
   "cell_type": "markdown",
   "id": "dfc1c3af-f37e-4518-9fb5-91ddc35ecfbc",
   "metadata": {},
   "source": [
    "# less molecules (163.9k vs 172.2k), but more scaffolds (16.6k vs 15.9k) -> "
   ]
  },
  {
   "cell_type": "markdown",
   "id": "4dd72f9c-596d-4139-b9c7-a77a037c04f8",
   "metadata": {},
   "source": []
  },
  {
   "cell_type": "code",
   "execution_count": null,
   "id": "79a1d441-b516-4cad-b281-d75229e96020",
   "metadata": {},
   "outputs": [],
   "source": []
  },
  {
   "cell_type": "code",
   "execution_count": null,
   "id": "dcbfea44-08e8-45ce-a57b-1393c7d0dcec",
   "metadata": {},
   "outputs": [],
   "source": []
  },
  {
   "cell_type": "code",
   "execution_count": null,
   "id": "b13373ff-5987-4622-be7e-1a2ea16ef735",
   "metadata": {},
   "outputs": [],
   "source": []
  },
  {
   "cell_type": "code",
   "execution_count": null,
   "id": "a0af46d9-e3bb-4bdc-b8c1-38a736e19087",
   "metadata": {},
   "outputs": [],
   "source": []
  },
  {
   "cell_type": "code",
   "execution_count": null,
   "id": "2d2d94b9-0daa-4e05-a8a2-2e8ce72ece27",
   "metadata": {},
   "outputs": [],
   "source": []
  },
  {
   "cell_type": "code",
   "execution_count": 190,
   "id": "c098d759-7276-4e1a-b73a-1754ab5de0fa",
   "metadata": {},
   "outputs": [
    {
     "data": {
      "text/html": [
       "<div><style>\n",
       ".dataframe > thead > tr,\n",
       ".dataframe > tbody > tr {\n",
       "  text-align: right;\n",
       "  white-space: pre-wrap;\n",
       "}\n",
       "</style>\n",
       "<small>shape: (172_264, 7)</small><table border=\"1\" class=\"dataframe\"><thead><tr><th>molecule</th><th>bb1</th><th>bb2</th><th>bb3</th><th>scaffold_idx</th><th>ori</th><th>mol_per_scaf</th></tr><tr><td>str</td><td>u16</td><td>u16</td><td>u16</td><td>i64</td><td>i32</td><td>u32</td></tr></thead><tbody><tr><td>&quot;COC(=O)c1sc(C)…</td><td>51</td><td>1011</td><td>1718</td><td>295936</td><td>1</td><td>4818</td></tr><tr><td>&quot;COC(=O)c1sc(C)…</td><td>575</td><td>324</td><td>1718</td><td>295936</td><td>1</td><td>4818</td></tr><tr><td>&quot;N#Cc1ccnc(Nc2n…</td><td>1945</td><td>361</td><td>1604</td><td>5741906</td><td>1</td><td>4276</td></tr><tr><td>&quot;Cc1cccc(CCCNc2…</td><td>1765</td><td>2041</td><td>223</td><td>267904</td><td>1</td><td>3</td></tr><tr><td>&quot;COC(=O)c1cc(Nc…</td><td>1752</td><td>143</td><td>324</td><td>295936</td><td>1</td><td>4818</td></tr><tr><td>&quot;O=C1CCC(Nc2nc(…</td><td>1235</td><td>731</td><td>2054</td><td>707380</td><td>1</td><td>2</td></tr><tr><td>&quot;O=C(C[C@H](Cc1…</td><td>513</td><td>1401</td><td>1638</td><td>5711773</td><td>1</td><td>3</td></tr><tr><td>&quot;COC(=O)c1sc(C)…</td><td>1003</td><td>1948</td><td>1718</td><td>5643208</td><td>1</td><td>582</td></tr><tr><td>&quot;O=C(N[Dy])c1cn…</td><td>171</td><td>381</td><td>1065</td><td>2249472</td><td>1</td><td>271</td></tr><tr><td>&quot;O=C(N[Dy])c1sc…</td><td>1946</td><td>1943</td><td>1401</td><td>4257301</td><td>1</td><td>1</td></tr><tr><td>&hellip;</td><td>&hellip;</td><td>&hellip;</td><td>&hellip;</td><td>&hellip;</td><td>&hellip;</td><td>&hellip;</td></tr><tr><td>&quot;COc1ccc(C(=O)N…</td><td>962</td><td>1414</td><td>1923</td><td>3790577</td><td>1</td><td>2305</td></tr><tr><td>&quot;O=C(N[Dy])c1cc…</td><td>676</td><td>236</td><td>1525</td><td>4800381</td><td>1</td><td>368</td></tr><tr><td>&quot;O=C(C[C@@H](Nc…</td><td>756</td><td>1104</td><td>1624</td><td>2476423</td><td>1</td><td>1</td></tr><tr><td>&quot;O=C(N[Dy])c1cc…</td><td>493</td><td>730</td><td>1163</td><td>346189</td><td>1</td><td>288</td></tr><tr><td>&quot;CC(CNc1nc(NCCn…</td><td>1524</td><td>79</td><td>199</td><td>1366289</td><td>1</td><td>87</td></tr><tr><td>&quot;C=CC[C@@H](Nc1…</td><td>1912</td><td>785</td><td>840</td><td>3368562</td><td>1</td><td>120</td></tr><tr><td>&quot;Cc1cn(-c2cc(Nc…</td><td>14</td><td>1944</td><td>746</td><td>2081805</td><td>1</td><td>1</td></tr><tr><td>&quot;CCOC(=O)c1csc(…</td><td>1858</td><td>1740</td><td>1268</td><td>4534188</td><td>1</td><td>504</td></tr><tr><td>&quot;Cc1c([C@@H]2[C…</td><td>1893</td><td>2010</td><td>1371</td><td>3276645</td><td>1</td><td>3</td></tr><tr><td>&quot;Cn1ccnc1Cn1c(C…</td><td>1253</td><td>1913</td><td>282</td><td>2059762</td><td>1</td><td>179</td></tr></tbody></table></div>"
      ],
      "text/plain": [
       "shape: (172_264, 7)\n",
       "┌───────────────────────────────────┬──────┬──────┬──────┬──────────────┬─────┬──────────────┐\n",
       "│ molecule                          ┆ bb1  ┆ bb2  ┆ bb3  ┆ scaffold_idx ┆ ori ┆ mol_per_scaf │\n",
       "│ ---                               ┆ ---  ┆ ---  ┆ ---  ┆ ---          ┆ --- ┆ ---          │\n",
       "│ str                               ┆ u16  ┆ u16  ┆ u16  ┆ i64          ┆ i32 ┆ u32          │\n",
       "╞═══════════════════════════════════╪══════╪══════╪══════╪══════════════╪═════╪══════════════╡\n",
       "│ COC(=O)c1sc(C)cc1Nc1nc(Nc2nc(-c3… ┆ 51   ┆ 1011 ┆ 1718 ┆ 295936       ┆ 1   ┆ 4818         │\n",
       "│ COC(=O)c1sc(C)cc1Nc1nc(Nc2ccc(C(… ┆ 575  ┆ 324  ┆ 1718 ┆ 295936       ┆ 1   ┆ 4818         │\n",
       "│ N#Cc1ccnc(Nc2nc(NCC3CCC(C(=O)N[D… ┆ 1945 ┆ 361  ┆ 1604 ┆ 5741906      ┆ 1   ┆ 4276         │\n",
       "│ Cc1cccc(CCCNc2nc(NCCC(=O)Nc3ccnc… ┆ 1765 ┆ 2041 ┆ 223  ┆ 267904       ┆ 1   ┆ 3            │\n",
       "│ COC(=O)c1cc(Nc2nc(Nc3nc(-c4ccc(C… ┆ 1752 ┆ 143  ┆ 324  ┆ 295936       ┆ 1   ┆ 4818         │\n",
       "│ O=C1CCC(Nc2nc(Nc3nc(-c4ccc(C(=O)… ┆ 1235 ┆ 731  ┆ 2054 ┆ 707380       ┆ 1   ┆ 2            │\n",
       "│ O=C(C[C@H](Cc1cccs1)Nc1nc(NCCNC(… ┆ 513  ┆ 1401 ┆ 1638 ┆ 5711773      ┆ 1   ┆ 3            │\n",
       "│ COC(=O)c1sc(C)cc1Nc1nc(Nc2cccc(S… ┆ 1003 ┆ 1948 ┆ 1718 ┆ 5643208      ┆ 1   ┆ 582          │\n",
       "│ O=C(N[Dy])c1cnn(-c2ccc(F)cc2)c1N… ┆ 171  ┆ 381  ┆ 1065 ┆ 2249472      ┆ 1   ┆ 271          │\n",
       "│ O=C(N[Dy])c1sc2ncccc2c1Nc1nc(Nc2… ┆ 1946 ┆ 1943 ┆ 1401 ┆ 4257301      ┆ 1   ┆ 1            │\n",
       "│ …                                 ┆ …    ┆ …    ┆ …    ┆ …            ┆ …   ┆ …            │\n",
       "│ COc1ccc(C(=O)N[Dy])c(Nc2nc(NCc3c… ┆ 962  ┆ 1414 ┆ 1923 ┆ 3790577      ┆ 1   ┆ 2305         │\n",
       "│ O=C(N[Dy])c1cccc(Nc2nc(NCc3cccs3… ┆ 676  ┆ 236  ┆ 1525 ┆ 4800381      ┆ 1   ┆ 368          │\n",
       "│ O=C(C[C@@H](Nc1nc(NCCC2SCCS2)nc(… ┆ 756  ┆ 1104 ┆ 1624 ┆ 2476423      ┆ 1   ┆ 1            │\n",
       "│ O=C(N[Dy])c1ccc(Nc2nc(NCCCNC(=O)… ┆ 493  ┆ 730  ┆ 1163 ┆ 346189       ┆ 1   ┆ 288          │\n",
       "│ CC(CNc1nc(NCCn2cnc3sccc3c2=O)nc(… ┆ 1524 ┆ 79   ┆ 199  ┆ 1366289      ┆ 1   ┆ 87           │\n",
       "│ C=CC[C@@H](Nc1nc(NCc2cn3cccc(F)c… ┆ 1912 ┆ 785  ┆ 840  ┆ 3368562      ┆ 1   ┆ 120          │\n",
       "│ Cc1cn(-c2cc(Nc3nc(NCCCN4C(=O)CCC… ┆ 14   ┆ 1944 ┆ 746  ┆ 2081805      ┆ 1   ┆ 1            │\n",
       "│ CCOC(=O)c1csc(Nc2nc(Nc3nc(-c4ccc… ┆ 1858 ┆ 1740 ┆ 1268 ┆ 4534188      ┆ 1   ┆ 504          │\n",
       "│ Cc1c([C@@H]2[C@@H](CNc3nc(Nc4cc(… ┆ 1893 ┆ 2010 ┆ 1371 ┆ 3276645      ┆ 1   ┆ 3            │\n",
       "│ Cn1ccnc1Cn1c(CCCNc2nc(Nc3cc(Cl)n… ┆ 1253 ┆ 1913 ┆ 282  ┆ 2059762      ┆ 1   ┆ 179          │\n",
       "└───────────────────────────────────┴──────┴──────┴──────┴──────────────┴─────┴──────────────┘"
      ]
     },
     "execution_count": 190,
     "metadata": {},
     "output_type": "execute_result"
    }
   ],
   "source": [
    "test3_df"
   ]
  },
  {
   "cell_type": "code",
   "execution_count": null,
   "id": "d51e58b8-e41c-4c8c-9379-e85d2724c997",
   "metadata": {},
   "outputs": [],
   "source": []
  },
  {
   "cell_type": "code",
   "execution_count": null,
   "id": "1b5ee8d3-0c8a-4983-9c2c-a0eeaea86f6f",
   "metadata": {},
   "outputs": [],
   "source": []
  },
  {
   "cell_type": "code",
   "execution_count": 31,
   "id": "5989a257-ccfd-4bf1-9b8a-0cb849bd83c8",
   "metadata": {},
   "outputs": [
    {
     "data": {
      "text/html": [
       "<div><style>\n",
       ".dataframe > thead > tr,\n",
       ".dataframe > tbody > tr {\n",
       "  text-align: right;\n",
       "  white-space: pre-wrap;\n",
       "}\n",
       "</style>\n",
       "<small>shape: (17, 3)</small><table border=\"1\" class=\"dataframe\"><thead><tr><th>statistic</th><th>scaffold_idx</th><th>molecule</th></tr><tr><td>str</td><td>f64</td><td>f64</td></tr></thead><tbody><tr><td>&quot;count&quot;</td><td>11453.0</td><td>11453.0</td></tr><tr><td>&quot;null_count&quot;</td><td>0.0</td><td>0.0</td></tr><tr><td>&quot;mean&quot;</td><td>3.0074e6</td><td>13.856544</td></tr><tr><td>&quot;std&quot;</td><td>1.7323e6</td><td>111.703431</td></tr><tr><td>&quot;min&quot;</td><td>785.0</td><td>1.0</td></tr><tr><td>&quot;1%&quot;</td><td>49939.0</td><td>1.0</td></tr><tr><td>&quot;2.5%&quot;</td><td>142744.0</td><td>1.0</td></tr><tr><td>&quot;5%&quot;</td><td>298141.0</td><td>1.0</td></tr><tr><td>&quot;10%&quot;</td><td>596273.0</td><td>1.0</td></tr><tr><td>&quot;25%&quot;</td><td>1.511906e6</td><td>1.0</td></tr><tr><td>&quot;50%&quot;</td><td>3.018045e6</td><td>2.0</td></tr><tr><td>&quot;75%&quot;</td><td>4.52119e6</td><td>4.0</td></tr><tr><td>&quot;90%&quot;</td><td>5.391852e6</td><td>16.0</td></tr><tr><td>&quot;95%&quot;</td><td>5.683907e6</td><td>47.0</td></tr><tr><td>&quot;97.5%&quot;</td><td>5.828993e6</td><td>87.0</td></tr><tr><td>&quot;99%&quot;</td><td>5.912702e6</td><td>184.0</td></tr><tr><td>&quot;max&quot;</td><td>5.971652e6</td><td>6116.0</td></tr></tbody></table></div>"
      ],
      "text/plain": [
       "shape: (17, 3)\n",
       "┌────────────┬──────────────┬────────────┐\n",
       "│ statistic  ┆ scaffold_idx ┆ molecule   │\n",
       "│ ---        ┆ ---          ┆ ---        │\n",
       "│ str        ┆ f64          ┆ f64        │\n",
       "╞════════════╪══════════════╪════════════╡\n",
       "│ count      ┆ 11453.0      ┆ 11453.0    │\n",
       "│ null_count ┆ 0.0          ┆ 0.0        │\n",
       "│ mean       ┆ 3.0074e6     ┆ 13.856544  │\n",
       "│ std        ┆ 1.7323e6     ┆ 111.703431 │\n",
       "│ min        ┆ 785.0        ┆ 1.0        │\n",
       "│ 1%         ┆ 49939.0      ┆ 1.0        │\n",
       "│ 2.5%       ┆ 142744.0     ┆ 1.0        │\n",
       "│ 5%         ┆ 298141.0     ┆ 1.0        │\n",
       "│ 10%        ┆ 596273.0     ┆ 1.0        │\n",
       "│ 25%        ┆ 1.511906e6   ┆ 1.0        │\n",
       "│ 50%        ┆ 3.018045e6   ┆ 2.0        │\n",
       "│ 75%        ┆ 4.52119e6    ┆ 4.0        │\n",
       "│ 90%        ┆ 5.391852e6   ┆ 16.0       │\n",
       "│ 95%        ┆ 5.683907e6   ┆ 47.0       │\n",
       "│ 97.5%      ┆ 5.828993e6   ┆ 87.0       │\n",
       "│ 99%        ┆ 5.912702e6   ┆ 184.0      │\n",
       "│ max        ┆ 5.971652e6   ┆ 6116.0     │\n",
       "└────────────┴──────────────┴────────────┘"
      ]
     },
     "execution_count": 31,
     "metadata": {},
     "output_type": "execute_result"
    }
   ],
   "source": [
    "test2_mol_per_scaffold = test2_df.group_by('scaffold_idx').agg(\n",
    "    pl.col('molecule').count()\n",
    ").sort('molecule')\n",
    "test2_mol_per_scaffold.describe(percentiles = PERCENTILES)"
   ]
  },
  {
   "cell_type": "code",
   "execution_count": 32,
   "id": "ddb5b7ba-b4d0-407e-b8cd-95f589db84c4",
   "metadata": {},
   "outputs": [
    {
     "data": {
      "text/plain": [
       "5726500.0"
      ]
     },
     "execution_count": 32,
     "metadata": {},
     "output_type": "execute_result"
    }
   ],
   "source": [
    "11453.0 * 500"
   ]
  },
  {
   "cell_type": "code",
   "execution_count": 33,
   "id": "e8a821dd-70fa-443e-b7ab-20f8cfe3669d",
   "metadata": {},
   "outputs": [
    {
     "data": {
      "text/html": [
       "<div><style>\n",
       ".dataframe > thead > tr,\n",
       ".dataframe > tbody > tr {\n",
       "  text-align: right;\n",
       "  white-space: pre-wrap;\n",
       "}\n",
       "</style>\n",
       "<small>shape: (1, 2)</small><table border=\"1\" class=\"dataframe\"><thead><tr><th>scaffold_idx</th><th>molecule</th></tr><tr><td>u32</td><td>u32</td></tr></thead><tbody><tr><td>4865</td><td>4865</td></tr></tbody></table></div>"
      ],
      "text/plain": [
       "shape: (1, 2)\n",
       "┌──────────────┬──────────┐\n",
       "│ scaffold_idx ┆ molecule │\n",
       "│ ---          ┆ ---      │\n",
       "│ u32          ┆ u32      │\n",
       "╞══════════════╪══════════╡\n",
       "│ 4865         ┆ 4865     │\n",
       "└──────────────┴──────────┘"
      ]
     },
     "execution_count": 33,
     "metadata": {},
     "output_type": "execute_result"
    }
   ],
   "source": [
    "test2_mol_per_scaffold.filter(pl.col('molecule') == 1).count()"
   ]
  },
  {
   "cell_type": "code",
   "execution_count": 34,
   "id": "fb5f9321-820e-4966-a9f9-4b055e86004b",
   "metadata": {},
   "outputs": [
    {
     "data": {
      "text/plain": [
       "0.4247795337466166"
      ]
     },
     "execution_count": 34,
     "metadata": {},
     "output_type": "execute_result"
    }
   ],
   "source": [
    "4865 / 11453.0"
   ]
  },
  {
   "cell_type": "code",
   "execution_count": 35,
   "id": "7f460134-76a0-4488-9fbb-694d0e452cb8",
   "metadata": {},
   "outputs": [
    {
     "data": {
      "text/plain": [
       "((508983, 7), (158699, 8), (79190726, 8))"
      ]
     },
     "execution_count": 35,
     "metadata": {},
     "output_type": "execute_result"
    }
   ],
   "source": [
    "test1_df.shape, test2_df.shape, sub_train2_df.shape"
   ]
  },
  {
   "cell_type": "code",
   "execution_count": 36,
   "id": "a2ac1a2c-a665-47b8-808e-d21491d1b511",
   "metadata": {},
   "outputs": [],
   "source": [
    "# train2_df = pl.concat([remain_tmp_train1_df, sub_train2_df]).sort('index')\n",
    "# train2_df"
   ]
  },
  {
   "cell_type": "code",
   "execution_count": 55,
   "id": "bcf9a1b5-03f8-4af5-99d7-fa1951447e08",
   "metadata": {},
   "outputs": [
    {
     "data": {
      "text/plain": [
       "-210340"
      ]
     },
     "execution_count": 55,
     "metadata": {},
     "output_type": "execute_result"
    }
   ],
   "source": [
    "508983 + 158699 - 878_022"
   ]
  },
  {
   "cell_type": "code",
   "execution_count": 60,
   "id": "e1117f8c-900b-4d7e-8b92-dab4e6a764b3",
   "metadata": {},
   "outputs": [
    {
     "data": {
      "text/plain": [
       "98415610"
      ]
     },
     "execution_count": 60,
     "metadata": {},
     "output_type": "execute_result"
    }
   ],
   "source": [
    "98_625_950  + 508983 + 158699 - 878_022"
   ]
  },
  {
   "cell_type": "code",
   "execution_count": 64,
   "id": "ff19e1c3-d32d-49fd-bfcc-1cab6d7f9130",
   "metadata": {},
   "outputs": [
    {
     "data": {
      "text/plain": [
       "0.0021327044251538262"
      ]
     },
     "execution_count": 64,
     "metadata": {},
     "output_type": "execute_result"
    }
   ],
   "source": [
    "210340 / 98_625_950"
   ]
  },
  {
   "cell_type": "code",
   "execution_count": 37,
   "id": "260562f3-f95d-4822-a8fb-8a229054cf9f",
   "metadata": {},
   "outputs": [
    {
     "data": {
      "text/plain": [
       "376.48914139013027"
      ]
     },
     "execution_count": 37,
     "metadata": {},
     "output_type": "execute_result"
    }
   ],
   "source": [
    "1 / (210340 / 79_190_726)"
   ]
  },
  {
   "cell_type": "code",
   "execution_count": 38,
   "id": "fc9704d5-0133-4519-9e28-6e1aaa415c33",
   "metadata": {},
   "outputs": [
    {
     "data": {
      "text/html": [
       "<div><style>\n",
       ".dataframe > thead > tr,\n",
       ".dataframe > tbody > tr {\n",
       "  text-align: right;\n",
       "  white-space: pre-wrap;\n",
       "}\n",
       "</style>\n",
       "<small>shape: (79_190_726, 8)</small><table border=\"1\" class=\"dataframe\"><thead><tr><th>molecule</th><th>bb1</th><th>bb2</th><th>bb3</th><th>scaffold_idx</th><th>ori</th><th>mol_per_scaf</th><th>index</th></tr><tr><td>str</td><td>u16</td><td>u16</td><td>u16</td><td>i64</td><td>i32</td><td>u32</td><td>i64</td></tr></thead><tbody><tr><td>&quot;C#CCOc1ccc(CNc…</td><td>1640</td><td>1653</td><td>765</td><td>4283326</td><td>0</td><td>844</td><td>0</td></tr><tr><td>&quot;C#CCOc1ccc(CNc…</td><td>1640</td><td>1653</td><td>604</td><td>543172</td><td>0</td><td>844</td><td>8</td></tr><tr><td>&quot;C#CCOc1ccc(CNc…</td><td>1640</td><td>1653</td><td>121</td><td>2571428</td><td>0</td><td>864</td><td>9</td></tr><tr><td>&quot;C#CCOc1ccc(CNc…</td><td>1640</td><td>1653</td><td>1134</td><td>4654763</td><td>0</td><td>1728</td><td>12</td></tr><tr><td>&quot;C#CCOc1ccc(CNc…</td><td>1640</td><td>1653</td><td>1896</td><td>5600610</td><td>0</td><td>864</td><td>13</td></tr><tr><td>&quot;C#CCOc1ccc(CNc…</td><td>1640</td><td>1653</td><td>1617</td><td>2301320</td><td>0</td><td>844</td><td>17</td></tr><tr><td>&quot;C#CCOc1ccc(CNc…</td><td>1640</td><td>1653</td><td>1150</td><td>4484748</td><td>0</td><td>2595</td><td>19</td></tr><tr><td>&quot;C#CCOc1ccc(CNc…</td><td>1640</td><td>1653</td><td>802</td><td>1825155</td><td>0</td><td>844</td><td>21</td></tr><tr><td>&quot;C#CCOc1ccc(CNc…</td><td>1640</td><td>1653</td><td>815</td><td>2021587</td><td>0</td><td>3396</td><td>23</td></tr><tr><td>&quot;C#CCOc1ccc(CNc…</td><td>1640</td><td>1653</td><td>825</td><td>2637570</td><td>0</td><td>1420</td><td>24</td></tr><tr><td>&hellip;</td><td>&hellip;</td><td>&hellip;</td><td>&hellip;</td><td>&hellip;</td><td>&hellip;</td><td>&hellip;</td><td>&hellip;</td></tr><tr><td>&quot;O=C(N[Dy])[C@H…</td><td>159</td><td>1509</td><td>1932</td><td>974039</td><td>1</td><td>47</td><td>98784636</td></tr><tr><td>&quot;Cc1cc(=O)oc2cc…</td><td>1945</td><td>85</td><td>1621</td><td>5324070</td><td>1</td><td>5</td><td>98784637</td></tr><tr><td>&quot;O=C(N[Dy])C1CC…</td><td>112</td><td>2014</td><td>534</td><td>3912991</td><td>1</td><td>8</td><td>98784639</td></tr><tr><td>&quot;O=C(N[Dy])c1nc…</td><td>875</td><td>393</td><td>1979</td><td>4709603</td><td>1</td><td>489</td><td>98784640</td></tr><tr><td>&quot;Cc1ccc(CNc2nc(…</td><td>2059</td><td>1770</td><td>975</td><td>5945980</td><td>1</td><td>2640</td><td>98784641</td></tr><tr><td>&quot;Cc1cc(C)c(CNc2…</td><td>1461</td><td>283</td><td>1397</td><td>4503814</td><td>1</td><td>542</td><td>98784642</td></tr><tr><td>&quot;CCS(=O)(=O)c1c…</td><td>7</td><td>612</td><td>1718</td><td>5202112</td><td>1</td><td>4959</td><td>98784643</td></tr><tr><td>&quot;COc1ncccc1Nc1n…</td><td>159</td><td>1029</td><td>826</td><td>4424049</td><td>1</td><td>1513</td><td>98784645</td></tr><tr><td>&quot;N#Cc1ncc(Nc2nc…</td><td>957</td><td>1545</td><td>324</td><td>2032781</td><td>1</td><td>1792</td><td>98784647</td></tr><tr><td>&quot;COCC1(CNc2nc(N…</td><td>673</td><td>2089</td><td>1412</td><td>5741906</td><td>1</td><td>4276</td><td>98784648</td></tr></tbody></table></div>"
      ],
      "text/plain": [
       "shape: (79_190_726, 8)\n",
       "┌──────────────────────────────┬──────┬──────┬──────┬──────────────┬─────┬──────────────┬──────────┐\n",
       "│ molecule                     ┆ bb1  ┆ bb2  ┆ bb3  ┆ scaffold_idx ┆ ori ┆ mol_per_scaf ┆ index    │\n",
       "│ ---                          ┆ ---  ┆ ---  ┆ ---  ┆ ---          ┆ --- ┆ ---          ┆ ---      │\n",
       "│ str                          ┆ u16  ┆ u16  ┆ u16  ┆ i64          ┆ i32 ┆ u32          ┆ i64      │\n",
       "╞══════════════════════════════╪══════╪══════╪══════╪══════════════╪═════╪══════════════╪══════════╡\n",
       "│ C#CCOc1ccc(CNc2nc(NCC3CCCN3c ┆ 1640 ┆ 1653 ┆ 765  ┆ 4283326      ┆ 0   ┆ 844          ┆ 0        │\n",
       "│ 3ccc…                        ┆      ┆      ┆      ┆              ┆     ┆              ┆          │\n",
       "│ C#CCOc1ccc(CNc2nc(Nc3cnn(C4C ┆ 1640 ┆ 1653 ┆ 604  ┆ 543172       ┆ 0   ┆ 844          ┆ 8        │\n",
       "│ CN(C…                        ┆      ┆      ┆      ┆              ┆     ┆              ┆          │\n",
       "│ C#CCOc1ccc(CNc2nc(Nc3n[nH]c4 ┆ 1640 ┆ 1653 ┆ 121  ┆ 2571428      ┆ 0   ┆ 864          ┆ 9        │\n",
       "│ c3CN…                        ┆      ┆      ┆      ┆              ┆     ┆              ┆          │\n",
       "│ C#CCOc1ccc(CNc2nc(NCc3ncoc3C ┆ 1640 ┆ 1653 ┆ 1134 ┆ 4654763      ┆ 0   ┆ 1728         ┆ 12       │\n",
       "│ (C)(…                        ┆      ┆      ┆      ┆              ┆     ┆              ┆          │\n",
       "│ C#CCOc1ccc(CNc2nc(NCC(C)(CC( ┆ 1640 ┆ 1653 ┆ 1896 ┆ 5600610      ┆ 0   ┆ 864          ┆ 13       │\n",
       "│ C)C)…                        ┆      ┆      ┆      ┆              ┆     ┆              ┆          │\n",
       "│ C#CCOc1ccc(CNc2nc(NCC(C)Cn3c ┆ 1640 ┆ 1653 ┆ 1617 ┆ 2301320      ┆ 0   ┆ 844          ┆ 17       │\n",
       "│ ccn3…                        ┆      ┆      ┆      ┆              ┆     ┆              ┆          │\n",
       "│ C#CCOc1ccc(CNc2nc(NCC(C)Oc3c ┆ 1640 ┆ 1653 ┆ 1150 ┆ 4484748      ┆ 0   ┆ 2595         ┆ 19       │\n",
       "│ cc(C…                        ┆      ┆      ┆      ┆              ┆     ┆              ┆          │\n",
       "│ C#CCOc1ccc(CNc2nc(NCC(C)Sc3c ┆ 1640 ┆ 1653 ┆ 802  ┆ 1825155      ┆ 0   ┆ 844          ┆ 21       │\n",
       "│ cccc…                        ┆      ┆      ┆      ┆              ┆     ┆              ┆          │\n",
       "│ C#CCOc1ccc(CNc2nc(NCC(C)c3nc ┆ 1640 ┆ 1653 ┆ 815  ┆ 2021587      ┆ 0   ┆ 3396         ┆ 23       │\n",
       "│ cs3)…                        ┆      ┆      ┆      ┆              ┆     ┆              ┆          │\n",
       "│ C#CCOc1ccc(CNc2nc(NCC(C)(O)c ┆ 1640 ┆ 1653 ┆ 825  ┆ 2637570      ┆ 0   ┆ 1420         ┆ 24       │\n",
       "│ 3ccs…                        ┆      ┆      ┆      ┆              ┆     ┆              ┆          │\n",
       "│ …                            ┆ …    ┆ …    ┆ …    ┆ …            ┆ …   ┆ …            ┆ …        │\n",
       "│ O=C(N[Dy])[C@H](Cc1ccc(Br)cc ┆ 159  ┆ 1509 ┆ 1932 ┆ 974039       ┆ 1   ┆ 47           ┆ 98784636 │\n",
       "│ 1)Nc…                        ┆      ┆      ┆      ┆              ┆     ┆              ┆          │\n",
       "│ Cc1cc(=O)oc2cc(Nc3nc(NCC4CCC ┆ 1945 ┆ 85   ┆ 1621 ┆ 5324070      ┆ 1   ┆ 5            ┆ 98784637 │\n",
       "│ (C(=…                        ┆      ┆      ┆      ┆              ┆     ┆              ┆          │\n",
       "│ O=C(N[Dy])C1CCCN1c1nc(NCc2nc ┆ 112  ┆ 2014 ┆ 534  ┆ 3912991      ┆ 1   ┆ 8            ┆ 98784639 │\n",
       "│ 3c(s…                        ┆      ┆      ┆      ┆              ┆     ┆              ┆          │\n",
       "│ O=C(N[Dy])c1nc(Cl)cc(Cl)c1Nc ┆ 875  ┆ 393  ┆ 1979 ┆ 4709603      ┆ 1   ┆ 489          ┆ 98784640 │\n",
       "│ 1nc(…                        ┆      ┆      ┆      ┆              ┆     ┆              ┆          │\n",
       "│ Cc1ccc(CNc2nc(NCC(C)c3c(Cl)c ┆ 2059 ┆ 1770 ┆ 975  ┆ 5945980      ┆ 1   ┆ 2640         ┆ 98784641 │\n",
       "│ ccc3…                        ┆      ┆      ┆      ┆              ┆     ┆              ┆          │\n",
       "│ Cc1cc(C)c(CNc2nc(NCc3sccc3C) ┆ 1461 ┆ 283  ┆ 1397 ┆ 4503814      ┆ 1   ┆ 542          ┆ 98784642 │\n",
       "│ nc(N…                        ┆      ┆      ┆      ┆              ┆     ┆              ┆          │\n",
       "│ CCS(=O)(=O)c1cc(C(=O)N[Dy])c ┆ 7    ┆ 612  ┆ 1718 ┆ 5202112      ┆ 1   ┆ 4959         ┆ 98784643 │\n",
       "│ (OC)…                        ┆      ┆      ┆      ┆              ┆     ┆              ┆          │\n",
       "│ COc1ncccc1Nc1nc(NCc2cnsc2)nc ┆ 159  ┆ 1029 ┆ 826  ┆ 4424049      ┆ 1   ┆ 1513         ┆ 98784645 │\n",
       "│ (N[C…                        ┆      ┆      ┆      ┆              ┆     ┆              ┆          │\n",
       "│ N#Cc1ncc(Nc2nc(Nc3nc(-c4ccc( ┆ 957  ┆ 1545 ┆ 324  ┆ 2032781      ┆ 1   ┆ 1792         ┆ 98784647 │\n",
       "│ Cl)c…                        ┆      ┆      ┆      ┆              ┆     ┆              ┆          │\n",
       "│ COCC1(CNc2nc(Nc3ccc(C(=O)N[D ┆ 673  ┆ 2089 ┆ 1412 ┆ 5741906      ┆ 1   ┆ 4276         ┆ 98784648 │\n",
       "│ y])c…                        ┆      ┆      ┆      ┆              ┆     ┆              ┆          │\n",
       "└──────────────────────────────┴──────┴──────┴──────┴──────────────┴─────┴──────────────┴──────────┘"
      ]
     },
     "execution_count": 38,
     "metadata": {},
     "output_type": "execute_result"
    }
   ],
   "source": [
    "sub_train2_df"
   ]
  },
  {
   "cell_type": "code",
   "execution_count": 39,
   "id": "185caf3e-adcf-4f38-9049-11749ac8177b",
   "metadata": {},
   "outputs": [
    {
     "data": {
      "text/html": [
       "<div><style>\n",
       ".dataframe > thead > tr,\n",
       ".dataframe > tbody > tr {\n",
       "  text-align: right;\n",
       "  white-space: pre-wrap;\n",
       "}\n",
       "</style>\n",
       "<small>shape: (1, 8)</small><table border=\"1\" class=\"dataframe\"><thead><tr><th>molecule</th><th>bb1</th><th>bb2</th><th>bb3</th><th>scaffold_idx</th><th>ori</th><th>mol_per_scaf</th><th>index</th></tr><tr><td>u32</td><td>u32</td><td>u32</td><td>u32</td><td>u32</td><td>u32</td><td>u32</td><td>u32</td></tr></thead><tbody><tr><td>60700019</td><td>271</td><td>693</td><td>872</td><td>5707611</td><td>2</td><td>887</td><td>60700019</td></tr></tbody></table></div>"
      ],
      "text/plain": [
       "shape: (1, 8)\n",
       "┌──────────┬─────┬─────┬─────┬──────────────┬─────┬──────────────┬──────────┐\n",
       "│ molecule ┆ bb1 ┆ bb2 ┆ bb3 ┆ scaffold_idx ┆ ori ┆ mol_per_scaf ┆ index    │\n",
       "│ ---      ┆ --- ┆ --- ┆ --- ┆ ---          ┆ --- ┆ ---          ┆ ---      │\n",
       "│ u32      ┆ u32 ┆ u32 ┆ u32 ┆ u32          ┆ u32 ┆ u32          ┆ u32      │\n",
       "╞══════════╪═════╪═════╪═════╪══════════════╪═════╪══════════════╪══════════╡\n",
       "│ 60700019 ┆ 271 ┆ 693 ┆ 872 ┆ 5707611      ┆ 2   ┆ 887          ┆ 60700019 │\n",
       "└──────────┴─────┴─────┴─────┴──────────────┴─────┴──────────────┴──────────┘"
      ]
     },
     "execution_count": 39,
     "metadata": {},
     "output_type": "execute_result"
    }
   ],
   "source": [
    "sub_train2_df.filter(pl.col('mol_per_scaf').is_between(0, 1043)).select(pl.col('*').n_unique())"
   ]
  },
  {
   "cell_type": "code",
   "execution_count": 40,
   "id": "56b9c0a6-cd02-4dec-9c99-abaef1eab3da",
   "metadata": {},
   "outputs": [
    {
     "data": {
      "text/plain": [
       "0.6144681346187706"
      ]
     },
     "execution_count": 40,
     "metadata": {},
     "output_type": "execute_result"
    }
   ],
   "source": [
    "60700019 / 98784649"
   ]
  },
  {
   "cell_type": "code",
   "execution_count": 41,
   "id": "fc948228-9d63-48b9-b642-d80a7265989f",
   "metadata": {},
   "outputs": [
    {
     "data": {
      "text/plain": [
       "0.766504135850453"
      ]
     },
     "execution_count": 41,
     "metadata": {},
     "output_type": "execute_result"
    }
   ],
   "source": [
    "60700019 / 79_190_726"
   ]
  },
  {
   "cell_type": "code",
   "execution_count": 42,
   "id": "17b530e2-fa6f-406b-bf53-e98ecf1d0b35",
   "metadata": {},
   "outputs": [
    {
     "data": {
      "text/html": [
       "<div><style>\n",
       ".dataframe > thead > tr,\n",
       ".dataframe > tbody > tr {\n",
       "  text-align: right;\n",
       "  white-space: pre-wrap;\n",
       "}\n",
       "</style>\n",
       "<small>shape: (7, 9)</small><table border=\"1\" class=\"dataframe\"><thead><tr><th>statistic</th><th>molecule</th><th>bb1</th><th>bb2</th><th>bb3</th><th>scaffold_idx</th><th>ori</th><th>mol_per_scaf</th><th>index</th></tr><tr><td>str</td><td>str</td><td>f64</td><td>f64</td><td>f64</td><td>f64</td><td>f64</td><td>f64</td><td>f64</td></tr></thead><tbody><tr><td>&quot;count&quot;</td><td>&quot;98784649&quot;</td><td>9.8784649e7</td><td>9.8784649e7</td><td>9.8784649e7</td><td>9.8784649e7</td><td>9.8784649e7</td><td>9.8784649e7</td><td>9.8784649e7</td></tr><tr><td>&quot;null_count&quot;</td><td>&quot;0&quot;</td><td>0.0</td><td>0.0</td><td>0.0</td><td>0.0</td><td>0.0</td><td>0.0</td><td>0.0</td></tr><tr><td>&quot;mean&quot;</td><td>null</td><td>1088.99631</td><td>1076.385107</td><td>1045.043548</td><td>3.0288e6</td><td>0.003736</td><td>15463.047904</td><td>4.9392324e7</td></tr><tr><td>&quot;std&quot;</td><td>null</td><td>590.596121</td><td>611.750833</td><td>611.632137</td><td>1.7254e6</td><td>0.061007</td><td>58910.282717</td><td>2.8517e7</td></tr><tr><td>&quot;min&quot;</td><td>&quot;C#CCOc1ccc(CNc…</td><td>7.0</td><td>0.0</td><td>0.0</td><td>0.0</td><td>0.0</td><td>1.0</td><td>0.0</td></tr><tr><td>&quot;60%&quot;</td><td>null</td><td>1253.0</td><td>1324.0</td><td>1266.0</td><td>3.634655e6</td><td>0.0</td><td>957.0</td><td>5.9270789e7</td></tr><tr><td>&quot;max&quot;</td><td>&quot;[N-]=[N+]=NCCC…</td><td>2084.0</td><td>2109.0</td><td>2109.0</td><td>5.971684e6</td><td>1.0</td><td>500170.0</td><td>9.8784648e7</td></tr></tbody></table></div>"
      ],
      "text/plain": [
       "shape: (7, 9)\n",
       "┌──────────┬──────────┬──────────┬──────────┬──────────┬──────────┬──────────┬──────────┬──────────┐\n",
       "│ statisti ┆ molecule ┆ bb1      ┆ bb2      ┆ bb3      ┆ scaffold ┆ ori      ┆ mol_per_ ┆ index    │\n",
       "│ c        ┆ ---      ┆ ---      ┆ ---      ┆ ---      ┆ _idx     ┆ ---      ┆ scaf     ┆ ---      │\n",
       "│ ---      ┆ str      ┆ f64      ┆ f64      ┆ f64      ┆ ---      ┆ f64      ┆ ---      ┆ f64      │\n",
       "│ str      ┆          ┆          ┆          ┆          ┆ f64      ┆          ┆ f64      ┆          │\n",
       "╞══════════╪══════════╪══════════╪══════════╪══════════╪══════════╪══════════╪══════════╪══════════╡\n",
       "│ count    ┆ 98784649 ┆ 9.878464 ┆ 9.878464 ┆ 9.878464 ┆ 9.878464 ┆ 9.878464 ┆ 9.878464 ┆ 9.878464 │\n",
       "│          ┆          ┆ 9e7      ┆ 9e7      ┆ 9e7      ┆ 9e7      ┆ 9e7      ┆ 9e7      ┆ 9e7      │\n",
       "│ null_cou ┆ 0        ┆ 0.0      ┆ 0.0      ┆ 0.0      ┆ 0.0      ┆ 0.0      ┆ 0.0      ┆ 0.0      │\n",
       "│ nt       ┆          ┆          ┆          ┆          ┆          ┆          ┆          ┆          │\n",
       "│ mean     ┆ null     ┆ 1088.996 ┆ 1076.385 ┆ 1045.043 ┆ 3.0288e6 ┆ 0.003736 ┆ 15463.04 ┆ 4.939232 │\n",
       "│          ┆          ┆ 31       ┆ 107      ┆ 548      ┆          ┆          ┆ 7904     ┆ 4e7      │\n",
       "│ std      ┆ null     ┆ 590.5961 ┆ 611.7508 ┆ 611.6321 ┆ 1.7254e6 ┆ 0.061007 ┆ 58910.28 ┆ 2.8517e7 │\n",
       "│          ┆          ┆ 21       ┆ 33       ┆ 37       ┆          ┆          ┆ 2717     ┆          │\n",
       "│ min      ┆ C#CCOc1c ┆ 7.0      ┆ 0.0      ┆ 0.0      ┆ 0.0      ┆ 0.0      ┆ 1.0      ┆ 0.0      │\n",
       "│          ┆ cc(CNc2n ┆          ┆          ┆          ┆          ┆          ┆          ┆          │\n",
       "│          ┆ c(NC(=N) ┆          ┆          ┆          ┆          ┆          ┆          ┆          │\n",
       "│          ┆ CCCN)nc( ┆          ┆          ┆          ┆          ┆          ┆          ┆          │\n",
       "│          ┆ …        ┆          ┆          ┆          ┆          ┆          ┆          ┆          │\n",
       "│ 60%      ┆ null     ┆ 1253.0   ┆ 1324.0   ┆ 1266.0   ┆ 3.634655 ┆ 0.0      ┆ 957.0    ┆ 5.927078 │\n",
       "│          ┆          ┆          ┆          ┆          ┆ e6       ┆          ┆          ┆ 9e7      │\n",
       "│ max      ┆ [N-]=[N+ ┆ 2084.0   ┆ 2109.0   ┆ 2109.0   ┆ 5.971684 ┆ 1.0      ┆ 500170.0 ┆ 9.878464 │\n",
       "│          ┆ ]=NCCC[C ┆          ┆          ┆          ┆ e6       ┆          ┆          ┆ 8e7      │\n",
       "│          ┆ @H](Nc1n ┆          ┆          ┆          ┆          ┆          ┆          ┆          │\n",
       "│          ┆ c(Nc2noc ┆          ┆          ┆          ┆          ┆          ┆          ┆          │\n",
       "│          ┆ …        ┆          ┆          ┆          ┆          ┆          ┆          ┆          │\n",
       "└──────────┴──────────┴──────────┴──────────┴──────────┴──────────┴──────────┴──────────┴──────────┘"
      ]
     },
     "execution_count": 42,
     "metadata": {},
     "output_type": "execute_result"
    }
   ],
   "source": [
    "train1_df.describe(percentiles=[0.6])"
   ]
  },
  {
   "cell_type": "code",
   "execution_count": 46,
   "id": "d2788beb-a404-40e6-ad0d-fac6c11e7eb7",
   "metadata": {},
   "outputs": [
    {
     "data": {
      "text/html": [
       "<div><style>\n",
       ".dataframe > thead > tr,\n",
       ".dataframe > tbody > tr {\n",
       "  text-align: right;\n",
       "  white-space: pre-wrap;\n",
       "}\n",
       "</style>\n",
       "<small>shape: (7, 9)</small><table border=\"1\" class=\"dataframe\"><thead><tr><th>statistic</th><th>molecule</th><th>bb1</th><th>bb2</th><th>bb3</th><th>scaffold_idx</th><th>ori</th><th>mol_per_scaf</th><th>index</th></tr><tr><td>str</td><td>str</td><td>f64</td><td>f64</td><td>f64</td><td>f64</td><td>f64</td><td>f64</td><td>f64</td></tr></thead><tbody><tr><td>&quot;count&quot;</td><td>&quot;79190726&quot;</td><td>7.9190726e7</td><td>7.9190726e7</td><td>7.9190726e7</td><td>7.9190726e7</td><td>7.9190726e7</td><td>7.9190726e7</td><td>7.9190726e7</td></tr><tr><td>&quot;null_count&quot;</td><td>&quot;0&quot;</td><td>0.0</td><td>0.0</td><td>0.0</td><td>0.0</td><td>0.0</td><td>0.0</td><td>0.0</td></tr><tr><td>&quot;mean&quot;</td><td>null</td><td>1093.570747</td><td>1076.411531</td><td>1046.044747</td><td>2.9842e6</td><td>0.004161</td><td>910.01741</td><td>5.0046e7</td></tr><tr><td>&quot;std&quot;</td><td>null</td><td>592.099056</td><td>605.966167</td><td>608.234867</td><td>1.7321e6</td><td>0.064371</td><td>1520.709653</td><td>2.8919e7</td></tr><tr><td>&quot;min&quot;</td><td>&quot;C#CCOc1ccc(CNc…</td><td>7.0</td><td>0.0</td><td>0.0</td><td>0.0</td><td>0.0</td><td>1.0</td><td>0.0</td></tr><tr><td>&quot;75%&quot;</td><td>null</td><td>1622.0</td><td>1572.0</td><td>1541.0</td><td>4.490915e6</td><td>0.0</td><td>957.0</td><td>7.6157377e7</td></tr><tr><td>&quot;max&quot;</td><td>&quot;[N-]=[N+]=NCCC…</td><td>2084.0</td><td>2109.0</td><td>2109.0</td><td>5.971684e6</td><td>1.0</td><td>6116.0</td><td>9.8784648e7</td></tr></tbody></table></div>"
      ],
      "text/plain": [
       "shape: (7, 9)\n",
       "┌──────────┬──────────┬──────────┬──────────┬──────────┬──────────┬──────────┬──────────┬──────────┐\n",
       "│ statisti ┆ molecule ┆ bb1      ┆ bb2      ┆ bb3      ┆ scaffold ┆ ori      ┆ mol_per_ ┆ index    │\n",
       "│ c        ┆ ---      ┆ ---      ┆ ---      ┆ ---      ┆ _idx     ┆ ---      ┆ scaf     ┆ ---      │\n",
       "│ ---      ┆ str      ┆ f64      ┆ f64      ┆ f64      ┆ ---      ┆ f64      ┆ ---      ┆ f64      │\n",
       "│ str      ┆          ┆          ┆          ┆          ┆ f64      ┆          ┆ f64      ┆          │\n",
       "╞══════════╪══════════╪══════════╪══════════╪══════════╪══════════╪══════════╪══════════╪══════════╡\n",
       "│ count    ┆ 79190726 ┆ 7.919072 ┆ 7.919072 ┆ 7.919072 ┆ 7.919072 ┆ 7.919072 ┆ 7.919072 ┆ 7.919072 │\n",
       "│          ┆          ┆ 6e7      ┆ 6e7      ┆ 6e7      ┆ 6e7      ┆ 6e7      ┆ 6e7      ┆ 6e7      │\n",
       "│ null_cou ┆ 0        ┆ 0.0      ┆ 0.0      ┆ 0.0      ┆ 0.0      ┆ 0.0      ┆ 0.0      ┆ 0.0      │\n",
       "│ nt       ┆          ┆          ┆          ┆          ┆          ┆          ┆          ┆          │\n",
       "│ mean     ┆ null     ┆ 1093.570 ┆ 1076.411 ┆ 1046.044 ┆ 2.9842e6 ┆ 0.004161 ┆ 910.0174 ┆ 5.0046e7 │\n",
       "│          ┆          ┆ 747      ┆ 531      ┆ 747      ┆          ┆          ┆ 1        ┆          │\n",
       "│ std      ┆ null     ┆ 592.0990 ┆ 605.9661 ┆ 608.2348 ┆ 1.7321e6 ┆ 0.064371 ┆ 1520.709 ┆ 2.8919e7 │\n",
       "│          ┆          ┆ 56       ┆ 67       ┆ 67       ┆          ┆          ┆ 653      ┆          │\n",
       "│ min      ┆ C#CCOc1c ┆ 7.0      ┆ 0.0      ┆ 0.0      ┆ 0.0      ┆ 0.0      ┆ 1.0      ┆ 0.0      │\n",
       "│          ┆ cc(CNc2n ┆          ┆          ┆          ┆          ┆          ┆          ┆          │\n",
       "│          ┆ c(NC(=N) ┆          ┆          ┆          ┆          ┆          ┆          ┆          │\n",
       "│          ┆ CCCN)nc( ┆          ┆          ┆          ┆          ┆          ┆          ┆          │\n",
       "│          ┆ …        ┆          ┆          ┆          ┆          ┆          ┆          ┆          │\n",
       "│ 75%      ┆ null     ┆ 1622.0   ┆ 1572.0   ┆ 1541.0   ┆ 4.490915 ┆ 0.0      ┆ 957.0    ┆ 7.615737 │\n",
       "│          ┆          ┆          ┆          ┆          ┆ e6       ┆          ┆          ┆ 7e7      │\n",
       "│ max      ┆ [N-]=[N+ ┆ 2084.0   ┆ 2109.0   ┆ 2109.0   ┆ 5.971684 ┆ 1.0      ┆ 6116.0   ┆ 9.878464 │\n",
       "│          ┆ ]=NCCC[C ┆          ┆          ┆          ┆ e6       ┆          ┆          ┆ 8e7      │\n",
       "│          ┆ @H](Nc1n ┆          ┆          ┆          ┆          ┆          ┆          ┆          │\n",
       "│          ┆ c(Nc2noc ┆          ┆          ┆          ┆          ┆          ┆          ┆          │\n",
       "│          ┆ …        ┆          ┆          ┆          ┆          ┆          ┆          ┆          │\n",
       "└──────────┴──────────┴──────────┴──────────┴──────────┴──────────┴──────────┴──────────┴──────────┘"
      ]
     },
     "execution_count": 46,
     "metadata": {},
     "output_type": "execute_result"
    }
   ],
   "source": [
    "sub_train2_df.describe(percentiles=[0.75])"
   ]
  },
  {
   "cell_type": "code",
   "execution_count": 48,
   "id": "c546c0a5-007a-42e5-8f95-a7763c6fa4e8",
   "metadata": {},
   "outputs": [
    {
     "data": {
      "text/plain": [
       "99293632"
      ]
     },
     "execution_count": 48,
     "metadata": {},
     "output_type": "execute_result"
    }
   ],
   "source": [
    "len(df)"
   ]
  },
  {
   "cell_type": "code",
   "execution_count": 49,
   "id": "f8d2132d-f11e-4757-a935-a23c9a01d1f2",
   "metadata": {},
   "outputs": [
    {
     "data": {
      "text/html": [
       "<div><style>\n",
       ".dataframe > thead > tr,\n",
       ".dataframe > tbody > tr {\n",
       "  text-align: right;\n",
       "  white-space: pre-wrap;\n",
       "}\n",
       "</style>\n",
       "<small>shape: (7, 2)</small><table border=\"1\" class=\"dataframe\"><thead><tr><th>statistic</th><th>value</th></tr><tr><td>str</td><td>f64</td></tr></thead><tbody><tr><td>&quot;count&quot;</td><td>9.9293632e7</td></tr><tr><td>&quot;null_count&quot;</td><td>0.0</td></tr><tr><td>&quot;mean&quot;</td><td>15385.840077</td></tr><tr><td>&quot;std&quot;</td><td>58772.558018</td></tr><tr><td>&quot;min&quot;</td><td>1.0</td></tr><tr><td>&quot;80%&quot;</td><td>6116.0</td></tr><tr><td>&quot;max&quot;</td><td>500170.0</td></tr></tbody></table></div>"
      ],
      "text/plain": [
       "shape: (7, 2)\n",
       "┌────────────┬──────────────┐\n",
       "│ statistic  ┆ value        │\n",
       "│ ---        ┆ ---          │\n",
       "│ str        ┆ f64          │\n",
       "╞════════════╪══════════════╡\n",
       "│ count      ┆ 9.9293632e7  │\n",
       "│ null_count ┆ 0.0          │\n",
       "│ mean       ┆ 15385.840077 │\n",
       "│ std        ┆ 58772.558018 │\n",
       "│ min        ┆ 1.0          │\n",
       "│ 80%        ┆ 6116.0       │\n",
       "│ max        ┆ 500170.0     │\n",
       "└────────────┴──────────────┘"
      ]
     },
     "execution_count": 49,
     "metadata": {},
     "output_type": "execute_result"
    }
   ],
   "source": [
    "df['mol_per_scaf'].describe(percentiles = [0.8])"
   ]
  },
  {
   "cell_type": "code",
   "execution_count": 54,
   "id": "983383cc-ab25-49d7-be22-0ee82dc8d6e1",
   "metadata": {},
   "outputs": [
    {
     "data": {
      "text/html": [
       "<div><style>\n",
       ".dataframe > thead > tr,\n",
       ".dataframe > tbody > tr {\n",
       "  text-align: right;\n",
       "  white-space: pre-wrap;\n",
       "}\n",
       "</style>\n",
       "<small>shape: (7, 2)</small><table border=\"1\" class=\"dataframe\"><thead><tr><th>statistic</th><th>value</th></tr><tr><td>str</td><td>f64</td></tr></thead><tbody><tr><td>&quot;count&quot;</td><td>9.8784649e7</td></tr><tr><td>&quot;null_count&quot;</td><td>0.0</td></tr><tr><td>&quot;mean&quot;</td><td>15463.047904</td></tr><tr><td>&quot;std&quot;</td><td>58910.282717</td></tr><tr><td>&quot;min&quot;</td><td>1.0</td></tr><tr><td>&quot;80%&quot;</td><td>6116.0</td></tr><tr><td>&quot;max&quot;</td><td>500170.0</td></tr></tbody></table></div>"
      ],
      "text/plain": [
       "shape: (7, 2)\n",
       "┌────────────┬──────────────┐\n",
       "│ statistic  ┆ value        │\n",
       "│ ---        ┆ ---          │\n",
       "│ str        ┆ f64          │\n",
       "╞════════════╪══════════════╡\n",
       "│ count      ┆ 9.8784649e7  │\n",
       "│ null_count ┆ 0.0          │\n",
       "│ mean       ┆ 15463.047904 │\n",
       "│ std        ┆ 58910.282717 │\n",
       "│ min        ┆ 1.0          │\n",
       "│ 80%        ┆ 6116.0       │\n",
       "│ max        ┆ 500170.0     │\n",
       "└────────────┴──────────────┘"
      ]
     },
     "execution_count": 54,
     "metadata": {},
     "output_type": "execute_result"
    }
   ],
   "source": [
    "train1_df['mol_per_scaf'].describe(percentiles = [0.8])"
   ]
  },
  {
   "cell_type": "markdown",
   "id": "bf043312-9443-4487-bb9b-29fac8d60b15",
   "metadata": {},
   "source": [
    "80% number of samples has mol_per_scaf <= 6116.\n",
    "-> Split by Scaffold: keep top 20% for training. The remaining 80% -> random split"
   ]
  },
  {
   "cell_type": "code",
   "execution_count": 55,
   "id": "b6cf4132-c211-42b3-b2bb-8578a54267de",
   "metadata": {},
   "outputs": [
    {
     "data": {
      "text/plain": [
       "(79349425, 8)"
      ]
     },
     "execution_count": 55,
     "metadata": {},
     "output_type": "execute_result"
    }
   ],
   "source": [
    "train1_df.filter(pl.col('mol_per_scaf') <= 6116).shape"
   ]
  },
  {
   "cell_type": "code",
   "execution_count": null,
   "id": "90e7ddd8-6d6b-455f-999f-10e8815935af",
   "metadata": {},
   "outputs": [],
   "source": []
  },
  {
   "cell_type": "code",
   "execution_count": 56,
   "id": "f0f15593-01d9-4447-9d07-25fb630e3bff",
   "metadata": {},
   "outputs": [
    {
     "data": {
      "text/plain": [
       "369039"
      ]
     },
     "execution_count": 56,
     "metadata": {},
     "output_type": "execute_result"
    }
   ],
   "source": [
    "878_022 - 508983"
   ]
  },
  {
   "cell_type": "code",
   "execution_count": 58,
   "id": "c097fa1a-6fc5-44f3-8148-179a84af6fc0",
   "metadata": {},
   "outputs": [
    {
     "data": {
      "text/plain": [
       "215.01636683385766"
      ]
     },
     "execution_count": 58,
     "metadata": {},
     "output_type": "execute_result"
    }
   ],
   "source": [
    "1 / (369039 / 79349425)"
   ]
  },
  {
   "cell_type": "code",
   "execution_count": null,
   "id": "f25c9667-53f0-4043-b237-1b6a287ad7da",
   "metadata": {},
   "outputs": [],
   "source": []
  },
  {
   "cell_type": "markdown",
   "id": "528954aa-c67e-4801-a3d7-e6f213be4c6e",
   "metadata": {},
   "source": [
    "# Follow hypothesis 2: Split by Scaffold: keep top 20% for training. The remaining 80% -> random split"
   ]
  },
  {
   "cell_type": "code",
   "execution_count": null,
   "id": "9eed3f77-777e-4185-80ae-c07ec5c3f5fb",
   "metadata": {},
   "outputs": [],
   "source": []
  },
  {
   "cell_type": "code",
   "execution_count": null,
   "id": "21aef110-2248-44e0-bf86-44a209a94314",
   "metadata": {},
   "outputs": [],
   "source": []
  },
  {
   "cell_type": "markdown",
   "id": "c0aa127c-daaf-4a5c-8aca-ce58f3669acf",
   "metadata": {},
   "source": [
    "# Follow hypothesis 3: After BB-split in stage 1, do a Random Split on the remaining"
   ]
  },
  {
   "cell_type": "code",
   "execution_count": 55,
   "id": "4b811802-696d-4532-8e2d-5dd6a67be0ed",
   "metadata": {},
   "outputs": [
    {
     "data": {
      "text/plain": [
       "(98415610, 7)"
      ]
     },
     "execution_count": 55,
     "metadata": {},
     "output_type": "execute_result"
    }
   ],
   "source": [
    "train_df.shape"
   ]
  },
  {
   "cell_type": "code",
   "execution_count": 56,
   "id": "de4bebe1-98f6-4aac-a48d-91aa5d1df9bf",
   "metadata": {},
   "outputs": [
    {
     "data": {
      "text/plain": [
       "(369039, 7)"
      ]
     },
     "execution_count": 56,
     "metadata": {},
     "output_type": "execute_result"
    }
   ],
   "source": [
    "test2_df.shape"
   ]
  },
  {
   "cell_type": "code",
   "execution_count": null,
   "id": "c463df22-6e81-484a-b218-fb47bc32effa",
   "metadata": {},
   "outputs": [],
   "source": []
  },
  {
   "cell_type": "code",
   "execution_count": null,
   "id": "ee5b398c-5894-41d5-9aaf-3d384754d4aa",
   "metadata": {},
   "outputs": [],
   "source": []
  },
  {
   "cell_type": "code",
   "execution_count": null,
   "id": "7c6b0fea-e228-4230-afe1-a976303f6e09",
   "metadata": {},
   "outputs": [],
   "source": []
  },
  {
   "cell_type": "code",
   "execution_count": 46,
   "id": "ac9aa05b-7ea9-4a56-86d5-de9715707cec",
   "metadata": {},
   "outputs": [
    {
     "data": {
      "text/html": [
       "<div><style>\n",
       ".dataframe > thead > tr,\n",
       ".dataframe > tbody > tr {\n",
       "  text-align: right;\n",
       "  white-space: pre-wrap;\n",
       "}\n",
       "</style>\n",
       "<small>shape: (98_784_649, 7)</small><table border=\"1\" class=\"dataframe\"><thead><tr><th>molecule</th><th>bb1</th><th>bb2</th><th>bb3</th><th>scaffold_idx</th><th>ori</th><th>mol_per_scaf</th></tr><tr><td>str</td><td>u16</td><td>u16</td><td>u16</td><td>i64</td><td>i32</td><td>u32</td></tr></thead><tbody><tr><td>&quot;C#CCOc1ccc(CNc…</td><td>1640</td><td>1653</td><td>765</td><td>4283326</td><td>0</td><td>844</td></tr><tr><td>&quot;C#CCOc1ccc(CNc…</td><td>1640</td><td>1653</td><td>205</td><td>4486646</td><td>0</td><td>9444</td></tr><tr><td>&quot;C#CCOc1ccc(CNc…</td><td>1640</td><td>1653</td><td>1653</td><td>1015728</td><td>0</td><td>9030</td></tr><tr><td>&quot;C#CCOc1ccc(CNc…</td><td>1640</td><td>1653</td><td>146</td><td>5301385</td><td>0</td><td>26814</td></tr><tr><td>&quot;C#CCOc1ccc(CNc…</td><td>1640</td><td>1653</td><td>439</td><td>5301385</td><td>0</td><td>26814</td></tr><tr><td>&quot;C#CCOc1ccc(CNc…</td><td>1640</td><td>1653</td><td>196</td><td>5301385</td><td>0</td><td>26814</td></tr><tr><td>&quot;C#CCOc1ccc(CNc…</td><td>1640</td><td>1653</td><td>253</td><td>5301385</td><td>0</td><td>26814</td></tr><tr><td>&quot;C#CCOc1ccc(CNc…</td><td>1640</td><td>1653</td><td>1219</td><td>5301385</td><td>0</td><td>26814</td></tr><tr><td>&quot;C#CCOc1ccc(CNc…</td><td>1640</td><td>1653</td><td>604</td><td>543172</td><td>0</td><td>844</td></tr><tr><td>&quot;C#CCOc1ccc(CNc…</td><td>1640</td><td>1653</td><td>121</td><td>2571428</td><td>0</td><td>864</td></tr><tr><td>&hellip;</td><td>&hellip;</td><td>&hellip;</td><td>&hellip;</td><td>&hellip;</td><td>&hellip;</td><td>&hellip;</td></tr><tr><td>&quot;CCOC(=O)c1cnc(…</td><td>2058</td><td>1757</td><td>615</td><td>5229411</td><td>1</td><td>219</td></tr><tr><td>&quot;Cc1cc(=O)oc2cc…</td><td>653</td><td>85</td><td>712</td><td>5630826</td><td>1</td><td>87</td></tr><tr><td>&quot;Cc1nn(C)c2ncc(…</td><td>971</td><td>1177</td><td>1841</td><td>2517935</td><td>1</td><td>2276</td></tr><tr><td>&quot;Cn1ccnc1Nc1nc(…</td><td>699</td><td>1992</td><td>233</td><td>5281750</td><td>1</td><td>56</td></tr><tr><td>&quot;COc1cc(F)c(Cl)…</td><td>1674</td><td>154</td><td>1398</td><td>30036</td><td>1</td><td>2305</td></tr><tr><td>&quot;COC(=O)c1cscc1…</td><td>1493</td><td>1266</td><td>1194</td><td>2126369</td><td>1</td><td>24</td></tr><tr><td>&quot;C=CCC(Nc1nc(NC…</td><td>1470</td><td>1770</td><td>1736</td><td>1745176</td><td>1</td><td>2276</td></tr><tr><td>&quot;COc1ccc(C[C@H]…</td><td>1611</td><td>1242</td><td>1056</td><td>5855032</td><td>1</td><td>47</td></tr><tr><td>&quot;CC(O)CCNc1nc(N…</td><td>2042</td><td>1402</td><td>113</td><td>5858112</td><td>1</td><td>2276</td></tr><tr><td>&quot;CCS(=O)(=O)c1c…</td><td>7</td><td>1491</td><td>1233</td><td>2101844</td><td>1</td><td>174</td></tr></tbody></table></div>"
      ],
      "text/plain": [
       "shape: (98_784_649, 7)\n",
       "┌───────────────────────────────────┬──────┬──────┬──────┬──────────────┬─────┬──────────────┐\n",
       "│ molecule                          ┆ bb1  ┆ bb2  ┆ bb3  ┆ scaffold_idx ┆ ori ┆ mol_per_scaf │\n",
       "│ ---                               ┆ ---  ┆ ---  ┆ ---  ┆ ---          ┆ --- ┆ ---          │\n",
       "│ str                               ┆ u16  ┆ u16  ┆ u16  ┆ i64          ┆ i32 ┆ u32          │\n",
       "╞═══════════════════════════════════╪══════╪══════╪══════╪══════════════╪═════╪══════════════╡\n",
       "│ C#CCOc1ccc(CNc2nc(NCC3CCCN3c3ccc… ┆ 1640 ┆ 1653 ┆ 765  ┆ 4283326      ┆ 0   ┆ 844          │\n",
       "│ C#CCOc1ccc(CNc2nc(NCc3cccc(Br)n3… ┆ 1640 ┆ 1653 ┆ 205  ┆ 4486646      ┆ 0   ┆ 9444         │\n",
       "│ C#CCOc1ccc(CNc2nc(NCc3ccc(OCC#C)… ┆ 1640 ┆ 1653 ┆ 1653 ┆ 1015728      ┆ 0   ┆ 9030         │\n",
       "│ C#CCOc1ccc(CNc2nc(NCCNC(=O)C(=C)… ┆ 1640 ┆ 1653 ┆ 146  ┆ 5301385      ┆ 0   ┆ 26814        │\n",
       "│ C#CCOc1ccc(CNc2nc(NCC(=O)NCC=C)n… ┆ 1640 ┆ 1653 ┆ 439  ┆ 5301385      ┆ 0   ┆ 26814        │\n",
       "│ C#CCOc1ccc(CNc2nc(NCC(C)OCC=C)nc… ┆ 1640 ┆ 1653 ┆ 196  ┆ 5301385      ┆ 0   ┆ 26814        │\n",
       "│ C#CCOc1ccc(CNc2nc(NCCCOCC=C)nc(N… ┆ 1640 ┆ 1653 ┆ 253  ┆ 5301385      ┆ 0   ┆ 26814        │\n",
       "│ C#CCOc1ccc(CNc2nc(NCCOCC=C)nc(N[… ┆ 1640 ┆ 1653 ┆ 1219 ┆ 5301385      ┆ 0   ┆ 26814        │\n",
       "│ C#CCOc1ccc(CNc2nc(Nc3cnn(C4CCN(C… ┆ 1640 ┆ 1653 ┆ 604  ┆ 543172       ┆ 0   ┆ 844          │\n",
       "│ C#CCOc1ccc(CNc2nc(Nc3n[nH]c4c3CN… ┆ 1640 ┆ 1653 ┆ 121  ┆ 2571428      ┆ 0   ┆ 864          │\n",
       "│ …                                 ┆ …    ┆ …    ┆ …    ┆ …            ┆ …   ┆ …            │\n",
       "│ CCOC(=O)c1cnc(Nc2nc(NCc3nc(-c4cc… ┆ 2058 ┆ 1757 ┆ 615  ┆ 5229411      ┆ 1   ┆ 219          │\n",
       "│ Cc1cc(=O)oc2cc(Nc3nc(Nc4nc(OCc5c… ┆ 653  ┆ 85   ┆ 712  ┆ 5630826      ┆ 1   ┆ 87           │\n",
       "│ Cc1nn(C)c2ncc(CNc3nc(NCC(F)(F)C(… ┆ 971  ┆ 1177 ┆ 1841 ┆ 2517935      ┆ 1   ┆ 2276         │\n",
       "│ Cn1ccnc1Nc1nc(Nc2nc(-c3cccc([N+]… ┆ 699  ┆ 1992 ┆ 233  ┆ 5281750      ┆ 1   ┆ 56           │\n",
       "│ COc1cc(F)c(Cl)cc1Nc1nc(NCC(=O)N2… ┆ 1674 ┆ 154  ┆ 1398 ┆ 30036        ┆ 1   ┆ 2305         │\n",
       "│ COC(=O)c1cscc1Nc1nc(NCC2(O)CCSC2… ┆ 1493 ┆ 1266 ┆ 1194 ┆ 2126369      ┆ 1   ┆ 24           │\n",
       "│ C=CCC(Nc1nc(NCC(C)c2c(Cl)cccc2Cl… ┆ 1470 ┆ 1770 ┆ 1736 ┆ 1745176      ┆ 1   ┆ 2276         │\n",
       "│ COc1ccc(C[C@H](Nc2nc(Nc3cc(C4CC4… ┆ 1611 ┆ 1242 ┆ 1056 ┆ 5855032      ┆ 1   ┆ 47           │\n",
       "│ CC(O)CCNc1nc(NCCCN2CCNC(=O)C2)nc… ┆ 2042 ┆ 1402 ┆ 113  ┆ 5858112      ┆ 1   ┆ 2276         │\n",
       "│ CCS(=O)(=O)c1cc(C(=O)N[Dy])c(OC)… ┆ 7    ┆ 1491 ┆ 1233 ┆ 2101844      ┆ 1   ┆ 174          │\n",
       "└───────────────────────────────────┴──────┴──────┴──────┴──────────────┴─────┴──────────────┘"
      ]
     },
     "execution_count": 46,
     "metadata": {},
     "output_type": "execute_result"
    }
   ],
   "source": [
    "stage2_df = pl.concat([train_df, test2_df])\n",
    "stage2_df"
   ]
  },
  {
   "cell_type": "code",
   "execution_count": 60,
   "id": "f06c7639-c065-465b-8072-a5813e5b276c",
   "metadata": {},
   "outputs": [
    {
     "data": {
      "text/plain": [
       "(369039, 7)"
      ]
     },
     "execution_count": 60,
     "metadata": {},
     "output_type": "execute_result"
    }
   ],
   "source": [
    "test2_df.shape"
   ]
  },
  {
   "cell_type": "code",
   "execution_count": 61,
   "id": "7bee5bb0-cce6-4d97-85e7-f0ce312826f8",
   "metadata": {},
   "outputs": [
    {
     "data": {
      "text/plain": [
       "267.68078441573925"
      ]
     },
     "execution_count": 61,
     "metadata": {},
     "output_type": "execute_result"
    }
   ],
   "source": [
    "98_784_649 / 369039"
   ]
  },
  {
   "cell_type": "code",
   "execution_count": null,
   "id": "1504850b-5d84-4dbe-bfa1-aaa06abd41c0",
   "metadata": {},
   "outputs": [],
   "source": []
  },
  {
   "cell_type": "code",
   "execution_count": null,
   "id": "a776fde7-493e-4226-9414-3c6bc29c2bd9",
   "metadata": {},
   "outputs": [],
   "source": []
  },
  {
   "cell_type": "code",
   "execution_count": null,
   "id": "d8dd7c2c-9ec0-4aa7-86fd-99059564869a",
   "metadata": {},
   "outputs": [],
   "source": []
  },
  {
   "cell_type": "code",
   "execution_count": null,
   "id": "c3a5c644-02af-4c67-b970-4af227a08bc0",
   "metadata": {},
   "outputs": [],
   "source": []
  },
  {
   "cell_type": "code",
   "execution_count": null,
   "id": "e625e38b-3bb1-41d9-937c-8cc5f9b94bcc",
   "metadata": {},
   "outputs": [],
   "source": []
  },
  {
   "cell_type": "code",
   "execution_count": 100,
   "id": "052d03ea-ac0e-4060-a75f-3a0a99c8aca3",
   "metadata": {},
   "outputs": [
    {
     "name": "stdout",
     "output_type": "stream",
     "text": [
      "Fold 0:\n",
      "98414669 369980\n",
      "Fold 1:\n",
      "98414669 369980\n"
     ]
    },
    {
     "data": {
      "text/plain": [
       "{0: {'train': array([       0,        1,        2, ..., 98784646, 98784647, 98784648]),\n",
       "  'test': array([      40,      604,      698, ..., 98784426, 98784437, 98784585])},\n",
       " 1: {'train': array([       0,        1,        2, ..., 98784646, 98784647, 98784648]),\n",
       "  'test': array([       4,       32,      122, ..., 98783717, 98783753, 98784174])}}"
      ]
     },
     "execution_count": 100,
     "metadata": {},
     "output_type": "execute_result"
    }
   ],
   "source": [
    "# splitter = StratifiedGroupKFold(n_splits=573, shuffle=True, random_state=42)\n",
    "splitter = KFold(n_splits=267, shuffle=True, random_state=42)\n",
    "\n",
    "fold2_meta = {}\n",
    "for i, (tmp_train2_idxs, tmp_test2_idxs) in enumerate(splitter.split(range(len(stage2_df)))):\n",
    "    print(f\"Fold {i}:\")\n",
    "    # train2_idxs = tmp_train1_df[tmp_train2_idxs, 'index'].to_list()\n",
    "    # test2_idxs = tmp_train1_df[tmp_test2_idxs, 'index'].to_list()\n",
    "    train2_idxs = tmp_train2_idxs\n",
    "    test2_idxs = tmp_test2_idxs\n",
    "    print(len(train2_idxs), len(test2_idxs))\n",
    "    fold2_meta[i] = {}\n",
    "    fold2_meta[i]['train'] = train2_idxs\n",
    "    fold2_meta[i]['test'] = test2_idxs\n",
    "    if i >= 1:\n",
    "        break\n",
    "fold2_meta"
   ]
  },
  {
   "cell_type": "code",
   "execution_count": null,
   "id": "bf068d5e-4c5f-433d-9585-46d9dc06d6b0",
   "metadata": {},
   "outputs": [],
   "source": []
  },
  {
   "cell_type": "code",
   "execution_count": 101,
   "id": "e93dace8-85c7-46f0-a813-694b4cb23134",
   "metadata": {},
   "outputs": [
    {
     "data": {
      "text/html": [
       "<div><style>\n",
       ".dataframe > thead > tr,\n",
       ".dataframe > tbody > tr {\n",
       "  text-align: right;\n",
       "  white-space: pre-wrap;\n",
       "}\n",
       "</style>\n",
       "<small>shape: (369_980, 7)</small><table border=\"1\" class=\"dataframe\"><thead><tr><th>molecule</th><th>bb1</th><th>bb2</th><th>bb3</th><th>scaffold_idx</th><th>ori</th><th>mol_per_scaf</th></tr><tr><td>str</td><td>u16</td><td>u16</td><td>u16</td><td>i64</td><td>i32</td><td>u32</td></tr></thead><tbody><tr><td>&quot;C#CCOc1ccc(CNc…</td><td>1640</td><td>1653</td><td>439</td><td>5301385</td><td>0</td><td>26814</td></tr><tr><td>&quot;C#CCOc1ccc(CNc…</td><td>1640</td><td>1653</td><td>1259</td><td>1142928</td><td>0</td><td>1688</td></tr><tr><td>&quot;C#CCOc1ccc(CNc…</td><td>1640</td><td>1653</td><td>1863</td><td>2494349</td><td>0</td><td>133931</td></tr><tr><td>&quot;C#CCOc1cccc(CN…</td><td>1640</td><td>1596</td><td>726</td><td>3435799</td><td>0</td><td>1708</td></tr><tr><td>&quot;C#CCOc1cccc(CN…</td><td>1640</td><td>1596</td><td>783</td><td>5928562</td><td>0</td><td>5660</td></tr><tr><td>&quot;C#CCOc1cccc(CN…</td><td>1640</td><td>1596</td><td>1552</td><td>2494349</td><td>0</td><td>133931</td></tr><tr><td>&quot;C#CCOc1cccc(CN…</td><td>1640</td><td>1596</td><td>1928</td><td>1542308</td><td>0</td><td>1688</td></tr><tr><td>&quot;C#CC[C@@H](CC(…</td><td>1640</td><td>1982</td><td>282</td><td>5533127</td><td>0</td><td>6116</td></tr><tr><td>&quot;C#CC[C@@H](CC(…</td><td>1640</td><td>1982</td><td>1065</td><td>2513749</td><td>0</td><td>6116</td></tr><tr><td>&quot;C#CC[C@@H](CC(…</td><td>1640</td><td>1982</td><td>546</td><td>5027832</td><td>0</td><td>6116</td></tr><tr><td>&hellip;</td><td>&hellip;</td><td>&hellip;</td><td>&hellip;</td><td>&hellip;</td><td>&hellip;</td><td>&hellip;</td></tr><tr><td>&quot;CC(CNc1nc(Nc2c…</td><td>1022</td><td>1150</td><td>2004</td><td>4210640</td><td>1</td><td>843</td></tr><tr><td>&quot;O=C(C[C@H]1Cc2…</td><td>1921</td><td>1442</td><td>1033</td><td>3691242</td><td>1</td><td>40</td></tr><tr><td>&quot;O=C(N[Dy])[C@H…</td><td>1493</td><td>1834</td><td>1425</td><td>4781066</td><td>1</td><td>22</td></tr><tr><td>&quot;COC(CNc1nc(NCc…</td><td>1235</td><td>1400</td><td>1482</td><td>97566</td><td>1</td><td>6</td></tr><tr><td>&quot;O=C1CCCc2cc(Nc…</td><td>667</td><td>0</td><td>1081</td><td>3238381</td><td>1</td><td>611</td></tr><tr><td>&quot;Cc1cc(Nc2nc(Nc…</td><td>2036</td><td>1580</td><td>391</td><td>3964474</td><td>1</td><td>73626</td></tr><tr><td>&quot;CN(c1nc(NCCNC(…</td><td>2055</td><td>1260</td><td>247</td><td>3310505</td><td>1</td><td>580</td></tr><tr><td>&quot;N#Cc1ccc(Nc2nc…</td><td>2059</td><td>1221</td><td>993</td><td>2005737</td><td>1</td><td>920</td></tr><tr><td>&quot;O=C(N[Dy])c1cn…</td><td>171</td><td>1474</td><td>1496</td><td>3231190</td><td>1</td><td>2</td></tr><tr><td>&quot;O=C(N[Dy])c1cn…</td><td>926</td><td>998</td><td>1834</td><td>4696067</td><td>1</td><td>2</td></tr></tbody></table></div>"
      ],
      "text/plain": [
       "shape: (369_980, 7)\n",
       "┌───────────────────────────────────┬──────┬──────┬──────┬──────────────┬─────┬──────────────┐\n",
       "│ molecule                          ┆ bb1  ┆ bb2  ┆ bb3  ┆ scaffold_idx ┆ ori ┆ mol_per_scaf │\n",
       "│ ---                               ┆ ---  ┆ ---  ┆ ---  ┆ ---          ┆ --- ┆ ---          │\n",
       "│ str                               ┆ u16  ┆ u16  ┆ u16  ┆ i64          ┆ i32 ┆ u32          │\n",
       "╞═══════════════════════════════════╪══════╪══════╪══════╪══════════════╪═════╪══════════════╡\n",
       "│ C#CCOc1ccc(CNc2nc(NCC(=O)NCC=C)n… ┆ 1640 ┆ 1653 ┆ 439  ┆ 5301385      ┆ 0   ┆ 26814        │\n",
       "│ C#CCOc1ccc(CNc2nc(NCc3nc4c(s3)CC… ┆ 1640 ┆ 1653 ┆ 1259 ┆ 1142928      ┆ 0   ┆ 1688         │\n",
       "│ C#CCOc1ccc(CNc2nc(Nc3cccc(NS(C)(… ┆ 1640 ┆ 1653 ┆ 1863 ┆ 2494349      ┆ 0   ┆ 133931       │\n",
       "│ C#CCOc1cccc(CNc2nc(NCc3ncc(C)o3)… ┆ 1640 ┆ 1596 ┆ 726  ┆ 3435799      ┆ 0   ┆ 1708         │\n",
       "│ C#CCOc1cccc(CNc2nc(Nc3c(C#N)cnn3… ┆ 1640 ┆ 1596 ┆ 783  ┆ 5928562      ┆ 0   ┆ 5660         │\n",
       "│ C#CCOc1cccc(CNc2nc(Nc3cc(F)cc(F)… ┆ 1640 ┆ 1596 ┆ 1552 ┆ 2494349      ┆ 0   ┆ 133931       │\n",
       "│ C#CCOc1cccc(CNc2nc(Nc3nc4cc(Br)c… ┆ 1640 ┆ 1596 ┆ 1928 ┆ 1542308      ┆ 0   ┆ 1688         │\n",
       "│ C#CC[C@@H](CC(=O)N[Dy])Nc1nc(NCC… ┆ 1640 ┆ 1982 ┆ 282  ┆ 5533127      ┆ 0   ┆ 6116         │\n",
       "│ C#CC[C@@H](CC(=O)N[Dy])Nc1nc(NCC… ┆ 1640 ┆ 1982 ┆ 1065 ┆ 2513749      ┆ 0   ┆ 6116         │\n",
       "│ C#CC[C@@H](CC(=O)N[Dy])Nc1nc(NCc… ┆ 1640 ┆ 1982 ┆ 546  ┆ 5027832      ┆ 0   ┆ 6116         │\n",
       "│ …                                 ┆ …    ┆ …    ┆ …    ┆ …            ┆ …   ┆ …            │\n",
       "│ CC(CNc1nc(Nc2cc3ccccc3cc2C(=O)N[… ┆ 1022 ┆ 1150 ┆ 2004 ┆ 4210640      ┆ 1   ┆ 843          │\n",
       "│ O=C(C[C@H]1Cc2ccccc2CN1c1nc(Nc2c… ┆ 1921 ┆ 1442 ┆ 1033 ┆ 3691242      ┆ 1   ┆ 40           │\n",
       "│ O=C(N[Dy])[C@H](CCC1CCCCC1)Nc1nc… ┆ 1493 ┆ 1834 ┆ 1425 ┆ 4781066      ┆ 1   ┆ 22           │\n",
       "│ COC(CNc1nc(NCc2cncn2C)nc(Nc2nc(-… ┆ 1235 ┆ 1400 ┆ 1482 ┆ 97566        ┆ 1   ┆ 6            │\n",
       "│ O=C1CCCc2cc(Nc3nc(Nc4nc(Cl)ncc4C… ┆ 667  ┆ 0    ┆ 1081 ┆ 3238381      ┆ 1   ┆ 611          │\n",
       "│ Cc1cc(Nc2nc(Nc3cnccc3C(=O)N[Dy])… ┆ 2036 ┆ 1580 ┆ 391  ┆ 3964474      ┆ 1   ┆ 73626        │\n",
       "│ CN(c1nc(NCCNC(N)=O)nc(Nc2n[nH]c3… ┆ 2055 ┆ 1260 ┆ 247  ┆ 3310505      ┆ 1   ┆ 580          │\n",
       "│ N#Cc1ccc(Nc2nc(NCc3ccc(-n4cncn4)… ┆ 2059 ┆ 1221 ┆ 993  ┆ 2005737      ┆ 1   ┆ 920          │\n",
       "│ O=C(N[Dy])c1cnn(-c2ccc(F)cc2)c1N… ┆ 171  ┆ 1474 ┆ 1496 ┆ 3231190      ┆ 1   ┆ 2            │\n",
       "│ O=C(N[Dy])c1cncc(Nc2nc(NCC(=O)N3… ┆ 926  ┆ 998  ┆ 1834 ┆ 4696067      ┆ 1   ┆ 2            │\n",
       "└───────────────────────────────────┴──────┴──────┴──────┴──────────────┴─────┴──────────────┘"
      ]
     },
     "execution_count": 101,
     "metadata": {},
     "output_type": "execute_result"
    }
   ],
   "source": [
    "gen_test2_df = stage2_df[test2_idxs]\n",
    "gen_test2_df"
   ]
  },
  {
   "cell_type": "code",
   "execution_count": 102,
   "id": "4e56669d-28af-434a-8e69-4a34eb897a6c",
   "metadata": {},
   "outputs": [
    {
     "data": {
      "text/plain": [
       "994"
      ]
     },
     "execution_count": 102,
     "metadata": {},
     "output_type": "execute_result"
    }
   ],
   "source": [
    "245841 + 123824 - 368_671"
   ]
  },
  {
   "cell_type": "code",
   "execution_count": 103,
   "id": "8f151e18-e968-4e4b-936a-3bc210ee25b1",
   "metadata": {},
   "outputs": [
    {
     "data": {
      "text/html": [
       "<div><style>\n",
       ".dataframe > thead > tr,\n",
       ".dataframe > tbody > tr {\n",
       "  text-align: right;\n",
       "  white-space: pre-wrap;\n",
       "}\n",
       "</style>\n",
       "<small>shape: (1, 7)</small><table border=\"1\" class=\"dataframe\"><thead><tr><th>molecule</th><th>bb1</th><th>bb2</th><th>bb3</th><th>scaffold_idx</th><th>ori</th><th>mol_per_scaf</th></tr><tr><td>u32</td><td>u32</td><td>u32</td><td>u32</td><td>u32</td><td>u32</td><td>u32</td></tr></thead><tbody><tr><td>369980</td><td>271</td><td>693</td><td>872</td><td>184991</td><td>2</td><td>2376</td></tr></tbody></table></div>"
      ],
      "text/plain": [
       "shape: (1, 7)\n",
       "┌──────────┬─────┬─────┬─────┬──────────────┬─────┬──────────────┐\n",
       "│ molecule ┆ bb1 ┆ bb2 ┆ bb3 ┆ scaffold_idx ┆ ori ┆ mol_per_scaf │\n",
       "│ ---      ┆ --- ┆ --- ┆ --- ┆ ---          ┆ --- ┆ ---          │\n",
       "│ u32      ┆ u32 ┆ u32 ┆ u32 ┆ u32          ┆ u32 ┆ u32          │\n",
       "╞══════════╪═════╪═════╪═════╪══════════════╪═════╪══════════════╡\n",
       "│ 369980   ┆ 271 ┆ 693 ┆ 872 ┆ 184991       ┆ 2   ┆ 2376         │\n",
       "└──────────┴─────┴─────┴─────┴──────────────┴─────┴──────────────┘"
      ]
     },
     "execution_count": 103,
     "metadata": {},
     "output_type": "execute_result"
    }
   ],
   "source": [
    "gen_test2_df.select(pl.col('*').n_unique())"
   ]
  },
  {
   "cell_type": "code",
   "execution_count": 104,
   "id": "d7a6978f-9c1f-42b7-bcaa-e95dfeca82c1",
   "metadata": {},
   "outputs": [
    {
     "data": {
      "text/plain": [
       "500170"
      ]
     },
     "execution_count": 104,
     "metadata": {},
     "output_type": "execute_result"
    }
   ],
   "source": [
    "gen_test2_df['mol_per_scaf'].max()"
   ]
  },
  {
   "cell_type": "code",
   "execution_count": 105,
   "id": "4ca20060-14c5-4959-a46e-597d22b9bc96",
   "metadata": {},
   "outputs": [
    {
     "data": {
      "text/plain": [
       "True"
      ]
     },
     "execution_count": 105,
     "metadata": {},
     "output_type": "execute_result"
    }
   ],
   "source": [
    "98414669 + 369980 == stage2_df.shape[0]"
   ]
  },
  {
   "cell_type": "code",
   "execution_count": 106,
   "id": "1042a1af-03be-4d01-9916-3591dd4cecfa",
   "metadata": {},
   "outputs": [
    {
     "data": {
      "text/html": [
       "<div><style>\n",
       ".dataframe > thead > tr,\n",
       ".dataframe > tbody > tr {\n",
       "  text-align: right;\n",
       "  white-space: pre-wrap;\n",
       "}\n",
       "</style>\n",
       "<small>shape: (1, 7)</small><table border=\"1\" class=\"dataframe\"><thead><tr><th>molecule</th><th>bb1</th><th>bb2</th><th>bb3</th><th>scaffold_idx</th><th>ori</th><th>mol_per_scaf</th></tr><tr><td>u32</td><td>u32</td><td>u32</td><td>u32</td><td>u32</td><td>u32</td><td>u32</td></tr></thead><tbody><tr><td>98414669</td><td>271</td><td>693</td><td>872</td><td>5718698</td><td>2</td><td>2389</td></tr></tbody></table></div>"
      ],
      "text/plain": [
       "shape: (1, 7)\n",
       "┌──────────┬─────┬─────┬─────┬──────────────┬─────┬──────────────┐\n",
       "│ molecule ┆ bb1 ┆ bb2 ┆ bb3 ┆ scaffold_idx ┆ ori ┆ mol_per_scaf │\n",
       "│ ---      ┆ --- ┆ --- ┆ --- ┆ ---          ┆ --- ┆ ---          │\n",
       "│ u32      ┆ u32 ┆ u32 ┆ u32 ┆ u32          ┆ u32 ┆ u32          │\n",
       "╞══════════╪═════╪═════╪═════╪══════════════╪═════╪══════════════╡\n",
       "│ 98414669 ┆ 271 ┆ 693 ┆ 872 ┆ 5718698      ┆ 2   ┆ 2389         │\n",
       "└──────────┴─────┴─────┴─────┴──────────────┴─────┴──────────────┘"
      ]
     },
     "execution_count": 106,
     "metadata": {},
     "output_type": "execute_result"
    }
   ],
   "source": [
    "gen_train2_df = stage2_df[train2_idxs]\n",
    "gen_train2_df.select(pl.col('*').n_unique())"
   ]
  },
  {
   "cell_type": "code",
   "execution_count": 107,
   "id": "de48178c-656c-4948-9a38-26586b609286",
   "metadata": {},
   "outputs": [
    {
     "data": {
      "text/plain": [
       "9083"
      ]
     },
     "execution_count": 107,
     "metadata": {},
     "output_type": "execute_result"
    }
   ],
   "source": [
    "gen_test_only_scaffolds = list(set(gen_test2_df['scaffold_idx']).difference(set(gen_train2_df['scaffold_idx'])))\n",
    "len(gen_test_only_scaffolds)"
   ]
  },
  {
   "cell_type": "code",
   "execution_count": 108,
   "id": "7435d76d-ab53-4ba1-9820-6f36f45e7949",
   "metadata": {},
   "outputs": [
    {
     "data": {
      "text/plain": [
       "500170"
      ]
     },
     "execution_count": 108,
     "metadata": {},
     "output_type": "execute_result"
    }
   ],
   "source": [
    "gen_test2_df['mol_per_scaf'].max()"
   ]
  },
  {
   "cell_type": "code",
   "execution_count": 109,
   "id": "a75f2e73-3604-48f0-86a6-1703a84cc83b",
   "metadata": {},
   "outputs": [
    {
     "data": {
      "text/plain": [
       "2"
      ]
     },
     "execution_count": 109,
     "metadata": {},
     "output_type": "execute_result"
    }
   ],
   "source": [
    "gen_test2_df.filter(pl.col('scaffold_idx').is_in(gen_test_only_scaffolds))['mol_per_scaf'].max()"
   ]
  },
  {
   "cell_type": "code",
   "execution_count": 110,
   "id": "5f990dd0-00ef-4a14-bfae-358eadb2c68c",
   "metadata": {},
   "outputs": [
    {
     "data": {
      "text/html": [
       "<div><style>\n",
       ".dataframe > thead > tr,\n",
       ".dataframe > tbody > tr {\n",
       "  text-align: right;\n",
       "  white-space: pre-wrap;\n",
       "}\n",
       "</style>\n",
       "<small>shape: (9_239_953, 7)</small><table border=\"1\" class=\"dataframe\"><thead><tr><th>molecule</th><th>bb1</th><th>bb2</th><th>bb3</th><th>scaffold_idx</th><th>ori</th><th>mol_per_scaf</th></tr><tr><td>str</td><td>u16</td><td>u16</td><td>u16</td><td>i64</td><td>i32</td><td>u32</td></tr></thead><tbody><tr><td>&quot;C=C1CCC(CNc2nc…</td><td>873</td><td>740</td><td>728</td><td>4121402</td><td>0</td><td>9</td></tr><tr><td>&quot;C=C1CCC(CNc2nc…</td><td>873</td><td>740</td><td>1134</td><td>2966733</td><td>0</td><td>2</td></tr><tr><td>&quot;C=C1CCC(CNc2nc…</td><td>873</td><td>740</td><td>1694</td><td>5303914</td><td>0</td><td>9</td></tr><tr><td>&quot;C=C1CCC(CNc2nc…</td><td>873</td><td>740</td><td>1150</td><td>1105998</td><td>0</td><td>3</td></tr><tr><td>&quot;C=C1CCC(CNc2nc…</td><td>873</td><td>740</td><td>815</td><td>2700573</td><td>0</td><td>4</td></tr><tr><td>&quot;C=C1CCC(CNc2nc…</td><td>873</td><td>740</td><td>365</td><td>3353364</td><td>0</td><td>5</td></tr><tr><td>&quot;C=C1CCC(CNc2nc…</td><td>873</td><td>740</td><td>1935</td><td>3353364</td><td>0</td><td>5</td></tr><tr><td>&quot;C=C1CCC(CNc2nc…</td><td>873</td><td>740</td><td>1259</td><td>4591752</td><td>0</td><td>2</td></tr><tr><td>&quot;C=C1CCC(CNc2nc…</td><td>873</td><td>740</td><td>902</td><td>1105998</td><td>0</td><td>3</td></tr><tr><td>&quot;C=C1CCC(CNc2nc…</td><td>873</td><td>740</td><td>299</td><td>3000135</td><td>0</td><td>5</td></tr><tr><td>&hellip;</td><td>&hellip;</td><td>&hellip;</td><td>&hellip;</td><td>&hellip;</td><td>&hellip;</td><td>&hellip;</td></tr><tr><td>&quot;N#Cc1ccc(CNc2n…</td><td>509</td><td>1508</td><td>1207</td><td>4219497</td><td>1</td><td>8</td></tr><tr><td>&quot;O=C(N[Dy])c1cc…</td><td>1759</td><td>752</td><td>483</td><td>4149118</td><td>1</td><td>2</td></tr><tr><td>&quot;O=C(N[Dy])C1CC…</td><td>1945</td><td>615</td><td>506</td><td>155073</td><td>1</td><td>10</td></tr><tr><td>&quot;CN1CC2(CCC1CNc…</td><td>525</td><td>1914</td><td>207</td><td>4503372</td><td>1</td><td>4</td></tr><tr><td>&quot;O=C(N[Dy])c1nc…</td><td>1480</td><td>1430</td><td>963</td><td>721155</td><td>1</td><td>4</td></tr><tr><td>&quot;CCS(=O)(=O)N1C…</td><td>1235</td><td>811</td><td>510</td><td>4193445</td><td>1</td><td>2</td></tr><tr><td>&quot;O=C1NCc2cc(Nc3…</td><td>410</td><td>2018</td><td>1113</td><td>3830546</td><td>1</td><td>4</td></tr><tr><td>&quot;O=C(N[Dy])[C@H…</td><td>1320</td><td>533</td><td>1092</td><td>5418488</td><td>1</td><td>2</td></tr><tr><td>&quot;O=C(NCCNc1nc(N…</td><td>1024</td><td>1696</td><td>1638</td><td>2225134</td><td>1</td><td>9</td></tr><tr><td>&quot;Cc1c([C@@H]2[C…</td><td>1893</td><td>2010</td><td>1371</td><td>3276645</td><td>1</td><td>3</td></tr></tbody></table></div>"
      ],
      "text/plain": [
       "shape: (9_239_953, 7)\n",
       "┌───────────────────────────────────┬──────┬──────┬──────┬──────────────┬─────┬──────────────┐\n",
       "│ molecule                          ┆ bb1  ┆ bb2  ┆ bb3  ┆ scaffold_idx ┆ ori ┆ mol_per_scaf │\n",
       "│ ---                               ┆ ---  ┆ ---  ┆ ---  ┆ ---          ┆ --- ┆ ---          │\n",
       "│ str                               ┆ u16  ┆ u16  ┆ u16  ┆ i64          ┆ i32 ┆ u32          │\n",
       "╞═══════════════════════════════════╪══════╪══════╪══════╪══════════════╪═════╪══════════════╡\n",
       "│ C=C1CCC(CNc2nc(Nc3cc(C(C)(C)C)[n… ┆ 873  ┆ 740  ┆ 728  ┆ 4121402      ┆ 0   ┆ 9            │\n",
       "│ C=C1CCC(CNc2nc(NCc3ncoc3C(C)(C)C… ┆ 873  ┆ 740  ┆ 1134 ┆ 2966733      ┆ 0   ┆ 2            │\n",
       "│ C=C1CCC(CNc2nc(Nc3nc(C(C)C)c(Br)… ┆ 873  ┆ 740  ┆ 1694 ┆ 5303914      ┆ 0   ┆ 9            │\n",
       "│ C=C1CCC(CNc2nc(NCC(C)Oc3ccc(Cl)c… ┆ 873  ┆ 740  ┆ 1150 ┆ 1105998      ┆ 0   ┆ 3            │\n",
       "│ C=C1CCC(CNc2nc(NCC(C)c3nccs3)nc(… ┆ 873  ┆ 740  ┆ 815  ┆ 2700573      ┆ 0   ┆ 4            │\n",
       "│ C=C1CCC(CNc2nc(NCC3CC(C)(C)OC3(C… ┆ 873  ┆ 740  ┆ 365  ┆ 3353364      ┆ 0   ┆ 5            │\n",
       "│ C=C1CCC(CNc2nc(NCC3CC(C)OC3C)nc(… ┆ 873  ┆ 740  ┆ 1935 ┆ 3353364      ┆ 0   ┆ 5            │\n",
       "│ C=C1CCC(CNc2nc(NCc3nc4c(s3)CC(C)… ┆ 873  ┆ 740  ┆ 1259 ┆ 4591752      ┆ 0   ┆ 2            │\n",
       "│ C=C1CCC(CNc2nc(NCC(CC)Oc3ccccc3C… ┆ 873  ┆ 740  ┆ 902  ┆ 1105998      ┆ 0   ┆ 3            │\n",
       "│ C=C1CCC(CNc2nc(Nc3scc(C)c3C(=O)O… ┆ 873  ┆ 740  ┆ 299  ┆ 3000135      ┆ 0   ┆ 5            │\n",
       "│ …                                 ┆ …    ┆ …    ┆ …    ┆ …            ┆ …   ┆ …            │\n",
       "│ N#Cc1ccc(CNc2nc(NCc3ccc(NC(=O)c4… ┆ 509  ┆ 1508 ┆ 1207 ┆ 4219497      ┆ 1   ┆ 8            │\n",
       "│ O=C(N[Dy])c1ccc2[nH]c(Nc3nc(NCCn… ┆ 1759 ┆ 752  ┆ 483  ┆ 4149118      ┆ 1   ┆ 2            │\n",
       "│ O=C(N[Dy])C1CCC(CNc2nc(NCc3nc(-c… ┆ 1945 ┆ 615  ┆ 506  ┆ 155073       ┆ 1   ┆ 10           │\n",
       "│ CN1CC2(CCC1CNc1nc(NCCN3CCCS3(=O)… ┆ 525  ┆ 1914 ┆ 207  ┆ 4503372      ┆ 1   ┆ 4            │\n",
       "│ O=C(N[Dy])c1nc(Cl)c(Cl)c(Nc2nc(N… ┆ 1480 ┆ 1430 ┆ 963  ┆ 721155       ┆ 1   ┆ 4            │\n",
       "│ CCS(=O)(=O)N1CC(CNc2nc(NCc3ccc(C… ┆ 1235 ┆ 811  ┆ 510  ┆ 4193445      ┆ 1   ┆ 2            │\n",
       "│ O=C1NCc2cc(Nc3nc(NCC(O)c4ccncc4)… ┆ 410  ┆ 2018 ┆ 1113 ┆ 3830546      ┆ 1   ┆ 4            │\n",
       "│ O=C(N[Dy])[C@H](Cc1csc2ccccc12)N… ┆ 1320 ┆ 533  ┆ 1092 ┆ 5418488      ┆ 1   ┆ 2            │\n",
       "│ O=C(NCCNc1nc(NCc2cc3n(n2)CCCO3)n… ┆ 1024 ┆ 1696 ┆ 1638 ┆ 2225134      ┆ 1   ┆ 9            │\n",
       "│ Cc1c([C@@H]2[C@@H](CNc3nc(Nc4cc(… ┆ 1893 ┆ 2010 ┆ 1371 ┆ 3276645      ┆ 1   ┆ 3            │\n",
       "└───────────────────────────────────┴──────┴──────┴──────┴──────────────┴─────┴──────────────┘"
      ]
     },
     "execution_count": 110,
     "metadata": {},
     "output_type": "execute_result"
    }
   ],
   "source": [
    "gen_train2_df.filter(pl.col('mol_per_scaf').is_between(2, 10))"
   ]
  },
  {
   "cell_type": "code",
   "execution_count": null,
   "id": "92bd885d-0ced-4107-8e94-ed8675e204d3",
   "metadata": {},
   "outputs": [],
   "source": []
  },
  {
   "cell_type": "code",
   "execution_count": null,
   "id": "beabef96-ff7e-4f58-a16b-e1316b11d637",
   "metadata": {},
   "outputs": [],
   "source": []
  },
  {
   "cell_type": "code",
   "execution_count": null,
   "id": "fa974964-b9fe-460f-bfb0-0c300f9a6a42",
   "metadata": {},
   "outputs": [],
   "source": []
  },
  {
   "cell_type": "code",
   "execution_count": null,
   "id": "57aa831d-3098-4b31-b326-cd0357ecf359",
   "metadata": {},
   "outputs": [],
   "source": []
  },
  {
   "cell_type": "code",
   "execution_count": null,
   "id": "7e85fd10-c41a-4cfb-822b-19b5e153bcf5",
   "metadata": {},
   "outputs": [],
   "source": []
  },
  {
   "cell_type": "code",
   "execution_count": null,
   "id": "2f074ae0-c8fd-4a94-8c9d-7cf1c834e31b",
   "metadata": {},
   "outputs": [],
   "source": []
  },
  {
   "cell_type": "code",
   "execution_count": null,
   "id": "026ade5d-e90a-4061-96ca-30b936e4faf9",
   "metadata": {},
   "outputs": [],
   "source": []
  },
  {
   "cell_type": "code",
   "execution_count": 61,
   "id": "3f0a816a-0585-421c-831e-0e34f38381ac",
   "metadata": {},
   "outputs": [
    {
     "data": {
      "text/html": [
       "<div><style>\n",
       ".dataframe > thead > tr,\n",
       ".dataframe > tbody > tr {\n",
       "  text-align: right;\n",
       "  white-space: pre-wrap;\n",
       "}\n",
       "</style>\n",
       "<small>shape: (369_068, 8)</small><table border=\"1\" class=\"dataframe\"><thead><tr><th>molecule</th><th>bb1</th><th>bb2</th><th>bb3</th><th>scaffold_idx</th><th>ori</th><th>mol_per_scaf</th><th>index</th></tr><tr><td>str</td><td>u16</td><td>u16</td><td>u16</td><td>i64</td><td>i32</td><td>u32</td><td>i64</td></tr></thead><tbody><tr><td>&quot;C#CCOc1cccc(CN…</td><td>1640</td><td>1596</td><td>655</td><td>3852867</td><td>0</td><td>864</td><td>532</td></tr><tr><td>&quot;C#CCOc1cccc(CN…</td><td>1640</td><td>1596</td><td>534</td><td>5500217</td><td>0</td><td>844</td><td>999</td></tr><tr><td>&quot;C#CC[C@@H](CC(…</td><td>1640</td><td>1982</td><td>1799</td><td>5211571</td><td>0</td><td>6116</td><td>1546</td></tr><tr><td>&quot;C#CC[C@@H](CC(…</td><td>1640</td><td>1982</td><td>1908</td><td>4490452</td><td>0</td><td>6116</td><td>1626</td></tr><tr><td>&quot;C#CC[C@@H](CC(…</td><td>1640</td><td>1982</td><td>1688</td><td>4178287</td><td>0</td><td>6116</td><td>1747</td></tr><tr><td>&quot;C#CC[C@@H](CC(…</td><td>1640</td><td>1982</td><td>1299</td><td>2933007</td><td>0</td><td>6116</td><td>1784</td></tr><tr><td>&quot;C#CC[C@@H](CC(…</td><td>1640</td><td>2090</td><td>1961</td><td>3437684</td><td>0</td><td>6116</td><td>1979</td></tr><tr><td>&quot;C#CC[C@@H](CC(…</td><td>1640</td><td>2090</td><td>1081</td><td>5365050</td><td>0</td><td>6116</td><td>2459</td></tr><tr><td>&quot;C#CC[C@@H](CC(…</td><td>1640</td><td>643</td><td>288</td><td>3593302</td><td>0</td><td>960</td><td>3190</td></tr><tr><td>&quot;C#CC[C@@H](CC(…</td><td>1640</td><td>643</td><td>973</td><td>1558961</td><td>0</td><td>1920</td><td>3340</td></tr><tr><td>&hellip;</td><td>&hellip;</td><td>&hellip;</td><td>&hellip;</td><td>&hellip;</td><td>&hellip;</td><td>&hellip;</td><td>&hellip;</td></tr><tr><td>&quot;COC(=O)c1cncc(…</td><td>177</td><td>1158</td><td>1979</td><td>4709603</td><td>1</td><td>489</td><td>98782002</td></tr><tr><td>&quot;CCC(C)(O)CCNc1…</td><td>676</td><td>1242</td><td>959</td><td>1281519</td><td>1</td><td>6116</td><td>98782094</td></tr><tr><td>&quot;Cn1nccc1CN1C[C…</td><td>699</td><td>1478</td><td>1805</td><td>2138821</td><td>1</td><td>4</td><td>98782172</td></tr><tr><td>&quot;O=C(N[Dy])c1nc…</td><td>875</td><td>1527</td><td>585</td><td>902050</td><td>1</td><td>9</td><td>98782600</td></tr><tr><td>&quot;O=C(N[Dy])c1cc…</td><td>493</td><td>1021</td><td>2025</td><td>59334</td><td>1</td><td>443</td><td>98782811</td></tr><tr><td>&quot;COC(=O)c1scc(C…</td><td>1003</td><td>621</td><td>937</td><td>5643208</td><td>1</td><td>582</td><td>98782820</td></tr><tr><td>&quot;O=C(N[Dy])c1cc…</td><td>1457</td><td>567</td><td>2105</td><td>5396213</td><td>1</td><td>2</td><td>98783876</td></tr><tr><td>&quot;Cc1cnc(CNc2nc(…</td><td>2034</td><td>1342</td><td>203</td><td>5617740</td><td>1</td><td>188</td><td>98784146</td></tr><tr><td>&quot;Cc1c(CNc2nc(Nc…</td><td>1493</td><td>626</td><td>1033</td><td>2819886</td><td>1</td><td>2</td><td>98784203</td></tr><tr><td>&quot;CC(=O)c1ccc(C[…</td><td>1174</td><td>115</td><td>1728</td><td>186557</td><td>1</td><td>47</td><td>98784584</td></tr></tbody></table></div>"
      ],
      "text/plain": [
       "shape: (369_068, 8)\n",
       "┌──────────────────────────────┬──────┬──────┬──────┬──────────────┬─────┬──────────────┬──────────┐\n",
       "│ molecule                     ┆ bb1  ┆ bb2  ┆ bb3  ┆ scaffold_idx ┆ ori ┆ mol_per_scaf ┆ index    │\n",
       "│ ---                          ┆ ---  ┆ ---  ┆ ---  ┆ ---          ┆ --- ┆ ---          ┆ ---      │\n",
       "│ str                          ┆ u16  ┆ u16  ┆ u16  ┆ i64          ┆ i32 ┆ u32          ┆ i64      │\n",
       "╞══════════════════════════════╪══════╪══════╪══════╪══════════════╪═════╪══════════════╪══════════╡\n",
       "│ C#CCOc1cccc(CNc2nc(NCC3CCCC( ┆ 1640 ┆ 1596 ┆ 655  ┆ 3852867      ┆ 0   ┆ 864          ┆ 532      │\n",
       "│ C)O3…                        ┆      ┆      ┆      ┆              ┆     ┆              ┆          │\n",
       "│ C#CCOc1cccc(CNc2nc(NCc3nc4c( ┆ 1640 ┆ 1596 ┆ 534  ┆ 5500217      ┆ 0   ┆ 844          ┆ 999      │\n",
       "│ s3)C…                        ┆      ┆      ┆      ┆              ┆     ┆              ┆          │\n",
       "│ C#CC[C@@H](CC(=O)N[Dy])Nc1nc ┆ 1640 ┆ 1982 ┆ 1799 ┆ 5211571      ┆ 0   ┆ 6116         ┆ 1546     │\n",
       "│ (NCC…                        ┆      ┆      ┆      ┆              ┆     ┆              ┆          │\n",
       "│ C#CC[C@@H](CC(=O)N[Dy])Nc1nc ┆ 1640 ┆ 1982 ┆ 1908 ┆ 4490452      ┆ 0   ┆ 6116         ┆ 1626     │\n",
       "│ (NCc…                        ┆      ┆      ┆      ┆              ┆     ┆              ┆          │\n",
       "│ C#CC[C@@H](CC(=O)N[Dy])Nc1nc ┆ 1640 ┆ 1982 ┆ 1688 ┆ 4178287      ┆ 0   ┆ 6116         ┆ 1747     │\n",
       "│ (NCc…                        ┆      ┆      ┆      ┆              ┆     ┆              ┆          │\n",
       "│ C#CC[C@@H](CC(=O)N[Dy])Nc1nc ┆ 1640 ┆ 1982 ┆ 1299 ┆ 2933007      ┆ 0   ┆ 6116         ┆ 1784     │\n",
       "│ (Nc2…                        ┆      ┆      ┆      ┆              ┆     ┆              ┆          │\n",
       "│ C#CC[C@@H](CC(=O)N[Dy])Nc1nc ┆ 1640 ┆ 2090 ┆ 1961 ┆ 3437684      ┆ 0   ┆ 6116         ┆ 1979     │\n",
       "│ (NCc…                        ┆      ┆      ┆      ┆              ┆     ┆              ┆          │\n",
       "│ C#CC[C@@H](CC(=O)N[Dy])Nc1nc ┆ 1640 ┆ 2090 ┆ 1081 ┆ 5365050      ┆ 0   ┆ 6116         ┆ 2459     │\n",
       "│ (Nc2…                        ┆      ┆      ┆      ┆              ┆     ┆              ┆          │\n",
       "│ C#CC[C@@H](CC(=O)N[Dy])Nc1nc ┆ 1640 ┆ 643  ┆ 288  ┆ 3593302      ┆ 0   ┆ 960          ┆ 3190     │\n",
       "│ (NCC…                        ┆      ┆      ┆      ┆              ┆     ┆              ┆          │\n",
       "│ C#CC[C@@H](CC(=O)N[Dy])Nc1nc ┆ 1640 ┆ 643  ┆ 973  ┆ 1558961      ┆ 0   ┆ 1920         ┆ 3340     │\n",
       "│ (NCC…                        ┆      ┆      ┆      ┆              ┆     ┆              ┆          │\n",
       "│ …                            ┆ …    ┆ …    ┆ …    ┆ …            ┆ …   ┆ …            ┆ …        │\n",
       "│ COC(=O)c1cncc(Nc2nc(NCc3nc(- ┆ 177  ┆ 1158 ┆ 1979 ┆ 4709603      ┆ 1   ┆ 489          ┆ 98782002 │\n",
       "│ c4cc…                        ┆      ┆      ┆      ┆              ┆     ┆              ┆          │\n",
       "│ CCC(C)(O)CCNc1nc(Nc2cccc(C(= ┆ 676  ┆ 1242 ┆ 959  ┆ 1281519      ┆ 1   ┆ 6116         ┆ 98782094 │\n",
       "│ O)N[…                        ┆      ┆      ┆      ┆              ┆     ┆              ┆          │\n",
       "│ Cn1nccc1CN1C[C@@H](F)C[C@H]1 ┆ 699  ┆ 1478 ┆ 1805 ┆ 2138821      ┆ 1   ┆ 4            ┆ 98782172 │\n",
       "│ CNc1…                        ┆      ┆      ┆      ┆              ┆     ┆              ┆          │\n",
       "│ O=C(N[Dy])c1nc(Cl)cc(Cl)c1Nc ┆ 875  ┆ 1527 ┆ 585  ┆ 902050       ┆ 1   ┆ 9            ┆ 98782600 │\n",
       "│ 1nc(…                        ┆      ┆      ┆      ┆              ┆     ┆              ┆          │\n",
       "│ O=C(N[Dy])c1ccc(Nc2nc(NCCC3C ┆ 493  ┆ 1021 ┆ 2025 ┆ 59334        ┆ 1   ┆ 443          ┆ 98782811 │\n",
       "│ CCC3…                        ┆      ┆      ┆      ┆              ┆     ┆              ┆          │\n",
       "│ COC(=O)c1scc(C)c1Nc1nc(Nc2cc ┆ 1003 ┆ 621  ┆ 937  ┆ 5643208      ┆ 1   ┆ 582          ┆ 98782820 │\n",
       "│ (OC)…                        ┆      ┆      ┆      ┆              ┆     ┆              ┆          │\n",
       "│ O=C(N[Dy])c1ccc2cc(Nc3nc(NCC ┆ 1457 ┆ 567  ┆ 2105 ┆ 5396213      ┆ 1   ┆ 2            ┆ 98783876 │\n",
       "│ c4cc…                        ┆      ┆      ┆      ┆              ┆     ┆              ┆          │\n",
       "│ Cc1cnc(CNc2nc(NCCn3cnnn3)nc( ┆ 2034 ┆ 1342 ┆ 203  ┆ 5617740      ┆ 1   ┆ 188          ┆ 98784146 │\n",
       "│ N[C@…                        ┆      ┆      ┆      ┆              ┆     ┆              ┆          │\n",
       "│ Cc1c(CNc2nc(Nc3ccc4c(c3)COC4 ┆ 1493 ┆ 626  ┆ 1033 ┆ 2819886      ┆ 1   ┆ 2            ┆ 98784203 │\n",
       "│ =O)n…                        ┆      ┆      ┆      ┆              ┆     ┆              ┆          │\n",
       "│ CC(=O)c1ccc(C[C@H](Nc2nc(NCc ┆ 1174 ┆ 115  ┆ 1728 ┆ 186557       ┆ 1   ┆ 47           ┆ 98784584 │\n",
       "│ 3ccc…                        ┆      ┆      ┆      ┆              ┆     ┆              ┆          │\n",
       "└──────────────────────────────┴──────┴──────┴──────┴──────────────┴─────┴──────────────┴──────────┘"
      ]
     },
     "execution_count": 61,
     "metadata": {},
     "output_type": "execute_result"
    }
   ],
   "source": [
    "test2_df = train1_df[test2_idxs]\n",
    "test2_df"
   ]
  },
  {
   "cell_type": "code",
   "execution_count": 63,
   "id": "f3913f54-f29d-4770-9204-95de98e1ba55",
   "metadata": {},
   "outputs": [
    {
     "data": {
      "text/html": [
       "<div><style>\n",
       ".dataframe > thead > tr,\n",
       ".dataframe > tbody > tr {\n",
       "  text-align: right;\n",
       "  white-space: pre-wrap;\n",
       "}\n",
       "</style>\n",
       "<small>shape: (1, 8)</small><table border=\"1\" class=\"dataframe\"><thead><tr><th>molecule</th><th>bb1</th><th>bb2</th><th>bb3</th><th>scaffold_idx</th><th>ori</th><th>mol_per_scaf</th><th>index</th></tr><tr><td>u32</td><td>u32</td><td>u32</td><td>u32</td><td>u32</td><td>u32</td><td>u32</td><td>u32</td></tr></thead><tbody><tr><td>98784649</td><td>271</td><td>693</td><td>872</td><td>5727781</td><td>2</td><td>2389</td><td>98784649</td></tr></tbody></table></div>"
      ],
      "text/plain": [
       "shape: (1, 8)\n",
       "┌──────────┬─────┬─────┬─────┬──────────────┬─────┬──────────────┬──────────┐\n",
       "│ molecule ┆ bb1 ┆ bb2 ┆ bb3 ┆ scaffold_idx ┆ ori ┆ mol_per_scaf ┆ index    │\n",
       "│ ---      ┆ --- ┆ --- ┆ --- ┆ ---          ┆ --- ┆ ---          ┆ ---      │\n",
       "│ u32      ┆ u32 ┆ u32 ┆ u32 ┆ u32          ┆ u32 ┆ u32          ┆ u32      │\n",
       "╞══════════╪═════╪═════╪═════╪══════════════╪═════╪══════════════╪══════════╡\n",
       "│ 98784649 ┆ 271 ┆ 693 ┆ 872 ┆ 5727781      ┆ 2   ┆ 2389         ┆ 98784649 │\n",
       "└──────────┴─────┴─────┴─────┴──────────────┴─────┴──────────────┴──────────┘"
      ]
     },
     "execution_count": 63,
     "metadata": {},
     "output_type": "execute_result"
    }
   ],
   "source": [
    "train1_df.select(pl.col('*').n_unique())"
   ]
  },
  {
   "cell_type": "code",
   "execution_count": 62,
   "id": "4f18d73f-0c3d-44e1-879d-b6d2308f0a3e",
   "metadata": {},
   "outputs": [
    {
     "data": {
      "text/html": [
       "<div><style>\n",
       ".dataframe > thead > tr,\n",
       ".dataframe > tbody > tr {\n",
       "  text-align: right;\n",
       "  white-space: pre-wrap;\n",
       "}\n",
       "</style>\n",
       "<small>shape: (1, 8)</small><table border=\"1\" class=\"dataframe\"><thead><tr><th>molecule</th><th>bb1</th><th>bb2</th><th>bb3</th><th>scaffold_idx</th><th>ori</th><th>mol_per_scaf</th><th>index</th></tr><tr><td>u32</td><td>u32</td><td>u32</td><td>u32</td><td>u32</td><td>u32</td><td>u32</td><td>u32</td></tr></thead><tbody><tr><td>369068</td><td>271</td><td>693</td><td>872</td><td>218019</td><td>2</td><td>1918</td><td>369068</td></tr></tbody></table></div>"
      ],
      "text/plain": [
       "shape: (1, 8)\n",
       "┌──────────┬─────┬─────┬─────┬──────────────┬─────┬──────────────┬────────┐\n",
       "│ molecule ┆ bb1 ┆ bb2 ┆ bb3 ┆ scaffold_idx ┆ ori ┆ mol_per_scaf ┆ index  │\n",
       "│ ---      ┆ --- ┆ --- ┆ --- ┆ ---          ┆ --- ┆ ---          ┆ ---    │\n",
       "│ u32      ┆ u32 ┆ u32 ┆ u32 ┆ u32          ┆ u32 ┆ u32          ┆ u32    │\n",
       "╞══════════╪═════╪═════╪═════╪══════════════╪═════╪══════════════╪════════╡\n",
       "│ 369068   ┆ 271 ┆ 693 ┆ 872 ┆ 218019       ┆ 2   ┆ 1918         ┆ 369068 │\n",
       "└──────────┴─────┴─────┴─────┴──────────────┴─────┴──────────────┴────────┘"
      ]
     },
     "execution_count": 62,
     "metadata": {},
     "output_type": "execute_result"
    }
   ],
   "source": [
    "test2_df.select(pl.col('*').n_unique())"
   ]
  },
  {
   "cell_type": "code",
   "execution_count": null,
   "id": "2d0ce939-ae18-495e-b810-60fe2f37ed70",
   "metadata": {},
   "outputs": [],
   "source": []
  },
  {
   "cell_type": "code",
   "execution_count": null,
   "id": "c29a400a-0d5c-4eb4-8b17-9606326222ee",
   "metadata": {},
   "outputs": [],
   "source": []
  },
  {
   "cell_type": "code",
   "execution_count": null,
   "id": "cd0cc850-c98f-48bc-a112-e528747e53c3",
   "metadata": {},
   "outputs": [],
   "source": []
  },
  {
   "cell_type": "code",
   "execution_count": 52,
   "id": "f121e0df-7d04-4511-95ff-f1a7fc37eb40",
   "metadata": {},
   "outputs": [
    {
     "data": {
      "text/html": [
       "<div><style>\n",
       ".dataframe > thead > tr,\n",
       ".dataframe > tbody > tr {\n",
       "  text-align: right;\n",
       "  white-space: pre-wrap;\n",
       "}\n",
       "</style>\n",
       "<small>shape: (7, 2)</small><table border=\"1\" class=\"dataframe\"><thead><tr><th>statistic</th><th>value</th></tr><tr><td>str</td><td>f64</td></tr></thead><tbody><tr><td>&quot;count&quot;</td><td>9.9293632e7</td></tr><tr><td>&quot;null_count&quot;</td><td>0.0</td></tr><tr><td>&quot;mean&quot;</td><td>15385.840077</td></tr><tr><td>&quot;std&quot;</td><td>58772.558018</td></tr><tr><td>&quot;min&quot;</td><td>1.0</td></tr><tr><td>&quot;61%&quot;</td><td>960.0</td></tr><tr><td>&quot;max&quot;</td><td>500170.0</td></tr></tbody></table></div>"
      ],
      "text/plain": [
       "shape: (7, 2)\n",
       "┌────────────┬──────────────┐\n",
       "│ statistic  ┆ value        │\n",
       "│ ---        ┆ ---          │\n",
       "│ str        ┆ f64          │\n",
       "╞════════════╪══════════════╡\n",
       "│ count      ┆ 9.9293632e7  │\n",
       "│ null_count ┆ 0.0          │\n",
       "│ mean       ┆ 15385.840077 │\n",
       "│ std        ┆ 58772.558018 │\n",
       "│ min        ┆ 1.0          │\n",
       "│ 61%        ┆ 960.0        │\n",
       "│ max        ┆ 500170.0     │\n",
       "└────────────┴──────────────┘"
      ]
     },
     "execution_count": 52,
     "metadata": {},
     "output_type": "execute_result"
    }
   ],
   "source": [
    "df['mol_per_scaf'].describe(percentiles = [0.61])"
   ]
  },
  {
   "cell_type": "code",
   "execution_count": 45,
   "id": "e2d3a0bb-b0b3-4374-a9c0-547daef2c35e",
   "metadata": {},
   "outputs": [
    {
     "data": {
      "text/plain": [
       "0.6000000000000001"
      ]
     },
     "execution_count": 45,
     "metadata": {},
     "output_type": "execute_result"
    }
   ],
   "source": [
    "0.75 * 0.8"
   ]
  },
  {
   "cell_type": "code",
   "execution_count": null,
   "id": "1479e43f-72ec-4ed6-9f21-c6bd3b841b4f",
   "metadata": {},
   "outputs": [],
   "source": []
  },
  {
   "cell_type": "code",
   "execution_count": null,
   "id": "a97f50f8-80b0-4949-9cda-0cd8c07550d5",
   "metadata": {},
   "outputs": [],
   "source": [
    "# splitter = StratifiedGroupKFold(n_splits=573, shuffle=True, random_state=42)\n",
    "splitter = KFold(n_splits=468, shuffle=True, random_state=42)\n",
    "\n",
    "fold2_meta = {}\n",
    "for i, (tmp_train2_idxs, tmp_test2_idxs) in enumerate(splitter.split(range(len(tmp_train1_df)), range(len(tmp_train1_df)), tmp_train1_df['scaffold_idx'])):\n",
    "    print(f\"Fold {i}:\")\n",
    "    train2_idxs = tmp_train1_df[tmp_train2_idxs, 'index'].to_list()\n",
    "    test2_idxs = tmp_train1_df[tmp_test2_idxs, 'index'].to_list()\n",
    "    print(len(train2_idxs), len(test2_idxs))\n",
    "    fold2_meta[i] = {}\n",
    "    fold2_meta[i]['train'] = train2_idxs\n",
    "    fold2_meta[i]['test'] = test2_idxs\n",
    "    if i >= 9:\n",
    "        break\n",
    "\n",
    "fold2_meta"
   ]
  },
  {
   "cell_type": "code",
   "execution_count": null,
   "id": "708a5ce9-8913-4090-aa32-f10ddd37491f",
   "metadata": {},
   "outputs": [],
   "source": []
  },
  {
   "cell_type": "code",
   "execution_count": null,
   "id": "566c13ad-7a1a-40c9-9447-b1d7e687b2f1",
   "metadata": {},
   "outputs": [],
   "source": []
  },
  {
   "cell_type": "code",
   "execution_count": null,
   "id": "293ce083-279a-4cee-bc0c-8a4a7c6eb095",
   "metadata": {},
   "outputs": [],
   "source": []
  },
  {
   "cell_type": "code",
   "execution_count": null,
   "id": "a8367d4c-6e80-4fb3-b025-8db3fa9cace6",
   "metadata": {},
   "outputs": [],
   "source": []
  },
  {
   "cell_type": "code",
   "execution_count": null,
   "id": "d10829f1-ef2e-4ea7-8206-5a17aa0c2e26",
   "metadata": {},
   "outputs": [],
   "source": []
  },
  {
   "cell_type": "code",
   "execution_count": null,
   "id": "3b5c3661-079d-4d94-856f-e48d6e5d819e",
   "metadata": {},
   "outputs": [],
   "source": []
  },
  {
   "cell_type": "code",
   "execution_count": null,
   "id": "9a81a3d2-6828-48ed-b426-1ed6563dbb0b",
   "metadata": {},
   "outputs": [],
   "source": []
  },
  {
   "cell_type": "code",
   "execution_count": null,
   "id": "b744f6a2-dc0e-4b79-8290-69c5a5476c7a",
   "metadata": {},
   "outputs": [],
   "source": []
  },
  {
   "cell_type": "code",
   "execution_count": null,
   "id": "8ab18acd-3000-423a-ae56-8e0157b2dfcb",
   "metadata": {},
   "outputs": [],
   "source": []
  },
  {
   "cell_type": "code",
   "execution_count": null,
   "id": "7be3c1f1-fa80-4079-80bb-6891830fbc65",
   "metadata": {},
   "outputs": [],
   "source": []
  },
  {
   "cell_type": "code",
   "execution_count": null,
   "id": "4ed66bf1-a8fd-48c7-8434-39ff5eb374c0",
   "metadata": {},
   "outputs": [],
   "source": [
    "def train_test_split(df):\n",
    "    all_bbs = bbs_meta['all_bbs']\n",
    "    \n",
    "    # stage 1: BB-split\n",
    "    # in this stage, we hold out a set of test-only building blocks\n",
    "    test_only_bbs = set(bbs_meta['test_bbs']).difference(bbs_meta['train_bbs'])\n",
    "    print('Number of test only building blocks:', len(test_only_bbs))\n",
    "    test_only_bb_idxs = [all_bbs.index(bb) for bb in test_only_bbs]\n",
    "    train1_df = df.filter(~ (pl.col('bb1').is_in(test_only_bb_idxs) | pl.col('bb2').is_in(test_only_bb_idxs) | pl.col('bb3').is_in(test_only_bb_idxs)))\n",
    "    test1_df = df.filter((pl.col('bb1').is_in(test_only_bb_idxs) | pl.col('bb2').is_in(test_only_bb_idxs) | pl.col('bb3').is_in(test_only_bb_idxs)))\n",
    "\n",
    "    display(train1_df.select(pl.col('*').n_unique()))\n",
    "    display(test1_df.select(pl.col('*').n_unique()))\n",
    "\n",
    "    # stage 2: Scaffold-split\n",
    "    # author may do a Stratified Group split by 'binds' labels as well\n",
    "    # only do split with molecule_per_scaffold between a range [1, 6116] (<=80% of molecules, sorted by molecule_per_scaffold)\n",
    "    # to prevent test include a large number of molecules with same scaffold\n",
    "    \n",
    "    train1_df = train1_df.with_columns(id = list(range(len(train1_df))))\n",
    "    \n",
    "    \n",
    "    \n",
    "    \n",
    "    return train1_df, test1_df\n",
    "\n",
    "\n",
    "train1_df, test1_df = train_test_split(df)"
   ]
  },
  {
   "cell_type": "code",
   "execution_count": null,
   "id": "15d019dd-4a75-4342-9b5d-3ee29c1e4d88",
   "metadata": {},
   "outputs": [],
   "source": []
  },
  {
   "cell_type": "code",
   "execution_count": null,
   "id": "c4fbd77e-fd26-4c61-abd2-f742d00cab09",
   "metadata": {},
   "outputs": [],
   "source": []
  },
  {
   "cell_type": "code",
   "execution_count": null,
   "id": "5ecabefb-220d-45ed-b5a9-450d3cd1f2fc",
   "metadata": {},
   "outputs": [],
   "source": []
  },
  {
   "cell_type": "code",
   "execution_count": null,
   "id": "50f9883e-2bd0-4752-9e8c-961f37200ad8",
   "metadata": {},
   "outputs": [],
   "source": []
  }
 ],
 "metadata": {
  "kernelspec": {
   "display_name": "Python 3 (ipykernel)",
   "language": "python",
   "name": "python3"
  },
  "language_info": {
   "codemirror_mode": {
    "name": "ipython",
    "version": 3
   },
   "file_extension": ".py",
   "mimetype": "text/x-python",
   "name": "python",
   "nbconvert_exporter": "python",
   "pygments_lexer": "ipython3",
   "version": "3.10.13"
  }
 },
 "nbformat": 4,
 "nbformat_minor": 5
}
