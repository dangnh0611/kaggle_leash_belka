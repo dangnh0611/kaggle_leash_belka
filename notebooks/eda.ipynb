{
 "cells": [
  {
   "cell_type": "code",
   "execution_count": 2,
   "id": "be0d243d-e811-4907-9191-e79931d61f8b",
   "metadata": {},
   "outputs": [],
   "source": [
    "import pandas as pd\n",
    "import numpy as np\n",
    "import os\n",
    "import sys\n",
    "import polars as pl\n",
    "import json"
   ]
  },
  {
   "cell_type": "code",
   "execution_count": 3,
   "id": "ea5a7693-777d-4f3b-9799-ab9f59a737a4",
   "metadata": {},
   "outputs": [
    {
     "data": {
      "text/plain": [
       "dict_keys(['train_bbs', 'train_bb1s', 'train_bb2s', 'train_bb3s', 'test_bb1s', 'test_bb2s', 'test_bb3s', 'test_bbs', 'all_bbs'])"
      ]
     },
     "execution_count": 3,
     "metadata": {},
     "output_type": "execute_result"
    }
   ],
   "source": [
    "with open('/home/dangnh36/datasets/competitions/leash_belka/processed/meta/building_blocks.json', 'r') as f:\n",
    "    bbs_meta = json.load(f)\n",
    "bbs_meta.keys()"
   ]
  },
  {
   "cell_type": "code",
   "execution_count": 4,
   "id": "395f7171-2810-481a-ac7b-e35a1d7bd496",
   "metadata": {},
   "outputs": [
    {
     "name": "stderr",
     "output_type": "stream",
     "text": [
      "No normalization for SPS. Feature removed!\n",
      "No normalization for AvgIpc. Feature removed!\n",
      "/opt/conda/lib/python3.10/site-packages/tqdm/auto.py:21: TqdmWarning: IProgress not found. Please update jupyter and ipywidgets. See https://ipywidgets.readthedocs.io/en/stable/user_install.html\n",
      "  from .autonotebook import tqdm as notebook_tqdm\n",
      "Skipped loading some Tensorflow models, missing a dependency. No module named 'tensorflow'\n",
      "\u001b[34m\u001b[1mwandb\u001b[0m: \u001b[33mWARNING\u001b[0m W&B installed but not logged in.  Run `wandb login` or set the WANDB_API_KEY env variable.\n",
      "Skipped loading modules with pytorch-geometric dependency, missing a dependency. No module named 'torch_geometric'\n",
      "Skipped loading modules with pytorch-geometric dependency, missing a dependency. cannot import name 'DMPNN' from 'deepchem.models.torch_models' (/opt/conda/lib/python3.10/site-packages/deepchem/models/torch_models/__init__.py)\n",
      "Skipped loading some Jax models, missing a dependency. No module named 'jax'\n",
      "Skipped loading some PyTorch models, missing a dependency. No module named 'tensorflow'\n"
     ]
    },
    {
     "name": "stdout",
     "output_type": "stream",
     "text": [
      "2110\n",
      "614\n"
     ]
    }
   ],
   "source": [
    "from deepchem.splits.splitters import _generate_scaffold\n",
    "\n",
    "all_bbs = bbs_meta['all_bbs']\n",
    "print(len(all_bbs))\n",
    "all_bb_scaffolds = [_generate_scaffold(e) for e in all_bbs]\n",
    "print(len(set(all_bb_scaffolds)))\n"
   ]
  },
  {
   "cell_type": "code",
   "execution_count": 29,
   "id": "6008b021-6cad-469f-ac03-fc03f1d71238",
   "metadata": {},
   "outputs": [],
   "source": [
    "def analyze_set(s1, s2):\n",
    "    s1 = set(s1)\n",
    "    s2 = set(s2)\n",
    "    overlap = s1.intersection(s2)\n",
    "    diff = s2.difference(s1)\n",
    "    union = s2.union(s1)\n",
    "    print('Len:', len(s1), len(diff), len(s2))\n",
    "    print('Overlap:', len(overlap), len(overlap) / len(union))\n",
    "    print('Test only:', len(diff), len(union), len(diff) / len(union) )\n",
    "\n",
    "\n",
    "def get_scaffolds(l):\n",
    "    return [_generate_scaffold(e) for e in l]"
   ]
  },
  {
   "cell_type": "code",
   "execution_count": 30,
   "id": "d250d350-36f8-436c-a791-6d401fe030d7",
   "metadata": {},
   "outputs": [
    {
     "name": "stdout",
     "output_type": "stream",
     "text": [
      "Len: 271 70 341\n",
      "Overlap: 271 0.7947214076246334\n",
      "Test only: 70 341 0.20527859237536658\n"
     ]
    }
   ],
   "source": [
    "analyze_set(bbs_meta['train_bb1s'], bbs_meta['test_bb1s'])"
   ]
  },
  {
   "cell_type": "code",
   "execution_count": 31,
   "id": "f818b009-fdb5-47c6-8bb7-8deba6755fb4",
   "metadata": {},
   "outputs": [
    {
     "name": "stdout",
     "output_type": "stream",
     "text": [
      "Len: 693 447 1140\n",
      "Overlap: 693 0.6078947368421053\n",
      "Test only: 447 1140 0.39210526315789473\n"
     ]
    }
   ],
   "source": [
    "analyze_set(bbs_meta['train_bb2s'], bbs_meta['test_bb2s'])"
   ]
  },
  {
   "cell_type": "code",
   "execution_count": 32,
   "id": "7972701f-2acc-45ab-9938-2cac22b9a345",
   "metadata": {},
   "outputs": [
    {
     "name": "stdout",
     "output_type": "stream",
     "text": [
      "Len: 872 518 1389\n",
      "Overlap: 871 0.6266187050359712\n",
      "Test only: 518 1390 0.3726618705035971\n"
     ]
    }
   ],
   "source": [
    "analyze_set(bbs_meta['train_bb3s'], bbs_meta['test_bb3s'])"
   ]
  },
  {
   "cell_type": "code",
   "execution_count": null,
   "id": "e41726c4-7b88-41d4-8f25-1fef6462db94",
   "metadata": {},
   "outputs": [],
   "source": []
  },
  {
   "cell_type": "code",
   "execution_count": 33,
   "id": "89f7c4d4-2dce-4002-b04e-1304866c4216",
   "metadata": {},
   "outputs": [
    {
     "name": "stdout",
     "output_type": "stream",
     "text": [
      "Len: 1145 965 2110\n",
      "Overlap: 1145 0.542654028436019\n",
      "Test only: 965 2110 0.45734597156398105\n"
     ]
    }
   ],
   "source": [
    "analyze_set(bbs_meta['train_bbs'], bbs_meta['test_bbs'])"
   ]
  },
  {
   "cell_type": "code",
   "execution_count": null,
   "id": "d6845047-4da1-41c9-b592-83d14b582fc1",
   "metadata": {},
   "outputs": [],
   "source": []
  },
  {
   "cell_type": "code",
   "execution_count": null,
   "id": "41651330-e1a8-4f93-8ca3-3d91810241d9",
   "metadata": {},
   "outputs": [],
   "source": []
  },
  {
   "cell_type": "markdown",
   "id": "79eb3af3-cc7b-4a56-91b7-89cf5fcd303b",
   "metadata": {},
   "source": [
    "# What about scaffolds?"
   ]
  },
  {
   "cell_type": "code",
   "execution_count": 34,
   "id": "e0acd84a-2a15-4ceb-8ac4-0f7248345a5e",
   "metadata": {},
   "outputs": [
    {
     "name": "stdout",
     "output_type": "stream",
     "text": [
      "Len: 62 31 93\n",
      "Overlap: 62 0.6666666666666666\n",
      "Test only: 31 93 0.3333333333333333\n"
     ]
    }
   ],
   "source": [
    "analyze_set(get_scaffolds(bbs_meta['train_bb1s']), get_scaffolds(bbs_meta['test_bb1s']))"
   ]
  },
  {
   "cell_type": "code",
   "execution_count": 35,
   "id": "e8589da3-a3f6-4279-87ca-d4bd3fb681b3",
   "metadata": {},
   "outputs": [
    {
     "name": "stdout",
     "output_type": "stream",
     "text": [
      "Len: 222 134 356\n",
      "Overlap: 222 0.6235955056179775\n",
      "Test only: 134 356 0.37640449438202245\n"
     ]
    }
   ],
   "source": [
    "analyze_set(get_scaffolds(bbs_meta['train_bb2s']), get_scaffolds(bbs_meta['test_bb2s']))"
   ]
  },
  {
   "cell_type": "code",
   "execution_count": 36,
   "id": "12a47b6a-cf1d-4d6e-85b2-b2a1c87c6b72",
   "metadata": {},
   "outputs": [
    {
     "name": "stdout",
     "output_type": "stream",
     "text": [
      "Len: 270 145 414\n",
      "Overlap: 269 0.6481927710843374\n",
      "Test only: 145 415 0.3493975903614458\n"
     ]
    }
   ],
   "source": [
    "analyze_set(get_scaffolds(bbs_meta['train_bb3s']), get_scaffolds(bbs_meta['test_bb3s']))"
   ]
  },
  {
   "cell_type": "code",
   "execution_count": null,
   "id": "50ccb9a8-2651-4af3-ba2c-e56ceca6c0f7",
   "metadata": {},
   "outputs": [],
   "source": [
    "analyze_set(get_scaffolds(set(bb2s).difference(pseu_test_bb2s)), get_scaffolds(pseu_test_bb2s))"
   ]
  },
  {
   "cell_type": "code",
   "execution_count": null,
   "id": "ec717464-1581-4768-96c8-553e8c835ebb",
   "metadata": {},
   "outputs": [],
   "source": []
  },
  {
   "cell_type": "code",
   "execution_count": 37,
   "id": "08f5b18c-9483-4e80-93c9-cf5a39159bb2",
   "metadata": {},
   "outputs": [
    {
     "name": "stdout",
     "output_type": "stream",
     "text": [
      "Len: 332 282 614\n",
      "Overlap: 332 0.5407166123778502\n",
      "Test only: 282 614 0.4592833876221498\n"
     ]
    }
   ],
   "source": [
    "analyze_set(get_scaffolds(bbs_meta['train_bbs']), get_scaffolds(bbs_meta['test_bbs']))"
   ]
  },
  {
   "cell_type": "code",
   "execution_count": 39,
   "id": "2cbefb5b-c9c8-451b-af5b-920ad430539b",
   "metadata": {},
   "outputs": [
    {
     "data": {
      "text/plain": [
       "(70, 447, 518)"
      ]
     },
     "execution_count": 39,
     "metadata": {},
     "output_type": "execute_result"
    }
   ],
   "source": [
    "test_bb1s_only = list(set(bbs_meta['test_bb1s']).difference(bbs_meta['train_bb1s']))\n",
    "test_bb2s_only = list(set(bbs_meta['test_bb2s']).difference(bbs_meta['train_bb2s']))\n",
    "test_bb3s_only = list(set(bbs_meta['test_bb3s']).difference(bbs_meta['train_bb3s']))\n",
    "len(test_bb1s_only), len(test_bb2s_only), len(test_bb3s_only)"
   ]
  },
  {
   "cell_type": "code",
   "execution_count": 41,
   "id": "98db511b-0e55-4ab5-aa1a-9d92cf6b50da",
   "metadata": {},
   "outputs": [
    {
     "data": {
      "text/plain": [
       "965"
      ]
     },
     "execution_count": 41,
     "metadata": {},
     "output_type": "execute_result"
    }
   ],
   "source": [
    "447 + 518"
   ]
  },
  {
   "cell_type": "code",
   "execution_count": 49,
   "id": "c6cf2e4d-1d06-487f-a9fb-3b6cf23740bc",
   "metadata": {},
   "outputs": [
    {
     "data": {
      "text/plain": [
       "(377, 448)"
      ]
     },
     "execution_count": 49,
     "metadata": {},
     "output_type": "execute_result"
    }
   ],
   "source": [
    "447 - 70, 518 - 70"
   ]
  },
  {
   "cell_type": "code",
   "execution_count": 42,
   "id": "f7e558ea-4a97-4aae-8f43-4c87ab9bdd01",
   "metadata": {},
   "outputs": [
    {
     "data": {
      "text/plain": [
       "965"
      ]
     },
     "execution_count": 42,
     "metadata": {},
     "output_type": "execute_result"
    }
   ],
   "source": [
    "len(set(test_bb1s_only + test_bb2s_only + test_bb3s_only))"
   ]
  },
  {
   "cell_type": "code",
   "execution_count": 43,
   "id": "420647c3-1a18-4bb2-9bc9-8640b75045b0",
   "metadata": {},
   "outputs": [
    {
     "data": {
      "text/plain": [
       "70"
      ]
     },
     "execution_count": 43,
     "metadata": {},
     "output_type": "execute_result"
    }
   ],
   "source": [
    "len(set(test_bb2s_only).intersection(set(test_bb3s_only)))"
   ]
  },
  {
   "cell_type": "code",
   "execution_count": 44,
   "id": "c45bf827-f077-40d1-901c-b3c81cf70839",
   "metadata": {},
   "outputs": [
    {
     "data": {
      "text/plain": [
       "0"
      ]
     },
     "execution_count": 44,
     "metadata": {},
     "output_type": "execute_result"
    }
   ],
   "source": [
    "len(set(test_bb1s_only).intersection(set(test_bb2s_only)))"
   ]
  },
  {
   "cell_type": "code",
   "execution_count": 45,
   "id": "b70f2279-cd12-4da9-a91a-c056b3623dc9",
   "metadata": {},
   "outputs": [
    {
     "data": {
      "text/plain": [
       "0"
      ]
     },
     "execution_count": 45,
     "metadata": {},
     "output_type": "execute_result"
    }
   ],
   "source": [
    "len(set(test_bb1s_only).intersection(set(test_bb3s_only)))"
   ]
  },
  {
   "cell_type": "code",
   "execution_count": 47,
   "id": "13197b34-71d6-4545-9009-03ed5747433f",
   "metadata": {},
   "outputs": [
    {
     "data": {
      "text/plain": [
       "140"
      ]
     },
     "execution_count": 47,
     "metadata": {},
     "output_type": "execute_result"
    }
   ],
   "source": [
    "len(set(test_bb2s_only).intersection(set(test_bb3s_only)).union(set(test_bb1s_only)))"
   ]
  },
  {
   "cell_type": "code",
   "execution_count": 50,
   "id": "12a0d71d-ae98-40b0-a8db-d60e7c3c7434",
   "metadata": {},
   "outputs": [
    {
     "data": {
      "text/plain": [
       "1836"
      ]
     },
     "execution_count": 50,
     "metadata": {},
     "output_type": "execute_result"
    }
   ],
   "source": [
    "271 + 693 + 872"
   ]
  },
  {
   "cell_type": "code",
   "execution_count": 51,
   "id": "d351ad16-74d4-4db0-8ff7-dec914bd8bb8",
   "metadata": {},
   "outputs": [
    {
     "data": {
      "text/plain": [
       "0"
      ]
     },
     "execution_count": 51,
     "metadata": {},
     "output_type": "execute_result"
    }
   ],
   "source": [
    "len(set(bbs_meta['train_bb1s']).intersection(set(bbs_meta['train_bb2s'])))"
   ]
  },
  {
   "cell_type": "code",
   "execution_count": 52,
   "id": "fa091b5d-9d31-438b-a0e7-1b21845da6ed",
   "metadata": {},
   "outputs": [
    {
     "data": {
      "text/plain": [
       "0"
      ]
     },
     "execution_count": 52,
     "metadata": {},
     "output_type": "execute_result"
    }
   ],
   "source": [
    "len(set(bbs_meta['train_bb1s']).intersection(set(bbs_meta['train_bb3s'])))"
   ]
  },
  {
   "cell_type": "code",
   "execution_count": 53,
   "id": "afd35edc-6e61-4923-b4b2-034a2ddd82a5",
   "metadata": {},
   "outputs": [
    {
     "data": {
      "text/plain": [
       "691"
      ]
     },
     "execution_count": 53,
     "metadata": {},
     "output_type": "execute_result"
    }
   ],
   "source": [
    "len(set(bbs_meta['train_bb2s']).intersection(set(bbs_meta['train_bb3s'])))"
   ]
  },
  {
   "cell_type": "code",
   "execution_count": 54,
   "id": "3e2e5628-207a-4e40-a93e-0063d80b5dca",
   "metadata": {},
   "outputs": [
    {
     "data": {
      "text/plain": [
       "-691"
      ]
     },
     "execution_count": 54,
     "metadata": {},
     "output_type": "execute_result"
    }
   ],
   "source": [
    "1145 - 1836"
   ]
  },
  {
   "cell_type": "code",
   "execution_count": null,
   "id": "e8c217c3-0a0a-4bf8-a9bf-ec6cf594504e",
   "metadata": {},
   "outputs": [],
   "source": []
  },
  {
   "cell_type": "code",
   "execution_count": null,
   "id": "7e5d51d8-46c0-42dc-9fcb-dabf1d2b4682",
   "metadata": {},
   "outputs": [],
   "source": []
  },
  {
   "cell_type": "code",
   "execution_count": null,
   "id": "ae0c8e49-256d-43b6-a31a-8418dd9fdb3c",
   "metadata": {},
   "outputs": [],
   "source": []
  },
  {
   "cell_type": "code",
   "execution_count": null,
   "id": "9ed88f05-55c6-4c7a-8fa3-36232f9d7534",
   "metadata": {},
   "outputs": [],
   "source": []
  },
  {
   "cell_type": "code",
   "execution_count": null,
   "id": "6fe29af7-7e10-4320-a5a1-f2e3d16260f7",
   "metadata": {},
   "outputs": [],
   "source": []
  },
  {
   "cell_type": "code",
   "execution_count": null,
   "id": "1d2ad2a3-7e54-4b3f-a812-0dadb95ceab5",
   "metadata": {},
   "outputs": [],
   "source": []
  },
  {
   "cell_type": "code",
   "execution_count": null,
   "id": "83a8a071-e1a3-44a2-9f05-e25a88714734",
   "metadata": {},
   "outputs": [],
   "source": []
  },
  {
   "cell_type": "code",
   "execution_count": null,
   "id": "7a624657-6e92-4157-8d27-b9be0fcb42f1",
   "metadata": {},
   "outputs": [],
   "source": []
  },
  {
   "cell_type": "code",
   "execution_count": null,
   "id": "c36969bc-284f-415a-9d8f-8c74cb98f760",
   "metadata": {},
   "outputs": [],
   "source": []
  },
  {
   "cell_type": "code",
   "execution_count": null,
   "id": "82158970-abea-49d5-8a54-522c7f29e949",
   "metadata": {},
   "outputs": [],
   "source": []
  },
  {
   "cell_type": "code",
   "execution_count": null,
   "id": "9a89593a-7350-480f-b2dc-848dfa7093d1",
   "metadata": {},
   "outputs": [],
   "source": []
  },
  {
   "cell_type": "code",
   "execution_count": null,
   "id": "9e927e20-0b40-45f8-9de3-3e1b4494f191",
   "metadata": {},
   "outputs": [],
   "source": []
  },
  {
   "cell_type": "code",
   "execution_count": null,
   "id": "1a6476c1-ada5-40ee-9086-b20208ee277e",
   "metadata": {},
   "outputs": [],
   "source": []
  },
  {
   "cell_type": "code",
   "execution_count": null,
   "id": "ba2314d3-b4ba-4e22-85f1-231572fb6130",
   "metadata": {},
   "outputs": [],
   "source": []
  },
  {
   "cell_type": "code",
   "execution_count": null,
   "id": "6390a14d-c428-4ce2-9ba8-c64e990b32c4",
   "metadata": {},
   "outputs": [],
   "source": []
  }
 ],
 "metadata": {
  "kernelspec": {
   "display_name": "Python 3 (ipykernel)",
   "language": "python",
   "name": "python3"
  },
  "language_info": {
   "codemirror_mode": {
    "name": "ipython",
    "version": 3
   },
   "file_extension": ".py",
   "mimetype": "text/x-python",
   "name": "python",
   "nbconvert_exporter": "python",
   "pygments_lexer": "ipython3",
   "version": "3.10.13"
  }
 },
 "nbformat": 4,
 "nbformat_minor": 5
}
