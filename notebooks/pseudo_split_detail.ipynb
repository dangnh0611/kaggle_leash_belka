{
 "cells": [
  {
   "cell_type": "code",
   "execution_count": 1,
   "id": "83d176e7",
   "metadata": {},
   "outputs": [
    {
     "name": "stderr",
     "output_type": "stream",
     "text": [
      "/tmp/ipykernel_941/3549581206.py:1: DeprecationWarning: \n",
      "Pyarrow will become a required dependency of pandas in the next major release of pandas (pandas 3.0),\n",
      "(to allow more performant data types, such as the Arrow string type, and better interoperability with other libraries)\n",
      "but was not found to be installed on your system.\n",
      "If this would cause problems for you,\n",
      "please provide us feedback at https://github.com/pandas-dev/pandas/issues/54466\n",
      "        \n",
      "  import pandas as pd\n",
      "No normalization for SPS. Feature removed!\n",
      "No normalization for AvgIpc. Feature removed!\n",
      "/opt/conda/lib/python3.10/site-packages/tqdm/auto.py:21: TqdmWarning: IProgress not found. Please update jupyter and ipywidgets. See https://ipywidgets.readthedocs.io/en/stable/user_install.html\n",
      "  from .autonotebook import tqdm as notebook_tqdm\n",
      "Skipped loading some Tensorflow models, missing a dependency. No module named 'tensorflow'\n",
      "\u001b[34m\u001b[1mwandb\u001b[0m: \u001b[33mWARNING\u001b[0m W&B installed but not logged in.  Run `wandb login` or set the WANDB_API_KEY env variable.\n",
      "Skipped loading modules with pytorch-geometric dependency, missing a dependency. No module named 'torch_geometric'\n",
      "Skipped loading modules with pytorch-geometric dependency, missing a dependency. cannot import name 'DMPNN' from 'deepchem.models.torch_models' (/opt/conda/lib/python3.10/site-packages/deepchem/models/torch_models/__init__.py)\n",
      "Skipped loading some Jax models, missing a dependency. No module named 'jax'\n",
      "Skipped loading some PyTorch models, missing a dependency. No module named 'tensorflow'\n"
     ]
    }
   ],
   "source": [
    "import pandas as pd\n",
    "import numpy as np\n",
    "import os\n",
    "import sys\n",
    "import polars as pl\n",
    "import json\n",
    "from joblib import Parallel, delayed\n",
    "import deepchem\n",
    "from tqdm import tqdm\n",
    "import warnings\n",
    "warnings.filterwarnings(\"ignore\")\n",
    "\n",
    "# Configure Polars \n",
    "cfg = pl.Config()\n",
    "cfg.set_tbl_rows(20)\n",
    "cfg.set_tbl_cols(50)\n",
    "from sklearn.model_selection import StratifiedGroupKFold, GroupKFold, KFold, GroupShuffleSplit, ShuffleSplit, StratifiedKFold\n",
    "import gc\n",
    "import random"
   ]
  },
  {
   "cell_type": "code",
   "execution_count": 2,
   "id": "694ddc73",
   "metadata": {},
   "outputs": [],
   "source": [
    "PERCENTILES = [0.01, 0.025, 0.05, 0.1, 0.25, 0.5, 0.75, 0.9, 0.95, 0.975, 0.99]"
   ]
  },
  {
   "cell_type": "code",
   "execution_count": null,
   "id": "22fd5cc3",
   "metadata": {},
   "outputs": [],
   "source": []
  },
  {
   "cell_type": "code",
   "execution_count": 5,
   "id": "e2fbfb5c",
   "metadata": {},
   "outputs": [
    {
     "name": "stdout",
     "output_type": "stream",
     "text": [
      "train_bbs --> 1145\n",
      "train_bb1s --> 271\n",
      "train_bb2s --> 693\n",
      "train_bb3s --> 872\n",
      "test_bb1s --> 341\n",
      "test_bb2s --> 1140\n",
      "test_bb3s --> 1389\n",
      "test_bbs --> 2110\n",
      "all_bbs --> 2110\n"
     ]
    },
    {
     "data": {
      "text/plain": [
       "[None, None, None, None, None, None, None, None, None]"
      ]
     },
     "execution_count": 5,
     "metadata": {},
     "output_type": "execute_result"
    }
   ],
   "source": [
    "with open('/home/dangnh36/datasets/competitions/leash_belka/processed/meta/building_blocks.json', 'r') as f:\n",
    "    bbs_meta = json.load(f)\n",
    "\n",
    "[print(k, '-->', len(v)) for k, v in bbs_meta.items()]"
   ]
  },
  {
   "cell_type": "code",
   "execution_count": 6,
   "id": "50c0e251",
   "metadata": {},
   "outputs": [
    {
     "name": "stdout",
     "output_type": "stream",
     "text": [
      "5971685\n"
     ]
    }
   ],
   "source": [
    "with open('/home/dangnh36/datasets/competitions/leash_belka/processed/meta/scaffolds.json', 'r') as f:\n",
    "    scaffolds = json.load(f)\n",
    "print(len(scaffolds))"
   ]
  },
  {
   "cell_type": "code",
   "execution_count": 7,
   "id": "0a833209",
   "metadata": {},
   "outputs": [
    {
     "name": "stdout",
     "output_type": "stream",
     "text": [
      "8601.91998577118\n"
     ]
    },
    {
     "data": {
      "text/html": [
       "<div><style>\n",
       ".dataframe > thead > tr,\n",
       ".dataframe > tbody > tr {\n",
       "  text-align: right;\n",
       "  white-space: pre-wrap;\n",
       "}\n",
       "</style>\n",
       "<small>shape: (98_415_610, 8)</small><table border=\"1\" class=\"dataframe\"><thead><tr><th>molecule</th><th>bb1</th><th>bb2</th><th>bb3</th><th>BRD4</th><th>HSA</th><th>sEH</th><th>scaffold_idx</th></tr><tr><td>str</td><td>u16</td><td>u16</td><td>u16</td><td>u8</td><td>u8</td><td>u8</td><td>i64</td></tr></thead><tbody><tr><td>&quot;C#CCOc1ccc(CNc…</td><td>1640</td><td>1653</td><td>765</td><td>0</td><td>0</td><td>0</td><td>4283326</td></tr><tr><td>&quot;C#CCOc1ccc(CNc…</td><td>1640</td><td>1653</td><td>205</td><td>0</td><td>0</td><td>0</td><td>4486646</td></tr><tr><td>&quot;C#CCOc1ccc(CNc…</td><td>1640</td><td>1653</td><td>1653</td><td>0</td><td>0</td><td>0</td><td>1015728</td></tr><tr><td>&quot;C#CCOc1ccc(CNc…</td><td>1640</td><td>1653</td><td>146</td><td>0</td><td>0</td><td>0</td><td>5301385</td></tr><tr><td>&quot;C#CCOc1ccc(CNc…</td><td>1640</td><td>1653</td><td>439</td><td>0</td><td>0</td><td>0</td><td>5301385</td></tr><tr><td>&quot;C#CCOc1ccc(CNc…</td><td>1640</td><td>1653</td><td>196</td><td>0</td><td>0</td><td>0</td><td>5301385</td></tr><tr><td>&quot;C#CCOc1ccc(CNc…</td><td>1640</td><td>1653</td><td>253</td><td>0</td><td>0</td><td>0</td><td>5301385</td></tr><tr><td>&quot;C#CCOc1ccc(CNc…</td><td>1640</td><td>1653</td><td>1219</td><td>0</td><td>0</td><td>0</td><td>5301385</td></tr><tr><td>&quot;C#CCOc1ccc(CNc…</td><td>1640</td><td>1653</td><td>604</td><td>0</td><td>0</td><td>0</td><td>543172</td></tr><tr><td>&quot;C#CCOc1ccc(CNc…</td><td>1640</td><td>1653</td><td>121</td><td>0</td><td>0</td><td>0</td><td>2571428</td></tr><tr><td>&hellip;</td><td>&hellip;</td><td>&hellip;</td><td>&hellip;</td><td>&hellip;</td><td>&hellip;</td><td>&hellip;</td><td>&hellip;</td></tr><tr><td>&quot;[N-]=[N+]=NCCC…</td><td>141</td><td>1415</td><td>536</td><td>0</td><td>0</td><td>0</td><td>4068980</td></tr><tr><td>&quot;[N-]=[N+]=NCCC…</td><td>141</td><td>1415</td><td>1367</td><td>0</td><td>0</td><td>0</td><td>2088996</td></tr><tr><td>&quot;[N-]=[N+]=NCCC…</td><td>141</td><td>1415</td><td>329</td><td>0</td><td>0</td><td>0</td><td>3192765</td></tr><tr><td>&quot;[N-]=[N+]=NCCC…</td><td>141</td><td>1415</td><td>757</td><td>0</td><td>0</td><td>0</td><td>4085046</td></tr><tr><td>&quot;[N-]=[N+]=NCCC…</td><td>141</td><td>1415</td><td>335</td><td>0</td><td>0</td><td>0</td><td>4087757</td></tr><tr><td>&quot;[N-]=[N+]=NCCC…</td><td>141</td><td>1415</td><td>1792</td><td>0</td><td>0</td><td>0</td><td>4674025</td></tr><tr><td>&quot;[N-]=[N+]=NCCC…</td><td>141</td><td>1415</td><td>1178</td><td>0</td><td>0</td><td>0</td><td>5240137</td></tr><tr><td>&quot;[N-]=[N+]=NCCC…</td><td>141</td><td>1415</td><td>1699</td><td>0</td><td>0</td><td>0</td><td>5240137</td></tr><tr><td>&quot;[N-]=[N+]=NCCC…</td><td>141</td><td>1415</td><td>1308</td><td>0</td><td>0</td><td>0</td><td>3617024</td></tr><tr><td>&quot;[N-]=[N+]=NCCC…</td><td>141</td><td>1415</td><td>1415</td><td>0</td><td>0</td><td>0</td><td>268351</td></tr></tbody></table></div>"
      ],
      "text/plain": [
       "shape: (98_415_610, 8)\n",
       "┌───────────────────────────────────┬──────┬──────┬──────┬──────┬─────┬─────┬──────────────┐\n",
       "│ molecule                          ┆ bb1  ┆ bb2  ┆ bb3  ┆ BRD4 ┆ HSA ┆ sEH ┆ scaffold_idx │\n",
       "│ ---                               ┆ ---  ┆ ---  ┆ ---  ┆ ---  ┆ --- ┆ --- ┆ ---          │\n",
       "│ str                               ┆ u16  ┆ u16  ┆ u16  ┆ u8   ┆ u8  ┆ u8  ┆ i64          │\n",
       "╞═══════════════════════════════════╪══════╪══════╪══════╪══════╪═════╪═════╪══════════════╡\n",
       "│ C#CCOc1ccc(CNc2nc(NCC3CCCN3c3ccc… ┆ 1640 ┆ 1653 ┆ 765  ┆ 0    ┆ 0   ┆ 0   ┆ 4283326      │\n",
       "│ C#CCOc1ccc(CNc2nc(NCc3cccc(Br)n3… ┆ 1640 ┆ 1653 ┆ 205  ┆ 0    ┆ 0   ┆ 0   ┆ 4486646      │\n",
       "│ C#CCOc1ccc(CNc2nc(NCc3ccc(OCC#C)… ┆ 1640 ┆ 1653 ┆ 1653 ┆ 0    ┆ 0   ┆ 0   ┆ 1015728      │\n",
       "│ C#CCOc1ccc(CNc2nc(NCCNC(=O)C(=C)… ┆ 1640 ┆ 1653 ┆ 146  ┆ 0    ┆ 0   ┆ 0   ┆ 5301385      │\n",
       "│ C#CCOc1ccc(CNc2nc(NCC(=O)NCC=C)n… ┆ 1640 ┆ 1653 ┆ 439  ┆ 0    ┆ 0   ┆ 0   ┆ 5301385      │\n",
       "│ C#CCOc1ccc(CNc2nc(NCC(C)OCC=C)nc… ┆ 1640 ┆ 1653 ┆ 196  ┆ 0    ┆ 0   ┆ 0   ┆ 5301385      │\n",
       "│ C#CCOc1ccc(CNc2nc(NCCCOCC=C)nc(N… ┆ 1640 ┆ 1653 ┆ 253  ┆ 0    ┆ 0   ┆ 0   ┆ 5301385      │\n",
       "│ C#CCOc1ccc(CNc2nc(NCCOCC=C)nc(N[… ┆ 1640 ┆ 1653 ┆ 1219 ┆ 0    ┆ 0   ┆ 0   ┆ 5301385      │\n",
       "│ C#CCOc1ccc(CNc2nc(Nc3cnn(C4CCN(C… ┆ 1640 ┆ 1653 ┆ 604  ┆ 0    ┆ 0   ┆ 0   ┆ 543172       │\n",
       "│ C#CCOc1ccc(CNc2nc(Nc3n[nH]c4c3CN… ┆ 1640 ┆ 1653 ┆ 121  ┆ 0    ┆ 0   ┆ 0   ┆ 2571428      │\n",
       "│ …                                 ┆ …    ┆ …    ┆ …    ┆ …    ┆ …   ┆ …   ┆ …            │\n",
       "│ [N-]=[N+]=NCCC[C@H](Nc1nc(Nc2ncc… ┆ 141  ┆ 1415 ┆ 536  ┆ 0    ┆ 0   ┆ 0   ┆ 4068980      │\n",
       "│ [N-]=[N+]=NCCC[C@H](Nc1nc(Nc2ncn… ┆ 141  ┆ 1415 ┆ 1367 ┆ 0    ┆ 0   ┆ 0   ┆ 2088996      │\n",
       "│ [N-]=[N+]=NCCC[C@H](Nc1nc(Nc2ncn… ┆ 141  ┆ 1415 ┆ 329  ┆ 0    ┆ 0   ┆ 0   ┆ 3192765      │\n",
       "│ [N-]=[N+]=NCCC[C@H](Nc1nc(Nc2noc… ┆ 141  ┆ 1415 ┆ 757  ┆ 0    ┆ 0   ┆ 0   ┆ 4085046      │\n",
       "│ [N-]=[N+]=NCCC[C@H](Nc1nc(Nc2ncn… ┆ 141  ┆ 1415 ┆ 335  ┆ 0    ┆ 0   ┆ 0   ┆ 4087757      │\n",
       "│ [N-]=[N+]=NCCC[C@H](Nc1nc(Nc2noc… ┆ 141  ┆ 1415 ┆ 1792 ┆ 0    ┆ 0   ┆ 0   ┆ 4674025      │\n",
       "│ [N-]=[N+]=NCCC[C@H](Nc1nc(Nc2nnc… ┆ 141  ┆ 1415 ┆ 1178 ┆ 0    ┆ 0   ┆ 0   ┆ 5240137      │\n",
       "│ [N-]=[N+]=NCCC[C@H](Nc1nc(Nc2nnc… ┆ 141  ┆ 1415 ┆ 1699 ┆ 0    ┆ 0   ┆ 0   ┆ 5240137      │\n",
       "│ [N-]=[N+]=NCCC[C@H](Nc1nc(Nc2nnn… ┆ 141  ┆ 1415 ┆ 1308 ┆ 0    ┆ 0   ┆ 0   ┆ 3617024      │\n",
       "│ [N-]=[N+]=NCCC[C@H](Nc1nc(Nc2noc… ┆ 141  ┆ 1415 ┆ 1415 ┆ 0    ┆ 0   ┆ 0   ┆ 268351       │\n",
       "└───────────────────────────────────┴──────┴──────┴──────┴──────┴─────┴─────┴──────────────┘"
      ]
     },
     "execution_count": 7,
     "metadata": {},
     "output_type": "execute_result"
    }
   ],
   "source": [
    "train_scaffolds = pl.scan_csv('/home/dangnh36/datasets/competitions/leash_belka/processed/train_scaffold.csv').collect()\n",
    "train_df = pl.scan_csv('/home/dangnh36/datasets/competitions/leash_belka/processed/train_v2.csv')\\\n",
    "    .select(\n",
    "        pl.col('molecule'),\n",
    "        pl.col('bb1', 'bb2', 'bb3').cast(pl.UInt16),\n",
    "        pl.col('BRD4', 'HSA', 'sEH').cast(pl.UInt8),\n",
    "        scaffold_idx = train_scaffolds['scaffold_idx'],\n",
    "    )\\\n",
    "    .collect()\n",
    "print(train_df.estimated_size('mb'))\n",
    "train_df"
   ]
  },
  {
   "cell_type": "code",
   "execution_count": 8,
   "id": "bfd0f637",
   "metadata": {},
   "outputs": [
    {
     "name": "stdout",
     "output_type": "stream",
     "text": [
      "84.21934127807617\n"
     ]
    },
    {
     "data": {
      "text/html": [
       "<div><style>\n",
       ".dataframe > thead > tr,\n",
       ".dataframe > tbody > tr {\n",
       "  text-align: right;\n",
       "  white-space: pre-wrap;\n",
       "}\n",
       "</style>\n",
       "<small>shape: (878_022, 7)</small><table border=\"1\" class=\"dataframe\"><thead><tr><th>molecule</th><th>id</th><th>bb1</th><th>bb2</th><th>bb3</th><th>protein</th><th>scaffold_idx</th></tr><tr><td>str</td><td>i64</td><td>u16</td><td>u16</td><td>u16</td><td>str</td><td>i64</td></tr></thead><tbody><tr><td>&quot;O=C(N[Dy])[C@@…</td><td>296074963</td><td>689</td><td>878</td><td>46</td><td>&quot;BRD4&quot;</td><td>673725</td></tr><tr><td>&quot;COc1cccc(F)c1C…</td><td>296332256</td><td>189</td><td>777</td><td>1260</td><td>&quot;BRD4&quot;</td><td>2494349</td></tr><tr><td>&quot;Cn1cc(-c2cnc(N…</td><td>296857951</td><td>751</td><td>259</td><td>1252</td><td>&quot;HSA&quot;</td><td>3209794</td></tr><tr><td>&quot;Cc1ccc2c(c1)cc…</td><td>296835810</td><td>1333</td><td>401</td><td>1777</td><td>&quot;HSA&quot;</td><td>3217947</td></tr><tr><td>&quot;O=C(N[Dy])c1cc…</td><td>296133662</td><td>1060</td><td>412</td><td>536</td><td>&quot;BRD4&quot;</td><td>2709445</td></tr><tr><td>&quot;CCCCOc1cc(OC(F…</td><td>296729227</td><td>449</td><td>1885</td><td>157</td><td>&quot;sEH&quot;</td><td>5715082</td></tr><tr><td>&quot;COc1cnc(CNc2nc…</td><td>296552972</td><td>1187</td><td>1023</td><td>1996</td><td>&quot;BRD4&quot;</td><td>5376929</td></tr><tr><td>&quot;Cc1cc(F)ccc1Nc…</td><td>295297464</td><td>349</td><td>1199</td><td>1543</td><td>&quot;BRD4&quot;</td><td>3975886</td></tr><tr><td>&quot;Cc1cccc(Nc2nc(…</td><td>295820338</td><td>14</td><td>249</td><td>420</td><td>&quot;BRD4&quot;</td><td>2484639</td></tr><tr><td>&quot;COC(=O)c1c[nH]…</td><td>296319134</td><td>1022</td><td>2093</td><td>1332</td><td>&quot;BRD4&quot;</td><td>3481448</td></tr><tr><td>&hellip;</td><td>&hellip;</td><td>&hellip;</td><td>&hellip;</td><td>&hellip;</td><td>&hellip;</td><td>&hellip;</td></tr><tr><td>&quot;CC1=NN(c2ccc(C…</td><td>296838441</td><td>1333</td><td>1686</td><td>1293</td><td>&quot;BRD4&quot;</td><td>3615289</td></tr><tr><td>&quot;O=C(N[Dy])[C@@…</td><td>296738152</td><td>449</td><td>1887</td><td>1974</td><td>&quot;BRD4&quot;</td><td>4435449</td></tr><tr><td>&quot;COc1nc2ccccc2c…</td><td>295441029</td><td>516</td><td>1171</td><td>1720</td><td>&quot;sEH&quot;</td><td>3127518</td></tr><tr><td>&quot;Cn1ncc2c(C(=O)…</td><td>296013372</td><td>627</td><td>1388</td><td>1201</td><td>&quot;sEH&quot;</td><td>1707291</td></tr><tr><td>&quot;Cc1cnc(CCNc2nc…</td><td>296144315</td><td>36</td><td>1331</td><td>1707</td><td>&quot;BRD4&quot;</td><td>3342040</td></tr><tr><td>&quot;Cc1c(F)ccc(-c2…</td><td>296883661</td><td>542</td><td>180</td><td>704</td><td>&quot;BRD4&quot;</td><td>1533664</td></tr><tr><td>&quot;CC1(C)Cc2cccc(…</td><td>295476262</td><td>149</td><td>388</td><td>495</td><td>&quot;BRD4&quot;</td><td>4475290</td></tr><tr><td>&quot;O=C(N[Dy])c1cn…</td><td>295428652</td><td>1249</td><td>1698</td><td>1327</td><td>&quot;BRD4&quot;</td><td>3532186</td></tr><tr><td>&quot;COC(=O)c1nccnc…</td><td>295850536</td><td>968</td><td>843</td><td>765</td><td>&quot;BRD4&quot;</td><td>5902612</td></tr><tr><td>&quot;CC(C)Oc1cc(-c2…</td><td>295493516</td><td>1040</td><td>61</td><td>1559</td><td>&quot;sEH&quot;</td><td>3899056</td></tr></tbody></table></div>"
      ],
      "text/plain": [
       "shape: (878_022, 7)\n",
       "┌───────────────────────────────────┬───────────┬──────┬──────┬──────┬─────────┬──────────────┐\n",
       "│ molecule                          ┆ id        ┆ bb1  ┆ bb2  ┆ bb3  ┆ protein ┆ scaffold_idx │\n",
       "│ ---                               ┆ ---       ┆ ---  ┆ ---  ┆ ---  ┆ ---     ┆ ---          │\n",
       "│ str                               ┆ i64       ┆ u16  ┆ u16  ┆ u16  ┆ str     ┆ i64          │\n",
       "╞═══════════════════════════════════╪═══════════╪══════╪══════╪══════╪═════════╪══════════════╡\n",
       "│ O=C(N[Dy])[C@@H](Cc1ccc([N+](=O)… ┆ 296074963 ┆ 689  ┆ 878  ┆ 46   ┆ BRD4    ┆ 673725       │\n",
       "│ COc1cccc(F)c1CNc1nc(NCCNC(N)=O)n… ┆ 296332256 ┆ 189  ┆ 777  ┆ 1260 ┆ BRD4    ┆ 2494349      │\n",
       "│ Cn1cc(-c2cnc(N3CCN(C(=O)C4CCN(C(… ┆ 296857951 ┆ 751  ┆ 259  ┆ 1252 ┆ HSA     ┆ 3209794      │\n",
       "│ Cc1ccc2c(c1)cc(C(=O)N1CCCN(c3ncc… ┆ 296835810 ┆ 1333 ┆ 401  ┆ 1777 ┆ HSA     ┆ 3217947      │\n",
       "│ O=C(N[Dy])c1cc(Br)c(Nc2nc(NCc3no… ┆ 296133662 ┆ 1060 ┆ 412  ┆ 536  ┆ BRD4    ┆ 2709445      │\n",
       "│ CCCCOc1cc(OC(F)(F)F)cc(-c2cc(C3=… ┆ 296729227 ┆ 449  ┆ 1885 ┆ 157  ┆ sEH     ┆ 5715082      │\n",
       "│ COc1cnc(CNc2nc(Nc3ccc(F)c(Cl)c3F… ┆ 296552972 ┆ 1187 ┆ 1023 ┆ 1996 ┆ BRD4    ┆ 5376929      │\n",
       "│ Cc1cc(F)ccc1Nc1nc(Nc2ccc3nccnc3c… ┆ 295297464 ┆ 349  ┆ 1199 ┆ 1543 ┆ BRD4    ┆ 3975886      │\n",
       "│ Cc1cccc(Nc2nc(NCCCn3cnnc3C)nc(NC… ┆ 295820338 ┆ 14   ┆ 249  ┆ 420  ┆ BRD4    ┆ 2484639      │\n",
       "│ COC(=O)c1c[nH]nc1Nc1nc(Nc2ccc([N… ┆ 296319134 ┆ 1022 ┆ 2093 ┆ 1332 ┆ BRD4    ┆ 3481448      │\n",
       "│ …                                 ┆ …         ┆ …    ┆ …    ┆ …    ┆ …       ┆ …            │\n",
       "│ CC1=NN(c2ccc(C(=O)N3CCCN(c4ncc(-… ┆ 296838441 ┆ 1333 ┆ 1686 ┆ 1293 ┆ BRD4    ┆ 3615289      │\n",
       "│ O=C(N[Dy])[C@@H]1C=C(c2ccnc(-c3c… ┆ 296738152 ┆ 449  ┆ 1887 ┆ 1974 ┆ BRD4    ┆ 4435449      │\n",
       "│ COc1nc2ccccc2cc1-c1ccc(C[C@@]2(C… ┆ 295441029 ┆ 516  ┆ 1171 ┆ 1720 ┆ sEH     ┆ 3127518      │\n",
       "│ Cn1ncc2c(C(=O)N[C@@H]3CCN(c4ncc(… ┆ 296013372 ┆ 627  ┆ 1388 ┆ 1201 ┆ sEH     ┆ 1707291      │\n",
       "│ Cc1cnc(CCNc2nc(NCC(C)(C)CCC#N)nc… ┆ 296144315 ┆ 36   ┆ 1331 ┆ 1707 ┆ BRD4    ┆ 3342040      │\n",
       "│ Cc1c(F)ccc(-c2cc(C(=O)N[Dy])cc(N… ┆ 296883661 ┆ 542  ┆ 180  ┆ 704  ┆ BRD4    ┆ 1533664      │\n",
       "│ CC1(C)Cc2cccc(-c3cccc([C@@H]4CN(… ┆ 295476262 ┆ 149  ┆ 388  ┆ 495  ┆ BRD4    ┆ 4475290      │\n",
       "│ O=C(N[Dy])c1cn([C@H]2CCCN(C(=O)c… ┆ 295428652 ┆ 1249 ┆ 1698 ┆ 1327 ┆ BRD4    ┆ 3532186      │\n",
       "│ COC(=O)c1nccnc1Nc1nc(NCC2CCCN2c2… ┆ 295850536 ┆ 968  ┆ 843  ┆ 765  ┆ BRD4    ┆ 5902612      │\n",
       "│ CC(C)Oc1cc(-c2ccnc(O[C@H]3C[C@H]… ┆ 295493516 ┆ 1040 ┆ 61   ┆ 1559 ┆ sEH     ┆ 3899056      │\n",
       "└───────────────────────────────────┴───────────┴──────┴──────┴──────┴─────────┴──────────────┘"
      ]
     },
     "execution_count": 8,
     "metadata": {},
     "output_type": "execute_result"
    }
   ],
   "source": [
    "test_scaffolds = pl.scan_csv('/home/dangnh36/datasets/competitions/leash_belka/processed/test_scaffold.csv').collect()\n",
    "test_df = pl.scan_csv('/home/dangnh36/datasets/competitions/leash_belka/processed/test_v2.csv')\\\n",
    "    .select(\n",
    "        pl.col('id','molecule'),\n",
    "        pl.col('bb1', 'bb2', 'bb3').cast(pl.UInt16),\n",
    "        pl.col('protein'),\n",
    "        scaffold_idx = test_scaffolds['scaffold_idx']\n",
    "    ).group_by('molecule').first().collect()\n",
    "print(test_df.estimated_size('mb'))\n",
    "test_df"
   ]
  },
  {
   "cell_type": "code",
   "execution_count": null,
   "id": "d9a03085",
   "metadata": {},
   "outputs": [],
   "source": []
  },
  {
   "cell_type": "code",
   "execution_count": 9,
   "id": "cf6d2d5b",
   "metadata": {},
   "outputs": [
    {
     "data": {
      "text/html": [
       "<div><style>\n",
       ".dataframe > thead > tr,\n",
       ".dataframe > tbody > tr {\n",
       "  text-align: right;\n",
       "  white-space: pre-wrap;\n",
       "}\n",
       "</style>\n",
       "<small>shape: (99_293_632, 7)</small><table border=\"1\" class=\"dataframe\"><thead><tr><th>molecule</th><th>bb1</th><th>bb2</th><th>bb3</th><th>scaffold_idx</th><th>ori</th><th>mol_per_scaf</th></tr><tr><td>str</td><td>u16</td><td>u16</td><td>u16</td><td>i64</td><td>i32</td><td>u32</td></tr></thead><tbody><tr><td>&quot;C#CCOc1ccc(CNc…</td><td>1640</td><td>1653</td><td>765</td><td>4283326</td><td>0</td><td>844</td></tr><tr><td>&quot;C#CCOc1ccc(CNc…</td><td>1640</td><td>1653</td><td>205</td><td>4486646</td><td>0</td><td>9444</td></tr><tr><td>&quot;C#CCOc1ccc(CNc…</td><td>1640</td><td>1653</td><td>1653</td><td>1015728</td><td>0</td><td>9030</td></tr><tr><td>&quot;C#CCOc1ccc(CNc…</td><td>1640</td><td>1653</td><td>146</td><td>5301385</td><td>0</td><td>26814</td></tr><tr><td>&quot;C#CCOc1ccc(CNc…</td><td>1640</td><td>1653</td><td>439</td><td>5301385</td><td>0</td><td>26814</td></tr><tr><td>&quot;C#CCOc1ccc(CNc…</td><td>1640</td><td>1653</td><td>196</td><td>5301385</td><td>0</td><td>26814</td></tr><tr><td>&quot;C#CCOc1ccc(CNc…</td><td>1640</td><td>1653</td><td>253</td><td>5301385</td><td>0</td><td>26814</td></tr><tr><td>&quot;C#CCOc1ccc(CNc…</td><td>1640</td><td>1653</td><td>1219</td><td>5301385</td><td>0</td><td>26814</td></tr><tr><td>&quot;C#CCOc1ccc(CNc…</td><td>1640</td><td>1653</td><td>604</td><td>543172</td><td>0</td><td>844</td></tr><tr><td>&quot;C#CCOc1ccc(CNc…</td><td>1640</td><td>1653</td><td>121</td><td>2571428</td><td>0</td><td>864</td></tr><tr><td>&hellip;</td><td>&hellip;</td><td>&hellip;</td><td>&hellip;</td><td>&hellip;</td><td>&hellip;</td><td>&hellip;</td></tr><tr><td>&quot;CC1=NN(c2ccc(C…</td><td>1333</td><td>1686</td><td>1293</td><td>3615289</td><td>1</td><td>1</td></tr><tr><td>&quot;O=C(N[Dy])[C@@…</td><td>449</td><td>1887</td><td>1974</td><td>4435449</td><td>1</td><td>1</td></tr><tr><td>&quot;COc1nc2ccccc2c…</td><td>516</td><td>1171</td><td>1720</td><td>3127518</td><td>1</td><td>1</td></tr><tr><td>&quot;Cn1ncc2c(C(=O)…</td><td>627</td><td>1388</td><td>1201</td><td>1707291</td><td>1</td><td>17</td></tr><tr><td>&quot;Cc1cnc(CCNc2nc…</td><td>36</td><td>1331</td><td>1707</td><td>3342040</td><td>1</td><td>24464</td></tr><tr><td>&quot;Cc1c(F)ccc(-c2…</td><td>542</td><td>180</td><td>704</td><td>1533664</td><td>1</td><td>42</td></tr><tr><td>&quot;CC1(C)Cc2cccc(…</td><td>149</td><td>388</td><td>495</td><td>4475290</td><td>1</td><td>1</td></tr><tr><td>&quot;O=C(N[Dy])c1cn…</td><td>1249</td><td>1698</td><td>1327</td><td>3532186</td><td>1</td><td>1</td></tr><tr><td>&quot;COC(=O)c1nccnc…</td><td>968</td><td>843</td><td>765</td><td>5902612</td><td>1</td><td>15</td></tr><tr><td>&quot;CC(C)Oc1cc(-c2…</td><td>1040</td><td>61</td><td>1559</td><td>3899056</td><td>1</td><td>16</td></tr></tbody></table></div>"
      ],
      "text/plain": [
       "shape: (99_293_632, 7)\n",
       "┌───────────────────────────────────┬──────┬──────┬──────┬──────────────┬─────┬──────────────┐\n",
       "│ molecule                          ┆ bb1  ┆ bb2  ┆ bb3  ┆ scaffold_idx ┆ ori ┆ mol_per_scaf │\n",
       "│ ---                               ┆ ---  ┆ ---  ┆ ---  ┆ ---          ┆ --- ┆ ---          │\n",
       "│ str                               ┆ u16  ┆ u16  ┆ u16  ┆ i64          ┆ i32 ┆ u32          │\n",
       "╞═══════════════════════════════════╪══════╪══════╪══════╪══════════════╪═════╪══════════════╡\n",
       "│ C#CCOc1ccc(CNc2nc(NCC3CCCN3c3ccc… ┆ 1640 ┆ 1653 ┆ 765  ┆ 4283326      ┆ 0   ┆ 844          │\n",
       "│ C#CCOc1ccc(CNc2nc(NCc3cccc(Br)n3… ┆ 1640 ┆ 1653 ┆ 205  ┆ 4486646      ┆ 0   ┆ 9444         │\n",
       "│ C#CCOc1ccc(CNc2nc(NCc3ccc(OCC#C)… ┆ 1640 ┆ 1653 ┆ 1653 ┆ 1015728      ┆ 0   ┆ 9030         │\n",
       "│ C#CCOc1ccc(CNc2nc(NCCNC(=O)C(=C)… ┆ 1640 ┆ 1653 ┆ 146  ┆ 5301385      ┆ 0   ┆ 26814        │\n",
       "│ C#CCOc1ccc(CNc2nc(NCC(=O)NCC=C)n… ┆ 1640 ┆ 1653 ┆ 439  ┆ 5301385      ┆ 0   ┆ 26814        │\n",
       "│ C#CCOc1ccc(CNc2nc(NCC(C)OCC=C)nc… ┆ 1640 ┆ 1653 ┆ 196  ┆ 5301385      ┆ 0   ┆ 26814        │\n",
       "│ C#CCOc1ccc(CNc2nc(NCCCOCC=C)nc(N… ┆ 1640 ┆ 1653 ┆ 253  ┆ 5301385      ┆ 0   ┆ 26814        │\n",
       "│ C#CCOc1ccc(CNc2nc(NCCOCC=C)nc(N[… ┆ 1640 ┆ 1653 ┆ 1219 ┆ 5301385      ┆ 0   ┆ 26814        │\n",
       "│ C#CCOc1ccc(CNc2nc(Nc3cnn(C4CCN(C… ┆ 1640 ┆ 1653 ┆ 604  ┆ 543172       ┆ 0   ┆ 844          │\n",
       "│ C#CCOc1ccc(CNc2nc(Nc3n[nH]c4c3CN… ┆ 1640 ┆ 1653 ┆ 121  ┆ 2571428      ┆ 0   ┆ 864          │\n",
       "│ …                                 ┆ …    ┆ …    ┆ …    ┆ …            ┆ …   ┆ …            │\n",
       "│ CC1=NN(c2ccc(C(=O)N3CCCN(c4ncc(-… ┆ 1333 ┆ 1686 ┆ 1293 ┆ 3615289      ┆ 1   ┆ 1            │\n",
       "│ O=C(N[Dy])[C@@H]1C=C(c2ccnc(-c3c… ┆ 449  ┆ 1887 ┆ 1974 ┆ 4435449      ┆ 1   ┆ 1            │\n",
       "│ COc1nc2ccccc2cc1-c1ccc(C[C@@]2(C… ┆ 516  ┆ 1171 ┆ 1720 ┆ 3127518      ┆ 1   ┆ 1            │\n",
       "│ Cn1ncc2c(C(=O)N[C@@H]3CCN(c4ncc(… ┆ 627  ┆ 1388 ┆ 1201 ┆ 1707291      ┆ 1   ┆ 17           │\n",
       "│ Cc1cnc(CCNc2nc(NCC(C)(C)CCC#N)nc… ┆ 36   ┆ 1331 ┆ 1707 ┆ 3342040      ┆ 1   ┆ 24464        │\n",
       "│ Cc1c(F)ccc(-c2cc(C(=O)N[Dy])cc(N… ┆ 542  ┆ 180  ┆ 704  ┆ 1533664      ┆ 1   ┆ 42           │\n",
       "│ CC1(C)Cc2cccc(-c3cccc([C@@H]4CN(… ┆ 149  ┆ 388  ┆ 495  ┆ 4475290      ┆ 1   ┆ 1            │\n",
       "│ O=C(N[Dy])c1cn([C@H]2CCCN(C(=O)c… ┆ 1249 ┆ 1698 ┆ 1327 ┆ 3532186      ┆ 1   ┆ 1            │\n",
       "│ COC(=O)c1nccnc1Nc1nc(NCC2CCCN2c2… ┆ 968  ┆ 843  ┆ 765  ┆ 5902612      ┆ 1   ┆ 15           │\n",
       "│ CC(C)Oc1cc(-c2ccnc(O[C@H]3C[C@H]… ┆ 1040 ┆ 61   ┆ 1559 ┆ 3899056      ┆ 1   ┆ 16           │\n",
       "└───────────────────────────────────┴──────┴──────┴──────┴──────────────┴─────┴──────────────┘"
      ]
     },
     "execution_count": 9,
     "metadata": {},
     "output_type": "execute_result"
    }
   ],
   "source": [
    "df = pl.concat([train_df.select(pl.col('molecule', 'bb1', 'bb2', 'bb3', 'scaffold_idx'), ori=pl.lit(0)),\n",
    "                test_df.select(pl.col('molecule', 'bb1', 'bb2', 'bb3', 'scaffold_idx'), ori= pl.lit(1))])\n",
    "df = df.with_columns(\n",
    "    pl.col('molecule').count().over('scaffold_idx').alias('mol_per_scaf')\n",
    ")\n",
    "\n",
    "df"
   ]
  },
  {
   "cell_type": "code",
   "execution_count": 10,
   "id": "ec3f391c",
   "metadata": {},
   "outputs": [
    {
     "data": {
      "text/plain": [
       "['molecule', 'bb1', 'bb2', 'bb3', 'BRD4', 'HSA', 'sEH', 'scaffold_idx']"
      ]
     },
     "execution_count": 10,
     "metadata": {},
     "output_type": "execute_result"
    }
   ],
   "source": [
    "train_df.columns"
   ]
  },
  {
   "cell_type": "code",
   "execution_count": 11,
   "id": "acfdfe7b",
   "metadata": {},
   "outputs": [
    {
     "data": {
      "text/html": [
       "<div><style>\n",
       ".dataframe > thead > tr,\n",
       ".dataframe > tbody > tr {\n",
       "  text-align: right;\n",
       "  white-space: pre-wrap;\n",
       "}\n",
       "</style>\n",
       "<small>shape: (98_415_610, 9)</small><table border=\"1\" class=\"dataframe\"><thead><tr><th>molecule</th><th>bb1</th><th>bb2</th><th>bb3</th><th>BRD4</th><th>HSA</th><th>sEH</th><th>scaffold_idx</th><th>mol_per_scaf</th></tr><tr><td>str</td><td>u16</td><td>u16</td><td>u16</td><td>u8</td><td>u8</td><td>u8</td><td>i64</td><td>u32</td></tr></thead><tbody><tr><td>&quot;C#CCOc1ccc(CNc…</td><td>1640</td><td>1653</td><td>765</td><td>0</td><td>0</td><td>0</td><td>4283326</td><td>844</td></tr><tr><td>&quot;C#CCOc1ccc(CNc…</td><td>1640</td><td>1653</td><td>205</td><td>0</td><td>0</td><td>0</td><td>4486646</td><td>9444</td></tr><tr><td>&quot;C#CCOc1ccc(CNc…</td><td>1640</td><td>1653</td><td>1653</td><td>0</td><td>0</td><td>0</td><td>1015728</td><td>9030</td></tr><tr><td>&quot;C#CCOc1ccc(CNc…</td><td>1640</td><td>1653</td><td>146</td><td>0</td><td>0</td><td>0</td><td>5301385</td><td>26814</td></tr><tr><td>&quot;C#CCOc1ccc(CNc…</td><td>1640</td><td>1653</td><td>439</td><td>0</td><td>0</td><td>0</td><td>5301385</td><td>26814</td></tr><tr><td>&quot;C#CCOc1ccc(CNc…</td><td>1640</td><td>1653</td><td>196</td><td>0</td><td>0</td><td>0</td><td>5301385</td><td>26814</td></tr><tr><td>&quot;C#CCOc1ccc(CNc…</td><td>1640</td><td>1653</td><td>253</td><td>0</td><td>0</td><td>0</td><td>5301385</td><td>26814</td></tr><tr><td>&quot;C#CCOc1ccc(CNc…</td><td>1640</td><td>1653</td><td>1219</td><td>0</td><td>0</td><td>0</td><td>5301385</td><td>26814</td></tr><tr><td>&quot;C#CCOc1ccc(CNc…</td><td>1640</td><td>1653</td><td>604</td><td>0</td><td>0</td><td>0</td><td>543172</td><td>844</td></tr><tr><td>&quot;C#CCOc1ccc(CNc…</td><td>1640</td><td>1653</td><td>121</td><td>0</td><td>0</td><td>0</td><td>2571428</td><td>864</td></tr><tr><td>&hellip;</td><td>&hellip;</td><td>&hellip;</td><td>&hellip;</td><td>&hellip;</td><td>&hellip;</td><td>&hellip;</td><td>&hellip;</td><td>&hellip;</td></tr><tr><td>&quot;[N-]=[N+]=NCCC…</td><td>141</td><td>1415</td><td>536</td><td>0</td><td>0</td><td>0</td><td>4068980</td><td>276</td></tr><tr><td>&quot;[N-]=[N+]=NCCC…</td><td>141</td><td>1415</td><td>1367</td><td>0</td><td>0</td><td>0</td><td>2088996</td><td>20</td></tr><tr><td>&quot;[N-]=[N+]=NCCC…</td><td>141</td><td>1415</td><td>329</td><td>0</td><td>0</td><td>0</td><td>3192765</td><td>260</td></tr><tr><td>&quot;[N-]=[N+]=NCCC…</td><td>141</td><td>1415</td><td>757</td><td>0</td><td>0</td><td>0</td><td>4085046</td><td>20</td></tr><tr><td>&quot;[N-]=[N+]=NCCC…</td><td>141</td><td>1415</td><td>335</td><td>0</td><td>0</td><td>0</td><td>4087757</td><td>20</td></tr><tr><td>&quot;[N-]=[N+]=NCCC…</td><td>141</td><td>1415</td><td>1792</td><td>0</td><td>0</td><td>0</td><td>4674025</td><td>20</td></tr><tr><td>&quot;[N-]=[N+]=NCCC…</td><td>141</td><td>1415</td><td>1178</td><td>0</td><td>0</td><td>0</td><td>5240137</td><td>60</td></tr><tr><td>&quot;[N-]=[N+]=NCCC…</td><td>141</td><td>1415</td><td>1699</td><td>0</td><td>0</td><td>0</td><td>5240137</td><td>60</td></tr><tr><td>&quot;[N-]=[N+]=NCCC…</td><td>141</td><td>1415</td><td>1308</td><td>0</td><td>0</td><td>0</td><td>3617024</td><td>20</td></tr><tr><td>&quot;[N-]=[N+]=NCCC…</td><td>141</td><td>1415</td><td>1415</td><td>0</td><td>0</td><td>0</td><td>268351</td><td>20</td></tr></tbody></table></div>"
      ],
      "text/plain": [
       "shape: (98_415_610, 9)\n",
       "┌────────────────────────────┬──────┬──────┬──────┬──────┬─────┬─────┬──────────────┬──────────────┐\n",
       "│ molecule                   ┆ bb1  ┆ bb2  ┆ bb3  ┆ BRD4 ┆ HSA ┆ sEH ┆ scaffold_idx ┆ mol_per_scaf │\n",
       "│ ---                        ┆ ---  ┆ ---  ┆ ---  ┆ ---  ┆ --- ┆ --- ┆ ---          ┆ ---          │\n",
       "│ str                        ┆ u16  ┆ u16  ┆ u16  ┆ u8   ┆ u8  ┆ u8  ┆ i64          ┆ u32          │\n",
       "╞════════════════════════════╪══════╪══════╪══════╪══════╪═════╪═════╪══════════════╪══════════════╡\n",
       "│ C#CCOc1ccc(CNc2nc(NCC3CCCN ┆ 1640 ┆ 1653 ┆ 765  ┆ 0    ┆ 0   ┆ 0   ┆ 4283326      ┆ 844          │\n",
       "│ 3c3ccc…                    ┆      ┆      ┆      ┆      ┆     ┆     ┆              ┆              │\n",
       "│ C#CCOc1ccc(CNc2nc(NCc3cccc ┆ 1640 ┆ 1653 ┆ 205  ┆ 0    ┆ 0   ┆ 0   ┆ 4486646      ┆ 9444         │\n",
       "│ (Br)n3…                    ┆      ┆      ┆      ┆      ┆     ┆     ┆              ┆              │\n",
       "│ C#CCOc1ccc(CNc2nc(NCc3ccc( ┆ 1640 ┆ 1653 ┆ 1653 ┆ 0    ┆ 0   ┆ 0   ┆ 1015728      ┆ 9030         │\n",
       "│ OCC#C)…                    ┆      ┆      ┆      ┆      ┆     ┆     ┆              ┆              │\n",
       "│ C#CCOc1ccc(CNc2nc(NCCNC(=O ┆ 1640 ┆ 1653 ┆ 146  ┆ 0    ┆ 0   ┆ 0   ┆ 5301385      ┆ 26814        │\n",
       "│ )C(=C)…                    ┆      ┆      ┆      ┆      ┆     ┆     ┆              ┆              │\n",
       "│ C#CCOc1ccc(CNc2nc(NCC(=O)N ┆ 1640 ┆ 1653 ┆ 439  ┆ 0    ┆ 0   ┆ 0   ┆ 5301385      ┆ 26814        │\n",
       "│ CC=C)n…                    ┆      ┆      ┆      ┆      ┆     ┆     ┆              ┆              │\n",
       "│ C#CCOc1ccc(CNc2nc(NCC(C)OC ┆ 1640 ┆ 1653 ┆ 196  ┆ 0    ┆ 0   ┆ 0   ┆ 5301385      ┆ 26814        │\n",
       "│ C=C)nc…                    ┆      ┆      ┆      ┆      ┆     ┆     ┆              ┆              │\n",
       "│ C#CCOc1ccc(CNc2nc(NCCCOCC= ┆ 1640 ┆ 1653 ┆ 253  ┆ 0    ┆ 0   ┆ 0   ┆ 5301385      ┆ 26814        │\n",
       "│ C)nc(N…                    ┆      ┆      ┆      ┆      ┆     ┆     ┆              ┆              │\n",
       "│ C#CCOc1ccc(CNc2nc(NCCOCC=C ┆ 1640 ┆ 1653 ┆ 1219 ┆ 0    ┆ 0   ┆ 0   ┆ 5301385      ┆ 26814        │\n",
       "│ )nc(N[…                    ┆      ┆      ┆      ┆      ┆     ┆     ┆              ┆              │\n",
       "│ C#CCOc1ccc(CNc2nc(Nc3cnn(C ┆ 1640 ┆ 1653 ┆ 604  ┆ 0    ┆ 0   ┆ 0   ┆ 543172       ┆ 844          │\n",
       "│ 4CCN(C…                    ┆      ┆      ┆      ┆      ┆     ┆     ┆              ┆              │\n",
       "│ C#CCOc1ccc(CNc2nc(Nc3n[nH] ┆ 1640 ┆ 1653 ┆ 121  ┆ 0    ┆ 0   ┆ 0   ┆ 2571428      ┆ 864          │\n",
       "│ c4c3CN…                    ┆      ┆      ┆      ┆      ┆     ┆     ┆              ┆              │\n",
       "│ …                          ┆ …    ┆ …    ┆ …    ┆ …    ┆ …   ┆ …   ┆ …            ┆ …            │\n",
       "│ [N-]=[N+]=NCCC[C@H](Nc1nc( ┆ 141  ┆ 1415 ┆ 536  ┆ 0    ┆ 0   ┆ 0   ┆ 4068980      ┆ 276          │\n",
       "│ Nc2ncc…                    ┆      ┆      ┆      ┆      ┆     ┆     ┆              ┆              │\n",
       "│ [N-]=[N+]=NCCC[C@H](Nc1nc( ┆ 141  ┆ 1415 ┆ 1367 ┆ 0    ┆ 0   ┆ 0   ┆ 2088996      ┆ 20           │\n",
       "│ Nc2ncn…                    ┆      ┆      ┆      ┆      ┆     ┆     ┆              ┆              │\n",
       "│ [N-]=[N+]=NCCC[C@H](Nc1nc( ┆ 141  ┆ 1415 ┆ 329  ┆ 0    ┆ 0   ┆ 0   ┆ 3192765      ┆ 260          │\n",
       "│ Nc2ncn…                    ┆      ┆      ┆      ┆      ┆     ┆     ┆              ┆              │\n",
       "│ [N-]=[N+]=NCCC[C@H](Nc1nc( ┆ 141  ┆ 1415 ┆ 757  ┆ 0    ┆ 0   ┆ 0   ┆ 4085046      ┆ 20           │\n",
       "│ Nc2noc…                    ┆      ┆      ┆      ┆      ┆     ┆     ┆              ┆              │\n",
       "│ [N-]=[N+]=NCCC[C@H](Nc1nc( ┆ 141  ┆ 1415 ┆ 335  ┆ 0    ┆ 0   ┆ 0   ┆ 4087757      ┆ 20           │\n",
       "│ Nc2ncn…                    ┆      ┆      ┆      ┆      ┆     ┆     ┆              ┆              │\n",
       "│ [N-]=[N+]=NCCC[C@H](Nc1nc( ┆ 141  ┆ 1415 ┆ 1792 ┆ 0    ┆ 0   ┆ 0   ┆ 4674025      ┆ 20           │\n",
       "│ Nc2noc…                    ┆      ┆      ┆      ┆      ┆     ┆     ┆              ┆              │\n",
       "│ [N-]=[N+]=NCCC[C@H](Nc1nc( ┆ 141  ┆ 1415 ┆ 1178 ┆ 0    ┆ 0   ┆ 0   ┆ 5240137      ┆ 60           │\n",
       "│ Nc2nnc…                    ┆      ┆      ┆      ┆      ┆     ┆     ┆              ┆              │\n",
       "│ [N-]=[N+]=NCCC[C@H](Nc1nc( ┆ 141  ┆ 1415 ┆ 1699 ┆ 0    ┆ 0   ┆ 0   ┆ 5240137      ┆ 60           │\n",
       "│ Nc2nnc…                    ┆      ┆      ┆      ┆      ┆     ┆     ┆              ┆              │\n",
       "│ [N-]=[N+]=NCCC[C@H](Nc1nc( ┆ 141  ┆ 1415 ┆ 1308 ┆ 0    ┆ 0   ┆ 0   ┆ 3617024      ┆ 20           │\n",
       "│ Nc2nnn…                    ┆      ┆      ┆      ┆      ┆     ┆     ┆              ┆              │\n",
       "│ [N-]=[N+]=NCCC[C@H](Nc1nc( ┆ 141  ┆ 1415 ┆ 1415 ┆ 0    ┆ 0   ┆ 0   ┆ 268351       ┆ 20           │\n",
       "│ Nc2noc…                    ┆      ┆      ┆      ┆      ┆     ┆     ┆              ┆              │\n",
       "└────────────────────────────┴──────┴──────┴──────┴──────┴─────┴─────┴──────────────┴──────────────┘"
      ]
     },
     "execution_count": 11,
     "metadata": {},
     "output_type": "execute_result"
    }
   ],
   "source": [
    "train_df = train_df.with_columns(mol_per_scaf = df.filter(pl.col('ori') == 0)['mol_per_scaf'])\n",
    "train_df"
   ]
  },
  {
   "cell_type": "code",
   "execution_count": 12,
   "id": "5e9d114a",
   "metadata": {},
   "outputs": [
    {
     "data": {
      "text/html": [
       "<div><style>\n",
       ".dataframe > thead > tr,\n",
       ".dataframe > tbody > tr {\n",
       "  text-align: right;\n",
       "  white-space: pre-wrap;\n",
       "}\n",
       "</style>\n",
       "<small>shape: (1, 10)</small><table border=\"1\" class=\"dataframe\"><thead><tr><th>molecule</th><th>bb1</th><th>bb2</th><th>bb3</th><th>BRD4</th><th>HSA</th><th>sEH</th><th>scaffold_idx</th><th>mol_per_scaf</th><th>label</th></tr><tr><td>u32</td><td>u32</td><td>u32</td><td>u32</td><td>u32</td><td>u32</td><td>u32</td><td>u32</td><td>u32</td><td>u32</td></tr></thead><tbody><tr><td>98415610</td><td>271</td><td>693</td><td>872</td><td>2</td><td>2</td><td>2</td><td>5711873</td><td>2388</td><td>8</td></tr></tbody></table></div>"
      ],
      "text/plain": [
       "shape: (1, 10)\n",
       "┌──────────┬─────┬─────┬─────┬──────┬─────┬─────┬──────────────┬──────────────┬───────┐\n",
       "│ molecule ┆ bb1 ┆ bb2 ┆ bb3 ┆ BRD4 ┆ HSA ┆ sEH ┆ scaffold_idx ┆ mol_per_scaf ┆ label │\n",
       "│ ---      ┆ --- ┆ --- ┆ --- ┆ ---  ┆ --- ┆ --- ┆ ---          ┆ ---          ┆ ---   │\n",
       "│ u32      ┆ u32 ┆ u32 ┆ u32 ┆ u32  ┆ u32 ┆ u32 ┆ u32          ┆ u32          ┆ u32   │\n",
       "╞══════════╪═════╪═════╪═════╪══════╪═════╪═════╪══════════════╪══════════════╪═══════╡\n",
       "│ 98415610 ┆ 271 ┆ 693 ┆ 872 ┆ 2    ┆ 2   ┆ 2   ┆ 5711873      ┆ 2388         ┆ 8     │\n",
       "└──────────┴─────┴─────┴─────┴──────┴─────┴─────┴──────────────┴──────────────┴───────┘"
      ]
     },
     "execution_count": 12,
     "metadata": {},
     "output_type": "execute_result"
    }
   ],
   "source": [
    "train_df = train_df.with_columns((pl.col('BRD4') * 4 + pl.col('HSA') * 2 + pl.col('sEH')).alias('label'))\n",
    "train_df.select(pl.n_unique('*'))"
   ]
  },
  {
   "cell_type": "code",
   "execution_count": null,
   "id": "89926ad4",
   "metadata": {},
   "outputs": [],
   "source": []
  },
  {
   "cell_type": "code",
   "execution_count": null,
   "id": "421caaa6",
   "metadata": {},
   "outputs": [],
   "source": []
  },
  {
   "cell_type": "code",
   "execution_count": null,
   "id": "c1fc7bdb",
   "metadata": {},
   "outputs": [],
   "source": []
  },
  {
   "cell_type": "code",
   "execution_count": 13,
   "id": "4fe3d484",
   "metadata": {},
   "outputs": [
    {
     "data": {
      "text/plain": [
       "11"
      ]
     },
     "execution_count": 13,
     "metadata": {},
     "output_type": "execute_result"
    }
   ],
   "source": [
    "del test_df, train_scaffolds, test_scaffolds\n",
    "gc.collect()"
   ]
  },
  {
   "cell_type": "code",
   "execution_count": null,
   "id": "73fec60e",
   "metadata": {},
   "outputs": [],
   "source": []
  },
  {
   "cell_type": "code",
   "execution_count": null,
   "id": "229c3ab9",
   "metadata": {},
   "outputs": [],
   "source": []
  },
  {
   "cell_type": "code",
   "execution_count": null,
   "id": "eb86bec1",
   "metadata": {},
   "outputs": [],
   "source": []
  },
  {
   "cell_type": "code",
   "execution_count": null,
   "id": "63311306",
   "metadata": {},
   "outputs": [],
   "source": []
  },
  {
   "cell_type": "code",
   "execution_count": null,
   "id": "96423c1f",
   "metadata": {},
   "outputs": [],
   "source": []
  },
  {
   "cell_type": "code",
   "execution_count": null,
   "id": "3704bb3c",
   "metadata": {},
   "outputs": [],
   "source": [
    "1 / 500, 1/468"
   ]
  },
  {
   "cell_type": "code",
   "execution_count": 15,
   "id": "15e8a46a",
   "metadata": {},
   "outputs": [],
   "source": [
    "def train_test_split(df, test_only_bb_idxs, train_only_bb_idxs = None, random_state = 42):\n",
    "\n",
    "    # 369_039 is estimated number of overlapped-BB samples for real test set (the remaining 508_983 is completely non-shared)\n",
    "    stage23_factor = 369_039 / 508_983\n",
    "    \n",
    "    # 158_699 is estimated number of samples from Stage 2 (Scaffold split) for real test set\n",
    "    stage2_factor = 158_699 / 508_983\n",
    "    \n",
    "    all_bbs = bbs_meta['all_bbs']\n",
    "    # subset = 255: UNK\n",
    "    df = df.with_columns(subset = pl.lit(255).cast(pl.UInt8))\n",
    "\n",
    "    # Stage 1: BB-split\n",
    "    # in this stage, we hold out a set of test-only building blocks\n",
    "    print('##### STAGE 1 #####')\n",
    "    print('Number of test-only building blocks:', len(test_only_bb_idxs))\n",
    "\n",
    "    # For pre-defined competition train-test split, & or | is both equivalent\n",
    "    # But for user-defined custom train-test split on train data, it really matters\n",
    "    if train_only_bb_idxs is None:\n",
    "        stage2_df = df.filter(~(pl.col('bb1').is_in(test_only_bb_idxs) | pl.col('bb2').is_in(test_only_bb_idxs) | pl.col('bb3').is_in(test_only_bb_idxs)))\n",
    "    else:\n",
    "        stage2_df = df.filter((pl.col('bb1').is_in(train_only_bb_idxs) & pl.col('bb2').is_in(train_only_bb_idxs) & pl.col('bb3').is_in(train_only_bb_idxs)))\n",
    "    test1_df = df.filter(\n",
    "        (pl.col('bb1').is_in(test_only_bb_idxs) | pl.col('bb2').is_in(test_only_bb_idxs) | pl.col('bb3').is_in(test_only_bb_idxs))\n",
    "    )\n",
    "    # subset = 0: non-share, i.e NONE of the BB is shared between train and test\n",
    "    # subset = 1: at-least one BB is not shared, e.g A-B-C where A and C is shared, but B is not shared\n",
    "    test1_df = test1_df.with_columns(\n",
    "        pl.when((pl.col('bb1').is_in(test_only_bb_idxs) & pl.col('bb2').is_in(test_only_bb_idxs) & pl.col('bb3').is_in(test_only_bb_idxs)))\\\n",
    "        .then(0).otherwise(1).alias('subset'))\n",
    "\n",
    "    # number of non-shared molecules\n",
    "    test1_non_shared_df = test1_df.filter(pl.col('subset') == 0)\n",
    "    num_non_shared = test1_non_shared_df.shape[0]\n",
    "    stage2_test_size = round(stage2_factor * num_non_shared)\n",
    "    stage23_test_size = round(stage23_factor * num_non_shared)\n",
    "    print('Number of non-shared molecules:', test1_non_shared_df.shape)\n",
    "    print(f'Stage2={stage2_test_size}, Stage3={stage23_test_size}')\n",
    "\n",
    "    print('Stage 1 Test set statistic:')\n",
    "    display(test1_df.select(pl.n_unique('*')))\n",
    "    display(test1_df.describe(percentiles = PERCENTILES))\n",
    "    print('Stage 1 NON-SHARED Test set statistic:')\n",
    "    display(test1_non_shared_df.select(pl.n_unique('*')))\n",
    "    display(test1_non_shared_df.describe(percentiles = PERCENTILES))\n",
    "    print('Stage 1 Train set statistic:')\n",
    "    display(stage2_df.select(pl.n_unique('*')))\n",
    "    display(stage2_df.describe(percentiles = PERCENTILES))\n",
    "    gc.collect()\n",
    "\n",
    "    # Stage 2\n",
    "    # Leave 20% molecules with most regular scaffolds: > 6116 mols/scaffold\n",
    "    # Then do a Scaffold Split on the remaining 80% molecules\n",
    "    # Scaffold Split is simply implemented with sklearn's GroupKFold\n",
    "    print('##### STAGE 2 #####')\n",
    "    stage2_df = stage2_df.with_columns(index = pl.Series(list(range(len(stage2_df)))))\n",
    "    lower_stage2_df = stage2_df.filter(pl.col('mol_per_scaf').is_between(1, 6116))\n",
    "    higher_stage2_df = stage2_df.filter((pl.col('mol_per_scaf') > 6116))\n",
    "    if isinstance(stage2_test_size, int) and stage2_test_size > 1:\n",
    "        stage2_test_pct = stage2_test_size / len(lower_stage2_df)\n",
    "    else:\n",
    "        raise ValueError\n",
    "    stage2_n_folds = round(1 / stage2_test_pct)\n",
    "    print('Number of folds:', stage2_n_folds)\n",
    "    splitter = GroupKFold(n_splits=stage2_n_folds)\n",
    "    # splitter = StratifiedGroupKFold(n_splits=stage2_n_folds, shuffle=True, random_state=random_state)\n",
    "    for i, (tmp_train2_idxs, tmp_test2_idxs) in enumerate(splitter.split(range(len(lower_stage2_df)),\n",
    "                                                                         lower_stage2_df['label'],\n",
    "                                                                         lower_stage2_df['scaffold_idx'])):\n",
    "        print(f\"Fold {i}:\")\n",
    "        train2_idxs = lower_stage2_df[tmp_train2_idxs, 'index'].to_list()\n",
    "        test2_idxs = lower_stage2_df[tmp_test2_idxs, 'index'].to_list()\n",
    "        print('Fold train/test size:', len(train2_idxs), len(test2_idxs))\n",
    "        break\n",
    "    \n",
    "    train2_df = stage2_df[train2_idxs]\n",
    "    test2_df = stage2_df[test2_idxs].select(pl.col('*').exclude('index'))\n",
    "    # subset = 2: scaffold split on lower-80% with overlapped BB (stage 2)\n",
    "    test2_df = test2_df.with_columns(subset = pl.lit(2))\n",
    "    stage3_df = pl.concat([train2_df, higher_stage2_df])\n",
    "\n",
    "    print('Stage 2 Test set statistic:')\n",
    "    display(test2_df.select(pl.n_unique('*')))\n",
    "    display(test2_df.describe(percentiles = PERCENTILES))\n",
    "    print('Stage 2 Train set statistic:')\n",
    "    display(stage3_df.select(pl.n_unique('*')))\n",
    "    display(stage3_df.describe(percentiles = PERCENTILES))\n",
    "    gc.collect()\n",
    "\n",
    "    # Stage 3: Random split on the remaining\n",
    "    print('##### STAGE 3 #####')\n",
    "    stage3_test_size = stage23_test_size - len(test2_df)\n",
    "    if isinstance(stage3_test_size, int) and stage3_test_size > 1:\n",
    "        stage3_test_pct = stage3_test_size / len(stage3_df)\n",
    "    elif isinstance(stage3_test_size, float) and stage3_test_size < 1:\n",
    "        stage3_test_pct = stage3_test_size\n",
    "    else:\n",
    "        raise ValueError\n",
    "\n",
    "    stage3_n_folds = round(1 / stage3_test_pct)\n",
    "    print('Number of folds:', stage3_n_folds, stage3_test_size)\n",
    "    # splitter = KFold(n_splits=stage3_n_folds, shuffle=True, random_state=random_state)\n",
    "    splitter = StratifiedKFold(n_splits=stage3_n_folds, shuffle=True, random_state=random_state)\n",
    "    for i, (train3_idxs, test3_idxs) in enumerate(splitter.split(list(range(len(stage3_df))), stage3_df['label'])):\n",
    "        print(f\"Fold {i}:\")\n",
    "        print('Fold train/test size:', len(train3_idxs), len(test3_idxs))\n",
    "        break\n",
    "    train3_df = stage3_df[train3_idxs]\n",
    "    test3_df = stage3_df[test3_idxs].select(pl.col('*').exclude('index'))\n",
    "    # subset = 3: result of Stage 3: Random Split on the remaining\n",
    "    test3_df = test3_df.with_columns(subset = pl.lit(3))\n",
    "    \n",
    "    print('Stage 3 Test set statistic:')\n",
    "    display(test3_df.select(pl.n_unique('*')))\n",
    "    display(test3_df.describe(percentiles = PERCENTILES))\n",
    "    print('Stage 3 Train set statistic:')\n",
    "    display(train3_df.select(pl.n_unique('*')))\n",
    "    display(train3_df.describe(percentiles = PERCENTILES))\n",
    "    gc.collect()\n",
    "\n",
    "    test23_df = pl.concat([test2_df, test3_df])\n",
    "    print('Test 2+3 set statistic:')\n",
    "    display(test23_df.select(pl.n_unique('*')))\n",
    "    display(test23_df.describe(percentiles = PERCENTILES))\n",
    "    \n",
    "    train_df = train3_df\n",
    "    test_df = pl.concat([test1_df, test2_df, test3_df])\n",
    "\n",
    "    print('Final Test set statistic:')\n",
    "    display(test_df.select(pl.n_unique('*')))\n",
    "    display(test_df.describe(percentiles = PERCENTILES))\n",
    "    print('Final Train set statistic:')\n",
    "    display(train_df.select(pl.n_unique('*')))\n",
    "    display(train_df.describe(percentiles = PERCENTILES))\n",
    "    gc.collect()\n",
    "\n",
    "    train_df = train_df.select(pl.col('*').exclude('subset'))\n",
    "    return train_df, test_df"
   ]
  },
  {
   "cell_type": "code",
   "execution_count": 16,
   "id": "c8f73520",
   "metadata": {},
   "outputs": [
    {
     "data": {
      "text/plain": [
       "965"
      ]
     },
     "execution_count": 16,
     "metadata": {},
     "output_type": "execute_result"
    }
   ],
   "source": [
    "test_only_bbs = set(bbs_meta['test_bbs']).difference(set(bbs_meta['train_bbs']))\n",
    "all_bbs = bbs_meta['all_bbs']\n",
    "test_only_bb_idxs = [all_bbs.index(e) for e in test_only_bbs]\n",
    "len(test_only_bb_idxs)"
   ]
  },
  {
   "cell_type": "code",
   "execution_count": null,
   "id": "7632f2de",
   "metadata": {},
   "outputs": [],
   "source": [
    "train_df, test_df = train_test_split(df, test_only_bb_idxs, stage2_test_size = 158699, test_size = 369_039 , random_state = 42)"
   ]
  },
  {
   "cell_type": "code",
   "execution_count": null,
   "id": "3514c3c5",
   "metadata": {},
   "outputs": [],
   "source": []
  },
  {
   "cell_type": "code",
   "execution_count": null,
   "id": "3ea0941a",
   "metadata": {},
   "outputs": [],
   "source": []
  },
  {
   "cell_type": "code",
   "execution_count": null,
   "id": "24d6aa55",
   "metadata": {},
   "outputs": [],
   "source": []
  },
  {
   "cell_type": "markdown",
   "id": "aaaae5aa",
   "metadata": {},
   "source": [
    "# Non-overlapped building blocks"
   ]
  },
  {
   "cell_type": "code",
   "execution_count": 20,
   "id": "2877873c",
   "metadata": {},
   "outputs": [
    {
     "data": {
      "text/plain": [
       "(271, 693, 872)"
      ]
     },
     "execution_count": 20,
     "metadata": {},
     "output_type": "execute_result"
    }
   ],
   "source": [
    "train_bb1s = set(bbs_meta['train_bb1s'])\n",
    "train_bb2s = set(bbs_meta['train_bb2s'])\n",
    "train_bb3s = set(bbs_meta['train_bb3s'])\n",
    "len(train_bb1s), len(train_bb2s), len(train_bb3s) "
   ]
  },
  {
   "cell_type": "code",
   "execution_count": null,
   "id": "33d6c689",
   "metadata": {},
   "outputs": [],
   "source": []
  },
  {
   "cell_type": "code",
   "execution_count": 21,
   "id": "6f0616fd",
   "metadata": {},
   "outputs": [
    {
     "data": {
      "text/plain": [
       "0.28946110000386416"
      ]
     },
     "execution_count": 21,
     "metadata": {},
     "output_type": "execute_result"
    }
   ],
   "source": [
    "((0.33 ** 3) * 0.65)** 0.33"
   ]
  },
  {
   "cell_type": "code",
   "execution_count": 22,
   "id": "6188c4ca",
   "metadata": {},
   "outputs": [
    {
     "data": {
      "text/plain": [
       "0.02425328803396033"
      ]
     },
     "execution_count": 22,
     "metadata": {},
     "output_type": "execute_result"
    }
   ],
   "source": [
    "0.28946110000386416 ** 3"
   ]
  },
  {
   "cell_type": "code",
   "execution_count": 23,
   "id": "8e6dc77d",
   "metadata": {},
   "outputs": [
    {
     "data": {
      "text/plain": [
       "0.035937000000000004"
      ]
     },
     "execution_count": 23,
     "metadata": {},
     "output_type": "execute_result"
    }
   ],
   "source": [
    "0.33 ** 3"
   ]
  },
  {
   "cell_type": "code",
   "execution_count": 24,
   "id": "57a763b1",
   "metadata": {},
   "outputs": [],
   "source": [
    "from deepchem.splits.splitters import _generate_scaffold\n",
    "\n",
    "def get_scaffolds(l):\n",
    "    return [_generate_scaffold(e) for e in l]"
   ]
  },
  {
   "cell_type": "code",
   "execution_count": 25,
   "id": "51b2d145",
   "metadata": {},
   "outputs": [
    {
     "data": {
      "text/plain": [
       "2110"
      ]
     },
     "execution_count": 25,
     "metadata": {},
     "output_type": "execute_result"
    }
   ],
   "source": [
    "all_bb_scaffolds = get_scaffolds(bbs_meta['all_bbs'])\n",
    "len(all_bb_scaffolds)"
   ]
  },
  {
   "cell_type": "code",
   "execution_count": 26,
   "id": "7b5b9347",
   "metadata": {},
   "outputs": [
    {
     "data": {
      "text/plain": [
       "614"
      ]
     },
     "execution_count": 26,
     "metadata": {},
     "output_type": "execute_result"
    }
   ],
   "source": [
    "unique_bb_scaffolds = list(set(all_bb_scaffolds))\n",
    "len(unique_bb_scaffolds)"
   ]
  },
  {
   "cell_type": "code",
   "execution_count": null,
   "id": "4a17a73f",
   "metadata": {},
   "outputs": [],
   "source": []
  },
  {
   "cell_type": "code",
   "execution_count": null,
   "id": "010add55",
   "metadata": {},
   "outputs": [],
   "source": [
    "BB_IDX_TO_SCAF_IDX = {i: unique_bb_scaffolds.index(e) for i, e in enumerate(all_bb_scaffolds)}\n",
    "print(len(set(BB_IDX_TO_SCAF_IDX.keys())), len(set(BB_IDX_TO_SCAF_IDX.values())))\n",
    "BB_IDX_TO_SCAF_IDX"
   ]
  },
  {
   "cell_type": "code",
   "execution_count": null,
   "id": "7f5b0080",
   "metadata": {},
   "outputs": [],
   "source": [
    "df = df.with_columns(pl.col('bb1').replace(BB_IDX_TO_SCAF_IDX, default=-1, return_dtype=pl.UInt16).alias('bb1_scaffold_idx'),\n",
    "                pl.col('bb2').replace(BB_IDX_TO_SCAF_IDX, default=-1, return_dtype= pl.UInt16).alias('bb2_scaffold_idx'),\n",
    "                pl.col('bb3').replace(BB_IDX_TO_SCAF_IDX, default=-1, return_dtype = pl.UInt16).alias('bb3_scaffold_idx'),\n",
    "               )\n",
    "df"
   ]
  },
  {
   "cell_type": "code",
   "execution_count": null,
   "id": "7f1f67a5",
   "metadata": {},
   "outputs": [],
   "source": [
    "df.select((pl.col('bb1_scaffold_idx', 'bb2_scaffold_idx', 'bb3_scaffold_idx') ==  -1).any())"
   ]
  },
  {
   "cell_type": "code",
   "execution_count": null,
   "id": "1d88d3ab",
   "metadata": {},
   "outputs": [],
   "source": [
    "for col in ['bb1_scaffold_idx', 'bb2_scaffold_idx', 'bb3_scaffold_idx']:\n",
    "    _train = df.filter(pl.col('ori') == 0)[col].unique().to_list()\n",
    "    _test = df.filter((pl.col('bb1').is_in(test_only_bb_idxs) | pl.col('bb2').is_in(test_only_bb_idxs) | pl.col('bb3').is_in(test_only_bb_idxs)) & (pl.col('ori') == 1))[col].unique().to_list()\n",
    "    print(len(_train), len(_test), len(set(_test).difference(set(_train))), len(set(_test).intersection(set(_train))))"
   ]
  },
  {
   "cell_type": "code",
   "execution_count": null,
   "id": "57a5c3d7",
   "metadata": {},
   "outputs": [],
   "source": [
    "10 / 62"
   ]
  },
  {
   "cell_type": "code",
   "execution_count": null,
   "id": "2f2f7810",
   "metadata": {},
   "outputs": [],
   "source": [
    "49 / 222"
   ]
  },
  {
   "cell_type": "code",
   "execution_count": null,
   "id": "d0c49cfd",
   "metadata": {},
   "outputs": [],
   "source": [
    "85 / 270"
   ]
  },
  {
   "cell_type": "code",
   "execution_count": null,
   "id": "6d31d311",
   "metadata": {},
   "outputs": [],
   "source": []
  },
  {
   "cell_type": "code",
   "execution_count": null,
   "id": "b7763fb6",
   "metadata": {},
   "outputs": [],
   "source": []
  },
  {
   "cell_type": "code",
   "execution_count": null,
   "id": "8893acd0",
   "metadata": {},
   "outputs": [],
   "source": []
  },
  {
   "cell_type": "code",
   "execution_count": null,
   "id": "abf8405b",
   "metadata": {},
   "outputs": [],
   "source": [
    "df = df.with_columns(pl.col('molecule').count().over('bb1_scaffold_idx').alias('bb1_scaffold_freq'),\n",
    "                    pl.col('molecule').count().over('bb2_scaffold_idx').alias('bb2_scaffold_freq'),\n",
    "                    pl.col('molecule').count().over('bb3_scaffold_idx').alias('bb3_scaffold_freq')\\\n",
    "                    )\n",
    "df"
   ]
  },
  {
   "cell_type": "code",
   "execution_count": null,
   "id": "3f7a0c0c",
   "metadata": {},
   "outputs": [],
   "source": []
  },
  {
   "cell_type": "code",
   "execution_count": null,
   "id": "fe308ca4",
   "metadata": {},
   "outputs": [],
   "source": [
    "tmp = df.filter((pl.col('ori') == 1) & (pl.col('bb1').is_in(test_only_bb_idxs) | pl.col('bb2').is_in(test_only_bb_idxs) | pl.col('bb3').is_in(test_only_bb_idxs))).group_by('bb1_scaffold_idx').first().sort('bb1_scaffold_freq').select('bb1_scaffold_idx', 'bb1_scaffold_freq')\n",
    "display(tmp)\n",
    "tmp.to_pandas()['bb1_scaffold_freq'].hist(bins = 100)"
   ]
  },
  {
   "cell_type": "code",
   "execution_count": null,
   "id": "ce72d2d8",
   "metadata": {},
   "outputs": [],
   "source": []
  },
  {
   "cell_type": "code",
   "execution_count": null,
   "id": "abb23708",
   "metadata": {},
   "outputs": [],
   "source": []
  },
  {
   "cell_type": "code",
   "execution_count": null,
   "id": "0f11239b",
   "metadata": {},
   "outputs": [],
   "source": []
  },
  {
   "cell_type": "code",
   "execution_count": null,
   "id": "f98b62fc",
   "metadata": {},
   "outputs": [],
   "source": [
    "tmp = df.filter(pl.col('ori') == 0).group_by('bb1_scaffold_idx').first().sort('bb1_scaffold_freq').select('bb1_scaffold_idx', 'bb1_scaffold_freq')\n",
    "display(tmp)\n",
    "tmp.to_pandas()['bb1_scaffold_freq'].hist(bins = 100)"
   ]
  },
  {
   "cell_type": "code",
   "execution_count": null,
   "id": "b11ea3a9",
   "metadata": {},
   "outputs": [],
   "source": []
  },
  {
   "cell_type": "code",
   "execution_count": null,
   "id": "94137503",
   "metadata": {},
   "outputs": [],
   "source": []
  },
  {
   "cell_type": "code",
   "execution_count": null,
   "id": "a36ac349",
   "metadata": {},
   "outputs": [],
   "source": []
  },
  {
   "cell_type": "code",
   "execution_count": null,
   "id": "253ff7c9",
   "metadata": {},
   "outputs": [],
   "source": [
    "tmp = df.filter(pl.col('ori') == 0).group_by('bb1_scaffold_idx').agg(pl.n_unique('bb1').alias('num_bb1s_per_scaf')).sort('num_bb1s_per_scaf')\n",
    "display(tmp)\n",
    "tmp.to_pandas()['num_bb1s_per_scaf'].hist(bins = 100)"
   ]
  },
  {
   "cell_type": "code",
   "execution_count": null,
   "id": "d13c7cfd",
   "metadata": {},
   "outputs": [],
   "source": [
    "tmp = df.filter((pl.col('ori') == 1) & (pl.col('bb1').is_in(test_only_bb_idxs) | pl.col('bb2').is_in(test_only_bb_idxs) | pl.col('bb3').is_in(test_only_bb_idxs))).group_by('bb1_scaffold_idx').agg(pl.n_unique('bb1').alias('num_bb1s_per_scaf')).sort('num_bb1s_per_scaf')\n",
    "display(tmp)\n",
    "tmp.to_pandas()['num_bb1s_per_scaf'].hist(bins = 100)"
   ]
  },
  {
   "cell_type": "code",
   "execution_count": null,
   "id": "0015c19d",
   "metadata": {},
   "outputs": [],
   "source": []
  },
  {
   "cell_type": "code",
   "execution_count": null,
   "id": "affe7099",
   "metadata": {},
   "outputs": [],
   "source": []
  },
  {
   "cell_type": "code",
   "execution_count": null,
   "id": "ccb08e32",
   "metadata": {},
   "outputs": [],
   "source": []
  },
  {
   "cell_type": "code",
   "execution_count": null,
   "id": "d15b3619",
   "metadata": {},
   "outputs": [],
   "source": [
    "len(train_bb1s)"
   ]
  },
  {
   "cell_type": "code",
   "execution_count": 17,
   "id": "07199f3a",
   "metadata": {},
   "outputs": [
    {
     "data": {
      "text/plain": [
       "(341, 1140, 1390)"
      ]
     },
     "execution_count": 17,
     "metadata": {},
     "output_type": "execute_result"
    }
   ],
   "source": [
    "bb1s = list(set(bbs_meta['train_bb1s'] + bbs_meta['test_bb1s']))\n",
    "bb2s = list(set(bbs_meta['train_bb2s'] + bbs_meta['test_bb2s']))\n",
    "bb3s = list(set(bbs_meta['train_bb3s'] + bbs_meta['test_bb3s']))\n",
    "len(bb1s), len(bb2s), len(bb3s)"
   ]
  },
  {
   "cell_type": "code",
   "execution_count": null,
   "id": "cf8d7f63",
   "metadata": {},
   "outputs": [],
   "source": []
  },
  {
   "cell_type": "code",
   "execution_count": null,
   "id": "8b89e591",
   "metadata": {},
   "outputs": [],
   "source": []
  },
  {
   "cell_type": "code",
   "execution_count": 18,
   "id": "6a4f4a35",
   "metadata": {},
   "outputs": [
    {
     "data": {
      "text/plain": [
       "(70, 447, 518)"
      ]
     },
     "execution_count": 18,
     "metadata": {},
     "output_type": "execute_result"
    }
   ],
   "source": [
    "pseu_test_bb1s = random.sample(bb1s, round(len(bb1s) * 0.2053))\n",
    "pseu_test_bb2s = random.sample(bb2s, round(len(bb2s) * 0.3921))\n",
    "pseu_test_bb3s = random.sample(bb3s, round(len(bb3s) * 0.373))\n",
    "len(pseu_test_bb1s), len(pseu_test_bb2s), len(pseu_test_bb3s)"
   ]
  },
  {
   "cell_type": "code",
   "execution_count": 27,
   "id": "f99b90f7",
   "metadata": {},
   "outputs": [],
   "source": [
    "def analyze_set(s1, s2):\n",
    "    s1 = set(s1)\n",
    "    s2 = set(s2)\n",
    "    overlap = s1.intersection(s2)\n",
    "    diff = s2.difference(s1)\n",
    "    union = s2.union(s1)\n",
    "    print('Len:', len(s1), len(diff), len(s2))\n",
    "    print('Overlap:', len(overlap), len(overlap) / len(union))\n",
    "    print('Test only:', len(diff), len(union), len(diff) / len(union) )"
   ]
  },
  {
   "cell_type": "code",
   "execution_count": 28,
   "id": "31322c79",
   "metadata": {},
   "outputs": [
    {
     "name": "stdout",
     "output_type": "stream",
     "text": [
      "Len: 82 11 32\n",
      "Overlap: 21 0.22580645161290322\n",
      "Test only: 11 93 0.11827956989247312\n"
     ]
    }
   ],
   "source": [
    "analyze_set(get_scaffolds(set(bb1s).difference(pseu_test_bb1s)), get_scaffolds(pseu_test_bb1s))"
   ]
  },
  {
   "cell_type": "code",
   "execution_count": 29,
   "id": "b5e04afe",
   "metadata": {},
   "outputs": [
    {
     "name": "stdout",
     "output_type": "stream",
     "text": [
      "Len: 245 111 187\n",
      "Overlap: 76 0.21348314606741572\n",
      "Test only: 111 356 0.31179775280898875\n"
     ]
    }
   ],
   "source": [
    "analyze_set(get_scaffolds(set(bb2s).difference(pseu_test_bb2s)), get_scaffolds(pseu_test_bb2s))"
   ]
  },
  {
   "cell_type": "code",
   "execution_count": 30,
   "id": "9441cce0",
   "metadata": {},
   "outputs": [
    {
     "name": "stdout",
     "output_type": "stream",
     "text": [
      "Len: 291 124 215\n",
      "Overlap: 91 0.21927710843373494\n",
      "Test only: 124 415 0.2987951807228916\n"
     ]
    }
   ],
   "source": [
    "analyze_set(get_scaffolds(set(bb3s).difference(pseu_test_bb3s)), get_scaffolds(pseu_test_bb3s))"
   ]
  },
  {
   "cell_type": "code",
   "execution_count": null,
   "id": "c86942d4",
   "metadata": {},
   "outputs": [],
   "source": []
  },
  {
   "cell_type": "code",
   "execution_count": null,
   "id": "6c4053f8",
   "metadata": {},
   "outputs": [],
   "source": [
    "len(train_bb1s), len(train_bb2s), len(train_bb3s)"
   ]
  },
  {
   "cell_type": "code",
   "execution_count": null,
   "id": "2a073c1a",
   "metadata": {},
   "outputs": [],
   "source": []
  },
  {
   "cell_type": "code",
   "execution_count": null,
   "id": "31463dd5",
   "metadata": {},
   "outputs": [],
   "source": []
  },
  {
   "cell_type": "code",
   "execution_count": null,
   "id": "85fb4ef8",
   "metadata": {},
   "outputs": [],
   "source": [
    "train_scaffolds = pl.scan_csv('/home/dangnh36/datasets/competitions/leash_belka/processed/train_scaffold.csv').collect()\n",
    "train_df = pl.scan_csv('/home/dangnh36/datasets/competitions/leash_belka/processed/train_v2.csv')\\\n",
    "    .select(\n",
    "        pl.col('molecule'),\n",
    "        pl.col('bb1', 'bb2', 'bb3').cast(pl.UInt16),\n",
    "        pl.col('BRD4', 'HSA', 'eSH').cast(pl.UInt8),\n",
    "        scaffold_idx = train_scaffolds['scaffold_idx'],\n",
    "    )\\\n",
    "    .collect()\n",
    "print(train_df.estimated_size('mb'))\n",
    "train_df"
   ]
  },
  {
   "cell_type": "code",
   "execution_count": null,
   "id": "4ac61b8e",
   "metadata": {},
   "outputs": [],
   "source": [
    "train_df = train_df.with_columns((pl.col('BRD4') * 4 + pl.col('HSA') * 2 + pl.col('eSH')).alias('label'))\n",
    "train_df.select(pl.n_unique('*'))"
   ]
  },
  {
   "cell_type": "code",
   "execution_count": null,
   "id": "11369926",
   "metadata": {},
   "outputs": [],
   "source": [
    "train_df.filter(pl.col('label') > 0)['label'].to_pandas().hist(bins = 7)"
   ]
  },
  {
   "cell_type": "code",
   "execution_count": null,
   "id": "5165c014",
   "metadata": {},
   "outputs": [],
   "source": [
    "train_df.filter(pl.col('label') > 4)['label'].to_pandas().hist(bins = 7)"
   ]
  },
  {
   "cell_type": "code",
   "execution_count": null,
   "id": "2626cbbe",
   "metadata": {},
   "outputs": [],
   "source": []
  },
  {
   "cell_type": "code",
   "execution_count": null,
   "id": "1c5a042e",
   "metadata": {},
   "outputs": [],
   "source": [
    "set(train_bb1s).intersection(set(train_bb2s))"
   ]
  },
  {
   "cell_type": "code",
   "execution_count": null,
   "id": "bf272faf",
   "metadata": {},
   "outputs": [],
   "source": [
    "set(train_bb1s).intersection(set(train_bb3s))"
   ]
  },
  {
   "cell_type": "code",
   "execution_count": null,
   "id": "f2f3fad9",
   "metadata": {},
   "outputs": [],
   "source": [
    "len(set(train_bb2s).intersection(set(train_bb3s)))"
   ]
  },
  {
   "cell_type": "code",
   "execution_count": null,
   "id": "7519a9b0",
   "metadata": {},
   "outputs": [],
   "source": []
  },
  {
   "cell_type": "code",
   "execution_count": null,
   "id": "f1e8e71a",
   "metadata": {},
   "outputs": [],
   "source": []
  },
  {
   "cell_type": "code",
   "execution_count": null,
   "id": "c69fc9cb",
   "metadata": {},
   "outputs": [],
   "source": []
  },
  {
   "cell_type": "code",
   "execution_count": null,
   "id": "414d1ab6",
   "metadata": {},
   "outputs": [],
   "source": []
  },
  {
   "cell_type": "code",
   "execution_count": null,
   "id": "750cd4f9",
   "metadata": {},
   "outputs": [],
   "source": []
  },
  {
   "cell_type": "code",
   "execution_count": null,
   "id": "12c7879b",
   "metadata": {},
   "outputs": [],
   "source": [
    "train_df.filter(pl.col('bb2') == pl.col('bb3'))"
   ]
  },
  {
   "cell_type": "code",
   "execution_count": null,
   "id": "4d52b990",
   "metadata": {},
   "outputs": [],
   "source": [
    "train_df.filter((pl.col('bb2') != pl.col('bb3')) & ((pl.col('bb2').cast(pl.String) + '_' + pl.col('bb3').cast(pl.String)) == (pl.col('bb3').cast(pl.String) + '_' + pl.col('bb2').cast(pl.String)) ))"
   ]
  },
  {
   "cell_type": "code",
   "execution_count": null,
   "id": "06212177",
   "metadata": {},
   "outputs": [],
   "source": []
  },
  {
   "cell_type": "code",
   "execution_count": null,
   "id": "62a954f1",
   "metadata": {},
   "outputs": [],
   "source": []
  },
  {
   "cell_type": "code",
   "execution_count": null,
   "id": "8b905ec9",
   "metadata": {},
   "outputs": [],
   "source": []
  },
  {
   "cell_type": "code",
   "execution_count": null,
   "id": "13d2e42f",
   "metadata": {},
   "outputs": [],
   "source": []
  },
  {
   "cell_type": "code",
   "execution_count": null,
   "id": "80ee12d2",
   "metadata": {},
   "outputs": [],
   "source": []
  },
  {
   "cell_type": "code",
   "execution_count": null,
   "id": "a56eec59",
   "metadata": {},
   "outputs": [],
   "source": []
  },
  {
   "cell_type": "code",
   "execution_count": null,
   "id": "c58f32ba",
   "metadata": {},
   "outputs": [],
   "source": [
    "train_df.filter(pl.col('label') > 0)['label'].to_pandas().hist(bins = 7)"
   ]
  },
  {
   "cell_type": "code",
   "execution_count": null,
   "id": "fa2d3dfa",
   "metadata": {},
   "outputs": [],
   "source": [
    "train_df['label'].n_unique()"
   ]
  },
  {
   "cell_type": "code",
   "execution_count": null,
   "id": "8d9662e9",
   "metadata": {},
   "outputs": [],
   "source": [
    "train_df['bb1'].n_unique()"
   ]
  },
  {
   "cell_type": "code",
   "execution_count": null,
   "id": "0d97d84e",
   "metadata": {},
   "outputs": [],
   "source": [
    "splitter = StratifiedGroupKFold(n_splits=8, shuffle=True, random_state=42)\n",
    "\n",
    "fold_meta = {}\n",
    "for i, (train_idxs, test_idxs) in enumerate(splitter.split(list(range(len(train_df))), train_df['label'], train_df['bb1'])):\n",
    "    fold_meta[i] = {}\n",
    "    fold_meta[i]['train'] = train_df[train_idxs, 'bb1'].unique().to_list()\n",
    "    fold_meta[i]['test'] = train_df[test_idxs, 'bb1'].unique().to_list()\n",
    "    assert len(fold_meta[i]['train'] + fold_meta[i]['test']) == 271\n",
    "    assert len(set(fold_meta[i]['test']).intersection(set(fold_meta[i]['train']))) == 0\n",
    "    print(f\"Fold {i}: {len(fold_meta[i]['train'])} + {len(fold_meta[i]['test'])}\")\n",
    "\n",
    "bb1_fold_meta = fold_meta"
   ]
  },
  {
   "cell_type": "code",
   "execution_count": null,
   "id": "e705ceee",
   "metadata": {},
   "outputs": [],
   "source": []
  },
  {
   "cell_type": "code",
   "execution_count": null,
   "id": "8abdb0aa",
   "metadata": {},
   "outputs": [],
   "source": [
    "for fold_idx, fold_bb1s in bb1_fold_meta.items():\n",
    "    test_df = train_df.filter(pl.col('bb1').is_in(fold_bb1s['test']))\n",
    "    print(fold_idx, test_df.shape)\n",
    "    print(test_df.select(pl.col('BRD4', 'HSA', 'eSH').mean() * 100))\n",
    "    test_df.filter(pl.col('label') > 0)['label'].to_pandas().hist(bins = 7)\n",
    "    from matplotlib import pyplot as plt\n",
    "    plt.show()"
   ]
  },
  {
   "cell_type": "code",
   "execution_count": null,
   "id": "4cff532d",
   "metadata": {},
   "outputs": [],
   "source": []
  },
  {
   "cell_type": "code",
   "execution_count": null,
   "id": "300f8447",
   "metadata": {},
   "outputs": [],
   "source": []
  },
  {
   "cell_type": "code",
   "execution_count": null,
   "id": "81f99919",
   "metadata": {},
   "outputs": [],
   "source": [
    "bb23_fold_meta = {}\n",
    "for bb1_fold_idx, fold_bb1s in bb1_fold_meta.items():\n",
    "    round1_test_df = train_df.filter(pl.col('bb1').is_in(fold_bb1s['test']))\n",
    "    print('BB1 fold len:', round1_test_df.shape)\n",
    "    labels = []\n",
    "    groups = []\n",
    "    unique_bb23s = [bbs_meta['all_bbs'].index(e) for e in list(train_bb2s.union(train_bb3s))]\n",
    "    print('Num building blocks 2 + 3:', len(unique_bb23s))\n",
    "    for bb in unique_bb23s:\n",
    "        tmp_df = round1_test_df.filter((pl.col('bb2') == bb) | (pl.col('bb3') == bb))\n",
    "        labels.extend(tmp_df['label'])\n",
    "        groups.extend([bb] * len(tmp_df))\n",
    "    print(len(labels), len(groups))\n",
    "    splitter = StratifiedGroupKFold(n_splits=8, shuffle=True, random_state=42)\n",
    "    fold_meta = {}\n",
    "    for i, (train_idxs, test_idxs) in enumerate(splitter.split(labels, labels, groups)):\n",
    "        fold_meta[i] = {}\n",
    "        fold_meta[i]['train'] = np.unique(np.array(groups)[train_idxs]).tolist() \n",
    "        fold_meta[i]['test'] =  np.unique(np.array(groups)[test_idxs]).tolist()\n",
    "        assert len(fold_meta[i]['train'] + fold_meta[i]['test']) == len(unique_bb23s)\n",
    "        assert len(set(fold_meta[i]['test']).intersection(set(fold_meta[i]['train']))) == 0\n",
    "        print(f\"Fold {i}: {len(fold_meta[i]['train'])} + {len(fold_meta[i]['test'])}\")\n",
    "    bb23_fold_meta[bb1_fold_idx] = fold_meta"
   ]
  },
  {
   "cell_type": "code",
   "execution_count": null,
   "id": "05dff866",
   "metadata": {
    "scrolled": true
   },
   "outputs": [],
   "source": [
    "bb23_fold_meta"
   ]
  },
  {
   "cell_type": "code",
   "execution_count": null,
   "id": "4e9c5b14",
   "metadata": {},
   "outputs": [],
   "source": []
  },
  {
   "cell_type": "code",
   "execution_count": null,
   "id": "345911db",
   "metadata": {
    "scrolled": true
   },
   "outputs": [],
   "source": [
    "global_fold_meta = {}\n",
    "for bb1_fold_idx, v in bb23_fold_meta.items():\n",
    "    global_fold_meta[bb1_fold_idx] = {}\n",
    "    global_fold_meta[bb1_fold_idx]['bb1'] = bb1_fold_meta[bb1_fold_idx]\n",
    "    global_fold_meta[bb1_fold_idx]['bb23'] = v\n",
    "\n",
    "global_fold_meta"
   ]
  },
  {
   "cell_type": "code",
   "execution_count": null,
   "id": "a9c29209",
   "metadata": {},
   "outputs": [],
   "source": [
    "with open('/home/dangnh36/datasets/competitions/leash_belka/processed/meta/bb_split_8_8.json', 'w') as f:\n",
    "    json.dump(global_fold_meta, f)"
   ]
  },
  {
   "cell_type": "code",
   "execution_count": null,
   "id": "a9f60789",
   "metadata": {},
   "outputs": [],
   "source": []
  },
  {
   "cell_type": "code",
   "execution_count": null,
   "id": "d08b25cc",
   "metadata": {},
   "outputs": [],
   "source": []
  },
  {
   "cell_type": "code",
   "execution_count": null,
   "id": "153f2637",
   "metadata": {},
   "outputs": [],
   "source": []
  },
  {
   "cell_type": "code",
   "execution_count": null,
   "id": "26e8a4cf",
   "metadata": {},
   "outputs": [],
   "source": [
    "tmp = train_df.filter((pl.col('bb1').is_in(global_fold_meta[0]['bb1']['test'])) | \\\n",
    "                (pl.col('bb2').is_in(global_fold_meta[0]['bb23'][0]['test'])) | \\\n",
    "                (pl.col('bb3').is_in(global_fold_meta[0]['bb23'][0]['test']))\n",
    "               )\n",
    "tmp.shape"
   ]
  },
  {
   "cell_type": "code",
   "execution_count": null,
   "id": "baf62120",
   "metadata": {},
   "outputs": [],
   "source": [
    "train_df.select(pl.col('BRD4', 'HSA', 'eSH').mean() * 100)"
   ]
  },
  {
   "cell_type": "code",
   "execution_count": null,
   "id": "b1ae6b5b",
   "metadata": {},
   "outputs": [],
   "source": [
    "tmp.select(pl.col('BRD4', 'HSA', 'eSH').mean() * 100)"
   ]
  },
  {
   "cell_type": "code",
   "execution_count": null,
   "id": "ac7985d9",
   "metadata": {
    "scrolled": true
   },
   "outputs": [],
   "source": [
    "BB1_SPLIT = 8\n",
    "BB23_SPLIT = 8\n",
    "for i1 in range(BB1_SPLIT):\n",
    "    for i23 in range(BB23_SPLIT):\n",
    "        cur_idx = BB23_SPLIT * i1 + i23\n",
    "        test_bb1s = global_fold_meta[i1]['bb1']['test']\n",
    "        test_bb23s = global_fold_meta[i1]['bb23'][i23]['test']\n",
    "        \n",
    "        tmp_test = train_df.filter((pl.col('bb1').is_in(test_bb1s)) | \\\n",
    "            (pl.col('bb2').is_in(test_bb23s)) | \\\n",
    "            (pl.col('bb3').is_in(test_bb23s))\n",
    "        )\n",
    "\n",
    "        print(f'--------- {cur_idx} ----------')\n",
    "        print(f'{len(tmp_test)} ({round(len(tmp_test) / len(train_df) * 100, 1)} %)')\n",
    "        print('building blocks:', len(test_bb1s), len(test_bb23s))\n",
    "        print(tmp_test.select(pl.col('BRD4', 'HSA', 'eSH').mean() * 100))\n",
    "        print('\\n\\n')"
   ]
  },
  {
   "cell_type": "code",
   "execution_count": null,
   "id": "d854fde0",
   "metadata": {},
   "outputs": [],
   "source": [
    "train_df"
   ]
  },
  {
   "cell_type": "code",
   "execution_count": null,
   "id": "4d6685e1",
   "metadata": {},
   "outputs": [],
   "source": []
  },
  {
   "cell_type": "code",
   "execution_count": 34,
   "id": "dc8aea5f",
   "metadata": {},
   "outputs": [],
   "source": [
    "BB1_SPLIT = 8\n",
    "BB23_SPLIT = 8\n",
    "\n",
    "with open(f'/home/dangnh36/datasets/competitions/leash_belka/processed/meta/bb_split_{BB1_SPLIT}_{BB23_SPLIT}.json', 'r') as f:\n",
    "    global_fold_meta = json.load(f)"
   ]
  },
  {
   "cell_type": "code",
   "execution_count": 32,
   "id": "e6013467",
   "metadata": {},
   "outputs": [
    {
     "data": {
      "text/plain": [
       "(33, 111, 144)"
      ]
     },
     "execution_count": 32,
     "metadata": {},
     "output_type": "execute_result"
    }
   ],
   "source": [
    "BB1_FOLD = str(4)\n",
    "BB23_FOLD = str(4)\n",
    "test_only_bb1_idxs = global_fold_meta[BB1_FOLD]['bb1']['test']\n",
    "test_only_bb23_idxs = global_fold_meta[BB1_FOLD]['bb23'][BB23_FOLD]['test']\n",
    "\n",
    "assert len(set(test_only_bb1_idxs).intersection(set(test_only_bb23_idxs))) == 0\n",
    "\n",
    "test_only_bb_idxs = set(test_only_bb1_idxs).union(set(test_only_bb23_idxs))\n",
    "len(test_only_bb1_idxs), len(test_only_bb23_idxs), len(test_only_bb_idxs)"
   ]
  },
  {
   "cell_type": "code",
   "execution_count": null,
   "id": "1d7b0b89",
   "metadata": {},
   "outputs": [],
   "source": [
    "100_000_000 / 8"
   ]
  },
  {
   "cell_type": "code",
   "execution_count": null,
   "id": "6e94c243",
   "metadata": {},
   "outputs": [],
   "source": []
  },
  {
   "cell_type": "code",
   "execution_count": null,
   "id": "3910d853",
   "metadata": {},
   "outputs": [],
   "source": [
    "31830221 / (34 * 116 * 116)"
   ]
  },
  {
   "cell_type": "code",
   "execution_count": null,
   "id": "c3f88516",
   "metadata": {},
   "outputs": [],
   "source": [
    "508_983 / (70 * 447 * 518)"
   ]
  },
  {
   "cell_type": "code",
   "execution_count": null,
   "id": "57543c4f",
   "metadata": {},
   "outputs": [],
   "source": [
    "tmp = train_df.filter((pl.col('bb1').is_in(test_only_bb1_idxs)) & \\\n",
    "                (pl.col('bb2').is_in(test_only_bb23_idxs)) & \\\n",
    "                (pl.col('bb3').is_in(test_only_bb23_idxs))\n",
    "               )\n",
    "print(tmp.shape)\n",
    "tmp.shape[0] / train_df.shape[0] * 100"
   ]
  },
  {
   "cell_type": "code",
   "execution_count": null,
   "id": "85217290",
   "metadata": {},
   "outputs": [],
   "source": [
    "tmp.select(pl.n_unique('*')).to_dicts()"
   ]
  },
  {
   "cell_type": "code",
   "execution_count": null,
   "id": "62274be9",
   "metadata": {},
   "outputs": [],
   "source": [
    "tmp.select(pl.col('BRD4', 'HSA', 'eSH').mean() * 100).to_dicts()"
   ]
  },
  {
   "cell_type": "code",
   "execution_count": null,
   "id": "5da129cb",
   "metadata": {},
   "outputs": [],
   "source": []
  },
  {
   "cell_type": "code",
   "execution_count": null,
   "id": "7bc8aa1f",
   "metadata": {},
   "outputs": [],
   "source": []
  },
  {
   "cell_type": "code",
   "execution_count": null,
   "id": "8a4ce5f2",
   "metadata": {},
   "outputs": [],
   "source": []
  },
  {
   "cell_type": "code",
   "execution_count": null,
   "id": "4829c7c9",
   "metadata": {},
   "outputs": [],
   "source": [
    "def get_statistic(df, test_only_bb1_idxs, test_only_bb23_idxs):\n",
    "    ret = {}\n",
    "    non_share = train_df.filter((pl.col('bb1').is_in(test_only_bb1_idxs)) & \\\n",
    "                (pl.col('bb2').is_in(test_only_bb23_idxs)) & \\\n",
    "                (pl.col('bb3').is_in(test_only_bb23_idxs))\n",
    "               )\n",
    "    ret['_non_share_count'] = non_share.shape[0]\n",
    "    ret['_non_share_pct'] = non_share.shape[0] / train_df.shape[0] * 100\n",
    "    ret.update({f'_non_share_unique_{k}': v for k, v in non_share.select(pl.n_unique('*')).to_dicts()[0].items()})\n",
    "    ret.update({f'_non_share_pct_{k}': v for k, v in non_share.select(pl.col('BRD4', 'HSA', 'eSH').mean() * 100).to_dicts()[0].items()})\n",
    "\n",
    "    one_non_share = train_df.filter((pl.col('bb1').is_in(test_only_bb1_idxs)) | \\\n",
    "                (pl.col('bb2').is_in(test_only_bb23_idxs)) | \\\n",
    "                (pl.col('bb3').is_in(test_only_bb23_idxs))\n",
    "               )\n",
    "    ret['count'] = one_non_share.shape[0]\n",
    "    ret['pct'] = one_non_share.shape[0] / train_df.shape[0] * 100\n",
    "    ret.update({f'_unique_{k}': v for k, v in one_non_share.select(pl.n_unique('*')).to_dicts()[0].items()})\n",
    "    ret.update({f'_pct_{k}': v for k, v in one_non_share.select(pl.col('BRD4', 'HSA', 'eSH').mean() * 100).to_dicts()[0].items()})\n",
    "    \n",
    "    return ret\n",
    "    "
   ]
  },
  {
   "cell_type": "code",
   "execution_count": null,
   "id": "86c2fa24",
   "metadata": {
    "scrolled": true
   },
   "outputs": [],
   "source": [
    "all_stats = []\n",
    "for bb1_fold_idx in range(BB1_SPLIT):\n",
    "    for bb23_fold_idx in range(BB23_SPLIT):\n",
    "        print(f'\\n\\n--------------- {bb1_fold_idx} {bb23_fold_idx} ------------------')\n",
    "        test_only_bb1_idxs = global_fold_meta[str(bb1_fold_idx)]['bb1']['test']\n",
    "        test_only_bb23_idxs = global_fold_meta[str(bb1_fold_idx)]['bb23'][str(bb23_fold_idx)]['test']\n",
    "        assert len(set(test_only_bb1_idxs).intersection(set(test_only_bb23_idxs))) == 0\n",
    "        test_only_bb_idxs = set(test_only_bb1_idxs).union(set(test_only_bb23_idxs))\n",
    "        print(len(test_only_bb1_idxs), len(test_only_bb23_idxs), len(test_only_bb_idxs))\n",
    "        stats = get_statistic(train_df, test_only_bb1_idxs, test_only_bb23_idxs)\n",
    "        global_fold_meta[str(bb1_fold_idx)]['bb23'][str(bb23_fold_idx)]['stats'] = stats\n",
    "        all_stats.append([bb1_fold_idx, bb23_fold_idx, stats])\n",
    "        print(stats)"
   ]
  },
  {
   "cell_type": "code",
   "execution_count": null,
   "id": "a9adf7f1",
   "metadata": {
    "scrolled": true
   },
   "outputs": [],
   "source": [
    "all_stats"
   ]
  },
  {
   "cell_type": "code",
   "execution_count": null,
   "id": "870b2428",
   "metadata": {
    "scrolled": true
   },
   "outputs": [],
   "source": [
    "sorted(all_stats, key = lambda x: (x[2]['_non_share_pct_eSH'], x[2]['_non_share_unique_molecule']), reverse=True)"
   ]
  },
  {
   "cell_type": "markdown",
   "id": "d799b91f",
   "metadata": {},
   "source": [
    "## Best is 4-6 -> 1-7"
   ]
  },
  {
   "cell_type": "code",
   "execution_count": 35,
   "id": "425ccaa0",
   "metadata": {},
   "outputs": [
    {
     "ename": "KeyError",
     "evalue": "'stats'",
     "output_type": "error",
     "traceback": [
      "\u001b[0;31m---------------------------------------------------------------------------\u001b[0m",
      "\u001b[0;31mKeyError\u001b[0m                                  Traceback (most recent call last)",
      "Cell \u001b[0;32mIn[35], line 1\u001b[0m\n\u001b[0;32m----> 1\u001b[0m \u001b[43mglobal_fold_meta\u001b[49m\u001b[43m[\u001b[49m\u001b[38;5;124;43m'\u001b[39;49m\u001b[38;5;124;43m4\u001b[39;49m\u001b[38;5;124;43m'\u001b[39;49m\u001b[43m]\u001b[49m\u001b[43m[\u001b[49m\u001b[38;5;124;43m'\u001b[39;49m\u001b[38;5;124;43mbb23\u001b[39;49m\u001b[38;5;124;43m'\u001b[39;49m\u001b[43m]\u001b[49m\u001b[43m[\u001b[49m\u001b[38;5;124;43m'\u001b[39;49m\u001b[38;5;124;43m6\u001b[39;49m\u001b[38;5;124;43m'\u001b[39;49m\u001b[43m]\u001b[49m\u001b[43m[\u001b[49m\u001b[38;5;124;43m'\u001b[39;49m\u001b[38;5;124;43mstats\u001b[39;49m\u001b[38;5;124;43m'\u001b[39;49m\u001b[43m]\u001b[49m\n",
      "\u001b[0;31mKeyError\u001b[0m: 'stats'"
     ]
    }
   ],
   "source": [
    "global_fold_meta['4']['bb23']['6']['stats']"
   ]
  },
  {
   "cell_type": "code",
   "execution_count": null,
   "id": "2a5d3edb",
   "metadata": {},
   "outputs": [],
   "source": [
    "global_fold_meta['1']['bb23']['7']['stats']"
   ]
  },
  {
   "cell_type": "code",
   "execution_count": null,
   "id": "4bf74c12",
   "metadata": {},
   "outputs": [],
   "source": []
  },
  {
   "cell_type": "code",
   "execution_count": null,
   "id": "e936137f",
   "metadata": {},
   "outputs": [],
   "source": []
  },
  {
   "cell_type": "code",
   "execution_count": 36,
   "id": "e14090cf",
   "metadata": {},
   "outputs": [
    {
     "data": {
      "text/plain": [
       "(33, 103, 136)"
      ]
     },
     "execution_count": 36,
     "metadata": {},
     "output_type": "execute_result"
    }
   ],
   "source": [
    "BB1_FOLD = str(4)\n",
    "BB23_FOLD = str(6)\n",
    "test_only_bb1_idxs = global_fold_meta[BB1_FOLD]['bb1']['test']\n",
    "test_only_bb23_idxs = global_fold_meta[BB1_FOLD]['bb23'][BB23_FOLD]['test']\n",
    "train_only_bb1_idxs = global_fold_meta[BB1_FOLD]['bb1']['train']\n",
    "train_only_bb23_idxs = global_fold_meta[BB1_FOLD]['bb23'][BB23_FOLD]['train']\n",
    "\n",
    "\n",
    "assert len(set(test_only_bb1_idxs).intersection(set(test_only_bb23_idxs))) == 0\n",
    "assert len(set(train_only_bb1_idxs).intersection(set(train_only_bb23_idxs))) == 0\n",
    "\n",
    "train_only_bb_idxs = set(train_only_bb1_idxs).union(set(train_only_bb23_idxs))\n",
    "test_only_bb_idxs = set(test_only_bb1_idxs).union(set(test_only_bb23_idxs))\n",
    "\n",
    "assert len(set(train_only_bb_idxs).intersection(set(test_only_bb_idxs))) == 0\n",
    "assert len(train_only_bb_idxs.union(test_only_bb_idxs)) == len(bbs_meta['train_bbs'])\n",
    "\n",
    "len(test_only_bb1_idxs), len(test_only_bb23_idxs), len(test_only_bb_idxs)"
   ]
  },
  {
   "cell_type": "code",
   "execution_count": 37,
   "id": "40eb4bd6",
   "metadata": {},
   "outputs": [
    {
     "data": {
      "text/plain": [
       "(98415610, 10)"
      ]
     },
     "execution_count": 37,
     "metadata": {},
     "output_type": "execute_result"
    }
   ],
   "source": [
    "train_df.shape"
   ]
  },
  {
   "cell_type": "code",
   "execution_count": 38,
   "id": "33b0f90c",
   "metadata": {},
   "outputs": [
    {
     "data": {
      "text/html": [
       "<div><style>\n",
       ".dataframe > thead > tr,\n",
       ".dataframe > tbody > tr {\n",
       "  text-align: right;\n",
       "  white-space: pre-wrap;\n",
       "}\n",
       "</style>\n",
       "<small>shape: (5, 10)</small><table border=\"1\" class=\"dataframe\"><thead><tr><th>molecule</th><th>bb1</th><th>bb2</th><th>bb3</th><th>BRD4</th><th>HSA</th><th>sEH</th><th>scaffold_idx</th><th>mol_per_scaf</th><th>label</th></tr><tr><td>str</td><td>u16</td><td>u16</td><td>u16</td><td>u8</td><td>u8</td><td>u8</td><td>i64</td><td>u32</td><td>u8</td></tr></thead><tbody><tr><td>&quot;C#CCOc1ccc(CNc…</td><td>1640</td><td>1653</td><td>765</td><td>0</td><td>0</td><td>0</td><td>4283326</td><td>844</td><td>0</td></tr><tr><td>&quot;C#CCOc1ccc(CNc…</td><td>1640</td><td>1653</td><td>205</td><td>0</td><td>0</td><td>0</td><td>4486646</td><td>9444</td><td>0</td></tr><tr><td>&quot;C#CCOc1ccc(CNc…</td><td>1640</td><td>1653</td><td>1653</td><td>0</td><td>0</td><td>0</td><td>1015728</td><td>9030</td><td>0</td></tr><tr><td>&quot;C#CCOc1ccc(CNc…</td><td>1640</td><td>1653</td><td>146</td><td>0</td><td>0</td><td>0</td><td>5301385</td><td>26814</td><td>0</td></tr><tr><td>&quot;C#CCOc1ccc(CNc…</td><td>1640</td><td>1653</td><td>439</td><td>0</td><td>0</td><td>0</td><td>5301385</td><td>26814</td><td>0</td></tr></tbody></table></div>"
      ],
      "text/plain": [
       "shape: (5, 10)\n",
       "┌────────────────────┬──────┬──────┬──────┬──────┬─────┬─────┬──────────────┬──────────────┬───────┐\n",
       "│ molecule           ┆ bb1  ┆ bb2  ┆ bb3  ┆ BRD4 ┆ HSA ┆ sEH ┆ scaffold_idx ┆ mol_per_scaf ┆ label │\n",
       "│ ---                ┆ ---  ┆ ---  ┆ ---  ┆ ---  ┆ --- ┆ --- ┆ ---          ┆ ---          ┆ ---   │\n",
       "│ str                ┆ u16  ┆ u16  ┆ u16  ┆ u8   ┆ u8  ┆ u8  ┆ i64          ┆ u32          ┆ u8    │\n",
       "╞════════════════════╪══════╪══════╪══════╪══════╪═════╪═════╪══════════════╪══════════════╪═══════╡\n",
       "│ C#CCOc1ccc(CNc2nc( ┆ 1640 ┆ 1653 ┆ 765  ┆ 0    ┆ 0   ┆ 0   ┆ 4283326      ┆ 844          ┆ 0     │\n",
       "│ NCC3CCCN3c3ccc…    ┆      ┆      ┆      ┆      ┆     ┆     ┆              ┆              ┆       │\n",
       "│ C#CCOc1ccc(CNc2nc( ┆ 1640 ┆ 1653 ┆ 205  ┆ 0    ┆ 0   ┆ 0   ┆ 4486646      ┆ 9444         ┆ 0     │\n",
       "│ NCc3cccc(Br)n3…    ┆      ┆      ┆      ┆      ┆     ┆     ┆              ┆              ┆       │\n",
       "│ C#CCOc1ccc(CNc2nc( ┆ 1640 ┆ 1653 ┆ 1653 ┆ 0    ┆ 0   ┆ 0   ┆ 1015728      ┆ 9030         ┆ 0     │\n",
       "│ NCc3ccc(OCC#C)…    ┆      ┆      ┆      ┆      ┆     ┆     ┆              ┆              ┆       │\n",
       "│ C#CCOc1ccc(CNc2nc( ┆ 1640 ┆ 1653 ┆ 146  ┆ 0    ┆ 0   ┆ 0   ┆ 5301385      ┆ 26814        ┆ 0     │\n",
       "│ NCCNC(=O)C(=C)…    ┆      ┆      ┆      ┆      ┆     ┆     ┆              ┆              ┆       │\n",
       "│ C#CCOc1ccc(CNc2nc( ┆ 1640 ┆ 1653 ┆ 439  ┆ 0    ┆ 0   ┆ 0   ┆ 5301385      ┆ 26814        ┆ 0     │\n",
       "│ NCC(=O)NCC=C)n…    ┆      ┆      ┆      ┆      ┆     ┆     ┆              ┆              ┆       │\n",
       "└────────────────────┴──────┴──────┴──────┴──────┴─────┴─────┴──────────────┴──────────────┴───────┘"
      ]
     },
     "execution_count": 38,
     "metadata": {},
     "output_type": "execute_result"
    }
   ],
   "source": [
    "train_df.head(5)"
   ]
  },
  {
   "cell_type": "code",
   "execution_count": null,
   "id": "f8e4b756",
   "metadata": {},
   "outputs": [],
   "source": []
  },
  {
   "cell_type": "code",
   "execution_count": 39,
   "id": "beb42b61",
   "metadata": {},
   "outputs": [
    {
     "data": {
      "text/html": [
       "<div><style>\n",
       ".dataframe > thead > tr,\n",
       ".dataframe > tbody > tr {\n",
       "  text-align: right;\n",
       "  white-space: pre-wrap;\n",
       "}\n",
       "</style>\n",
       "<small>shape: (98_415_610, 11)</small><table border=\"1\" class=\"dataframe\"><thead><tr><th>molecule</th><th>bb1</th><th>bb2</th><th>bb3</th><th>BRD4</th><th>HSA</th><th>sEH</th><th>scaffold_idx</th><th>mol_per_scaf</th><th>label</th><th>ori_index</th></tr><tr><td>str</td><td>u16</td><td>u16</td><td>u16</td><td>u8</td><td>u8</td><td>u8</td><td>i64</td><td>u32</td><td>u8</td><td>i64</td></tr></thead><tbody><tr><td>&quot;C#CCOc1ccc(CNc…</td><td>1640</td><td>1653</td><td>765</td><td>0</td><td>0</td><td>0</td><td>4283326</td><td>844</td><td>0</td><td>0</td></tr><tr><td>&quot;C#CCOc1ccc(CNc…</td><td>1640</td><td>1653</td><td>205</td><td>0</td><td>0</td><td>0</td><td>4486646</td><td>9444</td><td>0</td><td>1</td></tr><tr><td>&quot;C#CCOc1ccc(CNc…</td><td>1640</td><td>1653</td><td>1653</td><td>0</td><td>0</td><td>0</td><td>1015728</td><td>9030</td><td>0</td><td>2</td></tr><tr><td>&quot;C#CCOc1ccc(CNc…</td><td>1640</td><td>1653</td><td>146</td><td>0</td><td>0</td><td>0</td><td>5301385</td><td>26814</td><td>0</td><td>3</td></tr><tr><td>&quot;C#CCOc1ccc(CNc…</td><td>1640</td><td>1653</td><td>439</td><td>0</td><td>0</td><td>0</td><td>5301385</td><td>26814</td><td>0</td><td>4</td></tr><tr><td>&quot;C#CCOc1ccc(CNc…</td><td>1640</td><td>1653</td><td>196</td><td>0</td><td>0</td><td>0</td><td>5301385</td><td>26814</td><td>0</td><td>5</td></tr><tr><td>&quot;C#CCOc1ccc(CNc…</td><td>1640</td><td>1653</td><td>253</td><td>0</td><td>0</td><td>0</td><td>5301385</td><td>26814</td><td>0</td><td>6</td></tr><tr><td>&quot;C#CCOc1ccc(CNc…</td><td>1640</td><td>1653</td><td>1219</td><td>0</td><td>0</td><td>0</td><td>5301385</td><td>26814</td><td>0</td><td>7</td></tr><tr><td>&quot;C#CCOc1ccc(CNc…</td><td>1640</td><td>1653</td><td>604</td><td>0</td><td>0</td><td>0</td><td>543172</td><td>844</td><td>0</td><td>8</td></tr><tr><td>&quot;C#CCOc1ccc(CNc…</td><td>1640</td><td>1653</td><td>121</td><td>0</td><td>0</td><td>0</td><td>2571428</td><td>864</td><td>0</td><td>9</td></tr><tr><td>&hellip;</td><td>&hellip;</td><td>&hellip;</td><td>&hellip;</td><td>&hellip;</td><td>&hellip;</td><td>&hellip;</td><td>&hellip;</td><td>&hellip;</td><td>&hellip;</td><td>&hellip;</td></tr><tr><td>&quot;[N-]=[N+]=NCCC…</td><td>141</td><td>1415</td><td>536</td><td>0</td><td>0</td><td>0</td><td>4068980</td><td>276</td><td>0</td><td>98415600</td></tr><tr><td>&quot;[N-]=[N+]=NCCC…</td><td>141</td><td>1415</td><td>1367</td><td>0</td><td>0</td><td>0</td><td>2088996</td><td>20</td><td>0</td><td>98415601</td></tr><tr><td>&quot;[N-]=[N+]=NCCC…</td><td>141</td><td>1415</td><td>329</td><td>0</td><td>0</td><td>0</td><td>3192765</td><td>260</td><td>0</td><td>98415602</td></tr><tr><td>&quot;[N-]=[N+]=NCCC…</td><td>141</td><td>1415</td><td>757</td><td>0</td><td>0</td><td>0</td><td>4085046</td><td>20</td><td>0</td><td>98415603</td></tr><tr><td>&quot;[N-]=[N+]=NCCC…</td><td>141</td><td>1415</td><td>335</td><td>0</td><td>0</td><td>0</td><td>4087757</td><td>20</td><td>0</td><td>98415604</td></tr><tr><td>&quot;[N-]=[N+]=NCCC…</td><td>141</td><td>1415</td><td>1792</td><td>0</td><td>0</td><td>0</td><td>4674025</td><td>20</td><td>0</td><td>98415605</td></tr><tr><td>&quot;[N-]=[N+]=NCCC…</td><td>141</td><td>1415</td><td>1178</td><td>0</td><td>0</td><td>0</td><td>5240137</td><td>60</td><td>0</td><td>98415606</td></tr><tr><td>&quot;[N-]=[N+]=NCCC…</td><td>141</td><td>1415</td><td>1699</td><td>0</td><td>0</td><td>0</td><td>5240137</td><td>60</td><td>0</td><td>98415607</td></tr><tr><td>&quot;[N-]=[N+]=NCCC…</td><td>141</td><td>1415</td><td>1308</td><td>0</td><td>0</td><td>0</td><td>3617024</td><td>20</td><td>0</td><td>98415608</td></tr><tr><td>&quot;[N-]=[N+]=NCCC…</td><td>141</td><td>1415</td><td>1415</td><td>0</td><td>0</td><td>0</td><td>268351</td><td>20</td><td>0</td><td>98415609</td></tr></tbody></table></div>"
      ],
      "text/plain": [
       "shape: (98_415_610, 11)\n",
       "┌────────────┬──────┬──────┬──────┬──────┬─────┬─────┬────────────┬────────────┬───────┬───────────┐\n",
       "│ molecule   ┆ bb1  ┆ bb2  ┆ bb3  ┆ BRD4 ┆ HSA ┆ sEH ┆ scaffold_i ┆ mol_per_sc ┆ label ┆ ori_index │\n",
       "│ ---        ┆ ---  ┆ ---  ┆ ---  ┆ ---  ┆ --- ┆ --- ┆ dx         ┆ af         ┆ ---   ┆ ---       │\n",
       "│ str        ┆ u16  ┆ u16  ┆ u16  ┆ u8   ┆ u8  ┆ u8  ┆ ---        ┆ ---        ┆ u8    ┆ i64       │\n",
       "│            ┆      ┆      ┆      ┆      ┆     ┆     ┆ i64        ┆ u32        ┆       ┆           │\n",
       "╞════════════╪══════╪══════╪══════╪══════╪═════╪═════╪════════════╪════════════╪═══════╪═══════════╡\n",
       "│ C#CCOc1ccc ┆ 1640 ┆ 1653 ┆ 765  ┆ 0    ┆ 0   ┆ 0   ┆ 4283326    ┆ 844        ┆ 0     ┆ 0         │\n",
       "│ (CNc2nc(NC ┆      ┆      ┆      ┆      ┆     ┆     ┆            ┆            ┆       ┆           │\n",
       "│ C3CCCN3c3c ┆      ┆      ┆      ┆      ┆     ┆     ┆            ┆            ┆       ┆           │\n",
       "│ cc…        ┆      ┆      ┆      ┆      ┆     ┆     ┆            ┆            ┆       ┆           │\n",
       "│ C#CCOc1ccc ┆ 1640 ┆ 1653 ┆ 205  ┆ 0    ┆ 0   ┆ 0   ┆ 4486646    ┆ 9444       ┆ 0     ┆ 1         │\n",
       "│ (CNc2nc(NC ┆      ┆      ┆      ┆      ┆     ┆     ┆            ┆            ┆       ┆           │\n",
       "│ c3cccc(Br) ┆      ┆      ┆      ┆      ┆     ┆     ┆            ┆            ┆       ┆           │\n",
       "│ n3…        ┆      ┆      ┆      ┆      ┆     ┆     ┆            ┆            ┆       ┆           │\n",
       "│ C#CCOc1ccc ┆ 1640 ┆ 1653 ┆ 1653 ┆ 0    ┆ 0   ┆ 0   ┆ 1015728    ┆ 9030       ┆ 0     ┆ 2         │\n",
       "│ (CNc2nc(NC ┆      ┆      ┆      ┆      ┆     ┆     ┆            ┆            ┆       ┆           │\n",
       "│ c3ccc(OCC# ┆      ┆      ┆      ┆      ┆     ┆     ┆            ┆            ┆       ┆           │\n",
       "│ C)…        ┆      ┆      ┆      ┆      ┆     ┆     ┆            ┆            ┆       ┆           │\n",
       "│ C#CCOc1ccc ┆ 1640 ┆ 1653 ┆ 146  ┆ 0    ┆ 0   ┆ 0   ┆ 5301385    ┆ 26814      ┆ 0     ┆ 3         │\n",
       "│ (CNc2nc(NC ┆      ┆      ┆      ┆      ┆     ┆     ┆            ┆            ┆       ┆           │\n",
       "│ CNC(=O)C(= ┆      ┆      ┆      ┆      ┆     ┆     ┆            ┆            ┆       ┆           │\n",
       "│ C)…        ┆      ┆      ┆      ┆      ┆     ┆     ┆            ┆            ┆       ┆           │\n",
       "│ C#CCOc1ccc ┆ 1640 ┆ 1653 ┆ 439  ┆ 0    ┆ 0   ┆ 0   ┆ 5301385    ┆ 26814      ┆ 0     ┆ 4         │\n",
       "│ (CNc2nc(NC ┆      ┆      ┆      ┆      ┆     ┆     ┆            ┆            ┆       ┆           │\n",
       "│ C(=O)NCC=C ┆      ┆      ┆      ┆      ┆     ┆     ┆            ┆            ┆       ┆           │\n",
       "│ )n…        ┆      ┆      ┆      ┆      ┆     ┆     ┆            ┆            ┆       ┆           │\n",
       "│ C#CCOc1ccc ┆ 1640 ┆ 1653 ┆ 196  ┆ 0    ┆ 0   ┆ 0   ┆ 5301385    ┆ 26814      ┆ 0     ┆ 5         │\n",
       "│ (CNc2nc(NC ┆      ┆      ┆      ┆      ┆     ┆     ┆            ┆            ┆       ┆           │\n",
       "│ C(C)OCC=C) ┆      ┆      ┆      ┆      ┆     ┆     ┆            ┆            ┆       ┆           │\n",
       "│ nc…        ┆      ┆      ┆      ┆      ┆     ┆     ┆            ┆            ┆       ┆           │\n",
       "│ C#CCOc1ccc ┆ 1640 ┆ 1653 ┆ 253  ┆ 0    ┆ 0   ┆ 0   ┆ 5301385    ┆ 26814      ┆ 0     ┆ 6         │\n",
       "│ (CNc2nc(NC ┆      ┆      ┆      ┆      ┆     ┆     ┆            ┆            ┆       ┆           │\n",
       "│ CCOCC=C)nc ┆      ┆      ┆      ┆      ┆     ┆     ┆            ┆            ┆       ┆           │\n",
       "│ (N…        ┆      ┆      ┆      ┆      ┆     ┆     ┆            ┆            ┆       ┆           │\n",
       "│ C#CCOc1ccc ┆ 1640 ┆ 1653 ┆ 1219 ┆ 0    ┆ 0   ┆ 0   ┆ 5301385    ┆ 26814      ┆ 0     ┆ 7         │\n",
       "│ (CNc2nc(NC ┆      ┆      ┆      ┆      ┆     ┆     ┆            ┆            ┆       ┆           │\n",
       "│ COCC=C)nc( ┆      ┆      ┆      ┆      ┆     ┆     ┆            ┆            ┆       ┆           │\n",
       "│ N[…        ┆      ┆      ┆      ┆      ┆     ┆     ┆            ┆            ┆       ┆           │\n",
       "│ C#CCOc1ccc ┆ 1640 ┆ 1653 ┆ 604  ┆ 0    ┆ 0   ┆ 0   ┆ 543172     ┆ 844        ┆ 0     ┆ 8         │\n",
       "│ (CNc2nc(Nc ┆      ┆      ┆      ┆      ┆     ┆     ┆            ┆            ┆       ┆           │\n",
       "│ 3cnn(C4CCN ┆      ┆      ┆      ┆      ┆     ┆     ┆            ┆            ┆       ┆           │\n",
       "│ (C…        ┆      ┆      ┆      ┆      ┆     ┆     ┆            ┆            ┆       ┆           │\n",
       "│ C#CCOc1ccc ┆ 1640 ┆ 1653 ┆ 121  ┆ 0    ┆ 0   ┆ 0   ┆ 2571428    ┆ 864        ┆ 0     ┆ 9         │\n",
       "│ (CNc2nc(Nc ┆      ┆      ┆      ┆      ┆     ┆     ┆            ┆            ┆       ┆           │\n",
       "│ 3n[nH]c4c3 ┆      ┆      ┆      ┆      ┆     ┆     ┆            ┆            ┆       ┆           │\n",
       "│ CN…        ┆      ┆      ┆      ┆      ┆     ┆     ┆            ┆            ┆       ┆           │\n",
       "│ …          ┆ …    ┆ …    ┆ …    ┆ …    ┆ …   ┆ …   ┆ …          ┆ …          ┆ …     ┆ …         │\n",
       "│ [N-]=[N+]= ┆ 141  ┆ 1415 ┆ 536  ┆ 0    ┆ 0   ┆ 0   ┆ 4068980    ┆ 276        ┆ 0     ┆ 98415600  │\n",
       "│ NCCC[C@H]( ┆      ┆      ┆      ┆      ┆     ┆     ┆            ┆            ┆       ┆           │\n",
       "│ Nc1nc(Nc2n ┆      ┆      ┆      ┆      ┆     ┆     ┆            ┆            ┆       ┆           │\n",
       "│ cc…        ┆      ┆      ┆      ┆      ┆     ┆     ┆            ┆            ┆       ┆           │\n",
       "│ [N-]=[N+]= ┆ 141  ┆ 1415 ┆ 1367 ┆ 0    ┆ 0   ┆ 0   ┆ 2088996    ┆ 20         ┆ 0     ┆ 98415601  │\n",
       "│ NCCC[C@H]( ┆      ┆      ┆      ┆      ┆     ┆     ┆            ┆            ┆       ┆           │\n",
       "│ Nc1nc(Nc2n ┆      ┆      ┆      ┆      ┆     ┆     ┆            ┆            ┆       ┆           │\n",
       "│ cn…        ┆      ┆      ┆      ┆      ┆     ┆     ┆            ┆            ┆       ┆           │\n",
       "│ [N-]=[N+]= ┆ 141  ┆ 1415 ┆ 329  ┆ 0    ┆ 0   ┆ 0   ┆ 3192765    ┆ 260        ┆ 0     ┆ 98415602  │\n",
       "│ NCCC[C@H]( ┆      ┆      ┆      ┆      ┆     ┆     ┆            ┆            ┆       ┆           │\n",
       "│ Nc1nc(Nc2n ┆      ┆      ┆      ┆      ┆     ┆     ┆            ┆            ┆       ┆           │\n",
       "│ cn…        ┆      ┆      ┆      ┆      ┆     ┆     ┆            ┆            ┆       ┆           │\n",
       "│ [N-]=[N+]= ┆ 141  ┆ 1415 ┆ 757  ┆ 0    ┆ 0   ┆ 0   ┆ 4085046    ┆ 20         ┆ 0     ┆ 98415603  │\n",
       "│ NCCC[C@H]( ┆      ┆      ┆      ┆      ┆     ┆     ┆            ┆            ┆       ┆           │\n",
       "│ Nc1nc(Nc2n ┆      ┆      ┆      ┆      ┆     ┆     ┆            ┆            ┆       ┆           │\n",
       "│ oc…        ┆      ┆      ┆      ┆      ┆     ┆     ┆            ┆            ┆       ┆           │\n",
       "│ [N-]=[N+]= ┆ 141  ┆ 1415 ┆ 335  ┆ 0    ┆ 0   ┆ 0   ┆ 4087757    ┆ 20         ┆ 0     ┆ 98415604  │\n",
       "│ NCCC[C@H]( ┆      ┆      ┆      ┆      ┆     ┆     ┆            ┆            ┆       ┆           │\n",
       "│ Nc1nc(Nc2n ┆      ┆      ┆      ┆      ┆     ┆     ┆            ┆            ┆       ┆           │\n",
       "│ cn…        ┆      ┆      ┆      ┆      ┆     ┆     ┆            ┆            ┆       ┆           │\n",
       "│ [N-]=[N+]= ┆ 141  ┆ 1415 ┆ 1792 ┆ 0    ┆ 0   ┆ 0   ┆ 4674025    ┆ 20         ┆ 0     ┆ 98415605  │\n",
       "│ NCCC[C@H]( ┆      ┆      ┆      ┆      ┆     ┆     ┆            ┆            ┆       ┆           │\n",
       "│ Nc1nc(Nc2n ┆      ┆      ┆      ┆      ┆     ┆     ┆            ┆            ┆       ┆           │\n",
       "│ oc…        ┆      ┆      ┆      ┆      ┆     ┆     ┆            ┆            ┆       ┆           │\n",
       "│ [N-]=[N+]= ┆ 141  ┆ 1415 ┆ 1178 ┆ 0    ┆ 0   ┆ 0   ┆ 5240137    ┆ 60         ┆ 0     ┆ 98415606  │\n",
       "│ NCCC[C@H]( ┆      ┆      ┆      ┆      ┆     ┆     ┆            ┆            ┆       ┆           │\n",
       "│ Nc1nc(Nc2n ┆      ┆      ┆      ┆      ┆     ┆     ┆            ┆            ┆       ┆           │\n",
       "│ nc…        ┆      ┆      ┆      ┆      ┆     ┆     ┆            ┆            ┆       ┆           │\n",
       "│ [N-]=[N+]= ┆ 141  ┆ 1415 ┆ 1699 ┆ 0    ┆ 0   ┆ 0   ┆ 5240137    ┆ 60         ┆ 0     ┆ 98415607  │\n",
       "│ NCCC[C@H]( ┆      ┆      ┆      ┆      ┆     ┆     ┆            ┆            ┆       ┆           │\n",
       "│ Nc1nc(Nc2n ┆      ┆      ┆      ┆      ┆     ┆     ┆            ┆            ┆       ┆           │\n",
       "│ nc…        ┆      ┆      ┆      ┆      ┆     ┆     ┆            ┆            ┆       ┆           │\n",
       "│ [N-]=[N+]= ┆ 141  ┆ 1415 ┆ 1308 ┆ 0    ┆ 0   ┆ 0   ┆ 3617024    ┆ 20         ┆ 0     ┆ 98415608  │\n",
       "│ NCCC[C@H]( ┆      ┆      ┆      ┆      ┆     ┆     ┆            ┆            ┆       ┆           │\n",
       "│ Nc1nc(Nc2n ┆      ┆      ┆      ┆      ┆     ┆     ┆            ┆            ┆       ┆           │\n",
       "│ nn…        ┆      ┆      ┆      ┆      ┆     ┆     ┆            ┆            ┆       ┆           │\n",
       "│ [N-]=[N+]= ┆ 141  ┆ 1415 ┆ 1415 ┆ 0    ┆ 0   ┆ 0   ┆ 268351     ┆ 20         ┆ 0     ┆ 98415609  │\n",
       "│ NCCC[C@H]( ┆      ┆      ┆      ┆      ┆     ┆     ┆            ┆            ┆       ┆           │\n",
       "│ Nc1nc(Nc2n ┆      ┆      ┆      ┆      ┆     ┆     ┆            ┆            ┆       ┆           │\n",
       "│ oc…        ┆      ┆      ┆      ┆      ┆     ┆     ┆            ┆            ┆       ┆           │\n",
       "└────────────┴──────┴──────┴──────┴──────┴─────┴─────┴────────────┴────────────┴───────┴───────────┘"
      ]
     },
     "execution_count": 39,
     "metadata": {},
     "output_type": "execute_result"
    }
   ],
   "source": [
    "train_df = train_df.with_columns(ori_index = pl.Series(list(range(len(train_df)))))\n",
    "train_df"
   ]
  },
  {
   "cell_type": "code",
   "execution_count": null,
   "id": "8f3081cc",
   "metadata": {},
   "outputs": [],
   "source": []
  },
  {
   "cell_type": "code",
   "execution_count": null,
   "id": "4b13adf7",
   "metadata": {},
   "outputs": [],
   "source": []
  },
  {
   "cell_type": "code",
   "execution_count": 40,
   "id": "4fe663f8",
   "metadata": {},
   "outputs": [
    {
     "name": "stdout",
     "output_type": "stream",
     "text": [
      "##### STAGE 1 #####\n",
      "Number of test-only building blocks: 136\n",
      "Number of non-shared molecules: (173831, 12)\n",
      "Stage2=54200, Stage3=126036\n",
      "Stage 1 Test set statistic:\n"
     ]
    },
    {
     "data": {
      "text/html": [
       "<div><style>\n",
       ".dataframe > thead > tr,\n",
       ".dataframe > tbody > tr {\n",
       "  text-align: right;\n",
       "  white-space: pre-wrap;\n",
       "}\n",
       "</style>\n",
       "<small>shape: (1, 12)</small><table border=\"1\" class=\"dataframe\"><thead><tr><th>molecule</th><th>bb1</th><th>bb2</th><th>bb3</th><th>BRD4</th><th>HSA</th><th>sEH</th><th>scaffold_idx</th><th>mol_per_scaf</th><th>label</th><th>ori_index</th><th>subset</th></tr><tr><td>u32</td><td>u32</td><td>u32</td><td>u32</td><td>u32</td><td>u32</td><td>u32</td><td>u32</td><td>u32</td><td>u32</td><td>u32</td><td>u32</td></tr></thead><tbody><tr><td>31579445</td><td>271</td><td>693</td><td>872</td><td>2</td><td>2</td><td>2</td><td>2548438</td><td>2388</td><td>8</td><td>31579445</td><td>2</td></tr></tbody></table></div>"
      ],
      "text/plain": [
       "shape: (1, 12)\n",
       "┌──────────┬─────┬─────┬─────┬──────┬─────┬─────┬───────────┬──────────┬───────┬──────────┬────────┐\n",
       "│ molecule ┆ bb1 ┆ bb2 ┆ bb3 ┆ BRD4 ┆ HSA ┆ sEH ┆ scaffold_ ┆ mol_per_ ┆ label ┆ ori_inde ┆ subset │\n",
       "│ ---      ┆ --- ┆ --- ┆ --- ┆ ---  ┆ --- ┆ --- ┆ idx       ┆ scaf     ┆ ---   ┆ x        ┆ ---    │\n",
       "│ u32      ┆ u32 ┆ u32 ┆ u32 ┆ u32  ┆ u32 ┆ u32 ┆ ---       ┆ ---      ┆ u32   ┆ ---      ┆ u32    │\n",
       "│          ┆     ┆     ┆     ┆      ┆     ┆     ┆ u32       ┆ u32      ┆       ┆ u32      ┆        │\n",
       "╞══════════╪═════╪═════╪═════╪══════╪═════╪═════╪═══════════╪══════════╪═══════╪══════════╪════════╡\n",
       "│ 31579445 ┆ 271 ┆ 693 ┆ 872 ┆ 2    ┆ 2   ┆ 2   ┆ 2548438   ┆ 2388     ┆ 8     ┆ 31579445 ┆ 2      │\n",
       "└──────────┴─────┴─────┴─────┴──────┴─────┴─────┴───────────┴──────────┴───────┴──────────┴────────┘"
      ]
     },
     "metadata": {},
     "output_type": "display_data"
    },
    {
     "data": {
      "text/html": [
       "<div><style>\n",
       ".dataframe > thead > tr,\n",
       ".dataframe > tbody > tr {\n",
       "  text-align: right;\n",
       "  white-space: pre-wrap;\n",
       "}\n",
       "</style>\n",
       "<small>shape: (17, 13)</small><table border=\"1\" class=\"dataframe\"><thead><tr><th>statistic</th><th>molecule</th><th>bb1</th><th>bb2</th><th>bb3</th><th>BRD4</th><th>HSA</th><th>sEH</th><th>scaffold_idx</th><th>mol_per_scaf</th><th>label</th><th>ori_index</th><th>subset</th></tr><tr><td>str</td><td>str</td><td>f64</td><td>f64</td><td>f64</td><td>f64</td><td>f64</td><td>f64</td><td>f64</td><td>f64</td><td>f64</td><td>f64</td><td>f64</td></tr></thead><tbody><tr><td>&quot;count&quot;</td><td>&quot;31579445&quot;</td><td>3.1579445e7</td><td>3.1579445e7</td><td>3.1579445e7</td><td>3.1579445e7</td><td>3.1579445e7</td><td>3.1579445e7</td><td>3.1579445e7</td><td>3.1579445e7</td><td>3.1579445e7</td><td>3.1579445e7</td><td>3.1579445e7</td></tr><tr><td>&quot;null_count&quot;</td><td>&quot;0&quot;</td><td>0.0</td><td>0.0</td><td>0.0</td><td>0.0</td><td>0.0</td><td>0.0</td><td>0.0</td><td>0.0</td><td>0.0</td><td>0.0</td><td>0.0</td></tr><tr><td>&quot;mean&quot;</td><td>null</td><td>1119.771436</td><td>1069.935063</td><td>1070.24005</td><td>0.004371</td><td>0.003866</td><td>0.006899</td><td>3.0424e6</td><td>18437.700256</td><td>0.032116</td><td>4.8620e7</td><td>0.994495</td></tr><tr><td>&quot;std&quot;</td><td>null</td><td>587.45225</td><td>616.061992</td><td>613.196835</td><td>0.06597</td><td>0.06206</td><td>0.082771</td><td>1.7261e6</td><td>65057.518335</td><td>0.306994</td><td>2.7679e7</td><td>0.073988</td></tr><tr><td>&quot;min&quot;</td><td>&quot;C#CCOc1ccc(CNc…</td><td>7.0</td><td>0.0</td><td>0.0</td><td>0.0</td><td>0.0</td><td>0.0</td><td>0.0</td><td>1.0</td><td>0.0</td><td>0.0</td><td>0.0</td></tr><tr><td>&quot;1%&quot;</td><td>null</td><td>36.0</td><td>25.0</td><td>20.0</td><td>0.0</td><td>0.0</td><td>0.0</td><td>68630.0</td><td>1.0</td><td>0.0</td><td>315794.0</td><td>1.0</td></tr><tr><td>&quot;2.5%&quot;</td><td>null</td><td>76.0</td><td>49.0</td><td>46.0</td><td>0.0</td><td>0.0</td><td>0.0</td><td>158172.0</td><td>2.0</td><td>0.0</td><td>2.248088e6</td><td>1.0</td></tr><tr><td>&quot;5%&quot;</td><td>null</td><td>171.0</td><td>110.0</td><td>113.0</td><td>0.0</td><td>0.0</td><td>0.0</td><td>289734.0</td><td>3.0</td><td>0.0</td><td>5.509581e6</td><td>1.0</td></tr><tr><td>&quot;10%&quot;</td><td>null</td><td>346.0</td><td>154.0</td><td>206.0</td><td>0.0</td><td>0.0</td><td>0.0</td><td>614327.0</td><td>9.0</td><td>0.0</td><td>1.0203882e7</td><td>1.0</td></tr><tr><td>&quot;25%&quot;</td><td>null</td><td>603.0</td><td>547.0</td><td>543.0</td><td>0.0</td><td>0.0</td><td>0.0</td><td>1.555552e6</td><td>72.0</td><td>0.0</td><td>2.6148531e7</td><td>1.0</td></tr><tr><td>&quot;50%&quot;</td><td>null</td><td>1120.0</td><td>1118.0</td><td>1118.0</td><td>0.0</td><td>0.0</td><td>0.0</td><td>3.063057e6</td><td>486.0</td><td>0.0</td><td>4.735673e7</td><td>1.0</td></tr><tr><td>&quot;75%&quot;</td><td>null</td><td>1640.0</td><td>1596.0</td><td>1597.0</td><td>0.0</td><td>0.0</td><td>0.0</td><td>4.583912e6</td><td>4800.0</td><td>0.0</td><td>7.3390181e7</td><td>1.0</td></tr><tr><td>&quot;90%&quot;</td><td>null</td><td>1902.0</td><td>1882.0</td><td>1894.0</td><td>0.0</td><td>0.0</td><td>0.0</td><td>5.400444e6</td><td>29588.0</td><td>0.0</td><td>8.8193589e7</td><td>1.0</td></tr><tr><td>&quot;95%&quot;</td><td>null</td><td>2002.0</td><td>1991.0</td><td>2004.0</td><td>0.0</td><td>0.0</td><td>0.0</td><td>5.688689e6</td><td>92829.0</td><td>0.0</td><td>9.3466387e7</td><td>1.0</td></tr><tr><td>&quot;97.5%&quot;</td><td>null</td><td>2050.0</td><td>2064.0</td><td>2070.0</td><td>0.0</td><td>0.0</td><td>0.0</td><td>5.852459e6</td><td>237652.0</td><td>0.0</td><td>9.5379464e7</td><td>1.0</td></tr><tr><td>&quot;99%&quot;</td><td>null</td><td>2059.0</td><td>2086.0</td><td>2091.0</td><td>0.0</td><td>0.0</td><td>0.0</td><td>5.929438e6</td><td>413576.0</td><td>1.0</td><td>9.7025965e7</td><td>1.0</td></tr><tr><td>&quot;max&quot;</td><td>&quot;[N-]=[N+]=NCCC…</td><td>2084.0</td><td>2109.0</td><td>2109.0</td><td>1.0</td><td>1.0</td><td>1.0</td><td>5.971682e6</td><td>500170.0</td><td>7.0</td><td>9.8415609e7</td><td>1.0</td></tr></tbody></table></div>"
      ],
      "text/plain": [
       "shape: (17, 13)\n",
       "┌─────┬─────┬─────┬────────┬───────┬───────┬───────┬───────┬───────┬───────┬───────┬───────┬───────┐\n",
       "│ sta ┆ mol ┆ bb1 ┆ bb2    ┆ bb3   ┆ BRD4  ┆ HSA   ┆ sEH   ┆ scaff ┆ mol_p ┆ label ┆ ori_i ┆ subse │\n",
       "│ tis ┆ ecu ┆ --- ┆ ---    ┆ ---   ┆ ---   ┆ ---   ┆ ---   ┆ old_i ┆ er_sc ┆ ---   ┆ ndex  ┆ t     │\n",
       "│ tic ┆ le  ┆ f64 ┆ f64    ┆ f64   ┆ f64   ┆ f64   ┆ f64   ┆ dx    ┆ af    ┆ f64   ┆ ---   ┆ ---   │\n",
       "│ --- ┆ --- ┆     ┆        ┆       ┆       ┆       ┆       ┆ ---   ┆ ---   ┆       ┆ f64   ┆ f64   │\n",
       "│ str ┆ str ┆     ┆        ┆       ┆       ┆       ┆       ┆ f64   ┆ f64   ┆       ┆       ┆       │\n",
       "╞═════╪═════╪═════╪════════╪═══════╪═══════╪═══════╪═══════╪═══════╪═══════╪═══════╪═══════╪═══════╡\n",
       "│ cou ┆ 315 ┆ 3.1 ┆ 3.1579 ┆ 3.157 ┆ 3.157 ┆ 3.157 ┆ 3.157 ┆ 3.157 ┆ 3.157 ┆ 3.157 ┆ 3.157 ┆ 3.157 │\n",
       "│ nt  ┆ 794 ┆ 579 ┆ 445e7  ┆ 9445e ┆ 9445e ┆ 9445e ┆ 9445e ┆ 9445e ┆ 9445e ┆ 9445e ┆ 9445e ┆ 9445e │\n",
       "│     ┆ 45  ┆ 445 ┆        ┆ 7     ┆ 7     ┆ 7     ┆ 7     ┆ 7     ┆ 7     ┆ 7     ┆ 7     ┆ 7     │\n",
       "│     ┆     ┆ e7  ┆        ┆       ┆       ┆       ┆       ┆       ┆       ┆       ┆       ┆       │\n",
       "│ nul ┆ 0   ┆ 0.0 ┆ 0.0    ┆ 0.0   ┆ 0.0   ┆ 0.0   ┆ 0.0   ┆ 0.0   ┆ 0.0   ┆ 0.0   ┆ 0.0   ┆ 0.0   │\n",
       "│ l_c ┆     ┆     ┆        ┆       ┆       ┆       ┆       ┆       ┆       ┆       ┆       ┆       │\n",
       "│ oun ┆     ┆     ┆        ┆       ┆       ┆       ┆       ┆       ┆       ┆       ┆       ┆       │\n",
       "│ t   ┆     ┆     ┆        ┆       ┆       ┆       ┆       ┆       ┆       ┆       ┆       ┆       │\n",
       "│ mea ┆ nul ┆ 111 ┆ 1069.9 ┆ 1070. ┆ 0.004 ┆ 0.003 ┆ 0.006 ┆ 3.042 ┆ 18437 ┆ 0.032 ┆ 4.862 ┆ 0.994 │\n",
       "│ n   ┆ l   ┆ 9.7 ┆ 35063  ┆ 24005 ┆ 371   ┆ 866   ┆ 899   ┆ 4e6   ┆ .7002 ┆ 116   ┆ 0e7   ┆ 495   │\n",
       "│     ┆     ┆ 714 ┆        ┆       ┆       ┆       ┆       ┆       ┆ 56    ┆       ┆       ┆       │\n",
       "│     ┆     ┆ 36  ┆        ┆       ┆       ┆       ┆       ┆       ┆       ┆       ┆       ┆       │\n",
       "│ std ┆ nul ┆ 587 ┆ 616.06 ┆ 613.1 ┆ 0.065 ┆ 0.062 ┆ 0.082 ┆ 1.726 ┆ 65057 ┆ 0.306 ┆ 2.767 ┆ 0.073 │\n",
       "│     ┆ l   ┆ .45 ┆ 1992   ┆ 96835 ┆ 97    ┆ 06    ┆ 771   ┆ 1e6   ┆ .5183 ┆ 994   ┆ 9e7   ┆ 988   │\n",
       "│     ┆     ┆ 225 ┆        ┆       ┆       ┆       ┆       ┆       ┆ 35    ┆       ┆       ┆       │\n",
       "│ min ┆ C#C ┆ 7.0 ┆ 0.0    ┆ 0.0   ┆ 0.0   ┆ 0.0   ┆ 0.0   ┆ 0.0   ┆ 1.0   ┆ 0.0   ┆ 0.0   ┆ 0.0   │\n",
       "│     ┆ COc ┆     ┆        ┆       ┆       ┆       ┆       ┆       ┆       ┆       ┆       ┆       │\n",
       "│     ┆ 1cc ┆     ┆        ┆       ┆       ┆       ┆       ┆       ┆       ┆       ┆       ┆       │\n",
       "│     ┆ c(C ┆     ┆        ┆       ┆       ┆       ┆       ┆       ┆       ┆       ┆       ┆       │\n",
       "│     ┆ Nc2 ┆     ┆        ┆       ┆       ┆       ┆       ┆       ┆       ┆       ┆       ┆       │\n",
       "│     ┆ nc( ┆     ┆        ┆       ┆       ┆       ┆       ┆       ┆       ┆       ┆       ┆       │\n",
       "│     ┆ NC( ┆     ┆        ┆       ┆       ┆       ┆       ┆       ┆       ┆       ┆       ┆       │\n",
       "│     ┆ =N) ┆     ┆        ┆       ┆       ┆       ┆       ┆       ┆       ┆       ┆       ┆       │\n",
       "│     ┆ CCC ┆     ┆        ┆       ┆       ┆       ┆       ┆       ┆       ┆       ┆       ┆       │\n",
       "│     ┆ N)n ┆     ┆        ┆       ┆       ┆       ┆       ┆       ┆       ┆       ┆       ┆       │\n",
       "│     ┆ c(… ┆     ┆        ┆       ┆       ┆       ┆       ┆       ┆       ┆       ┆       ┆       │\n",
       "│ 1%  ┆ nul ┆ 36. ┆ 25.0   ┆ 20.0  ┆ 0.0   ┆ 0.0   ┆ 0.0   ┆ 68630 ┆ 1.0   ┆ 0.0   ┆ 31579 ┆ 1.0   │\n",
       "│     ┆ l   ┆ 0   ┆        ┆       ┆       ┆       ┆       ┆ .0    ┆       ┆       ┆ 4.0   ┆       │\n",
       "│ 2.5 ┆ nul ┆ 76. ┆ 49.0   ┆ 46.0  ┆ 0.0   ┆ 0.0   ┆ 0.0   ┆ 15817 ┆ 2.0   ┆ 0.0   ┆ 2.248 ┆ 1.0   │\n",
       "│ %   ┆ l   ┆ 0   ┆        ┆       ┆       ┆       ┆       ┆ 2.0   ┆       ┆       ┆ 088e6 ┆       │\n",
       "│ 5%  ┆ nul ┆ 171 ┆ 110.0  ┆ 113.0 ┆ 0.0   ┆ 0.0   ┆ 0.0   ┆ 28973 ┆ 3.0   ┆ 0.0   ┆ 5.509 ┆ 1.0   │\n",
       "│     ┆ l   ┆ .0  ┆        ┆       ┆       ┆       ┆       ┆ 4.0   ┆       ┆       ┆ 581e6 ┆       │\n",
       "│ 10% ┆ nul ┆ 346 ┆ 154.0  ┆ 206.0 ┆ 0.0   ┆ 0.0   ┆ 0.0   ┆ 61432 ┆ 9.0   ┆ 0.0   ┆ 1.020 ┆ 1.0   │\n",
       "│     ┆ l   ┆ .0  ┆        ┆       ┆       ┆       ┆       ┆ 7.0   ┆       ┆       ┆ 3882e ┆       │\n",
       "│     ┆     ┆     ┆        ┆       ┆       ┆       ┆       ┆       ┆       ┆       ┆ 7     ┆       │\n",
       "│ 25% ┆ nul ┆ 603 ┆ 547.0  ┆ 543.0 ┆ 0.0   ┆ 0.0   ┆ 0.0   ┆ 1.555 ┆ 72.0  ┆ 0.0   ┆ 2.614 ┆ 1.0   │\n",
       "│     ┆ l   ┆ .0  ┆        ┆       ┆       ┆       ┆       ┆ 552e6 ┆       ┆       ┆ 8531e ┆       │\n",
       "│     ┆     ┆     ┆        ┆       ┆       ┆       ┆       ┆       ┆       ┆       ┆ 7     ┆       │\n",
       "│ 50% ┆ nul ┆ 112 ┆ 1118.0 ┆ 1118. ┆ 0.0   ┆ 0.0   ┆ 0.0   ┆ 3.063 ┆ 486.0 ┆ 0.0   ┆ 4.735 ┆ 1.0   │\n",
       "│     ┆ l   ┆ 0.0 ┆        ┆ 0     ┆       ┆       ┆       ┆ 057e6 ┆       ┆       ┆ 673e7 ┆       │\n",
       "│ 75% ┆ nul ┆ 164 ┆ 1596.0 ┆ 1597. ┆ 0.0   ┆ 0.0   ┆ 0.0   ┆ 4.583 ┆ 4800. ┆ 0.0   ┆ 7.339 ┆ 1.0   │\n",
       "│     ┆ l   ┆ 0.0 ┆        ┆ 0     ┆       ┆       ┆       ┆ 912e6 ┆ 0     ┆       ┆ 0181e ┆       │\n",
       "│     ┆     ┆     ┆        ┆       ┆       ┆       ┆       ┆       ┆       ┆       ┆ 7     ┆       │\n",
       "│ 90% ┆ nul ┆ 190 ┆ 1882.0 ┆ 1894. ┆ 0.0   ┆ 0.0   ┆ 0.0   ┆ 5.400 ┆ 29588 ┆ 0.0   ┆ 8.819 ┆ 1.0   │\n",
       "│     ┆ l   ┆ 2.0 ┆        ┆ 0     ┆       ┆       ┆       ┆ 444e6 ┆ .0    ┆       ┆ 3589e ┆       │\n",
       "│     ┆     ┆     ┆        ┆       ┆       ┆       ┆       ┆       ┆       ┆       ┆ 7     ┆       │\n",
       "│ 95% ┆ nul ┆ 200 ┆ 1991.0 ┆ 2004. ┆ 0.0   ┆ 0.0   ┆ 0.0   ┆ 5.688 ┆ 92829 ┆ 0.0   ┆ 9.346 ┆ 1.0   │\n",
       "│     ┆ l   ┆ 2.0 ┆        ┆ 0     ┆       ┆       ┆       ┆ 689e6 ┆ .0    ┆       ┆ 6387e ┆       │\n",
       "│     ┆     ┆     ┆        ┆       ┆       ┆       ┆       ┆       ┆       ┆       ┆ 7     ┆       │\n",
       "│ 97. ┆ nul ┆ 205 ┆ 2064.0 ┆ 2070. ┆ 0.0   ┆ 0.0   ┆ 0.0   ┆ 5.852 ┆ 23765 ┆ 0.0   ┆ 9.537 ┆ 1.0   │\n",
       "│ 5%  ┆ l   ┆ 0.0 ┆        ┆ 0     ┆       ┆       ┆       ┆ 459e6 ┆ 2.0   ┆       ┆ 9464e ┆       │\n",
       "│     ┆     ┆     ┆        ┆       ┆       ┆       ┆       ┆       ┆       ┆       ┆ 7     ┆       │\n",
       "│ 99% ┆ nul ┆ 205 ┆ 2086.0 ┆ 2091. ┆ 0.0   ┆ 0.0   ┆ 0.0   ┆ 5.929 ┆ 41357 ┆ 1.0   ┆ 9.702 ┆ 1.0   │\n",
       "│     ┆ l   ┆ 9.0 ┆        ┆ 0     ┆       ┆       ┆       ┆ 438e6 ┆ 6.0   ┆       ┆ 5965e ┆       │\n",
       "│     ┆     ┆     ┆        ┆       ┆       ┆       ┆       ┆       ┆       ┆       ┆ 7     ┆       │\n",
       "│ max ┆ [N- ┆ 208 ┆ 2109.0 ┆ 2109. ┆ 1.0   ┆ 1.0   ┆ 1.0   ┆ 5.971 ┆ 50017 ┆ 7.0   ┆ 9.841 ┆ 1.0   │\n",
       "│     ┆ ]=[ ┆ 4.0 ┆        ┆ 0     ┆       ┆       ┆       ┆ 682e6 ┆ 0.0   ┆       ┆ 5609e ┆       │\n",
       "│     ┆ N+] ┆     ┆        ┆       ┆       ┆       ┆       ┆       ┆       ┆       ┆ 7     ┆       │\n",
       "│     ┆ =NC ┆     ┆        ┆       ┆       ┆       ┆       ┆       ┆       ┆       ┆       ┆       │\n",
       "│     ┆ CC[ ┆     ┆        ┆       ┆       ┆       ┆       ┆       ┆       ┆       ┆       ┆       │\n",
       "│     ┆ C@H ┆     ┆        ┆       ┆       ┆       ┆       ┆       ┆       ┆       ┆       ┆       │\n",
       "│     ┆ ](N ┆     ┆        ┆       ┆       ┆       ┆       ┆       ┆       ┆       ┆       ┆       │\n",
       "│     ┆ c1n ┆     ┆        ┆       ┆       ┆       ┆       ┆       ┆       ┆       ┆       ┆       │\n",
       "│     ┆ c(N ┆     ┆        ┆       ┆       ┆       ┆       ┆       ┆       ┆       ┆       ┆       │\n",
       "│     ┆ c2n ┆     ┆        ┆       ┆       ┆       ┆       ┆       ┆       ┆       ┆       ┆       │\n",
       "│     ┆ oc… ┆     ┆        ┆       ┆       ┆       ┆       ┆       ┆       ┆       ┆       ┆       │\n",
       "└─────┴─────┴─────┴────────┴───────┴───────┴───────┴───────┴───────┴───────┴───────┴───────┴───────┘"
      ]
     },
     "metadata": {},
     "output_type": "display_data"
    },
    {
     "name": "stdout",
     "output_type": "stream",
     "text": [
      "Stage 1 NON-SHARED Test set statistic:\n"
     ]
    },
    {
     "data": {
      "text/html": [
       "<div><style>\n",
       ".dataframe > thead > tr,\n",
       ".dataframe > tbody > tr {\n",
       "  text-align: right;\n",
       "  white-space: pre-wrap;\n",
       "}\n",
       "</style>\n",
       "<small>shape: (1, 12)</small><table border=\"1\" class=\"dataframe\"><thead><tr><th>molecule</th><th>bb1</th><th>bb2</th><th>bb3</th><th>BRD4</th><th>HSA</th><th>sEH</th><th>scaffold_idx</th><th>mol_per_scaf</th><th>label</th><th>ori_index</th><th>subset</th></tr><tr><td>u32</td><td>u32</td><td>u32</td><td>u32</td><td>u32</td><td>u32</td><td>u32</td><td>u32</td><td>u32</td><td>u32</td><td>u32</td><td>u32</td></tr></thead><tbody><tr><td>173831</td><td>33</td><td>92</td><td>103</td><td>2</td><td>2</td><td>2</td><td>29933</td><td>1460</td><td>6</td><td>173831</td><td>1</td></tr></tbody></table></div>"
      ],
      "text/plain": [
       "shape: (1, 12)\n",
       "┌──────────┬─────┬─────┬─────┬──────┬─────┬─────┬───────────┬──────────┬───────┬──────────┬────────┐\n",
       "│ molecule ┆ bb1 ┆ bb2 ┆ bb3 ┆ BRD4 ┆ HSA ┆ sEH ┆ scaffold_ ┆ mol_per_ ┆ label ┆ ori_inde ┆ subset │\n",
       "│ ---      ┆ --- ┆ --- ┆ --- ┆ ---  ┆ --- ┆ --- ┆ idx       ┆ scaf     ┆ ---   ┆ x        ┆ ---    │\n",
       "│ u32      ┆ u32 ┆ u32 ┆ u32 ┆ u32  ┆ u32 ┆ u32 ┆ ---       ┆ ---      ┆ u32   ┆ ---      ┆ u32    │\n",
       "│          ┆     ┆     ┆     ┆      ┆     ┆     ┆ u32       ┆ u32      ┆       ┆ u32      ┆        │\n",
       "╞══════════╪═════╪═════╪═════╪══════╪═════╪═════╪═══════════╪══════════╪═══════╪══════════╪════════╡\n",
       "│ 173831   ┆ 33  ┆ 92  ┆ 103 ┆ 2    ┆ 2   ┆ 2   ┆ 29933     ┆ 1460     ┆ 6     ┆ 173831   ┆ 1      │\n",
       "└──────────┴─────┴─────┴─────┴──────┴─────┴─────┴───────────┴──────────┴───────┴──────────┴────────┘"
      ]
     },
     "metadata": {},
     "output_type": "display_data"
    },
    {
     "data": {
      "text/html": [
       "<div><style>\n",
       ".dataframe > thead > tr,\n",
       ".dataframe > tbody > tr {\n",
       "  text-align: right;\n",
       "  white-space: pre-wrap;\n",
       "}\n",
       "</style>\n",
       "<small>shape: (17, 13)</small><table border=\"1\" class=\"dataframe\"><thead><tr><th>statistic</th><th>molecule</th><th>bb1</th><th>bb2</th><th>bb3</th><th>BRD4</th><th>HSA</th><th>sEH</th><th>scaffold_idx</th><th>mol_per_scaf</th><th>label</th><th>ori_index</th><th>subset</th></tr><tr><td>str</td><td>str</td><td>f64</td><td>f64</td><td>f64</td><td>f64</td><td>f64</td><td>f64</td><td>f64</td><td>f64</td><td>f64</td><td>f64</td><td>f64</td></tr></thead><tbody><tr><td>&quot;count&quot;</td><td>&quot;173831&quot;</td><td>173831.0</td><td>173831.0</td><td>173831.0</td><td>173831.0</td><td>173831.0</td><td>173831.0</td><td>173831.0</td><td>173831.0</td><td>173831.0</td><td>173831.0</td><td>173831.0</td></tr><tr><td>&quot;null_count&quot;</td><td>&quot;0&quot;</td><td>0.0</td><td>0.0</td><td>0.0</td><td>0.0</td><td>0.0</td><td>0.0</td><td>0.0</td><td>0.0</td><td>0.0</td><td>0.0</td><td>0.0</td></tr><tr><td>&quot;mean&quot;</td><td>null</td><td>1193.623629</td><td>1046.8883</td><td>1144.719872</td><td>0.003291</td><td>0.003095</td><td>0.006196</td><td>3.1022e6</td><td>27788.718215</td><td>0.025548</td><td>4.7216e7</td><td>0.0</td></tr><tr><td>&quot;std&quot;</td><td>null</td><td>573.001427</td><td>624.412412</td><td>611.461461</td><td>0.057269</td><td>0.055546</td><td>0.078469</td><td>1.7318e6</td><td>81885.594977</td><td>0.270206</td><td>2.5784e7</td><td>0.0</td></tr><tr><td>&quot;min&quot;</td><td>&quot;C#CCOc1cccc(CN…</td><td>51.0</td><td>24.0</td><td>24.0</td><td>0.0</td><td>0.0</td><td>0.0</td><td>10.0</td><td>1.0</td><td>0.0</td><td>486.0</td><td>0.0</td></tr><tr><td>&quot;1%&quot;</td><td>null</td><td>51.0</td><td>24.0</td><td>28.0</td><td>0.0</td><td>0.0</td><td>0.0</td><td>73471.0</td><td>1.0</td><td>0.0</td><td>125117.0</td><td>0.0</td></tr><tr><td>&quot;2.5%&quot;</td><td>null</td><td>51.0</td><td>84.0</td><td>84.0</td><td>0.0</td><td>0.0</td><td>0.0</td><td>153758.0</td><td>2.0</td><td>0.0</td><td>289302.0</td><td>0.0</td></tr><tr><td>&quot;5%&quot;</td><td>null</td><td>171.0</td><td>120.0</td><td>135.0</td><td>0.0</td><td>0.0</td><td>0.0</td><td>280549.0</td><td>4.0</td><td>0.0</td><td>5.677406e6</td><td>0.0</td></tr><tr><td>&quot;10%&quot;</td><td>null</td><td>452.0</td><td>150.0</td><td>206.0</td><td>0.0</td><td>0.0</td><td>0.0</td><td>632475.0</td><td>12.0</td><td>0.0</td><td>1.2468804e7</td><td>0.0</td></tr><tr><td>&quot;25%&quot;</td><td>null</td><td>766.0</td><td>489.0</td><td>578.0</td><td>0.0</td><td>0.0</td><td>0.0</td><td>1.621649e6</td><td>87.0</td><td>0.0</td><td>2.8795947e7</td><td>0.0</td></tr><tr><td>&quot;50%&quot;</td><td>null</td><td>1211.0</td><td>1118.0</td><td>1352.0</td><td>0.0</td><td>0.0</td><td>0.0</td><td>3.160504e6</td><td>904.0</td><td>0.0</td><td>4.6689271e7</td><td>0.0</td></tr><tr><td>&quot;75%&quot;</td><td>null</td><td>1723.0</td><td>1596.0</td><td>1702.0</td><td>0.0</td><td>0.0</td><td>0.0</td><td>4.63275e6</td><td>8439.0</td><td>0.0</td><td>6.3802416e7</td><td>0.0</td></tr><tr><td>&quot;90%&quot;</td><td>null</td><td>1902.0</td><td>1856.0</td><td>1898.0</td><td>0.0</td><td>0.0</td><td>0.0</td><td>5.429146e6</td><td>61331.0</td><td>0.0</td><td>8.1948312e7</td><td>0.0</td></tr><tr><td>&quot;95%&quot;</td><td>null</td><td>1993.0</td><td>1909.0</td><td>1995.0</td><td>0.0</td><td>0.0</td><td>0.0</td><td>5.712952e6</td><td>224960.0</td><td>0.0</td><td>9.3461329e7</td><td>0.0</td></tr><tr><td>&quot;97.5%&quot;</td><td>null</td><td>2059.0</td><td>2064.0</td><td>2064.0</td><td>0.0</td><td>0.0</td><td>0.0</td><td>5.863476e6</td><td>334990.0</td><td>0.0</td><td>9.5222983e7</td><td>0.0</td></tr><tr><td>&quot;99%&quot;</td><td>null</td><td>2059.0</td><td>2070.0</td><td>2085.0</td><td>0.0</td><td>0.0</td><td>0.0</td><td>5.92751e6</td><td>413576.0</td><td>1.0</td><td>9.5382285e7</td><td>0.0</td></tr><tr><td>&quot;max&quot;</td><td>&quot;O=C1CCCN1c1ccc…</td><td>2059.0</td><td>2085.0</td><td>2085.0</td><td>1.0</td><td>1.0</td><td>1.0</td><td>5.971541e6</td><td>500170.0</td><td>5.0</td><td>9.5510096e7</td><td>0.0</td></tr></tbody></table></div>"
      ],
      "text/plain": [
       "shape: (17, 13)\n",
       "┌─────┬─────┬─────┬────────┬───────┬───────┬───────┬───────┬───────┬───────┬───────┬───────┬───────┐\n",
       "│ sta ┆ mol ┆ bb1 ┆ bb2    ┆ bb3   ┆ BRD4  ┆ HSA   ┆ sEH   ┆ scaff ┆ mol_p ┆ label ┆ ori_i ┆ subse │\n",
       "│ tis ┆ ecu ┆ --- ┆ ---    ┆ ---   ┆ ---   ┆ ---   ┆ ---   ┆ old_i ┆ er_sc ┆ ---   ┆ ndex  ┆ t     │\n",
       "│ tic ┆ le  ┆ f64 ┆ f64    ┆ f64   ┆ f64   ┆ f64   ┆ f64   ┆ dx    ┆ af    ┆ f64   ┆ ---   ┆ ---   │\n",
       "│ --- ┆ --- ┆     ┆        ┆       ┆       ┆       ┆       ┆ ---   ┆ ---   ┆       ┆ f64   ┆ f64   │\n",
       "│ str ┆ str ┆     ┆        ┆       ┆       ┆       ┆       ┆ f64   ┆ f64   ┆       ┆       ┆       │\n",
       "╞═════╪═════╪═════╪════════╪═══════╪═══════╪═══════╪═══════╪═══════╪═══════╪═══════╪═══════╪═══════╡\n",
       "│ cou ┆ 173 ┆ 173 ┆ 173831 ┆ 17383 ┆ 17383 ┆ 17383 ┆ 17383 ┆ 17383 ┆ 17383 ┆ 17383 ┆ 17383 ┆ 17383 │\n",
       "│ nt  ┆ 831 ┆ 831 ┆ .0     ┆ 1.0   ┆ 1.0   ┆ 1.0   ┆ 1.0   ┆ 1.0   ┆ 1.0   ┆ 1.0   ┆ 1.0   ┆ 1.0   │\n",
       "│     ┆     ┆ .0  ┆        ┆       ┆       ┆       ┆       ┆       ┆       ┆       ┆       ┆       │\n",
       "│ nul ┆ 0   ┆ 0.0 ┆ 0.0    ┆ 0.0   ┆ 0.0   ┆ 0.0   ┆ 0.0   ┆ 0.0   ┆ 0.0   ┆ 0.0   ┆ 0.0   ┆ 0.0   │\n",
       "│ l_c ┆     ┆     ┆        ┆       ┆       ┆       ┆       ┆       ┆       ┆       ┆       ┆       │\n",
       "│ oun ┆     ┆     ┆        ┆       ┆       ┆       ┆       ┆       ┆       ┆       ┆       ┆       │\n",
       "│ t   ┆     ┆     ┆        ┆       ┆       ┆       ┆       ┆       ┆       ┆       ┆       ┆       │\n",
       "│ mea ┆ nul ┆ 119 ┆ 1046.8 ┆ 1144. ┆ 0.003 ┆ 0.003 ┆ 0.006 ┆ 3.102 ┆ 27788 ┆ 0.025 ┆ 4.721 ┆ 0.0   │\n",
       "│ n   ┆ l   ┆ 3.6 ┆ 883    ┆ 71987 ┆ 291   ┆ 095   ┆ 196   ┆ 2e6   ┆ .7182 ┆ 548   ┆ 6e7   ┆       │\n",
       "│     ┆     ┆ 236 ┆        ┆ 2     ┆       ┆       ┆       ┆       ┆ 15    ┆       ┆       ┆       │\n",
       "│     ┆     ┆ 29  ┆        ┆       ┆       ┆       ┆       ┆       ┆       ┆       ┆       ┆       │\n",
       "│ std ┆ nul ┆ 573 ┆ 624.41 ┆ 611.4 ┆ 0.057 ┆ 0.055 ┆ 0.078 ┆ 1.731 ┆ 81885 ┆ 0.270 ┆ 2.578 ┆ 0.0   │\n",
       "│     ┆ l   ┆ .00 ┆ 2412   ┆ 61461 ┆ 269   ┆ 546   ┆ 469   ┆ 8e6   ┆ .5949 ┆ 206   ┆ 4e7   ┆       │\n",
       "│     ┆     ┆ 142 ┆        ┆       ┆       ┆       ┆       ┆       ┆ 77    ┆       ┆       ┆       │\n",
       "│     ┆     ┆ 7   ┆        ┆       ┆       ┆       ┆       ┆       ┆       ┆       ┆       ┆       │\n",
       "│ min ┆ C#C ┆ 51. ┆ 24.0   ┆ 24.0  ┆ 0.0   ┆ 0.0   ┆ 0.0   ┆ 10.0  ┆ 1.0   ┆ 0.0   ┆ 486.0 ┆ 0.0   │\n",
       "│     ┆ COc ┆ 0   ┆        ┆       ┆       ┆       ┆       ┆       ┆       ┆       ┆       ┆       │\n",
       "│     ┆ 1cc ┆     ┆        ┆       ┆       ┆       ┆       ┆       ┆       ┆       ┆       ┆       │\n",
       "│     ┆ cc( ┆     ┆        ┆       ┆       ┆       ┆       ┆       ┆       ┆       ┆       ┆       │\n",
       "│     ┆ CNc ┆     ┆        ┆       ┆       ┆       ┆       ┆       ┆       ┆       ┆       ┆       │\n",
       "│     ┆ 2nc ┆     ┆        ┆       ┆       ┆       ┆       ┆       ┆       ┆       ┆       ┆       │\n",
       "│     ┆ (NC ┆     ┆        ┆       ┆       ┆       ┆       ┆       ┆       ┆       ┆       ┆       │\n",
       "│     ┆ C(= ┆     ┆        ┆       ┆       ┆       ┆       ┆       ┆       ┆       ┆       ┆       │\n",
       "│     ┆ C)C ┆     ┆        ┆       ┆       ┆       ┆       ┆       ┆       ┆       ┆       ┆       │\n",
       "│     ┆ l)n ┆     ┆        ┆       ┆       ┆       ┆       ┆       ┆       ┆       ┆       ┆       │\n",
       "│     ┆ c(… ┆     ┆        ┆       ┆       ┆       ┆       ┆       ┆       ┆       ┆       ┆       │\n",
       "│ 1%  ┆ nul ┆ 51. ┆ 24.0   ┆ 28.0  ┆ 0.0   ┆ 0.0   ┆ 0.0   ┆ 73471 ┆ 1.0   ┆ 0.0   ┆ 12511 ┆ 0.0   │\n",
       "│     ┆ l   ┆ 0   ┆        ┆       ┆       ┆       ┆       ┆ .0    ┆       ┆       ┆ 7.0   ┆       │\n",
       "│ 2.5 ┆ nul ┆ 51. ┆ 84.0   ┆ 84.0  ┆ 0.0   ┆ 0.0   ┆ 0.0   ┆ 15375 ┆ 2.0   ┆ 0.0   ┆ 28930 ┆ 0.0   │\n",
       "│ %   ┆ l   ┆ 0   ┆        ┆       ┆       ┆       ┆       ┆ 8.0   ┆       ┆       ┆ 2.0   ┆       │\n",
       "│ 5%  ┆ nul ┆ 171 ┆ 120.0  ┆ 135.0 ┆ 0.0   ┆ 0.0   ┆ 0.0   ┆ 28054 ┆ 4.0   ┆ 0.0   ┆ 5.677 ┆ 0.0   │\n",
       "│     ┆ l   ┆ .0  ┆        ┆       ┆       ┆       ┆       ┆ 9.0   ┆       ┆       ┆ 406e6 ┆       │\n",
       "│ 10% ┆ nul ┆ 452 ┆ 150.0  ┆ 206.0 ┆ 0.0   ┆ 0.0   ┆ 0.0   ┆ 63247 ┆ 12.0  ┆ 0.0   ┆ 1.246 ┆ 0.0   │\n",
       "│     ┆ l   ┆ .0  ┆        ┆       ┆       ┆       ┆       ┆ 5.0   ┆       ┆       ┆ 8804e ┆       │\n",
       "│     ┆     ┆     ┆        ┆       ┆       ┆       ┆       ┆       ┆       ┆       ┆ 7     ┆       │\n",
       "│ 25% ┆ nul ┆ 766 ┆ 489.0  ┆ 578.0 ┆ 0.0   ┆ 0.0   ┆ 0.0   ┆ 1.621 ┆ 87.0  ┆ 0.0   ┆ 2.879 ┆ 0.0   │\n",
       "│     ┆ l   ┆ .0  ┆        ┆       ┆       ┆       ┆       ┆ 649e6 ┆       ┆       ┆ 5947e ┆       │\n",
       "│     ┆     ┆     ┆        ┆       ┆       ┆       ┆       ┆       ┆       ┆       ┆ 7     ┆       │\n",
       "│ 50% ┆ nul ┆ 121 ┆ 1118.0 ┆ 1352. ┆ 0.0   ┆ 0.0   ┆ 0.0   ┆ 3.160 ┆ 904.0 ┆ 0.0   ┆ 4.668 ┆ 0.0   │\n",
       "│     ┆ l   ┆ 1.0 ┆        ┆ 0     ┆       ┆       ┆       ┆ 504e6 ┆       ┆       ┆ 9271e ┆       │\n",
       "│     ┆     ┆     ┆        ┆       ┆       ┆       ┆       ┆       ┆       ┆       ┆ 7     ┆       │\n",
       "│ 75% ┆ nul ┆ 172 ┆ 1596.0 ┆ 1702. ┆ 0.0   ┆ 0.0   ┆ 0.0   ┆ 4.632 ┆ 8439. ┆ 0.0   ┆ 6.380 ┆ 0.0   │\n",
       "│     ┆ l   ┆ 3.0 ┆        ┆ 0     ┆       ┆       ┆       ┆ 75e6  ┆ 0     ┆       ┆ 2416e ┆       │\n",
       "│     ┆     ┆     ┆        ┆       ┆       ┆       ┆       ┆       ┆       ┆       ┆ 7     ┆       │\n",
       "│ 90% ┆ nul ┆ 190 ┆ 1856.0 ┆ 1898. ┆ 0.0   ┆ 0.0   ┆ 0.0   ┆ 5.429 ┆ 61331 ┆ 0.0   ┆ 8.194 ┆ 0.0   │\n",
       "│     ┆ l   ┆ 2.0 ┆        ┆ 0     ┆       ┆       ┆       ┆ 146e6 ┆ .0    ┆       ┆ 8312e ┆       │\n",
       "│     ┆     ┆     ┆        ┆       ┆       ┆       ┆       ┆       ┆       ┆       ┆ 7     ┆       │\n",
       "│ 95% ┆ nul ┆ 199 ┆ 1909.0 ┆ 1995. ┆ 0.0   ┆ 0.0   ┆ 0.0   ┆ 5.712 ┆ 22496 ┆ 0.0   ┆ 9.346 ┆ 0.0   │\n",
       "│     ┆ l   ┆ 3.0 ┆        ┆ 0     ┆       ┆       ┆       ┆ 952e6 ┆ 0.0   ┆       ┆ 1329e ┆       │\n",
       "│     ┆     ┆     ┆        ┆       ┆       ┆       ┆       ┆       ┆       ┆       ┆ 7     ┆       │\n",
       "│ 97. ┆ nul ┆ 205 ┆ 2064.0 ┆ 2064. ┆ 0.0   ┆ 0.0   ┆ 0.0   ┆ 5.863 ┆ 33499 ┆ 0.0   ┆ 9.522 ┆ 0.0   │\n",
       "│ 5%  ┆ l   ┆ 9.0 ┆        ┆ 0     ┆       ┆       ┆       ┆ 476e6 ┆ 0.0   ┆       ┆ 2983e ┆       │\n",
       "│     ┆     ┆     ┆        ┆       ┆       ┆       ┆       ┆       ┆       ┆       ┆ 7     ┆       │\n",
       "│ 99% ┆ nul ┆ 205 ┆ 2070.0 ┆ 2085. ┆ 0.0   ┆ 0.0   ┆ 0.0   ┆ 5.927 ┆ 41357 ┆ 1.0   ┆ 9.538 ┆ 0.0   │\n",
       "│     ┆ l   ┆ 9.0 ┆        ┆ 0     ┆       ┆       ┆       ┆ 51e6  ┆ 6.0   ┆       ┆ 2285e ┆       │\n",
       "│     ┆     ┆     ┆        ┆       ┆       ┆       ┆       ┆       ┆       ┆       ┆ 7     ┆       │\n",
       "│ max ┆ O=C ┆ 205 ┆ 2085.0 ┆ 2085. ┆ 1.0   ┆ 1.0   ┆ 1.0   ┆ 5.971 ┆ 50017 ┆ 5.0   ┆ 9.551 ┆ 0.0   │\n",
       "│     ┆ 1CC ┆ 9.0 ┆        ┆ 0     ┆       ┆       ┆       ┆ 541e6 ┆ 0.0   ┆       ┆ 0096e ┆       │\n",
       "│     ┆ CN1 ┆     ┆        ┆       ┆       ┆       ┆       ┆       ┆       ┆       ┆ 7     ┆       │\n",
       "│     ┆ c1c ┆     ┆        ┆       ┆       ┆       ┆       ┆       ┆       ┆       ┆       ┆       │\n",
       "│     ┆ cc( ┆     ┆        ┆       ┆       ┆       ┆       ┆       ┆       ┆       ┆       ┆       │\n",
       "│     ┆ Nc2 ┆     ┆        ┆       ┆       ┆       ┆       ┆       ┆       ┆       ┆       ┆       │\n",
       "│     ┆ nc( ┆     ┆        ┆       ┆       ┆       ┆       ┆       ┆       ┆       ┆       ┆       │\n",
       "│     ┆ Nc3 ┆     ┆        ┆       ┆       ┆       ┆       ┆       ┆       ┆       ┆       ┆       │\n",
       "│     ┆ noc ┆     ┆        ┆       ┆       ┆       ┆       ┆       ┆       ┆       ┆       ┆       │\n",
       "│     ┆ 4cc ┆     ┆        ┆       ┆       ┆       ┆       ┆       ┆       ┆       ┆       ┆       │\n",
       "│     ┆ c(… ┆     ┆        ┆       ┆       ┆       ┆       ┆       ┆       ┆       ┆       ┆       │\n",
       "└─────┴─────┴─────┴────────┴───────┴───────┴───────┴───────┴───────┴───────┴───────┴───────┴───────┘"
      ]
     },
     "metadata": {},
     "output_type": "display_data"
    },
    {
     "name": "stdout",
     "output_type": "stream",
     "text": [
      "Stage 1 Train set statistic:\n"
     ]
    },
    {
     "data": {
      "text/html": [
       "<div><style>\n",
       ".dataframe > thead > tr,\n",
       ".dataframe > tbody > tr {\n",
       "  text-align: right;\n",
       "  white-space: pre-wrap;\n",
       "}\n",
       "</style>\n",
       "<small>shape: (1, 12)</small><table border=\"1\" class=\"dataframe\"><thead><tr><th>molecule</th><th>bb1</th><th>bb2</th><th>bb3</th><th>BRD4</th><th>HSA</th><th>sEH</th><th>scaffold_idx</th><th>mol_per_scaf</th><th>label</th><th>ori_index</th><th>subset</th></tr><tr><td>u32</td><td>u32</td><td>u32</td><td>u32</td><td>u32</td><td>u32</td><td>u32</td><td>u32</td><td>u32</td><td>u32</td><td>u32</td><td>u32</td></tr></thead><tbody><tr><td>66836165</td><td>238</td><td>601</td><td>769</td><td>2</td><td>2</td><td>2</td><td>4366332</td><td>2388</td><td>8</td><td>66836165</td><td>1</td></tr></tbody></table></div>"
      ],
      "text/plain": [
       "shape: (1, 12)\n",
       "┌──────────┬─────┬─────┬─────┬──────┬─────┬─────┬───────────┬──────────┬───────┬──────────┬────────┐\n",
       "│ molecule ┆ bb1 ┆ bb2 ┆ bb3 ┆ BRD4 ┆ HSA ┆ sEH ┆ scaffold_ ┆ mol_per_ ┆ label ┆ ori_inde ┆ subset │\n",
       "│ ---      ┆ --- ┆ --- ┆ --- ┆ ---  ┆ --- ┆ --- ┆ idx       ┆ scaf     ┆ ---   ┆ x        ┆ ---    │\n",
       "│ u32      ┆ u32 ┆ u32 ┆ u32 ┆ u32  ┆ u32 ┆ u32 ┆ ---       ┆ ---      ┆ u32   ┆ ---      ┆ u32    │\n",
       "│          ┆     ┆     ┆     ┆      ┆     ┆     ┆ u32       ┆ u32      ┆       ┆ u32      ┆        │\n",
       "╞══════════╪═════╪═════╪═════╪══════╪═════╪═════╪═══════════╪══════════╪═══════╪══════════╪════════╡\n",
       "│ 66836165 ┆ 238 ┆ 601 ┆ 769 ┆ 2    ┆ 2   ┆ 2   ┆ 4366332   ┆ 2388     ┆ 8     ┆ 66836165 ┆ 1      │\n",
       "└──────────┴─────┴─────┴─────┴──────┴─────┴─────┴───────────┴──────────┴───────┴──────────┴────────┘"
      ]
     },
     "metadata": {},
     "output_type": "display_data"
    },
    {
     "data": {
      "text/html": [
       "<div><style>\n",
       ".dataframe > thead > tr,\n",
       ".dataframe > tbody > tr {\n",
       "  text-align: right;\n",
       "  white-space: pre-wrap;\n",
       "}\n",
       "</style>\n",
       "<small>shape: (17, 13)</small><table border=\"1\" class=\"dataframe\"><thead><tr><th>statistic</th><th>molecule</th><th>bb1</th><th>bb2</th><th>bb3</th><th>BRD4</th><th>HSA</th><th>sEH</th><th>scaffold_idx</th><th>mol_per_scaf</th><th>label</th><th>ori_index</th><th>subset</th></tr><tr><td>str</td><td>str</td><td>f64</td><td>f64</td><td>f64</td><td>f64</td><td>f64</td><td>f64</td><td>f64</td><td>f64</td><td>f64</td><td>f64</td><td>f64</td></tr></thead><tbody><tr><td>&quot;count&quot;</td><td>&quot;66836165&quot;</td><td>6.6836165e7</td><td>6.6836165e7</td><td>6.6836165e7</td><td>6.6836165e7</td><td>6.6836165e7</td><td>6.6836165e7</td><td>6.6836165e7</td><td>6.6836165e7</td><td>6.6836165e7</td><td>6.6836165e7</td><td>6.6836165e7</td></tr><tr><td>&quot;null_count&quot;</td><td>&quot;0&quot;</td><td>0.0</td><td>0.0</td><td>0.0</td><td>0.0</td><td>0.0</td><td>0.0</td><td>0.0</td><td>0.0</td><td>0.0</td><td>0.0</td><td>0.0</td></tr><tr><td>&quot;mean&quot;</td><td>null</td><td>1074.40254</td><td>1079.389182</td><td>1033.020908</td><td>0.004772</td><td>0.004284</td><td>0.007581</td><td>3.0227e6</td><td>14094.078724</td><td>0.035236</td><td>4.9486e7</td><td>255.0</td></tr><tr><td>&quot;std&quot;</td><td>null</td><td>591.520265</td><td>609.722111</td><td>610.55442</td><td>0.068913</td><td>0.06531</td><td>0.086738</td><td>1.7247e6</td><td>55789.476605</td><td>0.321417</td><td>2.8745e7</td><td>0.0</td></tr><tr><td>&quot;min&quot;</td><td>&quot;C#CCOc1ccc(CNc…</td><td>7.0</td><td>0.0</td><td>0.0</td><td>0.0</td><td>0.0</td><td>0.0</td><td>2.0</td><td>1.0</td><td>0.0</td><td>363110.0</td><td>255.0</td></tr><tr><td>&quot;1%&quot;</td><td>null</td><td>21.0</td><td>26.0</td><td>15.0</td><td>0.0</td><td>0.0</td><td>0.0</td><td>63746.0</td><td>1.0</td><td>0.0</td><td>1.227687e6</td><td>255.0</td></tr><tr><td>&quot;2.5%&quot;</td><td>null</td><td>76.0</td><td>45.0</td><td>44.0</td><td>0.0</td><td>0.0</td><td>0.0</td><td>155521.0</td><td>1.0</td><td>0.0</td><td>2.523805e6</td><td>255.0</td></tr><tr><td>&quot;5%&quot;</td><td>null</td><td>141.0</td><td>90.0</td><td>98.0</td><td>0.0</td><td>0.0</td><td>0.0</td><td>286393.0</td><td>3.0</td><td>0.0</td><td>4.686832e6</td><td>255.0</td></tr><tr><td>&quot;10%&quot;</td><td>null</td><td>273.0</td><td>158.0</td><td>205.0</td><td>0.0</td><td>0.0</td><td>0.0</td><td>606739.0</td><td>8.0</td><td>0.0</td><td>9.73567e6</td><td>255.0</td></tr><tr><td>&quot;25%&quot;</td><td>null</td><td>557.0</td><td>586.0</td><td>505.0</td><td>0.0</td><td>0.0</td><td>0.0</td><td>1.541764e6</td><td>48.0</td><td>0.0</td><td>2.3786674e7</td><td>255.0</td></tr><tr><td>&quot;50%&quot;</td><td>null</td><td>1066.0</td><td>1110.0</td><td>1033.0</td><td>0.0</td><td>0.0</td><td>0.0</td><td>3.022379e6</td><td>348.0</td><td>0.0</td><td>5.0114993e7</td><td>255.0</td></tr><tr><td>&quot;75%&quot;</td><td>null</td><td>1600.0</td><td>1580.0</td><td>1541.0</td><td>0.0</td><td>0.0</td><td>0.0</td><td>4.551453e6</td><td>3657.0</td><td>0.0</td><td>7.4628143e7</td><td>255.0</td></tr><tr><td>&quot;90%&quot;</td><td>null</td><td>1922.0</td><td>1917.0</td><td>1890.0</td><td>0.0</td><td>0.0</td><td>0.0</td><td>5.387334e6</td><td>18348.0</td><td>0.0</td><td>8.8681053e7</td><td>255.0</td></tr><tr><td>&quot;95%&quot;</td><td>null</td><td>2013.0</td><td>2010.0</td><td>2012.0</td><td>0.0</td><td>0.0</td><td>0.0</td><td>5.683964e6</td><td>63850.0</td><td>0.0</td><td>9.3732518e7</td><td>255.0</td></tr><tr><td>&quot;97.5%&quot;</td><td>null</td><td>2050.0</td><td>2066.0</td><td>2076.0</td><td>0.0</td><td>0.0</td><td>0.0</td><td>5.841672e6</td><td>176859.0</td><td>0.0</td><td>9.6255665e7</td><td>255.0</td></tr><tr><td>&quot;99%&quot;</td><td>null</td><td>2061.0</td><td>2092.0</td><td>2096.0</td><td>0.0</td><td>0.0</td><td>0.0</td><td>5.928688e6</td><td>334990.0</td><td>1.0</td><td>9.7548541e7</td><td>255.0</td></tr><tr><td>&quot;max&quot;</td><td>&quot;[N-]=[N+]=NCCC…</td><td>2084.0</td><td>2109.0</td><td>2109.0</td><td>1.0</td><td>1.0</td><td>1.0</td><td>5.971684e6</td><td>500170.0</td><td>7.0</td><td>9.8414971e7</td><td>255.0</td></tr></tbody></table></div>"
      ],
      "text/plain": [
       "shape: (17, 13)\n",
       "┌─────┬─────┬─────┬────────┬───────┬───────┬───────┬───────┬───────┬───────┬───────┬───────┬───────┐\n",
       "│ sta ┆ mol ┆ bb1 ┆ bb2    ┆ bb3   ┆ BRD4  ┆ HSA   ┆ sEH   ┆ scaff ┆ mol_p ┆ label ┆ ori_i ┆ subse │\n",
       "│ tis ┆ ecu ┆ --- ┆ ---    ┆ ---   ┆ ---   ┆ ---   ┆ ---   ┆ old_i ┆ er_sc ┆ ---   ┆ ndex  ┆ t     │\n",
       "│ tic ┆ le  ┆ f64 ┆ f64    ┆ f64   ┆ f64   ┆ f64   ┆ f64   ┆ dx    ┆ af    ┆ f64   ┆ ---   ┆ ---   │\n",
       "│ --- ┆ --- ┆     ┆        ┆       ┆       ┆       ┆       ┆ ---   ┆ ---   ┆       ┆ f64   ┆ f64   │\n",
       "│ str ┆ str ┆     ┆        ┆       ┆       ┆       ┆       ┆ f64   ┆ f64   ┆       ┆       ┆       │\n",
       "╞═════╪═════╪═════╪════════╪═══════╪═══════╪═══════╪═══════╪═══════╪═══════╪═══════╪═══════╪═══════╡\n",
       "│ cou ┆ 668 ┆ 6.6 ┆ 6.6836 ┆ 6.683 ┆ 6.683 ┆ 6.683 ┆ 6.683 ┆ 6.683 ┆ 6.683 ┆ 6.683 ┆ 6.683 ┆ 6.683 │\n",
       "│ nt  ┆ 361 ┆ 836 ┆ 165e7  ┆ 6165e ┆ 6165e ┆ 6165e ┆ 6165e ┆ 6165e ┆ 6165e ┆ 6165e ┆ 6165e ┆ 6165e │\n",
       "│     ┆ 65  ┆ 165 ┆        ┆ 7     ┆ 7     ┆ 7     ┆ 7     ┆ 7     ┆ 7     ┆ 7     ┆ 7     ┆ 7     │\n",
       "│     ┆     ┆ e7  ┆        ┆       ┆       ┆       ┆       ┆       ┆       ┆       ┆       ┆       │\n",
       "│ nul ┆ 0   ┆ 0.0 ┆ 0.0    ┆ 0.0   ┆ 0.0   ┆ 0.0   ┆ 0.0   ┆ 0.0   ┆ 0.0   ┆ 0.0   ┆ 0.0   ┆ 0.0   │\n",
       "│ l_c ┆     ┆     ┆        ┆       ┆       ┆       ┆       ┆       ┆       ┆       ┆       ┆       │\n",
       "│ oun ┆     ┆     ┆        ┆       ┆       ┆       ┆       ┆       ┆       ┆       ┆       ┆       │\n",
       "│ t   ┆     ┆     ┆        ┆       ┆       ┆       ┆       ┆       ┆       ┆       ┆       ┆       │\n",
       "│ mea ┆ nul ┆ 107 ┆ 1079.3 ┆ 1033. ┆ 0.004 ┆ 0.004 ┆ 0.007 ┆ 3.022 ┆ 14094 ┆ 0.035 ┆ 4.948 ┆ 255.0 │\n",
       "│ n   ┆ l   ┆ 4.4 ┆ 89182  ┆ 02090 ┆ 772   ┆ 284   ┆ 581   ┆ 7e6   ┆ .0787 ┆ 236   ┆ 6e7   ┆       │\n",
       "│     ┆     ┆ 025 ┆        ┆ 8     ┆       ┆       ┆       ┆       ┆ 24    ┆       ┆       ┆       │\n",
       "│     ┆     ┆ 4   ┆        ┆       ┆       ┆       ┆       ┆       ┆       ┆       ┆       ┆       │\n",
       "│ std ┆ nul ┆ 591 ┆ 609.72 ┆ 610.5 ┆ 0.068 ┆ 0.065 ┆ 0.086 ┆ 1.724 ┆ 55789 ┆ 0.321 ┆ 2.874 ┆ 0.0   │\n",
       "│     ┆ l   ┆ .52 ┆ 2111   ┆ 5442  ┆ 913   ┆ 31    ┆ 738   ┆ 7e6   ┆ .4766 ┆ 417   ┆ 5e7   ┆       │\n",
       "│     ┆     ┆ 026 ┆        ┆       ┆       ┆       ┆       ┆       ┆ 05    ┆       ┆       ┆       │\n",
       "│     ┆     ┆ 5   ┆        ┆       ┆       ┆       ┆       ┆       ┆       ┆       ┆       ┆       │\n",
       "│ min ┆ C#C ┆ 7.0 ┆ 0.0    ┆ 0.0   ┆ 0.0   ┆ 0.0   ┆ 0.0   ┆ 2.0   ┆ 1.0   ┆ 0.0   ┆ 36311 ┆ 255.0 │\n",
       "│     ┆ COc ┆     ┆        ┆       ┆       ┆       ┆       ┆       ┆       ┆       ┆ 0.0   ┆       │\n",
       "│     ┆ 1cc ┆     ┆        ┆       ┆       ┆       ┆       ┆       ┆       ┆       ┆       ┆       │\n",
       "│     ┆ c(C ┆     ┆        ┆       ┆       ┆       ┆       ┆       ┆       ┆       ┆       ┆       │\n",
       "│     ┆ Nc2 ┆     ┆        ┆       ┆       ┆       ┆       ┆       ┆       ┆       ┆       ┆       │\n",
       "│     ┆ nc( ┆     ┆        ┆       ┆       ┆       ┆       ┆       ┆       ┆       ┆       ┆       │\n",
       "│     ┆ NC( ┆     ┆        ┆       ┆       ┆       ┆       ┆       ┆       ┆       ┆       ┆       │\n",
       "│     ┆ =N) ┆     ┆        ┆       ┆       ┆       ┆       ┆       ┆       ┆       ┆       ┆       │\n",
       "│     ┆ CCC ┆     ┆        ┆       ┆       ┆       ┆       ┆       ┆       ┆       ┆       ┆       │\n",
       "│     ┆ N)n ┆     ┆        ┆       ┆       ┆       ┆       ┆       ┆       ┆       ┆       ┆       │\n",
       "│     ┆ c(… ┆     ┆        ┆       ┆       ┆       ┆       ┆       ┆       ┆       ┆       ┆       │\n",
       "│ 1%  ┆ nul ┆ 21. ┆ 26.0   ┆ 15.0  ┆ 0.0   ┆ 0.0   ┆ 0.0   ┆ 63746 ┆ 1.0   ┆ 0.0   ┆ 1.227 ┆ 255.0 │\n",
       "│     ┆ l   ┆ 0   ┆        ┆       ┆       ┆       ┆       ┆ .0    ┆       ┆       ┆ 687e6 ┆       │\n",
       "│ 2.5 ┆ nul ┆ 76. ┆ 45.0   ┆ 44.0  ┆ 0.0   ┆ 0.0   ┆ 0.0   ┆ 15552 ┆ 1.0   ┆ 0.0   ┆ 2.523 ┆ 255.0 │\n",
       "│ %   ┆ l   ┆ 0   ┆        ┆       ┆       ┆       ┆       ┆ 1.0   ┆       ┆       ┆ 805e6 ┆       │\n",
       "│ 5%  ┆ nul ┆ 141 ┆ 90.0   ┆ 98.0  ┆ 0.0   ┆ 0.0   ┆ 0.0   ┆ 28639 ┆ 3.0   ┆ 0.0   ┆ 4.686 ┆ 255.0 │\n",
       "│     ┆ l   ┆ .0  ┆        ┆       ┆       ┆       ┆       ┆ 3.0   ┆       ┆       ┆ 832e6 ┆       │\n",
       "│ 10% ┆ nul ┆ 273 ┆ 158.0  ┆ 205.0 ┆ 0.0   ┆ 0.0   ┆ 0.0   ┆ 60673 ┆ 8.0   ┆ 0.0   ┆ 9.735 ┆ 255.0 │\n",
       "│     ┆ l   ┆ .0  ┆        ┆       ┆       ┆       ┆       ┆ 9.0   ┆       ┆       ┆ 67e6  ┆       │\n",
       "│ 25% ┆ nul ┆ 557 ┆ 586.0  ┆ 505.0 ┆ 0.0   ┆ 0.0   ┆ 0.0   ┆ 1.541 ┆ 48.0  ┆ 0.0   ┆ 2.378 ┆ 255.0 │\n",
       "│     ┆ l   ┆ .0  ┆        ┆       ┆       ┆       ┆       ┆ 764e6 ┆       ┆       ┆ 6674e ┆       │\n",
       "│     ┆     ┆     ┆        ┆       ┆       ┆       ┆       ┆       ┆       ┆       ┆ 7     ┆       │\n",
       "│ 50% ┆ nul ┆ 106 ┆ 1110.0 ┆ 1033. ┆ 0.0   ┆ 0.0   ┆ 0.0   ┆ 3.022 ┆ 348.0 ┆ 0.0   ┆ 5.011 ┆ 255.0 │\n",
       "│     ┆ l   ┆ 6.0 ┆        ┆ 0     ┆       ┆       ┆       ┆ 379e6 ┆       ┆       ┆ 4993e ┆       │\n",
       "│     ┆     ┆     ┆        ┆       ┆       ┆       ┆       ┆       ┆       ┆       ┆ 7     ┆       │\n",
       "│ 75% ┆ nul ┆ 160 ┆ 1580.0 ┆ 1541. ┆ 0.0   ┆ 0.0   ┆ 0.0   ┆ 4.551 ┆ 3657. ┆ 0.0   ┆ 7.462 ┆ 255.0 │\n",
       "│     ┆ l   ┆ 0.0 ┆        ┆ 0     ┆       ┆       ┆       ┆ 453e6 ┆ 0     ┆       ┆ 8143e ┆       │\n",
       "│     ┆     ┆     ┆        ┆       ┆       ┆       ┆       ┆       ┆       ┆       ┆ 7     ┆       │\n",
       "│ 90% ┆ nul ┆ 192 ┆ 1917.0 ┆ 1890. ┆ 0.0   ┆ 0.0   ┆ 0.0   ┆ 5.387 ┆ 18348 ┆ 0.0   ┆ 8.868 ┆ 255.0 │\n",
       "│     ┆ l   ┆ 2.0 ┆        ┆ 0     ┆       ┆       ┆       ┆ 334e6 ┆ .0    ┆       ┆ 1053e ┆       │\n",
       "│     ┆     ┆     ┆        ┆       ┆       ┆       ┆       ┆       ┆       ┆       ┆ 7     ┆       │\n",
       "│ 95% ┆ nul ┆ 201 ┆ 2010.0 ┆ 2012. ┆ 0.0   ┆ 0.0   ┆ 0.0   ┆ 5.683 ┆ 63850 ┆ 0.0   ┆ 9.373 ┆ 255.0 │\n",
       "│     ┆ l   ┆ 3.0 ┆        ┆ 0     ┆       ┆       ┆       ┆ 964e6 ┆ .0    ┆       ┆ 2518e ┆       │\n",
       "│     ┆     ┆     ┆        ┆       ┆       ┆       ┆       ┆       ┆       ┆       ┆ 7     ┆       │\n",
       "│ 97. ┆ nul ┆ 205 ┆ 2066.0 ┆ 2076. ┆ 0.0   ┆ 0.0   ┆ 0.0   ┆ 5.841 ┆ 17685 ┆ 0.0   ┆ 9.625 ┆ 255.0 │\n",
       "│ 5%  ┆ l   ┆ 0.0 ┆        ┆ 0     ┆       ┆       ┆       ┆ 672e6 ┆ 9.0   ┆       ┆ 5665e ┆       │\n",
       "│     ┆     ┆     ┆        ┆       ┆       ┆       ┆       ┆       ┆       ┆       ┆ 7     ┆       │\n",
       "│ 99% ┆ nul ┆ 206 ┆ 2092.0 ┆ 2096. ┆ 0.0   ┆ 0.0   ┆ 0.0   ┆ 5.928 ┆ 33499 ┆ 1.0   ┆ 9.754 ┆ 255.0 │\n",
       "│     ┆ l   ┆ 1.0 ┆        ┆ 0     ┆       ┆       ┆       ┆ 688e6 ┆ 0.0   ┆       ┆ 8541e ┆       │\n",
       "│     ┆     ┆     ┆        ┆       ┆       ┆       ┆       ┆       ┆       ┆       ┆ 7     ┆       │\n",
       "│ max ┆ [N- ┆ 208 ┆ 2109.0 ┆ 2109. ┆ 1.0   ┆ 1.0   ┆ 1.0   ┆ 5.971 ┆ 50017 ┆ 7.0   ┆ 9.841 ┆ 255.0 │\n",
       "│     ┆ ]=[ ┆ 4.0 ┆        ┆ 0     ┆       ┆       ┆       ┆ 684e6 ┆ 0.0   ┆       ┆ 4971e ┆       │\n",
       "│     ┆ N+] ┆     ┆        ┆       ┆       ┆       ┆       ┆       ┆       ┆       ┆ 7     ┆       │\n",
       "│     ┆ =NC ┆     ┆        ┆       ┆       ┆       ┆       ┆       ┆       ┆       ┆       ┆       │\n",
       "│     ┆ CC[ ┆     ┆        ┆       ┆       ┆       ┆       ┆       ┆       ┆       ┆       ┆       │\n",
       "│     ┆ C@H ┆     ┆        ┆       ┆       ┆       ┆       ┆       ┆       ┆       ┆       ┆       │\n",
       "│     ┆ ](N ┆     ┆        ┆       ┆       ┆       ┆       ┆       ┆       ┆       ┆       ┆       │\n",
       "│     ┆ c1n ┆     ┆        ┆       ┆       ┆       ┆       ┆       ┆       ┆       ┆       ┆       │\n",
       "│     ┆ c(N ┆     ┆        ┆       ┆       ┆       ┆       ┆       ┆       ┆       ┆       ┆       │\n",
       "│     ┆ c2n ┆     ┆        ┆       ┆       ┆       ┆       ┆       ┆       ┆       ┆       ┆       │\n",
       "│     ┆ nn… ┆     ┆        ┆       ┆       ┆       ┆       ┆       ┆       ┆       ┆       ┆       │\n",
       "└─────┴─────┴─────┴────────┴───────┴───────┴───────┴───────┴───────┴───────┴───────┴───────┴───────┘"
      ]
     },
     "metadata": {},
     "output_type": "display_data"
    },
    {
     "name": "stdout",
     "output_type": "stream",
     "text": [
      "##### STAGE 2 #####\n",
      "Number of folds: 1004\n",
      "Fold 0:\n",
      "Fold train/test size: 54358658 54197\n",
      "Stage 2 Test set statistic:\n"
     ]
    },
    {
     "data": {
      "text/html": [
       "<div><style>\n",
       ".dataframe > thead > tr,\n",
       ".dataframe > tbody > tr {\n",
       "  text-align: right;\n",
       "  white-space: pre-wrap;\n",
       "}\n",
       "</style>\n",
       "<small>shape: (1, 12)</small><table border=\"1\" class=\"dataframe\"><thead><tr><th>molecule</th><th>bb1</th><th>bb2</th><th>bb3</th><th>BRD4</th><th>HSA</th><th>sEH</th><th>scaffold_idx</th><th>mol_per_scaf</th><th>label</th><th>ori_index</th><th>subset</th></tr><tr><td>u32</td><td>u32</td><td>u32</td><td>u32</td><td>u32</td><td>u32</td><td>u32</td><td>u32</td><td>u32</td><td>u32</td><td>u32</td><td>u32</td></tr></thead><tbody><tr><td>54197</td><td>238</td><td>601</td><td>748</td><td>2</td><td>2</td><td>2</td><td>4348</td><td>131</td><td>5</td><td>54197</td><td>1</td></tr></tbody></table></div>"
      ],
      "text/plain": [
       "shape: (1, 12)\n",
       "┌──────────┬─────┬─────┬─────┬──────┬─────┬─────┬───────────┬──────────┬───────┬──────────┬────────┐\n",
       "│ molecule ┆ bb1 ┆ bb2 ┆ bb3 ┆ BRD4 ┆ HSA ┆ sEH ┆ scaffold_ ┆ mol_per_ ┆ label ┆ ori_inde ┆ subset │\n",
       "│ ---      ┆ --- ┆ --- ┆ --- ┆ ---  ┆ --- ┆ --- ┆ idx       ┆ scaf     ┆ ---   ┆ x        ┆ ---    │\n",
       "│ u32      ┆ u32 ┆ u32 ┆ u32 ┆ u32  ┆ u32 ┆ u32 ┆ ---       ┆ ---      ┆ u32   ┆ ---      ┆ u32    │\n",
       "│          ┆     ┆     ┆     ┆      ┆     ┆     ┆ u32       ┆ u32      ┆       ┆ u32      ┆        │\n",
       "╞══════════╪═════╪═════╪═════╪══════╪═════╪═════╪═══════════╪══════════╪═══════╪══════════╪════════╡\n",
       "│ 54197    ┆ 238 ┆ 601 ┆ 748 ┆ 2    ┆ 2   ┆ 2   ┆ 4348      ┆ 131      ┆ 5     ┆ 54197    ┆ 1      │\n",
       "└──────────┴─────┴─────┴─────┴──────┴─────┴─────┴───────────┴──────────┴───────┴──────────┴────────┘"
      ]
     },
     "metadata": {},
     "output_type": "display_data"
    },
    {
     "data": {
      "text/html": [
       "<div><style>\n",
       ".dataframe > thead > tr,\n",
       ".dataframe > tbody > tr {\n",
       "  text-align: right;\n",
       "  white-space: pre-wrap;\n",
       "}\n",
       "</style>\n",
       "<small>shape: (17, 13)</small><table border=\"1\" class=\"dataframe\"><thead><tr><th>statistic</th><th>molecule</th><th>bb1</th><th>bb2</th><th>bb3</th><th>BRD4</th><th>HSA</th><th>sEH</th><th>scaffold_idx</th><th>mol_per_scaf</th><th>label</th><th>ori_index</th><th>subset</th></tr><tr><td>str</td><td>str</td><td>f64</td><td>f64</td><td>f64</td><td>f64</td><td>f64</td><td>f64</td><td>f64</td><td>f64</td><td>f64</td><td>f64</td><td>f64</td></tr></thead><tbody><tr><td>&quot;count&quot;</td><td>&quot;54197&quot;</td><td>54197.0</td><td>54197.0</td><td>54197.0</td><td>54197.0</td><td>54197.0</td><td>54197.0</td><td>54197.0</td><td>54197.0</td><td>54197.0</td><td>54197.0</td><td>54197.0</td></tr><tr><td>&quot;null_count&quot;</td><td>&quot;0&quot;</td><td>0.0</td><td>0.0</td><td>0.0</td><td>0.0</td><td>0.0</td><td>0.0</td><td>0.0</td><td>0.0</td><td>0.0</td><td>0.0</td><td>0.0</td></tr><tr><td>&quot;mean&quot;</td><td>null</td><td>1061.666365</td><td>1148.025887</td><td>1031.076646</td><td>0.004318</td><td>0.005074</td><td>0.00738</td><td>3.0355e6</td><td>1029.549403</td><td>0.034799</td><td>5.0439e7</td><td>2.0</td></tr><tr><td>&quot;std&quot;</td><td>null</td><td>595.176041</td><td>600.693238</td><td>591.07644</td><td>0.065567</td><td>0.071052</td><td>0.085593</td><td>1.5086e6</td><td>1831.526517</td><td>0.313378</td><td>2.9322e7</td><td>0.0</td></tr><tr><td>&quot;min&quot;</td><td>&quot;C#CCOc1ccc(CNc…</td><td>7.0</td><td>0.0</td><td>0.0</td><td>0.0</td><td>0.0</td><td>0.0</td><td>13.0</td><td>1.0</td><td>0.0</td><td>366076.0</td><td>2.0</td></tr><tr><td>&quot;1%&quot;</td><td>null</td><td>21.0</td><td>26.0</td><td>9.0</td><td>0.0</td><td>0.0</td><td>0.0</td><td>58419.0</td><td>1.0</td><td>0.0</td><td>1.238994e6</td><td>2.0</td></tr><tr><td>&quot;2.5%&quot;</td><td>null</td><td>104.0</td><td>46.0</td><td>34.0</td><td>0.0</td><td>0.0</td><td>0.0</td><td>242757.0</td><td>1.0</td><td>0.0</td><td>2.597074e6</td><td>2.0</td></tr><tr><td>&quot;5%&quot;</td><td>null</td><td>138.0</td><td>100.0</td><td>81.0</td><td>0.0</td><td>0.0</td><td>0.0</td><td>483967.0</td><td>2.0</td><td>0.0</td><td>4.730653e6</td><td>2.0</td></tr><tr><td>&quot;10%&quot;</td><td>null</td><td>262.0</td><td>249.0</td><td>215.0</td><td>0.0</td><td>0.0</td><td>0.0</td><td>900559.0</td><td>5.0</td><td>0.0</td><td>1.0396856e7</td><td>2.0</td></tr><tr><td>&quot;25%&quot;</td><td>null</td><td>554.0</td><td>718.0</td><td>579.0</td><td>0.0</td><td>0.0</td><td>0.0</td><td>2.018678e6</td><td>39.0</td><td>0.0</td><td>2.4830186e7</td><td>2.0</td></tr><tr><td>&quot;50%&quot;</td><td>null</td><td>1026.0</td><td>1190.0</td><td>1065.0</td><td>0.0</td><td>0.0</td><td>0.0</td><td>3.033146e6</td><td>174.0</td><td>0.0</td><td>4.8839434e7</td><td>2.0</td></tr><tr><td>&quot;75%&quot;</td><td>null</td><td>1591.0</td><td>1668.0</td><td>1479.0</td><td>0.0</td><td>0.0</td><td>0.0</td><td>4.220937e6</td><td>920.0</td><td>0.0</td><td>7.8136044e7</td><td>2.0</td></tr><tr><td>&quot;90%&quot;</td><td>null</td><td>1893.0</td><td>1943.0</td><td>1869.0</td><td>0.0</td><td>0.0</td><td>0.0</td><td>4.956549e6</td><td>4453.0</td><td>0.0</td><td>8.9954631e7</td><td>2.0</td></tr><tr><td>&quot;95%&quot;</td><td>null</td><td>2011.0</td><td>1998.0</td><td>2005.0</td><td>0.0</td><td>0.0</td><td>0.0</td><td>5.583354e6</td><td>6052.0</td><td>0.0</td><td>9.4104523e7</td><td>2.0</td></tr><tr><td>&quot;97.5%&quot;</td><td>null</td><td>2042.0</td><td>2033.0</td><td>2067.0</td><td>0.0</td><td>0.0</td><td>0.0</td><td>5.817564e6</td><td>6052.0</td><td>0.0</td><td>9.6406734e7</td><td>2.0</td></tr><tr><td>&quot;99%&quot;</td><td>null</td><td>2061.0</td><td>2086.0</td><td>2096.0</td><td>0.0</td><td>0.0</td><td>0.0</td><td>5.903031e6</td><td>6052.0</td><td>1.0</td><td>9.7499085e7</td><td>2.0</td></tr><tr><td>&quot;max&quot;</td><td>&quot;[N-]=[N+]=NCCC…</td><td>2084.0</td><td>2109.0</td><td>2109.0</td><td>1.0</td><td>1.0</td><td>1.0</td><td>5.971485e6</td><td>6052.0</td><td>4.0</td><td>9.8414887e7</td><td>2.0</td></tr></tbody></table></div>"
      ],
      "text/plain": [
       "shape: (17, 13)\n",
       "┌─────┬─────┬─────┬────────┬───────┬───────┬───────┬───────┬───────┬───────┬───────┬───────┬───────┐\n",
       "│ sta ┆ mol ┆ bb1 ┆ bb2    ┆ bb3   ┆ BRD4  ┆ HSA   ┆ sEH   ┆ scaff ┆ mol_p ┆ label ┆ ori_i ┆ subse │\n",
       "│ tis ┆ ecu ┆ --- ┆ ---    ┆ ---   ┆ ---   ┆ ---   ┆ ---   ┆ old_i ┆ er_sc ┆ ---   ┆ ndex  ┆ t     │\n",
       "│ tic ┆ le  ┆ f64 ┆ f64    ┆ f64   ┆ f64   ┆ f64   ┆ f64   ┆ dx    ┆ af    ┆ f64   ┆ ---   ┆ ---   │\n",
       "│ --- ┆ --- ┆     ┆        ┆       ┆       ┆       ┆       ┆ ---   ┆ ---   ┆       ┆ f64   ┆ f64   │\n",
       "│ str ┆ str ┆     ┆        ┆       ┆       ┆       ┆       ┆ f64   ┆ f64   ┆       ┆       ┆       │\n",
       "╞═════╪═════╪═════╪════════╪═══════╪═══════╪═══════╪═══════╪═══════╪═══════╪═══════╪═══════╪═══════╡\n",
       "│ cou ┆ 541 ┆ 541 ┆ 54197. ┆ 54197 ┆ 54197 ┆ 54197 ┆ 54197 ┆ 54197 ┆ 54197 ┆ 54197 ┆ 54197 ┆ 54197 │\n",
       "│ nt  ┆ 97  ┆ 97. ┆ 0      ┆ .0    ┆ .0    ┆ .0    ┆ .0    ┆ .0    ┆ .0    ┆ .0    ┆ .0    ┆ .0    │\n",
       "│     ┆     ┆ 0   ┆        ┆       ┆       ┆       ┆       ┆       ┆       ┆       ┆       ┆       │\n",
       "│ nul ┆ 0   ┆ 0.0 ┆ 0.0    ┆ 0.0   ┆ 0.0   ┆ 0.0   ┆ 0.0   ┆ 0.0   ┆ 0.0   ┆ 0.0   ┆ 0.0   ┆ 0.0   │\n",
       "│ l_c ┆     ┆     ┆        ┆       ┆       ┆       ┆       ┆       ┆       ┆       ┆       ┆       │\n",
       "│ oun ┆     ┆     ┆        ┆       ┆       ┆       ┆       ┆       ┆       ┆       ┆       ┆       │\n",
       "│ t   ┆     ┆     ┆        ┆       ┆       ┆       ┆       ┆       ┆       ┆       ┆       ┆       │\n",
       "│ mea ┆ nul ┆ 106 ┆ 1148.0 ┆ 1031. ┆ 0.004 ┆ 0.005 ┆ 0.007 ┆ 3.035 ┆ 1029. ┆ 0.034 ┆ 5.043 ┆ 2.0   │\n",
       "│ n   ┆ l   ┆ 1.6 ┆ 25887  ┆ 07664 ┆ 318   ┆ 074   ┆ 38    ┆ 5e6   ┆ 54940 ┆ 799   ┆ 9e7   ┆       │\n",
       "│     ┆     ┆ 663 ┆        ┆ 6     ┆       ┆       ┆       ┆       ┆ 3     ┆       ┆       ┆       │\n",
       "│     ┆     ┆ 65  ┆        ┆       ┆       ┆       ┆       ┆       ┆       ┆       ┆       ┆       │\n",
       "│ std ┆ nul ┆ 595 ┆ 600.69 ┆ 591.0 ┆ 0.065 ┆ 0.071 ┆ 0.085 ┆ 1.508 ┆ 1831. ┆ 0.313 ┆ 2.932 ┆ 0.0   │\n",
       "│     ┆ l   ┆ .17 ┆ 3238   ┆ 7644  ┆ 567   ┆ 052   ┆ 593   ┆ 6e6   ┆ 52651 ┆ 378   ┆ 2e7   ┆       │\n",
       "│     ┆     ┆ 604 ┆        ┆       ┆       ┆       ┆       ┆       ┆ 7     ┆       ┆       ┆       │\n",
       "│     ┆     ┆ 1   ┆        ┆       ┆       ┆       ┆       ┆       ┆       ┆       ┆       ┆       │\n",
       "│ min ┆ C#C ┆ 7.0 ┆ 0.0    ┆ 0.0   ┆ 0.0   ┆ 0.0   ┆ 0.0   ┆ 13.0  ┆ 1.0   ┆ 0.0   ┆ 36607 ┆ 2.0   │\n",
       "│     ┆ COc ┆     ┆        ┆       ┆       ┆       ┆       ┆       ┆       ┆       ┆ 6.0   ┆       │\n",
       "│     ┆ 1cc ┆     ┆        ┆       ┆       ┆       ┆       ┆       ┆       ┆       ┆       ┆       │\n",
       "│     ┆ c(C ┆     ┆        ┆       ┆       ┆       ┆       ┆       ┆       ┆       ┆       ┆       │\n",
       "│     ┆ Nc2 ┆     ┆        ┆       ┆       ┆       ┆       ┆       ┆       ┆       ┆       ┆       │\n",
       "│     ┆ nc( ┆     ┆        ┆       ┆       ┆       ┆       ┆       ┆       ┆       ┆       ┆       │\n",
       "│     ┆ NCC ┆     ┆        ┆       ┆       ┆       ┆       ┆       ┆       ┆       ┆       ┆       │\n",
       "│     ┆ (C) ┆     ┆        ┆       ┆       ┆       ┆       ┆       ┆       ┆       ┆       ┆       │\n",
       "│     ┆ Sc3 ┆     ┆        ┆       ┆       ┆       ┆       ┆       ┆       ┆       ┆       ┆       │\n",
       "│     ┆ ccc ┆     ┆        ┆       ┆       ┆       ┆       ┆       ┆       ┆       ┆       ┆       │\n",
       "│     ┆ cc… ┆     ┆        ┆       ┆       ┆       ┆       ┆       ┆       ┆       ┆       ┆       │\n",
       "│ 1%  ┆ nul ┆ 21. ┆ 26.0   ┆ 9.0   ┆ 0.0   ┆ 0.0   ┆ 0.0   ┆ 58419 ┆ 1.0   ┆ 0.0   ┆ 1.238 ┆ 2.0   │\n",
       "│     ┆ l   ┆ 0   ┆        ┆       ┆       ┆       ┆       ┆ .0    ┆       ┆       ┆ 994e6 ┆       │\n",
       "│ 2.5 ┆ nul ┆ 104 ┆ 46.0   ┆ 34.0  ┆ 0.0   ┆ 0.0   ┆ 0.0   ┆ 24275 ┆ 1.0   ┆ 0.0   ┆ 2.597 ┆ 2.0   │\n",
       "│ %   ┆ l   ┆ .0  ┆        ┆       ┆       ┆       ┆       ┆ 7.0   ┆       ┆       ┆ 074e6 ┆       │\n",
       "│ 5%  ┆ nul ┆ 138 ┆ 100.0  ┆ 81.0  ┆ 0.0   ┆ 0.0   ┆ 0.0   ┆ 48396 ┆ 2.0   ┆ 0.0   ┆ 4.730 ┆ 2.0   │\n",
       "│     ┆ l   ┆ .0  ┆        ┆       ┆       ┆       ┆       ┆ 7.0   ┆       ┆       ┆ 653e6 ┆       │\n",
       "│ 10% ┆ nul ┆ 262 ┆ 249.0  ┆ 215.0 ┆ 0.0   ┆ 0.0   ┆ 0.0   ┆ 90055 ┆ 5.0   ┆ 0.0   ┆ 1.039 ┆ 2.0   │\n",
       "│     ┆ l   ┆ .0  ┆        ┆       ┆       ┆       ┆       ┆ 9.0   ┆       ┆       ┆ 6856e ┆       │\n",
       "│     ┆     ┆     ┆        ┆       ┆       ┆       ┆       ┆       ┆       ┆       ┆ 7     ┆       │\n",
       "│ 25% ┆ nul ┆ 554 ┆ 718.0  ┆ 579.0 ┆ 0.0   ┆ 0.0   ┆ 0.0   ┆ 2.018 ┆ 39.0  ┆ 0.0   ┆ 2.483 ┆ 2.0   │\n",
       "│     ┆ l   ┆ .0  ┆        ┆       ┆       ┆       ┆       ┆ 678e6 ┆       ┆       ┆ 0186e ┆       │\n",
       "│     ┆     ┆     ┆        ┆       ┆       ┆       ┆       ┆       ┆       ┆       ┆ 7     ┆       │\n",
       "│ 50% ┆ nul ┆ 102 ┆ 1190.0 ┆ 1065. ┆ 0.0   ┆ 0.0   ┆ 0.0   ┆ 3.033 ┆ 174.0 ┆ 0.0   ┆ 4.883 ┆ 2.0   │\n",
       "│     ┆ l   ┆ 6.0 ┆        ┆ 0     ┆       ┆       ┆       ┆ 146e6 ┆       ┆       ┆ 9434e ┆       │\n",
       "│     ┆     ┆     ┆        ┆       ┆       ┆       ┆       ┆       ┆       ┆       ┆ 7     ┆       │\n",
       "│ 75% ┆ nul ┆ 159 ┆ 1668.0 ┆ 1479. ┆ 0.0   ┆ 0.0   ┆ 0.0   ┆ 4.220 ┆ 920.0 ┆ 0.0   ┆ 7.813 ┆ 2.0   │\n",
       "│     ┆ l   ┆ 1.0 ┆        ┆ 0     ┆       ┆       ┆       ┆ 937e6 ┆       ┆       ┆ 6044e ┆       │\n",
       "│     ┆     ┆     ┆        ┆       ┆       ┆       ┆       ┆       ┆       ┆       ┆ 7     ┆       │\n",
       "│ 90% ┆ nul ┆ 189 ┆ 1943.0 ┆ 1869. ┆ 0.0   ┆ 0.0   ┆ 0.0   ┆ 4.956 ┆ 4453. ┆ 0.0   ┆ 8.995 ┆ 2.0   │\n",
       "│     ┆ l   ┆ 3.0 ┆        ┆ 0     ┆       ┆       ┆       ┆ 549e6 ┆ 0     ┆       ┆ 4631e ┆       │\n",
       "│     ┆     ┆     ┆        ┆       ┆       ┆       ┆       ┆       ┆       ┆       ┆ 7     ┆       │\n",
       "│ 95% ┆ nul ┆ 201 ┆ 1998.0 ┆ 2005. ┆ 0.0   ┆ 0.0   ┆ 0.0   ┆ 5.583 ┆ 6052. ┆ 0.0   ┆ 9.410 ┆ 2.0   │\n",
       "│     ┆ l   ┆ 1.0 ┆        ┆ 0     ┆       ┆       ┆       ┆ 354e6 ┆ 0     ┆       ┆ 4523e ┆       │\n",
       "│     ┆     ┆     ┆        ┆       ┆       ┆       ┆       ┆       ┆       ┆       ┆ 7     ┆       │\n",
       "│ 97. ┆ nul ┆ 204 ┆ 2033.0 ┆ 2067. ┆ 0.0   ┆ 0.0   ┆ 0.0   ┆ 5.817 ┆ 6052. ┆ 0.0   ┆ 9.640 ┆ 2.0   │\n",
       "│ 5%  ┆ l   ┆ 2.0 ┆        ┆ 0     ┆       ┆       ┆       ┆ 564e6 ┆ 0     ┆       ┆ 6734e ┆       │\n",
       "│     ┆     ┆     ┆        ┆       ┆       ┆       ┆       ┆       ┆       ┆       ┆ 7     ┆       │\n",
       "│ 99% ┆ nul ┆ 206 ┆ 2086.0 ┆ 2096. ┆ 0.0   ┆ 0.0   ┆ 0.0   ┆ 5.903 ┆ 6052. ┆ 1.0   ┆ 9.749 ┆ 2.0   │\n",
       "│     ┆ l   ┆ 1.0 ┆        ┆ 0     ┆       ┆       ┆       ┆ 031e6 ┆ 0     ┆       ┆ 9085e ┆       │\n",
       "│     ┆     ┆     ┆        ┆       ┆       ┆       ┆       ┆       ┆       ┆       ┆ 7     ┆       │\n",
       "│ max ┆ [N- ┆ 208 ┆ 2109.0 ┆ 2109. ┆ 1.0   ┆ 1.0   ┆ 1.0   ┆ 5.971 ┆ 6052. ┆ 4.0   ┆ 9.841 ┆ 2.0   │\n",
       "│     ┆ ]=[ ┆ 4.0 ┆        ┆ 0     ┆       ┆       ┆       ┆ 485e6 ┆ 0     ┆       ┆ 4887e ┆       │\n",
       "│     ┆ N+] ┆     ┆        ┆       ┆       ┆       ┆       ┆       ┆       ┆       ┆ 7     ┆       │\n",
       "│     ┆ =NC ┆     ┆        ┆       ┆       ┆       ┆       ┆       ┆       ┆       ┆       ┆       │\n",
       "│     ┆ CC[ ┆     ┆        ┆       ┆       ┆       ┆       ┆       ┆       ┆       ┆       ┆       │\n",
       "│     ┆ C@H ┆     ┆        ┆       ┆       ┆       ┆       ┆       ┆       ┆       ┆       ┆       │\n",
       "│     ┆ ](N ┆     ┆        ┆       ┆       ┆       ┆       ┆       ┆       ┆       ┆       ┆       │\n",
       "│     ┆ c1n ┆     ┆        ┆       ┆       ┆       ┆       ┆       ┆       ┆       ┆       ┆       │\n",
       "│     ┆ c(N ┆     ┆        ┆       ┆       ┆       ┆       ┆       ┆       ┆       ┆       ┆       │\n",
       "│     ┆ c2c ┆     ┆        ┆       ┆       ┆       ┆       ┆       ┆       ┆       ┆       ┆       │\n",
       "│     ┆ cc… ┆     ┆        ┆       ┆       ┆       ┆       ┆       ┆       ┆       ┆       ┆       │\n",
       "└─────┴─────┴─────┴────────┴───────┴───────┴───────┴───────┴───────┴───────┴───────┴───────┴───────┘"
      ]
     },
     "metadata": {},
     "output_type": "display_data"
    },
    {
     "name": "stdout",
     "output_type": "stream",
     "text": [
      "Stage 2 Train set statistic:\n"
     ]
    },
    {
     "data": {
      "text/html": [
       "<div><style>\n",
       ".dataframe > thead > tr,\n",
       ".dataframe > tbody > tr {\n",
       "  text-align: right;\n",
       "  white-space: pre-wrap;\n",
       "}\n",
       "</style>\n",
       "<small>shape: (1, 13)</small><table border=\"1\" class=\"dataframe\"><thead><tr><th>molecule</th><th>bb1</th><th>bb2</th><th>bb3</th><th>BRD4</th><th>HSA</th><th>sEH</th><th>scaffold_idx</th><th>mol_per_scaf</th><th>label</th><th>ori_index</th><th>subset</th><th>index</th></tr><tr><td>u32</td><td>u32</td><td>u32</td><td>u32</td><td>u32</td><td>u32</td><td>u32</td><td>u32</td><td>u32</td><td>u32</td><td>u32</td><td>u32</td><td>u32</td></tr></thead><tbody><tr><td>66781968</td><td>238</td><td>601</td><td>769</td><td>2</td><td>2</td><td>2</td><td>4361984</td><td>2387</td><td>8</td><td>66781968</td><td>1</td><td>66781968</td></tr></tbody></table></div>"
      ],
      "text/plain": [
       "shape: (1, 13)\n",
       "┌────────┬─────┬─────┬─────┬──────┬─────┬─────┬────────┬────────┬───────┬────────┬────────┬────────┐\n",
       "│ molecu ┆ bb1 ┆ bb2 ┆ bb3 ┆ BRD4 ┆ HSA ┆ sEH ┆ scaffo ┆ mol_pe ┆ label ┆ ori_in ┆ subset ┆ index  │\n",
       "│ le     ┆ --- ┆ --- ┆ --- ┆ ---  ┆ --- ┆ --- ┆ ld_idx ┆ r_scaf ┆ ---   ┆ dex    ┆ ---    ┆ ---    │\n",
       "│ ---    ┆ u32 ┆ u32 ┆ u32 ┆ u32  ┆ u32 ┆ u32 ┆ ---    ┆ ---    ┆ u32   ┆ ---    ┆ u32    ┆ u32    │\n",
       "│ u32    ┆     ┆     ┆     ┆      ┆     ┆     ┆ u32    ┆ u32    ┆       ┆ u32    ┆        ┆        │\n",
       "╞════════╪═════╪═════╪═════╪══════╪═════╪═════╪════════╪════════╪═══════╪════════╪════════╪════════╡\n",
       "│ 667819 ┆ 238 ┆ 601 ┆ 769 ┆ 2    ┆ 2   ┆ 2   ┆ 436198 ┆ 2387   ┆ 8     ┆ 667819 ┆ 1      ┆ 667819 │\n",
       "│ 68     ┆     ┆     ┆     ┆      ┆     ┆     ┆ 4      ┆        ┆       ┆ 68     ┆        ┆ 68     │\n",
       "└────────┴─────┴─────┴─────┴──────┴─────┴─────┴────────┴────────┴───────┴────────┴────────┴────────┘"
      ]
     },
     "metadata": {},
     "output_type": "display_data"
    },
    {
     "data": {
      "text/html": [
       "<div><style>\n",
       ".dataframe > thead > tr,\n",
       ".dataframe > tbody > tr {\n",
       "  text-align: right;\n",
       "  white-space: pre-wrap;\n",
       "}\n",
       "</style>\n",
       "<small>shape: (17, 14)</small><table border=\"1\" class=\"dataframe\"><thead><tr><th>statistic</th><th>molecule</th><th>bb1</th><th>bb2</th><th>bb3</th><th>BRD4</th><th>HSA</th><th>sEH</th><th>scaffold_idx</th><th>mol_per_scaf</th><th>label</th><th>ori_index</th><th>subset</th><th>index</th></tr><tr><td>str</td><td>str</td><td>f64</td><td>f64</td><td>f64</td><td>f64</td><td>f64</td><td>f64</td><td>f64</td><td>f64</td><td>f64</td><td>f64</td><td>f64</td><td>f64</td></tr></thead><tbody><tr><td>&quot;count&quot;</td><td>&quot;66781968&quot;</td><td>6.6781968e7</td><td>6.6781968e7</td><td>6.6781968e7</td><td>6.6781968e7</td><td>6.6781968e7</td><td>6.6781968e7</td><td>6.6781968e7</td><td>6.6781968e7</td><td>6.6781968e7</td><td>6.6781968e7</td><td>6.6781968e7</td><td>6.6781968e7</td></tr><tr><td>&quot;null_count&quot;</td><td>&quot;0&quot;</td><td>0.0</td><td>0.0</td><td>0.0</td><td>0.0</td><td>0.0</td><td>0.0</td><td>0.0</td><td>0.0</td><td>0.0</td><td>0.0</td><td>0.0</td><td>0.0</td></tr><tr><td>&quot;mean&quot;</td><td>null</td><td>1074.412876</td><td>1079.33348</td><td>1033.022486</td><td>0.004772</td><td>0.004283</td><td>0.007581</td><td>3.0227e6</td><td>14104.681262</td><td>0.035236</td><td>4.9485e7</td><td>255.0</td><td>3.3418e7</td></tr><tr><td>&quot;std&quot;</td><td>null</td><td>591.517182</td><td>609.726251</td><td>610.569976</td><td>0.068916</td><td>0.065305</td><td>0.086739</td><td>1.7249e6</td><td>55810.843695</td><td>0.321424</td><td>2.8744e7</td><td>0.0</td><td>1.9294e7</td></tr><tr><td>&quot;min&quot;</td><td>&quot;C#CCOc1ccc(CNc…</td><td>7.0</td><td>0.0</td><td>0.0</td><td>0.0</td><td>0.0</td><td>0.0</td><td>2.0</td><td>1.0</td><td>0.0</td><td>363110.0</td><td>255.0</td><td>0.0</td></tr><tr><td>&quot;1%&quot;</td><td>null</td><td>21.0</td><td>26.0</td><td>15.0</td><td>0.0</td><td>0.0</td><td>0.0</td><td>63753.0</td><td>1.0</td><td>0.0</td><td>1.227678e6</td><td>255.0</td><td>668353.0</td></tr><tr><td>&quot;2.5%&quot;</td><td>null</td><td>76.0</td><td>45.0</td><td>44.0</td><td>0.0</td><td>0.0</td><td>0.0</td><td>155462.0</td><td>1.0</td><td>0.0</td><td>2.523747e6</td><td>255.0</td><td>1.670854e6</td></tr><tr><td>&quot;5%&quot;</td><td>null</td><td>141.0</td><td>90.0</td><td>98.0</td><td>0.0</td><td>0.0</td><td>0.0</td><td>286317.0</td><td>3.0</td><td>0.0</td><td>4.686813e6</td><td>255.0</td><td>3.34179e6</td></tr><tr><td>&quot;10%&quot;</td><td>null</td><td>273.0</td><td>158.0</td><td>205.0</td><td>0.0</td><td>0.0</td><td>0.0</td><td>606564.0</td><td>8.0</td><td>0.0</td><td>9.734204e6</td><td>255.0</td><td>6.683312e6</td></tr><tr><td>&quot;25%&quot;</td><td>null</td><td>557.0</td><td>586.0</td><td>505.0</td><td>0.0</td><td>0.0</td><td>0.0</td><td>1.54123e6</td><td>48.0</td><td>0.0</td><td>2.3786062e7</td><td>255.0</td><td>1.6708502e7</td></tr><tr><td>&quot;50%&quot;</td><td>null</td><td>1066.0</td><td>1110.0</td><td>1033.0</td><td>0.0</td><td>0.0</td><td>0.0</td><td>3.022164e6</td><td>348.0</td><td>0.0</td><td>5.0115514e7</td><td>255.0</td><td>3.3418537e7</td></tr><tr><td>&quot;75%&quot;</td><td>null</td><td>1600.0</td><td>1580.0</td><td>1541.0</td><td>0.0</td><td>0.0</td><td>0.0</td><td>4.551733e6</td><td>3657.0</td><td>0.0</td><td>7.462494e7</td><td>255.0</td><td>5.0125018e7</td></tr><tr><td>&quot;90%&quot;</td><td>null</td><td>1922.0</td><td>1917.0</td><td>1890.0</td><td>0.0</td><td>0.0</td><td>0.0</td><td>5.387615e6</td><td>18348.0</td><td>0.0</td><td>8.8679828e7</td><td>255.0</td><td>6.015146e7</td></tr><tr><td>&quot;95%&quot;</td><td>null</td><td>2013.0</td><td>2010.0</td><td>2012.0</td><td>0.0</td><td>0.0</td><td>0.0</td><td>5.684055e6</td><td>63850.0</td><td>0.0</td><td>9.3731891e7</td><td>255.0</td><td>6.34938e7</td></tr><tr><td>&quot;97.5%&quot;</td><td>null</td><td>2050.0</td><td>2066.0</td><td>2076.0</td><td>0.0</td><td>0.0</td><td>0.0</td><td>5.841688e6</td><td>176859.0</td><td>0.0</td><td>9.6255526e7</td><td>255.0</td><td>6.5165133e7</td></tr><tr><td>&quot;99%&quot;</td><td>null</td><td>2061.0</td><td>2092.0</td><td>2096.0</td><td>0.0</td><td>0.0</td><td>0.0</td><td>5.928811e6</td><td>334990.0</td><td>1.0</td><td>9.7548574e7</td><td>255.0</td><td>6.6167834e7</td></tr><tr><td>&quot;max&quot;</td><td>&quot;[N-]=[N+]=NCCC…</td><td>2084.0</td><td>2109.0</td><td>2109.0</td><td>1.0</td><td>1.0</td><td>1.0</td><td>5.971684e6</td><td>500170.0</td><td>7.0</td><td>9.8414971e7</td><td>255.0</td><td>6.6836164e7</td></tr></tbody></table></div>"
      ],
      "text/plain": [
       "shape: (17, 14)\n",
       "┌─────┬─────┬─────┬─────┬─────┬─────┬─────┬────────┬───────┬───────┬───────┬───────┬───────┬───────┐\n",
       "│ sta ┆ mol ┆ bb1 ┆ bb2 ┆ bb3 ┆ BRD ┆ HSA ┆ sEH    ┆ scaff ┆ mol_p ┆ label ┆ ori_i ┆ subse ┆ index │\n",
       "│ tis ┆ ecu ┆ --- ┆ --- ┆ --- ┆ 4   ┆ --- ┆ ---    ┆ old_i ┆ er_sc ┆ ---   ┆ ndex  ┆ t     ┆ ---   │\n",
       "│ tic ┆ le  ┆ f64 ┆ f64 ┆ f64 ┆ --- ┆ f64 ┆ f64    ┆ dx    ┆ af    ┆ f64   ┆ ---   ┆ ---   ┆ f64   │\n",
       "│ --- ┆ --- ┆     ┆     ┆     ┆ f64 ┆     ┆        ┆ ---   ┆ ---   ┆       ┆ f64   ┆ f64   ┆       │\n",
       "│ str ┆ str ┆     ┆     ┆     ┆     ┆     ┆        ┆ f64   ┆ f64   ┆       ┆       ┆       ┆       │\n",
       "╞═════╪═════╪═════╪═════╪═════╪═════╪═════╪════════╪═══════╪═══════╪═══════╪═══════╪═══════╪═══════╡\n",
       "│ cou ┆ 667 ┆ 6.6 ┆ 6.6 ┆ 6.6 ┆ 6.6 ┆ 6.6 ┆ 6.6781 ┆ 6.678 ┆ 6.678 ┆ 6.678 ┆ 6.678 ┆ 6.678 ┆ 6.678 │\n",
       "│ nt  ┆ 819 ┆ 781 ┆ 781 ┆ 781 ┆ 781 ┆ 781 ┆ 968e7  ┆ 1968e ┆ 1968e ┆ 1968e ┆ 1968e ┆ 1968e ┆ 1968e │\n",
       "│     ┆ 68  ┆ 968 ┆ 968 ┆ 968 ┆ 968 ┆ 968 ┆        ┆ 7     ┆ 7     ┆ 7     ┆ 7     ┆ 7     ┆ 7     │\n",
       "│     ┆     ┆ e7  ┆ e7  ┆ e7  ┆ e7  ┆ e7  ┆        ┆       ┆       ┆       ┆       ┆       ┆       │\n",
       "│ nul ┆ 0   ┆ 0.0 ┆ 0.0 ┆ 0.0 ┆ 0.0 ┆ 0.0 ┆ 0.0    ┆ 0.0   ┆ 0.0   ┆ 0.0   ┆ 0.0   ┆ 0.0   ┆ 0.0   │\n",
       "│ l_c ┆     ┆     ┆     ┆     ┆     ┆     ┆        ┆       ┆       ┆       ┆       ┆       ┆       │\n",
       "│ oun ┆     ┆     ┆     ┆     ┆     ┆     ┆        ┆       ┆       ┆       ┆       ┆       ┆       │\n",
       "│ t   ┆     ┆     ┆     ┆     ┆     ┆     ┆        ┆       ┆       ┆       ┆       ┆       ┆       │\n",
       "│ mea ┆ nul ┆ 107 ┆ 107 ┆ 103 ┆ 0.0 ┆ 0.0 ┆ 0.0075 ┆ 3.022 ┆ 14104 ┆ 0.035 ┆ 4.948 ┆ 255.0 ┆ 3.341 │\n",
       "│ n   ┆ l   ┆ 4.4 ┆ 9.3 ┆ 3.0 ┆ 047 ┆ 042 ┆ 81     ┆ 7e6   ┆ .6812 ┆ 236   ┆ 5e7   ┆       ┆ 8e7   │\n",
       "│     ┆     ┆ 128 ┆ 334 ┆ 224 ┆ 72  ┆ 83  ┆        ┆       ┆ 62    ┆       ┆       ┆       ┆       │\n",
       "│     ┆     ┆ 76  ┆ 8   ┆ 86  ┆     ┆     ┆        ┆       ┆       ┆       ┆       ┆       ┆       │\n",
       "│ std ┆ nul ┆ 591 ┆ 609 ┆ 610 ┆ 0.0 ┆ 0.0 ┆ 0.0867 ┆ 1.724 ┆ 55810 ┆ 0.321 ┆ 2.874 ┆ 0.0   ┆ 1.929 │\n",
       "│     ┆ l   ┆ .51 ┆ .72 ┆ .56 ┆ 689 ┆ 653 ┆ 39     ┆ 9e6   ┆ .8436 ┆ 424   ┆ 4e7   ┆       ┆ 4e7   │\n",
       "│     ┆     ┆ 718 ┆ 625 ┆ 997 ┆ 16  ┆ 05  ┆        ┆       ┆ 95    ┆       ┆       ┆       ┆       │\n",
       "│     ┆     ┆ 2   ┆ 1   ┆ 6   ┆     ┆     ┆        ┆       ┆       ┆       ┆       ┆       ┆       │\n",
       "│ min ┆ C#C ┆ 7.0 ┆ 0.0 ┆ 0.0 ┆ 0.0 ┆ 0.0 ┆ 0.0    ┆ 2.0   ┆ 1.0   ┆ 0.0   ┆ 36311 ┆ 255.0 ┆ 0.0   │\n",
       "│     ┆ COc ┆     ┆     ┆     ┆     ┆     ┆        ┆       ┆       ┆       ┆ 0.0   ┆       ┆       │\n",
       "│     ┆ 1cc ┆     ┆     ┆     ┆     ┆     ┆        ┆       ┆       ┆       ┆       ┆       ┆       │\n",
       "│     ┆ c(C ┆     ┆     ┆     ┆     ┆     ┆        ┆       ┆       ┆       ┆       ┆       ┆       │\n",
       "│     ┆ Nc2 ┆     ┆     ┆     ┆     ┆     ┆        ┆       ┆       ┆       ┆       ┆       ┆       │\n",
       "│     ┆ nc( ┆     ┆     ┆     ┆     ┆     ┆        ┆       ┆       ┆       ┆       ┆       ┆       │\n",
       "│     ┆ NC( ┆     ┆     ┆     ┆     ┆     ┆        ┆       ┆       ┆       ┆       ┆       ┆       │\n",
       "│     ┆ =N) ┆     ┆     ┆     ┆     ┆     ┆        ┆       ┆       ┆       ┆       ┆       ┆       │\n",
       "│     ┆ CCC ┆     ┆     ┆     ┆     ┆     ┆        ┆       ┆       ┆       ┆       ┆       ┆       │\n",
       "│     ┆ N)n ┆     ┆     ┆     ┆     ┆     ┆        ┆       ┆       ┆       ┆       ┆       ┆       │\n",
       "│     ┆ c(… ┆     ┆     ┆     ┆     ┆     ┆        ┆       ┆       ┆       ┆       ┆       ┆       │\n",
       "│ 1%  ┆ nul ┆ 21. ┆ 26. ┆ 15. ┆ 0.0 ┆ 0.0 ┆ 0.0    ┆ 63753 ┆ 1.0   ┆ 0.0   ┆ 1.227 ┆ 255.0 ┆ 66835 │\n",
       "│     ┆ l   ┆ 0   ┆ 0   ┆ 0   ┆     ┆     ┆        ┆ .0    ┆       ┆       ┆ 678e6 ┆       ┆ 3.0   │\n",
       "│ 2.5 ┆ nul ┆ 76. ┆ 45. ┆ 44. ┆ 0.0 ┆ 0.0 ┆ 0.0    ┆ 15546 ┆ 1.0   ┆ 0.0   ┆ 2.523 ┆ 255.0 ┆ 1.670 │\n",
       "│ %   ┆ l   ┆ 0   ┆ 0   ┆ 0   ┆     ┆     ┆        ┆ 2.0   ┆       ┆       ┆ 747e6 ┆       ┆ 854e6 │\n",
       "│ 5%  ┆ nul ┆ 141 ┆ 90. ┆ 98. ┆ 0.0 ┆ 0.0 ┆ 0.0    ┆ 28631 ┆ 3.0   ┆ 0.0   ┆ 4.686 ┆ 255.0 ┆ 3.341 │\n",
       "│     ┆ l   ┆ .0  ┆ 0   ┆ 0   ┆     ┆     ┆        ┆ 7.0   ┆       ┆       ┆ 813e6 ┆       ┆ 79e6  │\n",
       "│ 10% ┆ nul ┆ 273 ┆ 158 ┆ 205 ┆ 0.0 ┆ 0.0 ┆ 0.0    ┆ 60656 ┆ 8.0   ┆ 0.0   ┆ 9.734 ┆ 255.0 ┆ 6.683 │\n",
       "│     ┆ l   ┆ .0  ┆ .0  ┆ .0  ┆     ┆     ┆        ┆ 4.0   ┆       ┆       ┆ 204e6 ┆       ┆ 312e6 │\n",
       "│ 25% ┆ nul ┆ 557 ┆ 586 ┆ 505 ┆ 0.0 ┆ 0.0 ┆ 0.0    ┆ 1.541 ┆ 48.0  ┆ 0.0   ┆ 2.378 ┆ 255.0 ┆ 1.670 │\n",
       "│     ┆ l   ┆ .0  ┆ .0  ┆ .0  ┆     ┆     ┆        ┆ 23e6  ┆       ┆       ┆ 6062e ┆       ┆ 8502e │\n",
       "│     ┆     ┆     ┆     ┆     ┆     ┆     ┆        ┆       ┆       ┆       ┆ 7     ┆       ┆ 7     │\n",
       "│ 50% ┆ nul ┆ 106 ┆ 111 ┆ 103 ┆ 0.0 ┆ 0.0 ┆ 0.0    ┆ 3.022 ┆ 348.0 ┆ 0.0   ┆ 5.011 ┆ 255.0 ┆ 3.341 │\n",
       "│     ┆ l   ┆ 6.0 ┆ 0.0 ┆ 3.0 ┆     ┆     ┆        ┆ 164e6 ┆       ┆       ┆ 5514e ┆       ┆ 8537e │\n",
       "│     ┆     ┆     ┆     ┆     ┆     ┆     ┆        ┆       ┆       ┆       ┆ 7     ┆       ┆ 7     │\n",
       "│ 75% ┆ nul ┆ 160 ┆ 158 ┆ 154 ┆ 0.0 ┆ 0.0 ┆ 0.0    ┆ 4.551 ┆ 3657. ┆ 0.0   ┆ 7.462 ┆ 255.0 ┆ 5.012 │\n",
       "│     ┆ l   ┆ 0.0 ┆ 0.0 ┆ 1.0 ┆     ┆     ┆        ┆ 733e6 ┆ 0     ┆       ┆ 494e7 ┆       ┆ 5018e │\n",
       "│     ┆     ┆     ┆     ┆     ┆     ┆     ┆        ┆       ┆       ┆       ┆       ┆       ┆ 7     │\n",
       "│ 90% ┆ nul ┆ 192 ┆ 191 ┆ 189 ┆ 0.0 ┆ 0.0 ┆ 0.0    ┆ 5.387 ┆ 18348 ┆ 0.0   ┆ 8.867 ┆ 255.0 ┆ 6.015 │\n",
       "│     ┆ l   ┆ 2.0 ┆ 7.0 ┆ 0.0 ┆     ┆     ┆        ┆ 615e6 ┆ .0    ┆       ┆ 9828e ┆       ┆ 146e7 │\n",
       "│     ┆     ┆     ┆     ┆     ┆     ┆     ┆        ┆       ┆       ┆       ┆ 7     ┆       ┆       │\n",
       "│ 95% ┆ nul ┆ 201 ┆ 201 ┆ 201 ┆ 0.0 ┆ 0.0 ┆ 0.0    ┆ 5.684 ┆ 63850 ┆ 0.0   ┆ 9.373 ┆ 255.0 ┆ 6.349 │\n",
       "│     ┆ l   ┆ 3.0 ┆ 0.0 ┆ 2.0 ┆     ┆     ┆        ┆ 055e6 ┆ .0    ┆       ┆ 1891e ┆       ┆ 38e7  │\n",
       "│     ┆     ┆     ┆     ┆     ┆     ┆     ┆        ┆       ┆       ┆       ┆ 7     ┆       ┆       │\n",
       "│ 97. ┆ nul ┆ 205 ┆ 206 ┆ 207 ┆ 0.0 ┆ 0.0 ┆ 0.0    ┆ 5.841 ┆ 17685 ┆ 0.0   ┆ 9.625 ┆ 255.0 ┆ 6.516 │\n",
       "│ 5%  ┆ l   ┆ 0.0 ┆ 6.0 ┆ 6.0 ┆     ┆     ┆        ┆ 688e6 ┆ 9.0   ┆       ┆ 5526e ┆       ┆ 5133e │\n",
       "│     ┆     ┆     ┆     ┆     ┆     ┆     ┆        ┆       ┆       ┆       ┆ 7     ┆       ┆ 7     │\n",
       "│ 99% ┆ nul ┆ 206 ┆ 209 ┆ 209 ┆ 0.0 ┆ 0.0 ┆ 0.0    ┆ 5.928 ┆ 33499 ┆ 1.0   ┆ 9.754 ┆ 255.0 ┆ 6.616 │\n",
       "│     ┆ l   ┆ 1.0 ┆ 2.0 ┆ 6.0 ┆     ┆     ┆        ┆ 811e6 ┆ 0.0   ┆       ┆ 8574e ┆       ┆ 7834e │\n",
       "│     ┆     ┆     ┆     ┆     ┆     ┆     ┆        ┆       ┆       ┆       ┆ 7     ┆       ┆ 7     │\n",
       "│ max ┆ [N- ┆ 208 ┆ 210 ┆ 210 ┆ 1.0 ┆ 1.0 ┆ 1.0    ┆ 5.971 ┆ 50017 ┆ 7.0   ┆ 9.841 ┆ 255.0 ┆ 6.683 │\n",
       "│     ┆ ]=[ ┆ 4.0 ┆ 9.0 ┆ 9.0 ┆     ┆     ┆        ┆ 684e6 ┆ 0.0   ┆       ┆ 4971e ┆       ┆ 6164e │\n",
       "│     ┆ N+] ┆     ┆     ┆     ┆     ┆     ┆        ┆       ┆       ┆       ┆ 7     ┆       ┆ 7     │\n",
       "│     ┆ =NC ┆     ┆     ┆     ┆     ┆     ┆        ┆       ┆       ┆       ┆       ┆       ┆       │\n",
       "│     ┆ CC[ ┆     ┆     ┆     ┆     ┆     ┆        ┆       ┆       ┆       ┆       ┆       ┆       │\n",
       "│     ┆ C@H ┆     ┆     ┆     ┆     ┆     ┆        ┆       ┆       ┆       ┆       ┆       ┆       │\n",
       "│     ┆ ](N ┆     ┆     ┆     ┆     ┆     ┆        ┆       ┆       ┆       ┆       ┆       ┆       │\n",
       "│     ┆ c1n ┆     ┆     ┆     ┆     ┆     ┆        ┆       ┆       ┆       ┆       ┆       ┆       │\n",
       "│     ┆ c(N ┆     ┆     ┆     ┆     ┆     ┆        ┆       ┆       ┆       ┆       ┆       ┆       │\n",
       "│     ┆ c2n ┆     ┆     ┆     ┆     ┆     ┆        ┆       ┆       ┆       ┆       ┆       ┆       │\n",
       "│     ┆ nn… ┆     ┆     ┆     ┆     ┆     ┆        ┆       ┆       ┆       ┆       ┆       ┆       │\n",
       "└─────┴─────┴─────┴─────┴─────┴─────┴─────┴────────┴───────┴───────┴───────┴───────┴───────┴───────┘"
      ]
     },
     "metadata": {},
     "output_type": "display_data"
    },
    {
     "name": "stdout",
     "output_type": "stream",
     "text": [
      "##### STAGE 3 #####\n",
      "Number of folds: 930 71839\n",
      "Fold 0:\n",
      "Fold train/test size: 66710159 71809\n",
      "Stage 3 Test set statistic:\n"
     ]
    },
    {
     "data": {
      "text/html": [
       "<div><style>\n",
       ".dataframe > thead > tr,\n",
       ".dataframe > tbody > tr {\n",
       "  text-align: right;\n",
       "  white-space: pre-wrap;\n",
       "}\n",
       "</style>\n",
       "<small>shape: (1, 12)</small><table border=\"1\" class=\"dataframe\"><thead><tr><th>molecule</th><th>bb1</th><th>bb2</th><th>bb3</th><th>BRD4</th><th>HSA</th><th>sEH</th><th>scaffold_idx</th><th>mol_per_scaf</th><th>label</th><th>ori_index</th><th>subset</th></tr><tr><td>u32</td><td>u32</td><td>u32</td><td>u32</td><td>u32</td><td>u32</td><td>u32</td><td>u32</td><td>u32</td><td>u32</td><td>u32</td><td>u32</td></tr></thead><tbody><tr><td>71809</td><td>238</td><td>601</td><td>763</td><td>2</td><td>2</td><td>2</td><td>48571</td><td>2090</td><td>5</td><td>71809</td><td>1</td></tr></tbody></table></div>"
      ],
      "text/plain": [
       "shape: (1, 12)\n",
       "┌──────────┬─────┬─────┬─────┬──────┬─────┬─────┬───────────┬──────────┬───────┬──────────┬────────┐\n",
       "│ molecule ┆ bb1 ┆ bb2 ┆ bb3 ┆ BRD4 ┆ HSA ┆ sEH ┆ scaffold_ ┆ mol_per_ ┆ label ┆ ori_inde ┆ subset │\n",
       "│ ---      ┆ --- ┆ --- ┆ --- ┆ ---  ┆ --- ┆ --- ┆ idx       ┆ scaf     ┆ ---   ┆ x        ┆ ---    │\n",
       "│ u32      ┆ u32 ┆ u32 ┆ u32 ┆ u32  ┆ u32 ┆ u32 ┆ ---       ┆ ---      ┆ u32   ┆ ---      ┆ u32    │\n",
       "│          ┆     ┆     ┆     ┆      ┆     ┆     ┆ u32       ┆ u32      ┆       ┆ u32      ┆        │\n",
       "╞══════════╪═════╪═════╪═════╪══════╪═════╪═════╪═══════════╪══════════╪═══════╪══════════╪════════╡\n",
       "│ 71809    ┆ 238 ┆ 601 ┆ 763 ┆ 2    ┆ 2   ┆ 2   ┆ 48571     ┆ 2090     ┆ 5     ┆ 71809    ┆ 1      │\n",
       "└──────────┴─────┴─────┴─────┴──────┴─────┴─────┴───────────┴──────────┴───────┴──────────┴────────┘"
      ]
     },
     "metadata": {},
     "output_type": "display_data"
    },
    {
     "data": {
      "text/html": [
       "<div><style>\n",
       ".dataframe > thead > tr,\n",
       ".dataframe > tbody > tr {\n",
       "  text-align: right;\n",
       "  white-space: pre-wrap;\n",
       "}\n",
       "</style>\n",
       "<small>shape: (17, 13)</small><table border=\"1\" class=\"dataframe\"><thead><tr><th>statistic</th><th>molecule</th><th>bb1</th><th>bb2</th><th>bb3</th><th>BRD4</th><th>HSA</th><th>sEH</th><th>scaffold_idx</th><th>mol_per_scaf</th><th>label</th><th>ori_index</th><th>subset</th></tr><tr><td>str</td><td>str</td><td>f64</td><td>f64</td><td>f64</td><td>f64</td><td>f64</td><td>f64</td><td>f64</td><td>f64</td><td>f64</td><td>f64</td><td>f64</td></tr></thead><tbody><tr><td>&quot;count&quot;</td><td>&quot;71809&quot;</td><td>71809.0</td><td>71809.0</td><td>71809.0</td><td>71809.0</td><td>71809.0</td><td>71809.0</td><td>71809.0</td><td>71809.0</td><td>71809.0</td><td>71809.0</td><td>71809.0</td></tr><tr><td>&quot;null_count&quot;</td><td>&quot;0&quot;</td><td>0.0</td><td>0.0</td><td>0.0</td><td>0.0</td><td>0.0</td><td>0.0</td><td>0.0</td><td>0.0</td><td>0.0</td><td>0.0</td><td>0.0</td></tr><tr><td>&quot;mean&quot;</td><td>null</td><td>1074.212592</td><td>1080.311716</td><td>1034.187372</td><td>0.004763</td><td>0.004289</td><td>0.007576</td><td>3.0268e6</td><td>14191.580248</td><td>0.035205</td><td>4.9627e7</td><td>3.0</td></tr><tr><td>&quot;std&quot;</td><td>null</td><td>591.663628</td><td>610.058349</td><td>609.364225</td><td>0.068848</td><td>0.065352</td><td>0.086709</td><td>1.7215e6</td><td>55562.495943</td><td>0.321083</td><td>2.8744e7</td><td>0.0</td></tr><tr><td>&quot;min&quot;</td><td>&quot;C#CCOc1ccc(CNc…</td><td>7.0</td><td>0.0</td><td>0.0</td><td>0.0</td><td>0.0</td><td>0.0</td><td>12.0</td><td>1.0</td><td>0.0</td><td>364453.0</td><td>3.0</td></tr><tr><td>&quot;1%&quot;</td><td>null</td><td>21.0</td><td>26.0</td><td>15.0</td><td>0.0</td><td>0.0</td><td>0.0</td><td>63782.0</td><td>1.0</td><td>0.0</td><td>1.224562e6</td><td>3.0</td></tr><tr><td>&quot;2.5%&quot;</td><td>null</td><td>76.0</td><td>45.0</td><td>44.0</td><td>0.0</td><td>0.0</td><td>0.0</td><td>153533.0</td><td>1.0</td><td>0.0</td><td>2.49627e6</td><td>3.0</td></tr><tr><td>&quot;5%&quot;</td><td>null</td><td>141.0</td><td>91.0</td><td>100.0</td><td>0.0</td><td>0.0</td><td>0.0</td><td>290571.0</td><td>3.0</td><td>0.0</td><td>4.609667e6</td><td>3.0</td></tr><tr><td>&quot;10%&quot;</td><td>null</td><td>273.0</td><td>158.0</td><td>208.0</td><td>0.0</td><td>0.0</td><td>0.0</td><td>609847.0</td><td>8.0</td><td>0.0</td><td>9.697233e6</td><td>3.0</td></tr><tr><td>&quot;25%&quot;</td><td>null</td><td>557.0</td><td>586.0</td><td>506.0</td><td>0.0</td><td>0.0</td><td>0.0</td><td>1.549324e6</td><td>48.0</td><td>0.0</td><td>2.3956748e7</td><td>3.0</td></tr><tr><td>&quot;50%&quot;</td><td>null</td><td>1088.0</td><td>1110.0</td><td>1033.0</td><td>0.0</td><td>0.0</td><td>0.0</td><td>3.042272e6</td><td>348.0</td><td>0.0</td><td>5.0301274e7</td><td>3.0</td></tr><tr><td>&quot;75%&quot;</td><td>null</td><td>1600.0</td><td>1580.0</td><td>1541.0</td><td>0.0</td><td>0.0</td><td>0.0</td><td>4.547887e6</td><td>3657.0</td><td>0.0</td><td>7.4769731e7</td><td>3.0</td></tr><tr><td>&quot;90%&quot;</td><td>null</td><td>1912.0</td><td>1917.0</td><td>1889.0</td><td>0.0</td><td>0.0</td><td>0.0</td><td>5.387397e6</td><td>18348.0</td><td>0.0</td><td>8.8732646e7</td><td>3.0</td></tr><tr><td>&quot;95%&quot;</td><td>null</td><td>2013.0</td><td>2010.0</td><td>2012.0</td><td>0.0</td><td>0.0</td><td>0.0</td><td>5.681154e6</td><td>65989.0</td><td>0.0</td><td>9.3720084e7</td><td>3.0</td></tr><tr><td>&quot;97.5%&quot;</td><td>null</td><td>2050.0</td><td>2066.0</td><td>2076.0</td><td>0.0</td><td>0.0</td><td>0.0</td><td>5.83292e6</td><td>176859.0</td><td>0.0</td><td>9.6195439e7</td><td>3.0</td></tr><tr><td>&quot;99%&quot;</td><td>null</td><td>2061.0</td><td>2090.0</td><td>2096.0</td><td>0.0</td><td>0.0</td><td>0.0</td><td>5.923679e6</td><td>334990.0</td><td>1.0</td><td>9.7529275e7</td><td>3.0</td></tr><tr><td>&quot;max&quot;</td><td>&quot;[N-]=[N+]=NCCC…</td><td>2084.0</td><td>2109.0</td><td>2109.0</td><td>1.0</td><td>1.0</td><td>1.0</td><td>5.971604e6</td><td>500170.0</td><td>4.0</td><td>9.8412925e7</td><td>3.0</td></tr></tbody></table></div>"
      ],
      "text/plain": [
       "shape: (17, 13)\n",
       "┌─────┬─────┬─────┬────────┬───────┬───────┬───────┬───────┬───────┬───────┬───────┬───────┬───────┐\n",
       "│ sta ┆ mol ┆ bb1 ┆ bb2    ┆ bb3   ┆ BRD4  ┆ HSA   ┆ sEH   ┆ scaff ┆ mol_p ┆ label ┆ ori_i ┆ subse │\n",
       "│ tis ┆ ecu ┆ --- ┆ ---    ┆ ---   ┆ ---   ┆ ---   ┆ ---   ┆ old_i ┆ er_sc ┆ ---   ┆ ndex  ┆ t     │\n",
       "│ tic ┆ le  ┆ f64 ┆ f64    ┆ f64   ┆ f64   ┆ f64   ┆ f64   ┆ dx    ┆ af    ┆ f64   ┆ ---   ┆ ---   │\n",
       "│ --- ┆ --- ┆     ┆        ┆       ┆       ┆       ┆       ┆ ---   ┆ ---   ┆       ┆ f64   ┆ f64   │\n",
       "│ str ┆ str ┆     ┆        ┆       ┆       ┆       ┆       ┆ f64   ┆ f64   ┆       ┆       ┆       │\n",
       "╞═════╪═════╪═════╪════════╪═══════╪═══════╪═══════╪═══════╪═══════╪═══════╪═══════╪═══════╪═══════╡\n",
       "│ cou ┆ 718 ┆ 718 ┆ 71809. ┆ 71809 ┆ 71809 ┆ 71809 ┆ 71809 ┆ 71809 ┆ 71809 ┆ 71809 ┆ 71809 ┆ 71809 │\n",
       "│ nt  ┆ 09  ┆ 09. ┆ 0      ┆ .0    ┆ .0    ┆ .0    ┆ .0    ┆ .0    ┆ .0    ┆ .0    ┆ .0    ┆ .0    │\n",
       "│     ┆     ┆ 0   ┆        ┆       ┆       ┆       ┆       ┆       ┆       ┆       ┆       ┆       │\n",
       "│ nul ┆ 0   ┆ 0.0 ┆ 0.0    ┆ 0.0   ┆ 0.0   ┆ 0.0   ┆ 0.0   ┆ 0.0   ┆ 0.0   ┆ 0.0   ┆ 0.0   ┆ 0.0   │\n",
       "│ l_c ┆     ┆     ┆        ┆       ┆       ┆       ┆       ┆       ┆       ┆       ┆       ┆       │\n",
       "│ oun ┆     ┆     ┆        ┆       ┆       ┆       ┆       ┆       ┆       ┆       ┆       ┆       │\n",
       "│ t   ┆     ┆     ┆        ┆       ┆       ┆       ┆       ┆       ┆       ┆       ┆       ┆       │\n",
       "│ mea ┆ nul ┆ 107 ┆ 1080.3 ┆ 1034. ┆ 0.004 ┆ 0.004 ┆ 0.007 ┆ 3.026 ┆ 14191 ┆ 0.035 ┆ 4.962 ┆ 3.0   │\n",
       "│ n   ┆ l   ┆ 4.2 ┆ 11716  ┆ 18737 ┆ 763   ┆ 289   ┆ 576   ┆ 8e6   ┆ .5802 ┆ 205   ┆ 7e7   ┆       │\n",
       "│     ┆     ┆ 125 ┆        ┆ 2     ┆       ┆       ┆       ┆       ┆ 48    ┆       ┆       ┆       │\n",
       "│     ┆     ┆ 92  ┆        ┆       ┆       ┆       ┆       ┆       ┆       ┆       ┆       ┆       │\n",
       "│ std ┆ nul ┆ 591 ┆ 610.05 ┆ 609.3 ┆ 0.068 ┆ 0.065 ┆ 0.086 ┆ 1.721 ┆ 55562 ┆ 0.321 ┆ 2.874 ┆ 0.0   │\n",
       "│     ┆ l   ┆ .66 ┆ 8349   ┆ 64225 ┆ 848   ┆ 352   ┆ 709   ┆ 5e6   ┆ .4959 ┆ 083   ┆ 4e7   ┆       │\n",
       "│     ┆     ┆ 362 ┆        ┆       ┆       ┆       ┆       ┆       ┆ 43    ┆       ┆       ┆       │\n",
       "│     ┆     ┆ 8   ┆        ┆       ┆       ┆       ┆       ┆       ┆       ┆       ┆       ┆       │\n",
       "│ min ┆ C#C ┆ 7.0 ┆ 0.0    ┆ 0.0   ┆ 0.0   ┆ 0.0   ┆ 0.0   ┆ 12.0  ┆ 1.0   ┆ 0.0   ┆ 36445 ┆ 3.0   │\n",
       "│     ┆ COc ┆     ┆        ┆       ┆       ┆       ┆       ┆       ┆       ┆       ┆ 3.0   ┆       │\n",
       "│     ┆ 1cc ┆     ┆        ┆       ┆       ┆       ┆       ┆       ┆       ┆       ┆       ┆       │\n",
       "│     ┆ c(C ┆     ┆        ┆       ┆       ┆       ┆       ┆       ┆       ┆       ┆       ┆       │\n",
       "│     ┆ Nc2 ┆     ┆        ┆       ┆       ┆       ┆       ┆       ┆       ┆       ┆       ┆       │\n",
       "│     ┆ nc( ┆     ┆        ┆       ┆       ┆       ┆       ┆       ┆       ┆       ┆       ┆       │\n",
       "│     ┆ NCC ┆     ┆        ┆       ┆       ┆       ┆       ┆       ┆       ┆       ┆       ┆       │\n",
       "│     ┆ #CC ┆     ┆        ┆       ┆       ┆       ┆       ┆       ┆       ┆       ┆       ┆       │\n",
       "│     ┆ C)n ┆     ┆        ┆       ┆       ┆       ┆       ┆       ┆       ┆       ┆       ┆       │\n",
       "│     ┆ c(N ┆     ┆        ┆       ┆       ┆       ┆       ┆       ┆       ┆       ┆       ┆       │\n",
       "│     ┆ c3… ┆     ┆        ┆       ┆       ┆       ┆       ┆       ┆       ┆       ┆       ┆       │\n",
       "│ 1%  ┆ nul ┆ 21. ┆ 26.0   ┆ 15.0  ┆ 0.0   ┆ 0.0   ┆ 0.0   ┆ 63782 ┆ 1.0   ┆ 0.0   ┆ 1.224 ┆ 3.0   │\n",
       "│     ┆ l   ┆ 0   ┆        ┆       ┆       ┆       ┆       ┆ .0    ┆       ┆       ┆ 562e6 ┆       │\n",
       "│ 2.5 ┆ nul ┆ 76. ┆ 45.0   ┆ 44.0  ┆ 0.0   ┆ 0.0   ┆ 0.0   ┆ 15353 ┆ 1.0   ┆ 0.0   ┆ 2.496 ┆ 3.0   │\n",
       "│ %   ┆ l   ┆ 0   ┆        ┆       ┆       ┆       ┆       ┆ 3.0   ┆       ┆       ┆ 27e6  ┆       │\n",
       "│ 5%  ┆ nul ┆ 141 ┆ 91.0   ┆ 100.0 ┆ 0.0   ┆ 0.0   ┆ 0.0   ┆ 29057 ┆ 3.0   ┆ 0.0   ┆ 4.609 ┆ 3.0   │\n",
       "│     ┆ l   ┆ .0  ┆        ┆       ┆       ┆       ┆       ┆ 1.0   ┆       ┆       ┆ 667e6 ┆       │\n",
       "│ 10% ┆ nul ┆ 273 ┆ 158.0  ┆ 208.0 ┆ 0.0   ┆ 0.0   ┆ 0.0   ┆ 60984 ┆ 8.0   ┆ 0.0   ┆ 9.697 ┆ 3.0   │\n",
       "│     ┆ l   ┆ .0  ┆        ┆       ┆       ┆       ┆       ┆ 7.0   ┆       ┆       ┆ 233e6 ┆       │\n",
       "│ 25% ┆ nul ┆ 557 ┆ 586.0  ┆ 506.0 ┆ 0.0   ┆ 0.0   ┆ 0.0   ┆ 1.549 ┆ 48.0  ┆ 0.0   ┆ 2.395 ┆ 3.0   │\n",
       "│     ┆ l   ┆ .0  ┆        ┆       ┆       ┆       ┆       ┆ 324e6 ┆       ┆       ┆ 6748e ┆       │\n",
       "│     ┆     ┆     ┆        ┆       ┆       ┆       ┆       ┆       ┆       ┆       ┆ 7     ┆       │\n",
       "│ 50% ┆ nul ┆ 108 ┆ 1110.0 ┆ 1033. ┆ 0.0   ┆ 0.0   ┆ 0.0   ┆ 3.042 ┆ 348.0 ┆ 0.0   ┆ 5.030 ┆ 3.0   │\n",
       "│     ┆ l   ┆ 8.0 ┆        ┆ 0     ┆       ┆       ┆       ┆ 272e6 ┆       ┆       ┆ 1274e ┆       │\n",
       "│     ┆     ┆     ┆        ┆       ┆       ┆       ┆       ┆       ┆       ┆       ┆ 7     ┆       │\n",
       "│ 75% ┆ nul ┆ 160 ┆ 1580.0 ┆ 1541. ┆ 0.0   ┆ 0.0   ┆ 0.0   ┆ 4.547 ┆ 3657. ┆ 0.0   ┆ 7.476 ┆ 3.0   │\n",
       "│     ┆ l   ┆ 0.0 ┆        ┆ 0     ┆       ┆       ┆       ┆ 887e6 ┆ 0     ┆       ┆ 9731e ┆       │\n",
       "│     ┆     ┆     ┆        ┆       ┆       ┆       ┆       ┆       ┆       ┆       ┆ 7     ┆       │\n",
       "│ 90% ┆ nul ┆ 191 ┆ 1917.0 ┆ 1889. ┆ 0.0   ┆ 0.0   ┆ 0.0   ┆ 5.387 ┆ 18348 ┆ 0.0   ┆ 8.873 ┆ 3.0   │\n",
       "│     ┆ l   ┆ 2.0 ┆        ┆ 0     ┆       ┆       ┆       ┆ 397e6 ┆ .0    ┆       ┆ 2646e ┆       │\n",
       "│     ┆     ┆     ┆        ┆       ┆       ┆       ┆       ┆       ┆       ┆       ┆ 7     ┆       │\n",
       "│ 95% ┆ nul ┆ 201 ┆ 2010.0 ┆ 2012. ┆ 0.0   ┆ 0.0   ┆ 0.0   ┆ 5.681 ┆ 65989 ┆ 0.0   ┆ 9.372 ┆ 3.0   │\n",
       "│     ┆ l   ┆ 3.0 ┆        ┆ 0     ┆       ┆       ┆       ┆ 154e6 ┆ .0    ┆       ┆ 0084e ┆       │\n",
       "│     ┆     ┆     ┆        ┆       ┆       ┆       ┆       ┆       ┆       ┆       ┆ 7     ┆       │\n",
       "│ 97. ┆ nul ┆ 205 ┆ 2066.0 ┆ 2076. ┆ 0.0   ┆ 0.0   ┆ 0.0   ┆ 5.832 ┆ 17685 ┆ 0.0   ┆ 9.619 ┆ 3.0   │\n",
       "│ 5%  ┆ l   ┆ 0.0 ┆        ┆ 0     ┆       ┆       ┆       ┆ 92e6  ┆ 9.0   ┆       ┆ 5439e ┆       │\n",
       "│     ┆     ┆     ┆        ┆       ┆       ┆       ┆       ┆       ┆       ┆       ┆ 7     ┆       │\n",
       "│ 99% ┆ nul ┆ 206 ┆ 2090.0 ┆ 2096. ┆ 0.0   ┆ 0.0   ┆ 0.0   ┆ 5.923 ┆ 33499 ┆ 1.0   ┆ 9.752 ┆ 3.0   │\n",
       "│     ┆ l   ┆ 1.0 ┆        ┆ 0     ┆       ┆       ┆       ┆ 679e6 ┆ 0.0   ┆       ┆ 9275e ┆       │\n",
       "│     ┆     ┆     ┆        ┆       ┆       ┆       ┆       ┆       ┆       ┆       ┆ 7     ┆       │\n",
       "│ max ┆ [N- ┆ 208 ┆ 2109.0 ┆ 2109. ┆ 1.0   ┆ 1.0   ┆ 1.0   ┆ 5.971 ┆ 50017 ┆ 4.0   ┆ 9.841 ┆ 3.0   │\n",
       "│     ┆ ]=[ ┆ 4.0 ┆        ┆ 0     ┆       ┆       ┆       ┆ 604e6 ┆ 0.0   ┆       ┆ 2925e ┆       │\n",
       "│     ┆ N+] ┆     ┆        ┆       ┆       ┆       ┆       ┆       ┆       ┆       ┆ 7     ┆       │\n",
       "│     ┆ =NC ┆     ┆        ┆       ┆       ┆       ┆       ┆       ┆       ┆       ┆       ┆       │\n",
       "│     ┆ CC[ ┆     ┆        ┆       ┆       ┆       ┆       ┆       ┆       ┆       ┆       ┆       │\n",
       "│     ┆ C@H ┆     ┆        ┆       ┆       ┆       ┆       ┆       ┆       ┆       ┆       ┆       │\n",
       "│     ┆ ](N ┆     ┆        ┆       ┆       ┆       ┆       ┆       ┆       ┆       ┆       ┆       │\n",
       "│     ┆ c1n ┆     ┆        ┆       ┆       ┆       ┆       ┆       ┆       ┆       ┆       ┆       │\n",
       "│     ┆ c(N ┆     ┆        ┆       ┆       ┆       ┆       ┆       ┆       ┆       ┆       ┆       │\n",
       "│     ┆ c2n ┆     ┆        ┆       ┆       ┆       ┆       ┆       ┆       ┆       ┆       ┆       │\n",
       "│     ┆ cc… ┆     ┆        ┆       ┆       ┆       ┆       ┆       ┆       ┆       ┆       ┆       │\n",
       "└─────┴─────┴─────┴────────┴───────┴───────┴───────┴───────┴───────┴───────┴───────┴───────┴───────┘"
      ]
     },
     "metadata": {},
     "output_type": "display_data"
    },
    {
     "name": "stdout",
     "output_type": "stream",
     "text": [
      "Stage 3 Train set statistic:\n"
     ]
    },
    {
     "data": {
      "text/html": [
       "<div><style>\n",
       ".dataframe > thead > tr,\n",
       ".dataframe > tbody > tr {\n",
       "  text-align: right;\n",
       "  white-space: pre-wrap;\n",
       "}\n",
       "</style>\n",
       "<small>shape: (1, 13)</small><table border=\"1\" class=\"dataframe\"><thead><tr><th>molecule</th><th>bb1</th><th>bb2</th><th>bb3</th><th>BRD4</th><th>HSA</th><th>sEH</th><th>scaffold_idx</th><th>mol_per_scaf</th><th>label</th><th>ori_index</th><th>subset</th><th>index</th></tr><tr><td>u32</td><td>u32</td><td>u32</td><td>u32</td><td>u32</td><td>u32</td><td>u32</td><td>u32</td><td>u32</td><td>u32</td><td>u32</td><td>u32</td><td>u32</td></tr></thead><tbody><tr><td>66710159</td><td>238</td><td>601</td><td>769</td><td>2</td><td>2</td><td>2</td><td>4359915</td><td>2387</td><td>8</td><td>66710159</td><td>1</td><td>66710159</td></tr></tbody></table></div>"
      ],
      "text/plain": [
       "shape: (1, 13)\n",
       "┌────────┬─────┬─────┬─────┬──────┬─────┬─────┬────────┬────────┬───────┬────────┬────────┬────────┐\n",
       "│ molecu ┆ bb1 ┆ bb2 ┆ bb3 ┆ BRD4 ┆ HSA ┆ sEH ┆ scaffo ┆ mol_pe ┆ label ┆ ori_in ┆ subset ┆ index  │\n",
       "│ le     ┆ --- ┆ --- ┆ --- ┆ ---  ┆ --- ┆ --- ┆ ld_idx ┆ r_scaf ┆ ---   ┆ dex    ┆ ---    ┆ ---    │\n",
       "│ ---    ┆ u32 ┆ u32 ┆ u32 ┆ u32  ┆ u32 ┆ u32 ┆ ---    ┆ ---    ┆ u32   ┆ ---    ┆ u32    ┆ u32    │\n",
       "│ u32    ┆     ┆     ┆     ┆      ┆     ┆     ┆ u32    ┆ u32    ┆       ┆ u32    ┆        ┆        │\n",
       "╞════════╪═════╪═════╪═════╪══════╪═════╪═════╪════════╪════════╪═══════╪════════╪════════╪════════╡\n",
       "│ 667101 ┆ 238 ┆ 601 ┆ 769 ┆ 2    ┆ 2   ┆ 2   ┆ 435991 ┆ 2387   ┆ 8     ┆ 667101 ┆ 1      ┆ 667101 │\n",
       "│ 59     ┆     ┆     ┆     ┆      ┆     ┆     ┆ 5      ┆        ┆       ┆ 59     ┆        ┆ 59     │\n",
       "└────────┴─────┴─────┴─────┴──────┴─────┴─────┴────────┴────────┴───────┴────────┴────────┴────────┘"
      ]
     },
     "metadata": {},
     "output_type": "display_data"
    },
    {
     "data": {
      "text/html": [
       "<div><style>\n",
       ".dataframe > thead > tr,\n",
       ".dataframe > tbody > tr {\n",
       "  text-align: right;\n",
       "  white-space: pre-wrap;\n",
       "}\n",
       "</style>\n",
       "<small>shape: (17, 14)</small><table border=\"1\" class=\"dataframe\"><thead><tr><th>statistic</th><th>molecule</th><th>bb1</th><th>bb2</th><th>bb3</th><th>BRD4</th><th>HSA</th><th>sEH</th><th>scaffold_idx</th><th>mol_per_scaf</th><th>label</th><th>ori_index</th><th>subset</th><th>index</th></tr><tr><td>str</td><td>str</td><td>f64</td><td>f64</td><td>f64</td><td>f64</td><td>f64</td><td>f64</td><td>f64</td><td>f64</td><td>f64</td><td>f64</td><td>f64</td><td>f64</td></tr></thead><tbody><tr><td>&quot;count&quot;</td><td>&quot;66710159&quot;</td><td>6.6710159e7</td><td>6.6710159e7</td><td>6.6710159e7</td><td>6.6710159e7</td><td>6.6710159e7</td><td>6.6710159e7</td><td>6.6710159e7</td><td>6.6710159e7</td><td>6.6710159e7</td><td>6.6710159e7</td><td>6.6710159e7</td><td>6.6710159e7</td></tr><tr><td>&quot;null_count&quot;</td><td>&quot;0&quot;</td><td>0.0</td><td>0.0</td><td>0.0</td><td>0.0</td><td>0.0</td><td>0.0</td><td>0.0</td><td>0.0</td><td>0.0</td><td>0.0</td><td>0.0</td><td>0.0</td></tr><tr><td>&quot;mean&quot;</td><td>null</td><td>1074.413092</td><td>1079.332427</td><td>1033.021232</td><td>0.004772</td><td>0.004283</td><td>0.007581</td><td>3.0227e6</td><td>14104.587721</td><td>0.035236</td><td>4.9485e7</td><td>255.0</td><td>3.3417e7</td></tr><tr><td>&quot;std&quot;</td><td>null</td><td>591.517029</td><td>609.725897</td><td>610.571276</td><td>0.068916</td><td>0.065305</td><td>0.086739</td><td>1.7249e6</td><td>55811.110771</td><td>0.321424</td><td>2.8744e7</td><td>0.0</td><td>1.9294e7</td></tr><tr><td>&quot;min&quot;</td><td>&quot;C#CCOc1ccc(CNc…</td><td>7.0</td><td>0.0</td><td>0.0</td><td>0.0</td><td>0.0</td><td>0.0</td><td>2.0</td><td>1.0</td><td>0.0</td><td>363110.0</td><td>255.0</td><td>0.0</td></tr><tr><td>&quot;1%&quot;</td><td>null</td><td>21.0</td><td>26.0</td><td>15.0</td><td>0.0</td><td>0.0</td><td>0.0</td><td>63750.0</td><td>1.0</td><td>0.0</td><td>1.227679e6</td><td>255.0</td><td>668354.0</td></tr><tr><td>&quot;2.5%&quot;</td><td>null</td><td>76.0</td><td>45.0</td><td>44.0</td><td>0.0</td><td>0.0</td><td>0.0</td><td>155462.0</td><td>1.0</td><td>0.0</td><td>2.523782e6</td><td>255.0</td><td>1.670883e6</td></tr><tr><td>&quot;5%&quot;</td><td>null</td><td>141.0</td><td>90.0</td><td>98.0</td><td>0.0</td><td>0.0</td><td>0.0</td><td>286317.0</td><td>3.0</td><td>0.0</td><td>4.686871e6</td><td>255.0</td><td>3.341846e6</td></tr><tr><td>&quot;10%&quot;</td><td>null</td><td>273.0</td><td>158.0</td><td>205.0</td><td>0.0</td><td>0.0</td><td>0.0</td><td>606564.0</td><td>8.0</td><td>0.0</td><td>9.734228e6</td><td>255.0</td><td>6.683334e6</td></tr><tr><td>&quot;25%&quot;</td><td>null</td><td>557.0</td><td>586.0</td><td>505.0</td><td>0.0</td><td>0.0</td><td>0.0</td><td>1.54123e6</td><td>48.0</td><td>0.0</td><td>2.3785911e7</td><td>255.0</td><td>1.6708368e7</td></tr><tr><td>&quot;50%&quot;</td><td>null</td><td>1066.0</td><td>1110.0</td><td>1033.0</td><td>0.0</td><td>0.0</td><td>0.0</td><td>3.022122e6</td><td>348.0</td><td>0.0</td><td>5.011534e7</td><td>255.0</td><td>3.3418387e7</td></tr><tr><td>&quot;75%&quot;</td><td>null</td><td>1600.0</td><td>1580.0</td><td>1541.0</td><td>0.0</td><td>0.0</td><td>0.0</td><td>4.551733e6</td><td>3657.0</td><td>0.0</td><td>7.4624815e7</td><td>255.0</td><td>5.0124904e7</td></tr><tr><td>&quot;90%&quot;</td><td>null</td><td>1922.0</td><td>1917.0</td><td>1890.0</td><td>0.0</td><td>0.0</td><td>0.0</td><td>5.387615e6</td><td>18348.0</td><td>0.0</td><td>8.8679775e7</td><td>255.0</td><td>6.0151414e7</td></tr><tr><td>&quot;95%&quot;</td><td>null</td><td>2013.0</td><td>2010.0</td><td>2012.0</td><td>0.0</td><td>0.0</td><td>0.0</td><td>5.684055e6</td><td>63850.0</td><td>0.0</td><td>9.3731906e7</td><td>255.0</td><td>6.3493814e7</td></tr><tr><td>&quot;97.5%&quot;</td><td>null</td><td>2050.0</td><td>2066.0</td><td>2076.0</td><td>0.0</td><td>0.0</td><td>0.0</td><td>5.841692e6</td><td>176859.0</td><td>0.0</td><td>9.6255603e7</td><td>255.0</td><td>6.5165203e7</td></tr><tr><td>&quot;99%&quot;</td><td>null</td><td>2061.0</td><td>2092.0</td><td>2096.0</td><td>0.0</td><td>0.0</td><td>0.0</td><td>5.928811e6</td><td>334990.0</td><td>1.0</td><td>9.7548591e7</td><td>255.0</td><td>6.616785e7</td></tr><tr><td>&quot;max&quot;</td><td>&quot;[N-]=[N+]=NCCC…</td><td>2084.0</td><td>2109.0</td><td>2109.0</td><td>1.0</td><td>1.0</td><td>1.0</td><td>5.971684e6</td><td>500170.0</td><td>7.0</td><td>9.8414971e7</td><td>255.0</td><td>6.6836164e7</td></tr></tbody></table></div>"
      ],
      "text/plain": [
       "shape: (17, 14)\n",
       "┌─────┬─────┬─────┬─────┬─────┬─────┬─────┬────────┬───────┬───────┬───────┬───────┬───────┬───────┐\n",
       "│ sta ┆ mol ┆ bb1 ┆ bb2 ┆ bb3 ┆ BRD ┆ HSA ┆ sEH    ┆ scaff ┆ mol_p ┆ label ┆ ori_i ┆ subse ┆ index │\n",
       "│ tis ┆ ecu ┆ --- ┆ --- ┆ --- ┆ 4   ┆ --- ┆ ---    ┆ old_i ┆ er_sc ┆ ---   ┆ ndex  ┆ t     ┆ ---   │\n",
       "│ tic ┆ le  ┆ f64 ┆ f64 ┆ f64 ┆ --- ┆ f64 ┆ f64    ┆ dx    ┆ af    ┆ f64   ┆ ---   ┆ ---   ┆ f64   │\n",
       "│ --- ┆ --- ┆     ┆     ┆     ┆ f64 ┆     ┆        ┆ ---   ┆ ---   ┆       ┆ f64   ┆ f64   ┆       │\n",
       "│ str ┆ str ┆     ┆     ┆     ┆     ┆     ┆        ┆ f64   ┆ f64   ┆       ┆       ┆       ┆       │\n",
       "╞═════╪═════╪═════╪═════╪═════╪═════╪═════╪════════╪═══════╪═══════╪═══════╪═══════╪═══════╪═══════╡\n",
       "│ cou ┆ 667 ┆ 6.6 ┆ 6.6 ┆ 6.6 ┆ 6.6 ┆ 6.6 ┆ 6.6710 ┆ 6.671 ┆ 6.671 ┆ 6.671 ┆ 6.671 ┆ 6.671 ┆ 6.671 │\n",
       "│ nt  ┆ 101 ┆ 710 ┆ 710 ┆ 710 ┆ 710 ┆ 710 ┆ 159e7  ┆ 0159e ┆ 0159e ┆ 0159e ┆ 0159e ┆ 0159e ┆ 0159e │\n",
       "│     ┆ 59  ┆ 159 ┆ 159 ┆ 159 ┆ 159 ┆ 159 ┆        ┆ 7     ┆ 7     ┆ 7     ┆ 7     ┆ 7     ┆ 7     │\n",
       "│     ┆     ┆ e7  ┆ e7  ┆ e7  ┆ e7  ┆ e7  ┆        ┆       ┆       ┆       ┆       ┆       ┆       │\n",
       "│ nul ┆ 0   ┆ 0.0 ┆ 0.0 ┆ 0.0 ┆ 0.0 ┆ 0.0 ┆ 0.0    ┆ 0.0   ┆ 0.0   ┆ 0.0   ┆ 0.0   ┆ 0.0   ┆ 0.0   │\n",
       "│ l_c ┆     ┆     ┆     ┆     ┆     ┆     ┆        ┆       ┆       ┆       ┆       ┆       ┆       │\n",
       "│ oun ┆     ┆     ┆     ┆     ┆     ┆     ┆        ┆       ┆       ┆       ┆       ┆       ┆       │\n",
       "│ t   ┆     ┆     ┆     ┆     ┆     ┆     ┆        ┆       ┆       ┆       ┆       ┆       ┆       │\n",
       "│ mea ┆ nul ┆ 107 ┆ 107 ┆ 103 ┆ 0.0 ┆ 0.0 ┆ 0.0075 ┆ 3.022 ┆ 14104 ┆ 0.035 ┆ 4.948 ┆ 255.0 ┆ 3.341 │\n",
       "│ n   ┆ l   ┆ 4.4 ┆ 9.3 ┆ 3.0 ┆ 047 ┆ 042 ┆ 81     ┆ 7e6   ┆ .5877 ┆ 236   ┆ 5e7   ┆       ┆ 7e7   │\n",
       "│     ┆     ┆ 130 ┆ 324 ┆ 212 ┆ 72  ┆ 83  ┆        ┆       ┆ 21    ┆       ┆       ┆       ┆       │\n",
       "│     ┆     ┆ 92  ┆ 27  ┆ 32  ┆     ┆     ┆        ┆       ┆       ┆       ┆       ┆       ┆       │\n",
       "│ std ┆ nul ┆ 591 ┆ 609 ┆ 610 ┆ 0.0 ┆ 0.0 ┆ 0.0867 ┆ 1.724 ┆ 55811 ┆ 0.321 ┆ 2.874 ┆ 0.0   ┆ 1.929 │\n",
       "│     ┆ l   ┆ .51 ┆ .72 ┆ .57 ┆ 689 ┆ 653 ┆ 39     ┆ 9e6   ┆ .1107 ┆ 424   ┆ 4e7   ┆       ┆ 4e7   │\n",
       "│     ┆     ┆ 702 ┆ 589 ┆ 127 ┆ 16  ┆ 05  ┆        ┆       ┆ 71    ┆       ┆       ┆       ┆       │\n",
       "│     ┆     ┆ 9   ┆ 7   ┆ 6   ┆     ┆     ┆        ┆       ┆       ┆       ┆       ┆       ┆       │\n",
       "│ min ┆ C#C ┆ 7.0 ┆ 0.0 ┆ 0.0 ┆ 0.0 ┆ 0.0 ┆ 0.0    ┆ 2.0   ┆ 1.0   ┆ 0.0   ┆ 36311 ┆ 255.0 ┆ 0.0   │\n",
       "│     ┆ COc ┆     ┆     ┆     ┆     ┆     ┆        ┆       ┆       ┆       ┆ 0.0   ┆       ┆       │\n",
       "│     ┆ 1cc ┆     ┆     ┆     ┆     ┆     ┆        ┆       ┆       ┆       ┆       ┆       ┆       │\n",
       "│     ┆ c(C ┆     ┆     ┆     ┆     ┆     ┆        ┆       ┆       ┆       ┆       ┆       ┆       │\n",
       "│     ┆ Nc2 ┆     ┆     ┆     ┆     ┆     ┆        ┆       ┆       ┆       ┆       ┆       ┆       │\n",
       "│     ┆ nc( ┆     ┆     ┆     ┆     ┆     ┆        ┆       ┆       ┆       ┆       ┆       ┆       │\n",
       "│     ┆ NC( ┆     ┆     ┆     ┆     ┆     ┆        ┆       ┆       ┆       ┆       ┆       ┆       │\n",
       "│     ┆ =N) ┆     ┆     ┆     ┆     ┆     ┆        ┆       ┆       ┆       ┆       ┆       ┆       │\n",
       "│     ┆ CCC ┆     ┆     ┆     ┆     ┆     ┆        ┆       ┆       ┆       ┆       ┆       ┆       │\n",
       "│     ┆ N)n ┆     ┆     ┆     ┆     ┆     ┆        ┆       ┆       ┆       ┆       ┆       ┆       │\n",
       "│     ┆ c(… ┆     ┆     ┆     ┆     ┆     ┆        ┆       ┆       ┆       ┆       ┆       ┆       │\n",
       "│ 1%  ┆ nul ┆ 21. ┆ 26. ┆ 15. ┆ 0.0 ┆ 0.0 ┆ 0.0    ┆ 63750 ┆ 1.0   ┆ 0.0   ┆ 1.227 ┆ 255.0 ┆ 66835 │\n",
       "│     ┆ l   ┆ 0   ┆ 0   ┆ 0   ┆     ┆     ┆        ┆ .0    ┆       ┆       ┆ 679e6 ┆       ┆ 4.0   │\n",
       "│ 2.5 ┆ nul ┆ 76. ┆ 45. ┆ 44. ┆ 0.0 ┆ 0.0 ┆ 0.0    ┆ 15546 ┆ 1.0   ┆ 0.0   ┆ 2.523 ┆ 255.0 ┆ 1.670 │\n",
       "│ %   ┆ l   ┆ 0   ┆ 0   ┆ 0   ┆     ┆     ┆        ┆ 2.0   ┆       ┆       ┆ 782e6 ┆       ┆ 883e6 │\n",
       "│ 5%  ┆ nul ┆ 141 ┆ 90. ┆ 98. ┆ 0.0 ┆ 0.0 ┆ 0.0    ┆ 28631 ┆ 3.0   ┆ 0.0   ┆ 4.686 ┆ 255.0 ┆ 3.341 │\n",
       "│     ┆ l   ┆ .0  ┆ 0   ┆ 0   ┆     ┆     ┆        ┆ 7.0   ┆       ┆       ┆ 871e6 ┆       ┆ 846e6 │\n",
       "│ 10% ┆ nul ┆ 273 ┆ 158 ┆ 205 ┆ 0.0 ┆ 0.0 ┆ 0.0    ┆ 60656 ┆ 8.0   ┆ 0.0   ┆ 9.734 ┆ 255.0 ┆ 6.683 │\n",
       "│     ┆ l   ┆ .0  ┆ .0  ┆ .0  ┆     ┆     ┆        ┆ 4.0   ┆       ┆       ┆ 228e6 ┆       ┆ 334e6 │\n",
       "│ 25% ┆ nul ┆ 557 ┆ 586 ┆ 505 ┆ 0.0 ┆ 0.0 ┆ 0.0    ┆ 1.541 ┆ 48.0  ┆ 0.0   ┆ 2.378 ┆ 255.0 ┆ 1.670 │\n",
       "│     ┆ l   ┆ .0  ┆ .0  ┆ .0  ┆     ┆     ┆        ┆ 23e6  ┆       ┆       ┆ 5911e ┆       ┆ 8368e │\n",
       "│     ┆     ┆     ┆     ┆     ┆     ┆     ┆        ┆       ┆       ┆       ┆ 7     ┆       ┆ 7     │\n",
       "│ 50% ┆ nul ┆ 106 ┆ 111 ┆ 103 ┆ 0.0 ┆ 0.0 ┆ 0.0    ┆ 3.022 ┆ 348.0 ┆ 0.0   ┆ 5.011 ┆ 255.0 ┆ 3.341 │\n",
       "│     ┆ l   ┆ 6.0 ┆ 0.0 ┆ 3.0 ┆     ┆     ┆        ┆ 122e6 ┆       ┆       ┆ 534e7 ┆       ┆ 8387e │\n",
       "│     ┆     ┆     ┆     ┆     ┆     ┆     ┆        ┆       ┆       ┆       ┆       ┆       ┆ 7     │\n",
       "│ 75% ┆ nul ┆ 160 ┆ 158 ┆ 154 ┆ 0.0 ┆ 0.0 ┆ 0.0    ┆ 4.551 ┆ 3657. ┆ 0.0   ┆ 7.462 ┆ 255.0 ┆ 5.012 │\n",
       "│     ┆ l   ┆ 0.0 ┆ 0.0 ┆ 1.0 ┆     ┆     ┆        ┆ 733e6 ┆ 0     ┆       ┆ 4815e ┆       ┆ 4904e │\n",
       "│     ┆     ┆     ┆     ┆     ┆     ┆     ┆        ┆       ┆       ┆       ┆ 7     ┆       ┆ 7     │\n",
       "│ 90% ┆ nul ┆ 192 ┆ 191 ┆ 189 ┆ 0.0 ┆ 0.0 ┆ 0.0    ┆ 5.387 ┆ 18348 ┆ 0.0   ┆ 8.867 ┆ 255.0 ┆ 6.015 │\n",
       "│     ┆ l   ┆ 2.0 ┆ 7.0 ┆ 0.0 ┆     ┆     ┆        ┆ 615e6 ┆ .0    ┆       ┆ 9775e ┆       ┆ 1414e │\n",
       "│     ┆     ┆     ┆     ┆     ┆     ┆     ┆        ┆       ┆       ┆       ┆ 7     ┆       ┆ 7     │\n",
       "│ 95% ┆ nul ┆ 201 ┆ 201 ┆ 201 ┆ 0.0 ┆ 0.0 ┆ 0.0    ┆ 5.684 ┆ 63850 ┆ 0.0   ┆ 9.373 ┆ 255.0 ┆ 6.349 │\n",
       "│     ┆ l   ┆ 3.0 ┆ 0.0 ┆ 2.0 ┆     ┆     ┆        ┆ 055e6 ┆ .0    ┆       ┆ 1906e ┆       ┆ 3814e │\n",
       "│     ┆     ┆     ┆     ┆     ┆     ┆     ┆        ┆       ┆       ┆       ┆ 7     ┆       ┆ 7     │\n",
       "│ 97. ┆ nul ┆ 205 ┆ 206 ┆ 207 ┆ 0.0 ┆ 0.0 ┆ 0.0    ┆ 5.841 ┆ 17685 ┆ 0.0   ┆ 9.625 ┆ 255.0 ┆ 6.516 │\n",
       "│ 5%  ┆ l   ┆ 0.0 ┆ 6.0 ┆ 6.0 ┆     ┆     ┆        ┆ 692e6 ┆ 9.0   ┆       ┆ 5603e ┆       ┆ 5203e │\n",
       "│     ┆     ┆     ┆     ┆     ┆     ┆     ┆        ┆       ┆       ┆       ┆ 7     ┆       ┆ 7     │\n",
       "│ 99% ┆ nul ┆ 206 ┆ 209 ┆ 209 ┆ 0.0 ┆ 0.0 ┆ 0.0    ┆ 5.928 ┆ 33499 ┆ 1.0   ┆ 9.754 ┆ 255.0 ┆ 6.616 │\n",
       "│     ┆ l   ┆ 1.0 ┆ 2.0 ┆ 6.0 ┆     ┆     ┆        ┆ 811e6 ┆ 0.0   ┆       ┆ 8591e ┆       ┆ 785e7 │\n",
       "│     ┆     ┆     ┆     ┆     ┆     ┆     ┆        ┆       ┆       ┆       ┆ 7     ┆       ┆       │\n",
       "│ max ┆ [N- ┆ 208 ┆ 210 ┆ 210 ┆ 1.0 ┆ 1.0 ┆ 1.0    ┆ 5.971 ┆ 50017 ┆ 7.0   ┆ 9.841 ┆ 255.0 ┆ 6.683 │\n",
       "│     ┆ ]=[ ┆ 4.0 ┆ 9.0 ┆ 9.0 ┆     ┆     ┆        ┆ 684e6 ┆ 0.0   ┆       ┆ 4971e ┆       ┆ 6164e │\n",
       "│     ┆ N+] ┆     ┆     ┆     ┆     ┆     ┆        ┆       ┆       ┆       ┆ 7     ┆       ┆ 7     │\n",
       "│     ┆ =NC ┆     ┆     ┆     ┆     ┆     ┆        ┆       ┆       ┆       ┆       ┆       ┆       │\n",
       "│     ┆ CC[ ┆     ┆     ┆     ┆     ┆     ┆        ┆       ┆       ┆       ┆       ┆       ┆       │\n",
       "│     ┆ C@H ┆     ┆     ┆     ┆     ┆     ┆        ┆       ┆       ┆       ┆       ┆       ┆       │\n",
       "│     ┆ ](N ┆     ┆     ┆     ┆     ┆     ┆        ┆       ┆       ┆       ┆       ┆       ┆       │\n",
       "│     ┆ c1n ┆     ┆     ┆     ┆     ┆     ┆        ┆       ┆       ┆       ┆       ┆       ┆       │\n",
       "│     ┆ c(N ┆     ┆     ┆     ┆     ┆     ┆        ┆       ┆       ┆       ┆       ┆       ┆       │\n",
       "│     ┆ c2n ┆     ┆     ┆     ┆     ┆     ┆        ┆       ┆       ┆       ┆       ┆       ┆       │\n",
       "│     ┆ nn… ┆     ┆     ┆     ┆     ┆     ┆        ┆       ┆       ┆       ┆       ┆       ┆       │\n",
       "└─────┴─────┴─────┴─────┴─────┴─────┴─────┴────────┴───────┴───────┴───────┴───────┴───────┴───────┘"
      ]
     },
     "metadata": {},
     "output_type": "display_data"
    },
    {
     "name": "stdout",
     "output_type": "stream",
     "text": [
      "Test 2+3 set statistic:\n"
     ]
    },
    {
     "data": {
      "text/html": [
       "<div><style>\n",
       ".dataframe > thead > tr,\n",
       ".dataframe > tbody > tr {\n",
       "  text-align: right;\n",
       "  white-space: pre-wrap;\n",
       "}\n",
       "</style>\n",
       "<small>shape: (1, 12)</small><table border=\"1\" class=\"dataframe\"><thead><tr><th>molecule</th><th>bb1</th><th>bb2</th><th>bb3</th><th>BRD4</th><th>HSA</th><th>sEH</th><th>scaffold_idx</th><th>mol_per_scaf</th><th>label</th><th>ori_index</th><th>subset</th></tr><tr><td>u32</td><td>u32</td><td>u32</td><td>u32</td><td>u32</td><td>u32</td><td>u32</td><td>u32</td><td>u32</td><td>u32</td><td>u32</td><td>u32</td></tr></thead><tbody><tr><td>126006</td><td>238</td><td>601</td><td>765</td><td>2</td><td>2</td><td>2</td><td>52919</td><td>2092</td><td>5</td><td>126006</td><td>2</td></tr></tbody></table></div>"
      ],
      "text/plain": [
       "shape: (1, 12)\n",
       "┌──────────┬─────┬─────┬─────┬──────┬─────┬─────┬───────────┬──────────┬───────┬──────────┬────────┐\n",
       "│ molecule ┆ bb1 ┆ bb2 ┆ bb3 ┆ BRD4 ┆ HSA ┆ sEH ┆ scaffold_ ┆ mol_per_ ┆ label ┆ ori_inde ┆ subset │\n",
       "│ ---      ┆ --- ┆ --- ┆ --- ┆ ---  ┆ --- ┆ --- ┆ idx       ┆ scaf     ┆ ---   ┆ x        ┆ ---    │\n",
       "│ u32      ┆ u32 ┆ u32 ┆ u32 ┆ u32  ┆ u32 ┆ u32 ┆ ---       ┆ ---      ┆ u32   ┆ ---      ┆ u32    │\n",
       "│          ┆     ┆     ┆     ┆      ┆     ┆     ┆ u32       ┆ u32      ┆       ┆ u32      ┆        │\n",
       "╞══════════╪═════╪═════╪═════╪══════╪═════╪═════╪═══════════╪══════════╪═══════╪══════════╪════════╡\n",
       "│ 126006   ┆ 238 ┆ 601 ┆ 765 ┆ 2    ┆ 2   ┆ 2   ┆ 52919     ┆ 2092     ┆ 5     ┆ 126006   ┆ 2      │\n",
       "└──────────┴─────┴─────┴─────┴──────┴─────┴─────┴───────────┴──────────┴───────┴──────────┴────────┘"
      ]
     },
     "metadata": {},
     "output_type": "display_data"
    },
    {
     "data": {
      "text/html": [
       "<div><style>\n",
       ".dataframe > thead > tr,\n",
       ".dataframe > tbody > tr {\n",
       "  text-align: right;\n",
       "  white-space: pre-wrap;\n",
       "}\n",
       "</style>\n",
       "<small>shape: (17, 13)</small><table border=\"1\" class=\"dataframe\"><thead><tr><th>statistic</th><th>molecule</th><th>bb1</th><th>bb2</th><th>bb3</th><th>BRD4</th><th>HSA</th><th>sEH</th><th>scaffold_idx</th><th>mol_per_scaf</th><th>label</th><th>ori_index</th><th>subset</th></tr><tr><td>str</td><td>str</td><td>f64</td><td>f64</td><td>f64</td><td>f64</td><td>f64</td><td>f64</td><td>f64</td><td>f64</td><td>f64</td><td>f64</td><td>f64</td></tr></thead><tbody><tr><td>&quot;count&quot;</td><td>&quot;126006&quot;</td><td>126006.0</td><td>126006.0</td><td>126006.0</td><td>126006.0</td><td>126006.0</td><td>126006.0</td><td>126006.0</td><td>126006.0</td><td>126006.0</td><td>126006.0</td><td>126006.0</td></tr><tr><td>&quot;null_count&quot;</td><td>&quot;0&quot;</td><td>0.0</td><td>0.0</td><td>0.0</td><td>0.0</td><td>0.0</td><td>0.0</td><td>0.0</td><td>0.0</td><td>0.0</td><td>0.0</td><td>0.0</td></tr><tr><td>&quot;mean&quot;</td><td>null</td><td>1068.816279</td><td>1109.436559</td><td>1032.849404</td><td>0.004571</td><td>0.004627</td><td>0.007492</td><td>3.0306e6</td><td>8530.400735</td><td>0.03503</td><td>4.9976e7</td><td>2.569886</td></tr><tr><td>&quot;std&quot;</td><td>null</td><td>593.207081</td><td>606.972168</td><td>601.56613</td><td>0.067456</td><td>0.067863</td><td>0.08623</td><td>1.6334e6</td><td>42464.594824</td><td>0.317791</td><td>2.8997e7</td><td>0.495094</td></tr><tr><td>&quot;min&quot;</td><td>&quot;C#CCOc1ccc(CNc…</td><td>7.0</td><td>0.0</td><td>0.0</td><td>0.0</td><td>0.0</td><td>0.0</td><td>12.0</td><td>1.0</td><td>0.0</td><td>364453.0</td><td>2.0</td></tr><tr><td>&quot;1%&quot;</td><td>null</td><td>21.0</td><td>26.0</td><td>9.0</td><td>0.0</td><td>0.0</td><td>0.0</td><td>60247.0</td><td>1.0</td><td>0.0</td><td>1.234757e6</td><td>2.0</td></tr><tr><td>&quot;2.5%&quot;</td><td>null</td><td>76.0</td><td>46.0</td><td>34.0</td><td>0.0</td><td>0.0</td><td>0.0</td><td>170662.0</td><td>1.0</td><td>0.0</td><td>2.53394e6</td><td>2.0</td></tr><tr><td>&quot;5%&quot;</td><td>null</td><td>138.0</td><td>92.0</td><td>92.0</td><td>0.0</td><td>0.0</td><td>0.0</td><td>355565.0</td><td>2.0</td><td>0.0</td><td>4.64922e6</td><td>2.0</td></tr><tr><td>&quot;10%&quot;</td><td>null</td><td>271.0</td><td>207.0</td><td>215.0</td><td>0.0</td><td>0.0</td><td>0.0</td><td>690948.0</td><td>6.0</td><td>0.0</td><td>9.96228e6</td><td>2.0</td></tr><tr><td>&quot;25%&quot;</td><td>null</td><td>556.0</td><td>626.0</td><td>534.0</td><td>0.0</td><td>0.0</td><td>0.0</td><td>1.729429e6</td><td>47.0</td><td>0.0</td><td>2.4576558e7</td><td>2.0</td></tr><tr><td>&quot;50%&quot;</td><td>null</td><td>1066.0</td><td>1143.0</td><td>1049.0</td><td>0.0</td><td>0.0</td><td>0.0</td><td>3.033146e6</td><td>235.0</td><td>0.0</td><td>4.9899715e7</td><td>3.0</td></tr><tr><td>&quot;75%&quot;</td><td>null</td><td>1600.0</td><td>1606.0</td><td>1515.0</td><td>0.0</td><td>0.0</td><td>0.0</td><td>4.356454e6</td><td>1824.0</td><td>0.0</td><td>7.6540943e7</td><td>3.0</td></tr><tr><td>&quot;90%&quot;</td><td>null</td><td>1912.0</td><td>1939.0</td><td>1880.0</td><td>0.0</td><td>0.0</td><td>0.0</td><td>5.240464e6</td><td>7314.0</td><td>0.0</td><td>8.9362139e7</td><td>3.0</td></tr><tr><td>&quot;95%&quot;</td><td>null</td><td>2011.0</td><td>1998.0</td><td>2012.0</td><td>0.0</td><td>0.0</td><td>0.0</td><td>5.638946e6</td><td>25094.0</td><td>0.0</td><td>9.4004422e7</td><td>3.0</td></tr><tr><td>&quot;97.5%&quot;</td><td>null</td><td>2042.0</td><td>2043.0</td><td>2069.0</td><td>0.0</td><td>0.0</td><td>0.0</td><td>5.817564e6</td><td>75951.0</td><td>0.0</td><td>9.6286542e7</td><td>3.0</td></tr><tr><td>&quot;99%&quot;</td><td>null</td><td>2061.0</td><td>2089.0</td><td>2096.0</td><td>0.0</td><td>0.0</td><td>0.0</td><td>5.917674e6</td><td>237652.0</td><td>1.0</td><td>9.75118e7</td><td>3.0</td></tr><tr><td>&quot;max&quot;</td><td>&quot;[N-]=[N+]=NCCC…</td><td>2084.0</td><td>2109.0</td><td>2109.0</td><td>1.0</td><td>1.0</td><td>1.0</td><td>5.971604e6</td><td>500170.0</td><td>4.0</td><td>9.8414887e7</td><td>3.0</td></tr></tbody></table></div>"
      ],
      "text/plain": [
       "shape: (17, 13)\n",
       "┌─────┬─────┬─────┬────────┬───────┬───────┬───────┬───────┬───────┬───────┬───────┬───────┬───────┐\n",
       "│ sta ┆ mol ┆ bb1 ┆ bb2    ┆ bb3   ┆ BRD4  ┆ HSA   ┆ sEH   ┆ scaff ┆ mol_p ┆ label ┆ ori_i ┆ subse │\n",
       "│ tis ┆ ecu ┆ --- ┆ ---    ┆ ---   ┆ ---   ┆ ---   ┆ ---   ┆ old_i ┆ er_sc ┆ ---   ┆ ndex  ┆ t     │\n",
       "│ tic ┆ le  ┆ f64 ┆ f64    ┆ f64   ┆ f64   ┆ f64   ┆ f64   ┆ dx    ┆ af    ┆ f64   ┆ ---   ┆ ---   │\n",
       "│ --- ┆ --- ┆     ┆        ┆       ┆       ┆       ┆       ┆ ---   ┆ ---   ┆       ┆ f64   ┆ f64   │\n",
       "│ str ┆ str ┆     ┆        ┆       ┆       ┆       ┆       ┆ f64   ┆ f64   ┆       ┆       ┆       │\n",
       "╞═════╪═════╪═════╪════════╪═══════╪═══════╪═══════╪═══════╪═══════╪═══════╪═══════╪═══════╪═══════╡\n",
       "│ cou ┆ 126 ┆ 126 ┆ 126006 ┆ 12600 ┆ 12600 ┆ 12600 ┆ 12600 ┆ 12600 ┆ 12600 ┆ 12600 ┆ 12600 ┆ 12600 │\n",
       "│ nt  ┆ 006 ┆ 006 ┆ .0     ┆ 6.0   ┆ 6.0   ┆ 6.0   ┆ 6.0   ┆ 6.0   ┆ 6.0   ┆ 6.0   ┆ 6.0   ┆ 6.0   │\n",
       "│     ┆     ┆ .0  ┆        ┆       ┆       ┆       ┆       ┆       ┆       ┆       ┆       ┆       │\n",
       "│ nul ┆ 0   ┆ 0.0 ┆ 0.0    ┆ 0.0   ┆ 0.0   ┆ 0.0   ┆ 0.0   ┆ 0.0   ┆ 0.0   ┆ 0.0   ┆ 0.0   ┆ 0.0   │\n",
       "│ l_c ┆     ┆     ┆        ┆       ┆       ┆       ┆       ┆       ┆       ┆       ┆       ┆       │\n",
       "│ oun ┆     ┆     ┆        ┆       ┆       ┆       ┆       ┆       ┆       ┆       ┆       ┆       │\n",
       "│ t   ┆     ┆     ┆        ┆       ┆       ┆       ┆       ┆       ┆       ┆       ┆       ┆       │\n",
       "│ mea ┆ nul ┆ 106 ┆ 1109.4 ┆ 1032. ┆ 0.004 ┆ 0.004 ┆ 0.007 ┆ 3.030 ┆ 8530. ┆ 0.035 ┆ 4.997 ┆ 2.569 │\n",
       "│ n   ┆ l   ┆ 8.8 ┆ 36559  ┆ 84940 ┆ 571   ┆ 627   ┆ 492   ┆ 6e6   ┆ 40073 ┆ 03    ┆ 6e7   ┆ 886   │\n",
       "│     ┆     ┆ 162 ┆        ┆ 4     ┆       ┆       ┆       ┆       ┆ 5     ┆       ┆       ┆       │\n",
       "│     ┆     ┆ 79  ┆        ┆       ┆       ┆       ┆       ┆       ┆       ┆       ┆       ┆       │\n",
       "│ std ┆ nul ┆ 593 ┆ 606.97 ┆ 601.5 ┆ 0.067 ┆ 0.067 ┆ 0.086 ┆ 1.633 ┆ 42464 ┆ 0.317 ┆ 2.899 ┆ 0.495 │\n",
       "│     ┆ l   ┆ .20 ┆ 2168   ┆ 6613  ┆ 456   ┆ 863   ┆ 23    ┆ 4e6   ┆ .5948 ┆ 791   ┆ 7e7   ┆ 094   │\n",
       "│     ┆     ┆ 708 ┆        ┆       ┆       ┆       ┆       ┆       ┆ 24    ┆       ┆       ┆       │\n",
       "│     ┆     ┆ 1   ┆        ┆       ┆       ┆       ┆       ┆       ┆       ┆       ┆       ┆       │\n",
       "│ min ┆ C#C ┆ 7.0 ┆ 0.0    ┆ 0.0   ┆ 0.0   ┆ 0.0   ┆ 0.0   ┆ 12.0  ┆ 1.0   ┆ 0.0   ┆ 36445 ┆ 2.0   │\n",
       "│     ┆ COc ┆     ┆        ┆       ┆       ┆       ┆       ┆       ┆       ┆       ┆ 3.0   ┆       │\n",
       "│     ┆ 1cc ┆     ┆        ┆       ┆       ┆       ┆       ┆       ┆       ┆       ┆       ┆       │\n",
       "│     ┆ c(C ┆     ┆        ┆       ┆       ┆       ┆       ┆       ┆       ┆       ┆       ┆       │\n",
       "│     ┆ Nc2 ┆     ┆        ┆       ┆       ┆       ┆       ┆       ┆       ┆       ┆       ┆       │\n",
       "│     ┆ nc( ┆     ┆        ┆       ┆       ┆       ┆       ┆       ┆       ┆       ┆       ┆       │\n",
       "│     ┆ NCC ┆     ┆        ┆       ┆       ┆       ┆       ┆       ┆       ┆       ┆       ┆       │\n",
       "│     ┆ #CC ┆     ┆        ┆       ┆       ┆       ┆       ┆       ┆       ┆       ┆       ┆       │\n",
       "│     ┆ C)n ┆     ┆        ┆       ┆       ┆       ┆       ┆       ┆       ┆       ┆       ┆       │\n",
       "│     ┆ c(N ┆     ┆        ┆       ┆       ┆       ┆       ┆       ┆       ┆       ┆       ┆       │\n",
       "│     ┆ c3… ┆     ┆        ┆       ┆       ┆       ┆       ┆       ┆       ┆       ┆       ┆       │\n",
       "│ 1%  ┆ nul ┆ 21. ┆ 26.0   ┆ 9.0   ┆ 0.0   ┆ 0.0   ┆ 0.0   ┆ 60247 ┆ 1.0   ┆ 0.0   ┆ 1.234 ┆ 2.0   │\n",
       "│     ┆ l   ┆ 0   ┆        ┆       ┆       ┆       ┆       ┆ .0    ┆       ┆       ┆ 757e6 ┆       │\n",
       "│ 2.5 ┆ nul ┆ 76. ┆ 46.0   ┆ 34.0  ┆ 0.0   ┆ 0.0   ┆ 0.0   ┆ 17066 ┆ 1.0   ┆ 0.0   ┆ 2.533 ┆ 2.0   │\n",
       "│ %   ┆ l   ┆ 0   ┆        ┆       ┆       ┆       ┆       ┆ 2.0   ┆       ┆       ┆ 94e6  ┆       │\n",
       "│ 5%  ┆ nul ┆ 138 ┆ 92.0   ┆ 92.0  ┆ 0.0   ┆ 0.0   ┆ 0.0   ┆ 35556 ┆ 2.0   ┆ 0.0   ┆ 4.649 ┆ 2.0   │\n",
       "│     ┆ l   ┆ .0  ┆        ┆       ┆       ┆       ┆       ┆ 5.0   ┆       ┆       ┆ 22e6  ┆       │\n",
       "│ 10% ┆ nul ┆ 271 ┆ 207.0  ┆ 215.0 ┆ 0.0   ┆ 0.0   ┆ 0.0   ┆ 69094 ┆ 6.0   ┆ 0.0   ┆ 9.962 ┆ 2.0   │\n",
       "│     ┆ l   ┆ .0  ┆        ┆       ┆       ┆       ┆       ┆ 8.0   ┆       ┆       ┆ 28e6  ┆       │\n",
       "│ 25% ┆ nul ┆ 556 ┆ 626.0  ┆ 534.0 ┆ 0.0   ┆ 0.0   ┆ 0.0   ┆ 1.729 ┆ 47.0  ┆ 0.0   ┆ 2.457 ┆ 2.0   │\n",
       "│     ┆ l   ┆ .0  ┆        ┆       ┆       ┆       ┆       ┆ 429e6 ┆       ┆       ┆ 6558e ┆       │\n",
       "│     ┆     ┆     ┆        ┆       ┆       ┆       ┆       ┆       ┆       ┆       ┆ 7     ┆       │\n",
       "│ 50% ┆ nul ┆ 106 ┆ 1143.0 ┆ 1049. ┆ 0.0   ┆ 0.0   ┆ 0.0   ┆ 3.033 ┆ 235.0 ┆ 0.0   ┆ 4.989 ┆ 3.0   │\n",
       "│     ┆ l   ┆ 6.0 ┆        ┆ 0     ┆       ┆       ┆       ┆ 146e6 ┆       ┆       ┆ 9715e ┆       │\n",
       "│     ┆     ┆     ┆        ┆       ┆       ┆       ┆       ┆       ┆       ┆       ┆ 7     ┆       │\n",
       "│ 75% ┆ nul ┆ 160 ┆ 1606.0 ┆ 1515. ┆ 0.0   ┆ 0.0   ┆ 0.0   ┆ 4.356 ┆ 1824. ┆ 0.0   ┆ 7.654 ┆ 3.0   │\n",
       "│     ┆ l   ┆ 0.0 ┆        ┆ 0     ┆       ┆       ┆       ┆ 454e6 ┆ 0     ┆       ┆ 0943e ┆       │\n",
       "│     ┆     ┆     ┆        ┆       ┆       ┆       ┆       ┆       ┆       ┆       ┆ 7     ┆       │\n",
       "│ 90% ┆ nul ┆ 191 ┆ 1939.0 ┆ 1880. ┆ 0.0   ┆ 0.0   ┆ 0.0   ┆ 5.240 ┆ 7314. ┆ 0.0   ┆ 8.936 ┆ 3.0   │\n",
       "│     ┆ l   ┆ 2.0 ┆        ┆ 0     ┆       ┆       ┆       ┆ 464e6 ┆ 0     ┆       ┆ 2139e ┆       │\n",
       "│     ┆     ┆     ┆        ┆       ┆       ┆       ┆       ┆       ┆       ┆       ┆ 7     ┆       │\n",
       "│ 95% ┆ nul ┆ 201 ┆ 1998.0 ┆ 2012. ┆ 0.0   ┆ 0.0   ┆ 0.0   ┆ 5.638 ┆ 25094 ┆ 0.0   ┆ 9.400 ┆ 3.0   │\n",
       "│     ┆ l   ┆ 1.0 ┆        ┆ 0     ┆       ┆       ┆       ┆ 946e6 ┆ .0    ┆       ┆ 4422e ┆       │\n",
       "│     ┆     ┆     ┆        ┆       ┆       ┆       ┆       ┆       ┆       ┆       ┆ 7     ┆       │\n",
       "│ 97. ┆ nul ┆ 204 ┆ 2043.0 ┆ 2069. ┆ 0.0   ┆ 0.0   ┆ 0.0   ┆ 5.817 ┆ 75951 ┆ 0.0   ┆ 9.628 ┆ 3.0   │\n",
       "│ 5%  ┆ l   ┆ 2.0 ┆        ┆ 0     ┆       ┆       ┆       ┆ 564e6 ┆ .0    ┆       ┆ 6542e ┆       │\n",
       "│     ┆     ┆     ┆        ┆       ┆       ┆       ┆       ┆       ┆       ┆       ┆ 7     ┆       │\n",
       "│ 99% ┆ nul ┆ 206 ┆ 2089.0 ┆ 2096. ┆ 0.0   ┆ 0.0   ┆ 0.0   ┆ 5.917 ┆ 23765 ┆ 1.0   ┆ 9.751 ┆ 3.0   │\n",
       "│     ┆ l   ┆ 1.0 ┆        ┆ 0     ┆       ┆       ┆       ┆ 674e6 ┆ 2.0   ┆       ┆ 18e7  ┆       │\n",
       "│ max ┆ [N- ┆ 208 ┆ 2109.0 ┆ 2109. ┆ 1.0   ┆ 1.0   ┆ 1.0   ┆ 5.971 ┆ 50017 ┆ 4.0   ┆ 9.841 ┆ 3.0   │\n",
       "│     ┆ ]=[ ┆ 4.0 ┆        ┆ 0     ┆       ┆       ┆       ┆ 604e6 ┆ 0.0   ┆       ┆ 4887e ┆       │\n",
       "│     ┆ N+] ┆     ┆        ┆       ┆       ┆       ┆       ┆       ┆       ┆       ┆ 7     ┆       │\n",
       "│     ┆ =NC ┆     ┆        ┆       ┆       ┆       ┆       ┆       ┆       ┆       ┆       ┆       │\n",
       "│     ┆ CC[ ┆     ┆        ┆       ┆       ┆       ┆       ┆       ┆       ┆       ┆       ┆       │\n",
       "│     ┆ C@H ┆     ┆        ┆       ┆       ┆       ┆       ┆       ┆       ┆       ┆       ┆       │\n",
       "│     ┆ ](N ┆     ┆        ┆       ┆       ┆       ┆       ┆       ┆       ┆       ┆       ┆       │\n",
       "│     ┆ c1n ┆     ┆        ┆       ┆       ┆       ┆       ┆       ┆       ┆       ┆       ┆       │\n",
       "│     ┆ c(N ┆     ┆        ┆       ┆       ┆       ┆       ┆       ┆       ┆       ┆       ┆       │\n",
       "│     ┆ c2n ┆     ┆        ┆       ┆       ┆       ┆       ┆       ┆       ┆       ┆       ┆       │\n",
       "│     ┆ cc… ┆     ┆        ┆       ┆       ┆       ┆       ┆       ┆       ┆       ┆       ┆       │\n",
       "└─────┴─────┴─────┴────────┴───────┴───────┴───────┴───────┴───────┴───────┴───────┴───────┴───────┘"
      ]
     },
     "metadata": {},
     "output_type": "display_data"
    },
    {
     "name": "stdout",
     "output_type": "stream",
     "text": [
      "Final Test set statistic:\n"
     ]
    },
    {
     "data": {
      "text/html": [
       "<div><style>\n",
       ".dataframe > thead > tr,\n",
       ".dataframe > tbody > tr {\n",
       "  text-align: right;\n",
       "  white-space: pre-wrap;\n",
       "}\n",
       "</style>\n",
       "<small>shape: (1, 12)</small><table border=\"1\" class=\"dataframe\"><thead><tr><th>molecule</th><th>bb1</th><th>bb2</th><th>bb3</th><th>BRD4</th><th>HSA</th><th>sEH</th><th>scaffold_idx</th><th>mol_per_scaf</th><th>label</th><th>ori_index</th><th>subset</th></tr><tr><td>u32</td><td>u32</td><td>u32</td><td>u32</td><td>u32</td><td>u32</td><td>u32</td><td>u32</td><td>u32</td><td>u32</td><td>u32</td><td>u32</td></tr></thead><tbody><tr><td>31705451</td><td>271</td><td>693</td><td>872</td><td>2</td><td>2</td><td>2</td><td>2560137</td><td>2388</td><td>8</td><td>31705451</td><td>4</td></tr></tbody></table></div>"
      ],
      "text/plain": [
       "shape: (1, 12)\n",
       "┌──────────┬─────┬─────┬─────┬──────┬─────┬─────┬───────────┬──────────┬───────┬──────────┬────────┐\n",
       "│ molecule ┆ bb1 ┆ bb2 ┆ bb3 ┆ BRD4 ┆ HSA ┆ sEH ┆ scaffold_ ┆ mol_per_ ┆ label ┆ ori_inde ┆ subset │\n",
       "│ ---      ┆ --- ┆ --- ┆ --- ┆ ---  ┆ --- ┆ --- ┆ idx       ┆ scaf     ┆ ---   ┆ x        ┆ ---    │\n",
       "│ u32      ┆ u32 ┆ u32 ┆ u32 ┆ u32  ┆ u32 ┆ u32 ┆ ---       ┆ ---      ┆ u32   ┆ ---      ┆ u32    │\n",
       "│          ┆     ┆     ┆     ┆      ┆     ┆     ┆ u32       ┆ u32      ┆       ┆ u32      ┆        │\n",
       "╞══════════╪═════╪═════╪═════╪══════╪═════╪═════╪═══════════╪══════════╪═══════╪══════════╪════════╡\n",
       "│ 31705451 ┆ 271 ┆ 693 ┆ 872 ┆ 2    ┆ 2   ┆ 2   ┆ 2560137   ┆ 2388     ┆ 8     ┆ 31705451 ┆ 4      │\n",
       "└──────────┴─────┴─────┴─────┴──────┴─────┴─────┴───────────┴──────────┴───────┴──────────┴────────┘"
      ]
     },
     "metadata": {},
     "output_type": "display_data"
    },
    {
     "data": {
      "text/html": [
       "<div><style>\n",
       ".dataframe > thead > tr,\n",
       ".dataframe > tbody > tr {\n",
       "  text-align: right;\n",
       "  white-space: pre-wrap;\n",
       "}\n",
       "</style>\n",
       "<small>shape: (17, 13)</small><table border=\"1\" class=\"dataframe\"><thead><tr><th>statistic</th><th>molecule</th><th>bb1</th><th>bb2</th><th>bb3</th><th>BRD4</th><th>HSA</th><th>sEH</th><th>scaffold_idx</th><th>mol_per_scaf</th><th>label</th><th>ori_index</th><th>subset</th></tr><tr><td>str</td><td>str</td><td>f64</td><td>f64</td><td>f64</td><td>f64</td><td>f64</td><td>f64</td><td>f64</td><td>f64</td><td>f64</td><td>f64</td><td>f64</td></tr></thead><tbody><tr><td>&quot;count&quot;</td><td>&quot;31705451&quot;</td><td>3.1705451e7</td><td>3.1705451e7</td><td>3.1705451e7</td><td>3.1705451e7</td><td>3.1705451e7</td><td>3.1705451e7</td><td>3.1705451e7</td><td>3.1705451e7</td><td>3.1705451e7</td><td>3.1705451e7</td><td>3.1705451e7</td></tr><tr><td>&quot;null_count&quot;</td><td>&quot;0&quot;</td><td>0.0</td><td>0.0</td><td>0.0</td><td>0.0</td><td>0.0</td><td>0.0</td><td>0.0</td><td>0.0</td><td>0.0</td><td>0.0</td><td>0.0</td></tr><tr><td>&quot;mean&quot;</td><td>null</td><td>1119.568927</td><td>1070.092052</td><td>1070.09145</td><td>0.004372</td><td>0.003869</td><td>0.006901</td><td>3.0424e6</td><td>18398.32598</td><td>0.032127</td><td>4.8625e7</td><td>1.000756</td></tr><tr><td>&quot;std&quot;</td><td>null</td><td>587.48397</td><td>616.031136</td><td>613.155552</td><td>0.065976</td><td>0.062085</td><td>0.082785</td><td>1.7257e6</td><td>64986.265685</td><td>0.307038</td><td>2.7684e7</td><td>0.127479</td></tr><tr><td>&quot;min&quot;</td><td>&quot;C#CCOc1ccc(CNc…</td><td>7.0</td><td>0.0</td><td>0.0</td><td>0.0</td><td>0.0</td><td>0.0</td><td>0.0</td><td>1.0</td><td>0.0</td><td>0.0</td><td>0.0</td></tr><tr><td>&quot;1%&quot;</td><td>null</td><td>36.0</td><td>25.0</td><td>20.0</td><td>0.0</td><td>0.0</td><td>0.0</td><td>68587.0</td><td>1.0</td><td>0.0</td><td>317055.0</td><td>1.0</td></tr><tr><td>&quot;2.5%&quot;</td><td>null</td><td>76.0</td><td>49.0</td><td>45.0</td><td>0.0</td><td>0.0</td><td>0.0</td><td>158224.0</td><td>2.0</td><td>0.0</td><td>2.248638e6</td><td>1.0</td></tr><tr><td>&quot;5%&quot;</td><td>null</td><td>171.0</td><td>110.0</td><td>113.0</td><td>0.0</td><td>0.0</td><td>0.0</td><td>290045.0</td><td>3.0</td><td>0.0</td><td>5.508469e6</td><td>1.0</td></tr><tr><td>&quot;10%&quot;</td><td>null</td><td>346.0</td><td>154.0</td><td>206.0</td><td>0.0</td><td>0.0</td><td>0.0</td><td>614667.0</td><td>9.0</td><td>0.0</td><td>1.02036e7</td><td>1.0</td></tr><tr><td>&quot;25%&quot;</td><td>null</td><td>603.0</td><td>547.0</td><td>543.0</td><td>0.0</td><td>0.0</td><td>0.0</td><td>1.555939e6</td><td>72.0</td><td>0.0</td><td>2.6140722e7</td><td>1.0</td></tr><tr><td>&quot;50%&quot;</td><td>null</td><td>1120.0</td><td>1118.0</td><td>1118.0</td><td>0.0</td><td>0.0</td><td>0.0</td><td>3.06292e6</td><td>485.0</td><td>0.0</td><td>4.7372226e7</td><td>1.0</td></tr><tr><td>&quot;75%&quot;</td><td>null</td><td>1640.0</td><td>1596.0</td><td>1597.0</td><td>0.0</td><td>0.0</td><td>0.0</td><td>4.583912e6</td><td>4754.0</td><td>0.0</td><td>7.3393095e7</td><td>1.0</td></tr><tr><td>&quot;90%&quot;</td><td>null</td><td>1902.0</td><td>1882.0</td><td>1894.0</td><td>0.0</td><td>0.0</td><td>0.0</td><td>5.39984e6</td><td>29488.0</td><td>0.0</td><td>8.8202615e7</td><td>1.0</td></tr><tr><td>&quot;95%&quot;</td><td>null</td><td>2002.0</td><td>1991.0</td><td>2004.0</td><td>0.0</td><td>0.0</td><td>0.0</td><td>5.688598e6</td><td>92829.0</td><td>0.0</td><td>9.3466996e7</td><td>1.0</td></tr><tr><td>&quot;97.5%&quot;</td><td>null</td><td>2050.0</td><td>2064.0</td><td>2070.0</td><td>0.0</td><td>0.0</td><td>0.0</td><td>5.852459e6</td><td>237652.0</td><td>0.0</td><td>9.5380665e7</td><td>1.0</td></tr><tr><td>&quot;99%&quot;</td><td>null</td><td>2059.0</td><td>2086.0</td><td>2091.0</td><td>0.0</td><td>0.0</td><td>0.0</td><td>5.929438e6</td><td>413576.0</td><td>1.0</td><td>9.7030186e7</td><td>1.0</td></tr><tr><td>&quot;max&quot;</td><td>&quot;[N-]=[N+]=NCCC…</td><td>2084.0</td><td>2109.0</td><td>2109.0</td><td>1.0</td><td>1.0</td><td>1.0</td><td>5.971682e6</td><td>500170.0</td><td>7.0</td><td>9.8415609e7</td><td>3.0</td></tr></tbody></table></div>"
      ],
      "text/plain": [
       "shape: (17, 13)\n",
       "┌─────┬─────┬─────┬────────┬───────┬───────┬───────┬───────┬───────┬───────┬───────┬───────┬───────┐\n",
       "│ sta ┆ mol ┆ bb1 ┆ bb2    ┆ bb3   ┆ BRD4  ┆ HSA   ┆ sEH   ┆ scaff ┆ mol_p ┆ label ┆ ori_i ┆ subse │\n",
       "│ tis ┆ ecu ┆ --- ┆ ---    ┆ ---   ┆ ---   ┆ ---   ┆ ---   ┆ old_i ┆ er_sc ┆ ---   ┆ ndex  ┆ t     │\n",
       "│ tic ┆ le  ┆ f64 ┆ f64    ┆ f64   ┆ f64   ┆ f64   ┆ f64   ┆ dx    ┆ af    ┆ f64   ┆ ---   ┆ ---   │\n",
       "│ --- ┆ --- ┆     ┆        ┆       ┆       ┆       ┆       ┆ ---   ┆ ---   ┆       ┆ f64   ┆ f64   │\n",
       "│ str ┆ str ┆     ┆        ┆       ┆       ┆       ┆       ┆ f64   ┆ f64   ┆       ┆       ┆       │\n",
       "╞═════╪═════╪═════╪════════╪═══════╪═══════╪═══════╪═══════╪═══════╪═══════╪═══════╪═══════╪═══════╡\n",
       "│ cou ┆ 317 ┆ 3.1 ┆ 3.1705 ┆ 3.170 ┆ 3.170 ┆ 3.170 ┆ 3.170 ┆ 3.170 ┆ 3.170 ┆ 3.170 ┆ 3.170 ┆ 3.170 │\n",
       "│ nt  ┆ 054 ┆ 705 ┆ 451e7  ┆ 5451e ┆ 5451e ┆ 5451e ┆ 5451e ┆ 5451e ┆ 5451e ┆ 5451e ┆ 5451e ┆ 5451e │\n",
       "│     ┆ 51  ┆ 451 ┆        ┆ 7     ┆ 7     ┆ 7     ┆ 7     ┆ 7     ┆ 7     ┆ 7     ┆ 7     ┆ 7     │\n",
       "│     ┆     ┆ e7  ┆        ┆       ┆       ┆       ┆       ┆       ┆       ┆       ┆       ┆       │\n",
       "│ nul ┆ 0   ┆ 0.0 ┆ 0.0    ┆ 0.0   ┆ 0.0   ┆ 0.0   ┆ 0.0   ┆ 0.0   ┆ 0.0   ┆ 0.0   ┆ 0.0   ┆ 0.0   │\n",
       "│ l_c ┆     ┆     ┆        ┆       ┆       ┆       ┆       ┆       ┆       ┆       ┆       ┆       │\n",
       "│ oun ┆     ┆     ┆        ┆       ┆       ┆       ┆       ┆       ┆       ┆       ┆       ┆       │\n",
       "│ t   ┆     ┆     ┆        ┆       ┆       ┆       ┆       ┆       ┆       ┆       ┆       ┆       │\n",
       "│ mea ┆ nul ┆ 111 ┆ 1070.0 ┆ 1070. ┆ 0.004 ┆ 0.003 ┆ 0.006 ┆ 3.042 ┆ 18398 ┆ 0.032 ┆ 4.862 ┆ 1.000 │\n",
       "│ n   ┆ l   ┆ 9.5 ┆ 92052  ┆ 09145 ┆ 372   ┆ 869   ┆ 901   ┆ 4e6   ┆ .3259 ┆ 127   ┆ 5e7   ┆ 756   │\n",
       "│     ┆     ┆ 689 ┆        ┆       ┆       ┆       ┆       ┆       ┆ 8     ┆       ┆       ┆       │\n",
       "│     ┆     ┆ 27  ┆        ┆       ┆       ┆       ┆       ┆       ┆       ┆       ┆       ┆       │\n",
       "│ std ┆ nul ┆ 587 ┆ 616.03 ┆ 613.1 ┆ 0.065 ┆ 0.062 ┆ 0.082 ┆ 1.725 ┆ 64986 ┆ 0.307 ┆ 2.768 ┆ 0.127 │\n",
       "│     ┆ l   ┆ .48 ┆ 1136   ┆ 55552 ┆ 976   ┆ 085   ┆ 785   ┆ 7e6   ┆ .2656 ┆ 038   ┆ 4e7   ┆ 479   │\n",
       "│     ┆     ┆ 397 ┆        ┆       ┆       ┆       ┆       ┆       ┆ 85    ┆       ┆       ┆       │\n",
       "│ min ┆ C#C ┆ 7.0 ┆ 0.0    ┆ 0.0   ┆ 0.0   ┆ 0.0   ┆ 0.0   ┆ 0.0   ┆ 1.0   ┆ 0.0   ┆ 0.0   ┆ 0.0   │\n",
       "│     ┆ COc ┆     ┆        ┆       ┆       ┆       ┆       ┆       ┆       ┆       ┆       ┆       │\n",
       "│     ┆ 1cc ┆     ┆        ┆       ┆       ┆       ┆       ┆       ┆       ┆       ┆       ┆       │\n",
       "│     ┆ c(C ┆     ┆        ┆       ┆       ┆       ┆       ┆       ┆       ┆       ┆       ┆       │\n",
       "│     ┆ Nc2 ┆     ┆        ┆       ┆       ┆       ┆       ┆       ┆       ┆       ┆       ┆       │\n",
       "│     ┆ nc( ┆     ┆        ┆       ┆       ┆       ┆       ┆       ┆       ┆       ┆       ┆       │\n",
       "│     ┆ NC( ┆     ┆        ┆       ┆       ┆       ┆       ┆       ┆       ┆       ┆       ┆       │\n",
       "│     ┆ =N) ┆     ┆        ┆       ┆       ┆       ┆       ┆       ┆       ┆       ┆       ┆       │\n",
       "│     ┆ CCC ┆     ┆        ┆       ┆       ┆       ┆       ┆       ┆       ┆       ┆       ┆       │\n",
       "│     ┆ N)n ┆     ┆        ┆       ┆       ┆       ┆       ┆       ┆       ┆       ┆       ┆       │\n",
       "│     ┆ c(… ┆     ┆        ┆       ┆       ┆       ┆       ┆       ┆       ┆       ┆       ┆       │\n",
       "│ 1%  ┆ nul ┆ 36. ┆ 25.0   ┆ 20.0  ┆ 0.0   ┆ 0.0   ┆ 0.0   ┆ 68587 ┆ 1.0   ┆ 0.0   ┆ 31705 ┆ 1.0   │\n",
       "│     ┆ l   ┆ 0   ┆        ┆       ┆       ┆       ┆       ┆ .0    ┆       ┆       ┆ 5.0   ┆       │\n",
       "│ 2.5 ┆ nul ┆ 76. ┆ 49.0   ┆ 45.0  ┆ 0.0   ┆ 0.0   ┆ 0.0   ┆ 15822 ┆ 2.0   ┆ 0.0   ┆ 2.248 ┆ 1.0   │\n",
       "│ %   ┆ l   ┆ 0   ┆        ┆       ┆       ┆       ┆       ┆ 4.0   ┆       ┆       ┆ 638e6 ┆       │\n",
       "│ 5%  ┆ nul ┆ 171 ┆ 110.0  ┆ 113.0 ┆ 0.0   ┆ 0.0   ┆ 0.0   ┆ 29004 ┆ 3.0   ┆ 0.0   ┆ 5.508 ┆ 1.0   │\n",
       "│     ┆ l   ┆ .0  ┆        ┆       ┆       ┆       ┆       ┆ 5.0   ┆       ┆       ┆ 469e6 ┆       │\n",
       "│ 10% ┆ nul ┆ 346 ┆ 154.0  ┆ 206.0 ┆ 0.0   ┆ 0.0   ┆ 0.0   ┆ 61466 ┆ 9.0   ┆ 0.0   ┆ 1.020 ┆ 1.0   │\n",
       "│     ┆ l   ┆ .0  ┆        ┆       ┆       ┆       ┆       ┆ 7.0   ┆       ┆       ┆ 36e7  ┆       │\n",
       "│ 25% ┆ nul ┆ 603 ┆ 547.0  ┆ 543.0 ┆ 0.0   ┆ 0.0   ┆ 0.0   ┆ 1.555 ┆ 72.0  ┆ 0.0   ┆ 2.614 ┆ 1.0   │\n",
       "│     ┆ l   ┆ .0  ┆        ┆       ┆       ┆       ┆       ┆ 939e6 ┆       ┆       ┆ 0722e ┆       │\n",
       "│     ┆     ┆     ┆        ┆       ┆       ┆       ┆       ┆       ┆       ┆       ┆ 7     ┆       │\n",
       "│ 50% ┆ nul ┆ 112 ┆ 1118.0 ┆ 1118. ┆ 0.0   ┆ 0.0   ┆ 0.0   ┆ 3.062 ┆ 485.0 ┆ 0.0   ┆ 4.737 ┆ 1.0   │\n",
       "│     ┆ l   ┆ 0.0 ┆        ┆ 0     ┆       ┆       ┆       ┆ 92e6  ┆       ┆       ┆ 2226e ┆       │\n",
       "│     ┆     ┆     ┆        ┆       ┆       ┆       ┆       ┆       ┆       ┆       ┆ 7     ┆       │\n",
       "│ 75% ┆ nul ┆ 164 ┆ 1596.0 ┆ 1597. ┆ 0.0   ┆ 0.0   ┆ 0.0   ┆ 4.583 ┆ 4754. ┆ 0.0   ┆ 7.339 ┆ 1.0   │\n",
       "│     ┆ l   ┆ 0.0 ┆        ┆ 0     ┆       ┆       ┆       ┆ 912e6 ┆ 0     ┆       ┆ 3095e ┆       │\n",
       "│     ┆     ┆     ┆        ┆       ┆       ┆       ┆       ┆       ┆       ┆       ┆ 7     ┆       │\n",
       "│ 90% ┆ nul ┆ 190 ┆ 1882.0 ┆ 1894. ┆ 0.0   ┆ 0.0   ┆ 0.0   ┆ 5.399 ┆ 29488 ┆ 0.0   ┆ 8.820 ┆ 1.0   │\n",
       "│     ┆ l   ┆ 2.0 ┆        ┆ 0     ┆       ┆       ┆       ┆ 84e6  ┆ .0    ┆       ┆ 2615e ┆       │\n",
       "│     ┆     ┆     ┆        ┆       ┆       ┆       ┆       ┆       ┆       ┆       ┆ 7     ┆       │\n",
       "│ 95% ┆ nul ┆ 200 ┆ 1991.0 ┆ 2004. ┆ 0.0   ┆ 0.0   ┆ 0.0   ┆ 5.688 ┆ 92829 ┆ 0.0   ┆ 9.346 ┆ 1.0   │\n",
       "│     ┆ l   ┆ 2.0 ┆        ┆ 0     ┆       ┆       ┆       ┆ 598e6 ┆ .0    ┆       ┆ 6996e ┆       │\n",
       "│     ┆     ┆     ┆        ┆       ┆       ┆       ┆       ┆       ┆       ┆       ┆ 7     ┆       │\n",
       "│ 97. ┆ nul ┆ 205 ┆ 2064.0 ┆ 2070. ┆ 0.0   ┆ 0.0   ┆ 0.0   ┆ 5.852 ┆ 23765 ┆ 0.0   ┆ 9.538 ┆ 1.0   │\n",
       "│ 5%  ┆ l   ┆ 0.0 ┆        ┆ 0     ┆       ┆       ┆       ┆ 459e6 ┆ 2.0   ┆       ┆ 0665e ┆       │\n",
       "│     ┆     ┆     ┆        ┆       ┆       ┆       ┆       ┆       ┆       ┆       ┆ 7     ┆       │\n",
       "│ 99% ┆ nul ┆ 205 ┆ 2086.0 ┆ 2091. ┆ 0.0   ┆ 0.0   ┆ 0.0   ┆ 5.929 ┆ 41357 ┆ 1.0   ┆ 9.703 ┆ 1.0   │\n",
       "│     ┆ l   ┆ 9.0 ┆        ┆ 0     ┆       ┆       ┆       ┆ 438e6 ┆ 6.0   ┆       ┆ 0186e ┆       │\n",
       "│     ┆     ┆     ┆        ┆       ┆       ┆       ┆       ┆       ┆       ┆       ┆ 7     ┆       │\n",
       "│ max ┆ [N- ┆ 208 ┆ 2109.0 ┆ 2109. ┆ 1.0   ┆ 1.0   ┆ 1.0   ┆ 5.971 ┆ 50017 ┆ 7.0   ┆ 9.841 ┆ 3.0   │\n",
       "│     ┆ ]=[ ┆ 4.0 ┆        ┆ 0     ┆       ┆       ┆       ┆ 682e6 ┆ 0.0   ┆       ┆ 5609e ┆       │\n",
       "│     ┆ N+] ┆     ┆        ┆       ┆       ┆       ┆       ┆       ┆       ┆       ┆ 7     ┆       │\n",
       "│     ┆ =NC ┆     ┆        ┆       ┆       ┆       ┆       ┆       ┆       ┆       ┆       ┆       │\n",
       "│     ┆ CC[ ┆     ┆        ┆       ┆       ┆       ┆       ┆       ┆       ┆       ┆       ┆       │\n",
       "│     ┆ C@H ┆     ┆        ┆       ┆       ┆       ┆       ┆       ┆       ┆       ┆       ┆       │\n",
       "│     ┆ ](N ┆     ┆        ┆       ┆       ┆       ┆       ┆       ┆       ┆       ┆       ┆       │\n",
       "│     ┆ c1n ┆     ┆        ┆       ┆       ┆       ┆       ┆       ┆       ┆       ┆       ┆       │\n",
       "│     ┆ c(N ┆     ┆        ┆       ┆       ┆       ┆       ┆       ┆       ┆       ┆       ┆       │\n",
       "│     ┆ c2n ┆     ┆        ┆       ┆       ┆       ┆       ┆       ┆       ┆       ┆       ┆       │\n",
       "│     ┆ oc… ┆     ┆        ┆       ┆       ┆       ┆       ┆       ┆       ┆       ┆       ┆       │\n",
       "└─────┴─────┴─────┴────────┴───────┴───────┴───────┴───────┴───────┴───────┴───────┴───────┴───────┘"
      ]
     },
     "metadata": {},
     "output_type": "display_data"
    },
    {
     "name": "stdout",
     "output_type": "stream",
     "text": [
      "Final Train set statistic:\n"
     ]
    },
    {
     "data": {
      "text/html": [
       "<div><style>\n",
       ".dataframe > thead > tr,\n",
       ".dataframe > tbody > tr {\n",
       "  text-align: right;\n",
       "  white-space: pre-wrap;\n",
       "}\n",
       "</style>\n",
       "<small>shape: (1, 13)</small><table border=\"1\" class=\"dataframe\"><thead><tr><th>molecule</th><th>bb1</th><th>bb2</th><th>bb3</th><th>BRD4</th><th>HSA</th><th>sEH</th><th>scaffold_idx</th><th>mol_per_scaf</th><th>label</th><th>ori_index</th><th>subset</th><th>index</th></tr><tr><td>u32</td><td>u32</td><td>u32</td><td>u32</td><td>u32</td><td>u32</td><td>u32</td><td>u32</td><td>u32</td><td>u32</td><td>u32</td><td>u32</td><td>u32</td></tr></thead><tbody><tr><td>66710159</td><td>238</td><td>601</td><td>769</td><td>2</td><td>2</td><td>2</td><td>4359915</td><td>2387</td><td>8</td><td>66710159</td><td>1</td><td>66710159</td></tr></tbody></table></div>"
      ],
      "text/plain": [
       "shape: (1, 13)\n",
       "┌────────┬─────┬─────┬─────┬──────┬─────┬─────┬────────┬────────┬───────┬────────┬────────┬────────┐\n",
       "│ molecu ┆ bb1 ┆ bb2 ┆ bb3 ┆ BRD4 ┆ HSA ┆ sEH ┆ scaffo ┆ mol_pe ┆ label ┆ ori_in ┆ subset ┆ index  │\n",
       "│ le     ┆ --- ┆ --- ┆ --- ┆ ---  ┆ --- ┆ --- ┆ ld_idx ┆ r_scaf ┆ ---   ┆ dex    ┆ ---    ┆ ---    │\n",
       "│ ---    ┆ u32 ┆ u32 ┆ u32 ┆ u32  ┆ u32 ┆ u32 ┆ ---    ┆ ---    ┆ u32   ┆ ---    ┆ u32    ┆ u32    │\n",
       "│ u32    ┆     ┆     ┆     ┆      ┆     ┆     ┆ u32    ┆ u32    ┆       ┆ u32    ┆        ┆        │\n",
       "╞════════╪═════╪═════╪═════╪══════╪═════╪═════╪════════╪════════╪═══════╪════════╪════════╪════════╡\n",
       "│ 667101 ┆ 238 ┆ 601 ┆ 769 ┆ 2    ┆ 2   ┆ 2   ┆ 435991 ┆ 2387   ┆ 8     ┆ 667101 ┆ 1      ┆ 667101 │\n",
       "│ 59     ┆     ┆     ┆     ┆      ┆     ┆     ┆ 5      ┆        ┆       ┆ 59     ┆        ┆ 59     │\n",
       "└────────┴─────┴─────┴─────┴──────┴─────┴─────┴────────┴────────┴───────┴────────┴────────┴────────┘"
      ]
     },
     "metadata": {},
     "output_type": "display_data"
    },
    {
     "data": {
      "text/html": [
       "<div><style>\n",
       ".dataframe > thead > tr,\n",
       ".dataframe > tbody > tr {\n",
       "  text-align: right;\n",
       "  white-space: pre-wrap;\n",
       "}\n",
       "</style>\n",
       "<small>shape: (17, 14)</small><table border=\"1\" class=\"dataframe\"><thead><tr><th>statistic</th><th>molecule</th><th>bb1</th><th>bb2</th><th>bb3</th><th>BRD4</th><th>HSA</th><th>sEH</th><th>scaffold_idx</th><th>mol_per_scaf</th><th>label</th><th>ori_index</th><th>subset</th><th>index</th></tr><tr><td>str</td><td>str</td><td>f64</td><td>f64</td><td>f64</td><td>f64</td><td>f64</td><td>f64</td><td>f64</td><td>f64</td><td>f64</td><td>f64</td><td>f64</td><td>f64</td></tr></thead><tbody><tr><td>&quot;count&quot;</td><td>&quot;66710159&quot;</td><td>6.6710159e7</td><td>6.6710159e7</td><td>6.6710159e7</td><td>6.6710159e7</td><td>6.6710159e7</td><td>6.6710159e7</td><td>6.6710159e7</td><td>6.6710159e7</td><td>6.6710159e7</td><td>6.6710159e7</td><td>6.6710159e7</td><td>6.6710159e7</td></tr><tr><td>&quot;null_count&quot;</td><td>&quot;0&quot;</td><td>0.0</td><td>0.0</td><td>0.0</td><td>0.0</td><td>0.0</td><td>0.0</td><td>0.0</td><td>0.0</td><td>0.0</td><td>0.0</td><td>0.0</td><td>0.0</td></tr><tr><td>&quot;mean&quot;</td><td>null</td><td>1074.413092</td><td>1079.332427</td><td>1033.021232</td><td>0.004772</td><td>0.004283</td><td>0.007581</td><td>3.0227e6</td><td>14104.587721</td><td>0.035236</td><td>4.9485e7</td><td>255.0</td><td>3.3417e7</td></tr><tr><td>&quot;std&quot;</td><td>null</td><td>591.517029</td><td>609.725897</td><td>610.571276</td><td>0.068916</td><td>0.065305</td><td>0.086739</td><td>1.7249e6</td><td>55811.110771</td><td>0.321424</td><td>2.8744e7</td><td>0.0</td><td>1.9294e7</td></tr><tr><td>&quot;min&quot;</td><td>&quot;C#CCOc1ccc(CNc…</td><td>7.0</td><td>0.0</td><td>0.0</td><td>0.0</td><td>0.0</td><td>0.0</td><td>2.0</td><td>1.0</td><td>0.0</td><td>363110.0</td><td>255.0</td><td>0.0</td></tr><tr><td>&quot;1%&quot;</td><td>null</td><td>21.0</td><td>26.0</td><td>15.0</td><td>0.0</td><td>0.0</td><td>0.0</td><td>63750.0</td><td>1.0</td><td>0.0</td><td>1.227679e6</td><td>255.0</td><td>668354.0</td></tr><tr><td>&quot;2.5%&quot;</td><td>null</td><td>76.0</td><td>45.0</td><td>44.0</td><td>0.0</td><td>0.0</td><td>0.0</td><td>155462.0</td><td>1.0</td><td>0.0</td><td>2.523782e6</td><td>255.0</td><td>1.670883e6</td></tr><tr><td>&quot;5%&quot;</td><td>null</td><td>141.0</td><td>90.0</td><td>98.0</td><td>0.0</td><td>0.0</td><td>0.0</td><td>286317.0</td><td>3.0</td><td>0.0</td><td>4.686871e6</td><td>255.0</td><td>3.341846e6</td></tr><tr><td>&quot;10%&quot;</td><td>null</td><td>273.0</td><td>158.0</td><td>205.0</td><td>0.0</td><td>0.0</td><td>0.0</td><td>606564.0</td><td>8.0</td><td>0.0</td><td>9.734228e6</td><td>255.0</td><td>6.683334e6</td></tr><tr><td>&quot;25%&quot;</td><td>null</td><td>557.0</td><td>586.0</td><td>505.0</td><td>0.0</td><td>0.0</td><td>0.0</td><td>1.54123e6</td><td>48.0</td><td>0.0</td><td>2.3785911e7</td><td>255.0</td><td>1.6708368e7</td></tr><tr><td>&quot;50%&quot;</td><td>null</td><td>1066.0</td><td>1110.0</td><td>1033.0</td><td>0.0</td><td>0.0</td><td>0.0</td><td>3.022122e6</td><td>348.0</td><td>0.0</td><td>5.011534e7</td><td>255.0</td><td>3.3418387e7</td></tr><tr><td>&quot;75%&quot;</td><td>null</td><td>1600.0</td><td>1580.0</td><td>1541.0</td><td>0.0</td><td>0.0</td><td>0.0</td><td>4.551733e6</td><td>3657.0</td><td>0.0</td><td>7.4624815e7</td><td>255.0</td><td>5.0124904e7</td></tr><tr><td>&quot;90%&quot;</td><td>null</td><td>1922.0</td><td>1917.0</td><td>1890.0</td><td>0.0</td><td>0.0</td><td>0.0</td><td>5.387615e6</td><td>18348.0</td><td>0.0</td><td>8.8679775e7</td><td>255.0</td><td>6.0151414e7</td></tr><tr><td>&quot;95%&quot;</td><td>null</td><td>2013.0</td><td>2010.0</td><td>2012.0</td><td>0.0</td><td>0.0</td><td>0.0</td><td>5.684055e6</td><td>63850.0</td><td>0.0</td><td>9.3731906e7</td><td>255.0</td><td>6.3493814e7</td></tr><tr><td>&quot;97.5%&quot;</td><td>null</td><td>2050.0</td><td>2066.0</td><td>2076.0</td><td>0.0</td><td>0.0</td><td>0.0</td><td>5.841692e6</td><td>176859.0</td><td>0.0</td><td>9.6255603e7</td><td>255.0</td><td>6.5165203e7</td></tr><tr><td>&quot;99%&quot;</td><td>null</td><td>2061.0</td><td>2092.0</td><td>2096.0</td><td>0.0</td><td>0.0</td><td>0.0</td><td>5.928811e6</td><td>334990.0</td><td>1.0</td><td>9.7548591e7</td><td>255.0</td><td>6.616785e7</td></tr><tr><td>&quot;max&quot;</td><td>&quot;[N-]=[N+]=NCCC…</td><td>2084.0</td><td>2109.0</td><td>2109.0</td><td>1.0</td><td>1.0</td><td>1.0</td><td>5.971684e6</td><td>500170.0</td><td>7.0</td><td>9.8414971e7</td><td>255.0</td><td>6.6836164e7</td></tr></tbody></table></div>"
      ],
      "text/plain": [
       "shape: (17, 14)\n",
       "┌─────┬─────┬─────┬─────┬─────┬─────┬─────┬────────┬───────┬───────┬───────┬───────┬───────┬───────┐\n",
       "│ sta ┆ mol ┆ bb1 ┆ bb2 ┆ bb3 ┆ BRD ┆ HSA ┆ sEH    ┆ scaff ┆ mol_p ┆ label ┆ ori_i ┆ subse ┆ index │\n",
       "│ tis ┆ ecu ┆ --- ┆ --- ┆ --- ┆ 4   ┆ --- ┆ ---    ┆ old_i ┆ er_sc ┆ ---   ┆ ndex  ┆ t     ┆ ---   │\n",
       "│ tic ┆ le  ┆ f64 ┆ f64 ┆ f64 ┆ --- ┆ f64 ┆ f64    ┆ dx    ┆ af    ┆ f64   ┆ ---   ┆ ---   ┆ f64   │\n",
       "│ --- ┆ --- ┆     ┆     ┆     ┆ f64 ┆     ┆        ┆ ---   ┆ ---   ┆       ┆ f64   ┆ f64   ┆       │\n",
       "│ str ┆ str ┆     ┆     ┆     ┆     ┆     ┆        ┆ f64   ┆ f64   ┆       ┆       ┆       ┆       │\n",
       "╞═════╪═════╪═════╪═════╪═════╪═════╪═════╪════════╪═══════╪═══════╪═══════╪═══════╪═══════╪═══════╡\n",
       "│ cou ┆ 667 ┆ 6.6 ┆ 6.6 ┆ 6.6 ┆ 6.6 ┆ 6.6 ┆ 6.6710 ┆ 6.671 ┆ 6.671 ┆ 6.671 ┆ 6.671 ┆ 6.671 ┆ 6.671 │\n",
       "│ nt  ┆ 101 ┆ 710 ┆ 710 ┆ 710 ┆ 710 ┆ 710 ┆ 159e7  ┆ 0159e ┆ 0159e ┆ 0159e ┆ 0159e ┆ 0159e ┆ 0159e │\n",
       "│     ┆ 59  ┆ 159 ┆ 159 ┆ 159 ┆ 159 ┆ 159 ┆        ┆ 7     ┆ 7     ┆ 7     ┆ 7     ┆ 7     ┆ 7     │\n",
       "│     ┆     ┆ e7  ┆ e7  ┆ e7  ┆ e7  ┆ e7  ┆        ┆       ┆       ┆       ┆       ┆       ┆       │\n",
       "│ nul ┆ 0   ┆ 0.0 ┆ 0.0 ┆ 0.0 ┆ 0.0 ┆ 0.0 ┆ 0.0    ┆ 0.0   ┆ 0.0   ┆ 0.0   ┆ 0.0   ┆ 0.0   ┆ 0.0   │\n",
       "│ l_c ┆     ┆     ┆     ┆     ┆     ┆     ┆        ┆       ┆       ┆       ┆       ┆       ┆       │\n",
       "│ oun ┆     ┆     ┆     ┆     ┆     ┆     ┆        ┆       ┆       ┆       ┆       ┆       ┆       │\n",
       "│ t   ┆     ┆     ┆     ┆     ┆     ┆     ┆        ┆       ┆       ┆       ┆       ┆       ┆       │\n",
       "│ mea ┆ nul ┆ 107 ┆ 107 ┆ 103 ┆ 0.0 ┆ 0.0 ┆ 0.0075 ┆ 3.022 ┆ 14104 ┆ 0.035 ┆ 4.948 ┆ 255.0 ┆ 3.341 │\n",
       "│ n   ┆ l   ┆ 4.4 ┆ 9.3 ┆ 3.0 ┆ 047 ┆ 042 ┆ 81     ┆ 7e6   ┆ .5877 ┆ 236   ┆ 5e7   ┆       ┆ 7e7   │\n",
       "│     ┆     ┆ 130 ┆ 324 ┆ 212 ┆ 72  ┆ 83  ┆        ┆       ┆ 21    ┆       ┆       ┆       ┆       │\n",
       "│     ┆     ┆ 92  ┆ 27  ┆ 32  ┆     ┆     ┆        ┆       ┆       ┆       ┆       ┆       ┆       │\n",
       "│ std ┆ nul ┆ 591 ┆ 609 ┆ 610 ┆ 0.0 ┆ 0.0 ┆ 0.0867 ┆ 1.724 ┆ 55811 ┆ 0.321 ┆ 2.874 ┆ 0.0   ┆ 1.929 │\n",
       "│     ┆ l   ┆ .51 ┆ .72 ┆ .57 ┆ 689 ┆ 653 ┆ 39     ┆ 9e6   ┆ .1107 ┆ 424   ┆ 4e7   ┆       ┆ 4e7   │\n",
       "│     ┆     ┆ 702 ┆ 589 ┆ 127 ┆ 16  ┆ 05  ┆        ┆       ┆ 71    ┆       ┆       ┆       ┆       │\n",
       "│     ┆     ┆ 9   ┆ 7   ┆ 6   ┆     ┆     ┆        ┆       ┆       ┆       ┆       ┆       ┆       │\n",
       "│ min ┆ C#C ┆ 7.0 ┆ 0.0 ┆ 0.0 ┆ 0.0 ┆ 0.0 ┆ 0.0    ┆ 2.0   ┆ 1.0   ┆ 0.0   ┆ 36311 ┆ 255.0 ┆ 0.0   │\n",
       "│     ┆ COc ┆     ┆     ┆     ┆     ┆     ┆        ┆       ┆       ┆       ┆ 0.0   ┆       ┆       │\n",
       "│     ┆ 1cc ┆     ┆     ┆     ┆     ┆     ┆        ┆       ┆       ┆       ┆       ┆       ┆       │\n",
       "│     ┆ c(C ┆     ┆     ┆     ┆     ┆     ┆        ┆       ┆       ┆       ┆       ┆       ┆       │\n",
       "│     ┆ Nc2 ┆     ┆     ┆     ┆     ┆     ┆        ┆       ┆       ┆       ┆       ┆       ┆       │\n",
       "│     ┆ nc( ┆     ┆     ┆     ┆     ┆     ┆        ┆       ┆       ┆       ┆       ┆       ┆       │\n",
       "│     ┆ NC( ┆     ┆     ┆     ┆     ┆     ┆        ┆       ┆       ┆       ┆       ┆       ┆       │\n",
       "│     ┆ =N) ┆     ┆     ┆     ┆     ┆     ┆        ┆       ┆       ┆       ┆       ┆       ┆       │\n",
       "│     ┆ CCC ┆     ┆     ┆     ┆     ┆     ┆        ┆       ┆       ┆       ┆       ┆       ┆       │\n",
       "│     ┆ N)n ┆     ┆     ┆     ┆     ┆     ┆        ┆       ┆       ┆       ┆       ┆       ┆       │\n",
       "│     ┆ c(… ┆     ┆     ┆     ┆     ┆     ┆        ┆       ┆       ┆       ┆       ┆       ┆       │\n",
       "│ 1%  ┆ nul ┆ 21. ┆ 26. ┆ 15. ┆ 0.0 ┆ 0.0 ┆ 0.0    ┆ 63750 ┆ 1.0   ┆ 0.0   ┆ 1.227 ┆ 255.0 ┆ 66835 │\n",
       "│     ┆ l   ┆ 0   ┆ 0   ┆ 0   ┆     ┆     ┆        ┆ .0    ┆       ┆       ┆ 679e6 ┆       ┆ 4.0   │\n",
       "│ 2.5 ┆ nul ┆ 76. ┆ 45. ┆ 44. ┆ 0.0 ┆ 0.0 ┆ 0.0    ┆ 15546 ┆ 1.0   ┆ 0.0   ┆ 2.523 ┆ 255.0 ┆ 1.670 │\n",
       "│ %   ┆ l   ┆ 0   ┆ 0   ┆ 0   ┆     ┆     ┆        ┆ 2.0   ┆       ┆       ┆ 782e6 ┆       ┆ 883e6 │\n",
       "│ 5%  ┆ nul ┆ 141 ┆ 90. ┆ 98. ┆ 0.0 ┆ 0.0 ┆ 0.0    ┆ 28631 ┆ 3.0   ┆ 0.0   ┆ 4.686 ┆ 255.0 ┆ 3.341 │\n",
       "│     ┆ l   ┆ .0  ┆ 0   ┆ 0   ┆     ┆     ┆        ┆ 7.0   ┆       ┆       ┆ 871e6 ┆       ┆ 846e6 │\n",
       "│ 10% ┆ nul ┆ 273 ┆ 158 ┆ 205 ┆ 0.0 ┆ 0.0 ┆ 0.0    ┆ 60656 ┆ 8.0   ┆ 0.0   ┆ 9.734 ┆ 255.0 ┆ 6.683 │\n",
       "│     ┆ l   ┆ .0  ┆ .0  ┆ .0  ┆     ┆     ┆        ┆ 4.0   ┆       ┆       ┆ 228e6 ┆       ┆ 334e6 │\n",
       "│ 25% ┆ nul ┆ 557 ┆ 586 ┆ 505 ┆ 0.0 ┆ 0.0 ┆ 0.0    ┆ 1.541 ┆ 48.0  ┆ 0.0   ┆ 2.378 ┆ 255.0 ┆ 1.670 │\n",
       "│     ┆ l   ┆ .0  ┆ .0  ┆ .0  ┆     ┆     ┆        ┆ 23e6  ┆       ┆       ┆ 5911e ┆       ┆ 8368e │\n",
       "│     ┆     ┆     ┆     ┆     ┆     ┆     ┆        ┆       ┆       ┆       ┆ 7     ┆       ┆ 7     │\n",
       "│ 50% ┆ nul ┆ 106 ┆ 111 ┆ 103 ┆ 0.0 ┆ 0.0 ┆ 0.0    ┆ 3.022 ┆ 348.0 ┆ 0.0   ┆ 5.011 ┆ 255.0 ┆ 3.341 │\n",
       "│     ┆ l   ┆ 6.0 ┆ 0.0 ┆ 3.0 ┆     ┆     ┆        ┆ 122e6 ┆       ┆       ┆ 534e7 ┆       ┆ 8387e │\n",
       "│     ┆     ┆     ┆     ┆     ┆     ┆     ┆        ┆       ┆       ┆       ┆       ┆       ┆ 7     │\n",
       "│ 75% ┆ nul ┆ 160 ┆ 158 ┆ 154 ┆ 0.0 ┆ 0.0 ┆ 0.0    ┆ 4.551 ┆ 3657. ┆ 0.0   ┆ 7.462 ┆ 255.0 ┆ 5.012 │\n",
       "│     ┆ l   ┆ 0.0 ┆ 0.0 ┆ 1.0 ┆     ┆     ┆        ┆ 733e6 ┆ 0     ┆       ┆ 4815e ┆       ┆ 4904e │\n",
       "│     ┆     ┆     ┆     ┆     ┆     ┆     ┆        ┆       ┆       ┆       ┆ 7     ┆       ┆ 7     │\n",
       "│ 90% ┆ nul ┆ 192 ┆ 191 ┆ 189 ┆ 0.0 ┆ 0.0 ┆ 0.0    ┆ 5.387 ┆ 18348 ┆ 0.0   ┆ 8.867 ┆ 255.0 ┆ 6.015 │\n",
       "│     ┆ l   ┆ 2.0 ┆ 7.0 ┆ 0.0 ┆     ┆     ┆        ┆ 615e6 ┆ .0    ┆       ┆ 9775e ┆       ┆ 1414e │\n",
       "│     ┆     ┆     ┆     ┆     ┆     ┆     ┆        ┆       ┆       ┆       ┆ 7     ┆       ┆ 7     │\n",
       "│ 95% ┆ nul ┆ 201 ┆ 201 ┆ 201 ┆ 0.0 ┆ 0.0 ┆ 0.0    ┆ 5.684 ┆ 63850 ┆ 0.0   ┆ 9.373 ┆ 255.0 ┆ 6.349 │\n",
       "│     ┆ l   ┆ 3.0 ┆ 0.0 ┆ 2.0 ┆     ┆     ┆        ┆ 055e6 ┆ .0    ┆       ┆ 1906e ┆       ┆ 3814e │\n",
       "│     ┆     ┆     ┆     ┆     ┆     ┆     ┆        ┆       ┆       ┆       ┆ 7     ┆       ┆ 7     │\n",
       "│ 97. ┆ nul ┆ 205 ┆ 206 ┆ 207 ┆ 0.0 ┆ 0.0 ┆ 0.0    ┆ 5.841 ┆ 17685 ┆ 0.0   ┆ 9.625 ┆ 255.0 ┆ 6.516 │\n",
       "│ 5%  ┆ l   ┆ 0.0 ┆ 6.0 ┆ 6.0 ┆     ┆     ┆        ┆ 692e6 ┆ 9.0   ┆       ┆ 5603e ┆       ┆ 5203e │\n",
       "│     ┆     ┆     ┆     ┆     ┆     ┆     ┆        ┆       ┆       ┆       ┆ 7     ┆       ┆ 7     │\n",
       "│ 99% ┆ nul ┆ 206 ┆ 209 ┆ 209 ┆ 0.0 ┆ 0.0 ┆ 0.0    ┆ 5.928 ┆ 33499 ┆ 1.0   ┆ 9.754 ┆ 255.0 ┆ 6.616 │\n",
       "│     ┆ l   ┆ 1.0 ┆ 2.0 ┆ 6.0 ┆     ┆     ┆        ┆ 811e6 ┆ 0.0   ┆       ┆ 8591e ┆       ┆ 785e7 │\n",
       "│     ┆     ┆     ┆     ┆     ┆     ┆     ┆        ┆       ┆       ┆       ┆ 7     ┆       ┆       │\n",
       "│ max ┆ [N- ┆ 208 ┆ 210 ┆ 210 ┆ 1.0 ┆ 1.0 ┆ 1.0    ┆ 5.971 ┆ 50017 ┆ 7.0   ┆ 9.841 ┆ 255.0 ┆ 6.683 │\n",
       "│     ┆ ]=[ ┆ 4.0 ┆ 9.0 ┆ 9.0 ┆     ┆     ┆        ┆ 684e6 ┆ 0.0   ┆       ┆ 4971e ┆       ┆ 6164e │\n",
       "│     ┆ N+] ┆     ┆     ┆     ┆     ┆     ┆        ┆       ┆       ┆       ┆ 7     ┆       ┆ 7     │\n",
       "│     ┆ =NC ┆     ┆     ┆     ┆     ┆     ┆        ┆       ┆       ┆       ┆       ┆       ┆       │\n",
       "│     ┆ CC[ ┆     ┆     ┆     ┆     ┆     ┆        ┆       ┆       ┆       ┆       ┆       ┆       │\n",
       "│     ┆ C@H ┆     ┆     ┆     ┆     ┆     ┆        ┆       ┆       ┆       ┆       ┆       ┆       │\n",
       "│     ┆ ](N ┆     ┆     ┆     ┆     ┆     ┆        ┆       ┆       ┆       ┆       ┆       ┆       │\n",
       "│     ┆ c1n ┆     ┆     ┆     ┆     ┆     ┆        ┆       ┆       ┆       ┆       ┆       ┆       │\n",
       "│     ┆ c(N ┆     ┆     ┆     ┆     ┆     ┆        ┆       ┆       ┆       ┆       ┆       ┆       │\n",
       "│     ┆ c2n ┆     ┆     ┆     ┆     ┆     ┆        ┆       ┆       ┆       ┆       ┆       ┆       │\n",
       "│     ┆ nn… ┆     ┆     ┆     ┆     ┆     ┆        ┆       ┆       ┆       ┆       ┆       ┆       │\n",
       "└─────┴─────┴─────┴─────┴─────┴─────┴─────┴────────┴───────┴───────┴───────┴───────┴───────┴───────┘"
      ]
     },
     "metadata": {},
     "output_type": "display_data"
    }
   ],
   "source": [
    "final_train_df, final_test_df = train_test_split(train_df, test_only_bb_idxs, train_only_bb_idxs = None, random_state = 42)"
   ]
  },
  {
   "cell_type": "code",
   "execution_count": null,
   "id": "1dd7d4e6",
   "metadata": {},
   "outputs": [],
   "source": []
  },
  {
   "cell_type": "code",
   "execution_count": null,
   "id": "52ba48d9",
   "metadata": {},
   "outputs": [],
   "source": []
  },
  {
   "cell_type": "code",
   "execution_count": 41,
   "id": "180892c8",
   "metadata": {},
   "outputs": [
    {
     "data": {
      "text/plain": [
       "((31705451, 12), (66710159, 12))"
      ]
     },
     "execution_count": 41,
     "metadata": {},
     "output_type": "execute_result"
    }
   ],
   "source": [
    "final_test_df.shape, final_train_df.shape"
   ]
  },
  {
   "cell_type": "code",
   "execution_count": 43,
   "id": "0297ac99",
   "metadata": {},
   "outputs": [
    {
     "data": {
      "text/html": [
       "<div><style>\n",
       ".dataframe > thead > tr,\n",
       ".dataframe > tbody > tr {\n",
       "  text-align: right;\n",
       "  white-space: pre-wrap;\n",
       "}\n",
       "</style>\n",
       "<small>shape: (1, 3)</small><table border=\"1\" class=\"dataframe\"><thead><tr><th>BRD4</th><th>HSA</th><th>sEH</th></tr><tr><td>f64</td><td>f64</td><td>f64</td></tr></thead><tbody><tr><td>0.43719</td><td>0.386946</td><td>0.690096</td></tr></tbody></table></div>"
      ],
      "text/plain": [
       "shape: (1, 3)\n",
       "┌─────────┬──────────┬──────────┐\n",
       "│ BRD4    ┆ HSA      ┆ sEH      │\n",
       "│ ---     ┆ ---      ┆ ---      │\n",
       "│ f64     ┆ f64      ┆ f64      │\n",
       "╞═════════╪══════════╪══════════╡\n",
       "│ 0.43719 ┆ 0.386946 ┆ 0.690096 │\n",
       "└─────────┴──────────┴──────────┘"
      ]
     },
     "execution_count": 43,
     "metadata": {},
     "output_type": "execute_result"
    }
   ],
   "source": [
    "final_test_df.select(pl.col('BRD4', 'HSA', 'sEH').mean() * 100)"
   ]
  },
  {
   "cell_type": "code",
   "execution_count": 44,
   "id": "608c5faa",
   "metadata": {},
   "outputs": [
    {
     "data": {
      "text/html": [
       "<div><style>\n",
       ".dataframe > thead > tr,\n",
       ".dataframe > tbody > tr {\n",
       "  text-align: right;\n",
       "  white-space: pre-wrap;\n",
       "}\n",
       "</style>\n",
       "<small>shape: (4, 2)</small><table border=\"1\" class=\"dataframe\"><thead><tr><th>subset</th><th>count</th></tr><tr><td>i32</td><td>u32</td></tr></thead><tbody><tr><td>0</td><td>173831</td></tr><tr><td>1</td><td>31405614</td></tr><tr><td>2</td><td>54197</td></tr><tr><td>3</td><td>71809</td></tr></tbody></table></div>"
      ],
      "text/plain": [
       "shape: (4, 2)\n",
       "┌────────┬──────────┐\n",
       "│ subset ┆ count    │\n",
       "│ ---    ┆ ---      │\n",
       "│ i32    ┆ u32      │\n",
       "╞════════╪══════════╡\n",
       "│ 0      ┆ 173831   │\n",
       "│ 1      ┆ 31405614 │\n",
       "│ 2      ┆ 54197    │\n",
       "│ 3      ┆ 71809    │\n",
       "└────────┴──────────┘"
      ]
     },
     "execution_count": 44,
     "metadata": {},
     "output_type": "execute_result"
    }
   ],
   "source": [
    "final_test_df.group_by('subset').count().sort('subset')"
   ]
  },
  {
   "cell_type": "code",
   "execution_count": 2,
   "id": "605fc736",
   "metadata": {},
   "outputs": [
    {
     "data": {
      "text/plain": [
       "98415610"
      ]
     },
     "execution_count": 2,
     "metadata": {},
     "output_type": "execute_result"
    }
   ],
   "source": [
    "31705451 + 66710159"
   ]
  },
  {
   "cell_type": "code",
   "execution_count": 4,
   "id": "5e7d7807",
   "metadata": {},
   "outputs": [
    {
     "data": {
      "text/plain": [
       "0.17662950013722417"
      ]
     },
     "execution_count": 4,
     "metadata": {},
     "output_type": "execute_result"
    }
   ],
   "source": [
    "(173831 / 98415610) * 100"
   ]
  },
  {
   "cell_type": "code",
   "execution_count": 45,
   "id": "993858b5",
   "metadata": {},
   "outputs": [
    {
     "data": {
      "text/html": [
       "<div><style>\n",
       ".dataframe > thead > tr,\n",
       ".dataframe > tbody > tr {\n",
       "  text-align: right;\n",
       "  white-space: pre-wrap;\n",
       "}\n",
       "</style>\n",
       "<small>shape: (1, 12)</small><table border=\"1\" class=\"dataframe\"><thead><tr><th>molecule</th><th>bb1</th><th>bb2</th><th>bb3</th><th>BRD4</th><th>HSA</th><th>sEH</th><th>scaffold_idx</th><th>mol_per_scaf</th><th>label</th><th>ori_index</th><th>subset</th></tr><tr><td>u32</td><td>u32</td><td>u32</td><td>u32</td><td>u32</td><td>u32</td><td>u32</td><td>u32</td><td>u32</td><td>u32</td><td>u32</td><td>u32</td></tr></thead><tbody><tr><td>31705451</td><td>271</td><td>693</td><td>872</td><td>2</td><td>2</td><td>2</td><td>2560137</td><td>2388</td><td>8</td><td>31705451</td><td>4</td></tr></tbody></table></div>"
      ],
      "text/plain": [
       "shape: (1, 12)\n",
       "┌──────────┬─────┬─────┬─────┬──────┬─────┬─────┬───────────┬──────────┬───────┬──────────┬────────┐\n",
       "│ molecule ┆ bb1 ┆ bb2 ┆ bb3 ┆ BRD4 ┆ HSA ┆ sEH ┆ scaffold_ ┆ mol_per_ ┆ label ┆ ori_inde ┆ subset │\n",
       "│ ---      ┆ --- ┆ --- ┆ --- ┆ ---  ┆ --- ┆ --- ┆ idx       ┆ scaf     ┆ ---   ┆ x        ┆ ---    │\n",
       "│ u32      ┆ u32 ┆ u32 ┆ u32 ┆ u32  ┆ u32 ┆ u32 ┆ ---       ┆ ---      ┆ u32   ┆ ---      ┆ u32    │\n",
       "│          ┆     ┆     ┆     ┆      ┆     ┆     ┆ u32       ┆ u32      ┆       ┆ u32      ┆        │\n",
       "╞══════════╪═════╪═════╪═════╪══════╪═════╪═════╪═══════════╪══════════╪═══════╪══════════╪════════╡\n",
       "│ 31705451 ┆ 271 ┆ 693 ┆ 872 ┆ 2    ┆ 2   ┆ 2   ┆ 2560137   ┆ 2388     ┆ 8     ┆ 31705451 ┆ 4      │\n",
       "└──────────┴─────┴─────┴─────┴──────┴─────┴─────┴───────────┴──────────┴───────┴──────────┴────────┘"
      ]
     },
     "execution_count": 45,
     "metadata": {},
     "output_type": "execute_result"
    }
   ],
   "source": [
    "final_test_df.select(pl.n_unique('*'))"
   ]
  },
  {
   "cell_type": "code",
   "execution_count": 46,
   "id": "9fde54ff",
   "metadata": {},
   "outputs": [
    {
     "data": {
      "text/html": [
       "<div><style>\n",
       ".dataframe > thead > tr,\n",
       ".dataframe > tbody > tr {\n",
       "  text-align: right;\n",
       "  white-space: pre-wrap;\n",
       "}\n",
       "</style>\n",
       "<small>shape: (17, 13)</small><table border=\"1\" class=\"dataframe\"><thead><tr><th>statistic</th><th>molecule</th><th>bb1</th><th>bb2</th><th>bb3</th><th>BRD4</th><th>HSA</th><th>sEH</th><th>scaffold_idx</th><th>mol_per_scaf</th><th>label</th><th>ori_index</th><th>subset</th></tr><tr><td>str</td><td>str</td><td>f64</td><td>f64</td><td>f64</td><td>f64</td><td>f64</td><td>f64</td><td>f64</td><td>f64</td><td>f64</td><td>f64</td><td>f64</td></tr></thead><tbody><tr><td>&quot;count&quot;</td><td>&quot;31705451&quot;</td><td>3.1705451e7</td><td>3.1705451e7</td><td>3.1705451e7</td><td>3.1705451e7</td><td>3.1705451e7</td><td>3.1705451e7</td><td>3.1705451e7</td><td>3.1705451e7</td><td>3.1705451e7</td><td>3.1705451e7</td><td>3.1705451e7</td></tr><tr><td>&quot;null_count&quot;</td><td>&quot;0&quot;</td><td>0.0</td><td>0.0</td><td>0.0</td><td>0.0</td><td>0.0</td><td>0.0</td><td>0.0</td><td>0.0</td><td>0.0</td><td>0.0</td><td>0.0</td></tr><tr><td>&quot;mean&quot;</td><td>null</td><td>1119.568927</td><td>1070.092052</td><td>1070.09145</td><td>0.004372</td><td>0.003869</td><td>0.006901</td><td>3.0424e6</td><td>18398.32598</td><td>0.032127</td><td>4.8625e7</td><td>1.000756</td></tr><tr><td>&quot;std&quot;</td><td>null</td><td>587.48397</td><td>616.031136</td><td>613.155552</td><td>0.065976</td><td>0.062085</td><td>0.082785</td><td>1.7257e6</td><td>64986.265685</td><td>0.307038</td><td>2.7684e7</td><td>0.127479</td></tr><tr><td>&quot;min&quot;</td><td>&quot;C#CCOc1ccc(CNc…</td><td>7.0</td><td>0.0</td><td>0.0</td><td>0.0</td><td>0.0</td><td>0.0</td><td>0.0</td><td>1.0</td><td>0.0</td><td>0.0</td><td>0.0</td></tr><tr><td>&quot;1%&quot;</td><td>null</td><td>36.0</td><td>25.0</td><td>20.0</td><td>0.0</td><td>0.0</td><td>0.0</td><td>68587.0</td><td>1.0</td><td>0.0</td><td>317055.0</td><td>1.0</td></tr><tr><td>&quot;2.5%&quot;</td><td>null</td><td>76.0</td><td>49.0</td><td>45.0</td><td>0.0</td><td>0.0</td><td>0.0</td><td>158224.0</td><td>2.0</td><td>0.0</td><td>2.248638e6</td><td>1.0</td></tr><tr><td>&quot;5%&quot;</td><td>null</td><td>171.0</td><td>110.0</td><td>113.0</td><td>0.0</td><td>0.0</td><td>0.0</td><td>290045.0</td><td>3.0</td><td>0.0</td><td>5.508469e6</td><td>1.0</td></tr><tr><td>&quot;10%&quot;</td><td>null</td><td>346.0</td><td>154.0</td><td>206.0</td><td>0.0</td><td>0.0</td><td>0.0</td><td>614667.0</td><td>9.0</td><td>0.0</td><td>1.02036e7</td><td>1.0</td></tr><tr><td>&quot;25%&quot;</td><td>null</td><td>603.0</td><td>547.0</td><td>543.0</td><td>0.0</td><td>0.0</td><td>0.0</td><td>1.555939e6</td><td>72.0</td><td>0.0</td><td>2.6140722e7</td><td>1.0</td></tr><tr><td>&quot;50%&quot;</td><td>null</td><td>1120.0</td><td>1118.0</td><td>1118.0</td><td>0.0</td><td>0.0</td><td>0.0</td><td>3.06292e6</td><td>485.0</td><td>0.0</td><td>4.7372226e7</td><td>1.0</td></tr><tr><td>&quot;75%&quot;</td><td>null</td><td>1640.0</td><td>1596.0</td><td>1597.0</td><td>0.0</td><td>0.0</td><td>0.0</td><td>4.583912e6</td><td>4754.0</td><td>0.0</td><td>7.3393095e7</td><td>1.0</td></tr><tr><td>&quot;90%&quot;</td><td>null</td><td>1902.0</td><td>1882.0</td><td>1894.0</td><td>0.0</td><td>0.0</td><td>0.0</td><td>5.39984e6</td><td>29488.0</td><td>0.0</td><td>8.8202615e7</td><td>1.0</td></tr><tr><td>&quot;95%&quot;</td><td>null</td><td>2002.0</td><td>1991.0</td><td>2004.0</td><td>0.0</td><td>0.0</td><td>0.0</td><td>5.688598e6</td><td>92829.0</td><td>0.0</td><td>9.3466996e7</td><td>1.0</td></tr><tr><td>&quot;97.5%&quot;</td><td>null</td><td>2050.0</td><td>2064.0</td><td>2070.0</td><td>0.0</td><td>0.0</td><td>0.0</td><td>5.852459e6</td><td>237652.0</td><td>0.0</td><td>9.5380665e7</td><td>1.0</td></tr><tr><td>&quot;99%&quot;</td><td>null</td><td>2059.0</td><td>2086.0</td><td>2091.0</td><td>0.0</td><td>0.0</td><td>0.0</td><td>5.929438e6</td><td>413576.0</td><td>1.0</td><td>9.7030186e7</td><td>1.0</td></tr><tr><td>&quot;max&quot;</td><td>&quot;[N-]=[N+]=NCCC…</td><td>2084.0</td><td>2109.0</td><td>2109.0</td><td>1.0</td><td>1.0</td><td>1.0</td><td>5.971682e6</td><td>500170.0</td><td>7.0</td><td>9.8415609e7</td><td>3.0</td></tr></tbody></table></div>"
      ],
      "text/plain": [
       "shape: (17, 13)\n",
       "┌─────┬─────┬─────┬────────┬───────┬───────┬───────┬───────┬───────┬───────┬───────┬───────┬───────┐\n",
       "│ sta ┆ mol ┆ bb1 ┆ bb2    ┆ bb3   ┆ BRD4  ┆ HSA   ┆ sEH   ┆ scaff ┆ mol_p ┆ label ┆ ori_i ┆ subse │\n",
       "│ tis ┆ ecu ┆ --- ┆ ---    ┆ ---   ┆ ---   ┆ ---   ┆ ---   ┆ old_i ┆ er_sc ┆ ---   ┆ ndex  ┆ t     │\n",
       "│ tic ┆ le  ┆ f64 ┆ f64    ┆ f64   ┆ f64   ┆ f64   ┆ f64   ┆ dx    ┆ af    ┆ f64   ┆ ---   ┆ ---   │\n",
       "│ --- ┆ --- ┆     ┆        ┆       ┆       ┆       ┆       ┆ ---   ┆ ---   ┆       ┆ f64   ┆ f64   │\n",
       "│ str ┆ str ┆     ┆        ┆       ┆       ┆       ┆       ┆ f64   ┆ f64   ┆       ┆       ┆       │\n",
       "╞═════╪═════╪═════╪════════╪═══════╪═══════╪═══════╪═══════╪═══════╪═══════╪═══════╪═══════╪═══════╡\n",
       "│ cou ┆ 317 ┆ 3.1 ┆ 3.1705 ┆ 3.170 ┆ 3.170 ┆ 3.170 ┆ 3.170 ┆ 3.170 ┆ 3.170 ┆ 3.170 ┆ 3.170 ┆ 3.170 │\n",
       "│ nt  ┆ 054 ┆ 705 ┆ 451e7  ┆ 5451e ┆ 5451e ┆ 5451e ┆ 5451e ┆ 5451e ┆ 5451e ┆ 5451e ┆ 5451e ┆ 5451e │\n",
       "│     ┆ 51  ┆ 451 ┆        ┆ 7     ┆ 7     ┆ 7     ┆ 7     ┆ 7     ┆ 7     ┆ 7     ┆ 7     ┆ 7     │\n",
       "│     ┆     ┆ e7  ┆        ┆       ┆       ┆       ┆       ┆       ┆       ┆       ┆       ┆       │\n",
       "│ nul ┆ 0   ┆ 0.0 ┆ 0.0    ┆ 0.0   ┆ 0.0   ┆ 0.0   ┆ 0.0   ┆ 0.0   ┆ 0.0   ┆ 0.0   ┆ 0.0   ┆ 0.0   │\n",
       "│ l_c ┆     ┆     ┆        ┆       ┆       ┆       ┆       ┆       ┆       ┆       ┆       ┆       │\n",
       "│ oun ┆     ┆     ┆        ┆       ┆       ┆       ┆       ┆       ┆       ┆       ┆       ┆       │\n",
       "│ t   ┆     ┆     ┆        ┆       ┆       ┆       ┆       ┆       ┆       ┆       ┆       ┆       │\n",
       "│ mea ┆ nul ┆ 111 ┆ 1070.0 ┆ 1070. ┆ 0.004 ┆ 0.003 ┆ 0.006 ┆ 3.042 ┆ 18398 ┆ 0.032 ┆ 4.862 ┆ 1.000 │\n",
       "│ n   ┆ l   ┆ 9.5 ┆ 92052  ┆ 09145 ┆ 372   ┆ 869   ┆ 901   ┆ 4e6   ┆ .3259 ┆ 127   ┆ 5e7   ┆ 756   │\n",
       "│     ┆     ┆ 689 ┆        ┆       ┆       ┆       ┆       ┆       ┆ 8     ┆       ┆       ┆       │\n",
       "│     ┆     ┆ 27  ┆        ┆       ┆       ┆       ┆       ┆       ┆       ┆       ┆       ┆       │\n",
       "│ std ┆ nul ┆ 587 ┆ 616.03 ┆ 613.1 ┆ 0.065 ┆ 0.062 ┆ 0.082 ┆ 1.725 ┆ 64986 ┆ 0.307 ┆ 2.768 ┆ 0.127 │\n",
       "│     ┆ l   ┆ .48 ┆ 1136   ┆ 55552 ┆ 976   ┆ 085   ┆ 785   ┆ 7e6   ┆ .2656 ┆ 038   ┆ 4e7   ┆ 479   │\n",
       "│     ┆     ┆ 397 ┆        ┆       ┆       ┆       ┆       ┆       ┆ 85    ┆       ┆       ┆       │\n",
       "│ min ┆ C#C ┆ 7.0 ┆ 0.0    ┆ 0.0   ┆ 0.0   ┆ 0.0   ┆ 0.0   ┆ 0.0   ┆ 1.0   ┆ 0.0   ┆ 0.0   ┆ 0.0   │\n",
       "│     ┆ COc ┆     ┆        ┆       ┆       ┆       ┆       ┆       ┆       ┆       ┆       ┆       │\n",
       "│     ┆ 1cc ┆     ┆        ┆       ┆       ┆       ┆       ┆       ┆       ┆       ┆       ┆       │\n",
       "│     ┆ c(C ┆     ┆        ┆       ┆       ┆       ┆       ┆       ┆       ┆       ┆       ┆       │\n",
       "│     ┆ Nc2 ┆     ┆        ┆       ┆       ┆       ┆       ┆       ┆       ┆       ┆       ┆       │\n",
       "│     ┆ nc( ┆     ┆        ┆       ┆       ┆       ┆       ┆       ┆       ┆       ┆       ┆       │\n",
       "│     ┆ NC( ┆     ┆        ┆       ┆       ┆       ┆       ┆       ┆       ┆       ┆       ┆       │\n",
       "│     ┆ =N) ┆     ┆        ┆       ┆       ┆       ┆       ┆       ┆       ┆       ┆       ┆       │\n",
       "│     ┆ CCC ┆     ┆        ┆       ┆       ┆       ┆       ┆       ┆       ┆       ┆       ┆       │\n",
       "│     ┆ N)n ┆     ┆        ┆       ┆       ┆       ┆       ┆       ┆       ┆       ┆       ┆       │\n",
       "│     ┆ c(… ┆     ┆        ┆       ┆       ┆       ┆       ┆       ┆       ┆       ┆       ┆       │\n",
       "│ 1%  ┆ nul ┆ 36. ┆ 25.0   ┆ 20.0  ┆ 0.0   ┆ 0.0   ┆ 0.0   ┆ 68587 ┆ 1.0   ┆ 0.0   ┆ 31705 ┆ 1.0   │\n",
       "│     ┆ l   ┆ 0   ┆        ┆       ┆       ┆       ┆       ┆ .0    ┆       ┆       ┆ 5.0   ┆       │\n",
       "│ 2.5 ┆ nul ┆ 76. ┆ 49.0   ┆ 45.0  ┆ 0.0   ┆ 0.0   ┆ 0.0   ┆ 15822 ┆ 2.0   ┆ 0.0   ┆ 2.248 ┆ 1.0   │\n",
       "│ %   ┆ l   ┆ 0   ┆        ┆       ┆       ┆       ┆       ┆ 4.0   ┆       ┆       ┆ 638e6 ┆       │\n",
       "│ 5%  ┆ nul ┆ 171 ┆ 110.0  ┆ 113.0 ┆ 0.0   ┆ 0.0   ┆ 0.0   ┆ 29004 ┆ 3.0   ┆ 0.0   ┆ 5.508 ┆ 1.0   │\n",
       "│     ┆ l   ┆ .0  ┆        ┆       ┆       ┆       ┆       ┆ 5.0   ┆       ┆       ┆ 469e6 ┆       │\n",
       "│ 10% ┆ nul ┆ 346 ┆ 154.0  ┆ 206.0 ┆ 0.0   ┆ 0.0   ┆ 0.0   ┆ 61466 ┆ 9.0   ┆ 0.0   ┆ 1.020 ┆ 1.0   │\n",
       "│     ┆ l   ┆ .0  ┆        ┆       ┆       ┆       ┆       ┆ 7.0   ┆       ┆       ┆ 36e7  ┆       │\n",
       "│ 25% ┆ nul ┆ 603 ┆ 547.0  ┆ 543.0 ┆ 0.0   ┆ 0.0   ┆ 0.0   ┆ 1.555 ┆ 72.0  ┆ 0.0   ┆ 2.614 ┆ 1.0   │\n",
       "│     ┆ l   ┆ .0  ┆        ┆       ┆       ┆       ┆       ┆ 939e6 ┆       ┆       ┆ 0722e ┆       │\n",
       "│     ┆     ┆     ┆        ┆       ┆       ┆       ┆       ┆       ┆       ┆       ┆ 7     ┆       │\n",
       "│ 50% ┆ nul ┆ 112 ┆ 1118.0 ┆ 1118. ┆ 0.0   ┆ 0.0   ┆ 0.0   ┆ 3.062 ┆ 485.0 ┆ 0.0   ┆ 4.737 ┆ 1.0   │\n",
       "│     ┆ l   ┆ 0.0 ┆        ┆ 0     ┆       ┆       ┆       ┆ 92e6  ┆       ┆       ┆ 2226e ┆       │\n",
       "│     ┆     ┆     ┆        ┆       ┆       ┆       ┆       ┆       ┆       ┆       ┆ 7     ┆       │\n",
       "│ 75% ┆ nul ┆ 164 ┆ 1596.0 ┆ 1597. ┆ 0.0   ┆ 0.0   ┆ 0.0   ┆ 4.583 ┆ 4754. ┆ 0.0   ┆ 7.339 ┆ 1.0   │\n",
       "│     ┆ l   ┆ 0.0 ┆        ┆ 0     ┆       ┆       ┆       ┆ 912e6 ┆ 0     ┆       ┆ 3095e ┆       │\n",
       "│     ┆     ┆     ┆        ┆       ┆       ┆       ┆       ┆       ┆       ┆       ┆ 7     ┆       │\n",
       "│ 90% ┆ nul ┆ 190 ┆ 1882.0 ┆ 1894. ┆ 0.0   ┆ 0.0   ┆ 0.0   ┆ 5.399 ┆ 29488 ┆ 0.0   ┆ 8.820 ┆ 1.0   │\n",
       "│     ┆ l   ┆ 2.0 ┆        ┆ 0     ┆       ┆       ┆       ┆ 84e6  ┆ .0    ┆       ┆ 2615e ┆       │\n",
       "│     ┆     ┆     ┆        ┆       ┆       ┆       ┆       ┆       ┆       ┆       ┆ 7     ┆       │\n",
       "│ 95% ┆ nul ┆ 200 ┆ 1991.0 ┆ 2004. ┆ 0.0   ┆ 0.0   ┆ 0.0   ┆ 5.688 ┆ 92829 ┆ 0.0   ┆ 9.346 ┆ 1.0   │\n",
       "│     ┆ l   ┆ 2.0 ┆        ┆ 0     ┆       ┆       ┆       ┆ 598e6 ┆ .0    ┆       ┆ 6996e ┆       │\n",
       "│     ┆     ┆     ┆        ┆       ┆       ┆       ┆       ┆       ┆       ┆       ┆ 7     ┆       │\n",
       "│ 97. ┆ nul ┆ 205 ┆ 2064.0 ┆ 2070. ┆ 0.0   ┆ 0.0   ┆ 0.0   ┆ 5.852 ┆ 23765 ┆ 0.0   ┆ 9.538 ┆ 1.0   │\n",
       "│ 5%  ┆ l   ┆ 0.0 ┆        ┆ 0     ┆       ┆       ┆       ┆ 459e6 ┆ 2.0   ┆       ┆ 0665e ┆       │\n",
       "│     ┆     ┆     ┆        ┆       ┆       ┆       ┆       ┆       ┆       ┆       ┆ 7     ┆       │\n",
       "│ 99% ┆ nul ┆ 205 ┆ 2086.0 ┆ 2091. ┆ 0.0   ┆ 0.0   ┆ 0.0   ┆ 5.929 ┆ 41357 ┆ 1.0   ┆ 9.703 ┆ 1.0   │\n",
       "│     ┆ l   ┆ 9.0 ┆        ┆ 0     ┆       ┆       ┆       ┆ 438e6 ┆ 6.0   ┆       ┆ 0186e ┆       │\n",
       "│     ┆     ┆     ┆        ┆       ┆       ┆       ┆       ┆       ┆       ┆       ┆ 7     ┆       │\n",
       "│ max ┆ [N- ┆ 208 ┆ 2109.0 ┆ 2109. ┆ 1.0   ┆ 1.0   ┆ 1.0   ┆ 5.971 ┆ 50017 ┆ 7.0   ┆ 9.841 ┆ 3.0   │\n",
       "│     ┆ ]=[ ┆ 4.0 ┆        ┆ 0     ┆       ┆       ┆       ┆ 682e6 ┆ 0.0   ┆       ┆ 5609e ┆       │\n",
       "│     ┆ N+] ┆     ┆        ┆       ┆       ┆       ┆       ┆       ┆       ┆       ┆ 7     ┆       │\n",
       "│     ┆ =NC ┆     ┆        ┆       ┆       ┆       ┆       ┆       ┆       ┆       ┆       ┆       │\n",
       "│     ┆ CC[ ┆     ┆        ┆       ┆       ┆       ┆       ┆       ┆       ┆       ┆       ┆       │\n",
       "│     ┆ C@H ┆     ┆        ┆       ┆       ┆       ┆       ┆       ┆       ┆       ┆       ┆       │\n",
       "│     ┆ ](N ┆     ┆        ┆       ┆       ┆       ┆       ┆       ┆       ┆       ┆       ┆       │\n",
       "│     ┆ c1n ┆     ┆        ┆       ┆       ┆       ┆       ┆       ┆       ┆       ┆       ┆       │\n",
       "│     ┆ c(N ┆     ┆        ┆       ┆       ┆       ┆       ┆       ┆       ┆       ┆       ┆       │\n",
       "│     ┆ c2n ┆     ┆        ┆       ┆       ┆       ┆       ┆       ┆       ┆       ┆       ┆       │\n",
       "│     ┆ oc… ┆     ┆        ┆       ┆       ┆       ┆       ┆       ┆       ┆       ┆       ┆       │\n",
       "└─────┴─────┴─────┴────────┴───────┴───────┴───────┴───────┴───────┴───────┴───────┴───────┴───────┘"
      ]
     },
     "execution_count": 46,
     "metadata": {},
     "output_type": "execute_result"
    }
   ],
   "source": [
    "final_test_df.describe(percentiles=PERCENTILES)"
   ]
  },
  {
   "cell_type": "code",
   "execution_count": null,
   "id": "bb3b0097",
   "metadata": {},
   "outputs": [],
   "source": []
  },
  {
   "cell_type": "code",
   "execution_count": null,
   "id": "672cfc50",
   "metadata": {},
   "outputs": [],
   "source": []
  },
  {
   "cell_type": "code",
   "execution_count": 50,
   "id": "7906ebd6",
   "metadata": {},
   "outputs": [
    {
     "data": {
      "text/html": [
       "<div><style>\n",
       ".dataframe > thead > tr,\n",
       ".dataframe > tbody > tr {\n",
       "  text-align: right;\n",
       "  white-space: pre-wrap;\n",
       "}\n",
       "</style>\n",
       "<small>shape: (1, 3)</small><table border=\"1\" class=\"dataframe\"><thead><tr><th>BRD4</th><th>HSA</th><th>sEH</th></tr><tr><td>f64</td><td>f64</td><td>f64</td></tr></thead><tbody><tr><td>0.477215</td><td>0.428311</td><td>0.758106</td></tr></tbody></table></div>"
      ],
      "text/plain": [
       "shape: (1, 3)\n",
       "┌──────────┬──────────┬──────────┐\n",
       "│ BRD4     ┆ HSA      ┆ sEH      │\n",
       "│ ---      ┆ ---      ┆ ---      │\n",
       "│ f64      ┆ f64      ┆ f64      │\n",
       "╞══════════╪══════════╪══════════╡\n",
       "│ 0.477215 ┆ 0.428311 ┆ 0.758106 │\n",
       "└──────────┴──────────┴──────────┘"
      ]
     },
     "execution_count": 50,
     "metadata": {},
     "output_type": "execute_result"
    }
   ],
   "source": [
    "final_train_df.select(pl.col('BRD4', 'HSA', 'sEH').mean() * 100)"
   ]
  },
  {
   "cell_type": "code",
   "execution_count": 48,
   "id": "ac01c497",
   "metadata": {},
   "outputs": [
    {
     "data": {
      "text/html": [
       "<div><style>\n",
       ".dataframe > thead > tr,\n",
       ".dataframe > tbody > tr {\n",
       "  text-align: right;\n",
       "  white-space: pre-wrap;\n",
       "}\n",
       "</style>\n",
       "<small>shape: (1, 12)</small><table border=\"1\" class=\"dataframe\"><thead><tr><th>molecule</th><th>bb1</th><th>bb2</th><th>bb3</th><th>BRD4</th><th>HSA</th><th>sEH</th><th>scaffold_idx</th><th>mol_per_scaf</th><th>label</th><th>ori_index</th><th>index</th></tr><tr><td>u32</td><td>u32</td><td>u32</td><td>u32</td><td>u32</td><td>u32</td><td>u32</td><td>u32</td><td>u32</td><td>u32</td><td>u32</td><td>u32</td></tr></thead><tbody><tr><td>66710159</td><td>238</td><td>601</td><td>769</td><td>2</td><td>2</td><td>2</td><td>4359915</td><td>2387</td><td>8</td><td>66710159</td><td>66710159</td></tr></tbody></table></div>"
      ],
      "text/plain": [
       "shape: (1, 12)\n",
       "┌──────────┬─────┬─────┬─────┬──────┬─────┬─────┬──────────┬──────────┬───────┬──────────┬─────────┐\n",
       "│ molecule ┆ bb1 ┆ bb2 ┆ bb3 ┆ BRD4 ┆ HSA ┆ sEH ┆ scaffold ┆ mol_per_ ┆ label ┆ ori_inde ┆ index   │\n",
       "│ ---      ┆ --- ┆ --- ┆ --- ┆ ---  ┆ --- ┆ --- ┆ _idx     ┆ scaf     ┆ ---   ┆ x        ┆ ---     │\n",
       "│ u32      ┆ u32 ┆ u32 ┆ u32 ┆ u32  ┆ u32 ┆ u32 ┆ ---      ┆ ---      ┆ u32   ┆ ---      ┆ u32     │\n",
       "│          ┆     ┆     ┆     ┆      ┆     ┆     ┆ u32      ┆ u32      ┆       ┆ u32      ┆         │\n",
       "╞══════════╪═════╪═════╪═════╪══════╪═════╪═════╪══════════╪══════════╪═══════╪══════════╪═════════╡\n",
       "│ 66710159 ┆ 238 ┆ 601 ┆ 769 ┆ 2    ┆ 2   ┆ 2   ┆ 4359915  ┆ 2387     ┆ 8     ┆ 66710159 ┆ 6671015 │\n",
       "│          ┆     ┆     ┆     ┆      ┆     ┆     ┆          ┆          ┆       ┆          ┆ 9       │\n",
       "└──────────┴─────┴─────┴─────┴──────┴─────┴─────┴──────────┴──────────┴───────┴──────────┴─────────┘"
      ]
     },
     "execution_count": 48,
     "metadata": {},
     "output_type": "execute_result"
    }
   ],
   "source": [
    "final_train_df.select(pl.n_unique('*'))"
   ]
  },
  {
   "cell_type": "code",
   "execution_count": 49,
   "id": "4731cbc8",
   "metadata": {},
   "outputs": [
    {
     "data": {
      "text/html": [
       "<div><style>\n",
       ".dataframe > thead > tr,\n",
       ".dataframe > tbody > tr {\n",
       "  text-align: right;\n",
       "  white-space: pre-wrap;\n",
       "}\n",
       "</style>\n",
       "<small>shape: (17, 13)</small><table border=\"1\" class=\"dataframe\"><thead><tr><th>statistic</th><th>molecule</th><th>bb1</th><th>bb2</th><th>bb3</th><th>BRD4</th><th>HSA</th><th>sEH</th><th>scaffold_idx</th><th>mol_per_scaf</th><th>label</th><th>ori_index</th><th>index</th></tr><tr><td>str</td><td>str</td><td>f64</td><td>f64</td><td>f64</td><td>f64</td><td>f64</td><td>f64</td><td>f64</td><td>f64</td><td>f64</td><td>f64</td><td>f64</td></tr></thead><tbody><tr><td>&quot;count&quot;</td><td>&quot;66710159&quot;</td><td>6.6710159e7</td><td>6.6710159e7</td><td>6.6710159e7</td><td>6.6710159e7</td><td>6.6710159e7</td><td>6.6710159e7</td><td>6.6710159e7</td><td>6.6710159e7</td><td>6.6710159e7</td><td>6.6710159e7</td><td>6.6710159e7</td></tr><tr><td>&quot;null_count&quot;</td><td>&quot;0&quot;</td><td>0.0</td><td>0.0</td><td>0.0</td><td>0.0</td><td>0.0</td><td>0.0</td><td>0.0</td><td>0.0</td><td>0.0</td><td>0.0</td><td>0.0</td></tr><tr><td>&quot;mean&quot;</td><td>null</td><td>1074.413092</td><td>1079.332427</td><td>1033.021232</td><td>0.004772</td><td>0.004283</td><td>0.007581</td><td>3.0227e6</td><td>14104.587721</td><td>0.035236</td><td>4.9485e7</td><td>3.3417e7</td></tr><tr><td>&quot;std&quot;</td><td>null</td><td>591.517029</td><td>609.725897</td><td>610.571276</td><td>0.068916</td><td>0.065305</td><td>0.086739</td><td>1.7249e6</td><td>55811.110771</td><td>0.321424</td><td>2.8744e7</td><td>1.9294e7</td></tr><tr><td>&quot;min&quot;</td><td>&quot;C#CCOc1ccc(CNc…</td><td>7.0</td><td>0.0</td><td>0.0</td><td>0.0</td><td>0.0</td><td>0.0</td><td>2.0</td><td>1.0</td><td>0.0</td><td>363110.0</td><td>0.0</td></tr><tr><td>&quot;1%&quot;</td><td>null</td><td>21.0</td><td>26.0</td><td>15.0</td><td>0.0</td><td>0.0</td><td>0.0</td><td>63750.0</td><td>1.0</td><td>0.0</td><td>1.227679e6</td><td>668354.0</td></tr><tr><td>&quot;2.5%&quot;</td><td>null</td><td>76.0</td><td>45.0</td><td>44.0</td><td>0.0</td><td>0.0</td><td>0.0</td><td>155462.0</td><td>1.0</td><td>0.0</td><td>2.523782e6</td><td>1.670883e6</td></tr><tr><td>&quot;5%&quot;</td><td>null</td><td>141.0</td><td>90.0</td><td>98.0</td><td>0.0</td><td>0.0</td><td>0.0</td><td>286317.0</td><td>3.0</td><td>0.0</td><td>4.686871e6</td><td>3.341846e6</td></tr><tr><td>&quot;10%&quot;</td><td>null</td><td>273.0</td><td>158.0</td><td>205.0</td><td>0.0</td><td>0.0</td><td>0.0</td><td>606564.0</td><td>8.0</td><td>0.0</td><td>9.734228e6</td><td>6.683334e6</td></tr><tr><td>&quot;25%&quot;</td><td>null</td><td>557.0</td><td>586.0</td><td>505.0</td><td>0.0</td><td>0.0</td><td>0.0</td><td>1.54123e6</td><td>48.0</td><td>0.0</td><td>2.3785911e7</td><td>1.6708368e7</td></tr><tr><td>&quot;50%&quot;</td><td>null</td><td>1066.0</td><td>1110.0</td><td>1033.0</td><td>0.0</td><td>0.0</td><td>0.0</td><td>3.022122e6</td><td>348.0</td><td>0.0</td><td>5.011534e7</td><td>3.3418387e7</td></tr><tr><td>&quot;75%&quot;</td><td>null</td><td>1600.0</td><td>1580.0</td><td>1541.0</td><td>0.0</td><td>0.0</td><td>0.0</td><td>4.551733e6</td><td>3657.0</td><td>0.0</td><td>7.4624815e7</td><td>5.0124904e7</td></tr><tr><td>&quot;90%&quot;</td><td>null</td><td>1922.0</td><td>1917.0</td><td>1890.0</td><td>0.0</td><td>0.0</td><td>0.0</td><td>5.387615e6</td><td>18348.0</td><td>0.0</td><td>8.8679775e7</td><td>6.0151414e7</td></tr><tr><td>&quot;95%&quot;</td><td>null</td><td>2013.0</td><td>2010.0</td><td>2012.0</td><td>0.0</td><td>0.0</td><td>0.0</td><td>5.684055e6</td><td>63850.0</td><td>0.0</td><td>9.3731906e7</td><td>6.3493814e7</td></tr><tr><td>&quot;97.5%&quot;</td><td>null</td><td>2050.0</td><td>2066.0</td><td>2076.0</td><td>0.0</td><td>0.0</td><td>0.0</td><td>5.841692e6</td><td>176859.0</td><td>0.0</td><td>9.6255603e7</td><td>6.5165203e7</td></tr><tr><td>&quot;99%&quot;</td><td>null</td><td>2061.0</td><td>2092.0</td><td>2096.0</td><td>0.0</td><td>0.0</td><td>0.0</td><td>5.928811e6</td><td>334990.0</td><td>1.0</td><td>9.7548591e7</td><td>6.616785e7</td></tr><tr><td>&quot;max&quot;</td><td>&quot;[N-]=[N+]=NCCC…</td><td>2084.0</td><td>2109.0</td><td>2109.0</td><td>1.0</td><td>1.0</td><td>1.0</td><td>5.971684e6</td><td>500170.0</td><td>7.0</td><td>9.8414971e7</td><td>6.6836164e7</td></tr></tbody></table></div>"
      ],
      "text/plain": [
       "shape: (17, 13)\n",
       "┌─────┬─────┬─────┬────────┬───────┬───────┬───────┬───────┬───────┬───────┬───────┬───────┬───────┐\n",
       "│ sta ┆ mol ┆ bb1 ┆ bb2    ┆ bb3   ┆ BRD4  ┆ HSA   ┆ sEH   ┆ scaff ┆ mol_p ┆ label ┆ ori_i ┆ index │\n",
       "│ tis ┆ ecu ┆ --- ┆ ---    ┆ ---   ┆ ---   ┆ ---   ┆ ---   ┆ old_i ┆ er_sc ┆ ---   ┆ ndex  ┆ ---   │\n",
       "│ tic ┆ le  ┆ f64 ┆ f64    ┆ f64   ┆ f64   ┆ f64   ┆ f64   ┆ dx    ┆ af    ┆ f64   ┆ ---   ┆ f64   │\n",
       "│ --- ┆ --- ┆     ┆        ┆       ┆       ┆       ┆       ┆ ---   ┆ ---   ┆       ┆ f64   ┆       │\n",
       "│ str ┆ str ┆     ┆        ┆       ┆       ┆       ┆       ┆ f64   ┆ f64   ┆       ┆       ┆       │\n",
       "╞═════╪═════╪═════╪════════╪═══════╪═══════╪═══════╪═══════╪═══════╪═══════╪═══════╪═══════╪═══════╡\n",
       "│ cou ┆ 667 ┆ 6.6 ┆ 6.6710 ┆ 6.671 ┆ 6.671 ┆ 6.671 ┆ 6.671 ┆ 6.671 ┆ 6.671 ┆ 6.671 ┆ 6.671 ┆ 6.671 │\n",
       "│ nt  ┆ 101 ┆ 710 ┆ 159e7  ┆ 0159e ┆ 0159e ┆ 0159e ┆ 0159e ┆ 0159e ┆ 0159e ┆ 0159e ┆ 0159e ┆ 0159e │\n",
       "│     ┆ 59  ┆ 159 ┆        ┆ 7     ┆ 7     ┆ 7     ┆ 7     ┆ 7     ┆ 7     ┆ 7     ┆ 7     ┆ 7     │\n",
       "│     ┆     ┆ e7  ┆        ┆       ┆       ┆       ┆       ┆       ┆       ┆       ┆       ┆       │\n",
       "│ nul ┆ 0   ┆ 0.0 ┆ 0.0    ┆ 0.0   ┆ 0.0   ┆ 0.0   ┆ 0.0   ┆ 0.0   ┆ 0.0   ┆ 0.0   ┆ 0.0   ┆ 0.0   │\n",
       "│ l_c ┆     ┆     ┆        ┆       ┆       ┆       ┆       ┆       ┆       ┆       ┆       ┆       │\n",
       "│ oun ┆     ┆     ┆        ┆       ┆       ┆       ┆       ┆       ┆       ┆       ┆       ┆       │\n",
       "│ t   ┆     ┆     ┆        ┆       ┆       ┆       ┆       ┆       ┆       ┆       ┆       ┆       │\n",
       "│ mea ┆ nul ┆ 107 ┆ 1079.3 ┆ 1033. ┆ 0.004 ┆ 0.004 ┆ 0.007 ┆ 3.022 ┆ 14104 ┆ 0.035 ┆ 4.948 ┆ 3.341 │\n",
       "│ n   ┆ l   ┆ 4.4 ┆ 32427  ┆ 02123 ┆ 772   ┆ 283   ┆ 581   ┆ 7e6   ┆ .5877 ┆ 236   ┆ 5e7   ┆ 7e7   │\n",
       "│     ┆     ┆ 130 ┆        ┆ 2     ┆       ┆       ┆       ┆       ┆ 21    ┆       ┆       ┆       │\n",
       "│     ┆     ┆ 92  ┆        ┆       ┆       ┆       ┆       ┆       ┆       ┆       ┆       ┆       │\n",
       "│ std ┆ nul ┆ 591 ┆ 609.72 ┆ 610.5 ┆ 0.068 ┆ 0.065 ┆ 0.086 ┆ 1.724 ┆ 55811 ┆ 0.321 ┆ 2.874 ┆ 1.929 │\n",
       "│     ┆ l   ┆ .51 ┆ 5897   ┆ 71276 ┆ 916   ┆ 305   ┆ 739   ┆ 9e6   ┆ .1107 ┆ 424   ┆ 4e7   ┆ 4e7   │\n",
       "│     ┆     ┆ 702 ┆        ┆       ┆       ┆       ┆       ┆       ┆ 71    ┆       ┆       ┆       │\n",
       "│     ┆     ┆ 9   ┆        ┆       ┆       ┆       ┆       ┆       ┆       ┆       ┆       ┆       │\n",
       "│ min ┆ C#C ┆ 7.0 ┆ 0.0    ┆ 0.0   ┆ 0.0   ┆ 0.0   ┆ 0.0   ┆ 2.0   ┆ 1.0   ┆ 0.0   ┆ 36311 ┆ 0.0   │\n",
       "│     ┆ COc ┆     ┆        ┆       ┆       ┆       ┆       ┆       ┆       ┆       ┆ 0.0   ┆       │\n",
       "│     ┆ 1cc ┆     ┆        ┆       ┆       ┆       ┆       ┆       ┆       ┆       ┆       ┆       │\n",
       "│     ┆ c(C ┆     ┆        ┆       ┆       ┆       ┆       ┆       ┆       ┆       ┆       ┆       │\n",
       "│     ┆ Nc2 ┆     ┆        ┆       ┆       ┆       ┆       ┆       ┆       ┆       ┆       ┆       │\n",
       "│     ┆ nc( ┆     ┆        ┆       ┆       ┆       ┆       ┆       ┆       ┆       ┆       ┆       │\n",
       "│     ┆ NC( ┆     ┆        ┆       ┆       ┆       ┆       ┆       ┆       ┆       ┆       ┆       │\n",
       "│     ┆ =N) ┆     ┆        ┆       ┆       ┆       ┆       ┆       ┆       ┆       ┆       ┆       │\n",
       "│     ┆ CCC ┆     ┆        ┆       ┆       ┆       ┆       ┆       ┆       ┆       ┆       ┆       │\n",
       "│     ┆ N)n ┆     ┆        ┆       ┆       ┆       ┆       ┆       ┆       ┆       ┆       ┆       │\n",
       "│     ┆ c(… ┆     ┆        ┆       ┆       ┆       ┆       ┆       ┆       ┆       ┆       ┆       │\n",
       "│ 1%  ┆ nul ┆ 21. ┆ 26.0   ┆ 15.0  ┆ 0.0   ┆ 0.0   ┆ 0.0   ┆ 63750 ┆ 1.0   ┆ 0.0   ┆ 1.227 ┆ 66835 │\n",
       "│     ┆ l   ┆ 0   ┆        ┆       ┆       ┆       ┆       ┆ .0    ┆       ┆       ┆ 679e6 ┆ 4.0   │\n",
       "│ 2.5 ┆ nul ┆ 76. ┆ 45.0   ┆ 44.0  ┆ 0.0   ┆ 0.0   ┆ 0.0   ┆ 15546 ┆ 1.0   ┆ 0.0   ┆ 2.523 ┆ 1.670 │\n",
       "│ %   ┆ l   ┆ 0   ┆        ┆       ┆       ┆       ┆       ┆ 2.0   ┆       ┆       ┆ 782e6 ┆ 883e6 │\n",
       "│ 5%  ┆ nul ┆ 141 ┆ 90.0   ┆ 98.0  ┆ 0.0   ┆ 0.0   ┆ 0.0   ┆ 28631 ┆ 3.0   ┆ 0.0   ┆ 4.686 ┆ 3.341 │\n",
       "│     ┆ l   ┆ .0  ┆        ┆       ┆       ┆       ┆       ┆ 7.0   ┆       ┆       ┆ 871e6 ┆ 846e6 │\n",
       "│ 10% ┆ nul ┆ 273 ┆ 158.0  ┆ 205.0 ┆ 0.0   ┆ 0.0   ┆ 0.0   ┆ 60656 ┆ 8.0   ┆ 0.0   ┆ 9.734 ┆ 6.683 │\n",
       "│     ┆ l   ┆ .0  ┆        ┆       ┆       ┆       ┆       ┆ 4.0   ┆       ┆       ┆ 228e6 ┆ 334e6 │\n",
       "│ 25% ┆ nul ┆ 557 ┆ 586.0  ┆ 505.0 ┆ 0.0   ┆ 0.0   ┆ 0.0   ┆ 1.541 ┆ 48.0  ┆ 0.0   ┆ 2.378 ┆ 1.670 │\n",
       "│     ┆ l   ┆ .0  ┆        ┆       ┆       ┆       ┆       ┆ 23e6  ┆       ┆       ┆ 5911e ┆ 8368e │\n",
       "│     ┆     ┆     ┆        ┆       ┆       ┆       ┆       ┆       ┆       ┆       ┆ 7     ┆ 7     │\n",
       "│ 50% ┆ nul ┆ 106 ┆ 1110.0 ┆ 1033. ┆ 0.0   ┆ 0.0   ┆ 0.0   ┆ 3.022 ┆ 348.0 ┆ 0.0   ┆ 5.011 ┆ 3.341 │\n",
       "│     ┆ l   ┆ 6.0 ┆        ┆ 0     ┆       ┆       ┆       ┆ 122e6 ┆       ┆       ┆ 534e7 ┆ 8387e │\n",
       "│     ┆     ┆     ┆        ┆       ┆       ┆       ┆       ┆       ┆       ┆       ┆       ┆ 7     │\n",
       "│ 75% ┆ nul ┆ 160 ┆ 1580.0 ┆ 1541. ┆ 0.0   ┆ 0.0   ┆ 0.0   ┆ 4.551 ┆ 3657. ┆ 0.0   ┆ 7.462 ┆ 5.012 │\n",
       "│     ┆ l   ┆ 0.0 ┆        ┆ 0     ┆       ┆       ┆       ┆ 733e6 ┆ 0     ┆       ┆ 4815e ┆ 4904e │\n",
       "│     ┆     ┆     ┆        ┆       ┆       ┆       ┆       ┆       ┆       ┆       ┆ 7     ┆ 7     │\n",
       "│ 90% ┆ nul ┆ 192 ┆ 1917.0 ┆ 1890. ┆ 0.0   ┆ 0.0   ┆ 0.0   ┆ 5.387 ┆ 18348 ┆ 0.0   ┆ 8.867 ┆ 6.015 │\n",
       "│     ┆ l   ┆ 2.0 ┆        ┆ 0     ┆       ┆       ┆       ┆ 615e6 ┆ .0    ┆       ┆ 9775e ┆ 1414e │\n",
       "│     ┆     ┆     ┆        ┆       ┆       ┆       ┆       ┆       ┆       ┆       ┆ 7     ┆ 7     │\n",
       "│ 95% ┆ nul ┆ 201 ┆ 2010.0 ┆ 2012. ┆ 0.0   ┆ 0.0   ┆ 0.0   ┆ 5.684 ┆ 63850 ┆ 0.0   ┆ 9.373 ┆ 6.349 │\n",
       "│     ┆ l   ┆ 3.0 ┆        ┆ 0     ┆       ┆       ┆       ┆ 055e6 ┆ .0    ┆       ┆ 1906e ┆ 3814e │\n",
       "│     ┆     ┆     ┆        ┆       ┆       ┆       ┆       ┆       ┆       ┆       ┆ 7     ┆ 7     │\n",
       "│ 97. ┆ nul ┆ 205 ┆ 2066.0 ┆ 2076. ┆ 0.0   ┆ 0.0   ┆ 0.0   ┆ 5.841 ┆ 17685 ┆ 0.0   ┆ 9.625 ┆ 6.516 │\n",
       "│ 5%  ┆ l   ┆ 0.0 ┆        ┆ 0     ┆       ┆       ┆       ┆ 692e6 ┆ 9.0   ┆       ┆ 5603e ┆ 5203e │\n",
       "│     ┆     ┆     ┆        ┆       ┆       ┆       ┆       ┆       ┆       ┆       ┆ 7     ┆ 7     │\n",
       "│ 99% ┆ nul ┆ 206 ┆ 2092.0 ┆ 2096. ┆ 0.0   ┆ 0.0   ┆ 0.0   ┆ 5.928 ┆ 33499 ┆ 1.0   ┆ 9.754 ┆ 6.616 │\n",
       "│     ┆ l   ┆ 1.0 ┆        ┆ 0     ┆       ┆       ┆       ┆ 811e6 ┆ 0.0   ┆       ┆ 8591e ┆ 785e7 │\n",
       "│     ┆     ┆     ┆        ┆       ┆       ┆       ┆       ┆       ┆       ┆       ┆ 7     ┆       │\n",
       "│ max ┆ [N- ┆ 208 ┆ 2109.0 ┆ 2109. ┆ 1.0   ┆ 1.0   ┆ 1.0   ┆ 5.971 ┆ 50017 ┆ 7.0   ┆ 9.841 ┆ 6.683 │\n",
       "│     ┆ ]=[ ┆ 4.0 ┆        ┆ 0     ┆       ┆       ┆       ┆ 684e6 ┆ 0.0   ┆       ┆ 4971e ┆ 6164e │\n",
       "│     ┆ N+] ┆     ┆        ┆       ┆       ┆       ┆       ┆       ┆       ┆       ┆ 7     ┆ 7     │\n",
       "│     ┆ =NC ┆     ┆        ┆       ┆       ┆       ┆       ┆       ┆       ┆       ┆       ┆       │\n",
       "│     ┆ CC[ ┆     ┆        ┆       ┆       ┆       ┆       ┆       ┆       ┆       ┆       ┆       │\n",
       "│     ┆ C@H ┆     ┆        ┆       ┆       ┆       ┆       ┆       ┆       ┆       ┆       ┆       │\n",
       "│     ┆ ](N ┆     ┆        ┆       ┆       ┆       ┆       ┆       ┆       ┆       ┆       ┆       │\n",
       "│     ┆ c1n ┆     ┆        ┆       ┆       ┆       ┆       ┆       ┆       ┆       ┆       ┆       │\n",
       "│     ┆ c(N ┆     ┆        ┆       ┆       ┆       ┆       ┆       ┆       ┆       ┆       ┆       │\n",
       "│     ┆ c2n ┆     ┆        ┆       ┆       ┆       ┆       ┆       ┆       ┆       ┆       ┆       │\n",
       "│     ┆ nn… ┆     ┆        ┆       ┆       ┆       ┆       ┆       ┆       ┆       ┆       ┆       │\n",
       "└─────┴─────┴─────┴────────┴───────┴───────┴───────┴───────┴───────┴───────┴───────┴───────┴───────┘"
      ]
     },
     "execution_count": 49,
     "metadata": {},
     "output_type": "execute_result"
    }
   ],
   "source": [
    "final_train_df.describe(percentiles=PERCENTILES)"
   ]
  },
  {
   "cell_type": "code",
   "execution_count": null,
   "id": "0a172872",
   "metadata": {},
   "outputs": [],
   "source": []
  },
  {
   "cell_type": "code",
   "execution_count": null,
   "id": "274a1fe0",
   "metadata": {},
   "outputs": [],
   "source": []
  },
  {
   "cell_type": "code",
   "execution_count": 51,
   "id": "1bbbc636",
   "metadata": {},
   "outputs": [
    {
     "data": {
      "text/plain": [
       "31705451"
      ]
     },
     "execution_count": 51,
     "metadata": {},
     "output_type": "execute_result"
    }
   ],
   "source": [
    "len(final_test_df['ori_index'].to_list())"
   ]
  },
  {
   "cell_type": "code",
   "execution_count": 56,
   "id": "04cf56d2",
   "metadata": {},
   "outputs": [],
   "source": [
    "final_test_df.select('ori_index', 'subset').rename({'ori_index': 'index'}).write_csv('/home/dangnh36/datasets/competitions/leash_belka/processed/cv/v1/val.csv')"
   ]
  },
  {
   "cell_type": "code",
   "execution_count": 57,
   "id": "0bc8e2da",
   "metadata": {},
   "outputs": [],
   "source": [
    "final_train_df.select('ori_index').rename({'ori_index': 'index'}).write_csv('/home/dangnh36/datasets/competitions/leash_belka/processed/cv/v1/train.csv')"
   ]
  },
  {
   "cell_type": "code",
   "execution_count": null,
   "id": "1d7e0bbd",
   "metadata": {},
   "outputs": [],
   "source": []
  },
  {
   "cell_type": "code",
   "execution_count": 4,
   "id": "778e509f",
   "metadata": {},
   "outputs": [
    {
     "data": {
      "text/html": [
       "<div><style>\n",
       ".dataframe > thead > tr,\n",
       ".dataframe > tbody > tr {\n",
       "  text-align: right;\n",
       "  white-space: pre-wrap;\n",
       "}\n",
       "</style>\n",
       "<small>shape: (66_710_159, 1)</small><table border=\"1\" class=\"dataframe\"><thead><tr><th>index</th></tr><tr><td>i64</td></tr></thead><tbody><tr><td>363110</td></tr><tr><td>363111</td></tr><tr><td>363112</td></tr><tr><td>363113</td></tr><tr><td>363114</td></tr><tr><td>363115</td></tr><tr><td>363116</td></tr><tr><td>363118</td></tr><tr><td>363119</td></tr><tr><td>363120</td></tr><tr><td>&hellip;</td></tr><tr><td>98414962</td></tr><tr><td>98414963</td></tr><tr><td>98414964</td></tr><tr><td>98414965</td></tr><tr><td>98414966</td></tr><tr><td>98414967</td></tr><tr><td>98414968</td></tr><tr><td>98414969</td></tr><tr><td>98414970</td></tr><tr><td>98414971</td></tr></tbody></table></div>"
      ],
      "text/plain": [
       "shape: (66_710_159, 1)\n",
       "┌──────────┐\n",
       "│ index    │\n",
       "│ ---      │\n",
       "│ i64      │\n",
       "╞══════════╡\n",
       "│ 363110   │\n",
       "│ 363111   │\n",
       "│ 363112   │\n",
       "│ 363113   │\n",
       "│ 363114   │\n",
       "│ 363115   │\n",
       "│ 363116   │\n",
       "│ 363118   │\n",
       "│ 363119   │\n",
       "│ 363120   │\n",
       "│ …        │\n",
       "│ 98414962 │\n",
       "│ 98414963 │\n",
       "│ 98414964 │\n",
       "│ 98414965 │\n",
       "│ 98414966 │\n",
       "│ 98414967 │\n",
       "│ 98414968 │\n",
       "│ 98414969 │\n",
       "│ 98414970 │\n",
       "│ 98414971 │\n",
       "└──────────┘"
      ]
     },
     "execution_count": 4,
     "metadata": {},
     "output_type": "execute_result"
    }
   ],
   "source": [
    "tmp = pl.scan_csv('/home/dangnh36/datasets/competitions/leash_belka/processed/cv/v1/train.csv').collect().sort('index')\n",
    "tmp"
   ]
  },
  {
   "cell_type": "code",
   "execution_count": 15,
   "id": "e8b3e1f2",
   "metadata": {},
   "outputs": [
    {
     "data": {
      "text/html": [
       "<div><style>\n",
       ".dataframe > thead > tr,\n",
       ".dataframe > tbody > tr {\n",
       "  text-align: right;\n",
       "  white-space: pre-wrap;\n",
       "}\n",
       "</style>\n",
       "<small>shape: (98_415_610, 11)</small><table border=\"1\" class=\"dataframe\"><thead><tr><th>molecule</th><th>bb1</th><th>bb2</th><th>bb3</th><th>BRD4</th><th>HSA</th><th>sEH</th><th>scaffold_idx</th><th>mol_per_scaf</th><th>label</th><th>ori_index</th></tr><tr><td>str</td><td>u16</td><td>u16</td><td>u16</td><td>u8</td><td>u8</td><td>u8</td><td>i64</td><td>u32</td><td>u8</td><td>i64</td></tr></thead><tbody><tr><td>&quot;C#CCOc1ccc(CNc…</td><td>1640</td><td>1653</td><td>765</td><td>0</td><td>0</td><td>0</td><td>4283326</td><td>844</td><td>0</td><td>0</td></tr><tr><td>&quot;C#CCOc1ccc(CNc…</td><td>1640</td><td>1653</td><td>205</td><td>0</td><td>0</td><td>0</td><td>4486646</td><td>9444</td><td>0</td><td>1</td></tr><tr><td>&quot;C#CCOc1ccc(CNc…</td><td>1640</td><td>1653</td><td>1653</td><td>0</td><td>0</td><td>0</td><td>1015728</td><td>9030</td><td>0</td><td>2</td></tr><tr><td>&quot;C#CCOc1ccc(CNc…</td><td>1640</td><td>1653</td><td>146</td><td>0</td><td>0</td><td>0</td><td>5301385</td><td>26814</td><td>0</td><td>3</td></tr><tr><td>&quot;C#CCOc1ccc(CNc…</td><td>1640</td><td>1653</td><td>439</td><td>0</td><td>0</td><td>0</td><td>5301385</td><td>26814</td><td>0</td><td>4</td></tr><tr><td>&quot;C#CCOc1ccc(CNc…</td><td>1640</td><td>1653</td><td>196</td><td>0</td><td>0</td><td>0</td><td>5301385</td><td>26814</td><td>0</td><td>5</td></tr><tr><td>&quot;C#CCOc1ccc(CNc…</td><td>1640</td><td>1653</td><td>253</td><td>0</td><td>0</td><td>0</td><td>5301385</td><td>26814</td><td>0</td><td>6</td></tr><tr><td>&quot;C#CCOc1ccc(CNc…</td><td>1640</td><td>1653</td><td>1219</td><td>0</td><td>0</td><td>0</td><td>5301385</td><td>26814</td><td>0</td><td>7</td></tr><tr><td>&quot;C#CCOc1ccc(CNc…</td><td>1640</td><td>1653</td><td>604</td><td>0</td><td>0</td><td>0</td><td>543172</td><td>844</td><td>0</td><td>8</td></tr><tr><td>&quot;C#CCOc1ccc(CNc…</td><td>1640</td><td>1653</td><td>121</td><td>0</td><td>0</td><td>0</td><td>2571428</td><td>864</td><td>0</td><td>9</td></tr><tr><td>&hellip;</td><td>&hellip;</td><td>&hellip;</td><td>&hellip;</td><td>&hellip;</td><td>&hellip;</td><td>&hellip;</td><td>&hellip;</td><td>&hellip;</td><td>&hellip;</td><td>&hellip;</td></tr><tr><td>&quot;[N-]=[N+]=NCCC…</td><td>141</td><td>1415</td><td>536</td><td>0</td><td>0</td><td>0</td><td>4068980</td><td>276</td><td>0</td><td>98415600</td></tr><tr><td>&quot;[N-]=[N+]=NCCC…</td><td>141</td><td>1415</td><td>1367</td><td>0</td><td>0</td><td>0</td><td>2088996</td><td>20</td><td>0</td><td>98415601</td></tr><tr><td>&quot;[N-]=[N+]=NCCC…</td><td>141</td><td>1415</td><td>329</td><td>0</td><td>0</td><td>0</td><td>3192765</td><td>260</td><td>0</td><td>98415602</td></tr><tr><td>&quot;[N-]=[N+]=NCCC…</td><td>141</td><td>1415</td><td>757</td><td>0</td><td>0</td><td>0</td><td>4085046</td><td>20</td><td>0</td><td>98415603</td></tr><tr><td>&quot;[N-]=[N+]=NCCC…</td><td>141</td><td>1415</td><td>335</td><td>0</td><td>0</td><td>0</td><td>4087757</td><td>20</td><td>0</td><td>98415604</td></tr><tr><td>&quot;[N-]=[N+]=NCCC…</td><td>141</td><td>1415</td><td>1792</td><td>0</td><td>0</td><td>0</td><td>4674025</td><td>20</td><td>0</td><td>98415605</td></tr><tr><td>&quot;[N-]=[N+]=NCCC…</td><td>141</td><td>1415</td><td>1178</td><td>0</td><td>0</td><td>0</td><td>5240137</td><td>60</td><td>0</td><td>98415606</td></tr><tr><td>&quot;[N-]=[N+]=NCCC…</td><td>141</td><td>1415</td><td>1699</td><td>0</td><td>0</td><td>0</td><td>5240137</td><td>60</td><td>0</td><td>98415607</td></tr><tr><td>&quot;[N-]=[N+]=NCCC…</td><td>141</td><td>1415</td><td>1308</td><td>0</td><td>0</td><td>0</td><td>3617024</td><td>20</td><td>0</td><td>98415608</td></tr><tr><td>&quot;[N-]=[N+]=NCCC…</td><td>141</td><td>1415</td><td>1415</td><td>0</td><td>0</td><td>0</td><td>268351</td><td>20</td><td>0</td><td>98415609</td></tr></tbody></table></div>"
      ],
      "text/plain": [
       "shape: (98_415_610, 11)\n",
       "┌────────────┬──────┬──────┬──────┬──────┬─────┬─────┬────────────┬────────────┬───────┬───────────┐\n",
       "│ molecule   ┆ bb1  ┆ bb2  ┆ bb3  ┆ BRD4 ┆ HSA ┆ sEH ┆ scaffold_i ┆ mol_per_sc ┆ label ┆ ori_index │\n",
       "│ ---        ┆ ---  ┆ ---  ┆ ---  ┆ ---  ┆ --- ┆ --- ┆ dx         ┆ af         ┆ ---   ┆ ---       │\n",
       "│ str        ┆ u16  ┆ u16  ┆ u16  ┆ u8   ┆ u8  ┆ u8  ┆ ---        ┆ ---        ┆ u8    ┆ i64       │\n",
       "│            ┆      ┆      ┆      ┆      ┆     ┆     ┆ i64        ┆ u32        ┆       ┆           │\n",
       "╞════════════╪══════╪══════╪══════╪══════╪═════╪═════╪════════════╪════════════╪═══════╪═══════════╡\n",
       "│ C#CCOc1ccc ┆ 1640 ┆ 1653 ┆ 765  ┆ 0    ┆ 0   ┆ 0   ┆ 4283326    ┆ 844        ┆ 0     ┆ 0         │\n",
       "│ (CNc2nc(NC ┆      ┆      ┆      ┆      ┆     ┆     ┆            ┆            ┆       ┆           │\n",
       "│ C3CCCN3c3c ┆      ┆      ┆      ┆      ┆     ┆     ┆            ┆            ┆       ┆           │\n",
       "│ cc…        ┆      ┆      ┆      ┆      ┆     ┆     ┆            ┆            ┆       ┆           │\n",
       "│ C#CCOc1ccc ┆ 1640 ┆ 1653 ┆ 205  ┆ 0    ┆ 0   ┆ 0   ┆ 4486646    ┆ 9444       ┆ 0     ┆ 1         │\n",
       "│ (CNc2nc(NC ┆      ┆      ┆      ┆      ┆     ┆     ┆            ┆            ┆       ┆           │\n",
       "│ c3cccc(Br) ┆      ┆      ┆      ┆      ┆     ┆     ┆            ┆            ┆       ┆           │\n",
       "│ n3…        ┆      ┆      ┆      ┆      ┆     ┆     ┆            ┆            ┆       ┆           │\n",
       "│ C#CCOc1ccc ┆ 1640 ┆ 1653 ┆ 1653 ┆ 0    ┆ 0   ┆ 0   ┆ 1015728    ┆ 9030       ┆ 0     ┆ 2         │\n",
       "│ (CNc2nc(NC ┆      ┆      ┆      ┆      ┆     ┆     ┆            ┆            ┆       ┆           │\n",
       "│ c3ccc(OCC# ┆      ┆      ┆      ┆      ┆     ┆     ┆            ┆            ┆       ┆           │\n",
       "│ C)…        ┆      ┆      ┆      ┆      ┆     ┆     ┆            ┆            ┆       ┆           │\n",
       "│ C#CCOc1ccc ┆ 1640 ┆ 1653 ┆ 146  ┆ 0    ┆ 0   ┆ 0   ┆ 5301385    ┆ 26814      ┆ 0     ┆ 3         │\n",
       "│ (CNc2nc(NC ┆      ┆      ┆      ┆      ┆     ┆     ┆            ┆            ┆       ┆           │\n",
       "│ CNC(=O)C(= ┆      ┆      ┆      ┆      ┆     ┆     ┆            ┆            ┆       ┆           │\n",
       "│ C)…        ┆      ┆      ┆      ┆      ┆     ┆     ┆            ┆            ┆       ┆           │\n",
       "│ C#CCOc1ccc ┆ 1640 ┆ 1653 ┆ 439  ┆ 0    ┆ 0   ┆ 0   ┆ 5301385    ┆ 26814      ┆ 0     ┆ 4         │\n",
       "│ (CNc2nc(NC ┆      ┆      ┆      ┆      ┆     ┆     ┆            ┆            ┆       ┆           │\n",
       "│ C(=O)NCC=C ┆      ┆      ┆      ┆      ┆     ┆     ┆            ┆            ┆       ┆           │\n",
       "│ )n…        ┆      ┆      ┆      ┆      ┆     ┆     ┆            ┆            ┆       ┆           │\n",
       "│ C#CCOc1ccc ┆ 1640 ┆ 1653 ┆ 196  ┆ 0    ┆ 0   ┆ 0   ┆ 5301385    ┆ 26814      ┆ 0     ┆ 5         │\n",
       "│ (CNc2nc(NC ┆      ┆      ┆      ┆      ┆     ┆     ┆            ┆            ┆       ┆           │\n",
       "│ C(C)OCC=C) ┆      ┆      ┆      ┆      ┆     ┆     ┆            ┆            ┆       ┆           │\n",
       "│ nc…        ┆      ┆      ┆      ┆      ┆     ┆     ┆            ┆            ┆       ┆           │\n",
       "│ C#CCOc1ccc ┆ 1640 ┆ 1653 ┆ 253  ┆ 0    ┆ 0   ┆ 0   ┆ 5301385    ┆ 26814      ┆ 0     ┆ 6         │\n",
       "│ (CNc2nc(NC ┆      ┆      ┆      ┆      ┆     ┆     ┆            ┆            ┆       ┆           │\n",
       "│ CCOCC=C)nc ┆      ┆      ┆      ┆      ┆     ┆     ┆            ┆            ┆       ┆           │\n",
       "│ (N…        ┆      ┆      ┆      ┆      ┆     ┆     ┆            ┆            ┆       ┆           │\n",
       "│ C#CCOc1ccc ┆ 1640 ┆ 1653 ┆ 1219 ┆ 0    ┆ 0   ┆ 0   ┆ 5301385    ┆ 26814      ┆ 0     ┆ 7         │\n",
       "│ (CNc2nc(NC ┆      ┆      ┆      ┆      ┆     ┆     ┆            ┆            ┆       ┆           │\n",
       "│ COCC=C)nc( ┆      ┆      ┆      ┆      ┆     ┆     ┆            ┆            ┆       ┆           │\n",
       "│ N[…        ┆      ┆      ┆      ┆      ┆     ┆     ┆            ┆            ┆       ┆           │\n",
       "│ C#CCOc1ccc ┆ 1640 ┆ 1653 ┆ 604  ┆ 0    ┆ 0   ┆ 0   ┆ 543172     ┆ 844        ┆ 0     ┆ 8         │\n",
       "│ (CNc2nc(Nc ┆      ┆      ┆      ┆      ┆     ┆     ┆            ┆            ┆       ┆           │\n",
       "│ 3cnn(C4CCN ┆      ┆      ┆      ┆      ┆     ┆     ┆            ┆            ┆       ┆           │\n",
       "│ (C…        ┆      ┆      ┆      ┆      ┆     ┆     ┆            ┆            ┆       ┆           │\n",
       "│ C#CCOc1ccc ┆ 1640 ┆ 1653 ┆ 121  ┆ 0    ┆ 0   ┆ 0   ┆ 2571428    ┆ 864        ┆ 0     ┆ 9         │\n",
       "│ (CNc2nc(Nc ┆      ┆      ┆      ┆      ┆     ┆     ┆            ┆            ┆       ┆           │\n",
       "│ 3n[nH]c4c3 ┆      ┆      ┆      ┆      ┆     ┆     ┆            ┆            ┆       ┆           │\n",
       "│ CN…        ┆      ┆      ┆      ┆      ┆     ┆     ┆            ┆            ┆       ┆           │\n",
       "│ …          ┆ …    ┆ …    ┆ …    ┆ …    ┆ …   ┆ …   ┆ …          ┆ …          ┆ …     ┆ …         │\n",
       "│ [N-]=[N+]= ┆ 141  ┆ 1415 ┆ 536  ┆ 0    ┆ 0   ┆ 0   ┆ 4068980    ┆ 276        ┆ 0     ┆ 98415600  │\n",
       "│ NCCC[C@H]( ┆      ┆      ┆      ┆      ┆     ┆     ┆            ┆            ┆       ┆           │\n",
       "│ Nc1nc(Nc2n ┆      ┆      ┆      ┆      ┆     ┆     ┆            ┆            ┆       ┆           │\n",
       "│ cc…        ┆      ┆      ┆      ┆      ┆     ┆     ┆            ┆            ┆       ┆           │\n",
       "│ [N-]=[N+]= ┆ 141  ┆ 1415 ┆ 1367 ┆ 0    ┆ 0   ┆ 0   ┆ 2088996    ┆ 20         ┆ 0     ┆ 98415601  │\n",
       "│ NCCC[C@H]( ┆      ┆      ┆      ┆      ┆     ┆     ┆            ┆            ┆       ┆           │\n",
       "│ Nc1nc(Nc2n ┆      ┆      ┆      ┆      ┆     ┆     ┆            ┆            ┆       ┆           │\n",
       "│ cn…        ┆      ┆      ┆      ┆      ┆     ┆     ┆            ┆            ┆       ┆           │\n",
       "│ [N-]=[N+]= ┆ 141  ┆ 1415 ┆ 329  ┆ 0    ┆ 0   ┆ 0   ┆ 3192765    ┆ 260        ┆ 0     ┆ 98415602  │\n",
       "│ NCCC[C@H]( ┆      ┆      ┆      ┆      ┆     ┆     ┆            ┆            ┆       ┆           │\n",
       "│ Nc1nc(Nc2n ┆      ┆      ┆      ┆      ┆     ┆     ┆            ┆            ┆       ┆           │\n",
       "│ cn…        ┆      ┆      ┆      ┆      ┆     ┆     ┆            ┆            ┆       ┆           │\n",
       "│ [N-]=[N+]= ┆ 141  ┆ 1415 ┆ 757  ┆ 0    ┆ 0   ┆ 0   ┆ 4085046    ┆ 20         ┆ 0     ┆ 98415603  │\n",
       "│ NCCC[C@H]( ┆      ┆      ┆      ┆      ┆     ┆     ┆            ┆            ┆       ┆           │\n",
       "│ Nc1nc(Nc2n ┆      ┆      ┆      ┆      ┆     ┆     ┆            ┆            ┆       ┆           │\n",
       "│ oc…        ┆      ┆      ┆      ┆      ┆     ┆     ┆            ┆            ┆       ┆           │\n",
       "│ [N-]=[N+]= ┆ 141  ┆ 1415 ┆ 335  ┆ 0    ┆ 0   ┆ 0   ┆ 4087757    ┆ 20         ┆ 0     ┆ 98415604  │\n",
       "│ NCCC[C@H]( ┆      ┆      ┆      ┆      ┆     ┆     ┆            ┆            ┆       ┆           │\n",
       "│ Nc1nc(Nc2n ┆      ┆      ┆      ┆      ┆     ┆     ┆            ┆            ┆       ┆           │\n",
       "│ cn…        ┆      ┆      ┆      ┆      ┆     ┆     ┆            ┆            ┆       ┆           │\n",
       "│ [N-]=[N+]= ┆ 141  ┆ 1415 ┆ 1792 ┆ 0    ┆ 0   ┆ 0   ┆ 4674025    ┆ 20         ┆ 0     ┆ 98415605  │\n",
       "│ NCCC[C@H]( ┆      ┆      ┆      ┆      ┆     ┆     ┆            ┆            ┆       ┆           │\n",
       "│ Nc1nc(Nc2n ┆      ┆      ┆      ┆      ┆     ┆     ┆            ┆            ┆       ┆           │\n",
       "│ oc…        ┆      ┆      ┆      ┆      ┆     ┆     ┆            ┆            ┆       ┆           │\n",
       "│ [N-]=[N+]= ┆ 141  ┆ 1415 ┆ 1178 ┆ 0    ┆ 0   ┆ 0   ┆ 5240137    ┆ 60         ┆ 0     ┆ 98415606  │\n",
       "│ NCCC[C@H]( ┆      ┆      ┆      ┆      ┆     ┆     ┆            ┆            ┆       ┆           │\n",
       "│ Nc1nc(Nc2n ┆      ┆      ┆      ┆      ┆     ┆     ┆            ┆            ┆       ┆           │\n",
       "│ nc…        ┆      ┆      ┆      ┆      ┆     ┆     ┆            ┆            ┆       ┆           │\n",
       "│ [N-]=[N+]= ┆ 141  ┆ 1415 ┆ 1699 ┆ 0    ┆ 0   ┆ 0   ┆ 5240137    ┆ 60         ┆ 0     ┆ 98415607  │\n",
       "│ NCCC[C@H]( ┆      ┆      ┆      ┆      ┆     ┆     ┆            ┆            ┆       ┆           │\n",
       "│ Nc1nc(Nc2n ┆      ┆      ┆      ┆      ┆     ┆     ┆            ┆            ┆       ┆           │\n",
       "│ nc…        ┆      ┆      ┆      ┆      ┆     ┆     ┆            ┆            ┆       ┆           │\n",
       "│ [N-]=[N+]= ┆ 141  ┆ 1415 ┆ 1308 ┆ 0    ┆ 0   ┆ 0   ┆ 3617024    ┆ 20         ┆ 0     ┆ 98415608  │\n",
       "│ NCCC[C@H]( ┆      ┆      ┆      ┆      ┆     ┆     ┆            ┆            ┆       ┆           │\n",
       "│ Nc1nc(Nc2n ┆      ┆      ┆      ┆      ┆     ┆     ┆            ┆            ┆       ┆           │\n",
       "│ nn…        ┆      ┆      ┆      ┆      ┆     ┆     ┆            ┆            ┆       ┆           │\n",
       "│ [N-]=[N+]= ┆ 141  ┆ 1415 ┆ 1415 ┆ 0    ┆ 0   ┆ 0   ┆ 268351     ┆ 20         ┆ 0     ┆ 98415609  │\n",
       "│ NCCC[C@H]( ┆      ┆      ┆      ┆      ┆     ┆     ┆            ┆            ┆       ┆           │\n",
       "│ Nc1nc(Nc2n ┆      ┆      ┆      ┆      ┆     ┆     ┆            ┆            ┆       ┆           │\n",
       "│ oc…        ┆      ┆      ┆      ┆      ┆     ┆     ┆            ┆            ┆       ┆           │\n",
       "└────────────┴──────┴──────┴──────┴──────┴─────┴─────┴────────────┴────────────┴───────┴───────────┘"
      ]
     },
     "execution_count": 15,
     "metadata": {},
     "output_type": "execute_result"
    }
   ],
   "source": [
    "train_df = train_df.with_columns(ori_index = pl.Series(list(range(len(train_df)))))\n",
    "train_df"
   ]
  },
  {
   "cell_type": "code",
   "execution_count": 16,
   "id": "4920db25",
   "metadata": {},
   "outputs": [
    {
     "data": {
      "text/html": [
       "<div><style>\n",
       ".dataframe > thead > tr,\n",
       ".dataframe > tbody > tr {\n",
       "  text-align: right;\n",
       "  white-space: pre-wrap;\n",
       "}\n",
       "</style>\n",
       "<small>shape: (66_710_159, 11)</small><table border=\"1\" class=\"dataframe\"><thead><tr><th>molecule</th><th>bb1</th><th>bb2</th><th>bb3</th><th>BRD4</th><th>HSA</th><th>sEH</th><th>scaffold_idx</th><th>mol_per_scaf</th><th>label</th><th>ori_index</th></tr><tr><td>str</td><td>u16</td><td>u16</td><td>u16</td><td>u8</td><td>u8</td><td>u8</td><td>i64</td><td>u32</td><td>u8</td><td>i64</td></tr></thead><tbody><tr><td>&quot;C#CCOc1ccc(CNc…</td><td>982</td><td>1653</td><td>765</td><td>0</td><td>0</td><td>0</td><td>4283326</td><td>844</td><td>0</td><td>363110</td></tr><tr><td>&quot;C#CCOc1ccc(CNc…</td><td>982</td><td>1653</td><td>205</td><td>0</td><td>0</td><td>0</td><td>4486646</td><td>9444</td><td>0</td><td>363111</td></tr><tr><td>&quot;C#CCOc1ccc(CNc…</td><td>982</td><td>1653</td><td>1653</td><td>0</td><td>0</td><td>0</td><td>1015728</td><td>9030</td><td>0</td><td>363112</td></tr><tr><td>&quot;C#CCOc1ccc(CNc…</td><td>982</td><td>1653</td><td>146</td><td>0</td><td>0</td><td>0</td><td>5301385</td><td>26814</td><td>0</td><td>363113</td></tr><tr><td>&quot;C#CCOc1ccc(CNc…</td><td>982</td><td>1653</td><td>439</td><td>0</td><td>0</td><td>0</td><td>5301385</td><td>26814</td><td>0</td><td>363114</td></tr><tr><td>&quot;C#CCOc1ccc(CNc…</td><td>982</td><td>1653</td><td>196</td><td>0</td><td>0</td><td>0</td><td>5301385</td><td>26814</td><td>0</td><td>363115</td></tr><tr><td>&quot;C#CCOc1ccc(CNc…</td><td>982</td><td>1653</td><td>253</td><td>0</td><td>0</td><td>0</td><td>5301385</td><td>26814</td><td>0</td><td>363116</td></tr><tr><td>&quot;C#CCOc1ccc(CNc…</td><td>982</td><td>1653</td><td>604</td><td>0</td><td>0</td><td>0</td><td>543172</td><td>844</td><td>0</td><td>363118</td></tr><tr><td>&quot;C#CCOc1ccc(CNc…</td><td>982</td><td>1653</td><td>121</td><td>0</td><td>0</td><td>0</td><td>2571428</td><td>864</td><td>0</td><td>363119</td></tr><tr><td>&quot;C#CCOc1ccc(CNc…</td><td>982</td><td>1653</td><td>728</td><td>0</td><td>0</td><td>0</td><td>5084942</td><td>7616</td><td>0</td><td>363120</td></tr><tr><td>&hellip;</td><td>&hellip;</td><td>&hellip;</td><td>&hellip;</td><td>&hellip;</td><td>&hellip;</td><td>&hellip;</td><td>&hellip;</td><td>&hellip;</td><td>&hellip;</td><td>&hellip;</td></tr><tr><td>&quot;[N-]=[N+]=NCCC…</td><td>141</td><td>1699</td><td>1474</td><td>0</td><td>0</td><td>0</td><td>4687620</td><td>120</td><td>0</td><td>98414962</td></tr><tr><td>&quot;[N-]=[N+]=NCCC…</td><td>141</td><td>1699</td><td>536</td><td>0</td><td>0</td><td>0</td><td>1874684</td><td>828</td><td>0</td><td>98414963</td></tr><tr><td>&quot;[N-]=[N+]=NCCC…</td><td>141</td><td>1699</td><td>1367</td><td>0</td><td>0</td><td>0</td><td>5841727</td><td>60</td><td>0</td><td>98414964</td></tr><tr><td>&quot;[N-]=[N+]=NCCC…</td><td>141</td><td>1699</td><td>329</td><td>0</td><td>0</td><td>0</td><td>5793861</td><td>780</td><td>0</td><td>98414965</td></tr><tr><td>&quot;[N-]=[N+]=NCCC…</td><td>141</td><td>1699</td><td>757</td><td>0</td><td>0</td><td>0</td><td>2535079</td><td>60</td><td>0</td><td>98414966</td></tr><tr><td>&quot;[N-]=[N+]=NCCC…</td><td>141</td><td>1699</td><td>335</td><td>0</td><td>0</td><td>0</td><td>5391809</td><td>60</td><td>0</td><td>98414967</td></tr><tr><td>&quot;[N-]=[N+]=NCCC…</td><td>141</td><td>1699</td><td>1792</td><td>0</td><td>0</td><td>0</td><td>4492556</td><td>60</td><td>0</td><td>98414968</td></tr><tr><td>&quot;[N-]=[N+]=NCCC…</td><td>141</td><td>1699</td><td>1178</td><td>0</td><td>0</td><td>0</td><td>5510611</td><td>120</td><td>0</td><td>98414969</td></tr><tr><td>&quot;[N-]=[N+]=NCCC…</td><td>141</td><td>1699</td><td>1699</td><td>0</td><td>0</td><td>0</td><td>5510611</td><td>120</td><td>0</td><td>98414970</td></tr><tr><td>&quot;[N-]=[N+]=NCCC…</td><td>141</td><td>1699</td><td>1308</td><td>0</td><td>0</td><td>0</td><td>5284789</td><td>60</td><td>0</td><td>98414971</td></tr></tbody></table></div>"
      ],
      "text/plain": [
       "shape: (66_710_159, 11)\n",
       "┌─────────────┬─────┬──────┬──────┬──────┬─────┬─────┬────────────┬────────────┬───────┬───────────┐\n",
       "│ molecule    ┆ bb1 ┆ bb2  ┆ bb3  ┆ BRD4 ┆ HSA ┆ sEH ┆ scaffold_i ┆ mol_per_sc ┆ label ┆ ori_index │\n",
       "│ ---         ┆ --- ┆ ---  ┆ ---  ┆ ---  ┆ --- ┆ --- ┆ dx         ┆ af         ┆ ---   ┆ ---       │\n",
       "│ str         ┆ u16 ┆ u16  ┆ u16  ┆ u8   ┆ u8  ┆ u8  ┆ ---        ┆ ---        ┆ u8    ┆ i64       │\n",
       "│             ┆     ┆      ┆      ┆      ┆     ┆     ┆ i64        ┆ u32        ┆       ┆           │\n",
       "╞═════════════╪═════╪══════╪══════╪══════╪═════╪═════╪════════════╪════════════╪═══════╪═══════════╡\n",
       "│ C#CCOc1ccc( ┆ 982 ┆ 1653 ┆ 765  ┆ 0    ┆ 0   ┆ 0   ┆ 4283326    ┆ 844        ┆ 0     ┆ 363110    │\n",
       "│ CNc2nc(NCC3 ┆     ┆      ┆      ┆      ┆     ┆     ┆            ┆            ┆       ┆           │\n",
       "│ CCCN3c3ccc… ┆     ┆      ┆      ┆      ┆     ┆     ┆            ┆            ┆       ┆           │\n",
       "│ C#CCOc1ccc( ┆ 982 ┆ 1653 ┆ 205  ┆ 0    ┆ 0   ┆ 0   ┆ 4486646    ┆ 9444       ┆ 0     ┆ 363111    │\n",
       "│ CNc2nc(NCc3 ┆     ┆      ┆      ┆      ┆     ┆     ┆            ┆            ┆       ┆           │\n",
       "│ cccc(Br)n3… ┆     ┆      ┆      ┆      ┆     ┆     ┆            ┆            ┆       ┆           │\n",
       "│ C#CCOc1ccc( ┆ 982 ┆ 1653 ┆ 1653 ┆ 0    ┆ 0   ┆ 0   ┆ 1015728    ┆ 9030       ┆ 0     ┆ 363112    │\n",
       "│ CNc2nc(NCc3 ┆     ┆      ┆      ┆      ┆     ┆     ┆            ┆            ┆       ┆           │\n",
       "│ ccc(OCC#C)… ┆     ┆      ┆      ┆      ┆     ┆     ┆            ┆            ┆       ┆           │\n",
       "│ C#CCOc1ccc( ┆ 982 ┆ 1653 ┆ 146  ┆ 0    ┆ 0   ┆ 0   ┆ 5301385    ┆ 26814      ┆ 0     ┆ 363113    │\n",
       "│ CNc2nc(NCCN ┆     ┆      ┆      ┆      ┆     ┆     ┆            ┆            ┆       ┆           │\n",
       "│ C(=O)C(=C)… ┆     ┆      ┆      ┆      ┆     ┆     ┆            ┆            ┆       ┆           │\n",
       "│ C#CCOc1ccc( ┆ 982 ┆ 1653 ┆ 439  ┆ 0    ┆ 0   ┆ 0   ┆ 5301385    ┆ 26814      ┆ 0     ┆ 363114    │\n",
       "│ CNc2nc(NCC( ┆     ┆      ┆      ┆      ┆     ┆     ┆            ┆            ┆       ┆           │\n",
       "│ =O)NCC=C)n… ┆     ┆      ┆      ┆      ┆     ┆     ┆            ┆            ┆       ┆           │\n",
       "│ C#CCOc1ccc( ┆ 982 ┆ 1653 ┆ 196  ┆ 0    ┆ 0   ┆ 0   ┆ 5301385    ┆ 26814      ┆ 0     ┆ 363115    │\n",
       "│ CNc2nc(NCC( ┆     ┆      ┆      ┆      ┆     ┆     ┆            ┆            ┆       ┆           │\n",
       "│ C)OCC=C)nc… ┆     ┆      ┆      ┆      ┆     ┆     ┆            ┆            ┆       ┆           │\n",
       "│ C#CCOc1ccc( ┆ 982 ┆ 1653 ┆ 253  ┆ 0    ┆ 0   ┆ 0   ┆ 5301385    ┆ 26814      ┆ 0     ┆ 363116    │\n",
       "│ CNc2nc(NCCC ┆     ┆      ┆      ┆      ┆     ┆     ┆            ┆            ┆       ┆           │\n",
       "│ OCC=C)nc(N… ┆     ┆      ┆      ┆      ┆     ┆     ┆            ┆            ┆       ┆           │\n",
       "│ C#CCOc1ccc( ┆ 982 ┆ 1653 ┆ 604  ┆ 0    ┆ 0   ┆ 0   ┆ 543172     ┆ 844        ┆ 0     ┆ 363118    │\n",
       "│ CNc2nc(Nc3c ┆     ┆      ┆      ┆      ┆     ┆     ┆            ┆            ┆       ┆           │\n",
       "│ nn(C4CCN(C… ┆     ┆      ┆      ┆      ┆     ┆     ┆            ┆            ┆       ┆           │\n",
       "│ C#CCOc1ccc( ┆ 982 ┆ 1653 ┆ 121  ┆ 0    ┆ 0   ┆ 0   ┆ 2571428    ┆ 864        ┆ 0     ┆ 363119    │\n",
       "│ CNc2nc(Nc3n ┆     ┆      ┆      ┆      ┆     ┆     ┆            ┆            ┆       ┆           │\n",
       "│ [nH]c4c3CN… ┆     ┆      ┆      ┆      ┆     ┆     ┆            ┆            ┆       ┆           │\n",
       "│ C#CCOc1ccc( ┆ 982 ┆ 1653 ┆ 728  ┆ 0    ┆ 0   ┆ 0   ┆ 5084942    ┆ 7616       ┆ 0     ┆ 363120    │\n",
       "│ CNc2nc(Nc3c ┆     ┆      ┆      ┆      ┆     ┆     ┆            ┆            ┆       ┆           │\n",
       "│ c(C(C)(C)C… ┆     ┆      ┆      ┆      ┆     ┆     ┆            ┆            ┆       ┆           │\n",
       "│ …           ┆ …   ┆ …    ┆ …    ┆ …    ┆ …   ┆ …   ┆ …          ┆ …          ┆ …     ┆ …         │\n",
       "│ [N-]=[N+]=N ┆ 141 ┆ 1699 ┆ 1474 ┆ 0    ┆ 0   ┆ 0   ┆ 4687620    ┆ 120        ┆ 0     ┆ 98414962  │\n",
       "│ CCC[C@H](Nc ┆     ┆      ┆      ┆      ┆     ┆     ┆            ┆            ┆       ┆           │\n",
       "│ 1nc(Nc2ncc… ┆     ┆      ┆      ┆      ┆     ┆     ┆            ┆            ┆       ┆           │\n",
       "│ [N-]=[N+]=N ┆ 141 ┆ 1699 ┆ 536  ┆ 0    ┆ 0   ┆ 0   ┆ 1874684    ┆ 828        ┆ 0     ┆ 98414963  │\n",
       "│ CCC[C@H](Nc ┆     ┆      ┆      ┆      ┆     ┆     ┆            ┆            ┆       ┆           │\n",
       "│ 1nc(Nc2ncc… ┆     ┆      ┆      ┆      ┆     ┆     ┆            ┆            ┆       ┆           │\n",
       "│ [N-]=[N+]=N ┆ 141 ┆ 1699 ┆ 1367 ┆ 0    ┆ 0   ┆ 0   ┆ 5841727    ┆ 60         ┆ 0     ┆ 98414964  │\n",
       "│ CCC[C@H](Nc ┆     ┆      ┆      ┆      ┆     ┆     ┆            ┆            ┆       ┆           │\n",
       "│ 1nc(Nc2ncn… ┆     ┆      ┆      ┆      ┆     ┆     ┆            ┆            ┆       ┆           │\n",
       "│ [N-]=[N+]=N ┆ 141 ┆ 1699 ┆ 329  ┆ 0    ┆ 0   ┆ 0   ┆ 5793861    ┆ 780        ┆ 0     ┆ 98414965  │\n",
       "│ CCC[C@H](Nc ┆     ┆      ┆      ┆      ┆     ┆     ┆            ┆            ┆       ┆           │\n",
       "│ 1nc(Nc2nnc… ┆     ┆      ┆      ┆      ┆     ┆     ┆            ┆            ┆       ┆           │\n",
       "│ [N-]=[N+]=N ┆ 141 ┆ 1699 ┆ 757  ┆ 0    ┆ 0   ┆ 0   ┆ 2535079    ┆ 60         ┆ 0     ┆ 98414966  │\n",
       "│ CCC[C@H](Nc ┆     ┆      ┆      ┆      ┆     ┆     ┆            ┆            ┆       ┆           │\n",
       "│ 1nc(Nc2nnc… ┆     ┆      ┆      ┆      ┆     ┆     ┆            ┆            ┆       ┆           │\n",
       "│ [N-]=[N+]=N ┆ 141 ┆ 1699 ┆ 335  ┆ 0    ┆ 0   ┆ 0   ┆ 5391809    ┆ 60         ┆ 0     ┆ 98414967  │\n",
       "│ CCC[C@H](Nc ┆     ┆      ┆      ┆      ┆     ┆     ┆            ┆            ┆       ┆           │\n",
       "│ 1nc(Nc2nnc… ┆     ┆      ┆      ┆      ┆     ┆     ┆            ┆            ┆       ┆           │\n",
       "│ [N-]=[N+]=N ┆ 141 ┆ 1699 ┆ 1792 ┆ 0    ┆ 0   ┆ 0   ┆ 4492556    ┆ 60         ┆ 0     ┆ 98414968  │\n",
       "│ CCC[C@H](Nc ┆     ┆      ┆      ┆      ┆     ┆     ┆            ┆            ┆       ┆           │\n",
       "│ 1nc(Nc2nnc… ┆     ┆      ┆      ┆      ┆     ┆     ┆            ┆            ┆       ┆           │\n",
       "│ [N-]=[N+]=N ┆ 141 ┆ 1699 ┆ 1178 ┆ 0    ┆ 0   ┆ 0   ┆ 5510611    ┆ 120        ┆ 0     ┆ 98414969  │\n",
       "│ CCC[C@H](Nc ┆     ┆      ┆      ┆      ┆     ┆     ┆            ┆            ┆       ┆           │\n",
       "│ 1nc(Nc2nnc… ┆     ┆      ┆      ┆      ┆     ┆     ┆            ┆            ┆       ┆           │\n",
       "│ [N-]=[N+]=N ┆ 141 ┆ 1699 ┆ 1699 ┆ 0    ┆ 0   ┆ 0   ┆ 5510611    ┆ 120        ┆ 0     ┆ 98414970  │\n",
       "│ CCC[C@H](Nc ┆     ┆      ┆      ┆      ┆     ┆     ┆            ┆            ┆       ┆           │\n",
       "│ 1nc(Nc2nnc… ┆     ┆      ┆      ┆      ┆     ┆     ┆            ┆            ┆       ┆           │\n",
       "│ [N-]=[N+]=N ┆ 141 ┆ 1699 ┆ 1308 ┆ 0    ┆ 0   ┆ 0   ┆ 5284789    ┆ 60         ┆ 0     ┆ 98414971  │\n",
       "│ CCC[C@H](Nc ┆     ┆      ┆      ┆      ┆     ┆     ┆            ┆            ┆       ┆           │\n",
       "│ 1nc(Nc2nnn… ┆     ┆      ┆      ┆      ┆     ┆     ┆            ┆            ┆       ┆           │\n",
       "└─────────────┴─────┴──────┴──────┴──────┴─────┴─────┴────────────┴────────────┴───────┴───────────┘"
      ]
     },
     "execution_count": 16,
     "metadata": {},
     "output_type": "execute_result"
    }
   ],
   "source": [
    "train_df = train_df[tmp['index']]\n",
    "train_df"
   ]
  },
  {
   "cell_type": "code",
   "execution_count": 17,
   "id": "d2762c58",
   "metadata": {},
   "outputs": [
    {
     "data": {
      "text/html": [
       "<div><style>\n",
       ".dataframe > thead > tr,\n",
       ".dataframe > tbody > tr {\n",
       "  text-align: right;\n",
       "  white-space: pre-wrap;\n",
       "}\n",
       "</style>\n",
       "<small>shape: (66_710_159, 2)</small><table border=\"1\" class=\"dataframe\"><thead><tr><th>label</th><th>index</th></tr><tr><td>u8</td><td>i64</td></tr></thead><tbody><tr><td>0</td><td>363110</td></tr><tr><td>0</td><td>363111</td></tr><tr><td>0</td><td>363112</td></tr><tr><td>0</td><td>363113</td></tr><tr><td>0</td><td>363114</td></tr><tr><td>0</td><td>363115</td></tr><tr><td>0</td><td>363116</td></tr><tr><td>0</td><td>363118</td></tr><tr><td>0</td><td>363119</td></tr><tr><td>0</td><td>363120</td></tr><tr><td>&hellip;</td><td>&hellip;</td></tr><tr><td>0</td><td>98414962</td></tr><tr><td>0</td><td>98414963</td></tr><tr><td>0</td><td>98414964</td></tr><tr><td>0</td><td>98414965</td></tr><tr><td>0</td><td>98414966</td></tr><tr><td>0</td><td>98414967</td></tr><tr><td>0</td><td>98414968</td></tr><tr><td>0</td><td>98414969</td></tr><tr><td>0</td><td>98414970</td></tr><tr><td>0</td><td>98414971</td></tr></tbody></table></div>"
      ],
      "text/plain": [
       "shape: (66_710_159, 2)\n",
       "┌───────┬──────────┐\n",
       "│ label ┆ index    │\n",
       "│ ---   ┆ ---      │\n",
       "│ u8    ┆ i64      │\n",
       "╞═══════╪══════════╡\n",
       "│ 0     ┆ 363110   │\n",
       "│ 0     ┆ 363111   │\n",
       "│ 0     ┆ 363112   │\n",
       "│ 0     ┆ 363113   │\n",
       "│ 0     ┆ 363114   │\n",
       "│ 0     ┆ 363115   │\n",
       "│ 0     ┆ 363116   │\n",
       "│ 0     ┆ 363118   │\n",
       "│ 0     ┆ 363119   │\n",
       "│ 0     ┆ 363120   │\n",
       "│ …     ┆ …        │\n",
       "│ 0     ┆ 98414962 │\n",
       "│ 0     ┆ 98414963 │\n",
       "│ 0     ┆ 98414964 │\n",
       "│ 0     ┆ 98414965 │\n",
       "│ 0     ┆ 98414966 │\n",
       "│ 0     ┆ 98414967 │\n",
       "│ 0     ┆ 98414968 │\n",
       "│ 0     ┆ 98414969 │\n",
       "│ 0     ┆ 98414970 │\n",
       "│ 0     ┆ 98414971 │\n",
       "└───────┴──────────┘"
      ]
     },
     "execution_count": 17,
     "metadata": {},
     "output_type": "execute_result"
    }
   ],
   "source": [
    "tmp = train_df.select(pl.col('label'), pl.col('ori_index').alias('index'))\n",
    "tmp"
   ]
  },
  {
   "cell_type": "code",
   "execution_count": 20,
   "id": "d690beeb",
   "metadata": {},
   "outputs": [
    {
     "data": {
      "text/plain": [
       "0.015779035993603314"
      ]
     },
     "execution_count": 20,
     "metadata": {},
     "output_type": "execute_result"
    }
   ],
   "source": [
    "tmp.filter(pl.col('label') != 0).shape[0] / tmp.shape[0]"
   ]
  },
  {
   "cell_type": "code",
   "execution_count": 22,
   "id": "d36909bc",
   "metadata": {},
   "outputs": [
    {
     "data": {
      "text/plain": [
       "(1052622, 2)"
      ]
     },
     "execution_count": 22,
     "metadata": {},
     "output_type": "execute_result"
    }
   ],
   "source": [
    "tmp.filter(pl.col('label') != 0).shape"
   ]
  },
  {
   "cell_type": "code",
   "execution_count": 23,
   "id": "2dc4cb44",
   "metadata": {},
   "outputs": [
    {
     "data": {
      "text/plain": [
       "(66710159, 2)"
      ]
     },
     "execution_count": 23,
     "metadata": {},
     "output_type": "execute_result"
    }
   ],
   "source": [
    "tmp.shape"
   ]
  },
  {
   "cell_type": "code",
   "execution_count": 21,
   "id": "afe8c060",
   "metadata": {},
   "outputs": [],
   "source": [
    "tmp.write_csv('/home/dangnh36/datasets/competitions/leash_belka/processed/cv/v1/train.csv')"
   ]
  },
  {
   "cell_type": "code",
   "execution_count": null,
   "id": "d7a3dbf3",
   "metadata": {},
   "outputs": [],
   "source": []
  },
  {
   "cell_type": "code",
   "execution_count": null,
   "id": "37533c3a",
   "metadata": {},
   "outputs": [],
   "source": []
  },
  {
   "cell_type": "code",
   "execution_count": null,
   "id": "054ec125",
   "metadata": {},
   "outputs": [],
   "source": []
  },
  {
   "cell_type": "code",
   "execution_count": null,
   "id": "806dfe78",
   "metadata": {},
   "outputs": [],
   "source": [
    "with open('/home/dangnh36/datasets/competitions/leash_belka/processed/meta/fold0.json', 'w') as f:\n",
    "    json.dump(\n",
    "        {\n",
    "            # 'train': final_train_df['ori_index'].to_list(),\n",
    "            'val': final_test_df['ori_index'].to_list()\n",
    "        },\n",
    "        f)"
   ]
  },
  {
   "cell_type": "code",
   "execution_count": null,
   "id": "6028f846",
   "metadata": {},
   "outputs": [],
   "source": []
  },
  {
   "cell_type": "code",
   "execution_count": null,
   "id": "8c364586",
   "metadata": {
    "scrolled": true
   },
   "outputs": [],
   "source": [
    "!head /home/dangnh36/datasets/competitions/leash_belka/processed/meta/fold0.json"
   ]
  },
  {
   "cell_type": "code",
   "execution_count": null,
   "id": "84bf9c44",
   "metadata": {},
   "outputs": [],
   "source": []
  },
  {
   "cell_type": "code",
   "execution_count": null,
   "id": "a4238906",
   "metadata": {},
   "outputs": [],
   "source": []
  },
  {
   "cell_type": "code",
   "execution_count": null,
   "id": "13ec8152",
   "metadata": {},
   "outputs": [],
   "source": []
  },
  {
   "cell_type": "code",
   "execution_count": null,
   "id": "5fdd7c00",
   "metadata": {},
   "outputs": [],
   "source": []
  },
  {
   "cell_type": "code",
   "execution_count": null,
   "id": "3e71c2a1",
   "metadata": {},
   "outputs": [],
   "source": []
  },
  {
   "cell_type": "code",
   "execution_count": null,
   "id": "418173ab",
   "metadata": {},
   "outputs": [],
   "source": []
  },
  {
   "cell_type": "code",
   "execution_count": null,
   "id": "b3a52bfb",
   "metadata": {},
   "outputs": [],
   "source": []
  }
 ],
 "metadata": {
  "kernelspec": {
   "display_name": "Python 3 (ipykernel)",
   "language": "python",
   "name": "python3"
  },
  "language_info": {
   "codemirror_mode": {
    "name": "ipython",
    "version": 3
   },
   "file_extension": ".py",
   "mimetype": "text/x-python",
   "name": "python",
   "nbconvert_exporter": "python",
   "pygments_lexer": "ipython3",
   "version": "3.10.13"
  }
 },
 "nbformat": 4,
 "nbformat_minor": 5
}
