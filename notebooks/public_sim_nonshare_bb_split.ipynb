{
 "cells": [
  {
   "cell_type": "code",
   "execution_count": 1,
   "id": "ef74a0fb",
   "metadata": {},
   "outputs": [
    {
     "name": "stderr",
     "output_type": "stream",
     "text": [
      "No normalization for SPS. Feature removed!\n",
      "No normalization for AvgIpc. Feature removed!\n",
      "Skipped loading some Tensorflow models, missing a dependency. No module named 'tensorflow'\n",
      "Skipped loading modules with pytorch-geometric dependency, missing a dependency. No module named 'torch_geometric'\n",
      "Skipped loading modules with pytorch-geometric dependency, missing a dependency. cannot import name 'DMPNN' from 'deepchem.models.torch_models' (/opt/conda/lib/python3.10/site-packages/deepchem/models/torch_models/__init__.py)\n",
      "Skipped loading some Jax models, missing a dependency. No module named 'jax'\n",
      "Skipped loading some PyTorch models, missing a dependency. No module named 'tensorflow'\n"
     ]
    }
   ],
   "source": [
    "import pandas as pd\n",
    "import numpy as np\n",
    "import os\n",
    "import sys\n",
    "import polars as pl\n",
    "import json\n",
    "from joblib import Parallel, delayed\n",
    "import deepchem\n",
    "from tqdm import tqdm\n",
    "import warnings\n",
    "warnings.filterwarnings(\"ignore\")\n",
    "\n",
    "# Configure Polars \n",
    "cfg = pl.Config()\n",
    "cfg.set_tbl_rows(20)\n",
    "cfg.set_tbl_cols(50)\n",
    "from sklearn.model_selection import StratifiedGroupKFold, GroupKFold, KFold, GroupShuffleSplit, ShuffleSplit, StratifiedKFold\n",
    "import gc\n",
    "import random\n",
    "from rdkit import Chem\n",
    "from rdkit.Chem import AllChem\n",
    "from rdkit import DataStructs\n",
    "import lap\n",
    "from typing import List, Tuple, Union\n",
    "import lap\n",
    "from matplotlib import pyplot as plt\n",
    "from rdkit.Chem import MACCSkeys"
   ]
  },
  {
   "cell_type": "code",
   "execution_count": 2,
   "id": "b39b1cab",
   "metadata": {},
   "outputs": [
    {
     "name": "stdout",
     "output_type": "stream",
     "text": [
      "train_bbs --> 1145\n",
      "train_bb1s --> 271\n",
      "train_bb2s --> 693\n",
      "train_bb3s --> 872\n",
      "test_bb1s --> 341\n",
      "test_bb2s --> 1140\n",
      "test_bb3s --> 1389\n",
      "test_bbs --> 2110\n",
      "all_bbs --> 2110\n"
     ]
    }
   ],
   "source": [
    "with open('/home/dangnh36/datasets/competitions/leash_belka/processed/meta/building_blocks.json', 'r') as f:\n",
    "    bbs_meta = json.load(f)\n",
    "    \n",
    "for k, v in bbs_meta.items():\n",
    "    print(k, '-->', len(v)) "
   ]
  },
  {
   "cell_type": "code",
   "execution_count": null,
   "id": "fb326c65",
   "metadata": {},
   "outputs": [],
   "source": []
  },
  {
   "cell_type": "code",
   "execution_count": 3,
   "id": "93deac6c",
   "metadata": {},
   "outputs": [
    {
     "name": "stdout",
     "output_type": "stream",
     "text": [
      "(98415610, 8) 8601.91998577118\n"
     ]
    },
    {
     "data": {
      "text/html": [
       "<div><style>\n",
       ".dataframe > thead > tr,\n",
       ".dataframe > tbody > tr {\n",
       "  text-align: right;\n",
       "  white-space: pre-wrap;\n",
       "}\n",
       "</style>\n",
       "<small>shape: (98_415_610, 8)</small><table border=\"1\" class=\"dataframe\"><thead><tr><th>molecule</th><th>bb1</th><th>bb2</th><th>bb3</th><th>BRD4</th><th>HSA</th><th>sEH</th><th>scaffold_idx</th></tr><tr><td>str</td><td>u16</td><td>u16</td><td>u16</td><td>u8</td><td>u8</td><td>u8</td><td>i64</td></tr></thead><tbody><tr><td>&quot;C#CCOc1ccc(CNc…</td><td>1640</td><td>1653</td><td>765</td><td>0</td><td>0</td><td>0</td><td>4283326</td></tr><tr><td>&quot;C#CCOc1ccc(CNc…</td><td>1640</td><td>1653</td><td>205</td><td>0</td><td>0</td><td>0</td><td>4486646</td></tr><tr><td>&quot;C#CCOc1ccc(CNc…</td><td>1640</td><td>1653</td><td>1653</td><td>0</td><td>0</td><td>0</td><td>1015728</td></tr><tr><td>&quot;C#CCOc1ccc(CNc…</td><td>1640</td><td>1653</td><td>146</td><td>0</td><td>0</td><td>0</td><td>5301385</td></tr><tr><td>&quot;C#CCOc1ccc(CNc…</td><td>1640</td><td>1653</td><td>439</td><td>0</td><td>0</td><td>0</td><td>5301385</td></tr><tr><td>&quot;C#CCOc1ccc(CNc…</td><td>1640</td><td>1653</td><td>196</td><td>0</td><td>0</td><td>0</td><td>5301385</td></tr><tr><td>&quot;C#CCOc1ccc(CNc…</td><td>1640</td><td>1653</td><td>253</td><td>0</td><td>0</td><td>0</td><td>5301385</td></tr><tr><td>&quot;C#CCOc1ccc(CNc…</td><td>1640</td><td>1653</td><td>1219</td><td>0</td><td>0</td><td>0</td><td>5301385</td></tr><tr><td>&quot;C#CCOc1ccc(CNc…</td><td>1640</td><td>1653</td><td>604</td><td>0</td><td>0</td><td>0</td><td>543172</td></tr><tr><td>&quot;C#CCOc1ccc(CNc…</td><td>1640</td><td>1653</td><td>121</td><td>0</td><td>0</td><td>0</td><td>2571428</td></tr><tr><td>&hellip;</td><td>&hellip;</td><td>&hellip;</td><td>&hellip;</td><td>&hellip;</td><td>&hellip;</td><td>&hellip;</td><td>&hellip;</td></tr><tr><td>&quot;[N-]=[N+]=NCCC…</td><td>141</td><td>1415</td><td>536</td><td>0</td><td>0</td><td>0</td><td>4068980</td></tr><tr><td>&quot;[N-]=[N+]=NCCC…</td><td>141</td><td>1415</td><td>1367</td><td>0</td><td>0</td><td>0</td><td>2088996</td></tr><tr><td>&quot;[N-]=[N+]=NCCC…</td><td>141</td><td>1415</td><td>329</td><td>0</td><td>0</td><td>0</td><td>3192765</td></tr><tr><td>&quot;[N-]=[N+]=NCCC…</td><td>141</td><td>1415</td><td>757</td><td>0</td><td>0</td><td>0</td><td>4085046</td></tr><tr><td>&quot;[N-]=[N+]=NCCC…</td><td>141</td><td>1415</td><td>335</td><td>0</td><td>0</td><td>0</td><td>4087757</td></tr><tr><td>&quot;[N-]=[N+]=NCCC…</td><td>141</td><td>1415</td><td>1792</td><td>0</td><td>0</td><td>0</td><td>4674025</td></tr><tr><td>&quot;[N-]=[N+]=NCCC…</td><td>141</td><td>1415</td><td>1178</td><td>0</td><td>0</td><td>0</td><td>5240137</td></tr><tr><td>&quot;[N-]=[N+]=NCCC…</td><td>141</td><td>1415</td><td>1699</td><td>0</td><td>0</td><td>0</td><td>5240137</td></tr><tr><td>&quot;[N-]=[N+]=NCCC…</td><td>141</td><td>1415</td><td>1308</td><td>0</td><td>0</td><td>0</td><td>3617024</td></tr><tr><td>&quot;[N-]=[N+]=NCCC…</td><td>141</td><td>1415</td><td>1415</td><td>0</td><td>0</td><td>0</td><td>268351</td></tr></tbody></table></div>"
      ],
      "text/plain": [
       "shape: (98_415_610, 8)\n",
       "┌───────────────────────────────────┬──────┬──────┬──────┬──────┬─────┬─────┬──────────────┐\n",
       "│ molecule                          ┆ bb1  ┆ bb2  ┆ bb3  ┆ BRD4 ┆ HSA ┆ sEH ┆ scaffold_idx │\n",
       "│ ---                               ┆ ---  ┆ ---  ┆ ---  ┆ ---  ┆ --- ┆ --- ┆ ---          │\n",
       "│ str                               ┆ u16  ┆ u16  ┆ u16  ┆ u8   ┆ u8  ┆ u8  ┆ i64          │\n",
       "╞═══════════════════════════════════╪══════╪══════╪══════╪══════╪═════╪═════╪══════════════╡\n",
       "│ C#CCOc1ccc(CNc2nc(NCC3CCCN3c3ccc… ┆ 1640 ┆ 1653 ┆ 765  ┆ 0    ┆ 0   ┆ 0   ┆ 4283326      │\n",
       "│ C#CCOc1ccc(CNc2nc(NCc3cccc(Br)n3… ┆ 1640 ┆ 1653 ┆ 205  ┆ 0    ┆ 0   ┆ 0   ┆ 4486646      │\n",
       "│ C#CCOc1ccc(CNc2nc(NCc3ccc(OCC#C)… ┆ 1640 ┆ 1653 ┆ 1653 ┆ 0    ┆ 0   ┆ 0   ┆ 1015728      │\n",
       "│ C#CCOc1ccc(CNc2nc(NCCNC(=O)C(=C)… ┆ 1640 ┆ 1653 ┆ 146  ┆ 0    ┆ 0   ┆ 0   ┆ 5301385      │\n",
       "│ C#CCOc1ccc(CNc2nc(NCC(=O)NCC=C)n… ┆ 1640 ┆ 1653 ┆ 439  ┆ 0    ┆ 0   ┆ 0   ┆ 5301385      │\n",
       "│ C#CCOc1ccc(CNc2nc(NCC(C)OCC=C)nc… ┆ 1640 ┆ 1653 ┆ 196  ┆ 0    ┆ 0   ┆ 0   ┆ 5301385      │\n",
       "│ C#CCOc1ccc(CNc2nc(NCCCOCC=C)nc(N… ┆ 1640 ┆ 1653 ┆ 253  ┆ 0    ┆ 0   ┆ 0   ┆ 5301385      │\n",
       "│ C#CCOc1ccc(CNc2nc(NCCOCC=C)nc(N[… ┆ 1640 ┆ 1653 ┆ 1219 ┆ 0    ┆ 0   ┆ 0   ┆ 5301385      │\n",
       "│ C#CCOc1ccc(CNc2nc(Nc3cnn(C4CCN(C… ┆ 1640 ┆ 1653 ┆ 604  ┆ 0    ┆ 0   ┆ 0   ┆ 543172       │\n",
       "│ C#CCOc1ccc(CNc2nc(Nc3n[nH]c4c3CN… ┆ 1640 ┆ 1653 ┆ 121  ┆ 0    ┆ 0   ┆ 0   ┆ 2571428      │\n",
       "│ …                                 ┆ …    ┆ …    ┆ …    ┆ …    ┆ …   ┆ …   ┆ …            │\n",
       "│ [N-]=[N+]=NCCC[C@H](Nc1nc(Nc2ncc… ┆ 141  ┆ 1415 ┆ 536  ┆ 0    ┆ 0   ┆ 0   ┆ 4068980      │\n",
       "│ [N-]=[N+]=NCCC[C@H](Nc1nc(Nc2ncn… ┆ 141  ┆ 1415 ┆ 1367 ┆ 0    ┆ 0   ┆ 0   ┆ 2088996      │\n",
       "│ [N-]=[N+]=NCCC[C@H](Nc1nc(Nc2ncn… ┆ 141  ┆ 1415 ┆ 329  ┆ 0    ┆ 0   ┆ 0   ┆ 3192765      │\n",
       "│ [N-]=[N+]=NCCC[C@H](Nc1nc(Nc2noc… ┆ 141  ┆ 1415 ┆ 757  ┆ 0    ┆ 0   ┆ 0   ┆ 4085046      │\n",
       "│ [N-]=[N+]=NCCC[C@H](Nc1nc(Nc2ncn… ┆ 141  ┆ 1415 ┆ 335  ┆ 0    ┆ 0   ┆ 0   ┆ 4087757      │\n",
       "│ [N-]=[N+]=NCCC[C@H](Nc1nc(Nc2noc… ┆ 141  ┆ 1415 ┆ 1792 ┆ 0    ┆ 0   ┆ 0   ┆ 4674025      │\n",
       "│ [N-]=[N+]=NCCC[C@H](Nc1nc(Nc2nnc… ┆ 141  ┆ 1415 ┆ 1178 ┆ 0    ┆ 0   ┆ 0   ┆ 5240137      │\n",
       "│ [N-]=[N+]=NCCC[C@H](Nc1nc(Nc2nnc… ┆ 141  ┆ 1415 ┆ 1699 ┆ 0    ┆ 0   ┆ 0   ┆ 5240137      │\n",
       "│ [N-]=[N+]=NCCC[C@H](Nc1nc(Nc2nnn… ┆ 141  ┆ 1415 ┆ 1308 ┆ 0    ┆ 0   ┆ 0   ┆ 3617024      │\n",
       "│ [N-]=[N+]=NCCC[C@H](Nc1nc(Nc2noc… ┆ 141  ┆ 1415 ┆ 1415 ┆ 0    ┆ 0   ┆ 0   ┆ 268351       │\n",
       "└───────────────────────────────────┴──────┴──────┴──────┴──────┴─────┴─────┴──────────────┘"
      ]
     },
     "execution_count": 3,
     "metadata": {},
     "output_type": "execute_result"
    }
   ],
   "source": [
    "train_scaffolds = pl.scan_csv('/home/dangnh36/datasets/competitions/leash_belka/processed/train_scaffold.csv').collect()\n",
    "train_df = pl.scan_csv('/home/dangnh36/datasets/competitions/leash_belka/processed/train_v2.csv')\\\n",
    "    .select(\n",
    "        pl.col('molecule'),\n",
    "        pl.col('bb1', 'bb2', 'bb3').cast(pl.UInt16),\n",
    "        pl.col('BRD4', 'HSA', 'sEH').cast(pl.UInt8),\n",
    "        scaffold_idx = train_scaffolds['scaffold_idx'],\n",
    "    )\\\n",
    "    .collect()\n",
    "print(train_df.shape, train_df.estimated_size('mb'))\n",
    "train_df"
   ]
  },
  {
   "cell_type": "code",
   "execution_count": 4,
   "id": "b1fcc36a",
   "metadata": {},
   "outputs": [
    {
     "name": "stdout",
     "output_type": "stream",
     "text": [
      "(878022, 8) 85.05668830871582\n"
     ]
    },
    {
     "data": {
      "text/html": [
       "<div><style>\n",
       ".dataframe > thead > tr,\n",
       ".dataframe > tbody > tr {\n",
       "  text-align: right;\n",
       "  white-space: pre-wrap;\n",
       "}\n",
       "</style>\n",
       "<small>shape: (878_022, 8)</small><table border=\"1\" class=\"dataframe\"><thead><tr><th>molecule</th><th>id</th><th>bb1</th><th>bb2</th><th>bb3</th><th>protein</th><th>scaffold_idx</th><th>mol_group</th></tr><tr><td>str</td><td>i64</td><td>u16</td><td>u16</td><td>u16</td><td>str</td><td>i64</td><td>u8</td></tr></thead><tbody><tr><td>&quot;C#CCCC[C@H](Nc…</td><td>295246830</td><td>1989</td><td>409</td><td>409</td><td>&quot;BRD4&quot;</td><td>2217250</td><td>2</td></tr><tr><td>&quot;C#CCCC[C@H](Nc…</td><td>295246833</td><td>1989</td><td>409</td><td>1012</td><td>&quot;BRD4&quot;</td><td>602641</td><td>2</td></tr><tr><td>&quot;C#CCCC[C@H](Nc…</td><td>295246836</td><td>1989</td><td>409</td><td>1722</td><td>&quot;BRD4&quot;</td><td>4502748</td><td>2</td></tr><tr><td>&quot;C#CCCC[C@H](Nc…</td><td>295246839</td><td>1989</td><td>409</td><td>1078</td><td>&quot;BRD4&quot;</td><td>3936208</td><td>2</td></tr><tr><td>&quot;C#CCCC[C@H](Nc…</td><td>295246842</td><td>1989</td><td>409</td><td>605</td><td>&quot;BRD4&quot;</td><td>4550856</td><td>2</td></tr><tr><td>&quot;C#CCCC[C@H](Nc…</td><td>295246845</td><td>1989</td><td>409</td><td>521</td><td>&quot;BRD4&quot;</td><td>4414349</td><td>2</td></tr><tr><td>&quot;C#CCCC[C@H](Nc…</td><td>295246848</td><td>1989</td><td>409</td><td>41</td><td>&quot;BRD4&quot;</td><td>5367715</td><td>2</td></tr><tr><td>&quot;C#CCCC[C@H](Nc…</td><td>295246851</td><td>1989</td><td>409</td><td>1826</td><td>&quot;BRD4&quot;</td><td>1422452</td><td>2</td></tr><tr><td>&quot;C#CCCC[C@H](Nc…</td><td>295246854</td><td>1989</td><td>409</td><td>1970</td><td>&quot;BRD4&quot;</td><td>4752663</td><td>2</td></tr><tr><td>&quot;C#CCCC[C@H](Nc…</td><td>295246857</td><td>1989</td><td>409</td><td>598</td><td>&quot;BRD4&quot;</td><td>5758930</td><td>2</td></tr><tr><td>&hellip;</td><td>&hellip;</td><td>&hellip;</td><td>&hellip;</td><td>&hellip;</td><td>&hellip;</td><td>&hellip;</td><td>&hellip;</td></tr><tr><td>&quot;[N-]=[N+]=NCCC…</td><td>296921696</td><td>141</td><td>1474</td><td>712</td><td>&quot;BRD4&quot;</td><td>1758733</td><td>0</td></tr><tr><td>&quot;[N-]=[N+]=NCCC…</td><td>296921699</td><td>141</td><td>1792</td><td>227</td><td>&quot;BRD4&quot;</td><td>3258407</td><td>0</td></tr><tr><td>&quot;[N-]=[N+]=NCCC…</td><td>296921702</td><td>141</td><td>1792</td><td>1092</td><td>&quot;BRD4&quot;</td><td>3526087</td><td>0</td></tr><tr><td>&quot;[N-]=[N+]=NCCC…</td><td>296921705</td><td>141</td><td>120</td><td>1280</td><td>&quot;BRD4&quot;</td><td>4100278</td><td>0</td></tr><tr><td>&quot;[N-]=[N+]=NCCC…</td><td>296921708</td><td>141</td><td>1178</td><td>1254</td><td>&quot;BRD4&quot;</td><td>2925996</td><td>0</td></tr><tr><td>&quot;Cn1ncc2cc(Nc3n…</td><td>296921711</td><td>141</td><td>1699</td><td>307</td><td>&quot;BRD4&quot;</td><td>3694466</td><td>0</td></tr><tr><td>&quot;[N-]=[N+]=NCCC…</td><td>296921714</td><td>141</td><td>1699</td><td>1254</td><td>&quot;BRD4&quot;</td><td>2925996</td><td>0</td></tr><tr><td>&quot;COC(=O)c1ccnc(…</td><td>296921717</td><td>141</td><td>1415</td><td>1390</td><td>&quot;BRD4&quot;</td><td>926159</td><td>0</td></tr><tr><td>&quot;COC1CCC(CCNc2n…</td><td>296921720</td><td>141</td><td>1415</td><td>1556</td><td>&quot;BRD4&quot;</td><td>3642883</td><td>0</td></tr><tr><td>&quot;[N-]=[N+]=NCCC…</td><td>296921723</td><td>141</td><td>1415</td><td>236</td><td>&quot;BRD4&quot;</td><td>2851961</td><td>0</td></tr></tbody></table></div>"
      ],
      "text/plain": [
       "shape: (878_022, 8)\n",
       "┌────────────────────────────┬───────────┬──────┬──────┬──────┬─────────┬──────────────┬───────────┐\n",
       "│ molecule                   ┆ id        ┆ bb1  ┆ bb2  ┆ bb3  ┆ protein ┆ scaffold_idx ┆ mol_group │\n",
       "│ ---                        ┆ ---       ┆ ---  ┆ ---  ┆ ---  ┆ ---     ┆ ---          ┆ ---       │\n",
       "│ str                        ┆ i64       ┆ u16  ┆ u16  ┆ u16  ┆ str     ┆ i64          ┆ u8        │\n",
       "╞════════════════════════════╪═══════════╪══════╪══════╪══════╪═════════╪══════════════╪═══════════╡\n",
       "│ C#CCCC[C@H](Nc1nc(Nc2ccc(C ┆ 295246830 ┆ 1989 ┆ 409  ┆ 409  ┆ BRD4    ┆ 2217250      ┆ 2         │\n",
       "│ =C)cc2…                    ┆           ┆      ┆      ┆      ┆         ┆              ┆           │\n",
       "│ C#CCCC[C@H](Nc1nc(Nc2ccc(C ┆ 295246833 ┆ 1989 ┆ 409  ┆ 1012 ┆ BRD4    ┆ 602641       ┆ 2         │\n",
       "│ =C)cc2…                    ┆           ┆      ┆      ┆      ┆         ┆              ┆           │\n",
       "│ C#CCCC[C@H](Nc1nc(NCC2(O)C ┆ 295246836 ┆ 1989 ┆ 409  ┆ 1722 ┆ BRD4    ┆ 4502748      ┆ 2         │\n",
       "│ CCC2(C…                    ┆           ┆      ┆      ┆      ┆         ┆              ┆           │\n",
       "│ C#CCCC[C@H](Nc1nc(Nc2ccc(C ┆ 295246839 ┆ 1989 ┆ 409  ┆ 1078 ┆ BRD4    ┆ 3936208      ┆ 2         │\n",
       "│ =C)cc2…                    ┆           ┆      ┆      ┆      ┆         ┆              ┆           │\n",
       "│ C#CCCC[C@H](Nc1nc(NCC2CCC( ┆ 295246842 ┆ 1989 ┆ 409  ┆ 605  ┆ BRD4    ┆ 4550856      ┆ 2         │\n",
       "│ SC)CC2…                    ┆           ┆      ┆      ┆      ┆         ┆              ┆           │\n",
       "│ C#CCCC[C@H](Nc1nc(NCc2ccc( ┆ 295246845 ┆ 1989 ┆ 409  ┆ 521  ┆ BRD4    ┆ 4414349      ┆ 2         │\n",
       "│ C)cc2N…                    ┆           ┆      ┆      ┆      ┆         ┆              ┆           │\n",
       "│ C#CCCC[C@H](Nc1nc(NCCc2ccc ┆ 295246848 ┆ 1989 ┆ 409  ┆ 41   ┆ BRD4    ┆ 5367715      ┆ 2         │\n",
       "│ (OCC(=…                    ┆           ┆      ┆      ┆      ┆         ┆              ┆           │\n",
       "│ C#CCCC[C@H](Nc1nc(NCCCNC(= ┆ 295246851 ┆ 1989 ┆ 409  ┆ 1826 ┆ BRD4    ┆ 1422452      ┆ 2         │\n",
       "│ O)c2oc…                    ┆           ┆      ┆      ┆      ┆         ┆              ┆           │\n",
       "│ C#CCCC[C@H](Nc1nc(NCc2nnc( ┆ 295246854 ┆ 1989 ┆ 409  ┆ 1970 ┆ BRD4    ┆ 4752663      ┆ 2         │\n",
       "│ N3CCCC…                    ┆           ┆      ┆      ┆      ┆         ┆              ┆           │\n",
       "│ C#CCCC[C@H](Nc1nc(NCCc2csc ┆ 295246857 ┆ 1989 ┆ 409  ┆ 598  ┆ BRD4    ┆ 5758930      ┆ 2         │\n",
       "│ 3ccccc…                    ┆           ┆      ┆      ┆      ┆         ┆              ┆           │\n",
       "│ …                          ┆ …         ┆ …    ┆ …    ┆ …    ┆ …       ┆ …            ┆ …         │\n",
       "│ [N-]=[N+]=NCCC[C@H](Nc1nc( ┆ 296921696 ┆ 141  ┆ 1474 ┆ 712  ┆ BRD4    ┆ 1758733      ┆ 0         │\n",
       "│ Nc2nc(…                    ┆           ┆      ┆      ┆      ┆         ┆              ┆           │\n",
       "│ [N-]=[N+]=NCCC[C@H](Nc1nc( ┆ 296921699 ┆ 141  ┆ 1792 ┆ 227  ┆ BRD4    ┆ 3258407      ┆ 0         │\n",
       "│ Nc2ncn…                    ┆           ┆      ┆      ┆      ┆         ┆              ┆           │\n",
       "│ [N-]=[N+]=NCCC[C@H](Nc1nc( ┆ 296921702 ┆ 141  ┆ 1792 ┆ 1092 ┆ BRD4    ┆ 3526087      ┆ 0         │\n",
       "│ Nc2cn3…                    ┆           ┆      ┆      ┆      ┆         ┆              ┆           │\n",
       "│ [N-]=[N+]=NCCC[C@H](Nc1nc( ┆ 296921705 ┆ 141  ┆ 120  ┆ 1280 ┆ BRD4    ┆ 4100278      ┆ 0         │\n",
       "│ NCC2(c…                    ┆           ┆      ┆      ┆      ┆         ┆              ┆           │\n",
       "│ [N-]=[N+]=NCCC[C@H](Nc1nc( ┆ 296921708 ┆ 141  ┆ 1178 ┆ 1254 ┆ BRD4    ┆ 2925996      ┆ 0         │\n",
       "│ NCC2CC…                    ┆           ┆      ┆      ┆      ┆         ┆              ┆           │\n",
       "│ Cn1ncc2cc(Nc3nc(Nc4nncs4)n ┆ 296921711 ┆ 141  ┆ 1699 ┆ 307  ┆ BRD4    ┆ 3694466      ┆ 0         │\n",
       "│ c(N[C@…                    ┆           ┆      ┆      ┆      ┆         ┆              ┆           │\n",
       "│ [N-]=[N+]=NCCC[C@H](Nc1nc( ┆ 296921714 ┆ 141  ┆ 1699 ┆ 1254 ┆ BRD4    ┆ 2925996      ┆ 0         │\n",
       "│ NCC2CC…                    ┆           ┆      ┆      ┆      ┆         ┆              ┆           │\n",
       "│ COC(=O)c1ccnc(Nc2nc(Nc3noc ┆ 296921717 ┆ 141  ┆ 1415 ┆ 1390 ┆ BRD4    ┆ 926159       ┆ 0         │\n",
       "│ 4ccc(F…                    ┆           ┆      ┆      ┆      ┆         ┆              ┆           │\n",
       "│ COC1CCC(CCNc2nc(Nc3noc4ccc ┆ 296921720 ┆ 141  ┆ 1415 ┆ 1556 ┆ BRD4    ┆ 3642883      ┆ 0         │\n",
       "│ (F)cc3…                    ┆           ┆      ┆      ┆      ┆         ┆              ┆           │\n",
       "│ [N-]=[N+]=NCCC[C@H](Nc1nc( ┆ 296921723 ┆ 141  ┆ 1415 ┆ 236  ┆ BRD4    ┆ 2851961      ┆ 0         │\n",
       "│ NCc2cc…                    ┆           ┆      ┆      ┆      ┆         ┆              ┆           │\n",
       "└────────────────────────────┴───────────┴──────┴──────┴──────┴─────────┴──────────────┴───────────┘"
      ]
     },
     "execution_count": 4,
     "metadata": {},
     "output_type": "execute_result"
    }
   ],
   "source": [
    "test_scaffolds = pl.scan_csv('/home/dangnh36/datasets/competitions/leash_belka/processed/test_scaffold.csv').collect()\n",
    "mol_groups = pl.scan_csv('/home/dangnh36/datasets/competitions/leash_belka/processed/test_v4.csv').select(pl.col('mol_group').cast(pl.UInt8)).collect()\n",
    "test_df = pl.scan_csv('/home/dangnh36/datasets/competitions/leash_belka/processed/test_v2.csv')\\\n",
    "    .select(\n",
    "        pl.col('id','molecule'),\n",
    "        pl.col('bb1', 'bb2', 'bb3').cast(pl.UInt16),\n",
    "        pl.col('protein'),\n",
    "        scaffold_idx = test_scaffolds['scaffold_idx']\n",
    "    ).group_by('molecule').first().sort('id').with_columns(mol_group = mol_groups['mol_group']).collect()\n",
    "print(test_df.shape, test_df.estimated_size('mb'))\n",
    "test_df"
   ]
  },
  {
   "cell_type": "code",
   "execution_count": 5,
   "id": "dd162e76",
   "metadata": {},
   "outputs": [
    {
     "data": {
      "text/html": [
       "<div><style>\n",
       ".dataframe > thead > tr,\n",
       ".dataframe > tbody > tr {\n",
       "  text-align: right;\n",
       "  white-space: pre-wrap;\n",
       "}\n",
       "</style>\n",
       "<small>shape: (4, 2)</small><table border=\"1\" class=\"dataframe\"><thead><tr><th>mol_group</th><th>count</th></tr><tr><td>u8</td><td>u32</td></tr></thead><tbody><tr><td>0</td><td>369039</td></tr><tr><td>1</td><td>486390</td></tr><tr><td>2</td><td>11271</td></tr><tr><td>3</td><td>11322</td></tr></tbody></table></div>"
      ],
      "text/plain": [
       "shape: (4, 2)\n",
       "┌───────────┬────────┐\n",
       "│ mol_group ┆ count  │\n",
       "│ ---       ┆ ---    │\n",
       "│ u8        ┆ u32    │\n",
       "╞═══════════╪════════╡\n",
       "│ 0         ┆ 369039 │\n",
       "│ 1         ┆ 486390 │\n",
       "│ 2         ┆ 11271  │\n",
       "│ 3         ┆ 11322  │\n",
       "└───────────┴────────┘"
      ]
     },
     "execution_count": 5,
     "metadata": {},
     "output_type": "execute_result"
    }
   ],
   "source": [
    "test_df.group_by('mol_group').count().sort('mol_group')"
   ]
  },
  {
   "cell_type": "code",
   "execution_count": 6,
   "id": "e18d7b1a",
   "metadata": {},
   "outputs": [
    {
     "data": {
      "text/html": [
       "<div><style>\n",
       ".dataframe > thead > tr,\n",
       ".dataframe > tbody > tr {\n",
       "  text-align: right;\n",
       "  white-space: pre-wrap;\n",
       "}\n",
       "</style>\n",
       "<small>shape: (11_271, 8)</small><table border=\"1\" class=\"dataframe\"><thead><tr><th>molecule</th><th>id</th><th>bb1</th><th>bb2</th><th>bb3</th><th>protein</th><th>scaffold_idx</th><th>mol_group</th></tr><tr><td>str</td><td>i64</td><td>u16</td><td>u16</td><td>u16</td><td>str</td><td>i64</td><td>u8</td></tr></thead><tbody><tr><td>&quot;C#CCCC[C@H](Nc…</td><td>295246830</td><td>1989</td><td>409</td><td>409</td><td>&quot;BRD4&quot;</td><td>2217250</td><td>2</td></tr><tr><td>&quot;C#CCCC[C@H](Nc…</td><td>295246833</td><td>1989</td><td>409</td><td>1012</td><td>&quot;BRD4&quot;</td><td>602641</td><td>2</td></tr><tr><td>&quot;C#CCCC[C@H](Nc…</td><td>295246836</td><td>1989</td><td>409</td><td>1722</td><td>&quot;BRD4&quot;</td><td>4502748</td><td>2</td></tr><tr><td>&quot;C#CCCC[C@H](Nc…</td><td>295246839</td><td>1989</td><td>409</td><td>1078</td><td>&quot;BRD4&quot;</td><td>3936208</td><td>2</td></tr><tr><td>&quot;C#CCCC[C@H](Nc…</td><td>295246842</td><td>1989</td><td>409</td><td>605</td><td>&quot;BRD4&quot;</td><td>4550856</td><td>2</td></tr><tr><td>&quot;C#CCCC[C@H](Nc…</td><td>295246845</td><td>1989</td><td>409</td><td>521</td><td>&quot;BRD4&quot;</td><td>4414349</td><td>2</td></tr><tr><td>&quot;C#CCCC[C@H](Nc…</td><td>295246848</td><td>1989</td><td>409</td><td>41</td><td>&quot;BRD4&quot;</td><td>5367715</td><td>2</td></tr><tr><td>&quot;C#CCCC[C@H](Nc…</td><td>295246851</td><td>1989</td><td>409</td><td>1826</td><td>&quot;BRD4&quot;</td><td>1422452</td><td>2</td></tr><tr><td>&quot;C#CCCC[C@H](Nc…</td><td>295246854</td><td>1989</td><td>409</td><td>1970</td><td>&quot;BRD4&quot;</td><td>4752663</td><td>2</td></tr><tr><td>&quot;C#CCCC[C@H](Nc…</td><td>295246857</td><td>1989</td><td>409</td><td>598</td><td>&quot;BRD4&quot;</td><td>5758930</td><td>2</td></tr><tr><td>&hellip;</td><td>&hellip;</td><td>&hellip;</td><td>&hellip;</td><td>&hellip;</td><td>&hellip;</td><td>&hellip;</td><td>&hellip;</td></tr><tr><td>&quot;Cc1cccc(NC(=O)…</td><td>296690450</td><td>29</td><td>311</td><td>41</td><td>&quot;BRD4&quot;</td><td>1171917</td><td>2</td></tr><tr><td>&quot;O=C(C[C@H](Cc1…</td><td>296690453</td><td>29</td><td>311</td><td>1970</td><td>&quot;BRD4&quot;</td><td>939671</td><td>2</td></tr><tr><td>&quot;O=C(C[C@H](Cc1…</td><td>296690456</td><td>29</td><td>311</td><td>1865</td><td>&quot;BRD4&quot;</td><td>213361</td><td>2</td></tr><tr><td>&quot;O=C(C[C@H](Cc1…</td><td>296690459</td><td>29</td><td>311</td><td>231</td><td>&quot;BRD4&quot;</td><td>4021489</td><td>2</td></tr><tr><td>&quot;O=C(C[C@H](Cc1…</td><td>296690462</td><td>29</td><td>311</td><td>1288</td><td>&quot;BRD4&quot;</td><td>4505053</td><td>2</td></tr><tr><td>&quot;O=C(C[C@H](Cc1…</td><td>296690465</td><td>29</td><td>311</td><td>276</td><td>&quot;BRD4&quot;</td><td>4666289</td><td>2</td></tr><tr><td>&quot;O=C(C[C@H](Cc1…</td><td>296690468</td><td>29</td><td>311</td><td>989</td><td>&quot;BRD4&quot;</td><td>5845163</td><td>2</td></tr><tr><td>&quot;O=C(C[C@H](Cc1…</td><td>296690471</td><td>29</td><td>311</td><td>2048</td><td>&quot;BRD4&quot;</td><td>4681216</td><td>2</td></tr><tr><td>&quot;O=C(C[C@H](Cc1…</td><td>296690474</td><td>29</td><td>311</td><td>311</td><td>&quot;BRD4&quot;</td><td>2739921</td><td>2</td></tr><tr><td>&quot;O=C(C[C@H](Cc1…</td><td>296690477</td><td>29</td><td>311</td><td>748</td><td>&quot;BRD4&quot;</td><td>2626561</td><td>2</td></tr></tbody></table></div>"
      ],
      "text/plain": [
       "shape: (11_271, 8)\n",
       "┌─────────────────────────────┬───────────┬──────┬─────┬──────┬─────────┬──────────────┬───────────┐\n",
       "│ molecule                    ┆ id        ┆ bb1  ┆ bb2 ┆ bb3  ┆ protein ┆ scaffold_idx ┆ mol_group │\n",
       "│ ---                         ┆ ---       ┆ ---  ┆ --- ┆ ---  ┆ ---     ┆ ---          ┆ ---       │\n",
       "│ str                         ┆ i64       ┆ u16  ┆ u16 ┆ u16  ┆ str     ┆ i64          ┆ u8        │\n",
       "╞═════════════════════════════╪═══════════╪══════╪═════╪══════╪═════════╪══════════════╪═══════════╡\n",
       "│ C#CCCC[C@H](Nc1nc(Nc2ccc(C= ┆ 295246830 ┆ 1989 ┆ 409 ┆ 409  ┆ BRD4    ┆ 2217250      ┆ 2         │\n",
       "│ C)cc2…                      ┆           ┆      ┆     ┆      ┆         ┆              ┆           │\n",
       "│ C#CCCC[C@H](Nc1nc(Nc2ccc(C= ┆ 295246833 ┆ 1989 ┆ 409 ┆ 1012 ┆ BRD4    ┆ 602641       ┆ 2         │\n",
       "│ C)cc2…                      ┆           ┆      ┆     ┆      ┆         ┆              ┆           │\n",
       "│ C#CCCC[C@H](Nc1nc(NCC2(O)CC ┆ 295246836 ┆ 1989 ┆ 409 ┆ 1722 ┆ BRD4    ┆ 4502748      ┆ 2         │\n",
       "│ CC2(C…                      ┆           ┆      ┆     ┆      ┆         ┆              ┆           │\n",
       "│ C#CCCC[C@H](Nc1nc(Nc2ccc(C= ┆ 295246839 ┆ 1989 ┆ 409 ┆ 1078 ┆ BRD4    ┆ 3936208      ┆ 2         │\n",
       "│ C)cc2…                      ┆           ┆      ┆     ┆      ┆         ┆              ┆           │\n",
       "│ C#CCCC[C@H](Nc1nc(NCC2CCC(S ┆ 295246842 ┆ 1989 ┆ 409 ┆ 605  ┆ BRD4    ┆ 4550856      ┆ 2         │\n",
       "│ C)CC2…                      ┆           ┆      ┆     ┆      ┆         ┆              ┆           │\n",
       "│ C#CCCC[C@H](Nc1nc(NCc2ccc(C ┆ 295246845 ┆ 1989 ┆ 409 ┆ 521  ┆ BRD4    ┆ 4414349      ┆ 2         │\n",
       "│ )cc2N…                      ┆           ┆      ┆     ┆      ┆         ┆              ┆           │\n",
       "│ C#CCCC[C@H](Nc1nc(NCCc2ccc( ┆ 295246848 ┆ 1989 ┆ 409 ┆ 41   ┆ BRD4    ┆ 5367715      ┆ 2         │\n",
       "│ OCC(=…                      ┆           ┆      ┆     ┆      ┆         ┆              ┆           │\n",
       "│ C#CCCC[C@H](Nc1nc(NCCCNC(=O ┆ 295246851 ┆ 1989 ┆ 409 ┆ 1826 ┆ BRD4    ┆ 1422452      ┆ 2         │\n",
       "│ )c2oc…                      ┆           ┆      ┆     ┆      ┆         ┆              ┆           │\n",
       "│ C#CCCC[C@H](Nc1nc(NCc2nnc(N ┆ 295246854 ┆ 1989 ┆ 409 ┆ 1970 ┆ BRD4    ┆ 4752663      ┆ 2         │\n",
       "│ 3CCCC…                      ┆           ┆      ┆     ┆      ┆         ┆              ┆           │\n",
       "│ C#CCCC[C@H](Nc1nc(NCCc2csc3 ┆ 295246857 ┆ 1989 ┆ 409 ┆ 598  ┆ BRD4    ┆ 5758930      ┆ 2         │\n",
       "│ ccccc…                      ┆           ┆      ┆     ┆      ┆         ┆              ┆           │\n",
       "│ …                           ┆ …         ┆ …    ┆ …   ┆ …    ┆ …       ┆ …            ┆ …         │\n",
       "│ Cc1cccc(NC(=O)COc2ccc(CCNc3 ┆ 296690450 ┆ 29   ┆ 311 ┆ 41   ┆ BRD4    ┆ 1171917      ┆ 2         │\n",
       "│ nc(Nc…                      ┆           ┆      ┆     ┆      ┆         ┆              ┆           │\n",
       "│ O=C(C[C@H](Cc1csc2ccccc12)N ┆ 296690453 ┆ 29   ┆ 311 ┆ 1970 ┆ BRD4    ┆ 939671       ┆ 2         │\n",
       "│ c1nc(…                      ┆           ┆      ┆     ┆      ┆         ┆              ┆           │\n",
       "│ O=C(C[C@H](Cc1csc2ccccc12)N ┆ 296690456 ┆ 29   ┆ 311 ┆ 1865 ┆ BRD4    ┆ 213361       ┆ 2         │\n",
       "│ c1nc(…                      ┆           ┆      ┆     ┆      ┆         ┆              ┆           │\n",
       "│ O=C(C[C@H](Cc1csc2ccccc12)N ┆ 296690459 ┆ 29   ┆ 311 ┆ 231  ┆ BRD4    ┆ 4021489      ┆ 2         │\n",
       "│ c1nc(…                      ┆           ┆      ┆     ┆      ┆         ┆              ┆           │\n",
       "│ O=C(C[C@H](Cc1csc2ccccc12)N ┆ 296690462 ┆ 29   ┆ 311 ┆ 1288 ┆ BRD4    ┆ 4505053      ┆ 2         │\n",
       "│ c1nc(…                      ┆           ┆      ┆     ┆      ┆         ┆              ┆           │\n",
       "│ O=C(C[C@H](Cc1csc2ccccc12)N ┆ 296690465 ┆ 29   ┆ 311 ┆ 276  ┆ BRD4    ┆ 4666289      ┆ 2         │\n",
       "│ c1nc(…                      ┆           ┆      ┆     ┆      ┆         ┆              ┆           │\n",
       "│ O=C(C[C@H](Cc1csc2ccccc12)N ┆ 296690468 ┆ 29   ┆ 311 ┆ 989  ┆ BRD4    ┆ 5845163      ┆ 2         │\n",
       "│ c1nc(…                      ┆           ┆      ┆     ┆      ┆         ┆              ┆           │\n",
       "│ O=C(C[C@H](Cc1csc2ccccc12)N ┆ 296690471 ┆ 29   ┆ 311 ┆ 2048 ┆ BRD4    ┆ 4681216      ┆ 2         │\n",
       "│ c1nc(…                      ┆           ┆      ┆     ┆      ┆         ┆              ┆           │\n",
       "│ O=C(C[C@H](Cc1csc2ccccc12)N ┆ 296690474 ┆ 29   ┆ 311 ┆ 311  ┆ BRD4    ┆ 2739921      ┆ 2         │\n",
       "│ c1nc(…                      ┆           ┆      ┆     ┆      ┆         ┆              ┆           │\n",
       "│ O=C(C[C@H](Cc1csc2ccccc12)N ┆ 296690477 ┆ 29   ┆ 311 ┆ 748  ┆ BRD4    ┆ 2626561      ┆ 2         │\n",
       "│ c1nc(…                      ┆           ┆      ┆     ┆      ┆         ┆              ┆           │\n",
       "└─────────────────────────────┴───────────┴──────┴─────┴──────┴─────────┴──────────────┴───────────┘"
      ]
     },
     "execution_count": 6,
     "metadata": {},
     "output_type": "execute_result"
    }
   ],
   "source": [
    "nonshare_public_df = test_df.filter(pl.col('mol_group') == 2)\n",
    "nonshare_public_df"
   ]
  },
  {
   "cell_type": "code",
   "execution_count": 7,
   "id": "492a0259",
   "metadata": {},
   "outputs": [
    {
     "data": {
      "text/plain": [
       "2110"
      ]
     },
     "execution_count": 7,
     "metadata": {},
     "output_type": "execute_result"
    }
   ],
   "source": [
    "all_bbs = bbs_meta['all_bbs']\n",
    "len(all_bbs)"
   ]
  },
  {
   "cell_type": "code",
   "execution_count": null,
   "id": "bcf5ab90",
   "metadata": {},
   "outputs": [],
   "source": []
  },
  {
   "cell_type": "code",
   "execution_count": 8,
   "id": "20f5d772",
   "metadata": {},
   "outputs": [],
   "source": [
    "EPSILON = 1e-5\n",
    "\n",
    "def linear_assignment_lapjv(\n",
    "        cost_matrix: np.ndarray,\n",
    "        max_cost: float) -> Tuple[np.ndarray, np.ndarray, np.ndarray]:\n",
    "    \"\"\"Linear assignment using LapJV implementation.\n",
    "\n",
    "    Linear assignment with specified max cost. All posible pair with higher cost\n",
    "    will be treated equally (i.e having same cost in matching stage)\n",
    "    and will not be treated as matched (gated).\n",
    "    See https://github.com/nwojke/deep_sort/issues/84 or\n",
    "    https://github.com/nwojke/deep_sort/issues/135 for more implementation details.\n",
    "\n",
    "    Args:\n",
    "        cost_matrix:\n",
    "            Cost matrix of size M*N\n",
    "        max_cost:\n",
    "            Maximum cost allowed. A pair (cell) with higher cost will be gated.\n",
    "    \n",
    "    Returns:\n",
    "        Tuple contain 3 list (matched, unmatched_a, unmatched_b).\n",
    "        Each element in matched is in form of [a_idx, b_idx]\n",
    "        unmatched_a contains row indices which are not matched.\n",
    "        unmatched_b contains column indices which are not matched.\n",
    "    \"\"\"\n",
    "    if cost_matrix.size == 0:\n",
    "        return np.empty((0, 2),\n",
    "                        dtype=int), tuple(range(cost_matrix.shape[0])), tuple(\n",
    "                            range(cost_matrix.shape[1]))\n",
    "    # treated every over range costs equally to remove bias\n",
    "    # https://github.com/nwojke/deep_sort/issues/84\n",
    "    # https://github.com/nwojke/deep_sort/issues/135\n",
    "    cost_matrix[cost_matrix > max_cost] = max_cost + EPSILON\n",
    "    matches, unmatched_a, unmatched_b = [], [], []\n",
    "    _cost, a, b = lap.lapjv(cost_matrix, extend_cost=True, cost_limit=max_cost)\n",
    "    for ia, vb in enumerate(a):\n",
    "        if vb >= 0:\n",
    "            matches.append([ia, vb])\n",
    "    unmatched_a = np.where(a < 0)[0]\n",
    "    unmatched_b = np.where(b < 0)[0]\n",
    "    matches = np.asarray(matches)\n",
    "    return matches, unmatched_a, unmatched_b\n",
    "\n",
    "\n",
    "\n",
    "\n",
    "def get_ecfp(smile, radius=3, bits=2048):\n",
    "    if smile is None:\n",
    "        return None\n",
    "    mol = Chem.MolFromSmiles(smile)\n",
    "    fp = AllChem.GetMorganFingerprintAsBitVect(mol, radius, nBits=bits)\n",
    "    return fp\n",
    "\n",
    "\n",
    "def get_maccs(smile):\n",
    "    if smile is None:\n",
    "        return None\n",
    "    mol = Chem.MolFromSmiles(smile)\n",
    "    fp = MACCSkeys.GenMACCSKeys(mol)\n",
    "    return fp\n"
   ]
  },
  {
   "cell_type": "code",
   "execution_count": null,
   "id": "66632f08",
   "metadata": {},
   "outputs": [],
   "source": []
  },
  {
   "cell_type": "code",
   "execution_count": 9,
   "id": "9df65aa2",
   "metadata": {},
   "outputs": [
    {
     "data": {
      "text/plain": [
       "(271, 874)"
      ]
     },
     "execution_count": 9,
     "metadata": {},
     "output_type": "execute_result"
    }
   ],
   "source": [
    "train_bb1s = bbs_meta['train_bb1s']\n",
    "train_bb2s = bbs_meta['train_bb2s']\n",
    "train_bb3s = bbs_meta['train_bb3s']\n",
    "train_bb23s = sorted(list(set(train_bb2s + train_bb3s)))\n",
    "len(train_bb1s), len(train_bb23s)"
   ]
  },
  {
   "cell_type": "code",
   "execution_count": 10,
   "id": "68eb245f",
   "metadata": {},
   "outputs": [
    {
     "data": {
      "text/plain": [
       "['Br.Br.NCC1CCCN1c1cccnn1', 'Br.NCc1cccc(Br)n1', 'C#CCOc1ccc(CN)cc1.Cl']"
      ]
     },
     "execution_count": 10,
     "metadata": {},
     "output_type": "execute_result"
    }
   ],
   "source": [
    "train_bb23s[:3]"
   ]
  },
  {
   "cell_type": "code",
   "execution_count": null,
   "id": "30b87387",
   "metadata": {},
   "outputs": [],
   "source": []
  },
  {
   "cell_type": "code",
   "execution_count": 11,
   "id": "5af6b992",
   "metadata": {},
   "outputs": [
    {
     "data": {
      "text/plain": [
       "(17, 34, 36, 36)"
      ]
     },
     "execution_count": 11,
     "metadata": {},
     "output_type": "execute_result"
    }
   ],
   "source": [
    "nonshare_public_bb1_idxs = sorted(nonshare_public_df.select(pl.col('bb1').unique())['bb1'].to_list())\n",
    "nonshare_public_bb2_idxs = sorted(nonshare_public_df.select(pl.col('bb2').unique())['bb2'].to_list())\n",
    "nonshare_public_bb3_idxs = sorted(nonshare_public_df.select(pl.col('bb3').unique())['bb3'].to_list())\n",
    "nonshare_public_bb23_idxs = sorted(list(set(nonshare_public_bb2_idxs + nonshare_public_bb3_idxs)))\n",
    "len(nonshare_public_bb1_idxs), len(nonshare_public_bb2_idxs), len(nonshare_public_bb3_idxs), len(nonshare_public_bb23_idxs)"
   ]
  },
  {
   "cell_type": "code",
   "execution_count": 12,
   "id": "b8419716",
   "metadata": {},
   "outputs": [
    {
     "data": {
      "text/plain": [
       "['Cc1cccc(NC(=O)COc2ccc(CCN)cc2)c1.Cl',\n",
       " 'Cl.Cl.N=C(N)c1cccc(CN)c1',\n",
       " 'Cl.NCCc1ccc(S(N)(=O)=O)s1']"
      ]
     },
     "execution_count": 12,
     "metadata": {},
     "output_type": "execute_result"
    }
   ],
   "source": [
    "nonshare_public_bb1s = [all_bbs[i] for i in nonshare_public_bb1_idxs]\n",
    "nonshare_public_bb23s = [all_bbs[i] for i in nonshare_public_bb23_idxs]\n",
    "nonshare_public_bb23s[:3]"
   ]
  },
  {
   "cell_type": "code",
   "execution_count": null,
   "id": "12e7d390",
   "metadata": {},
   "outputs": [],
   "source": []
  },
  {
   "cell_type": "markdown",
   "id": "d28ebe33",
   "metadata": {},
   "source": [
    "# BB Fingerprint + Tanimoto similarity"
   ]
  },
  {
   "cell_type": "code",
   "execution_count": 13,
   "id": "dbddddec",
   "metadata": {},
   "outputs": [
    {
     "data": {
      "text/plain": [
       "(17, 36)"
      ]
     },
     "execution_count": 13,
     "metadata": {},
     "output_type": "execute_result"
    }
   ],
   "source": [
    "nonshare_public_bb1_ecfps = [get_ecfp(m) for m in nonshare_public_bb1s]\n",
    "nonshare_public_bb23_ecfps = [get_ecfp(m) for m in nonshare_public_bb23s]\n",
    "len(nonshare_public_bb1_ecfps), len(nonshare_public_bb23_ecfps)"
   ]
  },
  {
   "cell_type": "code",
   "execution_count": 14,
   "id": "1c0654f2",
   "metadata": {},
   "outputs": [
    {
     "data": {
      "text/plain": [
       "(271, 874)"
      ]
     },
     "execution_count": 14,
     "metadata": {},
     "output_type": "execute_result"
    }
   ],
   "source": [
    "train_bb1_ecfps = [get_ecfp(m) for m in train_bb1s]\n",
    "train_bb23_ecfps = [get_ecfp(m) for m in train_bb23s]\n",
    "len(train_bb1_ecfps), len(train_bb23_ecfps)"
   ]
  },
  {
   "cell_type": "code",
   "execution_count": 15,
   "id": "938fb39f",
   "metadata": {},
   "outputs": [],
   "source": [
    "def get_sim_mat(smiles_list1, smiles_list2, fp = 'ecfp6', sim = 'tanimoto'):\n",
    "    if fp == 'ecfp6':\n",
    "        fps1 = [get_ecfp(m, 3, 2048) for m in smiles_list1]\n",
    "        fps2 = [get_ecfp(m, 3, 2048) for m in smiles_list2]\n",
    "    elif fp == 'ecfp4':\n",
    "        fps1 = [get_ecfp(m, 2, 1024) for m in smiles_list1]\n",
    "        fps2 = [get_ecfp(m, 2, 1024) for m in smiles_list2]\n",
    "    elif fp == 'maccs':\n",
    "        fps1 = [get_maccs(m) for m in smiles_list1]\n",
    "        fps2 = [get_maccs(m) for m in smiles_list2]\n",
    "    else:\n",
    "        raise ValueError\n",
    "    \n",
    "    if sim == 'tanimoto':\n",
    "        sim_func = DataStructs.BulkTanimotoSimilarity\n",
    "    elif sim == 'cosine':\n",
    "        sim_func = DataStructs.BulkCosineSimilarity\n",
    "    elif sim == 'dice':\n",
    "        sim_func = DataStructs.BulkDiceSimilarity\n",
    "    elif sim == 'tversky':\n",
    "        sim_func = DataStructs.BulkTverskySimilarity\n",
    "    elif sim == 'rand':\n",
    "        def _rand(x, y):\n",
    "            return np.random.rand(1, len(y))\n",
    "        sim_func = _rand\n",
    "    else:\n",
    "        raise ValueError\n",
    "        \n",
    "    sim_mat = np.full((len(fps1), len(fps2)), -1, dtype = np.float32)\n",
    "    for i in range(len(fps2)):\n",
    "        tmp = sim_func(fps2[i], fps1)\n",
    "        sim_mat[:, i] = tmp\n",
    "    return sim_mat"
   ]
  },
  {
   "cell_type": "code",
   "execution_count": 17,
   "id": "e6d862f0",
   "metadata": {},
   "outputs": [
    {
     "name": "stdout",
     "output_type": "stream",
     "text": [
      "(271, 17)\n",
      "MAX:\n",
      " [0.70238096 0.7361111  0.7457627  0.5625     0.739726   0.7205882\n",
      " 0.65753424 0.6321839  0.6805556  0.7777778  0.6486486  0.6351351\n",
      " 0.7758621  0.6621622  0.9322034  0.65       0.73134327]\n",
      "MIN:\n",
      " [0.27272728 0.31632653 0.3090909  0.25619835 0.32258064 0.32608697\n",
      " 0.31       0.26717559 0.31578946 0.32967034 0.32608697 0.31578946\n",
      " 0.32692307 0.2857143  0.3063063  0.30252102 0.30701753]\n",
      "DIFF:\n",
      " [0.42965367 0.41978458 0.4366718  0.30630165 0.41714537 0.39450124\n",
      " 0.34753424 0.36500832 0.36476612 0.44810745 0.32256165 0.31934565\n",
      " 0.44893903 0.3764479  0.6258971  0.34747896 0.42432573]\n",
      "0 -> 17(218) with cost=0.7023809552192688\n",
      "1 -> 161(294) with cost=0.7361111044883728\n",
      "2 -> 183(2084) with cost=0.7457627058029175\n",
      "3 -> 231(2055) with cost=0.5625\n",
      "4 -> 5(1114) with cost=0.7397260069847107\n",
      "5 -> 109(186) with cost=0.720588207244873\n",
      "6 -> 110(589) with cost=0.6575342416763306\n",
      "7 -> 144(2034) with cost=0.6321839094161987\n",
      "8 -> 66(1669) with cost=0.6805555820465088\n",
      "9 -> 40(1120) with cost=0.7777777910232544\n",
      "10 -> 170(1253) with cost=0.6486486196517944\n",
      "11 -> 168(504) with cost=0.6351351141929626\n",
      "12 -> 68(137) with cost=0.7758620977401733\n",
      "13 -> 146(347) with cost=0.662162184715271\n",
      "14 -> 102(1147) with cost=0.9322034120559692\n",
      "15 -> 94(599) with cost=0.6499999761581421\n",
      "16 -> 69(2013) with cost=0.7313432693481445\n"
     ]
    },
    {
     "data": {
      "image/png": "[encoded data removed]",
      "text/plain": [
       "<Figure size 640x480 with 1 Axes>"
      ]
     },
     "metadata": {},
     "output_type": "display_data"
    },
    {
     "name": "stdout",
     "output_type": "stream",
     "text": [
      "Val BB1 idxs: [218, 294, 2084, 2055, 1114, 186, 589, 2034, 1669, 1120, 1253, 504, 137, 347, 1147, 599, 2013]\n",
      "\n",
      "\n",
      "\n",
      "-----------------------------\n",
      "\n",
      "\n",
      "\n",
      "(874, 36)\n",
      "MAX:\n",
      " [0.2535211  0.4117647  0.3809524  0.4        0.42857143 0.5555556\n",
      " 0.29032257 0.4857143  0.47916666 0.29032257 0.36734694 0.31578946\n",
      " 0.29090908 0.3529412  0.4827586  0.3888889  0.34375    0.20833333\n",
      " 0.30645162 0.3043478  0.3043478  0.3018868  0.39534885 0.29090908\n",
      " 0.33333334 0.45454547 0.2580645  0.4375     0.30232558 0.25925925\n",
      " 0.34615386 0.37209302 0.4        0.32352942 0.27272728 0.32608697]\n",
      "MIN:\n",
      " [0.02739726 0.025      0.03703704 0.03571429 0.01587302 0.01886792\n",
      " 0.01724138 0.01587302 0.01369863 0.01666667 0.01351351 0.03773585\n",
      " 0.02222222 0.01351351 0.01666667 0.01538462 0.04545455 0.01492537\n",
      " 0.01538462 0.01388889 0.02       0.02222222 0.01515152 0.02222222\n",
      " 0.03225806 0.01515152 0.03333334 0.01428571 0.02702703 0.03125\n",
      " 0.01369863 0.01449275 0.03636364 0.02857143 0.03030303 0.01515152]\n",
      "DIFF:\n",
      " [0.22612385 0.3867647  0.34391534 0.3642857  0.41269842 0.5366877\n",
      " 0.27308118 0.46984127 0.46546802 0.2736559  0.35383344 0.2780536\n",
      " 0.26868686 0.33942768 0.46609193 0.37350428 0.29829544 0.19340795\n",
      " 0.291067   0.29045892 0.2843478  0.27966458 0.38019735 0.26868686\n",
      " 0.30107528 0.43939394 0.22473118 0.4232143  0.27529854 0.22800925\n",
      " 0.33245522 0.35760027 0.36363637 0.294958   0.24242425 0.31093544]\n",
      "0 -> 378 with cost=0.2535211145877838\n",
      "1 -> 634 with cost=0.4117647111415863\n",
      "2 -> 479 with cost=0.380952388048172\n",
      "3 -> 643 with cost=0.4000000059604645\n",
      "4 -> 691 with cost=0.4285714328289032\n",
      "5 -> 734 with cost=0.5555555820465088\n",
      "6 -> 855 with cost=0.29032257199287415\n",
      "7 -> 208 with cost=0.48571428656578064\n",
      "8 -> 810 with cost=0.4166666567325592\n",
      "9 -> 4 with cost=0.29032257199287415\n",
      "10 -> 209 with cost=0.36734694242477417\n",
      "11 -> 620 with cost=0.31578946113586426\n",
      "12 -> 613 with cost=0.290909081697464\n",
      "13 -> 584 with cost=0.3529411852359772\n",
      "14 -> 281 with cost=0.48275861144065857\n",
      "15 -> 177 with cost=0.3888888955116272\n",
      "16 -> 660 with cost=0.34375\n",
      "17 -> 553 with cost=0.2083333283662796\n",
      "18 -> 776 with cost=0.30645161867141724\n",
      "19 -> 763 with cost=0.30434781312942505\n",
      "20 -> 868 with cost=0.30434781312942505\n",
      "21 -> 498 with cost=0.30188679695129395\n",
      "22 -> 153 with cost=0.39534884691238403\n",
      "23 -> 645 with cost=0.290909081697464\n",
      "24 -> 270 with cost=0.3333333432674408\n",
      "25 -> 699 with cost=0.4545454680919647\n",
      "26 -> 118 with cost=0.25806450843811035\n",
      "27 -> 813 with cost=0.4375\n",
      "28 -> 329 with cost=0.302325576543808\n",
      "29 -> 109 with cost=0.25925925374031067\n",
      "30 -> 575 with cost=0.3461538553237915\n",
      "31 -> 472 with cost=0.3720930218696594\n",
      "32 -> 461 with cost=0.4000000059604645\n",
      "33 -> 330 with cost=0.3142857253551483\n",
      "34 -> 344 with cost=0.27272728085517883\n",
      "35 -> 778 with cost=0.32608696818351746\n"
     ]
    },
    {
     "data": {
      "image/png": "[encoded data removed]",
      "text/plain": [
       "<Figure size 640x480 with 1 Axes>"
      ]
     },
     "metadata": {},
     "output_type": "display_data"
    },
    {
     "name": "stdout",
     "output_type": "stream",
     "text": [
      "Val BB23 idxs: [2041, 684, 1749, 1425, 654, 1959, 84, 1161, 1268, 1982, 1603, 1906, 2066, 1407, 391, 2089, 1813, 821, 406, 1543, 1792, 960, 1351, 148, 1681, 130, 1587, 1564, 1331, 1815, 1337, 804, 528, 726, 474, 1366]\n",
      "(11093, 8)\n"
     ]
    },
    {
     "data": {
      "text/html": [
       "<div><style>\n",
       ".dataframe > thead > tr,\n",
       ".dataframe > tbody > tr {\n",
       "  text-align: right;\n",
       "  white-space: pre-wrap;\n",
       "}\n",
       "</style>\n",
       "<small>shape: (1, 3)</small><table border=\"1\" class=\"dataframe\"><thead><tr><th>BRD4</th><th>HSA</th><th>sEH</th></tr><tr><td>f64</td><td>f64</td><td>f64</td></tr></thead><tbody><tr><td>1.198954</td><td>0.378617</td><td>0.351573</td></tr></tbody></table></div>"
      ],
      "text/plain": [
       "shape: (1, 3)\n",
       "┌──────────┬──────────┬──────────┐\n",
       "│ BRD4     ┆ HSA      ┆ sEH      │\n",
       "│ ---      ┆ ---      ┆ ---      │\n",
       "│ f64      ┆ f64      ┆ f64      │\n",
       "╞══════════╪══════════╪══════════╡\n",
       "│ 1.198954 ┆ 0.378617 ┆ 0.351573 │\n",
       "└──────────┴──────────┴──────────┘"
      ]
     },
     "execution_count": 17,
     "metadata": {},
     "output_type": "execute_result"
    }
   ],
   "source": [
    "FP = 'ecfp6'\n",
    "SIM = 'tanimoto'\n",
    "DUP = 1\n",
    "INV = False\n",
    "\n",
    "bb1_sim_mat = get_sim_mat(train_bb1s, nonshare_public_bb1s * DUP, fp = FP, sim = SIM)\n",
    "print(bb1_sim_mat.shape)\n",
    "print('MAX:\\n', bb1_sim_mat.max(axis = 0))\n",
    "print('MIN:\\n', bb1_sim_mat.min(axis = 0))\n",
    "print('DIFF:\\n', bb1_sim_mat.max(axis = 0) - bb1_sim_mat.min(axis = 0))\n",
    "\n",
    "matches, unmatched_a, unmatched_b = linear_assignment_lapjv(1.0 - bb1_sim_mat if not INV else bb1_sim_mat, max_cost=1.0)\n",
    "matches = sorted(matches, key = lambda x: x[1])\n",
    "assert len(unmatched_b) == 0\n",
    "val_bb1_idxs = []\n",
    "costs = []\n",
    "for idx_a, idx_b in matches:\n",
    "    val_bb1_idxs.append(all_bbs.index(train_bb1s[idx_a]))\n",
    "    cost = bb1_sim_mat[idx_a, idx_b]\n",
    "    costs.append(cost)\n",
    "    print(f'{idx_b} -> {idx_a}({all_bbs.index(train_bb1s[idx_a])}) with cost={cost}')\n",
    "plt.hist(costs)\n",
    "plt.show()\n",
    "\n",
    "print('Val BB1 idxs:', val_bb1_idxs)\n",
    "\n",
    "print('\\n\\n\\n-----------------------------\\n\\n\\n')\n",
    "\n",
    "bb23_sim_mat = get_sim_mat(train_bb23s, nonshare_public_bb23s * DUP, fp = FP, sim = SIM)\n",
    "print(bb23_sim_mat.shape)\n",
    "print('MAX:\\n', bb23_sim_mat.max(axis = 0))\n",
    "print('MIN:\\n', bb23_sim_mat.min(axis = 0))\n",
    "print('DIFF:\\n', bb23_sim_mat.max(axis = 0) - bb23_sim_mat.min(axis = 0))\n",
    "\n",
    "matches, unmatched_a, unmatched_b = linear_assignment_lapjv(1.0 - bb23_sim_mat if not INV else bb23_sim_mat, max_cost=1.0)\n",
    "matches = sorted(matches, key = lambda x: x[1])\n",
    "assert len(unmatched_b) == 0\n",
    "val_bb23_idxs = []\n",
    "cost = []\n",
    "for idx_a, idx_b in matches:\n",
    "    val_bb23_idxs.append(all_bbs.index(train_bb23s[idx_a]))\n",
    "    cost = bb23_sim_mat[idx_a, idx_b]\n",
    "    costs.append(cost)\n",
    "    print(f'{idx_b} -> {idx_a} with cost={cost}')\n",
    "plt.hist(costs)\n",
    "plt.show()\n",
    "\n",
    "print('Val BB23 idxs:', val_bb23_idxs)\n",
    "\n",
    "nonshare_bb_split_meta = {\n",
    "    'val_bb1s': val_bb1_idxs,\n",
    "    'val_bb23s': val_bb23_idxs\n",
    "}\n",
    "SAVE_PATH = f'/home/dangnh36/datasets/competitions/leash_belka/processed/cv/nonshare_bb_split/bb_{FP}_{SIM}_dup={DUP}{\"_inv\" if INV else \"\"}.json'\n",
    "os.makedirs(os.path.dirname(SAVE_PATH), exist_ok=True)\n",
    "with open(SAVE_PATH, 'w') as f:\n",
    "    json.dump(nonshare_bb_split_meta, f, indent=4)\n",
    "    \n",
    "nonshare_val_df = train_df.filter((pl.col('bb1').is_in(val_bb1_idxs)) & (pl.col('bb2').is_in(val_bb23_idxs)) & (pl.col('bb3').is_in(val_bb23_idxs)))\n",
    "print(nonshare_val_df.shape)\n",
    "nonshare_val_df.select(pl.mean('BRD4', 'HSA', 'sEH') * 100)"
   ]
  },
  {
   "cell_type": "code",
   "execution_count": 18,
   "id": "bee68524",
   "metadata": {},
   "outputs": [
    {
     "data": {
      "text/plain": [
       "[589]"
      ]
     },
     "execution_count": 18,
     "metadata": {},
     "output_type": "execute_result"
    }
   ],
   "source": [
    "s1 = [14, 104, 346, 364, 509, 558, 582, 589, 742, 866, 928, 1088, 1126, 1314, 1779, 1893, 1945]\n",
    "s2 = [218, 294, 2084, 2055, 1114, 186, 589, 2034, 1669, 1120, 1253, 504, 137, 347, 1147, 599, 2013]\n",
    "\n",
    "list(set(s1).intersection(set(s2)))"
   ]
  },
  {
   "cell_type": "code",
   "execution_count": 19,
   "id": "f4ce0436",
   "metadata": {},
   "outputs": [
    {
     "data": {
      "text/plain": [
       "[1161, 1366]"
      ]
     },
     "execution_count": 19,
     "metadata": {},
     "output_type": "execute_result"
    }
   ],
   "source": [
    "s1 = [43, 119, 266, 399, 518, 578, 638, 809, 829, 882, 954, 1001, 1033, 1091, 1128, 1158, 1161, 1275, 1298, 1299, 1304, 1308, 1366, 1372, 1391, 1414, 1481, 1482, 1488, 1644, 1699, 1707, 1711, 2018, 2025, 2101]\n",
    "s2 = [2041, 684, 1749, 1425, 654, 1959, 84, 1161, 1268, 1982, 1603, 1906, 2066, 1407, 391, 2089, 1813, 821, 406, 1543, 1792, 960, 1351, 148, 1681, 130, 1587, 1564, 1331, 1815, 1337, 804, 528, 726, 474, 1366]\n",
    "list(set(s1).intersection(set(s2)))"
   ]
  },
  {
   "cell_type": "markdown",
   "id": "88320eb0",
   "metadata": {},
   "source": [
    "## NOTES\n",
    "\n",
    "- 589 has 1.59% HSA\n",
    "- 1161 has 9.8847% BRD4\n",
    "- 1366"
   ]
  },
  {
   "cell_type": "code",
   "execution_count": null,
   "id": "478a140d",
   "metadata": {},
   "outputs": [],
   "source": []
  },
  {
   "cell_type": "code",
   "execution_count": null,
   "id": "f912a6d3",
   "metadata": {},
   "outputs": [],
   "source": []
  },
  {
   "cell_type": "code",
   "execution_count": null,
   "id": "c8c16a3c",
   "metadata": {},
   "outputs": [],
   "source": []
  },
  {
   "cell_type": "code",
   "execution_count": null,
   "id": "ca520c8b",
   "metadata": {},
   "outputs": [],
   "source": []
  },
  {
   "cell_type": "markdown",
   "id": "1c003807",
   "metadata": {},
   "source": [
    "- ECFP6 + Tanimoto: 1.198954\t0.378617\t0.351573\n",
    "- ECFP4 + Tanimoto: 1.112607\t0.34096\t0.13459\n",
    "- MACCS + Tanimoto: 1.85941\t0.090703\t0.353741\n",
    "\n",
    "- ECFP6 + Cosine: 1.117621\t0.44164\t0.35151\n",
    "- ECFP4 + Cosine: 1.112607\t0.34096\t0.13459\n",
    "- MACCS + Cosine: 1.8322\t0.090703\t0.199546\n",
    "\n",
    "- ECFP6 + Dice: 1.198954\t0.378617\t0.351573\n",
    "- ECFP4 + Dice: 1.112607\t0.34096\t0.13459\n",
    "- MACCS + Dice: 1.85941\t0.090703\t0.353741"
   ]
  },
  {
   "cell_type": "code",
   "execution_count": null,
   "id": "19523d2a",
   "metadata": {},
   "outputs": [],
   "source": []
  },
  {
   "cell_type": "code",
   "execution_count": null,
   "id": "736c3ab2",
   "metadata": {},
   "outputs": [],
   "source": []
  },
  {
   "cell_type": "code",
   "execution_count": null,
   "id": "c21967ba",
   "metadata": {},
   "outputs": [],
   "source": []
  },
  {
   "cell_type": "markdown",
   "id": "68f7d59f",
   "metadata": {},
   "source": [
    "# Split by molecule scaffold similarity"
   ]
  },
  {
   "cell_type": "code",
   "execution_count": null,
   "id": "f2f73f25",
   "metadata": {},
   "outputs": [],
   "source": []
  },
  {
   "cell_type": "code",
   "execution_count": null,
   "id": "b20e077c",
   "metadata": {},
   "outputs": [],
   "source": []
  },
  {
   "cell_type": "code",
   "execution_count": null,
   "id": "56cfb631",
   "metadata": {},
   "outputs": [],
   "source": []
  },
  {
   "cell_type": "code",
   "execution_count": null,
   "id": "37ff237c",
   "metadata": {},
   "outputs": [],
   "source": []
  },
  {
   "cell_type": "code",
   "execution_count": null,
   "id": "1032c322",
   "metadata": {},
   "outputs": [],
   "source": []
  },
  {
   "cell_type": "code",
   "execution_count": null,
   "id": "f4d76ae9",
   "metadata": {},
   "outputs": [],
   "source": []
  },
  {
   "cell_type": "code",
   "execution_count": null,
   "id": "f0f42724",
   "metadata": {},
   "outputs": [],
   "source": []
  },
  {
   "cell_type": "code",
   "execution_count": null,
   "id": "4f14eae9",
   "metadata": {},
   "outputs": [],
   "source": []
  },
  {
   "cell_type": "code",
   "execution_count": null,
   "id": "9f563560",
   "metadata": {},
   "outputs": [],
   "source": []
  },
  {
   "cell_type": "code",
   "execution_count": null,
   "id": "8eb7e6ac",
   "metadata": {},
   "outputs": [],
   "source": []
  },
  {
   "cell_type": "code",
   "execution_count": null,
   "id": "3a061c09",
   "metadata": {},
   "outputs": [],
   "source": []
  },
  {
   "cell_type": "code",
   "execution_count": null,
   "id": "6430c177",
   "metadata": {},
   "outputs": [],
   "source": []
  },
  {
   "cell_type": "code",
   "execution_count": null,
   "id": "7e391ef9",
   "metadata": {},
   "outputs": [],
   "source": []
  },
  {
   "cell_type": "code",
   "execution_count": null,
   "id": "eb6ae238",
   "metadata": {},
   "outputs": [],
   "source": []
  },
  {
   "cell_type": "code",
   "execution_count": null,
   "id": "e642375d",
   "metadata": {},
   "outputs": [],
   "source": []
  },
  {
   "cell_type": "code",
   "execution_count": null,
   "id": "1a89825b",
   "metadata": {},
   "outputs": [],
   "source": []
  },
  {
   "cell_type": "code",
   "execution_count": null,
   "id": "e724e96d",
   "metadata": {},
   "outputs": [],
   "source": []
  },
  {
   "cell_type": "code",
   "execution_count": null,
   "id": "c0da4a58",
   "metadata": {},
   "outputs": [],
   "source": []
  },
  {
   "cell_type": "code",
   "execution_count": null,
   "id": "15b82c90",
   "metadata": {},
   "outputs": [],
   "source": []
  },
  {
   "cell_type": "code",
   "execution_count": null,
   "id": "e463c98a",
   "metadata": {},
   "outputs": [],
   "source": []
  },
  {
   "cell_type": "code",
   "execution_count": null,
   "id": "4447ce84",
   "metadata": {},
   "outputs": [],
   "source": []
  },
  {
   "cell_type": "code",
   "execution_count": null,
   "id": "1eb13dde",
   "metadata": {},
   "outputs": [],
   "source": []
  },
  {
   "cell_type": "code",
   "execution_count": null,
   "id": "94318741",
   "metadata": {},
   "outputs": [],
   "source": []
  },
  {
   "cell_type": "code",
   "execution_count": null,
   "id": "22487ddd",
   "metadata": {},
   "outputs": [],
   "source": []
  },
  {
   "cell_type": "code",
   "execution_count": null,
   "id": "c62902a9",
   "metadata": {},
   "outputs": [],
   "source": []
  },
  {
   "cell_type": "code",
   "execution_count": null,
   "id": "8aed4547",
   "metadata": {},
   "outputs": [],
   "source": []
  },
  {
   "cell_type": "code",
   "execution_count": null,
   "id": "4d292991",
   "metadata": {},
   "outputs": [],
   "source": []
  },
  {
   "cell_type": "code",
   "execution_count": null,
   "id": "e47483c8",
   "metadata": {},
   "outputs": [],
   "source": []
  },
  {
   "cell_type": "code",
   "execution_count": null,
   "id": "dfdc34e7",
   "metadata": {},
   "outputs": [],
   "source": []
  },
  {
   "cell_type": "code",
   "execution_count": null,
   "id": "e7b471b5",
   "metadata": {},
   "outputs": [],
   "source": []
  },
  {
   "cell_type": "code",
   "execution_count": null,
   "id": "c24f942e",
   "metadata": {},
   "outputs": [],
   "source": []
  },
  {
   "cell_type": "code",
   "execution_count": null,
   "id": "8aec5f77",
   "metadata": {},
   "outputs": [],
   "source": []
  },
  {
   "cell_type": "code",
   "execution_count": null,
   "id": "25e5f529",
   "metadata": {},
   "outputs": [],
   "source": []
  },
  {
   "cell_type": "code",
   "execution_count": null,
   "id": "fb5e67a1",
   "metadata": {},
   "outputs": [],
   "source": []
  },
  {
   "cell_type": "code",
   "execution_count": null,
   "id": "8b1ccde6",
   "metadata": {},
   "outputs": [],
   "source": []
  },
  {
   "cell_type": "code",
   "execution_count": null,
   "id": "ad218862",
   "metadata": {},
   "outputs": [],
   "source": []
  },
  {
   "cell_type": "code",
   "execution_count": null,
   "id": "89ad842d",
   "metadata": {},
   "outputs": [],
   "source": []
  }
 ],
 "metadata": {
  "kernelspec": {
   "display_name": "Python 3 (ipykernel)",
   "language": "python",
   "name": "python3"
  },
  "language_info": {
   "codemirror_mode": {
    "name": "ipython",
    "version": 3
   },
   "file_extension": ".py",
   "mimetype": "text/x-python",
   "name": "python",
   "nbconvert_exporter": "python",
   "pygments_lexer": "ipython3",
   "version": "3.10.13"
  }
 },
 "nbformat": 4,
 "nbformat_minor": 5
}
