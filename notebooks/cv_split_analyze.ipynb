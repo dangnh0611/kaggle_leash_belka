{
 "cells": [
  {
   "cell_type": "code",
   "execution_count": 123,
   "id": "fbefdfb1-b0a1-408c-b356-43327d4dd897",
   "metadata": {},
   "outputs": [
    {
     "data": {
      "text/plain": [
       "polars.config.Config"
      ]
     },
     "execution_count": 123,
     "metadata": {},
     "output_type": "execute_result"
    }
   ],
   "source": [
    "import pandas as pd\n",
    "import numpy as np\n",
    "import os\n",
    "import sys\n",
    "import polars as pl\n",
    "import json\n",
    "from joblib import Parallel, delayed\n",
    "import deepchem\n",
    "from tqdm import tqdm\n",
    "\n",
    "# Configure Polars \n",
    "cfg = pl.Config()\n",
    "cfg.set_tbl_rows(50)\n",
    "cfg.set_tbl_cols(100)"
   ]
  },
  {
   "cell_type": "code",
   "execution_count": 122,
   "id": "f30870b8-7887-495a-9ca8-662999e105a3",
   "metadata": {},
   "outputs": [],
   "source": [
    "PERCENTILES = [0.01, 0.025, 0.05, 0.1, 0.25, 0.5, 0.75, 0.9, 0.95, 0.975, 0.99]"
   ]
  },
  {
   "cell_type": "code",
   "execution_count": 2,
   "id": "645e6d92-a7e2-48c5-9a90-be42326179ad",
   "metadata": {},
   "outputs": [
    {
     "name": "stdout",
     "output_type": "stream",
     "text": [
      "train_bbs --> 1145\n",
      "train_bb1s --> 271\n",
      "train_bb2s --> 693\n",
      "train_bb3s --> 872\n",
      "test_bb1s --> 341\n",
      "test_bb2s --> 1140\n",
      "test_bb3s --> 1389\n",
      "test_bbs --> 2110\n",
      "all_bbs --> 2110\n"
     ]
    },
    {
     "data": {
      "text/plain": [
       "[None, None, None, None, None, None, None, None, None]"
      ]
     },
     "execution_count": 2,
     "metadata": {},
     "output_type": "execute_result"
    }
   ],
   "source": [
    "with open('/home/dangnh36/datasets/competitions/leash_belka/processed/building_blocks.json', 'r') as f:\n",
    "    bbs_meta = json.load(f)\n",
    "\n",
    "[print(k, '-->', len(v)) for k, v in bbs_meta.items()]"
   ]
  },
  {
   "cell_type": "code",
   "execution_count": 3,
   "id": "9ebbc04f-0fb6-4651-96a7-e6bdef2af2f1",
   "metadata": {},
   "outputs": [
    {
     "name": "stdout",
     "output_type": "stream",
     "text": [
      "7851.068469047546\n"
     ]
    },
    {
     "data": {
      "text/html": [
       "<div><style>\n",
       ".dataframe > thead > tr,\n",
       ".dataframe > tbody > tr {\n",
       "  text-align: right;\n",
       "  white-space: pre-wrap;\n",
       "}\n",
       "</style>\n",
       "<small>shape: (98_415_610, 7)</small><table border=\"1\" class=\"dataframe\"><thead><tr><th>molecule</th><th>bb1</th><th>bb2</th><th>bb3</th><th>BRD4</th><th>HSA</th><th>eSH</th></tr><tr><td>str</td><td>u16</td><td>u16</td><td>u16</td><td>u8</td><td>u8</td><td>u8</td></tr></thead><tbody><tr><td>&quot;C#CCOc1ccc(CNc…</td><td>1640</td><td>1653</td><td>765</td><td>0</td><td>0</td><td>0</td></tr><tr><td>&quot;C#CCOc1ccc(CNc…</td><td>1640</td><td>1653</td><td>205</td><td>0</td><td>0</td><td>0</td></tr><tr><td>&quot;C#CCOc1ccc(CNc…</td><td>1640</td><td>1653</td><td>1653</td><td>0</td><td>0</td><td>0</td></tr><tr><td>&quot;C#CCOc1ccc(CNc…</td><td>1640</td><td>1653</td><td>146</td><td>0</td><td>0</td><td>0</td></tr><tr><td>&quot;C#CCOc1ccc(CNc…</td><td>1640</td><td>1653</td><td>439</td><td>0</td><td>0</td><td>0</td></tr><tr><td>&hellip;</td><td>&hellip;</td><td>&hellip;</td><td>&hellip;</td><td>&hellip;</td><td>&hellip;</td><td>&hellip;</td></tr><tr><td>&quot;[N-]=[N+]=NCCC…</td><td>141</td><td>1415</td><td>1792</td><td>0</td><td>0</td><td>0</td></tr><tr><td>&quot;[N-]=[N+]=NCCC…</td><td>141</td><td>1415</td><td>1178</td><td>0</td><td>0</td><td>0</td></tr><tr><td>&quot;[N-]=[N+]=NCCC…</td><td>141</td><td>1415</td><td>1699</td><td>0</td><td>0</td><td>0</td></tr><tr><td>&quot;[N-]=[N+]=NCCC…</td><td>141</td><td>1415</td><td>1308</td><td>0</td><td>0</td><td>0</td></tr><tr><td>&quot;[N-]=[N+]=NCCC…</td><td>141</td><td>1415</td><td>1415</td><td>0</td><td>0</td><td>0</td></tr></tbody></table></div>"
      ],
      "text/plain": [
       "shape: (98_415_610, 7)\n",
       "┌───────────────────────────────────┬──────┬──────┬──────┬──────┬─────┬─────┐\n",
       "│ molecule                          ┆ bb1  ┆ bb2  ┆ bb3  ┆ BRD4 ┆ HSA ┆ eSH │\n",
       "│ ---                               ┆ ---  ┆ ---  ┆ ---  ┆ ---  ┆ --- ┆ --- │\n",
       "│ str                               ┆ u16  ┆ u16  ┆ u16  ┆ u8   ┆ u8  ┆ u8  │\n",
       "╞═══════════════════════════════════╪══════╪══════╪══════╪══════╪═════╪═════╡\n",
       "│ C#CCOc1ccc(CNc2nc(NCC3CCCN3c3ccc… ┆ 1640 ┆ 1653 ┆ 765  ┆ 0    ┆ 0   ┆ 0   │\n",
       "│ C#CCOc1ccc(CNc2nc(NCc3cccc(Br)n3… ┆ 1640 ┆ 1653 ┆ 205  ┆ 0    ┆ 0   ┆ 0   │\n",
       "│ C#CCOc1ccc(CNc2nc(NCc3ccc(OCC#C)… ┆ 1640 ┆ 1653 ┆ 1653 ┆ 0    ┆ 0   ┆ 0   │\n",
       "│ C#CCOc1ccc(CNc2nc(NCCNC(=O)C(=C)… ┆ 1640 ┆ 1653 ┆ 146  ┆ 0    ┆ 0   ┆ 0   │\n",
       "│ C#CCOc1ccc(CNc2nc(NCC(=O)NCC=C)n… ┆ 1640 ┆ 1653 ┆ 439  ┆ 0    ┆ 0   ┆ 0   │\n",
       "│ …                                 ┆ …    ┆ …    ┆ …    ┆ …    ┆ …   ┆ …   │\n",
       "│ [N-]=[N+]=NCCC[C@H](Nc1nc(Nc2noc… ┆ 141  ┆ 1415 ┆ 1792 ┆ 0    ┆ 0   ┆ 0   │\n",
       "│ [N-]=[N+]=NCCC[C@H](Nc1nc(Nc2nnc… ┆ 141  ┆ 1415 ┆ 1178 ┆ 0    ┆ 0   ┆ 0   │\n",
       "│ [N-]=[N+]=NCCC[C@H](Nc1nc(Nc2nnc… ┆ 141  ┆ 1415 ┆ 1699 ┆ 0    ┆ 0   ┆ 0   │\n",
       "│ [N-]=[N+]=NCCC[C@H](Nc1nc(Nc2nnn… ┆ 141  ┆ 1415 ┆ 1308 ┆ 0    ┆ 0   ┆ 0   │\n",
       "│ [N-]=[N+]=NCCC[C@H](Nc1nc(Nc2noc… ┆ 141  ┆ 1415 ┆ 1415 ┆ 0    ┆ 0   ┆ 0   │\n",
       "└───────────────────────────────────┴──────┴──────┴──────┴──────┴─────┴─────┘"
      ]
     },
     "execution_count": 3,
     "metadata": {},
     "output_type": "execute_result"
    }
   ],
   "source": [
    "train_df = pl.scan_csv('/home/dangnh36/datasets/competitions/leash_belka/processed/train_v2.csv')\\\n",
    "    .select(\n",
    "        pl.col('molecule'),\n",
    "        pl.col('bb1', 'bb2', 'bb3').cast(pl.UInt16),\n",
    "        pl.col('BRD4', 'HSA', 'eSH').cast(pl.UInt8),\n",
    "    )\\\n",
    "    .collect()\n",
    "print(train_df.estimated_size('mb'))\n",
    "train_df"
   ]
  },
  {
   "cell_type": "code",
   "execution_count": 4,
   "id": "ea67ee40-3290-4cbd-8f38-3cb99ecce5d3",
   "metadata": {},
   "outputs": [
    {
     "name": "stdout",
     "output_type": "stream",
     "text": [
      "147.45777130126953\n"
     ]
    },
    {
     "data": {
      "text/html": [
       "<div><style>\n",
       ".dataframe > thead > tr,\n",
       ".dataframe > tbody > tr {\n",
       "  text-align: right;\n",
       "  white-space: pre-wrap;\n",
       "}\n",
       "</style>\n",
       "<small>shape: (1_674_896, 6)</small><table border=\"1\" class=\"dataframe\"><thead><tr><th>id</th><th>molecule</th><th>bb1</th><th>bb2</th><th>bb3</th><th>protein</th></tr><tr><td>i64</td><td>str</td><td>u16</td><td>u16</td><td>u16</td><td>str</td></tr></thead><tbody><tr><td>295246830</td><td>&quot;C#CCCC[C@H](Nc…</td><td>1989</td><td>409</td><td>409</td><td>&quot;BRD4&quot;</td></tr><tr><td>295246831</td><td>&quot;C#CCCC[C@H](Nc…</td><td>1989</td><td>409</td><td>409</td><td>&quot;HSA&quot;</td></tr><tr><td>295246832</td><td>&quot;C#CCCC[C@H](Nc…</td><td>1989</td><td>409</td><td>409</td><td>&quot;sEH&quot;</td></tr><tr><td>295246833</td><td>&quot;C#CCCC[C@H](Nc…</td><td>1989</td><td>409</td><td>1012</td><td>&quot;BRD4&quot;</td></tr><tr><td>295246834</td><td>&quot;C#CCCC[C@H](Nc…</td><td>1989</td><td>409</td><td>1012</td><td>&quot;HSA&quot;</td></tr><tr><td>&hellip;</td><td>&hellip;</td><td>&hellip;</td><td>&hellip;</td><td>&hellip;</td><td>&hellip;</td></tr><tr><td>296921721</td><td>&quot;COC1CCC(CCNc2n…</td><td>141</td><td>1415</td><td>1556</td><td>&quot;HSA&quot;</td></tr><tr><td>296921722</td><td>&quot;COC1CCC(CCNc2n…</td><td>141</td><td>1415</td><td>1556</td><td>&quot;sEH&quot;</td></tr><tr><td>296921723</td><td>&quot;[N-]=[N+]=NCCC…</td><td>141</td><td>1415</td><td>236</td><td>&quot;BRD4&quot;</td></tr><tr><td>296921724</td><td>&quot;[N-]=[N+]=NCCC…</td><td>141</td><td>1415</td><td>236</td><td>&quot;HSA&quot;</td></tr><tr><td>296921725</td><td>&quot;[N-]=[N+]=NCCC…</td><td>141</td><td>1415</td><td>236</td><td>&quot;sEH&quot;</td></tr></tbody></table></div>"
      ],
      "text/plain": [
       "shape: (1_674_896, 6)\n",
       "┌───────────┬───────────────────────────────────┬──────┬──────┬──────┬─────────┐\n",
       "│ id        ┆ molecule                          ┆ bb1  ┆ bb2  ┆ bb3  ┆ protein │\n",
       "│ ---       ┆ ---                               ┆ ---  ┆ ---  ┆ ---  ┆ ---     │\n",
       "│ i64       ┆ str                               ┆ u16  ┆ u16  ┆ u16  ┆ str     │\n",
       "╞═══════════╪═══════════════════════════════════╪══════╪══════╪══════╪═════════╡\n",
       "│ 295246830 ┆ C#CCCC[C@H](Nc1nc(Nc2ccc(C=C)cc2… ┆ 1989 ┆ 409  ┆ 409  ┆ BRD4    │\n",
       "│ 295246831 ┆ C#CCCC[C@H](Nc1nc(Nc2ccc(C=C)cc2… ┆ 1989 ┆ 409  ┆ 409  ┆ HSA     │\n",
       "│ 295246832 ┆ C#CCCC[C@H](Nc1nc(Nc2ccc(C=C)cc2… ┆ 1989 ┆ 409  ┆ 409  ┆ sEH     │\n",
       "│ 295246833 ┆ C#CCCC[C@H](Nc1nc(Nc2ccc(C=C)cc2… ┆ 1989 ┆ 409  ┆ 1012 ┆ BRD4    │\n",
       "│ 295246834 ┆ C#CCCC[C@H](Nc1nc(Nc2ccc(C=C)cc2… ┆ 1989 ┆ 409  ┆ 1012 ┆ HSA     │\n",
       "│ …         ┆ …                                 ┆ …    ┆ …    ┆ …    ┆ …       │\n",
       "│ 296921721 ┆ COC1CCC(CCNc2nc(Nc3noc4ccc(F)cc3… ┆ 141  ┆ 1415 ┆ 1556 ┆ HSA     │\n",
       "│ 296921722 ┆ COC1CCC(CCNc2nc(Nc3noc4ccc(F)cc3… ┆ 141  ┆ 1415 ┆ 1556 ┆ sEH     │\n",
       "│ 296921723 ┆ [N-]=[N+]=NCCC[C@H](Nc1nc(NCc2cc… ┆ 141  ┆ 1415 ┆ 236  ┆ BRD4    │\n",
       "│ 296921724 ┆ [N-]=[N+]=NCCC[C@H](Nc1nc(NCc2cc… ┆ 141  ┆ 1415 ┆ 236  ┆ HSA     │\n",
       "│ 296921725 ┆ [N-]=[N+]=NCCC[C@H](Nc1nc(NCc2cc… ┆ 141  ┆ 1415 ┆ 236  ┆ sEH     │\n",
       "└───────────┴───────────────────────────────────┴──────┴──────┴──────┴─────────┘"
      ]
     },
     "execution_count": 4,
     "metadata": {},
     "output_type": "execute_result"
    }
   ],
   "source": [
    "test_df = pl.scan_csv('/home/dangnh36/datasets/competitions/leash_belka/processed/test_v2.csv')\\\n",
    "    .select(\n",
    "        pl.col('id','molecule'),\n",
    "        pl.col('bb1', 'bb2', 'bb3').cast(pl.UInt16),\n",
    "        pl.col('protein'),\n",
    "    ).collect()\n",
    "print(test_df.estimated_size('mb'))\n",
    "test_df"
   ]
  },
  {
   "cell_type": "code",
   "execution_count": 5,
   "id": "165a8e2f-38d0-4bde-9dd1-f88853571a73",
   "metadata": {},
   "outputs": [
    {
     "data": {
      "text/plain": [
       "['C#CCOc1ccc(CNc2nc(NCC3CCCN3c3cccnn3)nc(N[C@@H](CC#C)CC(=O)N[Dy])n2)cc1',\n",
       " 'C#CCOc1ccc(CNc2nc(NCc3cccc(Br)n3)nc(N[C@@H](CC#C)CC(=O)N[Dy])n2)cc1',\n",
       " 'C#CCOc1ccc(CNc2nc(NCc3ccc(OCC#C)cc3)nc(N[C@@H](CC#C)CC(=O)N[Dy])n2)cc1',\n",
       " 'C#CCOc1ccc(CNc2nc(NCCNC(=O)C(=C)C)nc(N[C@@H](CC#C)CC(=O)N[Dy])n2)cc1',\n",
       " 'C#CCOc1ccc(CNc2nc(NCC(=O)NCC=C)nc(N[C@@H](CC#C)CC(=O)N[Dy])n2)cc1',\n",
       " 'C#CCOc1ccc(CNc2nc(NCC(C)OCC=C)nc(N[C@@H](CC#C)CC(=O)N[Dy])n2)cc1',\n",
       " 'C#CCOc1ccc(CNc2nc(NCCCOCC=C)nc(N[C@@H](CC#C)CC(=O)N[Dy])n2)cc1',\n",
       " 'C#CCOc1ccc(CNc2nc(NCCOCC=C)nc(N[C@@H](CC#C)CC(=O)N[Dy])n2)cc1',\n",
       " 'C#CCOc1ccc(CNc2nc(Nc3cnn(C4CCN(C(=O)OC(C)(C)C)CC4)c3)nc(N[C@@H](CC#C)CC(=O)N[Dy])n2)cc1',\n",
       " 'C#CCOc1ccc(CNc2nc(Nc3n[nH]c4c3CN(C(=O)OC(C)(C)C)C4(C)C)nc(N[C@@H](CC#C)CC(=O)N[Dy])n2)cc1']"
      ]
     },
     "execution_count": 5,
     "metadata": {},
     "output_type": "execute_result"
    }
   ],
   "source": [
    "train_df[:10, 'molecule'].to_list()"
   ]
  },
  {
   "cell_type": "code",
   "execution_count": 7,
   "id": "3e213cc8-e58d-4c21-acfa-c6618ab2068c",
   "metadata": {},
   "outputs": [],
   "source": [
    "from deepchem.splits.splitters import _generate_scaffold\n",
    "\n",
    "for i in range(10000):\n",
    "    scaffold = _generate_scaffold(train_df[i, 'molecule'])\n",
    "    scaffold2 = _generate_scaffold(train_df[i, 'molecule'].replace('[Dy]', ''))\n",
    "    assert scaffold == scaffold2\n",
    "    # print(i, train_df[i, 'molecule'], '-->', scaffold)"
   ]
  },
  {
   "cell_type": "code",
   "execution_count": null,
   "id": "c35c1458-b7b9-48da-853d-46369006b315",
   "metadata": {},
   "outputs": [],
   "source": []
  },
  {
   "cell_type": "code",
   "execution_count": null,
   "id": "b572e3dc-73dd-4cd5-9741-d31545bf68c3",
   "metadata": {},
   "outputs": [],
   "source": []
  },
  {
   "cell_type": "code",
   "execution_count": 8,
   "id": "fc507744-84ab-40d4-b167-e265dc384aba",
   "metadata": {},
   "outputs": [
    {
     "name": "stderr",
     "output_type": "stream",
     "text": [
      "  0%|                               | 48/98415610 [00:21<12234:51:34,  2.23it/s]No normalization for SPS. Feature removed!\n",
      "No normalization for AvgIpc. Feature removed!\n",
      "No normalization for SPS. Feature removed!\n",
      "No normalization for AvgIpc. Feature removed!\n",
      "No normalization for SPS. Feature removed!\n",
      "No normalization for AvgIpc. Feature removed!\n",
      "No normalization for SPS. Feature removed!\n",
      "No normalization for AvgIpc. Feature removed!\n",
      "No normalization for SPS. Feature removed!\n",
      "No normalization for AvgIpc. Feature removed!\n",
      "No normalization for SPS. Feature removed!\n",
      "No normalization for AvgIpc. Feature removed!\n",
      "No normalization for SPS. Feature removed!\n",
      "No normalization for AvgIpc. Feature removed!\n",
      "No normalization for SPS. Feature removed!\n",
      "No normalization for AvgIpc. Feature removed!\n",
      "No normalization for SPS. Feature removed!\n",
      "No normalization for AvgIpc. Feature removed!\n",
      "No normalization for SPS. Feature removed!\n",
      "No normalization for AvgIpc. Feature removed!\n",
      "No normalization for SPS. Feature removed!\n",
      "No normalization for AvgIpc. Feature removed!\n",
      "No normalization for SPS. Feature removed!\n",
      "No normalization for AvgIpc. Feature removed!\n",
      "No normalization for SPS. Feature removed!\n",
      "No normalization for AvgIpc. Feature removed!\n",
      "No normalization for SPS. Feature removed!\n",
      "No normalization for AvgIpc. Feature removed!\n",
      "No normalization for SPS. Feature removed!\n",
      "No normalization for AvgIpc. Feature removed!\n",
      "No normalization for SPS. Feature removed!\n",
      "No normalization for AvgIpc. Feature removed!\n",
      "No normalization for SPS. Feature removed!\n",
      "No normalization for AvgIpc. Feature removed!\n",
      "No normalization for SPS. Feature removed!\n",
      "No normalization for AvgIpc. Feature removed!\n",
      "No normalization for SPS. Feature removed!\n",
      "No normalization for AvgIpc. Feature removed!\n",
      "No normalization for SPS. Feature removed!\n",
      "No normalization for AvgIpc. Feature removed!\n",
      "Skipped loading some Tensorflow models, missing a dependency. No module named 'tensorflow'\n",
      "No normalization for SPS. Feature removed!\n",
      "No normalization for AvgIpc. Feature removed!\n",
      "No normalization for SPS. Feature removed!\n",
      "No normalization for AvgIpc. Feature removed!\n",
      "No normalization for SPS. Feature removed!\n",
      "No normalization for AvgIpc. Feature removed!\n",
      "No normalization for SPS. Feature removed!\n",
      "No normalization for AvgIpc. Feature removed!\n",
      "Skipped loading some Tensorflow models, missing a dependency. No module named 'tensorflow'\n",
      "Skipped loading some Tensorflow models, missing a dependency. No module named 'tensorflow'\n",
      "No normalization for SPS. Feature removed!\n",
      "No normalization for AvgIpc. Feature removed!\n",
      "Skipped loading some Tensorflow models, missing a dependency. No module named 'tensorflow'\n",
      "No normalization for SPS. Feature removed!\n",
      "No normalization for AvgIpc. Feature removed!\n",
      "No normalization for SPS. Feature removed!\n",
      "No normalization for AvgIpc. Feature removed!\n",
      "Skipped loading some Tensorflow models, missing a dependency. No module named 'tensorflow'\n",
      "No normalization for SPS. Feature removed!\n",
      "No normalization for AvgIpc. Feature removed!\n",
      "Skipped loading some Tensorflow models, missing a dependency. No module named 'tensorflow'\n",
      "Skipped loading some Tensorflow models, missing a dependency. No module named 'tensorflow'\n",
      "No normalization for SPS. Feature removed!\n",
      "No normalization for AvgIpc. Feature removed!\n",
      "No normalization for SPS. Feature removed!\n",
      "No normalization for AvgIpc. Feature removed!\n",
      "Skipped loading some Tensorflow models, missing a dependency. No module named 'tensorflow'\n",
      "No normalization for SPS. Feature removed!\n",
      "No normalization for AvgIpc. Feature removed!\n",
      "No normalization for SPS. Feature removed!\n",
      "No normalization for AvgIpc. Feature removed!\n",
      "No normalization for SPS. Feature removed!\n",
      "No normalization for AvgIpc. Feature removed!\n",
      "No normalization for SPS. Feature removed!\n",
      "No normalization for AvgIpc. Feature removed!\n",
      "Skipped loading some Tensorflow models, missing a dependency. No module named 'tensorflow'\n",
      "Skipped loading some Tensorflow models, missing a dependency. No module named 'tensorflow'\n",
      "No normalization for SPS. Feature removed!\n",
      "No normalization for AvgIpc. Feature removed!\n",
      "Skipped loading some Tensorflow models, missing a dependency. No module named 'tensorflow'\n",
      "Skipped loading some Tensorflow models, missing a dependency. No module named 'tensorflow'\n",
      "Skipped loading some Tensorflow models, missing a dependency. No module named 'tensorflow'\n",
      "No normalization for SPS. Feature removed!\n",
      "No normalization for AvgIpc. Feature removed!\n",
      "Skipped loading some Tensorflow models, missing a dependency. No module named 'tensorflow'\n",
      "Skipped loading some Tensorflow models, missing a dependency. No module named 'tensorflow'\n",
      "No normalization for SPS. Feature removed!\n",
      "No normalization for AvgIpc. Feature removed!\n",
      "No normalization for SPS. Feature removed!\n",
      "No normalization for AvgIpc. Feature removed!\n",
      "Skipped loading some Tensorflow models, missing a dependency. No module named 'tensorflow'\n",
      "No normalization for SPS. Feature removed!\n",
      "No normalization for AvgIpc. Feature removed!\n",
      "No normalization for SPS. Feature removed!\n",
      "No normalization for AvgIpc. Feature removed!\n",
      "No normalization for SPS. Feature removed!\n",
      "No normalization for SPS. Feature removed!\n",
      "No normalization for AvgIpc. Feature removed!\n",
      "No normalization for AvgIpc. Feature removed!\n",
      "No normalization for SPS. Feature removed!\n",
      "No normalization for AvgIpc. Feature removed!\n",
      "No normalization for SPS. Feature removed!\n",
      "No normalization for AvgIpc. Feature removed!\n",
      "No normalization for SPS. Feature removed!\n",
      "No normalization for AvgIpc. Feature removed!\n",
      "Skipped loading some Tensorflow models, missing a dependency. No module named 'tensorflow'\n",
      "No normalization for SPS. Feature removed!\n",
      "No normalization for AvgIpc. Feature removed!\n",
      "Skipped loading some Tensorflow models, missing a dependency. No module named 'tensorflow'\n",
      "Skipped loading some Tensorflow models, missing a dependency. No module named 'tensorflow'\n",
      "Skipped loading some Tensorflow models, missing a dependency. No module named 'tensorflow'\n",
      "Skipped loading some Tensorflow models, missing a dependency. No module named 'tensorflow'\n",
      "Skipped loading some Tensorflow models, missing a dependency. No module named 'tensorflow'\n",
      "Skipped loading some Tensorflow models, missing a dependency. No module named 'tensorflow'\n",
      "No normalization for SPS. Feature removed!\n",
      "No normalization for AvgIpc. Feature removed!\n",
      "No normalization for SPS. Feature removed!\n",
      "No normalization for AvgIpc. Feature removed!\n",
      "Skipped loading some Tensorflow models, missing a dependency. No module named 'tensorflow'\n",
      "Skipped loading some Tensorflow models, missing a dependency. No module named 'tensorflow'\n",
      "Skipped loading some Tensorflow models, missing a dependency. No module named 'tensorflow'\n",
      "Skipped loading some Tensorflow models, missing a dependency. No module named 'tensorflow'\n",
      "wandb: WARNING W&B installed but not logged in.  Run `wandb login` or set the WANDB_API_KEY env variable.\n",
      "wandb: WARNING W&B installed but not logged in.  Run `wandb login` or set the WANDB_API_KEY env variable.\n",
      "wandb: WARNING W&B installed but not logged in.  Run `wandb login` or set the WANDB_API_KEY env variable.\n",
      "wandb: WARNING W&B installed but not logged in.  Run `wandb login` or set the WANDB_API_KEY env variable.\n",
      "Skipped loading some Tensorflow models, missing a dependency. No module named 'tensorflow'\n",
      "Skipped loading some Tensorflow models, missing a dependency. No module named 'tensorflow'\n",
      "wandb: WARNING W&B installed but not logged in.  Run `wandb login` or set the WANDB_API_KEY env variable.\n",
      "wandb: WARNING W&B installed but not logged in.  Run `wandb login` or set the WANDB_API_KEY env variable.\n",
      "wandb: WARNING W&B installed but not logged in.  Run `wandb login` or set the WANDB_API_KEY env variable.\n",
      "Skipped loading some Tensorflow models, missing a dependency. No module named 'tensorflow'\n",
      "Skipped loading some Tensorflow models, missing a dependency. No module named 'tensorflow'\n",
      "Skipped loading some Tensorflow models, missing a dependency. No module named 'tensorflow'\n",
      "Skipped loading some Tensorflow models, missing a dependency. No module named 'tensorflow'\n",
      "Skipped loading some Tensorflow models, missing a dependency. No module named 'tensorflow'\n",
      "Skipped loading some Tensorflow models, missing a dependency. No module named 'tensorflow'\n",
      "wandb: WARNING W&B installed but not logged in.  Run `wandb login` or set the WANDB_API_KEY env variable.\n",
      "wandb: WARNING W&B installed but not logged in.  Run `wandb login` or set the WANDB_API_KEY env variable.\n",
      "wandb: WARNING W&B installed but not logged in.  Run `wandb login` or set the WANDB_API_KEY env variable.\n",
      "wandb: WARNING W&B installed but not logged in.  Run `wandb login` or set the WANDB_API_KEY env variable.\n",
      "Skipped loading some Tensorflow models, missing a dependency. No module named 'tensorflow'\n",
      "Skipped loading some Tensorflow models, missing a dependency. No module named 'tensorflow'\n",
      "Skipped loading some Tensorflow models, missing a dependency. No module named 'tensorflow'\n",
      "Skipped loading some Tensorflow models, missing a dependency. No module named 'tensorflow'\n",
      "wandb: WARNING W&B installed but not logged in.  Run `wandb login` or set the WANDB_API_KEY env variable.\n",
      "Skipped loading some Tensorflow models, missing a dependency. No module named 'tensorflow'\n",
      "Skipped loading some Tensorflow models, missing a dependency. No module named 'tensorflow'\n",
      "Skipped loading some Tensorflow models, missing a dependency. No module named 'tensorflow'\n",
      "Skipped loading some Tensorflow models, missing a dependency. No module named 'tensorflow'\n",
      "wandb: WARNING W&B installed but not logged in.  Run `wandb login` or set the WANDB_API_KEY env variable.\n",
      "wandb: WARNING W&B installed but not logged in.  Run `wandb login` or set the WANDB_API_KEY env variable.\n",
      "wandb: WARNING W&B installed but not logged in.  Run `wandb login` or set the WANDB_API_KEY env variable.\n",
      "Skipped loading some Tensorflow models, missing a dependency. No module named 'tensorflow'\n",
      "wandb: WARNING W&B installed but not logged in.  Run `wandb login` or set the WANDB_API_KEY env variable.\n",
      "Skipped loading some Tensorflow models, missing a dependency. No module named 'tensorflow'\n",
      "Skipped loading some Tensorflow models, missing a dependency. No module named 'tensorflow'\n",
      "wandb: WARNING W&B installed but not logged in.  Run `wandb login` or set the WANDB_API_KEY env variable.\n",
      "Skipped loading some Tensorflow models, missing a dependency. No module named 'tensorflow'\n",
      "wandb: WARNING W&B installed but not logged in.  Run `wandb login` or set the WANDB_API_KEY env variable.\n",
      "wandb: WARNING W&B installed but not logged in.  Run `wandb login` or set the WANDB_API_KEY env variable.\n",
      "wandb: WARNING W&B installed but not logged in.  Run `wandb login` or set the WANDB_API_KEY env variable.\n",
      "wandb: WARNING W&B installed but not logged in.  Run `wandb login` or set the WANDB_API_KEY env variable.\n",
      "Skipped loading modules with pytorch-geometric dependency, missing a dependency. No module named 'torch_geometric'\n",
      "wandb: WARNING W&B installed but not logged in.  Run `wandb login` or set the WANDB_API_KEY env variable.\n",
      "Skipped loading modules with pytorch-geometric dependency, missing a dependency. No module named 'torch_geometric'\n",
      "Skipped loading some Tensorflow models, missing a dependency. No module named 'tensorflow'\n",
      "wandb: WARNING W&B installed but not logged in.  Run `wandb login` or set the WANDB_API_KEY env variable.\n",
      "wandb: WARNING W&B installed but not logged in.  Run `wandb login` or set the WANDB_API_KEY env variable.\n",
      "wandb: WARNING W&B installed but not logged in.  Run `wandb login` or set the WANDB_API_KEY env variable.\n",
      "Skipped loading modules with pytorch-geometric dependency, missing a dependency. cannot import name 'DMPNN' from 'deepchem.models.torch_models' (/opt/conda/lib/python3.10/site-packages/deepchem/models/torch_models/__init__.py)\n",
      "Skipped loading modules with pytorch-geometric dependency, missing a dependency. cannot import name 'DMPNN' from 'deepchem.models.torch_models' (/opt/conda/lib/python3.10/site-packages/deepchem/models/torch_models/__init__.py)\n",
      "Skipped loading modules with pytorch-geometric dependency, missing a dependency. No module named 'torch_geometric'\n",
      "wandb: WARNING W&B installed but not logged in.  Run `wandb login` or set the WANDB_API_KEY env variable.\n",
      "Skipped loading modules with pytorch-geometric dependency, missing a dependency. No module named 'torch_geometric'\n",
      "Skipped loading modules with pytorch-geometric dependency, missing a dependency. No module named 'torch_geometric'\n",
      "wandb: WARNING W&B installed but not logged in.  Run `wandb login` or set the WANDB_API_KEY env variable.\n",
      "Skipped loading modules with pytorch-geometric dependency, missing a dependency. No module named 'torch_geometric'\n",
      "Skipped loading modules with pytorch-geometric dependency, missing a dependency. cannot import name 'DMPNN' from 'deepchem.models.torch_models' (/opt/conda/lib/python3.10/site-packages/deepchem/models/torch_models/__init__.py)\n",
      "Skipped loading modules with pytorch-geometric dependency, missing a dependency. No module named 'torch_geometric'\n",
      "Skipped loading modules with pytorch-geometric dependency, missing a dependency. No module named 'torch_geometric'\n",
      "wandb: WARNING W&B installed but not logged in.  Run `wandb login` or set the WANDB_API_KEY env variable.\n",
      "Skipped loading modules with pytorch-geometric dependency, missing a dependency. No module named 'torch_geometric'\n",
      "Skipped loading modules with pytorch-geometric dependency, missing a dependency. cannot import name 'DMPNN' from 'deepchem.models.torch_models' (/opt/conda/lib/python3.10/site-packages/deepchem/models/torch_models/__init__.py)\n",
      "Skipped loading modules with pytorch-geometric dependency, missing a dependency. No module named 'torch_geometric'\n",
      "Skipped loading modules with pytorch-geometric dependency, missing a dependency. No module named 'torch_geometric'\n",
      "Skipped loading modules with pytorch-geometric dependency, missing a dependency. No module named 'torch_geometric'\n",
      "Skipped loading modules with pytorch-geometric dependency, missing a dependency. cannot import name 'DMPNN' from 'deepchem.models.torch_models' (/opt/conda/lib/python3.10/site-packages/deepchem/models/torch_models/__init__.py)\n",
      "wandb: WARNING W&B installed but not logged in.  Run `wandb login` or set the WANDB_API_KEY env variable.\n",
      "Skipped loading modules with pytorch-geometric dependency, missing a dependency. No module named 'torch_geometric'\n",
      "Skipped loading modules with pytorch-geometric dependency, missing a dependency. cannot import name 'DMPNN' from 'deepchem.models.torch_models' (/opt/conda/lib/python3.10/site-packages/deepchem/models/torch_models/__init__.py)\n",
      "Skipped loading modules with pytorch-geometric dependency, missing a dependency. cannot import name 'DMPNN' from 'deepchem.models.torch_models' (/opt/conda/lib/python3.10/site-packages/deepchem/models/torch_models/__init__.py)\n",
      "Skipped loading modules with pytorch-geometric dependency, missing a dependency. cannot import name 'DMPNN' from 'deepchem.models.torch_models' (/opt/conda/lib/python3.10/site-packages/deepchem/models/torch_models/__init__.py)\n",
      "wandb: WARNING W&B installed but not logged in.  Run `wandb login` or set the WANDB_API_KEY env variable.\n",
      "wandb: WARNING W&B installed but not logged in.  Run `wandb login` or set the WANDB_API_KEY env variable.\n",
      "Skipped loading modules with pytorch-geometric dependency, missing a dependency. No module named 'torch_geometric'\n",
      "Skipped loading modules with pytorch-geometric dependency, missing a dependency. cannot import name 'DMPNN' from 'deepchem.models.torch_models' (/opt/conda/lib/python3.10/site-packages/deepchem/models/torch_models/__init__.py)\n",
      "Skipped loading modules with pytorch-geometric dependency, missing a dependency. No module named 'torch_geometric'\n",
      "Skipped loading modules with pytorch-geometric dependency, missing a dependency. cannot import name 'DMPNN' from 'deepchem.models.torch_models' (/opt/conda/lib/python3.10/site-packages/deepchem/models/torch_models/__init__.py)\n",
      "Skipped loading modules with pytorch-geometric dependency, missing a dependency. No module named 'torch_geometric'\n",
      "Skipped loading modules with pytorch-geometric dependency, missing a dependency. cannot import name 'DMPNN' from 'deepchem.models.torch_models' (/opt/conda/lib/python3.10/site-packages/deepchem/models/torch_models/__init__.py)\n",
      "wandb: WARNING W&B installed but not logged in.  Run `wandb login` or set the WANDB_API_KEY env variable.\n",
      "Skipped loading modules with pytorch-geometric dependency, missing a dependency. No module named 'torch_geometric'\n",
      "Skipped loading modules with pytorch-geometric dependency, missing a dependency. cannot import name 'DMPNN' from 'deepchem.models.torch_models' (/opt/conda/lib/python3.10/site-packages/deepchem/models/torch_models/__init__.py)\n",
      "wandb: WARNING W&B installed but not logged in.  Run `wandb login` or set the WANDB_API_KEY env variable.\n",
      "Skipped loading modules with pytorch-geometric dependency, missing a dependency. cannot import name 'DMPNN' from 'deepchem.models.torch_models' (/opt/conda/lib/python3.10/site-packages/deepchem/models/torch_models/__init__.py)\n",
      "wandb: WARNING W&B installed but not logged in.  Run `wandb login` or set the WANDB_API_KEY env variable.\n",
      "wandb: WARNING W&B installed but not logged in.  Run `wandb login` or set the WANDB_API_KEY env variable.\n",
      "Skipped loading modules with pytorch-geometric dependency, missing a dependency. cannot import name 'DMPNN' from 'deepchem.models.torch_models' (/opt/conda/lib/python3.10/site-packages/deepchem/models/torch_models/__init__.py)\n",
      "wandb: WARNING W&B installed but not logged in.  Run `wandb login` or set the WANDB_API_KEY env variable.\n",
      "wandb: WARNING W&B installed but not logged in.  Run `wandb login` or set the WANDB_API_KEY env variable.\n",
      "wandb: WARNING W&B installed but not logged in.  Run `wandb login` or set the WANDB_API_KEY env variable.\n",
      "Skipped loading modules with pytorch-geometric dependency, missing a dependency. cannot import name 'DMPNN' from 'deepchem.models.torch_models' (/opt/conda/lib/python3.10/site-packages/deepchem/models/torch_models/__init__.py)\n",
      "Skipped loading modules with pytorch-geometric dependency, missing a dependency. No module named 'torch_geometric'\n",
      "Skipped loading modules with pytorch-geometric dependency, missing a dependency. No module named 'torch_geometric'\n",
      "Skipped loading modules with pytorch-geometric dependency, missing a dependency. cannot import name 'DMPNN' from 'deepchem.models.torch_models' (/opt/conda/lib/python3.10/site-packages/deepchem/models/torch_models/__init__.py)\n",
      "Skipped loading modules with pytorch-geometric dependency, missing a dependency. No module named 'torch_geometric'\n",
      "Skipped loading modules with pytorch-geometric dependency, missing a dependency. No module named 'torch_geometric'\n",
      "Skipped loading modules with pytorch-geometric dependency, missing a dependency. cannot import name 'DMPNN' from 'deepchem.models.torch_models' (/opt/conda/lib/python3.10/site-packages/deepchem/models/torch_models/__init__.py)\n",
      "wandb: WARNING W&B installed but not logged in.  Run `wandb login` or set the WANDB_API_KEY env variable.\n",
      "wandb: WARNING W&B installed but not logged in.  Run `wandb login` or set the WANDB_API_KEY env variable.\n",
      "wandb: WARNING W&B installed but not logged in.  Run `wandb login` or set the WANDB_API_KEY env variable.\n",
      "wandb: WARNING W&B installed but not logged in.  Run `wandb login` or set the WANDB_API_KEY env variable.\n",
      "Skipped loading modules with pytorch-geometric dependency, missing a dependency. No module named 'torch_geometric'\n",
      "wandb: WARNING W&B installed but not logged in.  Run `wandb login` or set the WANDB_API_KEY env variable.\n",
      "wandb: WARNING W&B installed but not logged in.  Run `wandb login` or set the WANDB_API_KEY env variable.\n",
      "wandb: WARNING W&B installed but not logged in.  Run `wandb login` or set the WANDB_API_KEY env variable.\n",
      "wandb: WARNING W&B installed but not logged in.  Run `wandb login` or set the WANDB_API_KEY env variable.\n",
      "Skipped loading modules with pytorch-geometric dependency, missing a dependency. cannot import name 'DMPNN' from 'deepchem.models.torch_models' (/opt/conda/lib/python3.10/site-packages/deepchem/models/torch_models/__init__.py)\n",
      "Skipped loading modules with pytorch-geometric dependency, missing a dependency. cannot import name 'DMPNN' from 'deepchem.models.torch_models' (/opt/conda/lib/python3.10/site-packages/deepchem/models/torch_models/__init__.py)\n",
      "Skipped loading modules with pytorch-geometric dependency, missing a dependency. cannot import name 'DMPNN' from 'deepchem.models.torch_models' (/opt/conda/lib/python3.10/site-packages/deepchem/models/torch_models/__init__.py)\n",
      "Skipped loading modules with pytorch-geometric dependency, missing a dependency. No module named 'torch_geometric'\n",
      "Skipped loading modules with pytorch-geometric dependency, missing a dependency. No module named 'torch_geometric'\n",
      "Skipped loading modules with pytorch-geometric dependency, missing a dependency. cannot import name 'DMPNN' from 'deepchem.models.torch_models' (/opt/conda/lib/python3.10/site-packages/deepchem/models/torch_models/__init__.py)\n",
      "Skipped loading modules with pytorch-geometric dependency, missing a dependency. No module named 'torch_geometric'\n",
      "wandb: WARNING W&B installed but not logged in.  Run `wandb login` or set the WANDB_API_KEY env variable.\n",
      "Skipped loading modules with pytorch-geometric dependency, missing a dependency. No module named 'torch_geometric'\n",
      "wandb: WARNING W&B installed but not logged in.  Run `wandb login` or set the WANDB_API_KEY env variable.\n",
      "Skipped loading modules with pytorch-geometric dependency, missing a dependency. cannot import name 'DMPNN' from 'deepchem.models.torch_models' (/opt/conda/lib/python3.10/site-packages/deepchem/models/torch_models/__init__.py)\n",
      "Skipped loading modules with pytorch-geometric dependency, missing a dependency. cannot import name 'DMPNN' from 'deepchem.models.torch_models' (/opt/conda/lib/python3.10/site-packages/deepchem/models/torch_models/__init__.py)\n",
      "Skipped loading modules with pytorch-geometric dependency, missing a dependency. cannot import name 'DMPNN' from 'deepchem.models.torch_models' (/opt/conda/lib/python3.10/site-packages/deepchem/models/torch_models/__init__.py)\n",
      "Skipped loading modules with pytorch-geometric dependency, missing a dependency. cannot import name 'DMPNN' from 'deepchem.models.torch_models' (/opt/conda/lib/python3.10/site-packages/deepchem/models/torch_models/__init__.py)\n",
      "Skipped loading modules with pytorch-geometric dependency, missing a dependency. No module named 'torch_geometric'\n",
      "Skipped loading modules with pytorch-geometric dependency, missing a dependency. cannot import name 'DMPNN' from 'deepchem.models.torch_models' (/opt/conda/lib/python3.10/site-packages/deepchem/models/torch_models/__init__.py)\n",
      "Skipped loading modules with pytorch-geometric dependency, missing a dependency. No module named 'torch_geometric'\n",
      "Skipped loading modules with pytorch-geometric dependency, missing a dependency. No module named 'torch_geometric'\n",
      "Skipped loading modules with pytorch-geometric dependency, missing a dependency. No module named 'torch_geometric'\n",
      "Skipped loading modules with pytorch-geometric dependency, missing a dependency. cannot import name 'DMPNN' from 'deepchem.models.torch_models' (/opt/conda/lib/python3.10/site-packages/deepchem/models/torch_models/__init__.py)\n",
      "Skipped loading modules with pytorch-geometric dependency, missing a dependency. cannot import name 'DMPNN' from 'deepchem.models.torch_models' (/opt/conda/lib/python3.10/site-packages/deepchem/models/torch_models/__init__.py)\n",
      "Skipped loading modules with pytorch-geometric dependency, missing a dependency. No module named 'torch_geometric'\n",
      "Skipped loading modules with pytorch-geometric dependency, missing a dependency. cannot import name 'DMPNN' from 'deepchem.models.torch_models' (/opt/conda/lib/python3.10/site-packages/deepchem/models/torch_models/__init__.py)\n",
      "Skipped loading modules with pytorch-geometric dependency, missing a dependency. cannot import name 'DMPNN' from 'deepchem.models.torch_models' (/opt/conda/lib/python3.10/site-packages/deepchem/models/torch_models/__init__.py)\n",
      "Skipped loading modules with pytorch-geometric dependency, missing a dependency. No module named 'torch_geometric'\n",
      "Skipped loading modules with pytorch-geometric dependency, missing a dependency. No module named 'torch_geometric'\n",
      "Skipped loading modules with pytorch-geometric dependency, missing a dependency. cannot import name 'DMPNN' from 'deepchem.models.torch_models' (/opt/conda/lib/python3.10/site-packages/deepchem/models/torch_models/__init__.py)\n",
      "Skipped loading modules with pytorch-geometric dependency, missing a dependency. No module named 'torch_geometric'\n",
      "Skipped loading modules with pytorch-geometric dependency, missing a dependency. No module named 'torch_geometric'\n",
      "Skipped loading modules with pytorch-geometric dependency, missing a dependency. No module named 'torch_geometric'\n",
      "Skipped loading modules with pytorch-geometric dependency, missing a dependency. No module named 'torch_geometric'\n",
      "Skipped loading modules with pytorch-geometric dependency, missing a dependency. cannot import name 'DMPNN' from 'deepchem.models.torch_models' (/opt/conda/lib/python3.10/site-packages/deepchem/models/torch_models/__init__.py)\n",
      "Skipped loading modules with pytorch-geometric dependency, missing a dependency. No module named 'torch_geometric'\n",
      "Skipped loading modules with pytorch-geometric dependency, missing a dependency. cannot import name 'DMPNN' from 'deepchem.models.torch_models' (/opt/conda/lib/python3.10/site-packages/deepchem/models/torch_models/__init__.py)\n",
      "Skipped loading modules with pytorch-geometric dependency, missing a dependency. cannot import name 'DMPNN' from 'deepchem.models.torch_models' (/opt/conda/lib/python3.10/site-packages/deepchem/models/torch_models/__init__.py)\n",
      "Skipped loading modules with pytorch-geometric dependency, missing a dependency. cannot import name 'DMPNN' from 'deepchem.models.torch_models' (/opt/conda/lib/python3.10/site-packages/deepchem/models/torch_models/__init__.py)\n",
      "Skipped loading modules with pytorch-geometric dependency, missing a dependency. cannot import name 'DMPNN' from 'deepchem.models.torch_models' (/opt/conda/lib/python3.10/site-packages/deepchem/models/torch_models/__init__.py)\n",
      "Skipped loading modules with pytorch-geometric dependency, missing a dependency. No module named 'torch_geometric'\n",
      "Skipped loading modules with pytorch-geometric dependency, missing a dependency. No module named 'torch_geometric'\n",
      "Skipped loading modules with pytorch-geometric dependency, missing a dependency. cannot import name 'DMPNN' from 'deepchem.models.torch_models' (/opt/conda/lib/python3.10/site-packages/deepchem/models/torch_models/__init__.py)\n",
      "Skipped loading modules with pytorch-geometric dependency, missing a dependency. No module named 'torch_geometric'\n",
      "Skipped loading modules with pytorch-geometric dependency, missing a dependency. No module named 'torch_geometric'\n",
      "Skipped loading modules with pytorch-geometric dependency, missing a dependency. cannot import name 'DMPNN' from 'deepchem.models.torch_models' (/opt/conda/lib/python3.10/site-packages/deepchem/models/torch_models/__init__.py)\n",
      "Skipped loading modules with pytorch-geometric dependency, missing a dependency. No module named 'torch_geometric'\n",
      "Skipped loading modules with pytorch-geometric dependency, missing a dependency. No module named 'torch_geometric'\n",
      "Skipped loading modules with pytorch-geometric dependency, missing a dependency. No module named 'torch_geometric'\n",
      "Skipped loading modules with pytorch-geometric dependency, missing a dependency. No module named 'torch_geometric'\n",
      "Skipped loading modules with pytorch-geometric dependency, missing a dependency. No module named 'torch_geometric'\n",
      "Skipped loading modules with pytorch-geometric dependency, missing a dependency. No module named 'torch_geometric'\n",
      "Skipped loading modules with pytorch-geometric dependency, missing a dependency. cannot import name 'DMPNN' from 'deepchem.models.torch_models' (/opt/conda/lib/python3.10/site-packages/deepchem/models/torch_models/__init__.py)\n",
      "Skipped loading modules with pytorch-geometric dependency, missing a dependency. cannot import name 'DMPNN' from 'deepchem.models.torch_models' (/opt/conda/lib/python3.10/site-packages/deepchem/models/torch_models/__init__.py)\n",
      "Skipped loading modules with pytorch-geometric dependency, missing a dependency. cannot import name 'DMPNN' from 'deepchem.models.torch_models' (/opt/conda/lib/python3.10/site-packages/deepchem/models/torch_models/__init__.py)\n",
      "Skipped loading modules with pytorch-geometric dependency, missing a dependency. cannot import name 'DMPNN' from 'deepchem.models.torch_models' (/opt/conda/lib/python3.10/site-packages/deepchem/models/torch_models/__init__.py)\n",
      "Skipped loading modules with pytorch-geometric dependency, missing a dependency. cannot import name 'DMPNN' from 'deepchem.models.torch_models' (/opt/conda/lib/python3.10/site-packages/deepchem/models/torch_models/__init__.py)\n",
      "Skipped loading modules with pytorch-geometric dependency, missing a dependency. cannot import name 'DMPNN' from 'deepchem.models.torch_models' (/opt/conda/lib/python3.10/site-packages/deepchem/models/torch_models/__init__.py)\n",
      "Skipped loading modules with pytorch-geometric dependency, missing a dependency. cannot import name 'DMPNN' from 'deepchem.models.torch_models' (/opt/conda/lib/python3.10/site-packages/deepchem/models/torch_models/__init__.py)\n",
      "Skipped loading modules with pytorch-geometric dependency, missing a dependency. cannot import name 'DMPNN' from 'deepchem.models.torch_models' (/opt/conda/lib/python3.10/site-packages/deepchem/models/torch_models/__init__.py)\n",
      "Skipped loading modules with pytorch-geometric dependency, missing a dependency. cannot import name 'DMPNN' from 'deepchem.models.torch_models' (/opt/conda/lib/python3.10/site-packages/deepchem/models/torch_models/__init__.py)\n",
      "Skipped loading modules with pytorch-geometric dependency, missing a dependency. cannot import name 'DMPNN' from 'deepchem.models.torch_models' (/opt/conda/lib/python3.10/site-packages/deepchem/models/torch_models/__init__.py)\n",
      "Skipped loading some Jax models, missing a dependency. No module named 'jax'\n",
      "Skipped loading some PyTorch models, missing a dependency. No module named 'tensorflow'\n",
      "Skipped loading some Jax models, missing a dependency. No module named 'jax'\n",
      "  0%|                                | 96/98415610 [00:29<7864:39:40,  3.48it/s]Skipped loading some PyTorch models, missing a dependency. No module named 'tensorflow'\n",
      "Skipped loading some Jax models, missing a dependency. No module named 'jax'\n",
      "Skipped loading some PyTorch models, missing a dependency. No module named 'tensorflow'\n",
      "Skipped loading some Jax models, missing a dependency. No module named 'jax'\n",
      "Skipped loading some PyTorch models, missing a dependency. No module named 'tensorflow'\n",
      "  0%|                               | 144/98415610 [00:30<4338:36:27,  6.30it/s]Skipped loading some Jax models, missing a dependency. No module named 'jax'\n",
      "Skipped loading some PyTorch models, missing a dependency. No module named 'tensorflow'\n",
      "Skipped loading some Jax models, missing a dependency. No module named 'jax'\n",
      "Skipped loading some PyTorch models, missing a dependency. No module named 'tensorflow'\n",
      "  0%|                                | 576/98415610 [00:30<638:04:12, 42.84it/s]Skipped loading some Jax models, missing a dependency. No module named 'jax'\n",
      "Skipped loading some PyTorch models, missing a dependency. No module named 'tensorflow'\n",
      "Skipped loading some Jax models, missing a dependency. No module named 'jax'\n",
      "Skipped loading some PyTorch models, missing a dependency. No module named 'tensorflow'\n",
      "Skipped loading some Jax models, missing a dependency. No module named 'jax'\n",
      "  0%|                              | 1536/98415610 [00:30<174:39:12, 156.52it/s]Skipped loading some Jax models, missing a dependency. No module named 'jax'\n",
      "Skipped loading some PyTorch models, missing a dependency. No module named 'tensorflow'\n",
      "Skipped loading some PyTorch models, missing a dependency. No module named 'tensorflow'\n",
      "Skipped loading some Jax models, missing a dependency. No module named 'jax'\n",
      "Skipped loading some PyTorch models, missing a dependency. No module named 'tensorflow'\n",
      "Skipped loading some Jax models, missing a dependency. No module named 'jax'\n",
      "Skipped loading some PyTorch models, missing a dependency. No module named 'tensorflow'\n",
      "Skipped loading some Jax models, missing a dependency. No module named 'jax'\n",
      "Skipped loading some PyTorch models, missing a dependency. No module named 'tensorflow'\n",
      "Skipped loading some Jax models, missing a dependency. No module named 'jax'\n",
      "Skipped loading some PyTorch models, missing a dependency. No module named 'tensorflow'\n",
      "  0%|                               | 3072/98415610 [00:30<66:54:29, 408.57it/s]Skipped loading some Jax models, missing a dependency. No module named 'jax'\n",
      "Skipped loading some PyTorch models, missing a dependency. No module named 'tensorflow'\n",
      "Skipped loading some Jax models, missing a dependency. No module named 'jax'\n",
      "Skipped loading some PyTorch models, missing a dependency. No module named 'tensorflow'\n",
      "Skipped loading some Jax models, missing a dependency. No module named 'jax'\n",
      "Skipped loading some PyTorch models, missing a dependency. No module named 'tensorflow'\n",
      "Skipped loading some Jax models, missing a dependency. No module named 'jax'\n",
      "Skipped loading some PyTorch models, missing a dependency. No module named 'tensorflow'\n",
      "Skipped loading some Jax models, missing a dependency. No module named 'jax'\n",
      "Skipped loading some PyTorch models, missing a dependency. No module named 'tensorflow'\n",
      "Skipped loading some Jax models, missing a dependency. No module named 'jax'\n",
      "Skipped loading some PyTorch models, missing a dependency. No module named 'tensorflow'\n",
      "Skipped loading some Jax models, missing a dependency. No module named 'jax'\n",
      "Skipped loading some PyTorch models, missing a dependency. No module named 'tensorflow'\n",
      "Skipped loading some Jax models, missing a dependency. No module named 'jax'\n",
      "Skipped loading some PyTorch models, missing a dependency. No module named 'tensorflow'\n",
      "Skipped loading some Jax models, missing a dependency. No module named 'jax'\n",
      "Skipped loading some PyTorch models, missing a dependency. No module named 'tensorflow'\n",
      "  0%|                              | 6144/98415610 [00:30<25:03:50, 1090.64it/s]Skipped loading some Jax models, missing a dependency. No module named 'jax'\n",
      "Skipped loading some PyTorch models, missing a dependency. No module named 'tensorflow'\n",
      "Skipped loading some Jax models, missing a dependency. No module named 'jax'\n",
      "Skipped loading some PyTorch models, missing a dependency. No module named 'tensorflow'\n",
      "Skipped loading some Jax models, missing a dependency. No module named 'jax'\n",
      "Skipped loading some PyTorch models, missing a dependency. No module named 'tensorflow'\n",
      "Skipped loading some Jax models, missing a dependency. No module named 'jax'\n",
      "Skipped loading some PyTorch models, missing a dependency. No module named 'tensorflow'\n",
      "Skipped loading some Jax models, missing a dependency. No module named 'jax'\n",
      "Skipped loading some PyTorch models, missing a dependency. No module named 'tensorflow'\n",
      "Skipped loading some Jax models, missing a dependency. No module named 'jax'\n",
      "Skipped loading some PyTorch models, missing a dependency. No module named 'tensorflow'\n",
      "Skipped loading some Jax models, missing a dependency. No module named 'jax'\n",
      "Skipped loading some Jax models, missing a dependency. No module named 'jax'\n",
      "Skipped loading some PyTorch models, missing a dependency. No module named 'tensorflow'\n",
      "Skipped loading some PyTorch models, missing a dependency. No module named 'tensorflow'\n",
      "  0%|                              | 12288/98415610 [00:30<9:20:41, 2925.04it/s]Skipped loading some Jax models, missing a dependency. No module named 'jax'\n",
      "Skipped loading some PyTorch models, missing a dependency. No module named 'tensorflow'\n",
      "Skipped loading some Jax models, missing a dependency. No module named 'jax'\n",
      "Skipped loading some PyTorch models, missing a dependency. No module named 'tensorflow'\n",
      "Skipped loading some Jax models, missing a dependency. No module named 'jax'\n",
      "Skipped loading some PyTorch models, missing a dependency. No module named 'tensorflow'\n",
      "  0%|                              | 18432/98415610 [00:31<5:06:07, 5357.08it/s]Skipped loading some Jax models, missing a dependency. No module named 'jax'\n",
      "Skipped loading some PyTorch models, missing a dependency. No module named 'tensorflow'\n",
      "Skipped loading some Jax models, missing a dependency. No module named 'jax'\n",
      "Skipped loading some PyTorch models, missing a dependency. No module named 'tensorflow'\n",
      "Skipped loading some Jax models, missing a dependency. No module named 'jax'\n",
      "Skipped loading some PyTorch models, missing a dependency. No module named 'tensorflow'\n",
      "Skipped loading some Jax models, missing a dependency. No module named 'jax'\n",
      "Skipped loading some PyTorch models, missing a dependency. No module named 'tensorflow'\n",
      "  0%|                              | 24576/98415610 [00:31<3:17:53, 8286.65it/s]Skipped loading some Jax models, missing a dependency. No module named 'jax'\n",
      "Skipped loading some PyTorch models, missing a dependency. No module named 'tensorflow'\n",
      "Skipped loading some Jax models, missing a dependency. No module named 'jax'\n",
      "Skipped loading some PyTorch models, missing a dependency. No module named 'tensorflow'\n",
      "Skipped loading some Jax models, missing a dependency. No module named 'jax'\n",
      "Skipped loading some Jax models, missing a dependency. No module named 'jax'\n",
      "Skipped loading some PyTorch models, missing a dependency. No module named 'tensorflow'\n",
      "Skipped loading some PyTorch models, missing a dependency. No module named 'tensorflow'\n",
      "Skipped loading some Jax models, missing a dependency. No module named 'jax'\n",
      "Skipped loading some PyTorch models, missing a dependency. No module named 'tensorflow'\n",
      "  0%|                             | 30720/98415610 [00:31<2:18:43, 11820.28it/s]Skipped loading some Jax models, missing a dependency. No module named 'jax'\n",
      "Skipped loading some PyTorch models, missing a dependency. No module named 'tensorflow'\n",
      "Skipped loading some Jax models, missing a dependency. No module named 'jax'\n",
      "Skipped loading some PyTorch models, missing a dependency. No module named 'tensorflow'\n",
      "Skipped loading some Jax models, missing a dependency. No module named 'jax'\n",
      "Skipped loading some PyTorch models, missing a dependency. No module named 'tensorflow'\n",
      "  0%|                             | 36864/98415610 [00:31<1:41:23, 16172.07it/s]Skipped loading some Jax models, missing a dependency. No module named 'jax'\n",
      "Skipped loading some PyTorch models, missing a dependency. No module named 'tensorflow'\n",
      "Skipped loading some Jax models, missing a dependency. No module named 'jax'\n",
      "Skipped loading some PyTorch models, missing a dependency. No module named 'tensorflow'\n",
      "100%|████████████████████████████| 98415610/98415610 [40:18<00:00, 40692.58it/s]\n"
     ]
    },
    {
     "name": "stdout",
     "output_type": "stream",
     "text": [
      "98415610\n"
     ]
    },
    {
     "data": {
      "text/plain": [
       "['c1ccc(CNc2ncnc(NCC3CCCN3c3cccnn3)n2)cc1',\n",
       " 'c1ccc(CNc2ncnc(NCc3ccccn3)n2)cc1',\n",
       " 'c1ccc(CNc2ncnc(NCc3ccccc3)n2)cc1',\n",
       " 'c1ccc(CNc2ncncn2)cc1',\n",
       " 'c1ccc(CNc2ncncn2)cc1']"
      ]
     },
     "execution_count": 8,
     "metadata": {},
     "output_type": "execute_result"
    }
   ],
   "source": [
    "train_scaffolds = Parallel(n_jobs=48, backend='loky')(\n",
    "    delayed(_generate_scaffold)(smile, False) for smile in tqdm(train_df['molecule']))\n",
    "print(len(train_scaffolds))\n",
    "train_scaffolds[:5]"
   ]
  },
  {
   "cell_type": "code",
   "execution_count": 9,
   "id": "aa38d8db-f35b-4792-8ce0-34cff63de9db",
   "metadata": {},
   "outputs": [
    {
     "data": {
      "text/plain": [
       "98415610"
      ]
     },
     "execution_count": 9,
     "metadata": {},
     "output_type": "execute_result"
    }
   ],
   "source": [
    "len(train_scaffolds)"
   ]
  },
  {
   "cell_type": "code",
   "execution_count": 10,
   "id": "ca618ea9-b0e5-4848-b0ec-2357037040d9",
   "metadata": {},
   "outputs": [
    {
     "data": {
      "text/plain": [
       "5711873"
      ]
     },
     "execution_count": 10,
     "metadata": {},
     "output_type": "execute_result"
    }
   ],
   "source": [
    "len(set(train_scaffolds))"
   ]
  },
  {
   "cell_type": "code",
   "execution_count": 12,
   "id": "e42261a9-a64a-4ff4-9572-769feac6e392",
   "metadata": {},
   "outputs": [
    {
     "name": "stderr",
     "output_type": "stream",
     "text": [
      "100%|██████████████████████████████| 1674896/1674896 [00:58<00:00, 28415.76it/s]\n"
     ]
    },
    {
     "name": "stdout",
     "output_type": "stream",
     "text": [
      "1674896 368671\n"
     ]
    },
    {
     "data": {
      "text/plain": [
       "['c1ccc(Nc2ncnc(Nc3ccccc3)n2)cc1',\n",
       " 'c1ccc(Nc2ncnc(Nc3ccccc3)n2)cc1',\n",
       " 'c1ccc(Nc2ncnc(Nc3ccccc3)n2)cc1',\n",
       " 'c1ccc(Nc2ncnc(Nc3ncnc4[nH]cnc34)n2)cc1',\n",
       " 'c1ccc(Nc2ncnc(Nc3ncnc4[nH]cnc34)n2)cc1']"
      ]
     },
     "execution_count": 12,
     "metadata": {},
     "output_type": "execute_result"
    }
   ],
   "source": [
    "test_scaffolds = Parallel(n_jobs=48, backend='loky')(\n",
    "    delayed(_generate_scaffold)(smile, False) for smile in tqdm(test_df['molecule']))\n",
    "print(len(test_scaffolds), len(set(test_scaffolds)))\n",
    "test_scaffolds[:5]"
   ]
  },
  {
   "cell_type": "code",
   "execution_count": 41,
   "id": "93f8cd35-1e94-4922-aed0-d5a22c96ac52",
   "metadata": {},
   "outputs": [
    {
     "data": {
      "text/plain": [
       "2.3815868348744544"
      ]
     },
     "execution_count": 41,
     "metadata": {},
     "output_type": "execute_result"
    }
   ],
   "source": [
    "878_022 / 368671"
   ]
  },
  {
   "cell_type": "code",
   "execution_count": 42,
   "id": "fb6edf92-eb9d-44b8-8431-72329df3e161",
   "metadata": {},
   "outputs": [
    {
     "data": {
      "text/plain": [
       "17.230006689574505"
      ]
     },
     "execution_count": 42,
     "metadata": {},
     "output_type": "execute_result"
    }
   ],
   "source": [
    "98_415_610 / 5_711_873"
   ]
  },
  {
   "cell_type": "code",
   "execution_count": 14,
   "id": "1e34d256-642a-45a2-a881-cbc7d30e0256",
   "metadata": {},
   "outputs": [
    {
     "data": {
      "text/plain": [
       "(5711873, 368671, 5971685)"
      ]
     },
     "execution_count": 14,
     "metadata": {},
     "output_type": "execute_result"
    }
   ],
   "source": [
    "all_scaffolds = list(set(train_scaffolds + test_scaffolds))\n",
    "len(set(train_scaffolds)), len(set(test_scaffolds)), len(all_scaffolds)"
   ]
  },
  {
   "cell_type": "code",
   "execution_count": 15,
   "id": "70faa046-a88e-4067-bf58-925ab21fc9f1",
   "metadata": {},
   "outputs": [
    {
     "data": {
      "text/plain": [
       "108859"
      ]
     },
     "execution_count": 15,
     "metadata": {},
     "output_type": "execute_result"
    }
   ],
   "source": [
    "len(set(train_scaffolds).intersection(set(test_scaffolds)))"
   ]
  },
  {
   "cell_type": "code",
   "execution_count": 25,
   "id": "906e9a66-bc30-4f86-8255-1d595ce9ff12",
   "metadata": {},
   "outputs": [
    {
     "data": {
      "text/plain": [
       "259812"
      ]
     },
     "execution_count": 25,
     "metadata": {},
     "output_type": "execute_result"
    }
   ],
   "source": [
    "len(set(test_scaffolds).difference(set(train_scaffolds)))"
   ]
  },
  {
   "cell_type": "code",
   "execution_count": 16,
   "id": "a198337b-fa1a-416a-8201-8ba40c160da5",
   "metadata": {},
   "outputs": [
    {
     "data": {
      "text/plain": [
       "0.35714285714285715"
      ]
     },
     "execution_count": 16,
     "metadata": {},
     "output_type": "execute_result"
    }
   ],
   "source": [
    "200000 / (200000 + 360000)"
   ]
  },
  {
   "cell_type": "code",
   "execution_count": 17,
   "id": "cc5fe1cf-9030-4ba3-a261-f445cd209c33",
   "metadata": {},
   "outputs": [],
   "source": [
    "SCAFFOLD2IDX = {e: i for i, e in enumerate(all_scaffolds)}"
   ]
  },
  {
   "cell_type": "code",
   "execution_count": 26,
   "id": "b8ba0f24-36d9-4f25-a4da-823df5c9591f",
   "metadata": {},
   "outputs": [
    {
     "data": {
      "text/plain": [
       "0"
      ]
     },
     "execution_count": 26,
     "metadata": {},
     "output_type": "execute_result"
    }
   ],
   "source": [
    "SCAFFOLD2IDX[all_scaffolds[0]]"
   ]
  },
  {
   "cell_type": "code",
   "execution_count": null,
   "id": "55b18c15-9a8f-460a-a2f2-680a372db137",
   "metadata": {},
   "outputs": [],
   "source": []
  },
  {
   "cell_type": "code",
   "execution_count": 19,
   "id": "e039d365-a720-4de0-9b37-230869a1bcdc",
   "metadata": {},
   "outputs": [
    {
     "data": {
      "text/plain": [
       "5971685"
      ]
     },
     "execution_count": 19,
     "metadata": {},
     "output_type": "execute_result"
    }
   ],
   "source": [
    "len(set(test_scaffolds).union(set(train_scaffolds)))"
   ]
  },
  {
   "cell_type": "code",
   "execution_count": 20,
   "id": "ad4b26b6-7ae7-42c3-9ce8-ff866144fa8e",
   "metadata": {},
   "outputs": [
    {
     "data": {
      "text/plain": [
       "5971685"
      ]
     },
     "execution_count": 20,
     "metadata": {},
     "output_type": "execute_result"
    }
   ],
   "source": [
    "len(all_scaffolds)"
   ]
  },
  {
   "cell_type": "code",
   "execution_count": 21,
   "id": "dbf7ec3c-6a2e-4047-8581-c22f1db4953b",
   "metadata": {},
   "outputs": [],
   "source": [
    "with open('/home/dangnh36/datasets/competitions/leash_belka/processed/scaffolds.json', 'w') as f:\n",
    "    json.dump(all_scaffolds, f)"
   ]
  },
  {
   "cell_type": "code",
   "execution_count": 22,
   "id": "4743e418-bd21-4e80-a80c-70fd12de565b",
   "metadata": {},
   "outputs": [
    {
     "data": {
      "text/plain": [
       "['O=c1[nH]nc(CNc2nc(NCCc3ccccc3)nc(N3Cc4ccccc4C3)n2)[nH]1',\n",
       " 'O=C(c1ccccc1)N1CCC(c2ccc(-c3ccc4c(c3)OCCO4)nc2)C1',\n",
       " 'O=c1nccc(Nc2nc(NCCCc3nncs3)nc(NCCC3CC3)n2)[nH]1',\n",
       " 'O=C(c1ccccc1-c1ccccc1)N1CCC(c2cccc(-c3ccc4c(c3)COCC4)c2)C1',\n",
       " 'O=C(c1nccnc1N1CCCCC1)N1CC=C(c2ccnc(-c3ccc4cn[nH]c4c3)c2)C1']"
      ]
     },
     "execution_count": 22,
     "metadata": {},
     "output_type": "execute_result"
    }
   ],
   "source": [
    "all_scaffolds[:5]"
   ]
  },
  {
   "cell_type": "code",
   "execution_count": null,
   "id": "9e9d7aa8-4bf3-4c38-8594-89bca095a7e1",
   "metadata": {},
   "outputs": [],
   "source": []
  },
  {
   "cell_type": "code",
   "execution_count": null,
   "id": "f9047879-707d-4287-ad29-d18809cf919d",
   "metadata": {},
   "outputs": [],
   "source": []
  },
  {
   "cell_type": "code",
   "execution_count": null,
   "id": "79cd0000-7764-4361-a22b-45d5a32c4aef",
   "metadata": {},
   "outputs": [],
   "source": []
  },
  {
   "cell_type": "code",
   "execution_count": 32,
   "id": "71bff56c-b0cc-4ddf-b795-c673c6b7b9ff",
   "metadata": {},
   "outputs": [
    {
     "data": {
      "text/html": [
       "<div><style>\n",
       ".dataframe > thead > tr,\n",
       ".dataframe > tbody > tr {\n",
       "  text-align: right;\n",
       "  white-space: pre-wrap;\n",
       "}\n",
       "</style>\n",
       "<small>shape: (98_415_610, 2)</small><table border=\"1\" class=\"dataframe\"><thead><tr><th>scaffold_idx</th><th>scaffold</th></tr><tr><td>u32</td><td>str</td></tr></thead><tbody><tr><td>4283326</td><td>&quot;c1ccc(CNc2ncnc…</td></tr><tr><td>4486646</td><td>&quot;c1ccc(CNc2ncnc…</td></tr><tr><td>1015728</td><td>&quot;c1ccc(CNc2ncnc…</td></tr><tr><td>5301385</td><td>&quot;c1ccc(CNc2ncnc…</td></tr><tr><td>5301385</td><td>&quot;c1ccc(CNc2ncnc…</td></tr><tr><td>&hellip;</td><td>&hellip;</td></tr><tr><td>4674025</td><td>&quot;c1ccc2c(Nc3ncn…</td></tr><tr><td>5240137</td><td>&quot;c1ccc2c(Nc3ncn…</td></tr><tr><td>5240137</td><td>&quot;c1ccc2c(Nc3ncn…</td></tr><tr><td>3617024</td><td>&quot;c1ccc2c(Nc3ncn…</td></tr><tr><td>268351</td><td>&quot;c1ccc2c(Nc3ncn…</td></tr></tbody></table></div>"
      ],
      "text/plain": [
       "shape: (98_415_610, 2)\n",
       "┌──────────────┬───────────────────────────────────┐\n",
       "│ scaffold_idx ┆ scaffold                          │\n",
       "│ ---          ┆ ---                               │\n",
       "│ u32          ┆ str                               │\n",
       "╞══════════════╪═══════════════════════════════════╡\n",
       "│ 4283326      ┆ c1ccc(CNc2ncnc(NCC3CCCN3c3cccnn3… │\n",
       "│ 4486646      ┆ c1ccc(CNc2ncnc(NCc3ccccn3)n2)cc1  │\n",
       "│ 1015728      ┆ c1ccc(CNc2ncnc(NCc3ccccc3)n2)cc1  │\n",
       "│ 5301385      ┆ c1ccc(CNc2ncncn2)cc1              │\n",
       "│ 5301385      ┆ c1ccc(CNc2ncncn2)cc1              │\n",
       "│ …            ┆ …                                 │\n",
       "│ 4674025      ┆ c1ccc2c(Nc3ncnc(Nc4ncnc5c4ncn5C4… │\n",
       "│ 5240137      ┆ c1ccc2c(Nc3ncnc(Nc4nncs4)n3)noc2… │\n",
       "│ 5240137      ┆ c1ccc2c(Nc3ncnc(Nc4nncs4)n3)noc2… │\n",
       "│ 3617024      ┆ c1ccc2c(Nc3ncnc(Nc4nnn[nH]4)n3)n… │\n",
       "│ 268351       ┆ c1ccc2c(Nc3ncnc(Nc4noc5ccccc45)n… │\n",
       "└──────────────┴───────────────────────────────────┘"
      ]
     },
     "execution_count": 32,
     "metadata": {},
     "output_type": "execute_result"
    }
   ],
   "source": [
    "train_scaffold_df = pl.DataFrame(\n",
    "    {\n",
    "        'scaffold_idx': [SCAFFOLD2IDX[scaffold] for scaffold in train_scaffolds],\n",
    "        'scaffold': train_scaffolds,\n",
    "    },\n",
    "    schema_overrides={\n",
    "        'scaffold_idx': pl.UInt32\n",
    "    }\n",
    ")\n",
    "train_scaffold_df"
   ]
  },
  {
   "cell_type": "code",
   "execution_count": 40,
   "id": "120f4db8-a89f-4653-b5e8-be7bc61a9d7b",
   "metadata": {},
   "outputs": [
    {
     "data": {
      "text/plain": [
       "5711873"
      ]
     },
     "execution_count": 40,
     "metadata": {},
     "output_type": "execute_result"
    }
   ],
   "source": [
    "train_scaffold_df.select('scaffold_idx').write_csv('/home/dangnh36/datasets/competitions/leash_belka/processed/train_scaffold.csv')\n",
    "train_scaffold_df.n_unique('scaffold_idx')"
   ]
  },
  {
   "cell_type": "code",
   "execution_count": 35,
   "id": "a5799565-7918-461e-80e0-cee4dee3eb12",
   "metadata": {},
   "outputs": [
    {
     "data": {
      "text/html": [
       "<div><style>\n",
       ".dataframe > thead > tr,\n",
       ".dataframe > tbody > tr {\n",
       "  text-align: right;\n",
       "  white-space: pre-wrap;\n",
       "}\n",
       "</style>\n",
       "<small>shape: (1_674_896, 2)</small><table border=\"1\" class=\"dataframe\"><thead><tr><th>scaffold_idx</th><th>scaffold</th></tr><tr><td>u32</td><td>str</td></tr></thead><tbody><tr><td>2217250</td><td>&quot;c1ccc(Nc2ncnc(…</td></tr><tr><td>2217250</td><td>&quot;c1ccc(Nc2ncnc(…</td></tr><tr><td>2217250</td><td>&quot;c1ccc(Nc2ncnc(…</td></tr><tr><td>602641</td><td>&quot;c1ccc(Nc2ncnc(…</td></tr><tr><td>602641</td><td>&quot;c1ccc(Nc2ncnc(…</td></tr><tr><td>&hellip;</td><td>&hellip;</td></tr><tr><td>3642883</td><td>&quot;c1ccc2c(Nc3ncn…</td></tr><tr><td>3642883</td><td>&quot;c1ccc2c(Nc3ncn…</td></tr><tr><td>2851961</td><td>&quot;c1csc(CNc2ncnc…</td></tr><tr><td>2851961</td><td>&quot;c1csc(CNc2ncnc…</td></tr><tr><td>2851961</td><td>&quot;c1csc(CNc2ncnc…</td></tr></tbody></table></div>"
      ],
      "text/plain": [
       "shape: (1_674_896, 2)\n",
       "┌──────────────┬───────────────────────────────────┐\n",
       "│ scaffold_idx ┆ scaffold                          │\n",
       "│ ---          ┆ ---                               │\n",
       "│ u32          ┆ str                               │\n",
       "╞══════════════╪═══════════════════════════════════╡\n",
       "│ 2217250      ┆ c1ccc(Nc2ncnc(Nc3ccccc3)n2)cc1    │\n",
       "│ 2217250      ┆ c1ccc(Nc2ncnc(Nc3ccccc3)n2)cc1    │\n",
       "│ 2217250      ┆ c1ccc(Nc2ncnc(Nc3ccccc3)n2)cc1    │\n",
       "│ 602641       ┆ c1ccc(Nc2ncnc(Nc3ncnc4[nH]cnc34)… │\n",
       "│ 602641       ┆ c1ccc(Nc2ncnc(Nc3ncnc4[nH]cnc34)… │\n",
       "│ …            ┆ …                                 │\n",
       "│ 3642883      ┆ c1ccc2c(Nc3ncnc(NCCC4CCCCC4)n3)n… │\n",
       "│ 3642883      ┆ c1ccc2c(Nc3ncnc(NCCC4CCCCC4)n3)n… │\n",
       "│ 2851961      ┆ c1csc(CNc2ncnc(Nc3noc4ccccc34)n2… │\n",
       "│ 2851961      ┆ c1csc(CNc2ncnc(Nc3noc4ccccc34)n2… │\n",
       "│ 2851961      ┆ c1csc(CNc2ncnc(Nc3noc4ccccc34)n2… │\n",
       "└──────────────┴───────────────────────────────────┘"
      ]
     },
     "execution_count": 35,
     "metadata": {},
     "output_type": "execute_result"
    }
   ],
   "source": [
    "test_scaffold_df = pl.DataFrame(\n",
    "    {\n",
    "        'scaffold_idx': [SCAFFOLD2IDX[scaffold] for scaffold in test_scaffolds],\n",
    "        'scaffold': test_scaffolds,\n",
    "    },\n",
    "    schema_overrides={\n",
    "        'scaffold_idx': pl.UInt32\n",
    "    }\n",
    ")\n",
    "test_scaffold_df"
   ]
  },
  {
   "cell_type": "code",
   "execution_count": 39,
   "id": "661652d7-38df-4d0a-935a-b983beac0df5",
   "metadata": {},
   "outputs": [
    {
     "data": {
      "text/plain": [
       "368671"
      ]
     },
     "execution_count": 39,
     "metadata": {},
     "output_type": "execute_result"
    }
   ],
   "source": [
    "test_scaffold_df.select('scaffold_idx').write_csv('/home/dangnh36/datasets/competitions/leash_belka/processed/test_scaffold.csv')\n",
    "test_scaffold_df.n_unique('scaffold_idx')"
   ]
  },
  {
   "cell_type": "code",
   "execution_count": null,
   "id": "39898f9c-0ee4-4722-b09c-0acf6cd10215",
   "metadata": {},
   "outputs": [],
   "source": []
  },
  {
   "cell_type": "code",
   "execution_count": 44,
   "id": "664311f4-5b2d-4e83-9cbb-8ab8aeeddcc9",
   "metadata": {},
   "outputs": [
    {
     "data": {
      "text/plain": [
       "(0.20527859237536658,\n",
       " 0.39210526315789473,\n",
       " 0.3726618705035971,\n",
       " 0.45734597156398105)"
      ]
     },
     "execution_count": 44,
     "metadata": {},
     "output_type": "execute_result"
    }
   ],
   "source": [
    "70 / 341, 447 / 1140, 518 / 1390, 965 / 2110"
   ]
  },
  {
   "cell_type": "code",
   "execution_count": 45,
   "id": "0e6a8867-6530-461d-acab-07b35c72b1c7",
   "metadata": {},
   "outputs": [
    {
     "data": {
      "text/plain": [
       "0.45734597156398105"
      ]
     },
     "execution_count": 45,
     "metadata": {},
     "output_type": "execute_result"
    }
   ],
   "source": [
    "965 / 2110"
   ]
  },
  {
   "cell_type": "code",
   "execution_count": 46,
   "id": "259bb9f5-bfb2-448d-ab92-75c6dbd59fb0",
   "metadata": {},
   "outputs": [
    {
     "data": {
      "text/plain": [
       "0.04350731828621235"
      ]
     },
     "execution_count": 46,
     "metadata": {},
     "output_type": "execute_result"
    }
   ],
   "source": [
    "259_812 / 5_971_685"
   ]
  },
  {
   "cell_type": "code",
   "execution_count": 48,
   "id": "3cb5b7c3-485d-4853-9e17-01e1b9282f4c",
   "metadata": {},
   "outputs": [
    {
     "data": {
      "text/plain": [
       "0.5796927639626341"
      ]
     },
     "execution_count": 48,
     "metadata": {},
     "output_type": "execute_result"
    }
   ],
   "source": [
    "508_983 / 878_022"
   ]
  },
  {
   "cell_type": "code",
   "execution_count": 49,
   "id": "5b547b13-6637-4929-ab54-4c2d8f9fbf14",
   "metadata": {},
   "outputs": [
    {
     "data": {
      "text/plain": [
       "15.493144293963995"
      ]
     },
     "execution_count": 49,
     "metadata": {},
     "output_type": "execute_result"
    }
   ],
   "source": [
    "5_711_873 / 368_671"
   ]
  },
  {
   "cell_type": "code",
   "execution_count": 50,
   "id": "3a63bf15-b233-4d78-b799-93cf523977c7",
   "metadata": {},
   "outputs": [
    {
     "data": {
      "text/plain": [
       "112.08786340205599"
      ]
     },
     "execution_count": 50,
     "metadata": {},
     "output_type": "execute_result"
    }
   ],
   "source": [
    "98_415_610 / 878_022"
   ]
  },
  {
   "cell_type": "code",
   "execution_count": null,
   "id": "01ff4cf5-dcab-43d5-8b0e-5cce498f5cd3",
   "metadata": {},
   "outputs": [],
   "source": []
  },
  {
   "cell_type": "markdown",
   "id": "bc22645a-5ab4-4650-949a-95af3a7b3f99",
   "metadata": {},
   "source": [
    "# How the author does the Train-Val-Test split?\n",
    "- The test set is made from the combination of several different splitting strategies. That statement was only meant to describe one of the strategies: the **bb-split**. for this split we hold out certain building blocks. But the overall test set also includes molecules from a **scaffold split** and a **random split**, hence the overlap.\n",
    "- 3 split strategy: Random Split + Scaffold Split + Building Block Split\n",
    "\n",
    "- Strategy 1: **Iterative**: BB -> Scaffold -> Random or Scaffold -> BB -> Random. I guess the correct order is **BB -> Scaffold -> Random**\n",
    "- Strategy 2: **Partition**: Split datasets to 3 subsets -> do split on each subset\n",
    "\n",
    "After that, they prune the test set by a trained model to reduce the size (e.g, filter too easy samples - non binds with high confident)\n",
    "\n",
    "\n",
    "## Strategy\n",
    "- BB: Split by BB with test_fraction x <= 0.45 (965 / 2110).\n",
    "      Train: \n",
    "- Scaffold :Split by Scaffold with test fraction y <=  ((259_812 - ) / ) "
   ]
  },
  {
   "cell_type": "code",
   "execution_count": null,
   "id": "6fec8d42-2961-4ae5-be52-0da80b1aaa07",
   "metadata": {},
   "outputs": [],
   "source": []
  },
  {
   "cell_type": "code",
   "execution_count": 53,
   "id": "db236b14-afd2-44b7-a794-6878f73cb0f0",
   "metadata": {},
   "outputs": [
    {
     "data": {
      "text/plain": [
       "98415610"
      ]
     },
     "execution_count": 53,
     "metadata": {},
     "output_type": "execute_result"
    }
   ],
   "source": [
    "len(train_scaffold_df['scaffold_idx'])"
   ]
  },
  {
   "cell_type": "code",
   "execution_count": 54,
   "id": "923bd1dc-aa39-4c48-9098-a51601f07838",
   "metadata": {},
   "outputs": [
    {
     "data": {
      "text/html": [
       "<div><style>\n",
       ".dataframe > thead > tr,\n",
       ".dataframe > tbody > tr {\n",
       "  text-align: right;\n",
       "  white-space: pre-wrap;\n",
       "}\n",
       "</style>\n",
       "<small>shape: (98_415_610, 8)</small><table border=\"1\" class=\"dataframe\"><thead><tr><th>molecule</th><th>bb1</th><th>bb2</th><th>bb3</th><th>BRD4</th><th>HSA</th><th>eSH</th><th>scaffold_idx</th></tr><tr><td>str</td><td>u16</td><td>u16</td><td>u16</td><td>u8</td><td>u8</td><td>u8</td><td>u32</td></tr></thead><tbody><tr><td>&quot;C#CCOc1ccc(CNc…</td><td>1640</td><td>1653</td><td>765</td><td>0</td><td>0</td><td>0</td><td>4283326</td></tr><tr><td>&quot;C#CCOc1ccc(CNc…</td><td>1640</td><td>1653</td><td>205</td><td>0</td><td>0</td><td>0</td><td>4486646</td></tr><tr><td>&quot;C#CCOc1ccc(CNc…</td><td>1640</td><td>1653</td><td>1653</td><td>0</td><td>0</td><td>0</td><td>1015728</td></tr><tr><td>&quot;C#CCOc1ccc(CNc…</td><td>1640</td><td>1653</td><td>146</td><td>0</td><td>0</td><td>0</td><td>5301385</td></tr><tr><td>&quot;C#CCOc1ccc(CNc…</td><td>1640</td><td>1653</td><td>439</td><td>0</td><td>0</td><td>0</td><td>5301385</td></tr><tr><td>&hellip;</td><td>&hellip;</td><td>&hellip;</td><td>&hellip;</td><td>&hellip;</td><td>&hellip;</td><td>&hellip;</td><td>&hellip;</td></tr><tr><td>&quot;[N-]=[N+]=NCCC…</td><td>141</td><td>1415</td><td>1792</td><td>0</td><td>0</td><td>0</td><td>4674025</td></tr><tr><td>&quot;[N-]=[N+]=NCCC…</td><td>141</td><td>1415</td><td>1178</td><td>0</td><td>0</td><td>0</td><td>5240137</td></tr><tr><td>&quot;[N-]=[N+]=NCCC…</td><td>141</td><td>1415</td><td>1699</td><td>0</td><td>0</td><td>0</td><td>5240137</td></tr><tr><td>&quot;[N-]=[N+]=NCCC…</td><td>141</td><td>1415</td><td>1308</td><td>0</td><td>0</td><td>0</td><td>3617024</td></tr><tr><td>&quot;[N-]=[N+]=NCCC…</td><td>141</td><td>1415</td><td>1415</td><td>0</td><td>0</td><td>0</td><td>268351</td></tr></tbody></table></div>"
      ],
      "text/plain": [
       "shape: (98_415_610, 8)\n",
       "┌───────────────────────────────────┬──────┬──────┬──────┬──────┬─────┬─────┬──────────────┐\n",
       "│ molecule                          ┆ bb1  ┆ bb2  ┆ bb3  ┆ BRD4 ┆ HSA ┆ eSH ┆ scaffold_idx │\n",
       "│ ---                               ┆ ---  ┆ ---  ┆ ---  ┆ ---  ┆ --- ┆ --- ┆ ---          │\n",
       "│ str                               ┆ u16  ┆ u16  ┆ u16  ┆ u8   ┆ u8  ┆ u8  ┆ u32          │\n",
       "╞═══════════════════════════════════╪══════╪══════╪══════╪══════╪═════╪═════╪══════════════╡\n",
       "│ C#CCOc1ccc(CNc2nc(NCC3CCCN3c3ccc… ┆ 1640 ┆ 1653 ┆ 765  ┆ 0    ┆ 0   ┆ 0   ┆ 4283326      │\n",
       "│ C#CCOc1ccc(CNc2nc(NCc3cccc(Br)n3… ┆ 1640 ┆ 1653 ┆ 205  ┆ 0    ┆ 0   ┆ 0   ┆ 4486646      │\n",
       "│ C#CCOc1ccc(CNc2nc(NCc3ccc(OCC#C)… ┆ 1640 ┆ 1653 ┆ 1653 ┆ 0    ┆ 0   ┆ 0   ┆ 1015728      │\n",
       "│ C#CCOc1ccc(CNc2nc(NCCNC(=O)C(=C)… ┆ 1640 ┆ 1653 ┆ 146  ┆ 0    ┆ 0   ┆ 0   ┆ 5301385      │\n",
       "│ C#CCOc1ccc(CNc2nc(NCC(=O)NCC=C)n… ┆ 1640 ┆ 1653 ┆ 439  ┆ 0    ┆ 0   ┆ 0   ┆ 5301385      │\n",
       "│ …                                 ┆ …    ┆ …    ┆ …    ┆ …    ┆ …   ┆ …   ┆ …            │\n",
       "│ [N-]=[N+]=NCCC[C@H](Nc1nc(Nc2noc… ┆ 141  ┆ 1415 ┆ 1792 ┆ 0    ┆ 0   ┆ 0   ┆ 4674025      │\n",
       "│ [N-]=[N+]=NCCC[C@H](Nc1nc(Nc2nnc… ┆ 141  ┆ 1415 ┆ 1178 ┆ 0    ┆ 0   ┆ 0   ┆ 5240137      │\n",
       "│ [N-]=[N+]=NCCC[C@H](Nc1nc(Nc2nnc… ┆ 141  ┆ 1415 ┆ 1699 ┆ 0    ┆ 0   ┆ 0   ┆ 5240137      │\n",
       "│ [N-]=[N+]=NCCC[C@H](Nc1nc(Nc2nnn… ┆ 141  ┆ 1415 ┆ 1308 ┆ 0    ┆ 0   ┆ 0   ┆ 3617024      │\n",
       "│ [N-]=[N+]=NCCC[C@H](Nc1nc(Nc2noc… ┆ 141  ┆ 1415 ┆ 1415 ┆ 0    ┆ 0   ┆ 0   ┆ 268351       │\n",
       "└───────────────────────────────────┴──────┴──────┴──────┴──────┴─────┴─────┴──────────────┘"
      ]
     },
     "execution_count": 54,
     "metadata": {},
     "output_type": "execute_result"
    }
   ],
   "source": [
    "train_df = train_df.with_columns(\n",
    "    scaffold_idx = train_scaffold_df['scaffold_idx']\n",
    ")\n",
    "train_df"
   ]
  },
  {
   "cell_type": "code",
   "execution_count": 55,
   "id": "2084f4bf-e7b8-4448-af41-badd1bca8aae",
   "metadata": {},
   "outputs": [
    {
     "data": {
      "text/html": [
       "<div><style>\n",
       ".dataframe > thead > tr,\n",
       ".dataframe > tbody > tr {\n",
       "  text-align: right;\n",
       "  white-space: pre-wrap;\n",
       "}\n",
       "</style>\n",
       "<small>shape: (1_674_896, 7)</small><table border=\"1\" class=\"dataframe\"><thead><tr><th>id</th><th>molecule</th><th>bb1</th><th>bb2</th><th>bb3</th><th>protein</th><th>scaffold_idx</th></tr><tr><td>i64</td><td>str</td><td>u16</td><td>u16</td><td>u16</td><td>str</td><td>u32</td></tr></thead><tbody><tr><td>295246830</td><td>&quot;C#CCCC[C@H](Nc…</td><td>1989</td><td>409</td><td>409</td><td>&quot;BRD4&quot;</td><td>2217250</td></tr><tr><td>295246831</td><td>&quot;C#CCCC[C@H](Nc…</td><td>1989</td><td>409</td><td>409</td><td>&quot;HSA&quot;</td><td>2217250</td></tr><tr><td>295246832</td><td>&quot;C#CCCC[C@H](Nc…</td><td>1989</td><td>409</td><td>409</td><td>&quot;sEH&quot;</td><td>2217250</td></tr><tr><td>295246833</td><td>&quot;C#CCCC[C@H](Nc…</td><td>1989</td><td>409</td><td>1012</td><td>&quot;BRD4&quot;</td><td>602641</td></tr><tr><td>295246834</td><td>&quot;C#CCCC[C@H](Nc…</td><td>1989</td><td>409</td><td>1012</td><td>&quot;HSA&quot;</td><td>602641</td></tr><tr><td>&hellip;</td><td>&hellip;</td><td>&hellip;</td><td>&hellip;</td><td>&hellip;</td><td>&hellip;</td><td>&hellip;</td></tr><tr><td>296921721</td><td>&quot;COC1CCC(CCNc2n…</td><td>141</td><td>1415</td><td>1556</td><td>&quot;HSA&quot;</td><td>3642883</td></tr><tr><td>296921722</td><td>&quot;COC1CCC(CCNc2n…</td><td>141</td><td>1415</td><td>1556</td><td>&quot;sEH&quot;</td><td>3642883</td></tr><tr><td>296921723</td><td>&quot;[N-]=[N+]=NCCC…</td><td>141</td><td>1415</td><td>236</td><td>&quot;BRD4&quot;</td><td>2851961</td></tr><tr><td>296921724</td><td>&quot;[N-]=[N+]=NCCC…</td><td>141</td><td>1415</td><td>236</td><td>&quot;HSA&quot;</td><td>2851961</td></tr><tr><td>296921725</td><td>&quot;[N-]=[N+]=NCCC…</td><td>141</td><td>1415</td><td>236</td><td>&quot;sEH&quot;</td><td>2851961</td></tr></tbody></table></div>"
      ],
      "text/plain": [
       "shape: (1_674_896, 7)\n",
       "┌───────────┬───────────────────────────────────┬──────┬──────┬──────┬─────────┬──────────────┐\n",
       "│ id        ┆ molecule                          ┆ bb1  ┆ bb2  ┆ bb3  ┆ protein ┆ scaffold_idx │\n",
       "│ ---       ┆ ---                               ┆ ---  ┆ ---  ┆ ---  ┆ ---     ┆ ---          │\n",
       "│ i64       ┆ str                               ┆ u16  ┆ u16  ┆ u16  ┆ str     ┆ u32          │\n",
       "╞═══════════╪═══════════════════════════════════╪══════╪══════╪══════╪═════════╪══════════════╡\n",
       "│ 295246830 ┆ C#CCCC[C@H](Nc1nc(Nc2ccc(C=C)cc2… ┆ 1989 ┆ 409  ┆ 409  ┆ BRD4    ┆ 2217250      │\n",
       "│ 295246831 ┆ C#CCCC[C@H](Nc1nc(Nc2ccc(C=C)cc2… ┆ 1989 ┆ 409  ┆ 409  ┆ HSA     ┆ 2217250      │\n",
       "│ 295246832 ┆ C#CCCC[C@H](Nc1nc(Nc2ccc(C=C)cc2… ┆ 1989 ┆ 409  ┆ 409  ┆ sEH     ┆ 2217250      │\n",
       "│ 295246833 ┆ C#CCCC[C@H](Nc1nc(Nc2ccc(C=C)cc2… ┆ 1989 ┆ 409  ┆ 1012 ┆ BRD4    ┆ 602641       │\n",
       "│ 295246834 ┆ C#CCCC[C@H](Nc1nc(Nc2ccc(C=C)cc2… ┆ 1989 ┆ 409  ┆ 1012 ┆ HSA     ┆ 602641       │\n",
       "│ …         ┆ …                                 ┆ …    ┆ …    ┆ …    ┆ …       ┆ …            │\n",
       "│ 296921721 ┆ COC1CCC(CCNc2nc(Nc3noc4ccc(F)cc3… ┆ 141  ┆ 1415 ┆ 1556 ┆ HSA     ┆ 3642883      │\n",
       "│ 296921722 ┆ COC1CCC(CCNc2nc(Nc3noc4ccc(F)cc3… ┆ 141  ┆ 1415 ┆ 1556 ┆ sEH     ┆ 3642883      │\n",
       "│ 296921723 ┆ [N-]=[N+]=NCCC[C@H](Nc1nc(NCc2cc… ┆ 141  ┆ 1415 ┆ 236  ┆ BRD4    ┆ 2851961      │\n",
       "│ 296921724 ┆ [N-]=[N+]=NCCC[C@H](Nc1nc(NCc2cc… ┆ 141  ┆ 1415 ┆ 236  ┆ HSA     ┆ 2851961      │\n",
       "│ 296921725 ┆ [N-]=[N+]=NCCC[C@H](Nc1nc(NCc2cc… ┆ 141  ┆ 1415 ┆ 236  ┆ sEH     ┆ 2851961      │\n",
       "└───────────┴───────────────────────────────────┴──────┴──────┴──────┴─────────┴──────────────┘"
      ]
     },
     "execution_count": 55,
     "metadata": {},
     "output_type": "execute_result"
    }
   ],
   "source": [
    "test_df = test_df.with_columns(\n",
    "    scaffold_idx = test_scaffold_df['scaffold_idx']\n",
    ")\n",
    "test_df"
   ]
  },
  {
   "cell_type": "code",
   "execution_count": 60,
   "id": "6874ad78-6fd0-420c-bfdb-3147cda8d52a",
   "metadata": {},
   "outputs": [
    {
     "name": "stdout",
     "output_type": "stream",
     "text": [
      "['CC1(C)OB(c2sccc2C#N)OC1(C)C', 'CCCOc1ncc(C(F)(F)F)cc1B(O)O', 'O=C(O)c1ccc(-c2cn[nH]c2)cn1', 'NCc1ccncc1', 'CN1CCOCc2cc(B3OC(C)(C)C(C)(C)O3)ccc21'] [910, 1214, 1733, 231, 213]\n"
     ]
    },
    {
     "data": {
      "text/plain": [
       "(965, 965)"
      ]
     },
     "execution_count": 60,
     "metadata": {},
     "output_type": "execute_result"
    }
   ],
   "source": [
    "test_only_bbs = list(set(bbs_meta['test_bbs']).difference(bbs_meta['train_bbs']))\n",
    "BB2IDX = {e: i for i, e in enumerate(bbs_meta['all_bbs'])}\n",
    "test_only_bb_idxs = [BB2IDX[e] for e in test_only_bbs]\n",
    "\n",
    "print(test_only_bbs[:5], test_only_bb_idxs[:5])\n",
    "len(test_only_bbs), len(test_only_bb_idxs)"
   ]
  },
  {
   "cell_type": "code",
   "execution_count": null,
   "id": "50723532-82ac-4924-bb7a-ae8545628928",
   "metadata": {},
   "outputs": [],
   "source": []
  },
  {
   "cell_type": "code",
   "execution_count": 66,
   "id": "3e574d6e-55a2-40c0-aa46-8454741253d0",
   "metadata": {},
   "outputs": [
    {
     "data": {
      "text/html": [
       "<div><style>\n",
       ".dataframe > thead > tr,\n",
       ".dataframe > tbody > tr {\n",
       "  text-align: right;\n",
       "  white-space: pre-wrap;\n",
       "}\n",
       "</style>\n",
       "<small>shape: (1, 7)</small><table border=\"1\" class=\"dataframe\"><thead><tr><th>id</th><th>molecule</th><th>bb1</th><th>bb2</th><th>bb3</th><th>protein</th><th>scaffold_idx</th></tr><tr><td>u32</td><td>u32</td><td>u32</td><td>u32</td><td>u32</td><td>u32</td><td>u32</td></tr></thead><tbody><tr><td>567779</td><td>508983</td><td>70</td><td>447</td><td>518</td><td>3</td><td>245841</td></tr></tbody></table></div>"
      ],
      "text/plain": [
       "shape: (1, 7)\n",
       "┌────────┬──────────┬─────┬─────┬─────┬─────────┬──────────────┐\n",
       "│ id     ┆ molecule ┆ bb1 ┆ bb2 ┆ bb3 ┆ protein ┆ scaffold_idx │\n",
       "│ ---    ┆ ---      ┆ --- ┆ --- ┆ --- ┆ ---     ┆ ---          │\n",
       "│ u32    ┆ u32      ┆ u32 ┆ u32 ┆ u32 ┆ u32     ┆ u32          │\n",
       "╞════════╪══════════╪═════╪═════╪═════╪═════════╪══════════════╡\n",
       "│ 567779 ┆ 508983   ┆ 70  ┆ 447 ┆ 518 ┆ 3       ┆ 245841       │\n",
       "└────────┴──────────┴─────┴─────┴─────┴─────────┴──────────────┘"
      ]
     },
     "metadata": {},
     "output_type": "display_data"
    },
    {
     "data": {
      "text/html": [
       "<div><style>\n",
       ".dataframe > thead > tr,\n",
       ".dataframe > tbody > tr {\n",
       "  text-align: right;\n",
       "  white-space: pre-wrap;\n",
       "}\n",
       "</style>\n",
       "<small>shape: (567_779, 7)</small><table border=\"1\" class=\"dataframe\"><thead><tr><th>id</th><th>molecule</th><th>bb1</th><th>bb2</th><th>bb3</th><th>protein</th><th>scaffold_idx</th></tr><tr><td>i64</td><td>str</td><td>u16</td><td>u16</td><td>u16</td><td>str</td><td>u32</td></tr></thead><tbody><tr><td>295246830</td><td>&quot;C#CCCC[C@H](Nc…</td><td>1989</td><td>409</td><td>409</td><td>&quot;BRD4&quot;</td><td>2217250</td></tr><tr><td>295246831</td><td>&quot;C#CCCC[C@H](Nc…</td><td>1989</td><td>409</td><td>409</td><td>&quot;HSA&quot;</td><td>2217250</td></tr><tr><td>295246832</td><td>&quot;C#CCCC[C@H](Nc…</td><td>1989</td><td>409</td><td>409</td><td>&quot;sEH&quot;</td><td>2217250</td></tr><tr><td>295246833</td><td>&quot;C#CCCC[C@H](Nc…</td><td>1989</td><td>409</td><td>1012</td><td>&quot;BRD4&quot;</td><td>602641</td></tr><tr><td>295246834</td><td>&quot;C#CCCC[C@H](Nc…</td><td>1989</td><td>409</td><td>1012</td><td>&quot;HSA&quot;</td><td>602641</td></tr><tr><td>&hellip;</td><td>&hellip;</td><td>&hellip;</td><td>&hellip;</td><td>&hellip;</td><td>&hellip;</td><td>&hellip;</td></tr><tr><td>296917260</td><td>&quot;O=C(c1cccc(-n2…</td><td>852</td><td>560</td><td>1719</td><td>&quot;HSA&quot;</td><td>1607919</td></tr><tr><td>296917261</td><td>&quot;O=C(c1cccc(C2(…</td><td>852</td><td>560</td><td>432</td><td>&quot;BRD4&quot;</td><td>4001079</td></tr><tr><td>296917262</td><td>&quot;O=C(c1cccc(N2C…</td><td>852</td><td>560</td><td>1291</td><td>&quot;BRD4&quot;</td><td>1880657</td></tr><tr><td>296917263</td><td>&quot;O=C(c1cccc2c1O…</td><td>852</td><td>560</td><td>663</td><td>&quot;HSA&quot;</td><td>2195229</td></tr><tr><td>296917264</td><td>&quot;O=C(c1cccnc1N1…</td><td>852</td><td>560</td><td>479</td><td>&quot;sEH&quot;</td><td>2286808</td></tr></tbody></table></div>"
      ],
      "text/plain": [
       "shape: (567_779, 7)\n",
       "┌───────────┬───────────────────────────────────┬──────┬─────┬──────┬─────────┬──────────────┐\n",
       "│ id        ┆ molecule                          ┆ bb1  ┆ bb2 ┆ bb3  ┆ protein ┆ scaffold_idx │\n",
       "│ ---       ┆ ---                               ┆ ---  ┆ --- ┆ ---  ┆ ---     ┆ ---          │\n",
       "│ i64       ┆ str                               ┆ u16  ┆ u16 ┆ u16  ┆ str     ┆ u32          │\n",
       "╞═══════════╪═══════════════════════════════════╪══════╪═════╪══════╪═════════╪══════════════╡\n",
       "│ 295246830 ┆ C#CCCC[C@H](Nc1nc(Nc2ccc(C=C)cc2… ┆ 1989 ┆ 409 ┆ 409  ┆ BRD4    ┆ 2217250      │\n",
       "│ 295246831 ┆ C#CCCC[C@H](Nc1nc(Nc2ccc(C=C)cc2… ┆ 1989 ┆ 409 ┆ 409  ┆ HSA     ┆ 2217250      │\n",
       "│ 295246832 ┆ C#CCCC[C@H](Nc1nc(Nc2ccc(C=C)cc2… ┆ 1989 ┆ 409 ┆ 409  ┆ sEH     ┆ 2217250      │\n",
       "│ 295246833 ┆ C#CCCC[C@H](Nc1nc(Nc2ccc(C=C)cc2… ┆ 1989 ┆ 409 ┆ 1012 ┆ BRD4    ┆ 602641       │\n",
       "│ 295246834 ┆ C#CCCC[C@H](Nc1nc(Nc2ccc(C=C)cc2… ┆ 1989 ┆ 409 ┆ 1012 ┆ HSA     ┆ 602641       │\n",
       "│ …         ┆ …                                 ┆ …    ┆ …   ┆ …    ┆ …       ┆ …            │\n",
       "│ 296917260 ┆ O=C(c1cccc(-n2cnnn2)c1)N1CCC(Cc2… ┆ 852  ┆ 560 ┆ 1719 ┆ HSA     ┆ 1607919      │\n",
       "│ 296917261 ┆ O=C(c1cccc(C2(F)COC2)c1)N1CCC(Cc… ┆ 852  ┆ 560 ┆ 432  ┆ BRD4    ┆ 4001079      │\n",
       "│ 296917262 ┆ O=C(c1cccc(N2CCOCC2)c1)N1CCC(Cc2… ┆ 852  ┆ 560 ┆ 1291 ┆ BRD4    ┆ 1880657      │\n",
       "│ 296917263 ┆ O=C(c1cccc2c1OC(F)(F)O2)N1CCC(Cc… ┆ 852  ┆ 560 ┆ 663  ┆ HSA     ┆ 2195229      │\n",
       "│ 296917264 ┆ O=C(c1cccnc1N1CCOCC1)N1CCC(Cc2cc… ┆ 852  ┆ 560 ┆ 479  ┆ sEH     ┆ 2286808      │\n",
       "└───────────┴───────────────────────────────────┴──────┴─────┴──────┴─────────┴──────────────┘"
      ]
     },
     "execution_count": 66,
     "metadata": {},
     "output_type": "execute_result"
    }
   ],
   "source": [
    "test_only_bbs_test_df = test_df.filter(pl.col('bb1').is_in(test_only_bb_idxs) | pl.col('bb2').is_in(test_only_bb_idxs) | pl.col('bb3').is_in(test_only_bb_idxs))\n",
    "display(test_only_bbs_test_df.select(pl.col('*').n_unique()))\n",
    "test_only_bbs_test_df"
   ]
  },
  {
   "cell_type": "code",
   "execution_count": 67,
   "id": "b9b6a5b7-5244-4fff-86f4-bc0f92a68cfc",
   "metadata": {},
   "outputs": [
    {
     "data": {
      "text/html": [
       "<div><style>\n",
       ".dataframe > thead > tr,\n",
       ".dataframe > tbody > tr {\n",
       "  text-align: right;\n",
       "  white-space: pre-wrap;\n",
       "}\n",
       "</style>\n",
       "<small>shape: (1, 7)</small><table border=\"1\" class=\"dataframe\"><thead><tr><th>id</th><th>molecule</th><th>bb1</th><th>bb2</th><th>bb3</th><th>protein</th><th>scaffold_idx</th></tr><tr><td>u32</td><td>u32</td><td>u32</td><td>u32</td><td>u32</td><td>u32</td><td>u32</td></tr></thead><tbody><tr><td>567779</td><td>508983</td><td>70</td><td>447</td><td>518</td><td>3</td><td>245841</td></tr></tbody></table></div>"
      ],
      "text/plain": [
       "shape: (1, 7)\n",
       "┌────────┬──────────┬─────┬─────┬─────┬─────────┬──────────────┐\n",
       "│ id     ┆ molecule ┆ bb1 ┆ bb2 ┆ bb3 ┆ protein ┆ scaffold_idx │\n",
       "│ ---    ┆ ---      ┆ --- ┆ --- ┆ --- ┆ ---     ┆ ---          │\n",
       "│ u32    ┆ u32      ┆ u32 ┆ u32 ┆ u32 ┆ u32     ┆ u32          │\n",
       "╞════════╪══════════╪═════╪═════╪═════╪═════════╪══════════════╡\n",
       "│ 567779 ┆ 508983   ┆ 70  ┆ 447 ┆ 518 ┆ 3       ┆ 245841       │\n",
       "└────────┴──────────┴─────┴─────┴─────┴─────────┴──────────────┘"
      ]
     },
     "metadata": {},
     "output_type": "display_data"
    },
    {
     "data": {
      "text/html": [
       "<div><style>\n",
       ".dataframe > thead > tr,\n",
       ".dataframe > tbody > tr {\n",
       "  text-align: right;\n",
       "  white-space: pre-wrap;\n",
       "}\n",
       "</style>\n",
       "<small>shape: (567_779, 7)</small><table border=\"1\" class=\"dataframe\"><thead><tr><th>id</th><th>molecule</th><th>bb1</th><th>bb2</th><th>bb3</th><th>protein</th><th>scaffold_idx</th></tr><tr><td>i64</td><td>str</td><td>u16</td><td>u16</td><td>u16</td><td>str</td><td>u32</td></tr></thead><tbody><tr><td>295246830</td><td>&quot;C#CCCC[C@H](Nc…</td><td>1989</td><td>409</td><td>409</td><td>&quot;BRD4&quot;</td><td>2217250</td></tr><tr><td>295246831</td><td>&quot;C#CCCC[C@H](Nc…</td><td>1989</td><td>409</td><td>409</td><td>&quot;HSA&quot;</td><td>2217250</td></tr><tr><td>295246832</td><td>&quot;C#CCCC[C@H](Nc…</td><td>1989</td><td>409</td><td>409</td><td>&quot;sEH&quot;</td><td>2217250</td></tr><tr><td>295246833</td><td>&quot;C#CCCC[C@H](Nc…</td><td>1989</td><td>409</td><td>1012</td><td>&quot;BRD4&quot;</td><td>602641</td></tr><tr><td>295246834</td><td>&quot;C#CCCC[C@H](Nc…</td><td>1989</td><td>409</td><td>1012</td><td>&quot;HSA&quot;</td><td>602641</td></tr><tr><td>&hellip;</td><td>&hellip;</td><td>&hellip;</td><td>&hellip;</td><td>&hellip;</td><td>&hellip;</td><td>&hellip;</td></tr><tr><td>296917260</td><td>&quot;O=C(c1cccc(-n2…</td><td>852</td><td>560</td><td>1719</td><td>&quot;HSA&quot;</td><td>1607919</td></tr><tr><td>296917261</td><td>&quot;O=C(c1cccc(C2(…</td><td>852</td><td>560</td><td>432</td><td>&quot;BRD4&quot;</td><td>4001079</td></tr><tr><td>296917262</td><td>&quot;O=C(c1cccc(N2C…</td><td>852</td><td>560</td><td>1291</td><td>&quot;BRD4&quot;</td><td>1880657</td></tr><tr><td>296917263</td><td>&quot;O=C(c1cccc2c1O…</td><td>852</td><td>560</td><td>663</td><td>&quot;HSA&quot;</td><td>2195229</td></tr><tr><td>296917264</td><td>&quot;O=C(c1cccnc1N1…</td><td>852</td><td>560</td><td>479</td><td>&quot;sEH&quot;</td><td>2286808</td></tr></tbody></table></div>"
      ],
      "text/plain": [
       "shape: (567_779, 7)\n",
       "┌───────────┬───────────────────────────────────┬──────┬─────┬──────┬─────────┬──────────────┐\n",
       "│ id        ┆ molecule                          ┆ bb1  ┆ bb2 ┆ bb3  ┆ protein ┆ scaffold_idx │\n",
       "│ ---       ┆ ---                               ┆ ---  ┆ --- ┆ ---  ┆ ---     ┆ ---          │\n",
       "│ i64       ┆ str                               ┆ u16  ┆ u16 ┆ u16  ┆ str     ┆ u32          │\n",
       "╞═══════════╪═══════════════════════════════════╪══════╪═════╪══════╪═════════╪══════════════╡\n",
       "│ 295246830 ┆ C#CCCC[C@H](Nc1nc(Nc2ccc(C=C)cc2… ┆ 1989 ┆ 409 ┆ 409  ┆ BRD4    ┆ 2217250      │\n",
       "│ 295246831 ┆ C#CCCC[C@H](Nc1nc(Nc2ccc(C=C)cc2… ┆ 1989 ┆ 409 ┆ 409  ┆ HSA     ┆ 2217250      │\n",
       "│ 295246832 ┆ C#CCCC[C@H](Nc1nc(Nc2ccc(C=C)cc2… ┆ 1989 ┆ 409 ┆ 409  ┆ sEH     ┆ 2217250      │\n",
       "│ 295246833 ┆ C#CCCC[C@H](Nc1nc(Nc2ccc(C=C)cc2… ┆ 1989 ┆ 409 ┆ 1012 ┆ BRD4    ┆ 602641       │\n",
       "│ 295246834 ┆ C#CCCC[C@H](Nc1nc(Nc2ccc(C=C)cc2… ┆ 1989 ┆ 409 ┆ 1012 ┆ HSA     ┆ 602641       │\n",
       "│ …         ┆ …                                 ┆ …    ┆ …   ┆ …    ┆ …       ┆ …            │\n",
       "│ 296917260 ┆ O=C(c1cccc(-n2cnnn2)c1)N1CCC(Cc2… ┆ 852  ┆ 560 ┆ 1719 ┆ HSA     ┆ 1607919      │\n",
       "│ 296917261 ┆ O=C(c1cccc(C2(F)COC2)c1)N1CCC(Cc… ┆ 852  ┆ 560 ┆ 432  ┆ BRD4    ┆ 4001079      │\n",
       "│ 296917262 ┆ O=C(c1cccc(N2CCOCC2)c1)N1CCC(Cc2… ┆ 852  ┆ 560 ┆ 1291 ┆ BRD4    ┆ 1880657      │\n",
       "│ 296917263 ┆ O=C(c1cccc2c1OC(F)(F)O2)N1CCC(Cc… ┆ 852  ┆ 560 ┆ 663  ┆ HSA     ┆ 2195229      │\n",
       "│ 296917264 ┆ O=C(c1cccnc1N1CCOCC1)N1CCC(Cc2cc… ┆ 852  ┆ 560 ┆ 479  ┆ sEH     ┆ 2286808      │\n",
       "└───────────┴───────────────────────────────────┴──────┴─────┴──────┴─────────┴──────────────┘"
      ]
     },
     "execution_count": 67,
     "metadata": {},
     "output_type": "execute_result"
    }
   ],
   "source": [
    "test_only_bbs_test_df = test_df.filter(pl.col('bb1').is_in(test_only_bb_idxs) & pl.col('bb2').is_in(test_only_bb_idxs) & pl.col('bb3').is_in(test_only_bb_idxs))\n",
    "display(test_only_bbs_test_df.select(pl.col('*').n_unique()))\n",
    "test_only_bbs_test_df"
   ]
  },
  {
   "cell_type": "code",
   "execution_count": 69,
   "id": "b881d362-1d5b-42c4-89bf-2ac9efa12106",
   "metadata": {},
   "outputs": [
    {
     "data": {
      "text/html": [
       "<div><style>\n",
       ".dataframe > thead > tr,\n",
       ".dataframe > tbody > tr {\n",
       "  text-align: right;\n",
       "  white-space: pre-wrap;\n",
       "}\n",
       "</style>\n",
       "<small>shape: (1, 7)</small><table border=\"1\" class=\"dataframe\"><thead><tr><th>id</th><th>molecule</th><th>bb1</th><th>bb2</th><th>bb3</th><th>protein</th><th>scaffold_idx</th></tr><tr><td>u32</td><td>u32</td><td>u32</td><td>u32</td><td>u32</td><td>u32</td><td>u32</td></tr></thead><tbody><tr><td>567779</td><td>508983</td><td>70</td><td>447</td><td>518</td><td>3</td><td>245841</td></tr></tbody></table></div>"
      ],
      "text/plain": [
       "shape: (1, 7)\n",
       "┌────────┬──────────┬─────┬─────┬─────┬─────────┬──────────────┐\n",
       "│ id     ┆ molecule ┆ bb1 ┆ bb2 ┆ bb3 ┆ protein ┆ scaffold_idx │\n",
       "│ ---    ┆ ---      ┆ --- ┆ --- ┆ --- ┆ ---     ┆ ---          │\n",
       "│ u32    ┆ u32      ┆ u32 ┆ u32 ┆ u32 ┆ u32     ┆ u32          │\n",
       "╞════════╪══════════╪═════╪═════╪═════╪═════════╪══════════════╡\n",
       "│ 567779 ┆ 508983   ┆ 70  ┆ 447 ┆ 518 ┆ 3       ┆ 245841       │\n",
       "└────────┴──────────┴─────┴─────┴─────┴─────────┴──────────────┘"
      ]
     },
     "metadata": {},
     "output_type": "display_data"
    },
    {
     "data": {
      "text/html": [
       "<div><style>\n",
       ".dataframe > thead > tr,\n",
       ".dataframe > tbody > tr {\n",
       "  text-align: right;\n",
       "  white-space: pre-wrap;\n",
       "}\n",
       "</style>\n",
       "<small>shape: (567_779, 7)</small><table border=\"1\" class=\"dataframe\"><thead><tr><th>id</th><th>molecule</th><th>bb1</th><th>bb2</th><th>bb3</th><th>protein</th><th>scaffold_idx</th></tr><tr><td>i64</td><td>str</td><td>u16</td><td>u16</td><td>u16</td><td>str</td><td>u32</td></tr></thead><tbody><tr><td>295246830</td><td>&quot;C#CCCC[C@H](Nc…</td><td>1989</td><td>409</td><td>409</td><td>&quot;BRD4&quot;</td><td>2217250</td></tr><tr><td>295246831</td><td>&quot;C#CCCC[C@H](Nc…</td><td>1989</td><td>409</td><td>409</td><td>&quot;HSA&quot;</td><td>2217250</td></tr><tr><td>295246832</td><td>&quot;C#CCCC[C@H](Nc…</td><td>1989</td><td>409</td><td>409</td><td>&quot;sEH&quot;</td><td>2217250</td></tr><tr><td>295246833</td><td>&quot;C#CCCC[C@H](Nc…</td><td>1989</td><td>409</td><td>1012</td><td>&quot;BRD4&quot;</td><td>602641</td></tr><tr><td>295246834</td><td>&quot;C#CCCC[C@H](Nc…</td><td>1989</td><td>409</td><td>1012</td><td>&quot;HSA&quot;</td><td>602641</td></tr><tr><td>&hellip;</td><td>&hellip;</td><td>&hellip;</td><td>&hellip;</td><td>&hellip;</td><td>&hellip;</td><td>&hellip;</td></tr><tr><td>296917260</td><td>&quot;O=C(c1cccc(-n2…</td><td>852</td><td>560</td><td>1719</td><td>&quot;HSA&quot;</td><td>1607919</td></tr><tr><td>296917261</td><td>&quot;O=C(c1cccc(C2(…</td><td>852</td><td>560</td><td>432</td><td>&quot;BRD4&quot;</td><td>4001079</td></tr><tr><td>296917262</td><td>&quot;O=C(c1cccc(N2C…</td><td>852</td><td>560</td><td>1291</td><td>&quot;BRD4&quot;</td><td>1880657</td></tr><tr><td>296917263</td><td>&quot;O=C(c1cccc2c1O…</td><td>852</td><td>560</td><td>663</td><td>&quot;HSA&quot;</td><td>2195229</td></tr><tr><td>296917264</td><td>&quot;O=C(c1cccnc1N1…</td><td>852</td><td>560</td><td>479</td><td>&quot;sEH&quot;</td><td>2286808</td></tr></tbody></table></div>"
      ],
      "text/plain": [
       "shape: (567_779, 7)\n",
       "┌───────────┬───────────────────────────────────┬──────┬─────┬──────┬─────────┬──────────────┐\n",
       "│ id        ┆ molecule                          ┆ bb1  ┆ bb2 ┆ bb3  ┆ protein ┆ scaffold_idx │\n",
       "│ ---       ┆ ---                               ┆ ---  ┆ --- ┆ ---  ┆ ---     ┆ ---          │\n",
       "│ i64       ┆ str                               ┆ u16  ┆ u16 ┆ u16  ┆ str     ┆ u32          │\n",
       "╞═══════════╪═══════════════════════════════════╪══════╪═════╪══════╪═════════╪══════════════╡\n",
       "│ 295246830 ┆ C#CCCC[C@H](Nc1nc(Nc2ccc(C=C)cc2… ┆ 1989 ┆ 409 ┆ 409  ┆ BRD4    ┆ 2217250      │\n",
       "│ 295246831 ┆ C#CCCC[C@H](Nc1nc(Nc2ccc(C=C)cc2… ┆ 1989 ┆ 409 ┆ 409  ┆ HSA     ┆ 2217250      │\n",
       "│ 295246832 ┆ C#CCCC[C@H](Nc1nc(Nc2ccc(C=C)cc2… ┆ 1989 ┆ 409 ┆ 409  ┆ sEH     ┆ 2217250      │\n",
       "│ 295246833 ┆ C#CCCC[C@H](Nc1nc(Nc2ccc(C=C)cc2… ┆ 1989 ┆ 409 ┆ 1012 ┆ BRD4    ┆ 602641       │\n",
       "│ 295246834 ┆ C#CCCC[C@H](Nc1nc(Nc2ccc(C=C)cc2… ┆ 1989 ┆ 409 ┆ 1012 ┆ HSA     ┆ 602641       │\n",
       "│ …         ┆ …                                 ┆ …    ┆ …   ┆ …    ┆ …       ┆ …            │\n",
       "│ 296917260 ┆ O=C(c1cccc(-n2cnnn2)c1)N1CCC(Cc2… ┆ 852  ┆ 560 ┆ 1719 ┆ HSA     ┆ 1607919      │\n",
       "│ 296917261 ┆ O=C(c1cccc(C2(F)COC2)c1)N1CCC(Cc… ┆ 852  ┆ 560 ┆ 432  ┆ BRD4    ┆ 4001079      │\n",
       "│ 296917262 ┆ O=C(c1cccc(N2CCOCC2)c1)N1CCC(Cc2… ┆ 852  ┆ 560 ┆ 1291 ┆ BRD4    ┆ 1880657      │\n",
       "│ 296917263 ┆ O=C(c1cccc2c1OC(F)(F)O2)N1CCC(Cc… ┆ 852  ┆ 560 ┆ 663  ┆ HSA     ┆ 2195229      │\n",
       "│ 296917264 ┆ O=C(c1cccnc1N1CCOCC1)N1CCC(Cc2cc… ┆ 852  ┆ 560 ┆ 479  ┆ sEH     ┆ 2286808      │\n",
       "└───────────┴───────────────────────────────────┴──────┴─────┴──────┴─────────┴──────────────┘"
      ]
     },
     "execution_count": 69,
     "metadata": {},
     "output_type": "execute_result"
    }
   ],
   "source": [
    "test_only_bbs_test_df = test_df.filter(pl.col('bb2').is_in(test_only_bb_idxs))\n",
    "display(test_only_bbs_test_df.select(pl.col('*').n_unique()))\n",
    "test_only_bbs_test_df"
   ]
  },
  {
   "cell_type": "markdown",
   "id": "a7c8f3e7-1264-4c17-b22d-9d07bd9ffd24",
   "metadata": {},
   "source": [
    "Oh, no mixes between Test only BB and Train BB"
   ]
  },
  {
   "cell_type": "code",
   "execution_count": null,
   "id": "4ddd765d-ec35-441d-bf8c-025ddc790d35",
   "metadata": {},
   "outputs": [],
   "source": []
  },
  {
   "cell_type": "code",
   "execution_count": null,
   "id": "ed0ce402-5e96-46d7-ab59-016af78dea68",
   "metadata": {},
   "outputs": [],
   "source": []
  },
  {
   "cell_type": "code",
   "execution_count": 77,
   "id": "451b3fcb-73fa-442a-a841-138c2e9f3fc1",
   "metadata": {},
   "outputs": [
    {
     "data": {
      "text/html": [
       "<div><style>\n",
       ".dataframe > thead > tr,\n",
       ".dataframe > tbody > tr {\n",
       "  text-align: right;\n",
       "  white-space: pre-wrap;\n",
       "}\n",
       "</style>\n",
       "<small>shape: (1, 7)</small><table border=\"1\" class=\"dataframe\"><thead><tr><th>id</th><th>molecule</th><th>bb1</th><th>bb2</th><th>bb3</th><th>protein</th><th>scaffold_idx</th></tr><tr><td>u32</td><td>u32</td><td>u32</td><td>u32</td><td>u32</td><td>u32</td><td>u32</td></tr></thead><tbody><tr><td>1107117</td><td>369039</td><td>271</td><td>693</td><td>871</td><td>3</td><td>123824</td></tr></tbody></table></div>"
      ],
      "text/plain": [
       "shape: (1, 7)\n",
       "┌─────────┬──────────┬─────┬─────┬─────┬─────────┬──────────────┐\n",
       "│ id      ┆ molecule ┆ bb1 ┆ bb2 ┆ bb3 ┆ protein ┆ scaffold_idx │\n",
       "│ ---     ┆ ---      ┆ --- ┆ --- ┆ --- ┆ ---     ┆ ---          │\n",
       "│ u32     ┆ u32      ┆ u32 ┆ u32 ┆ u32 ┆ u32     ┆ u32          │\n",
       "╞═════════╪══════════╪═════╪═════╪═════╪═════════╪══════════════╡\n",
       "│ 1107117 ┆ 369039   ┆ 271 ┆ 693 ┆ 871 ┆ 3       ┆ 123824       │\n",
       "└─────────┴──────────┴─────┴─────┴─────┴─────────┴──────────────┘"
      ]
     },
     "metadata": {},
     "output_type": "display_data"
    },
    {
     "data": {
      "text/html": [
       "<div><style>\n",
       ".dataframe > thead > tr,\n",
       ".dataframe > tbody > tr {\n",
       "  text-align: right;\n",
       "  white-space: pre-wrap;\n",
       "}\n",
       "</style>\n",
       "<small>shape: (1_107_117, 7)</small><table border=\"1\" class=\"dataframe\"><thead><tr><th>id</th><th>molecule</th><th>bb1</th><th>bb2</th><th>bb3</th><th>protein</th><th>scaffold_idx</th></tr><tr><td>i64</td><td>str</td><td>u16</td><td>u16</td><td>u16</td><td>str</td><td>u32</td></tr></thead><tbody><tr><td>295248819</td><td>&quot;C#CC[C@@H](CC(…</td><td>1640</td><td>1982</td><td>1941</td><td>&quot;BRD4&quot;</td><td>2217250</td></tr><tr><td>295248820</td><td>&quot;C#CC[C@@H](CC(…</td><td>1640</td><td>1982</td><td>1941</td><td>&quot;HSA&quot;</td><td>2217250</td></tr><tr><td>295248821</td><td>&quot;C#CC[C@@H](CC(…</td><td>1640</td><td>1982</td><td>1941</td><td>&quot;sEH&quot;</td><td>2217250</td></tr><tr><td>295248822</td><td>&quot;C#CC[C@@H](CC(…</td><td>1640</td><td>1982</td><td>1242</td><td>&quot;BRD4&quot;</td><td>1281519</td></tr><tr><td>295248823</td><td>&quot;C#CC[C@@H](CC(…</td><td>1640</td><td>1982</td><td>1242</td><td>&quot;HSA&quot;</td><td>1281519</td></tr><tr><td>&hellip;</td><td>&hellip;</td><td>&hellip;</td><td>&hellip;</td><td>&hellip;</td><td>&hellip;</td><td>&hellip;</td></tr><tr><td>296921721</td><td>&quot;COC1CCC(CCNc2n…</td><td>141</td><td>1415</td><td>1556</td><td>&quot;HSA&quot;</td><td>3642883</td></tr><tr><td>296921722</td><td>&quot;COC1CCC(CCNc2n…</td><td>141</td><td>1415</td><td>1556</td><td>&quot;sEH&quot;</td><td>3642883</td></tr><tr><td>296921723</td><td>&quot;[N-]=[N+]=NCCC…</td><td>141</td><td>1415</td><td>236</td><td>&quot;BRD4&quot;</td><td>2851961</td></tr><tr><td>296921724</td><td>&quot;[N-]=[N+]=NCCC…</td><td>141</td><td>1415</td><td>236</td><td>&quot;HSA&quot;</td><td>2851961</td></tr><tr><td>296921725</td><td>&quot;[N-]=[N+]=NCCC…</td><td>141</td><td>1415</td><td>236</td><td>&quot;sEH&quot;</td><td>2851961</td></tr></tbody></table></div>"
      ],
      "text/plain": [
       "shape: (1_107_117, 7)\n",
       "┌───────────┬───────────────────────────────────┬──────┬──────┬──────┬─────────┬──────────────┐\n",
       "│ id        ┆ molecule                          ┆ bb1  ┆ bb2  ┆ bb3  ┆ protein ┆ scaffold_idx │\n",
       "│ ---       ┆ ---                               ┆ ---  ┆ ---  ┆ ---  ┆ ---     ┆ ---          │\n",
       "│ i64       ┆ str                               ┆ u16  ┆ u16  ┆ u16  ┆ str     ┆ u32          │\n",
       "╞═══════════╪═══════════════════════════════════╪══════╪══════╪══════╪═════════╪══════════════╡\n",
       "│ 295248819 ┆ C#CC[C@@H](CC(=O)N[Dy])Nc1nc(Nc2… ┆ 1640 ┆ 1982 ┆ 1941 ┆ BRD4    ┆ 2217250      │\n",
       "│ 295248820 ┆ C#CC[C@@H](CC(=O)N[Dy])Nc1nc(Nc2… ┆ 1640 ┆ 1982 ┆ 1941 ┆ HSA     ┆ 2217250      │\n",
       "│ 295248821 ┆ C#CC[C@@H](CC(=O)N[Dy])Nc1nc(Nc2… ┆ 1640 ┆ 1982 ┆ 1941 ┆ sEH     ┆ 2217250      │\n",
       "│ 295248822 ┆ C#CC[C@@H](CC(=O)N[Dy])Nc1nc(Nc2… ┆ 1640 ┆ 1982 ┆ 1242 ┆ BRD4    ┆ 1281519      │\n",
       "│ 295248823 ┆ C#CC[C@@H](CC(=O)N[Dy])Nc1nc(Nc2… ┆ 1640 ┆ 1982 ┆ 1242 ┆ HSA     ┆ 1281519      │\n",
       "│ …         ┆ …                                 ┆ …    ┆ …    ┆ …    ┆ …       ┆ …            │\n",
       "│ 296921721 ┆ COC1CCC(CCNc2nc(Nc3noc4ccc(F)cc3… ┆ 141  ┆ 1415 ┆ 1556 ┆ HSA     ┆ 3642883      │\n",
       "│ 296921722 ┆ COC1CCC(CCNc2nc(Nc3noc4ccc(F)cc3… ┆ 141  ┆ 1415 ┆ 1556 ┆ sEH     ┆ 3642883      │\n",
       "│ 296921723 ┆ [N-]=[N+]=NCCC[C@H](Nc1nc(NCc2cc… ┆ 141  ┆ 1415 ┆ 236  ┆ BRD4    ┆ 2851961      │\n",
       "│ 296921724 ┆ [N-]=[N+]=NCCC[C@H](Nc1nc(NCc2cc… ┆ 141  ┆ 1415 ┆ 236  ┆ HSA     ┆ 2851961      │\n",
       "│ 296921725 ┆ [N-]=[N+]=NCCC[C@H](Nc1nc(NCc2cc… ┆ 141  ┆ 1415 ┆ 236  ┆ sEH     ┆ 2851961      │\n",
       "└───────────┴───────────────────────────────────┴──────┴──────┴──────┴─────────┴──────────────┘"
      ]
     },
     "execution_count": 77,
     "metadata": {},
     "output_type": "execute_result"
    }
   ],
   "source": [
    "intersection_bbs_test_df = test_df.filter(~ (pl.col('bb1').is_in(test_only_bb_idxs) | pl.col('bb2').is_in(test_only_bb_idxs) | pl.col('bb3').is_in(test_only_bb_idxs) ))\n",
    "display(intersection_bbs_test_df.select(pl.col('*').n_unique()))\n",
    "intersection_bbs_test_df"
   ]
  },
  {
   "cell_type": "code",
   "execution_count": 72,
   "id": "42800470-8620-48f5-af83-762185dc3bfd",
   "metadata": {},
   "outputs": [
    {
     "data": {
      "text/plain": [
       "1674896"
      ]
     },
     "execution_count": 72,
     "metadata": {},
     "output_type": "execute_result"
    }
   ],
   "source": [
    "1107117  + 567779"
   ]
  },
  {
   "cell_type": "code",
   "execution_count": 78,
   "id": "a7d62cc2-08a4-434c-9664-9dea33df2da6",
   "metadata": {},
   "outputs": [
    {
     "data": {
      "text/plain": [
       "878022"
      ]
     },
     "execution_count": 78,
     "metadata": {},
     "output_type": "execute_result"
    }
   ],
   "source": [
    "369039 + 508983 "
   ]
  },
  {
   "cell_type": "code",
   "execution_count": 80,
   "id": "76d05194-a626-42dd-8e6f-107ac212c391",
   "metadata": {},
   "outputs": [
    {
     "data": {
      "text/plain": [
       "0.4203072360373658"
      ]
     },
     "execution_count": 80,
     "metadata": {},
     "output_type": "execute_result"
    }
   ],
   "source": [
    "369039 / 878_022"
   ]
  },
  {
   "cell_type": "code",
   "execution_count": null,
   "id": "00f5d782-c6f5-4a61-9815-b9e74b813843",
   "metadata": {},
   "outputs": [],
   "source": []
  },
  {
   "cell_type": "code",
   "execution_count": null,
   "id": "5e219dc5-84ba-4de5-af9f-238a5cd92531",
   "metadata": {},
   "outputs": [],
   "source": []
  },
  {
   "cell_type": "code",
   "execution_count": null,
   "id": "c3e1b946-f1cf-4c70-9c49-12b30368399a",
   "metadata": {},
   "outputs": [],
   "source": []
  },
  {
   "cell_type": "code",
   "execution_count": 75,
   "id": "5922adba-b6c6-45f4-b864-e989a31781fc",
   "metadata": {},
   "outputs": [
    {
     "data": {
      "text/plain": [
       "0.0314027697057419"
      ]
     },
     "execution_count": 75,
     "metadata": {},
     "output_type": "execute_result"
    }
   ],
   "source": [
    "508983 / (70 * 447 * 518)"
   ]
  },
  {
   "cell_type": "code",
   "execution_count": 76,
   "id": "a8b8453f-2615-43e4-a3fd-1d2f0c8a8e12",
   "metadata": {},
   "outputs": [
    {
     "data": {
      "text/plain": [
       "0.6032126639924805"
      ]
     },
     "execution_count": 76,
     "metadata": {},
     "output_type": "execute_result"
    }
   ],
   "source": [
    "(99_293_632 - 508983) / (271 * 693 * 872)"
   ]
  },
  {
   "cell_type": "code",
   "execution_count": 79,
   "id": "42ca0746-6efb-4b25-ad3a-01897b581b88",
   "metadata": {},
   "outputs": [
    {
     "data": {
      "text/plain": [
       "0.6009591863463016"
      ]
     },
     "execution_count": 79,
     "metadata": {},
     "output_type": "execute_result"
    }
   ],
   "source": [
    "98_415_610 / (271 * 693 * 872)"
   ]
  },
  {
   "cell_type": "code",
   "execution_count": null,
   "id": "07a3a8a4-1afa-4506-9be3-7d16b88e4965",
   "metadata": {},
   "outputs": [],
   "source": []
  },
  {
   "cell_type": "code",
   "execution_count": null,
   "id": "ef29c1d8-f8be-4e6f-9672-9bfd2fc12c83",
   "metadata": {},
   "outputs": [],
   "source": []
  },
  {
   "cell_type": "code",
   "execution_count": 81,
   "id": "f7674882-225b-4dac-b90a-636f484dc9d1",
   "metadata": {},
   "outputs": [
    {
     "data": {
      "text/html": [
       "<div><style>\n",
       ".dataframe > thead > tr,\n",
       ".dataframe > tbody > tr {\n",
       "  text-align: right;\n",
       "  white-space: pre-wrap;\n",
       "}\n",
       "</style>\n",
       "<small>shape: (1_107_117, 7)</small><table border=\"1\" class=\"dataframe\"><thead><tr><th>id</th><th>molecule</th><th>bb1</th><th>bb2</th><th>bb3</th><th>protein</th><th>scaffold_idx</th></tr><tr><td>i64</td><td>str</td><td>u16</td><td>u16</td><td>u16</td><td>str</td><td>u32</td></tr></thead><tbody><tr><td>295248819</td><td>&quot;C#CC[C@@H](CC(…</td><td>1640</td><td>1982</td><td>1941</td><td>&quot;BRD4&quot;</td><td>2217250</td></tr><tr><td>295248820</td><td>&quot;C#CC[C@@H](CC(…</td><td>1640</td><td>1982</td><td>1941</td><td>&quot;HSA&quot;</td><td>2217250</td></tr><tr><td>295248821</td><td>&quot;C#CC[C@@H](CC(…</td><td>1640</td><td>1982</td><td>1941</td><td>&quot;sEH&quot;</td><td>2217250</td></tr><tr><td>295248822</td><td>&quot;C#CC[C@@H](CC(…</td><td>1640</td><td>1982</td><td>1242</td><td>&quot;BRD4&quot;</td><td>1281519</td></tr><tr><td>295248823</td><td>&quot;C#CC[C@@H](CC(…</td><td>1640</td><td>1982</td><td>1242</td><td>&quot;HSA&quot;</td><td>1281519</td></tr><tr><td>&hellip;</td><td>&hellip;</td><td>&hellip;</td><td>&hellip;</td><td>&hellip;</td><td>&hellip;</td><td>&hellip;</td></tr><tr><td>296921721</td><td>&quot;COC1CCC(CCNc2n…</td><td>141</td><td>1415</td><td>1556</td><td>&quot;HSA&quot;</td><td>3642883</td></tr><tr><td>296921722</td><td>&quot;COC1CCC(CCNc2n…</td><td>141</td><td>1415</td><td>1556</td><td>&quot;sEH&quot;</td><td>3642883</td></tr><tr><td>296921723</td><td>&quot;[N-]=[N+]=NCCC…</td><td>141</td><td>1415</td><td>236</td><td>&quot;BRD4&quot;</td><td>2851961</td></tr><tr><td>296921724</td><td>&quot;[N-]=[N+]=NCCC…</td><td>141</td><td>1415</td><td>236</td><td>&quot;HSA&quot;</td><td>2851961</td></tr><tr><td>296921725</td><td>&quot;[N-]=[N+]=NCCC…</td><td>141</td><td>1415</td><td>236</td><td>&quot;sEH&quot;</td><td>2851961</td></tr></tbody></table></div>"
      ],
      "text/plain": [
       "shape: (1_107_117, 7)\n",
       "┌───────────┬───────────────────────────────────┬──────┬──────┬──────┬─────────┬──────────────┐\n",
       "│ id        ┆ molecule                          ┆ bb1  ┆ bb2  ┆ bb3  ┆ protein ┆ scaffold_idx │\n",
       "│ ---       ┆ ---                               ┆ ---  ┆ ---  ┆ ---  ┆ ---     ┆ ---          │\n",
       "│ i64       ┆ str                               ┆ u16  ┆ u16  ┆ u16  ┆ str     ┆ u32          │\n",
       "╞═══════════╪═══════════════════════════════════╪══════╪══════╪══════╪═════════╪══════════════╡\n",
       "│ 295248819 ┆ C#CC[C@@H](CC(=O)N[Dy])Nc1nc(Nc2… ┆ 1640 ┆ 1982 ┆ 1941 ┆ BRD4    ┆ 2217250      │\n",
       "│ 295248820 ┆ C#CC[C@@H](CC(=O)N[Dy])Nc1nc(Nc2… ┆ 1640 ┆ 1982 ┆ 1941 ┆ HSA     ┆ 2217250      │\n",
       "│ 295248821 ┆ C#CC[C@@H](CC(=O)N[Dy])Nc1nc(Nc2… ┆ 1640 ┆ 1982 ┆ 1941 ┆ sEH     ┆ 2217250      │\n",
       "│ 295248822 ┆ C#CC[C@@H](CC(=O)N[Dy])Nc1nc(Nc2… ┆ 1640 ┆ 1982 ┆ 1242 ┆ BRD4    ┆ 1281519      │\n",
       "│ 295248823 ┆ C#CC[C@@H](CC(=O)N[Dy])Nc1nc(Nc2… ┆ 1640 ┆ 1982 ┆ 1242 ┆ HSA     ┆ 1281519      │\n",
       "│ …         ┆ …                                 ┆ …    ┆ …    ┆ …    ┆ …       ┆ …            │\n",
       "│ 296921721 ┆ COC1CCC(CCNc2nc(Nc3noc4ccc(F)cc3… ┆ 141  ┆ 1415 ┆ 1556 ┆ HSA     ┆ 3642883      │\n",
       "│ 296921722 ┆ COC1CCC(CCNc2nc(Nc3noc4ccc(F)cc3… ┆ 141  ┆ 1415 ┆ 1556 ┆ sEH     ┆ 3642883      │\n",
       "│ 296921723 ┆ [N-]=[N+]=NCCC[C@H](Nc1nc(NCc2cc… ┆ 141  ┆ 1415 ┆ 236  ┆ BRD4    ┆ 2851961      │\n",
       "│ 296921724 ┆ [N-]=[N+]=NCCC[C@H](Nc1nc(NCc2cc… ┆ 141  ┆ 1415 ┆ 236  ┆ HSA     ┆ 2851961      │\n",
       "│ 296921725 ┆ [N-]=[N+]=NCCC[C@H](Nc1nc(NCc2cc… ┆ 141  ┆ 1415 ┆ 236  ┆ sEH     ┆ 2851961      │\n",
       "└───────────┴───────────────────────────────────┴──────┴──────┴──────┴─────────┴──────────────┘"
      ]
     },
     "execution_count": 81,
     "metadata": {},
     "output_type": "execute_result"
    }
   ],
   "source": [
    "intersection_bbs_test_df"
   ]
  },
  {
   "cell_type": "code",
   "execution_count": 84,
   "id": "3ac293ad-fdf8-4bd9-9208-197a0ef5cc14",
   "metadata": {},
   "outputs": [
    {
     "name": "stdout",
     "output_type": "stream",
     "text": [
      "123824 245841\n",
      "Overlapped scaffolds: 994\n"
     ]
    }
   ],
   "source": [
    "intersection_bbs_test_scaffold_idxs = intersection_bbs_test_df['scaffold_idx'].to_list()\n",
    "test_only_bbs_test_scaffold_idxs = test_only_bbs_test_df['scaffold_idx'].to_list()\n",
    "print(len(set(intersection_bbs_test_scaffold_idxs)), len(set(test_only_bbs_test_scaffold_idxs)))\n",
    "print('Overlapped scaffolds:', len(set(intersection_bbs_test_scaffold_idxs).intersection(set(test_only_bbs_test_scaffold_idxs))))"
   ]
  },
  {
   "cell_type": "code",
   "execution_count": null,
   "id": "1597574c-e012-42af-9159-75970644ba20",
   "metadata": {},
   "outputs": [],
   "source": []
  },
  {
   "cell_type": "code",
   "execution_count": 87,
   "id": "674d27e6-4902-4d86-963b-853edbe651e9",
   "metadata": {},
   "outputs": [
    {
     "data": {
      "text/plain": [
       "5711873"
      ]
     },
     "execution_count": 87,
     "metadata": {},
     "output_type": "execute_result"
    }
   ],
   "source": [
    "train_scaffold_idxs = train_df['scaffold_idx'].to_list()\n",
    "len(set(train_scaffold_idxs))"
   ]
  },
  {
   "cell_type": "code",
   "execution_count": 94,
   "id": "1b6cdaf6-8273-4298-b1d0-e88fc3e2342b",
   "metadata": {},
   "outputs": [
    {
     "name": "stdout",
     "output_type": "stream",
     "text": [
      "Overlapped scaffolds: 107916\n"
     ]
    }
   ],
   "source": [
    "print('Overlapped scaffolds:', len(set(intersection_bbs_test_scaffold_idxs).intersection(set(train_scaffold_idxs))))"
   ]
  },
  {
   "cell_type": "markdown",
   "id": "74b06491-5845-4787-923d-d79f38dcc8f7",
   "metadata": {},
   "source": [
    "from now, test2 == intersection_bbs_test_df"
   ]
  },
  {
   "cell_type": "code",
   "execution_count": 97,
   "id": "972bd4b8-b8de-41ad-8201-ac83f9e0da79",
   "metadata": {},
   "outputs": [],
   "source": [
    "test2_df = intersection_bbs_test_df"
   ]
  },
  {
   "cell_type": "code",
   "execution_count": 95,
   "id": "4e2c9864-a354-4d47-ac6b-ac17f89354a4",
   "metadata": {},
   "outputs": [
    {
     "data": {
      "text/plain": [
       "107916"
      ]
     },
     "execution_count": 95,
     "metadata": {},
     "output_type": "execute_result"
    }
   ],
   "source": [
    "train_test2_intersection_scaffold_idxs = set(intersection_bbs_test_scaffold_idxs).intersection(set(train_scaffold_idxs))\n",
    "len(train_test2_intersection_scaffold_idxs)"
   ]
  },
  {
   "cell_type": "code",
   "execution_count": 105,
   "id": "57611ba6-4d26-4cfc-a845-dbec344e5354",
   "metadata": {},
   "outputs": [
    {
     "data": {
      "text/html": [
       "<div><style>\n",
       ".dataframe > thead > tr,\n",
       ".dataframe > tbody > tr {\n",
       "  text-align: right;\n",
       "  white-space: pre-wrap;\n",
       "}\n",
       "</style>\n",
       "<small>shape: (1, 7)</small><table border=\"1\" class=\"dataframe\"><thead><tr><th>id</th><th>molecule</th><th>bb1</th><th>bb2</th><th>bb3</th><th>protein</th><th>scaffold_idx</th></tr><tr><td>u32</td><td>u32</td><td>u32</td><td>u32</td><td>u32</td><td>u32</td><td>u32</td></tr></thead><tbody><tr><td>567779</td><td>508983</td><td>70</td><td>447</td><td>518</td><td>3</td><td>245841</td></tr></tbody></table></div>"
      ],
      "text/plain": [
       "shape: (1, 7)\n",
       "┌────────┬──────────┬─────┬─────┬─────┬─────────┬──────────────┐\n",
       "│ id     ┆ molecule ┆ bb1 ┆ bb2 ┆ bb3 ┆ protein ┆ scaffold_idx │\n",
       "│ ---    ┆ ---      ┆ --- ┆ --- ┆ --- ┆ ---     ┆ ---          │\n",
       "│ u32    ┆ u32      ┆ u32 ┆ u32 ┆ u32 ┆ u32     ┆ u32          │\n",
       "╞════════╪══════════╪═════╪═════╪═════╪═════════╪══════════════╡\n",
       "│ 567779 ┆ 508983   ┆ 70  ┆ 447 ┆ 518 ┆ 3       ┆ 245841       │\n",
       "└────────┴──────────┴─────┴─────┴─────┴─────────┴──────────────┘"
      ]
     },
     "execution_count": 105,
     "metadata": {},
     "output_type": "execute_result"
    }
   ],
   "source": [
    "test1_df = test_only_bbs_test_df\n",
    "test1_df.select(pl.col('*').n_unique())"
   ]
  },
  {
   "cell_type": "code",
   "execution_count": null,
   "id": "b84f44ee-aa89-4cc8-a85d-096bfb83a1d0",
   "metadata": {},
   "outputs": [],
   "source": []
  },
  {
   "cell_type": "code",
   "execution_count": 170,
   "id": "df43a486-48d1-461a-a5a0-c29572a02397",
   "metadata": {},
   "outputs": [
    {
     "data": {
      "text/plain": [
       "1936"
      ]
     },
     "execution_count": 170,
     "metadata": {},
     "output_type": "execute_result"
    }
   ],
   "source": [
    "test1_scaffold_idxs = test1_df['scaffold_idx'].to_list()\n",
    "len(set(test1_scaffold_idxs).intersection(set(train_scaffold_idxs)))"
   ]
  },
  {
   "cell_type": "code",
   "execution_count": null,
   "id": "7ab6d9ba-ebba-4cd0-8c15-14d1c1211c1c",
   "metadata": {},
   "outputs": [],
   "source": []
  },
  {
   "cell_type": "code",
   "execution_count": null,
   "id": "e6b90ed1-ba0e-472a-afb6-313fbff29bae",
   "metadata": {},
   "outputs": [],
   "source": []
  },
  {
   "cell_type": "code",
   "execution_count": null,
   "id": "ca84c927-f67e-4e8c-ba5b-ae59b6c74085",
   "metadata": {},
   "outputs": [],
   "source": []
  },
  {
   "cell_type": "code",
   "execution_count": 100,
   "id": "25c08211-bcb3-4453-a5c1-469fbcdd46a5",
   "metadata": {},
   "outputs": [
    {
     "data": {
      "text/html": [
       "<div><style>\n",
       ".dataframe > thead > tr,\n",
       ".dataframe > tbody > tr {\n",
       "  text-align: right;\n",
       "  white-space: pre-wrap;\n",
       "}\n",
       "</style>\n",
       "<small>shape: (1, 7)</small><table border=\"1\" class=\"dataframe\"><thead><tr><th>id</th><th>molecule</th><th>bb1</th><th>bb2</th><th>bb3</th><th>protein</th><th>scaffold_idx</th></tr><tr><td>u32</td><td>u32</td><td>u32</td><td>u32</td><td>u32</td><td>u32</td><td>u32</td></tr></thead><tbody><tr><td>1107117</td><td>369039</td><td>271</td><td>693</td><td>871</td><td>3</td><td>123824</td></tr></tbody></table></div>"
      ],
      "text/plain": [
       "shape: (1, 7)\n",
       "┌─────────┬──────────┬─────┬─────┬─────┬─────────┬──────────────┐\n",
       "│ id      ┆ molecule ┆ bb1 ┆ bb2 ┆ bb3 ┆ protein ┆ scaffold_idx │\n",
       "│ ---     ┆ ---      ┆ --- ┆ --- ┆ --- ┆ ---     ┆ ---          │\n",
       "│ u32     ┆ u32      ┆ u32 ┆ u32 ┆ u32 ┆ u32     ┆ u32          │\n",
       "╞═════════╪══════════╪═════╪═════╪═════╪═════════╪══════════════╡\n",
       "│ 1107117 ┆ 369039   ┆ 271 ┆ 693 ┆ 871 ┆ 3       ┆ 123824       │\n",
       "└─────────┴──────────┴─────┴─────┴─────┴─────────┴──────────────┘"
      ]
     },
     "execution_count": 100,
     "metadata": {},
     "output_type": "execute_result"
    }
   ],
   "source": [
    "test2_df.select(pl.col('*').n_unique())"
   ]
  },
  {
   "cell_type": "code",
   "execution_count": 106,
   "id": "3563c527-c016-455d-bf08-0c3d2e9fd75f",
   "metadata": {},
   "outputs": [
    {
     "data": {
      "text/plain": [
       "1674896"
      ]
     },
     "execution_count": 106,
     "metadata": {},
     "output_type": "execute_result"
    }
   ],
   "source": [
    "567779 + 1107117"
   ]
  },
  {
   "cell_type": "code",
   "execution_count": null,
   "id": "b45456e7-ba37-4977-b56f-599ed9f2431d",
   "metadata": {},
   "outputs": [],
   "source": []
  },
  {
   "cell_type": "code",
   "execution_count": null,
   "id": "7ee43e9e-5784-44aa-928c-1999f78a4fe9",
   "metadata": {},
   "outputs": [],
   "source": []
  },
  {
   "cell_type": "code",
   "execution_count": 98,
   "id": "3bfed5bf-e1db-471f-94ae-9cbecca4a79e",
   "metadata": {},
   "outputs": [
    {
     "data": {
      "text/html": [
       "<div><style>\n",
       ".dataframe > thead > tr,\n",
       ".dataframe > tbody > tr {\n",
       "  text-align: right;\n",
       "  white-space: pre-wrap;\n",
       "}\n",
       "</style>\n",
       "<small>shape: (1, 7)</small><table border=\"1\" class=\"dataframe\"><thead><tr><th>id</th><th>molecule</th><th>bb1</th><th>bb2</th><th>bb3</th><th>protein</th><th>scaffold_idx</th></tr><tr><td>u32</td><td>u32</td><td>u32</td><td>u32</td><td>u32</td><td>u32</td><td>u32</td></tr></thead><tbody><tr><td>516792</td><td>172264</td><td>271</td><td>685</td><td>860</td><td>3</td><td>15908</td></tr></tbody></table></div>"
      ],
      "text/plain": [
       "shape: (1, 7)\n",
       "┌────────┬──────────┬─────┬─────┬─────┬─────────┬──────────────┐\n",
       "│ id     ┆ molecule ┆ bb1 ┆ bb2 ┆ bb3 ┆ protein ┆ scaffold_idx │\n",
       "│ ---    ┆ ---      ┆ --- ┆ --- ┆ --- ┆ ---     ┆ ---          │\n",
       "│ u32    ┆ u32      ┆ u32 ┆ u32 ┆ u32 ┆ u32     ┆ u32          │\n",
       "╞════════╪══════════╪═════╪═════╪═════╪═════════╪══════════════╡\n",
       "│ 516792 ┆ 172264   ┆ 271 ┆ 685 ┆ 860 ┆ 3       ┆ 15908        │\n",
       "└────────┴──────────┴─────┴─────┴─────┴─────────┴──────────────┘"
      ]
     },
     "execution_count": 98,
     "metadata": {},
     "output_type": "execute_result"
    }
   ],
   "source": [
    "test3_df = test2_df.filter(~pl.col('scaffold_idx').is_in(train_test2_intersection_scaffold_idxs))\n",
    "# test4_df = intersection_bbs_test_df.filter(pl.col('scaffold_idx').is_in(train_test2_intersection_scaffold_idxs))\n",
    "test3_df.select(pl.col('*').n_unique())"
   ]
  },
  {
   "cell_type": "code",
   "execution_count": 102,
   "id": "5d061d8b-d802-4c8d-8432-95f3995e4707",
   "metadata": {},
   "outputs": [
    {
     "data": {
      "text/plain": [
       "10.828765401056073"
      ]
     },
     "execution_count": 102,
     "metadata": {},
     "output_type": "execute_result"
    }
   ],
   "source": [
    "172264 / 15908"
   ]
  },
  {
   "cell_type": "code",
   "execution_count": 101,
   "id": "3a938258-6cce-470c-9238-338815201c03",
   "metadata": {},
   "outputs": [
    {
     "data": {
      "text/html": [
       "<div><style>\n",
       ".dataframe > thead > tr,\n",
       ".dataframe > tbody > tr {\n",
       "  text-align: right;\n",
       "  white-space: pre-wrap;\n",
       "}\n",
       "</style>\n",
       "<small>shape: (1, 7)</small><table border=\"1\" class=\"dataframe\"><thead><tr><th>id</th><th>molecule</th><th>bb1</th><th>bb2</th><th>bb3</th><th>protein</th><th>scaffold_idx</th></tr><tr><td>u32</td><td>u32</td><td>u32</td><td>u32</td><td>u32</td><td>u32</td><td>u32</td></tr></thead><tbody><tr><td>590325</td><td>196775</td><td>271</td><td>693</td><td>869</td><td>3</td><td>107916</td></tr></tbody></table></div>"
      ],
      "text/plain": [
       "shape: (1, 7)\n",
       "┌────────┬──────────┬─────┬─────┬─────┬─────────┬──────────────┐\n",
       "│ id     ┆ molecule ┆ bb1 ┆ bb2 ┆ bb3 ┆ protein ┆ scaffold_idx │\n",
       "│ ---    ┆ ---      ┆ --- ┆ --- ┆ --- ┆ ---     ┆ ---          │\n",
       "│ u32    ┆ u32      ┆ u32 ┆ u32 ┆ u32 ┆ u32     ┆ u32          │\n",
       "╞════════╪══════════╪═════╪═════╪═════╪═════════╪══════════════╡\n",
       "│ 590325 ┆ 196775   ┆ 271 ┆ 693 ┆ 869 ┆ 3       ┆ 107916       │\n",
       "└────────┴──────────┴─────┴─────┴─────┴─────────┴──────────────┘"
      ]
     },
     "execution_count": 101,
     "metadata": {},
     "output_type": "execute_result"
    }
   ],
   "source": [
    "test4_df = test2_df.filter(pl.col('scaffold_idx').is_in(train_test2_intersection_scaffold_idxs))\n",
    "# test4_df = intersection_bbs_test_df.filter(pl.col('scaffold_idx').is_in(train_test2_intersection_scaffold_idxs))\n",
    "test4_df.select(pl.col('*').n_unique())"
   ]
  },
  {
   "cell_type": "code",
   "execution_count": 108,
   "id": "32c4afbd-a739-4b6b-a2cf-822bb5a3b180",
   "metadata": {},
   "outputs": [
    {
     "data": {
      "text/plain": [
       "(98415610, 5711873)"
      ]
     },
     "execution_count": 108,
     "metadata": {},
     "output_type": "execute_result"
    }
   ],
   "source": [
    "len(train_scaffold_idxs), len(set(train_scaffold_idxs))"
   ]
  },
  {
   "cell_type": "code",
   "execution_count": 110,
   "id": "2e8e6b24-6d85-46eb-a284-ad199392ef86",
   "metadata": {},
   "outputs": [
    {
     "data": {
      "text/html": [
       "<div><style>\n",
       ".dataframe > thead > tr,\n",
       ".dataframe > tbody > tr {\n",
       "  text-align: right;\n",
       "  white-space: pre-wrap;\n",
       "}\n",
       "</style>\n",
       "<small>shape: (1, 8)</small><table border=\"1\" class=\"dataframe\"><thead><tr><th>molecule</th><th>bb1</th><th>bb2</th><th>bb3</th><th>BRD4</th><th>HSA</th><th>eSH</th><th>scaffold_idx</th></tr><tr><td>u32</td><td>u32</td><td>u32</td><td>u32</td><td>u32</td><td>u32</td><td>u32</td><td>u32</td></tr></thead><tbody><tr><td>52926272</td><td>271</td><td>693</td><td>872</td><td>2</td><td>2</td><td>2</td><td>107916</td></tr></tbody></table></div>"
      ],
      "text/plain": [
       "shape: (1, 8)\n",
       "┌──────────┬─────┬─────┬─────┬──────┬─────┬─────┬──────────────┐\n",
       "│ molecule ┆ bb1 ┆ bb2 ┆ bb3 ┆ BRD4 ┆ HSA ┆ eSH ┆ scaffold_idx │\n",
       "│ ---      ┆ --- ┆ --- ┆ --- ┆ ---  ┆ --- ┆ --- ┆ ---          │\n",
       "│ u32      ┆ u32 ┆ u32 ┆ u32 ┆ u32  ┆ u32 ┆ u32 ┆ u32          │\n",
       "╞══════════╪═════╪═════╪═════╪══════╪═════╪═════╪══════════════╡\n",
       "│ 52926272 ┆ 271 ┆ 693 ┆ 872 ┆ 2    ┆ 2   ┆ 2   ┆ 107916       │\n",
       "└──────────┴─────┴─────┴─────┴──────┴─────┴─────┴──────────────┘"
      ]
     },
     "execution_count": 110,
     "metadata": {},
     "output_type": "execute_result"
    }
   ],
   "source": [
    "train1_df = train_df.filter(pl.col('scaffold_idx').is_in(train_test2_intersection_scaffold_idxs))\n",
    "train1_df.select(pl.col('*').n_unique())"
   ]
  },
  {
   "cell_type": "code",
   "execution_count": 111,
   "id": "cf97caed-7d23-4467-b7fe-278219203ca4",
   "metadata": {},
   "outputs": [
    {
     "data": {
      "text/plain": [
       "0.01889327721397167"
      ]
     },
     "execution_count": 111,
     "metadata": {},
     "output_type": "execute_result"
    }
   ],
   "source": [
    "107916 / 5_711_873"
   ]
  },
  {
   "cell_type": "code",
   "execution_count": 112,
   "id": "bce8b5f8-4d7e-47f6-9f0b-e1dae9e0c764",
   "metadata": {},
   "outputs": [
    {
     "data": {
      "text/plain": [
       "0.5377833049045776"
      ]
     },
     "execution_count": 112,
     "metadata": {},
     "output_type": "execute_result"
    }
   ],
   "source": [
    "52926272 / 98_415_610"
   ]
  },
  {
   "cell_type": "markdown",
   "id": "ece2fb59-57ec-4b14-abb1-f9186be00ec5",
   "metadata": {},
   "source": [
    "wow, 107916 scaffolds (1.8% of total train scaffolds), but take up 52926272 molecules (53%)"
   ]
  },
  {
   "cell_type": "markdown",
   "id": "e243d87f-e025-46fb-98b4-8978a408aa58",
   "metadata": {},
   "source": [
    "let see the distribution: number of mocules per scaffolds in train and test"
   ]
  },
  {
   "cell_type": "code",
   "execution_count": 117,
   "id": "09677196-dbff-402c-8c46-888af6f0e520",
   "metadata": {},
   "outputs": [
    {
     "data": {
      "text/html": [
       "<div><style>\n",
       ".dataframe > thead > tr,\n",
       ".dataframe > tbody > tr {\n",
       "  text-align: right;\n",
       "  white-space: pre-wrap;\n",
       "}\n",
       "</style>\n",
       "<small>shape: (5_711_873, 2)</small><table border=\"1\" class=\"dataframe\"><thead><tr><th>scaffold_idx</th><th>molecule</th></tr><tr><td>u32</td><td>u32</td></tr></thead><tbody><tr><td>2181565</td><td>1</td></tr><tr><td>1529965</td><td>1</td></tr><tr><td>1725537</td><td>1</td></tr><tr><td>2935798</td><td>1</td></tr><tr><td>3156930</td><td>1</td></tr><tr><td>&hellip;</td><td>&hellip;</td></tr><tr><td>4867705</td><td>245872</td></tr><tr><td>5929438</td><td>312198</td></tr><tr><td>4632750</td><td>334289</td></tr><tr><td>4861294</td><td>412652</td></tr><tr><td>2217250</td><td>499089</td></tr></tbody></table></div>"
      ],
      "text/plain": [
       "shape: (5_711_873, 2)\n",
       "┌──────────────┬──────────┐\n",
       "│ scaffold_idx ┆ molecule │\n",
       "│ ---          ┆ ---      │\n",
       "│ u32          ┆ u32      │\n",
       "╞══════════════╪══════════╡\n",
       "│ 2181565      ┆ 1        │\n",
       "│ 1529965      ┆ 1        │\n",
       "│ 1725537      ┆ 1        │\n",
       "│ 2935798      ┆ 1        │\n",
       "│ 3156930      ┆ 1        │\n",
       "│ …            ┆ …        │\n",
       "│ 4867705      ┆ 245872   │\n",
       "│ 5929438      ┆ 312198   │\n",
       "│ 4632750      ┆ 334289   │\n",
       "│ 4861294      ┆ 412652   │\n",
       "│ 2217250      ┆ 499089   │\n",
       "└──────────────┴──────────┘"
      ]
     },
     "metadata": {},
     "output_type": "display_data"
    },
    {
     "data": {
      "text/plain": [
       "<Axes: >"
      ]
     },
     "execution_count": 117,
     "metadata": {},
     "output_type": "execute_result"
    },
    {
     "data": {
      "image/png": "[encoded data removed]",
      "text/plain": [
       "<Figure size 640x480 with 1 Axes>"
      ]
     },
     "metadata": {},
     "output_type": "display_data"
    }
   ],
   "source": [
    "train_mol_per_scaffold = train_df.group_by('scaffold_idx').agg(\n",
    "    pl.col('molecule').count()\n",
    ").sort('molecule')\n",
    "display(train_mol_per_scaffold)\n",
    "train_mol_per_scaffold.to_pandas()['molecule'].hist()"
   ]
  },
  {
   "cell_type": "code",
   "execution_count": 124,
   "id": "c28925bb-83bf-4f6d-9457-5e8452cccd96",
   "metadata": {},
   "outputs": [
    {
     "data": {
      "text/html": [
       "<div><style>\n",
       ".dataframe > thead > tr,\n",
       ".dataframe > tbody > tr {\n",
       "  text-align: right;\n",
       "  white-space: pre-wrap;\n",
       "}\n",
       "</style>\n",
       "<small>shape: (17, 3)</small><table border=\"1\" class=\"dataframe\"><thead><tr><th>statistic</th><th>scaffold_idx</th><th>molecule</th></tr><tr><td>str</td><td>f64</td><td>f64</td></tr></thead><tbody><tr><td>&quot;count&quot;</td><td>5.711873e6</td><td>5.711873e6</td></tr><tr><td>&quot;null_count&quot;</td><td>0.0</td><td>0.0</td></tr><tr><td>&quot;mean&quot;</td><td>2.9859e6</td><td>17.230007</td></tr><tr><td>&quot;std&quot;</td><td>1.7240e6</td><td>515.738802</td></tr><tr><td>&quot;min&quot;</td><td>0.0</td><td>1.0</td></tr><tr><td>&quot;1%&quot;</td><td>59632.0</td><td>1.0</td></tr><tr><td>&quot;2.5%&quot;</td><td>149239.0</td><td>1.0</td></tr><tr><td>&quot;5%&quot;</td><td>298466.0</td><td>1.0</td></tr><tr><td>&quot;10%&quot;</td><td>597011.0</td><td>1.0</td></tr><tr><td>&quot;25%&quot;</td><td>1.492883e6</td><td>1.0</td></tr><tr><td>&quot;50%&quot;</td><td>2.985789e6</td><td>2.0</td></tr><tr><td>&quot;75%&quot;</td><td>4.478989e6</td><td>4.0</td></tr><tr><td>&quot;90%&quot;</td><td>5.374645e6</td><td>16.0</td></tr><tr><td>&quot;95%&quot;</td><td>5.673207e6</td><td>47.0</td></tr><tr><td>&quot;97.5%&quot;</td><td>5.822474e6</td><td>87.0</td></tr><tr><td>&quot;99%&quot;</td><td>5.912016e6</td><td>187.0</td></tr><tr><td>&quot;max&quot;</td><td>5.971684e6</td><td>499089.0</td></tr></tbody></table></div>"
      ],
      "text/plain": [
       "shape: (17, 3)\n",
       "┌────────────┬──────────────┬────────────┐\n",
       "│ statistic  ┆ scaffold_idx ┆ molecule   │\n",
       "│ ---        ┆ ---          ┆ ---        │\n",
       "│ str        ┆ f64          ┆ f64        │\n",
       "╞════════════╪══════════════╪════════════╡\n",
       "│ count      ┆ 5.711873e6   ┆ 5.711873e6 │\n",
       "│ null_count ┆ 0.0          ┆ 0.0        │\n",
       "│ mean       ┆ 2.9859e6     ┆ 17.230007  │\n",
       "│ std        ┆ 1.7240e6     ┆ 515.738802 │\n",
       "│ min        ┆ 0.0          ┆ 1.0        │\n",
       "│ 1%         ┆ 59632.0      ┆ 1.0        │\n",
       "│ 2.5%       ┆ 149239.0     ┆ 1.0        │\n",
       "│ 5%         ┆ 298466.0     ┆ 1.0        │\n",
       "│ 10%        ┆ 597011.0     ┆ 1.0        │\n",
       "│ 25%        ┆ 1.492883e6   ┆ 1.0        │\n",
       "│ 50%        ┆ 2.985789e6   ┆ 2.0        │\n",
       "│ 75%        ┆ 4.478989e6   ┆ 4.0        │\n",
       "│ 90%        ┆ 5.374645e6   ┆ 16.0       │\n",
       "│ 95%        ┆ 5.673207e6   ┆ 47.0       │\n",
       "│ 97.5%      ┆ 5.822474e6   ┆ 87.0       │\n",
       "│ 99%        ┆ 5.912016e6   ┆ 187.0      │\n",
       "│ max        ┆ 5.971684e6   ┆ 499089.0   │\n",
       "└────────────┴──────────────┴────────────┘"
      ]
     },
     "execution_count": 124,
     "metadata": {},
     "output_type": "execute_result"
    }
   ],
   "source": [
    "train_mol_per_scaffold.describe(percentiles=PERCENTILES)"
   ]
  },
  {
   "cell_type": "code",
   "execution_count": 173,
   "id": "0ae25786-2600-4371-8619-1e616fe56955",
   "metadata": {},
   "outputs": [
    {
     "data": {
      "text/html": [
       "<div><style>\n",
       ".dataframe > thead > tr,\n",
       ".dataframe > tbody > tr {\n",
       "  text-align: right;\n",
       "  white-space: pre-wrap;\n",
       "}\n",
       "</style>\n",
       "<small>shape: (1, 2)</small><table border=\"1\" class=\"dataframe\"><thead><tr><th>scaffold_idx</th><th>molecule</th></tr><tr><td>u32</td><td>u32</td></tr></thead><tbody><tr><td>2428120</td><td>2428120</td></tr></tbody></table></div>"
      ],
      "text/plain": [
       "shape: (1, 2)\n",
       "┌──────────────┬──────────┐\n",
       "│ scaffold_idx ┆ molecule │\n",
       "│ ---          ┆ ---      │\n",
       "│ u32          ┆ u32      │\n",
       "╞══════════════╪══════════╡\n",
       "│ 2428120      ┆ 2428120  │\n",
       "└──────────────┴──────────┘"
      ]
     },
     "execution_count": 173,
     "metadata": {},
     "output_type": "execute_result"
    }
   ],
   "source": [
    "train_mol_per_scaffold.filter(pl.col('molecule') == 1).count()"
   ]
  },
  {
   "cell_type": "code",
   "execution_count": 174,
   "id": "63a5c721-037b-4f15-b3d2-7f79f8058b39",
   "metadata": {},
   "outputs": [
    {
     "data": {
      "text/plain": [
       "0.4251004880535684"
      ]
     },
     "execution_count": 174,
     "metadata": {},
     "output_type": "execute_result"
    }
   ],
   "source": [
    "2428120 / 5_711_873"
   ]
  },
  {
   "cell_type": "code",
   "execution_count": 137,
   "id": "db6e9c47-ae9c-41e0-90c0-107474190223",
   "metadata": {},
   "outputs": [
    {
     "data": {
      "text/plain": [
       "<Axes: >"
      ]
     },
     "execution_count": 137,
     "metadata": {},
     "output_type": "execute_result"
    },
    {
     "data": {
      "image/png": "[encoded data removed]",
      "text/plain": [
       "<Figure size 640x480 with 1 Axes>"
      ]
     },
     "metadata": {},
     "output_type": "display_data"
    }
   ],
   "source": [
    "train_mol_per_scaffold.filter(pl.col('molecule') < 50).to_pandas()['molecule'].hist(bins = 100)"
   ]
  },
  {
   "cell_type": "code",
   "execution_count": 136,
   "id": "8c2caeba-7e87-49d8-942f-829cf188e8b9",
   "metadata": {},
   "outputs": [
    {
     "data": {
      "text/plain": [
       "<Axes: >"
      ]
     },
     "execution_count": 136,
     "metadata": {},
     "output_type": "execute_result"
    },
    {
     "data": {
      "image/png": "[encoded data removed]",
      "text/plain": [
       "<Figure size 640x480 with 1 Axes>"
      ]
     },
     "metadata": {},
     "output_type": "display_data"
    }
   ],
   "source": [
    "train_mol_per_scaffold.filter(pl.col('molecule') >= 10000).to_pandas()['molecule'].hist(bins = 100)"
   ]
  },
  {
   "cell_type": "code",
   "execution_count": 157,
   "id": "3906e379-7a7b-4ca5-9ba5-cc6e430c0226",
   "metadata": {},
   "outputs": [
    {
     "data": {
      "text/plain": [
       "450"
      ]
     },
     "execution_count": 157,
     "metadata": {},
     "output_type": "execute_result"
    }
   ],
   "source": [
    "train_mol_per_scaffold.filter(pl.col('molecule') >= 10000).to_pandas()['molecule'].count()"
   ]
  },
  {
   "cell_type": "code",
   "execution_count": 158,
   "id": "8c73e04c-a674-4ecb-a79a-cd9e07cad544",
   "metadata": {},
   "outputs": [
    {
     "data": {
      "text/plain": [
       "177"
      ]
     },
     "execution_count": 158,
     "metadata": {},
     "output_type": "execute_result"
    }
   ],
   "source": [
    "train_mol_per_scaffold.filter(pl.col('molecule') >= 20000).to_pandas()['molecule'].count()"
   ]
  },
  {
   "cell_type": "code",
   "execution_count": null,
   "id": "91a55ee8-7db7-41a5-9675-ed6a4c312e96",
   "metadata": {},
   "outputs": [],
   "source": []
  },
  {
   "cell_type": "code",
   "execution_count": null,
   "id": "a79dcdeb-f499-48de-ada0-278df0635a8c",
   "metadata": {},
   "outputs": [],
   "source": []
  },
  {
   "cell_type": "code",
   "execution_count": 149,
   "id": "ce8332e8-e967-459e-86e0-d59955b25c5d",
   "metadata": {},
   "outputs": [
    {
     "data": {
      "text/plain": [
       "<Axes: >"
      ]
     },
     "execution_count": 149,
     "metadata": {},
     "output_type": "execute_result"
    },
    {
     "data": {
      "image/png": "[encoded data removed]",
      "text/plain": [
       "<Figure size 640x480 with 1 Axes>"
      ]
     },
     "metadata": {},
     "output_type": "display_data"
    }
   ],
   "source": [
    "train_mol_per_scaffold.filter((pl.col('molecule') >= 4000) & (pl.col('molecule') <= 50000)).to_pandas()['molecule'].hist(bins = 100)"
   ]
  },
  {
   "cell_type": "code",
   "execution_count": 135,
   "id": "f72a6902-05dd-470c-b5fd-b4795b532dd0",
   "metadata": {},
   "outputs": [
    {
     "data": {
      "text/plain": [
       "<Axes: >"
      ]
     },
     "execution_count": 135,
     "metadata": {},
     "output_type": "execute_result"
    },
    {
     "data": {
      "image/png": "[encoded data removed]",
      "text/plain": [
       "<Figure size 640x480 with 1 Axes>"
      ]
     },
     "metadata": {},
     "output_type": "display_data"
    }
   ],
   "source": [
    "train_mol_per_scaffold.filter((pl.col('molecule') >= 200) & (pl.col('molecule') <= 4000)).to_pandas()['molecule'].hist(bins=100)"
   ]
  },
  {
   "cell_type": "code",
   "execution_count": 140,
   "id": "b87f097b-e906-45a5-9d5d-610c8e12d6b6",
   "metadata": {},
   "outputs": [
    {
     "data": {
      "text/html": [
       "<div><style>\n",
       ".dataframe > thead > tr,\n",
       ".dataframe > tbody > tr {\n",
       "  text-align: right;\n",
       "  white-space: pre-wrap;\n",
       "}\n",
       "</style>\n",
       "<small>shape: (98_415_610, 9)</small><table border=\"1\" class=\"dataframe\"><thead><tr><th>molecule</th><th>bb1</th><th>bb2</th><th>bb3</th><th>BRD4</th><th>HSA</th><th>eSH</th><th>scaffold_idx</th><th>mol_per_scaffold</th></tr><tr><td>str</td><td>u16</td><td>u16</td><td>u16</td><td>u8</td><td>u8</td><td>u8</td><td>u32</td><td>u32</td></tr></thead><tbody><tr><td>&quot;C#CCOc1ccc(CNc…</td><td>1640</td><td>1653</td><td>765</td><td>0</td><td>0</td><td>0</td><td>4283326</td><td>843</td></tr><tr><td>&quot;C#CCOc1ccc(CNc…</td><td>1640</td><td>1653</td><td>205</td><td>0</td><td>0</td><td>0</td><td>4486646</td><td>9415</td></tr><tr><td>&quot;C#CCOc1ccc(CNc…</td><td>1640</td><td>1653</td><td>1653</td><td>0</td><td>0</td><td>0</td><td>1015728</td><td>9006</td></tr><tr><td>&quot;C#CCOc1ccc(CNc…</td><td>1640</td><td>1653</td><td>146</td><td>0</td><td>0</td><td>0</td><td>5301385</td><td>26751</td></tr><tr><td>&quot;C#CCOc1ccc(CNc…</td><td>1640</td><td>1653</td><td>439</td><td>0</td><td>0</td><td>0</td><td>5301385</td><td>26751</td></tr><tr><td>&quot;C#CCOc1ccc(CNc…</td><td>1640</td><td>1653</td><td>196</td><td>0</td><td>0</td><td>0</td><td>5301385</td><td>26751</td></tr><tr><td>&quot;C#CCOc1ccc(CNc…</td><td>1640</td><td>1653</td><td>253</td><td>0</td><td>0</td><td>0</td><td>5301385</td><td>26751</td></tr><tr><td>&quot;C#CCOc1ccc(CNc…</td><td>1640</td><td>1653</td><td>1219</td><td>0</td><td>0</td><td>0</td><td>5301385</td><td>26751</td></tr><tr><td>&quot;C#CCOc1ccc(CNc…</td><td>1640</td><td>1653</td><td>604</td><td>0</td><td>0</td><td>0</td><td>543172</td><td>842</td></tr><tr><td>&quot;C#CCOc1ccc(CNc…</td><td>1640</td><td>1653</td><td>121</td><td>0</td><td>0</td><td>0</td><td>2571428</td><td>864</td></tr><tr><td>&quot;C#CCOc1ccc(CNc…</td><td>1640</td><td>1653</td><td>728</td><td>0</td><td>0</td><td>0</td><td>5084942</td><td>7600</td></tr><tr><td>&quot;C#CCOc1ccc(CNc…</td><td>1640</td><td>1653</td><td>298</td><td>0</td><td>0</td><td>0</td><td>2494349</td><td>133637</td></tr><tr><td>&quot;C#CCOc1ccc(CNc…</td><td>1640</td><td>1653</td><td>1134</td><td>0</td><td>0</td><td>0</td><td>4654763</td><td>1722</td></tr><tr><td>&quot;C#CCOc1ccc(CNc…</td><td>1640</td><td>1653</td><td>1896</td><td>0</td><td>0</td><td>0</td><td>5600610</td><td>861</td></tr><tr><td>&quot;C#CCOc1ccc(CNc…</td><td>1640</td><td>1653</td><td>849</td><td>0</td><td>0</td><td>0</td><td>5301385</td><td>26751</td></tr><tr><td>&quot;C#CCOc1ccc(CNc…</td><td>1640</td><td>1653</td><td>1694</td><td>0</td><td>0</td><td>0</td><td>4314026</td><td>8833</td></tr><tr><td>&quot;C#CCOc1ccc(CNc…</td><td>1640</td><td>1653</td><td>1711</td><td>0</td><td>0</td><td>0</td><td>5301385</td><td>26751</td></tr><tr><td>&quot;C#CCOc1ccc(CNc…</td><td>1640</td><td>1653</td><td>1617</td><td>0</td><td>0</td><td>0</td><td>2301320</td><td>841</td></tr><tr><td>&quot;C#CCOc1ccc(CNc…</td><td>1640</td><td>1653</td><td>1108</td><td>0</td><td>0</td><td>0</td><td>5301385</td><td>26751</td></tr><tr><td>&quot;C#CCOc1ccc(CNc…</td><td>1640</td><td>1653</td><td>1150</td><td>0</td><td>0</td><td>0</td><td>4484748</td><td>2589</td></tr><tr><td>&quot;C#CCOc1ccc(CNc…</td><td>1640</td><td>1653</td><td>1760</td><td>0</td><td>0</td><td>0</td><td>5301385</td><td>26751</td></tr><tr><td>&quot;C#CCOc1ccc(CNc…</td><td>1640</td><td>1653</td><td>802</td><td>0</td><td>0</td><td>0</td><td>1825155</td><td>843</td></tr><tr><td>&quot;C#CCOc1ccc(CNc…</td><td>1640</td><td>1653</td><td>1770</td><td>0</td><td>0</td><td>0</td><td>4699996</td><td>27877</td></tr><tr><td>&quot;C#CCOc1ccc(CNc…</td><td>1640</td><td>1653</td><td>815</td><td>0</td><td>0</td><td>0</td><td>2021587</td><td>3393</td></tr><tr><td>&quot;C#CCOc1ccc(CNc…</td><td>1640</td><td>1653</td><td>825</td><td>0</td><td>0</td><td>0</td><td>2637570</td><td>1419</td></tr><tr><td>&hellip;</td><td>&hellip;</td><td>&hellip;</td><td>&hellip;</td><td>&hellip;</td><td>&hellip;</td><td>&hellip;</td><td>&hellip;</td><td>&hellip;</td></tr><tr><td>&quot;[N-]=[N+]=NCCC…</td><td>141</td><td>1415</td><td>1932</td><td>0</td><td>0</td><td>0</td><td>5216004</td><td>19</td></tr><tr><td>&quot;[N-]=[N+]=NCCC…</td><td>141</td><td>1415</td><td>2091</td><td>0</td><td>0</td><td>0</td><td>3488879</td><td>20</td></tr><tr><td>&quot;[N-]=[N+]=NCCC…</td><td>141</td><td>1415</td><td>1736</td><td>0</td><td>0</td><td>0</td><td>3058712</td><td>19</td></tr><tr><td>&quot;[N-]=[N+]=NCCC…</td><td>141</td><td>1415</td><td>153</td><td>0</td><td>0</td><td>0</td><td>2662605</td><td>200</td></tr><tr><td>&quot;[N-]=[N+]=NCCC…</td><td>141</td><td>1415</td><td>1106</td><td>0</td><td>0</td><td>0</td><td>926159</td><td>903</td></tr><tr><td>&quot;[N-]=[N+]=NCCC…</td><td>141</td><td>1415</td><td>101</td><td>0</td><td>0</td><td>0</td><td>318228</td><td>395</td></tr><tr><td>&quot;[N-]=[N+]=NCCC…</td><td>141</td><td>1415</td><td>110</td><td>0</td><td>0</td><td>0</td><td>926159</td><td>903</td></tr><tr><td>&quot;[N-]=[N+]=NCCC…</td><td>141</td><td>1415</td><td>1805</td><td>0</td><td>0</td><td>0</td><td>5145268</td><td>20</td></tr><tr><td>&quot;[N-]=[N+]=NCCC…</td><td>141</td><td>1415</td><td>1195</td><td>0</td><td>0</td><td>0</td><td>2548663</td><td>20</td></tr><tr><td>&quot;[N-]=[N+]=NCCC…</td><td>141</td><td>1415</td><td>1437</td><td>0</td><td>0</td><td>0</td><td>4211809</td><td>20</td></tr><tr><td>&quot;[N-]=[N+]=NCCC…</td><td>141</td><td>1415</td><td>84</td><td>0</td><td>0</td><td>0</td><td>2662605</td><td>200</td></tr><tr><td>&quot;[N-]=[N+]=NCCC…</td><td>141</td><td>1415</td><td>1110</td><td>0</td><td>0</td><td>0</td><td>905290</td><td>20</td></tr><tr><td>&quot;[N-]=[N+]=NCCC…</td><td>141</td><td>1415</td><td>1412</td><td>0</td><td>0</td><td>0</td><td>926159</td><td>903</td></tr><tr><td>&quot;[N-]=[N+]=NCCC…</td><td>141</td><td>1415</td><td>718</td><td>0</td><td>0</td><td>0</td><td>318228</td><td>395</td></tr><tr><td>&quot;[N-]=[N+]=NCCC…</td><td>141</td><td>1415</td><td>1474</td><td>0</td><td>0</td><td>0</td><td>1183732</td><td>40</td></tr><tr><td>&quot;[N-]=[N+]=NCCC…</td><td>141</td><td>1415</td><td>536</td><td>0</td><td>0</td><td>0</td><td>4068980</td><td>274</td></tr><tr><td>&quot;[N-]=[N+]=NCCC…</td><td>141</td><td>1415</td><td>1367</td><td>0</td><td>0</td><td>0</td><td>2088996</td><td>20</td></tr><tr><td>&quot;[N-]=[N+]=NCCC…</td><td>141</td><td>1415</td><td>329</td><td>0</td><td>0</td><td>0</td><td>3192765</td><td>260</td></tr><tr><td>&quot;[N-]=[N+]=NCCC…</td><td>141</td><td>1415</td><td>757</td><td>0</td><td>0</td><td>0</td><td>4085046</td><td>20</td></tr><tr><td>&quot;[N-]=[N+]=NCCC…</td><td>141</td><td>1415</td><td>335</td><td>0</td><td>0</td><td>0</td><td>4087757</td><td>20</td></tr><tr><td>&quot;[N-]=[N+]=NCCC…</td><td>141</td><td>1415</td><td>1792</td><td>0</td><td>0</td><td>0</td><td>4674025</td><td>20</td></tr><tr><td>&quot;[N-]=[N+]=NCCC…</td><td>141</td><td>1415</td><td>1178</td><td>0</td><td>0</td><td>0</td><td>5240137</td><td>60</td></tr><tr><td>&quot;[N-]=[N+]=NCCC…</td><td>141</td><td>1415</td><td>1699</td><td>0</td><td>0</td><td>0</td><td>5240137</td><td>60</td></tr><tr><td>&quot;[N-]=[N+]=NCCC…</td><td>141</td><td>1415</td><td>1308</td><td>0</td><td>0</td><td>0</td><td>3617024</td><td>20</td></tr><tr><td>&quot;[N-]=[N+]=NCCC…</td><td>141</td><td>1415</td><td>1415</td><td>0</td><td>0</td><td>0</td><td>268351</td><td>20</td></tr></tbody></table></div>"
      ],
      "text/plain": [
       "shape: (98_415_610, 9)\n",
       "┌────────────────────────┬──────┬──────┬──────┬──────┬─────┬─────┬──────────────┬──────────────────┐\n",
       "│ molecule               ┆ bb1  ┆ bb2  ┆ bb3  ┆ BRD4 ┆ HSA ┆ eSH ┆ scaffold_idx ┆ mol_per_scaffold │\n",
       "│ ---                    ┆ ---  ┆ ---  ┆ ---  ┆ ---  ┆ --- ┆ --- ┆ ---          ┆ ---              │\n",
       "│ str                    ┆ u16  ┆ u16  ┆ u16  ┆ u8   ┆ u8  ┆ u8  ┆ u32          ┆ u32              │\n",
       "╞════════════════════════╪══════╪══════╪══════╪══════╪═════╪═════╪══════════════╪══════════════════╡\n",
       "│ C#CCOc1ccc(CNc2nc(NCC3 ┆ 1640 ┆ 1653 ┆ 765  ┆ 0    ┆ 0   ┆ 0   ┆ 4283326      ┆ 843              │\n",
       "│ CCCN3c3ccc…            ┆      ┆      ┆      ┆      ┆     ┆     ┆              ┆                  │\n",
       "│ C#CCOc1ccc(CNc2nc(NCc3 ┆ 1640 ┆ 1653 ┆ 205  ┆ 0    ┆ 0   ┆ 0   ┆ 4486646      ┆ 9415             │\n",
       "│ cccc(Br)n3…            ┆      ┆      ┆      ┆      ┆     ┆     ┆              ┆                  │\n",
       "│ C#CCOc1ccc(CNc2nc(NCc3 ┆ 1640 ┆ 1653 ┆ 1653 ┆ 0    ┆ 0   ┆ 0   ┆ 1015728      ┆ 9006             │\n",
       "│ ccc(OCC#C)…            ┆      ┆      ┆      ┆      ┆     ┆     ┆              ┆                  │\n",
       "│ C#CCOc1ccc(CNc2nc(NCCN ┆ 1640 ┆ 1653 ┆ 146  ┆ 0    ┆ 0   ┆ 0   ┆ 5301385      ┆ 26751            │\n",
       "│ C(=O)C(=C)…            ┆      ┆      ┆      ┆      ┆     ┆     ┆              ┆                  │\n",
       "│ C#CCOc1ccc(CNc2nc(NCC( ┆ 1640 ┆ 1653 ┆ 439  ┆ 0    ┆ 0   ┆ 0   ┆ 5301385      ┆ 26751            │\n",
       "│ =O)NCC=C)n…            ┆      ┆      ┆      ┆      ┆     ┆     ┆              ┆                  │\n",
       "│ C#CCOc1ccc(CNc2nc(NCC( ┆ 1640 ┆ 1653 ┆ 196  ┆ 0    ┆ 0   ┆ 0   ┆ 5301385      ┆ 26751            │\n",
       "│ C)OCC=C)nc…            ┆      ┆      ┆      ┆      ┆     ┆     ┆              ┆                  │\n",
       "│ C#CCOc1ccc(CNc2nc(NCCC ┆ 1640 ┆ 1653 ┆ 253  ┆ 0    ┆ 0   ┆ 0   ┆ 5301385      ┆ 26751            │\n",
       "│ OCC=C)nc(N…            ┆      ┆      ┆      ┆      ┆     ┆     ┆              ┆                  │\n",
       "│ C#CCOc1ccc(CNc2nc(NCCO ┆ 1640 ┆ 1653 ┆ 1219 ┆ 0    ┆ 0   ┆ 0   ┆ 5301385      ┆ 26751            │\n",
       "│ CC=C)nc(N[…            ┆      ┆      ┆      ┆      ┆     ┆     ┆              ┆                  │\n",
       "│ C#CCOc1ccc(CNc2nc(Nc3c ┆ 1640 ┆ 1653 ┆ 604  ┆ 0    ┆ 0   ┆ 0   ┆ 543172       ┆ 842              │\n",
       "│ nn(C4CCN(C…            ┆      ┆      ┆      ┆      ┆     ┆     ┆              ┆                  │\n",
       "│ C#CCOc1ccc(CNc2nc(Nc3n ┆ 1640 ┆ 1653 ┆ 121  ┆ 0    ┆ 0   ┆ 0   ┆ 2571428      ┆ 864              │\n",
       "│ [nH]c4c3CN…            ┆      ┆      ┆      ┆      ┆     ┆     ┆              ┆                  │\n",
       "│ C#CCOc1ccc(CNc2nc(Nc3c ┆ 1640 ┆ 1653 ┆ 728  ┆ 0    ┆ 0   ┆ 0   ┆ 5084942      ┆ 7600             │\n",
       "│ c(C(C)(C)C…            ┆      ┆      ┆      ┆      ┆     ┆     ┆              ┆                  │\n",
       "│ C#CCOc1ccc(CNc2nc(Nc3c ┆ 1640 ┆ 1653 ┆ 298  ┆ 0    ┆ 0   ┆ 0   ┆ 2494349      ┆ 133637           │\n",
       "│ c(C(C)(C)C…            ┆      ┆      ┆      ┆      ┆     ┆     ┆              ┆                  │\n",
       "│ C#CCOc1ccc(CNc2nc(NCc3 ┆ 1640 ┆ 1653 ┆ 1134 ┆ 0    ┆ 0   ┆ 0   ┆ 4654763      ┆ 1722             │\n",
       "│ ncoc3C(C)(…            ┆      ┆      ┆      ┆      ┆     ┆     ┆              ┆                  │\n",
       "│ C#CCOc1ccc(CNc2nc(NCC( ┆ 1640 ┆ 1653 ┆ 1896 ┆ 0    ┆ 0   ┆ 0   ┆ 5600610      ┆ 861              │\n",
       "│ C)(CC(C)C)…            ┆      ┆      ┆      ┆      ┆     ┆     ┆              ┆                  │\n",
       "│ C#CCOc1ccc(CNc2nc(NCCN ┆ 1640 ┆ 1653 ┆ 849  ┆ 0    ┆ 0   ┆ 0   ┆ 5301385      ┆ 26751            │\n",
       "│ C(=O)NC(C)…            ┆      ┆      ┆      ┆      ┆     ┆     ┆              ┆                  │\n",
       "│ C#CCOc1ccc(CNc2nc(Nc3n ┆ 1640 ┆ 1653 ┆ 1694 ┆ 0    ┆ 0   ┆ 0   ┆ 4314026      ┆ 8833             │\n",
       "│ c(C(C)C)c(…            ┆      ┆      ┆      ┆      ┆     ┆     ┆              ┆                  │\n",
       "│ C#CCOc1ccc(CNc2nc(NCCC ┆ 1640 ┆ 1653 ┆ 1711 ┆ 0    ┆ 0   ┆ 0   ┆ 5301385      ┆ 26751            │\n",
       "│ (C)S(C)=O)…            ┆      ┆      ┆      ┆      ┆     ┆     ┆              ┆                  │\n",
       "│ C#CCOc1ccc(CNc2nc(NCC( ┆ 1640 ┆ 1653 ┆ 1617 ┆ 0    ┆ 0   ┆ 0   ┆ 2301320      ┆ 841              │\n",
       "│ C)Cn3cccn3…            ┆      ┆      ┆      ┆      ┆     ┆     ┆              ┆                  │\n",
       "│ C#CCOc1ccc(CNc2nc(NCC( ┆ 1640 ┆ 1653 ┆ 1108 ┆ 0    ┆ 0   ┆ 0   ┆ 5301385      ┆ 26751            │\n",
       "│ C)OC(C)(C)…            ┆      ┆      ┆      ┆      ┆     ┆     ┆              ┆                  │\n",
       "│ C#CCOc1ccc(CNc2nc(NCC( ┆ 1640 ┆ 1653 ┆ 1150 ┆ 0    ┆ 0   ┆ 0   ┆ 4484748      ┆ 2589             │\n",
       "│ C)Oc3ccc(C…            ┆      ┆      ┆      ┆      ┆     ┆     ┆              ┆                  │\n",
       "│ C#CCOc1ccc(CNc2nc(NCC( ┆ 1640 ┆ 1653 ┆ 1760 ┆ 0    ┆ 0   ┆ 0   ┆ 5301385      ┆ 26751            │\n",
       "│ C)S(C)=O)n…            ┆      ┆      ┆      ┆      ┆     ┆     ┆              ┆                  │\n",
       "│ C#CCOc1ccc(CNc2nc(NCC( ┆ 1640 ┆ 1653 ┆ 802  ┆ 0    ┆ 0   ┆ 0   ┆ 1825155      ┆ 843              │\n",
       "│ C)Sc3ccccc…            ┆      ┆      ┆      ┆      ┆     ┆     ┆              ┆                  │\n",
       "│ C#CCOc1ccc(CNc2nc(NCC( ┆ 1640 ┆ 1653 ┆ 1770 ┆ 0    ┆ 0   ┆ 0   ┆ 4699996      ┆ 27877            │\n",
       "│ C)c3c(Cl)c…            ┆      ┆      ┆      ┆      ┆     ┆     ┆              ┆                  │\n",
       "│ C#CCOc1ccc(CNc2nc(NCC( ┆ 1640 ┆ 1653 ┆ 815  ┆ 0    ┆ 0   ┆ 0   ┆ 2021587      ┆ 3393             │\n",
       "│ C)c3nccs3)…            ┆      ┆      ┆      ┆      ┆     ┆     ┆              ┆                  │\n",
       "│ C#CCOc1ccc(CNc2nc(NCC( ┆ 1640 ┆ 1653 ┆ 825  ┆ 0    ┆ 0   ┆ 0   ┆ 2637570      ┆ 1419             │\n",
       "│ C)(O)c3ccs…            ┆      ┆      ┆      ┆      ┆     ┆     ┆              ┆                  │\n",
       "│ …                      ┆ …    ┆ …    ┆ …    ┆ …    ┆ …   ┆ …   ┆ …            ┆ …                │\n",
       "│ [N-]=[N+]=NCCC[C@H](Nc ┆ 141  ┆ 1415 ┆ 1932 ┆ 0    ┆ 0   ┆ 0   ┆ 5216004      ┆ 19               │\n",
       "│ 1nc(Nc2nc3…            ┆      ┆      ┆      ┆      ┆     ┆     ┆              ┆                  │\n",
       "│ [N-]=[N+]=NCCC[C@H](Nc ┆ 141  ┆ 1415 ┆ 2091 ┆ 0    ┆ 0   ┆ 0   ┆ 3488879      ┆ 20               │\n",
       "│ 1nc(Nc2nc[…            ┆      ┆      ┆      ┆      ┆     ┆     ┆              ┆                  │\n",
       "│ [N-]=[N+]=NCCC[C@H](Nc ┆ 141  ┆ 1415 ┆ 1736 ┆ 0    ┆ 0   ┆ 0   ┆ 3058712      ┆ 19               │\n",
       "│ 1nc(Nc2ncc…            ┆      ┆      ┆      ┆      ┆     ┆     ┆              ┆                  │\n",
       "│ [N-]=[N+]=NCCC[C@H](Nc ┆ 141  ┆ 1415 ┆ 153  ┆ 0    ┆ 0   ┆ 0   ┆ 2662605      ┆ 200              │\n",
       "│ 1nc(Nc2ncc…            ┆      ┆      ┆      ┆      ┆     ┆     ┆              ┆                  │\n",
       "│ [N-]=[N+]=NCCC[C@H](Nc ┆ 141  ┆ 1415 ┆ 1106 ┆ 0    ┆ 0   ┆ 0   ┆ 926159       ┆ 903              │\n",
       "│ 1nc(Nc2ncc…            ┆      ┆      ┆      ┆      ┆     ┆     ┆              ┆                  │\n",
       "│ [N-]=[N+]=NCCC[C@H](Nc ┆ 141  ┆ 1415 ┆ 101  ┆ 0    ┆ 0   ┆ 0   ┆ 318228       ┆ 395              │\n",
       "│ 1nc(Nc2ncc…            ┆      ┆      ┆      ┆      ┆     ┆     ┆              ┆                  │\n",
       "│ [N-]=[N+]=NCCC[C@H](Nc ┆ 141  ┆ 1415 ┆ 110  ┆ 0    ┆ 0   ┆ 0   ┆ 926159       ┆ 903              │\n",
       "│ 1nc(Nc2ncc…            ┆      ┆      ┆      ┆      ┆     ┆     ┆              ┆                  │\n",
       "│ [N-]=[N+]=NCCC[C@H](Nc ┆ 141  ┆ 1415 ┆ 1805 ┆ 0    ┆ 0   ┆ 0   ┆ 5145268      ┆ 20               │\n",
       "│ 1nc(Nc2ncc…            ┆      ┆      ┆      ┆      ┆     ┆     ┆              ┆                  │\n",
       "│ [N-]=[N+]=NCCC[C@H](Nc ┆ 141  ┆ 1415 ┆ 1195 ┆ 0    ┆ 0   ┆ 0   ┆ 2548663      ┆ 20               │\n",
       "│ 1nc(Nc2ncc…            ┆      ┆      ┆      ┆      ┆     ┆     ┆              ┆                  │\n",
       "│ [N-]=[N+]=NCCC[C@H](Nc ┆ 141  ┆ 1415 ┆ 1437 ┆ 0    ┆ 0   ┆ 0   ┆ 4211809      ┆ 20               │\n",
       "│ 1nc(Nc2ncc…            ┆      ┆      ┆      ┆      ┆     ┆     ┆              ┆                  │\n",
       "│ [N-]=[N+]=NCCC[C@H](Nc ┆ 141  ┆ 1415 ┆ 84   ┆ 0    ┆ 0   ┆ 0   ┆ 2662605      ┆ 200              │\n",
       "│ 1nc(Nc2ncc…            ┆      ┆      ┆      ┆      ┆     ┆     ┆              ┆                  │\n",
       "│ [N-]=[N+]=NCCC[C@H](Nc ┆ 141  ┆ 1415 ┆ 1110 ┆ 0    ┆ 0   ┆ 0   ┆ 905290       ┆ 20               │\n",
       "│ 1nc(Nc2noc…            ┆      ┆      ┆      ┆      ┆     ┆     ┆              ┆                  │\n",
       "│ [N-]=[N+]=NCCC[C@H](Nc ┆ 141  ┆ 1415 ┆ 1412 ┆ 0    ┆ 0   ┆ 0   ┆ 926159       ┆ 903              │\n",
       "│ 1nc(Nc2ncc…            ┆      ┆      ┆      ┆      ┆     ┆     ┆              ┆                  │\n",
       "│ [N-]=[N+]=NCCC[C@H](Nc ┆ 141  ┆ 1415 ┆ 718  ┆ 0    ┆ 0   ┆ 0   ┆ 318228       ┆ 395              │\n",
       "│ 1nc(Nc2ncc…            ┆      ┆      ┆      ┆      ┆     ┆     ┆              ┆                  │\n",
       "│ [N-]=[N+]=NCCC[C@H](Nc ┆ 141  ┆ 1415 ┆ 1474 ┆ 0    ┆ 0   ┆ 0   ┆ 1183732      ┆ 40               │\n",
       "│ 1nc(Nc2ncc…            ┆      ┆      ┆      ┆      ┆     ┆     ┆              ┆                  │\n",
       "│ [N-]=[N+]=NCCC[C@H](Nc ┆ 141  ┆ 1415 ┆ 536  ┆ 0    ┆ 0   ┆ 0   ┆ 4068980      ┆ 274              │\n",
       "│ 1nc(Nc2ncc…            ┆      ┆      ┆      ┆      ┆     ┆     ┆              ┆                  │\n",
       "│ [N-]=[N+]=NCCC[C@H](Nc ┆ 141  ┆ 1415 ┆ 1367 ┆ 0    ┆ 0   ┆ 0   ┆ 2088996      ┆ 20               │\n",
       "│ 1nc(Nc2ncn…            ┆      ┆      ┆      ┆      ┆     ┆     ┆              ┆                  │\n",
       "│ [N-]=[N+]=NCCC[C@H](Nc ┆ 141  ┆ 1415 ┆ 329  ┆ 0    ┆ 0   ┆ 0   ┆ 3192765      ┆ 260              │\n",
       "│ 1nc(Nc2ncn…            ┆      ┆      ┆      ┆      ┆     ┆     ┆              ┆                  │\n",
       "│ [N-]=[N+]=NCCC[C@H](Nc ┆ 141  ┆ 1415 ┆ 757  ┆ 0    ┆ 0   ┆ 0   ┆ 4085046      ┆ 20               │\n",
       "│ 1nc(Nc2noc…            ┆      ┆      ┆      ┆      ┆     ┆     ┆              ┆                  │\n",
       "│ [N-]=[N+]=NCCC[C@H](Nc ┆ 141  ┆ 1415 ┆ 335  ┆ 0    ┆ 0   ┆ 0   ┆ 4087757      ┆ 20               │\n",
       "│ 1nc(Nc2ncn…            ┆      ┆      ┆      ┆      ┆     ┆     ┆              ┆                  │\n",
       "│ [N-]=[N+]=NCCC[C@H](Nc ┆ 141  ┆ 1415 ┆ 1792 ┆ 0    ┆ 0   ┆ 0   ┆ 4674025      ┆ 20               │\n",
       "│ 1nc(Nc2noc…            ┆      ┆      ┆      ┆      ┆     ┆     ┆              ┆                  │\n",
       "│ [N-]=[N+]=NCCC[C@H](Nc ┆ 141  ┆ 1415 ┆ 1178 ┆ 0    ┆ 0   ┆ 0   ┆ 5240137      ┆ 60               │\n",
       "│ 1nc(Nc2nnc…            ┆      ┆      ┆      ┆      ┆     ┆     ┆              ┆                  │\n",
       "│ [N-]=[N+]=NCCC[C@H](Nc ┆ 141  ┆ 1415 ┆ 1699 ┆ 0    ┆ 0   ┆ 0   ┆ 5240137      ┆ 60               │\n",
       "│ 1nc(Nc2nnc…            ┆      ┆      ┆      ┆      ┆     ┆     ┆              ┆                  │\n",
       "│ [N-]=[N+]=NCCC[C@H](Nc ┆ 141  ┆ 1415 ┆ 1308 ┆ 0    ┆ 0   ┆ 0   ┆ 3617024      ┆ 20               │\n",
       "│ 1nc(Nc2nnn…            ┆      ┆      ┆      ┆      ┆     ┆     ┆              ┆                  │\n",
       "│ [N-]=[N+]=NCCC[C@H](Nc ┆ 141  ┆ 1415 ┆ 1415 ┆ 0    ┆ 0   ┆ 0   ┆ 268351       ┆ 20               │\n",
       "│ 1nc(Nc2noc…            ┆      ┆      ┆      ┆      ┆     ┆     ┆              ┆                  │\n",
       "└────────────────────────┴──────┴──────┴──────┴──────┴─────┴─────┴──────────────┴──────────────────┘"
      ]
     },
     "execution_count": 140,
     "metadata": {},
     "output_type": "execute_result"
    }
   ],
   "source": [
    "train_df2 = train_df.with_columns(\n",
    "    pl.col('molecule').count().over('scaffold_idx').alias('mol_per_scaffold')\n",
    ")\n",
    "train_df2"
   ]
  },
  {
   "cell_type": "code",
   "execution_count": 144,
   "id": "0fa45b17-d8fa-46e8-9962-f2722c50ab1b",
   "metadata": {},
   "outputs": [
    {
     "data": {
      "text/html": [
       "<div><style>\n",
       ".dataframe > thead > tr,\n",
       ".dataframe > tbody > tr {\n",
       "  text-align: right;\n",
       "  white-space: pre-wrap;\n",
       "}\n",
       "</style>\n",
       "<small>shape: (1, 9)</small><table border=\"1\" class=\"dataframe\"><thead><tr><th>molecule</th><th>bb1</th><th>bb2</th><th>bb3</th><th>BRD4</th><th>HSA</th><th>eSH</th><th>scaffold_idx</th><th>mol_per_scaffold</th></tr><tr><td>u32</td><td>u32</td><td>u32</td><td>u32</td><td>u32</td><td>u32</td><td>u32</td><td>u32</td><td>u32</td></tr></thead><tbody><tr><td>98415610</td><td>271</td><td>693</td><td>872</td><td>2</td><td>2</td><td>2</td><td>5711873</td><td>3326</td></tr></tbody></table></div>"
      ],
      "text/plain": [
       "shape: (1, 9)\n",
       "┌──────────┬─────┬─────┬─────┬──────┬─────┬─────┬──────────────┬──────────────────┐\n",
       "│ molecule ┆ bb1 ┆ bb2 ┆ bb3 ┆ BRD4 ┆ HSA ┆ eSH ┆ scaffold_idx ┆ mol_per_scaffold │\n",
       "│ ---      ┆ --- ┆ --- ┆ --- ┆ ---  ┆ --- ┆ --- ┆ ---          ┆ ---              │\n",
       "│ u32      ┆ u32 ┆ u32 ┆ u32 ┆ u32  ┆ u32 ┆ u32 ┆ u32          ┆ u32              │\n",
       "╞══════════╪═════╪═════╪═════╪══════╪═════╪═════╪══════════════╪══════════════════╡\n",
       "│ 98415610 ┆ 271 ┆ 693 ┆ 872 ┆ 2    ┆ 2   ┆ 2   ┆ 5711873      ┆ 3326             │\n",
       "└──────────┴─────┴─────┴─────┴──────┴─────┴─────┴──────────────┴──────────────────┘"
      ]
     },
     "execution_count": 144,
     "metadata": {},
     "output_type": "execute_result"
    }
   ],
   "source": [
    "train_df2.select(pl.col('*').n_unique())"
   ]
  },
  {
   "cell_type": "code",
   "execution_count": 142,
   "id": "4daa9151-8007-404a-a024-ebfe14340350",
   "metadata": {},
   "outputs": [
    {
     "data": {
      "text/html": [
       "<div><style>\n",
       ".dataframe > thead > tr,\n",
       ".dataframe > tbody > tr {\n",
       "  text-align: right;\n",
       "  white-space: pre-wrap;\n",
       "}\n",
       "</style>\n",
       "<small>shape: (1, 9)</small><table border=\"1\" class=\"dataframe\"><thead><tr><th>molecule</th><th>bb1</th><th>bb2</th><th>bb3</th><th>BRD4</th><th>HSA</th><th>eSH</th><th>scaffold_idx</th><th>mol_per_scaffold</th></tr><tr><td>u32</td><td>u32</td><td>u32</td><td>u32</td><td>u32</td><td>u32</td><td>u32</td><td>u32</td><td>u32</td></tr></thead><tbody><tr><td>13908414</td><td>235</td><td>408</td><td>507</td><td>2</td><td>2</td><td>2</td><td>450</td><td>404</td></tr></tbody></table></div>"
      ],
      "text/plain": [
       "shape: (1, 9)\n",
       "┌──────────┬─────┬─────┬─────┬──────┬─────┬─────┬──────────────┬──────────────────┐\n",
       "│ molecule ┆ bb1 ┆ bb2 ┆ bb3 ┆ BRD4 ┆ HSA ┆ eSH ┆ scaffold_idx ┆ mol_per_scaffold │\n",
       "│ ---      ┆ --- ┆ --- ┆ --- ┆ ---  ┆ --- ┆ --- ┆ ---          ┆ ---              │\n",
       "│ u32      ┆ u32 ┆ u32 ┆ u32 ┆ u32  ┆ u32 ┆ u32 ┆ u32          ┆ u32              │\n",
       "╞══════════╪═════╪═════╪═════╪══════╪═════╪═════╪══════════════╪══════════════════╡\n",
       "│ 13908414 ┆ 235 ┆ 408 ┆ 507 ┆ 2    ┆ 2   ┆ 2   ┆ 450          ┆ 404              │\n",
       "└──────────┴─────┴─────┴─────┴──────┴─────┴─────┴──────────────┴──────────────────┘"
      ]
     },
     "execution_count": 142,
     "metadata": {},
     "output_type": "execute_result"
    }
   ],
   "source": [
    "train_df2.filter(pl.col('mol_per_scaffold') >= 10000).select(pl.col('*').n_unique())"
   ]
  },
  {
   "cell_type": "code",
   "execution_count": 143,
   "id": "d703b797-be0f-4361-8d7b-e1c83ae1edff",
   "metadata": {},
   "outputs": [
    {
     "data": {
      "text/html": [
       "<div><style>\n",
       ".dataframe > thead > tr,\n",
       ".dataframe > tbody > tr {\n",
       "  text-align: right;\n",
       "  white-space: pre-wrap;\n",
       "}\n",
       "</style>\n",
       "<small>shape: (1, 9)</small><table border=\"1\" class=\"dataframe\"><thead><tr><th>molecule</th><th>bb1</th><th>bb2</th><th>bb3</th><th>BRD4</th><th>HSA</th><th>eSH</th><th>scaffold_idx</th><th>mol_per_scaffold</th></tr><tr><td>u32</td><td>u32</td><td>u32</td><td>u32</td><td>u32</td><td>u32</td><td>u32</td><td>u32</td><td>u32</td></tr></thead><tbody><tr><td>38029185</td><td>271</td><td>692</td><td>860</td><td>2</td><td>2</td><td>2</td><td>8897</td><td>2361</td></tr></tbody></table></div>"
      ],
      "text/plain": [
       "shape: (1, 9)\n",
       "┌──────────┬─────┬─────┬─────┬──────┬─────┬─────┬──────────────┬──────────────────┐\n",
       "│ molecule ┆ bb1 ┆ bb2 ┆ bb3 ┆ BRD4 ┆ HSA ┆ eSH ┆ scaffold_idx ┆ mol_per_scaffold │\n",
       "│ ---      ┆ --- ┆ --- ┆ --- ┆ ---  ┆ --- ┆ --- ┆ ---          ┆ ---              │\n",
       "│ u32      ┆ u32 ┆ u32 ┆ u32 ┆ u32  ┆ u32 ┆ u32 ┆ u32          ┆ u32              │\n",
       "╞══════════╪═════╪═════╪═════╪══════╪═════╪═════╪══════════════╪══════════════════╡\n",
       "│ 38029185 ┆ 271 ┆ 692 ┆ 860 ┆ 2    ┆ 2   ┆ 2   ┆ 8897         ┆ 2361             │\n",
       "└──────────┴─────┴─────┴─────┴──────┴─────┴─────┴──────────────┴──────────────────┘"
      ]
     },
     "execution_count": 143,
     "metadata": {},
     "output_type": "execute_result"
    }
   ],
   "source": [
    "train_df2.filter(pl.col('mol_per_scaffold') >= 1000).select(pl.col('*').n_unique())"
   ]
  },
  {
   "cell_type": "code",
   "execution_count": 146,
   "id": "2042378a-553a-47ef-817e-eb2e1cd963ba",
   "metadata": {},
   "outputs": [
    {
     "data": {
      "text/plain": [
       "0.1557632671454705"
      ]
     },
     "execution_count": 146,
     "metadata": {},
     "output_type": "execute_result"
    }
   ],
   "source": [
    "(8897 / 5711873) * 100"
   ]
  },
  {
   "cell_type": "code",
   "execution_count": 147,
   "id": "89cb1786-d595-4e1c-a545-a773877c69f3",
   "metadata": {},
   "outputs": [
    {
     "data": {
      "text/plain": [
       "0.38641415726631173"
      ]
     },
     "execution_count": 147,
     "metadata": {},
     "output_type": "execute_result"
    }
   ],
   "source": [
    "38029185 / 98415610"
   ]
  },
  {
   "cell_type": "code",
   "execution_count": 152,
   "id": "8f39f3aa-124d-4f41-9cab-1f0c43ac2c4e",
   "metadata": {},
   "outputs": [
    {
     "data": {
      "text/plain": [
       "(567779, 1107117, 516792, 590325)"
      ]
     },
     "execution_count": 152,
     "metadata": {},
     "output_type": "execute_result"
    }
   ],
   "source": [
    "len(test1_df), len(test2_df), len(test3_df), len(test4_df)"
   ]
  },
  {
   "cell_type": "code",
   "execution_count": 168,
   "id": "bb922214-c422-4026-95c4-2ef2cae4d15e",
   "metadata": {},
   "outputs": [
    {
     "data": {
      "text/plain": [
       "126.95708653900732"
      ]
     },
     "execution_count": 168,
     "metadata": {},
     "output_type": "execute_result"
    }
   ],
   "source": [
    "1 / ((516792 * 3 / 2) / 98_415_610)"
   ]
  },
  {
   "cell_type": "code",
   "execution_count": 189,
   "id": "ffbd8028-4082-446b-9617-72c53ec95cec",
   "metadata": {},
   "outputs": [],
   "source": [
    "test2_df = test2_df.group_by('molecule').agg(pl.col('*').first())\n",
    "test3_df = test3_df.group_by('molecule').agg(pl.col('*').first())\n",
    "test4_df = test4_df.group_by('molecule').agg(pl.col('*').first())"
   ]
  },
  {
   "cell_type": "code",
   "execution_count": 191,
   "id": "04c05891-5f86-4162-8afa-5f3dccc2dac7",
   "metadata": {},
   "outputs": [
    {
     "data": {
      "text/html": [
       "<div><style>\n",
       ".dataframe > thead > tr,\n",
       ".dataframe > tbody > tr {\n",
       "  text-align: right;\n",
       "  white-space: pre-wrap;\n",
       "}\n",
       "</style>\n",
       "<small>shape: (15_908, 2)</small><table border=\"1\" class=\"dataframe\"><thead><tr><th>scaffold_idx</th><th>molecule</th></tr><tr><td>u32</td><td>u32</td></tr></thead><tbody><tr><td>5100845</td><td>1</td></tr><tr><td>1011938</td><td>1</td></tr><tr><td>5396299</td><td>1</td></tr><tr><td>2916660</td><td>1</td></tr><tr><td>1101596</td><td>1</td></tr><tr><td>757249</td><td>1</td></tr><tr><td>4234800</td><td>1</td></tr><tr><td>757642</td><td>1</td></tr><tr><td>2541772</td><td>1</td></tr><tr><td>1116408</td><td>1</td></tr><tr><td>3053770</td><td>1</td></tr><tr><td>2221937</td><td>1</td></tr><tr><td>2033969</td><td>1</td></tr><tr><td>1700763</td><td>1</td></tr><tr><td>357325</td><td>1</td></tr><tr><td>5184736</td><td>1</td></tr><tr><td>129640</td><td>1</td></tr><tr><td>5121424</td><td>1</td></tr><tr><td>1410290</td><td>1</td></tr><tr><td>4717174</td><td>1</td></tr><tr><td>3797910</td><td>1</td></tr><tr><td>5652822</td><td>1</td></tr><tr><td>5539307</td><td>1</td></tr><tr><td>5345441</td><td>1</td></tr><tr><td>3449106</td><td>1</td></tr><tr><td>&hellip;</td><td>&hellip;</td></tr><tr><td>3001841</td><td>870</td></tr><tr><td>4284653</td><td>870</td></tr><tr><td>262241</td><td>904</td></tr><tr><td>5480097</td><td>904</td></tr><tr><td>1067565</td><td>936</td></tr><tr><td>4168890</td><td>957</td></tr><tr><td>4898192</td><td>957</td></tr><tr><td>2811343</td><td>1032</td></tr><tr><td>4867533</td><td>1072</td></tr><tr><td>5029639</td><td>1072</td></tr><tr><td>3139327</td><td>1324</td></tr><tr><td>980030</td><td>1368</td></tr><tr><td>5150295</td><td>1419</td></tr><tr><td>2195886</td><td>1499</td></tr><tr><td>120438</td><td>1808</td></tr><tr><td>2517935</td><td>2276</td></tr><tr><td>3790577</td><td>2305</td></tr><tr><td>3466920</td><td>2305</td></tr><tr><td>3247049</td><td>2305</td></tr><tr><td>251250</td><td>3597</td></tr><tr><td>204272</td><td>3657</td></tr><tr><td>5730670</td><td>3657</td></tr><tr><td>5741906</td><td>4275</td></tr><tr><td>295936</td><td>4818</td></tr><tr><td>1281519</td><td>6116</td></tr></tbody></table></div>"
      ],
      "text/plain": [
       "shape: (15_908, 2)\n",
       "┌──────────────┬──────────┐\n",
       "│ scaffold_idx ┆ molecule │\n",
       "│ ---          ┆ ---      │\n",
       "│ u32          ┆ u32      │\n",
       "╞══════════════╪══════════╡\n",
       "│ 5100845      ┆ 1        │\n",
       "│ 1011938      ┆ 1        │\n",
       "│ 5396299      ┆ 1        │\n",
       "│ 2916660      ┆ 1        │\n",
       "│ 1101596      ┆ 1        │\n",
       "│ 757249       ┆ 1        │\n",
       "│ 4234800      ┆ 1        │\n",
       "│ 757642       ┆ 1        │\n",
       "│ 2541772      ┆ 1        │\n",
       "│ 1116408      ┆ 1        │\n",
       "│ 3053770      ┆ 1        │\n",
       "│ 2221937      ┆ 1        │\n",
       "│ 2033969      ┆ 1        │\n",
       "│ 1700763      ┆ 1        │\n",
       "│ 357325       ┆ 1        │\n",
       "│ 5184736      ┆ 1        │\n",
       "│ 129640       ┆ 1        │\n",
       "│ 5121424      ┆ 1        │\n",
       "│ 1410290      ┆ 1        │\n",
       "│ 4717174      ┆ 1        │\n",
       "│ 3797910      ┆ 1        │\n",
       "│ 5652822      ┆ 1        │\n",
       "│ 5539307      ┆ 1        │\n",
       "│ 5345441      ┆ 1        │\n",
       "│ 3449106      ┆ 1        │\n",
       "│ …            ┆ …        │\n",
       "│ 3001841      ┆ 870      │\n",
       "│ 4284653      ┆ 870      │\n",
       "│ 262241       ┆ 904      │\n",
       "│ 5480097      ┆ 904      │\n",
       "│ 1067565      ┆ 936      │\n",
       "│ 4168890      ┆ 957      │\n",
       "│ 4898192      ┆ 957      │\n",
       "│ 2811343      ┆ 1032     │\n",
       "│ 4867533      ┆ 1072     │\n",
       "│ 5029639      ┆ 1072     │\n",
       "│ 3139327      ┆ 1324     │\n",
       "│ 980030       ┆ 1368     │\n",
       "│ 5150295      ┆ 1419     │\n",
       "│ 2195886      ┆ 1499     │\n",
       "│ 120438       ┆ 1808     │\n",
       "│ 2517935      ┆ 2276     │\n",
       "│ 3790577      ┆ 2305     │\n",
       "│ 3466920      ┆ 2305     │\n",
       "│ 3247049      ┆ 2305     │\n",
       "│ 251250       ┆ 3597     │\n",
       "│ 204272       ┆ 3657     │\n",
       "│ 5730670      ┆ 3657     │\n",
       "│ 5741906      ┆ 4275     │\n",
       "│ 295936       ┆ 4818     │\n",
       "│ 1281519      ┆ 6116     │\n",
       "└──────────────┴──────────┘"
      ]
     },
     "metadata": {},
     "output_type": "display_data"
    },
    {
     "data": {
      "text/plain": [
       "<Axes: >"
      ]
     },
     "execution_count": 191,
     "metadata": {},
     "output_type": "execute_result"
    },
    {
     "data": {
      "image/png": "[encoded data removed]",
      "text/plain": [
       "<Figure size 640x480 with 1 Axes>"
      ]
     },
     "metadata": {},
     "output_type": "display_data"
    }
   ],
   "source": [
    "test3_mol_per_scaffold = test3_df.group_by('scaffold_idx').agg(\n",
    "    pl.col('molecule').count()\n",
    ").sort('molecule')\n",
    "display(test3_mol_per_scaffold)\n",
    "test3_mol_per_scaffold.to_pandas()['molecule'].hist(bins = 100)"
   ]
  },
  {
   "cell_type": "code",
   "execution_count": 192,
   "id": "48fb2f6e-a998-4c94-8f84-e1aba8cd7049",
   "metadata": {},
   "outputs": [
    {
     "data": {
      "text/html": [
       "<div><style>\n",
       ".dataframe > thead > tr,\n",
       ".dataframe > tbody > tr {\n",
       "  text-align: right;\n",
       "  white-space: pre-wrap;\n",
       "}\n",
       "</style>\n",
       "<small>shape: (17, 3)</small><table border=\"1\" class=\"dataframe\"><thead><tr><th>statistic</th><th>scaffold_idx</th><th>molecule</th></tr><tr><td>str</td><td>f64</td><td>f64</td></tr></thead><tbody><tr><td>&quot;count&quot;</td><td>15908.0</td><td>15908.0</td></tr><tr><td>&quot;null_count&quot;</td><td>0.0</td><td>0.0</td></tr><tr><td>&quot;mean&quot;</td><td>2.9811e6</td><td>10.828765</td></tr><tr><td>&quot;std&quot;</td><td>1.7168e6</td><td>105.882662</td></tr><tr><td>&quot;min&quot;</td><td>791.0</td><td>1.0</td></tr><tr><td>&quot;1%&quot;</td><td>63243.0</td><td>1.0</td></tr><tr><td>&quot;2.5%&quot;</td><td>155421.0</td><td>1.0</td></tr><tr><td>&quot;5%&quot;</td><td>301980.0</td><td>1.0</td></tr><tr><td>&quot;10%&quot;</td><td>600890.0</td><td>1.0</td></tr><tr><td>&quot;25%&quot;</td><td>1.511392e6</td><td>1.0</td></tr><tr><td>&quot;50%&quot;</td><td>2.960372e6</td><td>1.0</td></tr><tr><td>&quot;75%&quot;</td><td>4.476543e6</td><td>3.0</td></tr><tr><td>&quot;90%&quot;</td><td>5.367755e6</td><td>9.0</td></tr><tr><td>&quot;95%&quot;</td><td>5.677912e6</td><td>30.0</td></tr><tr><td>&quot;97.5%&quot;</td><td>5.813355e6</td><td>75.0</td></tr><tr><td>&quot;99%&quot;</td><td>5.906706e6</td><td>164.0</td></tr><tr><td>&quot;max&quot;</td><td>5.971474e6</td><td>6116.0</td></tr></tbody></table></div>"
      ],
      "text/plain": [
       "shape: (17, 3)\n",
       "┌────────────┬──────────────┬────────────┐\n",
       "│ statistic  ┆ scaffold_idx ┆ molecule   │\n",
       "│ ---        ┆ ---          ┆ ---        │\n",
       "│ str        ┆ f64          ┆ f64        │\n",
       "╞════════════╪══════════════╪════════════╡\n",
       "│ count      ┆ 15908.0      ┆ 15908.0    │\n",
       "│ null_count ┆ 0.0          ┆ 0.0        │\n",
       "│ mean       ┆ 2.9811e6     ┆ 10.828765  │\n",
       "│ std        ┆ 1.7168e6     ┆ 105.882662 │\n",
       "│ min        ┆ 791.0        ┆ 1.0        │\n",
       "│ 1%         ┆ 63243.0      ┆ 1.0        │\n",
       "│ 2.5%       ┆ 155421.0     ┆ 1.0        │\n",
       "│ 5%         ┆ 301980.0     ┆ 1.0        │\n",
       "│ 10%        ┆ 600890.0     ┆ 1.0        │\n",
       "│ 25%        ┆ 1.511392e6   ┆ 1.0        │\n",
       "│ 50%        ┆ 2.960372e6   ┆ 1.0        │\n",
       "│ 75%        ┆ 4.476543e6   ┆ 3.0        │\n",
       "│ 90%        ┆ 5.367755e6   ┆ 9.0        │\n",
       "│ 95%        ┆ 5.677912e6   ┆ 30.0       │\n",
       "│ 97.5%      ┆ 5.813355e6   ┆ 75.0       │\n",
       "│ 99%        ┆ 5.906706e6   ┆ 164.0      │\n",
       "│ max        ┆ 5.971474e6   ┆ 6116.0     │\n",
       "└────────────┴──────────────┴────────────┘"
      ]
     },
     "execution_count": 192,
     "metadata": {},
     "output_type": "execute_result"
    }
   ],
   "source": [
    "test3_mol_per_scaffold.describe(percentiles=PERCENTILES)"
   ]
  },
  {
   "cell_type": "code",
   "execution_count": 194,
   "id": "7f9920fa-d538-4007-a8b3-b0ace62c176e",
   "metadata": {},
   "outputs": [
    {
     "data": {
      "text/html": [
       "<div><style>\n",
       ".dataframe > thead > tr,\n",
       ".dataframe > tbody > tr {\n",
       "  text-align: right;\n",
       "  white-space: pre-wrap;\n",
       "}\n",
       "</style>\n",
       "<small>shape: (1, 2)</small><table border=\"1\" class=\"dataframe\"><thead><tr><th>scaffold_idx</th><th>molecule</th></tr><tr><td>u32</td><td>u32</td></tr></thead><tbody><tr><td>9596</td><td>9596</td></tr></tbody></table></div>"
      ],
      "text/plain": [
       "shape: (1, 2)\n",
       "┌──────────────┬──────────┐\n",
       "│ scaffold_idx ┆ molecule │\n",
       "│ ---          ┆ ---      │\n",
       "│ u32          ┆ u32      │\n",
       "╞══════════════╪══════════╡\n",
       "│ 9596         ┆ 9596     │\n",
       "└──────────────┴──────────┘"
      ]
     },
     "execution_count": 194,
     "metadata": {},
     "output_type": "execute_result"
    }
   ],
   "source": [
    "test3_mol_per_scaffold.filter(pl.col('molecule') == 1).count()"
   ]
  },
  {
   "cell_type": "code",
   "execution_count": null,
   "id": "e2a3a338-7f32-4687-826d-6d62852029c1",
   "metadata": {},
   "outputs": [],
   "source": []
  },
  {
   "cell_type": "code",
   "execution_count": 195,
   "id": "1acce89a-c5a9-4673-8591-c1ce101e884d",
   "metadata": {},
   "outputs": [
    {
     "data": {
      "text/plain": [
       "0.6032185064118682"
      ]
     },
     "execution_count": 195,
     "metadata": {},
     "output_type": "execute_result"
    }
   ],
   "source": [
    "9596 / 15_908"
   ]
  },
  {
   "cell_type": "code",
   "execution_count": 201,
   "id": "aecbc5b1-704a-41bf-a84c-61cd51dc1c71",
   "metadata": {},
   "outputs": [
    {
     "data": {
      "text/plain": [
       "<Axes: >"
      ]
     },
     "execution_count": 201,
     "metadata": {},
     "output_type": "execute_result"
    },
    {
     "data": {
      "image/png": "[encoded data removed]",
      "text/plain": [
       "<Figure size 640x480 with 1 Axes>"
      ]
     },
     "metadata": {},
     "output_type": "display_data"
    }
   ],
   "source": [
    "train_mol_per_scaffold.filter((pl.col('molecule') >= 100) & (pl.col('molecule') <= 6116)).to_pandas()['molecule'].hist(bins = 100)"
   ]
  },
  {
   "cell_type": "code",
   "execution_count": 202,
   "id": "e1d904b2-2304-4651-bba9-9f75c597d4b8",
   "metadata": {},
   "outputs": [
    {
     "data": {
      "text/plain": [
       "<Axes: >"
      ]
     },
     "execution_count": 202,
     "metadata": {},
     "output_type": "execute_result"
    },
    {
     "data": {
      "image/png": "[encoded data removed]",
      "text/plain": [
       "<Figure size 640x480 with 1 Axes>"
      ]
     },
     "metadata": {},
     "output_type": "display_data"
    }
   ],
   "source": [
    "test3_mol_per_scaffold.filter((pl.col('molecule') >= 100) & (pl.col('molecule') <= 6116)).to_pandas()['molecule'].hist(bins=100)"
   ]
  },
  {
   "cell_type": "code",
   "execution_count": null,
   "id": "2a086a9e-144e-455e-8605-c87419159c15",
   "metadata": {},
   "outputs": [],
   "source": []
  },
  {
   "cell_type": "code",
   "execution_count": 196,
   "id": "8ca29795-6748-47da-acbb-0ecce6389b93",
   "metadata": {},
   "outputs": [
    {
     "data": {
      "text/html": [
       "<div><style>\n",
       ".dataframe > thead > tr,\n",
       ".dataframe > tbody > tr {\n",
       "  text-align: right;\n",
       "  white-space: pre-wrap;\n",
       "}\n",
       "</style>\n",
       "<small>shape: (1, 2)</small><table border=\"1\" class=\"dataframe\"><thead><tr><th>scaffold_idx</th><th>molecule</th></tr><tr><td>u32</td><td>u32</td></tr></thead><tbody><tr><td>1119</td><td>1119</td></tr></tbody></table></div>"
      ],
      "text/plain": [
       "shape: (1, 2)\n",
       "┌──────────────┬──────────┐\n",
       "│ scaffold_idx ┆ molecule │\n",
       "│ ---          ┆ ---      │\n",
       "│ u32          ┆ u32      │\n",
       "╞══════════════╪══════════╡\n",
       "│ 1119         ┆ 1119     │\n",
       "└──────────────┴──────────┘"
      ]
     },
     "execution_count": 196,
     "metadata": {},
     "output_type": "execute_result"
    }
   ],
   "source": [
    "train_mol_per_scaffold.filter(pl.col('molecule') >= 6116).count()"
   ]
  },
  {
   "cell_type": "code",
   "execution_count": 208,
   "id": "05cba955-5309-4610-a40e-845099b9280a",
   "metadata": {},
   "outputs": [
    {
     "data": {
      "text/plain": [
       "(98415610, 9)"
      ]
     },
     "execution_count": 208,
     "metadata": {},
     "output_type": "execute_result"
    }
   ],
   "source": [
    "train_df2.shape"
   ]
  },
  {
   "cell_type": "code",
   "execution_count": 209,
   "id": "e5cdf875-8cc1-4ac9-b952-38c8da5fb7a6",
   "metadata": {},
   "outputs": [
    {
     "data": {
      "text/html": [
       "<div><style>\n",
       ".dataframe > thead > tr,\n",
       ".dataframe > tbody > tr {\n",
       "  text-align: right;\n",
       "  white-space: pre-wrap;\n",
       "}\n",
       "</style>\n",
       "<small>shape: (1, 9)</small><table border=\"1\" class=\"dataframe\"><thead><tr><th>molecule</th><th>bb1</th><th>bb2</th><th>bb3</th><th>BRD4</th><th>HSA</th><th>eSH</th><th>scaffold_idx</th><th>mol_per_scaffold</th></tr><tr><td>u32</td><td>u32</td><td>u32</td><td>u32</td><td>u32</td><td>u32</td><td>u32</td><td>u32</td><td>u32</td></tr></thead><tbody><tr><td>19359604</td><td>247</td><td>684</td><td>858</td><td>2</td><td>2</td><td>2</td><td>1119</td><td>675</td></tr></tbody></table></div>"
      ],
      "text/plain": [
       "shape: (1, 9)\n",
       "┌──────────┬─────┬─────┬─────┬──────┬─────┬─────┬──────────────┬──────────────────┐\n",
       "│ molecule ┆ bb1 ┆ bb2 ┆ bb3 ┆ BRD4 ┆ HSA ┆ eSH ┆ scaffold_idx ┆ mol_per_scaffold │\n",
       "│ ---      ┆ --- ┆ --- ┆ --- ┆ ---  ┆ --- ┆ --- ┆ ---          ┆ ---              │\n",
       "│ u32      ┆ u32 ┆ u32 ┆ u32 ┆ u32  ┆ u32 ┆ u32 ┆ u32          ┆ u32              │\n",
       "╞══════════╪═════╪═════╪═════╪══════╪═════╪═════╪══════════════╪══════════════════╡\n",
       "│ 19359604 ┆ 247 ┆ 684 ┆ 858 ┆ 2    ┆ 2   ┆ 2   ┆ 1119         ┆ 675              │\n",
       "└──────────┴─────┴─────┴─────┴──────┴─────┴─────┴──────────────┴──────────────────┘"
      ]
     },
     "execution_count": 209,
     "metadata": {},
     "output_type": "execute_result"
    }
   ],
   "source": [
    "train_df2.filter(pl.col('mol_per_scaffold') >= 6116).select(pl.col('*').n_unique())"
   ]
  },
  {
   "cell_type": "code",
   "execution_count": 204,
   "id": "49741e46-2b29-47e0-a6e8-33bb844c96f1",
   "metadata": {},
   "outputs": [
    {
     "data": {
      "text/plain": [
       "0.01959077171358677"
      ]
     },
     "execution_count": 204,
     "metadata": {},
     "output_type": "execute_result"
    }
   ],
   "source": [
    "1119 / 5711873 * 100"
   ]
  },
  {
   "cell_type": "code",
   "execution_count": 197,
   "id": "6cd6530a-c79e-44f2-83c8-a13697fc9e80",
   "metadata": {},
   "outputs": [
    {
     "data": {
      "text/html": [
       "<div><style>\n",
       ".dataframe > thead > tr,\n",
       ".dataframe > tbody > tr {\n",
       "  text-align: right;\n",
       "  white-space: pre-wrap;\n",
       "}\n",
       "</style>\n",
       "<small>shape: (1, 2)</small><table border=\"1\" class=\"dataframe\"><thead><tr><th>scaffold_idx</th><th>molecule</th></tr><tr><td>u32</td><td>u32</td></tr></thead><tbody><tr><td>5711873</td><td>5711873</td></tr></tbody></table></div>"
      ],
      "text/plain": [
       "shape: (1, 2)\n",
       "┌──────────────┬──────────┐\n",
       "│ scaffold_idx ┆ molecule │\n",
       "│ ---          ┆ ---      │\n",
       "│ u32          ┆ u32      │\n",
       "╞══════════════╪══════════╡\n",
       "│ 5711873      ┆ 5711873  │\n",
       "└──────────────┴──────────┘"
      ]
     },
     "execution_count": 197,
     "metadata": {},
     "output_type": "execute_result"
    }
   ],
   "source": [
    "train_mol_per_scaffold.count()"
   ]
  },
  {
   "cell_type": "code",
   "execution_count": 206,
   "id": "05ce0e72-9e9b-46ad-874f-6c760f6c301b",
   "metadata": {},
   "outputs": [
    {
     "data": {
      "text/html": [
       "<div><style>\n",
       ".dataframe > thead > tr,\n",
       ".dataframe > tbody > tr {\n",
       "  text-align: right;\n",
       "  white-space: pre-wrap;\n",
       "}\n",
       "</style>\n",
       "<small>shape: (1, 3)</small><table border=\"1\" class=\"dataframe\"><thead><tr><th>BRD4</th><th>HSA</th><th>eSH</th></tr><tr><td>f64</td><td>f64</td><td>f64</td></tr></thead><tbody><tr><td>0.004478</td><td>0.002875</td><td>0.004319</td></tr></tbody></table></div>"
      ],
      "text/plain": [
       "shape: (1, 3)\n",
       "┌──────────┬──────────┬──────────┐\n",
       "│ BRD4     ┆ HSA      ┆ eSH      │\n",
       "│ ---      ┆ ---      ┆ ---      │\n",
       "│ f64      ┆ f64      ┆ f64      │\n",
       "╞══════════╪══════════╪══════════╡\n",
       "│ 0.004478 ┆ 0.002875 ┆ 0.004319 │\n",
       "└──────────┴──────────┴──────────┘"
      ]
     },
     "execution_count": 206,
     "metadata": {},
     "output_type": "execute_result"
    }
   ],
   "source": [
    "train_df2.filter(pl.col('mol_per_scaffold') >= 7000).select(pl.col('BRD4', 'HSA', 'eSH').mean())"
   ]
  },
  {
   "cell_type": "code",
   "execution_count": null,
   "id": "01d51f53-5aab-4a5f-888f-8b9e5fbbd066",
   "metadata": {},
   "outputs": [],
   "source": []
  },
  {
   "cell_type": "code",
   "execution_count": null,
   "id": "5a8a56da-1cca-4176-a89e-1d21eca6aeeb",
   "metadata": {},
   "outputs": [],
   "source": []
  },
  {
   "cell_type": "code",
   "execution_count": null,
   "id": "f3967b70-16d3-41a1-bb98-f1d112cca515",
   "metadata": {},
   "outputs": [],
   "source": []
  },
  {
   "cell_type": "code",
   "execution_count": 162,
   "id": "03e8a930-1ff6-442d-b9c7-aa241d0ec04b",
   "metadata": {},
   "outputs": [
    {
     "data": {
      "text/plain": [
       "(5711873, 2)"
      ]
     },
     "execution_count": 162,
     "metadata": {},
     "output_type": "execute_result"
    }
   ],
   "source": [
    "train_mol_per_scaffold.shape"
   ]
  },
  {
   "cell_type": "code",
   "execution_count": 160,
   "id": "47a836b8-e506-4ccf-ad6e-2813a6d35a41",
   "metadata": {},
   "outputs": [
    {
     "data": {
      "text/html": [
       "<div><style>\n",
       ".dataframe > thead > tr,\n",
       ".dataframe > tbody > tr {\n",
       "  text-align: right;\n",
       "  white-space: pre-wrap;\n",
       "}\n",
       "</style>\n",
       "<small>shape: (1, 2)</small><table border=\"1\" class=\"dataframe\"><thead><tr><th>scaffold_idx</th><th>molecule</th></tr><tr><td>u32</td><td>u32</td></tr></thead><tbody><tr><td>2102137</td><td>2102137</td></tr></tbody></table></div>"
      ],
      "text/plain": [
       "shape: (1, 2)\n",
       "┌──────────────┬──────────┐\n",
       "│ scaffold_idx ┆ molecule │\n",
       "│ ---          ┆ ---      │\n",
       "│ u32          ┆ u32      │\n",
       "╞══════════════╪══════════╡\n",
       "│ 2102137      ┆ 2102137  │\n",
       "└──────────────┴──────────┘"
      ]
     },
     "execution_count": 160,
     "metadata": {},
     "output_type": "execute_result"
    }
   ],
   "source": [
    "train_mol_per_scaffold.filter(pl.col('molecule') >= 3).count()"
   ]
  },
  {
   "cell_type": "code",
   "execution_count": 163,
   "id": "1c85c294-e7d2-4218-b381-e0f06a538e11",
   "metadata": {},
   "outputs": [
    {
     "data": {
      "text/html": [
       "<div><style>\n",
       ".dataframe > thead > tr,\n",
       ".dataframe > tbody > tr {\n",
       "  text-align: right;\n",
       "  white-space: pre-wrap;\n",
       "}\n",
       "</style>\n",
       "<small>shape: (1, 2)</small><table border=\"1\" class=\"dataframe\"><thead><tr><th>scaffold_idx</th><th>molecule</th></tr><tr><td>u32</td><td>u32</td></tr></thead><tbody><tr><td>3609736</td><td>3609736</td></tr></tbody></table></div>"
      ],
      "text/plain": [
       "shape: (1, 2)\n",
       "┌──────────────┬──────────┐\n",
       "│ scaffold_idx ┆ molecule │\n",
       "│ ---          ┆ ---      │\n",
       "│ u32          ┆ u32      │\n",
       "╞══════════════╪══════════╡\n",
       "│ 3609736      ┆ 3609736  │\n",
       "└──────────────┴──────────┘"
      ]
     },
     "execution_count": 163,
     "metadata": {},
     "output_type": "execute_result"
    }
   ],
   "source": [
    "train_mol_per_scaffold.filter(pl.col('molecule') < 3).count()"
   ]
  },
  {
   "cell_type": "code",
   "execution_count": 164,
   "id": "01e50fc8-7af7-4539-8425-a46e1c0ddf60",
   "metadata": {},
   "outputs": [
    {
     "data": {
      "text/html": [
       "<div><style>\n",
       ".dataframe > thead > tr,\n",
       ".dataframe > tbody > tr {\n",
       "  text-align: right;\n",
       "  white-space: pre-wrap;\n",
       "}\n",
       "</style>\n",
       "<small>shape: (1, 2)</small><table border=\"1\" class=\"dataframe\"><thead><tr><th>scaffold_idx</th><th>molecule</th></tr><tr><td>u32</td><td>u32</td></tr></thead><tbody><tr><td>367491</td><td>367491</td></tr></tbody></table></div>"
      ],
      "text/plain": [
       "shape: (1, 2)\n",
       "┌──────────────┬──────────┐\n",
       "│ scaffold_idx ┆ molecule │\n",
       "│ ---          ┆ ---      │\n",
       "│ u32          ┆ u32      │\n",
       "╞══════════════╪══════════╡\n",
       "│ 367491       ┆ 367491   │\n",
       "└──────────────┴──────────┘"
      ]
     },
     "execution_count": 164,
     "metadata": {},
     "output_type": "execute_result"
    }
   ],
   "source": [
    "train_mol_per_scaffold.filter(pl.col('molecule') == 3).count()"
   ]
  },
  {
   "cell_type": "code",
   "execution_count": null,
   "id": "edc1e371-d410-4fcc-8cde-1bc62b68042d",
   "metadata": {},
   "outputs": [],
   "source": []
  },
  {
   "cell_type": "code",
   "execution_count": 171,
   "id": "06cb8c68-c0b7-4360-a77a-ddb3fd1e9a43",
   "metadata": {},
   "outputs": [
    {
     "data": {
      "text/html": [
       "<div><style>\n",
       ".dataframe > thead > tr,\n",
       ".dataframe > tbody > tr {\n",
       "  text-align: right;\n",
       "  white-space: pre-wrap;\n",
       "}\n",
       "</style>\n",
       "<small>shape: (245_841, 2)</small><table border=\"1\" class=\"dataframe\"><thead><tr><th>scaffold_idx</th><th>molecule</th></tr><tr><td>u32</td><td>u32</td></tr></thead><tbody><tr><td>4033854</td><td>1</td></tr><tr><td>1872871</td><td>1</td></tr><tr><td>2887560</td><td>1</td></tr><tr><td>4075670</td><td>1</td></tr><tr><td>4142388</td><td>1</td></tr><tr><td>1384337</td><td>1</td></tr><tr><td>2674687</td><td>1</td></tr><tr><td>365715</td><td>1</td></tr><tr><td>4146714</td><td>1</td></tr><tr><td>5558576</td><td>1</td></tr><tr><td>5602357</td><td>1</td></tr><tr><td>830130</td><td>1</td></tr><tr><td>3684657</td><td>1</td></tr><tr><td>1682018</td><td>1</td></tr><tr><td>1148786</td><td>1</td></tr><tr><td>672703</td><td>1</td></tr><tr><td>5367723</td><td>1</td></tr><tr><td>5815361</td><td>1</td></tr><tr><td>4589633</td><td>1</td></tr><tr><td>372268</td><td>1</td></tr><tr><td>386818</td><td>1</td></tr><tr><td>5327875</td><td>1</td></tr><tr><td>4888496</td><td>1</td></tr><tr><td>5030325</td><td>1</td></tr><tr><td>1200561</td><td>1</td></tr><tr><td>&hellip;</td><td>&hellip;</td></tr><tr><td>1885866</td><td>245</td></tr><tr><td>3697007</td><td>249</td></tr><tr><td>3022191</td><td>249</td></tr><tr><td>849441</td><td>250</td></tr><tr><td>498424</td><td>251</td></tr><tr><td>4409983</td><td>252</td></tr><tr><td>5847803</td><td>256</td></tr><tr><td>3490031</td><td>256</td></tr><tr><td>5563100</td><td>259</td></tr><tr><td>4943944</td><td>260</td></tr><tr><td>5381647</td><td>260</td></tr><tr><td>2892412</td><td>261</td></tr><tr><td>3884772</td><td>261</td></tr><tr><td>1246750</td><td>268</td></tr><tr><td>3462218</td><td>269</td></tr><tr><td>2878053</td><td>269</td></tr><tr><td>3614628</td><td>284</td></tr><tr><td>1105438</td><td>318</td></tr><tr><td>5552611</td><td>347</td></tr><tr><td>5445731</td><td>381</td></tr><tr><td>5140637</td><td>402</td></tr><tr><td>2971188</td><td>404</td></tr><tr><td>2267854</td><td>419</td></tr><tr><td>391264</td><td>515</td></tr><tr><td>132735</td><td>518</td></tr></tbody></table></div>"
      ],
      "text/plain": [
       "shape: (245_841, 2)\n",
       "┌──────────────┬──────────┐\n",
       "│ scaffold_idx ┆ molecule │\n",
       "│ ---          ┆ ---      │\n",
       "│ u32          ┆ u32      │\n",
       "╞══════════════╪══════════╡\n",
       "│ 4033854      ┆ 1        │\n",
       "│ 1872871      ┆ 1        │\n",
       "│ 2887560      ┆ 1        │\n",
       "│ 4075670      ┆ 1        │\n",
       "│ 4142388      ┆ 1        │\n",
       "│ 1384337      ┆ 1        │\n",
       "│ 2674687      ┆ 1        │\n",
       "│ 365715       ┆ 1        │\n",
       "│ 4146714      ┆ 1        │\n",
       "│ 5558576      ┆ 1        │\n",
       "│ 5602357      ┆ 1        │\n",
       "│ 830130       ┆ 1        │\n",
       "│ 3684657      ┆ 1        │\n",
       "│ 1682018      ┆ 1        │\n",
       "│ 1148786      ┆ 1        │\n",
       "│ 672703       ┆ 1        │\n",
       "│ 5367723      ┆ 1        │\n",
       "│ 5815361      ┆ 1        │\n",
       "│ 4589633      ┆ 1        │\n",
       "│ 372268       ┆ 1        │\n",
       "│ 386818       ┆ 1        │\n",
       "│ 5327875      ┆ 1        │\n",
       "│ 4888496      ┆ 1        │\n",
       "│ 5030325      ┆ 1        │\n",
       "│ 1200561      ┆ 1        │\n",
       "│ …            ┆ …        │\n",
       "│ 1885866      ┆ 245      │\n",
       "│ 3697007      ┆ 249      │\n",
       "│ 3022191      ┆ 249      │\n",
       "│ 849441       ┆ 250      │\n",
       "│ 498424       ┆ 251      │\n",
       "│ 4409983      ┆ 252      │\n",
       "│ 5847803      ┆ 256      │\n",
       "│ 3490031      ┆ 256      │\n",
       "│ 5563100      ┆ 259      │\n",
       "│ 4943944      ┆ 260      │\n",
       "│ 5381647      ┆ 260      │\n",
       "│ 2892412      ┆ 261      │\n",
       "│ 3884772      ┆ 261      │\n",
       "│ 1246750      ┆ 268      │\n",
       "│ 3462218      ┆ 269      │\n",
       "│ 2878053      ┆ 269      │\n",
       "│ 3614628      ┆ 284      │\n",
       "│ 1105438      ┆ 318      │\n",
       "│ 5552611      ┆ 347      │\n",
       "│ 5445731      ┆ 381      │\n",
       "│ 5140637      ┆ 402      │\n",
       "│ 2971188      ┆ 404      │\n",
       "│ 2267854      ┆ 419      │\n",
       "│ 391264       ┆ 515      │\n",
       "│ 132735       ┆ 518      │\n",
       "└──────────────┴──────────┘"
      ]
     },
     "metadata": {},
     "output_type": "display_data"
    },
    {
     "data": {
      "text/plain": [
       "<Axes: >"
      ]
     },
     "execution_count": 171,
     "metadata": {},
     "output_type": "execute_result"
    },
    {
     "data": {
      "image/png": "[encoded data removed]",
      "text/plain": [
       "<Figure size 640x480 with 1 Axes>"
      ]
     },
     "metadata": {},
     "output_type": "display_data"
    }
   ],
   "source": [
    "test1_mol_per_scaffold = test1_df.group_by('scaffold_idx').agg(\n",
    "    pl.col('molecule').count()\n",
    ").sort('molecule')\n",
    "display(test1_mol_per_scaffold)\n",
    "test1_mol_per_scaffold.to_pandas()['molecule'].hist(bins = 100)"
   ]
  },
  {
   "cell_type": "code",
   "execution_count": 172,
   "id": "595f6825-1bd6-404c-b015-d37e74dbb8a6",
   "metadata": {},
   "outputs": [
    {
     "data": {
      "text/html": [
       "<div><style>\n",
       ".dataframe > thead > tr,\n",
       ".dataframe > tbody > tr {\n",
       "  text-align: right;\n",
       "  white-space: pre-wrap;\n",
       "}\n",
       "</style>\n",
       "<small>shape: (17, 3)</small><table border=\"1\" class=\"dataframe\"><thead><tr><th>statistic</th><th>scaffold_idx</th><th>molecule</th></tr><tr><td>str</td><td>f64</td><td>f64</td></tr></thead><tbody><tr><td>&quot;count&quot;</td><td>245841.0</td><td>245841.0</td></tr><tr><td>&quot;null_count&quot;</td><td>0.0</td><td>0.0</td></tr><tr><td>&quot;mean&quot;</td><td>2.9848e6</td><td>2.309537</td></tr><tr><td>&quot;std&quot;</td><td>1.7222e6</td><td>7.037798</td></tr><tr><td>&quot;min&quot;</td><td>1.0</td><td>1.0</td></tr><tr><td>&quot;1%&quot;</td><td>61819.0</td><td>1.0</td></tr><tr><td>&quot;2.5%&quot;</td><td>149932.0</td><td>1.0</td></tr><tr><td>&quot;5%&quot;</td><td>300800.0</td><td>1.0</td></tr><tr><td>&quot;10%&quot;</td><td>600517.0</td><td>1.0</td></tr><tr><td>&quot;25%&quot;</td><td>1.49321e6</td><td>1.0</td></tr><tr><td>&quot;50%&quot;</td><td>2.98826e6</td><td>1.0</td></tr><tr><td>&quot;75%&quot;</td><td>4.474503e6</td><td>2.0</td></tr><tr><td>&quot;90%&quot;</td><td>5.372061e6</td><td>3.0</td></tr><tr><td>&quot;95%&quot;</td><td>5.670482e6</td><td>8.0</td></tr><tr><td>&quot;97.5%&quot;</td><td>5.821207e6</td><td>14.0</td></tr><tr><td>&quot;99%&quot;</td><td>5.911083e6</td><td>22.0</td></tr><tr><td>&quot;max&quot;</td><td>5.971674e6</td><td>518.0</td></tr></tbody></table></div>"
      ],
      "text/plain": [
       "shape: (17, 3)\n",
       "┌────────────┬──────────────┬──────────┐\n",
       "│ statistic  ┆ scaffold_idx ┆ molecule │\n",
       "│ ---        ┆ ---          ┆ ---      │\n",
       "│ str        ┆ f64          ┆ f64      │\n",
       "╞════════════╪══════════════╪══════════╡\n",
       "│ count      ┆ 245841.0     ┆ 245841.0 │\n",
       "│ null_count ┆ 0.0          ┆ 0.0      │\n",
       "│ mean       ┆ 2.9848e6     ┆ 2.309537 │\n",
       "│ std        ┆ 1.7222e6     ┆ 7.037798 │\n",
       "│ min        ┆ 1.0          ┆ 1.0      │\n",
       "│ 1%         ┆ 61819.0      ┆ 1.0      │\n",
       "│ 2.5%       ┆ 149932.0     ┆ 1.0      │\n",
       "│ 5%         ┆ 300800.0     ┆ 1.0      │\n",
       "│ 10%        ┆ 600517.0     ┆ 1.0      │\n",
       "│ 25%        ┆ 1.49321e6    ┆ 1.0      │\n",
       "│ 50%        ┆ 2.98826e6    ┆ 1.0      │\n",
       "│ 75%        ┆ 4.474503e6   ┆ 2.0      │\n",
       "│ 90%        ┆ 5.372061e6   ┆ 3.0      │\n",
       "│ 95%        ┆ 5.670482e6   ┆ 8.0      │\n",
       "│ 97.5%      ┆ 5.821207e6   ┆ 14.0     │\n",
       "│ 99%        ┆ 5.911083e6   ┆ 22.0     │\n",
       "│ max        ┆ 5.971674e6   ┆ 518.0    │\n",
       "└────────────┴──────────────┴──────────┘"
      ]
     },
     "execution_count": 172,
     "metadata": {},
     "output_type": "execute_result"
    }
   ],
   "source": [
    "test1_mol_per_scaffold.describe(percentiles=PERCENTILES)"
   ]
  },
  {
   "cell_type": "code",
   "execution_count": 175,
   "id": "66cac84a-3856-4d8a-b228-ae7811c79c80",
   "metadata": {},
   "outputs": [
    {
     "data": {
      "text/html": [
       "<div><style>\n",
       ".dataframe > thead > tr,\n",
       ".dataframe > tbody > tr {\n",
       "  text-align: right;\n",
       "  white-space: pre-wrap;\n",
       "}\n",
       "</style>\n",
       "<small>shape: (1, 2)</small><table border=\"1\" class=\"dataframe\"><thead><tr><th>scaffold_idx</th><th>molecule</th></tr><tr><td>u32</td><td>u32</td></tr></thead><tbody><tr><td>182592</td><td>182592</td></tr></tbody></table></div>"
      ],
      "text/plain": [
       "shape: (1, 2)\n",
       "┌──────────────┬──────────┐\n",
       "│ scaffold_idx ┆ molecule │\n",
       "│ ---          ┆ ---      │\n",
       "│ u32          ┆ u32      │\n",
       "╞══════════════╪══════════╡\n",
       "│ 182592       ┆ 182592   │\n",
       "└──────────────┴──────────┘"
      ]
     },
     "execution_count": 175,
     "metadata": {},
     "output_type": "execute_result"
    }
   ],
   "source": [
    "test1_mol_per_scaffold.filter(pl.col('molecule') == 1).count()"
   ]
  },
  {
   "cell_type": "code",
   "execution_count": 176,
   "id": "11f4e386-d67e-4d7c-9612-2dfba0d23f44",
   "metadata": {},
   "outputs": [
    {
     "data": {
      "text/plain": [
       "0.10901691806536047"
      ]
     },
     "execution_count": 176,
     "metadata": {},
     "output_type": "execute_result"
    }
   ],
   "source": [
    "182592 / (567779 + 1107117)"
   ]
  },
  {
   "cell_type": "code",
   "execution_count": 210,
   "id": "363be689-cfde-46cc-a7f7-1886a9b6fb30",
   "metadata": {},
   "outputs": [
    {
     "data": {
      "text/html": [
       "<div><style>\n",
       ".dataframe > thead > tr,\n",
       ".dataframe > tbody > tr {\n",
       "  text-align: right;\n",
       "  white-space: pre-wrap;\n",
       "}\n",
       "</style>\n",
       "<small>shape: (107_916, 2)</small><table border=\"1\" class=\"dataframe\"><thead><tr><th>scaffold_idx</th><th>molecule</th></tr><tr><td>u32</td><td>u32</td></tr></thead><tbody><tr><td>3881932</td><td>1</td></tr><tr><td>998305</td><td>1</td></tr><tr><td>1656327</td><td>1</td></tr><tr><td>828951</td><td>1</td></tr><tr><td>2368878</td><td>1</td></tr><tr><td>2965029</td><td>1</td></tr><tr><td>4662252</td><td>1</td></tr><tr><td>3308197</td><td>1</td></tr><tr><td>496662</td><td>1</td></tr><tr><td>1218389</td><td>1</td></tr><tr><td>644127</td><td>1</td></tr><tr><td>1862778</td><td>1</td></tr><tr><td>1872216</td><td>1</td></tr><tr><td>4540478</td><td>1</td></tr><tr><td>828558</td><td>1</td></tr><tr><td>3511239</td><td>1</td></tr><tr><td>2920331</td><td>1</td></tr><tr><td>1130696</td><td>1</td></tr><tr><td>1686475</td><td>1</td></tr><tr><td>3136482</td><td>1</td></tr><tr><td>5222750</td><td>1</td></tr><tr><td>1226910</td><td>1</td></tr><tr><td>5154719</td><td>1</td></tr><tr><td>3860174</td><td>1</td></tr><tr><td>4155497</td><td>1</td></tr><tr><td>&hellip;</td><td>&hellip;</td></tr><tr><td>2439239</td><td>175</td></tr><tr><td>270715</td><td>177</td></tr><tr><td>3736206</td><td>178</td></tr><tr><td>2673351</td><td>178</td></tr><tr><td>566241</td><td>181</td></tr><tr><td>1970290</td><td>198</td></tr><tr><td>2805230</td><td>201</td></tr><tr><td>5641796</td><td>211</td></tr><tr><td>3162315</td><td>264</td></tr><tr><td>2494349</td><td>283</td></tr><tr><td>3392579</td><td>283</td></tr><tr><td>5863476</td><td>288</td></tr><tr><td>860420</td><td>348</td></tr><tr><td>136222</td><td>350</td></tr><tr><td>5509544</td><td>365</td></tr><tr><td>716867</td><td>377</td></tr><tr><td>2963783</td><td>378</td></tr><tr><td>4583912</td><td>437</td></tr><tr><td>4912182</td><td>443</td></tr><tr><td>162518</td><td>489</td></tr><tr><td>4867705</td><td>504</td></tr><tr><td>5929438</td><td>627</td></tr><tr><td>4632750</td><td>652</td></tr><tr><td>4861294</td><td>859</td></tr><tr><td>2217250</td><td>1043</td></tr></tbody></table></div>"
      ],
      "text/plain": [
       "shape: (107_916, 2)\n",
       "┌──────────────┬──────────┐\n",
       "│ scaffold_idx ┆ molecule │\n",
       "│ ---          ┆ ---      │\n",
       "│ u32          ┆ u32      │\n",
       "╞══════════════╪══════════╡\n",
       "│ 3881932      ┆ 1        │\n",
       "│ 998305       ┆ 1        │\n",
       "│ 1656327      ┆ 1        │\n",
       "│ 828951       ┆ 1        │\n",
       "│ 2368878      ┆ 1        │\n",
       "│ 2965029      ┆ 1        │\n",
       "│ 4662252      ┆ 1        │\n",
       "│ 3308197      ┆ 1        │\n",
       "│ 496662       ┆ 1        │\n",
       "│ 1218389      ┆ 1        │\n",
       "│ 644127       ┆ 1        │\n",
       "│ 1862778      ┆ 1        │\n",
       "│ 1872216      ┆ 1        │\n",
       "│ 4540478      ┆ 1        │\n",
       "│ 828558       ┆ 1        │\n",
       "│ 3511239      ┆ 1        │\n",
       "│ 2920331      ┆ 1        │\n",
       "│ 1130696      ┆ 1        │\n",
       "│ 1686475      ┆ 1        │\n",
       "│ 3136482      ┆ 1        │\n",
       "│ 5222750      ┆ 1        │\n",
       "│ 1226910      ┆ 1        │\n",
       "│ 5154719      ┆ 1        │\n",
       "│ 3860174      ┆ 1        │\n",
       "│ 4155497      ┆ 1        │\n",
       "│ …            ┆ …        │\n",
       "│ 2439239      ┆ 175      │\n",
       "│ 270715       ┆ 177      │\n",
       "│ 3736206      ┆ 178      │\n",
       "│ 2673351      ┆ 178      │\n",
       "│ 566241       ┆ 181      │\n",
       "│ 1970290      ┆ 198      │\n",
       "│ 2805230      ┆ 201      │\n",
       "│ 5641796      ┆ 211      │\n",
       "│ 3162315      ┆ 264      │\n",
       "│ 2494349      ┆ 283      │\n",
       "│ 3392579      ┆ 283      │\n",
       "│ 5863476      ┆ 288      │\n",
       "│ 860420       ┆ 348      │\n",
       "│ 136222       ┆ 350      │\n",
       "│ 5509544      ┆ 365      │\n",
       "│ 716867       ┆ 377      │\n",
       "│ 2963783      ┆ 378      │\n",
       "│ 4583912      ┆ 437      │\n",
       "│ 4912182      ┆ 443      │\n",
       "│ 162518       ┆ 489      │\n",
       "│ 4867705      ┆ 504      │\n",
       "│ 5929438      ┆ 627      │\n",
       "│ 4632750      ┆ 652      │\n",
       "│ 4861294      ┆ 859      │\n",
       "│ 2217250      ┆ 1043     │\n",
       "└──────────────┴──────────┘"
      ]
     },
     "metadata": {},
     "output_type": "display_data"
    },
    {
     "data": {
      "text/html": [
       "<div><style>\n",
       ".dataframe > thead > tr,\n",
       ".dataframe > tbody > tr {\n",
       "  text-align: right;\n",
       "  white-space: pre-wrap;\n",
       "}\n",
       "</style>\n",
       "<small>shape: (17, 3)</small><table border=\"1\" class=\"dataframe\"><thead><tr><th>statistic</th><th>scaffold_idx</th><th>molecule</th></tr><tr><td>str</td><td>f64</td><td>f64</td></tr></thead><tbody><tr><td>&quot;count&quot;</td><td>107916.0</td><td>107916.0</td></tr><tr><td>&quot;null_count&quot;</td><td>0.0</td><td>0.0</td></tr><tr><td>&quot;mean&quot;</td><td>2.9843e6</td><td>1.823409</td></tr><tr><td>&quot;std&quot;</td><td>1.7268e6</td><td>7.78643</td></tr><tr><td>&quot;min&quot;</td><td>12.0</td><td>1.0</td></tr><tr><td>&quot;1%&quot;</td><td>59190.0</td><td>1.0</td></tr><tr><td>&quot;2.5%&quot;</td><td>147043.0</td><td>1.0</td></tr><tr><td>&quot;5%&quot;</td><td>296375.0</td><td>1.0</td></tr><tr><td>&quot;10%&quot;</td><td>591440.0</td><td>1.0</td></tr><tr><td>&quot;25%&quot;</td><td>1.485072e6</td><td>1.0</td></tr><tr><td>&quot;50%&quot;</td><td>2.980652e6</td><td>1.0</td></tr><tr><td>&quot;75%&quot;</td><td>4.482239e6</td><td>1.0</td></tr><tr><td>&quot;90%&quot;</td><td>5.375868e6</td><td>2.0</td></tr><tr><td>&quot;95%&quot;</td><td>5.676244e6</td><td>4.0</td></tr><tr><td>&quot;97.5%&quot;</td><td>5.825168e6</td><td>7.0</td></tr><tr><td>&quot;99%&quot;</td><td>5.914557e6</td><td>14.0</td></tr><tr><td>&quot;max&quot;</td><td>5.971644e6</td><td>1043.0</td></tr></tbody></table></div>"
      ],
      "text/plain": [
       "shape: (17, 3)\n",
       "┌────────────┬──────────────┬──────────┐\n",
       "│ statistic  ┆ scaffold_idx ┆ molecule │\n",
       "│ ---        ┆ ---          ┆ ---      │\n",
       "│ str        ┆ f64          ┆ f64      │\n",
       "╞════════════╪══════════════╪══════════╡\n",
       "│ count      ┆ 107916.0     ┆ 107916.0 │\n",
       "│ null_count ┆ 0.0          ┆ 0.0      │\n",
       "│ mean       ┆ 2.9843e6     ┆ 1.823409 │\n",
       "│ std        ┆ 1.7268e6     ┆ 7.78643  │\n",
       "│ min        ┆ 12.0         ┆ 1.0      │\n",
       "│ 1%         ┆ 59190.0      ┆ 1.0      │\n",
       "│ 2.5%       ┆ 147043.0     ┆ 1.0      │\n",
       "│ 5%         ┆ 296375.0     ┆ 1.0      │\n",
       "│ 10%        ┆ 591440.0     ┆ 1.0      │\n",
       "│ 25%        ┆ 1.485072e6   ┆ 1.0      │\n",
       "│ 50%        ┆ 2.980652e6   ┆ 1.0      │\n",
       "│ 75%        ┆ 4.482239e6   ┆ 1.0      │\n",
       "│ 90%        ┆ 5.375868e6   ┆ 2.0      │\n",
       "│ 95%        ┆ 5.676244e6   ┆ 4.0      │\n",
       "│ 97.5%      ┆ 5.825168e6   ┆ 7.0      │\n",
       "│ 99%        ┆ 5.914557e6   ┆ 14.0     │\n",
       "│ max        ┆ 5.971644e6   ┆ 1043.0   │\n",
       "└────────────┴──────────────┴──────────┘"
      ]
     },
     "execution_count": 210,
     "metadata": {},
     "output_type": "execute_result"
    }
   ],
   "source": [
    "test4_mol_per_scaffold = test4_df.group_by('scaffold_idx').agg(\n",
    "    pl.col('molecule').count()\n",
    ").sort('molecule')\n",
    "display(test4_mol_per_scaffold)\n",
    "test4_mol_per_scaffold.describe(percentiles=PERCENTILES)"
   ]
  },
  {
   "cell_type": "code",
   "execution_count": 180,
   "id": "d2ef239d-5879-4170-9004-f1eb03dcac8e",
   "metadata": {},
   "outputs": [
    {
     "data": {
      "text/html": [
       "<div><style>\n",
       ".dataframe > thead > tr,\n",
       ".dataframe > tbody > tr {\n",
       "  text-align: right;\n",
       "  white-space: pre-wrap;\n",
       "}\n",
       "</style>\n",
       "<small>shape: (123_824, 2)</small><table border=\"1\" class=\"dataframe\"><thead><tr><th>scaffold_idx</th><th>molecule</th></tr><tr><td>u32</td><td>u32</td></tr></thead><tbody><tr><td>820299</td><td>3</td></tr><tr><td>3954682</td><td>3</td></tr><tr><td>1465212</td><td>3</td></tr><tr><td>4526321</td><td>3</td></tr><tr><td>1498114</td><td>3</td></tr><tr><td>3276736</td><td>3</td></tr><tr><td>4219071</td><td>3</td></tr><tr><td>4741031</td><td>3</td></tr><tr><td>333337</td><td>3</td></tr><tr><td>5316996</td><td>3</td></tr><tr><td>4331931</td><td>3</td></tr><tr><td>2383428</td><td>3</td></tr><tr><td>2858198</td><td>3</td></tr><tr><td>3449106</td><td>3</td></tr><tr><td>4314234</td><td>3</td></tr><tr><td>2585815</td><td>3</td></tr><tr><td>1337278</td><td>3</td></tr><tr><td>4674310</td><td>3</td></tr><tr><td>2374121</td><td>3</td></tr><tr><td>254034</td><td>3</td></tr><tr><td>2595253</td><td>3</td></tr><tr><td>3442553</td><td>3</td></tr><tr><td>4450951</td><td>3</td></tr><tr><td>838651</td><td>3</td></tr><tr><td>573345</td><td>3</td></tr><tr><td>&hellip;</td><td>&hellip;</td></tr><tr><td>4284653</td><td>2610</td></tr><tr><td>262241</td><td>2712</td></tr><tr><td>5480097</td><td>2712</td></tr><tr><td>1067565</td><td>2808</td></tr><tr><td>4168890</td><td>2871</td></tr><tr><td>4898192</td><td>2871</td></tr><tr><td>2811343</td><td>3096</td></tr><tr><td>2217250</td><td>3129</td></tr><tr><td>4867533</td><td>3216</td></tr><tr><td>5029639</td><td>3216</td></tr><tr><td>3139327</td><td>3972</td></tr><tr><td>980030</td><td>4104</td></tr><tr><td>5150295</td><td>4257</td></tr><tr><td>2195886</td><td>4497</td></tr><tr><td>120438</td><td>5424</td></tr><tr><td>2517935</td><td>6828</td></tr><tr><td>3790577</td><td>6915</td></tr><tr><td>3466920</td><td>6915</td></tr><tr><td>3247049</td><td>6915</td></tr><tr><td>251250</td><td>10791</td></tr><tr><td>204272</td><td>10971</td></tr><tr><td>5730670</td><td>10971</td></tr><tr><td>5741906</td><td>12825</td></tr><tr><td>295936</td><td>14454</td></tr><tr><td>1281519</td><td>18348</td></tr></tbody></table></div>"
      ],
      "text/plain": [
       "shape: (123_824, 2)\n",
       "┌──────────────┬──────────┐\n",
       "│ scaffold_idx ┆ molecule │\n",
       "│ ---          ┆ ---      │\n",
       "│ u32          ┆ u32      │\n",
       "╞══════════════╪══════════╡\n",
       "│ 820299       ┆ 3        │\n",
       "│ 3954682      ┆ 3        │\n",
       "│ 1465212      ┆ 3        │\n",
       "│ 4526321      ┆ 3        │\n",
       "│ 1498114      ┆ 3        │\n",
       "│ 3276736      ┆ 3        │\n",
       "│ 4219071      ┆ 3        │\n",
       "│ 4741031      ┆ 3        │\n",
       "│ 333337       ┆ 3        │\n",
       "│ 5316996      ┆ 3        │\n",
       "│ 4331931      ┆ 3        │\n",
       "│ 2383428      ┆ 3        │\n",
       "│ 2858198      ┆ 3        │\n",
       "│ 3449106      ┆ 3        │\n",
       "│ 4314234      ┆ 3        │\n",
       "│ 2585815      ┆ 3        │\n",
       "│ 1337278      ┆ 3        │\n",
       "│ 4674310      ┆ 3        │\n",
       "│ 2374121      ┆ 3        │\n",
       "│ 254034       ┆ 3        │\n",
       "│ 2595253      ┆ 3        │\n",
       "│ 3442553      ┆ 3        │\n",
       "│ 4450951      ┆ 3        │\n",
       "│ 838651       ┆ 3        │\n",
       "│ 573345       ┆ 3        │\n",
       "│ …            ┆ …        │\n",
       "│ 4284653      ┆ 2610     │\n",
       "│ 262241       ┆ 2712     │\n",
       "│ 5480097      ┆ 2712     │\n",
       "│ 1067565      ┆ 2808     │\n",
       "│ 4168890      ┆ 2871     │\n",
       "│ 4898192      ┆ 2871     │\n",
       "│ 2811343      ┆ 3096     │\n",
       "│ 2217250      ┆ 3129     │\n",
       "│ 4867533      ┆ 3216     │\n",
       "│ 5029639      ┆ 3216     │\n",
       "│ 3139327      ┆ 3972     │\n",
       "│ 980030       ┆ 4104     │\n",
       "│ 5150295      ┆ 4257     │\n",
       "│ 2195886      ┆ 4497     │\n",
       "│ 120438       ┆ 5424     │\n",
       "│ 2517935      ┆ 6828     │\n",
       "│ 3790577      ┆ 6915     │\n",
       "│ 3466920      ┆ 6915     │\n",
       "│ 3247049      ┆ 6915     │\n",
       "│ 251250       ┆ 10791    │\n",
       "│ 204272       ┆ 10971    │\n",
       "│ 5730670      ┆ 10971    │\n",
       "│ 5741906      ┆ 12825    │\n",
       "│ 295936       ┆ 14454    │\n",
       "│ 1281519      ┆ 18348    │\n",
       "└──────────────┴──────────┘"
      ]
     },
     "metadata": {},
     "output_type": "display_data"
    },
    {
     "data": {
      "text/html": [
       "<div><style>\n",
       ".dataframe > thead > tr,\n",
       ".dataframe > tbody > tr {\n",
       "  text-align: right;\n",
       "  white-space: pre-wrap;\n",
       "}\n",
       "</style>\n",
       "<small>shape: (17, 3)</small><table border=\"1\" class=\"dataframe\"><thead><tr><th>statistic</th><th>scaffold_idx</th><th>molecule</th></tr><tr><td>str</td><td>f64</td><td>f64</td></tr></thead><tbody><tr><td>&quot;count&quot;</td><td>123824.0</td><td>123824.0</td></tr><tr><td>&quot;null_count&quot;</td><td>0.0</td><td>0.0</td></tr><tr><td>&quot;mean&quot;</td><td>2.9839e6</td><td>8.941053</td></tr><tr><td>&quot;std&quot;</td><td>1.7255e6</td><td>116.27334</td></tr><tr><td>&quot;min&quot;</td><td>12.0</td><td>3.0</td></tr><tr><td>&quot;1%&quot;</td><td>59703.0</td><td>3.0</td></tr><tr><td>&quot;2.5%&quot;</td><td>147857.0</td><td>3.0</td></tr><tr><td>&quot;5%&quot;</td><td>297408.0</td><td>3.0</td></tr><tr><td>&quot;10%&quot;</td><td>592753.0</td><td>3.0</td></tr><tr><td>&quot;25%&quot;</td><td>1.487722e6</td><td>3.0</td></tr><tr><td>&quot;50%&quot;</td><td>2.978286e6</td><td>3.0</td></tr><tr><td>&quot;75%&quot;</td><td>4.481678e6</td><td>3.0</td></tr><tr><td>&quot;90%&quot;</td><td>5.375132e6</td><td>9.0</td></tr><tr><td>&quot;95%&quot;</td><td>5.67638e6</td><td>15.0</td></tr><tr><td>&quot;97.5%&quot;</td><td>5.823783e6</td><td>33.0</td></tr><tr><td>&quot;99%&quot;</td><td>5.913762e6</td><td>75.0</td></tr><tr><td>&quot;max&quot;</td><td>5.971644e6</td><td>18348.0</td></tr></tbody></table></div>"
      ],
      "text/plain": [
       "shape: (17, 3)\n",
       "┌────────────┬──────────────┬───────────┐\n",
       "│ statistic  ┆ scaffold_idx ┆ molecule  │\n",
       "│ ---        ┆ ---          ┆ ---       │\n",
       "│ str        ┆ f64          ┆ f64       │\n",
       "╞════════════╪══════════════╪═══════════╡\n",
       "│ count      ┆ 123824.0     ┆ 123824.0  │\n",
       "│ null_count ┆ 0.0          ┆ 0.0       │\n",
       "│ mean       ┆ 2.9839e6     ┆ 8.941053  │\n",
       "│ std        ┆ 1.7255e6     ┆ 116.27334 │\n",
       "│ min        ┆ 12.0         ┆ 3.0       │\n",
       "│ 1%         ┆ 59703.0      ┆ 3.0       │\n",
       "│ 2.5%       ┆ 147857.0     ┆ 3.0       │\n",
       "│ 5%         ┆ 297408.0     ┆ 3.0       │\n",
       "│ 10%        ┆ 592753.0     ┆ 3.0       │\n",
       "│ 25%        ┆ 1.487722e6   ┆ 3.0       │\n",
       "│ 50%        ┆ 2.978286e6   ┆ 3.0       │\n",
       "│ 75%        ┆ 4.481678e6   ┆ 3.0       │\n",
       "│ 90%        ┆ 5.375132e6   ┆ 9.0       │\n",
       "│ 95%        ┆ 5.67638e6    ┆ 15.0      │\n",
       "│ 97.5%      ┆ 5.823783e6   ┆ 33.0      │\n",
       "│ 99%        ┆ 5.913762e6   ┆ 75.0      │\n",
       "│ max        ┆ 5.971644e6   ┆ 18348.0   │\n",
       "└────────────┴──────────────┴───────────┘"
      ]
     },
     "execution_count": 180,
     "metadata": {},
     "output_type": "execute_result"
    }
   ],
   "source": [
    "test2_mol_per_scaffold = test2_df.group_by('scaffold_idx').agg(\n",
    "    pl.col('molecule').count()\n",
    ").sort('molecule')\n",
    "display(test2_mol_per_scaffold)\n",
    "test2_mol_per_scaffold.describe(percentiles=PERCENTILES)"
   ]
  },
  {
   "cell_type": "code",
   "execution_count": 181,
   "id": "204cf13e-b637-41d7-b8d1-218143f182d2",
   "metadata": {},
   "outputs": [
    {
     "data": {
      "text/plain": [
       "123824"
      ]
     },
     "execution_count": 181,
     "metadata": {},
     "output_type": "execute_result"
    }
   ],
   "source": [
    "107916 + 15908"
   ]
  },
  {
   "cell_type": "code",
   "execution_count": 185,
   "id": "876444e6-94df-4079-a704-679761a5fa42",
   "metadata": {},
   "outputs": [],
   "source": [
    "# after_bb_train_df = pl.concat([train_df, test2_df.with_columns(binds=pl.lit(2))], how = 'align')\n",
    "# after_bb_train_df"
   ]
  },
  {
   "cell_type": "code",
   "execution_count": 190,
   "id": "a556b526-a1e5-406f-9c00-70965e5dfa1a",
   "metadata": {},
   "outputs": [
    {
     "data": {
      "text/html": [
       "<div><style>\n",
       ".dataframe > thead > tr,\n",
       ".dataframe > tbody > tr {\n",
       "  text-align: right;\n",
       "  white-space: pre-wrap;\n",
       "}\n",
       "</style>\n",
       "<small>shape: (1, 7)</small><table border=\"1\" class=\"dataframe\"><thead><tr><th>molecule</th><th>id</th><th>bb1</th><th>bb2</th><th>bb3</th><th>protein</th><th>scaffold_idx</th></tr><tr><td>u32</td><td>u32</td><td>u32</td><td>u32</td><td>u32</td><td>u32</td><td>u32</td></tr></thead><tbody><tr><td>369039</td><td>369039</td><td>271</td><td>693</td><td>871</td><td>1</td><td>123824</td></tr></tbody></table></div>"
      ],
      "text/plain": [
       "shape: (1, 7)\n",
       "┌──────────┬────────┬─────┬─────┬─────┬─────────┬──────────────┐\n",
       "│ molecule ┆ id     ┆ bb1 ┆ bb2 ┆ bb3 ┆ protein ┆ scaffold_idx │\n",
       "│ ---      ┆ ---    ┆ --- ┆ --- ┆ --- ┆ ---     ┆ ---          │\n",
       "│ u32      ┆ u32    ┆ u32 ┆ u32 ┆ u32 ┆ u32     ┆ u32          │\n",
       "╞══════════╪════════╪═════╪═════╪═════╪═════════╪══════════════╡\n",
       "│ 369039   ┆ 369039 ┆ 271 ┆ 693 ┆ 871 ┆ 1       ┆ 123824       │\n",
       "└──────────┴────────┴─────┴─────┴─────┴─────────┴──────────────┘"
      ]
     },
     "execution_count": 190,
     "metadata": {},
     "output_type": "execute_result"
    }
   ],
   "source": [
    "test2_df.select(pl.col('*').n_unique())"
   ]
  },
  {
   "cell_type": "code",
   "execution_count": null,
   "id": "2923a610-3987-45df-973a-1ca3175c838f",
   "metadata": {},
   "outputs": [],
   "source": []
  },
  {
   "cell_type": "code",
   "execution_count": null,
   "id": "b5cc90e8-24e3-4cd1-b083-528b02864d6e",
   "metadata": {},
   "outputs": [],
   "source": []
  },
  {
   "cell_type": "code",
   "execution_count": 103,
   "id": "b6db2c2f-dd8f-4a58-86bb-2ee57d0ecc9d",
   "metadata": {},
   "outputs": [
    {
     "data": {
      "text/plain": [
       "1.823408947700063"
      ]
     },
     "execution_count": 103,
     "metadata": {},
     "output_type": "execute_result"
    }
   ],
   "source": [
    "196775 / 107916"
   ]
  },
  {
   "cell_type": "code",
   "execution_count": 104,
   "id": "bbb84e95-862f-4881-9b22-9800a004c5a1",
   "metadata": {},
   "outputs": [
    {
     "data": {
      "text/plain": [
       "17.230006689574505"
      ]
     },
     "execution_count": 104,
     "metadata": {},
     "output_type": "execute_result"
    }
   ],
   "source": [
    "98_415_610 / 5_711_873"
   ]
  },
  {
   "cell_type": "code",
   "execution_count": 109,
   "id": "e7f9ce9e-158f-4544-8ce3-d24777af4fc3",
   "metadata": {},
   "outputs": [
    {
     "data": {
      "text/plain": [
       "0.002785075928683989"
      ]
     },
     "execution_count": 109,
     "metadata": {},
     "output_type": "execute_result"
    }
   ],
   "source": [
    "15908 / 5711873"
   ]
  },
  {
   "cell_type": "markdown",
   "id": "b3498a80-4bb2-4ac3-9715-611d1eefe8e0",
   "metadata": {},
   "source": [
    "Hmm.., seem like test2 is not constructed from a scaffold split, since test2_only_scaffold is just 15908 << 107916, and is 0.2785% of train scaffolds"
   ]
  },
  {
   "cell_type": "code",
   "execution_count": null,
   "id": "1b61d08f-12a9-4153-b19f-c4ec854cde8f",
   "metadata": {},
   "outputs": [],
   "source": []
  },
  {
   "cell_type": "code",
   "execution_count": null,
   "id": "7258dffc-54de-408c-98af-6a67b21c1866",
   "metadata": {},
   "outputs": [],
   "source": []
  },
  {
   "cell_type": "code",
   "execution_count": null,
   "id": "1c134cae-0b39-4669-8459-f4601e1fb0ae",
   "metadata": {},
   "outputs": [],
   "source": []
  },
  {
   "cell_type": "code",
   "execution_count": null,
   "id": "affaa58a-f5e9-41de-8226-5b4512757aaf",
   "metadata": {},
   "outputs": [],
   "source": []
  },
  {
   "cell_type": "code",
   "execution_count": null,
   "id": "ceca3a83-ce91-43fa-82d0-7deaf87a791e",
   "metadata": {},
   "outputs": [],
   "source": []
  },
  {
   "cell_type": "code",
   "execution_count": null,
   "id": "59259f2c-fb0b-4a7b-93e0-66f6138f9869",
   "metadata": {},
   "outputs": [],
   "source": []
  },
  {
   "cell_type": "code",
   "execution_count": null,
   "id": "6c7952c6-4f1b-4115-b025-47ecb93e2de3",
   "metadata": {},
   "outputs": [],
   "source": []
  },
  {
   "cell_type": "code",
   "execution_count": null,
   "id": "d08d8aa0-ce91-4b42-8bce-984e796d1ae1",
   "metadata": {},
   "outputs": [],
   "source": []
  },
  {
   "cell_type": "code",
   "execution_count": 91,
   "id": "af32b9ba-57e0-4ce9-8ef8-95caf6f56caf",
   "metadata": {},
   "outputs": [
    {
     "data": {
      "text/plain": [
       "0.021504504739513642"
      ]
     },
     "execution_count": 91,
     "metadata": {},
     "output_type": "execute_result"
    }
   ],
   "source": [
    "122831 / 5711873"
   ]
  },
  {
   "cell_type": "code",
   "execution_count": null,
   "id": "281055ab-6586-4b1c-b5e0-26eb3c75fdee",
   "metadata": {},
   "outputs": [],
   "source": []
  },
  {
   "cell_type": "code",
   "execution_count": 93,
   "id": "e504ebac-43ac-44f0-9eb3-848e28ae4ff0",
   "metadata": {},
   "outputs": [
    {
     "data": {
      "text/plain": [
       "0.011249404438990928"
      ]
     },
     "execution_count": 93,
     "metadata": {},
     "output_type": "execute_result"
    }
   ],
   "source": [
    "1107117 / 98_415_610"
   ]
  },
  {
   "cell_type": "code",
   "execution_count": null,
   "id": "1e707d59-9a13-4f26-bf6e-1c0078799830",
   "metadata": {},
   "outputs": [],
   "source": []
  },
  {
   "cell_type": "code",
   "execution_count": null,
   "id": "db937966-dba5-4c31-aec9-cd0fbbb80e31",
   "metadata": {},
   "outputs": [],
   "source": []
  },
  {
   "cell_type": "code",
   "execution_count": null,
   "id": "0e9a9a3b-043b-4377-ad5e-f36938b32104",
   "metadata": {},
   "outputs": [],
   "source": [
    "123824 / "
   ]
  },
  {
   "cell_type": "code",
   "execution_count": 85,
   "id": "2ee5accd-f7f1-44a6-a249-36224d1eb6ef",
   "metadata": {},
   "outputs": [
    {
     "data": {
      "text/plain": [
       "994"
      ]
     },
     "execution_count": 85,
     "metadata": {},
     "output_type": "execute_result"
    }
   ],
   "source": [
    "123824 + 245841 - 368_671"
   ]
  },
  {
   "cell_type": "code",
   "execution_count": 86,
   "id": "0e13277a-619d-4068-b8fa-491a63e367b5",
   "metadata": {},
   "outputs": [
    {
     "data": {
      "text/plain": [
       "0.5036751396227643"
      ]
     },
     "execution_count": 86,
     "metadata": {},
     "output_type": "execute_result"
    }
   ],
   "source": [
    "123824 / 245841"
   ]
  },
  {
   "cell_type": "code",
   "execution_count": null,
   "id": "b7dd45c7-ea80-43fd-9e2e-88c62501c0a6",
   "metadata": {},
   "outputs": [],
   "source": []
  },
  {
   "cell_type": "code",
   "execution_count": null,
   "id": "8fc961cf-d6e0-4757-8b88-f4ab6c54d029",
   "metadata": {},
   "outputs": [],
   "source": []
  },
  {
   "cell_type": "code",
   "execution_count": null,
   "id": "ff8634ef-e971-4ad1-8314-2be0fe0ae7eb",
   "metadata": {},
   "outputs": [],
   "source": []
  },
  {
   "cell_type": "code",
   "execution_count": null,
   "id": "dd44b16b-70f6-4c6e-8f16-9bf916fd1a25",
   "metadata": {},
   "outputs": [],
   "source": []
  },
  {
   "cell_type": "code",
   "execution_count": null,
   "id": "bcbfebdb-d2fc-42c1-aac9-adc4576d796c",
   "metadata": {},
   "outputs": [],
   "source": []
  },
  {
   "cell_type": "code",
   "execution_count": null,
   "id": "e47873f9-bea5-4387-a2fa-7ea8ec1e0c0d",
   "metadata": {},
   "outputs": [],
   "source": []
  },
  {
   "cell_type": "code",
   "execution_count": null,
   "id": "d620f3dd-8f71-481e-b26e-1c15b3e07ab9",
   "metadata": {},
   "outputs": [],
   "source": []
  },
  {
   "cell_type": "code",
   "execution_count": null,
   "id": "7a380172-c387-4ff7-a6db-f2d4c59823b7",
   "metadata": {},
   "outputs": [],
   "source": []
  },
  {
   "cell_type": "code",
   "execution_count": null,
   "id": "e7a65375-aaa7-474b-b600-de550626b840",
   "metadata": {},
   "outputs": [],
   "source": []
  },
  {
   "cell_type": "code",
   "execution_count": null,
   "id": "417aa371-fe13-4727-8ab4-8b53eddacba4",
   "metadata": {},
   "outputs": [],
   "source": []
  },
  {
   "cell_type": "code",
   "execution_count": null,
   "id": "f4ecffde-2ee0-4b13-9c76-a3a227ad6c82",
   "metadata": {},
   "outputs": [],
   "source": []
  },
  {
   "cell_type": "code",
   "execution_count": null,
   "id": "8a1ae275-4080-4ec0-8ab0-1869cbe8a8a9",
   "metadata": {},
   "outputs": [],
   "source": []
  },
  {
   "cell_type": "code",
   "execution_count": null,
   "id": "e0e4b62f-9a73-4cc3-9355-04671c27425c",
   "metadata": {},
   "outputs": [],
   "source": []
  },
  {
   "cell_type": "code",
   "execution_count": null,
   "id": "4fe44c0b-d48d-4b94-b104-028a239fb50c",
   "metadata": {},
   "outputs": [],
   "source": []
  },
  {
   "cell_type": "code",
   "execution_count": null,
   "id": "3449e4de-896a-4b0d-96d9-1826438bb7e3",
   "metadata": {},
   "outputs": [],
   "source": []
  },
  {
   "cell_type": "code",
   "execution_count": null,
   "id": "2bd83a68-6951-4e86-9a94-7763d186e023",
   "metadata": {},
   "outputs": [],
   "source": []
  }
 ],
 "metadata": {
  "kernelspec": {
   "display_name": "Python 3 (ipykernel)",
   "language": "python",
   "name": "python3"
  },
  "language_info": {
   "codemirror_mode": {
    "name": "ipython",
    "version": 3
   },
   "file_extension": ".py",
   "mimetype": "text/x-python",
   "name": "python",
   "nbconvert_exporter": "python",
   "pygments_lexer": "ipython3",
   "version": "3.10.13"
  }
 },
 "nbformat": 4,
 "nbformat_minor": 5
}
