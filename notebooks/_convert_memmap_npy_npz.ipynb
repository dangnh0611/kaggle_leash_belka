{
 "cells": [
  {
   "cell_type": "code",
   "execution_count": 10,
   "id": "5034f1fd-6732-4105-ba9f-0138d8fb6d6c",
   "metadata": {},
   "outputs": [],
   "source": [
    "import pandas as pd\n",
    "import numpy as np\n",
    "import os\n",
    "import sys\n",
    "import polars as pl\n",
    "import json\n",
    "from joblib import Parallel, delayed\n",
    "import deepchem\n",
    "from tqdm import tqdm\n",
    "import warnings\n",
    "warnings.filterwarnings(\"ignore\")\n",
    "\n",
    "# Configure Polars \n",
    "cfg = pl.Config()\n",
    "cfg.set_tbl_rows(20)\n",
    "cfg.set_tbl_cols(50)\n",
    "from sklearn.model_selection import StratifiedGroupKFold, GroupKFold, KFold, GroupShuffleSplit, ShuffleSplit, StratifiedKFold\n",
    "import gc\n",
    "import random"
   ]
  },
  {
   "cell_type": "code",
   "execution_count": 2,
   "id": "bfa66905-85ae-4e96-bf65-111e2541f972",
   "metadata": {},
   "outputs": [
    {
     "name": "stdout",
     "output_type": "stream",
     "text": [
      "cv\t  meta\t\t     test_v2.csv\t train_v2.csv\n",
      "features  test_scaffold.csv  train_scaffold.csv  train_v2_preview.csv\n"
     ]
    }
   ],
   "source": [
    "!ls /home/dangnh36/datasets/competitions/leash_belka/processed"
   ]
  },
  {
   "cell_type": "code",
   "execution_count": null,
   "id": "e5f47c3d-61ef-4ce8-aae0-4f61ffe78188",
   "metadata": {},
   "outputs": [],
   "source": []
  },
  {
   "cell_type": "code",
   "execution_count": 7,
   "id": "8b3423d4-51ad-439b-ac68-189f591a8733",
   "metadata": {},
   "outputs": [],
   "source": [
    "NUM_SAMPLES = 98415610\n",
    "NUM_FEATURES = 256\n",
    "DTYPE = np.uint8"
   ]
  },
  {
   "cell_type": "code",
   "execution_count": 7,
   "id": "02c7e5b2-7bc8-4410-9fa7-e132bafcd57d",
   "metadata": {},
   "outputs": [
    {
     "data": {
      "text/plain": [
       "(98415610, 256)"
      ]
     },
     "execution_count": 7,
     "metadata": {},
     "output_type": "execute_result"
    }
   ],
   "source": [
    "data = np.memmap('/home/dangnh36/datasets/competitions/leash_belka/processed/features/train_ecfp6_2048.mmap',\n",
    "                       dtype=np.uint8,\n",
    "                       mode='r',\n",
    "                       shape=(NUM_SAMPLES, NUM_FEATURES))\n",
    "data = np.asarray(data).copy()\n",
    "data.shape"
   ]
  },
  {
   "cell_type": "code",
   "execution_count": 9,
   "id": "001a4a95-b86e-45ba-a397-75b3f1946424",
   "metadata": {},
   "outputs": [],
   "source": [
    "np.save('/home/dangnh36/datasets/competitions/leash_belka/processed/features/train_ecfp6_2048.npz', data)"
   ]
  },
  {
   "cell_type": "code",
   "execution_count": 25,
   "id": "75bc2216-162c-4bbd-a319-26e3e44dccb3",
   "metadata": {},
   "outputs": [],
   "source": [
    "np.savez('/home/dangnh36/datasets/competitions/leash_belka/processed/features/train_ecfp6_2048_z', data = data)"
   ]
  },
  {
   "cell_type": "code",
   "execution_count": 10,
   "id": "02e39af3-6f16-4dad-8f52-e1d5961eb5d6",
   "metadata": {},
   "outputs": [],
   "source": [
    "np.savez_compressed('/home/dangnh36/datasets/competitions/leash_belka/processed/features/train_ecfp6_2048_zcompressed', data = data)"
   ]
  },
  {
   "cell_type": "code",
   "execution_count": null,
   "id": "7f03158a-fdb3-48fb-9afe-70e3282015ac",
   "metadata": {},
   "outputs": [],
   "source": []
  },
  {
   "cell_type": "code",
   "execution_count": null,
   "id": "dc129c22-8a52-442d-820c-c6d518dc5d73",
   "metadata": {},
   "outputs": [],
   "source": []
  },
  {
   "cell_type": "code",
   "execution_count": 11,
   "id": "66917b39-8b69-450b-9819-69e3b0d339d2",
   "metadata": {},
   "outputs": [
    {
     "data": {
      "text/plain": [
       "(878022, 256)"
      ]
     },
     "execution_count": 11,
     "metadata": {},
     "output_type": "execute_result"
    }
   ],
   "source": [
    "data = np.memmap('/home/dangnh36/datasets/competitions/leash_belka/processed/features/test_ecfp6_2048_256_uint8.mmap',\n",
    "                       dtype=np.uint8,\n",
    "                       mode='r',\n",
    "                       shape=(878_022, NUM_FEATURES))\n",
    "data = np.asarray(data).copy()\n",
    "data.shape"
   ]
  },
  {
   "cell_type": "code",
   "execution_count": 12,
   "id": "f6781b9f-f126-42d8-8254-d055315dd403",
   "metadata": {},
   "outputs": [],
   "source": [
    "np.save('/home/dangnh36/datasets/competitions/leash_belka/processed/features/test_ecfp6_2048_256_uint8.npy', data)"
   ]
  },
  {
   "cell_type": "code",
   "execution_count": null,
   "id": "d8cfefb9-9c02-4294-b645-ff7d729a2c0c",
   "metadata": {},
   "outputs": [],
   "source": []
  },
  {
   "cell_type": "code",
   "execution_count": 11,
   "id": "d2f6400f-f832-4ea0-b703-4dfb32d8705b",
   "metadata": {},
   "outputs": [
    {
     "name": "stdout",
     "output_type": "stream",
     "text": [
      "CPU times: user 0 ns, sys: 8.38 s, total: 8.38 s\n",
      "Wall time: 8.38 s\n"
     ]
    },
    {
     "data": {
      "text/plain": [
       "(98415610, 256)"
      ]
     },
     "execution_count": 11,
     "metadata": {},
     "output_type": "execute_result"
    }
   ],
   "source": [
    "%%time\n",
    "data = np.load('/home/dangnh36/datasets/competitions/leash_belka/processed/features/train_ecfp6_2048.npy')\n",
    "data.shape"
   ]
  },
  {
   "cell_type": "code",
   "execution_count": 10,
   "id": "0953d64e-fe06-4653-9f54-470b15948b0b",
   "metadata": {},
   "outputs": [
    {
     "name": "stdout",
     "output_type": "stream",
     "text": [
      "CPU times: user 109 µs, sys: 8.37 s, total: 8.37 s\n",
      "Wall time: 8.37 s\n"
     ]
    },
    {
     "data": {
      "text/plain": [
       "(98415610, 256)"
      ]
     },
     "execution_count": 10,
     "metadata": {},
     "output_type": "execute_result"
    }
   ],
   "source": [
    "%%time\n",
    "data = np.load('/home/dangnh36/datasets/competitions/leash_belka/processed/features/train_ecfp6_2048.npz.npy')\n",
    "data.shape"
   ]
  },
  {
   "cell_type": "code",
   "execution_count": null,
   "id": "837259fd-fa3b-4d1f-aa8d-cc4c0edb96d1",
   "metadata": {},
   "outputs": [],
   "source": []
  },
  {
   "cell_type": "code",
   "execution_count": null,
   "id": "e75ac91b-3364-4702-b53f-74043d7ef514",
   "metadata": {},
   "outputs": [],
   "source": []
  },
  {
   "cell_type": "code",
   "execution_count": 6,
   "id": "00cfc96b-5628-401d-9007-7a264660f282",
   "metadata": {},
   "outputs": [
    {
     "name": "stdout",
     "output_type": "stream",
     "text": [
      "CPU times: user 11.3 s, sys: 11.9 s, total: 23.3 s\n",
      "Wall time: 1min\n"
     ]
    },
    {
     "data": {
      "text/plain": [
       "(98415610, 256)"
      ]
     },
     "execution_count": 6,
     "metadata": {},
     "output_type": "execute_result"
    }
   ],
   "source": [
    "%%time\n",
    "data = np.load('/home/dangnh36/datasets/competitions/leash_belka/processed/features/train_ecfp6_2048_z.npz')['data']\n",
    "data.shape"
   ]
  },
  {
   "cell_type": "code",
   "execution_count": 7,
   "id": "f516dc29-bd6e-4a56-8ed2-cdb2ee81942c",
   "metadata": {},
   "outputs": [
    {
     "name": "stdout",
     "output_type": "stream",
     "text": [
      "CPU times: user 1min 16s, sys: 9.59 s, total: 1min 25s\n",
      "Wall time: 1min 29s\n"
     ]
    },
    {
     "data": {
      "text/plain": [
       "(98415610, 256)"
      ]
     },
     "execution_count": 7,
     "metadata": {},
     "output_type": "execute_result"
    }
   ],
   "source": [
    "%%time\n",
    "data = np.load('/home/dangnh36/datasets/competitions/leash_belka/processed/features/train_ecfp6_2048_zcompressed.npz')['data']\n",
    "data.shape"
   ]
  },
  {
   "cell_type": "code",
   "execution_count": null,
   "id": "6a568f65-d9b3-4f2c-946f-da3ca5f342c3",
   "metadata": {},
   "outputs": [],
   "source": []
  },
  {
   "cell_type": "code",
   "execution_count": null,
   "id": "bd8aa5b6-4ea6-4f73-bdff-56a280c6246c",
   "metadata": {},
   "outputs": [],
   "source": []
  },
  {
   "cell_type": "code",
   "execution_count": null,
   "id": "f0536c48-39ff-477a-a091-9838af941a72",
   "metadata": {},
   "outputs": [],
   "source": []
  },
  {
   "cell_type": "code",
   "execution_count": 3,
   "id": "cd4a7f58-1c88-4181-ab69-b0239ef70762",
   "metadata": {},
   "outputs": [
    {
     "name": "stdout",
     "output_type": "stream",
     "text": [
      "CPU times: user 6.84 ms, sys: 35.8 s, total: 35.8 s\n",
      "Wall time: 1min 20s\n"
     ]
    },
    {
     "data": {
      "text/plain": [
       "(98415610, 256)"
      ]
     },
     "execution_count": 3,
     "metadata": {},
     "output_type": "execute_result"
    }
   ],
   "source": [
    "%%time\n",
    "data = np.load('/home/dangnh36/datasets/competitions/leash_belka/processed/features/train_ecfp6_2048_256_uint8.npy')\n",
    "data.shape"
   ]
  },
  {
   "cell_type": "code",
   "execution_count": 4,
   "id": "c68dce59-8b6d-4fdb-92bf-318d08d9f6a3",
   "metadata": {},
   "outputs": [
    {
     "data": {
      "text/plain": [
       "0.3255673423926982"
      ]
     },
     "execution_count": 4,
     "metadata": {},
     "output_type": "execute_result"
    }
   ],
   "source": [
    "(data!=0).mean()"
   ]
  },
  {
   "cell_type": "code",
   "execution_count": 5,
   "id": "c58ad412-56b8-421a-bc2e-d32908522476",
   "metadata": {},
   "outputs": [
    {
     "data": {
      "text/plain": [
       "0.3255673423926982"
      ]
     },
     "execution_count": 5,
     "metadata": {},
     "output_type": "execute_result"
    }
   ],
   "source": [
    "8202472601 / (98415610 * 256)"
   ]
  },
  {
   "cell_type": "code",
   "execution_count": null,
   "id": "635226e2-104f-415d-a321-854d81ed92ed",
   "metadata": {},
   "outputs": [],
   "source": []
  },
  {
   "cell_type": "code",
   "execution_count": null,
   "id": "65260ebd-a8ea-4baf-a85f-9b06b06e723f",
   "metadata": {},
   "outputs": [],
   "source": []
  },
  {
   "cell_type": "code",
   "execution_count": null,
   "id": "213866c1-1553-40d1-a2b9-aaf8c457bf2f",
   "metadata": {},
   "outputs": [],
   "source": []
  },
  {
   "cell_type": "code",
   "execution_count": null,
   "id": "927ebe1c-35c6-4c3e-a053-b1b34ad0c04e",
   "metadata": {},
   "outputs": [],
   "source": []
  },
  {
   "cell_type": "code",
   "execution_count": null,
   "id": "ba46ce27-4cfd-4612-9791-58f71f1aa7eb",
   "metadata": {},
   "outputs": [],
   "source": []
  },
  {
   "cell_type": "code",
   "execution_count": null,
   "id": "a0864896-df4e-4bc2-9869-3dfe9d54f5ac",
   "metadata": {},
   "outputs": [],
   "source": []
  },
  {
   "cell_type": "code",
   "execution_count": null,
   "id": "236bf73b-c256-4bf1-99d2-87be1b25ee72",
   "metadata": {},
   "outputs": [],
   "source": []
  },
  {
   "cell_type": "code",
   "execution_count": null,
   "id": "bc64cfff-ee0a-4541-b8af-e5bbb46f1df2",
   "metadata": {},
   "outputs": [],
   "source": []
  },
  {
   "cell_type": "code",
   "execution_count": null,
   "id": "693985b1-5ec5-4484-b170-72ab1d85887a",
   "metadata": {},
   "outputs": [],
   "source": []
  },
  {
   "cell_type": "code",
   "execution_count": null,
   "id": "4a29c2e6-6c6d-4f7b-9bb4-f8fb8d5732e9",
   "metadata": {},
   "outputs": [],
   "source": []
  },
  {
   "cell_type": "code",
   "execution_count": null,
   "id": "88b7f301-aa6c-4c8c-ab65-3ad71e7428d2",
   "metadata": {},
   "outputs": [],
   "source": []
  },
  {
   "cell_type": "code",
   "execution_count": null,
   "id": "9a396ed6-f71e-437c-92d7-2b4ee06f943b",
   "metadata": {},
   "outputs": [],
   "source": []
  },
  {
   "cell_type": "code",
   "execution_count": null,
   "id": "21caf576-3ad9-461e-a374-f75f1eb91c17",
   "metadata": {},
   "outputs": [],
   "source": []
  },
  {
   "cell_type": "code",
   "execution_count": null,
   "id": "77fbbe07-7306-446c-9a57-44a05412ac51",
   "metadata": {},
   "outputs": [],
   "source": []
  },
  {
   "cell_type": "code",
   "execution_count": null,
   "id": "9013b36a-fb0f-4a82-8844-f36fee4cf662",
   "metadata": {},
   "outputs": [],
   "source": []
  },
  {
   "cell_type": "code",
   "execution_count": null,
   "id": "dc4c115a-07c9-425a-9bc2-9ac04cb9c4a4",
   "metadata": {},
   "outputs": [],
   "source": []
  },
  {
   "cell_type": "code",
   "execution_count": null,
   "id": "ad8b02d6-4bef-474d-962f-265faa9dc401",
   "metadata": {},
   "outputs": [],
   "source": []
  },
  {
   "cell_type": "code",
   "execution_count": null,
   "id": "0ad0a7d5-c665-45ad-97f6-11e631c1a1dc",
   "metadata": {},
   "outputs": [],
   "source": []
  },
  {
   "cell_type": "code",
   "execution_count": null,
   "id": "eb1bb0c7-389b-4f10-9e19-d14025934382",
   "metadata": {},
   "outputs": [],
   "source": []
  },
  {
   "cell_type": "code",
   "execution_count": null,
   "id": "627d4069-045d-417a-981b-711c338316e0",
   "metadata": {},
   "outputs": [],
   "source": []
  },
  {
   "cell_type": "code",
   "execution_count": null,
   "id": "6c441f5b-955d-401c-a91f-4ea624e4e686",
   "metadata": {},
   "outputs": [],
   "source": []
  }
 ],
 "metadata": {
  "kernelspec": {
   "display_name": "Python 3 (ipykernel)",
   "language": "python",
   "name": "python3"
  },
  "language_info": {
   "codemirror_mode": {
    "name": "ipython",
    "version": 3
   },
   "file_extension": ".py",
   "mimetype": "text/x-python",
   "name": "python",
   "nbconvert_exporter": "python",
   "pygments_lexer": "ipython3",
   "version": "3.10.13"
  }
 },
 "nbformat": 4,
 "nbformat_minor": 5
}
