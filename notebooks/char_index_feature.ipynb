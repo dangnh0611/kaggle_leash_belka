{
 "cells": [
  {
   "cell_type": "code",
   "execution_count": 1,
   "id": "491e9b7b",
   "metadata": {},
   "outputs": [
    {
     "name": "stderr",
     "output_type": "stream",
     "text": [
      "No normalization for SPS. Feature removed!\n",
      "No normalization for AvgIpc. Feature removed!\n",
      "/opt/conda/lib/python3.10/site-packages/tqdm/auto.py:21: TqdmWarning: IProgress not found. Please update jupyter and ipywidgets. See https://ipywidgets.readthedocs.io/en/stable/user_install.html\n",
      "  from .autonotebook import tqdm as notebook_tqdm\n",
      "Skipped loading some Tensorflow models, missing a dependency. No module named 'tensorflow'\n",
      "Skipped loading modules with pytorch-geometric dependency, missing a dependency. No module named 'torch_geometric'\n",
      "Skipped loading modules with pytorch-geometric dependency, missing a dependency. cannot import name 'DMPNN' from 'deepchem.models.torch_models' (/opt/conda/lib/python3.10/site-packages/deepchem/models/torch_models/__init__.py)\n",
      "Skipped loading some Jax models, missing a dependency. No module named 'jax'\n",
      "Skipped loading some PyTorch models, missing a dependency. No module named 'tensorflow'\n"
     ]
    },
    {
     "data": {
      "text/plain": [
       "polars.config.Config"
      ]
     },
     "execution_count": 1,
     "metadata": {},
     "output_type": "execute_result"
    }
   ],
   "source": [
    "import pandas as pd\n",
    "import numpy as np\n",
    "import os\n",
    "import sys\n",
    "import polars as pl\n",
    "import json\n",
    "from joblib import Parallel, delayed\n",
    "import deepchem\n",
    "from tqdm import tqdm\n",
    "import warnings\n",
    "warnings.filterwarnings(\"ignore\")\n",
    "from sklearn.model_selection import StratifiedGroupKFold, GroupKFold, KFold, GroupShuffleSplit, ShuffleSplit\n",
    "import gc\n",
    "import random\n",
    "from functools import partial\n",
    "import catboost\n",
    "from catboost import FeaturesData, Pool, CatBoost, CatBoostClassifier, CatBoostRegressor, CatBoostRanker\n",
    "import time\n",
    "import math\n",
    "from sklearn.metrics import average_precision_score\n",
    "\n",
    "from functools import partial\n",
    "import mapply\n",
    "\n",
    "# Configure Polars \n",
    "cfg = pl.Config()\n",
    "cfg.set_tbl_rows(20)\n",
    "cfg.set_tbl_cols(50)"
   ]
  },
  {
   "cell_type": "code",
   "execution_count": null,
   "id": "94960808-f42b-46be-9250-8285a4f7336d",
   "metadata": {},
   "outputs": [],
   "source": []
  },
  {
   "cell_type": "code",
   "execution_count": null,
   "id": "1034d225-9a0f-4da3-959d-e0b817f3d7c9",
   "metadata": {},
   "outputs": [],
   "source": []
  },
  {
   "cell_type": "code",
   "execution_count": 10,
   "id": "6838a8e2-6343-47f2-a39e-67ba2ed96a8e",
   "metadata": {},
   "outputs": [
    {
     "data": {
      "text/plain": [
       "array([[  363110],\n",
       "       [  363118],\n",
       "       [  363119],\n",
       "       ...,\n",
       "       [98414880],\n",
       "       [98414881],\n",
       "       [98414886]])"
      ]
     },
     "execution_count": 10,
     "metadata": {},
     "output_type": "execute_result"
    }
   ],
   "source": [
    "df = pl.scan_csv('/home/dangnh36/datasets/competitions/leash_belka/processed/cv/v1/train.csv').select('index').collect().to_numpy()\n",
    "df"
   ]
  },
  {
   "cell_type": "code",
   "execution_count": 7,
   "id": "745b0d27-c729-4643-9a28-21cd3de8c41c",
   "metadata": {},
   "outputs": [
    {
     "data": {
      "text/html": [
       "<div><style>\n",
       ".dataframe > thead > tr,\n",
       ".dataframe > tbody > tr {\n",
       "  text-align: right;\n",
       "  white-space: pre-wrap;\n",
       "}\n",
       "</style>\n",
       "<small>shape: (31_705_451, 3)</small><table border=\"1\" class=\"dataframe\"><thead><tr><th>index</th><th>label</th><th>subset</th></tr><tr><td>i64</td><td>i64</td><td>i64</td></tr></thead><tbody><tr><td>0</td><td>0</td><td>1</td></tr><tr><td>1</td><td>0</td><td>1</td></tr><tr><td>2</td><td>0</td><td>1</td></tr><tr><td>3</td><td>0</td><td>1</td></tr><tr><td>4</td><td>0</td><td>1</td></tr><tr><td>5</td><td>0</td><td>1</td></tr><tr><td>6</td><td>0</td><td>1</td></tr><tr><td>7</td><td>0</td><td>1</td></tr><tr><td>8</td><td>0</td><td>1</td></tr><tr><td>9</td><td>0</td><td>1</td></tr><tr><td>&hellip;</td><td>&hellip;</td><td>&hellip;</td></tr><tr><td>98358442</td><td>0</td><td>3</td></tr><tr><td>98366593</td><td>0</td><td>3</td></tr><tr><td>98367281</td><td>0</td><td>3</td></tr><tr><td>98367317</td><td>0</td><td>3</td></tr><tr><td>98391952</td><td>0</td><td>3</td></tr><tr><td>98392959</td><td>0</td><td>3</td></tr><tr><td>98406691</td><td>0</td><td>3</td></tr><tr><td>98409910</td><td>0</td><td>3</td></tr><tr><td>98411447</td><td>0</td><td>3</td></tr><tr><td>98412085</td><td>0</td><td>3</td></tr></tbody></table></div>"
      ],
      "text/plain": [
       "shape: (31_705_451, 3)\n",
       "┌──────────┬───────┬────────┐\n",
       "│ index    ┆ label ┆ subset │\n",
       "│ ---      ┆ ---   ┆ ---    │\n",
       "│ i64      ┆ i64   ┆ i64    │\n",
       "╞══════════╪═══════╪════════╡\n",
       "│ 0        ┆ 0     ┆ 1      │\n",
       "│ 1        ┆ 0     ┆ 1      │\n",
       "│ 2        ┆ 0     ┆ 1      │\n",
       "│ 3        ┆ 0     ┆ 1      │\n",
       "│ 4        ┆ 0     ┆ 1      │\n",
       "│ 5        ┆ 0     ┆ 1      │\n",
       "│ 6        ┆ 0     ┆ 1      │\n",
       "│ 7        ┆ 0     ┆ 1      │\n",
       "│ 8        ┆ 0     ┆ 1      │\n",
       "│ 9        ┆ 0     ┆ 1      │\n",
       "│ …        ┆ …     ┆ …      │\n",
       "│ 98358442 ┆ 0     ┆ 3      │\n",
       "│ 98366593 ┆ 0     ┆ 3      │\n",
       "│ 98367281 ┆ 0     ┆ 3      │\n",
       "│ 98367317 ┆ 0     ┆ 3      │\n",
       "│ 98391952 ┆ 0     ┆ 3      │\n",
       "│ 98392959 ┆ 0     ┆ 3      │\n",
       "│ 98406691 ┆ 0     ┆ 3      │\n",
       "│ 98409910 ┆ 0     ┆ 3      │\n",
       "│ 98411447 ┆ 0     ┆ 3      │\n",
       "│ 98412085 ┆ 0     ┆ 3      │\n",
       "└──────────┴───────┴────────┘"
      ]
     },
     "execution_count": 7,
     "metadata": {},
     "output_type": "execute_result"
    }
   ],
   "source": [
    "df = pl.scan_csv('/home/dangnh36/datasets/competitions/leash_belka/processed/cv/v1/val.csv').collect()\n",
    "df"
   ]
  },
  {
   "cell_type": "code",
   "execution_count": 8,
   "id": "82926efe-dffd-4288-8966-bb6471688be1",
   "metadata": {},
   "outputs": [
    {
     "data": {
      "text/plain": [
       "array([0, 1, 2, 3, 4, 5, 6, 7, 8, 9])"
      ]
     },
     "execution_count": 8,
     "metadata": {},
     "output_type": "execute_result"
    }
   ],
   "source": [
    "arr = np.arange(0, 10)\n",
    "np.array(arr)"
   ]
  },
  {
   "cell_type": "code",
   "execution_count": null,
   "id": "d8dda095-7e08-464d-8e47-78113771d0d3",
   "metadata": {},
   "outputs": [],
   "source": []
  },
  {
   "cell_type": "code",
   "execution_count": null,
   "id": "ffc59a36-d752-4453-8048-b252cd8471f6",
   "metadata": {},
   "outputs": [],
   "source": []
  },
  {
   "cell_type": "code",
   "execution_count": null,
   "id": "4e04927c-5c91-437f-8f59-ce704cbcbb71",
   "metadata": {},
   "outputs": [],
   "source": []
  },
  {
   "cell_type": "code",
   "execution_count": 2,
   "id": "a98522c0",
   "metadata": {},
   "outputs": [],
   "source": [
    "CHAR2IDX = {'l': 1, 'y': 2, '@': 3, '3': 4, 'H': 5, 'S': 6, 'F': 7, 'C': 8, 'r': 9,\n",
    "            's': 10, '/': 11, 'c': 12, 'o': 13, '+': 14, 'I': 15, '5': 16, '(': 17,\n",
    "            '2': 18, ')': 19, '9': 20, 'i': 21, '#': 22, '6': 23, '8': 24, '4': 25,\n",
    "            '=': 26, '1': 27, 'O': 28, '[': 29, 'D': 30, 'B': 31, ']': 32, 'N': 33,\n",
    "            '7': 34, 'n': 35, '-': 36}"
   ]
  },
  {
   "cell_type": "code",
   "execution_count": 3,
   "id": "320f746e-c994-4541-aed3-3a198c80a6c9",
   "metadata": {},
   "outputs": [
    {
     "data": {
      "text/plain": [
       "(36, 1, 36)"
      ]
     },
     "execution_count": 3,
     "metadata": {},
     "output_type": "execute_result"
    }
   ],
   "source": [
    "max(CHAR2IDX.values()), min(CHAR2IDX.values()), len(CHAR2IDX)"
   ]
  },
  {
   "cell_type": "code",
   "execution_count": 4,
   "id": "86240323",
   "metadata": {},
   "outputs": [
    {
     "data": {
      "text/html": [
       "<div><style>\n",
       ".dataframe > thead > tr,\n",
       ".dataframe > tbody > tr {\n",
       "  text-align: right;\n",
       "  white-space: pre-wrap;\n",
       "}\n",
       "</style>\n",
       "<small>shape: (98_415_610, 4)</small><table border=\"1\" class=\"dataframe\"><thead><tr><th>molecule</th><th>BRD4</th><th>HSA</th><th>sEH</th></tr><tr><td>str</td><td>u8</td><td>u8</td><td>u8</td></tr></thead><tbody><tr><td>&quot;C#CCOc1ccc(CNc…</td><td>0</td><td>0</td><td>0</td></tr><tr><td>&quot;C#CCOc1ccc(CNc…</td><td>0</td><td>0</td><td>0</td></tr><tr><td>&quot;C#CCOc1ccc(CNc…</td><td>0</td><td>0</td><td>0</td></tr><tr><td>&quot;C#CCOc1ccc(CNc…</td><td>0</td><td>0</td><td>0</td></tr><tr><td>&quot;C#CCOc1ccc(CNc…</td><td>0</td><td>0</td><td>0</td></tr><tr><td>&quot;C#CCOc1ccc(CNc…</td><td>0</td><td>0</td><td>0</td></tr><tr><td>&quot;C#CCOc1ccc(CNc…</td><td>0</td><td>0</td><td>0</td></tr><tr><td>&quot;C#CCOc1ccc(CNc…</td><td>0</td><td>0</td><td>0</td></tr><tr><td>&quot;C#CCOc1ccc(CNc…</td><td>0</td><td>0</td><td>0</td></tr><tr><td>&quot;C#CCOc1ccc(CNc…</td><td>0</td><td>0</td><td>0</td></tr><tr><td>&hellip;</td><td>&hellip;</td><td>&hellip;</td><td>&hellip;</td></tr><tr><td>&quot;[N-]=[N+]=NCCC…</td><td>0</td><td>0</td><td>0</td></tr><tr><td>&quot;[N-]=[N+]=NCCC…</td><td>0</td><td>0</td><td>0</td></tr><tr><td>&quot;[N-]=[N+]=NCCC…</td><td>0</td><td>0</td><td>0</td></tr><tr><td>&quot;[N-]=[N+]=NCCC…</td><td>0</td><td>0</td><td>0</td></tr><tr><td>&quot;[N-]=[N+]=NCCC…</td><td>0</td><td>0</td><td>0</td></tr><tr><td>&quot;[N-]=[N+]=NCCC…</td><td>0</td><td>0</td><td>0</td></tr><tr><td>&quot;[N-]=[N+]=NCCC…</td><td>0</td><td>0</td><td>0</td></tr><tr><td>&quot;[N-]=[N+]=NCCC…</td><td>0</td><td>0</td><td>0</td></tr><tr><td>&quot;[N-]=[N+]=NCCC…</td><td>0</td><td>0</td><td>0</td></tr><tr><td>&quot;[N-]=[N+]=NCCC…</td><td>0</td><td>0</td><td>0</td></tr></tbody></table></div>"
      ],
      "text/plain": [
       "shape: (98_415_610, 4)\n",
       "┌───────────────────────────────────┬──────┬─────┬─────┐\n",
       "│ molecule                          ┆ BRD4 ┆ HSA ┆ sEH │\n",
       "│ ---                               ┆ ---  ┆ --- ┆ --- │\n",
       "│ str                               ┆ u8   ┆ u8  ┆ u8  │\n",
       "╞═══════════════════════════════════╪══════╪═════╪═════╡\n",
       "│ C#CCOc1ccc(CNc2nc(NCC3CCCN3c3ccc… ┆ 0    ┆ 0   ┆ 0   │\n",
       "│ C#CCOc1ccc(CNc2nc(NCc3cccc(Br)n3… ┆ 0    ┆ 0   ┆ 0   │\n",
       "│ C#CCOc1ccc(CNc2nc(NCc3ccc(OCC#C)… ┆ 0    ┆ 0   ┆ 0   │\n",
       "│ C#CCOc1ccc(CNc2nc(NCCNC(=O)C(=C)… ┆ 0    ┆ 0   ┆ 0   │\n",
       "│ C#CCOc1ccc(CNc2nc(NCC(=O)NCC=C)n… ┆ 0    ┆ 0   ┆ 0   │\n",
       "│ C#CCOc1ccc(CNc2nc(NCC(C)OCC=C)nc… ┆ 0    ┆ 0   ┆ 0   │\n",
       "│ C#CCOc1ccc(CNc2nc(NCCCOCC=C)nc(N… ┆ 0    ┆ 0   ┆ 0   │\n",
       "│ C#CCOc1ccc(CNc2nc(NCCOCC=C)nc(N[… ┆ 0    ┆ 0   ┆ 0   │\n",
       "│ C#CCOc1ccc(CNc2nc(Nc3cnn(C4CCN(C… ┆ 0    ┆ 0   ┆ 0   │\n",
       "│ C#CCOc1ccc(CNc2nc(Nc3n[nH]c4c3CN… ┆ 0    ┆ 0   ┆ 0   │\n",
       "│ …                                 ┆ …    ┆ …   ┆ …   │\n",
       "│ [N-]=[N+]=NCCC[C@H](Nc1nc(Nc2ncc… ┆ 0    ┆ 0   ┆ 0   │\n",
       "│ [N-]=[N+]=NCCC[C@H](Nc1nc(Nc2ncn… ┆ 0    ┆ 0   ┆ 0   │\n",
       "│ [N-]=[N+]=NCCC[C@H](Nc1nc(Nc2ncn… ┆ 0    ┆ 0   ┆ 0   │\n",
       "│ [N-]=[N+]=NCCC[C@H](Nc1nc(Nc2noc… ┆ 0    ┆ 0   ┆ 0   │\n",
       "│ [N-]=[N+]=NCCC[C@H](Nc1nc(Nc2ncn… ┆ 0    ┆ 0   ┆ 0   │\n",
       "│ [N-]=[N+]=NCCC[C@H](Nc1nc(Nc2noc… ┆ 0    ┆ 0   ┆ 0   │\n",
       "│ [N-]=[N+]=NCCC[C@H](Nc1nc(Nc2nnc… ┆ 0    ┆ 0   ┆ 0   │\n",
       "│ [N-]=[N+]=NCCC[C@H](Nc1nc(Nc2nnc… ┆ 0    ┆ 0   ┆ 0   │\n",
       "│ [N-]=[N+]=NCCC[C@H](Nc1nc(Nc2nnn… ┆ 0    ┆ 0   ┆ 0   │\n",
       "│ [N-]=[N+]=NCCC[C@H](Nc1nc(Nc2noc… ┆ 0    ┆ 0   ┆ 0   │\n",
       "└───────────────────────────────────┴──────┴─────┴─────┘"
      ]
     },
     "execution_count": 4,
     "metadata": {},
     "output_type": "execute_result"
    }
   ],
   "source": [
    "train_df = pl.scan_csv('/home/dangnh36/datasets/competitions/leash_belka/processed/train_v2.csv').select(\n",
    "        pl.col('molecule'),\n",
    "#         pl.col('bb1', 'bb2', 'bb3').cast(pl.UInt16),\n",
    "        pl.col('BRD4', 'HSA', 'sEH').cast(pl.UInt8),\n",
    "    ).collect()\n",
    "train_df"
   ]
  },
  {
   "cell_type": "code",
   "execution_count": null,
   "id": "16c22c2c-86b1-423c-9474-692b0e51fa15",
   "metadata": {},
   "outputs": [],
   "source": []
  },
  {
   "cell_type": "code",
   "execution_count": 5,
   "id": "70455961-d93b-4fc5-ac84-cfd5badc205d",
   "metadata": {},
   "outputs": [
    {
     "data": {
      "text/html": [
       "<div><style>\n",
       ".dataframe > thead > tr,\n",
       ".dataframe > tbody > tr {\n",
       "  text-align: right;\n",
       "  white-space: pre-wrap;\n",
       "}\n",
       "</style>\n",
       "<small>shape: (878_022, 1)</small><table border=\"1\" class=\"dataframe\"><thead><tr><th>molecule</th></tr><tr><td>str</td></tr></thead><tbody><tr><td>&quot;C#CCCC[C@H](Nc…</td></tr><tr><td>&quot;C#CCCC[C@H](Nc…</td></tr><tr><td>&quot;C#CCCC[C@H](Nc…</td></tr><tr><td>&quot;C#CCCC[C@H](Nc…</td></tr><tr><td>&quot;C#CCCC[C@H](Nc…</td></tr><tr><td>&quot;C#CCCC[C@H](Nc…</td></tr><tr><td>&quot;C#CCCC[C@H](Nc…</td></tr><tr><td>&quot;C#CCCC[C@H](Nc…</td></tr><tr><td>&quot;C#CCCC[C@H](Nc…</td></tr><tr><td>&quot;C#CCCC[C@H](Nc…</td></tr><tr><td>&hellip;</td></tr><tr><td>&quot;[N-]=[N+]=NCCC…</td></tr><tr><td>&quot;[N-]=[N+]=NCCC…</td></tr><tr><td>&quot;[N-]=[N+]=NCCC…</td></tr><tr><td>&quot;[N-]=[N+]=NCCC…</td></tr><tr><td>&quot;[N-]=[N+]=NCCC…</td></tr><tr><td>&quot;Cn1ncc2cc(Nc3n…</td></tr><tr><td>&quot;[N-]=[N+]=NCCC…</td></tr><tr><td>&quot;COC(=O)c1ccnc(…</td></tr><tr><td>&quot;COC1CCC(CCNc2n…</td></tr><tr><td>&quot;[N-]=[N+]=NCCC…</td></tr></tbody></table></div>"
      ],
      "text/plain": [
       "shape: (878_022, 1)\n",
       "┌───────────────────────────────────┐\n",
       "│ molecule                          │\n",
       "│ ---                               │\n",
       "│ str                               │\n",
       "╞═══════════════════════════════════╡\n",
       "│ C#CCCC[C@H](Nc1nc(Nc2ccc(C=C)cc2… │\n",
       "│ C#CCCC[C@H](Nc1nc(Nc2ccc(C=C)cc2… │\n",
       "│ C#CCCC[C@H](Nc1nc(NCC2(O)CCCC2(C… │\n",
       "│ C#CCCC[C@H](Nc1nc(Nc2ccc(C=C)cc2… │\n",
       "│ C#CCCC[C@H](Nc1nc(NCC2CCC(SC)CC2… │\n",
       "│ C#CCCC[C@H](Nc1nc(NCc2ccc(C)cc2N… │\n",
       "│ C#CCCC[C@H](Nc1nc(NCCc2ccc(OCC(=… │\n",
       "│ C#CCCC[C@H](Nc1nc(NCCCNC(=O)c2oc… │\n",
       "│ C#CCCC[C@H](Nc1nc(NCc2nnc(N3CCCC… │\n",
       "│ C#CCCC[C@H](Nc1nc(NCCc2csc3ccccc… │\n",
       "│ …                                 │\n",
       "│ [N-]=[N+]=NCCC[C@H](Nc1nc(Nc2nc(… │\n",
       "│ [N-]=[N+]=NCCC[C@H](Nc1nc(Nc2ncn… │\n",
       "│ [N-]=[N+]=NCCC[C@H](Nc1nc(Nc2cn3… │\n",
       "│ [N-]=[N+]=NCCC[C@H](Nc1nc(NCC2(c… │\n",
       "│ [N-]=[N+]=NCCC[C@H](Nc1nc(NCC2CC… │\n",
       "│ Cn1ncc2cc(Nc3nc(Nc4nncs4)nc(N[C@… │\n",
       "│ [N-]=[N+]=NCCC[C@H](Nc1nc(NCC2CC… │\n",
       "│ COC(=O)c1ccnc(Nc2nc(Nc3noc4ccc(F… │\n",
       "│ COC1CCC(CCNc2nc(Nc3noc4ccc(F)cc3… │\n",
       "│ [N-]=[N+]=NCCC[C@H](Nc1nc(NCc2cc… │\n",
       "└───────────────────────────────────┘"
      ]
     },
     "execution_count": 5,
     "metadata": {},
     "output_type": "execute_result"
    }
   ],
   "source": [
    "test_df = pl.scan_csv('/home/dangnh36/datasets/competitions/leash_belka/processed/test_v3.csv').select(\n",
    "        pl.col('molecule'),\n",
    "#         pl.col('bb1', 'bb2', 'bb3').cast(pl.UInt16),\n",
    "        # pl.col('BRD4', 'HSA', 'sEH').cast(pl.UInt8),\n",
    "    ).collect()\n",
    "test_df"
   ]
  },
  {
   "cell_type": "code",
   "execution_count": null,
   "id": "2a92c810-53be-4b7d-9cb1-b6e415f60720",
   "metadata": {},
   "outputs": [],
   "source": []
  },
  {
   "cell_type": "code",
   "execution_count": 6,
   "id": "dba35a32-3a40-4600-a58f-9f7fbd2b679f",
   "metadata": {},
   "outputs": [
    {
     "name": "stdout",
     "output_type": "stream",
     "text": [
      "[142, 127]\n"
     ]
    },
    {
     "data": {
      "text/plain": [
       "142"
      ]
     },
     "execution_count": 6,
     "metadata": {},
     "output_type": "execute_result"
    }
   ],
   "source": [
    "tmp = [train_df['molecule'].str.len_chars().max(), test_df['molecule'].str.len_chars().max()]\n",
    "print(tmp)\n",
    "MAX_LEN = max(tmp)\n",
    "MAX_LEN"
   ]
  },
  {
   "cell_type": "code",
   "execution_count": null,
   "id": "d263b33e-e862-4573-a47f-7254988abeba",
   "metadata": {},
   "outputs": [],
   "source": []
  },
  {
   "cell_type": "code",
   "execution_count": 7,
   "id": "b7eea7ae",
   "metadata": {},
   "outputs": [
    {
     "data": {
      "text/plain": [
       "array([ 8, 22,  8,  8, 28, 12, 27, 12, 12, 12, 17,  8, 33, 12, 18, 35, 12,\n",
       "       17, 33,  8,  8,  4,  8,  8,  8, 33,  4, 12,  4, 12, 12, 12, 35, 35,\n",
       "        4, 19, 35, 12, 17, 33, 29,  8,  3,  3,  5, 32, 17,  8,  8, 22,  8,\n",
       "       19,  8,  8, 17, 26, 28, 19, 33, 29, 30,  2, 32, 19, 35, 18, 19, 12,\n",
       "       12, 27,  0,  0,  0,  0,  0,  0,  0,  0,  0,  0,  0,  0,  0,  0,  0,\n",
       "        0,  0,  0,  0,  0,  0,  0,  0,  0,  0,  0,  0,  0,  0,  0,  0,  0,\n",
       "        0,  0,  0,  0,  0,  0,  0,  0,  0,  0,  0,  0,  0,  0,  0,  0,  0,\n",
       "        0,  0,  0,  0,  0,  0,  0,  0,  0,  0,  0,  0,  0,  0,  0,  0,  0,\n",
       "        0,  0,  0,  0,  0,  0], dtype=uint8)"
      ]
     },
     "execution_count": 7,
     "metadata": {},
     "output_type": "execute_result"
    }
   ],
   "source": [
    "def get_char_idxs(smile):\n",
    "    idxs = np.zeros((MAX_LEN,), dtype = np.uint8)\n",
    "    for i, c in enumerate(smile):\n",
    "        idxs[i] = CHAR2IDX[c]\n",
    "    return idxs\n",
    "\n",
    "get_char_idxs(train_df[0, 'molecule'])"
   ]
  },
  {
   "cell_type": "code",
   "execution_count": null,
   "id": "bd2915e9",
   "metadata": {},
   "outputs": [],
   "source": []
  },
  {
   "cell_type": "code",
   "execution_count": 8,
   "id": "2e57af7b",
   "metadata": {},
   "outputs": [],
   "source": [
    "mapply.init(\n",
    "    n_workers=-1,\n",
    "    progressbar=True,\n",
    "    chunk_size = 1024,\n",
    "    max_chunks_per_worker = 32,\n",
    ")"
   ]
  },
  {
   "cell_type": "code",
   "execution_count": 9,
   "id": "59f9ba3b-7e05-42f2-a9e5-c46bf0dac1ed",
   "metadata": {},
   "outputs": [
    {
     "name": "stderr",
     "output_type": "stream",
     "text": [
      "100%|████████████████████████████████████████| 857/857 [00:54<00:00, 15.69it/s]\n",
      "\n"
     ]
    },
    {
     "name": "stdout",
     "output_type": "stream",
     "text": [
      "CPU times: user 11.1 s, sys: 58.9 s, total: 1min 9s\n",
      "Wall time: 1min 9s\n"
     ]
    },
    {
     "data": {
      "text/plain": [
       "878022"
      ]
     },
     "execution_count": 9,
     "metadata": {},
     "output_type": "execute_result"
    }
   ],
   "source": [
    "%%time\n",
    "test_features = test_df['molecule'].to_pandas().mapply(get_char_idxs)\n",
    "len(test_features)"
   ]
  },
  {
   "cell_type": "code",
   "execution_count": null,
   "id": "37e54620-05e7-48dd-a65f-cb18b499c6d2",
   "metadata": {},
   "outputs": [],
   "source": []
  },
  {
   "cell_type": "code",
   "execution_count": 10,
   "id": "802f26d5-ad0c-4083-9807-0a14e4c8420d",
   "metadata": {},
   "outputs": [
    {
     "name": "stderr",
     "output_type": "stream",
     "text": [
      " 98%|█████████████████████████████████████▏| 1284/1312 [20:14<00:27,  1.03it/s]\n"
     ]
    },
    {
     "data": {
      "text/plain": [
       "98415610"
      ]
     },
     "execution_count": 10,
     "metadata": {},
     "output_type": "execute_result"
    }
   ],
   "source": [
    "train_features = train_df['molecule'].to_pandas().mapply(get_char_idxs)\n",
    "len(train_features)"
   ]
  },
  {
   "cell_type": "code",
   "execution_count": null,
   "id": "2875edb4-7c8b-44eb-ab79-c4f11cb98892",
   "metadata": {},
   "outputs": [],
   "source": []
  },
  {
   "cell_type": "code",
   "execution_count": null,
   "id": "96901376",
   "metadata": {},
   "outputs": [],
   "source": []
  },
  {
   "cell_type": "code",
   "execution_count": 11,
   "id": "99a81cea",
   "metadata": {},
   "outputs": [
    {
     "data": {
      "text/plain": [
       "((98415610, 142), (878022, 142))"
      ]
     },
     "execution_count": 11,
     "metadata": {},
     "output_type": "execute_result"
    }
   ],
   "source": [
    "train_features = np.stack(train_features)\n",
    "test_features = np.stack(test_features)\n",
    "train_features.shape, test_features.shape"
   ]
  },
  {
   "cell_type": "code",
   "execution_count": null,
   "id": "75fe5ae9",
   "metadata": {},
   "outputs": [],
   "source": []
  },
  {
   "cell_type": "code",
   "execution_count": null,
   "id": "ea6638b0-e55c-4b61-aa8b-a87c97d15829",
   "metadata": {},
   "outputs": [],
   "source": []
  },
  {
   "cell_type": "code",
   "execution_count": 13,
   "id": "0315ca07-efd7-4ce8-afb9-253e8a3b6b95",
   "metadata": {},
   "outputs": [],
   "source": [
    "!mkdir -p /home/dangnh36/datasets/competitions/leash_belka/processed/features/char/"
   ]
  },
  {
   "cell_type": "code",
   "execution_count": 14,
   "id": "bfbcd43c",
   "metadata": {},
   "outputs": [],
   "source": [
    "fp = np.memmap('/home/dangnh36/datasets/competitions/leash_belka/processed/features/char/train.mmap', dtype=train_features.dtype, mode='w+', shape=train_features.shape)\n",
    "fp[:] = train_features[:]"
   ]
  },
  {
   "cell_type": "code",
   "execution_count": null,
   "id": "36e65196",
   "metadata": {},
   "outputs": [],
   "source": []
  },
  {
   "cell_type": "code",
   "execution_count": 15,
   "id": "7f2b10d3",
   "metadata": {},
   "outputs": [],
   "source": [
    "fp = np.memmap('/home/dangnh36/datasets/competitions/leash_belka/processed/features/char/test.mmap', dtype=test_features.dtype, mode='w+', shape=test_features.shape)\n",
    "fp[:] = test_features[:]"
   ]
  },
  {
   "cell_type": "code",
   "execution_count": null,
   "id": "6d9d468e",
   "metadata": {},
   "outputs": [],
   "source": []
  },
  {
   "cell_type": "code",
   "execution_count": null,
   "id": "f3b027a1",
   "metadata": {},
   "outputs": [],
   "source": []
  },
  {
   "cell_type": "code",
   "execution_count": 17,
   "id": "ba94497e",
   "metadata": {},
   "outputs": [],
   "source": [
    "np.save('/home/dangnh36/datasets/competitions/leash_belka/processed/features/char/train.npy', train_features)"
   ]
  },
  {
   "cell_type": "code",
   "execution_count": 18,
   "id": "a7aa8cfe",
   "metadata": {},
   "outputs": [],
   "source": [
    "np.save('/home/dangnh36/datasets/competitions/leash_belka/processed/features/char/test.npy', test_features)"
   ]
  },
  {
   "cell_type": "code",
   "execution_count": null,
   "id": "1760db31",
   "metadata": {},
   "outputs": [],
   "source": []
  },
  {
   "cell_type": "code",
   "execution_count": null,
   "id": "258897cf",
   "metadata": {},
   "outputs": [],
   "source": []
  },
  {
   "cell_type": "code",
   "execution_count": 15,
   "id": "7255d6ef",
   "metadata": {},
   "outputs": [
    {
     "data": {
      "text/plain": [
       "36"
      ]
     },
     "execution_count": 15,
     "metadata": {},
     "output_type": "execute_result"
    }
   ],
   "source": [
    "fp = np.memmap('/home/dangnh36/datasets/competitions/leash_belka/processed/features/char/train.npy', dtype=np.uint8, mode='r', shape=(98415610, 142))\n",
    "fp[:500000, :].max()"
   ]
  },
  {
   "cell_type": "code",
   "execution_count": 16,
   "id": "c4786cde",
   "metadata": {},
   "outputs": [
    {
     "data": {
      "text/plain": [
       "memmap([ 8, 22,  8,  8, 28, 12, 27, 12, 12, 12, 17,  8, 33, 12, 18, 35,\n",
       "        12, 17, 33,  8,  8,  4,  8,  8,  8, 33,  4, 12,  4, 12, 12, 12,\n",
       "        35, 35,  4, 19, 35, 12, 17, 33, 29,  8,  3,  3,  5, 32, 17,  8,\n",
       "         8, 22,  8, 19,  8,  8, 17, 26, 28, 19, 33, 29, 30,  2, 32, 19,\n",
       "        35, 18, 19, 12, 12, 27,  0,  0,  0,  0,  0,  0,  0,  0,  0,  0,\n",
       "         0,  0,  0,  0,  0,  0,  0,  0,  0,  0,  0,  0,  0,  0,  0,  0,\n",
       "         0,  0,  0,  0,  0,  0,  0,  0,  0,  0,  0,  0,  0,  0,  0,  0,\n",
       "         0,  0,  0,  0,  0,  0,  0,  0,  0,  0,  0,  0,  0,  0,  0,  0,\n",
       "         0,  0,  0,  0,  0,  0,  0,  0,  0,  0,  0,  0,  0,  0],\n",
       "       dtype=uint8)"
      ]
     },
     "execution_count": 16,
     "metadata": {},
     "output_type": "execute_result"
    }
   ],
   "source": [
    "fp[0]"
   ]
  },
  {
   "cell_type": "code",
   "execution_count": null,
   "id": "23c8a168",
   "metadata": {},
   "outputs": [],
   "source": []
  },
  {
   "cell_type": "code",
   "execution_count": 17,
   "id": "e131ddc7",
   "metadata": {},
   "outputs": [
    {
     "data": {
      "text/plain": [
       "array([ 8, 22,  8,  8, 28, 12, 27, 12, 12, 12, 17,  8, 33, 12, 18, 35, 12,\n",
       "       17, 33,  8,  8,  4,  8,  8,  8, 33,  4, 12,  4, 12, 12, 12, 35, 35,\n",
       "        4, 19, 35, 12, 17, 33, 29,  8,  3,  3,  5, 32, 17,  8,  8, 22,  8,\n",
       "       19,  8,  8, 17, 26, 28, 19, 33, 29, 30,  2, 32, 19, 35, 18, 19, 12,\n",
       "       12, 27,  0,  0,  0,  0,  0,  0,  0,  0,  0,  0,  0,  0,  0,  0,  0,\n",
       "        0,  0,  0,  0,  0,  0,  0,  0,  0,  0,  0,  0,  0,  0,  0,  0,  0,\n",
       "        0,  0,  0,  0,  0,  0,  0,  0,  0,  0,  0,  0,  0,  0,  0,  0,  0,\n",
       "        0,  0,  0,  0,  0,  0,  0,  0,  0,  0,  0,  0,  0,  0,  0,  0,  0,\n",
       "        0,  0,  0,  0,  0,  0], dtype=uint8)"
      ]
     },
     "execution_count": 17,
     "metadata": {},
     "output_type": "execute_result"
    }
   ],
   "source": [
    "np.array(fp[0])"
   ]
  },
  {
   "cell_type": "code",
   "execution_count": null,
   "id": "43861d74",
   "metadata": {},
   "outputs": [],
   "source": []
  },
  {
   "cell_type": "code",
   "execution_count": null,
   "id": "ee7e871c",
   "metadata": {},
   "outputs": [],
   "source": []
  },
  {
   "cell_type": "code",
   "execution_count": null,
   "id": "278498a0",
   "metadata": {},
   "outputs": [],
   "source": []
  },
  {
   "cell_type": "code",
   "execution_count": null,
   "id": "2c4e01db",
   "metadata": {},
   "outputs": [],
   "source": []
  },
  {
   "cell_type": "code",
   "execution_count": null,
   "id": "940ff621",
   "metadata": {},
   "outputs": [],
   "source": []
  },
  {
   "cell_type": "code",
   "execution_count": null,
   "id": "251da675",
   "metadata": {},
   "outputs": [],
   "source": []
  },
  {
   "cell_type": "code",
   "execution_count": null,
   "id": "6ac5d838",
   "metadata": {},
   "outputs": [],
   "source": []
  }
 ],
 "metadata": {
  "kernelspec": {
   "display_name": "Python 3 (ipykernel)",
   "language": "python",
   "name": "python3"
  },
  "language_info": {
   "codemirror_mode": {
    "name": "ipython",
    "version": 3
   },
   "file_extension": ".py",
   "mimetype": "text/x-python",
   "name": "python",
   "nbconvert_exporter": "python",
   "pygments_lexer": "ipython3",
   "version": "3.10.13"
  }
 },
 "nbformat": 4,
 "nbformat_minor": 5
}
