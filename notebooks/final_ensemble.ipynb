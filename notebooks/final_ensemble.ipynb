{
 "cells": [
  {
   "cell_type": "code",
   "execution_count": 1,
   "id": "5e3dbc92",
   "metadata": {},
   "outputs": [],
   "source": [
    "import os\n",
    "import polars as pl\n",
    "from joblib import Parallel, delayed\n",
    "import multiprocessing\n",
    "import numpy as np\n",
    "import pandas as pd\n",
    "from tqdm import tqdm\n",
    "import time\n",
    "import json"
   ]
  },
  {
   "cell_type": "code",
   "execution_count": 2,
   "id": "7bd1287b",
   "metadata": {},
   "outputs": [
    {
     "data": {
      "text/html": [
       "<div><style>\n",
       ".dataframe > thead > tr,\n",
       ".dataframe > tbody > tr {\n",
       "  text-align: right;\n",
       "  white-space: pre-wrap;\n",
       "}\n",
       "</style>\n",
       "<small>shape: (878_022, 10)</small><table border=\"1\" class=\"dataframe\"><thead><tr><th>bb1</th><th>bb2</th><th>bb3</th><th>id_BRD4</th><th>id_HSA</th><th>id_sEH</th><th>mol_group</th><th>group_BRD4</th><th>group_HSA</th><th>group_sEH</th></tr><tr><td>i64</td><td>i64</td><td>i64</td><td>i64</td><td>i64</td><td>i64</td><td>i64</td><td>i64</td><td>i64</td><td>i64</td></tr></thead><tbody><tr><td>1989</td><td>409</td><td>409</td><td>295246830</td><td>295246831</td><td>295246832</td><td>2</td><td>6</td><td>7</td><td>8</td></tr><tr><td>1989</td><td>409</td><td>1012</td><td>295246833</td><td>295246834</td><td>295246835</td><td>2</td><td>6</td><td>7</td><td>8</td></tr><tr><td>1989</td><td>409</td><td>1722</td><td>295246836</td><td>295246837</td><td>295246838</td><td>2</td><td>6</td><td>7</td><td>8</td></tr><tr><td>1989</td><td>409</td><td>1078</td><td>295246839</td><td>295246840</td><td>295246841</td><td>2</td><td>6</td><td>7</td><td>8</td></tr><tr><td>1989</td><td>409</td><td>605</td><td>295246842</td><td>295246843</td><td>295246844</td><td>2</td><td>6</td><td>7</td><td>8</td></tr><tr><td>&hellip;</td><td>&hellip;</td><td>&hellip;</td><td>&hellip;</td><td>&hellip;</td><td>&hellip;</td><td>&hellip;</td><td>&hellip;</td><td>&hellip;</td><td>&hellip;</td></tr><tr><td>141</td><td>1699</td><td>307</td><td>296921711</td><td>296921712</td><td>296921713</td><td>0</td><td>0</td><td>1</td><td>2</td></tr><tr><td>141</td><td>1699</td><td>1254</td><td>296921714</td><td>296921715</td><td>296921716</td><td>0</td><td>0</td><td>1</td><td>2</td></tr><tr><td>141</td><td>1415</td><td>1390</td><td>296921717</td><td>296921718</td><td>296921719</td><td>0</td><td>0</td><td>1</td><td>2</td></tr><tr><td>141</td><td>1415</td><td>1556</td><td>296921720</td><td>296921721</td><td>296921722</td><td>0</td><td>0</td><td>1</td><td>2</td></tr><tr><td>141</td><td>1415</td><td>236</td><td>296921723</td><td>296921724</td><td>296921725</td><td>0</td><td>0</td><td>1</td><td>2</td></tr></tbody></table></div>"
      ],
      "text/plain": [
       "shape: (878_022, 10)\n",
       "┌──────┬──────┬──────┬───────────┬───┬───────────┬────────────┬───────────┬───────────┐\n",
       "│ bb1  ┆ bb2  ┆ bb3  ┆ id_BRD4   ┆ … ┆ mol_group ┆ group_BRD4 ┆ group_HSA ┆ group_sEH │\n",
       "│ ---  ┆ ---  ┆ ---  ┆ ---       ┆   ┆ ---       ┆ ---        ┆ ---       ┆ ---       │\n",
       "│ i64  ┆ i64  ┆ i64  ┆ i64       ┆   ┆ i64       ┆ i64        ┆ i64       ┆ i64       │\n",
       "╞══════╪══════╪══════╪═══════════╪═══╪═══════════╪════════════╪═══════════╪═══════════╡\n",
       "│ 1989 ┆ 409  ┆ 409  ┆ 295246830 ┆ … ┆ 2         ┆ 6          ┆ 7         ┆ 8         │\n",
       "│ 1989 ┆ 409  ┆ 1012 ┆ 295246833 ┆ … ┆ 2         ┆ 6          ┆ 7         ┆ 8         │\n",
       "│ 1989 ┆ 409  ┆ 1722 ┆ 295246836 ┆ … ┆ 2         ┆ 6          ┆ 7         ┆ 8         │\n",
       "│ 1989 ┆ 409  ┆ 1078 ┆ 295246839 ┆ … ┆ 2         ┆ 6          ┆ 7         ┆ 8         │\n",
       "│ 1989 ┆ 409  ┆ 605  ┆ 295246842 ┆ … ┆ 2         ┆ 6          ┆ 7         ┆ 8         │\n",
       "│ …    ┆ …    ┆ …    ┆ …         ┆ … ┆ …         ┆ …          ┆ …         ┆ …         │\n",
       "│ 141  ┆ 1699 ┆ 307  ┆ 296921711 ┆ … ┆ 0         ┆ 0          ┆ 1         ┆ 2         │\n",
       "│ 141  ┆ 1699 ┆ 1254 ┆ 296921714 ┆ … ┆ 0         ┆ 0          ┆ 1         ┆ 2         │\n",
       "│ 141  ┆ 1415 ┆ 1390 ┆ 296921717 ┆ … ┆ 0         ┆ 0          ┆ 1         ┆ 2         │\n",
       "│ 141  ┆ 1415 ┆ 1556 ┆ 296921720 ┆ … ┆ 0         ┆ 0          ┆ 1         ┆ 2         │\n",
       "│ 141  ┆ 1415 ┆ 236  ┆ 296921723 ┆ … ┆ 0         ┆ 0          ┆ 1         ┆ 2         │\n",
       "└──────┴──────┴──────┴───────────┴───┴───────────┴────────────┴───────────┴───────────┘"
      ]
     },
     "execution_count": 2,
     "metadata": {},
     "output_type": "execute_result"
    }
   ],
   "source": [
    "test_df = pl.scan_csv('/home/dangnh36/datasets/competitions/leash_belka/processed/test_v4.csv').select(pl.col('*').exclude('molecule')).collect()\n",
    "test_df"
   ]
  },
  {
   "cell_type": "code",
   "execution_count": 3,
   "id": "9e766880",
   "metadata": {},
   "outputs": [
    {
     "name": "stderr",
     "output_type": "stream",
     "text": [
      "/tmp/ipykernel_29020/1203351766.py:2: DeprecationWarning: `count` is deprecated. It has been renamed to `len`.\n",
      "  test_df.group_by('mol_group').count().sort('mol_group')\n"
     ]
    },
    {
     "data": {
      "text/html": [
       "<div><style>\n",
       ".dataframe > thead > tr,\n",
       ".dataframe > tbody > tr {\n",
       "  text-align: right;\n",
       "  white-space: pre-wrap;\n",
       "}\n",
       "</style>\n",
       "<small>shape: (4, 2)</small><table border=\"1\" class=\"dataframe\"><thead><tr><th>mol_group</th><th>count</th></tr><tr><td>i64</td><td>u32</td></tr></thead><tbody><tr><td>0</td><td>369039</td></tr><tr><td>1</td><td>486390</td></tr><tr><td>2</td><td>11271</td></tr><tr><td>3</td><td>11322</td></tr></tbody></table></div>"
      ],
      "text/plain": [
       "shape: (4, 2)\n",
       "┌───────────┬────────┐\n",
       "│ mol_group ┆ count  │\n",
       "│ ---       ┆ ---    │\n",
       "│ i64       ┆ u32    │\n",
       "╞═══════════╪════════╡\n",
       "│ 0         ┆ 369039 │\n",
       "│ 1         ┆ 486390 │\n",
       "│ 2         ┆ 11271  │\n",
       "│ 3         ┆ 11322  │\n",
       "└───────────┴────────┘"
      ]
     },
     "execution_count": 3,
     "metadata": {},
     "output_type": "execute_result"
    }
   ],
   "source": [
    "# 0: share, 1: new lib, 2 + 3: non-share\n",
    "test_df.group_by('mol_group').count().sort('mol_group')"
   ]
  },
  {
   "cell_type": "code",
   "execution_count": 4,
   "id": "c2eaa7a7-e1e3-4333-bbc0-4d720f1d74a1",
   "metadata": {},
   "outputs": [
    {
     "name": "stdout",
     "output_type": "stream",
     "text": [
      "(1674896,) (1674896,)\n"
     ]
    }
   ],
   "source": [
    "pred_ids = test_df[['id_BRD4', 'id_HSA', 'id_sEH']].to_numpy().reshape(-1)\n",
    "group_ids = test_df[['group_BRD4', 'group_HSA', 'group_sEH']].to_numpy().reshape(-1)\n",
    "mask = (pred_ids != 0)\n",
    "assert(mask.sum()==1674896)\n",
    "PRED_IDS = pred_ids[mask]\n",
    "GROUP_IDS = group_ids[mask]\n",
    "print(PRED_IDS.shape, GROUP_IDS.shape)"
   ]
  },
  {
   "cell_type": "code",
   "execution_count": 5,
   "id": "3913fc0d-db19-4712-b01a-627aa029ad5e",
   "metadata": {},
   "outputs": [
    {
     "data": {
      "text/plain": [
       "array([ 0,  1,  2,  3,  4,  5,  6,  7,  8,  9, 10, 11])"
      ]
     },
     "execution_count": 5,
     "metadata": {},
     "output_type": "execute_result"
    }
   ],
   "source": [
    "np.unique(GROUP_IDS)"
   ]
  },
  {
   "cell_type": "code",
   "execution_count": null,
   "id": "cb5e678b-631a-4d95-9386-00c5c8de0861",
   "metadata": {},
   "outputs": [],
   "source": []
  },
  {
   "cell_type": "code",
   "execution_count": null,
   "id": "7ca5333d-7bfb-4397-917c-fa2e8870c8fd",
   "metadata": {},
   "outputs": [],
   "source": []
  },
  {
   "cell_type": "code",
   "execution_count": 6,
   "id": "c85bd665",
   "metadata": {},
   "outputs": [
    {
     "data": {
      "text/plain": [
       "['final_selfies-pregen_cnn1d-6-128',\n",
       " 'final_smileschar-pregen_cnn1d-6-128',\n",
       " 'catboost_12chunks',\n",
       " 'final_squeeze-mtr_chartokenize-02_ep11_0.033802_0.651412',\n",
       " 'final_sage',\n",
       " 'topo_mlp',\n",
       " 'ecfp6_mlp',\n",
       " 'ensemble_v0.csv',\n",
       " 'ensemble_v1.csv',\n",
       " 'final_squeeze-mtr-mlm_chartokenize-02_ep11_0.11199_0.648898',\n",
       " 'final_selfies-pregen_cnn1d-3-512',\n",
       " 'ensemble_v2.csv',\n",
       " 'final_ais-pregen_cnn1d-6-128',\n",
       " 'mhfp_mlp',\n",
       " 'final_smileschar-pregen_cnn1d-8-64',\n",
       " 'final_pretrain-gin',\n",
       " 'final_deepsmiles-pregen_cnn1d-6-128',\n",
       " 'final_ais_squeeze',\n",
       " 'final_gcn',\n",
       " 'final_mamba_smileschar',\n",
       " 'final_roberta-mtr-mlm_chartokenize-all_ep11.2_na_0.668808',\n",
       " 'final_smileschar-pregen_cnn1d-3-512',\n",
       " 'squeeze_first_version']"
      ]
     },
     "execution_count": 6,
     "metadata": {},
     "output_type": "execute_result"
    }
   ],
   "source": [
    "os.listdir('/home/dangnh36/downloads/leash_submit/final')"
   ]
  },
  {
   "cell_type": "code",
   "execution_count": null,
   "id": "247d70ad-ed7c-4145-80f6-7d04795db70a",
   "metadata": {},
   "outputs": [],
   "source": []
  },
  {
   "cell_type": "code",
   "execution_count": 7,
   "id": "4923123c",
   "metadata": {},
   "outputs": [],
   "source": [
    "# SHARE_GROUPS= [0, 1, 2]\n",
    "# NONSHARE_GROUPS = [3, 4, 5, 6, 7, 8, 9, 10, 11]\n",
    "\n",
    "# # Share\n",
    "# SHARE_META = [\n",
    "#     ('catboost_12chunks', 0.5),\n",
    "#     ('ecfp6_mlp', 0.5),\n",
    "#     ('topo_mlp', 0.3),\n",
    "#     # ('mhfp_mlp', 0.0),\n",
    "#     ('final_smileschar-pregen_cnn1d-6-128', 1),\n",
    "#     ('final_ais-pregen_cnn1d-6-128', 1),\n",
    "#     ('final_selfies-pregen_cnn1d-6-128', 1),\n",
    "#     ('final_deepsmiles-pregen_cnn1d-6-128', 1),\n",
    "#     ('final_smileschar-pregen_cnn1d-8-64', 0.5),\n",
    "#     ('final_smileschar-pregen_cnn1d-3-512', 1),\n",
    "#     ('final_selfies-pregen_cnn1d-3-512', 1),\n",
    "#     ('final_ais_squeeze', 1.5),\n",
    "#     ('final_squeeze-mtr_chartokenize-02_ep11_0.033802_0.651412', 0.2),\n",
    "#     ('final_squeeze-mtr-mlm_chartokenize-02_ep11_0.11199_0.648898', 0.2),\n",
    "#     ('final_roberta-mtr-mlm_chartokenize-all_ep11.2_na_0.668808', 2.0),\n",
    "#     ('final_mamba_smileschar', 2.0),\n",
    "#     ('final_pretrain-gin', 0.5),\n",
    "#     ('final_sage', 0.3),\n",
    "#     ('final_gcn', 0.3)\n",
    "# ]\n",
    "\n",
    "# NONSHARE_META = [\n",
    "#     ('catboost_12chunks', 1.5),\n",
    "#     ('ecfp6_mlp', 1.0),\n",
    "#     ('topo_mlp', 1.0),\n",
    "#     ('mhfp_mlp', 1.0),\n",
    "#     ('final_smileschar-pregen_cnn1d-6-128', 1),\n",
    "#     ('final_ais-pregen_cnn1d-6-128', 1.5),\n",
    "#     ('final_selfies-pregen_cnn1d-6-128', 1),\n",
    "#     ('final_deepsmiles-pregen_cnn1d-6-128', 1),\n",
    "#     ('final_smileschar-pregen_cnn1d-8-64', 1.5),\n",
    "#     ('final_smileschar-pregen_cnn1d-3-512', 1),\n",
    "#     ('final_selfies-pregen_cnn1d-3-512', 0.7),\n",
    "#     ('final_ais_squeeze', 3.0),\n",
    "#     ('final_squeeze-mtr_chartokenize-02_ep11_0.033802_0.651412', 2.0),\n",
    "#     ('final_squeeze-mtr-mlm_chartokenize-02_ep11_0.11199_0.648898', 2.0),\n",
    "#     ('final_roberta-mtr-mlm_chartokenize-all_ep11.2_na_0.668808', 3.0),\n",
    "#     ('final_mamba_smileschar', 3.0),\n",
    "#     ('final_pretrain-gin', 2.0),\n",
    "#     ('final_sage', 0.75),\n",
    "#     ('final_gcn', 0.75)\n",
    "# ]\n",
    "\n",
    "# len(SHARE_META), len(NONSHARE_META)"
   ]
  },
  {
   "cell_type": "code",
   "execution_count": null,
   "id": "f40f4ba5-dccc-4f4d-b50b-b2bd26c7db85",
   "metadata": {},
   "outputs": [],
   "source": []
  },
  {
   "cell_type": "code",
   "execution_count": 8,
   "id": "0e0b9fcd-d467-45cc-82dc-af643b4df543",
   "metadata": {},
   "outputs": [],
   "source": [
    "# SHARE_GROUPS= [0, 1, 2]\n",
    "# NONSHARE_GROUPS = [3, 4, 5, 6, 7, 8, 9, 10, 11]\n",
    "\n",
    "# # Share\n",
    "# SHARE_META = [\n",
    "#     ('catboost_12chunks', 0.2),\n",
    "#     ('ecfp6_mlp', 0.2),\n",
    "#     ('topo_mlp', 0.2),\n",
    "#     # ('mhfp_mlp', 0.0),\n",
    "#     ('final_smileschar-pregen_cnn1d-6-128', 1),\n",
    "#     ('final_ais-pregen_cnn1d-6-128', 1),\n",
    "#     ('final_selfies-pregen_cnn1d-6-128', 1),\n",
    "#     ('final_deepsmiles-pregen_cnn1d-6-128', 1),\n",
    "#     ('final_smileschar-pregen_cnn1d-8-64', 0.2),\n",
    "#     ('final_smileschar-pregen_cnn1d-3-512', 0.5),\n",
    "#     ('final_selfies-pregen_cnn1d-3-512', 0.5),\n",
    "#     ('final_ais_squeeze', 1.5),\n",
    "#     # ('final_squeeze-mtr_chartokenize-02_ep11_0.033802_0.651412', 0.2),\n",
    "#     # ('final_squeeze-mtr-mlm_chartokenize-02_ep11_0.11199_0.648898', 0.2),\n",
    "#     ('final_roberta-mtr-mlm_chartokenize-all_ep11.2_na_0.668808', 2.0),\n",
    "#     ('final_mamba_smileschar', 2.0),\n",
    "#     ('final_pretrain-gin', 0.2),\n",
    "#     # ('final_sage', 0.2),\n",
    "#     # ('final_gcn', 0.2)\n",
    "# ]\n",
    "\n",
    "# NONSHARE_META = [\n",
    "#     ('catboost_12chunks', 0.5),\n",
    "#     ('ecfp6_mlp', 0.2),\n",
    "#     ('topo_mlp', 0.2),\n",
    "#     ('mhfp_mlp', 0.2),\n",
    "#     ('final_smileschar-pregen_cnn1d-6-128', 1),\n",
    "#     ('final_ais-pregen_cnn1d-6-128', 1.5),\n",
    "#     ('final_selfies-pregen_cnn1d-6-128', 0.5),\n",
    "#     ('final_deepsmiles-pregen_cnn1d-6-128', 1),\n",
    "#     ('final_smileschar-pregen_cnn1d-8-64', 1),\n",
    "#     ('final_smileschar-pregen_cnn1d-3-512', 0.5),\n",
    "#     ('final_selfies-pregen_cnn1d-3-512', 0.5),\n",
    "#     ('final_ais_squeeze', 1.0),\n",
    "#     ('final_squeeze-mtr_chartokenize-02_ep11_0.033802_0.651412', 1.0),\n",
    "#     ('final_squeeze-mtr-mlm_chartokenize-02_ep11_0.11199_0.648898', 1.0),\n",
    "#     ('final_roberta-mtr-mlm_chartokenize-all_ep11.2_na_0.668808', 2.0),\n",
    "#     ('final_mamba_smileschar', 2.0),\n",
    "#     ('final_pretrain-gin', 0.5),\n",
    "#     ('final_sage', 0.2),\n",
    "#     ('final_gcn', 0.2)\n",
    "# ]\n",
    "\n",
    "# len(SHARE_META), len(NONSHARE_META)"
   ]
  },
  {
   "cell_type": "code",
   "execution_count": null,
   "id": "773c91e2",
   "metadata": {},
   "outputs": [],
   "source": []
  },
  {
   "cell_type": "code",
   "execution_count": null,
   "id": "9aea9434-c096-446f-8b49-c05015280e37",
   "metadata": {},
   "outputs": [],
   "source": []
  },
  {
   "cell_type": "code",
   "execution_count": 9,
   "id": "9a2a907b-4c5c-45f5-8763-936dc0ad034c",
   "metadata": {},
   "outputs": [
    {
     "data": {
      "text/plain": [
       "(7, 16)"
      ]
     },
     "execution_count": 9,
     "metadata": {},
     "output_type": "execute_result"
    }
   ],
   "source": [
    "SHARE_GROUPS= [0, 1, 2]\n",
    "NONSHARE_GROUPS = [3, 4, 5, 6, 7, 8, 9, 10, 11]\n",
    "\n",
    "# Share\n",
    "SHARE_META = [\n",
    "    # ('catboost_12chunks', 0.2),\n",
    "    # ('ecfp6_mlp', 0.2),\n",
    "    # ('topo_mlp', 0.2),\n",
    "    # ('mhfp_mlp', 0.0),\n",
    "    ('final_smileschar-pregen_cnn1d-6-128', 1),\n",
    "    ('final_ais-pregen_cnn1d-6-128', 1),\n",
    "    ('final_selfies-pregen_cnn1d-6-128', 1),\n",
    "    ('final_deepsmiles-pregen_cnn1d-6-128', 1),\n",
    "    # ('final_smileschar-pregen_cnn1d-8-64', 0.2),\n",
    "    # ('final_smileschar-pregen_cnn1d-3-512', 0.5),\n",
    "    # ('final_selfies-pregen_cnn1d-3-512', 0.0),\n",
    "    ('final_ais_squeeze', 1.0),\n",
    "    # ('final_squeeze-mtr_chartokenize-02_ep11_0.033802_0.651412', 0.2),\n",
    "    # ('final_squeeze-mtr-mlm_chartokenize-02_ep11_0.11199_0.648898', 0.2),\n",
    "    ('final_roberta-mtr-mlm_chartokenize-all_ep11.2_na_0.668808', 1.0),\n",
    "    ('final_mamba_smileschar', 1.0),\n",
    "    # ('final_pretrain-gin', 0.2),\n",
    "    # ('final_sage', 0.2),\n",
    "    # ('final_gcn', 0.2)\n",
    "]\n",
    "\n",
    "NONSHARE_META = [\n",
    "    # ('catboost_12chunks', 0.5),\n",
    "    # ('ecfp6_mlp', 0.2),\n",
    "    # ('topo_mlp', 0.2),\n",
    "    # ('mhfp_mlp', 0.2),\n",
    "    ('final_smileschar-pregen_cnn1d-6-128', 0.5),\n",
    "    ('final_ais-pregen_cnn1d-6-128', 0.5),\n",
    "    ('final_selfies-pregen_cnn1d-6-128', 0.5),\n",
    "    ('final_deepsmiles-pregen_cnn1d-6-128', 0.5),\n",
    "    ('final_smileschar-pregen_cnn1d-8-64', 0.2),\n",
    "    ('final_smileschar-pregen_cnn1d-3-512', 0.2),\n",
    "    ('final_selfies-pregen_cnn1d-3-512', 0.2),\n",
    "    ('squeeze_first_version', 3.0),\n",
    "    ('final_ais_squeeze', 1.0),\n",
    "    ('final_squeeze-mtr_chartokenize-02_ep11_0.033802_0.651412', 0.8),\n",
    "    ('final_squeeze-mtr-mlm_chartokenize-02_ep11_0.11199_0.648898', 0.8),\n",
    "    ('final_roberta-mtr-mlm_chartokenize-all_ep11.2_na_0.668808', 1.0),\n",
    "    ('final_mamba_smileschar', 1.0),\n",
    "    ('final_pretrain-gin', 0.5),\n",
    "    ('final_sage', 0.1),\n",
    "    ('final_gcn', 0.1)\n",
    "]\n",
    "\n",
    "len(SHARE_META), len(NONSHARE_META)"
   ]
  },
  {
   "cell_type": "code",
   "execution_count": null,
   "id": "9b2fead6-2fa4-46bc-8e7e-34b90c689be4",
   "metadata": {},
   "outputs": [],
   "source": []
  },
  {
   "cell_type": "code",
   "execution_count": null,
   "id": "5c9011d4-de4b-4d04-9b3b-21d099e27d06",
   "metadata": {},
   "outputs": [],
   "source": []
  },
  {
   "cell_type": "code",
   "execution_count": 10,
   "id": "3c33c864",
   "metadata": {},
   "outputs": [
    {
     "name": "stdout",
     "output_type": "stream",
     "text": [
      "\n",
      "\n",
      "\n",
      "PROCESSING share with groups=[0, 1, 2]\n",
      "final_smileschar-pregen_cnn1d-6-128 1 (1107117,)\n",
      "final_ais-pregen_cnn1d-6-128 1 (1107117,)\n",
      "final_selfies-pregen_cnn1d-6-128 1 (1107117,)\n",
      "final_deepsmiles-pregen_cnn1d-6-128 1 (1107117,)\n",
      "final_ais_squeeze 1.0 (1107117,)\n",
      "final_roberta-mtr-mlm_chartokenize-all_ep11.2_na_0.668808 1.0 (1107117,)\n",
      "final_mamba_smileschar 1.0 (1107117,)\n",
      "\n",
      "\n",
      "\n",
      "PROCESSING nonshare with groups=[3, 4, 5, 6, 7, 8, 9, 10, 11]\n",
      "final_smileschar-pregen_cnn1d-6-128 0.5 (567779,)\n",
      "final_ais-pregen_cnn1d-6-128 0.5 (567779,)\n",
      "final_selfies-pregen_cnn1d-6-128 0.5 (567779,)\n",
      "final_deepsmiles-pregen_cnn1d-6-128 0.5 (567779,)\n",
      "final_smileschar-pregen_cnn1d-8-64 0.2 (567779,)\n",
      "final_smileschar-pregen_cnn1d-3-512 0.2 (567779,)\n",
      "final_selfies-pregen_cnn1d-3-512 0.2 (567779,)\n",
      "squeeze_first_version 3.0 (567779,)\n",
      "final_ais_squeeze 1.0 (567779,)\n",
      "final_squeeze-mtr_chartokenize-02_ep11_0.033802_0.651412 0.8 (567779,)\n",
      "final_squeeze-mtr-mlm_chartokenize-02_ep11_0.11199_0.648898 0.8 (567779,)\n",
      "final_roberta-mtr-mlm_chartokenize-all_ep11.2_na_0.668808 1.0 (567779,)\n",
      "final_mamba_smileschar 1.0 (567779,)\n",
      "final_pretrain-gin 0.5 (567779,)\n",
      "final_sage 0.1 (567779,)\n",
      "final_gcn 0.1 (567779,)\n"
     ]
    },
    {
     "data": {
      "text/html": [
       "<div>\n",
       "<style scoped>\n",
       "    .dataframe tbody tr th:only-of-type {\n",
       "        vertical-align: middle;\n",
       "    }\n",
       "\n",
       "    .dataframe tbody tr th {\n",
       "        vertical-align: top;\n",
       "    }\n",
       "\n",
       "    .dataframe thead th {\n",
       "        text-align: right;\n",
       "    }\n",
       "</style>\n",
       "<table border=\"1\" class=\"dataframe\">\n",
       "  <thead>\n",
       "    <tr style=\"text-align: right;\">\n",
       "      <th></th>\n",
       "      <th>id</th>\n",
       "      <th>group</th>\n",
       "      <th>binds</th>\n",
       "    </tr>\n",
       "  </thead>\n",
       "  <tbody>\n",
       "    <tr>\n",
       "      <th>0</th>\n",
       "      <td>295246830</td>\n",
       "      <td>6</td>\n",
       "      <td>8.441086e-06</td>\n",
       "    </tr>\n",
       "    <tr>\n",
       "      <th>1</th>\n",
       "      <td>295246831</td>\n",
       "      <td>7</td>\n",
       "      <td>1.530732e-04</td>\n",
       "    </tr>\n",
       "    <tr>\n",
       "      <th>2</th>\n",
       "      <td>295246832</td>\n",
       "      <td>8</td>\n",
       "      <td>3.202490e-07</td>\n",
       "    </tr>\n",
       "    <tr>\n",
       "      <th>3</th>\n",
       "      <td>295246833</td>\n",
       "      <td>6</td>\n",
       "      <td>3.482661e-06</td>\n",
       "    </tr>\n",
       "    <tr>\n",
       "      <th>4</th>\n",
       "      <td>295246834</td>\n",
       "      <td>7</td>\n",
       "      <td>9.574712e-05</td>\n",
       "    </tr>\n",
       "    <tr>\n",
       "      <th>...</th>\n",
       "      <td>...</td>\n",
       "      <td>...</td>\n",
       "      <td>...</td>\n",
       "    </tr>\n",
       "    <tr>\n",
       "      <th>1674891</th>\n",
       "      <td>296921721</td>\n",
       "      <td>1</td>\n",
       "      <td>1.866019e-05</td>\n",
       "    </tr>\n",
       "    <tr>\n",
       "      <th>1674892</th>\n",
       "      <td>296921722</td>\n",
       "      <td>2</td>\n",
       "      <td>3.772606e-06</td>\n",
       "    </tr>\n",
       "    <tr>\n",
       "      <th>1674893</th>\n",
       "      <td>296921723</td>\n",
       "      <td>0</td>\n",
       "      <td>8.078780e-08</td>\n",
       "    </tr>\n",
       "    <tr>\n",
       "      <th>1674894</th>\n",
       "      <td>296921724</td>\n",
       "      <td>1</td>\n",
       "      <td>3.263110e-05</td>\n",
       "    </tr>\n",
       "    <tr>\n",
       "      <th>1674895</th>\n",
       "      <td>296921725</td>\n",
       "      <td>2</td>\n",
       "      <td>2.119395e-08</td>\n",
       "    </tr>\n",
       "  </tbody>\n",
       "</table>\n",
       "<p>1674896 rows × 3 columns</p>\n",
       "</div>"
      ],
      "text/plain": [
       "                id  group         binds\n",
       "0        295246830      6  8.441086e-06\n",
       "1        295246831      7  1.530732e-04\n",
       "2        295246832      8  3.202490e-07\n",
       "3        295246833      6  3.482661e-06\n",
       "4        295246834      7  9.574712e-05\n",
       "...            ...    ...           ...\n",
       "1674891  296921721      1  1.866019e-05\n",
       "1674892  296921722      2  3.772606e-06\n",
       "1674893  296921723      0  8.078780e-08\n",
       "1674894  296921724      1  3.263110e-05\n",
       "1674895  296921725      2  2.119395e-08\n",
       "\n",
       "[1674896 rows x 3 columns]"
      ]
     },
     "execution_count": 10,
     "metadata": {},
     "output_type": "execute_result"
    }
   ],
   "source": [
    "SUBMIT_DIR = '/home/dangnh36/downloads/leash_submit/final/'\n",
    "\n",
    "ret_df = pd.DataFrame({\n",
    "        'id': PRED_IDS,\n",
    "        'group': GROUP_IDS,\n",
    "        'binds': -1.0\n",
    "})\n",
    "\n",
    "for group in ['share', 'nonshare']:\n",
    "    if group == 'share':\n",
    "        meta = SHARE_META\n",
    "        groups = SHARE_GROUPS\n",
    "    elif group == 'nonshare':\n",
    "        meta = NONSHARE_META\n",
    "        groups = NONSHARE_GROUPS\n",
    "\n",
    "    print(f'\\n\\n\\nPROCESSING {group} with groups={groups}')\n",
    "\n",
    "    preds_sum = 0\n",
    "    weight_sum = 0\n",
    "    for name, weight in meta:\n",
    "        \n",
    "        submit_dir = os.path.join(SUBMIT_DIR, name)\n",
    "        sub_names = os.listdir(submit_dir)\n",
    "        submit_all_name = [e for e in sub_names if e.endswith('_all.csv')]\n",
    "        assert len(submit_all_name) == 1\n",
    "        submit_all_name = submit_all_name[0]\n",
    "        csv_path = os.path.join(submit_dir, submit_all_name)\n",
    "        df = pl.scan_csv(csv_path).with_columns(group = GROUP_IDS).collect()\n",
    "        preds = df.filter(pl.col('group').is_in(groups))['binds'].to_numpy()\n",
    "        print(name, weight, preds.shape)\n",
    "        preds_sum  = preds_sum + preds * weight\n",
    "        weight_sum += weight\n",
    "\n",
    "    group_preds = preds_sum / weight_sum\n",
    "    assert group_preds.max() <= 1.0 and group_preds.min() >= 0.0\n",
    "    ret_df.loc[ret_df['group'].isin(groups), 'binds'] = group_preds\n",
    "    \n",
    "ret_df"
   ]
  },
  {
   "cell_type": "code",
   "execution_count": 11,
   "id": "35917150",
   "metadata": {},
   "outputs": [
    {
     "data": {
      "text/plain": [
       "count    1.674896e+06\n",
       "mean     4.231474e-03\n",
       "std      4.857571e-02\n",
       "min      1.822136e-18\n",
       "25%      1.501110e-06\n",
       "50%      2.374106e-05\n",
       "75%      2.459138e-04\n",
       "max      1.000000e+00\n",
       "Name: binds, dtype: float64"
      ]
     },
     "execution_count": 11,
     "metadata": {},
     "output_type": "execute_result"
    }
   ],
   "source": [
    "ret_df.binds.describe()"
   ]
  },
  {
   "cell_type": "code",
   "execution_count": 12,
   "id": "6eec0154",
   "metadata": {},
   "outputs": [
    {
     "data": {
      "text/plain": [
       "<Axes: >"
      ]
     },
     "execution_count": 12,
     "metadata": {},
     "output_type": "execute_result"
    },
    {
     "data": {
      "image/png": "[encoded data removed]",
      "text/plain": [
       "<Figure size 640x480 with 1 Axes>"
      ]
     },
     "metadata": {},
     "output_type": "display_data"
    }
   ],
   "source": [
    "ret_df.binds.hist(log = True)"
   ]
  },
  {
   "cell_type": "code",
   "execution_count": null,
   "id": "caa50ba0",
   "metadata": {},
   "outputs": [],
   "source": []
  },
  {
   "cell_type": "code",
   "execution_count": 13,
   "id": "84d7151d",
   "metadata": {},
   "outputs": [
    {
     "data": {
      "text/plain": [
       "0.004231473880623705"
      ]
     },
     "execution_count": 13,
     "metadata": {},
     "output_type": "execute_result"
    }
   ],
   "source": [
    "ret_df.binds.mean()"
   ]
  },
  {
   "cell_type": "code",
   "execution_count": 14,
   "id": "e9c91db4",
   "metadata": {},
   "outputs": [
    {
     "data": {
      "text/html": [
       "<div>\n",
       "<style scoped>\n",
       "    .dataframe tbody tr th:only-of-type {\n",
       "        vertical-align: middle;\n",
       "    }\n",
       "\n",
       "    .dataframe tbody tr th {\n",
       "        vertical-align: top;\n",
       "    }\n",
       "\n",
       "    .dataframe thead th {\n",
       "        text-align: right;\n",
       "    }\n",
       "</style>\n",
       "<table border=\"1\" class=\"dataframe\">\n",
       "  <thead>\n",
       "    <tr style=\"text-align: right;\">\n",
       "      <th></th>\n",
       "      <th>id</th>\n",
       "      <th>group</th>\n",
       "      <th>binds</th>\n",
       "    </tr>\n",
       "  </thead>\n",
       "  <tbody>\n",
       "    <tr>\n",
       "      <th>0</th>\n",
       "      <td>295246830</td>\n",
       "      <td>6</td>\n",
       "      <td>8.441086e-06</td>\n",
       "    </tr>\n",
       "    <tr>\n",
       "      <th>1</th>\n",
       "      <td>295246831</td>\n",
       "      <td>7</td>\n",
       "      <td>1.530732e-04</td>\n",
       "    </tr>\n",
       "    <tr>\n",
       "      <th>2</th>\n",
       "      <td>295246832</td>\n",
       "      <td>8</td>\n",
       "      <td>3.202490e-07</td>\n",
       "    </tr>\n",
       "    <tr>\n",
       "      <th>3</th>\n",
       "      <td>295246833</td>\n",
       "      <td>6</td>\n",
       "      <td>3.482661e-06</td>\n",
       "    </tr>\n",
       "    <tr>\n",
       "      <th>4</th>\n",
       "      <td>295246834</td>\n",
       "      <td>7</td>\n",
       "      <td>9.574712e-05</td>\n",
       "    </tr>\n",
       "    <tr>\n",
       "      <th>...</th>\n",
       "      <td>...</td>\n",
       "      <td>...</td>\n",
       "      <td>...</td>\n",
       "    </tr>\n",
       "    <tr>\n",
       "      <th>1674891</th>\n",
       "      <td>296921721</td>\n",
       "      <td>1</td>\n",
       "      <td>1.866019e-05</td>\n",
       "    </tr>\n",
       "    <tr>\n",
       "      <th>1674892</th>\n",
       "      <td>296921722</td>\n",
       "      <td>2</td>\n",
       "      <td>3.772606e-06</td>\n",
       "    </tr>\n",
       "    <tr>\n",
       "      <th>1674893</th>\n",
       "      <td>296921723</td>\n",
       "      <td>0</td>\n",
       "      <td>8.078780e-08</td>\n",
       "    </tr>\n",
       "    <tr>\n",
       "      <th>1674894</th>\n",
       "      <td>296921724</td>\n",
       "      <td>1</td>\n",
       "      <td>3.263110e-05</td>\n",
       "    </tr>\n",
       "    <tr>\n",
       "      <th>1674895</th>\n",
       "      <td>296921725</td>\n",
       "      <td>2</td>\n",
       "      <td>2.119395e-08</td>\n",
       "    </tr>\n",
       "  </tbody>\n",
       "</table>\n",
       "<p>1674896 rows × 3 columns</p>\n",
       "</div>"
      ],
      "text/plain": [
       "                id  group         binds\n",
       "0        295246830      6  8.441086e-06\n",
       "1        295246831      7  1.530732e-04\n",
       "2        295246832      8  3.202490e-07\n",
       "3        295246833      6  3.482661e-06\n",
       "4        295246834      7  9.574712e-05\n",
       "...            ...    ...           ...\n",
       "1674891  296921721      1  1.866019e-05\n",
       "1674892  296921722      2  3.772606e-06\n",
       "1674893  296921723      0  8.078780e-08\n",
       "1674894  296921724      1  3.263110e-05\n",
       "1674895  296921725      2  2.119395e-08\n",
       "\n",
       "[1674896 rows x 3 columns]"
      ]
     },
     "execution_count": 14,
     "metadata": {},
     "output_type": "execute_result"
    }
   ],
   "source": [
    "ret_df"
   ]
  },
  {
   "cell_type": "code",
   "execution_count": 15,
   "id": "ba38a6c1",
   "metadata": {},
   "outputs": [],
   "source": [
    "ret_df[['id', 'binds']].to_csv('/home/dangnh36/downloads/leash_submit/final/ensemble_v2.csv', index = False)"
   ]
  },
  {
   "cell_type": "code",
   "execution_count": null,
   "id": "e5a436a3",
   "metadata": {},
   "outputs": [],
   "source": []
  },
  {
   "cell_type": "code",
   "execution_count": null,
   "id": "ea7ff79d",
   "metadata": {},
   "outputs": [],
   "source": []
  },
  {
   "cell_type": "code",
   "execution_count": null,
   "id": "47de6530",
   "metadata": {},
   "outputs": [],
   "source": []
  },
  {
   "cell_type": "code",
   "execution_count": null,
   "id": "13664059",
   "metadata": {},
   "outputs": [],
   "source": []
  },
  {
   "cell_type": "code",
   "execution_count": null,
   "id": "8a90f175",
   "metadata": {},
   "outputs": [],
   "source": []
  },
  {
   "cell_type": "code",
   "execution_count": null,
   "id": "6d02f69d",
   "metadata": {},
   "outputs": [],
   "source": []
  },
  {
   "cell_type": "code",
   "execution_count": null,
   "id": "381056f7",
   "metadata": {},
   "outputs": [],
   "source": []
  },
  {
   "cell_type": "code",
   "execution_count": null,
   "id": "92378a46",
   "metadata": {},
   "outputs": [],
   "source": []
  },
  {
   "cell_type": "code",
   "execution_count": null,
   "id": "44c209d4",
   "metadata": {},
   "outputs": [],
   "source": []
  },
  {
   "cell_type": "code",
   "execution_count": null,
   "id": "0392284a",
   "metadata": {},
   "outputs": [],
   "source": []
  },
  {
   "cell_type": "code",
   "execution_count": null,
   "id": "0282934d",
   "metadata": {},
   "outputs": [],
   "source": []
  }
 ],
 "metadata": {
  "kernelspec": {
   "display_name": "Python 3 (ipykernel)",
   "language": "python",
   "name": "python3"
  },
  "language_info": {
   "codemirror_mode": {
    "name": "ipython",
    "version": 3
   },
   "file_extension": ".py",
   "mimetype": "text/x-python",
   "name": "python",
   "nbconvert_exporter": "python",
   "pygments_lexer": "ipython3",
   "version": "3.10.13"
  }
 },
 "nbformat": 4,
 "nbformat_minor": 5
}
