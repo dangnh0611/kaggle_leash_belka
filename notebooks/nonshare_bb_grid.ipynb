{
 "cells": [
  {
   "cell_type": "code",
   "execution_count": 1,
   "id": "3b714702",
   "metadata": {},
   "outputs": [
    {
     "name": "stderr",
     "output_type": "stream",
     "text": [
      "No normalization for SPS. Feature removed!\n",
      "No normalization for AvgIpc. Feature removed!\n",
      "Skipped loading some Tensorflow models, missing a dependency. No module named 'tensorflow'\n",
      "Skipped loading modules with pytorch-geometric dependency, missing a dependency. No module named 'torch_geometric'\n",
      "Skipped loading modules with pytorch-geometric dependency, missing a dependency. cannot import name 'DMPNN' from 'deepchem.models.torch_models' (/opt/conda/lib/python3.10/site-packages/deepchem/models/torch_models/__init__.py)\n",
      "Skipped loading some Jax models, missing a dependency. No module named 'jax'\n",
      "Skipped loading some PyTorch models, missing a dependency. No module named 'tensorflow'\n"
     ]
    }
   ],
   "source": [
    "import pandas as pd\n",
    "import numpy as np\n",
    "import os\n",
    "import sys\n",
    "import polars as pl\n",
    "import json\n",
    "from joblib import Parallel, delayed\n",
    "import deepchem\n",
    "from tqdm import tqdm\n",
    "import warnings\n",
    "warnings.filterwarnings(\"ignore\")\n",
    "\n",
    "# Configure Polars \n",
    "cfg = pl.Config()\n",
    "cfg.set_tbl_rows(20)\n",
    "cfg.set_tbl_cols(50)\n",
    "from sklearn.model_selection import StratifiedGroupKFold, GroupKFold, KFold, GroupShuffleSplit, ShuffleSplit, StratifiedKFold\n",
    "import gc\n",
    "import random\n",
    "from rdkit import Chem\n",
    "from rdkit.Chem import AllChem\n",
    "from rdkit import DataStructs\n",
    "import lap\n",
    "from typing import List, Tuple, Union\n",
    "import lap\n",
    "from matplotlib import pyplot as plt\n",
    "from rdkit.Chem import MACCSkeys\n",
    "from deepchem.splits.splitters import _generate_scaffold"
   ]
  },
  {
   "cell_type": "code",
   "execution_count": 2,
   "id": "8f5aae0e",
   "metadata": {},
   "outputs": [
    {
     "name": "stdout",
     "output_type": "stream",
     "text": [
      "train_bbs --> 1145\n",
      "train_bb1s --> 271\n",
      "train_bb2s --> 693\n",
      "train_bb3s --> 872\n",
      "test_bb1s --> 341\n",
      "test_bb2s --> 1140\n",
      "test_bb3s --> 1389\n",
      "test_bbs --> 2110\n",
      "all_bbs --> 2110\n"
     ]
    }
   ],
   "source": [
    "with open('/home/dangnh36/datasets/competitions/leash_belka/processed/meta/building_blocks.json', 'r') as f:\n",
    "    bbs_meta = json.load(f)\n",
    "    \n",
    "for k, v in bbs_meta.items():\n",
    "    print(k, '-->', len(v)) "
   ]
  },
  {
   "cell_type": "code",
   "execution_count": 3,
   "id": "b6ea3c6e",
   "metadata": {},
   "outputs": [
    {
     "name": "stdout",
     "output_type": "stream",
     "text": [
      "(98415610, 8) 8601.91998577118\n"
     ]
    },
    {
     "data": {
      "text/html": [
       "<div><style>\n",
       ".dataframe > thead > tr,\n",
       ".dataframe > tbody > tr {\n",
       "  text-align: right;\n",
       "  white-space: pre-wrap;\n",
       "}\n",
       "</style>\n",
       "<small>shape: (98_415_610, 8)</small><table border=\"1\" class=\"dataframe\"><thead><tr><th>molecule</th><th>bb1</th><th>bb2</th><th>bb3</th><th>BRD4</th><th>HSA</th><th>sEH</th><th>scaffold_idx</th></tr><tr><td>str</td><td>u16</td><td>u16</td><td>u16</td><td>u8</td><td>u8</td><td>u8</td><td>i64</td></tr></thead><tbody><tr><td>&quot;C#CCOc1ccc(CNc…</td><td>1640</td><td>1653</td><td>765</td><td>0</td><td>0</td><td>0</td><td>4283326</td></tr><tr><td>&quot;C#CCOc1ccc(CNc…</td><td>1640</td><td>1653</td><td>205</td><td>0</td><td>0</td><td>0</td><td>4486646</td></tr><tr><td>&quot;C#CCOc1ccc(CNc…</td><td>1640</td><td>1653</td><td>1653</td><td>0</td><td>0</td><td>0</td><td>1015728</td></tr><tr><td>&quot;C#CCOc1ccc(CNc…</td><td>1640</td><td>1653</td><td>146</td><td>0</td><td>0</td><td>0</td><td>5301385</td></tr><tr><td>&quot;C#CCOc1ccc(CNc…</td><td>1640</td><td>1653</td><td>439</td><td>0</td><td>0</td><td>0</td><td>5301385</td></tr><tr><td>&quot;C#CCOc1ccc(CNc…</td><td>1640</td><td>1653</td><td>196</td><td>0</td><td>0</td><td>0</td><td>5301385</td></tr><tr><td>&quot;C#CCOc1ccc(CNc…</td><td>1640</td><td>1653</td><td>253</td><td>0</td><td>0</td><td>0</td><td>5301385</td></tr><tr><td>&quot;C#CCOc1ccc(CNc…</td><td>1640</td><td>1653</td><td>1219</td><td>0</td><td>0</td><td>0</td><td>5301385</td></tr><tr><td>&quot;C#CCOc1ccc(CNc…</td><td>1640</td><td>1653</td><td>604</td><td>0</td><td>0</td><td>0</td><td>543172</td></tr><tr><td>&quot;C#CCOc1ccc(CNc…</td><td>1640</td><td>1653</td><td>121</td><td>0</td><td>0</td><td>0</td><td>2571428</td></tr><tr><td>&hellip;</td><td>&hellip;</td><td>&hellip;</td><td>&hellip;</td><td>&hellip;</td><td>&hellip;</td><td>&hellip;</td><td>&hellip;</td></tr><tr><td>&quot;[N-]=[N+]=NCCC…</td><td>141</td><td>1415</td><td>536</td><td>0</td><td>0</td><td>0</td><td>4068980</td></tr><tr><td>&quot;[N-]=[N+]=NCCC…</td><td>141</td><td>1415</td><td>1367</td><td>0</td><td>0</td><td>0</td><td>2088996</td></tr><tr><td>&quot;[N-]=[N+]=NCCC…</td><td>141</td><td>1415</td><td>329</td><td>0</td><td>0</td><td>0</td><td>3192765</td></tr><tr><td>&quot;[N-]=[N+]=NCCC…</td><td>141</td><td>1415</td><td>757</td><td>0</td><td>0</td><td>0</td><td>4085046</td></tr><tr><td>&quot;[N-]=[N+]=NCCC…</td><td>141</td><td>1415</td><td>335</td><td>0</td><td>0</td><td>0</td><td>4087757</td></tr><tr><td>&quot;[N-]=[N+]=NCCC…</td><td>141</td><td>1415</td><td>1792</td><td>0</td><td>0</td><td>0</td><td>4674025</td></tr><tr><td>&quot;[N-]=[N+]=NCCC…</td><td>141</td><td>1415</td><td>1178</td><td>0</td><td>0</td><td>0</td><td>5240137</td></tr><tr><td>&quot;[N-]=[N+]=NCCC…</td><td>141</td><td>1415</td><td>1699</td><td>0</td><td>0</td><td>0</td><td>5240137</td></tr><tr><td>&quot;[N-]=[N+]=NCCC…</td><td>141</td><td>1415</td><td>1308</td><td>0</td><td>0</td><td>0</td><td>3617024</td></tr><tr><td>&quot;[N-]=[N+]=NCCC…</td><td>141</td><td>1415</td><td>1415</td><td>0</td><td>0</td><td>0</td><td>268351</td></tr></tbody></table></div>"
      ],
      "text/plain": [
       "shape: (98_415_610, 8)\n",
       "┌───────────────────────────────────┬──────┬──────┬──────┬──────┬─────┬─────┬──────────────┐\n",
       "│ molecule                          ┆ bb1  ┆ bb2  ┆ bb3  ┆ BRD4 ┆ HSA ┆ sEH ┆ scaffold_idx │\n",
       "│ ---                               ┆ ---  ┆ ---  ┆ ---  ┆ ---  ┆ --- ┆ --- ┆ ---          │\n",
       "│ str                               ┆ u16  ┆ u16  ┆ u16  ┆ u8   ┆ u8  ┆ u8  ┆ i64          │\n",
       "╞═══════════════════════════════════╪══════╪══════╪══════╪══════╪═════╪═════╪══════════════╡\n",
       "│ C#CCOc1ccc(CNc2nc(NCC3CCCN3c3ccc… ┆ 1640 ┆ 1653 ┆ 765  ┆ 0    ┆ 0   ┆ 0   ┆ 4283326      │\n",
       "│ C#CCOc1ccc(CNc2nc(NCc3cccc(Br)n3… ┆ 1640 ┆ 1653 ┆ 205  ┆ 0    ┆ 0   ┆ 0   ┆ 4486646      │\n",
       "│ C#CCOc1ccc(CNc2nc(NCc3ccc(OCC#C)… ┆ 1640 ┆ 1653 ┆ 1653 ┆ 0    ┆ 0   ┆ 0   ┆ 1015728      │\n",
       "│ C#CCOc1ccc(CNc2nc(NCCNC(=O)C(=C)… ┆ 1640 ┆ 1653 ┆ 146  ┆ 0    ┆ 0   ┆ 0   ┆ 5301385      │\n",
       "│ C#CCOc1ccc(CNc2nc(NCC(=O)NCC=C)n… ┆ 1640 ┆ 1653 ┆ 439  ┆ 0    ┆ 0   ┆ 0   ┆ 5301385      │\n",
       "│ C#CCOc1ccc(CNc2nc(NCC(C)OCC=C)nc… ┆ 1640 ┆ 1653 ┆ 196  ┆ 0    ┆ 0   ┆ 0   ┆ 5301385      │\n",
       "│ C#CCOc1ccc(CNc2nc(NCCCOCC=C)nc(N… ┆ 1640 ┆ 1653 ┆ 253  ┆ 0    ┆ 0   ┆ 0   ┆ 5301385      │\n",
       "│ C#CCOc1ccc(CNc2nc(NCCOCC=C)nc(N[… ┆ 1640 ┆ 1653 ┆ 1219 ┆ 0    ┆ 0   ┆ 0   ┆ 5301385      │\n",
       "│ C#CCOc1ccc(CNc2nc(Nc3cnn(C4CCN(C… ┆ 1640 ┆ 1653 ┆ 604  ┆ 0    ┆ 0   ┆ 0   ┆ 543172       │\n",
       "│ C#CCOc1ccc(CNc2nc(Nc3n[nH]c4c3CN… ┆ 1640 ┆ 1653 ┆ 121  ┆ 0    ┆ 0   ┆ 0   ┆ 2571428      │\n",
       "│ …                                 ┆ …    ┆ …    ┆ …    ┆ …    ┆ …   ┆ …   ┆ …            │\n",
       "│ [N-]=[N+]=NCCC[C@H](Nc1nc(Nc2ncc… ┆ 141  ┆ 1415 ┆ 536  ┆ 0    ┆ 0   ┆ 0   ┆ 4068980      │\n",
       "│ [N-]=[N+]=NCCC[C@H](Nc1nc(Nc2ncn… ┆ 141  ┆ 1415 ┆ 1367 ┆ 0    ┆ 0   ┆ 0   ┆ 2088996      │\n",
       "│ [N-]=[N+]=NCCC[C@H](Nc1nc(Nc2ncn… ┆ 141  ┆ 1415 ┆ 329  ┆ 0    ┆ 0   ┆ 0   ┆ 3192765      │\n",
       "│ [N-]=[N+]=NCCC[C@H](Nc1nc(Nc2noc… ┆ 141  ┆ 1415 ┆ 757  ┆ 0    ┆ 0   ┆ 0   ┆ 4085046      │\n",
       "│ [N-]=[N+]=NCCC[C@H](Nc1nc(Nc2ncn… ┆ 141  ┆ 1415 ┆ 335  ┆ 0    ┆ 0   ┆ 0   ┆ 4087757      │\n",
       "│ [N-]=[N+]=NCCC[C@H](Nc1nc(Nc2noc… ┆ 141  ┆ 1415 ┆ 1792 ┆ 0    ┆ 0   ┆ 0   ┆ 4674025      │\n",
       "│ [N-]=[N+]=NCCC[C@H](Nc1nc(Nc2nnc… ┆ 141  ┆ 1415 ┆ 1178 ┆ 0    ┆ 0   ┆ 0   ┆ 5240137      │\n",
       "│ [N-]=[N+]=NCCC[C@H](Nc1nc(Nc2nnc… ┆ 141  ┆ 1415 ┆ 1699 ┆ 0    ┆ 0   ┆ 0   ┆ 5240137      │\n",
       "│ [N-]=[N+]=NCCC[C@H](Nc1nc(Nc2nnn… ┆ 141  ┆ 1415 ┆ 1308 ┆ 0    ┆ 0   ┆ 0   ┆ 3617024      │\n",
       "│ [N-]=[N+]=NCCC[C@H](Nc1nc(Nc2noc… ┆ 141  ┆ 1415 ┆ 1415 ┆ 0    ┆ 0   ┆ 0   ┆ 268351       │\n",
       "└───────────────────────────────────┴──────┴──────┴──────┴──────┴─────┴─────┴──────────────┘"
      ]
     },
     "execution_count": 3,
     "metadata": {},
     "output_type": "execute_result"
    }
   ],
   "source": [
    "train_scaffolds = pl.scan_csv('/home/dangnh36/datasets/competitions/leash_belka/processed/train_scaffold.csv').collect()\n",
    "train_df = pl.scan_csv('/home/dangnh36/datasets/competitions/leash_belka/processed/train_v2.csv')\\\n",
    "    .select(\n",
    "        pl.col('molecule'),\n",
    "        pl.col('bb1', 'bb2', 'bb3').cast(pl.UInt16),\n",
    "        pl.col('BRD4', 'HSA', 'sEH').cast(pl.UInt8),\n",
    "        scaffold_idx = train_scaffolds['scaffold_idx'],\n",
    "    )\\\n",
    "    .collect()\n",
    "print(train_df.shape, train_df.estimated_size('mb'))\n",
    "train_df"
   ]
  },
  {
   "cell_type": "code",
   "execution_count": 4,
   "id": "7e32407a",
   "metadata": {},
   "outputs": [
    {
     "name": "stdout",
     "output_type": "stream",
     "text": [
      "(878022, 8) 85.05668830871582\n"
     ]
    },
    {
     "data": {
      "text/html": [
       "<div><style>\n",
       ".dataframe > thead > tr,\n",
       ".dataframe > tbody > tr {\n",
       "  text-align: right;\n",
       "  white-space: pre-wrap;\n",
       "}\n",
       "</style>\n",
       "<small>shape: (878_022, 8)</small><table border=\"1\" class=\"dataframe\"><thead><tr><th>molecule</th><th>id</th><th>bb1</th><th>bb2</th><th>bb3</th><th>protein</th><th>scaffold_idx</th><th>mol_group</th></tr><tr><td>str</td><td>i64</td><td>u16</td><td>u16</td><td>u16</td><td>str</td><td>i64</td><td>u8</td></tr></thead><tbody><tr><td>&quot;C#CCCC[C@H](Nc…</td><td>295246830</td><td>1989</td><td>409</td><td>409</td><td>&quot;BRD4&quot;</td><td>2217250</td><td>2</td></tr><tr><td>&quot;C#CCCC[C@H](Nc…</td><td>295246833</td><td>1989</td><td>409</td><td>1012</td><td>&quot;BRD4&quot;</td><td>602641</td><td>2</td></tr><tr><td>&quot;C#CCCC[C@H](Nc…</td><td>295246836</td><td>1989</td><td>409</td><td>1722</td><td>&quot;BRD4&quot;</td><td>4502748</td><td>2</td></tr><tr><td>&quot;C#CCCC[C@H](Nc…</td><td>295246839</td><td>1989</td><td>409</td><td>1078</td><td>&quot;BRD4&quot;</td><td>3936208</td><td>2</td></tr><tr><td>&quot;C#CCCC[C@H](Nc…</td><td>295246842</td><td>1989</td><td>409</td><td>605</td><td>&quot;BRD4&quot;</td><td>4550856</td><td>2</td></tr><tr><td>&quot;C#CCCC[C@H](Nc…</td><td>295246845</td><td>1989</td><td>409</td><td>521</td><td>&quot;BRD4&quot;</td><td>4414349</td><td>2</td></tr><tr><td>&quot;C#CCCC[C@H](Nc…</td><td>295246848</td><td>1989</td><td>409</td><td>41</td><td>&quot;BRD4&quot;</td><td>5367715</td><td>2</td></tr><tr><td>&quot;C#CCCC[C@H](Nc…</td><td>295246851</td><td>1989</td><td>409</td><td>1826</td><td>&quot;BRD4&quot;</td><td>1422452</td><td>2</td></tr><tr><td>&quot;C#CCCC[C@H](Nc…</td><td>295246854</td><td>1989</td><td>409</td><td>1970</td><td>&quot;BRD4&quot;</td><td>4752663</td><td>2</td></tr><tr><td>&quot;C#CCCC[C@H](Nc…</td><td>295246857</td><td>1989</td><td>409</td><td>598</td><td>&quot;BRD4&quot;</td><td>5758930</td><td>2</td></tr><tr><td>&hellip;</td><td>&hellip;</td><td>&hellip;</td><td>&hellip;</td><td>&hellip;</td><td>&hellip;</td><td>&hellip;</td><td>&hellip;</td></tr><tr><td>&quot;[N-]=[N+]=NCCC…</td><td>296921696</td><td>141</td><td>1474</td><td>712</td><td>&quot;BRD4&quot;</td><td>1758733</td><td>0</td></tr><tr><td>&quot;[N-]=[N+]=NCCC…</td><td>296921699</td><td>141</td><td>1792</td><td>227</td><td>&quot;BRD4&quot;</td><td>3258407</td><td>0</td></tr><tr><td>&quot;[N-]=[N+]=NCCC…</td><td>296921702</td><td>141</td><td>1792</td><td>1092</td><td>&quot;BRD4&quot;</td><td>3526087</td><td>0</td></tr><tr><td>&quot;[N-]=[N+]=NCCC…</td><td>296921705</td><td>141</td><td>120</td><td>1280</td><td>&quot;BRD4&quot;</td><td>4100278</td><td>0</td></tr><tr><td>&quot;[N-]=[N+]=NCCC…</td><td>296921708</td><td>141</td><td>1178</td><td>1254</td><td>&quot;BRD4&quot;</td><td>2925996</td><td>0</td></tr><tr><td>&quot;Cn1ncc2cc(Nc3n…</td><td>296921711</td><td>141</td><td>1699</td><td>307</td><td>&quot;BRD4&quot;</td><td>3694466</td><td>0</td></tr><tr><td>&quot;[N-]=[N+]=NCCC…</td><td>296921714</td><td>141</td><td>1699</td><td>1254</td><td>&quot;BRD4&quot;</td><td>2925996</td><td>0</td></tr><tr><td>&quot;COC(=O)c1ccnc(…</td><td>296921717</td><td>141</td><td>1415</td><td>1390</td><td>&quot;BRD4&quot;</td><td>926159</td><td>0</td></tr><tr><td>&quot;COC1CCC(CCNc2n…</td><td>296921720</td><td>141</td><td>1415</td><td>1556</td><td>&quot;BRD4&quot;</td><td>3642883</td><td>0</td></tr><tr><td>&quot;[N-]=[N+]=NCCC…</td><td>296921723</td><td>141</td><td>1415</td><td>236</td><td>&quot;BRD4&quot;</td><td>2851961</td><td>0</td></tr></tbody></table></div>"
      ],
      "text/plain": [
       "shape: (878_022, 8)\n",
       "┌────────────────────────────┬───────────┬──────┬──────┬──────┬─────────┬──────────────┬───────────┐\n",
       "│ molecule                   ┆ id        ┆ bb1  ┆ bb2  ┆ bb3  ┆ protein ┆ scaffold_idx ┆ mol_group │\n",
       "│ ---                        ┆ ---       ┆ ---  ┆ ---  ┆ ---  ┆ ---     ┆ ---          ┆ ---       │\n",
       "│ str                        ┆ i64       ┆ u16  ┆ u16  ┆ u16  ┆ str     ┆ i64          ┆ u8        │\n",
       "╞════════════════════════════╪═══════════╪══════╪══════╪══════╪═════════╪══════════════╪═══════════╡\n",
       "│ C#CCCC[C@H](Nc1nc(Nc2ccc(C ┆ 295246830 ┆ 1989 ┆ 409  ┆ 409  ┆ BRD4    ┆ 2217250      ┆ 2         │\n",
       "│ =C)cc2…                    ┆           ┆      ┆      ┆      ┆         ┆              ┆           │\n",
       "│ C#CCCC[C@H](Nc1nc(Nc2ccc(C ┆ 295246833 ┆ 1989 ┆ 409  ┆ 1012 ┆ BRD4    ┆ 602641       ┆ 2         │\n",
       "│ =C)cc2…                    ┆           ┆      ┆      ┆      ┆         ┆              ┆           │\n",
       "│ C#CCCC[C@H](Nc1nc(NCC2(O)C ┆ 295246836 ┆ 1989 ┆ 409  ┆ 1722 ┆ BRD4    ┆ 4502748      ┆ 2         │\n",
       "│ CCC2(C…                    ┆           ┆      ┆      ┆      ┆         ┆              ┆           │\n",
       "│ C#CCCC[C@H](Nc1nc(Nc2ccc(C ┆ 295246839 ┆ 1989 ┆ 409  ┆ 1078 ┆ BRD4    ┆ 3936208      ┆ 2         │\n",
       "│ =C)cc2…                    ┆           ┆      ┆      ┆      ┆         ┆              ┆           │\n",
       "│ C#CCCC[C@H](Nc1nc(NCC2CCC( ┆ 295246842 ┆ 1989 ┆ 409  ┆ 605  ┆ BRD4    ┆ 4550856      ┆ 2         │\n",
       "│ SC)CC2…                    ┆           ┆      ┆      ┆      ┆         ┆              ┆           │\n",
       "│ C#CCCC[C@H](Nc1nc(NCc2ccc( ┆ 295246845 ┆ 1989 ┆ 409  ┆ 521  ┆ BRD4    ┆ 4414349      ┆ 2         │\n",
       "│ C)cc2N…                    ┆           ┆      ┆      ┆      ┆         ┆              ┆           │\n",
       "│ C#CCCC[C@H](Nc1nc(NCCc2ccc ┆ 295246848 ┆ 1989 ┆ 409  ┆ 41   ┆ BRD4    ┆ 5367715      ┆ 2         │\n",
       "│ (OCC(=…                    ┆           ┆      ┆      ┆      ┆         ┆              ┆           │\n",
       "│ C#CCCC[C@H](Nc1nc(NCCCNC(= ┆ 295246851 ┆ 1989 ┆ 409  ┆ 1826 ┆ BRD4    ┆ 1422452      ┆ 2         │\n",
       "│ O)c2oc…                    ┆           ┆      ┆      ┆      ┆         ┆              ┆           │\n",
       "│ C#CCCC[C@H](Nc1nc(NCc2nnc( ┆ 295246854 ┆ 1989 ┆ 409  ┆ 1970 ┆ BRD4    ┆ 4752663      ┆ 2         │\n",
       "│ N3CCCC…                    ┆           ┆      ┆      ┆      ┆         ┆              ┆           │\n",
       "│ C#CCCC[C@H](Nc1nc(NCCc2csc ┆ 295246857 ┆ 1989 ┆ 409  ┆ 598  ┆ BRD4    ┆ 5758930      ┆ 2         │\n",
       "│ 3ccccc…                    ┆           ┆      ┆      ┆      ┆         ┆              ┆           │\n",
       "│ …                          ┆ …         ┆ …    ┆ …    ┆ …    ┆ …       ┆ …            ┆ …         │\n",
       "│ [N-]=[N+]=NCCC[C@H](Nc1nc( ┆ 296921696 ┆ 141  ┆ 1474 ┆ 712  ┆ BRD4    ┆ 1758733      ┆ 0         │\n",
       "│ Nc2nc(…                    ┆           ┆      ┆      ┆      ┆         ┆              ┆           │\n",
       "│ [N-]=[N+]=NCCC[C@H](Nc1nc( ┆ 296921699 ┆ 141  ┆ 1792 ┆ 227  ┆ BRD4    ┆ 3258407      ┆ 0         │\n",
       "│ Nc2ncn…                    ┆           ┆      ┆      ┆      ┆         ┆              ┆           │\n",
       "│ [N-]=[N+]=NCCC[C@H](Nc1nc( ┆ 296921702 ┆ 141  ┆ 1792 ┆ 1092 ┆ BRD4    ┆ 3526087      ┆ 0         │\n",
       "│ Nc2cn3…                    ┆           ┆      ┆      ┆      ┆         ┆              ┆           │\n",
       "│ [N-]=[N+]=NCCC[C@H](Nc1nc( ┆ 296921705 ┆ 141  ┆ 120  ┆ 1280 ┆ BRD4    ┆ 4100278      ┆ 0         │\n",
       "│ NCC2(c…                    ┆           ┆      ┆      ┆      ┆         ┆              ┆           │\n",
       "│ [N-]=[N+]=NCCC[C@H](Nc1nc( ┆ 296921708 ┆ 141  ┆ 1178 ┆ 1254 ┆ BRD4    ┆ 2925996      ┆ 0         │\n",
       "│ NCC2CC…                    ┆           ┆      ┆      ┆      ┆         ┆              ┆           │\n",
       "│ Cn1ncc2cc(Nc3nc(Nc4nncs4)n ┆ 296921711 ┆ 141  ┆ 1699 ┆ 307  ┆ BRD4    ┆ 3694466      ┆ 0         │\n",
       "│ c(N[C@…                    ┆           ┆      ┆      ┆      ┆         ┆              ┆           │\n",
       "│ [N-]=[N+]=NCCC[C@H](Nc1nc( ┆ 296921714 ┆ 141  ┆ 1699 ┆ 1254 ┆ BRD4    ┆ 2925996      ┆ 0         │\n",
       "│ NCC2CC…                    ┆           ┆      ┆      ┆      ┆         ┆              ┆           │\n",
       "│ COC(=O)c1ccnc(Nc2nc(Nc3noc ┆ 296921717 ┆ 141  ┆ 1415 ┆ 1390 ┆ BRD4    ┆ 926159       ┆ 0         │\n",
       "│ 4ccc(F…                    ┆           ┆      ┆      ┆      ┆         ┆              ┆           │\n",
       "│ COC1CCC(CCNc2nc(Nc3noc4ccc ┆ 296921720 ┆ 141  ┆ 1415 ┆ 1556 ┆ BRD4    ┆ 3642883      ┆ 0         │\n",
       "│ (F)cc3…                    ┆           ┆      ┆      ┆      ┆         ┆              ┆           │\n",
       "│ [N-]=[N+]=NCCC[C@H](Nc1nc( ┆ 296921723 ┆ 141  ┆ 1415 ┆ 236  ┆ BRD4    ┆ 2851961      ┆ 0         │\n",
       "│ NCc2cc…                    ┆           ┆      ┆      ┆      ┆         ┆              ┆           │\n",
       "└────────────────────────────┴───────────┴──────┴──────┴──────┴─────────┴──────────────┴───────────┘"
      ]
     },
     "execution_count": 4,
     "metadata": {},
     "output_type": "execute_result"
    }
   ],
   "source": [
    "test_scaffolds = pl.scan_csv('/home/dangnh36/datasets/competitions/leash_belka/processed/test_scaffold.csv').collect()\n",
    "mol_groups = pl.scan_csv('/home/dangnh36/datasets/competitions/leash_belka/processed/test_v4.csv').select(pl.col('mol_group').cast(pl.UInt8)).collect()\n",
    "test_df = pl.scan_csv('/home/dangnh36/datasets/competitions/leash_belka/processed/test_v2.csv')\\\n",
    "    .select(\n",
    "        pl.col('id','molecule'),\n",
    "        pl.col('bb1', 'bb2', 'bb3').cast(pl.UInt16),\n",
    "        pl.col('protein'),\n",
    "        scaffold_idx = test_scaffolds['scaffold_idx']\n",
    "    ).group_by('molecule').first().sort('id').with_columns(mol_group = mol_groups['mol_group']).collect()\n",
    "print(test_df.shape, test_df.estimated_size('mb'))\n",
    "test_df"
   ]
  },
  {
   "cell_type": "code",
   "execution_count": 5,
   "id": "c844ff2e",
   "metadata": {},
   "outputs": [],
   "source": [
    "# for i in range(10000):\n",
    "#     s = _generate_scaffold(train_df[0, 'molecule'])\n",
    "#     assert 'y' not in s"
   ]
  },
  {
   "cell_type": "code",
   "execution_count": 6,
   "id": "ff994915",
   "metadata": {},
   "outputs": [
    {
     "data": {
      "text/plain": [
       "(271, 874)"
      ]
     },
     "execution_count": 6,
     "metadata": {},
     "output_type": "execute_result"
    }
   ],
   "source": [
    "all_bbs = bbs_meta['all_bbs']\n",
    "train_bb1s = bbs_meta['train_bb1s']\n",
    "train_bb2s = bbs_meta['train_bb2s']\n",
    "train_bb3s = bbs_meta['train_bb3s']\n",
    "train_bb23s = sorted(list(set(train_bb2s + train_bb3s)))\n",
    "len(train_bb1s), len(train_bb23s)"
   ]
  },
  {
   "cell_type": "code",
   "execution_count": 7,
   "id": "2506bbd8",
   "metadata": {},
   "outputs": [
    {
     "name": "stdout",
     "output_type": "stream",
     "text": [
      "Molecule: 271 874\n",
      "Scaffold: 62 270\n"
     ]
    }
   ],
   "source": [
    "train_bb1s_scaffolds = [_generate_scaffold(bb) for bb in train_bb1s]\n",
    "train_bb23s_scaffolds = [_generate_scaffold(bb) for bb in train_bb23s]\n",
    "print('Molecule:', len(train_bb1s), len(train_bb23s))\n",
    "print('Scaffold:', len(set(train_bb1s_scaffolds)), len(set(train_bb23s_scaffolds)))"
   ]
  },
  {
   "cell_type": "code",
   "execution_count": 36,
   "id": "3fa965bd",
   "metadata": {},
   "outputs": [
    {
     "name": "stdout",
     "output_type": "stream",
     "text": [
      "[[0, 1, 2, 3, 4], [5, 6, 7, 8, 9], [10, 11, 12, 13, 14], [15, 16, 17, 18]]\n",
      "[[0, 1], [1, 2], [2, 3], [3, 0]]\n",
      "[[0, 1, 2], [1, 2, 3], [2, 3, 0], [3, 0, 1]]\n"
     ]
    }
   ],
   "source": [
    "def split_to_chunk(arr, num_chunks):\n",
    "    num_per_chunk = len(arr) // num_chunks\n",
    "    residual = len(arr) % num_chunks\n",
    "    ret = []\n",
    "    cur_start = 0\n",
    "    for i in range(num_chunks):\n",
    "        cur_end = cur_start + num_per_chunk\n",
    "        if residual > 0:\n",
    "            cur_end += 1\n",
    "            residual -= 1\n",
    "        ret.append(arr[cur_start:cur_end])\n",
    "        cur_start = cur_end\n",
    "    return ret\n",
    "\n",
    "\n",
    "def make_combination_idxs(n, num_combine):\n",
    "    init_arr = list(range(n))\n",
    "    arrs = []\n",
    "    for i in range(num_combine):\n",
    "        arrs.append(init_arr[i:] + init_arr[:i])\n",
    "    return [[arrs[i][j] for i in range(num_combine)] for j in range(n)]\n",
    "\n",
    "def make_grid(bb1_splits, bb23_splits, bb1_cell_num_splits = 2, bb23_cell_num_splits = 2, shuffle = True):\n",
    "    \"\"\"\n",
    "    Args:\n",
    "        bb1_splits: List[List[int]]\n",
    "    \"\"\"\n",
    "    if shuffle:\n",
    "        random.seed(42)\n",
    "        from copy import deepcopy\n",
    "        bb1_splits = deepcopy(bb1_splits)\n",
    "        bb23_splits = deepcopy(bb23_splits)\n",
    "        random.shuffle(bb1_splits)\n",
    "        random.shuffle(bb23_splits)\n",
    "    \n",
    "    bb1_grid_idxs = make_combination_idxs(len(bb1_splits), bb1_cell_num_splits)\n",
    "    bb23_grid_idxs = make_combination_idxs(len(bb23_splits), bb23_cell_num_splits)\n",
    "    \n",
    "    print('BB1 GRID:', bb1_grid_idxs)\n",
    "    print('BB23 GRID:', bb23_grid_idxs)\n",
    "    \n",
    "    ret = []\n",
    "    grid_idx = -1\n",
    "    for i, bb1_split_idxs in enumerate(bb1_grid_idxs):\n",
    "        for j, bb23_split_idxs in enumerate(bb23_grid_idxs):\n",
    "            grid_idx += 1\n",
    "            bb1_idxs = []\n",
    "            bb23_idxs = []\n",
    "            for _split_idx in bb1_split_idxs:\n",
    "                bb1_idxs.extend(bb1_splits[_split_idx])\n",
    "            for _split_idx in bb23_split_idxs:\n",
    "                bb23_idxs.extend(bb23_splits[_split_idx])\n",
    "            ret.append({\n",
    "                'grid_idx': grid_idx,\n",
    "                'bb1_grid_idx': i,\n",
    "                'bb23_grid_idx': j,\n",
    "                'bb1_split_idxs': bb1_split_idxs,\n",
    "                'bb23_split_idxs': bb23_split_idxs,\n",
    "                'bb1_idxs': bb1_idxs,\n",
    "                'bb23_idxs': bb23_idxs,\n",
    "                'num_bb1s': len(bb1_idxs),\n",
    "                'num_bb23s': len(bb23_idxs),\n",
    "                'expected_num_samples': len(bb1_idxs) * len(bb23_idxs) * (len(bb23_idxs) + 1) / 2\n",
    "            })\n",
    "                     \n",
    "    return ret\n",
    "    \n",
    "print(split_to_chunk(list(range(19)), 4))\n",
    "print(make_combination_idxs(4, 2))\n",
    "print(make_combination_idxs(4, 3))"
   ]
  },
  {
   "cell_type": "markdown",
   "id": "2be761bc",
   "metadata": {},
   "source": [
    "BB1 scaffold distribution: [87, 47, 20, 13, 9, 8, 5, 4, 4, 4, 3, 3, 3, 2, 2, 2, 2, 2, 2, 2, 2, 2, 2, 2, 2, 1, 1, 1, 1, 1, 1, 1, 1, 1, 1, 1, 1, 1, 1, 1, 1, 1, 1, 1, 1, 1, 1, 1, 1, 1, 1, 1, 1, 1, 1, 1, 1, 1, 1, 1, 1, 1]"
   ]
  },
  {
   "cell_type": "code",
   "execution_count": 57,
   "id": "f84f49c8",
   "metadata": {},
   "outputs": [
    {
     "name": "stdout",
     "output_type": "stream",
     "text": [
      "[87, 47, 46, 46, 45] 271\n",
      "[126, 117, 106, 105, 105, 105, 105, 105] 874\n",
      "BB1 GRID: [[0, 1], [1, 2], [2, 3], [3, 4], [4, 0]]\n",
      "BB23 GRID: [[0, 1, 2], [1, 2, 3], [2, 3, 4], [3, 4, 5], [4, 5, 6], [5, 6, 7], [6, 7, 0], [7, 0, 1]]\n",
      "GRID LEN: 40\n",
      "Expected len: 4.5 M\n"
     ]
    }
   ],
   "source": [
    "# scaffold_gkf, scaffold, \n",
    "BB_SPLIT_METHOD = 'scaffold_gkf'\n",
    "BB1_SPLITS = 5\n",
    "BB23_SPLITS = 8\n",
    "BB1_CELL_LEN = 2\n",
    "BB23_CELL_LEN= 3\n",
    "SHUFFLE = True\n",
    "\n",
    "ret = {\n",
    "    'split_method': BB_SPLIT_METHOD,\n",
    "    'bb1_splits': BB1_SPLITS,\n",
    "    'bb23_splits': BB23_SPLITS,\n",
    "    'bb1_cell_len': BB1_CELL_LEN,\n",
    "    'bb23_cell_len': BB23_CELL_LEN,\n",
    "    'shuffle': SHUFFLE\n",
    "}\n",
    "\n",
    "bb1s = []\n",
    "bb23s = []\n",
    "if BB_SPLIT_METHOD == 'scaffold':\n",
    "    from collections import Counter\n",
    "    bb1_scaf_counter = dict(Counter(train_bb1s_scaffolds))\n",
    "    bb23_scaf_counter = dict(Counter(train_bb23s_scaffolds))\n",
    "    bb1_list = [(train_bb1s[i], train_bb1s_scaffolds[i], bb1_scaf_counter[train_bb1s_scaffolds[i]]) for i in range(len(train_bb1s))]\n",
    "    bb23_list = [(train_bb23s[i], train_bb23s_scaffolds[i], bb23_scaf_counter[train_bb23s_scaffolds[i]]) for i in range(len(train_bb23s))]\n",
    "    bb1_list.sort(key = lambda x: (x[2], x[0]), reverse=True)\n",
    "    bb23_list.sort(key = lambda x: (x[2], x[0]), reverse=True)\n",
    "#     print(bb1_list)\n",
    "#     print(bb23_list)\n",
    "    bb1s = split_to_chunk([e[0] for e in bb1_list], BB1_SPLITS)\n",
    "    bb23s = split_to_chunk([e[0] for e in bb23_list], BB23_SPLITS)\n",
    "elif BB_SPLIT_METHOD == 'scaffold_gkf':\n",
    "    from sklearn.model_selection import GroupKFold   \n",
    "    splitter1 = GroupKFold(n_splits=BB1_SPLITS)\n",
    "    for i, (train_idxs, val_idxs) in enumerate(splitter1.split(train_bb1s, train_bb1s, train_bb1s_scaffolds)):\n",
    "        bb1s.append([train_bb1s[_j] for _j in val_idxs])\n",
    "        \n",
    "    splitter23 = GroupKFold(n_splits=BB23_SPLITS)\n",
    "    for i, (train_idxs, val_idxs) in enumerate(splitter23.split(train_bb23s, train_bb23s, train_bb23s_scaffolds)):\n",
    "        bb23s.append([train_bb23s[_j] for _j in val_idxs])\n",
    "elif BB_SPLIT_METHOD == 'random':\n",
    "    pass\n",
    "else:\n",
    "    raise ValueError\n",
    "\n",
    "split_bb1_idxs = []\n",
    "split_bb23_idxs = []\n",
    "\n",
    "for split in bb1s:\n",
    "    split_bb1_idxs.append([all_bbs.index(e) for e in split])\n",
    "    \n",
    "for split in bb23s:\n",
    "    split_bb23_idxs.append([all_bbs.index(e) for e in split])\n",
    "\n",
    "print([len(split) for split in split_bb1_idxs], sum([len(split) for split in split_bb1_idxs]))\n",
    "print([len(split) for split in split_bb23_idxs], sum([len(split) for split in split_bb23_idxs]))\n",
    "\n",
    "# print(split_bb1_idxs)\n",
    "# print(split_bb23_idxs)\n",
    "\n",
    "ret['splits'] = {\n",
    "    'bb1': split_bb1_idxs,\n",
    "    'bb23': split_bb23_idxs\n",
    "}\n",
    "ret['grid'] = make_grid(split_bb1_idxs, split_bb23_idxs, BB1_CELL_LEN, BB23_CELL_LEN, shuffle=SHUFFLE)\n",
    "print('GRID LEN:', len(ret['grid']))\n",
    "expected_samples_per_cell = min([e['expected_num_samples'] for e in ret['grid']])\n",
    "print('Expected len:', round(expected_samples_per_cell / 1_000_000, 1), 'M')\n",
    "# print(ret)"
   ]
  },
  {
   "cell_type": "code",
   "execution_count": 58,
   "id": "e81870d4",
   "metadata": {},
   "outputs": [
    {
     "name": "stdout",
     "output_type": "stream",
     "text": [
      "/home/dangnh36/datasets/competitions/leash_belka/processed/cv/bb_grid/scaffold_gkf_5_8_2_3_shuffle_4.5M.json\n"
     ]
    }
   ],
   "source": [
    "SAVE_DIR = '/home/dangnh36/datasets/competitions/leash_belka/processed/cv/bb_grid/'\n",
    "os.makedirs(SAVE_DIR, exist_ok=True)\n",
    "SAVE_PATH = os.path.join(SAVE_DIR,\n",
    "  f'{BB_SPLIT_METHOD}_{BB1_SPLITS}_{BB23_SPLITS}_{BB1_CELL_LEN}_{BB23_CELL_LEN}{\"_shuffle\" if SHUFFLE else \"\"}_{round(expected_samples_per_cell / 1_000_000, 1)}M.json')\n",
    "\n",
    "print(SAVE_PATH)\n",
    "with open(SAVE_PATH, 'w') as f:\n",
    "    json.dump(ret, f, indent=4)"
   ]
  },
  {
   "cell_type": "code",
   "execution_count": null,
   "id": "18860906",
   "metadata": {},
   "outputs": [],
   "source": []
  },
  {
   "cell_type": "code",
   "execution_count": null,
   "id": "2ace9b68",
   "metadata": {},
   "outputs": [],
   "source": []
  },
  {
   "cell_type": "code",
   "execution_count": null,
   "id": "0258901b",
   "metadata": {},
   "outputs": [],
   "source": []
  },
  {
   "cell_type": "code",
   "execution_count": null,
   "id": "8a01a911",
   "metadata": {},
   "outputs": [],
   "source": []
  },
  {
   "cell_type": "code",
   "execution_count": null,
   "id": "6bd67bdf",
   "metadata": {},
   "outputs": [],
   "source": []
  },
  {
   "cell_type": "code",
   "execution_count": null,
   "id": "6003b394",
   "metadata": {},
   "outputs": [],
   "source": []
  },
  {
   "cell_type": "code",
   "execution_count": null,
   "id": "ef72a1bf",
   "metadata": {},
   "outputs": [],
   "source": []
  },
  {
   "cell_type": "code",
   "execution_count": null,
   "id": "2bbfd7a9",
   "metadata": {},
   "outputs": [],
   "source": []
  },
  {
   "cell_type": "code",
   "execution_count": null,
   "id": "dfe278fa",
   "metadata": {},
   "outputs": [],
   "source": []
  },
  {
   "cell_type": "code",
   "execution_count": null,
   "id": "2a0088b1",
   "metadata": {},
   "outputs": [],
   "source": []
  },
  {
   "cell_type": "code",
   "execution_count": null,
   "id": "c5a6a8a9",
   "metadata": {},
   "outputs": [],
   "source": []
  },
  {
   "cell_type": "code",
   "execution_count": null,
   "id": "5a3f7b24",
   "metadata": {},
   "outputs": [],
   "source": []
  },
  {
   "cell_type": "code",
   "execution_count": null,
   "id": "88f6eeb4",
   "metadata": {},
   "outputs": [],
   "source": []
  },
  {
   "cell_type": "code",
   "execution_count": null,
   "id": "fc9a4d4d",
   "metadata": {},
   "outputs": [],
   "source": []
  },
  {
   "cell_type": "code",
   "execution_count": null,
   "id": "735b7e98",
   "metadata": {},
   "outputs": [],
   "source": []
  },
  {
   "cell_type": "code",
   "execution_count": null,
   "id": "66fc1349",
   "metadata": {},
   "outputs": [],
   "source": []
  },
  {
   "cell_type": "code",
   "execution_count": null,
   "id": "de002cc5",
   "metadata": {},
   "outputs": [],
   "source": []
  },
  {
   "cell_type": "code",
   "execution_count": null,
   "id": "59a29702",
   "metadata": {},
   "outputs": [],
   "source": []
  },
  {
   "cell_type": "code",
   "execution_count": null,
   "id": "a5ac370b",
   "metadata": {},
   "outputs": [],
   "source": []
  },
  {
   "cell_type": "code",
   "execution_count": null,
   "id": "506b7319",
   "metadata": {},
   "outputs": [],
   "source": []
  },
  {
   "cell_type": "code",
   "execution_count": null,
   "id": "63ffbf94",
   "metadata": {},
   "outputs": [],
   "source": []
  },
  {
   "cell_type": "code",
   "execution_count": null,
   "id": "48b35b46",
   "metadata": {},
   "outputs": [],
   "source": []
  },
  {
   "cell_type": "code",
   "execution_count": null,
   "id": "79974dcd",
   "metadata": {},
   "outputs": [],
   "source": []
  },
  {
   "cell_type": "code",
   "execution_count": null,
   "id": "03a947d8",
   "metadata": {},
   "outputs": [],
   "source": []
  },
  {
   "cell_type": "code",
   "execution_count": null,
   "id": "96ec94a3",
   "metadata": {},
   "outputs": [],
   "source": []
  },
  {
   "cell_type": "code",
   "execution_count": null,
   "id": "a6df7e90",
   "metadata": {},
   "outputs": [],
   "source": []
  },
  {
   "cell_type": "code",
   "execution_count": null,
   "id": "730feb88",
   "metadata": {},
   "outputs": [],
   "source": []
  }
 ],
 "metadata": {
  "kernelspec": {
   "display_name": "Python 3 (ipykernel)",
   "language": "python",
   "name": "python3"
  },
  "language_info": {
   "codemirror_mode": {
    "name": "ipython",
    "version": 3
   },
   "file_extension": ".py",
   "mimetype": "text/x-python",
   "name": "python",
   "nbconvert_exporter": "python",
   "pygments_lexer": "ipython3",
   "version": "3.10.13"
  }
 },
 "nbformat": 4,
 "nbformat_minor": 5
}
