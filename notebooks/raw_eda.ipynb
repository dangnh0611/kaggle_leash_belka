{
 "cells": [
  {
   "cell_type": "code",
   "execution_count": 1,
   "id": "7e4d694e-a5b9-4f76-be0b-a7af92d5c643",
   "metadata": {},
   "outputs": [],
   "source": [
    "import pandas as pd\n",
    "import numpy as np\n",
    "import os\n",
    "import sys\n",
    "import polars as pl\n",
    "import json"
   ]
  },
  {
   "cell_type": "code",
   "execution_count": null,
   "id": "7e764cbf-9945-410c-8e1f-fc3a70336ea4",
   "metadata": {},
   "outputs": [],
   "source": []
  },
  {
   "cell_type": "code",
   "execution_count": null,
   "id": "ac96b621-df3a-4eb2-9810-9fbd1cc8d82d",
   "metadata": {},
   "outputs": [],
   "source": []
  },
  {
   "cell_type": "code",
   "execution_count": 2,
   "id": "5d53662a-1de3-4271-9207-ae355303742e",
   "metadata": {},
   "outputs": [],
   "source": [
    "TRAIN_CSV_PATH = '/home/dangnh36/datasets/competitions/leash_belka/raw/train.csv'\n",
    "TEST_CSV_PATH = '/home/dangnh36/datasets/competitions/leash_belka/raw/test.csv'"
   ]
  },
  {
   "cell_type": "code",
   "execution_count": 3,
   "id": "c234a2d4-e77f-4505-b0d7-90754735bfd7",
   "metadata": {},
   "outputs": [
    {
     "name": "stdout",
     "output_type": "stream",
     "text": [
      "['id', 'buildingblock1_smiles', 'buildingblock2_smiles', 'buildingblock3_smiles', 'molecule_smiles', 'protein_name', 'binds']\n"
     ]
    },
    {
     "data": {
      "text/html": [
       "<div><style>\n",
       ".dataframe > thead > tr,\n",
       ".dataframe > tbody > tr {\n",
       "  text-align: right;\n",
       "  white-space: pre-wrap;\n",
       "}\n",
       "</style>\n",
       "<small>shape: (10, 7)</small><table border=\"1\" class=\"dataframe\"><thead><tr><th>id</th><th>buildingblock1_smiles</th><th>buildingblock2_smiles</th><th>buildingblock3_smiles</th><th>molecule_smiles</th><th>protein_name</th><th>binds</th></tr><tr><td>i64</td><td>str</td><td>str</td><td>str</td><td>str</td><td>str</td><td>i64</td></tr></thead><tbody><tr><td>0</td><td>&quot;C#CC[C@@H](CC(…</td><td>&quot;C#CCOc1ccc(CN)…</td><td>&quot;Br.Br.NCC1CCCN…</td><td>&quot;C#CCOc1ccc(CNc…</td><td>&quot;BRD4&quot;</td><td>0</td></tr><tr><td>1</td><td>&quot;C#CC[C@@H](CC(…</td><td>&quot;C#CCOc1ccc(CN)…</td><td>&quot;Br.Br.NCC1CCCN…</td><td>&quot;C#CCOc1ccc(CNc…</td><td>&quot;HSA&quot;</td><td>0</td></tr><tr><td>2</td><td>&quot;C#CC[C@@H](CC(…</td><td>&quot;C#CCOc1ccc(CN)…</td><td>&quot;Br.Br.NCC1CCCN…</td><td>&quot;C#CCOc1ccc(CNc…</td><td>&quot;sEH&quot;</td><td>0</td></tr><tr><td>3</td><td>&quot;C#CC[C@@H](CC(…</td><td>&quot;C#CCOc1ccc(CN)…</td><td>&quot;Br.NCc1cccc(Br…</td><td>&quot;C#CCOc1ccc(CNc…</td><td>&quot;BRD4&quot;</td><td>0</td></tr><tr><td>4</td><td>&quot;C#CC[C@@H](CC(…</td><td>&quot;C#CCOc1ccc(CN)…</td><td>&quot;Br.NCc1cccc(Br…</td><td>&quot;C#CCOc1ccc(CNc…</td><td>&quot;HSA&quot;</td><td>0</td></tr><tr><td>5</td><td>&quot;C#CC[C@@H](CC(…</td><td>&quot;C#CCOc1ccc(CN)…</td><td>&quot;Br.NCc1cccc(Br…</td><td>&quot;C#CCOc1ccc(CNc…</td><td>&quot;sEH&quot;</td><td>0</td></tr><tr><td>6</td><td>&quot;C#CC[C@@H](CC(…</td><td>&quot;C#CCOc1ccc(CN)…</td><td>&quot;C#CCOc1ccc(CN)…</td><td>&quot;C#CCOc1ccc(CNc…</td><td>&quot;BRD4&quot;</td><td>0</td></tr><tr><td>7</td><td>&quot;C#CC[C@@H](CC(…</td><td>&quot;C#CCOc1ccc(CN)…</td><td>&quot;C#CCOc1ccc(CN)…</td><td>&quot;C#CCOc1ccc(CNc…</td><td>&quot;HSA&quot;</td><td>0</td></tr><tr><td>8</td><td>&quot;C#CC[C@@H](CC(…</td><td>&quot;C#CCOc1ccc(CN)…</td><td>&quot;C#CCOc1ccc(CN)…</td><td>&quot;C#CCOc1ccc(CNc…</td><td>&quot;sEH&quot;</td><td>0</td></tr><tr><td>9</td><td>&quot;C#CC[C@@H](CC(…</td><td>&quot;C#CCOc1ccc(CN)…</td><td>&quot;C=C(C)C(=O)NCC…</td><td>&quot;C#CCOc1ccc(CNc…</td><td>&quot;BRD4&quot;</td><td>0</td></tr></tbody></table></div>"
      ],
      "text/plain": [
       "shape: (10, 7)\n",
       "┌─────┬─────────────────┬─────────────────┬────────────────┬────────────────┬──────────────┬───────┐\n",
       "│ id  ┆ buildingblock1_ ┆ buildingblock2_ ┆ buildingblock3 ┆ molecule_smile ┆ protein_name ┆ binds │\n",
       "│ --- ┆ smiles          ┆ smiles          ┆ _smiles        ┆ s              ┆ ---          ┆ ---   │\n",
       "│ i64 ┆ ---             ┆ ---             ┆ ---            ┆ ---            ┆ str          ┆ i64   │\n",
       "│     ┆ str             ┆ str             ┆ str            ┆ str            ┆              ┆       │\n",
       "╞═════╪═════════════════╪═════════════════╪════════════════╪════════════════╪══════════════╪═══════╡\n",
       "│ 0   ┆ C#CC[C@@H](CC(= ┆ C#CCOc1ccc(CN)c ┆ Br.Br.NCC1CCCN ┆ C#CCOc1ccc(CNc ┆ BRD4         ┆ 0     │\n",
       "│     ┆ O)O)NC(=O)OCC1c ┆ c1.Cl           ┆ 1c1cccnn1      ┆ 2nc(NCC3CCCN3c ┆              ┆       │\n",
       "│     ┆ 2c…             ┆                 ┆                ┆ 3ccc…          ┆              ┆       │\n",
       "│ 1   ┆ C#CC[C@@H](CC(= ┆ C#CCOc1ccc(CN)c ┆ Br.Br.NCC1CCCN ┆ C#CCOc1ccc(CNc ┆ HSA          ┆ 0     │\n",
       "│     ┆ O)O)NC(=O)OCC1c ┆ c1.Cl           ┆ 1c1cccnn1      ┆ 2nc(NCC3CCCN3c ┆              ┆       │\n",
       "│     ┆ 2c…             ┆                 ┆                ┆ 3ccc…          ┆              ┆       │\n",
       "│ 2   ┆ C#CC[C@@H](CC(= ┆ C#CCOc1ccc(CN)c ┆ Br.Br.NCC1CCCN ┆ C#CCOc1ccc(CNc ┆ sEH          ┆ 0     │\n",
       "│     ┆ O)O)NC(=O)OCC1c ┆ c1.Cl           ┆ 1c1cccnn1      ┆ 2nc(NCC3CCCN3c ┆              ┆       │\n",
       "│     ┆ 2c…             ┆                 ┆                ┆ 3ccc…          ┆              ┆       │\n",
       "│ 3   ┆ C#CC[C@@H](CC(= ┆ C#CCOc1ccc(CN)c ┆ Br.NCc1cccc(Br ┆ C#CCOc1ccc(CNc ┆ BRD4         ┆ 0     │\n",
       "│     ┆ O)O)NC(=O)OCC1c ┆ c1.Cl           ┆ )n1            ┆ 2nc(NCc3cccc(B ┆              ┆       │\n",
       "│     ┆ 2c…             ┆                 ┆                ┆ r)n3…          ┆              ┆       │\n",
       "│ 4   ┆ C#CC[C@@H](CC(= ┆ C#CCOc1ccc(CN)c ┆ Br.NCc1cccc(Br ┆ C#CCOc1ccc(CNc ┆ HSA          ┆ 0     │\n",
       "│     ┆ O)O)NC(=O)OCC1c ┆ c1.Cl           ┆ )n1            ┆ 2nc(NCc3cccc(B ┆              ┆       │\n",
       "│     ┆ 2c…             ┆                 ┆                ┆ r)n3…          ┆              ┆       │\n",
       "│ 5   ┆ C#CC[C@@H](CC(= ┆ C#CCOc1ccc(CN)c ┆ Br.NCc1cccc(Br ┆ C#CCOc1ccc(CNc ┆ sEH          ┆ 0     │\n",
       "│     ┆ O)O)NC(=O)OCC1c ┆ c1.Cl           ┆ )n1            ┆ 2nc(NCc3cccc(B ┆              ┆       │\n",
       "│     ┆ 2c…             ┆                 ┆                ┆ r)n3…          ┆              ┆       │\n",
       "│ 6   ┆ C#CC[C@@H](CC(= ┆ C#CCOc1ccc(CN)c ┆ C#CCOc1ccc(CN) ┆ C#CCOc1ccc(CNc ┆ BRD4         ┆ 0     │\n",
       "│     ┆ O)O)NC(=O)OCC1c ┆ c1.Cl           ┆ cc1.Cl         ┆ 2nc(NCc3ccc(OC ┆              ┆       │\n",
       "│     ┆ 2c…             ┆                 ┆                ┆ C#C)…          ┆              ┆       │\n",
       "│ 7   ┆ C#CC[C@@H](CC(= ┆ C#CCOc1ccc(CN)c ┆ C#CCOc1ccc(CN) ┆ C#CCOc1ccc(CNc ┆ HSA          ┆ 0     │\n",
       "│     ┆ O)O)NC(=O)OCC1c ┆ c1.Cl           ┆ cc1.Cl         ┆ 2nc(NCc3ccc(OC ┆              ┆       │\n",
       "│     ┆ 2c…             ┆                 ┆                ┆ C#C)…          ┆              ┆       │\n",
       "│ 8   ┆ C#CC[C@@H](CC(= ┆ C#CCOc1ccc(CN)c ┆ C#CCOc1ccc(CN) ┆ C#CCOc1ccc(CNc ┆ sEH          ┆ 0     │\n",
       "│     ┆ O)O)NC(=O)OCC1c ┆ c1.Cl           ┆ cc1.Cl         ┆ 2nc(NCc3ccc(OC ┆              ┆       │\n",
       "│     ┆ 2c…             ┆                 ┆                ┆ C#C)…          ┆              ┆       │\n",
       "│ 9   ┆ C#CC[C@@H](CC(= ┆ C#CCOc1ccc(CN)c ┆ C=C(C)C(=O)NCC ┆ C#CCOc1ccc(CNc ┆ BRD4         ┆ 0     │\n",
       "│     ┆ O)O)NC(=O)OCC1c ┆ c1.Cl           ┆ N.Cl           ┆ 2nc(NCCNC(=O)C ┆              ┆       │\n",
       "│     ┆ 2c…             ┆                 ┆                ┆ (=C)…          ┆              ┆       │\n",
       "└─────┴─────────────────┴─────────────────┴────────────────┴────────────────┴──────────────┴───────┘"
      ]
     },
     "execution_count": 3,
     "metadata": {},
     "output_type": "execute_result"
    }
   ],
   "source": [
    "df = pl.scan_csv(TRAIN_CSV_PATH)\n",
    "print(df.columns)\n",
    "df.head(10).collect()"
   ]
  },
  {
   "cell_type": "code",
   "execution_count": 4,
   "id": "c15622c8-6b7f-4eee-b011-e8b95cef0c0a",
   "metadata": {},
   "outputs": [
    {
     "data": {
      "text/html": [
       "<div><style>\n",
       ".dataframe > thead > tr,\n",
       ".dataframe > tbody > tr {\n",
       "  text-align: right;\n",
       "  white-space: pre-wrap;\n",
       "}\n",
       "</style>\n",
       "<small>shape: (295_246_830, 7)</small><table border=\"1\" class=\"dataframe\"><thead><tr><th>id</th><th>bb1</th><th>bb2</th><th>bb3</th><th>molecule</th><th>protein</th><th>binds</th></tr><tr><td>i64</td><td>cat</td><td>cat</td><td>cat</td><td>cat</td><td>enum</td><td>bool</td></tr></thead><tbody><tr><td>0</td><td>&quot;C#CC[C@@H](CC(…</td><td>&quot;C#CCOc1ccc(CN)…</td><td>&quot;Br.Br.NCC1CCCN…</td><td>&quot;C#CCOc1ccc(CNc…</td><td>&quot;BRD4&quot;</td><td>false</td></tr><tr><td>1</td><td>&quot;C#CC[C@@H](CC(…</td><td>&quot;C#CCOc1ccc(CN)…</td><td>&quot;Br.Br.NCC1CCCN…</td><td>&quot;C#CCOc1ccc(CNc…</td><td>&quot;HSA&quot;</td><td>false</td></tr><tr><td>2</td><td>&quot;C#CC[C@@H](CC(…</td><td>&quot;C#CCOc1ccc(CN)…</td><td>&quot;Br.Br.NCC1CCCN…</td><td>&quot;C#CCOc1ccc(CNc…</td><td>&quot;sEH&quot;</td><td>false</td></tr><tr><td>3</td><td>&quot;C#CC[C@@H](CC(…</td><td>&quot;C#CCOc1ccc(CN)…</td><td>&quot;Br.NCc1cccc(Br…</td><td>&quot;C#CCOc1ccc(CNc…</td><td>&quot;BRD4&quot;</td><td>false</td></tr><tr><td>4</td><td>&quot;C#CC[C@@H](CC(…</td><td>&quot;C#CCOc1ccc(CN)…</td><td>&quot;Br.NCc1cccc(Br…</td><td>&quot;C#CCOc1ccc(CNc…</td><td>&quot;HSA&quot;</td><td>false</td></tr><tr><td>&hellip;</td><td>&hellip;</td><td>&hellip;</td><td>&hellip;</td><td>&hellip;</td><td>&hellip;</td><td>&hellip;</td></tr><tr><td>295246825</td><td>&quot;[N-]=[N+]=NCCC…</td><td>&quot;Nc1noc2ccc(F)c…</td><td>&quot;Nc1nnn[nH]1&quot;</td><td>&quot;[N-]=[N+]=NCCC…</td><td>&quot;HSA&quot;</td><td>false</td></tr><tr><td>295246826</td><td>&quot;[N-]=[N+]=NCCC…</td><td>&quot;Nc1noc2ccc(F)c…</td><td>&quot;Nc1nnn[nH]1&quot;</td><td>&quot;[N-]=[N+]=NCCC…</td><td>&quot;sEH&quot;</td><td>false</td></tr><tr><td>295246827</td><td>&quot;[N-]=[N+]=NCCC…</td><td>&quot;Nc1noc2ccc(F)c…</td><td>&quot;Nc1noc2ccc(F)c…</td><td>&quot;[N-]=[N+]=NCCC…</td><td>&quot;BRD4&quot;</td><td>false</td></tr><tr><td>295246828</td><td>&quot;[N-]=[N+]=NCCC…</td><td>&quot;Nc1noc2ccc(F)c…</td><td>&quot;Nc1noc2ccc(F)c…</td><td>&quot;[N-]=[N+]=NCCC…</td><td>&quot;HSA&quot;</td><td>false</td></tr><tr><td>295246829</td><td>&quot;[N-]=[N+]=NCCC…</td><td>&quot;Nc1noc2ccc(F)c…</td><td>&quot;Nc1noc2ccc(F)c…</td><td>&quot;[N-]=[N+]=NCCC…</td><td>&quot;sEH&quot;</td><td>false</td></tr></tbody></table></div>"
      ],
      "text/plain": [
       "shape: (295_246_830, 7)\n",
       "┌───────────┬─────────────────┬────────────────┬────────────────┬────────────────┬─────────┬───────┐\n",
       "│ id        ┆ bb1             ┆ bb2            ┆ bb3            ┆ molecule       ┆ protein ┆ binds │\n",
       "│ ---       ┆ ---             ┆ ---            ┆ ---            ┆ ---            ┆ ---     ┆ ---   │\n",
       "│ i64       ┆ cat             ┆ cat            ┆ cat            ┆ cat            ┆ enum    ┆ bool  │\n",
       "╞═══════════╪═════════════════╪════════════════╪════════════════╪════════════════╪═════════╪═══════╡\n",
       "│ 0         ┆ C#CC[C@@H](CC(= ┆ C#CCOc1ccc(CN) ┆ Br.Br.NCC1CCCN ┆ C#CCOc1ccc(CNc ┆ BRD4    ┆ false │\n",
       "│           ┆ O)O)NC(=O)OCC1c ┆ cc1.Cl         ┆ 1c1cccnn1      ┆ 2nc(NCC3CCCN3c ┆         ┆       │\n",
       "│           ┆ 2c…             ┆                ┆                ┆ 3ccc…          ┆         ┆       │\n",
       "│ 1         ┆ C#CC[C@@H](CC(= ┆ C#CCOc1ccc(CN) ┆ Br.Br.NCC1CCCN ┆ C#CCOc1ccc(CNc ┆ HSA     ┆ false │\n",
       "│           ┆ O)O)NC(=O)OCC1c ┆ cc1.Cl         ┆ 1c1cccnn1      ┆ 2nc(NCC3CCCN3c ┆         ┆       │\n",
       "│           ┆ 2c…             ┆                ┆                ┆ 3ccc…          ┆         ┆       │\n",
       "│ 2         ┆ C#CC[C@@H](CC(= ┆ C#CCOc1ccc(CN) ┆ Br.Br.NCC1CCCN ┆ C#CCOc1ccc(CNc ┆ sEH     ┆ false │\n",
       "│           ┆ O)O)NC(=O)OCC1c ┆ cc1.Cl         ┆ 1c1cccnn1      ┆ 2nc(NCC3CCCN3c ┆         ┆       │\n",
       "│           ┆ 2c…             ┆                ┆                ┆ 3ccc…          ┆         ┆       │\n",
       "│ 3         ┆ C#CC[C@@H](CC(= ┆ C#CCOc1ccc(CN) ┆ Br.NCc1cccc(Br ┆ C#CCOc1ccc(CNc ┆ BRD4    ┆ false │\n",
       "│           ┆ O)O)NC(=O)OCC1c ┆ cc1.Cl         ┆ )n1            ┆ 2nc(NCc3cccc(B ┆         ┆       │\n",
       "│           ┆ 2c…             ┆                ┆                ┆ r)n3…          ┆         ┆       │\n",
       "│ 4         ┆ C#CC[C@@H](CC(= ┆ C#CCOc1ccc(CN) ┆ Br.NCc1cccc(Br ┆ C#CCOc1ccc(CNc ┆ HSA     ┆ false │\n",
       "│           ┆ O)O)NC(=O)OCC1c ┆ cc1.Cl         ┆ )n1            ┆ 2nc(NCc3cccc(B ┆         ┆       │\n",
       "│           ┆ 2c…             ┆                ┆                ┆ r)n3…          ┆         ┆       │\n",
       "│ …         ┆ …               ┆ …              ┆ …              ┆ …              ┆ …       ┆ …     │\n",
       "│ 295246825 ┆ [N-]=[N+]=NCCC[ ┆ Nc1noc2ccc(F)c ┆ Nc1nnn[nH]1    ┆ [N-]=[N+]=NCCC ┆ HSA     ┆ false │\n",
       "│           ┆ C@H](NC(=O)OCC1 ┆ c12            ┆                ┆ [C@H](Nc1nc(Nc ┆         ┆       │\n",
       "│           ┆ c2…             ┆                ┆                ┆ 2nnn…          ┆         ┆       │\n",
       "│ 295246826 ┆ [N-]=[N+]=NCCC[ ┆ Nc1noc2ccc(F)c ┆ Nc1nnn[nH]1    ┆ [N-]=[N+]=NCCC ┆ sEH     ┆ false │\n",
       "│           ┆ C@H](NC(=O)OCC1 ┆ c12            ┆                ┆ [C@H](Nc1nc(Nc ┆         ┆       │\n",
       "│           ┆ c2…             ┆                ┆                ┆ 2nnn…          ┆         ┆       │\n",
       "│ 295246827 ┆ [N-]=[N+]=NCCC[ ┆ Nc1noc2ccc(F)c ┆ Nc1noc2ccc(F)c ┆ [N-]=[N+]=NCCC ┆ BRD4    ┆ false │\n",
       "│           ┆ C@H](NC(=O)OCC1 ┆ c12            ┆ c12            ┆ [C@H](Nc1nc(Nc ┆         ┆       │\n",
       "│           ┆ c2…             ┆                ┆                ┆ 2noc…          ┆         ┆       │\n",
       "│ 295246828 ┆ [N-]=[N+]=NCCC[ ┆ Nc1noc2ccc(F)c ┆ Nc1noc2ccc(F)c ┆ [N-]=[N+]=NCCC ┆ HSA     ┆ false │\n",
       "│           ┆ C@H](NC(=O)OCC1 ┆ c12            ┆ c12            ┆ [C@H](Nc1nc(Nc ┆         ┆       │\n",
       "│           ┆ c2…             ┆                ┆                ┆ 2noc…          ┆         ┆       │\n",
       "│ 295246829 ┆ [N-]=[N+]=NCCC[ ┆ Nc1noc2ccc(F)c ┆ Nc1noc2ccc(F)c ┆ [N-]=[N+]=NCCC ┆ sEH     ┆ false │\n",
       "│           ┆ C@H](NC(=O)OCC1 ┆ c12            ┆ c12            ┆ [C@H](Nc1nc(Nc ┆         ┆       │\n",
       "│           ┆ c2…             ┆                ┆                ┆ 2noc…          ┆         ┆       │\n",
       "└───────────┴─────────────────┴────────────────┴────────────────┴────────────────┴─────────┴───────┘"
      ]
     },
     "execution_count": 4,
     "metadata": {},
     "output_type": "execute_result"
    }
   ],
   "source": [
    "df = pl.scan_csv(TRAIN_CSV_PATH,\n",
    "            new_columns = ['id', 'bb1', 'bb2', 'bb3', 'molecule', 'protein', 'binds'],\n",
    "           dtypes = {\n",
    "               'bb1': pl.Categorical,\n",
    "               'bb2': pl.Categorical,\n",
    "               'bb3': pl.Categorical,\n",
    "               'molecule': pl.Categorical,\n",
    "               'protein': pl.Categorical,\n",
    "               'binds': pl.Int8,\n",
    "           }).cast({'protein': pl.Enum(['BRD4', 'HSA', 'sEH']), 'binds': pl.Boolean}).collect()\n",
    "df"
   ]
  },
  {
   "cell_type": "code",
   "execution_count": 5,
   "id": "8bf8aefd-b86d-439a-b0d6-d4e800ea452a",
   "metadata": {},
   "outputs": [
    {
     "data": {
      "text/html": [
       "<div><style>\n",
       ".dataframe > thead > tr,\n",
       ".dataframe > tbody > tr {\n",
       "  text-align: right;\n",
       "  white-space: pre-wrap;\n",
       "}\n",
       "</style>\n",
       "<small>shape: (9, 8)</small><table border=\"1\" class=\"dataframe\"><thead><tr><th>statistic</th><th>id</th><th>bb1</th><th>bb2</th><th>bb3</th><th>molecule</th><th>protein</th><th>binds</th></tr><tr><td>str</td><td>f64</td><td>str</td><td>str</td><td>str</td><td>str</td><td>str</td><td>f64</td></tr></thead><tbody><tr><td>&quot;count&quot;</td><td>2.9524683e8</td><td>&quot;295246830&quot;</td><td>&quot;295246830&quot;</td><td>&quot;295246830&quot;</td><td>&quot;295246830&quot;</td><td>&quot;295246830&quot;</td><td>2.9524683e8</td></tr><tr><td>&quot;null_count&quot;</td><td>0.0</td><td>&quot;0&quot;</td><td>&quot;0&quot;</td><td>&quot;0&quot;</td><td>&quot;0&quot;</td><td>&quot;0&quot;</td><td>0.0</td></tr><tr><td>&quot;mean&quot;</td><td>1.4762e8</td><td>null</td><td>null</td><td>null</td><td>null</td><td>null</td><td>0.005385</td></tr><tr><td>&quot;std&quot;</td><td>8.5230e7</td><td>null</td><td>null</td><td>null</td><td>null</td><td>null</td><td>null</td></tr><tr><td>&quot;min&quot;</td><td>0.0</td><td>null</td><td>null</td><td>null</td><td>null</td><td>null</td><td>0.0</td></tr><tr><td>&quot;25%&quot;</td><td>7.3811707e7</td><td>null</td><td>null</td><td>null</td><td>null</td><td>null</td><td>null</td></tr><tr><td>&quot;50%&quot;</td><td>1.47623415e8</td><td>null</td><td>null</td><td>null</td><td>null</td><td>null</td><td>null</td></tr><tr><td>&quot;75%&quot;</td><td>2.21435122e8</td><td>null</td><td>null</td><td>null</td><td>null</td><td>null</td><td>null</td></tr><tr><td>&quot;max&quot;</td><td>2.95246829e8</td><td>null</td><td>null</td><td>null</td><td>null</td><td>null</td><td>1.0</td></tr></tbody></table></div>"
      ],
      "text/plain": [
       "shape: (9, 8)\n",
       "┌────────────┬────────────┬───────────┬───────────┬───────────┬───────────┬───────────┬────────────┐\n",
       "│ statistic  ┆ id         ┆ bb1       ┆ bb2       ┆ bb3       ┆ molecule  ┆ protein   ┆ binds      │\n",
       "│ ---        ┆ ---        ┆ ---       ┆ ---       ┆ ---       ┆ ---       ┆ ---       ┆ ---        │\n",
       "│ str        ┆ f64        ┆ str       ┆ str       ┆ str       ┆ str       ┆ str       ┆ f64        │\n",
       "╞════════════╪════════════╪═══════════╪═══════════╪═══════════╪═══════════╪═══════════╪════════════╡\n",
       "│ count      ┆ 2.9524683e ┆ 295246830 ┆ 295246830 ┆ 295246830 ┆ 295246830 ┆ 295246830 ┆ 2.9524683e │\n",
       "│            ┆ 8          ┆           ┆           ┆           ┆           ┆           ┆ 8          │\n",
       "│ null_count ┆ 0.0        ┆ 0         ┆ 0         ┆ 0         ┆ 0         ┆ 0         ┆ 0.0        │\n",
       "│ mean       ┆ 1.4762e8   ┆ null      ┆ null      ┆ null      ┆ null      ┆ null      ┆ 0.005385   │\n",
       "│ std        ┆ 8.5230e7   ┆ null      ┆ null      ┆ null      ┆ null      ┆ null      ┆ null       │\n",
       "│ min        ┆ 0.0        ┆ null      ┆ null      ┆ null      ┆ null      ┆ null      ┆ 0.0        │\n",
       "│ 25%        ┆ 7.3811707e ┆ null      ┆ null      ┆ null      ┆ null      ┆ null      ┆ null       │\n",
       "│            ┆ 7          ┆           ┆           ┆           ┆           ┆           ┆            │\n",
       "│ 50%        ┆ 1.47623415 ┆ null      ┆ null      ┆ null      ┆ null      ┆ null      ┆ null       │\n",
       "│            ┆ e8         ┆           ┆           ┆           ┆           ┆           ┆            │\n",
       "│ 75%        ┆ 2.21435122 ┆ null      ┆ null      ┆ null      ┆ null      ┆ null      ┆ null       │\n",
       "│            ┆ e8         ┆           ┆           ┆           ┆           ┆           ┆            │\n",
       "│ max        ┆ 2.95246829 ┆ null      ┆ null      ┆ null      ┆ null      ┆ null      ┆ 1.0        │\n",
       "│            ┆ e8         ┆           ┆           ┆           ┆           ┆           ┆            │\n",
       "└────────────┴────────────┴───────────┴───────────┴───────────┴───────────┴───────────┴────────────┘"
      ]
     },
     "execution_count": 5,
     "metadata": {},
     "output_type": "execute_result"
    }
   ],
   "source": [
    "df.describe()"
   ]
  },
  {
   "cell_type": "code",
   "execution_count": 6,
   "id": "7924a715-4329-4dd1-98b1-a8ec1aca5491",
   "metadata": {},
   "outputs": [
    {
     "data": {
      "text/html": [
       "<div><style>\n",
       ".dataframe > thead > tr,\n",
       ".dataframe > tbody > tr {\n",
       "  text-align: right;\n",
       "  white-space: pre-wrap;\n",
       "}\n",
       "</style>\n",
       "<small>shape: (1, 7)</small><table border=\"1\" class=\"dataframe\"><thead><tr><th>id</th><th>bb1</th><th>bb2</th><th>bb3</th><th>molecule</th><th>protein</th><th>binds</th></tr><tr><td>u32</td><td>u32</td><td>u32</td><td>u32</td><td>u32</td><td>u32</td><td>u32</td></tr></thead><tbody><tr><td>295246830</td><td>271</td><td>693</td><td>872</td><td>98415610</td><td>3</td><td>2</td></tr></tbody></table></div>"
      ],
      "text/plain": [
       "shape: (1, 7)\n",
       "┌───────────┬─────┬─────┬─────┬──────────┬─────────┬───────┐\n",
       "│ id        ┆ bb1 ┆ bb2 ┆ bb3 ┆ molecule ┆ protein ┆ binds │\n",
       "│ ---       ┆ --- ┆ --- ┆ --- ┆ ---      ┆ ---     ┆ ---   │\n",
       "│ u32       ┆ u32 ┆ u32 ┆ u32 ┆ u32      ┆ u32     ┆ u32   │\n",
       "╞═══════════╪═════╪═════╪═════╪══════════╪═════════╪═══════╡\n",
       "│ 295246830 ┆ 271 ┆ 693 ┆ 872 ┆ 98415610 ┆ 3       ┆ 2     │\n",
       "└───────────┴─────┴─────┴─────┴──────────┴─────────┴───────┘"
      ]
     },
     "execution_count": 6,
     "metadata": {},
     "output_type": "execute_result"
    }
   ],
   "source": [
    "df.select(pl.col('*').n_unique())"
   ]
  },
  {
   "cell_type": "code",
   "execution_count": null,
   "id": "d62b1260-c9b4-4dce-961f-e5a9f09ab08a",
   "metadata": {},
   "outputs": [],
   "source": []
  },
  {
   "cell_type": "code",
   "execution_count": 7,
   "id": "ab68f0be-8df3-40e4-ae72-c075f195e70c",
   "metadata": {},
   "outputs": [
    {
     "name": "stdout",
     "output_type": "stream",
     "text": [
      "271 693 872\n"
     ]
    }
   ],
   "source": [
    "train_bb1s = df.select(pl.col('bb1').unique()).to_series().to_list()\n",
    "train_bb2s = df.select(pl.col('bb2').unique()).to_series().to_list()\n",
    "train_bb3s = df.select(pl.col('bb3').unique()).to_series().to_list()\n",
    "\n",
    "print(len(train_bb1s), len(train_bb2s), len(train_bb3s))"
   ]
  },
  {
   "cell_type": "code",
   "execution_count": 8,
   "id": "4f5f362c-ff30-444f-a5a3-b6472ba6b4de",
   "metadata": {},
   "outputs": [
    {
     "data": {
      "text/plain": [
       "1836"
      ]
     },
     "execution_count": 8,
     "metadata": {},
     "output_type": "execute_result"
    }
   ],
   "source": [
    "len(train_bb1s) + len(train_bb2s) + len(train_bb3s)"
   ]
  },
  {
   "cell_type": "code",
   "execution_count": 9,
   "id": "4b75b6d0-b2e7-4682-b9ef-5f10ef437e53",
   "metadata": {},
   "outputs": [
    {
     "data": {
      "text/plain": [
       "1145"
      ]
     },
     "execution_count": 9,
     "metadata": {},
     "output_type": "execute_result"
    }
   ],
   "source": [
    "len(set(train_bb1s + train_bb2s + train_bb3s))"
   ]
  },
  {
   "cell_type": "code",
   "execution_count": 10,
   "id": "f8462b07-4ca0-4521-9f3e-060f98705976",
   "metadata": {},
   "outputs": [
    {
     "data": {
      "text/plain": [
       "1145"
      ]
     },
     "execution_count": 10,
     "metadata": {},
     "output_type": "execute_result"
    }
   ],
   "source": [
    "train_bbs = list(set(train_bb1s + train_bb2s + train_bb3s))\n",
    "len(train_bbs)"
   ]
  },
  {
   "cell_type": "code",
   "execution_count": null,
   "id": "6440c119-68f0-4aac-9dcb-347ce145f76e",
   "metadata": {},
   "outputs": [],
   "source": []
  },
  {
   "cell_type": "code",
   "execution_count": null,
   "id": "865a4225-8698-4f71-b34a-33aecc45560e",
   "metadata": {},
   "outputs": [],
   "source": []
  },
  {
   "cell_type": "code",
   "execution_count": null,
   "id": "008089db-a79e-4f84-9aa7-25140a2a097a",
   "metadata": {},
   "outputs": [],
   "source": []
  },
  {
   "cell_type": "code",
   "execution_count": null,
   "id": "282a0705-908e-4ac0-b7ba-32bffe57874e",
   "metadata": {},
   "outputs": [],
   "source": []
  },
  {
   "cell_type": "code",
   "execution_count": null,
   "id": "669e37c4-2e1d-44c2-97f0-921ce3f7fa75",
   "metadata": {},
   "outputs": [],
   "source": []
  },
  {
   "cell_type": "code",
   "execution_count": 11,
   "id": "ab8358c0-cf04-47f6-b2a3-fe40b593815b",
   "metadata": {},
   "outputs": [
    {
     "data": {
      "text/html": [
       "<div><style>\n",
       ".dataframe > thead > tr,\n",
       ".dataframe > tbody > tr {\n",
       "  text-align: right;\n",
       "  white-space: pre-wrap;\n",
       "}\n",
       "</style>\n",
       "<small>shape: (10, 6)</small><table border=\"1\" class=\"dataframe\"><thead><tr><th>id</th><th>buildingblock1_smiles</th><th>buildingblock2_smiles</th><th>buildingblock3_smiles</th><th>molecule_smiles</th><th>protein_name</th></tr><tr><td>i64</td><td>str</td><td>str</td><td>str</td><td>str</td><td>str</td></tr></thead><tbody><tr><td>295246830</td><td>&quot;C#CCCC[C@H](NC…</td><td>&quot;C=Cc1ccc(N)cc1…</td><td>&quot;C=Cc1ccc(N)cc1…</td><td>&quot;C#CCCC[C@H](Nc…</td><td>&quot;BRD4&quot;</td></tr><tr><td>295246831</td><td>&quot;C#CCCC[C@H](NC…</td><td>&quot;C=Cc1ccc(N)cc1…</td><td>&quot;C=Cc1ccc(N)cc1…</td><td>&quot;C#CCCC[C@H](Nc…</td><td>&quot;HSA&quot;</td></tr><tr><td>295246832</td><td>&quot;C#CCCC[C@H](NC…</td><td>&quot;C=Cc1ccc(N)cc1…</td><td>&quot;C=Cc1ccc(N)cc1…</td><td>&quot;C#CCCC[C@H](Nc…</td><td>&quot;sEH&quot;</td></tr><tr><td>295246833</td><td>&quot;C#CCCC[C@H](NC…</td><td>&quot;C=Cc1ccc(N)cc1…</td><td>&quot;CC(O)Cn1cnc2c(…</td><td>&quot;C#CCCC[C@H](Nc…</td><td>&quot;BRD4&quot;</td></tr><tr><td>295246834</td><td>&quot;C#CCCC[C@H](NC…</td><td>&quot;C=Cc1ccc(N)cc1…</td><td>&quot;CC(O)Cn1cnc2c(…</td><td>&quot;C#CCCC[C@H](Nc…</td><td>&quot;HSA&quot;</td></tr><tr><td>295246835</td><td>&quot;C#CCCC[C@H](NC…</td><td>&quot;C=Cc1ccc(N)cc1…</td><td>&quot;CC(O)Cn1cnc2c(…</td><td>&quot;C#CCCC[C@H](Nc…</td><td>&quot;sEH&quot;</td></tr><tr><td>295246836</td><td>&quot;C#CCCC[C@H](NC…</td><td>&quot;C=Cc1ccc(N)cc1…</td><td>&quot;CC1(C)CCCC1(O)…</td><td>&quot;C#CCCC[C@H](Nc…</td><td>&quot;BRD4&quot;</td></tr><tr><td>295246837</td><td>&quot;C#CCCC[C@H](NC…</td><td>&quot;C=Cc1ccc(N)cc1…</td><td>&quot;CC1(C)CCCC1(O)…</td><td>&quot;C#CCCC[C@H](Nc…</td><td>&quot;HSA&quot;</td></tr><tr><td>295246838</td><td>&quot;C#CCCC[C@H](NC…</td><td>&quot;C=Cc1ccc(N)cc1…</td><td>&quot;CC1(C)CCCC1(O)…</td><td>&quot;C#CCCC[C@H](Nc…</td><td>&quot;sEH&quot;</td></tr><tr><td>295246839</td><td>&quot;C#CCCC[C@H](NC…</td><td>&quot;C=Cc1ccc(N)cc1…</td><td>&quot;COC(=O)c1cc(Cl…</td><td>&quot;C#CCCC[C@H](Nc…</td><td>&quot;BRD4&quot;</td></tr></tbody></table></div>"
      ],
      "text/plain": [
       "shape: (10, 6)\n",
       "┌───────────┬─────────────────┬─────────────────┬─────────────────┬─────────────────┬──────────────┐\n",
       "│ id        ┆ buildingblock1_ ┆ buildingblock2_ ┆ buildingblock3_ ┆ molecule_smiles ┆ protein_name │\n",
       "│ ---       ┆ smiles          ┆ smiles          ┆ smiles          ┆ ---             ┆ ---          │\n",
       "│ i64       ┆ ---             ┆ ---             ┆ ---             ┆ str             ┆ str          │\n",
       "│           ┆ str             ┆ str             ┆ str             ┆                 ┆              │\n",
       "╞═══════════╪═════════════════╪═════════════════╪═════════════════╪═════════════════╪══════════════╡\n",
       "│ 295246830 ┆ C#CCCC[C@H](NC( ┆ C=Cc1ccc(N)cc1  ┆ C=Cc1ccc(N)cc1  ┆ C#CCCC[C@H](Nc1 ┆ BRD4         │\n",
       "│           ┆ =O)OCC1c2ccccc2 ┆                 ┆                 ┆ nc(Nc2ccc(C=C)c ┆              │\n",
       "│           ┆ -c…             ┆                 ┆                 ┆ c2…             ┆              │\n",
       "│ 295246831 ┆ C#CCCC[C@H](NC( ┆ C=Cc1ccc(N)cc1  ┆ C=Cc1ccc(N)cc1  ┆ C#CCCC[C@H](Nc1 ┆ HSA          │\n",
       "│           ┆ =O)OCC1c2ccccc2 ┆                 ┆                 ┆ nc(Nc2ccc(C=C)c ┆              │\n",
       "│           ┆ -c…             ┆                 ┆                 ┆ c2…             ┆              │\n",
       "│ 295246832 ┆ C#CCCC[C@H](NC( ┆ C=Cc1ccc(N)cc1  ┆ C=Cc1ccc(N)cc1  ┆ C#CCCC[C@H](Nc1 ┆ sEH          │\n",
       "│           ┆ =O)OCC1c2ccccc2 ┆                 ┆                 ┆ nc(Nc2ccc(C=C)c ┆              │\n",
       "│           ┆ -c…             ┆                 ┆                 ┆ c2…             ┆              │\n",
       "│ 295246833 ┆ C#CCCC[C@H](NC( ┆ C=Cc1ccc(N)cc1  ┆ CC(O)Cn1cnc2c(N ┆ C#CCCC[C@H](Nc1 ┆ BRD4         │\n",
       "│           ┆ =O)OCC1c2ccccc2 ┆                 ┆ )ncnc21         ┆ nc(Nc2ccc(C=C)c ┆              │\n",
       "│           ┆ -c…             ┆                 ┆                 ┆ c2…             ┆              │\n",
       "│ 295246834 ┆ C#CCCC[C@H](NC( ┆ C=Cc1ccc(N)cc1  ┆ CC(O)Cn1cnc2c(N ┆ C#CCCC[C@H](Nc1 ┆ HSA          │\n",
       "│           ┆ =O)OCC1c2ccccc2 ┆                 ┆ )ncnc21         ┆ nc(Nc2ccc(C=C)c ┆              │\n",
       "│           ┆ -c…             ┆                 ┆                 ┆ c2…             ┆              │\n",
       "│ 295246835 ┆ C#CCCC[C@H](NC( ┆ C=Cc1ccc(N)cc1  ┆ CC(O)Cn1cnc2c(N ┆ C#CCCC[C@H](Nc1 ┆ sEH          │\n",
       "│           ┆ =O)OCC1c2ccccc2 ┆                 ┆ )ncnc21         ┆ nc(Nc2ccc(C=C)c ┆              │\n",
       "│           ┆ -c…             ┆                 ┆                 ┆ c2…             ┆              │\n",
       "│ 295246836 ┆ C#CCCC[C@H](NC( ┆ C=Cc1ccc(N)cc1  ┆ CC1(C)CCCC1(O)C ┆ C#CCCC[C@H](Nc1 ┆ BRD4         │\n",
       "│           ┆ =O)OCC1c2ccccc2 ┆                 ┆ N               ┆ nc(NCC2(O)CCCC2 ┆              │\n",
       "│           ┆ -c…             ┆                 ┆                 ┆ (C…             ┆              │\n",
       "│ 295246837 ┆ C#CCCC[C@H](NC( ┆ C=Cc1ccc(N)cc1  ┆ CC1(C)CCCC1(O)C ┆ C#CCCC[C@H](Nc1 ┆ HSA          │\n",
       "│           ┆ =O)OCC1c2ccccc2 ┆                 ┆ N               ┆ nc(NCC2(O)CCCC2 ┆              │\n",
       "│           ┆ -c…             ┆                 ┆                 ┆ (C…             ┆              │\n",
       "│ 295246838 ┆ C#CCCC[C@H](NC( ┆ C=Cc1ccc(N)cc1  ┆ CC1(C)CCCC1(O)C ┆ C#CCCC[C@H](Nc1 ┆ sEH          │\n",
       "│           ┆ =O)OCC1c2ccccc2 ┆                 ┆ N               ┆ nc(NCC2(O)CCCC2 ┆              │\n",
       "│           ┆ -c…             ┆                 ┆                 ┆ (C…             ┆              │\n",
       "│ 295246839 ┆ C#CCCC[C@H](NC( ┆ C=Cc1ccc(N)cc1  ┆ COC(=O)c1cc(Cl) ┆ C#CCCC[C@H](Nc1 ┆ BRD4         │\n",
       "│           ┆ =O)OCC1c2ccccc2 ┆                 ┆ sc1N            ┆ nc(Nc2ccc(C=C)c ┆              │\n",
       "│           ┆ -c…             ┆                 ┆                 ┆ c2…             ┆              │\n",
       "└───────────┴─────────────────┴─────────────────┴─────────────────┴─────────────────┴──────────────┘"
      ]
     },
     "execution_count": 11,
     "metadata": {},
     "output_type": "execute_result"
    }
   ],
   "source": [
    "test_df = pl.scan_csv('/home/dangnh36/datasets/competitions/leash_belka/raw/test.csv').head(10).collect()\n",
    "test_df"
   ]
  },
  {
   "cell_type": "code",
   "execution_count": 12,
   "id": "a642ed02-736b-4222-a4ed-4d13ba38b4a0",
   "metadata": {},
   "outputs": [
    {
     "data": {
      "text/html": [
       "<div><style>\n",
       ".dataframe > thead > tr,\n",
       ".dataframe > tbody > tr {\n",
       "  text-align: right;\n",
       "  white-space: pre-wrap;\n",
       "}\n",
       "</style>\n",
       "<small>shape: (1_674_896, 6)</small><table border=\"1\" class=\"dataframe\"><thead><tr><th>id</th><th>bb1</th><th>bb2</th><th>bb3</th><th>molecule</th><th>protein</th></tr><tr><td>i64</td><td>cat</td><td>cat</td><td>cat</td><td>cat</td><td>enum</td></tr></thead><tbody><tr><td>295246830</td><td>&quot;C#CCCC[C@H](NC…</td><td>&quot;C=Cc1ccc(N)cc1…</td><td>&quot;C=Cc1ccc(N)cc1…</td><td>&quot;C#CCCC[C@H](Nc…</td><td>&quot;BRD4&quot;</td></tr><tr><td>295246831</td><td>&quot;C#CCCC[C@H](NC…</td><td>&quot;C=Cc1ccc(N)cc1…</td><td>&quot;C=Cc1ccc(N)cc1…</td><td>&quot;C#CCCC[C@H](Nc…</td><td>&quot;HSA&quot;</td></tr><tr><td>295246832</td><td>&quot;C#CCCC[C@H](NC…</td><td>&quot;C=Cc1ccc(N)cc1…</td><td>&quot;C=Cc1ccc(N)cc1…</td><td>&quot;C#CCCC[C@H](Nc…</td><td>&quot;sEH&quot;</td></tr><tr><td>295246833</td><td>&quot;C#CCCC[C@H](NC…</td><td>&quot;C=Cc1ccc(N)cc1…</td><td>&quot;CC(O)Cn1cnc2c(…</td><td>&quot;C#CCCC[C@H](Nc…</td><td>&quot;BRD4&quot;</td></tr><tr><td>295246834</td><td>&quot;C#CCCC[C@H](NC…</td><td>&quot;C=Cc1ccc(N)cc1…</td><td>&quot;CC(O)Cn1cnc2c(…</td><td>&quot;C#CCCC[C@H](Nc…</td><td>&quot;HSA&quot;</td></tr><tr><td>&hellip;</td><td>&hellip;</td><td>&hellip;</td><td>&hellip;</td><td>&hellip;</td><td>&hellip;</td></tr><tr><td>296921721</td><td>&quot;[N-]=[N+]=NCCC…</td><td>&quot;Nc1noc2ccc(F)c…</td><td>&quot;COC1CCC(CCN)CC…</td><td>&quot;COC1CCC(CCNc2n…</td><td>&quot;HSA&quot;</td></tr><tr><td>296921722</td><td>&quot;[N-]=[N+]=NCCC…</td><td>&quot;Nc1noc2ccc(F)c…</td><td>&quot;COC1CCC(CCN)CC…</td><td>&quot;COC1CCC(CCNc2n…</td><td>&quot;sEH&quot;</td></tr><tr><td>296921723</td><td>&quot;[N-]=[N+]=NCCC…</td><td>&quot;Nc1noc2ccc(F)c…</td><td>&quot;NCc1cccs1&quot;</td><td>&quot;[N-]=[N+]=NCCC…</td><td>&quot;BRD4&quot;</td></tr><tr><td>296921724</td><td>&quot;[N-]=[N+]=NCCC…</td><td>&quot;Nc1noc2ccc(F)c…</td><td>&quot;NCc1cccs1&quot;</td><td>&quot;[N-]=[N+]=NCCC…</td><td>&quot;HSA&quot;</td></tr><tr><td>296921725</td><td>&quot;[N-]=[N+]=NCCC…</td><td>&quot;Nc1noc2ccc(F)c…</td><td>&quot;NCc1cccs1&quot;</td><td>&quot;[N-]=[N+]=NCCC…</td><td>&quot;sEH&quot;</td></tr></tbody></table></div>"
      ],
      "text/plain": [
       "shape: (1_674_896, 6)\n",
       "┌───────────┬───────────────────┬──────────────────┬──────────────────┬──────────────────┬─────────┐\n",
       "│ id        ┆ bb1               ┆ bb2              ┆ bb3              ┆ molecule         ┆ protein │\n",
       "│ ---       ┆ ---               ┆ ---              ┆ ---              ┆ ---              ┆ ---     │\n",
       "│ i64       ┆ cat               ┆ cat              ┆ cat              ┆ cat              ┆ enum    │\n",
       "╞═══════════╪═══════════════════╪══════════════════╪══════════════════╪══════════════════╪═════════╡\n",
       "│ 295246830 ┆ C#CCCC[C@H](NC(=O ┆ C=Cc1ccc(N)cc1   ┆ C=Cc1ccc(N)cc1   ┆ C#CCCC[C@H](Nc1n ┆ BRD4    │\n",
       "│           ┆ )OCC1c2ccccc2-c…  ┆                  ┆                  ┆ c(Nc2ccc(C=C)cc2 ┆         │\n",
       "│           ┆                   ┆                  ┆                  ┆ …                ┆         │\n",
       "│ 295246831 ┆ C#CCCC[C@H](NC(=O ┆ C=Cc1ccc(N)cc1   ┆ C=Cc1ccc(N)cc1   ┆ C#CCCC[C@H](Nc1n ┆ HSA     │\n",
       "│           ┆ )OCC1c2ccccc2-c…  ┆                  ┆                  ┆ c(Nc2ccc(C=C)cc2 ┆         │\n",
       "│           ┆                   ┆                  ┆                  ┆ …                ┆         │\n",
       "│ 295246832 ┆ C#CCCC[C@H](NC(=O ┆ C=Cc1ccc(N)cc1   ┆ C=Cc1ccc(N)cc1   ┆ C#CCCC[C@H](Nc1n ┆ sEH     │\n",
       "│           ┆ )OCC1c2ccccc2-c…  ┆                  ┆                  ┆ c(Nc2ccc(C=C)cc2 ┆         │\n",
       "│           ┆                   ┆                  ┆                  ┆ …                ┆         │\n",
       "│ 295246833 ┆ C#CCCC[C@H](NC(=O ┆ C=Cc1ccc(N)cc1   ┆ CC(O)Cn1cnc2c(N) ┆ C#CCCC[C@H](Nc1n ┆ BRD4    │\n",
       "│           ┆ )OCC1c2ccccc2-c…  ┆                  ┆ ncnc21           ┆ c(Nc2ccc(C=C)cc2 ┆         │\n",
       "│           ┆                   ┆                  ┆                  ┆ …                ┆         │\n",
       "│ 295246834 ┆ C#CCCC[C@H](NC(=O ┆ C=Cc1ccc(N)cc1   ┆ CC(O)Cn1cnc2c(N) ┆ C#CCCC[C@H](Nc1n ┆ HSA     │\n",
       "│           ┆ )OCC1c2ccccc2-c…  ┆                  ┆ ncnc21           ┆ c(Nc2ccc(C=C)cc2 ┆         │\n",
       "│           ┆                   ┆                  ┆                  ┆ …                ┆         │\n",
       "│ …         ┆ …                 ┆ …                ┆ …                ┆ …                ┆ …       │\n",
       "│ 296921721 ┆ [N-]=[N+]=NCCC[C@ ┆ Nc1noc2ccc(F)cc1 ┆ COC1CCC(CCN)CC1  ┆ COC1CCC(CCNc2nc( ┆ HSA     │\n",
       "│           ┆ H](NC(=O)OCC1c2…  ┆ 2                ┆                  ┆ Nc3noc4ccc(F)cc3 ┆         │\n",
       "│           ┆                   ┆                  ┆                  ┆ …                ┆         │\n",
       "│ 296921722 ┆ [N-]=[N+]=NCCC[C@ ┆ Nc1noc2ccc(F)cc1 ┆ COC1CCC(CCN)CC1  ┆ COC1CCC(CCNc2nc( ┆ sEH     │\n",
       "│           ┆ H](NC(=O)OCC1c2…  ┆ 2                ┆                  ┆ Nc3noc4ccc(F)cc3 ┆         │\n",
       "│           ┆                   ┆                  ┆                  ┆ …                ┆         │\n",
       "│ 296921723 ┆ [N-]=[N+]=NCCC[C@ ┆ Nc1noc2ccc(F)cc1 ┆ NCc1cccs1        ┆ [N-]=[N+]=NCCC[C ┆ BRD4    │\n",
       "│           ┆ H](NC(=O)OCC1c2…  ┆ 2                ┆                  ┆ @H](Nc1nc(NCc2cc ┆         │\n",
       "│           ┆                   ┆                  ┆                  ┆ …                ┆         │\n",
       "│ 296921724 ┆ [N-]=[N+]=NCCC[C@ ┆ Nc1noc2ccc(F)cc1 ┆ NCc1cccs1        ┆ [N-]=[N+]=NCCC[C ┆ HSA     │\n",
       "│           ┆ H](NC(=O)OCC1c2…  ┆ 2                ┆                  ┆ @H](Nc1nc(NCc2cc ┆         │\n",
       "│           ┆                   ┆                  ┆                  ┆ …                ┆         │\n",
       "│ 296921725 ┆ [N-]=[N+]=NCCC[C@ ┆ Nc1noc2ccc(F)cc1 ┆ NCc1cccs1        ┆ [N-]=[N+]=NCCC[C ┆ sEH     │\n",
       "│           ┆ H](NC(=O)OCC1c2…  ┆ 2                ┆                  ┆ @H](Nc1nc(NCc2cc ┆         │\n",
       "│           ┆                   ┆                  ┆                  ┆ …                ┆         │\n",
       "└───────────┴───────────────────┴──────────────────┴──────────────────┴──────────────────┴─────────┘"
      ]
     },
     "execution_count": 12,
     "metadata": {},
     "output_type": "execute_result"
    }
   ],
   "source": [
    "test_df = pl.scan_csv('/home/dangnh36/datasets/competitions/leash_belka/raw/test.csv',\n",
    "            new_columns = ['id', 'bb1', 'bb2', 'bb3', 'molecule', 'protein'],\n",
    "           dtypes = {\n",
    "               'bb1': pl.Categorical,\n",
    "               'bb2': pl.Categorical,\n",
    "               'bb3': pl.Categorical,\n",
    "               'molecule': pl.Categorical,\n",
    "               'protein': pl.Categorical,\n",
    "           }).cast({'protein': pl.Enum(['BRD4', 'HSA', 'sEH'])}).collect()\n",
    "test_df"
   ]
  },
  {
   "cell_type": "code",
   "execution_count": null,
   "id": "57f0ff6c-aea6-44d4-8f6e-519fb55f267d",
   "metadata": {},
   "outputs": [],
   "source": []
  },
  {
   "cell_type": "code",
   "execution_count": 13,
   "id": "aa03fdb5-f483-4d29-99a1-6a3cfba147a2",
   "metadata": {},
   "outputs": [
    {
     "name": "stdout",
     "output_type": "stream",
     "text": [
      "341 1140 1389\n"
     ]
    }
   ],
   "source": [
    "test_bb1s = test_df.select(pl.col('bb1').unique()).to_series().to_list()\n",
    "test_bb2s = test_df.select(pl.col('bb2').unique()).to_series().to_list()\n",
    "test_bb3s = test_df.select(pl.col('bb3').unique()).to_series().to_list()\n",
    "\n",
    "print(len(test_bb1s), len(test_bb2s), len(test_bb3s))"
   ]
  },
  {
   "cell_type": "code",
   "execution_count": 14,
   "id": "2696bfd7-a9b1-4636-bb74-6c7c70a3ce8d",
   "metadata": {},
   "outputs": [
    {
     "data": {
      "text/plain": [
       "2870"
      ]
     },
     "execution_count": 14,
     "metadata": {},
     "output_type": "execute_result"
    }
   ],
   "source": [
    "len(test_bb1s) + len(test_bb2s) + len(test_bb3s)"
   ]
  },
  {
   "cell_type": "code",
   "execution_count": 15,
   "id": "daff6119-81c3-40ea-88b2-30b58f5d9781",
   "metadata": {},
   "outputs": [
    {
     "data": {
      "text/plain": [
       "2110"
      ]
     },
     "execution_count": 15,
     "metadata": {},
     "output_type": "execute_result"
    }
   ],
   "source": [
    "len(set(test_bb1s + test_bb2s + test_bb3s))"
   ]
  },
  {
   "cell_type": "code",
   "execution_count": 16,
   "id": "cf59c4a9-9ac8-4a1f-ba91-5a14667e81c8",
   "metadata": {},
   "outputs": [
    {
     "data": {
      "text/plain": [
       "2110"
      ]
     },
     "execution_count": 16,
     "metadata": {},
     "output_type": "execute_result"
    }
   ],
   "source": [
    "test_bbs = list(set(test_bb1s + test_bb2s + test_bb3s))\n",
    "len(test_bbs)"
   ]
  },
  {
   "cell_type": "code",
   "execution_count": null,
   "id": "c2f5d082-b1b8-44e4-9c22-e793bb375926",
   "metadata": {},
   "outputs": [],
   "source": []
  },
  {
   "cell_type": "code",
   "execution_count": 17,
   "id": "2321f8d6-4444-4e1d-bcb6-8a369ca49890",
   "metadata": {},
   "outputs": [
    {
     "data": {
      "text/plain": [
       "3255"
      ]
     },
     "execution_count": 17,
     "metadata": {},
     "output_type": "execute_result"
    }
   ],
   "source": [
    "len(train_bbs) + len(test_bbs)"
   ]
  },
  {
   "cell_type": "code",
   "execution_count": 18,
   "id": "a334d5dd-9e9b-480b-b41f-7647c69b067d",
   "metadata": {},
   "outputs": [
    {
     "data": {
      "text/plain": [
       "2110"
      ]
     },
     "execution_count": 18,
     "metadata": {},
     "output_type": "execute_result"
    }
   ],
   "source": [
    "len(set(train_bbs + test_bbs))"
   ]
  },
  {
   "cell_type": "code",
   "execution_count": 19,
   "id": "875d57cb-3463-4fb1-8bc6-16c8caa0c1b0",
   "metadata": {},
   "outputs": [
    {
     "data": {
      "text/plain": [
       "2110"
      ]
     },
     "execution_count": 19,
     "metadata": {},
     "output_type": "execute_result"
    }
   ],
   "source": [
    "all_bbs = list(set(train_bbs + test_bbs))\n",
    "len(all_bbs)"
   ]
  },
  {
   "cell_type": "code",
   "execution_count": 20,
   "id": "8465286b-d93b-49f6-aab1-30324bc66da0",
   "metadata": {},
   "outputs": [
    {
     "data": {
      "text/plain": [
       "(1640, 1653, 765)"
      ]
     },
     "execution_count": 20,
     "metadata": {},
     "output_type": "execute_result"
    }
   ],
   "source": [
    "all_bbs.index(df[0, 'bb1']), all_bbs.index(df[0, 'bb2']), all_bbs.index(df[0, 'bb3'])"
   ]
  },
  {
   "cell_type": "code",
   "execution_count": null,
   "id": "a039857b-9188-48df-86b2-dfca24981264",
   "metadata": {},
   "outputs": [],
   "source": []
  },
  {
   "cell_type": "code",
   "execution_count": 21,
   "id": "75091b05-9c0a-4d89-83b6-dacec2b2e090",
   "metadata": {},
   "outputs": [
    {
     "name": "stdout",
     "output_type": "stream",
     "text": [
      "<class 'polars.series.series.Series'>\n",
      "['__abs__', '__add__', '__and__', '__annotations__', '__array__', '__array_ufunc__', '__bool__', '__class__', '__contains__', '__copy__', '__deepcopy__', '__delattr__', '__dict__', '__dir__', '__doc__', '__eq__', '__floordiv__', '__format__', '__ge__', '__getattribute__', '__getitem__', '__getstate__', '__gt__', '__hash__', '__init__', '__init_subclass__', '__invert__', '__iter__', '__le__', '__len__', '__lt__', '__matmul__', '__mod__', '__module__', '__mul__', '__ne__', '__neg__', '__new__', '__or__', '__pos__', '__pow__', '__radd__', '__rand__', '__reduce__', '__reduce_ex__', '__repr__', '__rfloordiv__', '__rmatmul__', '__rmod__', '__rmul__', '__ror__', '__rpow__', '__rsub__', '__rtruediv__', '__rxor__', '__setattr__', '__setitem__', '__setstate__', '__sizeof__', '__str__', '__sub__', '__subclasshook__', '__truediv__', '__weakref__', '__xor__', '_accessors', '_arithmetic', '_comp', '_from_buffer', '_from_buffers', '_from_pyseries', '_get_buffer_info', '_get_buffers', '_import_from_c', '_pos_idxs', '_repr_html_', '_s', '_take_with_series', 'abs', 'alias', 'all', 'any', 'append', 'apply', 'arccos', 'arccosh', 'arcsin', 'arcsinh', 'arctan', 'arctanh', 'arg_max', 'arg_min', 'arg_sort', 'arg_true', 'arg_unique', 'arr', 'bin', 'bottom_k', 'cast', 'cat', 'cbrt', 'ceil', 'chunk_lengths', 'clear', 'clip', 'clip_max', 'clip_min', 'clone', 'cos', 'cosh', 'cot', 'count', 'cum_count', 'cum_max', 'cum_min', 'cum_prod', 'cum_sum', 'cummax', 'cummin', 'cumprod', 'cumsum', 'cumulative_eval', 'cut', 'describe', 'diff', 'dot', 'drop_nans', 'drop_nulls', 'dt', 'dtype', 'entropy', 'eq', 'eq_missing', 'equals', 'estimated_size', 'ewm_mean', 'ewm_std', 'ewm_var', 'exp', 'explode', 'extend', 'extend_constant', 'fill_nan', 'fill_null', 'filter', 'flags', 'floor', 'gather', 'gather_every', 'ge', 'get_chunks', 'gt', 'has_validity', 'hash', 'head', 'hist', 'implode', 'inner_dtype', 'interpolate', 'is_between', 'is_boolean', 'is_duplicated', 'is_empty', 'is_finite', 'is_first', 'is_first_distinct', 'is_float', 'is_in', 'is_infinite', 'is_integer', 'is_last', 'is_last_distinct', 'is_nan', 'is_not_nan', 'is_not_null', 'is_null', 'is_numeric', 'is_sorted', 'is_temporal', 'is_unique', 'is_utf8', 'item', 'kurtosis', 'le', 'len', 'limit', 'list', 'log', 'log10', 'log1p', 'lower_bound', 'lt', 'map_dict', 'map_elements', 'max', 'mean', 'median', 'min', 'mode', 'n_chunks', 'n_unique', 'name', 'nan_max', 'nan_min', 'ne', 'ne_missing', 'new_from_index', 'not_', 'null_count', 'pct_change', 'peak_max', 'peak_min', 'plot', 'pow', 'product', 'qcut', 'quantile', 'rank', 'rechunk', 'reinterpret', 'rename', 'replace', 'reshape', 'reverse', 'rle', 'rle_id', 'rolling_apply', 'rolling_map', 'rolling_max', 'rolling_mean', 'rolling_median', 'rolling_min', 'rolling_quantile', 'rolling_skew', 'rolling_std', 'rolling_sum', 'rolling_var', 'round', 'round_sig_figs', 'sample', 'scatter', 'search_sorted', 'series_equal', 'set', 'set_at_idx', 'set_sorted', 'shape', 'shift', 'shift_and_fill', 'shrink_dtype', 'shrink_to_fit', 'shuffle', 'sign', 'sin', 'sinh', 'skew', 'slice', 'sort', 'sqrt', 'std', 'str', 'struct', 'sum', 'tail', 'take', 'take_every', 'tan', 'tanh', 'to_arrow', 'to_dummies', 'to_frame', 'to_init_repr', 'to_list', 'to_numpy', 'to_pandas', 'to_physical', 'top_k', 'unique', 'unique_counts', 'upper_bound', 'value_counts', 'var', 'view', 'zip_with']\n"
     ]
    }
   ],
   "source": [
    "print(type((df[2::3, 'protein'] == 'sEH')))\n",
    "print(dir((df[2::3, 'protein'] == 'sEH')))"
   ]
  },
  {
   "cell_type": "code",
   "execution_count": 22,
   "id": "528dd71f-de2d-4772-b0eb-64d0501c8970",
   "metadata": {},
   "outputs": [],
   "source": [
    "assert (df[0::3, 'protein'] == 'BRD4').all()\n",
    "assert (df[1::3, 'protein'] == 'HSA').all()\n",
    "assert (df[2::3, 'protein'] == 'sEH').all()\n",
    "assert ((df[0::3, 'molecule'] == df[1::3, 'molecule']) & (df[0::3, 'molecule'] == df[2::3, 'molecule'])).all()"
   ]
  },
  {
   "cell_type": "code",
   "execution_count": 23,
   "id": "7152fc57-58ac-4f73-959d-059575f0cf0c",
   "metadata": {},
   "outputs": [
    {
     "data": {
      "text/plain": [
       "1589906"
      ]
     },
     "execution_count": 23,
     "metadata": {},
     "output_type": "execute_result"
    }
   ],
   "source": [
    "df['binds'].sum()"
   ]
  },
  {
   "cell_type": "code",
   "execution_count": 24,
   "id": "fdfd5a1e-ed81-4c09-ad91-d18373bd071f",
   "metadata": {},
   "outputs": [],
   "source": [
    "BB2IDX = {all_bbs[i]: i for i in range(len(all_bbs))}"
   ]
  },
  {
   "cell_type": "code",
   "execution_count": null,
   "id": "545de31b-f413-4ff4-a8fd-feaa1482f467",
   "metadata": {},
   "outputs": [],
   "source": []
  },
  {
   "cell_type": "code",
   "execution_count": null,
   "id": "0347c642-a7ca-4faa-82d8-01623fe4b218",
   "metadata": {},
   "outputs": [],
   "source": [
    "# new_train_df = df.group_by('molecule').agg(\n",
    "#     pl.col('bb1', 'bb2', 'bb3').first().map_elements(all_bbs.index),\n",
    "#     pl.col('binds').map_elements(lambda x: x[0], return_dtype = pl.Boolean).alias('BRD4'),\n",
    "#     pl.col('binds').map_elements(lambda x: x[1], return_dtype = pl.Boolean).alias('HSA'),\n",
    "#     pl.col('binds').map_elements(lambda x: x[2], return_dtype = pl.Boolean).alias('sEH')\n",
    "# )\n",
    "# new_train_df"
   ]
  },
  {
   "cell_type": "code",
   "execution_count": null,
   "id": "dc3174a8-f775-4d49-a86e-4228d2b04c4e",
   "metadata": {},
   "outputs": [],
   "source": []
  },
  {
   "cell_type": "code",
   "execution_count": 27,
   "id": "5cd412e4-4a61-4f61-82bd-e7d929f5ffd1",
   "metadata": {},
   "outputs": [
    {
     "name": "stderr",
     "output_type": "stream",
     "text": [
      "sys:1: MapWithoutReturnDtypeWarning: Calling `map_elements` without specifying `return_dtype` can lead to unpredictable results. Specify `return_dtype` to silence this warning.\n",
      "sys:1: MapWithoutReturnDtypeWarning: Calling `map_elements` without specifying `return_dtype` can lead to unpredictable results. Specify `return_dtype` to silence this warning.\n",
      "sys:1: MapWithoutReturnDtypeWarning: Calling `map_elements` without specifying `return_dtype` can lead to unpredictable results. Specify `return_dtype` to silence this warning.\n"
     ]
    },
    {
     "data": {
      "text/html": [
       "<div><style>\n",
       ".dataframe > thead > tr,\n",
       ".dataframe > tbody > tr {\n",
       "  text-align: right;\n",
       "  white-space: pre-wrap;\n",
       "}\n",
       "</style>\n",
       "<small>shape: (98_415_610, 3)</small><table border=\"1\" class=\"dataframe\"><thead><tr><th>bb1</th><th>bb2</th><th>bb3</th></tr><tr><td>i64</td><td>i64</td><td>i64</td></tr></thead><tbody><tr><td>1640</td><td>1653</td><td>765</td></tr><tr><td>1640</td><td>1653</td><td>205</td></tr><tr><td>1640</td><td>1653</td><td>1653</td></tr><tr><td>1640</td><td>1653</td><td>146</td></tr><tr><td>1640</td><td>1653</td><td>439</td></tr><tr><td>&hellip;</td><td>&hellip;</td><td>&hellip;</td></tr><tr><td>141</td><td>1415</td><td>1792</td></tr><tr><td>141</td><td>1415</td><td>1178</td></tr><tr><td>141</td><td>1415</td><td>1699</td></tr><tr><td>141</td><td>1415</td><td>1308</td></tr><tr><td>141</td><td>1415</td><td>1415</td></tr></tbody></table></div>"
      ],
      "text/plain": [
       "shape: (98_415_610, 3)\n",
       "┌──────┬──────┬──────┐\n",
       "│ bb1  ┆ bb2  ┆ bb3  │\n",
       "│ ---  ┆ ---  ┆ ---  │\n",
       "│ i64  ┆ i64  ┆ i64  │\n",
       "╞══════╪══════╪══════╡\n",
       "│ 1640 ┆ 1653 ┆ 765  │\n",
       "│ 1640 ┆ 1653 ┆ 205  │\n",
       "│ 1640 ┆ 1653 ┆ 1653 │\n",
       "│ 1640 ┆ 1653 ┆ 146  │\n",
       "│ 1640 ┆ 1653 ┆ 439  │\n",
       "│ …    ┆ …    ┆ …    │\n",
       "│ 141  ┆ 1415 ┆ 1792 │\n",
       "│ 141  ┆ 1415 ┆ 1178 │\n",
       "│ 141  ┆ 1415 ┆ 1699 │\n",
       "│ 141  ┆ 1415 ┆ 1308 │\n",
       "│ 141  ┆ 1415 ┆ 1415 │\n",
       "└──────┴──────┴──────┘"
      ]
     },
     "execution_count": 27,
     "metadata": {},
     "output_type": "execute_result"
    }
   ],
   "source": [
    "new_train_df = df[0::3].select(\n",
    "    pl.col('bb1', 'bb2', 'bb3').map_elements(lambda x: BB2IDX[x])\n",
    ")\n",
    "new_train_df"
   ]
  },
  {
   "cell_type": "code",
   "execution_count": 40,
   "id": "9bc224b2-358d-456c-9a40-b582d8f3f2e6",
   "metadata": {},
   "outputs": [
    {
     "data": {
      "text/html": [
       "<div><style>\n",
       ".dataframe > thead > tr,\n",
       ".dataframe > tbody > tr {\n",
       "  text-align: right;\n",
       "  white-space: pre-wrap;\n",
       "}\n",
       "</style>\n",
       "<small>shape: (98_415_610, 7)</small><table border=\"1\" class=\"dataframe\"><thead><tr><th>bb1</th><th>bb2</th><th>bb3</th><th>BRD4</th><th>HSA</th><th>eSH</th><th>molecule</th></tr><tr><td>u16</td><td>u16</td><td>u16</td><td>bool</td><td>bool</td><td>bool</td><td>cat</td></tr></thead><tbody><tr><td>1640</td><td>1653</td><td>765</td><td>false</td><td>false</td><td>false</td><td>&quot;C#CCOc1ccc(CNc…</td></tr><tr><td>1640</td><td>1653</td><td>205</td><td>false</td><td>false</td><td>false</td><td>&quot;C#CCOc1ccc(CNc…</td></tr><tr><td>1640</td><td>1653</td><td>1653</td><td>false</td><td>false</td><td>false</td><td>&quot;C#CCOc1ccc(CNc…</td></tr><tr><td>1640</td><td>1653</td><td>146</td><td>false</td><td>false</td><td>false</td><td>&quot;C#CCOc1ccc(CNc…</td></tr><tr><td>1640</td><td>1653</td><td>439</td><td>false</td><td>false</td><td>false</td><td>&quot;C#CCOc1ccc(CNc…</td></tr><tr><td>&hellip;</td><td>&hellip;</td><td>&hellip;</td><td>&hellip;</td><td>&hellip;</td><td>&hellip;</td><td>&hellip;</td></tr><tr><td>141</td><td>1415</td><td>1792</td><td>false</td><td>false</td><td>false</td><td>&quot;[N-]=[N+]=NCCC…</td></tr><tr><td>141</td><td>1415</td><td>1178</td><td>false</td><td>false</td><td>false</td><td>&quot;[N-]=[N+]=NCCC…</td></tr><tr><td>141</td><td>1415</td><td>1699</td><td>false</td><td>false</td><td>false</td><td>&quot;[N-]=[N+]=NCCC…</td></tr><tr><td>141</td><td>1415</td><td>1308</td><td>false</td><td>false</td><td>false</td><td>&quot;[N-]=[N+]=NCCC…</td></tr><tr><td>141</td><td>1415</td><td>1415</td><td>false</td><td>false</td><td>false</td><td>&quot;[N-]=[N+]=NCCC…</td></tr></tbody></table></div>"
      ],
      "text/plain": [
       "shape: (98_415_610, 7)\n",
       "┌──────┬──────┬──────┬───────┬───────┬───────┬───────────────────────────────────┐\n",
       "│ bb1  ┆ bb2  ┆ bb3  ┆ BRD4  ┆ HSA   ┆ eSH   ┆ molecule                          │\n",
       "│ ---  ┆ ---  ┆ ---  ┆ ---   ┆ ---   ┆ ---   ┆ ---                               │\n",
       "│ u16  ┆ u16  ┆ u16  ┆ bool  ┆ bool  ┆ bool  ┆ cat                               │\n",
       "╞══════╪══════╪══════╪═══════╪═══════╪═══════╪═══════════════════════════════════╡\n",
       "│ 1640 ┆ 1653 ┆ 765  ┆ false ┆ false ┆ false ┆ C#CCOc1ccc(CNc2nc(NCC3CCCN3c3ccc… │\n",
       "│ 1640 ┆ 1653 ┆ 205  ┆ false ┆ false ┆ false ┆ C#CCOc1ccc(CNc2nc(NCc3cccc(Br)n3… │\n",
       "│ 1640 ┆ 1653 ┆ 1653 ┆ false ┆ false ┆ false ┆ C#CCOc1ccc(CNc2nc(NCc3ccc(OCC#C)… │\n",
       "│ 1640 ┆ 1653 ┆ 146  ┆ false ┆ false ┆ false ┆ C#CCOc1ccc(CNc2nc(NCCNC(=O)C(=C)… │\n",
       "│ 1640 ┆ 1653 ┆ 439  ┆ false ┆ false ┆ false ┆ C#CCOc1ccc(CNc2nc(NCC(=O)NCC=C)n… │\n",
       "│ …    ┆ …    ┆ …    ┆ …     ┆ …     ┆ …     ┆ …                                 │\n",
       "│ 141  ┆ 1415 ┆ 1792 ┆ false ┆ false ┆ false ┆ [N-]=[N+]=NCCC[C@H](Nc1nc(Nc2noc… │\n",
       "│ 141  ┆ 1415 ┆ 1178 ┆ false ┆ false ┆ false ┆ [N-]=[N+]=NCCC[C@H](Nc1nc(Nc2nnc… │\n",
       "│ 141  ┆ 1415 ┆ 1699 ┆ false ┆ false ┆ false ┆ [N-]=[N+]=NCCC[C@H](Nc1nc(Nc2nnc… │\n",
       "│ 141  ┆ 1415 ┆ 1308 ┆ false ┆ false ┆ false ┆ [N-]=[N+]=NCCC[C@H](Nc1nc(Nc2nnn… │\n",
       "│ 141  ┆ 1415 ┆ 1415 ┆ false ┆ false ┆ false ┆ [N-]=[N+]=NCCC[C@H](Nc1nc(Nc2noc… │\n",
       "└──────┴──────┴──────┴───────┴───────┴───────┴───────────────────────────────────┘"
      ]
     },
     "execution_count": 40,
     "metadata": {},
     "output_type": "execute_result"
    }
   ],
   "source": [
    "new_train_df = new_train_df.with_columns(\n",
    "    pl.col('bb1', 'bb2', 'bb3').cast(pl.UInt16),\n",
    "    molecule = df[0::3, 'molecule'],\n",
    "    BRD4 = df[0::3, 'binds'],\n",
    "    HSA = df[1::3, 'binds'],\n",
    "    eSH = df[2::3, 'binds'],\n",
    ")\n",
    "new_train_df"
   ]
  },
  {
   "cell_type": "code",
   "execution_count": null,
   "id": "069d235f-d5c1-42ce-885b-2e61c44c4bfa",
   "metadata": {},
   "outputs": [],
   "source": []
  },
  {
   "cell_type": "code",
   "execution_count": 41,
   "id": "58bb9bdd-b1e1-405e-929b-a0e0ac11cfc9",
   "metadata": {},
   "outputs": [
    {
     "data": {
      "text/plain": [
       "8876.121075630188"
      ]
     },
     "execution_count": 41,
     "metadata": {},
     "output_type": "execute_result"
    }
   ],
   "source": [
    "new_train_df.estimated_size('mb')"
   ]
  },
  {
   "cell_type": "code",
   "execution_count": 42,
   "id": "3e5665e4-ea6e-4702-b389-f168a8b1c824",
   "metadata": {},
   "outputs": [
    {
     "data": {
      "text/plain": [
       "15821.555647850037"
      ]
     },
     "execution_count": 42,
     "metadata": {},
     "output_type": "execute_result"
    }
   ],
   "source": [
    "df.estimated_size('mb')"
   ]
  },
  {
   "cell_type": "code",
   "execution_count": 57,
   "id": "6c120594-c8d6-4a4e-8a25-08d8e91f7643",
   "metadata": {},
   "outputs": [
    {
     "data": {
      "text/html": [
       "<div><style>\n",
       ".dataframe > thead > tr,\n",
       ".dataframe > tbody > tr {\n",
       "  text-align: right;\n",
       "  white-space: pre-wrap;\n",
       "}\n",
       "</style>\n",
       "<small>shape: (98_415_610, 7)</small><table border=\"1\" class=\"dataframe\"><thead><tr><th>bb1</th><th>bb2</th><th>bb3</th><th>BRD4</th><th>HSA</th><th>eSH</th><th>molecule</th></tr><tr><td>u16</td><td>u16</td><td>u16</td><td>bool</td><td>bool</td><td>bool</td><td>cat</td></tr></thead><tbody><tr><td>1640</td><td>1653</td><td>765</td><td>false</td><td>false</td><td>false</td><td>&quot;C#CCOc1ccc(CNc…</td></tr><tr><td>1640</td><td>1653</td><td>205</td><td>false</td><td>false</td><td>false</td><td>&quot;C#CCOc1ccc(CNc…</td></tr><tr><td>1640</td><td>1653</td><td>1653</td><td>false</td><td>false</td><td>false</td><td>&quot;C#CCOc1ccc(CNc…</td></tr><tr><td>1640</td><td>1653</td><td>146</td><td>false</td><td>false</td><td>false</td><td>&quot;C#CCOc1ccc(CNc…</td></tr><tr><td>1640</td><td>1653</td><td>439</td><td>false</td><td>false</td><td>false</td><td>&quot;C#CCOc1ccc(CNc…</td></tr><tr><td>&hellip;</td><td>&hellip;</td><td>&hellip;</td><td>&hellip;</td><td>&hellip;</td><td>&hellip;</td><td>&hellip;</td></tr><tr><td>141</td><td>1415</td><td>1792</td><td>false</td><td>false</td><td>false</td><td>&quot;[N-]=[N+]=NCCC…</td></tr><tr><td>141</td><td>1415</td><td>1178</td><td>false</td><td>false</td><td>false</td><td>&quot;[N-]=[N+]=NCCC…</td></tr><tr><td>141</td><td>1415</td><td>1699</td><td>false</td><td>false</td><td>false</td><td>&quot;[N-]=[N+]=NCCC…</td></tr><tr><td>141</td><td>1415</td><td>1308</td><td>false</td><td>false</td><td>false</td><td>&quot;[N-]=[N+]=NCCC…</td></tr><tr><td>141</td><td>1415</td><td>1415</td><td>false</td><td>false</td><td>false</td><td>&quot;[N-]=[N+]=NCCC…</td></tr></tbody></table></div>"
      ],
      "text/plain": [
       "shape: (98_415_610, 7)\n",
       "┌──────┬──────┬──────┬───────┬───────┬───────┬───────────────────────────────────┐\n",
       "│ bb1  ┆ bb2  ┆ bb3  ┆ BRD4  ┆ HSA   ┆ eSH   ┆ molecule                          │\n",
       "│ ---  ┆ ---  ┆ ---  ┆ ---   ┆ ---   ┆ ---   ┆ ---                               │\n",
       "│ u16  ┆ u16  ┆ u16  ┆ bool  ┆ bool  ┆ bool  ┆ cat                               │\n",
       "╞══════╪══════╪══════╪═══════╪═══════╪═══════╪═══════════════════════════════════╡\n",
       "│ 1640 ┆ 1653 ┆ 765  ┆ false ┆ false ┆ false ┆ C#CCOc1ccc(CNc2nc(NCC3CCCN3c3ccc… │\n",
       "│ 1640 ┆ 1653 ┆ 205  ┆ false ┆ false ┆ false ┆ C#CCOc1ccc(CNc2nc(NCc3cccc(Br)n3… │\n",
       "│ 1640 ┆ 1653 ┆ 1653 ┆ false ┆ false ┆ false ┆ C#CCOc1ccc(CNc2nc(NCc3ccc(OCC#C)… │\n",
       "│ 1640 ┆ 1653 ┆ 146  ┆ false ┆ false ┆ false ┆ C#CCOc1ccc(CNc2nc(NCCNC(=O)C(=C)… │\n",
       "│ 1640 ┆ 1653 ┆ 439  ┆ false ┆ false ┆ false ┆ C#CCOc1ccc(CNc2nc(NCC(=O)NCC=C)n… │\n",
       "│ …    ┆ …    ┆ …    ┆ …     ┆ …     ┆ …     ┆ …                                 │\n",
       "│ 141  ┆ 1415 ┆ 1792 ┆ false ┆ false ┆ false ┆ [N-]=[N+]=NCCC[C@H](Nc1nc(Nc2noc… │\n",
       "│ 141  ┆ 1415 ┆ 1178 ┆ false ┆ false ┆ false ┆ [N-]=[N+]=NCCC[C@H](Nc1nc(Nc2nnc… │\n",
       "│ 141  ┆ 1415 ┆ 1699 ┆ false ┆ false ┆ false ┆ [N-]=[N+]=NCCC[C@H](Nc1nc(Nc2nnc… │\n",
       "│ 141  ┆ 1415 ┆ 1308 ┆ false ┆ false ┆ false ┆ [N-]=[N+]=NCCC[C@H](Nc1nc(Nc2nnn… │\n",
       "│ 141  ┆ 1415 ┆ 1415 ┆ false ┆ false ┆ false ┆ [N-]=[N+]=NCCC[C@H](Nc1nc(Nc2noc… │\n",
       "└──────┴──────┴──────┴───────┴───────┴───────┴───────────────────────────────────┘"
      ]
     },
     "execution_count": 57,
     "metadata": {},
     "output_type": "execute_result"
    }
   ],
   "source": [
    "new_train_df"
   ]
  },
  {
   "cell_type": "code",
   "execution_count": 62,
   "id": "8a93ae44-f1a3-48b0-a971-8f149661a391",
   "metadata": {},
   "outputs": [
    {
     "data": {
      "text/html": [
       "<div><style>\n",
       ".dataframe > thead > tr,\n",
       ".dataframe > tbody > tr {\n",
       "  text-align: right;\n",
       "  white-space: pre-wrap;\n",
       "}\n",
       "</style>\n",
       "<small>shape: (1, 3)</small><table border=\"1\" class=\"dataframe\"><thead><tr><th>BRD4</th><th>HSA</th><th>eSH</th></tr><tr><td>u32</td><td>u32</td><td>u32</td></tr></thead><tbody><tr><td>456964</td><td>408410</td><td>724532</td></tr></tbody></table></div>"
      ],
      "text/plain": [
       "shape: (1, 3)\n",
       "┌────────┬────────┬────────┐\n",
       "│ BRD4   ┆ HSA    ┆ eSH    │\n",
       "│ ---    ┆ ---    ┆ ---    │\n",
       "│ u32    ┆ u32    ┆ u32    │\n",
       "╞════════╪════════╪════════╡\n",
       "│ 456964 ┆ 408410 ┆ 724532 │\n",
       "└────────┴────────┴────────┘"
      ]
     },
     "execution_count": 62,
     "metadata": {},
     "output_type": "execute_result"
    }
   ],
   "source": [
    "new_train_df[:, ['BRD4', 'HSA', 'eSH']].sum()"
   ]
  },
  {
   "cell_type": "code",
   "execution_count": 64,
   "id": "a6fbe6c3-fcac-49ca-805f-e6f50cbec7bd",
   "metadata": {},
   "outputs": [
    {
     "data": {
      "text/html": [
       "<div><style>\n",
       ".dataframe > thead > tr,\n",
       ".dataframe > tbody > tr {\n",
       "  text-align: right;\n",
       "  white-space: pre-wrap;\n",
       "}\n",
       "</style>\n",
       "<small>shape: (1, 3)</small><table border=\"1\" class=\"dataframe\"><thead><tr><th>BRD4</th><th>HSA</th><th>eSH</th></tr><tr><td>f64</td><td>f64</td><td>f64</td></tr></thead><tbody><tr><td>0.004643</td><td>0.00415</td><td>0.007362</td></tr></tbody></table></div>"
      ],
      "text/plain": [
       "shape: (1, 3)\n",
       "┌──────────┬─────────┬──────────┐\n",
       "│ BRD4     ┆ HSA     ┆ eSH      │\n",
       "│ ---      ┆ ---     ┆ ---      │\n",
       "│ f64      ┆ f64     ┆ f64      │\n",
       "╞══════════╪═════════╪══════════╡\n",
       "│ 0.004643 ┆ 0.00415 ┆ 0.007362 │\n",
       "└──────────┴─────────┴──────────┘"
      ]
     },
     "execution_count": 64,
     "metadata": {},
     "output_type": "execute_result"
    }
   ],
   "source": [
    "new_train_df[:, ['BRD4', 'HSA', 'eSH']].mean()"
   ]
  },
  {
   "cell_type": "code",
   "execution_count": 35,
   "id": "f7cbb462-a217-4ca5-b755-d3dd2c137631",
   "metadata": {},
   "outputs": [
    {
     "data": {
      "text/plain": [
       "0.005385"
      ]
     },
     "execution_count": 35,
     "metadata": {},
     "output_type": "execute_result"
    }
   ],
   "source": [
    "(0.004643 + 0.00415 + 0.007362) / 3"
   ]
  },
  {
   "cell_type": "code",
   "execution_count": null,
   "id": "3ec4038b-49a2-49c2-85a8-686930322ee5",
   "metadata": {},
   "outputs": [],
   "source": []
  },
  {
   "cell_type": "code",
   "execution_count": null,
   "id": "e0c1c353-cd5a-4619-aace-92d47513b960",
   "metadata": {},
   "outputs": [],
   "source": []
  },
  {
   "cell_type": "code",
   "execution_count": 65,
   "id": "5a0c7467-d85c-4b4e-ab62-f13c78dac01d",
   "metadata": {},
   "outputs": [
    {
     "data": {
      "text/plain": [
       "1589906"
      ]
     },
     "execution_count": 65,
     "metadata": {},
     "output_type": "execute_result"
    }
   ],
   "source": [
    "456964 + 408410 + 724532"
   ]
  },
  {
   "cell_type": "code",
   "execution_count": 70,
   "id": "cc7ba897-c54b-4b15-8e1e-5967dce643a7",
   "metadata": {},
   "outputs": [],
   "source": [
    "new_train_df = new_train_df.cast({\n",
    "    'BRD4': pl.UInt8,\n",
    "    'HSA': pl.UInt8,\n",
    "    'eSH': pl.UInt8\t\n",
    "})"
   ]
  },
  {
   "cell_type": "code",
   "execution_count": 72,
   "id": "1d7f74bd-4296-47e9-95dc-06277f5a4b5b",
   "metadata": {},
   "outputs": [],
   "source": [
    "new_train_df[:100].write_csv('/home/dangnh36/datasets/competitions/leash_belka/processed/train_v2_preview.csv')\n",
    "new_train_df.write_csv('/home/dangnh36/datasets/competitions/leash_belka/processed/train_v2.csv')"
   ]
  },
  {
   "cell_type": "code",
   "execution_count": 68,
   "id": "0600fe0e-4010-4836-9df4-3f700b0aa420",
   "metadata": {},
   "outputs": [],
   "source": [
    "with open('/home/dangnh36/datasets/competitions/leash_belka/processed/building_blocks.json', 'w') as f:\n",
    "    json.dump(\n",
    "        {\n",
    "            'train_bbs': train_bbs,\n",
    "            'train_bb1s': train_bb1s,\n",
    "            'train_bb2s': train_bb2s,\n",
    "            'train_bb3s': train_bb3s,\n",
    "            'test_bb1s': test_bb1s,\n",
    "            'test_bb2s': test_bb2s,\n",
    "            'test_bb3s': test_bb3s,\n",
    "            'test_bbs': test_bbs,\n",
    "            'all_bbs': all_bbs\n",
    "        },\n",
    "        f\n",
    "    )"
   ]
  },
  {
   "cell_type": "code",
   "execution_count": 73,
   "id": "0d27fa33-5edd-4598-bb9f-a933019e9693",
   "metadata": {},
   "outputs": [
    {
     "data": {
      "text/plain": [
       "2110"
      ]
     },
     "execution_count": 73,
     "metadata": {},
     "output_type": "execute_result"
    }
   ],
   "source": [
    "len(all_bbs)"
   ]
  },
  {
   "cell_type": "code",
   "execution_count": null,
   "id": "e932e728-696b-4f3a-b6d0-667f1e948329",
   "metadata": {},
   "outputs": [],
   "source": []
  },
  {
   "cell_type": "code",
   "execution_count": null,
   "id": "380057ed-bf34-4315-b038-2fc85023200a",
   "metadata": {},
   "outputs": [],
   "source": []
  },
  {
   "cell_type": "code",
   "execution_count": 38,
   "id": "c83c8770-6f74-440d-af42-2403d43bf8ed",
   "metadata": {},
   "outputs": [
    {
     "data": {
      "text/html": [
       "<div><style>\n",
       ".dataframe > thead > tr,\n",
       ".dataframe > tbody > tr {\n",
       "  text-align: right;\n",
       "  white-space: pre-wrap;\n",
       "}\n",
       "</style>\n",
       "<small>shape: (1_674_896, 6)</small><table border=\"1\" class=\"dataframe\"><thead><tr><th>id</th><th>bb1</th><th>bb2</th><th>bb3</th><th>molecule</th><th>protein</th></tr><tr><td>i64</td><td>cat</td><td>cat</td><td>cat</td><td>cat</td><td>enum</td></tr></thead><tbody><tr><td>295246830</td><td>&quot;C#CCCC[C@H](NC…</td><td>&quot;C=Cc1ccc(N)cc1…</td><td>&quot;C=Cc1ccc(N)cc1…</td><td>&quot;C#CCCC[C@H](Nc…</td><td>&quot;BRD4&quot;</td></tr><tr><td>295246831</td><td>&quot;C#CCCC[C@H](NC…</td><td>&quot;C=Cc1ccc(N)cc1…</td><td>&quot;C=Cc1ccc(N)cc1…</td><td>&quot;C#CCCC[C@H](Nc…</td><td>&quot;HSA&quot;</td></tr><tr><td>295246832</td><td>&quot;C#CCCC[C@H](NC…</td><td>&quot;C=Cc1ccc(N)cc1…</td><td>&quot;C=Cc1ccc(N)cc1…</td><td>&quot;C#CCCC[C@H](Nc…</td><td>&quot;sEH&quot;</td></tr><tr><td>295246833</td><td>&quot;C#CCCC[C@H](NC…</td><td>&quot;C=Cc1ccc(N)cc1…</td><td>&quot;CC(O)Cn1cnc2c(…</td><td>&quot;C#CCCC[C@H](Nc…</td><td>&quot;BRD4&quot;</td></tr><tr><td>295246834</td><td>&quot;C#CCCC[C@H](NC…</td><td>&quot;C=Cc1ccc(N)cc1…</td><td>&quot;CC(O)Cn1cnc2c(…</td><td>&quot;C#CCCC[C@H](Nc…</td><td>&quot;HSA&quot;</td></tr><tr><td>&hellip;</td><td>&hellip;</td><td>&hellip;</td><td>&hellip;</td><td>&hellip;</td><td>&hellip;</td></tr><tr><td>296921721</td><td>&quot;[N-]=[N+]=NCCC…</td><td>&quot;Nc1noc2ccc(F)c…</td><td>&quot;COC1CCC(CCN)CC…</td><td>&quot;COC1CCC(CCNc2n…</td><td>&quot;HSA&quot;</td></tr><tr><td>296921722</td><td>&quot;[N-]=[N+]=NCCC…</td><td>&quot;Nc1noc2ccc(F)c…</td><td>&quot;COC1CCC(CCN)CC…</td><td>&quot;COC1CCC(CCNc2n…</td><td>&quot;sEH&quot;</td></tr><tr><td>296921723</td><td>&quot;[N-]=[N+]=NCCC…</td><td>&quot;Nc1noc2ccc(F)c…</td><td>&quot;NCc1cccs1&quot;</td><td>&quot;[N-]=[N+]=NCCC…</td><td>&quot;BRD4&quot;</td></tr><tr><td>296921724</td><td>&quot;[N-]=[N+]=NCCC…</td><td>&quot;Nc1noc2ccc(F)c…</td><td>&quot;NCc1cccs1&quot;</td><td>&quot;[N-]=[N+]=NCCC…</td><td>&quot;HSA&quot;</td></tr><tr><td>296921725</td><td>&quot;[N-]=[N+]=NCCC…</td><td>&quot;Nc1noc2ccc(F)c…</td><td>&quot;NCc1cccs1&quot;</td><td>&quot;[N-]=[N+]=NCCC…</td><td>&quot;sEH&quot;</td></tr></tbody></table></div>"
      ],
      "text/plain": [
       "shape: (1_674_896, 6)\n",
       "┌───────────┬───────────────────┬──────────────────┬──────────────────┬──────────────────┬─────────┐\n",
       "│ id        ┆ bb1               ┆ bb2              ┆ bb3              ┆ molecule         ┆ protein │\n",
       "│ ---       ┆ ---               ┆ ---              ┆ ---              ┆ ---              ┆ ---     │\n",
       "│ i64       ┆ cat               ┆ cat              ┆ cat              ┆ cat              ┆ enum    │\n",
       "╞═══════════╪═══════════════════╪══════════════════╪══════════════════╪══════════════════╪═════════╡\n",
       "│ 295246830 ┆ C#CCCC[C@H](NC(=O ┆ C=Cc1ccc(N)cc1   ┆ C=Cc1ccc(N)cc1   ┆ C#CCCC[C@H](Nc1n ┆ BRD4    │\n",
       "│           ┆ )OCC1c2ccccc2-c…  ┆                  ┆                  ┆ c(Nc2ccc(C=C)cc2 ┆         │\n",
       "│           ┆                   ┆                  ┆                  ┆ …                ┆         │\n",
       "│ 295246831 ┆ C#CCCC[C@H](NC(=O ┆ C=Cc1ccc(N)cc1   ┆ C=Cc1ccc(N)cc1   ┆ C#CCCC[C@H](Nc1n ┆ HSA     │\n",
       "│           ┆ )OCC1c2ccccc2-c…  ┆                  ┆                  ┆ c(Nc2ccc(C=C)cc2 ┆         │\n",
       "│           ┆                   ┆                  ┆                  ┆ …                ┆         │\n",
       "│ 295246832 ┆ C#CCCC[C@H](NC(=O ┆ C=Cc1ccc(N)cc1   ┆ C=Cc1ccc(N)cc1   ┆ C#CCCC[C@H](Nc1n ┆ sEH     │\n",
       "│           ┆ )OCC1c2ccccc2-c…  ┆                  ┆                  ┆ c(Nc2ccc(C=C)cc2 ┆         │\n",
       "│           ┆                   ┆                  ┆                  ┆ …                ┆         │\n",
       "│ 295246833 ┆ C#CCCC[C@H](NC(=O ┆ C=Cc1ccc(N)cc1   ┆ CC(O)Cn1cnc2c(N) ┆ C#CCCC[C@H](Nc1n ┆ BRD4    │\n",
       "│           ┆ )OCC1c2ccccc2-c…  ┆                  ┆ ncnc21           ┆ c(Nc2ccc(C=C)cc2 ┆         │\n",
       "│           ┆                   ┆                  ┆                  ┆ …                ┆         │\n",
       "│ 295246834 ┆ C#CCCC[C@H](NC(=O ┆ C=Cc1ccc(N)cc1   ┆ CC(O)Cn1cnc2c(N) ┆ C#CCCC[C@H](Nc1n ┆ HSA     │\n",
       "│           ┆ )OCC1c2ccccc2-c…  ┆                  ┆ ncnc21           ┆ c(Nc2ccc(C=C)cc2 ┆         │\n",
       "│           ┆                   ┆                  ┆                  ┆ …                ┆         │\n",
       "│ …         ┆ …                 ┆ …                ┆ …                ┆ …                ┆ …       │\n",
       "│ 296921721 ┆ [N-]=[N+]=NCCC[C@ ┆ Nc1noc2ccc(F)cc1 ┆ COC1CCC(CCN)CC1  ┆ COC1CCC(CCNc2nc( ┆ HSA     │\n",
       "│           ┆ H](NC(=O)OCC1c2…  ┆ 2                ┆                  ┆ Nc3noc4ccc(F)cc3 ┆         │\n",
       "│           ┆                   ┆                  ┆                  ┆ …                ┆         │\n",
       "│ 296921722 ┆ [N-]=[N+]=NCCC[C@ ┆ Nc1noc2ccc(F)cc1 ┆ COC1CCC(CCN)CC1  ┆ COC1CCC(CCNc2nc( ┆ sEH     │\n",
       "│           ┆ H](NC(=O)OCC1c2…  ┆ 2                ┆                  ┆ Nc3noc4ccc(F)cc3 ┆         │\n",
       "│           ┆                   ┆                  ┆                  ┆ …                ┆         │\n",
       "│ 296921723 ┆ [N-]=[N+]=NCCC[C@ ┆ Nc1noc2ccc(F)cc1 ┆ NCc1cccs1        ┆ [N-]=[N+]=NCCC[C ┆ BRD4    │\n",
       "│           ┆ H](NC(=O)OCC1c2…  ┆ 2                ┆                  ┆ @H](Nc1nc(NCc2cc ┆         │\n",
       "│           ┆                   ┆                  ┆                  ┆ …                ┆         │\n",
       "│ 296921724 ┆ [N-]=[N+]=NCCC[C@ ┆ Nc1noc2ccc(F)cc1 ┆ NCc1cccs1        ┆ [N-]=[N+]=NCCC[C ┆ HSA     │\n",
       "│           ┆ H](NC(=O)OCC1c2…  ┆ 2                ┆                  ┆ @H](Nc1nc(NCc2cc ┆         │\n",
       "│           ┆                   ┆                  ┆                  ┆ …                ┆         │\n",
       "│ 296921725 ┆ [N-]=[N+]=NCCC[C@ ┆ Nc1noc2ccc(F)cc1 ┆ NCc1cccs1        ┆ [N-]=[N+]=NCCC[C ┆ sEH     │\n",
       "│           ┆ H](NC(=O)OCC1c2…  ┆ 2                ┆                  ┆ @H](Nc1nc(NCc2cc ┆         │\n",
       "│           ┆                   ┆                  ┆                  ┆ …                ┆         │\n",
       "└───────────┴───────────────────┴──────────────────┴──────────────────┴──────────────────┴─────────┘"
      ]
     },
     "execution_count": 38,
     "metadata": {},
     "output_type": "execute_result"
    }
   ],
   "source": [
    "test_df"
   ]
  },
  {
   "cell_type": "code",
   "execution_count": 39,
   "id": "22358e60-9fcd-4d8e-b9ce-55b06469c215",
   "metadata": {},
   "outputs": [],
   "source": [
    "PROTEIN2IDX = {\n",
    "    'BRD4': 0,\n",
    "    'HSA': 1,\n",
    "    'sEH': 2\n",
    "}"
   ]
  },
  {
   "cell_type": "code",
   "execution_count": 45,
   "id": "e2236c51-71dc-4345-bc4f-51e26ccf9788",
   "metadata": {},
   "outputs": [
    {
     "name": "stderr",
     "output_type": "stream",
     "text": [
      "sys:1: MapWithoutReturnDtypeWarning: Calling `map_elements` without specifying `return_dtype` can lead to unpredictable results. Specify `return_dtype` to silence this warning.\n",
      "sys:1: MapWithoutReturnDtypeWarning: Calling `map_elements` without specifying `return_dtype` can lead to unpredictable results. Specify `return_dtype` to silence this warning.\n",
      "sys:1: MapWithoutReturnDtypeWarning: Calling `map_elements` without specifying `return_dtype` can lead to unpredictable results. Specify `return_dtype` to silence this warning.\n"
     ]
    },
    {
     "data": {
      "text/html": [
       "<div><style>\n",
       ".dataframe > thead > tr,\n",
       ".dataframe > tbody > tr {\n",
       "  text-align: right;\n",
       "  white-space: pre-wrap;\n",
       "}\n",
       "</style>\n",
       "<small>shape: (1_674_896, 6)</small><table border=\"1\" class=\"dataframe\"><thead><tr><th>id</th><th>molecule</th><th>bb1</th><th>bb2</th><th>bb3</th><th>protein</th></tr><tr><td>i64</td><td>cat</td><td>u16</td><td>u16</td><td>u16</td><td>enum</td></tr></thead><tbody><tr><td>295246830</td><td>&quot;C#CCCC[C@H](Nc…</td><td>1989</td><td>409</td><td>409</td><td>&quot;BRD4&quot;</td></tr><tr><td>295246831</td><td>&quot;C#CCCC[C@H](Nc…</td><td>1989</td><td>409</td><td>409</td><td>&quot;HSA&quot;</td></tr><tr><td>295246832</td><td>&quot;C#CCCC[C@H](Nc…</td><td>1989</td><td>409</td><td>409</td><td>&quot;sEH&quot;</td></tr><tr><td>295246833</td><td>&quot;C#CCCC[C@H](Nc…</td><td>1989</td><td>409</td><td>1012</td><td>&quot;BRD4&quot;</td></tr><tr><td>295246834</td><td>&quot;C#CCCC[C@H](Nc…</td><td>1989</td><td>409</td><td>1012</td><td>&quot;HSA&quot;</td></tr><tr><td>&hellip;</td><td>&hellip;</td><td>&hellip;</td><td>&hellip;</td><td>&hellip;</td><td>&hellip;</td></tr><tr><td>296921721</td><td>&quot;COC1CCC(CCNc2n…</td><td>141</td><td>1415</td><td>1556</td><td>&quot;HSA&quot;</td></tr><tr><td>296921722</td><td>&quot;COC1CCC(CCNc2n…</td><td>141</td><td>1415</td><td>1556</td><td>&quot;sEH&quot;</td></tr><tr><td>296921723</td><td>&quot;[N-]=[N+]=NCCC…</td><td>141</td><td>1415</td><td>236</td><td>&quot;BRD4&quot;</td></tr><tr><td>296921724</td><td>&quot;[N-]=[N+]=NCCC…</td><td>141</td><td>1415</td><td>236</td><td>&quot;HSA&quot;</td></tr><tr><td>296921725</td><td>&quot;[N-]=[N+]=NCCC…</td><td>141</td><td>1415</td><td>236</td><td>&quot;sEH&quot;</td></tr></tbody></table></div>"
      ],
      "text/plain": [
       "shape: (1_674_896, 6)\n",
       "┌───────────┬───────────────────────────────────┬──────┬──────┬──────┬─────────┐\n",
       "│ id        ┆ molecule                          ┆ bb1  ┆ bb2  ┆ bb3  ┆ protein │\n",
       "│ ---       ┆ ---                               ┆ ---  ┆ ---  ┆ ---  ┆ ---     │\n",
       "│ i64       ┆ cat                               ┆ u16  ┆ u16  ┆ u16  ┆ enum    │\n",
       "╞═══════════╪═══════════════════════════════════╪══════╪══════╪══════╪═════════╡\n",
       "│ 295246830 ┆ C#CCCC[C@H](Nc1nc(Nc2ccc(C=C)cc2… ┆ 1989 ┆ 409  ┆ 409  ┆ BRD4    │\n",
       "│ 295246831 ┆ C#CCCC[C@H](Nc1nc(Nc2ccc(C=C)cc2… ┆ 1989 ┆ 409  ┆ 409  ┆ HSA     │\n",
       "│ 295246832 ┆ C#CCCC[C@H](Nc1nc(Nc2ccc(C=C)cc2… ┆ 1989 ┆ 409  ┆ 409  ┆ sEH     │\n",
       "│ 295246833 ┆ C#CCCC[C@H](Nc1nc(Nc2ccc(C=C)cc2… ┆ 1989 ┆ 409  ┆ 1012 ┆ BRD4    │\n",
       "│ 295246834 ┆ C#CCCC[C@H](Nc1nc(Nc2ccc(C=C)cc2… ┆ 1989 ┆ 409  ┆ 1012 ┆ HSA     │\n",
       "│ …         ┆ …                                 ┆ …    ┆ …    ┆ …    ┆ …       │\n",
       "│ 296921721 ┆ COC1CCC(CCNc2nc(Nc3noc4ccc(F)cc3… ┆ 141  ┆ 1415 ┆ 1556 ┆ HSA     │\n",
       "│ 296921722 ┆ COC1CCC(CCNc2nc(Nc3noc4ccc(F)cc3… ┆ 141  ┆ 1415 ┆ 1556 ┆ sEH     │\n",
       "│ 296921723 ┆ [N-]=[N+]=NCCC[C@H](Nc1nc(NCc2cc… ┆ 141  ┆ 1415 ┆ 236  ┆ BRD4    │\n",
       "│ 296921724 ┆ [N-]=[N+]=NCCC[C@H](Nc1nc(NCc2cc… ┆ 141  ┆ 1415 ┆ 236  ┆ HSA     │\n",
       "│ 296921725 ┆ [N-]=[N+]=NCCC[C@H](Nc1nc(NCc2cc… ┆ 141  ┆ 1415 ┆ 236  ┆ sEH     │\n",
       "└───────────┴───────────────────────────────────┴──────┴──────┴──────┴─────────┘"
      ]
     },
     "execution_count": 45,
     "metadata": {},
     "output_type": "execute_result"
    }
   ],
   "source": [
    "new_test_df = test_df.select(\n",
    "    pl.col('id', 'molecule'),\n",
    "    pl.col('bb1', 'bb2', 'bb3').map_elements(lambda x: BB2IDX[x]).cast(pl.UInt16),\n",
    "    pl.col('protein')\n",
    ")\n",
    "new_test_df"
   ]
  },
  {
   "cell_type": "code",
   "execution_count": 46,
   "id": "18aba0b0-4f90-4922-8eed-b0dae4040c3b",
   "metadata": {},
   "outputs": [
    {
     "data": {
      "text/plain": [
       "(114.57435321807861, 104.89342212677002)"
      ]
     },
     "execution_count": 46,
     "metadata": {},
     "output_type": "execute_result"
    }
   ],
   "source": [
    "test_df.estimated_size('mb'), new_test_df.estimated_size('mb')"
   ]
  },
  {
   "cell_type": "code",
   "execution_count": null,
   "id": "b9b2113c-23d8-4547-a2e4-357dbb1fac3b",
   "metadata": {},
   "outputs": [],
   "source": []
  },
  {
   "cell_type": "code",
   "execution_count": 47,
   "id": "aa1235a4-3cd1-4e82-a444-f53c850f6e1a",
   "metadata": {},
   "outputs": [],
   "source": [
    "os.makedirs('/home/dangnh36/datasets/competitions/leash_belka/processed/', exist_ok=True)"
   ]
  },
  {
   "cell_type": "code",
   "execution_count": 55,
   "id": "d8eb671f-aa29-4e74-87b4-a1f180c7ddcb",
   "metadata": {},
   "outputs": [],
   "source": [
    "new_test_df.write_csv('/home/dangnh36/datasets/competitions/leash_belka/processed/test_v2.csv')"
   ]
  },
  {
   "cell_type": "code",
   "execution_count": 56,
   "id": "722b7712-0984-48f4-916f-1d581c6904df",
   "metadata": {},
   "outputs": [
    {
     "data": {
      "text/html": [
       "<div><style>\n",
       ".dataframe > thead > tr,\n",
       ".dataframe > tbody > tr {\n",
       "  text-align: right;\n",
       "  white-space: pre-wrap;\n",
       "}\n",
       "</style>\n",
       "<small>shape: (1, 6)</small><table border=\"1\" class=\"dataframe\"><thead><tr><th>id</th><th>molecule</th><th>bb1</th><th>bb2</th><th>bb3</th><th>protein</th></tr><tr><td>u32</td><td>u32</td><td>u32</td><td>u32</td><td>u32</td><td>u32</td></tr></thead><tbody><tr><td>1674896</td><td>878022</td><td>341</td><td>1140</td><td>1389</td><td>3</td></tr></tbody></table></div>"
      ],
      "text/plain": [
       "shape: (1, 6)\n",
       "┌─────────┬──────────┬─────┬──────┬──────┬─────────┐\n",
       "│ id      ┆ molecule ┆ bb1 ┆ bb2  ┆ bb3  ┆ protein │\n",
       "│ ---     ┆ ---      ┆ --- ┆ ---  ┆ ---  ┆ ---     │\n",
       "│ u32     ┆ u32      ┆ u32 ┆ u32  ┆ u32  ┆ u32     │\n",
       "╞═════════╪══════════╪═════╪══════╪══════╪═════════╡\n",
       "│ 1674896 ┆ 878022   ┆ 341 ┆ 1140 ┆ 1389 ┆ 3       │\n",
       "└─────────┴──────────┴─────┴──────┴──────┴─────────┘"
      ]
     },
     "execution_count": 56,
     "metadata": {},
     "output_type": "execute_result"
    }
   ],
   "source": [
    "new_test_df.select(pl.col('*').n_unique())"
   ]
  },
  {
   "cell_type": "code",
   "execution_count": 34,
   "id": "71abb340-3745-44ea-9254-cd44c53b5154",
   "metadata": {},
   "outputs": [
    {
     "data": {
      "text/plain": [
       "99293632"
      ]
     },
     "execution_count": 34,
     "metadata": {},
     "output_type": "execute_result"
    }
   ],
   "source": [
    "98_415_610 + 878_022"
   ]
  },
  {
   "cell_type": "code",
   "execution_count": null,
   "id": "eb28161f-015f-46b3-973a-ec39ef8e38f0",
   "metadata": {},
   "outputs": [],
   "source": []
  },
  {
   "cell_type": "code",
   "execution_count": 2,
   "id": "6b4b503c-f212-4c0d-b3af-7a3d6f55e8bf",
   "metadata": {},
   "outputs": [
    {
     "data": {
      "text/plain": [
       "dict_keys(['train_bbs', 'train_bb1s', 'train_bb2s', 'train_bb3s', 'test_bb1s', 'test_bb2s', 'test_bb3s', 'test_bbs', 'all_bbs'])"
      ]
     },
     "execution_count": 2,
     "metadata": {},
     "output_type": "execute_result"
    }
   ],
   "source": [
    "with open('/home/dangnh36/datasets/competitions/leash_belka/processed/building_blocks.json', 'r') as f:\n",
    "    bb_meta = json.load(f)\n",
    "bb_meta.keys()"
   ]
  },
  {
   "cell_type": "code",
   "execution_count": 3,
   "id": "6c70f291-0b03-46f1-8405-9e38626003dc",
   "metadata": {},
   "outputs": [
    {
     "data": {
      "text/plain": [
       "1145"
      ]
     },
     "execution_count": 3,
     "metadata": {},
     "output_type": "execute_result"
    }
   ],
   "source": [
    "len(bb_meta['train_bbs'])"
   ]
  },
  {
   "cell_type": "code",
   "execution_count": 4,
   "id": "b3217a13-279e-4971-bc97-d6a77974b940",
   "metadata": {},
   "outputs": [
    {
     "data": {
      "text/plain": [
       "1145"
      ]
     },
     "execution_count": 4,
     "metadata": {},
     "output_type": "execute_result"
    }
   ],
   "source": [
    "len(set(bb_meta['train_bbs']))"
   ]
  },
  {
   "cell_type": "code",
   "execution_count": 6,
   "id": "ba05806c-c0c3-449f-a430-0663b74a0d61",
   "metadata": {},
   "outputs": [
    {
     "data": {
      "text/plain": [
       "1836"
      ]
     },
     "execution_count": 6,
     "metadata": {},
     "output_type": "execute_result"
    }
   ],
   "source": [
    "271 + 693 + 872"
   ]
  },
  {
   "cell_type": "code",
   "execution_count": 7,
   "id": "d3ef4389-2fbd-4c60-afc3-d428d0bb7b0e",
   "metadata": {},
   "outputs": [
    {
     "data": {
      "text/plain": [
       "(2110, 2110)"
      ]
     },
     "execution_count": 7,
     "metadata": {},
     "output_type": "execute_result"
    }
   ],
   "source": [
    "len(bb_meta['test_bbs']), len(set(bb_meta['test_bbs']))"
   ]
  },
  {
   "cell_type": "code",
   "execution_count": 8,
   "id": "07983282-ccef-471c-80ee-99c0a00c7d64",
   "metadata": {},
   "outputs": [
    {
     "data": {
      "text/plain": [
       "2870"
      ]
     },
     "execution_count": 8,
     "metadata": {},
     "output_type": "execute_result"
    }
   ],
   "source": [
    "341 + 1140 + 1389"
   ]
  },
  {
   "cell_type": "code",
   "execution_count": null,
   "id": "bd66b12d-1ee8-4282-94a6-a3a0f2982515",
   "metadata": {},
   "outputs": [],
   "source": []
  },
  {
   "cell_type": "code",
   "execution_count": null,
   "id": "e6a7041a-a320-45e2-865d-0dce841f49cb",
   "metadata": {},
   "outputs": [],
   "source": []
  },
  {
   "cell_type": "code",
   "execution_count": null,
   "id": "882e766c-add3-4afc-968d-45232abbc98c",
   "metadata": {},
   "outputs": [],
   "source": []
  },
  {
   "cell_type": "code",
   "execution_count": 9,
   "id": "59d1bcfc-53a9-4715-b302-efa0b5b5fc8d",
   "metadata": {},
   "outputs": [
    {
     "data": {
      "text/plain": [
       "0.6236383442265795"
      ]
     },
     "execution_count": 9,
     "metadata": {},
     "output_type": "execute_result"
    }
   ],
   "source": [
    "1145 / 1836"
   ]
  },
  {
   "cell_type": "code",
   "execution_count": 10,
   "id": "5fda0bb0-cf00-4a79-a797-642bc5cd6558",
   "metadata": {},
   "outputs": [
    {
     "data": {
      "text/plain": [
       "0.735191637630662"
      ]
     },
     "execution_count": 10,
     "metadata": {},
     "output_type": "execute_result"
    }
   ],
   "source": [
    "2110 / 2870"
   ]
  },
  {
   "cell_type": "code",
   "execution_count": 12,
   "id": "60c244d0-afae-41cf-ba6a-8d9973513b81",
   "metadata": {},
   "outputs": [
    {
     "data": {
      "text/plain": [
       "271"
      ]
     },
     "execution_count": 12,
     "metadata": {},
     "output_type": "execute_result"
    }
   ],
   "source": [
    "len(set(bb_meta['train_bb1s']).intersection(set(bb_meta['test_bb1s'])))"
   ]
  },
  {
   "cell_type": "code",
   "execution_count": 15,
   "id": "2ee874d3-b9cf-4a92-a763-1be8497db0f2",
   "metadata": {},
   "outputs": [
    {
     "data": {
      "text/plain": [
       "693"
      ]
     },
     "execution_count": 15,
     "metadata": {},
     "output_type": "execute_result"
    }
   ],
   "source": [
    "len(set(bb_meta['train_bb2s']).intersection(set(bb_meta['test_bb2s'])))"
   ]
  },
  {
   "cell_type": "code",
   "execution_count": 16,
   "id": "7cf1eb84-a3fe-4132-bce6-7d684e45fc55",
   "metadata": {},
   "outputs": [
    {
     "data": {
      "text/plain": [
       "871"
      ]
     },
     "execution_count": 16,
     "metadata": {},
     "output_type": "execute_result"
    }
   ],
   "source": [
    "len(set(bb_meta['train_bb3s']).intersection(set(bb_meta['test_bb3s'])))"
   ]
  },
  {
   "cell_type": "code",
   "execution_count": 17,
   "id": "57fcad1a-44da-4943-a158-d9575f0305ee",
   "metadata": {},
   "outputs": [
    {
     "data": {
      "text/plain": [
       "1145"
      ]
     },
     "execution_count": 17,
     "metadata": {},
     "output_type": "execute_result"
    }
   ],
   "source": [
    "len(set(bb_meta['train_bbs']).intersection(set(bb_meta['test_bbs'])))"
   ]
  },
  {
   "cell_type": "code",
   "execution_count": 18,
   "id": "c806d8ca-70db-432d-9c9b-2355d2ffdb4b",
   "metadata": {},
   "outputs": [
    {
     "data": {
      "text/plain": [
       "1835"
      ]
     },
     "execution_count": 18,
     "metadata": {},
     "output_type": "execute_result"
    }
   ],
   "source": [
    "271 + 693 + 871"
   ]
  },
  {
   "cell_type": "code",
   "execution_count": 19,
   "id": "3fdbc8fb-134f-4a32-ab20-54144561627e",
   "metadata": {},
   "outputs": [
    {
     "data": {
      "text/plain": [
       "965"
      ]
     },
     "execution_count": 19,
     "metadata": {},
     "output_type": "execute_result"
    }
   ],
   "source": [
    "2110 - 1145"
   ]
  },
  {
   "cell_type": "code",
   "execution_count": 24,
   "id": "4d2b80b2-6d3b-4772-8328-9c8a2d9474a4",
   "metadata": {},
   "outputs": [
    {
     "data": {
      "text/plain": [
       "965"
      ]
     },
     "execution_count": 24,
     "metadata": {},
     "output_type": "execute_result"
    }
   ],
   "source": [
    "len(set(bb_meta['test_bbs']).difference(set(bb_meta['train_bbs'])))"
   ]
  },
  {
   "cell_type": "code",
   "execution_count": 26,
   "id": "a08e9f66-a698-4dea-89a7-31ea6d5a08f6",
   "metadata": {},
   "outputs": [
    {
     "data": {
      "text/plain": [
       "17.230006689574505"
      ]
     },
     "execution_count": 26,
     "metadata": {},
     "output_type": "execute_result"
    }
   ],
   "source": [
    "98_415_610 / 5_711_873"
   ]
  },
  {
   "cell_type": "code",
   "execution_count": 27,
   "id": "df4ec58f-6896-4839-8bc0-4ada754378c9",
   "metadata": {},
   "outputs": [
    {
     "data": {
      "text/plain": [
       "4.543064141199063"
      ]
     },
     "execution_count": 27,
     "metadata": {},
     "output_type": "execute_result"
    }
   ],
   "source": [
    "1674896 / 368671"
   ]
  },
  {
   "cell_type": "code",
   "execution_count": 28,
   "id": "29cc955a-6098-4580-a103-8bcf501d13d4",
   "metadata": {},
   "outputs": [
    {
     "data": {
      "text/plain": [
       "100090506"
      ]
     },
     "execution_count": 28,
     "metadata": {},
     "output_type": "execute_result"
    }
   ],
   "source": [
    "98_415_610 + 1_674_896"
   ]
  },
  {
   "cell_type": "code",
   "execution_count": 32,
   "id": "87524616-be2c-4ccd-853e-bb52dd24ee28",
   "metadata": {},
   "outputs": [
    {
     "data": {
      "text/plain": [
       "2110"
      ]
     },
     "execution_count": 32,
     "metadata": {},
     "output_type": "execute_result"
    }
   ],
   "source": [
    "len(set(bb_meta['test_bbs']).union(set(bb_meta['train_bbs'])))"
   ]
  },
  {
   "cell_type": "code",
   "execution_count": null,
   "id": "a3496b7a-0aff-4db7-9339-9b4a71e547c9",
   "metadata": {},
   "outputs": [],
   "source": []
  },
  {
   "cell_type": "code",
   "execution_count": 33,
   "id": "e8560035-7281-46a0-9905-ec478ab51145",
   "metadata": {},
   "outputs": [
    {
     "data": {
      "text/plain": [
       "296921726"
      ]
     },
     "execution_count": 33,
     "metadata": {},
     "output_type": "execute_result"
    }
   ],
   "source": [
    "295_246_830 + 1_674_896"
   ]
  },
  {
   "cell_type": "code",
   "execution_count": null,
   "id": "5f720061-b156-41fa-b797-080ac3c5fa15",
   "metadata": {},
   "outputs": [],
   "source": []
  },
  {
   "cell_type": "code",
   "execution_count": null,
   "id": "a684d54a-ff91-4a9e-a1a1-f1a14cf914b9",
   "metadata": {},
   "outputs": [],
   "source": []
  },
  {
   "cell_type": "code",
   "execution_count": null,
   "id": "d9fbbc8d-e822-4879-aa28-faa9c19340fd",
   "metadata": {},
   "outputs": [],
   "source": [
    "test_df = pl.scan_csv('/home/dangnh36/datasets/competitions/leash_belka/processed/test_v2.csv').collect()\n",
    "test_df.head(5)\n",
    "\n",
    "test_df_v2 = test_df.with_columns(\n",
    "    [\n",
    "        pl.when(pl.col('protein') == protein).then(pl.col('id')).otherwise(0).alias(f'id_{protein}')\n",
    "        for protein in ['BRD4', 'HSA', 'sEH']]\n",
    ").groupby('molecule').agg(pl.col('*').exclude('id', 'protein', 'id_BRD4', 'id_HSA', 'id_sEH').first(),\n",
    "                         pl.col('id_BRD4', 'id_HSA', 'id_sEH').sum()).sort(pl.max_horizontal('id_BRD4', 'id_HSA', 'id_sEH').alias('min_id'))\n",
    "test_df_v2"
   ]
  },
  {
   "cell_type": "code",
   "execution_count": null,
   "id": "d7f5e7d9-8539-4a0a-8f35-af46d429728b",
   "metadata": {},
   "outputs": [],
   "source": []
  },
  {
   "cell_type": "code",
   "execution_count": null,
   "id": "79ec1a86-4fd8-4d95-875f-e5fb82f83089",
   "metadata": {},
   "outputs": [],
   "source": []
  },
  {
   "cell_type": "code",
   "execution_count": null,
   "id": "c31a73a8-6595-476b-9e70-3e0f50969dac",
   "metadata": {},
   "outputs": [],
   "source": []
  },
  {
   "cell_type": "code",
   "execution_count": null,
   "id": "a84f3c00-1ff1-4054-8922-b2c2790c26e3",
   "metadata": {},
   "outputs": [],
   "source": []
  },
  {
   "cell_type": "code",
   "execution_count": null,
   "id": "2ea2188c-6a7e-4750-a12f-79e2b53b2d7e",
   "metadata": {},
   "outputs": [],
   "source": []
  },
  {
   "cell_type": "code",
   "execution_count": null,
   "id": "8115e64e-7007-47fd-a89a-4197c4fc3ec1",
   "metadata": {},
   "outputs": [],
   "source": []
  },
  {
   "cell_type": "code",
   "execution_count": null,
   "id": "fc1754b3-2886-4f93-9d8d-28b2b3f2d514",
   "metadata": {},
   "outputs": [],
   "source": []
  },
  {
   "cell_type": "code",
   "execution_count": null,
   "id": "a3d597db-e55d-4276-ac49-2ecf7fe7c036",
   "metadata": {},
   "outputs": [],
   "source": []
  },
  {
   "cell_type": "code",
   "execution_count": null,
   "id": "2ab8f934-5e21-41e7-8c61-d42cb0297f33",
   "metadata": {},
   "outputs": [],
   "source": []
  },
  {
   "cell_type": "code",
   "execution_count": null,
   "id": "288597f7-3f73-49bc-a2c4-3855043a7ce4",
   "metadata": {},
   "outputs": [],
   "source": []
  },
  {
   "cell_type": "code",
   "execution_count": null,
   "id": "893e0bc0-7dbd-4e36-a732-a5efc482779a",
   "metadata": {},
   "outputs": [],
   "source": []
  }
 ],
 "metadata": {
  "kernelspec": {
   "display_name": "Python 3 (ipykernel)",
   "language": "python",
   "name": "python3"
  },
  "language_info": {
   "codemirror_mode": {
    "name": "ipython",
    "version": 3
   },
   "file_extension": ".py",
   "mimetype": "text/x-python",
   "name": "python",
   "nbconvert_exporter": "python",
   "pygments_lexer": "ipython3",
   "version": "3.10.13"
  }
 },
 "nbformat": 4,
 "nbformat_minor": 5
}
