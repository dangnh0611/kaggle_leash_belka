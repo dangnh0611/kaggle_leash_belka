{
 "cells": [
  {
   "cell_type": "code",
   "execution_count": 10,
   "id": "1aa90dd3-75f2-4997-8aa5-d1cf071aa11c",
   "metadata": {},
   "outputs": [
    {
     "data": {
      "text/plain": [
       "polars.config.Config"
      ]
     },
     "execution_count": 10,
     "metadata": {},
     "output_type": "execute_result"
    }
   ],
   "source": [
    "import pandas as pd\n",
    "import numpy as np\n",
    "import os\n",
    "import sys\n",
    "import polars as pl\n",
    "import json\n",
    "from joblib import Parallel, delayed\n",
    "import deepchem\n",
    "from tqdm import tqdm\n",
    "import warnings\n",
    "warnings.filterwarnings(\"ignore\")\n",
    "from sklearn.model_selection import StratifiedGroupKFold, GroupKFold, KFold, GroupShuffleSplit, ShuffleSplit, StratifiedKFold\n",
    "import gc\n",
    "import random\n",
    "from functools import partial\n",
    "import catboost\n",
    "from catboost import FeaturesData, Pool, CatBoost, CatBoostClassifier, CatBoostRegressor, CatBoostRanker\n",
    "import time\n",
    "import math\n",
    "from sklearn.metrics import average_precision_score\n",
    "from matplotlib import pyplot as plt\n",
    "\n",
    "from functools import partial\n",
    "import mapply\n",
    "\n",
    "# Configure Polars \n",
    "cfg = pl.Config()\n",
    "cfg.set_tbl_rows(20)\n",
    "cfg.set_tbl_cols(50)"
   ]
  },
  {
   "cell_type": "code",
   "execution_count": null,
   "id": "b7eb3b6e-814d-4c73-be58-7fdd91be7892",
   "metadata": {},
   "outputs": [],
   "source": []
  },
  {
   "cell_type": "code",
   "execution_count": 5,
   "id": "e3869251-fba8-4beb-9870-8a0f23e63ff6",
   "metadata": {},
   "outputs": [
    {
     "data": {
      "text/html": [
       "<div><style>\n",
       ".dataframe > thead > tr,\n",
       ".dataframe > tbody > tr {\n",
       "  text-align: right;\n",
       "  white-space: pre-wrap;\n",
       "}\n",
       "</style>\n",
       "<small>shape: (98_415_610, 4)</small><table border=\"1\" class=\"dataframe\"><thead><tr><th>BRD4</th><th>HSA</th><th>sEH</th><th>label</th></tr><tr><td>u8</td><td>u8</td><td>u8</td><td>i64</td></tr></thead><tbody><tr><td>0</td><td>0</td><td>0</td><td>0</td></tr><tr><td>0</td><td>0</td><td>0</td><td>0</td></tr><tr><td>0</td><td>0</td><td>0</td><td>0</td></tr><tr><td>0</td><td>0</td><td>0</td><td>0</td></tr><tr><td>0</td><td>0</td><td>0</td><td>0</td></tr><tr><td>0</td><td>0</td><td>0</td><td>0</td></tr><tr><td>0</td><td>0</td><td>0</td><td>0</td></tr><tr><td>0</td><td>0</td><td>0</td><td>0</td></tr><tr><td>0</td><td>0</td><td>0</td><td>0</td></tr><tr><td>0</td><td>0</td><td>0</td><td>0</td></tr><tr><td>&hellip;</td><td>&hellip;</td><td>&hellip;</td><td>&hellip;</td></tr><tr><td>0</td><td>0</td><td>0</td><td>0</td></tr><tr><td>0</td><td>0</td><td>0</td><td>0</td></tr><tr><td>0</td><td>0</td><td>0</td><td>0</td></tr><tr><td>0</td><td>0</td><td>0</td><td>0</td></tr><tr><td>0</td><td>0</td><td>0</td><td>0</td></tr><tr><td>0</td><td>0</td><td>0</td><td>0</td></tr><tr><td>0</td><td>0</td><td>0</td><td>0</td></tr><tr><td>0</td><td>0</td><td>0</td><td>0</td></tr><tr><td>0</td><td>0</td><td>0</td><td>0</td></tr><tr><td>0</td><td>0</td><td>0</td><td>0</td></tr></tbody></table></div>"
      ],
      "text/plain": [
       "shape: (98_415_610, 4)\n",
       "┌──────┬─────┬─────┬───────┐\n",
       "│ BRD4 ┆ HSA ┆ sEH ┆ label │\n",
       "│ ---  ┆ --- ┆ --- ┆ ---   │\n",
       "│ u8   ┆ u8  ┆ u8  ┆ i64   │\n",
       "╞══════╪═════╪═════╪═══════╡\n",
       "│ 0    ┆ 0   ┆ 0   ┆ 0     │\n",
       "│ 0    ┆ 0   ┆ 0   ┆ 0     │\n",
       "│ 0    ┆ 0   ┆ 0   ┆ 0     │\n",
       "│ 0    ┆ 0   ┆ 0   ┆ 0     │\n",
       "│ 0    ┆ 0   ┆ 0   ┆ 0     │\n",
       "│ 0    ┆ 0   ┆ 0   ┆ 0     │\n",
       "│ 0    ┆ 0   ┆ 0   ┆ 0     │\n",
       "│ 0    ┆ 0   ┆ 0   ┆ 0     │\n",
       "│ 0    ┆ 0   ┆ 0   ┆ 0     │\n",
       "│ 0    ┆ 0   ┆ 0   ┆ 0     │\n",
       "│ …    ┆ …   ┆ …   ┆ …     │\n",
       "│ 0    ┆ 0   ┆ 0   ┆ 0     │\n",
       "│ 0    ┆ 0   ┆ 0   ┆ 0     │\n",
       "│ 0    ┆ 0   ┆ 0   ┆ 0     │\n",
       "│ 0    ┆ 0   ┆ 0   ┆ 0     │\n",
       "│ 0    ┆ 0   ┆ 0   ┆ 0     │\n",
       "│ 0    ┆ 0   ┆ 0   ┆ 0     │\n",
       "│ 0    ┆ 0   ┆ 0   ┆ 0     │\n",
       "│ 0    ┆ 0   ┆ 0   ┆ 0     │\n",
       "│ 0    ┆ 0   ┆ 0   ┆ 0     │\n",
       "│ 0    ┆ 0   ┆ 0   ┆ 0     │\n",
       "└──────┴─────┴─────┴───────┘"
      ]
     },
     "execution_count": 5,
     "metadata": {},
     "output_type": "execute_result"
    }
   ],
   "source": [
    "df = pl.scan_csv('/home/dangnh36/datasets/.comp/leash_belka/processed/train_v2.csv').select(\n",
    "        pl.col('BRD4', 'HSA', 'sEH').cast(pl.UInt8),\n",
    "        (pl.col('BRD4') * 4 + pl.col('HSA') * 2 + pl.col('sEH')).alias('label')\n",
    "    ).collect()\n",
    "df"
   ]
  },
  {
   "cell_type": "code",
   "execution_count": 6,
   "id": "11dd96b9-15bc-48c0-a3b3-5880d053b872",
   "metadata": {},
   "outputs": [
    {
     "data": {
      "text/plain": [
       "<Axes: >"
      ]
     },
     "execution_count": 6,
     "metadata": {},
     "output_type": "execute_result"
    },
    {
     "data": {
      "image/png": "[encoded data removed]",
      "text/plain": [
       "<Figure size 640x480 with 1 Axes>"
      ]
     },
     "metadata": {},
     "output_type": "display_data"
    }
   ],
   "source": [
    "df['label'].to_pandas().hist(log = True)"
   ]
  },
  {
   "cell_type": "code",
   "execution_count": null,
   "id": "51fb4db4-f8a3-475d-bdee-821ed7387c26",
   "metadata": {},
   "outputs": [],
   "source": []
  },
  {
   "cell_type": "code",
   "execution_count": 32,
   "id": "8fe8aae2-c2d6-4706-b860-48ebe38142ea",
   "metadata": {},
   "outputs": [
    {
     "name": "stdout",
     "output_type": "stream",
     "text": [
      "FOLD 0\n"
     ]
    },
    {
     "data": {
      "text/plain": [
       "<Axes: >"
      ]
     },
     "metadata": {},
     "output_type": "display_data"
    },
    {
     "data": {
      "image/png": "[encoded data removed]",
      "text/plain": [
       "<Figure size 640x480 with 1 Axes>"
      ]
     },
     "metadata": {},
     "output_type": "display_data"
    },
    {
     "data": {
      "text/html": [
       "<div><style>\n",
       ".dataframe > thead > tr,\n",
       ".dataframe > tbody > tr {\n",
       "  text-align: right;\n",
       "  white-space: pre-wrap;\n",
       "}\n",
       "</style>\n",
       "<small>shape: (1, 3)</small><table border=\"1\" class=\"dataframe\"><thead><tr><th>BRD4</th><th>HSA</th><th>sEH</th></tr><tr><td>f64</td><td>f64</td><td>f64</td></tr></thead><tbody><tr><td>0.004619</td><td>0.004146</td><td>0.007353</td></tr></tbody></table></div>"
      ],
      "text/plain": [
       "shape: (1, 3)\n",
       "┌──────────┬──────────┬──────────┐\n",
       "│ BRD4     ┆ HSA      ┆ sEH      │\n",
       "│ ---      ┆ ---      ┆ ---      │\n",
       "│ f64      ┆ f64      ┆ f64      │\n",
       "╞══════════╪══════════╪══════════╡\n",
       "│ 0.004619 ┆ 0.004146 ┆ 0.007353 │\n",
       "└──────────┴──────────┴──────────┘"
      ]
     },
     "metadata": {},
     "output_type": "display_data"
    },
    {
     "name": "stdout",
     "output_type": "stream",
     "text": [
      "FOLD 1\n"
     ]
    },
    {
     "data": {
      "text/plain": [
       "<Axes: >"
      ]
     },
     "metadata": {},
     "output_type": "display_data"
    },
    {
     "data": {
      "image/png": "[encoded data removed]",
      "text/plain": [
       "<Figure size 640x480 with 1 Axes>"
      ]
     },
     "metadata": {},
     "output_type": "display_data"
    },
    {
     "data": {
      "text/html": [
       "<div><style>\n",
       ".dataframe > thead > tr,\n",
       ".dataframe > tbody > tr {\n",
       "  text-align: right;\n",
       "  white-space: pre-wrap;\n",
       "}\n",
       "</style>\n",
       "<small>shape: (1, 3)</small><table border=\"1\" class=\"dataframe\"><thead><tr><th>BRD4</th><th>HSA</th><th>sEH</th></tr><tr><td>f64</td><td>f64</td><td>f64</td></tr></thead><tbody><tr><td>0.004674</td><td>0.004148</td><td>0.007434</td></tr></tbody></table></div>"
      ],
      "text/plain": [
       "shape: (1, 3)\n",
       "┌──────────┬──────────┬──────────┐\n",
       "│ BRD4     ┆ HSA      ┆ sEH      │\n",
       "│ ---      ┆ ---      ┆ ---      │\n",
       "│ f64      ┆ f64      ┆ f64      │\n",
       "╞══════════╪══════════╪══════════╡\n",
       "│ 0.004674 ┆ 0.004148 ┆ 0.007434 │\n",
       "└──────────┴──────────┴──────────┘"
      ]
     },
     "metadata": {},
     "output_type": "display_data"
    },
    {
     "name": "stdout",
     "output_type": "stream",
     "text": [
      "FOLD 2\n"
     ]
    },
    {
     "data": {
      "text/plain": [
       "<Axes: >"
      ]
     },
     "metadata": {},
     "output_type": "display_data"
    },
    {
     "data": {
      "image/png": "[encoded data removed]",
      "text/plain": [
       "<Figure size 640x480 with 1 Axes>"
      ]
     },
     "metadata": {},
     "output_type": "display_data"
    },
    {
     "data": {
      "text/html": [
       "<div><style>\n",
       ".dataframe > thead > tr,\n",
       ".dataframe > tbody > tr {\n",
       "  text-align: right;\n",
       "  white-space: pre-wrap;\n",
       "}\n",
       "</style>\n",
       "<small>shape: (1, 3)</small><table border=\"1\" class=\"dataframe\"><thead><tr><th>BRD4</th><th>HSA</th><th>sEH</th></tr><tr><td>f64</td><td>f64</td><td>f64</td></tr></thead><tbody><tr><td>0.004649</td><td>0.004171</td><td>0.00739</td></tr></tbody></table></div>"
      ],
      "text/plain": [
       "shape: (1, 3)\n",
       "┌──────────┬──────────┬─────────┐\n",
       "│ BRD4     ┆ HSA      ┆ sEH     │\n",
       "│ ---      ┆ ---      ┆ ---     │\n",
       "│ f64      ┆ f64      ┆ f64     │\n",
       "╞══════════╪══════════╪═════════╡\n",
       "│ 0.004649 ┆ 0.004171 ┆ 0.00739 │\n",
       "└──────────┴──────────┴─────────┘"
      ]
     },
     "metadata": {},
     "output_type": "display_data"
    },
    {
     "name": "stdout",
     "output_type": "stream",
     "text": [
      "FOLD 3\n"
     ]
    },
    {
     "data": {
      "text/plain": [
       "<Axes: >"
      ]
     },
     "metadata": {},
     "output_type": "display_data"
    },
    {
     "data": {
      "image/png": "[encoded data removed]",
      "text/plain": [
       "<Figure size 640x480 with 1 Axes>"
      ]
     },
     "metadata": {},
     "output_type": "display_data"
    },
    {
     "data": {
      "text/html": [
       "<div><style>\n",
       ".dataframe > thead > tr,\n",
       ".dataframe > tbody > tr {\n",
       "  text-align: right;\n",
       "  white-space: pre-wrap;\n",
       "}\n",
       "</style>\n",
       "<small>shape: (1, 3)</small><table border=\"1\" class=\"dataframe\"><thead><tr><th>BRD4</th><th>HSA</th><th>sEH</th></tr><tr><td>f64</td><td>f64</td><td>f64</td></tr></thead><tbody><tr><td>0.004619</td><td>0.004227</td><td>0.007392</td></tr></tbody></table></div>"
      ],
      "text/plain": [
       "shape: (1, 3)\n",
       "┌──────────┬──────────┬──────────┐\n",
       "│ BRD4     ┆ HSA      ┆ sEH      │\n",
       "│ ---      ┆ ---      ┆ ---      │\n",
       "│ f64      ┆ f64      ┆ f64      │\n",
       "╞══════════╪══════════╪══════════╡\n",
       "│ 0.004619 ┆ 0.004227 ┆ 0.007392 │\n",
       "└──────────┴──────────┴──────────┘"
      ]
     },
     "metadata": {},
     "output_type": "display_data"
    },
    {
     "name": "stdout",
     "output_type": "stream",
     "text": [
      "FOLD 4\n"
     ]
    },
    {
     "data": {
      "text/plain": [
       "<Axes: >"
      ]
     },
     "metadata": {},
     "output_type": "display_data"
    },
    {
     "data": {
      "image/png": "[encoded data removed]",
      "text/plain": [
       "<Figure size 640x480 with 1 Axes>"
      ]
     },
     "metadata": {},
     "output_type": "display_data"
    },
    {
     "data": {
      "text/html": [
       "<div><style>\n",
       ".dataframe > thead > tr,\n",
       ".dataframe > tbody > tr {\n",
       "  text-align: right;\n",
       "  white-space: pre-wrap;\n",
       "}\n",
       "</style>\n",
       "<small>shape: (1, 3)</small><table border=\"1\" class=\"dataframe\"><thead><tr><th>BRD4</th><th>HSA</th><th>sEH</th></tr><tr><td>f64</td><td>f64</td><td>f64</td></tr></thead><tbody><tr><td>0.004603</td><td>0.004156</td><td>0.007358</td></tr></tbody></table></div>"
      ],
      "text/plain": [
       "shape: (1, 3)\n",
       "┌──────────┬──────────┬──────────┐\n",
       "│ BRD4     ┆ HSA      ┆ sEH      │\n",
       "│ ---      ┆ ---      ┆ ---      │\n",
       "│ f64      ┆ f64      ┆ f64      │\n",
       "╞══════════╪══════════╪══════════╡\n",
       "│ 0.004603 ┆ 0.004156 ┆ 0.007358 │\n",
       "└──────────┴──────────┴──────────┘"
      ]
     },
     "metadata": {},
     "output_type": "display_data"
    },
    {
     "name": "stdout",
     "output_type": "stream",
     "text": [
      "FOLD 5\n"
     ]
    },
    {
     "data": {
      "text/plain": [
       "<Axes: >"
      ]
     },
     "metadata": {},
     "output_type": "display_data"
    },
    {
     "data": {
      "image/png": "[encoded data removed]",
      "text/plain": [
       "<Figure size 640x480 with 1 Axes>"
      ]
     },
     "metadata": {},
     "output_type": "display_data"
    },
    {
     "data": {
      "text/html": [
       "<div><style>\n",
       ".dataframe > thead > tr,\n",
       ".dataframe > tbody > tr {\n",
       "  text-align: right;\n",
       "  white-space: pre-wrap;\n",
       "}\n",
       "</style>\n",
       "<small>shape: (1, 3)</small><table border=\"1\" class=\"dataframe\"><thead><tr><th>BRD4</th><th>HSA</th><th>sEH</th></tr><tr><td>f64</td><td>f64</td><td>f64</td></tr></thead><tbody><tr><td>0.004667</td><td>0.00413</td><td>0.007361</td></tr></tbody></table></div>"
      ],
      "text/plain": [
       "shape: (1, 3)\n",
       "┌──────────┬─────────┬──────────┐\n",
       "│ BRD4     ┆ HSA     ┆ sEH      │\n",
       "│ ---      ┆ ---     ┆ ---      │\n",
       "│ f64      ┆ f64     ┆ f64      │\n",
       "╞══════════╪═════════╪══════════╡\n",
       "│ 0.004667 ┆ 0.00413 ┆ 0.007361 │\n",
       "└──────────┴─────────┴──────────┘"
      ]
     },
     "metadata": {},
     "output_type": "display_data"
    },
    {
     "name": "stdout",
     "output_type": "stream",
     "text": [
      "FOLD 6\n"
     ]
    },
    {
     "data": {
      "text/plain": [
       "<Axes: >"
      ]
     },
     "metadata": {},
     "output_type": "display_data"
    },
    {
     "data": {
      "image/png": "[encoded data removed]",
      "text/plain": [
       "<Figure size 640x480 with 1 Axes>"
      ]
     },
     "metadata": {},
     "output_type": "display_data"
    },
    {
     "data": {
      "text/html": [
       "<div><style>\n",
       ".dataframe > thead > tr,\n",
       ".dataframe > tbody > tr {\n",
       "  text-align: right;\n",
       "  white-space: pre-wrap;\n",
       "}\n",
       "</style>\n",
       "<small>shape: (1, 3)</small><table border=\"1\" class=\"dataframe\"><thead><tr><th>BRD4</th><th>HSA</th><th>sEH</th></tr><tr><td>f64</td><td>f64</td><td>f64</td></tr></thead><tbody><tr><td>0.004662</td><td>0.004127</td><td>0.007373</td></tr></tbody></table></div>"
      ],
      "text/plain": [
       "shape: (1, 3)\n",
       "┌──────────┬──────────┬──────────┐\n",
       "│ BRD4     ┆ HSA      ┆ sEH      │\n",
       "│ ---      ┆ ---      ┆ ---      │\n",
       "│ f64      ┆ f64      ┆ f64      │\n",
       "╞══════════╪══════════╪══════════╡\n",
       "│ 0.004662 ┆ 0.004127 ┆ 0.007373 │\n",
       "└──────────┴──────────┴──────────┘"
      ]
     },
     "metadata": {},
     "output_type": "display_data"
    },
    {
     "name": "stdout",
     "output_type": "stream",
     "text": [
      "FOLD 7\n"
     ]
    },
    {
     "data": {
      "text/plain": [
       "<Axes: >"
      ]
     },
     "metadata": {},
     "output_type": "display_data"
    },
    {
     "data": {
      "image/png": "[encoded data removed]",
      "text/plain": [
       "<Figure size 640x480 with 1 Axes>"
      ]
     },
     "metadata": {},
     "output_type": "display_data"
    },
    {
     "data": {
      "text/html": [
       "<div><style>\n",
       ".dataframe > thead > tr,\n",
       ".dataframe > tbody > tr {\n",
       "  text-align: right;\n",
       "  white-space: pre-wrap;\n",
       "}\n",
       "</style>\n",
       "<small>shape: (1, 3)</small><table border=\"1\" class=\"dataframe\"><thead><tr><th>BRD4</th><th>HSA</th><th>sEH</th></tr><tr><td>f64</td><td>f64</td><td>f64</td></tr></thead><tbody><tr><td>0.00463</td><td>0.004125</td><td>0.007361</td></tr></tbody></table></div>"
      ],
      "text/plain": [
       "shape: (1, 3)\n",
       "┌─────────┬──────────┬──────────┐\n",
       "│ BRD4    ┆ HSA      ┆ sEH      │\n",
       "│ ---     ┆ ---      ┆ ---      │\n",
       "│ f64     ┆ f64      ┆ f64      │\n",
       "╞═════════╪══════════╪══════════╡\n",
       "│ 0.00463 ┆ 0.004125 ┆ 0.007361 │\n",
       "└─────────┴──────────┴──────────┘"
      ]
     },
     "metadata": {},
     "output_type": "display_data"
    },
    {
     "name": "stdout",
     "output_type": "stream",
     "text": [
      "FOLD 8\n"
     ]
    },
    {
     "data": {
      "text/plain": [
       "<Axes: >"
      ]
     },
     "metadata": {},
     "output_type": "display_data"
    },
    {
     "data": {
      "image/png": "[encoded data removed]",
      "text/plain": [
       "<Figure size 640x480 with 1 Axes>"
      ]
     },
     "metadata": {},
     "output_type": "display_data"
    },
    {
     "data": {
      "text/html": [
       "<div><style>\n",
       ".dataframe > thead > tr,\n",
       ".dataframe > tbody > tr {\n",
       "  text-align: right;\n",
       "  white-space: pre-wrap;\n",
       "}\n",
       "</style>\n",
       "<small>shape: (1, 3)</small><table border=\"1\" class=\"dataframe\"><thead><tr><th>BRD4</th><th>HSA</th><th>sEH</th></tr><tr><td>f64</td><td>f64</td><td>f64</td></tr></thead><tbody><tr><td>0.004639</td><td>0.004169</td><td>0.007304</td></tr></tbody></table></div>"
      ],
      "text/plain": [
       "shape: (1, 3)\n",
       "┌──────────┬──────────┬──────────┐\n",
       "│ BRD4     ┆ HSA      ┆ sEH      │\n",
       "│ ---      ┆ ---      ┆ ---      │\n",
       "│ f64      ┆ f64      ┆ f64      │\n",
       "╞══════════╪══════════╪══════════╡\n",
       "│ 0.004639 ┆ 0.004169 ┆ 0.007304 │\n",
       "└──────────┴──────────┴──────────┘"
      ]
     },
     "metadata": {},
     "output_type": "display_data"
    },
    {
     "name": "stdout",
     "output_type": "stream",
     "text": [
      "FOLD 9\n"
     ]
    },
    {
     "data": {
      "text/plain": [
       "<Axes: >"
      ]
     },
     "metadata": {},
     "output_type": "display_data"
    },
    {
     "data": {
      "image/png": "[encoded data removed]",
      "text/plain": [
       "<Figure size 640x480 with 1 Axes>"
      ]
     },
     "metadata": {},
     "output_type": "display_data"
    },
    {
     "data": {
      "text/html": [
       "<div><style>\n",
       ".dataframe > thead > tr,\n",
       ".dataframe > tbody > tr {\n",
       "  text-align: right;\n",
       "  white-space: pre-wrap;\n",
       "}\n",
       "</style>\n",
       "<small>shape: (1, 3)</small><table border=\"1\" class=\"dataframe\"><thead><tr><th>BRD4</th><th>HSA</th><th>sEH</th></tr><tr><td>f64</td><td>f64</td><td>f64</td></tr></thead><tbody><tr><td>0.004646</td><td>0.004125</td><td>0.007313</td></tr></tbody></table></div>"
      ],
      "text/plain": [
       "shape: (1, 3)\n",
       "┌──────────┬──────────┬──────────┐\n",
       "│ BRD4     ┆ HSA      ┆ sEH      │\n",
       "│ ---      ┆ ---      ┆ ---      │\n",
       "│ f64      ┆ f64      ┆ f64      │\n",
       "╞══════════╪══════════╪══════════╡\n",
       "│ 0.004646 ┆ 0.004125 ┆ 0.007313 │\n",
       "└──────────┴──────────┴──────────┘"
      ]
     },
     "metadata": {},
     "output_type": "display_data"
    },
    {
     "name": "stdout",
     "output_type": "stream",
     "text": [
      "FOLD 10\n"
     ]
    },
    {
     "data": {
      "text/plain": [
       "<Axes: >"
      ]
     },
     "metadata": {},
     "output_type": "display_data"
    },
    {
     "data": {
      "image/png": "[encoded data removed]",
      "text/plain": [
       "<Figure size 640x480 with 1 Axes>"
      ]
     },
     "metadata": {},
     "output_type": "display_data"
    },
    {
     "data": {
      "text/html": [
       "<div><style>\n",
       ".dataframe > thead > tr,\n",
       ".dataframe > tbody > tr {\n",
       "  text-align: right;\n",
       "  white-space: pre-wrap;\n",
       "}\n",
       "</style>\n",
       "<small>shape: (1, 3)</small><table border=\"1\" class=\"dataframe\"><thead><tr><th>BRD4</th><th>HSA</th><th>sEH</th></tr><tr><td>f64</td><td>f64</td><td>f64</td></tr></thead><tbody><tr><td>0.00462</td><td>0.004169</td><td>0.007324</td></tr></tbody></table></div>"
      ],
      "text/plain": [
       "shape: (1, 3)\n",
       "┌─────────┬──────────┬──────────┐\n",
       "│ BRD4    ┆ HSA      ┆ sEH      │\n",
       "│ ---     ┆ ---      ┆ ---      │\n",
       "│ f64     ┆ f64      ┆ f64      │\n",
       "╞═════════╪══════════╪══════════╡\n",
       "│ 0.00462 ┆ 0.004169 ┆ 0.007324 │\n",
       "└─────────┴──────────┴──────────┘"
      ]
     },
     "metadata": {},
     "output_type": "display_data"
    },
    {
     "name": "stdout",
     "output_type": "stream",
     "text": [
      "FOLD 11\n"
     ]
    },
    {
     "data": {
      "text/plain": [
       "<Axes: >"
      ]
     },
     "metadata": {},
     "output_type": "display_data"
    },
    {
     "data": {
      "image/png": "[encoded data removed]",
      "text/plain": [
       "<Figure size 640x480 with 1 Axes>"
      ]
     },
     "metadata": {},
     "output_type": "display_data"
    },
    {
     "data": {
      "text/html": [
       "<div><style>\n",
       ".dataframe > thead > tr,\n",
       ".dataframe > tbody > tr {\n",
       "  text-align: right;\n",
       "  white-space: pre-wrap;\n",
       "}\n",
       "</style>\n",
       "<small>shape: (1, 3)</small><table border=\"1\" class=\"dataframe\"><thead><tr><th>BRD4</th><th>HSA</th><th>sEH</th></tr><tr><td>f64</td><td>f64</td><td>f64</td></tr></thead><tbody><tr><td>0.004659</td><td>0.004184</td><td>0.00742</td></tr></tbody></table></div>"
      ],
      "text/plain": [
       "shape: (1, 3)\n",
       "┌──────────┬──────────┬─────────┐\n",
       "│ BRD4     ┆ HSA      ┆ sEH     │\n",
       "│ ---      ┆ ---      ┆ ---     │\n",
       "│ f64      ┆ f64      ┆ f64     │\n",
       "╞══════════╪══════════╪═════════╡\n",
       "│ 0.004659 ┆ 0.004184 ┆ 0.00742 │\n",
       "└──────────┴──────────┴─────────┘"
      ]
     },
     "metadata": {},
     "output_type": "display_data"
    },
    {
     "name": "stdout",
     "output_type": "stream",
     "text": [
      "FOLD 12\n"
     ]
    },
    {
     "data": {
      "text/plain": [
       "<Axes: >"
      ]
     },
     "metadata": {},
     "output_type": "display_data"
    },
    {
     "data": {
      "image/png": "[encoded data removed]",
      "text/plain": [
       "<Figure size 640x480 with 1 Axes>"
      ]
     },
     "metadata": {},
     "output_type": "display_data"
    },
    {
     "data": {
      "text/html": [
       "<div><style>\n",
       ".dataframe > thead > tr,\n",
       ".dataframe > tbody > tr {\n",
       "  text-align: right;\n",
       "  white-space: pre-wrap;\n",
       "}\n",
       "</style>\n",
       "<small>shape: (1, 3)</small><table border=\"1\" class=\"dataframe\"><thead><tr><th>BRD4</th><th>HSA</th><th>sEH</th></tr><tr><td>f64</td><td>f64</td><td>f64</td></tr></thead><tbody><tr><td>0.004655</td><td>0.004149</td><td>0.007338</td></tr></tbody></table></div>"
      ],
      "text/plain": [
       "shape: (1, 3)\n",
       "┌──────────┬──────────┬──────────┐\n",
       "│ BRD4     ┆ HSA      ┆ sEH      │\n",
       "│ ---      ┆ ---      ┆ ---      │\n",
       "│ f64      ┆ f64      ┆ f64      │\n",
       "╞══════════╪══════════╪══════════╡\n",
       "│ 0.004655 ┆ 0.004149 ┆ 0.007338 │\n",
       "└──────────┴──────────┴──────────┘"
      ]
     },
     "metadata": {},
     "output_type": "display_data"
    },
    {
     "name": "stdout",
     "output_type": "stream",
     "text": [
      "FOLD 13\n"
     ]
    },
    {
     "data": {
      "text/plain": [
       "<Axes: >"
      ]
     },
     "metadata": {},
     "output_type": "display_data"
    },
    {
     "data": {
      "image/png": "[encoded data removed]",
      "text/plain": [
       "<Figure size 640x480 with 1 Axes>"
      ]
     },
     "metadata": {},
     "output_type": "display_data"
    },
    {
     "data": {
      "text/html": [
       "<div><style>\n",
       ".dataframe > thead > tr,\n",
       ".dataframe > tbody > tr {\n",
       "  text-align: right;\n",
       "  white-space: pre-wrap;\n",
       "}\n",
       "</style>\n",
       "<small>shape: (1, 3)</small><table border=\"1\" class=\"dataframe\"><thead><tr><th>BRD4</th><th>HSA</th><th>sEH</th></tr><tr><td>f64</td><td>f64</td><td>f64</td></tr></thead><tbody><tr><td>0.00464</td><td>0.004148</td><td>0.007319</td></tr></tbody></table></div>"
      ],
      "text/plain": [
       "shape: (1, 3)\n",
       "┌─────────┬──────────┬──────────┐\n",
       "│ BRD4    ┆ HSA      ┆ sEH      │\n",
       "│ ---     ┆ ---      ┆ ---      │\n",
       "│ f64     ┆ f64      ┆ f64      │\n",
       "╞═════════╪══════════╪══════════╡\n",
       "│ 0.00464 ┆ 0.004148 ┆ 0.007319 │\n",
       "└─────────┴──────────┴──────────┘"
      ]
     },
     "metadata": {},
     "output_type": "display_data"
    },
    {
     "name": "stdout",
     "output_type": "stream",
     "text": [
      "FOLD 14\n"
     ]
    },
    {
     "data": {
      "text/plain": [
       "<Axes: >"
      ]
     },
     "metadata": {},
     "output_type": "display_data"
    },
    {
     "data": {
      "image/png": "[encoded data removed]",
      "text/plain": [
       "<Figure size 640x480 with 1 Axes>"
      ]
     },
     "metadata": {},
     "output_type": "display_data"
    },
    {
     "data": {
      "text/html": [
       "<div><style>\n",
       ".dataframe > thead > tr,\n",
       ".dataframe > tbody > tr {\n",
       "  text-align: right;\n",
       "  white-space: pre-wrap;\n",
       "}\n",
       "</style>\n",
       "<small>shape: (1, 3)</small><table border=\"1\" class=\"dataframe\"><thead><tr><th>BRD4</th><th>HSA</th><th>sEH</th></tr><tr><td>f64</td><td>f64</td><td>f64</td></tr></thead><tbody><tr><td>0.004642</td><td>0.004117</td><td>0.007344</td></tr></tbody></table></div>"
      ],
      "text/plain": [
       "shape: (1, 3)\n",
       "┌──────────┬──────────┬──────────┐\n",
       "│ BRD4     ┆ HSA      ┆ sEH      │\n",
       "│ ---      ┆ ---      ┆ ---      │\n",
       "│ f64      ┆ f64      ┆ f64      │\n",
       "╞══════════╪══════════╪══════════╡\n",
       "│ 0.004642 ┆ 0.004117 ┆ 0.007344 │\n",
       "└──────────┴──────────┴──────────┘"
      ]
     },
     "metadata": {},
     "output_type": "display_data"
    },
    {
     "name": "stdout",
     "output_type": "stream",
     "text": [
      "FOLD 15\n"
     ]
    },
    {
     "data": {
      "text/plain": [
       "<Axes: >"
      ]
     },
     "metadata": {},
     "output_type": "display_data"
    },
    {
     "data": {
      "image/png": "[encoded data removed]",
      "text/plain": [
       "<Figure size 640x480 with 1 Axes>"
      ]
     },
     "metadata": {},
     "output_type": "display_data"
    },
    {
     "data": {
      "text/html": [
       "<div><style>\n",
       ".dataframe > thead > tr,\n",
       ".dataframe > tbody > tr {\n",
       "  text-align: right;\n",
       "  white-space: pre-wrap;\n",
       "}\n",
       "</style>\n",
       "<small>shape: (1, 3)</small><table border=\"1\" class=\"dataframe\"><thead><tr><th>BRD4</th><th>HSA</th><th>sEH</th></tr><tr><td>f64</td><td>f64</td><td>f64</td></tr></thead><tbody><tr><td>0.004703</td><td>0.004149</td><td>0.007319</td></tr></tbody></table></div>"
      ],
      "text/plain": [
       "shape: (1, 3)\n",
       "┌──────────┬──────────┬──────────┐\n",
       "│ BRD4     ┆ HSA      ┆ sEH      │\n",
       "│ ---      ┆ ---      ┆ ---      │\n",
       "│ f64      ┆ f64      ┆ f64      │\n",
       "╞══════════╪══════════╪══════════╡\n",
       "│ 0.004703 ┆ 0.004149 ┆ 0.007319 │\n",
       "└──────────┴──────────┴──────────┘"
      ]
     },
     "metadata": {},
     "output_type": "display_data"
    },
    {
     "name": "stdout",
     "output_type": "stream",
     "text": [
      "FOLD 16\n"
     ]
    },
    {
     "data": {
      "text/plain": [
       "<Axes: >"
      ]
     },
     "metadata": {},
     "output_type": "display_data"
    },
    {
     "data": {
      "image/png": "[encoded data removed]",
      "text/plain": [
       "<Figure size 640x480 with 1 Axes>"
      ]
     },
     "metadata": {},
     "output_type": "display_data"
    },
    {
     "data": {
      "text/html": [
       "<div><style>\n",
       ".dataframe > thead > tr,\n",
       ".dataframe > tbody > tr {\n",
       "  text-align: right;\n",
       "  white-space: pre-wrap;\n",
       "}\n",
       "</style>\n",
       "<small>shape: (1, 3)</small><table border=\"1\" class=\"dataframe\"><thead><tr><th>BRD4</th><th>HSA</th><th>sEH</th></tr><tr><td>f64</td><td>f64</td><td>f64</td></tr></thead><tbody><tr><td>0.004616</td><td>0.00413</td><td>0.007379</td></tr></tbody></table></div>"
      ],
      "text/plain": [
       "shape: (1, 3)\n",
       "┌──────────┬─────────┬──────────┐\n",
       "│ BRD4     ┆ HSA     ┆ sEH      │\n",
       "│ ---      ┆ ---     ┆ ---      │\n",
       "│ f64      ┆ f64     ┆ f64      │\n",
       "╞══════════╪═════════╪══════════╡\n",
       "│ 0.004616 ┆ 0.00413 ┆ 0.007379 │\n",
       "└──────────┴─────────┴──────────┘"
      ]
     },
     "metadata": {},
     "output_type": "display_data"
    },
    {
     "name": "stdout",
     "output_type": "stream",
     "text": [
      "FOLD 17\n"
     ]
    },
    {
     "data": {
      "text/plain": [
       "<Axes: >"
      ]
     },
     "metadata": {},
     "output_type": "display_data"
    },
    {
     "data": {
      "image/png": "[encoded data removed]",
      "text/plain": [
       "<Figure size 640x480 with 1 Axes>"
      ]
     },
     "metadata": {},
     "output_type": "display_data"
    },
    {
     "data": {
      "text/html": [
       "<div><style>\n",
       ".dataframe > thead > tr,\n",
       ".dataframe > tbody > tr {\n",
       "  text-align: right;\n",
       "  white-space: pre-wrap;\n",
       "}\n",
       "</style>\n",
       "<small>shape: (1, 3)</small><table border=\"1\" class=\"dataframe\"><thead><tr><th>BRD4</th><th>HSA</th><th>sEH</th></tr><tr><td>f64</td><td>f64</td><td>f64</td></tr></thead><tbody><tr><td>0.004616</td><td>0.00418</td><td>0.00742</td></tr></tbody></table></div>"
      ],
      "text/plain": [
       "shape: (1, 3)\n",
       "┌──────────┬─────────┬─────────┐\n",
       "│ BRD4     ┆ HSA     ┆ sEH     │\n",
       "│ ---      ┆ ---     ┆ ---     │\n",
       "│ f64      ┆ f64     ┆ f64     │\n",
       "╞══════════╪═════════╪═════════╡\n",
       "│ 0.004616 ┆ 0.00418 ┆ 0.00742 │\n",
       "└──────────┴─────────┴─────────┘"
      ]
     },
     "metadata": {},
     "output_type": "display_data"
    },
    {
     "name": "stdout",
     "output_type": "stream",
     "text": [
      "FOLD 18\n"
     ]
    },
    {
     "data": {
      "text/plain": [
       "<Axes: >"
      ]
     },
     "metadata": {},
     "output_type": "display_data"
    },
    {
     "data": {
      "image/png": "[encoded data removed]",
      "text/plain": [
       "<Figure size 640x480 with 1 Axes>"
      ]
     },
     "metadata": {},
     "output_type": "display_data"
    },
    {
     "data": {
      "text/html": [
       "<div><style>\n",
       ".dataframe > thead > tr,\n",
       ".dataframe > tbody > tr {\n",
       "  text-align: right;\n",
       "  white-space: pre-wrap;\n",
       "}\n",
       "</style>\n",
       "<small>shape: (1, 3)</small><table border=\"1\" class=\"dataframe\"><thead><tr><th>BRD4</th><th>HSA</th><th>sEH</th></tr><tr><td>f64</td><td>f64</td><td>f64</td></tr></thead><tbody><tr><td>0.004645</td><td>0.004099</td><td>0.00739</td></tr></tbody></table></div>"
      ],
      "text/plain": [
       "shape: (1, 3)\n",
       "┌──────────┬──────────┬─────────┐\n",
       "│ BRD4     ┆ HSA      ┆ sEH     │\n",
       "│ ---      ┆ ---      ┆ ---     │\n",
       "│ f64      ┆ f64      ┆ f64     │\n",
       "╞══════════╪══════════╪═════════╡\n",
       "│ 0.004645 ┆ 0.004099 ┆ 0.00739 │\n",
       "└──────────┴──────────┴─────────┘"
      ]
     },
     "metadata": {},
     "output_type": "display_data"
    },
    {
     "name": "stdout",
     "output_type": "stream",
     "text": [
      "FOLD 19\n"
     ]
    },
    {
     "data": {
      "text/plain": [
       "<Axes: >"
      ]
     },
     "metadata": {},
     "output_type": "display_data"
    },
    {
     "data": {
      "image/png": "[encoded data removed]",
      "text/plain": [
       "<Figure size 640x480 with 1 Axes>"
      ]
     },
     "metadata": {},
     "output_type": "display_data"
    },
    {
     "data": {
      "text/html": [
       "<div><style>\n",
       ".dataframe > thead > tr,\n",
       ".dataframe > tbody > tr {\n",
       "  text-align: right;\n",
       "  white-space: pre-wrap;\n",
       "}\n",
       "</style>\n",
       "<small>shape: (1, 3)</small><table border=\"1\" class=\"dataframe\"><thead><tr><th>BRD4</th><th>HSA</th><th>sEH</th></tr><tr><td>f64</td><td>f64</td><td>f64</td></tr></thead><tbody><tr><td>0.00466</td><td>0.004149</td><td>0.00735</td></tr></tbody></table></div>"
      ],
      "text/plain": [
       "shape: (1, 3)\n",
       "┌─────────┬──────────┬─────────┐\n",
       "│ BRD4    ┆ HSA      ┆ sEH     │\n",
       "│ ---     ┆ ---      ┆ ---     │\n",
       "│ f64     ┆ f64      ┆ f64     │\n",
       "╞═════════╪══════════╪═════════╡\n",
       "│ 0.00466 ┆ 0.004149 ┆ 0.00735 │\n",
       "└─────────┴──────────┴─────────┘"
      ]
     },
     "metadata": {},
     "output_type": "display_data"
    }
   ],
   "source": [
    "N_FOLDS = 20\n",
    "RANDOM_STATE = 42\n",
    "\n",
    "# CV_NAME = f'skf{N_FOLDS}'\n",
    "# splitter = StratifiedKFold(n_splits=N_FOLDS, shuffle=True, random_state=RANDOM_STATE)\n",
    "\n",
    "CV_NAME = f'kf{N_FOLDS}'\n",
    "splitter = KFold(n_splits=N_FOLDS, shuffle=True, random_state=RANDOM_STATE)\n",
    "\n",
    "\n",
    "fold_meta = {}\n",
    "for fold_idx, (train_idxs, val_idxs) in enumerate(splitter.split(list(range(len(df))), df['label'])):\n",
    "    print('FOLD', fold_idx)\n",
    "    fold_meta[fold_idx] = val_idxs.tolist()\n",
    "    val_df = df[val_idxs]\n",
    "    display(val_df.to_pandas()['label'].hist(log = True))\n",
    "    plt.show()\n",
    "    display(val_df.select(pl.col('BRD4', 'HSA', 'sEH').mean()))"
   ]
  },
  {
   "cell_type": "code",
   "execution_count": 33,
   "id": "35b8dca9-fc29-4528-abc9-57c65262ea83",
   "metadata": {},
   "outputs": [
    {
     "data": {
      "text/plain": [
       "set()"
      ]
     },
     "execution_count": 33,
     "metadata": {},
     "output_type": "execute_result"
    }
   ],
   "source": [
    "set(fold_meta[0]).intersection(set(fold_meta[2]))"
   ]
  },
  {
   "cell_type": "code",
   "execution_count": 34,
   "id": "b884de38-d9a5-4b48-8e93-25411f16c62f",
   "metadata": {},
   "outputs": [
    {
     "name": "stdout",
     "output_type": "stream",
     "text": [
      "4920781\n",
      "4920781\n",
      "4920781\n",
      "4920781\n",
      "4920781\n",
      "4920781\n",
      "4920781\n",
      "4920781\n",
      "4920781\n",
      "4920781\n",
      "4920780\n",
      "4920780\n",
      "4920780\n",
      "4920780\n",
      "4920780\n",
      "4920780\n",
      "4920780\n",
      "4920780\n",
      "4920780\n",
      "4920780\n"
     ]
    }
   ],
   "source": [
    "for i in range(N_FOLDS): print(len(fold_meta[i]))"
   ]
  },
  {
   "cell_type": "code",
   "execution_count": null,
   "id": "734548be-da75-427c-9c25-cf920d4f80d7",
   "metadata": {},
   "outputs": [],
   "source": []
  },
  {
   "cell_type": "code",
   "execution_count": 35,
   "id": "25f35f32-32f8-4cdc-be8b-7a9fc808ec6c",
   "metadata": {},
   "outputs": [],
   "source": [
    "SAVE_PATH = f'/home/dangnh36/datasets/.comp/leash_belka/processed/cv/{CV_NAME}/val.json'\n",
    "os.makedirs(os.path.dirname(SAVE_PATH), exist_ok=True)\n",
    "\n",
    "with open(SAVE_PATH, 'w') as f:\n",
    "    json.dump(fold_meta, f)"
   ]
  },
  {
   "cell_type": "code",
   "execution_count": 36,
   "id": "8afedad6-945e-4eeb-bec2-71acc62acbd3",
   "metadata": {},
   "outputs": [
    {
     "data": {
      "text/html": [
       "<div><style>\n",
       ".dataframe > thead > tr,\n",
       ".dataframe > tbody > tr {\n",
       "  text-align: right;\n",
       "  white-space: pre-wrap;\n",
       "}\n",
       "</style>\n",
       "<small>shape: (98_415_610, 6)</small><table border=\"1\" class=\"dataframe\"><thead><tr><th>index</th><th>BRD4</th><th>HSA</th><th>sEH</th><th>label</th><th>fold_idx</th></tr><tr><td>u32</td><td>u8</td><td>u8</td><td>u8</td><td>i64</td><td>i32</td></tr></thead><tbody><tr><td>0</td><td>0</td><td>0</td><td>0</td><td>0</td><td>-1</td></tr><tr><td>1</td><td>0</td><td>0</td><td>0</td><td>0</td><td>-1</td></tr><tr><td>2</td><td>0</td><td>0</td><td>0</td><td>0</td><td>-1</td></tr><tr><td>3</td><td>0</td><td>0</td><td>0</td><td>0</td><td>-1</td></tr><tr><td>4</td><td>0</td><td>0</td><td>0</td><td>0</td><td>-1</td></tr><tr><td>5</td><td>0</td><td>0</td><td>0</td><td>0</td><td>-1</td></tr><tr><td>6</td><td>0</td><td>0</td><td>0</td><td>0</td><td>-1</td></tr><tr><td>7</td><td>0</td><td>0</td><td>0</td><td>0</td><td>-1</td></tr><tr><td>8</td><td>0</td><td>0</td><td>0</td><td>0</td><td>-1</td></tr><tr><td>9</td><td>0</td><td>0</td><td>0</td><td>0</td><td>-1</td></tr><tr><td>&hellip;</td><td>&hellip;</td><td>&hellip;</td><td>&hellip;</td><td>&hellip;</td><td>&hellip;</td></tr><tr><td>98415600</td><td>0</td><td>0</td><td>0</td><td>0</td><td>-1</td></tr><tr><td>98415601</td><td>0</td><td>0</td><td>0</td><td>0</td><td>-1</td></tr><tr><td>98415602</td><td>0</td><td>0</td><td>0</td><td>0</td><td>-1</td></tr><tr><td>98415603</td><td>0</td><td>0</td><td>0</td><td>0</td><td>-1</td></tr><tr><td>98415604</td><td>0</td><td>0</td><td>0</td><td>0</td><td>-1</td></tr><tr><td>98415605</td><td>0</td><td>0</td><td>0</td><td>0</td><td>-1</td></tr><tr><td>98415606</td><td>0</td><td>0</td><td>0</td><td>0</td><td>-1</td></tr><tr><td>98415607</td><td>0</td><td>0</td><td>0</td><td>0</td><td>-1</td></tr><tr><td>98415608</td><td>0</td><td>0</td><td>0</td><td>0</td><td>-1</td></tr><tr><td>98415609</td><td>0</td><td>0</td><td>0</td><td>0</td><td>-1</td></tr></tbody></table></div>"
      ],
      "text/plain": [
       "shape: (98_415_610, 6)\n",
       "┌──────────┬──────┬─────┬─────┬───────┬──────────┐\n",
       "│ index    ┆ BRD4 ┆ HSA ┆ sEH ┆ label ┆ fold_idx │\n",
       "│ ---      ┆ ---  ┆ --- ┆ --- ┆ ---   ┆ ---      │\n",
       "│ u32      ┆ u8   ┆ u8  ┆ u8  ┆ i64   ┆ i32      │\n",
       "╞══════════╪══════╪═════╪═════╪═══════╪══════════╡\n",
       "│ 0        ┆ 0    ┆ 0   ┆ 0   ┆ 0     ┆ -1       │\n",
       "│ 1        ┆ 0    ┆ 0   ┆ 0   ┆ 0     ┆ -1       │\n",
       "│ 2        ┆ 0    ┆ 0   ┆ 0   ┆ 0     ┆ -1       │\n",
       "│ 3        ┆ 0    ┆ 0   ┆ 0   ┆ 0     ┆ -1       │\n",
       "│ 4        ┆ 0    ┆ 0   ┆ 0   ┆ 0     ┆ -1       │\n",
       "│ 5        ┆ 0    ┆ 0   ┆ 0   ┆ 0     ┆ -1       │\n",
       "│ 6        ┆ 0    ┆ 0   ┆ 0   ┆ 0     ┆ -1       │\n",
       "│ 7        ┆ 0    ┆ 0   ┆ 0   ┆ 0     ┆ -1       │\n",
       "│ 8        ┆ 0    ┆ 0   ┆ 0   ┆ 0     ┆ -1       │\n",
       "│ 9        ┆ 0    ┆ 0   ┆ 0   ┆ 0     ┆ -1       │\n",
       "│ …        ┆ …    ┆ …   ┆ …   ┆ …     ┆ …        │\n",
       "│ 98415600 ┆ 0    ┆ 0   ┆ 0   ┆ 0     ┆ -1       │\n",
       "│ 98415601 ┆ 0    ┆ 0   ┆ 0   ┆ 0     ┆ -1       │\n",
       "│ 98415602 ┆ 0    ┆ 0   ┆ 0   ┆ 0     ┆ -1       │\n",
       "│ 98415603 ┆ 0    ┆ 0   ┆ 0   ┆ 0     ┆ -1       │\n",
       "│ 98415604 ┆ 0    ┆ 0   ┆ 0   ┆ 0     ┆ -1       │\n",
       "│ 98415605 ┆ 0    ┆ 0   ┆ 0   ┆ 0     ┆ -1       │\n",
       "│ 98415606 ┆ 0    ┆ 0   ┆ 0   ┆ 0     ┆ -1       │\n",
       "│ 98415607 ┆ 0    ┆ 0   ┆ 0   ┆ 0     ┆ -1       │\n",
       "│ 98415608 ┆ 0    ┆ 0   ┆ 0   ┆ 0     ┆ -1       │\n",
       "│ 98415609 ┆ 0    ┆ 0   ┆ 0   ┆ 0     ┆ -1       │\n",
       "└──────────┴──────┴─────┴─────┴───────┴──────────┘"
      ]
     },
     "execution_count": 36,
     "metadata": {},
     "output_type": "execute_result"
    }
   ],
   "source": [
    "cv_df = df.with_row_index('index').with_columns(pl.lit(-1).alias('fold_idx'))\n",
    "cv_df"
   ]
  },
  {
   "cell_type": "code",
   "execution_count": 37,
   "id": "4c91c2a5-293a-4b53-9d69-0145043aed95",
   "metadata": {},
   "outputs": [
    {
     "data": {
      "text/html": [
       "<div><style>\n",
       ".dataframe > thead > tr,\n",
       ".dataframe > tbody > tr {\n",
       "  text-align: right;\n",
       "  white-space: pre-wrap;\n",
       "}\n",
       "</style>\n",
       "<small>shape: (98_415_610, 6)</small><table border=\"1\" class=\"dataframe\"><thead><tr><th>index</th><th>BRD4</th><th>HSA</th><th>sEH</th><th>label</th><th>fold_idx</th></tr><tr><td>u32</td><td>u8</td><td>u8</td><td>u8</td><td>i64</td><td>i32</td></tr></thead><tbody><tr><td>0</td><td>0</td><td>0</td><td>0</td><td>0</td><td>10</td></tr><tr><td>1</td><td>0</td><td>0</td><td>0</td><td>0</td><td>15</td></tr><tr><td>2</td><td>0</td><td>0</td><td>0</td><td>0</td><td>1</td></tr><tr><td>3</td><td>0</td><td>0</td><td>0</td><td>0</td><td>10</td></tr><tr><td>4</td><td>0</td><td>0</td><td>0</td><td>0</td><td>0</td></tr><tr><td>5</td><td>0</td><td>0</td><td>0</td><td>0</td><td>7</td></tr><tr><td>6</td><td>0</td><td>0</td><td>0</td><td>0</td><td>8</td></tr><tr><td>7</td><td>0</td><td>0</td><td>0</td><td>0</td><td>16</td></tr><tr><td>8</td><td>0</td><td>0</td><td>0</td><td>0</td><td>10</td></tr><tr><td>9</td><td>0</td><td>0</td><td>0</td><td>0</td><td>12</td></tr><tr><td>&hellip;</td><td>&hellip;</td><td>&hellip;</td><td>&hellip;</td><td>&hellip;</td><td>&hellip;</td></tr><tr><td>98415600</td><td>0</td><td>0</td><td>0</td><td>0</td><td>13</td></tr><tr><td>98415601</td><td>0</td><td>0</td><td>0</td><td>0</td><td>12</td></tr><tr><td>98415602</td><td>0</td><td>0</td><td>0</td><td>0</td><td>11</td></tr><tr><td>98415603</td><td>0</td><td>0</td><td>0</td><td>0</td><td>12</td></tr><tr><td>98415604</td><td>0</td><td>0</td><td>0</td><td>0</td><td>15</td></tr><tr><td>98415605</td><td>0</td><td>0</td><td>0</td><td>0</td><td>8</td></tr><tr><td>98415606</td><td>0</td><td>0</td><td>0</td><td>0</td><td>5</td></tr><tr><td>98415607</td><td>0</td><td>0</td><td>0</td><td>0</td><td>7</td></tr><tr><td>98415608</td><td>0</td><td>0</td><td>0</td><td>0</td><td>12</td></tr><tr><td>98415609</td><td>0</td><td>0</td><td>0</td><td>0</td><td>4</td></tr></tbody></table></div>"
      ],
      "text/plain": [
       "shape: (98_415_610, 6)\n",
       "┌──────────┬──────┬─────┬─────┬───────┬──────────┐\n",
       "│ index    ┆ BRD4 ┆ HSA ┆ sEH ┆ label ┆ fold_idx │\n",
       "│ ---      ┆ ---  ┆ --- ┆ --- ┆ ---   ┆ ---      │\n",
       "│ u32      ┆ u8   ┆ u8  ┆ u8  ┆ i64   ┆ i32      │\n",
       "╞══════════╪══════╪═════╪═════╪═══════╪══════════╡\n",
       "│ 0        ┆ 0    ┆ 0   ┆ 0   ┆ 0     ┆ 10       │\n",
       "│ 1        ┆ 0    ┆ 0   ┆ 0   ┆ 0     ┆ 15       │\n",
       "│ 2        ┆ 0    ┆ 0   ┆ 0   ┆ 0     ┆ 1        │\n",
       "│ 3        ┆ 0    ┆ 0   ┆ 0   ┆ 0     ┆ 10       │\n",
       "│ 4        ┆ 0    ┆ 0   ┆ 0   ┆ 0     ┆ 0        │\n",
       "│ 5        ┆ 0    ┆ 0   ┆ 0   ┆ 0     ┆ 7        │\n",
       "│ 6        ┆ 0    ┆ 0   ┆ 0   ┆ 0     ┆ 8        │\n",
       "│ 7        ┆ 0    ┆ 0   ┆ 0   ┆ 0     ┆ 16       │\n",
       "│ 8        ┆ 0    ┆ 0   ┆ 0   ┆ 0     ┆ 10       │\n",
       "│ 9        ┆ 0    ┆ 0   ┆ 0   ┆ 0     ┆ 12       │\n",
       "│ …        ┆ …    ┆ …   ┆ …   ┆ …     ┆ …        │\n",
       "│ 98415600 ┆ 0    ┆ 0   ┆ 0   ┆ 0     ┆ 13       │\n",
       "│ 98415601 ┆ 0    ┆ 0   ┆ 0   ┆ 0     ┆ 12       │\n",
       "│ 98415602 ┆ 0    ┆ 0   ┆ 0   ┆ 0     ┆ 11       │\n",
       "│ 98415603 ┆ 0    ┆ 0   ┆ 0   ┆ 0     ┆ 12       │\n",
       "│ 98415604 ┆ 0    ┆ 0   ┆ 0   ┆ 0     ┆ 15       │\n",
       "│ 98415605 ┆ 0    ┆ 0   ┆ 0   ┆ 0     ┆ 8        │\n",
       "│ 98415606 ┆ 0    ┆ 0   ┆ 0   ┆ 0     ┆ 5        │\n",
       "│ 98415607 ┆ 0    ┆ 0   ┆ 0   ┆ 0     ┆ 7        │\n",
       "│ 98415608 ┆ 0    ┆ 0   ┆ 0   ┆ 0     ┆ 12       │\n",
       "│ 98415609 ┆ 0    ┆ 0   ┆ 0   ┆ 0     ┆ 4        │\n",
       "└──────────┴──────┴─────┴─────┴───────┴──────────┘"
      ]
     },
     "execution_count": 37,
     "metadata": {},
     "output_type": "execute_result"
    }
   ],
   "source": [
    "for fold_idx, val_idxs in fold_meta.items():\n",
    "    cv_df[val_idxs, 'fold_idx'] = fold_idx\n",
    "cv_df"
   ]
  },
  {
   "cell_type": "code",
   "execution_count": 38,
   "id": "8e243582-5d9a-4ca3-8ea2-5099ec75dc1c",
   "metadata": {},
   "outputs": [
    {
     "data": {
      "text/html": [
       "<div><style>\n",
       ".dataframe > thead > tr,\n",
       ".dataframe > tbody > tr {\n",
       "  text-align: right;\n",
       "  white-space: pre-wrap;\n",
       "}\n",
       "</style>\n",
       "<small>shape: (1, 1)</small><table border=\"1\" class=\"dataframe\"><thead><tr><th>fold_idx</th></tr><tr><td>u32</td></tr></thead><tbody><tr><td>20</td></tr></tbody></table></div>"
      ],
      "text/plain": [
       "shape: (1, 1)\n",
       "┌──────────┐\n",
       "│ fold_idx │\n",
       "│ ---      │\n",
       "│ u32      │\n",
       "╞══════════╡\n",
       "│ 20       │\n",
       "└──────────┘"
      ]
     },
     "execution_count": 38,
     "metadata": {},
     "output_type": "execute_result"
    }
   ],
   "source": [
    "cv_df.select(pl.col('fold_idx').n_unique())"
   ]
  },
  {
   "cell_type": "code",
   "execution_count": 39,
   "id": "5995137a-f83a-4473-b65b-c6343cf90316",
   "metadata": {},
   "outputs": [],
   "source": [
    "cv_df.select('index', 'fold_idx').write_csv(f'/home/dangnh36/datasets/.comp/leash_belka/processed/cv/{CV_NAME}/cv.csv')"
   ]
  },
  {
   "cell_type": "code",
   "execution_count": null,
   "id": "80ccd5bf-0bc7-4612-a280-3f97cf97dffc",
   "metadata": {},
   "outputs": [],
   "source": []
  },
  {
   "cell_type": "code",
   "execution_count": null,
   "id": "971b12b2-f55e-4221-aebe-3047f5384b28",
   "metadata": {},
   "outputs": [],
   "source": []
  },
  {
   "cell_type": "code",
   "execution_count": null,
   "id": "85f8696a-1d39-40fd-8201-15f784119c8b",
   "metadata": {},
   "outputs": [],
   "source": []
  },
  {
   "cell_type": "code",
   "execution_count": null,
   "id": "753ae525-04b2-40ee-a84b-49abcef6193f",
   "metadata": {},
   "outputs": [],
   "source": []
  },
  {
   "cell_type": "code",
   "execution_count": null,
   "id": "f0a0b1b6-777b-4276-aae1-9782150e0bab",
   "metadata": {},
   "outputs": [],
   "source": []
  },
  {
   "cell_type": "code",
   "execution_count": null,
   "id": "b4fc55d1-3808-453e-8cdc-c429ecf294b8",
   "metadata": {},
   "outputs": [],
   "source": []
  },
  {
   "cell_type": "code",
   "execution_count": null,
   "id": "c2a97a4f-0f85-440f-9653-569a2d60b9f6",
   "metadata": {},
   "outputs": [],
   "source": []
  },
  {
   "cell_type": "code",
   "execution_count": null,
   "id": "fc9e3d86-ac51-4873-8a39-8fbd5f5b870a",
   "metadata": {},
   "outputs": [],
   "source": []
  },
  {
   "cell_type": "code",
   "execution_count": null,
   "id": "01628835-bf29-4afe-b7be-31c5677b2570",
   "metadata": {},
   "outputs": [],
   "source": []
  },
  {
   "cell_type": "code",
   "execution_count": null,
   "id": "0139d930-d534-4ace-97e4-2426a66fb9f4",
   "metadata": {},
   "outputs": [],
   "source": []
  },
  {
   "cell_type": "code",
   "execution_count": null,
   "id": "9c98e1f5-2031-49a8-9448-bc8fa650ab11",
   "metadata": {},
   "outputs": [],
   "source": []
  },
  {
   "cell_type": "code",
   "execution_count": null,
   "id": "db7d319a-0a50-41c5-9f32-be01285f1c92",
   "metadata": {},
   "outputs": [],
   "source": []
  },
  {
   "cell_type": "code",
   "execution_count": null,
   "id": "49ee8adc-ce5b-4850-8505-ab43ccfaef06",
   "metadata": {},
   "outputs": [],
   "source": []
  },
  {
   "cell_type": "code",
   "execution_count": null,
   "id": "818350e0-bf43-4c09-b91e-5fbce2064f74",
   "metadata": {},
   "outputs": [],
   "source": []
  },
  {
   "cell_type": "code",
   "execution_count": null,
   "id": "c91db98d-b561-4496-a637-0bff5ae878a6",
   "metadata": {},
   "outputs": [],
   "source": []
  },
  {
   "cell_type": "code",
   "execution_count": null,
   "id": "027fdd07-6bba-435f-8a7f-dc902d8c9ab1",
   "metadata": {},
   "outputs": [],
   "source": []
  },
  {
   "cell_type": "code",
   "execution_count": null,
   "id": "a9cfaea4-0fe0-430b-9e3d-41aa41e492a7",
   "metadata": {},
   "outputs": [],
   "source": []
  },
  {
   "cell_type": "code",
   "execution_count": null,
   "id": "62162d62-15e7-404a-b8e6-3f2e83d6b85d",
   "metadata": {},
   "outputs": [],
   "source": []
  },
  {
   "cell_type": "code",
   "execution_count": null,
   "id": "82253d10-a46e-43d6-a6f4-ac342de850ef",
   "metadata": {},
   "outputs": [],
   "source": []
  },
  {
   "cell_type": "code",
   "execution_count": null,
   "id": "11463c1a-959c-451b-b3d0-2a486a20d6cc",
   "metadata": {},
   "outputs": [],
   "source": []
  },
  {
   "cell_type": "code",
   "execution_count": null,
   "id": "ad4f5f7c-703d-4c08-bee0-c3fa14aefd90",
   "metadata": {},
   "outputs": [],
   "source": []
  },
  {
   "cell_type": "code",
   "execution_count": null,
   "id": "273d7ef7-8b0f-4b2d-b94f-a9d44752a399",
   "metadata": {},
   "outputs": [],
   "source": []
  },
  {
   "cell_type": "code",
   "execution_count": null,
   "id": "804c457b-fe97-4526-95ee-d5fab79b5e9e",
   "metadata": {},
   "outputs": [],
   "source": []
  },
  {
   "cell_type": "code",
   "execution_count": null,
   "id": "ffb8e9bf-1dcf-4291-b5c9-454d0cee1bfc",
   "metadata": {},
   "outputs": [],
   "source": []
  },
  {
   "cell_type": "code",
   "execution_count": null,
   "id": "8e4824c1-375a-472c-aa86-52dedc9837be",
   "metadata": {},
   "outputs": [],
   "source": []
  },
  {
   "cell_type": "code",
   "execution_count": null,
   "id": "ea516182-905f-4fc7-9a9a-01779dc68faf",
   "metadata": {},
   "outputs": [],
   "source": []
  },
  {
   "cell_type": "code",
   "execution_count": null,
   "id": "484b6709-4e99-4de2-821f-300cb971ecc1",
   "metadata": {},
   "outputs": [],
   "source": []
  },
  {
   "cell_type": "code",
   "execution_count": null,
   "id": "b555eaa9-d565-46a6-9659-ebee3d86cac7",
   "metadata": {},
   "outputs": [],
   "source": []
  },
  {
   "cell_type": "code",
   "execution_count": null,
   "id": "e33cd4a2-4934-4856-bfae-6cbd73a7b81a",
   "metadata": {},
   "outputs": [],
   "source": []
  },
  {
   "cell_type": "code",
   "execution_count": null,
   "id": "c9cd6a55-3a45-43df-a185-d74751eb8b78",
   "metadata": {},
   "outputs": [],
   "source": []
  }
 ],
 "metadata": {
  "kernelspec": {
   "display_name": "Python 3 (ipykernel)",
   "language": "python",
   "name": "python3"
  },
  "language_info": {
   "codemirror_mode": {
    "name": "ipython",
    "version": 3
   },
   "file_extension": ".py",
   "mimetype": "text/x-python",
   "name": "python",
   "nbconvert_exporter": "python",
   "pygments_lexer": "ipython3",
   "version": "3.10.13"
  }
 },
 "nbformat": 4,
 "nbformat_minor": 5
}
