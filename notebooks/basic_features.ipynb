{
 "cells": [
  {
   "cell_type": "code",
   "execution_count": 6,
   "id": "c8e31957",
   "metadata": {},
   "outputs": [],
   "source": [
    "import pandas as pd\n",
    "import numpy as np\n",
    "import os\n",
    "import sys\n",
    "import polars as pl\n",
    "import json\n",
    "from joblib import Parallel, delayed\n",
    "import deepchem\n",
    "from tqdm import tqdm\n",
    "import warnings\n",
    "warnings.filterwarnings(\"ignore\")\n",
    "\n",
    "# Configure Polars \n",
    "cfg = pl.Config()\n",
    "cfg.set_tbl_rows(20)\n",
    "cfg.set_tbl_cols(50)\n",
    "from sklearn.model_selection import StratifiedGroupKFold, GroupKFold, KFold, GroupShuffleSplit, ShuffleSplit\n",
    "import gc\n",
    "import random\n",
    "\n",
    "from rdkit import Chem;\n",
    "from rdkit.Chem import AllChem\n",
    "from rdkit.Chem import MACCSkeys\n",
    "from functools import partial\n",
    "import mapply\n"
   ]
  },
  {
   "cell_type": "code",
   "execution_count": null,
   "id": "9844e67b",
   "metadata": {},
   "outputs": [],
   "source": []
  },
  {
   "cell_type": "code",
   "execution_count": null,
   "id": "43ed46ef",
   "metadata": {},
   "outputs": [],
   "source": [
    "with open('/home/dangnh36/datasets/competitions/leash_belka/processed/meta/building_blocks.json', 'r') as f:\n",
    "    bbs_meta = json.load(f)\n",
    "\n",
    "[print(k, '-->', len(v)) for k, v in bbs_meta.items()]"
   ]
  },
  {
   "cell_type": "code",
   "execution_count": null,
   "id": "cd6af77f",
   "metadata": {},
   "outputs": [],
   "source": [
    "with open('/home/dangnh36/datasets/competitions/leash_belka/processed/meta/scaffolds.json', 'r') as f:\n",
    "    scaffolds = json.load(f)\n",
    "print(len(scaffolds))"
   ]
  },
  {
   "cell_type": "code",
   "execution_count": 4,
   "id": "ae846483",
   "metadata": {},
   "outputs": [
    {
     "name": "stdout",
     "output_type": "stream",
     "text": [
      "8601.91998577118\n"
     ]
    },
    {
     "data": {
      "text/html": [
       "<div><style>\n",
       ".dataframe > thead > tr,\n",
       ".dataframe > tbody > tr {\n",
       "  text-align: right;\n",
       "  white-space: pre-wrap;\n",
       "}\n",
       "</style>\n",
       "<small>shape: (98_415_610, 8)</small><table border=\"1\" class=\"dataframe\"><thead><tr><th>molecule</th><th>bb1</th><th>bb2</th><th>bb3</th><th>BRD4</th><th>HSA</th><th>eSH</th><th>scaffold_idx</th></tr><tr><td>str</td><td>u16</td><td>u16</td><td>u16</td><td>u8</td><td>u8</td><td>u8</td><td>i64</td></tr></thead><tbody><tr><td>&quot;C#CCOc1ccc(CNc…</td><td>1640</td><td>1653</td><td>765</td><td>0</td><td>0</td><td>0</td><td>4283326</td></tr><tr><td>&quot;C#CCOc1ccc(CNc…</td><td>1640</td><td>1653</td><td>205</td><td>0</td><td>0</td><td>0</td><td>4486646</td></tr><tr><td>&quot;C#CCOc1ccc(CNc…</td><td>1640</td><td>1653</td><td>1653</td><td>0</td><td>0</td><td>0</td><td>1015728</td></tr><tr><td>&quot;C#CCOc1ccc(CNc…</td><td>1640</td><td>1653</td><td>146</td><td>0</td><td>0</td><td>0</td><td>5301385</td></tr><tr><td>&quot;C#CCOc1ccc(CNc…</td><td>1640</td><td>1653</td><td>439</td><td>0</td><td>0</td><td>0</td><td>5301385</td></tr><tr><td>&quot;C#CCOc1ccc(CNc…</td><td>1640</td><td>1653</td><td>196</td><td>0</td><td>0</td><td>0</td><td>5301385</td></tr><tr><td>&quot;C#CCOc1ccc(CNc…</td><td>1640</td><td>1653</td><td>253</td><td>0</td><td>0</td><td>0</td><td>5301385</td></tr><tr><td>&quot;C#CCOc1ccc(CNc…</td><td>1640</td><td>1653</td><td>1219</td><td>0</td><td>0</td><td>0</td><td>5301385</td></tr><tr><td>&quot;C#CCOc1ccc(CNc…</td><td>1640</td><td>1653</td><td>604</td><td>0</td><td>0</td><td>0</td><td>543172</td></tr><tr><td>&quot;C#CCOc1ccc(CNc…</td><td>1640</td><td>1653</td><td>121</td><td>0</td><td>0</td><td>0</td><td>2571428</td></tr><tr><td>&hellip;</td><td>&hellip;</td><td>&hellip;</td><td>&hellip;</td><td>&hellip;</td><td>&hellip;</td><td>&hellip;</td><td>&hellip;</td></tr><tr><td>&quot;[N-]=[N+]=NCCC…</td><td>141</td><td>1415</td><td>536</td><td>0</td><td>0</td><td>0</td><td>4068980</td></tr><tr><td>&quot;[N-]=[N+]=NCCC…</td><td>141</td><td>1415</td><td>1367</td><td>0</td><td>0</td><td>0</td><td>2088996</td></tr><tr><td>&quot;[N-]=[N+]=NCCC…</td><td>141</td><td>1415</td><td>329</td><td>0</td><td>0</td><td>0</td><td>3192765</td></tr><tr><td>&quot;[N-]=[N+]=NCCC…</td><td>141</td><td>1415</td><td>757</td><td>0</td><td>0</td><td>0</td><td>4085046</td></tr><tr><td>&quot;[N-]=[N+]=NCCC…</td><td>141</td><td>1415</td><td>335</td><td>0</td><td>0</td><td>0</td><td>4087757</td></tr><tr><td>&quot;[N-]=[N+]=NCCC…</td><td>141</td><td>1415</td><td>1792</td><td>0</td><td>0</td><td>0</td><td>4674025</td></tr><tr><td>&quot;[N-]=[N+]=NCCC…</td><td>141</td><td>1415</td><td>1178</td><td>0</td><td>0</td><td>0</td><td>5240137</td></tr><tr><td>&quot;[N-]=[N+]=NCCC…</td><td>141</td><td>1415</td><td>1699</td><td>0</td><td>0</td><td>0</td><td>5240137</td></tr><tr><td>&quot;[N-]=[N+]=NCCC…</td><td>141</td><td>1415</td><td>1308</td><td>0</td><td>0</td><td>0</td><td>3617024</td></tr><tr><td>&quot;[N-]=[N+]=NCCC…</td><td>141</td><td>1415</td><td>1415</td><td>0</td><td>0</td><td>0</td><td>268351</td></tr></tbody></table></div>"
      ],
      "text/plain": [
       "shape: (98_415_610, 8)\n",
       "┌───────────────────────────────────┬──────┬──────┬──────┬──────┬─────┬─────┬──────────────┐\n",
       "│ molecule                          ┆ bb1  ┆ bb2  ┆ bb3  ┆ BRD4 ┆ HSA ┆ eSH ┆ scaffold_idx │\n",
       "│ ---                               ┆ ---  ┆ ---  ┆ ---  ┆ ---  ┆ --- ┆ --- ┆ ---          │\n",
       "│ str                               ┆ u16  ┆ u16  ┆ u16  ┆ u8   ┆ u8  ┆ u8  ┆ i64          │\n",
       "╞═══════════════════════════════════╪══════╪══════╪══════╪══════╪═════╪═════╪══════════════╡\n",
       "│ C#CCOc1ccc(CNc2nc(NCC3CCCN3c3ccc… ┆ 1640 ┆ 1653 ┆ 765  ┆ 0    ┆ 0   ┆ 0   ┆ 4283326      │\n",
       "│ C#CCOc1ccc(CNc2nc(NCc3cccc(Br)n3… ┆ 1640 ┆ 1653 ┆ 205  ┆ 0    ┆ 0   ┆ 0   ┆ 4486646      │\n",
       "│ C#CCOc1ccc(CNc2nc(NCc3ccc(OCC#C)… ┆ 1640 ┆ 1653 ┆ 1653 ┆ 0    ┆ 0   ┆ 0   ┆ 1015728      │\n",
       "│ C#CCOc1ccc(CNc2nc(NCCNC(=O)C(=C)… ┆ 1640 ┆ 1653 ┆ 146  ┆ 0    ┆ 0   ┆ 0   ┆ 5301385      │\n",
       "│ C#CCOc1ccc(CNc2nc(NCC(=O)NCC=C)n… ┆ 1640 ┆ 1653 ┆ 439  ┆ 0    ┆ 0   ┆ 0   ┆ 5301385      │\n",
       "│ C#CCOc1ccc(CNc2nc(NCC(C)OCC=C)nc… ┆ 1640 ┆ 1653 ┆ 196  ┆ 0    ┆ 0   ┆ 0   ┆ 5301385      │\n",
       "│ C#CCOc1ccc(CNc2nc(NCCCOCC=C)nc(N… ┆ 1640 ┆ 1653 ┆ 253  ┆ 0    ┆ 0   ┆ 0   ┆ 5301385      │\n",
       "│ C#CCOc1ccc(CNc2nc(NCCOCC=C)nc(N[… ┆ 1640 ┆ 1653 ┆ 1219 ┆ 0    ┆ 0   ┆ 0   ┆ 5301385      │\n",
       "│ C#CCOc1ccc(CNc2nc(Nc3cnn(C4CCN(C… ┆ 1640 ┆ 1653 ┆ 604  ┆ 0    ┆ 0   ┆ 0   ┆ 543172       │\n",
       "│ C#CCOc1ccc(CNc2nc(Nc3n[nH]c4c3CN… ┆ 1640 ┆ 1653 ┆ 121  ┆ 0    ┆ 0   ┆ 0   ┆ 2571428      │\n",
       "│ …                                 ┆ …    ┆ …    ┆ …    ┆ …    ┆ …   ┆ …   ┆ …            │\n",
       "│ [N-]=[N+]=NCCC[C@H](Nc1nc(Nc2ncc… ┆ 141  ┆ 1415 ┆ 536  ┆ 0    ┆ 0   ┆ 0   ┆ 4068980      │\n",
       "│ [N-]=[N+]=NCCC[C@H](Nc1nc(Nc2ncn… ┆ 141  ┆ 1415 ┆ 1367 ┆ 0    ┆ 0   ┆ 0   ┆ 2088996      │\n",
       "│ [N-]=[N+]=NCCC[C@H](Nc1nc(Nc2ncn… ┆ 141  ┆ 1415 ┆ 329  ┆ 0    ┆ 0   ┆ 0   ┆ 3192765      │\n",
       "│ [N-]=[N+]=NCCC[C@H](Nc1nc(Nc2noc… ┆ 141  ┆ 1415 ┆ 757  ┆ 0    ┆ 0   ┆ 0   ┆ 4085046      │\n",
       "│ [N-]=[N+]=NCCC[C@H](Nc1nc(Nc2ncn… ┆ 141  ┆ 1415 ┆ 335  ┆ 0    ┆ 0   ┆ 0   ┆ 4087757      │\n",
       "│ [N-]=[N+]=NCCC[C@H](Nc1nc(Nc2noc… ┆ 141  ┆ 1415 ┆ 1792 ┆ 0    ┆ 0   ┆ 0   ┆ 4674025      │\n",
       "│ [N-]=[N+]=NCCC[C@H](Nc1nc(Nc2nnc… ┆ 141  ┆ 1415 ┆ 1178 ┆ 0    ┆ 0   ┆ 0   ┆ 5240137      │\n",
       "│ [N-]=[N+]=NCCC[C@H](Nc1nc(Nc2nnc… ┆ 141  ┆ 1415 ┆ 1699 ┆ 0    ┆ 0   ┆ 0   ┆ 5240137      │\n",
       "│ [N-]=[N+]=NCCC[C@H](Nc1nc(Nc2nnn… ┆ 141  ┆ 1415 ┆ 1308 ┆ 0    ┆ 0   ┆ 0   ┆ 3617024      │\n",
       "│ [N-]=[N+]=NCCC[C@H](Nc1nc(Nc2noc… ┆ 141  ┆ 1415 ┆ 1415 ┆ 0    ┆ 0   ┆ 0   ┆ 268351       │\n",
       "└───────────────────────────────────┴──────┴──────┴──────┴──────┴─────┴─────┴──────────────┘"
      ]
     },
     "execution_count": 4,
     "metadata": {},
     "output_type": "execute_result"
    }
   ],
   "source": [
    "train_scaffolds = pl.scan_csv('/home/dangnh36/datasets/competitions/leash_belka/processed/train_scaffold.csv').collect()\n",
    "train_df = pl.scan_csv('/home/dangnh36/datasets/competitions/leash_belka/processed/train_v2.csv')\\\n",
    "    .select(\n",
    "        pl.col('molecule'),\n",
    "        pl.col('bb1', 'bb2', 'bb3').cast(pl.UInt16),\n",
    "        pl.col('BRD4', 'HSA', 'eSH').cast(pl.UInt8),\n",
    "        scaffold_idx = train_scaffolds['scaffold_idx'],\n",
    "    )\\\n",
    "    .collect()\n",
    "print(train_df.estimated_size('mb'))\n",
    "train_df"
   ]
  },
  {
   "cell_type": "code",
   "execution_count": 2,
   "id": "22ff69d5",
   "metadata": {},
   "outputs": [
    {
     "name": "stdout",
     "output_type": "stream",
     "text": [
      "84.21934127807617\n"
     ]
    },
    {
     "data": {
      "text/html": [
       "<div><style>\n",
       ".dataframe > thead > tr,\n",
       ".dataframe > tbody > tr {\n",
       "  text-align: right;\n",
       "  white-space: pre-wrap;\n",
       "}\n",
       "</style>\n",
       "<small>shape: (878_022, 7)</small><table border=\"1\" class=\"dataframe\"><thead><tr><th>molecule</th><th>id</th><th>bb1</th><th>bb2</th><th>bb3</th><th>protein</th><th>scaffold_idx</th></tr><tr><td>str</td><td>i64</td><td>u16</td><td>u16</td><td>u16</td><td>str</td><td>i64</td></tr></thead><tbody><tr><td>&quot;C#CCCC[C@H](Nc…</td><td>295246830</td><td>1989</td><td>409</td><td>409</td><td>&quot;BRD4&quot;</td><td>2217250</td></tr><tr><td>&quot;C#CCCC[C@H](Nc…</td><td>295246833</td><td>1989</td><td>409</td><td>1012</td><td>&quot;BRD4&quot;</td><td>602641</td></tr><tr><td>&quot;C#CCCC[C@H](Nc…</td><td>295246836</td><td>1989</td><td>409</td><td>1722</td><td>&quot;BRD4&quot;</td><td>4502748</td></tr><tr><td>&quot;C#CCCC[C@H](Nc…</td><td>295246839</td><td>1989</td><td>409</td><td>1078</td><td>&quot;BRD4&quot;</td><td>3936208</td></tr><tr><td>&quot;C#CCCC[C@H](Nc…</td><td>295246842</td><td>1989</td><td>409</td><td>605</td><td>&quot;BRD4&quot;</td><td>4550856</td></tr><tr><td>&quot;C#CCCC[C@H](Nc…</td><td>295246845</td><td>1989</td><td>409</td><td>521</td><td>&quot;BRD4&quot;</td><td>4414349</td></tr><tr><td>&quot;C#CCCC[C@H](Nc…</td><td>295246848</td><td>1989</td><td>409</td><td>41</td><td>&quot;BRD4&quot;</td><td>5367715</td></tr><tr><td>&quot;C#CCCC[C@H](Nc…</td><td>295246851</td><td>1989</td><td>409</td><td>1826</td><td>&quot;BRD4&quot;</td><td>1422452</td></tr><tr><td>&quot;C#CCCC[C@H](Nc…</td><td>295246854</td><td>1989</td><td>409</td><td>1970</td><td>&quot;BRD4&quot;</td><td>4752663</td></tr><tr><td>&quot;C#CCCC[C@H](Nc…</td><td>295246857</td><td>1989</td><td>409</td><td>598</td><td>&quot;BRD4&quot;</td><td>5758930</td></tr><tr><td>&hellip;</td><td>&hellip;</td><td>&hellip;</td><td>&hellip;</td><td>&hellip;</td><td>&hellip;</td><td>&hellip;</td></tr><tr><td>&quot;[N-]=[N+]=NCCC…</td><td>296921696</td><td>141</td><td>1474</td><td>712</td><td>&quot;BRD4&quot;</td><td>1758733</td></tr><tr><td>&quot;[N-]=[N+]=NCCC…</td><td>296921699</td><td>141</td><td>1792</td><td>227</td><td>&quot;BRD4&quot;</td><td>3258407</td></tr><tr><td>&quot;[N-]=[N+]=NCCC…</td><td>296921702</td><td>141</td><td>1792</td><td>1092</td><td>&quot;BRD4&quot;</td><td>3526087</td></tr><tr><td>&quot;[N-]=[N+]=NCCC…</td><td>296921705</td><td>141</td><td>120</td><td>1280</td><td>&quot;BRD4&quot;</td><td>4100278</td></tr><tr><td>&quot;[N-]=[N+]=NCCC…</td><td>296921708</td><td>141</td><td>1178</td><td>1254</td><td>&quot;BRD4&quot;</td><td>2925996</td></tr><tr><td>&quot;Cn1ncc2cc(Nc3n…</td><td>296921711</td><td>141</td><td>1699</td><td>307</td><td>&quot;BRD4&quot;</td><td>3694466</td></tr><tr><td>&quot;[N-]=[N+]=NCCC…</td><td>296921714</td><td>141</td><td>1699</td><td>1254</td><td>&quot;BRD4&quot;</td><td>2925996</td></tr><tr><td>&quot;COC(=O)c1ccnc(…</td><td>296921717</td><td>141</td><td>1415</td><td>1390</td><td>&quot;BRD4&quot;</td><td>926159</td></tr><tr><td>&quot;COC1CCC(CCNc2n…</td><td>296921720</td><td>141</td><td>1415</td><td>1556</td><td>&quot;BRD4&quot;</td><td>3642883</td></tr><tr><td>&quot;[N-]=[N+]=NCCC…</td><td>296921723</td><td>141</td><td>1415</td><td>236</td><td>&quot;BRD4&quot;</td><td>2851961</td></tr></tbody></table></div>"
      ],
      "text/plain": [
       "shape: (878_022, 7)\n",
       "┌───────────────────────────────────┬───────────┬──────┬──────┬──────┬─────────┬──────────────┐\n",
       "│ molecule                          ┆ id        ┆ bb1  ┆ bb2  ┆ bb3  ┆ protein ┆ scaffold_idx │\n",
       "│ ---                               ┆ ---       ┆ ---  ┆ ---  ┆ ---  ┆ ---     ┆ ---          │\n",
       "│ str                               ┆ i64       ┆ u16  ┆ u16  ┆ u16  ┆ str     ┆ i64          │\n",
       "╞═══════════════════════════════════╪═══════════╪══════╪══════╪══════╪═════════╪══════════════╡\n",
       "│ C#CCCC[C@H](Nc1nc(Nc2ccc(C=C)cc2… ┆ 295246830 ┆ 1989 ┆ 409  ┆ 409  ┆ BRD4    ┆ 2217250      │\n",
       "│ C#CCCC[C@H](Nc1nc(Nc2ccc(C=C)cc2… ┆ 295246833 ┆ 1989 ┆ 409  ┆ 1012 ┆ BRD4    ┆ 602641       │\n",
       "│ C#CCCC[C@H](Nc1nc(NCC2(O)CCCC2(C… ┆ 295246836 ┆ 1989 ┆ 409  ┆ 1722 ┆ BRD4    ┆ 4502748      │\n",
       "│ C#CCCC[C@H](Nc1nc(Nc2ccc(C=C)cc2… ┆ 295246839 ┆ 1989 ┆ 409  ┆ 1078 ┆ BRD4    ┆ 3936208      │\n",
       "│ C#CCCC[C@H](Nc1nc(NCC2CCC(SC)CC2… ┆ 295246842 ┆ 1989 ┆ 409  ┆ 605  ┆ BRD4    ┆ 4550856      │\n",
       "│ C#CCCC[C@H](Nc1nc(NCc2ccc(C)cc2N… ┆ 295246845 ┆ 1989 ┆ 409  ┆ 521  ┆ BRD4    ┆ 4414349      │\n",
       "│ C#CCCC[C@H](Nc1nc(NCCc2ccc(OCC(=… ┆ 295246848 ┆ 1989 ┆ 409  ┆ 41   ┆ BRD4    ┆ 5367715      │\n",
       "│ C#CCCC[C@H](Nc1nc(NCCCNC(=O)c2oc… ┆ 295246851 ┆ 1989 ┆ 409  ┆ 1826 ┆ BRD4    ┆ 1422452      │\n",
       "│ C#CCCC[C@H](Nc1nc(NCc2nnc(N3CCCC… ┆ 295246854 ┆ 1989 ┆ 409  ┆ 1970 ┆ BRD4    ┆ 4752663      │\n",
       "│ C#CCCC[C@H](Nc1nc(NCCc2csc3ccccc… ┆ 295246857 ┆ 1989 ┆ 409  ┆ 598  ┆ BRD4    ┆ 5758930      │\n",
       "│ …                                 ┆ …         ┆ …    ┆ …    ┆ …    ┆ …       ┆ …            │\n",
       "│ [N-]=[N+]=NCCC[C@H](Nc1nc(Nc2nc(… ┆ 296921696 ┆ 141  ┆ 1474 ┆ 712  ┆ BRD4    ┆ 1758733      │\n",
       "│ [N-]=[N+]=NCCC[C@H](Nc1nc(Nc2ncn… ┆ 296921699 ┆ 141  ┆ 1792 ┆ 227  ┆ BRD4    ┆ 3258407      │\n",
       "│ [N-]=[N+]=NCCC[C@H](Nc1nc(Nc2cn3… ┆ 296921702 ┆ 141  ┆ 1792 ┆ 1092 ┆ BRD4    ┆ 3526087      │\n",
       "│ [N-]=[N+]=NCCC[C@H](Nc1nc(NCC2(c… ┆ 296921705 ┆ 141  ┆ 120  ┆ 1280 ┆ BRD4    ┆ 4100278      │\n",
       "│ [N-]=[N+]=NCCC[C@H](Nc1nc(NCC2CC… ┆ 296921708 ┆ 141  ┆ 1178 ┆ 1254 ┆ BRD4    ┆ 2925996      │\n",
       "│ Cn1ncc2cc(Nc3nc(Nc4nncs4)nc(N[C@… ┆ 296921711 ┆ 141  ┆ 1699 ┆ 307  ┆ BRD4    ┆ 3694466      │\n",
       "│ [N-]=[N+]=NCCC[C@H](Nc1nc(NCC2CC… ┆ 296921714 ┆ 141  ┆ 1699 ┆ 1254 ┆ BRD4    ┆ 2925996      │\n",
       "│ COC(=O)c1ccnc(Nc2nc(Nc3noc4ccc(F… ┆ 296921717 ┆ 141  ┆ 1415 ┆ 1390 ┆ BRD4    ┆ 926159       │\n",
       "│ COC1CCC(CCNc2nc(Nc3noc4ccc(F)cc3… ┆ 296921720 ┆ 141  ┆ 1415 ┆ 1556 ┆ BRD4    ┆ 3642883      │\n",
       "│ [N-]=[N+]=NCCC[C@H](Nc1nc(NCc2cc… ┆ 296921723 ┆ 141  ┆ 1415 ┆ 236  ┆ BRD4    ┆ 2851961      │\n",
       "└───────────────────────────────────┴───────────┴──────┴──────┴──────┴─────────┴──────────────┘"
      ]
     },
     "execution_count": 2,
     "metadata": {},
     "output_type": "execute_result"
    }
   ],
   "source": [
    "test_scaffolds = pl.scan_csv('/home/dangnh36/datasets/competitions/leash_belka/processed/test_scaffold.csv').collect()\n",
    "test_df = pl.scan_csv('/home/dangnh36/datasets/competitions/leash_belka/processed/test_v2.csv')\\\n",
    "    .select(\n",
    "        pl.col('id','molecule'),\n",
    "        pl.col('bb1', 'bb2', 'bb3').cast(pl.UInt16),\n",
    "        pl.col('protein'),\n",
    "        scaffold_idx = test_scaffolds['scaffold_idx']\n",
    "    ).group_by('molecule').first().collect().sort('id')\n",
    "print(test_df.estimated_size('mb'))\n",
    "test_df"
   ]
  },
  {
   "cell_type": "code",
   "execution_count": null,
   "id": "42ba0cf3",
   "metadata": {},
   "outputs": [],
   "source": []
  },
  {
   "cell_type": "code",
   "execution_count": 3,
   "id": "b5e6c001",
   "metadata": {},
   "outputs": [],
   "source": [
    "# Generate ECFPs\n",
    "def get_ecfp(smile, radius=3, bits=2048):\n",
    "    if smile is None:\n",
    "        return None\n",
    "    mol = Chem.MolFromSmiles(smile)\n",
    "    fp = np.array(AllChem.GetMorganFingerprintAsBitVect(mol, radius, nBits=bits).ToList())\n",
    "    fp = np.packbits(fp, axis=None)\n",
    "    return fp\n",
    "\n",
    "\n",
    "def get_maccs(smile):\n",
    "    if smile is None:\n",
    "        return None\n",
    "    mol = Chem.MolFromSmiles(smile)\n",
    "    fp = np.array(MACCSkeys.GenMACCSKeys(mol).ToList())\n",
    "    assert len(np.unique(fp)) <= 2\n",
    "    fp = np.packbits(fp, axis=None)\n",
    "    return fp\n",
    "\n",
    "\n",
    "def get_ecfp_maccs(smile, radius=3, bits=2048):\n",
    "    if smile is None:\n",
    "        return None\n",
    "    mol = Chem.MolFromSmiles(smile)\n",
    "    maccs = MACCSkeys.GenMACCSKeys(mol).ToList()\n",
    "    ecfp = AllChem.GetMorganFingerprintAsBitVect(mol, radius, nBits=bits).ToList()\n",
    "    ret = maccs + ecfp\n",
    "    ret = np.packbits(ret, axis=None)\n",
    "    return ret\n"
   ]
  },
  {
   "cell_type": "code",
   "execution_count": 10,
   "id": "5b88e706",
   "metadata": {},
   "outputs": [
    {
     "data": {
      "text/plain": [
       "array([ 64,   0,   0,   0,   0,  64,   0,   0,   0,   0, 137,   8,   2,\n",
       "         0,   0,   1,   0,   0,   0,   0,   0,   0,   0,   0,   0,   0,\n",
       "         0,   0,   0,   0,  64,   1,   0,   0,   0,  64,   0,   0,   2,\n",
       "         0,  48,   0,   0,   0,  64,   0,   0,  32,   0,   0,   0,   0,\n",
       "         0, 128,   0,  34,   0,  32,   0,   0,   0,   0,   1,   0,   0,\n",
       "         1,   0,   0,   2,   0,   0,  16,   0,   0,   0,   0,   1,   8,\n",
       "         0,  98,   0,  32,   1,   0,  32,   8,  33,   0, 128,   2,   0,\n",
       "       128,   0,   0,   2,   4,   8,   0,   0,   0,   9,   0,   1,   0,\n",
       "         0,   0,   2,   0,   0,   1,   0,   0,   0,   1,  16,   2, 129,\n",
       "         0,   0,   0,   0,   2,  64,   0,   0,   0,   0,  16,   8,   0,\n",
       "        16,  16,   0,   0,   0,   0, 129,  64,   0,   0,   0,   0,   0,\n",
       "         1, 128,  72,   0,   2, 128,   0,   0,   0,   0,   0,   0,   0,\n",
       "         0,   0,   0,   0,   0,  32,   0,   1,   0,   4,   0, 130,   4,\n",
       "         0,   1,  32,   8,   0,  16,   0,   0, 128,   0,   0,   0,   9,\n",
       "         0,   0,   0, 128,   0,   0,   0,   0,   0,   0,   0,  32, 128,\n",
       "         4,   0,   2,   0,   0,   8,   0,   5,   0,   0,   0,   0,   0,\n",
       "        16,   0,   0,   0,   0,   0,  32,   0,   0,   0,   2,  32,   0,\n",
       "         0,   0,   0,   0,   0,   0,   0,   0,   0,   0,   1,   0,  32,\n",
       "        64,   0,   0,   0,   0,  14,   0,   0,   0,   0, 128,  66,   0,\n",
       "         0, 128,   0,   9,   0,   2,   0,   0,   0], dtype=uint8)"
      ]
     },
     "execution_count": 10,
     "metadata": {},
     "output_type": "execute_result"
    }
   ],
   "source": [
    "get_ecfp(train_df[0, 'molecule'])"
   ]
  },
  {
   "cell_type": "code",
   "execution_count": 4,
   "id": "862cf3d7",
   "metadata": {},
   "outputs": [
    {
     "ename": "NameError",
     "evalue": "name 'train_df' is not defined",
     "output_type": "error",
     "traceback": [
      "\u001b[0;31m---------------------------------------------------------------------------\u001b[0m",
      "\u001b[0;31mNameError\u001b[0m                                 Traceback (most recent call last)",
      "Cell \u001b[0;32mIn[4], line 1\u001b[0m\n\u001b[0;32m----> 1\u001b[0m get_maccs(\u001b[43mtrain_df\u001b[49m[\u001b[38;5;241m0\u001b[39m, \u001b[38;5;124m'\u001b[39m\u001b[38;5;124mmolecule\u001b[39m\u001b[38;5;124m'\u001b[39m])\n",
      "\u001b[0;31mNameError\u001b[0m: name 'train_df' is not defined"
     ]
    }
   ],
   "source": [
    "get_maccs(train_df[0, 'molecule'])"
   ]
  },
  {
   "cell_type": "code",
   "execution_count": 12,
   "id": "455cc586",
   "metadata": {},
   "outputs": [
    {
     "data": {
      "text/plain": [
       "(277,)"
      ]
     },
     "execution_count": 12,
     "metadata": {},
     "output_type": "execute_result"
    }
   ],
   "source": [
    "get_ecfp_maccs(train_df[0, 'molecule']).shape"
   ]
  },
  {
   "cell_type": "code",
   "execution_count": null,
   "id": "7a47b36e",
   "metadata": {},
   "outputs": [],
   "source": []
  },
  {
   "cell_type": "code",
   "execution_count": null,
   "id": "8c9289a1",
   "metadata": {},
   "outputs": [],
   "source": [
    "# def mapply(func, col, backend = 'loky', n_jobs = 48):\n",
    "#     ret = Parallel(n_jobs=n_jobs, backend=backend)(\n",
    "#     delayed(func)(e) for e in tqdm(col))\n",
    "#     return ret"
   ]
  },
  {
   "cell_type": "code",
   "execution_count": null,
   "id": "2aa037bf",
   "metadata": {},
   "outputs": [],
   "source": [
    "# test_ecfp6s = mapply(partial(get_ecfp, radius=3, bits=2048), test_df['molecule'])\n",
    "# test_ecfp6s[:3]"
   ]
  },
  {
   "cell_type": "code",
   "execution_count": null,
   "id": "f22ac3bf",
   "metadata": {},
   "outputs": [],
   "source": []
  },
  {
   "cell_type": "code",
   "execution_count": null,
   "id": "1badb651",
   "metadata": {},
   "outputs": [],
   "source": []
  },
  {
   "cell_type": "code",
   "execution_count": 7,
   "id": "a44ad75b",
   "metadata": {},
   "outputs": [],
   "source": [
    "mapply.init(\n",
    "    n_workers=-1,\n",
    "    progressbar=True,\n",
    "    chunk_size = 1024,\n",
    "    max_chunks_per_worker = 32,\n",
    ")"
   ]
  },
  {
   "cell_type": "code",
   "execution_count": 9,
   "id": "6a5a1c4a",
   "metadata": {},
   "outputs": [
    {
     "data": {
      "text/html": [
       "<div><style>\n",
       ".dataframe > thead > tr,\n",
       ".dataframe > tbody > tr {\n",
       "  text-align: right;\n",
       "  white-space: pre-wrap;\n",
       "}\n",
       "</style>\n",
       "<small>shape: (878_022, 7)</small><table border=\"1\" class=\"dataframe\"><thead><tr><th>molecule</th><th>id</th><th>bb1</th><th>bb2</th><th>bb3</th><th>protein</th><th>scaffold_idx</th></tr><tr><td>str</td><td>i64</td><td>u16</td><td>u16</td><td>u16</td><td>str</td><td>i64</td></tr></thead><tbody><tr><td>&quot;C#CCCC[C@H](Nc…</td><td>295246830</td><td>1989</td><td>409</td><td>409</td><td>&quot;BRD4&quot;</td><td>2217250</td></tr><tr><td>&quot;C#CCCC[C@H](Nc…</td><td>295246833</td><td>1989</td><td>409</td><td>1012</td><td>&quot;BRD4&quot;</td><td>602641</td></tr><tr><td>&quot;C#CCCC[C@H](Nc…</td><td>295246836</td><td>1989</td><td>409</td><td>1722</td><td>&quot;BRD4&quot;</td><td>4502748</td></tr><tr><td>&quot;C#CCCC[C@H](Nc…</td><td>295246839</td><td>1989</td><td>409</td><td>1078</td><td>&quot;BRD4&quot;</td><td>3936208</td></tr><tr><td>&quot;C#CCCC[C@H](Nc…</td><td>295246842</td><td>1989</td><td>409</td><td>605</td><td>&quot;BRD4&quot;</td><td>4550856</td></tr><tr><td>&quot;C#CCCC[C@H](Nc…</td><td>295246845</td><td>1989</td><td>409</td><td>521</td><td>&quot;BRD4&quot;</td><td>4414349</td></tr><tr><td>&quot;C#CCCC[C@H](Nc…</td><td>295246848</td><td>1989</td><td>409</td><td>41</td><td>&quot;BRD4&quot;</td><td>5367715</td></tr><tr><td>&quot;C#CCCC[C@H](Nc…</td><td>295246851</td><td>1989</td><td>409</td><td>1826</td><td>&quot;BRD4&quot;</td><td>1422452</td></tr><tr><td>&quot;C#CCCC[C@H](Nc…</td><td>295246854</td><td>1989</td><td>409</td><td>1970</td><td>&quot;BRD4&quot;</td><td>4752663</td></tr><tr><td>&quot;C#CCCC[C@H](Nc…</td><td>295246857</td><td>1989</td><td>409</td><td>598</td><td>&quot;BRD4&quot;</td><td>5758930</td></tr><tr><td>&hellip;</td><td>&hellip;</td><td>&hellip;</td><td>&hellip;</td><td>&hellip;</td><td>&hellip;</td><td>&hellip;</td></tr><tr><td>&quot;[N-]=[N+]=NCCC…</td><td>296921696</td><td>141</td><td>1474</td><td>712</td><td>&quot;BRD4&quot;</td><td>1758733</td></tr><tr><td>&quot;[N-]=[N+]=NCCC…</td><td>296921699</td><td>141</td><td>1792</td><td>227</td><td>&quot;BRD4&quot;</td><td>3258407</td></tr><tr><td>&quot;[N-]=[N+]=NCCC…</td><td>296921702</td><td>141</td><td>1792</td><td>1092</td><td>&quot;BRD4&quot;</td><td>3526087</td></tr><tr><td>&quot;[N-]=[N+]=NCCC…</td><td>296921705</td><td>141</td><td>120</td><td>1280</td><td>&quot;BRD4&quot;</td><td>4100278</td></tr><tr><td>&quot;[N-]=[N+]=NCCC…</td><td>296921708</td><td>141</td><td>1178</td><td>1254</td><td>&quot;BRD4&quot;</td><td>2925996</td></tr><tr><td>&quot;Cn1ncc2cc(Nc3n…</td><td>296921711</td><td>141</td><td>1699</td><td>307</td><td>&quot;BRD4&quot;</td><td>3694466</td></tr><tr><td>&quot;[N-]=[N+]=NCCC…</td><td>296921714</td><td>141</td><td>1699</td><td>1254</td><td>&quot;BRD4&quot;</td><td>2925996</td></tr><tr><td>&quot;COC(=O)c1ccnc(…</td><td>296921717</td><td>141</td><td>1415</td><td>1390</td><td>&quot;BRD4&quot;</td><td>926159</td></tr><tr><td>&quot;COC1CCC(CCNc2n…</td><td>296921720</td><td>141</td><td>1415</td><td>1556</td><td>&quot;BRD4&quot;</td><td>3642883</td></tr><tr><td>&quot;[N-]=[N+]=NCCC…</td><td>296921723</td><td>141</td><td>1415</td><td>236</td><td>&quot;BRD4&quot;</td><td>2851961</td></tr></tbody></table></div>"
      ],
      "text/plain": [
       "shape: (878_022, 7)\n",
       "┌───────────────────────────────────┬───────────┬──────┬──────┬──────┬─────────┬──────────────┐\n",
       "│ molecule                          ┆ id        ┆ bb1  ┆ bb2  ┆ bb3  ┆ protein ┆ scaffold_idx │\n",
       "│ ---                               ┆ ---       ┆ ---  ┆ ---  ┆ ---  ┆ ---     ┆ ---          │\n",
       "│ str                               ┆ i64       ┆ u16  ┆ u16  ┆ u16  ┆ str     ┆ i64          │\n",
       "╞═══════════════════════════════════╪═══════════╪══════╪══════╪══════╪═════════╪══════════════╡\n",
       "│ C#CCCC[C@H](Nc1nc(Nc2ccc(C=C)cc2… ┆ 295246830 ┆ 1989 ┆ 409  ┆ 409  ┆ BRD4    ┆ 2217250      │\n",
       "│ C#CCCC[C@H](Nc1nc(Nc2ccc(C=C)cc2… ┆ 295246833 ┆ 1989 ┆ 409  ┆ 1012 ┆ BRD4    ┆ 602641       │\n",
       "│ C#CCCC[C@H](Nc1nc(NCC2(O)CCCC2(C… ┆ 295246836 ┆ 1989 ┆ 409  ┆ 1722 ┆ BRD4    ┆ 4502748      │\n",
       "│ C#CCCC[C@H](Nc1nc(Nc2ccc(C=C)cc2… ┆ 295246839 ┆ 1989 ┆ 409  ┆ 1078 ┆ BRD4    ┆ 3936208      │\n",
       "│ C#CCCC[C@H](Nc1nc(NCC2CCC(SC)CC2… ┆ 295246842 ┆ 1989 ┆ 409  ┆ 605  ┆ BRD4    ┆ 4550856      │\n",
       "│ C#CCCC[C@H](Nc1nc(NCc2ccc(C)cc2N… ┆ 295246845 ┆ 1989 ┆ 409  ┆ 521  ┆ BRD4    ┆ 4414349      │\n",
       "│ C#CCCC[C@H](Nc1nc(NCCc2ccc(OCC(=… ┆ 295246848 ┆ 1989 ┆ 409  ┆ 41   ┆ BRD4    ┆ 5367715      │\n",
       "│ C#CCCC[C@H](Nc1nc(NCCCNC(=O)c2oc… ┆ 295246851 ┆ 1989 ┆ 409  ┆ 1826 ┆ BRD4    ┆ 1422452      │\n",
       "│ C#CCCC[C@H](Nc1nc(NCc2nnc(N3CCCC… ┆ 295246854 ┆ 1989 ┆ 409  ┆ 1970 ┆ BRD4    ┆ 4752663      │\n",
       "│ C#CCCC[C@H](Nc1nc(NCCc2csc3ccccc… ┆ 295246857 ┆ 1989 ┆ 409  ┆ 598  ┆ BRD4    ┆ 5758930      │\n",
       "│ …                                 ┆ …         ┆ …    ┆ …    ┆ …    ┆ …       ┆ …            │\n",
       "│ [N-]=[N+]=NCCC[C@H](Nc1nc(Nc2nc(… ┆ 296921696 ┆ 141  ┆ 1474 ┆ 712  ┆ BRD4    ┆ 1758733      │\n",
       "│ [N-]=[N+]=NCCC[C@H](Nc1nc(Nc2ncn… ┆ 296921699 ┆ 141  ┆ 1792 ┆ 227  ┆ BRD4    ┆ 3258407      │\n",
       "│ [N-]=[N+]=NCCC[C@H](Nc1nc(Nc2cn3… ┆ 296921702 ┆ 141  ┆ 1792 ┆ 1092 ┆ BRD4    ┆ 3526087      │\n",
       "│ [N-]=[N+]=NCCC[C@H](Nc1nc(NCC2(c… ┆ 296921705 ┆ 141  ┆ 120  ┆ 1280 ┆ BRD4    ┆ 4100278      │\n",
       "│ [N-]=[N+]=NCCC[C@H](Nc1nc(NCC2CC… ┆ 296921708 ┆ 141  ┆ 1178 ┆ 1254 ┆ BRD4    ┆ 2925996      │\n",
       "│ Cn1ncc2cc(Nc3nc(Nc4nncs4)nc(N[C@… ┆ 296921711 ┆ 141  ┆ 1699 ┆ 307  ┆ BRD4    ┆ 3694466      │\n",
       "│ [N-]=[N+]=NCCC[C@H](Nc1nc(NCC2CC… ┆ 296921714 ┆ 141  ┆ 1699 ┆ 1254 ┆ BRD4    ┆ 2925996      │\n",
       "│ COC(=O)c1ccnc(Nc2nc(Nc3noc4ccc(F… ┆ 296921717 ┆ 141  ┆ 1415 ┆ 1390 ┆ BRD4    ┆ 926159       │\n",
       "│ COC1CCC(CCNc2nc(Nc3noc4ccc(F)cc3… ┆ 296921720 ┆ 141  ┆ 1415 ┆ 1556 ┆ BRD4    ┆ 3642883      │\n",
       "│ [N-]=[N+]=NCCC[C@H](Nc1nc(NCc2cc… ┆ 296921723 ┆ 141  ┆ 1415 ┆ 236  ┆ BRD4    ┆ 2851961      │\n",
       "└───────────────────────────────────┴───────────┴──────┴──────┴──────┴─────────┴──────────────┘"
      ]
     },
     "execution_count": 9,
     "metadata": {},
     "output_type": "execute_result"
    }
   ],
   "source": [
    "test_df"
   ]
  },
  {
   "cell_type": "code",
   "execution_count": 8,
   "id": "a7ebe7ee",
   "metadata": {},
   "outputs": [
    {
     "name": "stdout",
     "output_type": "stream",
     "text": [
      "Start!\n"
     ]
    },
    {
     "name": "stderr",
     "output_type": "stream",
     "text": [
      "100%|████████████████████████████████████████| 857/857 [00:27<00:00, 30.98it/s]\n"
     ]
    },
    {
     "data": {
      "text/plain": [
       "0    [64, 0, 0, 64, 0, 0, 0, 0, 0, 0, 128, 0, 0, 0,...\n",
       "1    [64, 0, 0, 64, 0, 1, 0, 0, 0, 0, 128, 16, 0, 0...\n",
       "2    [64, 16, 0, 64, 0, 0, 0, 0, 0, 0, 128, 0, 0, 0...\n",
       "Name: molecule, dtype: object"
      ]
     },
     "execution_count": 8,
     "metadata": {},
     "output_type": "execute_result"
    }
   ],
   "source": [
    "test_mols = test_df['molecule'].to_pandas()\n",
    "print('Start!')\n",
    "test_ecfp6s = test_mols.mapply(partial(get_ecfp, radius=3, bits=2048))\n",
    "test_ecfp6s[:3]"
   ]
  },
  {
   "cell_type": "code",
   "execution_count": null,
   "id": "d9d9a121",
   "metadata": {},
   "outputs": [],
   "source": [
    "mapply.parallel.sensible_cpu_count()"
   ]
  },
  {
   "cell_type": "code",
   "execution_count": null,
   "id": "7926bb8b",
   "metadata": {},
   "outputs": [],
   "source": []
  },
  {
   "cell_type": "code",
   "execution_count": null,
   "id": "2ef3b3da",
   "metadata": {},
   "outputs": [],
   "source": []
  },
  {
   "cell_type": "code",
   "execution_count": null,
   "id": "9111443a",
   "metadata": {},
   "outputs": [],
   "source": [
    "train_ecfp6s = train_df['molecule'].to_pandas().mapply(partial(get_ecfp, radius=3, bits=2048))\n",
    "train_ecfp6s[:3]"
   ]
  },
  {
   "cell_type": "code",
   "execution_count": null,
   "id": "1bfed63f",
   "metadata": {},
   "outputs": [],
   "source": []
  },
  {
   "cell_type": "code",
   "execution_count": null,
   "id": "58b3e826",
   "metadata": {},
   "outputs": [],
   "source": [
    "# # 13 hours for this single process code\n",
    "# for i, row in tqdm(enumerate(train_df.iter_rows(named=True)), total = len(train_df)):\n",
    "#     train_ecfp6s[i] = get_ecfp(row['molecule'], radius=3, bits=2048)"
   ]
  },
  {
   "cell_type": "code",
   "execution_count": null,
   "id": "6774cbdc",
   "metadata": {},
   "outputs": [],
   "source": [
    "len(train_ecfp6s)"
   ]
  },
  {
   "cell_type": "code",
   "execution_count": null,
   "id": "9c475cb1",
   "metadata": {},
   "outputs": [],
   "source": [
    "train_ecfp6s_np = np.stack(train_ecfp6s, axis = 0)\n",
    "train_ecfp6s_np.shape"
   ]
  },
  {
   "cell_type": "code",
   "execution_count": null,
   "id": "eb1c8ca1",
   "metadata": {},
   "outputs": [],
   "source": [
    "!mkdir -p /home/dangnh36/datasets/competitions/leash_belka/processed/features/ "
   ]
  },
  {
   "cell_type": "code",
   "execution_count": null,
   "id": "b26f6e1a",
   "metadata": {},
   "outputs": [],
   "source": [
    "fp = np.memmap('/home/dangnh36/datasets/competitions/leash_belka/processed/features/train_ecfp6_2048.memmap', dtype=train_ecfp6s_np.dtype, mode='w+', shape=train_ecfp6s_np.shape)\n",
    "fp[:] = train_ecfp6s_np[:]"
   ]
  },
  {
   "cell_type": "code",
   "execution_count": null,
   "id": "744ccb3d",
   "metadata": {},
   "outputs": [],
   "source": [
    "del train_ecfp6s, train_ecfp6s_np\n",
    "gc.collect()"
   ]
  },
  {
   "cell_type": "code",
   "execution_count": null,
   "id": "dfc06b3a",
   "metadata": {},
   "outputs": [],
   "source": []
  },
  {
   "cell_type": "code",
   "execution_count": 10,
   "id": "17042891",
   "metadata": {},
   "outputs": [
    {
     "data": {
      "text/plain": [
       "(878022, 256)"
      ]
     },
     "execution_count": 10,
     "metadata": {},
     "output_type": "execute_result"
    }
   ],
   "source": [
    "test_ecfp6s_np = np.stack(test_ecfp6s, axis = 0)\n",
    "test_ecfp6s_np.shape"
   ]
  },
  {
   "cell_type": "code",
   "execution_count": 12,
   "id": "54e8e71d",
   "metadata": {},
   "outputs": [],
   "source": [
    "fp = np.memmap('/home/dangnh36/datasets/competitions/leash_belka/processed/features/test_ecfp6_2048.mmap',\n",
    "               dtype=test_ecfp6s_np.dtype,\n",
    "               mode='w+',\n",
    "               shape=test_ecfp6s_np.shape)\n",
    "fp[:] = test_ecfp6s_np[:]"
   ]
  },
  {
   "cell_type": "code",
   "execution_count": null,
   "id": "a2b07d93",
   "metadata": {},
   "outputs": [],
   "source": []
  },
  {
   "cell_type": "code",
   "execution_count": null,
   "id": "e32f023e",
   "metadata": {},
   "outputs": [],
   "source": []
  },
  {
   "cell_type": "code",
   "execution_count": 13,
   "id": "c2c53b16",
   "metadata": {},
   "outputs": [
    {
     "name": "stdout",
     "output_type": "stream",
     "text": [
      "Start!\n"
     ]
    },
    {
     "name": "stderr",
     "output_type": "stream",
     "text": [
      "100%|████████████████████████████████████████| 857/857 [01:02<00:00, 13.65it/s]\n"
     ]
    },
    {
     "data": {
      "text/plain": [
       "0    [2, 0, 64, 64, 32, 8, 6, 0, 68, 5, 128, 59, 48...\n",
       "1    [2, 0, 64, 64, 34, 8, 6, 0, 68, 21, 148, 59, 1...\n",
       "2    [2, 0, 64, 64, 32, 8, 6, 0, 100, 37, 160, 59, ...\n",
       "Name: molecule, dtype: object"
      ]
     },
     "execution_count": 13,
     "metadata": {},
     "output_type": "execute_result"
    }
   ],
   "source": [
    "test_mols = test_df['molecule'].to_pandas()\n",
    "print('Start!')\n",
    "test_maccs = test_mols.mapply(partial(get_maccs))\n",
    "test_maccs[:3]"
   ]
  },
  {
   "cell_type": "code",
   "execution_count": 14,
   "id": "cc51f156",
   "metadata": {},
   "outputs": [
    {
     "name": "stdout",
     "output_type": "stream",
     "text": [
      "(878022, 21)\n"
     ]
    }
   ],
   "source": [
    "test_maccs_np = np.stack(test_maccs, axis = 0)\n",
    "print(test_maccs_np.shape)\n",
    "fp = np.memmap('/home/dangnh36/datasets/competitions/leash_belka/processed/features/test_maccs.mmap',\n",
    "               dtype=test_maccs_np.dtype,\n",
    "               mode='w+',\n",
    "               shape=test_maccs_np.shape)\n",
    "fp[:] = test_maccs_np[:]"
   ]
  },
  {
   "cell_type": "code",
   "execution_count": null,
   "id": "ce880fa0",
   "metadata": {},
   "outputs": [],
   "source": []
  },
  {
   "cell_type": "code",
   "execution_count": 16,
   "id": "a45ac766",
   "metadata": {},
   "outputs": [
    {
     "data": {
      "application/vnd.jupyter.widget-view+json": {
       "model_id": "a89e327db94c446e8ca593bb492cb285",
       "version_major": 2,
       "version_minor": 0
      },
      "text/plain": [
       "  0%|                                                  | 0/3104 [00:00<?, ?it/s]"
      ]
     },
     "metadata": {},
     "output_type": "display_data"
    },
    {
     "data": {
      "text/plain": [
       "0    [2, 0, 64, 64, 2, 8, 12, 2, 68, 21, 180, 58, 2...\n",
       "1    [2, 0, 64, 64, 0, 10, 4, 0, 68, 5, 161, 26, 10...\n",
       "2    [2, 0, 64, 64, 0, 8, 4, 0, 68, 4, 160, 26, 104...\n",
       "Name: molecule, dtype: object"
      ]
     },
     "execution_count": 16,
     "metadata": {},
     "output_type": "execute_result"
    }
   ],
   "source": [
    "train_maccs = train_df['molecule'].to_pandas().mapply(partial(get_maccs))\n",
    "train_maccs[:3]"
   ]
  },
  {
   "cell_type": "code",
   "execution_count": 17,
   "id": "db95c66d",
   "metadata": {},
   "outputs": [
    {
     "name": "stdout",
     "output_type": "stream",
     "text": [
      "(98415610, 21)\n"
     ]
    }
   ],
   "source": [
    "train_maccs_np = np.stack(train_maccs, axis = 0)\n",
    "print(train_maccs_np.shape)\n",
    "fp = np.memmap('/home/dangnh36/datasets/competitions/leash_belka/processed/features/train_maccs.mmap',\n",
    "               dtype=train_maccs_np.dtype,\n",
    "               mode='w+',\n",
    "               shape=train_maccs_np.shape)\n",
    "fp[:] = train_maccs_np[:]"
   ]
  },
  {
   "cell_type": "code",
   "execution_count": null,
   "id": "c863f07e",
   "metadata": {},
   "outputs": [],
   "source": []
  },
  {
   "cell_type": "code",
   "execution_count": null,
   "id": "82da673d",
   "metadata": {},
   "outputs": [],
   "source": []
  },
  {
   "cell_type": "code",
   "execution_count": null,
   "id": "e2be1f25",
   "metadata": {},
   "outputs": [],
   "source": []
  },
  {
   "cell_type": "code",
   "execution_count": null,
   "id": "1b3f6300",
   "metadata": {},
   "outputs": [],
   "source": []
  },
  {
   "cell_type": "code",
   "execution_count": null,
   "id": "76a385b7",
   "metadata": {},
   "outputs": [],
   "source": []
  },
  {
   "cell_type": "code",
   "execution_count": null,
   "id": "b84b4108",
   "metadata": {},
   "outputs": [],
   "source": []
  },
  {
   "cell_type": "code",
   "execution_count": null,
   "id": "64c4a99f",
   "metadata": {},
   "outputs": [],
   "source": []
  },
  {
   "cell_type": "code",
   "execution_count": null,
   "id": "e3f2ac74",
   "metadata": {},
   "outputs": [],
   "source": []
  },
  {
   "cell_type": "code",
   "execution_count": null,
   "id": "52650895",
   "metadata": {},
   "outputs": [],
   "source": []
  }
 ],
 "metadata": {
  "kernelspec": {
   "display_name": "Python 3 (ipykernel)",
   "language": "python",
   "name": "python3"
  },
  "language_info": {
   "codemirror_mode": {
    "name": "ipython",
    "version": 3
   },
   "file_extension": ".py",
   "mimetype": "text/x-python",
   "name": "python",
   "nbconvert_exporter": "python",
   "pygments_lexer": "ipython3",
   "version": "3.10.13"
  }
 },
 "nbformat": 4,
 "nbformat_minor": 5
}
