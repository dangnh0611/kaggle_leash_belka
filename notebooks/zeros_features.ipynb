{
 "cells": [
  {
   "cell_type": "code",
   "execution_count": 1,
   "id": "5d88f508",
   "metadata": {},
   "outputs": [
    {
     "data": {
      "text/plain": [
       "80"
      ]
     },
     "execution_count": 1,
     "metadata": {},
     "output_type": "execute_result"
    }
   ],
   "source": [
    "import torch\n",
    "import numpy as np\n",
    "import os\n",
    "from torch import nn\n",
    "import sys\n",
    "import polars as pl\n",
    "import sklearn\n",
    "import shap\n",
    "from functools import partial\n",
    "import pandas as pd\n",
    "import random\n",
    "from matplotlib import pyplot as plt\n",
    "import time\n",
    "from rdkit.Chem import DataStructs\n",
    "from tqdm import tqdm\n",
    "from joblib import Parallel, delayed\n",
    "import math\n",
    "sys.path.append('../')\n",
    "\n",
    "\n",
    "from tokenizers import Tokenizer\n",
    "from transformers import PreTrainedTokenizerFast\n",
    "from tokenizers.models import WordLevel, BPE\n",
    "from tokenizers.pre_tokenizers import Whitespace,Split,ByteLevel, WhitespaceSplit\n",
    "from tokenizers.normalizers import Lowercase, NFKC\n",
    "import os\n",
    "import polars as pl\n",
    "from joblib import Parallel, delayed\n",
    "import multiprocessing\n",
    "import numpy as np\n",
    "from tqdm import tqdm\n",
    "import time\n",
    "import json\n",
    "from tokenizers.trainers import BpeTrainer, UnigramTrainer, WordLevelTrainer, WordPieceTrainer\n",
    "import gc\n",
    "from transformers import AutoConfig, AutoTokenizer, AutoModel, DataCollatorWithPadding\n",
    "import mapply\n",
    "from collections import Counter\n",
    "from rdkit import Chem\n",
    "from rdkit.Chem import AllChem\n",
    "from functools import partial\n",
    "\n",
    "multiprocessing.cpu_count()"
   ]
  },
  {
   "cell_type": "code",
   "execution_count": null,
   "id": "17436266",
   "metadata": {},
   "outputs": [],
   "source": []
  },
  {
   "cell_type": "code",
   "execution_count": null,
   "id": "06d9a118",
   "metadata": {},
   "outputs": [],
   "source": []
  },
  {
   "cell_type": "code",
   "execution_count": 6,
   "id": "fb750b61",
   "metadata": {},
   "outputs": [
    {
     "name": "stdout",
     "output_type": "stream",
     "text": [
      "(878022, 2048)\n",
      "8\n"
     ]
    },
    {
     "data": {
      "text/plain": [
       "array([ 650,  807, 1152, 1182, 1380, 1621, 1917, 2007])"
      ]
     },
     "execution_count": 6,
     "metadata": {},
     "output_type": "execute_result"
    }
   ],
   "source": [
    "test_feat = np.load('/home/dangnh36/datasets/competitions/leash_belka/processed/features/ecfp6/test.npy')\n",
    "test_feat = np.unpackbits(test_feat, axis = -1)\n",
    "print(test_feat.shape)\n",
    "constant_col_idxs = np.where(test_feat.min(axis = 0) == test_feat.max(axis = 0))[0]\n",
    "print(len(constant_col_idxs))\n",
    "constant_col_idxs"
   ]
  },
  {
   "cell_type": "code",
   "execution_count": null,
   "id": "501a39cf",
   "metadata": {},
   "outputs": [],
   "source": []
  },
  {
   "cell_type": "code",
   "execution_count": 7,
   "id": "987236e4",
   "metadata": {},
   "outputs": [
    {
     "name": "stdout",
     "output_type": "stream",
     "text": [
      "(878022, 2048)\n",
      "668\n"
     ]
    },
    {
     "data": {
      "text/plain": [
       "array([   2,    3,    7,   10,   11,   15,   18,   19,   21,   22,   23,\n",
       "         26,   27,   31,   35,   38,   39,   40,   41,   42,   43,   45,\n",
       "         46,   47,   53,   54,   55,   56,   57,   58,   59,   62,   63,\n",
       "         65,   66,   67,   71,   75,   76,   77,   78,   79,   81,   82,\n",
       "         83,   86,   87,   90,   91,   94,   95,   99,  103,  105,  106,\n",
       "        107,  111,  115,  127,  131,  135,  136,  137,  138,  139,  143,\n",
       "        145,  146,  147,  150,  151,  155,  156,  157,  158,  159,  162,\n",
       "        163,  167,  170,  171,  174,  175,  183,  186,  187,  191,  194,\n",
       "        195,  198,  199,  203,  206,  207,  208,  209,  210,  211,  214,\n",
       "        215,  223,  226,  227,  230,  231,  247,  251,  255,  257,  258,\n",
       "        259,  267,  270,  271,  275,  279,  287,  290,  291,  294,  295,\n",
       "        298,  299,  300,  301,  302,  303,  307,  311,  319,  325,  326,\n",
       "        327,  331,  335,  339,  343,  347,  351,  357,  358,  359,  362,\n",
       "        363,  366,  367,  371,  387,  391,  394,  395,  399,  402,  403,\n",
       "        407,  416,  417,  418,  419,  422,  423,  426,  427,  430,  431,\n",
       "        439,  447,  451,  463,  466,  467,  471,  483,  491,  495,  503,\n",
       "        507,  514,  515,  526,  527,  535,  543,  547,  551,  555,  563,\n",
       "        567,  570,  571,  575,  579,  583,  587,  591,  595,  599,  602,\n",
       "        603,  606,  607,  610,  611,  615,  619,  626,  627,  630,  631,\n",
       "        635,  643,  647,  659,  663,  667,  671,  675,  678,  679,  682,\n",
       "        683,  687,  691,  703,  707,  711,  714,  715,  719,  723,  726,\n",
       "        727,  730,  731,  739,  743,  747,  755,  759,  767,  771,  775,\n",
       "        779,  782,  783,  786,  787,  791,  794,  795,  798,  799,  802,\n",
       "        803,  806,  807,  811,  815,  819,  822,  823,  826,  827,  831,\n",
       "        834,  835,  839,  841,  842,  843,  846,  847,  849,  850,  851,\n",
       "        854,  855,  858,  859,  862,  863,  867,  870,  871,  875,  878,\n",
       "        879,  883,  887,  890,  891,  894,  895,  899,  907,  910,  911,\n",
       "        914,  915,  918,  919,  927,  934,  935,  939,  943,  947,  951,\n",
       "        952,  953,  954,  955,  957,  958,  959,  960,  961,  962,  963,\n",
       "        967,  970,  971,  975,  979,  983,  985,  986,  987,  990,  991,\n",
       "        995,  999, 1006, 1007, 1010, 1011, 1014, 1015, 1019, 1023, 1027,\n",
       "       1030, 1031, 1034, 1035, 1037, 1038, 1039, 1042, 1043, 1046, 1047,\n",
       "       1051, 1055, 1059, 1063, 1066, 1067, 1070, 1071, 1074, 1075, 1076,\n",
       "       1077, 1078, 1079, 1082, 1083, 1087, 1090, 1091, 1099, 1102, 1103,\n",
       "       1106, 1107, 1115, 1119, 1122, 1123, 1126, 1127, 1130, 1131, 1134,\n",
       "       1135, 1139, 1142, 1143, 1146, 1147, 1150, 1151, 1155, 1158, 1159,\n",
       "       1163, 1167, 1171, 1179, 1183, 1186, 1187, 1191, 1194, 1195, 1198,\n",
       "       1199, 1203, 1207, 1211, 1215, 1219, 1223, 1227, 1230, 1231, 1235,\n",
       "       1239, 1242, 1243, 1247, 1249, 1250, 1251, 1254, 1255, 1259, 1262,\n",
       "       1263, 1266, 1267, 1270, 1271, 1274, 1275, 1278, 1279, 1282, 1283,\n",
       "       1284, 1285, 1286, 1287, 1291, 1295, 1302, 1303, 1306, 1307, 1310,\n",
       "       1311, 1323, 1327, 1329, 1330, 1331, 1335, 1339, 1343, 1350, 1351,\n",
       "       1355, 1358, 1359, 1361, 1362, 1363, 1366, 1367, 1371, 1378, 1379,\n",
       "       1383, 1386, 1387, 1391, 1394, 1395, 1398, 1399, 1403, 1406, 1407,\n",
       "       1410, 1411, 1414, 1415, 1419, 1423, 1426, 1427, 1430, 1431, 1435,\n",
       "       1438, 1439, 1443, 1447, 1454, 1455, 1457, 1458, 1459, 1462, 1463,\n",
       "       1467, 1470, 1471, 1475, 1479, 1483, 1487, 1491, 1495, 1499, 1503,\n",
       "       1507, 1510, 1511, 1514, 1515, 1519, 1522, 1523, 1526, 1527, 1531,\n",
       "       1546, 1547, 1554, 1555, 1559, 1566, 1567, 1571, 1579, 1583, 1586,\n",
       "       1587, 1588, 1589, 1590, 1591, 1595, 1599, 1603, 1615, 1618, 1619,\n",
       "       1623, 1627, 1630, 1631, 1635, 1639, 1643, 1647, 1651, 1655, 1663,\n",
       "       1667, 1670, 1671, 1679, 1683, 1691, 1699, 1703, 1707, 1711, 1723,\n",
       "       1727, 1731, 1734, 1735, 1738, 1739, 1743, 1751, 1759, 1762, 1763,\n",
       "       1766, 1767, 1771, 1774, 1775, 1778, 1779, 1782, 1783, 1791, 1795,\n",
       "       1798, 1799, 1803, 1807, 1811, 1819, 1823, 1831, 1833, 1834, 1835,\n",
       "       1839, 1847, 1851, 1855, 1859, 1866, 1867, 1871, 1883, 1887, 1890,\n",
       "       1891, 1895, 1896, 1897, 1898, 1899, 1902, 1903, 1904, 1905, 1906,\n",
       "       1907, 1908, 1911, 1915, 1918, 1919, 1923, 1927, 1943, 1946, 1947,\n",
       "       1950, 1951, 1958, 1959, 1963, 1977, 1978, 1979, 1986, 1987, 1991,\n",
       "       1992, 1993, 1994, 1995, 1999, 2002, 2003, 2005, 2006, 2007, 2011,\n",
       "       2015, 2019, 2023, 2026, 2027, 2035, 2043, 2047])"
      ]
     },
     "execution_count": 7,
     "metadata": {},
     "output_type": "execute_result"
    }
   ],
   "source": [
    "test_feat = np.load('/home/dangnh36/datasets/competitions/leash_belka/processed/features/topological_torsion/test.npy')\n",
    "test_feat = np.unpackbits(test_feat, axis = -1)\n",
    "print(test_feat.shape)\n",
    "constant_col_idxs = np.where(test_feat.min(axis = 0) == test_feat.max(axis = 0))[0]\n",
    "print(len(constant_col_idxs))\n",
    "constant_col_idxs"
   ]
  },
  {
   "cell_type": "code",
   "execution_count": null,
   "id": "1c8bc58d",
   "metadata": {},
   "outputs": [],
   "source": []
  },
  {
   "cell_type": "code",
   "execution_count": 8,
   "id": "4ce5de95",
   "metadata": {},
   "outputs": [
    {
     "name": "stdout",
     "output_type": "stream",
     "text": [
      "(878022, 2048)\n",
      "1\n"
     ]
    },
    {
     "data": {
      "text/plain": [
       "array([645])"
      ]
     },
     "execution_count": 8,
     "metadata": {},
     "output_type": "execute_result"
    }
   ],
   "source": [
    "test_feat = np.load('/home/dangnh36/datasets/competitions/leash_belka/processed/features/mhfp/test.npy')\n",
    "test_feat = np.unpackbits(test_feat, axis = -1)\n",
    "print(test_feat.shape)\n",
    "constant_col_idxs = np.where(test_feat.min(axis = 0) == test_feat.max(axis = 0))[0]\n",
    "print(len(constant_col_idxs))\n",
    "constant_col_idxs"
   ]
  },
  {
   "cell_type": "code",
   "execution_count": null,
   "id": "84c940aa",
   "metadata": {},
   "outputs": [],
   "source": []
  },
  {
   "cell_type": "code",
   "execution_count": null,
   "id": "93f98fda",
   "metadata": {},
   "outputs": [],
   "source": []
  },
  {
   "cell_type": "code",
   "execution_count": 14,
   "id": "bed633de",
   "metadata": {},
   "outputs": [
    {
     "name": "stdout",
     "output_type": "stream",
     "text": [
      "210\n"
     ]
    },
    {
     "data": {
      "text/plain": [
       "['[C;!R;COO]',\n",
       " '[C;R;CCCO]',\n",
       " '[s;R;CN]',\n",
       " '[CH2;R;NS]',\n",
       " '[n;R;CO]',\n",
       " '[O;R;CC]',\n",
       " '[C;R;CCCC]',\n",
       " '[C;R;CCCS]',\n",
       " '[N;!R;CN]',\n",
       " '[o;R;CC]',\n",
       " '[[N-];!R;N]',\n",
       " '[C;!R;CN]',\n",
       " '[c;R;CClS]',\n",
       " '[O;!R;C]',\n",
       " '[C;!R;CCCO]',\n",
       " '[CH2;!R;CS]',\n",
       " '[C;R;CCOO]',\n",
       " '[CH;R;CCO]',\n",
       " '[[C@@H];!R;CCN]',\n",
       " '[[C@H];R;CCC]',\n",
       " '[N;R;CCS]',\n",
       " '[C;!R;CCO]',\n",
       " '[[C@@H];R;CCN]',\n",
       " '[c;R;BrCS]',\n",
       " '5',\n",
       " '=',\n",
       " '[C;R;CNO]',\n",
       " '[NH;R;CC]',\n",
       " '[c;R;CFN]',\n",
       " '6',\n",
       " '[NH;!R;CDy]',\n",
       " '[c;R;CCN]',\n",
       " '[O;!R;S]',\n",
       " '[SH;!R;C]',\n",
       " '[Dy;!R;N]',\n",
       " '[C;!R;CClCl]',\n",
       " '[[C@H];!R;CCN]',\n",
       " '[Cl;!R;C]',\n",
       " '[c;R;BCC]',\n",
       " '[B;R;COO]',\n",
       " '[S;R;CCO]',\n",
       " '[C;!R;CFFF]',\n",
       " '[C;R;CCCF]',\n",
       " '[CH2;R;CS]',\n",
       " '[CH3;!R;C]',\n",
       " '[N;!R;CCS]',\n",
       " '[c;R;CNO]',\n",
       " '[nH;R;NN]',\n",
       " '[NH;!R;CC]',\n",
       " '[CH;R;CCS]',\n",
       " '[C;!R;CNO]',\n",
       " '[CH;!R;CC]',\n",
       " '[c;R;ClNS]',\n",
       " '[Si;!R;CCCC]',\n",
       " '[c;R;CNS]',\n",
       " '[CH;!R;CCC]',\n",
       " '[O;R;CN]',\n",
       " '[N;R;CCC]',\n",
       " '[c;R;COO]',\n",
       " '[o;R;NN]',\n",
       " '[CH;!R;FFO]',\n",
       " '[[C@@H];!R;CCO]',\n",
       " '[NH2;!R;C]',\n",
       " '[n;R;CN]',\n",
       " '[[C@H];R;CCO]',\n",
       " '[N;R;CCO]',\n",
       " '[CH2;!R;CN]',\n",
       " '[CH2;!R;C]',\n",
       " '[S;R;CC]',\n",
       " '[N;R;CN]',\n",
       " '[O;!R;CN]',\n",
       " '-',\n",
       " '[CH2;R;CN]',\n",
       " '[c;R;BrCC]',\n",
       " '[CH2;!R;CC]',\n",
       " '[n;R;CCC]',\n",
       " '[CH;!R;CCN]',\n",
       " '[CH;R;CCC]',\n",
       " '[c;R;NNO]',\n",
       " '[cH;R;CO]',\n",
       " '[CH;!R;CO]',\n",
       " '[CH;R;CCN]',\n",
       " '[N;R;CCN]',\n",
       " '[F;!R;C]',\n",
       " '[c;R;CCCl]',\n",
       " '[CH;R;CC]',\n",
       " '[C;!R;CCCl]',\n",
       " '[c;R;BrCN]',\n",
       " '[NH2;!R;S]',\n",
       " '[S;R;CCOO]',\n",
       " '[C;!R;COS]',\n",
       " '[C;!R;FFFO]',\n",
       " '[S;!R;CNOO]',\n",
       " '[C;R;NNS]',\n",
       " '[[C@];!R;CCCN]',\n",
       " '[CH2;R;CO]',\n",
       " '1',\n",
       " '[C;!R;CC]',\n",
       " '[N;!R;C]',\n",
       " '[[N+];!R;COO]',\n",
       " '[c;R;CNN]',\n",
       " '[CH3;!R;N]',\n",
       " '[C;R;CCO]',\n",
       " '[[C@@];!R;CCCN]',\n",
       " '[C;R;NNO]',\n",
       " '[C;R;CCC]',\n",
       " '[C;R;COO]',\n",
       " '[s;R;NN]',\n",
       " '[C;!R;CCOO]',\n",
       " '[cH;R;CC]',\n",
       " '#',\n",
       " '2',\n",
       " '[CH;!R;C]',\n",
       " '[CH;!R;CFF]',\n",
       " '[[C@@];R;CCCN]',\n",
       " '[n;R;CC]',\n",
       " '[CH3;!R;O]',\n",
       " '[cH;R;NN]',\n",
       " '4',\n",
       " '/',\n",
       " '[NH;!R;CS]',\n",
       " '[C;!R;NNO]',\n",
       " '[I;!R;C]',\n",
       " '[O;R;BC]',\n",
       " '[CH;R;CNN]',\n",
       " '[C;!R;CNN]',\n",
       " '(',\n",
       " '[cH;R;CN]',\n",
       " '[n;R;CCN]',\n",
       " '[nH;R;CN]',\n",
       " '[N;!R;CCC]',\n",
       " '[[C@@H];R;CCO]',\n",
       " '[C;R;CCCN]',\n",
       " '[CH2;R;OO]',\n",
       " '[c;R;CCF]',\n",
       " '[C;R;CCN]',\n",
       " '[C;!R;CCC]',\n",
       " '[[N+];!R;NN]',\n",
       " '[C;R;CCS]',\n",
       " '[C;R;NOO]',\n",
       " '[N;!R;CCO]',\n",
       " '[CH2;!R;CF]',\n",
       " '[c;R;NOS]',\n",
       " '[c;R;COS]',\n",
       " '[C;!R;CSi]',\n",
       " '[CH2;!R;CO]',\n",
       " '[CH;R;CNO]',\n",
       " '7',\n",
       " '[s;R;CC]',\n",
       " '[[O-];!R;N]',\n",
       " '[C;R;CCFF]',\n",
       " '[c;R;NSS]',\n",
       " '[[C@H];R;CCN]',\n",
       " '[N;R;CO]',\n",
       " '[NH;!R;C]',\n",
       " '9',\n",
       " '[[C@H];R;CCF]',\n",
       " '[[n+];R;CCO]',\n",
       " '[o;R;CN]',\n",
       " '[S;!R;CC]',\n",
       " '[S;R;CNOO]',\n",
       " '[c;R;CCS]',\n",
       " '[[C@];R;CCCN]',\n",
       " '[CH;!R;CCO]',\n",
       " '[S;!R;C]',\n",
       " '[CH;R;CSS]',\n",
       " '[PAD]',\n",
       " '[c;R;NNN]',\n",
       " '[CH;!R;FFN]',\n",
       " '[O;!R;CC]',\n",
       " '[CH;!R;CCS]',\n",
       " '[c;R;CClN]',\n",
       " '[C;R;NOS]',\n",
       " '[n;R;NN]',\n",
       " '[cH;R;NS]',\n",
       " '[CH2;!R;OO]',\n",
       " '[cH;R;CS]',\n",
       " '[OH;!R;C]',\n",
       " '[nH;R;CC]',\n",
       " '[c;R;CCI]',\n",
       " '[S;!R;CCO]',\n",
       " '[O;!R;N]',\n",
       " '[CH3;!R;S]',\n",
       " '[C;!R;CCCC]',\n",
       " '[cH;R;NO]',\n",
       " '[n;R;CS]',\n",
       " '[S;!R;CS]',\n",
       " '[CH;!R;BrC]',\n",
       " '[n;R;NS]',\n",
       " '[UNK]',\n",
       " '[c;R;FNN]',\n",
       " '8',\n",
       " '[c;R;ClNN]',\n",
       " '[C;!R;CCFF]',\n",
       " '[c;R;CCC]',\n",
       " '[CH2;R;CC]',\n",
       " '[N;R;CC]',\n",
       " '[[C@H];!R;CCO]',\n",
       " '[c;R;NNS]',\n",
       " '[Br;!R;C]',\n",
       " '[[C@@H];R;CCF]',\n",
       " '[C;!R;CCCN]',\n",
       " '[n;R;CNN]',\n",
       " ')',\n",
       " '[CH3;!R;Si]',\n",
       " '3',\n",
       " '[C;!R;NOO]',\n",
       " '[[C@@H];R;CCC]',\n",
       " '[c;R;CCO]',\n",
       " '[S;!R;CCOO]']"
      ]
     },
     "execution_count": 14,
     "metadata": {},
     "output_type": "execute_result"
    }
   ],
   "source": [
    "ais_train_tok = AutoTokenizer.from_pretrained('/home/dangnh36/datasets/competitions/leash_belka/processed/tokenizer/ais_train/')\n",
    "print(len(ais_train_tok))\n",
    "ais_train_tokens = list(ais_train_tok.get_vocab().keys())\n",
    "ais_train_tokens"
   ]
  },
  {
   "cell_type": "code",
   "execution_count": 15,
   "id": "2dee80b6",
   "metadata": {},
   "outputs": [
    {
     "name": "stdout",
     "output_type": "stream",
     "text": [
      "224\n"
     ]
    },
    {
     "data": {
      "text/plain": [
       "['[cH;R;CS]',\n",
       " '[CH;R;CCO]',\n",
       " '[CH2;R;CN]',\n",
       " '[F;!R;C]',\n",
       " '[C;!R;CCO]',\n",
       " '[c;R;CCC]',\n",
       " '[[C@H];R;CCO]',\n",
       " '[O;R;CC]',\n",
       " '[C;!R;CCCl]',\n",
       " '[O;!R;CC]',\n",
       " '[[N+];!R;NN]',\n",
       " '[CH;R;CCN]',\n",
       " '[C;R;COO]',\n",
       " '1',\n",
       " '[[C@@H];R;CCC]',\n",
       " '[C;!R;COO]',\n",
       " '[[C@@H];R;CCO]',\n",
       " '[CH2;!R;NN]',\n",
       " '[[C@];R;CCCN]',\n",
       " '[c;R;COO]',\n",
       " '[n;R;CCC]',\n",
       " '4',\n",
       " '[nH;R;NN]',\n",
       " '[nH;R;CN]',\n",
       " '[CH3;!R;Si]',\n",
       " '[CH;!R;CFF]',\n",
       " '[[C@H];R;CCC]',\n",
       " '9',\n",
       " '[CH2;!R;CC]',\n",
       " '=',\n",
       " '[CH3;!R;C]',\n",
       " '[S;!R;CC]',\n",
       " '[C;!R;CSi]',\n",
       " '[C;!R;CCC]',\n",
       " '[CH;R;CN]',\n",
       " '[C;R;CCO]',\n",
       " '[[C@@];R;CCCN]',\n",
       " '6',\n",
       " '[C;R;CNN]',\n",
       " '[S;!R;NNOO]',\n",
       " '[C;R;CCC]',\n",
       " '[CH2;!R;CF]',\n",
       " '[N;!R;CCC]',\n",
       " '[CH2;R;CS]',\n",
       " '[[C@H];!R;CCO]',\n",
       " '[CH2;R;OO]',\n",
       " '[NH;!R;CC]',\n",
       " '[CH;R;CO]',\n",
       " '[N;R;CCC]',\n",
       " '[C;R;CCCC]',\n",
       " '[S;!R;CCOO]',\n",
       " '[C;!R;CNS]',\n",
       " '[cH;R;CO]',\n",
       " '[C;!R;CCCC]',\n",
       " '[[C@@H];!R;CCO]',\n",
       " '[S;!R;CNOO]',\n",
       " '[C;R;CCFF]',\n",
       " '[N;R;CCN]',\n",
       " '[[N-];!R;N]',\n",
       " '[C;!R;CNO]',\n",
       " '[CH;!R;FFN]',\n",
       " '[C;R;CCS]',\n",
       " '-',\n",
       " '[cH;R;NO]',\n",
       " '[[C@@];R;CCCC]',\n",
       " '[C;!R;CNN]',\n",
       " '[S;R;CNOO]',\n",
       " '[CH;R;CC]',\n",
       " '[s;R;CN]',\n",
       " '[CH;R;CNN]',\n",
       " '[C;!R;CClCl]',\n",
       " '[N;!R;CCS]',\n",
       " '[N;!R;CN]',\n",
       " '[[n+];R;CCO]',\n",
       " '[C;R;FFOO]',\n",
       " '[Cl;!R;C]',\n",
       " '[nH;R;CC]',\n",
       " '[S;!R;CCO]',\n",
       " '[C;!R;CCCN]',\n",
       " '2',\n",
       " '[cH;R;CN]',\n",
       " '[PAD]',\n",
       " '[CH2;!R;OO]',\n",
       " '[[C@];!R;CCCN]',\n",
       " '[c;R;CNO]',\n",
       " '[c;R;COS]',\n",
       " '5',\n",
       " '[CH;!R;CCS]',\n",
       " '[N;R;CC]',\n",
       " '[n;R;NN]',\n",
       " '[N;R;CO]',\n",
       " '[c;R;NSS]',\n",
       " '[S;!R;C]',\n",
       " '[OH;!R;C]',\n",
       " '[C;!R;COS]',\n",
       " '[s;R;NN]',\n",
       " '8',\n",
       " '[[O-];!R;N]',\n",
       " '[UNK]',\n",
       " '[CH;!R;BrC]',\n",
       " '[C;!R;CC]',\n",
       " '[NH;!R;CS]',\n",
       " '[CH3;!R;N]',\n",
       " '[c;R;CSS]',\n",
       " '[CH3;!R;O]',\n",
       " '[O;!R;S]',\n",
       " '[CH2;!R;CS]',\n",
       " '[N;!R;CCO]',\n",
       " '[c;R;CCO]',\n",
       " '[N;R;CCO]',\n",
       " '[[C@@];!R;CCCN]',\n",
       " '[n;R;CNN]',\n",
       " '[C;R;CCOO]',\n",
       " '[O;!R;C]',\n",
       " '[CH;!R;C]',\n",
       " '[c;R;NNN]',\n",
       " '[s;R;CC]',\n",
       " '[[C@H];R;CCF]',\n",
       " '[C;R;CCN]',\n",
       " '[c;R;CCCl]',\n",
       " '[CH;!R;CCO]',\n",
       " '[n;R;NS]',\n",
       " '[c;R;NOS]',\n",
       " '[c;R;ClNS]',\n",
       " '[NH;!R;CDy]',\n",
       " '[cH;R;NN]',\n",
       " '[N;R;CN]',\n",
       " '[N;!R;C]',\n",
       " '[C;!R;CN]',\n",
       " '[n;R;CS]',\n",
       " '[[C@@H];R;CCF]',\n",
       " '[CH2;!R;NO]',\n",
       " '[B;R;COO]',\n",
       " '[CH;R;CSS]',\n",
       " '[c;R;CCI]',\n",
       " '[CH;!R;CCC]',\n",
       " '[C;R;NNO]',\n",
       " '[c;R;BrCS]',\n",
       " '[C;R;CCCO]',\n",
       " '[c;R;CClS]',\n",
       " '[C;R;CCCF]',\n",
       " '[c;R;NOO]',\n",
       " '[CH3;!R;S]',\n",
       " '[O;!R;N]',\n",
       " '[S;!R;CS]',\n",
       " '[CH;!R;CO]',\n",
       " '[NH2;!R;C]',\n",
       " '7',\n",
       " '[cH;R;NS]',\n",
       " '[CH;R;CCC]',\n",
       " '[S;R;CC]',\n",
       " '[CH2;R;CC]',\n",
       " '[Dy;!R;N]',\n",
       " '[c;R;CFN]',\n",
       " '[[C@H];!R;CCN]',\n",
       " '[CH;R;CCS]',\n",
       " '[o;R;CC]',\n",
       " '[NH;R;CC]',\n",
       " '[[C@H];R;CCN]',\n",
       " '[c;R;CClN]',\n",
       " '[[C@@H];!R;CCN]',\n",
       " '[C;!R;CCFF]',\n",
       " '#',\n",
       " '[c;R;NNS]',\n",
       " '[S;R;CCO]',\n",
       " '[c;R;BCC]',\n",
       " '(',\n",
       " '[S;R;CCOO]',\n",
       " '[C;!R;NNO]',\n",
       " '[n;R;CCN]',\n",
       " '[C;R;NOO]',\n",
       " '[N;R;CCS]',\n",
       " '[C;R;CCCS]',\n",
       " '[c;R;CNS]',\n",
       " '[Si;!R;CCCC]',\n",
       " '[CH2;R;CO]',\n",
       " '[n;R;CN]',\n",
       " '[c;R;CNN]',\n",
       " '[CH;R;CCF]',\n",
       " ')',\n",
       " '[[N+];!R;COO]',\n",
       " '[c;R;CCN]',\n",
       " '[n;R;CO]',\n",
       " '[CH;!R;CCN]',\n",
       " '[C;!R;CCOO]',\n",
       " '[NH;!R;C]',\n",
       " '[C;!R;CFFF]',\n",
       " '[n;R;CC]',\n",
       " '[O;!R;CN]',\n",
       " '[O;R;BC]',\n",
       " '[[C@];R;CCCC]',\n",
       " '3',\n",
       " '[CH2;!R;C]',\n",
       " '[C;R;NNS]',\n",
       " '[C;!R;CCCO]',\n",
       " '[CH;R;CNO]',\n",
       " '[c;R;FNN]',\n",
       " '[C;R;CCCN]',\n",
       " '[CH2;!R;CO]',\n",
       " '[C;R;CNO]',\n",
       " '[SH;!R;C]',\n",
       " '[CH;!R;CCF]',\n",
       " '[cH;R;CC]',\n",
       " '[c;R;BrCC]',\n",
       " '[CH;!R;FFO]',\n",
       " '[Br;!R;C]',\n",
       " '[I;!R;C]',\n",
       " '[c;R;CCF]',\n",
       " '[C;!R;FFFO]',\n",
       " '[c;R;ClNN]',\n",
       " '[C;R;NOS]',\n",
       " '/',\n",
       " '[[C@@H];R;CCN]',\n",
       " '[CH2;!R;CN]',\n",
       " '[c;R;CCS]',\n",
       " '[C;!R;NOO]',\n",
       " '[c;R;NNO]',\n",
       " '[O;R;CN]',\n",
       " '[o;R;CN]',\n",
       " '[NH2;!R;S]',\n",
       " '[c;R;BrCN]',\n",
       " '[o;R;NN]',\n",
       " '[CH;!R;CC]',\n",
       " '[CH2;R;NS]']"
      ]
     },
     "execution_count": 15,
     "metadata": {},
     "output_type": "execute_result"
    }
   ],
   "source": [
    "ais_test_tok = AutoTokenizer.from_pretrained('/home/dangnh36/datasets/competitions/leash_belka/processed/tokenizer/ais_test/')\n",
    "print(len(ais_test_tok))\n",
    "ais_test_tokens = list(ais_test_tok.get_vocab().keys())\n",
    "ais_test_tokens"
   ]
  },
  {
   "cell_type": "code",
   "execution_count": null,
   "id": "416b47fa",
   "metadata": {},
   "outputs": [],
   "source": []
  },
  {
   "cell_type": "code",
   "execution_count": null,
   "id": "9da4803d",
   "metadata": {},
   "outputs": [],
   "source": []
  },
  {
   "cell_type": "code",
   "execution_count": 17,
   "id": "0f4dde1b",
   "metadata": {},
   "outputs": [
    {
     "name": "stdout",
     "output_type": "stream",
     "text": [
      "224\n"
     ]
    },
    {
     "data": {
      "text/plain": [
       "PreTrainedTokenizerFast(name_or_path='', vocab_size=224, model_max_length=512, is_fast=True, padding_side='right', truncation_side='right', special_tokens={'unk_token': '[UNK]', 'pad_token': '[PAD]'}, clean_up_tokenization_spaces=True),  added_tokens_decoder={\n",
       "\t0: AddedToken(\"[PAD]\", rstrip=False, lstrip=False, single_word=False, normalized=False, special=True),\n",
       "\t1: AddedToken(\"[UNK]\", rstrip=False, lstrip=False, single_word=False, normalized=False, special=True),\n",
       "}"
      ]
     },
     "execution_count": 17,
     "metadata": {},
     "output_type": "execute_result"
    }
   ],
   "source": [
    "saved_tokenizer = PreTrainedTokenizerFast(\n",
    "        model_max_length = 512,\n",
    "        padding_side = 'right',\n",
    "        tokenizer_file = '/home/dangnh36/datasets/competitions/leash_belka/processed/features/ais/tokenizer.json',\n",
    "        unk_token='[UNK]',\n",
    "        pad_token = '[PAD]',\n",
    ")\n",
    "print(len(saved_tokenizer))\n",
    "saved_test_tokens = list(saved_tokenizer.get_vocab().keys())\n",
    "saved_tokenizer"
   ]
  },
  {
   "cell_type": "code",
   "execution_count": null,
   "id": "e77f4677",
   "metadata": {},
   "outputs": [],
   "source": []
  },
  {
   "cell_type": "code",
   "execution_count": null,
   "id": "93fd01fe",
   "metadata": {},
   "outputs": [],
   "source": []
  },
  {
   "cell_type": "code",
   "execution_count": null,
   "id": "c9a599bb",
   "metadata": {},
   "outputs": [],
   "source": []
  },
  {
   "cell_type": "code",
   "execution_count": 6,
   "id": "52150833",
   "metadata": {},
   "outputs": [
    {
     "data": {
      "text/plain": [
       "{'[C;!R;CNS]',\n",
       " '[C;R;CNN]',\n",
       " '[C;R;FFOO]',\n",
       " '[CH2;!R;NN]',\n",
       " '[CH2;!R;NO]',\n",
       " '[CH;!R;CCF]',\n",
       " '[CH;R;CCF]',\n",
       " '[CH;R;CN]',\n",
       " '[CH;R;CO]',\n",
       " '[S;!R;NNOO]',\n",
       " '[[C@@];R;CCCC]',\n",
       " '[[C@];R;CCCC]',\n",
       " '[c;R;CSS]',\n",
       " '[c;R;NOO]'}"
      ]
     },
     "execution_count": 6,
     "metadata": {},
     "output_type": "execute_result"
    }
   ],
   "source": [
    "set(ais_test_tokens).difference(set(ais_train_tokens))"
   ]
  },
  {
   "cell_type": "code",
   "execution_count": 18,
   "id": "7398cadc",
   "metadata": {},
   "outputs": [
    {
     "data": {
      "text/plain": [
       "{'[C;!R;CNS]',\n",
       " '[C;R;CNN]',\n",
       " '[C;R;FFOO]',\n",
       " '[CH2;!R;NN]',\n",
       " '[CH2;!R;NO]',\n",
       " '[CH;!R;CCF]',\n",
       " '[CH;R;CCF]',\n",
       " '[CH;R;CN]',\n",
       " '[CH;R;CO]',\n",
       " '[S;!R;NNOO]',\n",
       " '[[C@@];R;CCCC]',\n",
       " '[[C@];R;CCCC]',\n",
       " '[c;R;CSS]',\n",
       " '[c;R;NOO]'}"
      ]
     },
     "execution_count": 18,
     "metadata": {},
     "output_type": "execute_result"
    }
   ],
   "source": [
    "set(saved_test_tokens).difference(set(ais_train_tokens))"
   ]
  },
  {
   "cell_type": "code",
   "execution_count": 19,
   "id": "1fa0ecaa",
   "metadata": {},
   "outputs": [
    {
     "data": {
      "text/plain": [
       "True"
      ]
     },
     "execution_count": 19,
     "metadata": {},
     "output_type": "execute_result"
    }
   ],
   "source": [
    "set(saved_test_tokens).difference(set(ais_train_tokens)) == set(ais_test_tokens).difference(set(ais_train_tokens))"
   ]
  },
  {
   "cell_type": "code",
   "execution_count": null,
   "id": "a9a8cdf0",
   "metadata": {},
   "outputs": [],
   "source": []
  },
  {
   "cell_type": "code",
   "execution_count": 7,
   "id": "4d19f91d",
   "metadata": {},
   "outputs": [
    {
     "data": {
      "text/plain": [
       "set()"
      ]
     },
     "execution_count": 7,
     "metadata": {},
     "output_type": "execute_result"
    }
   ],
   "source": [
    "set(ais_train_tokens).difference(set(ais_test_tokens))"
   ]
  },
  {
   "cell_type": "code",
   "execution_count": 22,
   "id": "534b587f",
   "metadata": {},
   "outputs": [
    {
     "data": {
      "text/plain": [
       "[194, 220, 155, 111, 197, 161, 105, 198, 146, 162, 195, 219, 151, 163]"
      ]
     },
     "execution_count": 22,
     "metadata": {},
     "output_type": "execute_result"
    }
   ],
   "source": [
    "ais_test_vocab = ais_test_tok.get_vocab()\n",
    "unk_token_ids = [\n",
    "    saved_tokenizer.get_vocab()[k] for k in set(saved_test_tokens).difference(set(ais_train_tokens))\n",
    "]\n",
    "unk_token_ids"
   ]
  },
  {
   "cell_type": "code",
   "execution_count": null,
   "id": "f442605d",
   "metadata": {},
   "outputs": [],
   "source": []
  },
  {
   "cell_type": "code",
   "execution_count": 10,
   "id": "2ef93122",
   "metadata": {},
   "outputs": [
    {
     "data": {
      "text/plain": [
       "(878022, 115)"
      ]
     },
     "execution_count": 10,
     "metadata": {},
     "output_type": "execute_result"
    }
   ],
   "source": [
    "ais_test_feat = np.load('/home/dangnh36/datasets/competitions/leash_belka/processed/features/ais/test.npy')\n",
    "ais_test_feat.shape"
   ]
  },
  {
   "cell_type": "code",
   "execution_count": 34,
   "id": "e15f69c1",
   "metadata": {},
   "outputs": [
    {
     "data": {
      "text/plain": [
       "(10000000, 126)"
      ]
     },
     "execution_count": 34,
     "metadata": {},
     "output_type": "execute_result"
    }
   ],
   "source": [
    "ais_train_feat = np.load('/home/dangnh36/datasets/competitions/leash_belka/processed/features/ais/train.npy', mmap_mode='r')[:10_000_000]\n",
    "ais_train_feat.shape"
   ]
  },
  {
   "cell_type": "code",
   "execution_count": null,
   "id": "b581127b",
   "metadata": {},
   "outputs": [],
   "source": []
  },
  {
   "cell_type": "code",
   "execution_count": null,
   "id": "923184e9",
   "metadata": {},
   "outputs": [],
   "source": []
  },
  {
   "cell_type": "code",
   "execution_count": null,
   "id": "56685dae",
   "metadata": {},
   "outputs": [],
   "source": []
  },
  {
   "cell_type": "code",
   "execution_count": null,
   "id": "20c78632",
   "metadata": {},
   "outputs": [],
   "source": []
  },
  {
   "cell_type": "code",
   "execution_count": null,
   "id": "732f3ad4",
   "metadata": {},
   "outputs": [],
   "source": []
  },
  {
   "cell_type": "code",
   "execution_count": 35,
   "id": "8ef9bbb7",
   "metadata": {},
   "outputs": [
    {
     "name": "stdout",
     "output_type": "stream",
     "text": [
      "0 194\n",
      "1 220\n",
      "2 155\n",
      "3 111\n",
      "4 197\n",
      "5 161\n",
      "6 105\n",
      "7 198\n",
      "8 146\n",
      "9 162\n",
      "10 195\n",
      "11 219\n",
      "12 151\n",
      "13 163\n"
     ]
    }
   ],
   "source": [
    "for i, unk_tok_id in enumerate(unk_token_ids):\n",
    "    print(i, unk_tok_id)\n",
    "    assert np.any(ais_test_feat==unk_tok_id)\n",
    "    assert np.all(ais_train_feat != unk_tok_id)"
   ]
  },
  {
   "cell_type": "code",
   "execution_count": null,
   "id": "2c4894d2",
   "metadata": {},
   "outputs": [],
   "source": []
  },
  {
   "cell_type": "code",
   "execution_count": null,
   "id": "2b482a6c",
   "metadata": {},
   "outputs": [],
   "source": []
  },
  {
   "cell_type": "code",
   "execution_count": 33,
   "id": "4b1dd75d",
   "metadata": {},
   "outputs": [
    {
     "data": {
      "text/plain": [
       "[105, 111, 146, 151, 155, 161, 162, 163, 194, 195, 197, 198, 219, 220]"
      ]
     },
     "execution_count": 33,
     "metadata": {},
     "output_type": "execute_result"
    }
   ],
   "source": [
    "sorted([194, 220, 155, 111, 197, 161, 105, 198, 146, 162, 195, 219, 151, 163])"
   ]
  },
  {
   "cell_type": "code",
   "execution_count": 39,
   "id": "1021eaf0",
   "metadata": {},
   "outputs": [
    {
     "data": {
      "text/plain": [
       "0"
      ]
     },
     "execution_count": 39,
     "metadata": {},
     "output_type": "execute_result"
    }
   ],
   "source": [
    "saved_tokenizer.get_vocab()['[PAD]']"
   ]
  },
  {
   "cell_type": "code",
   "execution_count": null,
   "id": "f3baa51f",
   "metadata": {},
   "outputs": [],
   "source": []
  },
  {
   "cell_type": "code",
   "execution_count": null,
   "id": "b182c5a5",
   "metadata": {},
   "outputs": [],
   "source": []
  },
  {
   "cell_type": "code",
   "execution_count": null,
   "id": "c1260212",
   "metadata": {},
   "outputs": [],
   "source": []
  },
  {
   "cell_type": "code",
   "execution_count": null,
   "id": "be3fd996",
   "metadata": {},
   "outputs": [],
   "source": []
  },
  {
   "cell_type": "code",
   "execution_count": null,
   "id": "acf1ce3d",
   "metadata": {},
   "outputs": [],
   "source": []
  },
  {
   "cell_type": "code",
   "execution_count": null,
   "id": "6964076b",
   "metadata": {},
   "outputs": [],
   "source": []
  },
  {
   "cell_type": "code",
   "execution_count": null,
   "id": "f4f711c7",
   "metadata": {},
   "outputs": [],
   "source": []
  },
  {
   "cell_type": "code",
   "execution_count": null,
   "id": "a4fbdd3f",
   "metadata": {},
   "outputs": [],
   "source": []
  },
  {
   "cell_type": "code",
   "execution_count": null,
   "id": "1163d2b1",
   "metadata": {},
   "outputs": [],
   "source": []
  }
 ],
 "metadata": {
  "kernelspec": {
   "display_name": "Python 3 (ipykernel)",
   "language": "python",
   "name": "python3"
  },
  "language_info": {
   "codemirror_mode": {
    "name": "ipython",
    "version": 3
   },
   "file_extension": ".py",
   "mimetype": "text/x-python",
   "name": "python",
   "nbconvert_exporter": "python",
   "pygments_lexer": "ipython3",
   "version": "3.10.13"
  }
 },
 "nbformat": 4,
 "nbformat_minor": 5
}
