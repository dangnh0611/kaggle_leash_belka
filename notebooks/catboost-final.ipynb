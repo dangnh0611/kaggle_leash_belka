{
 "cells": [
  {
   "cell_type": "code",
   "execution_count": 1,
   "id": "fdf43856",
   "metadata": {},
   "outputs": [
    {
     "name": "stderr",
     "output_type": "stream",
     "text": [
      "No normalization for SPS. Feature removed!\n",
      "No normalization for AvgIpc. Feature removed!\n",
      "Skipped loading some Tensorflow models, missing a dependency. No module named 'tensorflow'\n",
      "Skipped loading modules with pytorch-geometric dependency, missing a dependency. No module named 'dgl'\n",
      "Skipped loading some Jax models, missing a dependency. No module named 'jax'\n",
      "Skipped loading some PyTorch models, missing a dependency. No module named 'tensorflow'\n"
     ]
    },
    {
     "data": {
      "text/plain": [
       "polars.config.Config"
      ]
     },
     "execution_count": 1,
     "metadata": {},
     "output_type": "execute_result"
    }
   ],
   "source": [
    "import pandas as pd\n",
    "import numpy as np\n",
    "import os\n",
    "import sys\n",
    "import polars as pl\n",
    "import json\n",
    "from joblib import Parallel, delayed\n",
    "import deepchem\n",
    "from tqdm import tqdm\n",
    "import warnings\n",
    "warnings.filterwarnings(\"ignore\")\n",
    "from sklearn.model_selection import StratifiedGroupKFold, GroupKFold, KFold, GroupShuffleSplit, ShuffleSplit\n",
    "import gc\n",
    "import random\n",
    "from functools import partial\n",
    "import catboost\n",
    "from catboost import FeaturesData, Pool, CatBoost, CatBoostClassifier, CatBoostRegressor, CatBoostRanker\n",
    "import time\n",
    "import math\n",
    "from sklearn.metrics import average_precision_score\n",
    "import sys\n",
    "sys.path.append('../')\n",
    "from src.utils.metrics import compute_metrics\n",
    "from src.utils.misc import dict_as_table\n",
    "\n",
    "# Configure Polars \n",
    "cfg = pl.Config()\n",
    "cfg.set_tbl_rows(20)\n",
    "cfg.set_tbl_cols(50)"
   ]
  },
  {
   "cell_type": "code",
   "execution_count": 2,
   "id": "c880b767-811c-44ca-838d-b8be800bf3d5",
   "metadata": {},
   "outputs": [],
   "source": [
    "DATA_DIR = '/home/dangnh36/datasets/competitions/leash_belka/'\n",
    "FEATURE_DIR = '/home/dangnh36/datasets/competitions/leash_belka/processed/features/'\n",
    "FEATURE_NAMES = ['ecfp6']\n",
    "CV_STRATEGY = 'kf500'\n",
    "CV_FOLD_IDX = 0\n",
    "TRAIN_SUBSET = 'train'\n",
    "\n",
    "PROTEINS = ['BRD4', 'HSA', 'sEH']\n",
    "PRED_COLS = [f'pred_{col}' for col in PROTEINS]\n",
    "TARGET_COLS = [f'target_{col}' for col in PROTEINS]"
   ]
  },
  {
   "cell_type": "code",
   "execution_count": null,
   "id": "8c8daaf6-51ea-4026-b4f6-60471e76565f",
   "metadata": {},
   "outputs": [],
   "source": []
  },
  {
   "cell_type": "markdown",
   "id": "09d74951-151f-4796-a6e6-8f9acacc0015",
   "metadata": {},
   "source": [
    "# Utils"
   ]
  },
  {
   "cell_type": "code",
   "execution_count": 3,
   "id": "b3c1b81f-592d-4290-a76e-1082fdf5e006",
   "metadata": {},
   "outputs": [],
   "source": [
    "_CUR_TIME = None\n",
    "def log(*args, **kwargs):\n",
    "    global _CUR_TIME\n",
    "    if _CUR_TIME is None:\n",
    "        print('Start logging time..')\n",
    "        _CUR_TIME = time.time()\n",
    "    else:\n",
    "        cur_time = time.time()\n",
    "        take = round(cur_time - _CUR_TIME, 2)\n",
    "        _CUR_TIME = cur_time\n",
    "        if len(args) > 0:\n",
    "            print(f'[{take} s]', *args, **kwargs)\n",
    "\n",
    "            \n",
    "def evaluate(val_df, preds):\n",
    "    val_df = val_df.copy()\n",
    "    val_df[PRED_COLS] = preds\n",
    "    metrics = compute_metrics(val_df)\n",
    "    return metrics"
   ]
  },
  {
   "cell_type": "code",
   "execution_count": null,
   "id": "6113c2d1-e4db-4566-98c4-75523eb49cea",
   "metadata": {},
   "outputs": [],
   "source": []
  },
  {
   "cell_type": "markdown",
   "id": "881c96ed-f136-4499-85bf-950546b8faf5",
   "metadata": {},
   "source": [
    "## Load train-test split"
   ]
  },
  {
   "cell_type": "code",
   "execution_count": 4,
   "id": "1cf415e5-9696-41c0-9bd6-6b654c9da577",
   "metadata": {},
   "outputs": [],
   "source": [
    "TRAIN_LEN = 98_415_610\n",
    "TEST_LEN = 878_022\n",
    "\n",
    "\n",
    "def load_cv_split(data_dir, cv_strategy, cv_fold_idx, stage = 'train'):\n",
    "    val_df = None\n",
    "    idxs = None\n",
    "    if 'kf' in cv_strategy:\n",
    "        if stage == 'train':\n",
    "            filter_cond = pl.col('fold_idx') != cv_fold_idx\n",
    "        elif stage == 'val':\n",
    "            filter_cond = pl.col('fold_idx') == cv_fold_idx\n",
    "        val_df = pl.scan_csv(\n",
    "            os.path.join(data_dir, 'processed', 'cv', cv_strategy,\n",
    "                         'cv.csv')).filter(filter_cond).select(\n",
    "                             pl.col('index'), subset=pl.lit(3).cast(pl.UInt8)).collect().to_pandas()\n",
    "        idxs = val_df['index'].to_numpy()\n",
    "    else:\n",
    "        if stage == 'train':\n",
    "#             if cv_fold_idx == 611:\n",
    "#                 raise NotImplementedError\n",
    "#                 idxs = np.arange(0, len(features))\n",
    "#             else:\n",
    "#                 idxs = pl.scan_csv(\n",
    "#                     os.path.join(\n",
    "#                         data_dir, 'processed', 'cv', cv_strategy,\n",
    "#                         'train.csv')).select(pl.col(\n",
    "#                             'index')).collect().to_numpy().flatten()\n",
    "\n",
    "            val_df = pl.scan_csv(\n",
    "                os.path.join(data_dir, 'processed', 'cv', cv_strategy,\n",
    "                             'val.csv')).filter(pl.col('subset').is_in([2, 3])).select(\n",
    "                                 pl.col('index'),\n",
    "                                 pl.col('subset').cast(\n",
    "                                     pl.UInt8)).collect().to_pandas()\n",
    "            val_idxs = val_df['index'].to_numpy()\n",
    "            idxs = np.array(sorted(list(set(range(TRAIN_LEN)).difference(set(val_idxs)))))\n",
    "            val_df = None\n",
    "        elif stage == 'val':\n",
    "            val_df = pl.scan_csv(\n",
    "                os.path.join(data_dir, 'processed', 'cv', cv_strategy,\n",
    "                             'val.csv')).filter(pl.col('subset').is_in([2, 3])).select(\n",
    "                                 pl.col('index'),\n",
    "                                 pl.col('subset').cast(\n",
    "                                     pl.UInt8)).collect().to_pandas()\n",
    "            idxs = val_df['index'].to_numpy()\n",
    "        else:\n",
    "            raise AssertionError\n",
    "    return val_df, idxs"
   ]
  },
  {
   "cell_type": "code",
   "execution_count": 5,
   "id": "5a693416-531e-4390-b169-db99932af39d",
   "metadata": {},
   "outputs": [
    {
     "data": {
      "text/plain": [
       "((196832, 2),\n",
       " (196832,),\n",
       "              index  subset\n",
       " 0                0       3\n",
       " 1                1       3\n",
       " 2                2       3\n",
       " 3                3       3\n",
       " 4                4       3\n",
       " ...            ...     ...\n",
       " 98218773  98415605       3\n",
       " 98218774  98415606       3\n",
       " 98218775  98415607       3\n",
       " 98218776  98415608       3\n",
       " 98218777  98415609       3\n",
       " \n",
       " [98218778 rows x 2 columns],\n",
       " (98218778,))"
      ]
     },
     "execution_count": 5,
     "metadata": {},
     "output_type": "execute_result"
    }
   ],
   "source": [
    "val_df, val_idxs = load_cv_split(DATA_DIR, CV_STRATEGY, CV_FOLD_IDX, 'val')\n",
    "\n",
    "if TRAIN_SUBSET == 'train': \n",
    "    train_df, train_idxs = load_cv_split(DATA_DIR, CV_STRATEGY, CV_FOLD_IDX, 'train')\n",
    "else:\n",
    "    # subset only\n",
    "    train_df = None\n",
    "    train_idxs = pl.scan_csv('/home/dangnh36/datasets/competitions/leash_belka/processed/cv/train_5_7.8M_idxs.csv').\\\n",
    "        collect()['index'].to_numpy()\n",
    "\n",
    "val_df.shape, val_idxs.shape, train_df, train_idxs.shape if train_idxs is not None else None"
   ]
  },
  {
   "cell_type": "code",
   "execution_count": 6,
   "id": "b3f931fe",
   "metadata": {},
   "outputs": [
    {
     "data": {
      "text/plain": [
       "True"
      ]
     },
     "execution_count": 6,
     "metadata": {},
     "output_type": "execute_result"
    }
   ],
   "source": [
    "193994 + 98221616 == TRAIN_LEN"
   ]
  },
  {
   "cell_type": "code",
   "execution_count": null,
   "id": "8b834ffb",
   "metadata": {},
   "outputs": [],
   "source": []
  },
  {
   "cell_type": "code",
   "execution_count": null,
   "id": "51b3e775",
   "metadata": {},
   "outputs": [],
   "source": []
  },
  {
   "cell_type": "markdown",
   "id": "7c0190b2-22ac-4d26-9fd8-e6c009a53627",
   "metadata": {},
   "source": [
    "# Load data into RAM"
   ]
  },
  {
   "cell_type": "code",
   "execution_count": null,
   "id": "10cacec2",
   "metadata": {},
   "outputs": [],
   "source": []
  },
  {
   "cell_type": "markdown",
   "id": "14f02f54",
   "metadata": {},
   "source": [
    "#### RDKit Descriptor"
   ]
  },
  {
   "cell_type": "code",
   "execution_count": 7,
   "id": "13f9f373",
   "metadata": {},
   "outputs": [],
   "source": [
    "def unpackbits_hook(features):\n",
    "    features = np.unpackbits(features, axis = -1)\n",
    "    return features    \n"
   ]
  },
  {
   "cell_type": "code",
   "execution_count": 8,
   "id": "cdc869fc",
   "metadata": {},
   "outputs": [],
   "source": [
    "FEATURE_META = {\n",
    "    'ecfp6': {\n",
    "        # must ignore after unpackbits\n",
    "#         'ignore_cols': [39, 378, 397, 450, 650, 807, 1152, 1182, 1184, 1201, 1350, 1380, 1582, 1621, 1855, 1917, 1967, 2007],\n",
    "        'ignore_cols': [],\n",
    "        'process_hook': unpackbits_hook,\n",
    "        'debug': False\n",
    "    },\n",
    "    'rdkit210':{\n",
    "        'ignore_cols': [10, 69, 82, 125, 157, 158, 160, 162, 163, 164, 168, 170, 174, 175, 178, 186, 192, 193, 197, 199, 206],\n",
    "        'process_hook': None,\n",
    "        'debug': True\n",
    "    }\n",
    "}"
   ]
  },
  {
   "cell_type": "code",
   "execution_count": 9,
   "id": "3674ee3c",
   "metadata": {},
   "outputs": [],
   "source": [
    "class Feature:\n",
    "    def __init__(self, feature, ignore_cols = [], process_hook = None):\n",
    "        self._feature = feature\n",
    "        self.num_rows, self.num_cols = feature.shape\n",
    "        self.ignore_cols = ignore_cols\n",
    "        self.keep_cols = sorted(list(set(range(self.num_cols)).difference(set(self.ignore_cols))))\n",
    "        self.process_hook = process_hook\n",
    "        \n",
    "    @property\n",
    "    def shape(self):\n",
    "        return self._feature.shape\n",
    "        \n",
    "    def load(self, idxs):\n",
    "        ret = self._feature[np.ix_(idxs, self.keep_cols)]\n",
    "        if self.process_hook is not None:\n",
    "            ret = self.process_hook(ret)\n",
    "        return ret\n",
    "\n",
    "    \n",
    "def load_features(feature_dir, feature_names, split = 'train', backend = 'mmap'):\n",
    "    all_features = []\n",
    "    meta = {}\n",
    "    for feature_name in feature_names:        \n",
    "        if backend == 'mmap':\n",
    "            print(f'Loadding feature {feature_name} with backend {backend}')\n",
    "            fname = os.path.join(feature_dir, feature_name, f'{split}.npy')\n",
    "            feat = np.load(fname, mmap_mode='r')\n",
    "            feat = Feature(feat,\n",
    "                           ignore_cols = FEATURE_META[feature_name]['ignore_cols'],\n",
    "                           process_hook = FEATURE_META[feature_name]['process_hook'],\n",
    "                          )\n",
    "        else:\n",
    "            raise NotImplementedError\n",
    "        all_features.append(feat)\n",
    "    return all_features\n",
    "\n",
    "\n",
    "def combine_features(all_features, idxs):\n",
    "    features = [feat.load(idxs) for feat in all_features]\n",
    "    features = np.concatenate(features, axis = -1, dtype = np.float32) \\\n",
    "        if len(features) > 1 else features[0].astype(np.float32)\n",
    "    return features"
   ]
  },
  {
   "cell_type": "code",
   "execution_count": null,
   "id": "3358505c",
   "metadata": {},
   "outputs": [],
   "source": []
  },
  {
   "cell_type": "code",
   "execution_count": null,
   "id": "8f680cef",
   "metadata": {},
   "outputs": [],
   "source": []
  },
  {
   "cell_type": "code",
   "execution_count": 10,
   "id": "5f04277f-8342-4997-adbe-42aa7e3cc3b4",
   "metadata": {},
   "outputs": [
    {
     "name": "stdout",
     "output_type": "stream",
     "text": [
      "Loadding feature ecfp6 with backend mmap\n"
     ]
    },
    {
     "data": {
      "text/plain": [
       "[(__main__.Feature, (98415610, 256))]"
      ]
     },
     "execution_count": 10,
     "metadata": {},
     "output_type": "execute_result"
    }
   ],
   "source": [
    "all_features = load_features(FEATURE_DIR, FEATURE_NAMES, split = 'train', backend = 'mmap')\n",
    "[(type(feat), feat.shape) for feat in all_features]"
   ]
  },
  {
   "cell_type": "code",
   "execution_count": 11,
   "id": "02a3d2a9-07c9-4267-ace0-0aa136ec6310",
   "metadata": {},
   "outputs": [
    {
     "data": {
      "text/plain": [
       "(98415610, 3)"
      ]
     },
     "execution_count": 11,
     "metadata": {},
     "output_type": "execute_result"
    }
   ],
   "source": [
    "all_targets = pl.scan_csv(os.path.join(DATA_DIR, 'processed', 'train_v2.csv')).select(\n",
    "    pl.col('BRD4', 'HSA', 'sEH').cast(pl.UInt8), ).collect().to_numpy()\n",
    "all_targets.shape"
   ]
  },
  {
   "cell_type": "code",
   "execution_count": 12,
   "id": "21fb0fdb-2add-4692-bc26-4ed05e7f9aae",
   "metadata": {},
   "outputs": [
    {
     "name": "stdout",
     "output_type": "stream",
     "text": [
      "NUM POSITIVES: (1509779,)\n",
      "NUM NEGATIVES: (96905831,)\n"
     ]
    }
   ],
   "source": [
    "print('NUM POSITIVES:', np.where(all_targets.any(axis = -1))[0].shape)\n",
    "print('NUM NEGATIVES:', np.where(np.logical_not(all_targets.any(axis = -1)))[0].shape)"
   ]
  },
  {
   "cell_type": "code",
   "execution_count": null,
   "id": "5ea16790-e949-48db-a572-f36aeedfaf5d",
   "metadata": {},
   "outputs": [],
   "source": []
  },
  {
   "cell_type": "markdown",
   "id": "3c950bef-f836-4222-a542-b6363946d04c",
   "metadata": {},
   "source": [
    "# Split data into chunks for training (reproduce?)"
   ]
  },
  {
   "cell_type": "code",
   "execution_count": null,
   "id": "0b7abb22-fff3-48c4-99e3-afde9ffcccbb",
   "metadata": {},
   "outputs": [],
   "source": []
  },
  {
   "cell_type": "code",
   "execution_count": 13,
   "id": "92118a80-b853-4cf7-920f-6f5a404db063",
   "metadata": {},
   "outputs": [],
   "source": [
    "class RandomSampler:\n",
    "    \"\"\"This ensure every elements in arr will be sampled\n",
    "    \"\"\"\n",
    "    def __init__(self, arr):\n",
    "        self.arr = arr\n",
    "        self._len = len(arr)\n",
    "        self.pool = np.random.permutation(arr).tolist()\n",
    "        self.cover_all = False\n",
    "\n",
    "    def next(self, n):\n",
    "        while len(self.pool) < n:\n",
    "            self.pool.extend(np.random.permutation(self.arr))\n",
    "            self.cover_all = True\n",
    "        ret = self.pool[:n]\n",
    "        self.pool = self.pool[n:]\n",
    "        return ret\n",
    "\n",
    "\n",
    "def split_to_chunks(train_idxs, all_targets, neg_pos_ratio = 5.0, pos_per_chunk_fraction = 1.0, num_chunks = -1, random_state = 42):\n",
    "    train_targets = all_targets[train_idxs]\n",
    "    train_pos_idxs = train_idxs[np.where(train_targets.any(axis = -1))[0]]\n",
    "    train_neg_idxs = train_idxs[np.where(np.logical_not(train_targets.any(axis = -1)))[0]]\n",
    "    num_pos = len(train_pos_idxs)\n",
    "    num_neg = len(train_neg_idxs)\n",
    "    print(f'[TOTAL] pos={num_pos} neg={num_neg} neg/pos={num_neg/num_pos}')\n",
    "\n",
    "    # shuffle both\n",
    "    np.random.seed(random_state)\n",
    "    np.random.shuffle(train_pos_idxs)\n",
    "    np.random.shuffle(train_neg_idxs)\n",
    "\n",
    "    chunk_pos_idxs_generator = RandomSampler(train_pos_idxs)\n",
    "    chunk_neg_idxs_generator = RandomSampler(train_neg_idxs)\n",
    "\n",
    "    cur_chunk_idx = -1\n",
    "    while True:\n",
    "        cur_chunk_idx += 1\n",
    "        if (num_chunks > 0 and cur_chunk_idx > num_chunks -1) or \\\n",
    "            (num_chunks <= 0 and (chunk_pos_idxs_generator.cover_all and chunk_neg_idxs_generator.cover_all)):\n",
    "            break\n",
    "        \n",
    "        chunk_num_pos = int(num_pos * pos_per_chunk_fraction)\n",
    "        chunk_num_neg = int(chunk_num_pos * neg_pos_ratio)\n",
    "        chunk_pos_idxs = chunk_pos_idxs_generator.next(chunk_num_pos)\n",
    "        chunk_neg_idxs = chunk_neg_idxs_generator.next(chunk_num_neg)\n",
    "        yield chunk_pos_idxs, chunk_neg_idxs\n",
    "\n",
    "    print('ALL DONE!')\n",
    "    del chunk_pos_idxs_generator, chunk_neg_idxs_generator\n",
    "    gc.collect()"
   ]
  },
  {
   "cell_type": "code",
   "execution_count": null,
   "id": "1593e4fc-ac4a-4170-89aa-3297e33ff130",
   "metadata": {},
   "outputs": [],
   "source": []
  },
  {
   "cell_type": "code",
   "execution_count": 14,
   "id": "485e9d35-31b6-4697-8097-6f741d4ddb7d",
   "metadata": {},
   "outputs": [],
   "source": [
    "# Testing purpose\n",
    "if 0:\n",
    "    chunks_iter = split_to_chunks(train_idxs=train_idxs,\n",
    "                                  all_targets = all_targets,\n",
    "                                  neg_pos_ratio = 5.0,\n",
    "                                 pos_per_chunk_fraction=0.5,\n",
    "                                 num_chunks=-1)\n",
    "    \n",
    "    for chunk_idx, (chunk_pos_idxs, chunk_neg_idxs) in enumerate(chunks_iter):\n",
    "        print(f'chunk={chunk_idx} pos={len(chunk_pos_idxs)} neg={len(chunk_neg_idxs)}')"
   ]
  },
  {
   "cell_type": "code",
   "execution_count": null,
   "id": "39f90de4-abf3-4608-b836-b38f8e77d524",
   "metadata": {},
   "outputs": [],
   "source": []
  },
  {
   "cell_type": "code",
   "execution_count": null,
   "id": "34460d66-1568-4b1e-aa05-d62ef46d963f",
   "metadata": {},
   "outputs": [],
   "source": []
  },
  {
   "cell_type": "code",
   "execution_count": null,
   "id": "4e5cd717-614f-4154-bf98-ec136fbda398",
   "metadata": {},
   "outputs": [],
   "source": []
  },
  {
   "cell_type": "code",
   "execution_count": 15,
   "id": "231efe2d-39d5-44e4-b5e7-9b0b49af76dc",
   "metadata": {},
   "outputs": [],
   "source": [
    "CBM_DEFAULT_PARAMS = dict(\n",
    "    # Common settings\n",
    "    loss_function='MultiLogloss',\n",
    "    custom_metric=None,\n",
    "    eval_metric=None,\n",
    "    iterations=None,\n",
    "    learning_rate=None,\n",
    "    random_state=42,\n",
    "    l2_leaf_reg=None,\n",
    "    bootstrap_type=None,\n",
    "    bagging_temperature=None,\n",
    "    subsample=None,\n",
    "    sampling_frequency=None,  # PerTreeLevel | PerTree\n",
    "    sampling_unit=None,  # Object | Group\n",
    "    mvs_reg = None,\n",
    "    random_strength=None,\n",
    "    use_best_model = True,\n",
    "    best_model_min_trees = None,\n",
    "    max_depth = None,   # default = 6 | 16 if Lossguide\n",
    "    grow_policy = 'SymmetricTree',\n",
    "    min_data_in_leaf = None,\n",
    "    max_leaves = None,  # default = 31, Lossguide only\n",
    "    ignored_features = None,  # a list\n",
    "    one_hot_max_size = None,  # default to 2 usually\n",
    "    has_time = False,\n",
    "    rsm = None, # default = 1\n",
    "    nan_mode = 'Forbidden',\n",
    "    input_borders = None,   # should set\n",
    "    output_borders = None,  # should set\n",
    "    fold_permutation_block = None,  # default 1\n",
    "    leaf_estimation_method = None,\n",
    "    leaf_estimation_iterations = None,\n",
    "    leaf_estimation_backtracking = None, # AnyImprovement\n",
    "    fold_len_multiplier = None, # default 2\n",
    "    approx_on_full_history = None,  # default False -> faster but may less accurate\n",
    "    class_weights = None,   # list | dict | OrderedDict\n",
    "    classes_count = None,\n",
    "    class_names = None, # list of str\n",
    "    auto_class_weights = None, # None | Balanced | SqrtBalanced\n",
    "    scale_pos_weight = None,\n",
    "    boosting_type = None, # Ordered | Plain\n",
    "    boost_from_average = None,\n",
    "    langevin = None, # default False\n",
    "    diffusion_temperature = None,\n",
    "    posterior_sampling = None, # default False\n",
    "    allow_const_label = False,\n",
    "    score_function = None, # Cosine | L2 | NewtonCosine | NewtonL2\n",
    "    monotone_constraints = None, # prior knownledge\n",
    "    feature_weights = None, # prior knownledge or obtained from feature importance\n",
    "    first_feature_use_penalties = None, # ?\n",
    "    fixed_binary_splits = None, # ?\n",
    "    penalties_coefficient = None, # default 1\n",
    "    per_object_feature_penalties = None, # ?\n",
    "    model_shrink_rate = None, # ?\n",
    "    model_shrink_mode = None, # ?\n",
    "    # CTR Settings\n",
    "    simple_ctr = None,\n",
    "    combinations_ctr = None,\n",
    "    per_feature_ctr = None,\n",
    "    ctr_target_border_count = None,\n",
    "    counter_calc_method = None, # SkipTest | Full\n",
    "    max_ctr_complexity = None,  # default 4, 1 if multiclass\n",
    "    ctr_leaf_count_limit = None, # default to no limit\n",
    "    store_all_simple_ctr = None,\n",
    "    final_ctr_computation_mode = None,\n",
    "    # Output Settings\n",
    "    logging_level = 'Verbose',\n",
    "    metric_period = 100,\n",
    "    train_dir = 'runs/catboost/',\n",
    "    model_size_reg = None,  # default to 0.5, could try to turn off\n",
    "    allow_writing_files = True,\n",
    "    save_snapshot = True, # not supported in cv, should be disable when grid search\n",
    "    snapshot_file = None, # dangerous!\n",
    "    snapshot_interval = 600,\n",
    "    # roc_file = None,\n",
    "\n",
    "    \n",
    "    # UNK UNK UNK !!!   \n",
    "    border_count=None,\n",
    "    feature_border_type=None,\n",
    "    per_float_feature_quantization=None,\n",
    "    od_pval=None,\n",
    "    od_wait=None,\n",
    "    od_type=None,\n",
    "    thread_count=None,\n",
    "    name=None,\n",
    "    custom_loss=None,\n",
    "    used_ram_limit=None,\n",
    "    gpu_ram_part=None,\n",
    "    task_type=None,\n",
    "    device_config=None,\n",
    "    devices=None,\n",
    "    dev_score_calc_obj_block_size=None,\n",
    "    reg_lambda=None,\n",
    "    eta=None,\n",
    "    max_bin=None,\n",
    "    gpu_cat_features_storage=None,\n",
    "    data_partition=None,\n",
    "    metadata=None,\n",
    "    early_stopping_rounds=None,\n",
    "    cat_features=None,\n",
    "    ctr_history_unit=None,\n",
    "    text_features=None,\n",
    "    tokenizers=None,\n",
    "    dictionaries=None,\n",
    "    feature_calcers=None,\n",
    "    text_processing=None,\n",
    ")\n",
    "\n",
    "# CBM_DEFAULT_PARAMS = dict()"
   ]
  },
  {
   "cell_type": "markdown",
   "id": "e46851a2-0d35-4899-8d3f-5eded2fe4961",
   "metadata": {},
   "source": [
    "# Train"
   ]
  },
  {
   "cell_type": "code",
   "execution_count": 16,
   "id": "67680fe0-89f4-400b-a565-52510d8ba8d4",
   "metadata": {},
   "outputs": [
    {
     "name": "stdout",
     "output_type": "stream",
     "text": [
      "Start logging time..\n",
      "[80.53 s] Val features: (196832, 2048) float32\n",
      "[0.56 s] Val pool: 196832 x 2048\n"
     ]
    }
   ],
   "source": [
    "log()\n",
    "val_features = combine_features(all_features, val_idxs)\n",
    "val_targets = all_targets[val_idxs]\n",
    "\n",
    "val_df[TARGET_COLS] = val_targets\n",
    "val_df\n",
    "\n",
    "log(f'Val features: {val_features.shape} {val_features.dtype}')\n",
    "\n",
    "val_pool = Pool(\n",
    "       data = val_features,\n",
    "       label = val_targets,\n",
    "       cat_features=None,\n",
    "       weight=None,\n",
    "       baseline=None,\n",
    "       feature_names=None,\n",
    "       thread_count=-1\n",
    "    )\n",
    "log(f'Val pool: {val_pool.num_row()} x {val_pool.num_col()}')"
   ]
  },
  {
   "cell_type": "code",
   "execution_count": null,
   "id": "47fd3616",
   "metadata": {},
   "outputs": [],
   "source": []
  },
  {
   "cell_type": "code",
   "execution_count": null,
   "id": "7e2b9c2a",
   "metadata": {},
   "outputs": [],
   "source": []
  },
  {
   "cell_type": "code",
   "execution_count": 29,
   "id": "58ecbb32-c50f-4bcc-b962-4948af17b938",
   "metadata": {},
   "outputs": [],
   "source": [
    "chunks_iter = split_to_chunks(train_idxs=train_idxs,\n",
    "                              all_targets = all_targets,\n",
    "                              neg_pos_ratio = 5.0,\n",
    "                              pos_per_chunk_fraction=1.0,\n",
    "                              num_chunks=-1)\n",
    "# chunks_iter = list(chunks_iter)\n",
    "# for chunk_idx, (chunk_pos_idxs, chunk_neg_idxs) in enumerate(chunks_iter):\n",
    "#     print(chunk_idx, len(chunk_pos_idxs), len(chunk_neg_idxs))"
   ]
  },
  {
   "cell_type": "code",
   "execution_count": 18,
   "id": "89f5b4df",
   "metadata": {},
   "outputs": [],
   "source": [
    "# chunk_pos_idxs = chunks_iter[0][0]\n",
    "# chunk_neg_idxs = chunks_iter[0][1]\n",
    "# tmp_df = pl.DataFrame({\n",
    "#     'index': chunk_pos_idxs + chunk_neg_idxs\n",
    "# })\n",
    "# tmp_df"
   ]
  },
  {
   "cell_type": "code",
   "execution_count": 19,
   "id": "a62495b6",
   "metadata": {},
   "outputs": [],
   "source": [
    "# len = 7_812_348\n",
    "# tmp_df.write_csv('/home/dangnh36/datasets/competitions/leash_belka/processed/train_5_7.8M.csv')"
   ]
  },
  {
   "cell_type": "code",
   "execution_count": null,
   "id": "ad9bfecd",
   "metadata": {},
   "outputs": [],
   "source": []
  },
  {
   "cell_type": "code",
   "execution_count": 23,
   "id": "7f5f0f0c",
   "metadata": {},
   "outputs": [],
   "source": [
    "def validate(model, val_pool, val_df):\n",
    "    ##### EVALUATION #####\n",
    "\n",
    "    metric_names = ['share_AP', 'share_micro_AP', 'share_BRD4_AP', 'share_HSA_AP', 'share_sEH_AP']\n",
    "    all_scores = []\n",
    "    for ntree_end in list(range(0, model.get_best_iteration(), 500)) + [model.get_best_iteration()]:\n",
    "        print(f'\\n\\n------------{ntree_end}-----------')\n",
    "        preds = model.predict_proba(val_pool,\n",
    "                                    ntree_start = 0,\n",
    "                                    ntree_end = ntree_end + 1,\n",
    "                                    verbose = 100)\n",
    "        preds.shape\n",
    "        metrics = evaluate(val_df, preds)\n",
    "\n",
    "        # micro AP\n",
    "        gts = val_df[TARGET_COLS].to_numpy().flatten()\n",
    "        preds = preds.flatten()\n",
    "        metrics['share_micro_AP'] = average_precision_score(gts, preds)\n",
    "\n",
    "        _scores = [str(round(ntree_end / 1000, 1))] + [str(round(metrics[k] * 100, 4)) for k in metric_names]\n",
    "        all_scores.append(_scores)\n",
    "        print('\t'.join(_scores))\n",
    "\n",
    "    print('------------FINAL RESULTS---------------\\n')\n",
    "    print('\t'.join(['iterations'] + metric_names))\n",
    "    for scores in all_scores:\n",
    "        print('\t'.join(scores))\n",
    "        \n",
    "    return metrics"
   ]
  },
  {
   "cell_type": "code",
   "execution_count": null,
   "id": "d07918c3",
   "metadata": {},
   "outputs": [],
   "source": []
  },
  {
   "cell_type": "code",
   "execution_count": null,
   "id": "67c0e488",
   "metadata": {},
   "outputs": [],
   "source": []
  },
  {
   "cell_type": "code",
   "execution_count": 21,
   "id": "d03e7986",
   "metadata": {},
   "outputs": [],
   "source": [
    "# !rm -r runs/catboost/"
   ]
  },
  {
   "cell_type": "code",
   "execution_count": 30,
   "id": "2048a505",
   "metadata": {},
   "outputs": [
    {
     "name": "stdout",
     "output_type": "stream",
     "text": [
      "[TOTAL] pos=1506745 neg=96712033 neg/pos=64.18606532624963\n",
      "##################################################\n",
      "[1888.66 s] [TRAINING] chunk=2 pos=1506745 neg=7533725\n",
      "Loading train features..\n",
      "[437.58 s] Filter (9040470, 2048) (9040470, 3)\n",
      "[0.0 s] Unpacked (9040470, 2048)\n",
      "[18.13 s] Train pool: 9040470 x 2048\n",
      "{'iterations': 4500, 'learning_rate': 0.2, 'depth': 10, 'loss_function': 'MultiLogloss', 'nan_mode': 'Forbidden', 'use_best_model': True, 'logging_level': 'Verbose', 'metric_period': 100, 'has_time': False, 'allow_const_label': False, 'train_dir': './runs/catboost/v0/chunk_2', 'save_snapshot': True, 'snapshot_interval': 600, 'gpu_ram_part': 0.75, 'allow_writing_files': True, 'task_type': 'GPU', 'devices': '0:2:3', 'bootstrap_type': 'No', 'random_state': 42, 'early_stopping_rounds': 1000, 'grow_policy': 'SymmetricTree', 'min_data_in_leaf': 2}\n"
     ]
    },
    {
     "data": {
      "application/vnd.jupyter.widget-view+json": {
       "model_id": "8a07191b84b040da8e4a044b3193325f",
       "version_major": 2,
       "version_minor": 0
      },
      "text/plain": [
       "MetricVisualizer(layout=Layout(align_self='stretch', height='500px'))"
      ]
     },
     "metadata": {},
     "output_type": "display_data"
    },
    {
     "name": "stdout",
     "output_type": "stream",
     "text": [
      "0:\tlearn: 0.4153482\ttest: 0.4025799\tbest: 0.4025799 (0)\ttotal: 354ms\tremaining: 26m 31s\n",
      "100:\tlearn: 0.0835064\ttest: 0.0341570\tbest: 0.0341570 (100)\ttotal: 19.9s\tremaining: 14m 25s\n",
      "200:\tlearn: 0.0740557\ttest: 0.0305418\tbest: 0.0305418 (200)\ttotal: 43.4s\tremaining: 15m 27s\n",
      "300:\tlearn: 0.0695852\ttest: 0.0287418\tbest: 0.0287418 (300)\ttotal: 1m 6s\tremaining: 15m 20s\n",
      "400:\tlearn: 0.0667407\ttest: 0.0275754\tbest: 0.0275754 (400)\ttotal: 1m 29s\tremaining: 15m 10s\n",
      "500:\tlearn: 0.0646658\ttest: 0.0267871\tbest: 0.0267871 (500)\ttotal: 1m 52s\tremaining: 14m 55s\n",
      "600:\tlearn: 0.0630426\ttest: 0.0261770\tbest: 0.0261770 (600)\ttotal: 2m 12s\tremaining: 14m 21s\n",
      "700:\tlearn: 0.0617502\ttest: 0.0257430\tbest: 0.0257430 (700)\ttotal: 2m 32s\tremaining: 13m 48s\n",
      "800:\tlearn: 0.0605874\ttest: 0.0253713\tbest: 0.0253713 (800)\ttotal: 2m 52s\tremaining: 13m 16s\n",
      "900:\tlearn: 0.0596113\ttest: 0.0250950\tbest: 0.0250950 (900)\ttotal: 3m 11s\tremaining: 12m 45s\n",
      "1000:\tlearn: 0.0587631\ttest: 0.0248552\tbest: 0.0248552 (1000)\ttotal: 3m 30s\tremaining: 12m 16s\n",
      "1100:\tlearn: 0.0579637\ttest: 0.0246782\tbest: 0.0246782 (1100)\ttotal: 3m 49s\tremaining: 11m 49s\n",
      "1200:\tlearn: 0.0572338\ttest: 0.0245349\tbest: 0.0245341 (1199)\ttotal: 4m 9s\tremaining: 11m 24s\n",
      "1300:\tlearn: 0.0565263\ttest: 0.0243906\tbest: 0.0243906 (1300)\ttotal: 4m 28s\tremaining: 11m\n",
      "1400:\tlearn: 0.0558978\ttest: 0.0242648\tbest: 0.0242648 (1400)\ttotal: 4m 47s\tremaining: 10m 36s\n",
      "1500:\tlearn: 0.0553027\ttest: 0.0241738\tbest: 0.0241733 (1499)\ttotal: 5m 7s\tremaining: 10m 13s\n",
      "1600:\tlearn: 0.0547258\ttest: 0.0240982\tbest: 0.0240982 (1600)\ttotal: 5m 25s\tremaining: 9m 50s\n",
      "1700:\tlearn: 0.0542108\ttest: 0.0240287\tbest: 0.0240282 (1698)\ttotal: 5m 44s\tremaining: 9m 26s\n",
      "1800:\tlearn: 0.0536949\ttest: 0.0239725\tbest: 0.0239725 (1800)\ttotal: 6m 3s\tremaining: 9m 4s\n",
      "1900:\tlearn: 0.0532204\ttest: 0.0239168\tbest: 0.0239168 (1900)\ttotal: 6m 21s\tremaining: 8m 42s\n",
      "2000:\tlearn: 0.0527472\ttest: 0.0238665\tbest: 0.0238661 (1995)\ttotal: 6m 40s\tremaining: 8m 20s\n",
      "2100:\tlearn: 0.0523159\ttest: 0.0238243\tbest: 0.0238237 (2096)\ttotal: 6m 59s\tremaining: 7m 58s\n",
      "2200:\tlearn: 0.0518837\ttest: 0.0237821\tbest: 0.0237809 (2198)\ttotal: 7m 17s\tremaining: 7m 37s\n",
      "2300:\tlearn: 0.0514533\ttest: 0.0237320\tbest: 0.0237320 (2300)\ttotal: 7m 36s\tremaining: 7m 16s\n",
      "2400:\tlearn: 0.0510575\ttest: 0.0236891\tbest: 0.0236889 (2399)\ttotal: 7m 54s\tremaining: 6m 55s\n",
      "2500:\tlearn: 0.0506716\ttest: 0.0236595\tbest: 0.0236595 (2500)\ttotal: 8m 13s\tremaining: 6m 34s\n",
      "2600:\tlearn: 0.0502933\ttest: 0.0236450\tbest: 0.0236450 (2600)\ttotal: 8m 31s\tremaining: 6m 13s\n",
      "2700:\tlearn: 0.0499231\ttest: 0.0236054\tbest: 0.0236054 (2697)\ttotal: 8m 49s\tremaining: 5m 52s\n",
      "2800:\tlearn: 0.0495608\ttest: 0.0235791\tbest: 0.0235791 (2800)\ttotal: 9m 7s\tremaining: 5m 32s\n",
      "2900:\tlearn: 0.0492059\ttest: 0.0235615\tbest: 0.0235608 (2898)\ttotal: 9m 25s\tremaining: 5m 11s\n",
      "3000:\tlearn: 0.0488551\ttest: 0.0235452\tbest: 0.0235422 (2993)\ttotal: 9m 43s\tremaining: 4m 51s\n",
      "3100:\tlearn: 0.0485123\ttest: 0.0235281\tbest: 0.0235264 (3092)\ttotal: 10m 2s\tremaining: 4m 31s\n",
      "3200:\tlearn: 0.0481665\ttest: 0.0235011\tbest: 0.0235009 (3198)\ttotal: 10m 20s\tremaining: 4m 11s\n",
      "3300:\tlearn: 0.0478429\ttest: 0.0234819\tbest: 0.0234819 (3300)\ttotal: 10m 38s\tremaining: 3m 51s\n",
      "3400:\tlearn: 0.0475309\ttest: 0.0234692\tbest: 0.0234691 (3399)\ttotal: 10m 56s\tremaining: 3m 32s\n",
      "3500:\tlearn: 0.0472158\ttest: 0.0234444\tbest: 0.0234444 (3498)\ttotal: 11m 14s\tremaining: 3m 12s\n",
      "3600:\tlearn: 0.0469134\ttest: 0.0234313\tbest: 0.0234305 (3599)\ttotal: 11m 31s\tremaining: 2m 52s\n",
      "3700:\tlearn: 0.0466094\ttest: 0.0234104\tbest: 0.0234100 (3699)\ttotal: 11m 50s\tremaining: 2m 33s\n",
      "3800:\tlearn: 0.0463237\ttest: 0.0233938\tbest: 0.0233921 (3785)\ttotal: 12m 7s\tremaining: 2m 13s\n",
      "3900:\tlearn: 0.0460267\ttest: 0.0233813\tbest: 0.0233813 (3900)\ttotal: 12m 25s\tremaining: 1m 54s\n",
      "4000:\tlearn: 0.0457524\ttest: 0.0233683\tbest: 0.0233678 (3987)\ttotal: 12m 43s\tremaining: 1m 35s\n",
      "4100:\tlearn: 0.0454698\ttest: 0.0233488\tbest: 0.0233480 (4098)\ttotal: 13m 1s\tremaining: 1m 16s\n",
      "4200:\tlearn: 0.0451969\ttest: 0.0233298\tbest: 0.0233298 (4200)\ttotal: 13m 19s\tremaining: 56.9s\n",
      "4300:\tlearn: 0.0449233\ttest: 0.0233213\tbest: 0.0233204 (4269)\ttotal: 13m 37s\tremaining: 37.8s\n",
      "4400:\tlearn: 0.0446516\ttest: 0.0233141\tbest: 0.0233129 (4393)\ttotal: 13m 55s\tremaining: 18.8s\n",
      "4499:\tlearn: 0.0443972\ttest: 0.0233011\tbest: 0.0233011 (4499)\ttotal: 14m 12s\tremaining: 0us\n",
      "bestTest = 0.02330105899\n",
      "bestIteration = 4499\n",
      "ALL PARAMS:\n",
      " {'nan_mode': 'Forbidden', 'gpu_ram_part': 0.75, 'eval_metric': 'MultiLogloss', 'iterations': 4500, 'leaf_estimation_method': 'Newton', 'observations_to_bootstrap': 'TestOnly', 'od_pval': 0, 'random_score_type': 'NormalWithModelSizeDecrease', 'grow_policy': 'SymmetricTree', 'penalties_coefficient': 1, 'boosting_type': 'Plain', 'feature_border_type': 'GreedyLogSum', 'bayesian_matrix_reg': 0.10000000149011612, 'devices': '0:2:3', 'eval_fraction': 0, 'pinned_memory_bytes': '104857600', 'force_unit_auto_pair_weights': False, 'l2_leaf_reg': 3, 'random_strength': 1, 'od_type': 'Iter', 'rsm': 1, 'boost_from_average': False, 'gpu_cat_features_storage': 'GpuRam', 'fold_size_loss_normalization': False, 'model_size_reg': 0.5, 'pool_metainfo_options': {'tags': {}}, 'use_best_model': True, 'meta_l2_frequency': 0, 'od_wait': 1000, 'class_names': [0, 1, 2], 'random_seed': 42, 'depth': 10, 'border_count': 128, 'min_fold_size': 100, 'data_partition': 'DocParallel', 'classes_count': 0, 'auto_class_weights': 'None', 'leaf_estimation_backtracking': 'AnyImprovement', 'best_model_min_trees': 1, 'min_data_in_leaf': 2, 'add_ridge_penalty_to_loss_function': False, 'loss_function': 'MultiLogloss', 'learning_rate': 0.20000000298023224, 'meta_l2_exponent': 1, 'score_function': 'Cosine', 'task_type': 'GPU', 'leaf_estimation_iterations': 10, 'bootstrap_type': 'No', 'max_leaves': 1024}\n",
      "\n",
      "\n",
      "------------0-----------\n"
     ]
    },
    {
     "name": "stderr",
     "output_type": "stream",
     "text": [
      "[METRICS] Skip subset=nonshare protein=BRD4 and set metric value to None..\n",
      "[METRICS] Skip subset=nonshare protein=HSA and set metric value to None..\n",
      "[METRICS] Skip subset=nonshare protein=sEH and set metric value to None..\n",
      "[METRICS] Skip subset=share1 protein=BRD4 and set metric value to None..\n",
      "[METRICS] Skip subset=share1 protein=HSA and set metric value to None..\n",
      "[METRICS] Skip subset=share1 protein=sEH and set metric value to None..\n"
     ]
    },
    {
     "name": "stdout",
     "output_type": "stream",
     "text": [
      "0.0\t19.3698\t26.1738\t9.4528\t4.6356\t44.0211\n",
      "\n",
      "\n",
      "------------500-----------\n"
     ]
    },
    {
     "name": "stderr",
     "output_type": "stream",
     "text": [
      "[METRICS] Skip subset=nonshare protein=BRD4 and set metric value to None..\n",
      "[METRICS] Skip subset=nonshare protein=HSA and set metric value to None..\n",
      "[METRICS] Skip subset=nonshare protein=sEH and set metric value to None..\n",
      "[METRICS] Skip subset=share1 protein=BRD4 and set metric value to None..\n",
      "[METRICS] Skip subset=share1 protein=HSA and set metric value to None..\n",
      "[METRICS] Skip subset=share1 protein=sEH and set metric value to None..\n"
     ]
    },
    {
     "name": "stdout",
     "output_type": "stream",
     "text": [
      "0.5\t54.4919\t59.2764\t54.9355\t32.6577\t75.8827\n",
      "\n",
      "\n",
      "------------1000-----------\n"
     ]
    },
    {
     "name": "stderr",
     "output_type": "stream",
     "text": [
      "[METRICS] Skip subset=nonshare protein=BRD4 and set metric value to None..\n",
      "[METRICS] Skip subset=nonshare protein=HSA and set metric value to None..\n",
      "[METRICS] Skip subset=nonshare protein=sEH and set metric value to None..\n",
      "[METRICS] Skip subset=share1 protein=BRD4 and set metric value to None..\n",
      "[METRICS] Skip subset=share1 protein=HSA and set metric value to None..\n",
      "[METRICS] Skip subset=share1 protein=sEH and set metric value to None..\n"
     ]
    },
    {
     "name": "stdout",
     "output_type": "stream",
     "text": [
      "1.0\t58.0472\t62.9881\t58.7119\t35.1988\t80.2308\n",
      "\n",
      "\n",
      "------------1500-----------\n"
     ]
    },
    {
     "name": "stderr",
     "output_type": "stream",
     "text": [
      "[METRICS] Skip subset=nonshare protein=BRD4 and set metric value to None..\n",
      "[METRICS] Skip subset=nonshare protein=HSA and set metric value to None..\n",
      "[METRICS] Skip subset=nonshare protein=sEH and set metric value to None..\n",
      "[METRICS] Skip subset=share1 protein=BRD4 and set metric value to None..\n",
      "[METRICS] Skip subset=share1 protein=HSA and set metric value to None..\n",
      "[METRICS] Skip subset=share1 protein=sEH and set metric value to None..\n"
     ]
    },
    {
     "name": "stdout",
     "output_type": "stream",
     "text": [
      "1.5\t59.1145\t64.1481\t60.2985\t35.5068\t81.5381\n",
      "\n",
      "\n",
      "------------2000-----------\n"
     ]
    },
    {
     "name": "stderr",
     "output_type": "stream",
     "text": [
      "[METRICS] Skip subset=nonshare protein=BRD4 and set metric value to None..\n",
      "[METRICS] Skip subset=nonshare protein=HSA and set metric value to None..\n",
      "[METRICS] Skip subset=nonshare protein=sEH and set metric value to None..\n",
      "[METRICS] Skip subset=share1 protein=BRD4 and set metric value to None..\n",
      "[METRICS] Skip subset=share1 protein=HSA and set metric value to None..\n",
      "[METRICS] Skip subset=share1 protein=sEH and set metric value to None..\n"
     ]
    },
    {
     "name": "stdout",
     "output_type": "stream",
     "text": [
      "2.0\t59.4783\t64.5777\t60.9517\t35.423\t82.0602\n",
      "\n",
      "\n",
      "------------2500-----------\n"
     ]
    },
    {
     "name": "stderr",
     "output_type": "stream",
     "text": [
      "[METRICS] Skip subset=nonshare protein=BRD4 and set metric value to None..\n",
      "[METRICS] Skip subset=nonshare protein=HSA and set metric value to None..\n",
      "[METRICS] Skip subset=nonshare protein=sEH and set metric value to None..\n",
      "[METRICS] Skip subset=share1 protein=BRD4 and set metric value to None..\n",
      "[METRICS] Skip subset=share1 protein=HSA and set metric value to None..\n",
      "[METRICS] Skip subset=share1 protein=sEH and set metric value to None..\n"
     ]
    },
    {
     "name": "stdout",
     "output_type": "stream",
     "text": [
      "2.5\t59.6573\t64.8385\t61.1967\t35.3551\t82.4202\n",
      "\n",
      "\n",
      "------------3000-----------\n"
     ]
    },
    {
     "name": "stderr",
     "output_type": "stream",
     "text": [
      "[METRICS] Skip subset=nonshare protein=BRD4 and set metric value to None..\n",
      "[METRICS] Skip subset=nonshare protein=HSA and set metric value to None..\n",
      "[METRICS] Skip subset=nonshare protein=sEH and set metric value to None..\n",
      "[METRICS] Skip subset=share1 protein=BRD4 and set metric value to None..\n",
      "[METRICS] Skip subset=share1 protein=HSA and set metric value to None..\n",
      "[METRICS] Skip subset=share1 protein=sEH and set metric value to None..\n"
     ]
    },
    {
     "name": "stdout",
     "output_type": "stream",
     "text": [
      "3.0\t59.7279\t64.9458\t61.3648\t35.1878\t82.6312\n",
      "\n",
      "\n",
      "------------3500-----------\n"
     ]
    },
    {
     "name": "stderr",
     "output_type": "stream",
     "text": [
      "[METRICS] Skip subset=nonshare protein=BRD4 and set metric value to None..\n",
      "[METRICS] Skip subset=nonshare protein=HSA and set metric value to None..\n",
      "[METRICS] Skip subset=nonshare protein=sEH and set metric value to None..\n",
      "[METRICS] Skip subset=share1 protein=BRD4 and set metric value to None..\n",
      "[METRICS] Skip subset=share1 protein=HSA and set metric value to None..\n",
      "[METRICS] Skip subset=share1 protein=sEH and set metric value to None..\n"
     ]
    },
    {
     "name": "stdout",
     "output_type": "stream",
     "text": [
      "3.5\t59.8474\t65.0568\t61.6457\t35.1572\t82.7391\n",
      "\n",
      "\n",
      "------------4000-----------\n"
     ]
    },
    {
     "name": "stderr",
     "output_type": "stream",
     "text": [
      "[METRICS] Skip subset=nonshare protein=BRD4 and set metric value to None..\n",
      "[METRICS] Skip subset=nonshare protein=HSA and set metric value to None..\n",
      "[METRICS] Skip subset=nonshare protein=sEH and set metric value to None..\n",
      "[METRICS] Skip subset=share1 protein=BRD4 and set metric value to None..\n",
      "[METRICS] Skip subset=share1 protein=HSA and set metric value to None..\n",
      "[METRICS] Skip subset=share1 protein=sEH and set metric value to None..\n"
     ]
    },
    {
     "name": "stdout",
     "output_type": "stream",
     "text": [
      "4.0\t59.8784\t65.1011\t61.8097\t34.9938\t82.8316\n",
      "\n",
      "\n",
      "------------4499-----------\n"
     ]
    },
    {
     "name": "stderr",
     "output_type": "stream",
     "text": [
      "[METRICS] Skip subset=nonshare protein=BRD4 and set metric value to None..\n",
      "[METRICS] Skip subset=nonshare protein=HSA and set metric value to None..\n",
      "[METRICS] Skip subset=nonshare protein=sEH and set metric value to None..\n",
      "[METRICS] Skip subset=share1 protein=BRD4 and set metric value to None..\n",
      "[METRICS] Skip subset=share1 protein=HSA and set metric value to None..\n",
      "[METRICS] Skip subset=share1 protein=sEH and set metric value to None..\n"
     ]
    },
    {
     "name": "stdout",
     "output_type": "stream",
     "text": [
      "4.5\t59.9283\t65.1734\t61.897\t34.9217\t82.966\n",
      "------------FINAL RESULTS---------------\n",
      "\n",
      "iterations\tshare_AP\tshare_micro_AP\tshare_BRD4_AP\tshare_HSA_AP\tshare_sEH_AP\n",
      "0.0\t19.3698\t26.1738\t9.4528\t4.6356\t44.0211\n",
      "0.5\t54.4919\t59.2764\t54.9355\t32.6577\t75.8827\n",
      "1.0\t58.0472\t62.9881\t58.7119\t35.1988\t80.2308\n",
      "1.5\t59.1145\t64.1481\t60.2985\t35.5068\t81.5381\n",
      "2.0\t59.4783\t64.5777\t60.9517\t35.423\t82.0602\n",
      "2.5\t59.6573\t64.8385\t61.1967\t35.3551\t82.4202\n",
      "3.0\t59.7279\t64.9458\t61.3648\t35.1878\t82.6312\n",
      "3.5\t59.8474\t65.0568\t61.6457\t35.1572\t82.7391\n",
      "4.0\t59.8784\t65.1011\t61.8097\t34.9938\t82.8316\n",
      "4.5\t59.9283\t65.1734\t61.897\t34.9217\t82.966\n",
      "METRICS AT CHUNK=2:\n",
      "{'share_BRD4_AP': 0.6189703593664793, 'share_HSA_AP': 0.3492172469165442, 'share_sEH_AP': 0.8296599834037583, 'share2_BRD4_AP': 0.6189703593664793, 'share2_HSA_AP': 0.3492172469165442, 'share2_sEH_AP': 0.8296599834037583, 'pseudo_AP': 0.5992825298955939, 'AP': 0.5992825298955939, 'share_AP': 0.5992825298955939, 'share2_AP': 0.5992825298955939, 'share_micro_AP': 0.6517340425594744}\n",
      "\n",
      "\n",
      "\n",
      "\n",
      "\n",
      "\n",
      "##################################################\n",
      "[883.66 s] [TRAINING] chunk=3 pos=1506745 neg=7533725\n",
      "Loading train features..\n",
      "[75.52 s] Filter (9040470, 2048) (9040470, 3)\n",
      "[0.0 s] Unpacked (9040470, 2048)\n",
      "[17.0 s] Train pool: 9040470 x 2048\n",
      "{'iterations': 4500, 'learning_rate': 0.2, 'depth': 10, 'loss_function': 'MultiLogloss', 'nan_mode': 'Forbidden', 'use_best_model': True, 'logging_level': 'Verbose', 'metric_period': 100, 'has_time': False, 'allow_const_label': False, 'train_dir': './runs/catboost/v0/chunk_3', 'save_snapshot': True, 'snapshot_interval': 600, 'gpu_ram_part': 0.75, 'allow_writing_files': True, 'task_type': 'GPU', 'devices': '0:2:3', 'bootstrap_type': 'No', 'random_state': 42, 'early_stopping_rounds': 1000, 'grow_policy': 'SymmetricTree', 'min_data_in_leaf': 2}\n"
     ]
    },
    {
     "data": {
      "application/vnd.jupyter.widget-view+json": {
       "model_id": "677fa4a90ee541d39dfeb545cbc31285",
       "version_major": 2,
       "version_minor": 0
      },
      "text/plain": [
       "MetricVisualizer(layout=Layout(align_self='stretch', height='500px'))"
      ]
     },
     "metadata": {},
     "output_type": "display_data"
    },
    {
     "name": "stdout",
     "output_type": "stream",
     "text": [
      "0:\tlearn: 0.4153450\ttest: 0.4025774\tbest: 0.4025774 (0)\ttotal: 317ms\tremaining: 23m 48s\n",
      "100:\tlearn: 0.0833056\ttest: 0.0341697\tbest: 0.0341697 (100)\ttotal: 18.9s\tremaining: 13m 44s\n",
      "200:\tlearn: 0.0739044\ttest: 0.0305166\tbest: 0.0305166 (200)\ttotal: 38s\tremaining: 13m 32s\n",
      "300:\tlearn: 0.0694560\ttest: 0.0287237\tbest: 0.0287237 (300)\ttotal: 57s\tremaining: 13m 15s\n",
      "400:\tlearn: 0.0666969\ttest: 0.0275864\tbest: 0.0275864 (400)\ttotal: 1m 15s\tremaining: 12m 55s\n",
      "500:\tlearn: 0.0645912\ttest: 0.0267597\tbest: 0.0267597 (500)\ttotal: 1m 35s\tremaining: 12m 40s\n",
      "600:\tlearn: 0.0629712\ttest: 0.0261534\tbest: 0.0261534 (600)\ttotal: 1m 54s\tremaining: 12m 22s\n",
      "700:\tlearn: 0.0617189\ttest: 0.0257330\tbest: 0.0257330 (700)\ttotal: 2m 13s\tremaining: 12m 3s\n",
      "800:\tlearn: 0.0605839\ttest: 0.0253688\tbest: 0.0253688 (800)\ttotal: 2m 32s\tremaining: 11m 45s\n",
      "900:\tlearn: 0.0596064\ttest: 0.0250913\tbest: 0.0250913 (900)\ttotal: 2m 51s\tremaining: 11m 26s\n",
      "1000:\tlearn: 0.0587243\ttest: 0.0248508\tbest: 0.0248508 (1000)\ttotal: 3m 11s\tremaining: 11m 9s\n",
      "1100:\tlearn: 0.0579223\ttest: 0.0246609\tbest: 0.0246609 (1100)\ttotal: 3m 30s\tremaining: 10m 50s\n",
      "1200:\tlearn: 0.0571889\ttest: 0.0245057\tbest: 0.0245057 (1200)\ttotal: 3m 50s\tremaining: 10m 32s\n",
      "1300:\tlearn: 0.0565240\ttest: 0.0243744\tbest: 0.0243744 (1300)\ttotal: 4m 9s\tremaining: 10m 12s\n",
      "1400:\tlearn: 0.0558864\ttest: 0.0242571\tbest: 0.0242571 (1400)\ttotal: 4m 28s\tremaining: 9m 54s\n",
      "1500:\tlearn: 0.0553202\ttest: 0.0241676\tbest: 0.0241676 (1500)\ttotal: 4m 47s\tremaining: 9m 33s\n",
      "1600:\tlearn: 0.0547469\ttest: 0.0240803\tbest: 0.0240803 (1600)\ttotal: 5m 5s\tremaining: 9m 14s\n",
      "1700:\tlearn: 0.0542276\ttest: 0.0240190\tbest: 0.0240190 (1700)\ttotal: 5m 24s\tremaining: 8m 54s\n",
      "1800:\tlearn: 0.0537512\ttest: 0.0239462\tbest: 0.0239462 (1800)\ttotal: 5m 43s\tremaining: 8m 34s\n",
      "1900:\tlearn: 0.0532538\ttest: 0.0238764\tbest: 0.0238764 (1900)\ttotal: 6m 2s\tremaining: 8m 14s\n",
      "2000:\tlearn: 0.0527810\ttest: 0.0238238\tbest: 0.0238238 (2000)\ttotal: 6m 20s\tremaining: 7m 55s\n",
      "2100:\tlearn: 0.0523357\ttest: 0.0237760\tbest: 0.0237760 (2100)\ttotal: 6m 39s\tremaining: 7m 35s\n",
      "2200:\tlearn: 0.0518980\ttest: 0.0237368\tbest: 0.0237355 (2199)\ttotal: 6m 57s\tremaining: 7m 16s\n",
      "2300:\tlearn: 0.0515061\ttest: 0.0236950\tbest: 0.0236950 (2300)\ttotal: 7m 15s\tremaining: 6m 55s\n",
      "2400:\tlearn: 0.0511033\ttest: 0.0236532\tbest: 0.0236519 (2399)\ttotal: 7m 33s\tremaining: 6m 36s\n",
      "2500:\tlearn: 0.0507101\ttest: 0.0236167\tbest: 0.0236167 (2500)\ttotal: 7m 51s\tremaining: 6m 16s\n",
      "2600:\tlearn: 0.0503101\ttest: 0.0235760\tbest: 0.0235757 (2597)\ttotal: 8m 9s\tremaining: 5m 57s\n",
      "2700:\tlearn: 0.0499410\ttest: 0.0235546\tbest: 0.0235546 (2700)\ttotal: 8m 27s\tremaining: 5m 38s\n",
      "2800:\tlearn: 0.0495794\ttest: 0.0235192\tbest: 0.0235186 (2799)\ttotal: 8m 45s\tremaining: 5m 18s\n",
      "2900:\tlearn: 0.0492181\ttest: 0.0234973\tbest: 0.0234967 (2899)\ttotal: 9m 3s\tremaining: 4m 59s\n",
      "3000:\tlearn: 0.0488793\ttest: 0.0234652\tbest: 0.0234632 (2995)\ttotal: 9m 21s\tremaining: 4m 40s\n",
      "3100:\tlearn: 0.0485384\ttest: 0.0234469\tbest: 0.0234469 (3100)\ttotal: 9m 39s\tremaining: 4m 21s\n",
      "3200:\tlearn: 0.0481971\ttest: 0.0234093\tbest: 0.0234089 (3196)\ttotal: 9m 57s\tremaining: 4m 2s\n",
      "3300:\tlearn: 0.0478763\ttest: 0.0233999\tbest: 0.0233998 (3298)\ttotal: 10m 15s\tremaining: 3m 43s\n",
      "3400:\tlearn: 0.0475737\ttest: 0.0233707\tbest: 0.0233705 (3399)\ttotal: 10m 33s\tremaining: 3m 24s\n",
      "3500:\tlearn: 0.0472726\ttest: 0.0233538\tbest: 0.0233532 (3483)\ttotal: 10m 50s\tremaining: 3m 5s\n",
      "3600:\tlearn: 0.0469734\ttest: 0.0233381\tbest: 0.0233381 (3600)\ttotal: 11m 8s\tremaining: 2m 46s\n",
      "3700:\tlearn: 0.0466682\ttest: 0.0233300\tbest: 0.0233300 (3700)\ttotal: 11m 26s\tremaining: 2m 28s\n",
      "3800:\tlearn: 0.0463624\ttest: 0.0232972\tbest: 0.0232972 (3800)\ttotal: 11m 45s\tremaining: 2m 9s\n",
      "3900:\tlearn: 0.0460751\ttest: 0.0232775\tbest: 0.0232775 (3900)\ttotal: 12m 3s\tremaining: 1m 51s\n",
      "4000:\tlearn: 0.0457927\ttest: 0.0232633\tbest: 0.0232632 (3998)\ttotal: 12m 21s\tremaining: 1m 32s\n",
      "4100:\tlearn: 0.0455072\ttest: 0.0232464\tbest: 0.0232440 (4092)\ttotal: 12m 39s\tremaining: 1m 13s\n",
      "4200:\tlearn: 0.0452267\ttest: 0.0232362\tbest: 0.0232351 (4187)\ttotal: 12m 57s\tremaining: 55.3s\n",
      "4300:\tlearn: 0.0449366\ttest: 0.0232260\tbest: 0.0232260 (4300)\ttotal: 13m 15s\tremaining: 36.8s\n",
      "4400:\tlearn: 0.0446666\ttest: 0.0232152\tbest: 0.0232114 (4377)\ttotal: 13m 33s\tremaining: 18.3s\n",
      "4499:\tlearn: 0.0444110\ttest: 0.0232100\tbest: 0.0232088 (4484)\ttotal: 13m 51s\tremaining: 0us\n",
      "bestTest = 0.02320878189\n",
      "bestIteration = 4484\n",
      "Shrink model to first 4485 iterations.\n",
      "ALL PARAMS:\n",
      " {'nan_mode': 'Forbidden', 'gpu_ram_part': 0.75, 'eval_metric': 'MultiLogloss', 'iterations': 4500, 'leaf_estimation_method': 'Newton', 'observations_to_bootstrap': 'TestOnly', 'od_pval': 0, 'random_score_type': 'NormalWithModelSizeDecrease', 'grow_policy': 'SymmetricTree', 'penalties_coefficient': 1, 'boosting_type': 'Plain', 'feature_border_type': 'GreedyLogSum', 'bayesian_matrix_reg': 0.10000000149011612, 'devices': '0:2:3', 'eval_fraction': 0, 'pinned_memory_bytes': '104857600', 'force_unit_auto_pair_weights': False, 'l2_leaf_reg': 3, 'random_strength': 1, 'od_type': 'Iter', 'rsm': 1, 'boost_from_average': False, 'gpu_cat_features_storage': 'GpuRam', 'fold_size_loss_normalization': False, 'model_size_reg': 0.5, 'pool_metainfo_options': {'tags': {}}, 'use_best_model': True, 'meta_l2_frequency': 0, 'od_wait': 1000, 'class_names': [0, 1, 2], 'random_seed': 42, 'depth': 10, 'border_count': 128, 'min_fold_size': 100, 'data_partition': 'DocParallel', 'classes_count': 0, 'auto_class_weights': 'None', 'leaf_estimation_backtracking': 'AnyImprovement', 'best_model_min_trees': 1, 'min_data_in_leaf': 2, 'add_ridge_penalty_to_loss_function': False, 'loss_function': 'MultiLogloss', 'learning_rate': 0.20000000298023224, 'meta_l2_exponent': 1, 'score_function': 'Cosine', 'task_type': 'GPU', 'leaf_estimation_iterations': 10, 'bootstrap_type': 'No', 'max_leaves': 1024}\n",
      "\n",
      "\n",
      "------------0-----------\n"
     ]
    },
    {
     "name": "stderr",
     "output_type": "stream",
     "text": [
      "[METRICS] Skip subset=nonshare protein=BRD4 and set metric value to None..\n",
      "[METRICS] Skip subset=nonshare protein=HSA and set metric value to None..\n",
      "[METRICS] Skip subset=nonshare protein=sEH and set metric value to None..\n",
      "[METRICS] Skip subset=share1 protein=BRD4 and set metric value to None..\n",
      "[METRICS] Skip subset=share1 protein=HSA and set metric value to None..\n",
      "[METRICS] Skip subset=share1 protein=sEH and set metric value to None..\n"
     ]
    },
    {
     "name": "stdout",
     "output_type": "stream",
     "text": [
      "0.0\t19.4345\t26.2375\t9.4669\t4.7554\t44.0811\n",
      "\n",
      "\n",
      "------------500-----------\n"
     ]
    },
    {
     "name": "stderr",
     "output_type": "stream",
     "text": [
      "[METRICS] Skip subset=nonshare protein=BRD4 and set metric value to None..\n",
      "[METRICS] Skip subset=nonshare protein=HSA and set metric value to None..\n",
      "[METRICS] Skip subset=nonshare protein=sEH and set metric value to None..\n",
      "[METRICS] Skip subset=share1 protein=BRD4 and set metric value to None..\n",
      "[METRICS] Skip subset=share1 protein=HSA and set metric value to None..\n",
      "[METRICS] Skip subset=share1 protein=sEH and set metric value to None..\n"
     ]
    },
    {
     "name": "stdout",
     "output_type": "stream",
     "text": [
      "0.5\t54.5334\t59.2967\t54.1388\t32.9817\t76.4798\n",
      "\n",
      "\n",
      "------------1000-----------\n"
     ]
    },
    {
     "name": "stderr",
     "output_type": "stream",
     "text": [
      "[METRICS] Skip subset=nonshare protein=BRD4 and set metric value to None..\n",
      "[METRICS] Skip subset=nonshare protein=HSA and set metric value to None..\n",
      "[METRICS] Skip subset=nonshare protein=sEH and set metric value to None..\n",
      "[METRICS] Skip subset=share1 protein=BRD4 and set metric value to None..\n",
      "[METRICS] Skip subset=share1 protein=HSA and set metric value to None..\n",
      "[METRICS] Skip subset=share1 protein=sEH and set metric value to None..\n"
     ]
    },
    {
     "name": "stdout",
     "output_type": "stream",
     "text": [
      "1.0\t57.9785\t62.9624\t58.2907\t35.0731\t80.5718\n",
      "\n",
      "\n",
      "------------1500-----------\n"
     ]
    },
    {
     "name": "stderr",
     "output_type": "stream",
     "text": [
      "[METRICS] Skip subset=nonshare protein=BRD4 and set metric value to None..\n",
      "[METRICS] Skip subset=nonshare protein=HSA and set metric value to None..\n",
      "[METRICS] Skip subset=nonshare protein=sEH and set metric value to None..\n",
      "[METRICS] Skip subset=share1 protein=BRD4 and set metric value to None..\n",
      "[METRICS] Skip subset=share1 protein=HSA and set metric value to None..\n",
      "[METRICS] Skip subset=share1 protein=sEH and set metric value to None..\n"
     ]
    },
    {
     "name": "stdout",
     "output_type": "stream",
     "text": [
      "1.5\t59.1553\t64.1792\t59.8591\t35.6947\t81.9121\n",
      "\n",
      "\n",
      "------------2000-----------\n"
     ]
    },
    {
     "name": "stderr",
     "output_type": "stream",
     "text": [
      "[METRICS] Skip subset=nonshare protein=BRD4 and set metric value to None..\n",
      "[METRICS] Skip subset=nonshare protein=HSA and set metric value to None..\n",
      "[METRICS] Skip subset=nonshare protein=sEH and set metric value to None..\n",
      "[METRICS] Skip subset=share1 protein=BRD4 and set metric value to None..\n",
      "[METRICS] Skip subset=share1 protein=HSA and set metric value to None..\n",
      "[METRICS] Skip subset=share1 protein=sEH and set metric value to None..\n"
     ]
    },
    {
     "name": "stdout",
     "output_type": "stream",
     "text": [
      "2.0\t59.6436\t64.6588\t60.3978\t36.0649\t82.4681\n",
      "\n",
      "\n",
      "------------2500-----------\n"
     ]
    },
    {
     "name": "stderr",
     "output_type": "stream",
     "text": [
      "[METRICS] Skip subset=nonshare protein=BRD4 and set metric value to None..\n",
      "[METRICS] Skip subset=nonshare protein=HSA and set metric value to None..\n",
      "[METRICS] Skip subset=nonshare protein=sEH and set metric value to None..\n",
      "[METRICS] Skip subset=share1 protein=BRD4 and set metric value to None..\n",
      "[METRICS] Skip subset=share1 protein=HSA and set metric value to None..\n",
      "[METRICS] Skip subset=share1 protein=sEH and set metric value to None..\n"
     ]
    },
    {
     "name": "stdout",
     "output_type": "stream",
     "text": [
      "2.5\t59.8903\t64.9924\t60.9188\t35.8951\t82.8571\n",
      "\n",
      "\n",
      "------------3000-----------\n"
     ]
    },
    {
     "name": "stderr",
     "output_type": "stream",
     "text": [
      "[METRICS] Skip subset=nonshare protein=BRD4 and set metric value to None..\n",
      "[METRICS] Skip subset=nonshare protein=HSA and set metric value to None..\n",
      "[METRICS] Skip subset=nonshare protein=sEH and set metric value to None..\n",
      "[METRICS] Skip subset=share1 protein=BRD4 and set metric value to None..\n",
      "[METRICS] Skip subset=share1 protein=HSA and set metric value to None..\n",
      "[METRICS] Skip subset=share1 protein=sEH and set metric value to None..\n"
     ]
    },
    {
     "name": "stdout",
     "output_type": "stream",
     "text": [
      "3.0\t59.9933\t65.1742\t61.2836\t35.5851\t83.1113\n",
      "\n",
      "\n",
      "------------3500-----------\n"
     ]
    },
    {
     "name": "stderr",
     "output_type": "stream",
     "text": [
      "[METRICS] Skip subset=nonshare protein=BRD4 and set metric value to None..\n",
      "[METRICS] Skip subset=nonshare protein=HSA and set metric value to None..\n",
      "[METRICS] Skip subset=nonshare protein=sEH and set metric value to None..\n",
      "[METRICS] Skip subset=share1 protein=BRD4 and set metric value to None..\n",
      "[METRICS] Skip subset=share1 protein=HSA and set metric value to None..\n",
      "[METRICS] Skip subset=share1 protein=sEH and set metric value to None..\n"
     ]
    },
    {
     "name": "stdout",
     "output_type": "stream",
     "text": [
      "3.5\t60.1196\t65.2864\t61.592\t35.5736\t83.1932\n",
      "\n",
      "\n",
      "------------4000-----------\n"
     ]
    },
    {
     "name": "stderr",
     "output_type": "stream",
     "text": [
      "[METRICS] Skip subset=nonshare protein=BRD4 and set metric value to None..\n",
      "[METRICS] Skip subset=nonshare protein=HSA and set metric value to None..\n",
      "[METRICS] Skip subset=nonshare protein=sEH and set metric value to None..\n",
      "[METRICS] Skip subset=share1 protein=BRD4 and set metric value to None..\n",
      "[METRICS] Skip subset=share1 protein=HSA and set metric value to None..\n",
      "[METRICS] Skip subset=share1 protein=sEH and set metric value to None..\n"
     ]
    },
    {
     "name": "stdout",
     "output_type": "stream",
     "text": [
      "4.0\t60.204\t65.3984\t61.7387\t35.5481\t83.3251\n",
      "\n",
      "\n",
      "------------4484-----------\n"
     ]
    },
    {
     "name": "stderr",
     "output_type": "stream",
     "text": [
      "[METRICS] Skip subset=nonshare protein=BRD4 and set metric value to None..\n",
      "[METRICS] Skip subset=nonshare protein=HSA and set metric value to None..\n",
      "[METRICS] Skip subset=nonshare protein=sEH and set metric value to None..\n",
      "[METRICS] Skip subset=share1 protein=BRD4 and set metric value to None..\n",
      "[METRICS] Skip subset=share1 protein=HSA and set metric value to None..\n",
      "[METRICS] Skip subset=share1 protein=sEH and set metric value to None..\n"
     ]
    },
    {
     "name": "stdout",
     "output_type": "stream",
     "text": [
      "4.5\t60.1809\t65.374\t61.8127\t35.4294\t83.3007\n",
      "------------FINAL RESULTS---------------\n",
      "\n",
      "iterations\tshare_AP\tshare_micro_AP\tshare_BRD4_AP\tshare_HSA_AP\tshare_sEH_AP\n",
      "0.0\t19.4345\t26.2375\t9.4669\t4.7554\t44.0811\n",
      "0.5\t54.5334\t59.2967\t54.1388\t32.9817\t76.4798\n",
      "1.0\t57.9785\t62.9624\t58.2907\t35.0731\t80.5718\n",
      "1.5\t59.1553\t64.1792\t59.8591\t35.6947\t81.9121\n",
      "2.0\t59.6436\t64.6588\t60.3978\t36.0649\t82.4681\n",
      "2.5\t59.8903\t64.9924\t60.9188\t35.8951\t82.8571\n",
      "3.0\t59.9933\t65.1742\t61.2836\t35.5851\t83.1113\n",
      "3.5\t60.1196\t65.2864\t61.592\t35.5736\t83.1932\n",
      "4.0\t60.204\t65.3984\t61.7387\t35.5481\t83.3251\n",
      "4.5\t60.1809\t65.374\t61.8127\t35.4294\t83.3007\n",
      "METRICS AT CHUNK=3:\n",
      "{'share_BRD4_AP': 0.6181266769944002, 'share_HSA_AP': 0.35429415858842894, 'share_sEH_AP': 0.8330074306253765, 'share2_BRD4_AP': 0.6181266769944002, 'share2_HSA_AP': 0.35429415858842894, 'share2_sEH_AP': 0.8330074306253765, 'pseudo_AP': 0.6018094220694019, 'AP': 0.6018094220694019, 'share_AP': 0.6018094220694019, 'share2_AP': 0.6018094220694019, 'share_micro_AP': 0.6537399020820095}\n",
      "\n",
      "\n",
      "\n",
      "\n",
      "\n",
      "\n",
      "##################################################\n",
      "[860.74 s] [TRAINING] chunk=4 pos=1506745 neg=7533725\n",
      "Loading train features..\n",
      "[82.15 s] Filter (9040470, 2048) (9040470, 3)\n",
      "[0.0 s] Unpacked (9040470, 2048)\n",
      "[16.43 s] Train pool: 9040470 x 2048\n",
      "{'iterations': 4500, 'learning_rate': 0.2, 'depth': 10, 'loss_function': 'MultiLogloss', 'nan_mode': 'Forbidden', 'use_best_model': True, 'logging_level': 'Verbose', 'metric_period': 100, 'has_time': False, 'allow_const_label': False, 'train_dir': './runs/catboost/v0/chunk_4', 'save_snapshot': True, 'snapshot_interval': 600, 'gpu_ram_part': 0.75, 'allow_writing_files': True, 'task_type': 'GPU', 'devices': '0:2:3', 'bootstrap_type': 'No', 'random_state': 42, 'early_stopping_rounds': 1000, 'grow_policy': 'SymmetricTree', 'min_data_in_leaf': 2}\n"
     ]
    },
    {
     "data": {
      "application/vnd.jupyter.widget-view+json": {
       "model_id": "674f46e15a464afcb74c690e1e8d5450",
       "version_major": 2,
       "version_minor": 0
      },
      "text/plain": [
       "MetricVisualizer(layout=Layout(align_self='stretch', height='500px'))"
      ]
     },
     "metadata": {},
     "output_type": "display_data"
    },
    {
     "name": "stdout",
     "output_type": "stream",
     "text": [
      "0:\tlearn: 0.4153601\ttest: 0.4025781\tbest: 0.4025781 (0)\ttotal: 310ms\tremaining: 23m 13s\n",
      "100:\tlearn: 0.0833489\ttest: 0.0342409\tbest: 0.0342409 (100)\ttotal: 18.7s\tremaining: 13m 36s\n",
      "200:\tlearn: 0.0740203\ttest: 0.0306751\tbest: 0.0306751 (200)\ttotal: 37.6s\tremaining: 13m 24s\n",
      "300:\tlearn: 0.0694601\ttest: 0.0287325\tbest: 0.0287325 (300)\ttotal: 56.5s\tremaining: 13m 8s\n",
      "400:\tlearn: 0.0666761\ttest: 0.0276077\tbest: 0.0276077 (400)\ttotal: 1m 15s\tremaining: 12m 52s\n",
      "500:\tlearn: 0.0646247\ttest: 0.0268179\tbest: 0.0268179 (500)\ttotal: 1m 34s\tremaining: 12m 35s\n",
      "600:\tlearn: 0.0630382\ttest: 0.0262565\tbest: 0.0262565 (600)\ttotal: 1m 53s\tremaining: 12m 17s\n",
      "700:\tlearn: 0.0617036\ttest: 0.0258177\tbest: 0.0258177 (700)\ttotal: 2m 13s\tremaining: 12m\n",
      "800:\tlearn: 0.0605896\ttest: 0.0254800\tbest: 0.0254800 (800)\ttotal: 2m 32s\tremaining: 11m 43s\n",
      "900:\tlearn: 0.0596023\ttest: 0.0251877\tbest: 0.0251877 (900)\ttotal: 2m 51s\tremaining: 11m 25s\n",
      "1000:\tlearn: 0.0587240\ttest: 0.0249752\tbest: 0.0249752 (1000)\ttotal: 3m 10s\tremaining: 11m 7s\n",
      "1100:\tlearn: 0.0579337\ttest: 0.0247827\tbest: 0.0247827 (1100)\ttotal: 3m 30s\tremaining: 10m 48s\n",
      "1200:\tlearn: 0.0572139\ttest: 0.0246365\tbest: 0.0246365 (1200)\ttotal: 3m 49s\tremaining: 10m 30s\n",
      "1300:\tlearn: 0.0565458\ttest: 0.0245077\tbest: 0.0245077 (1300)\ttotal: 4m 8s\tremaining: 10m 10s\n",
      "1400:\tlearn: 0.0559079\ttest: 0.0243913\tbest: 0.0243913 (1400)\ttotal: 4m 27s\tremaining: 9m 51s\n",
      "1500:\tlearn: 0.0553402\ttest: 0.0243041\tbest: 0.0243041 (1500)\ttotal: 4m 45s\tremaining: 9m 31s\n",
      "1600:\tlearn: 0.0547567\ttest: 0.0242218\tbest: 0.0242218 (1600)\ttotal: 5m 4s\tremaining: 9m 12s\n",
      "1700:\tlearn: 0.0542332\ttest: 0.0241557\tbest: 0.0241557 (1700)\ttotal: 5m 23s\tremaining: 8m 52s\n",
      "1800:\tlearn: 0.0537161\ttest: 0.0240907\tbest: 0.0240907 (1800)\ttotal: 5m 42s\tremaining: 8m 33s\n",
      "1900:\tlearn: 0.0532453\ttest: 0.0240358\tbest: 0.0240358 (1900)\ttotal: 6m\tremaining: 8m 13s\n",
      "2000:\tlearn: 0.0527658\ttest: 0.0239762\tbest: 0.0239761 (1999)\ttotal: 6m 19s\tremaining: 7m 54s\n",
      "2100:\tlearn: 0.0523208\ttest: 0.0239380\tbest: 0.0239356 (2093)\ttotal: 6m 38s\tremaining: 7m 34s\n",
      "2200:\tlearn: 0.0518825\ttest: 0.0238850\tbest: 0.0238844 (2197)\ttotal: 6m 56s\tremaining: 7m 15s\n",
      "2300:\tlearn: 0.0514889\ttest: 0.0238424\tbest: 0.0238424 (2300)\ttotal: 7m 14s\tremaining: 6m 55s\n",
      "2400:\tlearn: 0.0510883\ttest: 0.0238083\tbest: 0.0238082 (2393)\ttotal: 7m 33s\tremaining: 6m 36s\n",
      "2500:\tlearn: 0.0506958\ttest: 0.0237615\tbest: 0.0237615 (2500)\ttotal: 7m 51s\tremaining: 6m 16s\n",
      "2600:\tlearn: 0.0503117\ttest: 0.0237371\tbest: 0.0237363 (2598)\ttotal: 8m 9s\tremaining: 5m 57s\n",
      "2700:\tlearn: 0.0499345\ttest: 0.0237156\tbest: 0.0237156 (2700)\ttotal: 8m 28s\tremaining: 5m 38s\n",
      "2800:\tlearn: 0.0495674\ttest: 0.0236865\tbest: 0.0236862 (2799)\ttotal: 8m 46s\tremaining: 5m 19s\n",
      "2900:\tlearn: 0.0492084\ttest: 0.0236565\tbest: 0.0236548 (2898)\ttotal: 9m 4s\tremaining: 5m\n",
      "3000:\tlearn: 0.0488614\ttest: 0.0236222\tbest: 0.0236222 (3000)\ttotal: 9m 23s\tremaining: 4m 41s\n",
      "3100:\tlearn: 0.0485303\ttest: 0.0236081\tbest: 0.0236077 (3094)\ttotal: 9m 41s\tremaining: 4m 22s\n",
      "3200:\tlearn: 0.0482097\ttest: 0.0235913\tbest: 0.0235890 (3176)\ttotal: 9m 59s\tremaining: 4m 3s\n",
      "3300:\tlearn: 0.0478863\ttest: 0.0235735\tbest: 0.0235725 (3282)\ttotal: 10m 17s\tremaining: 3m 44s\n",
      "3400:\tlearn: 0.0475733\ttest: 0.0235645\tbest: 0.0235635 (3353)\ttotal: 10m 35s\tremaining: 3m 25s\n",
      "3500:\tlearn: 0.0472666\ttest: 0.0235460\tbest: 0.0235459 (3499)\ttotal: 10m 53s\tremaining: 3m 6s\n",
      "3600:\tlearn: 0.0469590\ttest: 0.0235422\tbest: 0.0235385 (3590)\ttotal: 11m 11s\tremaining: 2m 47s\n",
      "3700:\tlearn: 0.0466612\ttest: 0.0235288\tbest: 0.0235280 (3699)\ttotal: 11m 29s\tremaining: 2m 28s\n",
      "3800:\tlearn: 0.0463721\ttest: 0.0235248\tbest: 0.0235242 (3798)\ttotal: 11m 47s\tremaining: 2m 10s\n",
      "3900:\tlearn: 0.0460860\ttest: 0.0235085\tbest: 0.0235085 (3900)\ttotal: 12m 4s\tremaining: 1m 51s\n",
      "4000:\tlearn: 0.0458010\ttest: 0.0234875\tbest: 0.0234864 (3998)\ttotal: 12m 22s\tremaining: 1m 32s\n",
      "4100:\tlearn: 0.0455135\ttest: 0.0234736\tbest: 0.0234724 (4071)\ttotal: 12m 40s\tremaining: 1m 14s\n",
      "4200:\tlearn: 0.0452263\ttest: 0.0234632\tbest: 0.0234624 (4192)\ttotal: 12m 58s\tremaining: 55.4s\n",
      "4300:\tlearn: 0.0449617\ttest: 0.0234560\tbest: 0.0234548 (4296)\ttotal: 13m 16s\tremaining: 36.8s\n",
      "4400:\tlearn: 0.0447001\ttest: 0.0234443\tbest: 0.0234441 (4398)\ttotal: 13m 34s\tremaining: 18.3s\n",
      "4499:\tlearn: 0.0444533\ttest: 0.0234355\tbest: 0.0234355 (4495)\ttotal: 13m 51s\tremaining: 0us\n",
      "bestTest = 0.02343551296\n",
      "bestIteration = 4495\n",
      "Shrink model to first 4496 iterations.\n",
      "ALL PARAMS:\n",
      " {'nan_mode': 'Forbidden', 'gpu_ram_part': 0.75, 'eval_metric': 'MultiLogloss', 'iterations': 4500, 'leaf_estimation_method': 'Newton', 'observations_to_bootstrap': 'TestOnly', 'od_pval': 0, 'random_score_type': 'NormalWithModelSizeDecrease', 'grow_policy': 'SymmetricTree', 'penalties_coefficient': 1, 'boosting_type': 'Plain', 'feature_border_type': 'GreedyLogSum', 'bayesian_matrix_reg': 0.10000000149011612, 'devices': '0:2:3', 'eval_fraction': 0, 'pinned_memory_bytes': '104857600', 'force_unit_auto_pair_weights': False, 'l2_leaf_reg': 3, 'random_strength': 1, 'od_type': 'Iter', 'rsm': 1, 'boost_from_average': False, 'gpu_cat_features_storage': 'GpuRam', 'fold_size_loss_normalization': False, 'model_size_reg': 0.5, 'pool_metainfo_options': {'tags': {}}, 'use_best_model': True, 'meta_l2_frequency': 0, 'od_wait': 1000, 'class_names': [0, 1, 2], 'random_seed': 42, 'depth': 10, 'border_count': 128, 'min_fold_size': 100, 'data_partition': 'DocParallel', 'classes_count': 0, 'auto_class_weights': 'None', 'leaf_estimation_backtracking': 'AnyImprovement', 'best_model_min_trees': 1, 'min_data_in_leaf': 2, 'add_ridge_penalty_to_loss_function': False, 'loss_function': 'MultiLogloss', 'learning_rate': 0.20000000298023224, 'meta_l2_exponent': 1, 'score_function': 'Cosine', 'task_type': 'GPU', 'leaf_estimation_iterations': 10, 'bootstrap_type': 'No', 'max_leaves': 1024}\n",
      "\n",
      "\n",
      "------------0-----------\n"
     ]
    },
    {
     "name": "stderr",
     "output_type": "stream",
     "text": [
      "[METRICS] Skip subset=nonshare protein=BRD4 and set metric value to None..\n",
      "[METRICS] Skip subset=nonshare protein=HSA and set metric value to None..\n",
      "[METRICS] Skip subset=nonshare protein=sEH and set metric value to None..\n",
      "[METRICS] Skip subset=share1 protein=BRD4 and set metric value to None..\n",
      "[METRICS] Skip subset=share1 protein=HSA and set metric value to None..\n",
      "[METRICS] Skip subset=share1 protein=sEH and set metric value to None..\n"
     ]
    },
    {
     "name": "stdout",
     "output_type": "stream",
     "text": [
      "0.0\t19.14\t25.9074\t9.4496\t4.6008\t43.3698\n",
      "\n",
      "\n",
      "------------500-----------\n"
     ]
    },
    {
     "name": "stderr",
     "output_type": "stream",
     "text": [
      "[METRICS] Skip subset=nonshare protein=BRD4 and set metric value to None..\n",
      "[METRICS] Skip subset=nonshare protein=HSA and set metric value to None..\n",
      "[METRICS] Skip subset=nonshare protein=sEH and set metric value to None..\n",
      "[METRICS] Skip subset=share1 protein=BRD4 and set metric value to None..\n",
      "[METRICS] Skip subset=share1 protein=HSA and set metric value to None..\n",
      "[METRICS] Skip subset=share1 protein=sEH and set metric value to None..\n"
     ]
    },
    {
     "name": "stdout",
     "output_type": "stream",
     "text": [
      "0.5\t54.2242\t59.1294\t54.4353\t31.9849\t76.2525\n",
      "\n",
      "\n",
      "------------1000-----------\n"
     ]
    },
    {
     "name": "stderr",
     "output_type": "stream",
     "text": [
      "[METRICS] Skip subset=nonshare protein=BRD4 and set metric value to None..\n",
      "[METRICS] Skip subset=nonshare protein=HSA and set metric value to None..\n",
      "[METRICS] Skip subset=nonshare protein=sEH and set metric value to None..\n",
      "[METRICS] Skip subset=share1 protein=BRD4 and set metric value to None..\n",
      "[METRICS] Skip subset=share1 protein=HSA and set metric value to None..\n",
      "[METRICS] Skip subset=share1 protein=sEH and set metric value to None..\n"
     ]
    },
    {
     "name": "stdout",
     "output_type": "stream",
     "text": [
      "1.0\t57.5401\t62.6878\t58.1497\t34.0427\t80.428\n",
      "\n",
      "\n",
      "------------1500-----------\n"
     ]
    },
    {
     "name": "stderr",
     "output_type": "stream",
     "text": [
      "[METRICS] Skip subset=nonshare protein=BRD4 and set metric value to None..\n",
      "[METRICS] Skip subset=nonshare protein=HSA and set metric value to None..\n",
      "[METRICS] Skip subset=nonshare protein=sEH and set metric value to None..\n",
      "[METRICS] Skip subset=share1 protein=BRD4 and set metric value to None..\n",
      "[METRICS] Skip subset=share1 protein=HSA and set metric value to None..\n",
      "[METRICS] Skip subset=share1 protein=sEH and set metric value to None..\n"
     ]
    },
    {
     "name": "stdout",
     "output_type": "stream",
     "text": [
      "1.5\t58.7647\t63.8994\t59.7194\t34.8646\t81.7101\n",
      "\n",
      "\n",
      "------------2000-----------\n"
     ]
    },
    {
     "name": "stderr",
     "output_type": "stream",
     "text": [
      "[METRICS] Skip subset=nonshare protein=BRD4 and set metric value to None..\n",
      "[METRICS] Skip subset=nonshare protein=HSA and set metric value to None..\n",
      "[METRICS] Skip subset=nonshare protein=sEH and set metric value to None..\n",
      "[METRICS] Skip subset=share1 protein=BRD4 and set metric value to None..\n",
      "[METRICS] Skip subset=share1 protein=HSA and set metric value to None..\n",
      "[METRICS] Skip subset=share1 protein=sEH and set metric value to None..\n"
     ]
    },
    {
     "name": "stdout",
     "output_type": "stream",
     "text": [
      "2.0\t59.106\t64.346\t60.3181\t34.7183\t82.2816\n",
      "\n",
      "\n",
      "------------2500-----------\n"
     ]
    },
    {
     "name": "stderr",
     "output_type": "stream",
     "text": [
      "[METRICS] Skip subset=nonshare protein=BRD4 and set metric value to None..\n",
      "[METRICS] Skip subset=nonshare protein=HSA and set metric value to None..\n",
      "[METRICS] Skip subset=nonshare protein=sEH and set metric value to None..\n",
      "[METRICS] Skip subset=share1 protein=BRD4 and set metric value to None..\n",
      "[METRICS] Skip subset=share1 protein=HSA and set metric value to None..\n",
      "[METRICS] Skip subset=share1 protein=sEH and set metric value to None..\n"
     ]
    },
    {
     "name": "stdout",
     "output_type": "stream",
     "text": [
      "2.5\t59.4224\t64.6586\t60.8301\t34.8912\t82.5457\n",
      "\n",
      "\n",
      "------------3000-----------\n"
     ]
    },
    {
     "name": "stderr",
     "output_type": "stream",
     "text": [
      "[METRICS] Skip subset=nonshare protein=BRD4 and set metric value to None..\n",
      "[METRICS] Skip subset=nonshare protein=HSA and set metric value to None..\n",
      "[METRICS] Skip subset=nonshare protein=sEH and set metric value to None..\n",
      "[METRICS] Skip subset=share1 protein=BRD4 and set metric value to None..\n",
      "[METRICS] Skip subset=share1 protein=HSA and set metric value to None..\n",
      "[METRICS] Skip subset=share1 protein=sEH and set metric value to None..\n"
     ]
    },
    {
     "name": "stdout",
     "output_type": "stream",
     "text": [
      "3.0\t59.5869\t64.8086\t61.2587\t34.8771\t82.6249\n",
      "\n",
      "\n",
      "------------3500-----------\n"
     ]
    },
    {
     "name": "stderr",
     "output_type": "stream",
     "text": [
      "[METRICS] Skip subset=nonshare protein=BRD4 and set metric value to None..\n",
      "[METRICS] Skip subset=nonshare protein=HSA and set metric value to None..\n",
      "[METRICS] Skip subset=nonshare protein=sEH and set metric value to None..\n",
      "[METRICS] Skip subset=share1 protein=BRD4 and set metric value to None..\n",
      "[METRICS] Skip subset=share1 protein=HSA and set metric value to None..\n",
      "[METRICS] Skip subset=share1 protein=sEH and set metric value to None..\n"
     ]
    },
    {
     "name": "stdout",
     "output_type": "stream",
     "text": [
      "3.5\t59.6574\t64.8863\t61.4381\t34.8363\t82.6979\n",
      "\n",
      "\n",
      "------------4000-----------\n"
     ]
    },
    {
     "name": "stderr",
     "output_type": "stream",
     "text": [
      "[METRICS] Skip subset=nonshare protein=BRD4 and set metric value to None..\n",
      "[METRICS] Skip subset=nonshare protein=HSA and set metric value to None..\n",
      "[METRICS] Skip subset=nonshare protein=sEH and set metric value to None..\n",
      "[METRICS] Skip subset=share1 protein=BRD4 and set metric value to None..\n",
      "[METRICS] Skip subset=share1 protein=HSA and set metric value to None..\n",
      "[METRICS] Skip subset=share1 protein=sEH and set metric value to None..\n"
     ]
    },
    {
     "name": "stdout",
     "output_type": "stream",
     "text": [
      "4.0\t59.6739\t64.8616\t61.4899\t34.8865\t82.6452\n",
      "\n",
      "\n",
      "------------4495-----------\n"
     ]
    },
    {
     "name": "stderr",
     "output_type": "stream",
     "text": [
      "[METRICS] Skip subset=nonshare protein=BRD4 and set metric value to None..\n",
      "[METRICS] Skip subset=nonshare protein=HSA and set metric value to None..\n",
      "[METRICS] Skip subset=nonshare protein=sEH and set metric value to None..\n",
      "[METRICS] Skip subset=share1 protein=BRD4 and set metric value to None..\n",
      "[METRICS] Skip subset=share1 protein=HSA and set metric value to None..\n",
      "[METRICS] Skip subset=share1 protein=sEH and set metric value to None..\n"
     ]
    },
    {
     "name": "stdout",
     "output_type": "stream",
     "text": [
      "4.5\t59.6689\t64.9026\t61.5211\t34.7118\t82.7737\n",
      "------------FINAL RESULTS---------------\n",
      "\n",
      "iterations\tshare_AP\tshare_micro_AP\tshare_BRD4_AP\tshare_HSA_AP\tshare_sEH_AP\n",
      "0.0\t19.14\t25.9074\t9.4496\t4.6008\t43.3698\n",
      "0.5\t54.2242\t59.1294\t54.4353\t31.9849\t76.2525\n",
      "1.0\t57.5401\t62.6878\t58.1497\t34.0427\t80.428\n",
      "1.5\t58.7647\t63.8994\t59.7194\t34.8646\t81.7101\n",
      "2.0\t59.106\t64.346\t60.3181\t34.7183\t82.2816\n",
      "2.5\t59.4224\t64.6586\t60.8301\t34.8912\t82.5457\n",
      "3.0\t59.5869\t64.8086\t61.2587\t34.8771\t82.6249\n",
      "3.5\t59.6574\t64.8863\t61.4381\t34.8363\t82.6979\n",
      "4.0\t59.6739\t64.8616\t61.4899\t34.8865\t82.6452\n",
      "4.5\t59.6689\t64.9026\t61.5211\t34.7118\t82.7737\n",
      "METRICS AT CHUNK=4:\n",
      "{'share_BRD4_AP': 0.6152113453246663, 'share_HSA_AP': 0.34711818312919845, 'share_sEH_AP': 0.8277372437367303, 'share2_BRD4_AP': 0.6152113453246663, 'share2_HSA_AP': 0.34711818312919845, 'share2_sEH_AP': 0.8277372437367303, 'pseudo_AP': 0.5966889240635317, 'AP': 0.5966889240635317, 'share_AP': 0.5966889240635317, 'share2_AP': 0.5966889240635317, 'share_micro_AP': 0.6490256503150351}\n",
      "\n",
      "\n",
      "\n",
      "\n",
      "\n",
      "\n",
      "##################################################\n",
      "[862.05 s] [TRAINING] chunk=5 pos=1506745 neg=7533725\n",
      "Loading train features..\n",
      "[67.13 s] Filter (9040470, 2048) (9040470, 3)\n",
      "[0.0 s] Unpacked (9040470, 2048)\n",
      "[15.49 s] Train pool: 9040470 x 2048\n",
      "{'iterations': 4500, 'learning_rate': 0.2, 'depth': 10, 'loss_function': 'MultiLogloss', 'nan_mode': 'Forbidden', 'use_best_model': True, 'logging_level': 'Verbose', 'metric_period': 100, 'has_time': False, 'allow_const_label': False, 'train_dir': './runs/catboost/v0/chunk_5', 'save_snapshot': True, 'snapshot_interval': 600, 'gpu_ram_part': 0.75, 'allow_writing_files': True, 'task_type': 'GPU', 'devices': '0:2:3', 'bootstrap_type': 'No', 'random_state': 42, 'early_stopping_rounds': 1000, 'grow_policy': 'SymmetricTree', 'min_data_in_leaf': 2}\n"
     ]
    },
    {
     "data": {
      "application/vnd.jupyter.widget-view+json": {
       "model_id": "ecedef03a74a43158f2b781701af86e4",
       "version_major": 2,
       "version_minor": 0
      },
      "text/plain": [
       "MetricVisualizer(layout=Layout(align_self='stretch', height='500px'))"
      ]
     },
     "metadata": {},
     "output_type": "display_data"
    },
    {
     "name": "stdout",
     "output_type": "stream",
     "text": [
      "0:\tlearn: 0.4153509\ttest: 0.4025768\tbest: 0.4025768 (0)\ttotal: 283ms\tremaining: 21m 14s\n",
      "100:\tlearn: 0.0828093\ttest: 0.0338670\tbest: 0.0338670 (100)\ttotal: 18.9s\tremaining: 13m 45s\n",
      "200:\tlearn: 0.0738647\ttest: 0.0304745\tbest: 0.0304745 (200)\ttotal: 37.6s\tremaining: 13m 24s\n",
      "300:\tlearn: 0.0693688\ttest: 0.0286154\tbest: 0.0286154 (300)\ttotal: 56.6s\tremaining: 13m 9s\n",
      "400:\tlearn: 0.0664809\ttest: 0.0274584\tbest: 0.0274584 (400)\ttotal: 1m 15s\tremaining: 12m 53s\n",
      "500:\tlearn: 0.0644948\ttest: 0.0266985\tbest: 0.0266985 (500)\ttotal: 1m 34s\tremaining: 12m 37s\n",
      "600:\tlearn: 0.0629167\ttest: 0.0261211\tbest: 0.0261211 (600)\ttotal: 1m 54s\tremaining: 12m 21s\n",
      "700:\tlearn: 0.0615979\ttest: 0.0256724\tbest: 0.0256724 (700)\ttotal: 2m 13s\tremaining: 12m 2s\n",
      "800:\tlearn: 0.0604618\ttest: 0.0253372\tbest: 0.0253372 (800)\ttotal: 2m 32s\tremaining: 11m 44s\n",
      "900:\tlearn: 0.0595130\ttest: 0.0250863\tbest: 0.0250863 (900)\ttotal: 2m 51s\tremaining: 11m 26s\n",
      "1000:\tlearn: 0.0586462\ttest: 0.0248569\tbest: 0.0248569 (1000)\ttotal: 3m 11s\tremaining: 11m 8s\n",
      "1100:\tlearn: 0.0578596\ttest: 0.0246736\tbest: 0.0246736 (1100)\ttotal: 3m 30s\tremaining: 10m 49s\n",
      "1200:\tlearn: 0.0571345\ttest: 0.0245251\tbest: 0.0245251 (1200)\ttotal: 3m 49s\tremaining: 10m 30s\n",
      "1300:\tlearn: 0.0564686\ttest: 0.0243901\tbest: 0.0243901 (1300)\ttotal: 4m 8s\tremaining: 10m 11s\n",
      "1400:\tlearn: 0.0558447\ttest: 0.0242751\tbest: 0.0242751 (1400)\ttotal: 4m 27s\tremaining: 9m 52s\n",
      "1500:\tlearn: 0.0552594\ttest: 0.0241750\tbest: 0.0241750 (1500)\ttotal: 4m 46s\tremaining: 9m 32s\n",
      "1600:\tlearn: 0.0547099\ttest: 0.0240926\tbest: 0.0240922 (1599)\ttotal: 5m 5s\tremaining: 9m 13s\n",
      "1700:\tlearn: 0.0541899\ttest: 0.0240137\tbest: 0.0240137 (1700)\ttotal: 5m 24s\tremaining: 8m 53s\n",
      "1800:\tlearn: 0.0536839\ttest: 0.0239594\tbest: 0.0239594 (1800)\ttotal: 5m 42s\tremaining: 8m 33s\n",
      "1900:\tlearn: 0.0532183\ttest: 0.0239183\tbest: 0.0239183 (1900)\ttotal: 6m 1s\tremaining: 8m 14s\n",
      "2000:\tlearn: 0.0527777\ttest: 0.0238693\tbest: 0.0238693 (2000)\ttotal: 6m 19s\tremaining: 7m 54s\n",
      "2100:\tlearn: 0.0523072\ttest: 0.0238277\tbest: 0.0238254 (2096)\ttotal: 6m 38s\tremaining: 7m 34s\n",
      "2200:\tlearn: 0.0518870\ttest: 0.0237908\tbest: 0.0237900 (2199)\ttotal: 6m 56s\tremaining: 7m 15s\n",
      "2300:\tlearn: 0.0514773\ttest: 0.0237479\tbest: 0.0237479 (2300)\ttotal: 7m 14s\tremaining: 6m 55s\n",
      "2400:\tlearn: 0.0510754\ttest: 0.0237208\tbest: 0.0237208 (2400)\ttotal: 7m 33s\tremaining: 6m 36s\n",
      "2500:\tlearn: 0.0506897\ttest: 0.0236937\tbest: 0.0236937 (2500)\ttotal: 7m 51s\tremaining: 6m 16s\n",
      "2600:\tlearn: 0.0502970\ttest: 0.0236556\tbest: 0.0236542 (2595)\ttotal: 8m 9s\tremaining: 5m 57s\n",
      "2700:\tlearn: 0.0499201\ttest: 0.0236247\tbest: 0.0236221 (2691)\ttotal: 8m 28s\tremaining: 5m 38s\n",
      "2800:\tlearn: 0.0495587\ttest: 0.0235907\tbest: 0.0235907 (2800)\ttotal: 8m 46s\tremaining: 5m 19s\n",
      "2900:\tlearn: 0.0492158\ttest: 0.0235603\tbest: 0.0235603 (2900)\ttotal: 9m 4s\tremaining: 5m\n",
      "3000:\tlearn: 0.0488759\ttest: 0.0235309\tbest: 0.0235307 (2998)\ttotal: 9m 22s\tremaining: 4m 41s\n",
      "3100:\tlearn: 0.0485331\ttest: 0.0235100\tbest: 0.0235100 (3100)\ttotal: 9m 40s\tremaining: 4m 22s\n",
      "3200:\tlearn: 0.0482054\ttest: 0.0234892\tbest: 0.0234890 (3194)\ttotal: 9m 59s\tremaining: 4m 3s\n",
      "3300:\tlearn: 0.0478684\ttest: 0.0234645\tbest: 0.0234645 (3300)\ttotal: 10m 17s\tremaining: 3m 44s\n",
      "3400:\tlearn: 0.0475468\ttest: 0.0234355\tbest: 0.0234346 (3398)\ttotal: 10m 35s\tremaining: 3m 25s\n",
      "3500:\tlearn: 0.0472335\ttest: 0.0234210\tbest: 0.0234178 (3488)\ttotal: 10m 53s\tremaining: 3m 6s\n",
      "3600:\tlearn: 0.0469389\ttest: 0.0234150\tbest: 0.0234137 (3584)\ttotal: 11m 11s\tremaining: 2m 47s\n",
      "3700:\tlearn: 0.0466463\ttest: 0.0233945\tbest: 0.0233945 (3700)\ttotal: 11m 28s\tremaining: 2m 28s\n",
      "3800:\tlearn: 0.0463450\ttest: 0.0233707\tbest: 0.0233685 (3797)\ttotal: 11m 46s\tremaining: 2m 9s\n",
      "3900:\tlearn: 0.0460565\ttest: 0.0233559\tbest: 0.0233559 (3900)\ttotal: 12m 4s\tremaining: 1m 51s\n",
      "4000:\tlearn: 0.0457758\ttest: 0.0233416\tbest: 0.0233406 (3991)\ttotal: 12m 22s\tremaining: 1m 32s\n",
      "4100:\tlearn: 0.0454995\ttest: 0.0233293\tbest: 0.0233277 (4095)\ttotal: 12m 40s\tremaining: 1m 13s\n",
      "4200:\tlearn: 0.0452274\ttest: 0.0233126\tbest: 0.0233121 (4196)\ttotal: 12m 57s\tremaining: 55.4s\n",
      "4300:\tlearn: 0.0449592\ttest: 0.0232953\tbest: 0.0232943 (4296)\ttotal: 13m 15s\tremaining: 36.8s\n",
      "4400:\tlearn: 0.0446885\ttest: 0.0232832\tbest: 0.0232827 (4399)\ttotal: 13m 33s\tremaining: 18.3s\n",
      "4499:\tlearn: 0.0444167\ttest: 0.0232677\tbest: 0.0232661 (4496)\ttotal: 13m 51s\tremaining: 0us\n",
      "bestTest = 0.0232661084\n",
      "bestIteration = 4496\n",
      "Shrink model to first 4497 iterations.\n",
      "ALL PARAMS:\n",
      " {'nan_mode': 'Forbidden', 'gpu_ram_part': 0.75, 'eval_metric': 'MultiLogloss', 'iterations': 4500, 'leaf_estimation_method': 'Newton', 'observations_to_bootstrap': 'TestOnly', 'od_pval': 0, 'random_score_type': 'NormalWithModelSizeDecrease', 'grow_policy': 'SymmetricTree', 'penalties_coefficient': 1, 'boosting_type': 'Plain', 'feature_border_type': 'GreedyLogSum', 'bayesian_matrix_reg': 0.10000000149011612, 'devices': '0:2:3', 'eval_fraction': 0, 'pinned_memory_bytes': '104857600', 'force_unit_auto_pair_weights': False, 'l2_leaf_reg': 3, 'random_strength': 1, 'od_type': 'Iter', 'rsm': 1, 'boost_from_average': False, 'gpu_cat_features_storage': 'GpuRam', 'fold_size_loss_normalization': False, 'model_size_reg': 0.5, 'pool_metainfo_options': {'tags': {}}, 'use_best_model': True, 'meta_l2_frequency': 0, 'od_wait': 1000, 'class_names': [0, 1, 2], 'random_seed': 42, 'depth': 10, 'border_count': 128, 'min_fold_size': 100, 'data_partition': 'DocParallel', 'classes_count': 0, 'auto_class_weights': 'None', 'leaf_estimation_backtracking': 'AnyImprovement', 'best_model_min_trees': 1, 'min_data_in_leaf': 2, 'add_ridge_penalty_to_loss_function': False, 'loss_function': 'MultiLogloss', 'learning_rate': 0.20000000298023224, 'meta_l2_exponent': 1, 'score_function': 'Cosine', 'task_type': 'GPU', 'leaf_estimation_iterations': 10, 'bootstrap_type': 'No', 'max_leaves': 1024}\n",
      "\n",
      "\n",
      "------------0-----------\n"
     ]
    },
    {
     "name": "stderr",
     "output_type": "stream",
     "text": [
      "[METRICS] Skip subset=nonshare protein=BRD4 and set metric value to None..\n",
      "[METRICS] Skip subset=nonshare protein=HSA and set metric value to None..\n",
      "[METRICS] Skip subset=nonshare protein=sEH and set metric value to None..\n",
      "[METRICS] Skip subset=share1 protein=BRD4 and set metric value to None..\n",
      "[METRICS] Skip subset=share1 protein=HSA and set metric value to None..\n",
      "[METRICS] Skip subset=share1 protein=sEH and set metric value to None..\n"
     ]
    },
    {
     "name": "stdout",
     "output_type": "stream",
     "text": [
      "0.0\t19.1557\t25.9062\t9.4365\t4.5967\t43.4338\n",
      "\n",
      "\n",
      "------------500-----------\n"
     ]
    },
    {
     "name": "stderr",
     "output_type": "stream",
     "text": [
      "[METRICS] Skip subset=nonshare protein=BRD4 and set metric value to None..\n",
      "[METRICS] Skip subset=nonshare protein=HSA and set metric value to None..\n",
      "[METRICS] Skip subset=nonshare protein=sEH and set metric value to None..\n",
      "[METRICS] Skip subset=share1 protein=BRD4 and set metric value to None..\n",
      "[METRICS] Skip subset=share1 protein=HSA and set metric value to None..\n",
      "[METRICS] Skip subset=share1 protein=sEH and set metric value to None..\n"
     ]
    },
    {
     "name": "stdout",
     "output_type": "stream",
     "text": [
      "0.5\t54.8176\t59.5137\t54.6269\t33.4151\t76.4108\n",
      "\n",
      "\n",
      "------------1000-----------\n"
     ]
    },
    {
     "name": "stderr",
     "output_type": "stream",
     "text": [
      "[METRICS] Skip subset=nonshare protein=BRD4 and set metric value to None..\n",
      "[METRICS] Skip subset=nonshare protein=HSA and set metric value to None..\n",
      "[METRICS] Skip subset=nonshare protein=sEH and set metric value to None..\n",
      "[METRICS] Skip subset=share1 protein=BRD4 and set metric value to None..\n",
      "[METRICS] Skip subset=share1 protein=HSA and set metric value to None..\n",
      "[METRICS] Skip subset=share1 protein=sEH and set metric value to None..\n"
     ]
    },
    {
     "name": "stdout",
     "output_type": "stream",
     "text": [
      "1.0\t57.9543\t62.8501\t58.3423\t35.3172\t80.2033\n",
      "\n",
      "\n",
      "------------1500-----------\n"
     ]
    },
    {
     "name": "stderr",
     "output_type": "stream",
     "text": [
      "[METRICS] Skip subset=nonshare protein=BRD4 and set metric value to None..\n",
      "[METRICS] Skip subset=nonshare protein=HSA and set metric value to None..\n",
      "[METRICS] Skip subset=nonshare protein=sEH and set metric value to None..\n",
      "[METRICS] Skip subset=share1 protein=BRD4 and set metric value to None..\n",
      "[METRICS] Skip subset=share1 protein=HSA and set metric value to None..\n",
      "[METRICS] Skip subset=share1 protein=sEH and set metric value to None..\n"
     ]
    },
    {
     "name": "stdout",
     "output_type": "stream",
     "text": [
      "1.5\t59.0279\t63.9938\t59.9093\t35.7562\t81.4183\n",
      "\n",
      "\n",
      "------------2000-----------\n"
     ]
    },
    {
     "name": "stderr",
     "output_type": "stream",
     "text": [
      "[METRICS] Skip subset=nonshare protein=BRD4 and set metric value to None..\n",
      "[METRICS] Skip subset=nonshare protein=HSA and set metric value to None..\n",
      "[METRICS] Skip subset=nonshare protein=sEH and set metric value to None..\n",
      "[METRICS] Skip subset=share1 protein=BRD4 and set metric value to None..\n",
      "[METRICS] Skip subset=share1 protein=HSA and set metric value to None..\n",
      "[METRICS] Skip subset=share1 protein=sEH and set metric value to None..\n"
     ]
    },
    {
     "name": "stdout",
     "output_type": "stream",
     "text": [
      "2.0\t59.4353\t64.4207\t60.4839\t35.8563\t81.9656\n",
      "\n",
      "\n",
      "------------2500-----------\n"
     ]
    },
    {
     "name": "stderr",
     "output_type": "stream",
     "text": [
      "[METRICS] Skip subset=nonshare protein=BRD4 and set metric value to None..\n",
      "[METRICS] Skip subset=nonshare protein=HSA and set metric value to None..\n",
      "[METRICS] Skip subset=nonshare protein=sEH and set metric value to None..\n",
      "[METRICS] Skip subset=share1 protein=BRD4 and set metric value to None..\n",
      "[METRICS] Skip subset=share1 protein=HSA and set metric value to None..\n",
      "[METRICS] Skip subset=share1 protein=sEH and set metric value to None..\n"
     ]
    },
    {
     "name": "stdout",
     "output_type": "stream",
     "text": [
      "2.5\t59.5512\t64.6131\t60.7554\t35.6332\t82.265\n",
      "\n",
      "\n",
      "------------3000-----------\n"
     ]
    },
    {
     "name": "stderr",
     "output_type": "stream",
     "text": [
      "[METRICS] Skip subset=nonshare protein=BRD4 and set metric value to None..\n",
      "[METRICS] Skip subset=nonshare protein=HSA and set metric value to None..\n",
      "[METRICS] Skip subset=nonshare protein=sEH and set metric value to None..\n",
      "[METRICS] Skip subset=share1 protein=BRD4 and set metric value to None..\n",
      "[METRICS] Skip subset=share1 protein=HSA and set metric value to None..\n",
      "[METRICS] Skip subset=share1 protein=sEH and set metric value to None..\n"
     ]
    },
    {
     "name": "stdout",
     "output_type": "stream",
     "text": [
      "3.0\t59.8055\t64.8694\t61.1853\t35.7297\t82.5013\n",
      "\n",
      "\n",
      "------------3500-----------\n"
     ]
    },
    {
     "name": "stderr",
     "output_type": "stream",
     "text": [
      "[METRICS] Skip subset=nonshare protein=BRD4 and set metric value to None..\n",
      "[METRICS] Skip subset=nonshare protein=HSA and set metric value to None..\n",
      "[METRICS] Skip subset=nonshare protein=sEH and set metric value to None..\n",
      "[METRICS] Skip subset=share1 protein=BRD4 and set metric value to None..\n",
      "[METRICS] Skip subset=share1 protein=HSA and set metric value to None..\n",
      "[METRICS] Skip subset=share1 protein=sEH and set metric value to None..\n"
     ]
    },
    {
     "name": "stdout",
     "output_type": "stream",
     "text": [
      "3.5\t59.8711\t64.9905\t61.2055\t35.6803\t82.7275\n",
      "\n",
      "\n",
      "------------4000-----------\n"
     ]
    },
    {
     "name": "stderr",
     "output_type": "stream",
     "text": [
      "[METRICS] Skip subset=nonshare protein=BRD4 and set metric value to None..\n",
      "[METRICS] Skip subset=nonshare protein=HSA and set metric value to None..\n",
      "[METRICS] Skip subset=nonshare protein=sEH and set metric value to None..\n",
      "[METRICS] Skip subset=share1 protein=BRD4 and set metric value to None..\n",
      "[METRICS] Skip subset=share1 protein=HSA and set metric value to None..\n",
      "[METRICS] Skip subset=share1 protein=sEH and set metric value to None..\n"
     ]
    },
    {
     "name": "stdout",
     "output_type": "stream",
     "text": [
      "4.0\t60.015\t65.0922\t61.3586\t35.8703\t82.8161\n",
      "\n",
      "\n",
      "------------4496-----------\n"
     ]
    },
    {
     "name": "stderr",
     "output_type": "stream",
     "text": [
      "[METRICS] Skip subset=nonshare protein=BRD4 and set metric value to None..\n",
      "[METRICS] Skip subset=nonshare protein=HSA and set metric value to None..\n",
      "[METRICS] Skip subset=nonshare protein=sEH and set metric value to None..\n",
      "[METRICS] Skip subset=share1 protein=BRD4 and set metric value to None..\n",
      "[METRICS] Skip subset=share1 protein=HSA and set metric value to None..\n",
      "[METRICS] Skip subset=share1 protein=sEH and set metric value to None..\n"
     ]
    },
    {
     "name": "stdout",
     "output_type": "stream",
     "text": [
      "4.5\t60.0191\t65.1751\t61.4459\t35.6408\t82.9706\n",
      "------------FINAL RESULTS---------------\n",
      "\n",
      "iterations\tshare_AP\tshare_micro_AP\tshare_BRD4_AP\tshare_HSA_AP\tshare_sEH_AP\n",
      "0.0\t19.1557\t25.9062\t9.4365\t4.5967\t43.4338\n",
      "0.5\t54.8176\t59.5137\t54.6269\t33.4151\t76.4108\n",
      "1.0\t57.9543\t62.8501\t58.3423\t35.3172\t80.2033\n",
      "1.5\t59.0279\t63.9938\t59.9093\t35.7562\t81.4183\n",
      "2.0\t59.4353\t64.4207\t60.4839\t35.8563\t81.9656\n",
      "2.5\t59.5512\t64.6131\t60.7554\t35.6332\t82.265\n",
      "3.0\t59.8055\t64.8694\t61.1853\t35.7297\t82.5013\n",
      "3.5\t59.8711\t64.9905\t61.2055\t35.6803\t82.7275\n",
      "4.0\t60.015\t65.0922\t61.3586\t35.8703\t82.8161\n",
      "4.5\t60.0191\t65.1751\t61.4459\t35.6408\t82.9706\n",
      "METRICS AT CHUNK=5:\n",
      "{'share_BRD4_AP': 0.6144591196658546, 'share_HSA_AP': 0.3564077235901145, 'share_sEH_AP': 0.8297059463250006, 'share2_BRD4_AP': 0.6144591196658546, 'share2_HSA_AP': 0.3564077235901145, 'share2_sEH_AP': 0.8297059463250006, 'pseudo_AP': 0.6001909298603233, 'AP': 0.6001909298603233, 'share_AP': 0.6001909298603233, 'share2_AP': 0.6001909298603233, 'share_micro_AP': 0.6517509955298584}\n",
      "\n",
      "\n",
      "\n",
      "\n",
      "\n",
      "\n",
      "##################################################\n",
      "[859.56 s] [TRAINING] chunk=6 pos=1506745 neg=7533725\n",
      "Loading train features..\n",
      "[43.92 s] Filter (9040470, 2048) (9040470, 3)\n",
      "[0.0 s] Unpacked (9040470, 2048)\n",
      "[16.68 s] Train pool: 9040470 x 2048\n",
      "{'iterations': 4500, 'learning_rate': 0.2, 'depth': 10, 'loss_function': 'MultiLogloss', 'nan_mode': 'Forbidden', 'use_best_model': True, 'logging_level': 'Verbose', 'metric_period': 100, 'has_time': False, 'allow_const_label': False, 'train_dir': './runs/catboost/v0/chunk_6', 'save_snapshot': True, 'snapshot_interval': 600, 'gpu_ram_part': 0.75, 'allow_writing_files': True, 'task_type': 'GPU', 'devices': '0:2:3', 'bootstrap_type': 'No', 'random_state': 42, 'early_stopping_rounds': 1000, 'grow_policy': 'SymmetricTree', 'min_data_in_leaf': 2}\n"
     ]
    },
    {
     "data": {
      "application/vnd.jupyter.widget-view+json": {
       "model_id": "1eb5669a44a441cdac169781b6ba46b4",
       "version_major": 2,
       "version_minor": 0
      },
      "text/plain": [
       "MetricVisualizer(layout=Layout(align_self='stretch', height='500px'))"
      ]
     },
     "metadata": {},
     "output_type": "display_data"
    },
    {
     "name": "stdout",
     "output_type": "stream",
     "text": [
      "0:\tlearn: 0.4153657\ttest: 0.4025805\tbest: 0.4025805 (0)\ttotal: 305ms\tremaining: 22m 51s\n",
      "100:\tlearn: 0.0830622\ttest: 0.0340118\tbest: 0.0340118 (100)\ttotal: 18.9s\tremaining: 13m 45s\n",
      "200:\tlearn: 0.0739136\ttest: 0.0304875\tbest: 0.0304875 (200)\ttotal: 37.7s\tremaining: 13m 27s\n",
      "300:\tlearn: 0.0694224\ttest: 0.0286627\tbest: 0.0286627 (300)\ttotal: 57.1s\tremaining: 13m 16s\n",
      "400:\tlearn: 0.0666254\ttest: 0.0275144\tbest: 0.0275144 (400)\ttotal: 1m 15s\tremaining: 12m 56s\n",
      "500:\tlearn: 0.0646240\ttest: 0.0267625\tbest: 0.0267625 (500)\ttotal: 1m 35s\tremaining: 12m 39s\n",
      "600:\tlearn: 0.0629960\ttest: 0.0261852\tbest: 0.0261852 (600)\ttotal: 1m 54s\tremaining: 12m 23s\n",
      "700:\tlearn: 0.0616857\ttest: 0.0257012\tbest: 0.0257012 (700)\ttotal: 2m 13s\tremaining: 12m 5s\n",
      "800:\tlearn: 0.0605871\ttest: 0.0253548\tbest: 0.0253548 (800)\ttotal: 2m 33s\tremaining: 11m 48s\n",
      "900:\tlearn: 0.0595956\ttest: 0.0250756\tbest: 0.0250756 (900)\ttotal: 2m 52s\tremaining: 11m 30s\n",
      "1000:\tlearn: 0.0586987\ttest: 0.0248569\tbest: 0.0248569 (1000)\ttotal: 3m 12s\tremaining: 11m 13s\n",
      "1100:\tlearn: 0.0579180\ttest: 0.0246721\tbest: 0.0246721 (1100)\ttotal: 3m 32s\tremaining: 10m 54s\n",
      "1200:\tlearn: 0.0571979\ttest: 0.0245199\tbest: 0.0245199 (1200)\ttotal: 3m 51s\tremaining: 10m 35s\n",
      "1300:\tlearn: 0.0565211\ttest: 0.0243756\tbest: 0.0243756 (1300)\ttotal: 4m 10s\tremaining: 10m 16s\n",
      "1400:\tlearn: 0.0559097\ttest: 0.0242713\tbest: 0.0242713 (1400)\ttotal: 4m 29s\tremaining: 9m 56s\n",
      "1500:\tlearn: 0.0553082\ttest: 0.0241731\tbest: 0.0241731 (1500)\ttotal: 4m 49s\tremaining: 9m 37s\n",
      "1600:\tlearn: 0.0547505\ttest: 0.0240819\tbest: 0.0240809 (1599)\ttotal: 5m 8s\tremaining: 9m 18s\n",
      "1700:\tlearn: 0.0542360\ttest: 0.0240003\tbest: 0.0240003 (1700)\ttotal: 5m 27s\tremaining: 8m 58s\n",
      "1800:\tlearn: 0.0537478\ttest: 0.0239443\tbest: 0.0239443 (1800)\ttotal: 5m 46s\tremaining: 8m 38s\n",
      "1900:\tlearn: 0.0532681\ttest: 0.0238836\tbest: 0.0238836 (1900)\ttotal: 6m 4s\tremaining: 8m 18s\n",
      "2000:\tlearn: 0.0528038\ttest: 0.0238148\tbest: 0.0238148 (2000)\ttotal: 6m 23s\tremaining: 7m 58s\n",
      "2100:\tlearn: 0.0523463\ttest: 0.0237657\tbest: 0.0237657 (2100)\ttotal: 6m 42s\tremaining: 7m 39s\n",
      "2200:\tlearn: 0.0519259\ttest: 0.0237220\tbest: 0.0237216 (2199)\ttotal: 7m\tremaining: 7m 19s\n",
      "2300:\tlearn: 0.0515100\ttest: 0.0236855\tbest: 0.0236840 (2297)\ttotal: 7m 19s\tremaining: 6m 59s\n",
      "2400:\tlearn: 0.0511166\ttest: 0.0236506\tbest: 0.0236506 (2400)\ttotal: 7m 37s\tremaining: 6m 40s\n",
      "2500:\tlearn: 0.0507143\ttest: 0.0236187\tbest: 0.0236187 (2500)\ttotal: 7m 56s\tremaining: 6m 21s\n",
      "2600:\tlearn: 0.0503356\ttest: 0.0235959\tbest: 0.0235959 (2600)\ttotal: 8m 15s\tremaining: 6m 1s\n",
      "2700:\tlearn: 0.0499609\ttest: 0.0235629\tbest: 0.0235629 (2700)\ttotal: 8m 33s\tremaining: 5m 42s\n",
      "2800:\tlearn: 0.0496025\ttest: 0.0235391\tbest: 0.0235391 (2800)\ttotal: 8m 52s\tremaining: 5m 22s\n",
      "2900:\tlearn: 0.0492586\ttest: 0.0235063\tbest: 0.0235063 (2894)\ttotal: 9m 10s\tremaining: 5m 3s\n",
      "3000:\tlearn: 0.0489013\ttest: 0.0234964\tbest: 0.0234950 (2962)\ttotal: 9m 29s\tremaining: 4m 44s\n",
      "3100:\tlearn: 0.0485652\ttest: 0.0234747\tbest: 0.0234747 (3100)\ttotal: 9m 47s\tremaining: 4m 24s\n",
      "3200:\tlearn: 0.0482391\ttest: 0.0234635\tbest: 0.0234619 (3197)\ttotal: 10m 5s\tremaining: 4m 5s\n",
      "3300:\tlearn: 0.0479122\ttest: 0.0234413\tbest: 0.0234412 (3298)\ttotal: 10m 24s\tremaining: 3m 46s\n",
      "3400:\tlearn: 0.0475746\ttest: 0.0234297\tbest: 0.0234297 (3400)\ttotal: 10m 42s\tremaining: 3m 27s\n",
      "3500:\tlearn: 0.0472592\ttest: 0.0234075\tbest: 0.0234074 (3499)\ttotal: 11m 1s\tremaining: 3m 8s\n",
      "3600:\tlearn: 0.0469739\ttest: 0.0233967\tbest: 0.0233946 (3590)\ttotal: 11m 18s\tremaining: 2m 49s\n",
      "3700:\tlearn: 0.0466870\ttest: 0.0233791\tbest: 0.0233791 (3700)\ttotal: 11m 36s\tremaining: 2m 30s\n",
      "3800:\tlearn: 0.0463860\ttest: 0.0233678\tbest: 0.0233670 (3791)\ttotal: 11m 54s\tremaining: 2m 11s\n",
      "3900:\tlearn: 0.0461014\ttest: 0.0233543\tbest: 0.0233533 (3896)\ttotal: 12m 12s\tremaining: 1m 52s\n",
      "4000:\tlearn: 0.0458162\ttest: 0.0233477\tbest: 0.0233436 (3970)\ttotal: 12m 30s\tremaining: 1m 33s\n",
      "4100:\tlearn: 0.0455170\ttest: 0.0233361\tbest: 0.0233352 (4084)\ttotal: 12m 49s\tremaining: 1m 14s\n",
      "4200:\tlearn: 0.0452505\ttest: 0.0233140\tbest: 0.0233133 (4197)\ttotal: 13m 7s\tremaining: 56s\n",
      "4300:\tlearn: 0.0449763\ttest: 0.0233021\tbest: 0.0233016 (4291)\ttotal: 13m 24s\tremaining: 37.2s\n",
      "4400:\tlearn: 0.0447097\ttest: 0.0232972\tbest: 0.0232971 (4399)\ttotal: 13m 43s\tremaining: 18.5s\n",
      "4499:\tlearn: 0.0444339\ttest: 0.0232882\tbest: 0.0232864 (4487)\ttotal: 14m 1s\tremaining: 0us\n",
      "bestTest = 0.0232863658\n",
      "bestIteration = 4487\n",
      "Shrink model to first 4488 iterations.\n",
      "ALL PARAMS:\n",
      " {'nan_mode': 'Forbidden', 'gpu_ram_part': 0.75, 'eval_metric': 'MultiLogloss', 'iterations': 4500, 'leaf_estimation_method': 'Newton', 'observations_to_bootstrap': 'TestOnly', 'od_pval': 0, 'random_score_type': 'NormalWithModelSizeDecrease', 'grow_policy': 'SymmetricTree', 'penalties_coefficient': 1, 'boosting_type': 'Plain', 'feature_border_type': 'GreedyLogSum', 'bayesian_matrix_reg': 0.10000000149011612, 'devices': '0:2:3', 'eval_fraction': 0, 'pinned_memory_bytes': '104857600', 'force_unit_auto_pair_weights': False, 'l2_leaf_reg': 3, 'random_strength': 1, 'od_type': 'Iter', 'rsm': 1, 'boost_from_average': False, 'gpu_cat_features_storage': 'GpuRam', 'fold_size_loss_normalization': False, 'model_size_reg': 0.5, 'pool_metainfo_options': {'tags': {}}, 'use_best_model': True, 'meta_l2_frequency': 0, 'od_wait': 1000, 'class_names': [0, 1, 2], 'random_seed': 42, 'depth': 10, 'border_count': 128, 'min_fold_size': 100, 'data_partition': 'DocParallel', 'classes_count': 0, 'auto_class_weights': 'None', 'leaf_estimation_backtracking': 'AnyImprovement', 'best_model_min_trees': 1, 'min_data_in_leaf': 2, 'add_ridge_penalty_to_loss_function': False, 'loss_function': 'MultiLogloss', 'learning_rate': 0.20000000298023224, 'meta_l2_exponent': 1, 'score_function': 'Cosine', 'task_type': 'GPU', 'leaf_estimation_iterations': 10, 'bootstrap_type': 'No', 'max_leaves': 1024}\n",
      "\n",
      "\n",
      "------------0-----------\n"
     ]
    },
    {
     "name": "stderr",
     "output_type": "stream",
     "text": [
      "[METRICS] Skip subset=nonshare protein=BRD4 and set metric value to None..\n",
      "[METRICS] Skip subset=nonshare protein=HSA and set metric value to None..\n",
      "[METRICS] Skip subset=nonshare protein=sEH and set metric value to None..\n",
      "[METRICS] Skip subset=share1 protein=BRD4 and set metric value to None..\n",
      "[METRICS] Skip subset=share1 protein=HSA and set metric value to None..\n",
      "[METRICS] Skip subset=share1 protein=sEH and set metric value to None..\n"
     ]
    },
    {
     "name": "stdout",
     "output_type": "stream",
     "text": [
      "0.0\t19.1129\t25.8157\t9.4458\t4.6845\t43.2083\n",
      "\n",
      "\n",
      "------------500-----------\n"
     ]
    },
    {
     "name": "stderr",
     "output_type": "stream",
     "text": [
      "[METRICS] Skip subset=nonshare protein=BRD4 and set metric value to None..\n",
      "[METRICS] Skip subset=nonshare protein=HSA and set metric value to None..\n",
      "[METRICS] Skip subset=nonshare protein=sEH and set metric value to None..\n",
      "[METRICS] Skip subset=share1 protein=BRD4 and set metric value to None..\n",
      "[METRICS] Skip subset=share1 protein=HSA and set metric value to None..\n",
      "[METRICS] Skip subset=share1 protein=sEH and set metric value to None..\n"
     ]
    },
    {
     "name": "stdout",
     "output_type": "stream",
     "text": [
      "0.5\t54.6232\t59.2151\t54.4246\t33.4527\t75.9924\n",
      "\n",
      "\n",
      "------------1000-----------\n"
     ]
    },
    {
     "name": "stderr",
     "output_type": "stream",
     "text": [
      "[METRICS] Skip subset=nonshare protein=BRD4 and set metric value to None..\n",
      "[METRICS] Skip subset=nonshare protein=HSA and set metric value to None..\n",
      "[METRICS] Skip subset=nonshare protein=sEH and set metric value to None..\n",
      "[METRICS] Skip subset=share1 protein=BRD4 and set metric value to None..\n",
      "[METRICS] Skip subset=share1 protein=HSA and set metric value to None..\n",
      "[METRICS] Skip subset=share1 protein=sEH and set metric value to None..\n"
     ]
    },
    {
     "name": "stdout",
     "output_type": "stream",
     "text": [
      "1.0\t58.1162\t62.9537\t58.2016\t35.6873\t80.4596\n",
      "\n",
      "\n",
      "------------1500-----------\n"
     ]
    },
    {
     "name": "stderr",
     "output_type": "stream",
     "text": [
      "[METRICS] Skip subset=nonshare protein=BRD4 and set metric value to None..\n",
      "[METRICS] Skip subset=nonshare protein=HSA and set metric value to None..\n",
      "[METRICS] Skip subset=nonshare protein=sEH and set metric value to None..\n",
      "[METRICS] Skip subset=share1 protein=BRD4 and set metric value to None..\n",
      "[METRICS] Skip subset=share1 protein=HSA and set metric value to None..\n",
      "[METRICS] Skip subset=share1 protein=sEH and set metric value to None..\n"
     ]
    },
    {
     "name": "stdout",
     "output_type": "stream",
     "text": [
      "1.5\t59.1373\t64.0705\t59.4884\t36.2123\t81.7112\n",
      "\n",
      "\n",
      "------------2000-----------\n"
     ]
    },
    {
     "name": "stderr",
     "output_type": "stream",
     "text": [
      "[METRICS] Skip subset=nonshare protein=BRD4 and set metric value to None..\n",
      "[METRICS] Skip subset=nonshare protein=HSA and set metric value to None..\n",
      "[METRICS] Skip subset=nonshare protein=sEH and set metric value to None..\n",
      "[METRICS] Skip subset=share1 protein=BRD4 and set metric value to None..\n",
      "[METRICS] Skip subset=share1 protein=HSA and set metric value to None..\n",
      "[METRICS] Skip subset=share1 protein=sEH and set metric value to None..\n"
     ]
    },
    {
     "name": "stdout",
     "output_type": "stream",
     "text": [
      "2.0\t59.6565\t64.6683\t60.3113\t36.2149\t82.4435\n",
      "\n",
      "\n",
      "------------2500-----------\n"
     ]
    },
    {
     "name": "stderr",
     "output_type": "stream",
     "text": [
      "[METRICS] Skip subset=nonshare protein=BRD4 and set metric value to None..\n",
      "[METRICS] Skip subset=nonshare protein=HSA and set metric value to None..\n",
      "[METRICS] Skip subset=nonshare protein=sEH and set metric value to None..\n",
      "[METRICS] Skip subset=share1 protein=BRD4 and set metric value to None..\n",
      "[METRICS] Skip subset=share1 protein=HSA and set metric value to None..\n",
      "[METRICS] Skip subset=share1 protein=sEH and set metric value to None..\n"
     ]
    },
    {
     "name": "stdout",
     "output_type": "stream",
     "text": [
      "2.5\t59.965\t65.0006\t60.9054\t36.1877\t82.8021\n",
      "\n",
      "\n",
      "------------3000-----------\n"
     ]
    },
    {
     "name": "stderr",
     "output_type": "stream",
     "text": [
      "[METRICS] Skip subset=nonshare protein=BRD4 and set metric value to None..\n",
      "[METRICS] Skip subset=nonshare protein=HSA and set metric value to None..\n",
      "[METRICS] Skip subset=nonshare protein=sEH and set metric value to None..\n",
      "[METRICS] Skip subset=share1 protein=BRD4 and set metric value to None..\n",
      "[METRICS] Skip subset=share1 protein=HSA and set metric value to None..\n",
      "[METRICS] Skip subset=share1 protein=sEH and set metric value to None..\n"
     ]
    },
    {
     "name": "stdout",
     "output_type": "stream",
     "text": [
      "3.0\t59.9782\t65.1308\t61.2004\t35.7387\t82.9956\n",
      "\n",
      "\n",
      "------------3500-----------\n"
     ]
    },
    {
     "name": "stderr",
     "output_type": "stream",
     "text": [
      "[METRICS] Skip subset=nonshare protein=BRD4 and set metric value to None..\n",
      "[METRICS] Skip subset=nonshare protein=HSA and set metric value to None..\n",
      "[METRICS] Skip subset=nonshare protein=sEH and set metric value to None..\n",
      "[METRICS] Skip subset=share1 protein=BRD4 and set metric value to None..\n",
      "[METRICS] Skip subset=share1 protein=HSA and set metric value to None..\n",
      "[METRICS] Skip subset=share1 protein=sEH and set metric value to None..\n"
     ]
    },
    {
     "name": "stdout",
     "output_type": "stream",
     "text": [
      "3.5\t59.9756\t65.2099\t61.2973\t35.4675\t83.1619\n",
      "\n",
      "\n",
      "------------4000-----------\n"
     ]
    },
    {
     "name": "stderr",
     "output_type": "stream",
     "text": [
      "[METRICS] Skip subset=nonshare protein=BRD4 and set metric value to None..\n",
      "[METRICS] Skip subset=nonshare protein=HSA and set metric value to None..\n",
      "[METRICS] Skip subset=nonshare protein=sEH and set metric value to None..\n",
      "[METRICS] Skip subset=share1 protein=BRD4 and set metric value to None..\n",
      "[METRICS] Skip subset=share1 protein=HSA and set metric value to None..\n",
      "[METRICS] Skip subset=share1 protein=sEH and set metric value to None..\n"
     ]
    },
    {
     "name": "stdout",
     "output_type": "stream",
     "text": [
      "4.0\t59.951\t65.2606\t61.4435\t35.1216\t83.2879\n",
      "\n",
      "\n",
      "------------4487-----------\n"
     ]
    },
    {
     "name": "stderr",
     "output_type": "stream",
     "text": [
      "[METRICS] Skip subset=nonshare protein=BRD4 and set metric value to None..\n",
      "[METRICS] Skip subset=nonshare protein=HSA and set metric value to None..\n",
      "[METRICS] Skip subset=nonshare protein=sEH and set metric value to None..\n",
      "[METRICS] Skip subset=share1 protein=BRD4 and set metric value to None..\n",
      "[METRICS] Skip subset=share1 protein=HSA and set metric value to None..\n",
      "[METRICS] Skip subset=share1 protein=sEH and set metric value to None..\n"
     ]
    },
    {
     "name": "stdout",
     "output_type": "stream",
     "text": [
      "4.5\t59.9557\t65.2744\t61.578\t34.9803\t83.3089\n",
      "------------FINAL RESULTS---------------\n",
      "\n",
      "iterations\tshare_AP\tshare_micro_AP\tshare_BRD4_AP\tshare_HSA_AP\tshare_sEH_AP\n",
      "0.0\t19.1129\t25.8157\t9.4458\t4.6845\t43.2083\n",
      "0.5\t54.6232\t59.2151\t54.4246\t33.4527\t75.9924\n",
      "1.0\t58.1162\t62.9537\t58.2016\t35.6873\t80.4596\n",
      "1.5\t59.1373\t64.0705\t59.4884\t36.2123\t81.7112\n",
      "2.0\t59.6565\t64.6683\t60.3113\t36.2149\t82.4435\n",
      "2.5\t59.965\t65.0006\t60.9054\t36.1877\t82.8021\n",
      "3.0\t59.9782\t65.1308\t61.2004\t35.7387\t82.9956\n",
      "3.5\t59.9756\t65.2099\t61.2973\t35.4675\t83.1619\n",
      "4.0\t59.951\t65.2606\t61.4435\t35.1216\t83.2879\n",
      "4.5\t59.9557\t65.2744\t61.578\t34.9803\t83.3089\n",
      "METRICS AT CHUNK=6:\n",
      "{'share_BRD4_AP': 0.6157797029546596, 'share_HSA_AP': 0.34980283258893574, 'share_sEH_AP': 0.8330891418135429, 'share2_BRD4_AP': 0.6157797029546596, 'share2_HSA_AP': 0.34980283258893574, 'share2_sEH_AP': 0.8330891418135429, 'pseudo_AP': 0.5995572257857127, 'AP': 0.5995572257857127, 'share_AP': 0.5995572257857127, 'share2_AP': 0.5995572257857127, 'share_micro_AP': 0.6527442132848078}\n",
      "\n",
      "\n",
      "\n",
      "\n",
      "\n",
      "\n",
      "##################################################\n",
      "[868.48 s] [TRAINING] chunk=7 pos=1506745 neg=7533725\n",
      "Loading train features..\n",
      "[42.66 s] Filter (9040470, 2048) (9040470, 3)\n",
      "[0.0 s] Unpacked (9040470, 2048)\n",
      "[16.12 s] Train pool: 9040470 x 2048\n",
      "{'iterations': 4500, 'learning_rate': 0.2, 'depth': 10, 'loss_function': 'MultiLogloss', 'nan_mode': 'Forbidden', 'use_best_model': True, 'logging_level': 'Verbose', 'metric_period': 100, 'has_time': False, 'allow_const_label': False, 'train_dir': './runs/catboost/v0/chunk_7', 'save_snapshot': True, 'snapshot_interval': 600, 'gpu_ram_part': 0.75, 'allow_writing_files': True, 'task_type': 'GPU', 'devices': '0:2:3', 'bootstrap_type': 'No', 'random_state': 42, 'early_stopping_rounds': 1000, 'grow_policy': 'SymmetricTree', 'min_data_in_leaf': 2}\n"
     ]
    },
    {
     "data": {
      "application/vnd.jupyter.widget-view+json": {
       "model_id": "6c3532a8f6fd4bfe94dd15b7f0f55d1a",
       "version_major": 2,
       "version_minor": 0
      },
      "text/plain": [
       "MetricVisualizer(layout=Layout(align_self='stretch', height='500px'))"
      ]
     },
     "metadata": {},
     "output_type": "display_data"
    },
    {
     "name": "stdout",
     "output_type": "stream",
     "text": [
      "0:\tlearn: 0.4153574\ttest: 0.4025790\tbest: 0.4025790 (0)\ttotal: 293ms\tremaining: 21m 57s\n",
      "100:\tlearn: 0.0828922\ttest: 0.0339385\tbest: 0.0339385 (100)\ttotal: 19s\tremaining: 13m 49s\n",
      "200:\tlearn: 0.0738351\ttest: 0.0305030\tbest: 0.0305030 (200)\ttotal: 38s\tremaining: 13m 32s\n",
      "300:\tlearn: 0.0693730\ttest: 0.0286881\tbest: 0.0286881 (300)\ttotal: 57.1s\tremaining: 13m 16s\n",
      "400:\tlearn: 0.0665700\ttest: 0.0275616\tbest: 0.0275616 (400)\ttotal: 1m 16s\tremaining: 12m 57s\n",
      "500:\tlearn: 0.0645555\ttest: 0.0267530\tbest: 0.0267530 (500)\ttotal: 1m 35s\tremaining: 12m 39s\n",
      "600:\tlearn: 0.0629624\ttest: 0.0261507\tbest: 0.0261507 (600)\ttotal: 1m 54s\tremaining: 12m 22s\n",
      "700:\tlearn: 0.0616535\ttest: 0.0257003\tbest: 0.0257003 (700)\ttotal: 2m 14s\tremaining: 12m 6s\n",
      "800:\tlearn: 0.0605658\ttest: 0.0253819\tbest: 0.0253819 (800)\ttotal: 2m 33s\tremaining: 11m 49s\n",
      "900:\tlearn: 0.0595904\ttest: 0.0251152\tbest: 0.0251152 (900)\ttotal: 2m 53s\tremaining: 11m 31s\n",
      "1000:\tlearn: 0.0587123\ttest: 0.0248771\tbest: 0.0248771 (1000)\ttotal: 3m 12s\tremaining: 11m 14s\n",
      "1100:\tlearn: 0.0579205\ttest: 0.0246902\tbest: 0.0246902 (1100)\ttotal: 3m 32s\tremaining: 10m 56s\n",
      "1200:\tlearn: 0.0571851\ttest: 0.0245140\tbest: 0.0245140 (1200)\ttotal: 3m 52s\tremaining: 10m 38s\n",
      "1300:\tlearn: 0.0565100\ttest: 0.0243776\tbest: 0.0243776 (1300)\ttotal: 4m 12s\tremaining: 10m 19s\n",
      "1400:\tlearn: 0.0558828\ttest: 0.0242663\tbest: 0.0242663 (1400)\ttotal: 4m 31s\tremaining: 10m\n",
      "1500:\tlearn: 0.0552902\ttest: 0.0241988\tbest: 0.0241988 (1500)\ttotal: 4m 50s\tremaining: 9m 40s\n",
      "1600:\tlearn: 0.0547483\ttest: 0.0241201\tbest: 0.0241201 (1600)\ttotal: 5m 9s\tremaining: 9m 21s\n",
      "1700:\tlearn: 0.0542135\ttest: 0.0240358\tbest: 0.0240358 (1700)\ttotal: 5m 28s\tremaining: 9m 1s\n",
      "1800:\tlearn: 0.0537143\ttest: 0.0239570\tbest: 0.0239570 (1800)\ttotal: 5m 48s\tremaining: 8m 41s\n",
      "1900:\tlearn: 0.0532369\ttest: 0.0239078\tbest: 0.0239078 (1900)\ttotal: 6m 6s\tremaining: 8m 21s\n",
      "2000:\tlearn: 0.0527695\ttest: 0.0238423\tbest: 0.0238420 (1997)\ttotal: 6m 26s\tremaining: 8m 2s\n",
      "2100:\tlearn: 0.0523206\ttest: 0.0237971\tbest: 0.0237971 (2100)\ttotal: 6m 45s\tremaining: 7m 42s\n",
      "2200:\tlearn: 0.0519169\ttest: 0.0237482\tbest: 0.0237482 (2200)\ttotal: 7m 3s\tremaining: 7m 22s\n",
      "2300:\tlearn: 0.0514997\ttest: 0.0237021\tbest: 0.0237017 (2299)\ttotal: 7m 22s\tremaining: 7m 2s\n",
      "2400:\tlearn: 0.0511188\ttest: 0.0236608\tbest: 0.0236608 (2400)\ttotal: 7m 40s\tremaining: 6m 42s\n",
      "2500:\tlearn: 0.0507365\ttest: 0.0236227\tbest: 0.0236227 (2500)\ttotal: 7m 58s\tremaining: 6m 22s\n",
      "2600:\tlearn: 0.0503604\ttest: 0.0235969\tbest: 0.0235969 (2600)\ttotal: 8m 17s\tremaining: 6m 3s\n",
      "2700:\tlearn: 0.0499936\ttest: 0.0235660\tbest: 0.0235660 (2700)\ttotal: 8m 35s\tremaining: 5m 43s\n",
      "2800:\tlearn: 0.0496342\ttest: 0.0235388\tbest: 0.0235379 (2798)\ttotal: 8m 53s\tremaining: 5m 23s\n",
      "2900:\tlearn: 0.0492912\ttest: 0.0235182\tbest: 0.0235177 (2898)\ttotal: 9m 12s\tremaining: 5m 4s\n",
      "3000:\tlearn: 0.0489414\ttest: 0.0234771\tbest: 0.0234771 (3000)\ttotal: 9m 30s\tremaining: 4m 44s\n",
      "3100:\tlearn: 0.0486095\ttest: 0.0234385\tbest: 0.0234385 (3100)\ttotal: 9m 48s\tremaining: 4m 25s\n",
      "3200:\tlearn: 0.0482812\ttest: 0.0234212\tbest: 0.0234197 (3198)\ttotal: 10m 7s\tremaining: 4m 6s\n",
      "3300:\tlearn: 0.0479746\ttest: 0.0234058\tbest: 0.0234046 (3299)\ttotal: 10m 25s\tremaining: 3m 47s\n",
      "3400:\tlearn: 0.0476529\ttest: 0.0233874\tbest: 0.0233872 (3391)\ttotal: 10m 43s\tremaining: 3m 27s\n",
      "3500:\tlearn: 0.0473539\ttest: 0.0233643\tbest: 0.0233638 (3499)\ttotal: 11m 1s\tremaining: 3m 8s\n",
      "3600:\tlearn: 0.0470510\ttest: 0.0233468\tbest: 0.0233461 (3596)\ttotal: 11m 19s\tremaining: 2m 49s\n",
      "3700:\tlearn: 0.0467502\ttest: 0.0233226\tbest: 0.0233222 (3696)\ttotal: 11m 37s\tremaining: 2m 30s\n",
      "3800:\tlearn: 0.0464562\ttest: 0.0233118\tbest: 0.0233118 (3800)\ttotal: 11m 55s\tremaining: 2m 11s\n",
      "3900:\tlearn: 0.0461581\ttest: 0.0232999\tbest: 0.0232995 (3892)\ttotal: 12m 13s\tremaining: 1m 52s\n",
      "4000:\tlearn: 0.0458632\ttest: 0.0232873\tbest: 0.0232867 (3999)\ttotal: 12m 31s\tremaining: 1m 33s\n",
      "4100:\tlearn: 0.0455692\ttest: 0.0232687\tbest: 0.0232687 (4100)\ttotal: 12m 50s\tremaining: 1m 14s\n",
      "4200:\tlearn: 0.0452906\ttest: 0.0232558\tbest: 0.0232553 (4199)\ttotal: 13m 8s\tremaining: 56.1s\n",
      "4300:\tlearn: 0.0450217\ttest: 0.0232398\tbest: 0.0232397 (4289)\ttotal: 13m 26s\tremaining: 37.3s\n",
      "4400:\tlearn: 0.0447557\ttest: 0.0232300\tbest: 0.0232289 (4399)\ttotal: 13m 44s\tremaining: 18.5s\n",
      "4499:\tlearn: 0.0445003\ttest: 0.0232180\tbest: 0.0232177 (4497)\ttotal: 14m 2s\tremaining: 0us\n",
      "bestTest = 0.02321773474\n",
      "bestIteration = 4497\n",
      "Shrink model to first 4498 iterations.\n",
      "ALL PARAMS:\n",
      " {'nan_mode': 'Forbidden', 'gpu_ram_part': 0.75, 'eval_metric': 'MultiLogloss', 'iterations': 4500, 'leaf_estimation_method': 'Newton', 'observations_to_bootstrap': 'TestOnly', 'od_pval': 0, 'random_score_type': 'NormalWithModelSizeDecrease', 'grow_policy': 'SymmetricTree', 'penalties_coefficient': 1, 'boosting_type': 'Plain', 'feature_border_type': 'GreedyLogSum', 'bayesian_matrix_reg': 0.10000000149011612, 'devices': '0:2:3', 'eval_fraction': 0, 'pinned_memory_bytes': '104857600', 'force_unit_auto_pair_weights': False, 'l2_leaf_reg': 3, 'random_strength': 1, 'od_type': 'Iter', 'rsm': 1, 'boost_from_average': False, 'gpu_cat_features_storage': 'GpuRam', 'fold_size_loss_normalization': False, 'model_size_reg': 0.5, 'pool_metainfo_options': {'tags': {}}, 'use_best_model': True, 'meta_l2_frequency': 0, 'od_wait': 1000, 'class_names': [0, 1, 2], 'random_seed': 42, 'depth': 10, 'border_count': 128, 'min_fold_size': 100, 'data_partition': 'DocParallel', 'classes_count': 0, 'auto_class_weights': 'None', 'leaf_estimation_backtracking': 'AnyImprovement', 'best_model_min_trees': 1, 'min_data_in_leaf': 2, 'add_ridge_penalty_to_loss_function': False, 'loss_function': 'MultiLogloss', 'learning_rate': 0.20000000298023224, 'meta_l2_exponent': 1, 'score_function': 'Cosine', 'task_type': 'GPU', 'leaf_estimation_iterations': 10, 'bootstrap_type': 'No', 'max_leaves': 1024}\n",
      "\n",
      "\n",
      "------------0-----------\n"
     ]
    },
    {
     "name": "stderr",
     "output_type": "stream",
     "text": [
      "[METRICS] Skip subset=nonshare protein=BRD4 and set metric value to None..\n",
      "[METRICS] Skip subset=nonshare protein=HSA and set metric value to None..\n",
      "[METRICS] Skip subset=nonshare protein=sEH and set metric value to None..\n",
      "[METRICS] Skip subset=share1 protein=BRD4 and set metric value to None..\n",
      "[METRICS] Skip subset=share1 protein=HSA and set metric value to None..\n",
      "[METRICS] Skip subset=share1 protein=sEH and set metric value to None..\n"
     ]
    },
    {
     "name": "stdout",
     "output_type": "stream",
     "text": [
      "0.0\t19.1297\t25.9042\t9.4552\t4.5971\t43.3369\n",
      "\n",
      "\n",
      "------------500-----------\n"
     ]
    },
    {
     "name": "stderr",
     "output_type": "stream",
     "text": [
      "[METRICS] Skip subset=nonshare protein=BRD4 and set metric value to None..\n",
      "[METRICS] Skip subset=nonshare protein=HSA and set metric value to None..\n",
      "[METRICS] Skip subset=nonshare protein=sEH and set metric value to None..\n",
      "[METRICS] Skip subset=share1 protein=BRD4 and set metric value to None..\n",
      "[METRICS] Skip subset=share1 protein=HSA and set metric value to None..\n",
      "[METRICS] Skip subset=share1 protein=sEH and set metric value to None..\n"
     ]
    },
    {
     "name": "stdout",
     "output_type": "stream",
     "text": [
      "0.5\t54.3265\t59.0841\t54.2961\t32.6597\t76.0238\n",
      "\n",
      "\n",
      "------------1000-----------\n"
     ]
    },
    {
     "name": "stderr",
     "output_type": "stream",
     "text": [
      "[METRICS] Skip subset=nonshare protein=BRD4 and set metric value to None..\n",
      "[METRICS] Skip subset=nonshare protein=HSA and set metric value to None..\n",
      "[METRICS] Skip subset=nonshare protein=sEH and set metric value to None..\n",
      "[METRICS] Skip subset=share1 protein=BRD4 and set metric value to None..\n",
      "[METRICS] Skip subset=share1 protein=HSA and set metric value to None..\n",
      "[METRICS] Skip subset=share1 protein=sEH and set metric value to None..\n"
     ]
    },
    {
     "name": "stdout",
     "output_type": "stream",
     "text": [
      "1.0\t57.7205\t62.775\t58.1024\t34.6972\t80.3617\n",
      "\n",
      "\n",
      "------------1500-----------\n"
     ]
    },
    {
     "name": "stderr",
     "output_type": "stream",
     "text": [
      "[METRICS] Skip subset=nonshare protein=BRD4 and set metric value to None..\n",
      "[METRICS] Skip subset=nonshare protein=HSA and set metric value to None..\n",
      "[METRICS] Skip subset=nonshare protein=sEH and set metric value to None..\n",
      "[METRICS] Skip subset=share1 protein=BRD4 and set metric value to None..\n",
      "[METRICS] Skip subset=share1 protein=HSA and set metric value to None..\n",
      "[METRICS] Skip subset=share1 protein=sEH and set metric value to None..\n"
     ]
    },
    {
     "name": "stdout",
     "output_type": "stream",
     "text": [
      "1.5\t58.8216\t63.9583\t59.7271\t35.0506\t81.687\n",
      "\n",
      "\n",
      "------------2000-----------\n"
     ]
    },
    {
     "name": "stderr",
     "output_type": "stream",
     "text": [
      "[METRICS] Skip subset=nonshare protein=BRD4 and set metric value to None..\n",
      "[METRICS] Skip subset=nonshare protein=HSA and set metric value to None..\n",
      "[METRICS] Skip subset=nonshare protein=sEH and set metric value to None..\n",
      "[METRICS] Skip subset=share1 protein=BRD4 and set metric value to None..\n",
      "[METRICS] Skip subset=share1 protein=HSA and set metric value to None..\n",
      "[METRICS] Skip subset=share1 protein=sEH and set metric value to None..\n"
     ]
    },
    {
     "name": "stdout",
     "output_type": "stream",
     "text": [
      "2.0\t59.3082\t64.5463\t60.4662\t35.0504\t82.4081\n",
      "\n",
      "\n",
      "------------2500-----------\n"
     ]
    },
    {
     "name": "stderr",
     "output_type": "stream",
     "text": [
      "[METRICS] Skip subset=nonshare protein=BRD4 and set metric value to None..\n",
      "[METRICS] Skip subset=nonshare protein=HSA and set metric value to None..\n",
      "[METRICS] Skip subset=nonshare protein=sEH and set metric value to None..\n",
      "[METRICS] Skip subset=share1 protein=BRD4 and set metric value to None..\n",
      "[METRICS] Skip subset=share1 protein=HSA and set metric value to None..\n",
      "[METRICS] Skip subset=share1 protein=sEH and set metric value to None..\n"
     ]
    },
    {
     "name": "stdout",
     "output_type": "stream",
     "text": [
      "2.5\t59.5363\t64.8553\t60.8779\t34.9126\t82.8184\n",
      "\n",
      "\n",
      "------------3000-----------\n"
     ]
    },
    {
     "name": "stderr",
     "output_type": "stream",
     "text": [
      "[METRICS] Skip subset=nonshare protein=BRD4 and set metric value to None..\n",
      "[METRICS] Skip subset=nonshare protein=HSA and set metric value to None..\n",
      "[METRICS] Skip subset=nonshare protein=sEH and set metric value to None..\n",
      "[METRICS] Skip subset=share1 protein=BRD4 and set metric value to None..\n",
      "[METRICS] Skip subset=share1 protein=HSA and set metric value to None..\n",
      "[METRICS] Skip subset=share1 protein=sEH and set metric value to None..\n"
     ]
    },
    {
     "name": "stdout",
     "output_type": "stream",
     "text": [
      "3.0\t59.6797\t65.0334\t61.3002\t34.7257\t83.0133\n",
      "\n",
      "\n",
      "------------3500-----------\n"
     ]
    },
    {
     "name": "stderr",
     "output_type": "stream",
     "text": [
      "[METRICS] Skip subset=nonshare protein=BRD4 and set metric value to None..\n",
      "[METRICS] Skip subset=nonshare protein=HSA and set metric value to None..\n",
      "[METRICS] Skip subset=nonshare protein=sEH and set metric value to None..\n",
      "[METRICS] Skip subset=share1 protein=BRD4 and set metric value to None..\n",
      "[METRICS] Skip subset=share1 protein=HSA and set metric value to None..\n",
      "[METRICS] Skip subset=share1 protein=sEH and set metric value to None..\n"
     ]
    },
    {
     "name": "stdout",
     "output_type": "stream",
     "text": [
      "3.5\t59.8374\t65.2312\t61.4844\t34.8088\t83.2191\n",
      "\n",
      "\n",
      "------------4000-----------\n"
     ]
    },
    {
     "name": "stderr",
     "output_type": "stream",
     "text": [
      "[METRICS] Skip subset=nonshare protein=BRD4 and set metric value to None..\n",
      "[METRICS] Skip subset=nonshare protein=HSA and set metric value to None..\n",
      "[METRICS] Skip subset=nonshare protein=sEH and set metric value to None..\n",
      "[METRICS] Skip subset=share1 protein=BRD4 and set metric value to None..\n",
      "[METRICS] Skip subset=share1 protein=HSA and set metric value to None..\n",
      "[METRICS] Skip subset=share1 protein=sEH and set metric value to None..\n"
     ]
    },
    {
     "name": "stdout",
     "output_type": "stream",
     "text": [
      "4.0\t59.8089\t65.2784\t61.5603\t34.5559\t83.3106\n",
      "\n",
      "\n",
      "------------4497-----------\n"
     ]
    },
    {
     "name": "stderr",
     "output_type": "stream",
     "text": [
      "[METRICS] Skip subset=nonshare protein=BRD4 and set metric value to None..\n",
      "[METRICS] Skip subset=nonshare protein=HSA and set metric value to None..\n",
      "[METRICS] Skip subset=nonshare protein=sEH and set metric value to None..\n",
      "[METRICS] Skip subset=share1 protein=BRD4 and set metric value to None..\n",
      "[METRICS] Skip subset=share1 protein=HSA and set metric value to None..\n",
      "[METRICS] Skip subset=share1 protein=sEH and set metric value to None..\n"
     ]
    },
    {
     "name": "stdout",
     "output_type": "stream",
     "text": [
      "4.5\t59.7507\t65.3075\t61.5289\t34.3198\t83.4035\n",
      "------------FINAL RESULTS---------------\n",
      "\n",
      "iterations\tshare_AP\tshare_micro_AP\tshare_BRD4_AP\tshare_HSA_AP\tshare_sEH_AP\n",
      "0.0\t19.1297\t25.9042\t9.4552\t4.5971\t43.3369\n",
      "0.5\t54.3265\t59.0841\t54.2961\t32.6597\t76.0238\n",
      "1.0\t57.7205\t62.775\t58.1024\t34.6972\t80.3617\n",
      "1.5\t58.8216\t63.9583\t59.7271\t35.0506\t81.687\n",
      "2.0\t59.3082\t64.5463\t60.4662\t35.0504\t82.4081\n",
      "2.5\t59.5363\t64.8553\t60.8779\t34.9126\t82.8184\n",
      "3.0\t59.6797\t65.0334\t61.3002\t34.7257\t83.0133\n",
      "3.5\t59.8374\t65.2312\t61.4844\t34.8088\t83.2191\n",
      "4.0\t59.8089\t65.2784\t61.5603\t34.5559\t83.3106\n",
      "4.5\t59.7507\t65.3075\t61.5289\t34.3198\t83.4035\n",
      "METRICS AT CHUNK=7:\n",
      "{'share_BRD4_AP': 0.6152890344753259, 'share_HSA_AP': 0.3431984815585683, 'share_sEH_AP': 0.8340349636042648, 'share2_BRD4_AP': 0.6152890344753259, 'share2_HSA_AP': 0.3431984815585683, 'share2_sEH_AP': 0.8340349636042648, 'pseudo_AP': 0.5975074932127197, 'AP': 0.5975074932127197, 'share_AP': 0.5975074932127197, 'share2_AP': 0.5975074932127197, 'share_micro_AP': 0.6530751086571065}\n",
      "\n",
      "\n",
      "\n",
      "\n",
      "\n",
      "\n",
      "##################################################\n",
      "[870.54 s] [TRAINING] chunk=8 pos=1506745 neg=7533725\n",
      "Loading train features..\n",
      "[44.12 s] Filter (9040470, 2048) (9040470, 3)\n",
      "[0.0 s] Unpacked (9040470, 2048)\n",
      "[16.54 s] Train pool: 9040470 x 2048\n",
      "{'iterations': 4500, 'learning_rate': 0.2, 'depth': 10, 'loss_function': 'MultiLogloss', 'nan_mode': 'Forbidden', 'use_best_model': True, 'logging_level': 'Verbose', 'metric_period': 100, 'has_time': False, 'allow_const_label': False, 'train_dir': './runs/catboost/v0/chunk_8', 'save_snapshot': True, 'snapshot_interval': 600, 'gpu_ram_part': 0.75, 'allow_writing_files': True, 'task_type': 'GPU', 'devices': '0:2:3', 'bootstrap_type': 'No', 'random_state': 42, 'early_stopping_rounds': 1000, 'grow_policy': 'SymmetricTree', 'min_data_in_leaf': 2}\n"
     ]
    },
    {
     "data": {
      "application/vnd.jupyter.widget-view+json": {
       "model_id": "a8215dc5229948e18afd2538b1b58b24",
       "version_major": 2,
       "version_minor": 0
      },
      "text/plain": [
       "MetricVisualizer(layout=Layout(align_self='stretch', height='500px'))"
      ]
     },
     "metadata": {},
     "output_type": "display_data"
    },
    {
     "name": "stdout",
     "output_type": "stream",
     "text": [
      "0:\tlearn: 0.4153831\ttest: 0.4025813\tbest: 0.4025813 (0)\ttotal: 288ms\tremaining: 21m 36s\n",
      "100:\tlearn: 0.0829520\ttest: 0.0339009\tbest: 0.0339009 (100)\ttotal: 19.1s\tremaining: 13m 50s\n",
      "200:\tlearn: 0.0739052\ttest: 0.0304892\tbest: 0.0304892 (200)\ttotal: 38.2s\tremaining: 13m 36s\n",
      "300:\tlearn: 0.0693466\ttest: 0.0286495\tbest: 0.0286495 (300)\ttotal: 57.5s\tremaining: 13m 22s\n",
      "400:\tlearn: 0.0665640\ttest: 0.0275071\tbest: 0.0275071 (400)\ttotal: 1m 16s\tremaining: 13m 3s\n",
      "500:\tlearn: 0.0645364\ttest: 0.0267106\tbest: 0.0267106 (500)\ttotal: 1m 35s\tremaining: 12m 42s\n",
      "600:\tlearn: 0.0629504\ttest: 0.0261451\tbest: 0.0261451 (600)\ttotal: 1m 54s\tremaining: 12m 25s\n",
      "700:\tlearn: 0.0616815\ttest: 0.0257093\tbest: 0.0257084 (699)\ttotal: 2m 13s\tremaining: 12m 5s\n",
      "800:\tlearn: 0.0605848\ttest: 0.0253778\tbest: 0.0253778 (800)\ttotal: 2m 33s\tremaining: 11m 47s\n",
      "900:\tlearn: 0.0596128\ttest: 0.0251228\tbest: 0.0251228 (900)\ttotal: 2m 52s\tremaining: 11m 29s\n",
      "1000:\tlearn: 0.0587387\ttest: 0.0249028\tbest: 0.0249028 (1000)\ttotal: 3m 12s\tremaining: 11m 11s\n",
      "1100:\tlearn: 0.0579565\ttest: 0.0247150\tbest: 0.0247150 (1100)\ttotal: 3m 31s\tremaining: 10m 52s\n",
      "1200:\tlearn: 0.0572229\ttest: 0.0245491\tbest: 0.0245491 (1200)\ttotal: 3m 50s\tremaining: 10m 34s\n",
      "1300:\tlearn: 0.0565509\ttest: 0.0244218\tbest: 0.0244218 (1300)\ttotal: 4m 10s\tremaining: 10m 14s\n",
      "1400:\tlearn: 0.0559103\ttest: 0.0243180\tbest: 0.0243180 (1400)\ttotal: 4m 29s\tremaining: 9m 55s\n",
      "1500:\tlearn: 0.0553375\ttest: 0.0242247\tbest: 0.0242247 (1500)\ttotal: 4m 48s\tremaining: 9m 35s\n",
      "1600:\tlearn: 0.0547888\ttest: 0.0241292\tbest: 0.0241292 (1600)\ttotal: 5m 7s\tremaining: 9m 16s\n",
      "1700:\tlearn: 0.0542698\ttest: 0.0240626\tbest: 0.0240626 (1700)\ttotal: 5m 26s\tremaining: 8m 56s\n",
      "1800:\tlearn: 0.0537507\ttest: 0.0240014\tbest: 0.0240010 (1799)\ttotal: 5m 45s\tremaining: 8m 37s\n",
      "1900:\tlearn: 0.0532755\ttest: 0.0239524\tbest: 0.0239524 (1900)\ttotal: 6m 3s\tremaining: 8m 17s\n",
      "2000:\tlearn: 0.0528118\ttest: 0.0238946\tbest: 0.0238946 (2000)\ttotal: 6m 22s\tremaining: 7m 57s\n",
      "2100:\tlearn: 0.0523539\ttest: 0.0238383\tbest: 0.0238383 (2100)\ttotal: 6m 41s\tremaining: 7m 38s\n",
      "2200:\tlearn: 0.0519200\ttest: 0.0237997\tbest: 0.0237997 (2200)\ttotal: 6m 59s\tremaining: 7m 18s\n",
      "2300:\tlearn: 0.0515117\ttest: 0.0237652\tbest: 0.0237652 (2300)\ttotal: 7m 17s\tremaining: 6m 58s\n",
      "2400:\tlearn: 0.0510967\ttest: 0.0237252\tbest: 0.0237252 (2400)\ttotal: 7m 36s\tremaining: 6m 39s\n",
      "2500:\tlearn: 0.0506926\ttest: 0.0237008\tbest: 0.0236976 (2474)\ttotal: 7m 54s\tremaining: 6m 19s\n",
      "2600:\tlearn: 0.0503207\ttest: 0.0236620\tbest: 0.0236620 (2600)\ttotal: 8m 13s\tremaining: 6m\n",
      "2700:\tlearn: 0.0499428\ttest: 0.0236270\tbest: 0.0236270 (2700)\ttotal: 8m 31s\tremaining: 5m 40s\n",
      "2800:\tlearn: 0.0495717\ttest: 0.0235951\tbest: 0.0235944 (2793)\ttotal: 8m 49s\tremaining: 5m 21s\n",
      "2900:\tlearn: 0.0492268\ttest: 0.0235685\tbest: 0.0235682 (2899)\ttotal: 9m 7s\tremaining: 5m 1s\n",
      "3000:\tlearn: 0.0488917\ttest: 0.0235460\tbest: 0.0235459 (2988)\ttotal: 9m 25s\tremaining: 4m 42s\n",
      "3100:\tlearn: 0.0485743\ttest: 0.0235383\tbest: 0.0235352 (3083)\ttotal: 9m 43s\tremaining: 4m 23s\n",
      "3200:\tlearn: 0.0482386\ttest: 0.0235234\tbest: 0.0235231 (3191)\ttotal: 10m 2s\tremaining: 4m 4s\n",
      "3300:\tlearn: 0.0479266\ttest: 0.0234974\tbest: 0.0234974 (3300)\ttotal: 10m 20s\tremaining: 3m 45s\n",
      "3400:\tlearn: 0.0476065\ttest: 0.0234822\tbest: 0.0234815 (3391)\ttotal: 10m 38s\tremaining: 3m 26s\n",
      "3500:\tlearn: 0.0472950\ttest: 0.0234728\tbest: 0.0234710 (3497)\ttotal: 10m 56s\tremaining: 3m 7s\n",
      "3600:\tlearn: 0.0469838\ttest: 0.0234593\tbest: 0.0234574 (3599)\ttotal: 11m 14s\tremaining: 2m 48s\n",
      "3700:\tlearn: 0.0466867\ttest: 0.0234420\tbest: 0.0234420 (3698)\ttotal: 11m 32s\tremaining: 2m 29s\n",
      "3800:\tlearn: 0.0463923\ttest: 0.0234269\tbest: 0.0234269 (3800)\ttotal: 11m 50s\tremaining: 2m 10s\n",
      "3900:\tlearn: 0.0461019\ttest: 0.0234116\tbest: 0.0234109 (3896)\ttotal: 12m 8s\tremaining: 1m 51s\n",
      "4000:\tlearn: 0.0458118\ttest: 0.0233844\tbest: 0.0233844 (4000)\ttotal: 12m 26s\tremaining: 1m 33s\n",
      "4100:\tlearn: 0.0455271\ttest: 0.0233674\tbest: 0.0233663 (4099)\ttotal: 12m 44s\tremaining: 1m 14s\n",
      "4200:\tlearn: 0.0452444\ttest: 0.0233572\tbest: 0.0233564 (4187)\ttotal: 13m 2s\tremaining: 55.7s\n",
      "4300:\tlearn: 0.0449735\ttest: 0.0233480\tbest: 0.0233480 (4299)\ttotal: 13m 20s\tremaining: 37s\n",
      "4400:\tlearn: 0.0447154\ttest: 0.0233365\tbest: 0.0233365 (4400)\ttotal: 13m 37s\tremaining: 18.4s\n",
      "4499:\tlearn: 0.0444532\ttest: 0.0233332\tbest: 0.0233313 (4494)\ttotal: 13m 55s\tremaining: 0us\n",
      "bestTest = 0.02333130865\n",
      "bestIteration = 4494\n",
      "Shrink model to first 4495 iterations.\n",
      "ALL PARAMS:\n",
      " {'nan_mode': 'Forbidden', 'gpu_ram_part': 0.75, 'eval_metric': 'MultiLogloss', 'iterations': 4500, 'leaf_estimation_method': 'Newton', 'observations_to_bootstrap': 'TestOnly', 'od_pval': 0, 'random_score_type': 'NormalWithModelSizeDecrease', 'grow_policy': 'SymmetricTree', 'penalties_coefficient': 1, 'boosting_type': 'Plain', 'feature_border_type': 'GreedyLogSum', 'bayesian_matrix_reg': 0.10000000149011612, 'devices': '0:2:3', 'eval_fraction': 0, 'pinned_memory_bytes': '104857600', 'force_unit_auto_pair_weights': False, 'l2_leaf_reg': 3, 'random_strength': 1, 'od_type': 'Iter', 'rsm': 1, 'boost_from_average': False, 'gpu_cat_features_storage': 'GpuRam', 'fold_size_loss_normalization': False, 'model_size_reg': 0.5, 'pool_metainfo_options': {'tags': {}}, 'use_best_model': True, 'meta_l2_frequency': 0, 'od_wait': 1000, 'class_names': [0, 1, 2], 'random_seed': 42, 'depth': 10, 'border_count': 128, 'min_fold_size': 100, 'data_partition': 'DocParallel', 'classes_count': 0, 'auto_class_weights': 'None', 'leaf_estimation_backtracking': 'AnyImprovement', 'best_model_min_trees': 1, 'min_data_in_leaf': 2, 'add_ridge_penalty_to_loss_function': False, 'loss_function': 'MultiLogloss', 'learning_rate': 0.20000000298023224, 'meta_l2_exponent': 1, 'score_function': 'Cosine', 'task_type': 'GPU', 'leaf_estimation_iterations': 10, 'bootstrap_type': 'No', 'max_leaves': 1024}\n",
      "\n",
      "\n",
      "------------0-----------\n"
     ]
    },
    {
     "name": "stderr",
     "output_type": "stream",
     "text": [
      "[METRICS] Skip subset=nonshare protein=BRD4 and set metric value to None..\n",
      "[METRICS] Skip subset=nonshare protein=HSA and set metric value to None..\n",
      "[METRICS] Skip subset=nonshare protein=sEH and set metric value to None..\n",
      "[METRICS] Skip subset=share1 protein=BRD4 and set metric value to None..\n",
      "[METRICS] Skip subset=share1 protein=HSA and set metric value to None..\n",
      "[METRICS] Skip subset=share1 protein=sEH and set metric value to None..\n"
     ]
    },
    {
     "name": "stdout",
     "output_type": "stream",
     "text": [
      "0.0\t19.1403\t25.8553\t9.4366\t4.6829\t43.3013\n",
      "\n",
      "\n",
      "------------500-----------\n"
     ]
    },
    {
     "name": "stderr",
     "output_type": "stream",
     "text": [
      "[METRICS] Skip subset=nonshare protein=BRD4 and set metric value to None..\n",
      "[METRICS] Skip subset=nonshare protein=HSA and set metric value to None..\n",
      "[METRICS] Skip subset=nonshare protein=sEH and set metric value to None..\n",
      "[METRICS] Skip subset=share1 protein=BRD4 and set metric value to None..\n",
      "[METRICS] Skip subset=share1 protein=HSA and set metric value to None..\n",
      "[METRICS] Skip subset=share1 protein=sEH and set metric value to None..\n"
     ]
    },
    {
     "name": "stdout",
     "output_type": "stream",
     "text": [
      "0.5\t54.5709\t59.2753\t54.5728\t32.993\t76.147\n",
      "\n",
      "\n",
      "------------1000-----------\n"
     ]
    },
    {
     "name": "stderr",
     "output_type": "stream",
     "text": [
      "[METRICS] Skip subset=nonshare protein=BRD4 and set metric value to None..\n",
      "[METRICS] Skip subset=nonshare protein=HSA and set metric value to None..\n",
      "[METRICS] Skip subset=nonshare protein=sEH and set metric value to None..\n",
      "[METRICS] Skip subset=share1 protein=BRD4 and set metric value to None..\n",
      "[METRICS] Skip subset=share1 protein=HSA and set metric value to None..\n",
      "[METRICS] Skip subset=share1 protein=sEH and set metric value to None..\n"
     ]
    },
    {
     "name": "stdout",
     "output_type": "stream",
     "text": [
      "1.0\t57.8516\t62.7713\t58.2488\t35.1196\t80.1866\n",
      "\n",
      "\n",
      "------------1500-----------\n"
     ]
    },
    {
     "name": "stderr",
     "output_type": "stream",
     "text": [
      "[METRICS] Skip subset=nonshare protein=BRD4 and set metric value to None..\n",
      "[METRICS] Skip subset=nonshare protein=HSA and set metric value to None..\n",
      "[METRICS] Skip subset=nonshare protein=sEH and set metric value to None..\n",
      "[METRICS] Skip subset=share1 protein=BRD4 and set metric value to None..\n",
      "[METRICS] Skip subset=share1 protein=HSA and set metric value to None..\n",
      "[METRICS] Skip subset=share1 protein=sEH and set metric value to None..\n"
     ]
    },
    {
     "name": "stdout",
     "output_type": "stream",
     "text": [
      "1.5\t58.9461\t63.9766\t59.8065\t35.521\t81.5107\n",
      "\n",
      "\n",
      "------------2000-----------\n"
     ]
    },
    {
     "name": "stderr",
     "output_type": "stream",
     "text": [
      "[METRICS] Skip subset=nonshare protein=BRD4 and set metric value to None..\n",
      "[METRICS] Skip subset=nonshare protein=HSA and set metric value to None..\n",
      "[METRICS] Skip subset=nonshare protein=sEH and set metric value to None..\n",
      "[METRICS] Skip subset=share1 protein=BRD4 and set metric value to None..\n",
      "[METRICS] Skip subset=share1 protein=HSA and set metric value to None..\n",
      "[METRICS] Skip subset=share1 protein=sEH and set metric value to None..\n"
     ]
    },
    {
     "name": "stdout",
     "output_type": "stream",
     "text": [
      "2.0\t59.2162\t64.4\t60.3798\t35.1037\t82.1653\n",
      "\n",
      "\n",
      "------------2500-----------\n"
     ]
    },
    {
     "name": "stderr",
     "output_type": "stream",
     "text": [
      "[METRICS] Skip subset=nonshare protein=BRD4 and set metric value to None..\n",
      "[METRICS] Skip subset=nonshare protein=HSA and set metric value to None..\n",
      "[METRICS] Skip subset=nonshare protein=sEH and set metric value to None..\n",
      "[METRICS] Skip subset=share1 protein=BRD4 and set metric value to None..\n",
      "[METRICS] Skip subset=share1 protein=HSA and set metric value to None..\n",
      "[METRICS] Skip subset=share1 protein=sEH and set metric value to None..\n"
     ]
    },
    {
     "name": "stdout",
     "output_type": "stream",
     "text": [
      "2.5\t59.3682\t64.6759\t60.7068\t34.8295\t82.5684\n",
      "\n",
      "\n",
      "------------3000-----------\n"
     ]
    },
    {
     "name": "stderr",
     "output_type": "stream",
     "text": [
      "[METRICS] Skip subset=nonshare protein=BRD4 and set metric value to None..\n",
      "[METRICS] Skip subset=nonshare protein=HSA and set metric value to None..\n",
      "[METRICS] Skip subset=nonshare protein=sEH and set metric value to None..\n",
      "[METRICS] Skip subset=share1 protein=BRD4 and set metric value to None..\n",
      "[METRICS] Skip subset=share1 protein=HSA and set metric value to None..\n",
      "[METRICS] Skip subset=share1 protein=sEH and set metric value to None..\n"
     ]
    },
    {
     "name": "stdout",
     "output_type": "stream",
     "text": [
      "3.0\t59.5007\t64.8479\t60.9025\t34.835\t82.7647\n",
      "\n",
      "\n",
      "------------3500-----------\n"
     ]
    },
    {
     "name": "stderr",
     "output_type": "stream",
     "text": [
      "[METRICS] Skip subset=nonshare protein=BRD4 and set metric value to None..\n",
      "[METRICS] Skip subset=nonshare protein=HSA and set metric value to None..\n",
      "[METRICS] Skip subset=nonshare protein=sEH and set metric value to None..\n",
      "[METRICS] Skip subset=share1 protein=BRD4 and set metric value to None..\n",
      "[METRICS] Skip subset=share1 protein=HSA and set metric value to None..\n",
      "[METRICS] Skip subset=share1 protein=sEH and set metric value to None..\n"
     ]
    },
    {
     "name": "stdout",
     "output_type": "stream",
     "text": [
      "3.5\t59.5262\t64.8874\t61.0609\t34.6862\t82.8316\n",
      "\n",
      "\n",
      "------------4000-----------\n"
     ]
    },
    {
     "name": "stderr",
     "output_type": "stream",
     "text": [
      "[METRICS] Skip subset=nonshare protein=BRD4 and set metric value to None..\n",
      "[METRICS] Skip subset=nonshare protein=HSA and set metric value to None..\n",
      "[METRICS] Skip subset=nonshare protein=sEH and set metric value to None..\n",
      "[METRICS] Skip subset=share1 protein=BRD4 and set metric value to None..\n",
      "[METRICS] Skip subset=share1 protein=HSA and set metric value to None..\n",
      "[METRICS] Skip subset=share1 protein=sEH and set metric value to None..\n"
     ]
    },
    {
     "name": "stdout",
     "output_type": "stream",
     "text": [
      "4.0\t59.663\t65.0023\t61.2897\t34.7872\t82.9121\n",
      "\n",
      "\n",
      "------------4494-----------\n"
     ]
    },
    {
     "name": "stderr",
     "output_type": "stream",
     "text": [
      "[METRICS] Skip subset=nonshare protein=BRD4 and set metric value to None..\n",
      "[METRICS] Skip subset=nonshare protein=HSA and set metric value to None..\n",
      "[METRICS] Skip subset=nonshare protein=sEH and set metric value to None..\n",
      "[METRICS] Skip subset=share1 protein=BRD4 and set metric value to None..\n",
      "[METRICS] Skip subset=share1 protein=HSA and set metric value to None..\n",
      "[METRICS] Skip subset=share1 protein=sEH and set metric value to None..\n"
     ]
    },
    {
     "name": "stdout",
     "output_type": "stream",
     "text": [
      "4.5\t59.6025\t64.993\t61.4021\t34.451\t82.9545\n",
      "------------FINAL RESULTS---------------\n",
      "\n",
      "iterations\tshare_AP\tshare_micro_AP\tshare_BRD4_AP\tshare_HSA_AP\tshare_sEH_AP\n",
      "0.0\t19.1403\t25.8553\t9.4366\t4.6829\t43.3013\n",
      "0.5\t54.5709\t59.2753\t54.5728\t32.993\t76.147\n",
      "1.0\t57.8516\t62.7713\t58.2488\t35.1196\t80.1866\n",
      "1.5\t58.9461\t63.9766\t59.8065\t35.521\t81.5107\n",
      "2.0\t59.2162\t64.4\t60.3798\t35.1037\t82.1653\n",
      "2.5\t59.3682\t64.6759\t60.7068\t34.8295\t82.5684\n",
      "3.0\t59.5007\t64.8479\t60.9025\t34.835\t82.7647\n",
      "3.5\t59.5262\t64.8874\t61.0609\t34.6862\t82.8316\n",
      "4.0\t59.663\t65.0023\t61.2897\t34.7872\t82.9121\n",
      "4.5\t59.6025\t64.993\t61.4021\t34.451\t82.9545\n",
      "METRICS AT CHUNK=8:\n",
      "{'share_BRD4_AP': 0.6140206505484606, 'share_HSA_AP': 0.3445097050547339, 'share_sEH_AP': 0.8295446298730733, 'share2_BRD4_AP': 0.6140206505484606, 'share2_HSA_AP': 0.3445097050547339, 'share2_sEH_AP': 0.8295446298730733, 'pseudo_AP': 0.5960249951587558, 'AP': 0.5960249951587558, 'share_AP': 0.5960249951587558, 'share2_AP': 0.5960249951587558, 'share_micro_AP': 0.6499298920798836}\n",
      "\n",
      "\n",
      "\n",
      "\n",
      "\n",
      "\n",
      "##################################################\n",
      "[863.5 s] [TRAINING] chunk=9 pos=1506745 neg=7533725\n",
      "Loading train features..\n",
      "[43.87 s] Filter (9040470, 2048) (9040470, 3)\n",
      "[0.0 s] Unpacked (9040470, 2048)\n",
      "[16.36 s] Train pool: 9040470 x 2048\n",
      "{'iterations': 4500, 'learning_rate': 0.2, 'depth': 10, 'loss_function': 'MultiLogloss', 'nan_mode': 'Forbidden', 'use_best_model': True, 'logging_level': 'Verbose', 'metric_period': 100, 'has_time': False, 'allow_const_label': False, 'train_dir': './runs/catboost/v0/chunk_9', 'save_snapshot': True, 'snapshot_interval': 600, 'gpu_ram_part': 0.75, 'allow_writing_files': True, 'task_type': 'GPU', 'devices': '0:2:3', 'bootstrap_type': 'No', 'random_state': 42, 'early_stopping_rounds': 1000, 'grow_policy': 'SymmetricTree', 'min_data_in_leaf': 2}\n"
     ]
    },
    {
     "data": {
      "application/vnd.jupyter.widget-view+json": {
       "model_id": "4ad03a87a3e247fbb280de2d318a7761",
       "version_major": 2,
       "version_minor": 0
      },
      "text/plain": [
       "MetricVisualizer(layout=Layout(align_self='stretch', height='500px'))"
      ]
     },
     "metadata": {},
     "output_type": "display_data"
    },
    {
     "name": "stdout",
     "output_type": "stream",
     "text": [
      "0:\tlearn: 0.4153459\ttest: 0.4025798\tbest: 0.4025798 (0)\ttotal: 302ms\tremaining: 22m 39s\n",
      "100:\tlearn: 0.0832120\ttest: 0.0341209\tbest: 0.0341209 (100)\ttotal: 19s\tremaining: 13m 47s\n",
      "200:\tlearn: 0.0739249\ttest: 0.0305369\tbest: 0.0305369 (200)\ttotal: 38.1s\tremaining: 13m 35s\n",
      "300:\tlearn: 0.0694424\ttest: 0.0287128\tbest: 0.0287128 (300)\ttotal: 57.3s\tremaining: 13m 19s\n",
      "400:\tlearn: 0.0665936\ttest: 0.0275774\tbest: 0.0275774 (400)\ttotal: 1m 16s\tremaining: 13m 2s\n",
      "500:\tlearn: 0.0645641\ttest: 0.0267917\tbest: 0.0267917 (500)\ttotal: 1m 35s\tremaining: 12m 44s\n",
      "600:\tlearn: 0.0629923\ttest: 0.0262249\tbest: 0.0262249 (600)\ttotal: 1m 54s\tremaining: 12m 25s\n",
      "700:\tlearn: 0.0616858\ttest: 0.0257562\tbest: 0.0257562 (700)\ttotal: 2m 14s\tremaining: 12m 7s\n",
      "800:\tlearn: 0.0605558\ttest: 0.0254010\tbest: 0.0254010 (800)\ttotal: 2m 33s\tremaining: 11m 49s\n",
      "900:\tlearn: 0.0595994\ttest: 0.0251177\tbest: 0.0251177 (900)\ttotal: 2m 52s\tremaining: 11m 30s\n",
      "1000:\tlearn: 0.0587198\ttest: 0.0249013\tbest: 0.0249013 (1000)\ttotal: 3m 12s\tremaining: 11m 12s\n",
      "1100:\tlearn: 0.0579123\ttest: 0.0247055\tbest: 0.0247055 (1100)\ttotal: 3m 31s\tremaining: 10m 54s\n",
      "1200:\tlearn: 0.0572093\ttest: 0.0245601\tbest: 0.0245601 (1200)\ttotal: 3m 51s\tremaining: 10m 34s\n",
      "1300:\tlearn: 0.0565337\ttest: 0.0244247\tbest: 0.0244247 (1300)\ttotal: 4m 10s\tremaining: 10m 15s\n",
      "1400:\tlearn: 0.0559168\ttest: 0.0243117\tbest: 0.0243117 (1400)\ttotal: 4m 29s\tremaining: 9m 55s\n",
      "1500:\tlearn: 0.0553068\ttest: 0.0242092\tbest: 0.0242092 (1500)\ttotal: 4m 48s\tremaining: 9m 36s\n",
      "1600:\tlearn: 0.0547386\ttest: 0.0241204\tbest: 0.0241204 (1600)\ttotal: 5m 7s\tremaining: 9m 16s\n",
      "1700:\tlearn: 0.0541932\ttest: 0.0240390\tbest: 0.0240390 (1700)\ttotal: 5m 26s\tremaining: 8m 57s\n",
      "1800:\tlearn: 0.0537080\ttest: 0.0239706\tbest: 0.0239706 (1800)\ttotal: 5m 45s\tremaining: 8m 37s\n",
      "1900:\tlearn: 0.0532193\ttest: 0.0239104\tbest: 0.0239098 (1894)\ttotal: 6m 3s\tremaining: 8m 17s\n",
      "2000:\tlearn: 0.0527677\ttest: 0.0238595\tbest: 0.0238589 (1997)\ttotal: 6m 22s\tremaining: 7m 57s\n",
      "2100:\tlearn: 0.0523237\ttest: 0.0238179\tbest: 0.0238179 (2100)\ttotal: 6m 40s\tremaining: 7m 37s\n",
      "2200:\tlearn: 0.0518949\ttest: 0.0237803\tbest: 0.0237803 (2200)\ttotal: 6m 59s\tremaining: 7m 17s\n",
      "2300:\tlearn: 0.0514698\ttest: 0.0237276\tbest: 0.0237276 (2300)\ttotal: 7m 17s\tremaining: 6m 58s\n",
      "2400:\tlearn: 0.0510590\ttest: 0.0236818\tbest: 0.0236816 (2398)\ttotal: 7m 36s\tremaining: 6m 38s\n",
      "2500:\tlearn: 0.0506745\ttest: 0.0236383\tbest: 0.0236383 (2500)\ttotal: 7m 54s\tremaining: 6m 19s\n",
      "2600:\tlearn: 0.0503009\ttest: 0.0236111\tbest: 0.0236111 (2600)\ttotal: 8m 12s\tremaining: 5m 59s\n",
      "2700:\tlearn: 0.0499435\ttest: 0.0235833\tbest: 0.0235827 (2699)\ttotal: 8m 30s\tremaining: 5m 40s\n",
      "2800:\tlearn: 0.0495799\ttest: 0.0235490\tbest: 0.0235480 (2783)\ttotal: 8m 48s\tremaining: 5m 20s\n",
      "2900:\tlearn: 0.0492338\ttest: 0.0235233\tbest: 0.0235224 (2897)\ttotal: 9m 6s\tremaining: 5m 1s\n",
      "3000:\tlearn: 0.0488916\ttest: 0.0234898\tbest: 0.0234898 (3000)\ttotal: 9m 24s\tremaining: 4m 42s\n",
      "3100:\tlearn: 0.0485482\ttest: 0.0234679\tbest: 0.0234679 (3100)\ttotal: 9m 43s\tremaining: 4m 23s\n",
      "3200:\tlearn: 0.0482299\ttest: 0.0234547\tbest: 0.0234547 (3200)\ttotal: 10m 1s\tremaining: 4m 3s\n",
      "3300:\tlearn: 0.0479041\ttest: 0.0234431\tbest: 0.0234419 (3294)\ttotal: 10m 19s\tremaining: 3m 44s\n",
      "3400:\tlearn: 0.0475939\ttest: 0.0234305\tbest: 0.0234305 (3400)\ttotal: 10m 37s\tremaining: 3m 25s\n",
      "3500:\tlearn: 0.0472781\ttest: 0.0234097\tbest: 0.0234097 (3500)\ttotal: 10m 55s\tremaining: 3m 6s\n",
      "3600:\tlearn: 0.0469558\ttest: 0.0233942\tbest: 0.0233940 (3584)\ttotal: 11m 13s\tremaining: 2m 48s\n",
      "3700:\tlearn: 0.0466638\ttest: 0.0233824\tbest: 0.0233807 (3681)\ttotal: 11m 31s\tremaining: 2m 29s\n",
      "3800:\tlearn: 0.0463736\ttest: 0.0233608\tbest: 0.0233608 (3800)\ttotal: 11m 49s\tremaining: 2m 10s\n",
      "3900:\tlearn: 0.0460898\ttest: 0.0233505\tbest: 0.0233483 (3872)\ttotal: 12m 7s\tremaining: 1m 51s\n",
      "4000:\tlearn: 0.0458094\ttest: 0.0233426\tbest: 0.0233409 (3993)\ttotal: 12m 25s\tremaining: 1m 32s\n",
      "4100:\tlearn: 0.0455426\ttest: 0.0233411\tbest: 0.0233399 (4090)\ttotal: 12m 42s\tremaining: 1m 14s\n",
      "4200:\tlearn: 0.0452713\ttest: 0.0233236\tbest: 0.0233236 (4200)\ttotal: 13m\tremaining: 55.6s\n",
      "4300:\tlearn: 0.0450122\ttest: 0.0233156\tbest: 0.0233156 (4300)\ttotal: 13m 18s\tremaining: 36.9s\n",
      "4400:\tlearn: 0.0447435\ttest: 0.0233038\tbest: 0.0233037 (4382)\ttotal: 13m 35s\tremaining: 18.4s\n",
      "4499:\tlearn: 0.0444859\ttest: 0.0232983\tbest: 0.0232974 (4498)\ttotal: 13m 53s\tremaining: 0us\n",
      "bestTest = 0.02329738507\n",
      "bestIteration = 4498\n",
      "Shrink model to first 4499 iterations.\n",
      "ALL PARAMS:\n",
      " {'nan_mode': 'Forbidden', 'gpu_ram_part': 0.75, 'eval_metric': 'MultiLogloss', 'iterations': 4500, 'leaf_estimation_method': 'Newton', 'observations_to_bootstrap': 'TestOnly', 'od_pval': 0, 'random_score_type': 'NormalWithModelSizeDecrease', 'grow_policy': 'SymmetricTree', 'penalties_coefficient': 1, 'boosting_type': 'Plain', 'feature_border_type': 'GreedyLogSum', 'bayesian_matrix_reg': 0.10000000149011612, 'devices': '0:2:3', 'eval_fraction': 0, 'pinned_memory_bytes': '104857600', 'force_unit_auto_pair_weights': False, 'l2_leaf_reg': 3, 'random_strength': 1, 'od_type': 'Iter', 'rsm': 1, 'boost_from_average': False, 'gpu_cat_features_storage': 'GpuRam', 'fold_size_loss_normalization': False, 'model_size_reg': 0.5, 'pool_metainfo_options': {'tags': {}}, 'use_best_model': True, 'meta_l2_frequency': 0, 'od_wait': 1000, 'class_names': [0, 1, 2], 'random_seed': 42, 'depth': 10, 'border_count': 128, 'min_fold_size': 100, 'data_partition': 'DocParallel', 'classes_count': 0, 'auto_class_weights': 'None', 'leaf_estimation_backtracking': 'AnyImprovement', 'best_model_min_trees': 1, 'min_data_in_leaf': 2, 'add_ridge_penalty_to_loss_function': False, 'loss_function': 'MultiLogloss', 'learning_rate': 0.20000000298023224, 'meta_l2_exponent': 1, 'score_function': 'Cosine', 'task_type': 'GPU', 'leaf_estimation_iterations': 10, 'bootstrap_type': 'No', 'max_leaves': 1024}\n",
      "\n",
      "\n",
      "------------0-----------\n"
     ]
    },
    {
     "name": "stderr",
     "output_type": "stream",
     "text": [
      "[METRICS] Skip subset=nonshare protein=BRD4 and set metric value to None..\n",
      "[METRICS] Skip subset=nonshare protein=HSA and set metric value to None..\n",
      "[METRICS] Skip subset=nonshare protein=sEH and set metric value to None..\n",
      "[METRICS] Skip subset=share1 protein=BRD4 and set metric value to None..\n",
      "[METRICS] Skip subset=share1 protein=HSA and set metric value to None..\n",
      "[METRICS] Skip subset=share1 protein=sEH and set metric value to None..\n"
     ]
    },
    {
     "name": "stdout",
     "output_type": "stream",
     "text": [
      "0.0\t19.3534\t26.1321\t9.4485\t4.6772\t43.9345\n",
      "\n",
      "\n",
      "------------500-----------\n"
     ]
    },
    {
     "name": "stderr",
     "output_type": "stream",
     "text": [
      "[METRICS] Skip subset=nonshare protein=BRD4 and set metric value to None..\n",
      "[METRICS] Skip subset=nonshare protein=HSA and set metric value to None..\n",
      "[METRICS] Skip subset=nonshare protein=sEH and set metric value to None..\n",
      "[METRICS] Skip subset=share1 protein=BRD4 and set metric value to None..\n",
      "[METRICS] Skip subset=share1 protein=HSA and set metric value to None..\n",
      "[METRICS] Skip subset=share1 protein=sEH and set metric value to None..\n"
     ]
    },
    {
     "name": "stdout",
     "output_type": "stream",
     "text": [
      "0.5\t54.2362\t59.0166\t54.365\t32.6907\t75.6529\n",
      "\n",
      "\n",
      "------------1000-----------\n"
     ]
    },
    {
     "name": "stderr",
     "output_type": "stream",
     "text": [
      "[METRICS] Skip subset=nonshare protein=BRD4 and set metric value to None..\n",
      "[METRICS] Skip subset=nonshare protein=HSA and set metric value to None..\n",
      "[METRICS] Skip subset=nonshare protein=sEH and set metric value to None..\n",
      "[METRICS] Skip subset=share1 protein=BRD4 and set metric value to None..\n",
      "[METRICS] Skip subset=share1 protein=HSA and set metric value to None..\n",
      "[METRICS] Skip subset=share1 protein=sEH and set metric value to None..\n"
     ]
    },
    {
     "name": "stdout",
     "output_type": "stream",
     "text": [
      "1.0\t57.888\t62.8636\t58.2855\t34.9139\t80.4645\n",
      "\n",
      "\n",
      "------------1500-----------\n"
     ]
    },
    {
     "name": "stderr",
     "output_type": "stream",
     "text": [
      "[METRICS] Skip subset=nonshare protein=BRD4 and set metric value to None..\n",
      "[METRICS] Skip subset=nonshare protein=HSA and set metric value to None..\n",
      "[METRICS] Skip subset=nonshare protein=sEH and set metric value to None..\n",
      "[METRICS] Skip subset=share1 protein=BRD4 and set metric value to None..\n",
      "[METRICS] Skip subset=share1 protein=HSA and set metric value to None..\n",
      "[METRICS] Skip subset=share1 protein=sEH and set metric value to None..\n"
     ]
    },
    {
     "name": "stdout",
     "output_type": "stream",
     "text": [
      "1.5\t58.9311\t64.0051\t59.5741\t35.4202\t81.799\n",
      "\n",
      "\n",
      "------------2000-----------\n"
     ]
    },
    {
     "name": "stderr",
     "output_type": "stream",
     "text": [
      "[METRICS] Skip subset=nonshare protein=BRD4 and set metric value to None..\n",
      "[METRICS] Skip subset=nonshare protein=HSA and set metric value to None..\n",
      "[METRICS] Skip subset=nonshare protein=sEH and set metric value to None..\n",
      "[METRICS] Skip subset=share1 protein=BRD4 and set metric value to None..\n",
      "[METRICS] Skip subset=share1 protein=HSA and set metric value to None..\n",
      "[METRICS] Skip subset=share1 protein=sEH and set metric value to None..\n"
     ]
    },
    {
     "name": "stdout",
     "output_type": "stream",
     "text": [
      "2.0\t59.5187\t64.5931\t60.475\t35.6947\t82.3864\n",
      "\n",
      "\n",
      "------------2500-----------\n"
     ]
    },
    {
     "name": "stderr",
     "output_type": "stream",
     "text": [
      "[METRICS] Skip subset=nonshare protein=BRD4 and set metric value to None..\n",
      "[METRICS] Skip subset=nonshare protein=HSA and set metric value to None..\n",
      "[METRICS] Skip subset=nonshare protein=sEH and set metric value to None..\n",
      "[METRICS] Skip subset=share1 protein=BRD4 and set metric value to None..\n",
      "[METRICS] Skip subset=share1 protein=HSA and set metric value to None..\n",
      "[METRICS] Skip subset=share1 protein=sEH and set metric value to None..\n"
     ]
    },
    {
     "name": "stdout",
     "output_type": "stream",
     "text": [
      "2.5\t59.7851\t64.8961\t60.9192\t35.7436\t82.6924\n",
      "\n",
      "\n",
      "------------3000-----------\n"
     ]
    },
    {
     "name": "stderr",
     "output_type": "stream",
     "text": [
      "[METRICS] Skip subset=nonshare protein=BRD4 and set metric value to None..\n",
      "[METRICS] Skip subset=nonshare protein=HSA and set metric value to None..\n",
      "[METRICS] Skip subset=nonshare protein=sEH and set metric value to None..\n",
      "[METRICS] Skip subset=share1 protein=BRD4 and set metric value to None..\n",
      "[METRICS] Skip subset=share1 protein=HSA and set metric value to None..\n",
      "[METRICS] Skip subset=share1 protein=sEH and set metric value to None..\n"
     ]
    },
    {
     "name": "stdout",
     "output_type": "stream",
     "text": [
      "3.0\t59.9827\t65.1296\t61.2485\t35.7575\t82.942\n",
      "\n",
      "\n",
      "------------3500-----------\n"
     ]
    },
    {
     "name": "stderr",
     "output_type": "stream",
     "text": [
      "[METRICS] Skip subset=nonshare protein=BRD4 and set metric value to None..\n",
      "[METRICS] Skip subset=nonshare protein=HSA and set metric value to None..\n",
      "[METRICS] Skip subset=nonshare protein=sEH and set metric value to None..\n",
      "[METRICS] Skip subset=share1 protein=BRD4 and set metric value to None..\n",
      "[METRICS] Skip subset=share1 protein=HSA and set metric value to None..\n",
      "[METRICS] Skip subset=share1 protein=sEH and set metric value to None..\n"
     ]
    },
    {
     "name": "stdout",
     "output_type": "stream",
     "text": [
      "3.5\t59.9572\t65.1522\t61.2506\t35.6211\t82.9998\n",
      "\n",
      "\n",
      "------------4000-----------\n"
     ]
    },
    {
     "name": "stderr",
     "output_type": "stream",
     "text": [
      "[METRICS] Skip subset=nonshare protein=BRD4 and set metric value to None..\n",
      "[METRICS] Skip subset=nonshare protein=HSA and set metric value to None..\n",
      "[METRICS] Skip subset=nonshare protein=sEH and set metric value to None..\n",
      "[METRICS] Skip subset=share1 protein=BRD4 and set metric value to None..\n",
      "[METRICS] Skip subset=share1 protein=HSA and set metric value to None..\n",
      "[METRICS] Skip subset=share1 protein=sEH and set metric value to None..\n"
     ]
    },
    {
     "name": "stdout",
     "output_type": "stream",
     "text": [
      "4.0\t59.9799\t65.2007\t61.2821\t35.5644\t83.0931\n",
      "\n",
      "\n",
      "------------4498-----------\n"
     ]
    },
    {
     "name": "stderr",
     "output_type": "stream",
     "text": [
      "[METRICS] Skip subset=nonshare protein=BRD4 and set metric value to None..\n",
      "[METRICS] Skip subset=nonshare protein=HSA and set metric value to None..\n",
      "[METRICS] Skip subset=nonshare protein=sEH and set metric value to None..\n",
      "[METRICS] Skip subset=share1 protein=BRD4 and set metric value to None..\n",
      "[METRICS] Skip subset=share1 protein=HSA and set metric value to None..\n",
      "[METRICS] Skip subset=share1 protein=sEH and set metric value to None..\n"
     ]
    },
    {
     "name": "stdout",
     "output_type": "stream",
     "text": [
      "4.5\t59.9255\t65.2118\t61.2671\t35.3334\t83.1759\n",
      "------------FINAL RESULTS---------------\n",
      "\n",
      "iterations\tshare_AP\tshare_micro_AP\tshare_BRD4_AP\tshare_HSA_AP\tshare_sEH_AP\n",
      "0.0\t19.3534\t26.1321\t9.4485\t4.6772\t43.9345\n",
      "0.5\t54.2362\t59.0166\t54.365\t32.6907\t75.6529\n",
      "1.0\t57.888\t62.8636\t58.2855\t34.9139\t80.4645\n",
      "1.5\t58.9311\t64.0051\t59.5741\t35.4202\t81.799\n",
      "2.0\t59.5187\t64.5931\t60.475\t35.6947\t82.3864\n",
      "2.5\t59.7851\t64.8961\t60.9192\t35.7436\t82.6924\n",
      "3.0\t59.9827\t65.1296\t61.2485\t35.7575\t82.942\n",
      "3.5\t59.9572\t65.1522\t61.2506\t35.6211\t82.9998\n",
      "4.0\t59.9799\t65.2007\t61.2821\t35.5644\t83.0931\n",
      "4.5\t59.9255\t65.2118\t61.2671\t35.3334\t83.1759\n",
      "METRICS AT CHUNK=9:\n",
      "{'share_BRD4_AP': 0.6126714362437193, 'share_HSA_AP': 0.3533338397889182, 'share_sEH_AP': 0.8317585206821141, 'share2_BRD4_AP': 0.6126714362437193, 'share2_HSA_AP': 0.3533338397889182, 'share2_sEH_AP': 0.8317585206821141, 'pseudo_AP': 0.5992545989049173, 'AP': 0.5992545989049173, 'share_AP': 0.5992545989049173, 'share2_AP': 0.5992545989049173, 'share_micro_AP': 0.6521181934959278}\n",
      "\n",
      "\n",
      "\n",
      "\n",
      "\n",
      "\n",
      "##################################################\n",
      "[862.96 s] [TRAINING] chunk=10 pos=1506745 neg=7533725\n",
      "Loading train features..\n",
      "[43.9 s] Filter (9040470, 2048) (9040470, 3)\n",
      "[0.0 s] Unpacked (9040470, 2048)\n",
      "[16.08 s] Train pool: 9040470 x 2048\n",
      "{'iterations': 4500, 'learning_rate': 0.2, 'depth': 10, 'loss_function': 'MultiLogloss', 'nan_mode': 'Forbidden', 'use_best_model': True, 'logging_level': 'Verbose', 'metric_period': 100, 'has_time': False, 'allow_const_label': False, 'train_dir': './runs/catboost/v0/chunk_10', 'save_snapshot': True, 'snapshot_interval': 600, 'gpu_ram_part': 0.75, 'allow_writing_files': True, 'task_type': 'GPU', 'devices': '0:2:3', 'bootstrap_type': 'No', 'random_state': 42, 'early_stopping_rounds': 1000, 'grow_policy': 'SymmetricTree', 'min_data_in_leaf': 2}\n"
     ]
    },
    {
     "data": {
      "application/vnd.jupyter.widget-view+json": {
       "model_id": "257c19d444c246c6a49d7f5182739fef",
       "version_major": 2,
       "version_minor": 0
      },
      "text/plain": [
       "MetricVisualizer(layout=Layout(align_self='stretch', height='500px'))"
      ]
     },
     "metadata": {},
     "output_type": "display_data"
    },
    {
     "name": "stdout",
     "output_type": "stream",
     "text": [
      "0:\tlearn: 0.4153414\ttest: 0.4025759\tbest: 0.4025759 (0)\ttotal: 294ms\tremaining: 22m 3s\n",
      "100:\tlearn: 0.0828937\ttest: 0.0340998\tbest: 0.0340998 (100)\ttotal: 18.9s\tremaining: 13m 42s\n",
      "200:\tlearn: 0.0737849\ttest: 0.0305354\tbest: 0.0305354 (200)\ttotal: 37.9s\tremaining: 13m 30s\n",
      "300:\tlearn: 0.0692802\ttest: 0.0286508\tbest: 0.0286508 (300)\ttotal: 57.1s\tremaining: 13m 16s\n",
      "400:\tlearn: 0.0664798\ttest: 0.0274997\tbest: 0.0274997 (400)\ttotal: 1m 15s\tremaining: 12m 55s\n",
      "500:\tlearn: 0.0644558\ttest: 0.0267156\tbest: 0.0267156 (500)\ttotal: 1m 35s\tremaining: 12m 39s\n",
      "600:\tlearn: 0.0628805\ttest: 0.0261515\tbest: 0.0261515 (600)\ttotal: 1m 54s\tremaining: 12m 23s\n",
      "700:\tlearn: 0.0615899\ttest: 0.0257077\tbest: 0.0257077 (700)\ttotal: 2m 13s\tremaining: 12m 5s\n",
      "800:\tlearn: 0.0604812\ttest: 0.0253721\tbest: 0.0253721 (800)\ttotal: 2m 33s\tremaining: 11m 48s\n",
      "900:\tlearn: 0.0595332\ttest: 0.0251140\tbest: 0.0251137 (899)\ttotal: 2m 52s\tremaining: 11m 29s\n",
      "1000:\tlearn: 0.0586458\ttest: 0.0248848\tbest: 0.0248848 (1000)\ttotal: 3m 12s\tremaining: 11m 11s\n",
      "1100:\tlearn: 0.0578526\ttest: 0.0246846\tbest: 0.0246846 (1100)\ttotal: 3m 31s\tremaining: 10m 52s\n",
      "1200:\tlearn: 0.0571178\ttest: 0.0245417\tbest: 0.0245417 (1200)\ttotal: 3m 50s\tremaining: 10m 33s\n",
      "1300:\tlearn: 0.0564458\ttest: 0.0244205\tbest: 0.0244205 (1300)\ttotal: 4m 9s\tremaining: 10m 14s\n",
      "1400:\tlearn: 0.0558346\ttest: 0.0243118\tbest: 0.0243118 (1400)\ttotal: 4m 28s\tremaining: 9m 54s\n",
      "1500:\tlearn: 0.0552374\ttest: 0.0242009\tbest: 0.0242009 (1500)\ttotal: 4m 47s\tremaining: 9m 34s\n",
      "1600:\tlearn: 0.0546677\ttest: 0.0241192\tbest: 0.0241176 (1597)\ttotal: 5m 6s\tremaining: 9m 15s\n",
      "1700:\tlearn: 0.0541518\ttest: 0.0240375\tbest: 0.0240375 (1700)\ttotal: 5m 25s\tremaining: 8m 55s\n",
      "1800:\tlearn: 0.0536473\ttest: 0.0239775\tbest: 0.0239775 (1800)\ttotal: 5m 44s\tremaining: 8m 35s\n",
      "1900:\tlearn: 0.0531647\ttest: 0.0239072\tbest: 0.0239072 (1900)\ttotal: 6m 2s\tremaining: 8m 16s\n",
      "2000:\tlearn: 0.0527073\ttest: 0.0238660\tbest: 0.0238648 (1997)\ttotal: 6m 21s\tremaining: 7m 56s\n",
      "2100:\tlearn: 0.0522673\ttest: 0.0238175\tbest: 0.0238175 (2100)\ttotal: 6m 39s\tremaining: 7m 36s\n",
      "2200:\tlearn: 0.0518448\ttest: 0.0237686\tbest: 0.0237686 (2200)\ttotal: 6m 58s\tremaining: 7m 16s\n",
      "2300:\tlearn: 0.0514264\ttest: 0.0237399\tbest: 0.0237399 (2300)\ttotal: 7m 16s\tremaining: 6m 57s\n",
      "2400:\tlearn: 0.0510292\ttest: 0.0237114\tbest: 0.0237097 (2397)\ttotal: 7m 34s\tremaining: 6m 37s\n",
      "2500:\tlearn: 0.0506455\ttest: 0.0236799\tbest: 0.0236799 (2500)\ttotal: 7m 52s\tremaining: 6m 17s\n",
      "2600:\tlearn: 0.0502754\ttest: 0.0236556\tbest: 0.0236535 (2598)\ttotal: 8m 11s\tremaining: 5m 58s\n",
      "2700:\tlearn: 0.0499116\ttest: 0.0236195\tbest: 0.0236195 (2700)\ttotal: 8m 29s\tremaining: 5m 39s\n",
      "2800:\tlearn: 0.0495421\ttest: 0.0235896\tbest: 0.0235890 (2798)\ttotal: 8m 47s\tremaining: 5m 19s\n",
      "2900:\tlearn: 0.0491918\ttest: 0.0235598\tbest: 0.0235598 (2899)\ttotal: 9m 5s\tremaining: 5m\n",
      "3000:\tlearn: 0.0488344\ttest: 0.0235432\tbest: 0.0235402 (2986)\ttotal: 9m 23s\tremaining: 4m 41s\n",
      "3100:\tlearn: 0.0485010\ttest: 0.0235302\tbest: 0.0235280 (3093)\ttotal: 9m 41s\tremaining: 4m 22s\n",
      "3200:\tlearn: 0.0481814\ttest: 0.0235148\tbest: 0.0235147 (3195)\ttotal: 9m 59s\tremaining: 4m 3s\n",
      "3300:\tlearn: 0.0478638\ttest: 0.0235011\tbest: 0.0235011 (3298)\ttotal: 10m 17s\tremaining: 3m 44s\n",
      "3400:\tlearn: 0.0475502\ttest: 0.0234892\tbest: 0.0234892 (3400)\ttotal: 10m 35s\tremaining: 3m 25s\n",
      "3500:\tlearn: 0.0472514\ttest: 0.0234789\tbest: 0.0234783 (3497)\ttotal: 10m 53s\tremaining: 3m 6s\n",
      "3600:\tlearn: 0.0469471\ttest: 0.0234621\tbest: 0.0234616 (3599)\ttotal: 11m 11s\tremaining: 2m 47s\n",
      "3700:\tlearn: 0.0466573\ttest: 0.0234535\tbest: 0.0234535 (3700)\ttotal: 11m 29s\tremaining: 2m 28s\n",
      "3800:\tlearn: 0.0463606\ttest: 0.0234325\tbest: 0.0234325 (3800)\ttotal: 11m 47s\tremaining: 2m 10s\n",
      "3900:\tlearn: 0.0460800\ttest: 0.0234184\tbest: 0.0234184 (3900)\ttotal: 12m 5s\tremaining: 1m 51s\n",
      "4000:\tlearn: 0.0457936\ttest: 0.0233957\tbest: 0.0233946 (3996)\ttotal: 12m 22s\tremaining: 1m 32s\n",
      "4100:\tlearn: 0.0455148\ttest: 0.0233803\tbest: 0.0233803 (4100)\ttotal: 12m 40s\tremaining: 1m 14s\n",
      "4200:\tlearn: 0.0452380\ttest: 0.0233767\tbest: 0.0233746 (4189)\ttotal: 12m 58s\tremaining: 55.4s\n",
      "4300:\tlearn: 0.0449617\ttest: 0.0233630\tbest: 0.0233626 (4296)\ttotal: 13m 16s\tremaining: 36.9s\n",
      "4400:\tlearn: 0.0447017\ttest: 0.0233498\tbest: 0.0233498 (4400)\ttotal: 13m 34s\tremaining: 18.3s\n",
      "4499:\tlearn: 0.0444340\ttest: 0.0233411\tbest: 0.0233377 (4491)\ttotal: 13m 51s\tremaining: 0us\n",
      "bestTest = 0.02333771134\n",
      "bestIteration = 4491\n",
      "Shrink model to first 4492 iterations.\n",
      "ALL PARAMS:\n",
      " {'nan_mode': 'Forbidden', 'gpu_ram_part': 0.75, 'eval_metric': 'MultiLogloss', 'iterations': 4500, 'leaf_estimation_method': 'Newton', 'observations_to_bootstrap': 'TestOnly', 'od_pval': 0, 'random_score_type': 'NormalWithModelSizeDecrease', 'grow_policy': 'SymmetricTree', 'penalties_coefficient': 1, 'boosting_type': 'Plain', 'feature_border_type': 'GreedyLogSum', 'bayesian_matrix_reg': 0.10000000149011612, 'devices': '0:2:3', 'eval_fraction': 0, 'pinned_memory_bytes': '104857600', 'force_unit_auto_pair_weights': False, 'l2_leaf_reg': 3, 'random_strength': 1, 'od_type': 'Iter', 'rsm': 1, 'boost_from_average': False, 'gpu_cat_features_storage': 'GpuRam', 'fold_size_loss_normalization': False, 'model_size_reg': 0.5, 'pool_metainfo_options': {'tags': {}}, 'use_best_model': True, 'meta_l2_frequency': 0, 'od_wait': 1000, 'class_names': [0, 1, 2], 'random_seed': 42, 'depth': 10, 'border_count': 128, 'min_fold_size': 100, 'data_partition': 'DocParallel', 'classes_count': 0, 'auto_class_weights': 'None', 'leaf_estimation_backtracking': 'AnyImprovement', 'best_model_min_trees': 1, 'min_data_in_leaf': 2, 'add_ridge_penalty_to_loss_function': False, 'loss_function': 'MultiLogloss', 'learning_rate': 0.20000000298023224, 'meta_l2_exponent': 1, 'score_function': 'Cosine', 'task_type': 'GPU', 'leaf_estimation_iterations': 10, 'bootstrap_type': 'No', 'max_leaves': 1024}\n",
      "\n",
      "\n",
      "------------0-----------\n"
     ]
    },
    {
     "name": "stderr",
     "output_type": "stream",
     "text": [
      "[METRICS] Skip subset=nonshare protein=BRD4 and set metric value to None..\n",
      "[METRICS] Skip subset=nonshare protein=HSA and set metric value to None..\n",
      "[METRICS] Skip subset=nonshare protein=sEH and set metric value to None..\n",
      "[METRICS] Skip subset=share1 protein=BRD4 and set metric value to None..\n",
      "[METRICS] Skip subset=share1 protein=HSA and set metric value to None..\n",
      "[METRICS] Skip subset=share1 protein=sEH and set metric value to None..\n"
     ]
    },
    {
     "name": "stdout",
     "output_type": "stream",
     "text": [
      "0.0\t19.1589\t25.9029\t9.478\t4.5929\t43.4058\n",
      "\n",
      "\n",
      "------------500-----------\n"
     ]
    },
    {
     "name": "stderr",
     "output_type": "stream",
     "text": [
      "[METRICS] Skip subset=nonshare protein=BRD4 and set metric value to None..\n",
      "[METRICS] Skip subset=nonshare protein=HSA and set metric value to None..\n",
      "[METRICS] Skip subset=nonshare protein=sEH and set metric value to None..\n",
      "[METRICS] Skip subset=share1 protein=BRD4 and set metric value to None..\n",
      "[METRICS] Skip subset=share1 protein=HSA and set metric value to None..\n",
      "[METRICS] Skip subset=share1 protein=sEH and set metric value to None..\n"
     ]
    },
    {
     "name": "stdout",
     "output_type": "stream",
     "text": [
      "0.5\t54.72\t59.5473\t54.2923\t33.0732\t76.7945\n",
      "\n",
      "\n",
      "------------1000-----------\n"
     ]
    },
    {
     "name": "stderr",
     "output_type": "stream",
     "text": [
      "[METRICS] Skip subset=nonshare protein=BRD4 and set metric value to None..\n",
      "[METRICS] Skip subset=nonshare protein=HSA and set metric value to None..\n",
      "[METRICS] Skip subset=nonshare protein=sEH and set metric value to None..\n",
      "[METRICS] Skip subset=share1 protein=BRD4 and set metric value to None..\n",
      "[METRICS] Skip subset=share1 protein=HSA and set metric value to None..\n",
      "[METRICS] Skip subset=share1 protein=sEH and set metric value to None..\n"
     ]
    },
    {
     "name": "stdout",
     "output_type": "stream",
     "text": [
      "1.0\t58.0042\t63.0092\t58.1032\t35.1619\t80.7473\n",
      "\n",
      "\n",
      "------------1500-----------\n"
     ]
    },
    {
     "name": "stderr",
     "output_type": "stream",
     "text": [
      "[METRICS] Skip subset=nonshare protein=BRD4 and set metric value to None..\n",
      "[METRICS] Skip subset=nonshare protein=HSA and set metric value to None..\n",
      "[METRICS] Skip subset=nonshare protein=sEH and set metric value to None..\n",
      "[METRICS] Skip subset=share1 protein=BRD4 and set metric value to None..\n",
      "[METRICS] Skip subset=share1 protein=HSA and set metric value to None..\n",
      "[METRICS] Skip subset=share1 protein=sEH and set metric value to None..\n"
     ]
    },
    {
     "name": "stdout",
     "output_type": "stream",
     "text": [
      "1.5\t59.0014\t64.1924\t59.2856\t35.5597\t82.159\n",
      "\n",
      "\n",
      "------------2000-----------\n"
     ]
    },
    {
     "name": "stderr",
     "output_type": "stream",
     "text": [
      "[METRICS] Skip subset=nonshare protein=BRD4 and set metric value to None..\n",
      "[METRICS] Skip subset=nonshare protein=HSA and set metric value to None..\n",
      "[METRICS] Skip subset=nonshare protein=sEH and set metric value to None..\n",
      "[METRICS] Skip subset=share1 protein=BRD4 and set metric value to None..\n",
      "[METRICS] Skip subset=share1 protein=HSA and set metric value to None..\n",
      "[METRICS] Skip subset=share1 protein=sEH and set metric value to None..\n"
     ]
    },
    {
     "name": "stdout",
     "output_type": "stream",
     "text": [
      "2.0\t59.513\t64.7127\t60.1597\t35.7019\t82.6775\n",
      "\n",
      "\n",
      "------------2500-----------\n"
     ]
    },
    {
     "name": "stderr",
     "output_type": "stream",
     "text": [
      "[METRICS] Skip subset=nonshare protein=BRD4 and set metric value to None..\n",
      "[METRICS] Skip subset=nonshare protein=HSA and set metric value to None..\n",
      "[METRICS] Skip subset=nonshare protein=sEH and set metric value to None..\n",
      "[METRICS] Skip subset=share1 protein=BRD4 and set metric value to None..\n",
      "[METRICS] Skip subset=share1 protein=HSA and set metric value to None..\n",
      "[METRICS] Skip subset=share1 protein=sEH and set metric value to None..\n"
     ]
    },
    {
     "name": "stdout",
     "output_type": "stream",
     "text": [
      "2.5\t59.7614\t64.9479\t60.583\t35.844\t82.8572\n",
      "\n",
      "\n",
      "------------3000-----------\n"
     ]
    },
    {
     "name": "stderr",
     "output_type": "stream",
     "text": [
      "[METRICS] Skip subset=nonshare protein=BRD4 and set metric value to None..\n",
      "[METRICS] Skip subset=nonshare protein=HSA and set metric value to None..\n",
      "[METRICS] Skip subset=nonshare protein=sEH and set metric value to None..\n",
      "[METRICS] Skip subset=share1 protein=BRD4 and set metric value to None..\n",
      "[METRICS] Skip subset=share1 protein=HSA and set metric value to None..\n",
      "[METRICS] Skip subset=share1 protein=sEH and set metric value to None..\n"
     ]
    },
    {
     "name": "stdout",
     "output_type": "stream",
     "text": [
      "3.0\t59.8452\t65.0776\t60.6982\t35.8008\t83.0367\n",
      "\n",
      "\n",
      "------------3500-----------\n"
     ]
    },
    {
     "name": "stderr",
     "output_type": "stream",
     "text": [
      "[METRICS] Skip subset=nonshare protein=BRD4 and set metric value to None..\n",
      "[METRICS] Skip subset=nonshare protein=HSA and set metric value to None..\n",
      "[METRICS] Skip subset=nonshare protein=sEH and set metric value to None..\n",
      "[METRICS] Skip subset=share1 protein=BRD4 and set metric value to None..\n",
      "[METRICS] Skip subset=share1 protein=HSA and set metric value to None..\n",
      "[METRICS] Skip subset=share1 protein=sEH and set metric value to None..\n"
     ]
    },
    {
     "name": "stdout",
     "output_type": "stream",
     "text": [
      "3.5\t59.7703\t65.0981\t60.9854\t35.2088\t83.1165\n",
      "\n",
      "\n",
      "------------4000-----------\n"
     ]
    },
    {
     "name": "stderr",
     "output_type": "stream",
     "text": [
      "[METRICS] Skip subset=nonshare protein=BRD4 and set metric value to None..\n",
      "[METRICS] Skip subset=nonshare protein=HSA and set metric value to None..\n",
      "[METRICS] Skip subset=nonshare protein=sEH and set metric value to None..\n",
      "[METRICS] Skip subset=share1 protein=BRD4 and set metric value to None..\n",
      "[METRICS] Skip subset=share1 protein=HSA and set metric value to None..\n",
      "[METRICS] Skip subset=share1 protein=sEH and set metric value to None..\n"
     ]
    },
    {
     "name": "stdout",
     "output_type": "stream",
     "text": [
      "4.0\t59.8681\t65.1895\t61.2738\t35.1484\t83.1822\n",
      "\n",
      "\n",
      "------------4491-----------\n"
     ]
    },
    {
     "name": "stderr",
     "output_type": "stream",
     "text": [
      "[METRICS] Skip subset=nonshare protein=BRD4 and set metric value to None..\n",
      "[METRICS] Skip subset=nonshare protein=HSA and set metric value to None..\n",
      "[METRICS] Skip subset=nonshare protein=sEH and set metric value to None..\n",
      "[METRICS] Skip subset=share1 protein=BRD4 and set metric value to None..\n",
      "[METRICS] Skip subset=share1 protein=HSA and set metric value to None..\n",
      "[METRICS] Skip subset=share1 protein=sEH and set metric value to None..\n"
     ]
    },
    {
     "name": "stdout",
     "output_type": "stream",
     "text": [
      "4.5\t59.7326\t65.145\t61.2549\t34.7119\t83.231\n",
      "------------FINAL RESULTS---------------\n",
      "\n",
      "iterations\tshare_AP\tshare_micro_AP\tshare_BRD4_AP\tshare_HSA_AP\tshare_sEH_AP\n",
      "0.0\t19.1589\t25.9029\t9.478\t4.5929\t43.4058\n",
      "0.5\t54.72\t59.5473\t54.2923\t33.0732\t76.7945\n",
      "1.0\t58.0042\t63.0092\t58.1032\t35.1619\t80.7473\n",
      "1.5\t59.0014\t64.1924\t59.2856\t35.5597\t82.159\n",
      "2.0\t59.513\t64.7127\t60.1597\t35.7019\t82.6775\n",
      "2.5\t59.7614\t64.9479\t60.583\t35.844\t82.8572\n",
      "3.0\t59.8452\t65.0776\t60.6982\t35.8008\t83.0367\n",
      "3.5\t59.7703\t65.0981\t60.9854\t35.2088\t83.1165\n",
      "4.0\t59.8681\t65.1895\t61.2738\t35.1484\t83.1822\n",
      "4.5\t59.7326\t65.145\t61.2549\t34.7119\t83.231\n",
      "METRICS AT CHUNK=10:\n",
      "{'share_BRD4_AP': 0.6125486461016201, 'share_HSA_AP': 0.3471188730968524, 'share_sEH_AP': 0.8323096771483811, 'share2_BRD4_AP': 0.6125486461016201, 'share2_HSA_AP': 0.3471188730968524, 'share2_sEH_AP': 0.8323096771483811, 'pseudo_AP': 0.5973257321156179, 'AP': 0.5973257321156179, 'share_AP': 0.5973257321156179, 'share2_AP': 0.5973257321156179, 'share_micro_AP': 0.6514496541096765}\n",
      "\n",
      "\n",
      "\n",
      "\n",
      "\n",
      "\n",
      "##################################################\n",
      "[858.8 s] [TRAINING] chunk=11 pos=1506745 neg=7533725\n",
      "Loading train features..\n",
      "[43.69 s] Filter (9040470, 2048) (9040470, 3)\n",
      "[0.0 s] Unpacked (9040470, 2048)\n",
      "[16.23 s] Train pool: 9040470 x 2048\n",
      "{'iterations': 4500, 'learning_rate': 0.2, 'depth': 10, 'loss_function': 'MultiLogloss', 'nan_mode': 'Forbidden', 'use_best_model': True, 'logging_level': 'Verbose', 'metric_period': 100, 'has_time': False, 'allow_const_label': False, 'train_dir': './runs/catboost/v0/chunk_11', 'save_snapshot': True, 'snapshot_interval': 600, 'gpu_ram_part': 0.75, 'allow_writing_files': True, 'task_type': 'GPU', 'devices': '0:2:3', 'bootstrap_type': 'No', 'random_state': 42, 'early_stopping_rounds': 1000, 'grow_policy': 'SymmetricTree', 'min_data_in_leaf': 2}\n"
     ]
    },
    {
     "data": {
      "application/vnd.jupyter.widget-view+json": {
       "model_id": "8444df0fe91a4d94b636f1b57aef012d",
       "version_major": 2,
       "version_minor": 0
      },
      "text/plain": [
       "MetricVisualizer(layout=Layout(align_self='stretch', height='500px'))"
      ]
     },
     "metadata": {},
     "output_type": "display_data"
    },
    {
     "name": "stdout",
     "output_type": "stream",
     "text": [
      "0:\tlearn: 0.4153404\ttest: 0.4025776\tbest: 0.4025776 (0)\ttotal: 311ms\tremaining: 23m 19s\n",
      "100:\tlearn: 0.0827201\ttest: 0.0339598\tbest: 0.0339598 (100)\ttotal: 18.9s\tremaining: 13m 41s\n",
      "200:\tlearn: 0.0736382\ttest: 0.0304438\tbest: 0.0304438 (200)\ttotal: 38.1s\tremaining: 13m 34s\n",
      "300:\tlearn: 0.0692653\ttest: 0.0286627\tbest: 0.0286627 (300)\ttotal: 57.3s\tremaining: 13m 19s\n",
      "400:\tlearn: 0.0664637\ttest: 0.0274651\tbest: 0.0274651 (400)\ttotal: 1m 16s\tremaining: 13m\n",
      "500:\tlearn: 0.0644713\ttest: 0.0266961\tbest: 0.0266961 (500)\ttotal: 1m 35s\tremaining: 12m 44s\n",
      "600:\tlearn: 0.0628610\ttest: 0.0260863\tbest: 0.0260863 (600)\ttotal: 1m 55s\tremaining: 12m 29s\n",
      "700:\tlearn: 0.0615678\ttest: 0.0256429\tbest: 0.0256429 (700)\ttotal: 2m 15s\tremaining: 12m 12s\n",
      "800:\tlearn: 0.0604304\ttest: 0.0253072\tbest: 0.0253072 (800)\ttotal: 2m 34s\tremaining: 11m 54s\n",
      "900:\tlearn: 0.0594517\ttest: 0.0250392\tbest: 0.0250392 (900)\ttotal: 2m 54s\tremaining: 11m 36s\n",
      "1000:\tlearn: 0.0586026\ttest: 0.0248126\tbest: 0.0248126 (1000)\ttotal: 3m 13s\tremaining: 11m 16s\n",
      "1100:\tlearn: 0.0578183\ttest: 0.0246198\tbest: 0.0246198 (1100)\ttotal: 3m 32s\tremaining: 10m 57s\n",
      "1200:\tlearn: 0.0571072\ttest: 0.0244764\tbest: 0.0244764 (1200)\ttotal: 3m 52s\tremaining: 10m 37s\n",
      "1300:\tlearn: 0.0564421\ttest: 0.0243491\tbest: 0.0243491 (1300)\ttotal: 4m 11s\tremaining: 10m 18s\n",
      "1400:\tlearn: 0.0558216\ttest: 0.0242502\tbest: 0.0242502 (1400)\ttotal: 4m 30s\tremaining: 9m 58s\n",
      "1500:\tlearn: 0.0552393\ttest: 0.0241644\tbest: 0.0241644 (1500)\ttotal: 4m 49s\tremaining: 9m 38s\n",
      "1600:\tlearn: 0.0546741\ttest: 0.0240761\tbest: 0.0240761 (1600)\ttotal: 5m 9s\tremaining: 9m 19s\n",
      "1700:\tlearn: 0.0541556\ttest: 0.0240067\tbest: 0.0240067 (1700)\ttotal: 5m 28s\tremaining: 8m 59s\n",
      "1800:\tlearn: 0.0536470\ttest: 0.0239441\tbest: 0.0239433 (1799)\ttotal: 5m 47s\tremaining: 8m 40s\n",
      "1900:\tlearn: 0.0531645\ttest: 0.0238847\tbest: 0.0238847 (1900)\ttotal: 6m 6s\tremaining: 8m 21s\n",
      "2000:\tlearn: 0.0526868\ttest: 0.0238364\tbest: 0.0238364 (2000)\ttotal: 6m 25s\tremaining: 8m 1s\n",
      "2100:\tlearn: 0.0522487\ttest: 0.0237983\tbest: 0.0237972 (2096)\ttotal: 6m 44s\tremaining: 7m 42s\n",
      "2200:\tlearn: 0.0518254\ttest: 0.0237497\tbest: 0.0237497 (2200)\ttotal: 7m 3s\tremaining: 7m 22s\n",
      "2300:\tlearn: 0.0514212\ttest: 0.0237072\tbest: 0.0237061 (2296)\ttotal: 7m 22s\tremaining: 7m 2s\n",
      "2400:\tlearn: 0.0510163\ttest: 0.0236772\tbest: 0.0236762 (2394)\ttotal: 7m 41s\tremaining: 6m 43s\n",
      "2500:\tlearn: 0.0506317\ttest: 0.0236473\tbest: 0.0236473 (2500)\ttotal: 7m 59s\tremaining: 6m 23s\n",
      "2600:\tlearn: 0.0502628\ttest: 0.0236081\tbest: 0.0236081 (2600)\ttotal: 8m 18s\tremaining: 6m 4s\n",
      "2700:\tlearn: 0.0499059\ttest: 0.0235936\tbest: 0.0235936 (2700)\ttotal: 8m 37s\tremaining: 5m 44s\n",
      "2800:\tlearn: 0.0495383\ttest: 0.0235507\tbest: 0.0235500 (2797)\ttotal: 8m 55s\tremaining: 5m 25s\n",
      "2900:\tlearn: 0.0491790\ttest: 0.0235284\tbest: 0.0235271 (2887)\ttotal: 9m 14s\tremaining: 5m 5s\n",
      "3000:\tlearn: 0.0488288\ttest: 0.0235066\tbest: 0.0235066 (3000)\ttotal: 9m 32s\tremaining: 4m 46s\n",
      "3100:\tlearn: 0.0484867\ttest: 0.0234876\tbest: 0.0234876 (3100)\ttotal: 9m 51s\tremaining: 4m 26s\n",
      "3200:\tlearn: 0.0481758\ttest: 0.0234642\tbest: 0.0234639 (3189)\ttotal: 10m 9s\tremaining: 4m 7s\n",
      "3300:\tlearn: 0.0478539\ttest: 0.0234427\tbest: 0.0234424 (3299)\ttotal: 10m 27s\tremaining: 3m 47s\n",
      "3400:\tlearn: 0.0475422\ttest: 0.0234228\tbest: 0.0234218 (3399)\ttotal: 10m 45s\tremaining: 3m 28s\n",
      "3500:\tlearn: 0.0472476\ttest: 0.0233982\tbest: 0.0233980 (3498)\ttotal: 11m 3s\tremaining: 3m 9s\n",
      "3600:\tlearn: 0.0469316\ttest: 0.0233751\tbest: 0.0233751 (3600)\ttotal: 11m 22s\tremaining: 2m 50s\n",
      "3700:\tlearn: 0.0466315\ttest: 0.0233691\tbest: 0.0233686 (3684)\ttotal: 11m 40s\tremaining: 2m 31s\n",
      "3800:\tlearn: 0.0463434\ttest: 0.0233398\tbest: 0.0233398 (3800)\ttotal: 11m 57s\tremaining: 2m 12s\n",
      "3900:\tlearn: 0.0460520\ttest: 0.0233309\tbest: 0.0233309 (3900)\ttotal: 12m 15s\tremaining: 1m 53s\n",
      "4000:\tlearn: 0.0457753\ttest: 0.0233145\tbest: 0.0233144 (3999)\ttotal: 12m 33s\tremaining: 1m 34s\n",
      "4100:\tlearn: 0.0454993\ttest: 0.0233020\tbest: 0.0232971 (4085)\ttotal: 12m 51s\tremaining: 1m 15s\n",
      "4200:\tlearn: 0.0452132\ttest: 0.0232951\tbest: 0.0232951 (4200)\ttotal: 13m 9s\tremaining: 56.2s\n",
      "4300:\tlearn: 0.0449541\ttest: 0.0232870\tbest: 0.0232855 (4292)\ttotal: 13m 26s\tremaining: 37.3s\n",
      "4400:\tlearn: 0.0446972\ttest: 0.0232722\tbest: 0.0232682 (4369)\ttotal: 13m 44s\tremaining: 18.5s\n",
      "4499:\tlearn: 0.0444336\ttest: 0.0232543\tbest: 0.0232538 (4498)\ttotal: 14m 2s\tremaining: 0us\n",
      "bestTest = 0.02325383885\n",
      "bestIteration = 4498\n",
      "Shrink model to first 4499 iterations.\n",
      "ALL PARAMS:\n",
      " {'nan_mode': 'Forbidden', 'gpu_ram_part': 0.75, 'eval_metric': 'MultiLogloss', 'iterations': 4500, 'leaf_estimation_method': 'Newton', 'observations_to_bootstrap': 'TestOnly', 'od_pval': 0, 'random_score_type': 'NormalWithModelSizeDecrease', 'grow_policy': 'SymmetricTree', 'penalties_coefficient': 1, 'boosting_type': 'Plain', 'feature_border_type': 'GreedyLogSum', 'bayesian_matrix_reg': 0.10000000149011612, 'devices': '0:2:3', 'eval_fraction': 0, 'pinned_memory_bytes': '104857600', 'force_unit_auto_pair_weights': False, 'l2_leaf_reg': 3, 'random_strength': 1, 'od_type': 'Iter', 'rsm': 1, 'boost_from_average': False, 'gpu_cat_features_storage': 'GpuRam', 'fold_size_loss_normalization': False, 'model_size_reg': 0.5, 'pool_metainfo_options': {'tags': {}}, 'use_best_model': True, 'meta_l2_frequency': 0, 'od_wait': 1000, 'class_names': [0, 1, 2], 'random_seed': 42, 'depth': 10, 'border_count': 128, 'min_fold_size': 100, 'data_partition': 'DocParallel', 'classes_count': 0, 'auto_class_weights': 'None', 'leaf_estimation_backtracking': 'AnyImprovement', 'best_model_min_trees': 1, 'min_data_in_leaf': 2, 'add_ridge_penalty_to_loss_function': False, 'loss_function': 'MultiLogloss', 'learning_rate': 0.20000000298023224, 'meta_l2_exponent': 1, 'score_function': 'Cosine', 'task_type': 'GPU', 'leaf_estimation_iterations': 10, 'bootstrap_type': 'No', 'max_leaves': 1024}\n",
      "\n",
      "\n",
      "------------0-----------\n"
     ]
    },
    {
     "name": "stderr",
     "output_type": "stream",
     "text": [
      "[METRICS] Skip subset=nonshare protein=BRD4 and set metric value to None..\n",
      "[METRICS] Skip subset=nonshare protein=HSA and set metric value to None..\n",
      "[METRICS] Skip subset=nonshare protein=sEH and set metric value to None..\n",
      "[METRICS] Skip subset=share1 protein=BRD4 and set metric value to None..\n",
      "[METRICS] Skip subset=share1 protein=HSA and set metric value to None..\n",
      "[METRICS] Skip subset=share1 protein=sEH and set metric value to None..\n"
     ]
    },
    {
     "name": "stdout",
     "output_type": "stream",
     "text": [
      "0.0\t19.1415\t25.8738\t9.3888\t4.6847\t43.3512\n",
      "\n",
      "\n",
      "------------500-----------\n"
     ]
    },
    {
     "name": "stderr",
     "output_type": "stream",
     "text": [
      "[METRICS] Skip subset=nonshare protein=BRD4 and set metric value to None..\n",
      "[METRICS] Skip subset=nonshare protein=HSA and set metric value to None..\n",
      "[METRICS] Skip subset=nonshare protein=sEH and set metric value to None..\n",
      "[METRICS] Skip subset=share1 protein=BRD4 and set metric value to None..\n",
      "[METRICS] Skip subset=share1 protein=HSA and set metric value to None..\n",
      "[METRICS] Skip subset=share1 protein=sEH and set metric value to None..\n"
     ]
    },
    {
     "name": "stdout",
     "output_type": "stream",
     "text": [
      "0.5\t54.7857\t59.4723\t54.1681\t33.5825\t76.6065\n",
      "\n",
      "\n",
      "------------1000-----------\n"
     ]
    },
    {
     "name": "stderr",
     "output_type": "stream",
     "text": [
      "[METRICS] Skip subset=nonshare protein=BRD4 and set metric value to None..\n",
      "[METRICS] Skip subset=nonshare protein=HSA and set metric value to None..\n",
      "[METRICS] Skip subset=nonshare protein=sEH and set metric value to None..\n",
      "[METRICS] Skip subset=share1 protein=BRD4 and set metric value to None..\n",
      "[METRICS] Skip subset=share1 protein=HSA and set metric value to None..\n",
      "[METRICS] Skip subset=share1 protein=sEH and set metric value to None..\n"
     ]
    },
    {
     "name": "stdout",
     "output_type": "stream",
     "text": [
      "1.0\t58.0948\t63.0647\t58.118\t35.5019\t80.6646\n",
      "\n",
      "\n",
      "------------1500-----------\n"
     ]
    },
    {
     "name": "stderr",
     "output_type": "stream",
     "text": [
      "[METRICS] Skip subset=nonshare protein=BRD4 and set metric value to None..\n",
      "[METRICS] Skip subset=nonshare protein=HSA and set metric value to None..\n",
      "[METRICS] Skip subset=nonshare protein=sEH and set metric value to None..\n",
      "[METRICS] Skip subset=share1 protein=BRD4 and set metric value to None..\n",
      "[METRICS] Skip subset=share1 protein=HSA and set metric value to None..\n",
      "[METRICS] Skip subset=share1 protein=sEH and set metric value to None..\n"
     ]
    },
    {
     "name": "stdout",
     "output_type": "stream",
     "text": [
      "1.5\t59.0497\t64.1359\t59.4785\t35.8039\t81.8667\n",
      "\n",
      "\n",
      "------------2000-----------\n"
     ]
    },
    {
     "name": "stderr",
     "output_type": "stream",
     "text": [
      "[METRICS] Skip subset=nonshare protein=BRD4 and set metric value to None..\n",
      "[METRICS] Skip subset=nonshare protein=HSA and set metric value to None..\n",
      "[METRICS] Skip subset=nonshare protein=sEH and set metric value to None..\n",
      "[METRICS] Skip subset=share1 protein=BRD4 and set metric value to None..\n",
      "[METRICS] Skip subset=share1 protein=HSA and set metric value to None..\n",
      "[METRICS] Skip subset=share1 protein=sEH and set metric value to None..\n"
     ]
    },
    {
     "name": "stdout",
     "output_type": "stream",
     "text": [
      "2.0\t59.6183\t64.7043\t60.126\t36.187\t82.5419\n",
      "\n",
      "\n",
      "------------2500-----------\n"
     ]
    },
    {
     "name": "stderr",
     "output_type": "stream",
     "text": [
      "[METRICS] Skip subset=nonshare protein=BRD4 and set metric value to None..\n",
      "[METRICS] Skip subset=nonshare protein=HSA and set metric value to None..\n",
      "[METRICS] Skip subset=nonshare protein=sEH and set metric value to None..\n",
      "[METRICS] Skip subset=share1 protein=BRD4 and set metric value to None..\n",
      "[METRICS] Skip subset=share1 protein=HSA and set metric value to None..\n",
      "[METRICS] Skip subset=share1 protein=sEH and set metric value to None..\n"
     ]
    },
    {
     "name": "stdout",
     "output_type": "stream",
     "text": [
      "2.5\t59.7806\t64.9778\t60.4533\t35.9661\t82.9223\n",
      "\n",
      "\n",
      "------------3000-----------\n"
     ]
    },
    {
     "name": "stderr",
     "output_type": "stream",
     "text": [
      "[METRICS] Skip subset=nonshare protein=BRD4 and set metric value to None..\n",
      "[METRICS] Skip subset=nonshare protein=HSA and set metric value to None..\n",
      "[METRICS] Skip subset=nonshare protein=sEH and set metric value to None..\n",
      "[METRICS] Skip subset=share1 protein=BRD4 and set metric value to None..\n",
      "[METRICS] Skip subset=share1 protein=HSA and set metric value to None..\n",
      "[METRICS] Skip subset=share1 protein=sEH and set metric value to None..\n"
     ]
    },
    {
     "name": "stdout",
     "output_type": "stream",
     "text": [
      "3.0\t59.8587\t65.1438\t60.683\t35.6695\t83.2238\n",
      "\n",
      "\n",
      "------------3500-----------\n"
     ]
    },
    {
     "name": "stderr",
     "output_type": "stream",
     "text": [
      "[METRICS] Skip subset=nonshare protein=BRD4 and set metric value to None..\n",
      "[METRICS] Skip subset=nonshare protein=HSA and set metric value to None..\n",
      "[METRICS] Skip subset=nonshare protein=sEH and set metric value to None..\n",
      "[METRICS] Skip subset=share1 protein=BRD4 and set metric value to None..\n",
      "[METRICS] Skip subset=share1 protein=HSA and set metric value to None..\n",
      "[METRICS] Skip subset=share1 protein=sEH and set metric value to None..\n"
     ]
    },
    {
     "name": "stdout",
     "output_type": "stream",
     "text": [
      "3.5\t59.9325\t65.2907\t60.9341\t35.4613\t83.402\n",
      "\n",
      "\n",
      "------------4000-----------\n"
     ]
    },
    {
     "name": "stderr",
     "output_type": "stream",
     "text": [
      "[METRICS] Skip subset=nonshare protein=BRD4 and set metric value to None..\n",
      "[METRICS] Skip subset=nonshare protein=HSA and set metric value to None..\n",
      "[METRICS] Skip subset=nonshare protein=sEH and set metric value to None..\n",
      "[METRICS] Skip subset=share1 protein=BRD4 and set metric value to None..\n",
      "[METRICS] Skip subset=share1 protein=HSA and set metric value to None..\n",
      "[METRICS] Skip subset=share1 protein=sEH and set metric value to None..\n"
     ]
    },
    {
     "name": "stdout",
     "output_type": "stream",
     "text": [
      "4.0\t59.9796\t65.373\t61.2307\t35.1975\t83.5105\n",
      "\n",
      "\n",
      "------------4498-----------\n"
     ]
    },
    {
     "name": "stderr",
     "output_type": "stream",
     "text": [
      "[METRICS] Skip subset=nonshare protein=BRD4 and set metric value to None..\n",
      "[METRICS] Skip subset=nonshare protein=HSA and set metric value to None..\n",
      "[METRICS] Skip subset=nonshare protein=sEH and set metric value to None..\n",
      "[METRICS] Skip subset=share1 protein=BRD4 and set metric value to None..\n",
      "[METRICS] Skip subset=share1 protein=HSA and set metric value to None..\n",
      "[METRICS] Skip subset=share1 protein=sEH and set metric value to None..\n"
     ]
    },
    {
     "name": "stdout",
     "output_type": "stream",
     "text": [
      "4.5\t59.9024\t65.4005\t61.3368\t34.7411\t83.6294\n",
      "------------FINAL RESULTS---------------\n",
      "\n",
      "iterations\tshare_AP\tshare_micro_AP\tshare_BRD4_AP\tshare_HSA_AP\tshare_sEH_AP\n",
      "0.0\t19.1415\t25.8738\t9.3888\t4.6847\t43.3512\n",
      "0.5\t54.7857\t59.4723\t54.1681\t33.5825\t76.6065\n",
      "1.0\t58.0948\t63.0647\t58.118\t35.5019\t80.6646\n",
      "1.5\t59.0497\t64.1359\t59.4785\t35.8039\t81.8667\n",
      "2.0\t59.6183\t64.7043\t60.126\t36.187\t82.5419\n",
      "2.5\t59.7806\t64.9778\t60.4533\t35.9661\t82.9223\n",
      "3.0\t59.8587\t65.1438\t60.683\t35.6695\t83.2238\n",
      "3.5\t59.9325\t65.2907\t60.9341\t35.4613\t83.402\n",
      "4.0\t59.9796\t65.373\t61.2307\t35.1975\t83.5105\n",
      "4.5\t59.9024\t65.4005\t61.3368\t34.7411\t83.6294\n",
      "METRICS AT CHUNK=11:\n",
      "{'share_BRD4_AP': 0.6133675625133345, 'share_HSA_AP': 0.3474110226603766, 'share_sEH_AP': 0.8362940546630306, 'share2_BRD4_AP': 0.6133675625133345, 'share2_HSA_AP': 0.3474110226603766, 'share2_sEH_AP': 0.8362940546630306, 'pseudo_AP': 0.599024213278914, 'AP': 0.599024213278914, 'share_AP': 0.599024213278914, 'share2_AP': 0.599024213278914, 'share_micro_AP': 0.6540046491745726}\n",
      "\n",
      "\n",
      "\n",
      "\n",
      "\n",
      "\n",
      "##################################################\n",
      "[878.23 s] [TRAINING] chunk=12 pos=1506745 neg=7533725\n",
      "Loading train features..\n",
      "[57.21 s] Filter (9040470, 2048) (9040470, 3)\n",
      "[0.0 s] Unpacked (9040470, 2048)\n",
      "[16.12 s] Train pool: 9040470 x 2048\n",
      "{'iterations': 4500, 'learning_rate': 0.2, 'depth': 10, 'loss_function': 'MultiLogloss', 'nan_mode': 'Forbidden', 'use_best_model': True, 'logging_level': 'Verbose', 'metric_period': 100, 'has_time': False, 'allow_const_label': False, 'train_dir': './runs/catboost/v0/chunk_12', 'save_snapshot': True, 'snapshot_interval': 600, 'gpu_ram_part': 0.75, 'allow_writing_files': True, 'task_type': 'GPU', 'devices': '0:2:3', 'bootstrap_type': 'No', 'random_state': 42, 'early_stopping_rounds': 1000, 'grow_policy': 'SymmetricTree', 'min_data_in_leaf': 2}\n"
     ]
    },
    {
     "data": {
      "application/vnd.jupyter.widget-view+json": {
       "model_id": "5599bf6fdb0b4fa5b4913bcfb99111d3",
       "version_major": 2,
       "version_minor": 0
      },
      "text/plain": [
       "MetricVisualizer(layout=Layout(align_self='stretch', height='500px'))"
      ]
     },
     "metadata": {},
     "output_type": "display_data"
    },
    {
     "name": "stdout",
     "output_type": "stream",
     "text": [
      "0:\tlearn: 0.4153533\ttest: 0.4025796\tbest: 0.4025796 (0)\ttotal: 303ms\tremaining: 22m 41s\n",
      "100:\tlearn: 0.0828543\ttest: 0.0339470\tbest: 0.0339470 (100)\ttotal: 19.2s\tremaining: 13m 55s\n",
      "200:\tlearn: 0.0737752\ttest: 0.0305146\tbest: 0.0305146 (200)\ttotal: 38.2s\tremaining: 13m 37s\n",
      "300:\tlearn: 0.0693130\ttest: 0.0286886\tbest: 0.0286886 (300)\ttotal: 57.4s\tremaining: 13m 21s\n",
      "400:\tlearn: 0.0665283\ttest: 0.0275252\tbest: 0.0275252 (400)\ttotal: 1m 16s\tremaining: 13m 4s\n",
      "500:\tlearn: 0.0645069\ttest: 0.0267715\tbest: 0.0267715 (500)\ttotal: 1m 36s\tremaining: 12m 49s\n",
      "600:\tlearn: 0.0629213\ttest: 0.0261913\tbest: 0.0261913 (600)\ttotal: 1m 55s\tremaining: 12m 32s\n",
      "700:\tlearn: 0.0616610\ttest: 0.0257813\tbest: 0.0257813 (700)\ttotal: 2m 15s\tremaining: 12m 13s\n",
      "800:\tlearn: 0.0605333\ttest: 0.0254444\tbest: 0.0254444 (800)\ttotal: 2m 34s\tremaining: 11m 55s\n",
      "900:\tlearn: 0.0595366\ttest: 0.0251573\tbest: 0.0251573 (900)\ttotal: 2m 54s\tremaining: 11m 36s\n",
      "1000:\tlearn: 0.0586809\ttest: 0.0249238\tbest: 0.0249238 (1000)\ttotal: 3m 13s\tremaining: 11m 16s\n",
      "1100:\tlearn: 0.0578842\ttest: 0.0247334\tbest: 0.0247334 (1100)\ttotal: 3m 33s\tremaining: 10m 57s\n",
      "1200:\tlearn: 0.0571618\ttest: 0.0245647\tbest: 0.0245647 (1200)\ttotal: 3m 52s\tremaining: 10m 37s\n",
      "1300:\tlearn: 0.0564716\ttest: 0.0244445\tbest: 0.0244445 (1300)\ttotal: 4m 11s\tremaining: 10m 19s\n",
      "1400:\tlearn: 0.0558498\ttest: 0.0243390\tbest: 0.0243385 (1396)\ttotal: 4m 31s\tremaining: 9m 59s\n",
      "1500:\tlearn: 0.0552708\ttest: 0.0242398\tbest: 0.0242398 (1500)\ttotal: 4m 50s\tremaining: 9m 39s\n",
      "1600:\tlearn: 0.0546947\ttest: 0.0241541\tbest: 0.0241541 (1600)\ttotal: 5m 9s\tremaining: 9m 20s\n",
      "1700:\tlearn: 0.0541814\ttest: 0.0240972\tbest: 0.0240969 (1699)\ttotal: 5m 28s\tremaining: 9m\n",
      "1800:\tlearn: 0.0536696\ttest: 0.0240286\tbest: 0.0240282 (1799)\ttotal: 5m 47s\tremaining: 8m 40s\n",
      "1900:\tlearn: 0.0531687\ttest: 0.0239813\tbest: 0.0239811 (1898)\ttotal: 6m 6s\tremaining: 8m 21s\n",
      "2000:\tlearn: 0.0527137\ttest: 0.0239251\tbest: 0.0239251 (2000)\ttotal: 6m 25s\tremaining: 8m 1s\n",
      "2100:\tlearn: 0.0522438\ttest: 0.0238765\tbest: 0.0238763 (2095)\ttotal: 6m 44s\tremaining: 7m 41s\n",
      "2200:\tlearn: 0.0518082\ttest: 0.0238395\tbest: 0.0238392 (2199)\ttotal: 7m 3s\tremaining: 7m 22s\n",
      "2300:\tlearn: 0.0513981\ttest: 0.0237968\tbest: 0.0237964 (2299)\ttotal: 7m 21s\tremaining: 7m 2s\n",
      "2400:\tlearn: 0.0509880\ttest: 0.0237574\tbest: 0.0237558 (2394)\ttotal: 7m 40s\tremaining: 6m 42s\n",
      "2500:\tlearn: 0.0505934\ttest: 0.0237207\tbest: 0.0237192 (2495)\ttotal: 7m 59s\tremaining: 6m 22s\n",
      "2600:\tlearn: 0.0502198\ttest: 0.0236857\tbest: 0.0236857 (2600)\ttotal: 8m 17s\tremaining: 6m 3s\n",
      "2700:\tlearn: 0.0498492\ttest: 0.0236563\tbest: 0.0236552 (2696)\ttotal: 8m 36s\tremaining: 5m 43s\n",
      "2800:\tlearn: 0.0494927\ttest: 0.0236287\tbest: 0.0236287 (2800)\ttotal: 8m 54s\tremaining: 5m 24s\n",
      "2900:\tlearn: 0.0491279\ttest: 0.0236073\tbest: 0.0236070 (2897)\ttotal: 9m 13s\tremaining: 5m 4s\n",
      "3000:\tlearn: 0.0487786\ttest: 0.0235815\tbest: 0.0235815 (3000)\ttotal: 9m 31s\tremaining: 4m 45s\n",
      "3100:\tlearn: 0.0484511\ttest: 0.0235583\tbest: 0.0235583 (3100)\ttotal: 9m 49s\tremaining: 4m 26s\n",
      "3200:\tlearn: 0.0481277\ttest: 0.0235390\tbest: 0.0235384 (3198)\ttotal: 10m 8s\tremaining: 4m 6s\n",
      "3300:\tlearn: 0.0478091\ttest: 0.0235207\tbest: 0.0235191 (3291)\ttotal: 10m 26s\tremaining: 3m 47s\n",
      "3400:\tlearn: 0.0474965\ttest: 0.0235006\tbest: 0.0234983 (3394)\ttotal: 10m 44s\tremaining: 3m 28s\n",
      "3500:\tlearn: 0.0471841\ttest: 0.0234962\tbest: 0.0234962 (3500)\ttotal: 11m 2s\tremaining: 3m 9s\n",
      "3600:\tlearn: 0.0468784\ttest: 0.0234811\tbest: 0.0234810 (3589)\ttotal: 11m 21s\tremaining: 2m 50s\n",
      "3700:\tlearn: 0.0465818\ttest: 0.0234722\tbest: 0.0234714 (3686)\ttotal: 11m 39s\tremaining: 2m 30s\n",
      "3800:\tlearn: 0.0462898\ttest: 0.0234660\tbest: 0.0234626 (3780)\ttotal: 11m 57s\tremaining: 2m 11s\n",
      "3900:\tlearn: 0.0460080\ttest: 0.0234479\tbest: 0.0234461 (3886)\ttotal: 12m 15s\tremaining: 1m 52s\n",
      "4000:\tlearn: 0.0457162\ttest: 0.0234415\tbest: 0.0234407 (3976)\ttotal: 12m 33s\tremaining: 1m 33s\n",
      "4100:\tlearn: 0.0454406\ttest: 0.0234293\tbest: 0.0234276 (4087)\ttotal: 12m 51s\tremaining: 1m 15s\n",
      "4200:\tlearn: 0.0451682\ttest: 0.0234143\tbest: 0.0234143 (4200)\ttotal: 13m 9s\tremaining: 56.2s\n",
      "4300:\tlearn: 0.0448985\ttest: 0.0234098\tbest: 0.0234043 (4271)\ttotal: 13m 27s\tremaining: 37.4s\n",
      "4400:\tlearn: 0.0446250\ttest: 0.0234021\tbest: 0.0234004 (4383)\ttotal: 13m 45s\tremaining: 18.6s\n",
      "4499:\tlearn: 0.0443557\ttest: 0.0233852\tbest: 0.0233823 (4485)\ttotal: 14m 3s\tremaining: 0us\n",
      "bestTest = 0.02338230689\n",
      "bestIteration = 4485\n",
      "Shrink model to first 4486 iterations.\n",
      "ALL PARAMS:\n",
      " {'nan_mode': 'Forbidden', 'gpu_ram_part': 0.75, 'eval_metric': 'MultiLogloss', 'iterations': 4500, 'leaf_estimation_method': 'Newton', 'observations_to_bootstrap': 'TestOnly', 'od_pval': 0, 'random_score_type': 'NormalWithModelSizeDecrease', 'grow_policy': 'SymmetricTree', 'penalties_coefficient': 1, 'boosting_type': 'Plain', 'feature_border_type': 'GreedyLogSum', 'bayesian_matrix_reg': 0.10000000149011612, 'devices': '0:2:3', 'eval_fraction': 0, 'pinned_memory_bytes': '104857600', 'force_unit_auto_pair_weights': False, 'l2_leaf_reg': 3, 'random_strength': 1, 'od_type': 'Iter', 'rsm': 1, 'boost_from_average': False, 'gpu_cat_features_storage': 'GpuRam', 'fold_size_loss_normalization': False, 'model_size_reg': 0.5, 'pool_metainfo_options': {'tags': {}}, 'use_best_model': True, 'meta_l2_frequency': 0, 'od_wait': 1000, 'class_names': [0, 1, 2], 'random_seed': 42, 'depth': 10, 'border_count': 128, 'min_fold_size': 100, 'data_partition': 'DocParallel', 'classes_count': 0, 'auto_class_weights': 'None', 'leaf_estimation_backtracking': 'AnyImprovement', 'best_model_min_trees': 1, 'min_data_in_leaf': 2, 'add_ridge_penalty_to_loss_function': False, 'loss_function': 'MultiLogloss', 'learning_rate': 0.20000000298023224, 'meta_l2_exponent': 1, 'score_function': 'Cosine', 'task_type': 'GPU', 'leaf_estimation_iterations': 10, 'bootstrap_type': 'No', 'max_leaves': 1024}\n",
      "\n",
      "\n",
      "------------0-----------\n"
     ]
    },
    {
     "name": "stderr",
     "output_type": "stream",
     "text": [
      "[METRICS] Skip subset=nonshare protein=BRD4 and set metric value to None..\n",
      "[METRICS] Skip subset=nonshare protein=HSA and set metric value to None..\n",
      "[METRICS] Skip subset=nonshare protein=sEH and set metric value to None..\n",
      "[METRICS] Skip subset=share1 protein=BRD4 and set metric value to None..\n",
      "[METRICS] Skip subset=share1 protein=HSA and set metric value to None..\n",
      "[METRICS] Skip subset=share1 protein=sEH and set metric value to None..\n"
     ]
    },
    {
     "name": "stdout",
     "output_type": "stream",
     "text": [
      "0.0\t19.128\t25.8914\t9.4497\t4.587\t43.3474\n",
      "\n",
      "\n",
      "------------500-----------\n"
     ]
    },
    {
     "name": "stderr",
     "output_type": "stream",
     "text": [
      "[METRICS] Skip subset=nonshare protein=BRD4 and set metric value to None..\n",
      "[METRICS] Skip subset=nonshare protein=HSA and set metric value to None..\n",
      "[METRICS] Skip subset=nonshare protein=sEH and set metric value to None..\n",
      "[METRICS] Skip subset=share1 protein=BRD4 and set metric value to None..\n",
      "[METRICS] Skip subset=share1 protein=HSA and set metric value to None..\n",
      "[METRICS] Skip subset=share1 protein=sEH and set metric value to None..\n"
     ]
    },
    {
     "name": "stdout",
     "output_type": "stream",
     "text": [
      "0.5\t54.6014\t59.356\t54.6039\t33.0458\t76.1546\n",
      "\n",
      "\n",
      "------------1000-----------\n"
     ]
    },
    {
     "name": "stderr",
     "output_type": "stream",
     "text": [
      "[METRICS] Skip subset=nonshare protein=BRD4 and set metric value to None..\n",
      "[METRICS] Skip subset=nonshare protein=HSA and set metric value to None..\n",
      "[METRICS] Skip subset=nonshare protein=sEH and set metric value to None..\n",
      "[METRICS] Skip subset=share1 protein=BRD4 and set metric value to None..\n",
      "[METRICS] Skip subset=share1 protein=HSA and set metric value to None..\n",
      "[METRICS] Skip subset=share1 protein=sEH and set metric value to None..\n"
     ]
    },
    {
     "name": "stdout",
     "output_type": "stream",
     "text": [
      "1.0\t57.9295\t62.8857\t58.347\t35.0484\t80.393\n",
      "\n",
      "\n",
      "------------1500-----------\n"
     ]
    },
    {
     "name": "stderr",
     "output_type": "stream",
     "text": [
      "[METRICS] Skip subset=nonshare protein=BRD4 and set metric value to None..\n",
      "[METRICS] Skip subset=nonshare protein=HSA and set metric value to None..\n",
      "[METRICS] Skip subset=nonshare protein=sEH and set metric value to None..\n",
      "[METRICS] Skip subset=share1 protein=BRD4 and set metric value to None..\n",
      "[METRICS] Skip subset=share1 protein=HSA and set metric value to None..\n",
      "[METRICS] Skip subset=share1 protein=sEH and set metric value to None..\n"
     ]
    },
    {
     "name": "stdout",
     "output_type": "stream",
     "text": [
      "1.5\t58.9481\t63.9738\t59.5891\t35.5884\t81.6668\n",
      "\n",
      "\n",
      "------------2000-----------\n"
     ]
    },
    {
     "name": "stderr",
     "output_type": "stream",
     "text": [
      "[METRICS] Skip subset=nonshare protein=BRD4 and set metric value to None..\n",
      "[METRICS] Skip subset=nonshare protein=HSA and set metric value to None..\n",
      "[METRICS] Skip subset=nonshare protein=sEH and set metric value to None..\n",
      "[METRICS] Skip subset=share1 protein=BRD4 and set metric value to None..\n",
      "[METRICS] Skip subset=share1 protein=HSA and set metric value to None..\n",
      "[METRICS] Skip subset=share1 protein=sEH and set metric value to None..\n"
     ]
    },
    {
     "name": "stdout",
     "output_type": "stream",
     "text": [
      "2.0\t59.3462\t64.4401\t60.2895\t35.5693\t82.1797\n",
      "\n",
      "\n",
      "------------2500-----------\n"
     ]
    },
    {
     "name": "stderr",
     "output_type": "stream",
     "text": [
      "[METRICS] Skip subset=nonshare protein=BRD4 and set metric value to None..\n",
      "[METRICS] Skip subset=nonshare protein=HSA and set metric value to None..\n",
      "[METRICS] Skip subset=nonshare protein=sEH and set metric value to None..\n",
      "[METRICS] Skip subset=share1 protein=BRD4 and set metric value to None..\n",
      "[METRICS] Skip subset=share1 protein=HSA and set metric value to None..\n",
      "[METRICS] Skip subset=share1 protein=sEH and set metric value to None..\n"
     ]
    },
    {
     "name": "stdout",
     "output_type": "stream",
     "text": [
      "2.5\t59.6374\t64.7438\t60.6266\t35.7357\t82.5498\n",
      "\n",
      "\n",
      "------------3000-----------\n"
     ]
    },
    {
     "name": "stderr",
     "output_type": "stream",
     "text": [
      "[METRICS] Skip subset=nonshare protein=BRD4 and set metric value to None..\n",
      "[METRICS] Skip subset=nonshare protein=HSA and set metric value to None..\n",
      "[METRICS] Skip subset=nonshare protein=sEH and set metric value to None..\n",
      "[METRICS] Skip subset=share1 protein=BRD4 and set metric value to None..\n",
      "[METRICS] Skip subset=share1 protein=HSA and set metric value to None..\n",
      "[METRICS] Skip subset=share1 protein=sEH and set metric value to None..\n"
     ]
    },
    {
     "name": "stdout",
     "output_type": "stream",
     "text": [
      "3.0\t59.7917\t64.9309\t60.7086\t35.8412\t82.8254\n",
      "\n",
      "\n",
      "------------3500-----------\n"
     ]
    },
    {
     "name": "stderr",
     "output_type": "stream",
     "text": [
      "[METRICS] Skip subset=nonshare protein=BRD4 and set metric value to None..\n",
      "[METRICS] Skip subset=nonshare protein=HSA and set metric value to None..\n",
      "[METRICS] Skip subset=nonshare protein=sEH and set metric value to None..\n",
      "[METRICS] Skip subset=share1 protein=BRD4 and set metric value to None..\n",
      "[METRICS] Skip subset=share1 protein=HSA and set metric value to None..\n",
      "[METRICS] Skip subset=share1 protein=sEH and set metric value to None..\n"
     ]
    },
    {
     "name": "stdout",
     "output_type": "stream",
     "text": [
      "3.5\t59.8656\t65.0299\t60.7651\t35.8365\t82.9952\n",
      "\n",
      "\n",
      "------------4000-----------\n"
     ]
    },
    {
     "name": "stderr",
     "output_type": "stream",
     "text": [
      "[METRICS] Skip subset=nonshare protein=BRD4 and set metric value to None..\n",
      "[METRICS] Skip subset=nonshare protein=HSA and set metric value to None..\n",
      "[METRICS] Skip subset=nonshare protein=sEH and set metric value to None..\n",
      "[METRICS] Skip subset=share1 protein=BRD4 and set metric value to None..\n",
      "[METRICS] Skip subset=share1 protein=HSA and set metric value to None..\n",
      "[METRICS] Skip subset=share1 protein=sEH and set metric value to None..\n"
     ]
    },
    {
     "name": "stdout",
     "output_type": "stream",
     "text": [
      "4.0\t59.8752\t65.0806\t60.8832\t35.7173\t83.0251\n",
      "\n",
      "\n",
      "------------4485-----------\n"
     ]
    },
    {
     "name": "stderr",
     "output_type": "stream",
     "text": [
      "[METRICS] Skip subset=nonshare protein=BRD4 and set metric value to None..\n",
      "[METRICS] Skip subset=nonshare protein=HSA and set metric value to None..\n",
      "[METRICS] Skip subset=nonshare protein=sEH and set metric value to None..\n",
      "[METRICS] Skip subset=share1 protein=BRD4 and set metric value to None..\n",
      "[METRICS] Skip subset=share1 protein=HSA and set metric value to None..\n",
      "[METRICS] Skip subset=share1 protein=sEH and set metric value to None..\n"
     ]
    },
    {
     "name": "stdout",
     "output_type": "stream",
     "text": [
      "4.5\t59.8569\t65.0988\t60.7802\t35.6609\t83.1298\n",
      "------------FINAL RESULTS---------------\n",
      "\n",
      "iterations\tshare_AP\tshare_micro_AP\tshare_BRD4_AP\tshare_HSA_AP\tshare_sEH_AP\n",
      "0.0\t19.128\t25.8914\t9.4497\t4.587\t43.3474\n",
      "0.5\t54.6014\t59.356\t54.6039\t33.0458\t76.1546\n",
      "1.0\t57.9295\t62.8857\t58.347\t35.0484\t80.393\n",
      "1.5\t58.9481\t63.9738\t59.5891\t35.5884\t81.6668\n",
      "2.0\t59.3462\t64.4401\t60.2895\t35.5693\t82.1797\n",
      "2.5\t59.6374\t64.7438\t60.6266\t35.7357\t82.5498\n",
      "3.0\t59.7917\t64.9309\t60.7086\t35.8412\t82.8254\n",
      "3.5\t59.8656\t65.0299\t60.7651\t35.8365\t82.9952\n",
      "4.0\t59.8752\t65.0806\t60.8832\t35.7173\t83.0251\n",
      "4.5\t59.8569\t65.0988\t60.7802\t35.6609\t83.1298\n",
      "METRICS AT CHUNK=12:\n",
      "{'share_BRD4_AP': 0.6078018100217133, 'share_HSA_AP': 0.3566085931410533, 'share_sEH_AP': 0.8312978625284269, 'share2_BRD4_AP': 0.6078018100217133, 'share2_HSA_AP': 0.3566085931410533, 'share2_sEH_AP': 0.8312978625284269, 'pseudo_AP': 0.5985694218970644, 'AP': 0.5985694218970644, 'share_AP': 0.5985694218970644, 'share2_AP': 0.5985694218970644, 'share_micro_AP': 0.6509884856907102}\n",
      "\n",
      "\n",
      "\n",
      "\n",
      "\n",
      "\n",
      "ALL DONE!\n"
     ]
    }
   ],
   "source": [
    "SAVE_ROOT_DIR = './runs/catboost/v0'\n",
    "\n",
    "\n",
    "for chunk_idx, (chunk_pos_idxs, chunk_neg_idxs) in enumerate(chunks_iter):\n",
    "    if chunk_idx <= 1:\n",
    "        continue\n",
    "    print('##################################################')\n",
    "    log(f'[TRAINING] chunk={chunk_idx} pos={len(chunk_pos_idxs)} neg={len(chunk_neg_idxs)}')\n",
    "    \n",
    "    print('Loading train features..')\n",
    "    chunk_idxs = chunk_pos_idxs + chunk_neg_idxs\n",
    "#     train_features = all_features[chunk_idxs]\n",
    "    train_features = combine_features(all_features, chunk_idxs)\n",
    "    train_targets = all_targets[chunk_idxs]\n",
    "    log(f'Filter {train_features.shape} {train_targets.shape}')\n",
    "    \n",
    "#     train_features = np.unpackbits(train_features, axis = -1)\n",
    "#     train_features = train_features.astype(np.float32)\n",
    "\n",
    "    log(f'Unpacked {train_features.shape}')\n",
    "\n",
    "    train_pool = Pool(\n",
    "       data = train_features,\n",
    "       label = train_targets,\n",
    "       cat_features=None,\n",
    "       weight=None,\n",
    "       baseline=None,\n",
    "       feature_names=None,\n",
    "       thread_count=-1\n",
    "    )\n",
    "    log(f'Train pool: {train_pool.num_row()} x {train_pool.num_col()}')\n",
    "    del train_features, train_targets, chunk_idxs\n",
    "    gc.collect()\n",
    "\n",
    "    CHUNK_SAVE_DIR = os.path.join(SAVE_ROOT_DIR, f'chunk_{chunk_idx}')\n",
    "    os.makedirs(CHUNK_SAVE_DIR, exist_ok=True)\n",
    "    updated_params = dict(\n",
    "        task_type='GPU',\n",
    "        devices='0:2:3',\n",
    "        # loss_function = 'MultiCrossEntropy',\n",
    "        loss_function = 'MultiLogloss',\n",
    "        iterations = 4500,\n",
    "        learning_rate = 0.2,\n",
    "        random_state = 42,\n",
    "        train_dir = CHUNK_SAVE_DIR,\n",
    "        # max_ctr_complexity = 1,\n",
    "        depth = 10,\n",
    "        min_data_in_leaf = 2,\n",
    "#         colsample_bylevel = 0.3,\n",
    "        bootstrap_type = 'No',\n",
    "#         mvs_reg = 10,\n",
    "#         subsample = 0.3,\n",
    "#         thread_count = 80,\n",
    "        # auto_class_weights='Balanced',\n",
    "        # scale_pos_weight = 1.2,\n",
    "        # class_weights=[2.0, 1.0],\n",
    "        # used_ram_limit = '180GB',\n",
    "        gpu_ram_part = 0.75,\n",
    "        # gpu_cat_features_storage = 'CpuPinnedMemory',\n",
    "        early_stopping_rounds = 1000,\n",
    "\n",
    "#         border_count = 2, # binary features\n",
    "#         feature_border_type = 'Uniform',\n",
    "    )\n",
    "\n",
    "    params = CBM_DEFAULT_PARAMS.copy()\n",
    "    params.update(updated_params)\n",
    "    model = CatBoostClassifier(\n",
    "        **params\n",
    "    )\n",
    "    print(model.get_params())\n",
    "    model.fit(\n",
    "        train_pool,\n",
    "        verbose=100,\n",
    "        eval_set=val_pool,\n",
    "        plot = True\n",
    "    )\n",
    "    print('ALL PARAMS:\\n', model.get_all_params())\n",
    "    \n",
    "    \n",
    "    # SAVE & LOAD MODEL\n",
    "    with open(os.path.join(CHUNK_SAVE_DIR, 'all_params.json'), 'w') as f:\n",
    "        json.dump(model.get_all_params(), f)\n",
    "        \n",
    "    model_save_path = os.path.join(CHUNK_SAVE_DIR, 'model.cbm')\n",
    "    model.save_model(model_save_path,\n",
    "           format=\"cbm\",\n",
    "           export_parameters=None,\n",
    "           pool=None)\n",
    "    \n",
    "    model = CatBoostClassifier()\n",
    "    model.load_model(model_save_path)\n",
    "    \n",
    "    metrics = validate(model, val_pool, val_df)\n",
    "    print(f'METRICS AT CHUNK={chunk_idx}:\\n{metrics}')\n",
    "    print('\\n\\n\\n\\n\\n')\n",
    "    \n",
    "    del train_pool\n",
    "    gc.collect()"
   ]
  },
  {
   "cell_type": "code",
   "execution_count": null,
   "id": "d58afbe9",
   "metadata": {},
   "outputs": [],
   "source": []
  },
  {
   "cell_type": "code",
   "execution_count": null,
   "id": "7a550028",
   "metadata": {},
   "outputs": [],
   "source": []
  },
  {
   "cell_type": "code",
   "execution_count": 27,
   "id": "d73135d4",
   "metadata": {},
   "outputs": [
    {
     "name": "stdout",
     "output_type": "stream",
     "text": [
      "\n",
      "\n",
      "------------0-----------\n"
     ]
    },
    {
     "name": "stderr",
     "output_type": "stream",
     "text": [
      "[METRICS] Skip subset=nonshare protein=BRD4 and set metric value to None..\n",
      "[METRICS] Skip subset=nonshare protein=HSA and set metric value to None..\n",
      "[METRICS] Skip subset=nonshare protein=sEH and set metric value to None..\n",
      "[METRICS] Skip subset=share1 protein=BRD4 and set metric value to None..\n",
      "[METRICS] Skip subset=share1 protein=HSA and set metric value to None..\n",
      "[METRICS] Skip subset=share1 protein=sEH and set metric value to None..\n"
     ]
    },
    {
     "name": "stdout",
     "output_type": "stream",
     "text": [
      "0.0\t19.14\t25.9074\t9.4496\t4.6008\t43.3698\n",
      "\n",
      "\n",
      "------------500-----------\n"
     ]
    },
    {
     "name": "stderr",
     "output_type": "stream",
     "text": [
      "[METRICS] Skip subset=nonshare protein=BRD4 and set metric value to None..\n",
      "[METRICS] Skip subset=nonshare protein=HSA and set metric value to None..\n",
      "[METRICS] Skip subset=nonshare protein=sEH and set metric value to None..\n",
      "[METRICS] Skip subset=share1 protein=BRD4 and set metric value to None..\n",
      "[METRICS] Skip subset=share1 protein=HSA and set metric value to None..\n",
      "[METRICS] Skip subset=share1 protein=sEH and set metric value to None..\n"
     ]
    },
    {
     "name": "stdout",
     "output_type": "stream",
     "text": [
      "0.5\t54.2242\t59.1294\t54.4353\t31.9849\t76.2525\n",
      "\n",
      "\n",
      "------------1000-----------\n"
     ]
    },
    {
     "name": "stderr",
     "output_type": "stream",
     "text": [
      "[METRICS] Skip subset=nonshare protein=BRD4 and set metric value to None..\n",
      "[METRICS] Skip subset=nonshare protein=HSA and set metric value to None..\n",
      "[METRICS] Skip subset=nonshare protein=sEH and set metric value to None..\n",
      "[METRICS] Skip subset=share1 protein=BRD4 and set metric value to None..\n",
      "[METRICS] Skip subset=share1 protein=HSA and set metric value to None..\n",
      "[METRICS] Skip subset=share1 protein=sEH and set metric value to None..\n"
     ]
    },
    {
     "name": "stdout",
     "output_type": "stream",
     "text": [
      "1.0\t57.5401\t62.6878\t58.1497\t34.0427\t80.428\n",
      "\n",
      "\n",
      "------------1500-----------\n"
     ]
    },
    {
     "name": "stderr",
     "output_type": "stream",
     "text": [
      "[METRICS] Skip subset=nonshare protein=BRD4 and set metric value to None..\n",
      "[METRICS] Skip subset=nonshare protein=HSA and set metric value to None..\n",
      "[METRICS] Skip subset=nonshare protein=sEH and set metric value to None..\n",
      "[METRICS] Skip subset=share1 protein=BRD4 and set metric value to None..\n",
      "[METRICS] Skip subset=share1 protein=HSA and set metric value to None..\n",
      "[METRICS] Skip subset=share1 protein=sEH and set metric value to None..\n"
     ]
    },
    {
     "name": "stdout",
     "output_type": "stream",
     "text": [
      "1.5\t58.7647\t63.8994\t59.7194\t34.8646\t81.7101\n",
      "\n",
      "\n",
      "------------2000-----------\n"
     ]
    },
    {
     "name": "stderr",
     "output_type": "stream",
     "text": [
      "[METRICS] Skip subset=nonshare protein=BRD4 and set metric value to None..\n",
      "[METRICS] Skip subset=nonshare protein=HSA and set metric value to None..\n",
      "[METRICS] Skip subset=nonshare protein=sEH and set metric value to None..\n",
      "[METRICS] Skip subset=share1 protein=BRD4 and set metric value to None..\n",
      "[METRICS] Skip subset=share1 protein=HSA and set metric value to None..\n",
      "[METRICS] Skip subset=share1 protein=sEH and set metric value to None..\n"
     ]
    },
    {
     "name": "stdout",
     "output_type": "stream",
     "text": [
      "2.0\t59.106\t64.346\t60.3181\t34.7183\t82.2816\n",
      "\n",
      "\n",
      "------------2500-----------\n"
     ]
    },
    {
     "name": "stderr",
     "output_type": "stream",
     "text": [
      "[METRICS] Skip subset=nonshare protein=BRD4 and set metric value to None..\n",
      "[METRICS] Skip subset=nonshare protein=HSA and set metric value to None..\n",
      "[METRICS] Skip subset=nonshare protein=sEH and set metric value to None..\n",
      "[METRICS] Skip subset=share1 protein=BRD4 and set metric value to None..\n",
      "[METRICS] Skip subset=share1 protein=HSA and set metric value to None..\n",
      "[METRICS] Skip subset=share1 protein=sEH and set metric value to None..\n"
     ]
    },
    {
     "name": "stdout",
     "output_type": "stream",
     "text": [
      "2.5\t59.4224\t64.6586\t60.8301\t34.8912\t82.5457\n",
      "\n",
      "\n",
      "------------3000-----------\n"
     ]
    },
    {
     "name": "stderr",
     "output_type": "stream",
     "text": [
      "[METRICS] Skip subset=nonshare protein=BRD4 and set metric value to None..\n",
      "[METRICS] Skip subset=nonshare protein=HSA and set metric value to None..\n",
      "[METRICS] Skip subset=nonshare protein=sEH and set metric value to None..\n",
      "[METRICS] Skip subset=share1 protein=BRD4 and set metric value to None..\n",
      "[METRICS] Skip subset=share1 protein=HSA and set metric value to None..\n",
      "[METRICS] Skip subset=share1 protein=sEH and set metric value to None..\n"
     ]
    },
    {
     "name": "stdout",
     "output_type": "stream",
     "text": [
      "3.0\t59.5869\t64.8086\t61.2587\t34.8771\t82.6249\n",
      "\n",
      "\n",
      "------------3500-----------\n"
     ]
    },
    {
     "name": "stderr",
     "output_type": "stream",
     "text": [
      "[METRICS] Skip subset=nonshare protein=BRD4 and set metric value to None..\n",
      "[METRICS] Skip subset=nonshare protein=HSA and set metric value to None..\n",
      "[METRICS] Skip subset=nonshare protein=sEH and set metric value to None..\n",
      "[METRICS] Skip subset=share1 protein=BRD4 and set metric value to None..\n",
      "[METRICS] Skip subset=share1 protein=HSA and set metric value to None..\n",
      "[METRICS] Skip subset=share1 protein=sEH and set metric value to None..\n"
     ]
    },
    {
     "name": "stdout",
     "output_type": "stream",
     "text": [
      "3.5\t59.6574\t64.8863\t61.4381\t34.8363\t82.6979\n",
      "\n",
      "\n",
      "------------4000-----------\n"
     ]
    },
    {
     "name": "stderr",
     "output_type": "stream",
     "text": [
      "[METRICS] Skip subset=nonshare protein=BRD4 and set metric value to None..\n",
      "[METRICS] Skip subset=nonshare protein=HSA and set metric value to None..\n",
      "[METRICS] Skip subset=nonshare protein=sEH and set metric value to None..\n",
      "[METRICS] Skip subset=share1 protein=BRD4 and set metric value to None..\n",
      "[METRICS] Skip subset=share1 protein=HSA and set metric value to None..\n",
      "[METRICS] Skip subset=share1 protein=sEH and set metric value to None..\n"
     ]
    },
    {
     "name": "stdout",
     "output_type": "stream",
     "text": [
      "4.0\t59.6739\t64.8616\t61.4899\t34.8865\t82.6452\n",
      "\n",
      "\n",
      "------------4500-----------\n"
     ]
    },
    {
     "name": "stderr",
     "output_type": "stream",
     "text": [
      "[METRICS] Skip subset=nonshare protein=BRD4 and set metric value to None..\n",
      "[METRICS] Skip subset=nonshare protein=HSA and set metric value to None..\n",
      "[METRICS] Skip subset=nonshare protein=sEH and set metric value to None..\n",
      "[METRICS] Skip subset=share1 protein=BRD4 and set metric value to None..\n",
      "[METRICS] Skip subset=share1 protein=HSA and set metric value to None..\n",
      "[METRICS] Skip subset=share1 protein=sEH and set metric value to None..\n"
     ]
    },
    {
     "name": "stdout",
     "output_type": "stream",
     "text": [
      "4.5\t59.6632\t64.8971\t61.5192\t34.701\t82.7694\n",
      "\n",
      "\n",
      "------------5000-----------\n"
     ]
    },
    {
     "name": "stderr",
     "output_type": "stream",
     "text": [
      "[METRICS] Skip subset=nonshare protein=BRD4 and set metric value to None..\n",
      "[METRICS] Skip subset=nonshare protein=HSA and set metric value to None..\n",
      "[METRICS] Skip subset=nonshare protein=sEH and set metric value to None..\n",
      "[METRICS] Skip subset=share1 protein=BRD4 and set metric value to None..\n",
      "[METRICS] Skip subset=share1 protein=HSA and set metric value to None..\n",
      "[METRICS] Skip subset=share1 protein=sEH and set metric value to None..\n"
     ]
    },
    {
     "name": "stdout",
     "output_type": "stream",
     "text": [
      "5.0\t59.6805\t64.9299\t61.6406\t34.531\t82.8698\n",
      "\n",
      "\n",
      "------------5500-----------\n"
     ]
    },
    {
     "name": "stderr",
     "output_type": "stream",
     "text": [
      "[METRICS] Skip subset=nonshare protein=BRD4 and set metric value to None..\n",
      "[METRICS] Skip subset=nonshare protein=HSA and set metric value to None..\n",
      "[METRICS] Skip subset=nonshare protein=sEH and set metric value to None..\n",
      "[METRICS] Skip subset=share1 protein=BRD4 and set metric value to None..\n",
      "[METRICS] Skip subset=share1 protein=HSA and set metric value to None..\n",
      "[METRICS] Skip subset=share1 protein=sEH and set metric value to None..\n"
     ]
    },
    {
     "name": "stdout",
     "output_type": "stream",
     "text": [
      "5.5\t59.6569\t64.9453\t61.7323\t34.3324\t82.906\n",
      "\n",
      "\n",
      "------------5915-----------\n"
     ]
    },
    {
     "name": "stderr",
     "output_type": "stream",
     "text": [
      "[METRICS] Skip subset=nonshare protein=BRD4 and set metric value to None..\n",
      "[METRICS] Skip subset=nonshare protein=HSA and set metric value to None..\n",
      "[METRICS] Skip subset=nonshare protein=sEH and set metric value to None..\n",
      "[METRICS] Skip subset=share1 protein=BRD4 and set metric value to None..\n",
      "[METRICS] Skip subset=share1 protein=HSA and set metric value to None..\n",
      "[METRICS] Skip subset=share1 protein=sEH and set metric value to None..\n"
     ]
    },
    {
     "name": "stdout",
     "output_type": "stream",
     "text": [
      "5.9\t59.6222\t64.9271\t61.7209\t34.2212\t82.9245\n",
      "------------FINAL RESULTS---------------\n",
      "\n",
      "iterations\tshare_AP\tshare_micro_AP\tshare_BRD4_AP\tshare_HSA_AP\tshare_sEH_AP\n",
      "0.0\t19.14\t25.9074\t9.4496\t4.6008\t43.3698\n",
      "0.5\t54.2242\t59.1294\t54.4353\t31.9849\t76.2525\n",
      "1.0\t57.5401\t62.6878\t58.1497\t34.0427\t80.428\n",
      "1.5\t58.7647\t63.8994\t59.7194\t34.8646\t81.7101\n",
      "2.0\t59.106\t64.346\t60.3181\t34.7183\t82.2816\n",
      "2.5\t59.4224\t64.6586\t60.8301\t34.8912\t82.5457\n",
      "3.0\t59.5869\t64.8086\t61.2587\t34.8771\t82.6249\n",
      "3.5\t59.6574\t64.8863\t61.4381\t34.8363\t82.6979\n",
      "4.0\t59.6739\t64.8616\t61.4899\t34.8865\t82.6452\n",
      "4.5\t59.6632\t64.8971\t61.5192\t34.701\t82.7694\n",
      "5.0\t59.6805\t64.9299\t61.6406\t34.531\t82.8698\n",
      "5.5\t59.6569\t64.9453\t61.7323\t34.3324\t82.906\n",
      "5.9\t59.6222\t64.9271\t61.7209\t34.2212\t82.9245\n"
     ]
    }
   ],
   "source": [
    "metrics = validate(model, val_pool, val_df)"
   ]
  },
  {
   "cell_type": "code",
   "execution_count": null,
   "id": "852cabf2",
   "metadata": {},
   "outputs": [],
   "source": []
  },
  {
   "cell_type": "code",
   "execution_count": null,
   "id": "1a4b6d30",
   "metadata": {},
   "outputs": [],
   "source": []
  },
  {
   "cell_type": "code",
   "execution_count": null,
   "id": "7bf9ce7f",
   "metadata": {},
   "outputs": [],
   "source": []
  },
  {
   "cell_type": "markdown",
   "id": "2f99c98e",
   "metadata": {},
   "source": [
    "## Result\n",
    "\n",
    "### Chunk 0\n",
    "\n",
    "```\n",
    "iterations\tshare_AP\tshare_micro_AP\tshare_BRD4_AP\tshare_HSA_AP\tshare_sEH_AP\n",
    "0.0\t19.319\t26.0976\t9.3238\t4.6885\t43.9448\n",
    "0.5\t54.5999\t59.3778\t54.4419\t33.1699\t76.1879\n",
    "1.0\t57.9394\t62.9224\t58.6722\t34.7615\t80.3845\n",
    "1.5\t59.1026\t64.1236\t60.1235\t35.5004\t81.684\n",
    "2.0\t59.7146\t64.7403\t60.7008\t36.1007\t82.3422\n",
    "2.5\t59.9456\t65.0735\t61.1827\t35.8673\t82.7869\n",
    "3.0\t60.1818\t65.2812\t61.5519\t36.0422\t82.9511\n",
    "3.5\t60.2237\t65.3383\t61.7335\t35.9244\t83.0131\n",
    "4.0\t60.3007\t65.4449\t61.8705\t35.8903\t83.1411\n",
    "4.5\t60.1971\t65.415\t61.8963\t35.4816\t83.2134\n",
    "5.0\t60.1421\t65.4195\t62.0146\t35.1835\t83.2281\n",
    "5.5\t60.1264\t65.4374\t62.0036\t35.0558\t83.3197\n",
    "6.0\t60.0249\t65.3852\t62.0085\t34.7581\t83.3081\n",
    "6.5\t59.9686\t65.3651\t61.9186\t34.6275\t83.3598\n",
    "7.0\t59.9627\t65.3587\t62.0565\t34.5281\t83.3034\n",
    "7.5\t59.9321\t65.3141\t62.0675\t34.4376\t83.2911\n",
    "8.0\t59.903\t65.256\t62.149\t34.3734\t83.1865\n",
    "8.5\t59.9069\t65.2357\t62.232\t34.3657\t83.123\n",
    "9.0\t59.873\t65.2191\t62.2349\t34.2302\t83.1539\n",
    "9.5\t59.7938\t65.1548\t62.2104\t34.085\t83.0859\n",
    "10.0\t59.7486\t65.1093\t62.1272\t34.0535\t83.0651\n",
    "10.5\t59.6197\t65.0473\t62.0775\t33.7135\t83.0682\n",
    "11.0\t59.6495\t65.0517\t62.1161\t33.7658\t83.0664\n",
    "11.5\t59.5926\t64.9954\t62.0924\t33.6675\t83.018\n",
    "12.0\t59.5411\t64.9383\t62.0972\t33.5381\t82.988\n",
    "12.5\t59.5142\t64.9047\t62.0987\t33.4706\t82.9734\n",
    "13.0\t59.4553\t64.8476\t62.0969\t33.3452\t82.924\n",
    "13.5\t59.4202\t64.8317\t62.0862\t33.2359\t82.9384\n",
    "14.0\t59.3791\t64.8139\t62.0641\t33.108\t82.9652\n",
    "14.5\t59.3548\t64.7982\t62.0691\t33.0419\t82.9534\n",
    "15.0\t59.3563\t64.7841\t62.1108\t33.011\t82.9471\n",
    "15.5\t59.3148\t64.7645\t62.0891\t32.9133\t82.9419\n",
    "16.0\t59.2528\t64.7302\t62.0772\t32.75\t82.9312\n",
    "16.5\t59.2177\t64.7052\t62.1075\t32.6352\t82.9105\n",
    "17.0\t59.186\t64.6742\t62.0529\t32.6322\t82.8727\n",
    "17.5\t59.1528\t64.6501\t62.1177\t32.4808\t82.8598\n",
    "18.0\t59.1674\t64.6503\t62.1201\t32.5115\t82.8708\n",
    "18.5\t59.0963\t64.5939\t62.0615\t32.383\t82.8445\n",
    "19.0\t59.045\t64.5673\t62.0895\t32.2013\t82.8442\n",
    "19.5\t59.0368\t64.5525\t62.1042\t32.1852\t82.821\n",
    "20.0\t59.0001\t64.5361\t62.066\t32.1049\t82.8294\n",
    "```\n",
    "\n",
    "\n",
    "\n",
    "### Chunk 1\n",
    "```\n",
    "0.0\t19.14\t25.9074\t9.4496\t4.6008\t43.3698\n",
    "0.5\t54.2242\t59.1294\t54.4353\t31.9849\t76.2525\n",
    "1.0\t57.5401\t62.6878\t58.1497\t34.0427\t80.428\n",
    "1.5\t58.7647\t63.8994\t59.7194\t34.8646\t81.7101\n",
    "2.0\t59.106\t64.346\t60.3181\t34.7183\t82.2816\n",
    "2.5\t59.4224\t64.6586\t60.8301\t34.8912\t82.5457\n",
    "3.0\t59.5869\t64.8086\t61.2587\t34.8771\t82.6249\n",
    "3.5\t59.6574\t64.8863\t61.4381\t34.8363\t82.6979\n",
    "4.0\t59.6739\t64.8616\t61.4899\t34.8865\t82.6452\n",
    "4.5\t59.6632\t64.8971\t61.5192\t34.701\t82.7694\n",
    "5.0\t59.6805\t64.9299\t61.6406\t34.531\t82.8698\n",
    "5.5\t59.6569\t64.9453\t61.7323\t34.3324\t82.906\n",
    "5.9\t59.6222\t64.9271\t61.7209\t34.2212\t82.9245\n",
    "```"
   ]
  },
  {
   "cell_type": "code",
   "execution_count": null,
   "id": "45b94fe6",
   "metadata": {},
   "outputs": [],
   "source": []
  },
  {
   "cell_type": "code",
   "execution_count": null,
   "id": "12b92a1b",
   "metadata": {},
   "outputs": [],
   "source": []
  },
  {
   "cell_type": "code",
   "execution_count": null,
   "id": "e41b8c81",
   "metadata": {},
   "outputs": [],
   "source": []
  },
  {
   "cell_type": "code",
   "execution_count": null,
   "id": "a9c26ba6",
   "metadata": {},
   "outputs": [],
   "source": []
  },
  {
   "cell_type": "code",
   "execution_count": null,
   "id": "e53e76f0",
   "metadata": {},
   "outputs": [],
   "source": []
  },
  {
   "cell_type": "code",
   "execution_count": 33,
   "id": "3958d5cc",
   "metadata": {},
   "outputs": [
    {
     "data": {
      "text/plain": [
       "['chunk_0',\n",
       " 'chunk_1',\n",
       " 'chunk_2',\n",
       " 'chunk_3',\n",
       " 'chunk_4',\n",
       " 'chunk_5',\n",
       " 'chunk_6',\n",
       " 'chunk_7',\n",
       " 'chunk_8',\n",
       " 'chunk_9',\n",
       " 'chunk_10',\n",
       " 'chunk_11',\n",
       " 'chunk_12']"
      ]
     },
     "execution_count": 33,
     "metadata": {},
     "output_type": "execute_result"
    }
   ],
   "source": [
    "MODEL_DIR = '/home/dangnh36/projects/competitions/kaggle_leash_belka/notebooks/runs/catboost/v0/'\n",
    "chunk_names = sorted(os.listdir(MODEL_DIR), key = lambda x: int(x.replace('chunk_', '')))\n",
    "chunk_names"
   ]
  },
  {
   "cell_type": "code",
   "execution_count": 34,
   "id": "dc029412",
   "metadata": {},
   "outputs": [
    {
     "name": "stderr",
     "output_type": "stream",
     "text": [
      "[METRICS] Skip subset=nonshare protein=BRD4 and set metric value to None..\n",
      "[METRICS] Skip subset=nonshare protein=HSA and set metric value to None..\n",
      "[METRICS] Skip subset=nonshare protein=sEH and set metric value to None..\n",
      "[METRICS] Skip subset=share1 protein=BRD4 and set metric value to None..\n",
      "[METRICS] Skip subset=share1 protein=HSA and set metric value to None..\n",
      "[METRICS] Skip subset=share1 protein=sEH and set metric value to None..\n"
     ]
    },
    {
     "name": "stdout",
     "output_type": "stream",
     "text": [
      "chunk_0 AP: 0.6030065563076045\n"
     ]
    },
    {
     "name": "stderr",
     "output_type": "stream",
     "text": [
      "[METRICS] Skip subset=nonshare protein=BRD4 and set metric value to None..\n",
      "[METRICS] Skip subset=nonshare protein=HSA and set metric value to None..\n",
      "[METRICS] Skip subset=nonshare protein=sEH and set metric value to None..\n",
      "[METRICS] Skip subset=share1 protein=BRD4 and set metric value to None..\n",
      "[METRICS] Skip subset=share1 protein=HSA and set metric value to None..\n",
      "[METRICS] Skip subset=share1 protein=sEH and set metric value to None..\n"
     ]
    },
    {
     "name": "stdout",
     "output_type": "stream",
     "text": [
      "chunk_1 AP: 0.5967387553951713\n"
     ]
    },
    {
     "name": "stderr",
     "output_type": "stream",
     "text": [
      "[METRICS] Skip subset=nonshare protein=BRD4 and set metric value to None..\n",
      "[METRICS] Skip subset=nonshare protein=HSA and set metric value to None..\n",
      "[METRICS] Skip subset=nonshare protein=sEH and set metric value to None..\n",
      "[METRICS] Skip subset=share1 protein=BRD4 and set metric value to None..\n",
      "[METRICS] Skip subset=share1 protein=HSA and set metric value to None..\n",
      "[METRICS] Skip subset=share1 protein=sEH and set metric value to None..\n"
     ]
    },
    {
     "name": "stdout",
     "output_type": "stream",
     "text": [
      "chunk_2 AP: 0.5987836196345997\n"
     ]
    },
    {
     "name": "stderr",
     "output_type": "stream",
     "text": [
      "[METRICS] Skip subset=nonshare protein=BRD4 and set metric value to None..\n",
      "[METRICS] Skip subset=nonshare protein=HSA and set metric value to None..\n",
      "[METRICS] Skip subset=nonshare protein=sEH and set metric value to None..\n",
      "[METRICS] Skip subset=share1 protein=BRD4 and set metric value to None..\n",
      "[METRICS] Skip subset=share1 protein=HSA and set metric value to None..\n",
      "[METRICS] Skip subset=share1 protein=sEH and set metric value to None..\n"
     ]
    },
    {
     "name": "stdout",
     "output_type": "stream",
     "text": [
      "chunk_3 AP: 0.602039658154572\n"
     ]
    },
    {
     "name": "stderr",
     "output_type": "stream",
     "text": [
      "[METRICS] Skip subset=nonshare protein=BRD4 and set metric value to None..\n",
      "[METRICS] Skip subset=nonshare protein=HSA and set metric value to None..\n",
      "[METRICS] Skip subset=nonshare protein=sEH and set metric value to None..\n",
      "[METRICS] Skip subset=share1 protein=BRD4 and set metric value to None..\n",
      "[METRICS] Skip subset=share1 protein=HSA and set metric value to None..\n",
      "[METRICS] Skip subset=share1 protein=sEH and set metric value to None..\n"
     ]
    },
    {
     "name": "stdout",
     "output_type": "stream",
     "text": [
      "chunk_4 AP: 0.5967387553951713\n"
     ]
    },
    {
     "name": "stderr",
     "output_type": "stream",
     "text": [
      "[METRICS] Skip subset=nonshare protein=BRD4 and set metric value to None..\n",
      "[METRICS] Skip subset=nonshare protein=HSA and set metric value to None..\n",
      "[METRICS] Skip subset=nonshare protein=sEH and set metric value to None..\n",
      "[METRICS] Skip subset=share1 protein=BRD4 and set metric value to None..\n",
      "[METRICS] Skip subset=share1 protein=HSA and set metric value to None..\n",
      "[METRICS] Skip subset=share1 protein=sEH and set metric value to None..\n"
     ]
    },
    {
     "name": "stdout",
     "output_type": "stream",
     "text": [
      "chunk_5 AP: 0.6001499444279149\n"
     ]
    },
    {
     "name": "stderr",
     "output_type": "stream",
     "text": [
      "[METRICS] Skip subset=nonshare protein=BRD4 and set metric value to None..\n",
      "[METRICS] Skip subset=nonshare protein=HSA and set metric value to None..\n",
      "[METRICS] Skip subset=nonshare protein=sEH and set metric value to None..\n",
      "[METRICS] Skip subset=share1 protein=BRD4 and set metric value to None..\n",
      "[METRICS] Skip subset=share1 protein=HSA and set metric value to None..\n",
      "[METRICS] Skip subset=share1 protein=sEH and set metric value to None..\n"
     ]
    },
    {
     "name": "stdout",
     "output_type": "stream",
     "text": [
      "chunk_6 AP: 0.5995100276046607\n"
     ]
    },
    {
     "name": "stderr",
     "output_type": "stream",
     "text": [
      "[METRICS] Skip subset=nonshare protein=BRD4 and set metric value to None..\n",
      "[METRICS] Skip subset=nonshare protein=HSA and set metric value to None..\n",
      "[METRICS] Skip subset=nonshare protein=sEH and set metric value to None..\n",
      "[METRICS] Skip subset=share1 protein=BRD4 and set metric value to None..\n",
      "[METRICS] Skip subset=share1 protein=HSA and set metric value to None..\n",
      "[METRICS] Skip subset=share1 protein=sEH and set metric value to None..\n"
     ]
    },
    {
     "name": "stdout",
     "output_type": "stream",
     "text": [
      "chunk_7 AP: 0.5980894749862667\n"
     ]
    },
    {
     "name": "stderr",
     "output_type": "stream",
     "text": [
      "[METRICS] Skip subset=nonshare protein=BRD4 and set metric value to None..\n",
      "[METRICS] Skip subset=nonshare protein=HSA and set metric value to None..\n",
      "[METRICS] Skip subset=nonshare protein=sEH and set metric value to None..\n",
      "[METRICS] Skip subset=share1 protein=BRD4 and set metric value to None..\n",
      "[METRICS] Skip subset=share1 protein=HSA and set metric value to None..\n",
      "[METRICS] Skip subset=share1 protein=sEH and set metric value to None..\n"
     ]
    },
    {
     "name": "stdout",
     "output_type": "stream",
     "text": [
      "chunk_8 AP: 0.5966298678349621\n"
     ]
    },
    {
     "name": "stderr",
     "output_type": "stream",
     "text": [
      "[METRICS] Skip subset=nonshare protein=BRD4 and set metric value to None..\n",
      "[METRICS] Skip subset=nonshare protein=HSA and set metric value to None..\n",
      "[METRICS] Skip subset=nonshare protein=sEH and set metric value to None..\n",
      "[METRICS] Skip subset=share1 protein=BRD4 and set metric value to None..\n",
      "[METRICS] Skip subset=share1 protein=HSA and set metric value to None..\n",
      "[METRICS] Skip subset=share1 protein=sEH and set metric value to None..\n"
     ]
    },
    {
     "name": "stdout",
     "output_type": "stream",
     "text": [
      "chunk_9 AP: 0.5997986260508852\n"
     ]
    },
    {
     "name": "stderr",
     "output_type": "stream",
     "text": [
      "[METRICS] Skip subset=nonshare protein=BRD4 and set metric value to None..\n",
      "[METRICS] Skip subset=nonshare protein=HSA and set metric value to None..\n",
      "[METRICS] Skip subset=nonshare protein=sEH and set metric value to None..\n",
      "[METRICS] Skip subset=share1 protein=BRD4 and set metric value to None..\n",
      "[METRICS] Skip subset=share1 protein=HSA and set metric value to None..\n",
      "[METRICS] Skip subset=share1 protein=sEH and set metric value to None..\n"
     ]
    },
    {
     "name": "stdout",
     "output_type": "stream",
     "text": [
      "chunk_10 AP: 0.5986811723827918\n"
     ]
    },
    {
     "name": "stderr",
     "output_type": "stream",
     "text": [
      "[METRICS] Skip subset=nonshare protein=BRD4 and set metric value to None..\n",
      "[METRICS] Skip subset=nonshare protein=HSA and set metric value to None..\n",
      "[METRICS] Skip subset=nonshare protein=sEH and set metric value to None..\n",
      "[METRICS] Skip subset=share1 protein=BRD4 and set metric value to None..\n",
      "[METRICS] Skip subset=share1 protein=HSA and set metric value to None..\n",
      "[METRICS] Skip subset=share1 protein=sEH and set metric value to None..\n"
     ]
    },
    {
     "name": "stdout",
     "output_type": "stream",
     "text": [
      "chunk_11 AP: 0.5997959433540242\n"
     ]
    },
    {
     "name": "stderr",
     "output_type": "stream",
     "text": [
      "[METRICS] Skip subset=nonshare protein=BRD4 and set metric value to None..\n",
      "[METRICS] Skip subset=nonshare protein=HSA and set metric value to None..\n",
      "[METRICS] Skip subset=nonshare protein=sEH and set metric value to None..\n",
      "[METRICS] Skip subset=share1 protein=BRD4 and set metric value to None..\n",
      "[METRICS] Skip subset=share1 protein=HSA and set metric value to None..\n",
      "[METRICS] Skip subset=share1 protein=sEH and set metric value to None..\n",
      "[METRICS] Skip subset=nonshare protein=BRD4 and set metric value to None..\n",
      "[METRICS] Skip subset=nonshare protein=HSA and set metric value to None..\n",
      "[METRICS] Skip subset=nonshare protein=sEH and set metric value to None..\n"
     ]
    },
    {
     "name": "stdout",
     "output_type": "stream",
     "text": [
      "chunk_12 AP: 0.5987518363709442\n",
      "FINAL: (196832, 3)\n"
     ]
    },
    {
     "name": "stderr",
     "output_type": "stream",
     "text": [
      "[METRICS] Skip subset=share1 protein=BRD4 and set metric value to None..\n",
      "[METRICS] Skip subset=share1 protein=HSA and set metric value to None..\n",
      "[METRICS] Skip subset=share1 protein=sEH and set metric value to None..\n"
     ]
    },
    {
     "data": {
      "text/plain": [
       "{'share_BRD4_AP': 0.6279636993087101,\n",
       " 'share_HSA_AP': 0.3715014842719728,\n",
       " 'share_sEH_AP': 0.8394139245305123,\n",
       " 'share2_BRD4_AP': 0.6279636993087101,\n",
       " 'share2_HSA_AP': 0.3715014842719728,\n",
       " 'share2_sEH_AP': 0.8394139245305123,\n",
       " 'pseudo_AP': 0.6129597027037318,\n",
       " 'AP': 0.6129597027037318,\n",
       " 'share_AP': 0.6129597027037318,\n",
       " 'share2_AP': 0.6129597027037318,\n",
       " 'share_micro_AP': 0.6636637734927602}"
      ]
     },
     "execution_count": 34,
     "metadata": {},
     "output_type": "execute_result"
    }
   ],
   "source": [
    "all_preds = []\n",
    "for chunk_name in chunk_names:\n",
    "    model = CatBoostClassifier()\n",
    "    model.load_model(os.path.join(MODEL_DIR, chunk_name, 'model.cbm'))\n",
    "    preds = model.predict_proba(val_pool,\n",
    "                                    ntree_start = 0,\n",
    "                                    ntree_end = 4001,\n",
    "                                    verbose = 100)\n",
    "    all_preds.append(preds)\n",
    "    metrics = evaluate(val_df, preds)\n",
    "    # micro AP\n",
    "    gts = val_df[TARGET_COLS].to_numpy().flatten()\n",
    "    preds = preds.flatten()\n",
    "    metrics['share_micro_AP'] = average_precision_score(gts, preds)\n",
    "    print(chunk_name, 'AP:', metrics['share_AP'])\n",
    "\n",
    "\n",
    "preds = np.stack(all_preds, axis = -1).mean(axis = -1)\n",
    "print('FINAL:', preds.shape)\n",
    "metrics = evaluate(val_df, preds)\n",
    "# micro AP\n",
    "gts = val_df[TARGET_COLS].to_numpy().flatten()\n",
    "preds = preds.flatten()\n",
    "metrics['share_micro_AP'] = average_precision_score(gts, preds)\n",
    "metrics"
   ]
  },
  {
   "cell_type": "code",
   "execution_count": null,
   "id": "eef527e6-8e29-4c02-a5bc-47faff914def",
   "metadata": {},
   "outputs": [],
   "source": []
  },
  {
   "cell_type": "code",
   "execution_count": null,
   "id": "fc02b203",
   "metadata": {},
   "outputs": [],
   "source": []
  },
  {
   "cell_type": "code",
   "execution_count": null,
   "id": "48132aa3-9636-49f2-8e11-7953a358172b",
   "metadata": {},
   "outputs": [],
   "source": []
  },
  {
   "cell_type": "code",
   "execution_count": 35,
   "id": "d588c1a3-755f-44d0-8a20-b1a65e6a4deb",
   "metadata": {},
   "outputs": [
    {
     "name": "stdout",
     "output_type": "stream",
     "text": [
      "[2010.65 s] Test features: (878022, 2048) float32\n",
      "[1.69 s] Test pool: 878022 x 2048\n"
     ]
    }
   ],
   "source": [
    "test_features = np.load('/home/dangnh36/datasets/competitions/leash_belka/processed/features/ecfp6/test.npy')\n",
    "test_features = np.unpackbits(test_features, axis = -1).astype(np.float32)\n",
    "\n",
    "log(f'Test features: {test_features.shape} {test_features.dtype}')\n",
    "\n",
    "test_pool = Pool(\n",
    "       data = test_features,\n",
    "       cat_features=None,\n",
    "       weight=None,\n",
    "       baseline=None,\n",
    "       feature_names=None,\n",
    "       thread_count=-1\n",
    "    )\n",
    "log(f'Test pool: {test_pool.num_row()} x {test_pool.num_col()}')"
   ]
  },
  {
   "cell_type": "code",
   "execution_count": null,
   "id": "b7aa5030-0072-4299-8706-8b8a0b28c33f",
   "metadata": {},
   "outputs": [],
   "source": []
  },
  {
   "cell_type": "code",
   "execution_count": 37,
   "id": "2f4ef1cb-6f38-44ce-a4dd-d7026e018efb",
   "metadata": {},
   "outputs": [
    {
     "name": "stdout",
     "output_type": "stream",
     "text": [
      "chunk_0 (878022, 3)\n",
      "chunk_1 (878022, 3)\n",
      "chunk_2 (878022, 3)\n",
      "chunk_3 (878022, 3)\n",
      "chunk_4 (878022, 3)\n",
      "chunk_5 (878022, 3)\n",
      "chunk_6 (878022, 3)\n",
      "chunk_7 (878022, 3)\n",
      "chunk_8 (878022, 3)\n",
      "chunk_9 (878022, 3)\n",
      "chunk_10 (878022, 3)\n",
      "chunk_11 (878022, 3)\n",
      "chunk_12 (878022, 3)\n",
      "Num model: 13\n",
      "FINAL: (878022, 3)\n"
     ]
    },
    {
     "data": {
      "text/plain": [
       "(878022, 3)"
      ]
     },
     "execution_count": 37,
     "metadata": {},
     "output_type": "execute_result"
    }
   ],
   "source": [
    "all_preds = []\n",
    "for chunk_name in chunk_names:\n",
    "    model = CatBoostClassifier()\n",
    "    model.load_model(os.path.join(MODEL_DIR, chunk_name, 'model.cbm'))\n",
    "    preds = model.predict_proba(test_pool,\n",
    "                                    ntree_start = 0,\n",
    "                                    ntree_end = 4001,\n",
    "                                    verbose = 100)\n",
    "    all_preds.append(preds)\n",
    "    print(chunk_name, preds.shape)\n",
    "\n",
    "print('Num model:', len(all_preds))\n",
    "preds = np.stack(all_preds, axis = -1).mean(axis = -1)\n",
    "print('FINAL:', preds.shape)\n",
    "preds.shape"
   ]
  },
  {
   "cell_type": "code",
   "execution_count": null,
   "id": "29467aec-eb72-4d3d-ad77-8f05a4fa9d7d",
   "metadata": {},
   "outputs": [],
   "source": []
  },
  {
   "cell_type": "code",
   "execution_count": null,
   "id": "e7defe39",
   "metadata": {},
   "outputs": [],
   "source": []
  },
  {
   "cell_type": "code",
   "execution_count": 38,
   "id": "812148a2",
   "metadata": {},
   "outputs": [
    {
     "data": {
      "text/html": [
       "<div><style>\n",
       ".dataframe > thead > tr,\n",
       ".dataframe > tbody > tr {\n",
       "  text-align: right;\n",
       "  white-space: pre-wrap;\n",
       "}\n",
       "</style>\n",
       "<small>shape: (878_022, 10)</small><table border=\"1\" class=\"dataframe\"><thead><tr><th>bb1</th><th>bb2</th><th>bb3</th><th>id_BRD4</th><th>id_HSA</th><th>id_sEH</th><th>mol_group</th><th>group_BRD4</th><th>group_HSA</th><th>group_sEH</th></tr><tr><td>i64</td><td>i64</td><td>i64</td><td>i64</td><td>i64</td><td>i64</td><td>i64</td><td>i64</td><td>i64</td><td>i64</td></tr></thead><tbody><tr><td>1989</td><td>409</td><td>409</td><td>295246830</td><td>295246831</td><td>295246832</td><td>2</td><td>6</td><td>7</td><td>8</td></tr><tr><td>1989</td><td>409</td><td>1012</td><td>295246833</td><td>295246834</td><td>295246835</td><td>2</td><td>6</td><td>7</td><td>8</td></tr><tr><td>1989</td><td>409</td><td>1722</td><td>295246836</td><td>295246837</td><td>295246838</td><td>2</td><td>6</td><td>7</td><td>8</td></tr><tr><td>1989</td><td>409</td><td>1078</td><td>295246839</td><td>295246840</td><td>295246841</td><td>2</td><td>6</td><td>7</td><td>8</td></tr><tr><td>1989</td><td>409</td><td>605</td><td>295246842</td><td>295246843</td><td>295246844</td><td>2</td><td>6</td><td>7</td><td>8</td></tr><tr><td>1989</td><td>409</td><td>521</td><td>295246845</td><td>295246846</td><td>295246847</td><td>2</td><td>6</td><td>7</td><td>8</td></tr><tr><td>1989</td><td>409</td><td>41</td><td>295246848</td><td>295246849</td><td>295246850</td><td>2</td><td>6</td><td>7</td><td>8</td></tr><tr><td>1989</td><td>409</td><td>1826</td><td>295246851</td><td>295246852</td><td>295246853</td><td>2</td><td>6</td><td>7</td><td>8</td></tr><tr><td>1989</td><td>409</td><td>1970</td><td>295246854</td><td>295246855</td><td>295246856</td><td>2</td><td>6</td><td>7</td><td>8</td></tr><tr><td>1989</td><td>409</td><td>598</td><td>295246857</td><td>295246858</td><td>295246859</td><td>2</td><td>6</td><td>7</td><td>8</td></tr><tr><td>&hellip;</td><td>&hellip;</td><td>&hellip;</td><td>&hellip;</td><td>&hellip;</td><td>&hellip;</td><td>&hellip;</td><td>&hellip;</td><td>&hellip;</td><td>&hellip;</td></tr><tr><td>141</td><td>1474</td><td>712</td><td>296921696</td><td>296921697</td><td>296921698</td><td>0</td><td>0</td><td>1</td><td>2</td></tr><tr><td>141</td><td>1792</td><td>227</td><td>296921699</td><td>296921700</td><td>296921701</td><td>0</td><td>0</td><td>1</td><td>2</td></tr><tr><td>141</td><td>1792</td><td>1092</td><td>296921702</td><td>296921703</td><td>296921704</td><td>0</td><td>0</td><td>1</td><td>2</td></tr><tr><td>141</td><td>120</td><td>1280</td><td>296921705</td><td>296921706</td><td>296921707</td><td>0</td><td>0</td><td>1</td><td>2</td></tr><tr><td>141</td><td>1178</td><td>1254</td><td>296921708</td><td>296921709</td><td>296921710</td><td>0</td><td>0</td><td>1</td><td>2</td></tr><tr><td>141</td><td>1699</td><td>307</td><td>296921711</td><td>296921712</td><td>296921713</td><td>0</td><td>0</td><td>1</td><td>2</td></tr><tr><td>141</td><td>1699</td><td>1254</td><td>296921714</td><td>296921715</td><td>296921716</td><td>0</td><td>0</td><td>1</td><td>2</td></tr><tr><td>141</td><td>1415</td><td>1390</td><td>296921717</td><td>296921718</td><td>296921719</td><td>0</td><td>0</td><td>1</td><td>2</td></tr><tr><td>141</td><td>1415</td><td>1556</td><td>296921720</td><td>296921721</td><td>296921722</td><td>0</td><td>0</td><td>1</td><td>2</td></tr><tr><td>141</td><td>1415</td><td>236</td><td>296921723</td><td>296921724</td><td>296921725</td><td>0</td><td>0</td><td>1</td><td>2</td></tr></tbody></table></div>"
      ],
      "text/plain": [
       "shape: (878_022, 10)\n",
       "┌──────┬──────┬──────┬───────────┬──────────┬──────────┬──────────┬──────────┬──────────┬──────────┐\n",
       "│ bb1  ┆ bb2  ┆ bb3  ┆ id_BRD4   ┆ id_HSA   ┆ id_sEH   ┆ mol_grou ┆ group_BR ┆ group_HS ┆ group_sE │\n",
       "│ ---  ┆ ---  ┆ ---  ┆ ---       ┆ ---      ┆ ---      ┆ p        ┆ D4       ┆ A        ┆ H        │\n",
       "│ i64  ┆ i64  ┆ i64  ┆ i64       ┆ i64      ┆ i64      ┆ ---      ┆ ---      ┆ ---      ┆ ---      │\n",
       "│      ┆      ┆      ┆           ┆          ┆          ┆ i64      ┆ i64      ┆ i64      ┆ i64      │\n",
       "╞══════╪══════╪══════╪═══════════╪══════════╪══════════╪══════════╪══════════╪══════════╪══════════╡\n",
       "│ 1989 ┆ 409  ┆ 409  ┆ 295246830 ┆ 29524683 ┆ 29524683 ┆ 2        ┆ 6        ┆ 7        ┆ 8        │\n",
       "│      ┆      ┆      ┆           ┆ 1        ┆ 2        ┆          ┆          ┆          ┆          │\n",
       "│ 1989 ┆ 409  ┆ 1012 ┆ 295246833 ┆ 29524683 ┆ 29524683 ┆ 2        ┆ 6        ┆ 7        ┆ 8        │\n",
       "│      ┆      ┆      ┆           ┆ 4        ┆ 5        ┆          ┆          ┆          ┆          │\n",
       "│ 1989 ┆ 409  ┆ 1722 ┆ 295246836 ┆ 29524683 ┆ 29524683 ┆ 2        ┆ 6        ┆ 7        ┆ 8        │\n",
       "│      ┆      ┆      ┆           ┆ 7        ┆ 8        ┆          ┆          ┆          ┆          │\n",
       "│ 1989 ┆ 409  ┆ 1078 ┆ 295246839 ┆ 29524684 ┆ 29524684 ┆ 2        ┆ 6        ┆ 7        ┆ 8        │\n",
       "│      ┆      ┆      ┆           ┆ 0        ┆ 1        ┆          ┆          ┆          ┆          │\n",
       "│ 1989 ┆ 409  ┆ 605  ┆ 295246842 ┆ 29524684 ┆ 29524684 ┆ 2        ┆ 6        ┆ 7        ┆ 8        │\n",
       "│      ┆      ┆      ┆           ┆ 3        ┆ 4        ┆          ┆          ┆          ┆          │\n",
       "│ 1989 ┆ 409  ┆ 521  ┆ 295246845 ┆ 29524684 ┆ 29524684 ┆ 2        ┆ 6        ┆ 7        ┆ 8        │\n",
       "│      ┆      ┆      ┆           ┆ 6        ┆ 7        ┆          ┆          ┆          ┆          │\n",
       "│ 1989 ┆ 409  ┆ 41   ┆ 295246848 ┆ 29524684 ┆ 29524685 ┆ 2        ┆ 6        ┆ 7        ┆ 8        │\n",
       "│      ┆      ┆      ┆           ┆ 9        ┆ 0        ┆          ┆          ┆          ┆          │\n",
       "│ 1989 ┆ 409  ┆ 1826 ┆ 295246851 ┆ 29524685 ┆ 29524685 ┆ 2        ┆ 6        ┆ 7        ┆ 8        │\n",
       "│      ┆      ┆      ┆           ┆ 2        ┆ 3        ┆          ┆          ┆          ┆          │\n",
       "│ 1989 ┆ 409  ┆ 1970 ┆ 295246854 ┆ 29524685 ┆ 29524685 ┆ 2        ┆ 6        ┆ 7        ┆ 8        │\n",
       "│      ┆      ┆      ┆           ┆ 5        ┆ 6        ┆          ┆          ┆          ┆          │\n",
       "│ 1989 ┆ 409  ┆ 598  ┆ 295246857 ┆ 29524685 ┆ 29524685 ┆ 2        ┆ 6        ┆ 7        ┆ 8        │\n",
       "│      ┆      ┆      ┆           ┆ 8        ┆ 9        ┆          ┆          ┆          ┆          │\n",
       "│ …    ┆ …    ┆ …    ┆ …         ┆ …        ┆ …        ┆ …        ┆ …        ┆ …        ┆ …        │\n",
       "│ 141  ┆ 1474 ┆ 712  ┆ 296921696 ┆ 29692169 ┆ 29692169 ┆ 0        ┆ 0        ┆ 1        ┆ 2        │\n",
       "│      ┆      ┆      ┆           ┆ 7        ┆ 8        ┆          ┆          ┆          ┆          │\n",
       "│ 141  ┆ 1792 ┆ 227  ┆ 296921699 ┆ 29692170 ┆ 29692170 ┆ 0        ┆ 0        ┆ 1        ┆ 2        │\n",
       "│      ┆      ┆      ┆           ┆ 0        ┆ 1        ┆          ┆          ┆          ┆          │\n",
       "│ 141  ┆ 1792 ┆ 1092 ┆ 296921702 ┆ 29692170 ┆ 29692170 ┆ 0        ┆ 0        ┆ 1        ┆ 2        │\n",
       "│      ┆      ┆      ┆           ┆ 3        ┆ 4        ┆          ┆          ┆          ┆          │\n",
       "│ 141  ┆ 120  ┆ 1280 ┆ 296921705 ┆ 29692170 ┆ 29692170 ┆ 0        ┆ 0        ┆ 1        ┆ 2        │\n",
       "│      ┆      ┆      ┆           ┆ 6        ┆ 7        ┆          ┆          ┆          ┆          │\n",
       "│ 141  ┆ 1178 ┆ 1254 ┆ 296921708 ┆ 29692170 ┆ 29692171 ┆ 0        ┆ 0        ┆ 1        ┆ 2        │\n",
       "│      ┆      ┆      ┆           ┆ 9        ┆ 0        ┆          ┆          ┆          ┆          │\n",
       "│ 141  ┆ 1699 ┆ 307  ┆ 296921711 ┆ 29692171 ┆ 29692171 ┆ 0        ┆ 0        ┆ 1        ┆ 2        │\n",
       "│      ┆      ┆      ┆           ┆ 2        ┆ 3        ┆          ┆          ┆          ┆          │\n",
       "│ 141  ┆ 1699 ┆ 1254 ┆ 296921714 ┆ 29692171 ┆ 29692171 ┆ 0        ┆ 0        ┆ 1        ┆ 2        │\n",
       "│      ┆      ┆      ┆           ┆ 5        ┆ 6        ┆          ┆          ┆          ┆          │\n",
       "│ 141  ┆ 1415 ┆ 1390 ┆ 296921717 ┆ 29692171 ┆ 29692171 ┆ 0        ┆ 0        ┆ 1        ┆ 2        │\n",
       "│      ┆      ┆      ┆           ┆ 8        ┆ 9        ┆          ┆          ┆          ┆          │\n",
       "│ 141  ┆ 1415 ┆ 1556 ┆ 296921720 ┆ 29692172 ┆ 29692172 ┆ 0        ┆ 0        ┆ 1        ┆ 2        │\n",
       "│      ┆      ┆      ┆           ┆ 1        ┆ 2        ┆          ┆          ┆          ┆          │\n",
       "│ 141  ┆ 1415 ┆ 236  ┆ 296921723 ┆ 29692172 ┆ 29692172 ┆ 0        ┆ 0        ┆ 1        ┆ 2        │\n",
       "│      ┆      ┆      ┆           ┆ 4        ┆ 5        ┆          ┆          ┆          ┆          │\n",
       "└──────┴──────┴──────┴───────────┴──────────┴──────────┴──────────┴──────────┴──────────┴──────────┘"
      ]
     },
     "execution_count": 38,
     "metadata": {},
     "output_type": "execute_result"
    }
   ],
   "source": [
    "test_df = pl.scan_csv('/home/dangnh36/datasets/competitions/leash_belka/processed/test_v4.csv').select(pl.col('*').exclude('molecule')).collect()\n",
    "test_df"
   ]
  },
  {
   "cell_type": "code",
   "execution_count": 39,
   "id": "c6ee02e5-245f-4f8b-a23f-25bd4873bc2e",
   "metadata": {},
   "outputs": [
    {
     "data": {
      "text/html": [
       "<div><style>\n",
       ".dataframe > thead > tr,\n",
       ".dataframe > tbody > tr {\n",
       "  text-align: right;\n",
       "  white-space: pre-wrap;\n",
       "}\n",
       "</style>\n",
       "<small>shape: (1_674_896, 3)</small><table border=\"1\" class=\"dataframe\"><thead><tr><th>id</th><th>binds</th><th>group_id</th></tr><tr><td>i64</td><td>f64</td><td>i64</td></tr></thead><tbody><tr><td>295246830</td><td>0.007819</td><td>6</td></tr><tr><td>295246831</td><td>0.010263</td><td>7</td></tr><tr><td>295246832</td><td>0.000166</td><td>8</td></tr><tr><td>295246833</td><td>0.00326</td><td>6</td></tr><tr><td>295246834</td><td>0.002691</td><td>7</td></tr><tr><td>295246835</td><td>0.000037</td><td>8</td></tr><tr><td>295246836</td><td>0.004844</td><td>6</td></tr><tr><td>295246837</td><td>0.001681</td><td>7</td></tr><tr><td>295246838</td><td>0.000265</td><td>8</td></tr><tr><td>295246839</td><td>0.000064</td><td>6</td></tr><tr><td>&hellip;</td><td>&hellip;</td><td>&hellip;</td></tr><tr><td>296921716</td><td>0.000947</td><td>2</td></tr><tr><td>296921717</td><td>0.000004</td><td>0</td></tr><tr><td>296921718</td><td>0.0021</td><td>1</td></tr><tr><td>296921719</td><td>0.000013</td><td>2</td></tr><tr><td>296921720</td><td>0.000072</td><td>0</td></tr><tr><td>296921721</td><td>0.001305</td><td>1</td></tr><tr><td>296921722</td><td>0.001128</td><td>2</td></tr><tr><td>296921723</td><td>0.000396</td><td>0</td></tr><tr><td>296921724</td><td>0.001588</td><td>1</td></tr><tr><td>296921725</td><td>0.000231</td><td>2</td></tr></tbody></table></div>"
      ],
      "text/plain": [
       "shape: (1_674_896, 3)\n",
       "┌───────────┬──────────┬──────────┐\n",
       "│ id        ┆ binds    ┆ group_id │\n",
       "│ ---       ┆ ---      ┆ ---      │\n",
       "│ i64       ┆ f64      ┆ i64      │\n",
       "╞═══════════╪══════════╪══════════╡\n",
       "│ 295246830 ┆ 0.007819 ┆ 6        │\n",
       "│ 295246831 ┆ 0.010263 ┆ 7        │\n",
       "│ 295246832 ┆ 0.000166 ┆ 8        │\n",
       "│ 295246833 ┆ 0.00326  ┆ 6        │\n",
       "│ 295246834 ┆ 0.002691 ┆ 7        │\n",
       "│ 295246835 ┆ 0.000037 ┆ 8        │\n",
       "│ 295246836 ┆ 0.004844 ┆ 6        │\n",
       "│ 295246837 ┆ 0.001681 ┆ 7        │\n",
       "│ 295246838 ┆ 0.000265 ┆ 8        │\n",
       "│ 295246839 ┆ 0.000064 ┆ 6        │\n",
       "│ …         ┆ …        ┆ …        │\n",
       "│ 296921716 ┆ 0.000947 ┆ 2        │\n",
       "│ 296921717 ┆ 0.000004 ┆ 0        │\n",
       "│ 296921718 ┆ 0.0021   ┆ 1        │\n",
       "│ 296921719 ┆ 0.000013 ┆ 2        │\n",
       "│ 296921720 ┆ 0.000072 ┆ 0        │\n",
       "│ 296921721 ┆ 0.001305 ┆ 1        │\n",
       "│ 296921722 ┆ 0.001128 ┆ 2        │\n",
       "│ 296921723 ┆ 0.000396 ┆ 0        │\n",
       "│ 296921724 ┆ 0.001588 ┆ 1        │\n",
       "│ 296921725 ┆ 0.000231 ┆ 2        │\n",
       "└───────────┴──────────┴──────────┘"
      ]
     },
     "execution_count": 39,
     "metadata": {},
     "output_type": "execute_result"
    }
   ],
   "source": [
    "PROTEINS = ['BRD4', 'HSA', 'sEH']\n",
    "target_cols = PROTEINS\n",
    "\n",
    "test_ids = test_df[[f'id_{protein}' for protein in PROTEINS]].to_numpy()\n",
    "group_ids = test_df[[f'group_{protein}'\n",
    "                     for protein in PROTEINS]].to_numpy()\n",
    "# in case that model only predict bindding for < 3 proteins\n",
    "# make dummy predictions of 0 for other proteins\n",
    "submit_preds = np.zeros((preds.shape[0], len(target_cols)),\n",
    "                        dtype=preds.dtype)\n",
    "target_col_idxs = [PROTEINS.index(protein) for protein in target_cols]\n",
    "submit_preds[:, target_col_idxs] = preds\n",
    "preds = submit_preds\n",
    "\n",
    "assert (preds.shape == test_ids.shape)\n",
    "test_ids = test_ids.reshape(-1)\n",
    "preds = preds.reshape(-1)\n",
    "group_ids = group_ids.reshape(-1)\n",
    "mask = (test_ids != 0)\n",
    "assert (mask.sum() == 1674896)\n",
    "\n",
    "df = pl.DataFrame({\n",
    "    'id': test_ids[mask],\n",
    "    'binds': preds[mask],\n",
    "    'group_id': group_ids[mask],\n",
    "})\n",
    "df"
   ]
  },
  {
   "cell_type": "code",
   "execution_count": 43,
   "id": "782e39cd-f907-4cf0-9360-dc9d0cc23a79",
   "metadata": {},
   "outputs": [
    {
     "data": {
      "text/plain": [
       "<Axes: >"
      ]
     },
     "execution_count": 43,
     "metadata": {},
     "output_type": "execute_result"
    },
    {
     "data": {
      "image/png": "[encoded data removed]",
      "text/plain": [
       "<Figure size 640x480 with 1 Axes>"
      ]
     },
     "metadata": {},
     "output_type": "display_data"
    }
   ],
   "source": [
    "df['binds'].to_pandas().hist(log = True)"
   ]
  },
  {
   "cell_type": "code",
   "execution_count": null,
   "id": "d6e56b7d",
   "metadata": {},
   "outputs": [],
   "source": []
  },
  {
   "cell_type": "code",
   "execution_count": 44,
   "id": "d673862c",
   "metadata": {},
   "outputs": [],
   "source": [
    "df.select(pl.col('id', 'binds')).write_csv('./catboost_12chunks.csv')"
   ]
  },
  {
   "cell_type": "code",
   "execution_count": null,
   "id": "127b02a6",
   "metadata": {},
   "outputs": [],
   "source": []
  },
  {
   "cell_type": "code",
   "execution_count": null,
   "id": "93cbe395",
   "metadata": {},
   "outputs": [],
   "source": []
  },
  {
   "cell_type": "code",
   "execution_count": null,
   "id": "85049450",
   "metadata": {},
   "outputs": [],
   "source": []
  },
  {
   "cell_type": "code",
   "execution_count": null,
   "id": "cc871312-4e8e-4dcc-92e9-3a488f8e1790",
   "metadata": {},
   "outputs": [],
   "source": []
  }
 ],
 "metadata": {
  "kernelspec": {
   "display_name": "Python 3 (ipykernel)",
   "language": "python",
   "name": "python3"
  },
  "language_info": {
   "codemirror_mode": {
    "name": "ipython",
    "version": 3
   },
   "file_extension": ".py",
   "mimetype": "text/x-python",
   "name": "python",
   "nbconvert_exporter": "python",
   "pygments_lexer": "ipython3",
   "version": "3.10.13"
  }
 },
 "nbformat": 4,
 "nbformat_minor": 5
}
