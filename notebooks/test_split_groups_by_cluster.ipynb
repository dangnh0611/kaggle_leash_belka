{
 "cells": [
  {
   "cell_type": "code",
   "execution_count": 1,
   "id": "6851dbc0-f829-409e-aa52-f9bb6e81c845",
   "metadata": {},
   "outputs": [
    {
     "name": "stderr",
     "output_type": "stream",
     "text": [
      "/opt/conda/lib/python3.10/site-packages/tqdm/auto.py:21: TqdmWarning: IProgress not found. Please update jupyter and ipywidgets. See https://ipywidgets.readthedocs.io/en/stable/user_install.html\n",
      "  from .autonotebook import tqdm as notebook_tqdm\n"
     ]
    }
   ],
   "source": [
    "from tokenizers import Tokenizer\n",
    "from transformers import PreTrainedTokenizerFast\n",
    "from tokenizers.models import WordLevel, BPE\n",
    "from tokenizers.pre_tokenizers import Whitespace,Split,ByteLevel\n",
    "from tokenizers.normalizers import Lowercase, NFKC\n",
    "import os\n",
    "import polars as pl\n",
    "from joblib import Parallel, delayed\n",
    "import multiprocessing\n",
    "import numpy as np\n",
    "from tqdm import tqdm\n",
    "import time\n",
    "import json\n",
    "from tokenizers.trainers import BpeTrainer, UnigramTrainer, WordLevelTrainer, WordPieceTrainer\n",
    "import gc"
   ]
  },
  {
   "cell_type": "code",
   "execution_count": 35,
   "id": "1cda5cc2-87de-4937-848b-2bc6e8bf87c9",
   "metadata": {},
   "outputs": [
    {
     "name": "stdout",
     "output_type": "stream",
     "text": [
      "0.08581358101218939 GB\n"
     ]
    },
    {
     "data": {
      "text/html": [
       "<div><style>\n",
       ".dataframe > thead > tr,\n",
       ".dataframe > tbody > tr {\n",
       "  text-align: right;\n",
       "  white-space: pre-wrap;\n",
       "}\n",
       "</style>\n",
       "<small>shape: (878_022, 7)</small><table border=\"1\" class=\"dataframe\"><thead><tr><th>molecule</th><th>bb1</th><th>bb2</th><th>bb3</th><th>id_BRD4</th><th>id_HSA</th><th>id_sEH</th></tr><tr><td>str</td><td>u16</td><td>u16</td><td>u16</td><td>i64</td><td>i64</td><td>i64</td></tr></thead><tbody><tr><td>&quot;C#CCCC[C@H](Nc…</td><td>1989</td><td>409</td><td>409</td><td>295246830</td><td>295246831</td><td>295246832</td></tr><tr><td>&quot;C#CCCC[C@H](Nc…</td><td>1989</td><td>409</td><td>1012</td><td>295246833</td><td>295246834</td><td>295246835</td></tr><tr><td>&quot;C#CCCC[C@H](Nc…</td><td>1989</td><td>409</td><td>1722</td><td>295246836</td><td>295246837</td><td>295246838</td></tr><tr><td>&quot;C#CCCC[C@H](Nc…</td><td>1989</td><td>409</td><td>1078</td><td>295246839</td><td>295246840</td><td>295246841</td></tr><tr><td>&quot;C#CCCC[C@H](Nc…</td><td>1989</td><td>409</td><td>605</td><td>295246842</td><td>295246843</td><td>295246844</td></tr><tr><td>&hellip;</td><td>&hellip;</td><td>&hellip;</td><td>&hellip;</td><td>&hellip;</td><td>&hellip;</td><td>&hellip;</td></tr><tr><td>&quot;Cn1ncc2cc(Nc3n…</td><td>141</td><td>1699</td><td>307</td><td>296921711</td><td>296921712</td><td>296921713</td></tr><tr><td>&quot;[N-]=[N+]=NCCC…</td><td>141</td><td>1699</td><td>1254</td><td>296921714</td><td>296921715</td><td>296921716</td></tr><tr><td>&quot;COC(=O)c1ccnc(…</td><td>141</td><td>1415</td><td>1390</td><td>296921717</td><td>296921718</td><td>296921719</td></tr><tr><td>&quot;COC1CCC(CCNc2n…</td><td>141</td><td>1415</td><td>1556</td><td>296921720</td><td>296921721</td><td>296921722</td></tr><tr><td>&quot;[N-]=[N+]=NCCC…</td><td>141</td><td>1415</td><td>236</td><td>296921723</td><td>296921724</td><td>296921725</td></tr></tbody></table></div>"
      ],
      "text/plain": [
       "shape: (878_022, 7)\n",
       "┌───────────────────────────────────┬──────┬──────┬──────┬───────────┬───────────┬───────────┐\n",
       "│ molecule                          ┆ bb1  ┆ bb2  ┆ bb3  ┆ id_BRD4   ┆ id_HSA    ┆ id_sEH    │\n",
       "│ ---                               ┆ ---  ┆ ---  ┆ ---  ┆ ---       ┆ ---       ┆ ---       │\n",
       "│ str                               ┆ u16  ┆ u16  ┆ u16  ┆ i64       ┆ i64       ┆ i64       │\n",
       "╞═══════════════════════════════════╪══════╪══════╪══════╪═══════════╪═══════════╪═══════════╡\n",
       "│ C#CCCC[C@H](Nc1nc(Nc2ccc(C=C)cc2… ┆ 1989 ┆ 409  ┆ 409  ┆ 295246830 ┆ 295246831 ┆ 295246832 │\n",
       "│ C#CCCC[C@H](Nc1nc(Nc2ccc(C=C)cc2… ┆ 1989 ┆ 409  ┆ 1012 ┆ 295246833 ┆ 295246834 ┆ 295246835 │\n",
       "│ C#CCCC[C@H](Nc1nc(NCC2(O)CCCC2(C… ┆ 1989 ┆ 409  ┆ 1722 ┆ 295246836 ┆ 295246837 ┆ 295246838 │\n",
       "│ C#CCCC[C@H](Nc1nc(Nc2ccc(C=C)cc2… ┆ 1989 ┆ 409  ┆ 1078 ┆ 295246839 ┆ 295246840 ┆ 295246841 │\n",
       "│ C#CCCC[C@H](Nc1nc(NCC2CCC(SC)CC2… ┆ 1989 ┆ 409  ┆ 605  ┆ 295246842 ┆ 295246843 ┆ 295246844 │\n",
       "│ …                                 ┆ …    ┆ …    ┆ …    ┆ …         ┆ …         ┆ …         │\n",
       "│ Cn1ncc2cc(Nc3nc(Nc4nncs4)nc(N[C@… ┆ 141  ┆ 1699 ┆ 307  ┆ 296921711 ┆ 296921712 ┆ 296921713 │\n",
       "│ [N-]=[N+]=NCCC[C@H](Nc1nc(NCC2CC… ┆ 141  ┆ 1699 ┆ 1254 ┆ 296921714 ┆ 296921715 ┆ 296921716 │\n",
       "│ COC(=O)c1ccnc(Nc2nc(Nc3noc4ccc(F… ┆ 141  ┆ 1415 ┆ 1390 ┆ 296921717 ┆ 296921718 ┆ 296921719 │\n",
       "│ COC1CCC(CCNc2nc(Nc3noc4ccc(F)cc3… ┆ 141  ┆ 1415 ┆ 1556 ┆ 296921720 ┆ 296921721 ┆ 296921722 │\n",
       "│ [N-]=[N+]=NCCC[C@H](Nc1nc(NCc2cc… ┆ 141  ┆ 1415 ┆ 236  ┆ 296921723 ┆ 296921724 ┆ 296921725 │\n",
       "└───────────────────────────────────┴──────┴──────┴──────┴───────────┴───────────┴───────────┘"
      ]
     },
     "execution_count": 35,
     "metadata": {},
     "output_type": "execute_result"
    }
   ],
   "source": [
    "test_df = pl.scan_csv('/home/dangnh36/datasets/competitions/leash_belka/processed/test_v3.csv').select(\n",
    "        pl.col('molecule'),\n",
    "        pl.col('bb1', 'bb2', 'bb3').cast(pl.UInt16),\n",
    "        pl.col('id_BRD4', 'id_HSA', 'id_sEH'),\n",
    "    ).collect()\n",
    "print(test_df.estimated_size('gb'), 'GB')\n",
    "test_df"
   ]
  },
  {
   "cell_type": "markdown",
   "id": "720cbf28-629a-4ff7-a7a2-36224cabe17d",
   "metadata": {},
   "source": [
    "https://www.kaggle.com/competitions/leash-BELKA/discussion/496576\n",
    "\n",
    "**Public LB**\n",
    "- 50% of shared BBs: 184,519 per protein.\n",
    "- group 1 OR group 2: 11,271 per protein.\n",
    "\n",
    "*Rounded to nearest 10K equals 200k \"validation\" per protein*\n",
    "\n",
    "**Private LB**\n",
    "- 50% of shared BBs: 184,520 per protein\n",
    "- group 1 OR group 2: 11,322 per protein.\n",
    "- The non-triazine core group: 166,667 per protein on average.\n",
    "\n",
    "*Rounded to nearest 10K: 360K \"test\" per protein*"
   ]
  },
  {
   "cell_type": "code",
   "execution_count": 10,
   "id": "317a6a4d-28f5-465c-8f52-5b4fabede0b5",
   "metadata": {},
   "outputs": [
    {
     "name": "stdout",
     "output_type": "stream",
     "text": [
      "train_bbs 1145\n",
      "train_bb1s 271\n",
      "train_bb2s 693\n",
      "train_bb3s 872\n",
      "test_bb1s 341\n",
      "test_bb2s 1140\n",
      "test_bb3s 1389\n",
      "test_bbs 2110\n",
      "all_bbs 2110\n"
     ]
    }
   ],
   "source": [
    "with open('/home/dangnh36/datasets/competitions/leash_belka/processed/meta/building_blocks.json') as f:\n",
    "    bb_meta = json.load(f)\n",
    "for k, v in bb_meta.items():\n",
    "    print(k, len(v))"
   ]
  },
  {
   "cell_type": "code",
   "execution_count": 9,
   "id": "c40b2c2f-c2b2-4661-bd16-2fabb5825e81",
   "metadata": {},
   "outputs": [
    {
     "name": "stdout",
     "output_type": "stream",
     "text": [
      "0 1145\n",
      "1 859\n",
      "2 53\n",
      "3 53\n"
     ]
    }
   ],
   "source": [
    "with open('/home/dangnh36/datasets/competitions/leash_belka/processed/meta/building_blocks_cluster.json') as f:\n",
    "    bb_clusters = json.load(f)\n",
    "\n",
    "for k, v in bb_clusters.items():\n",
    "    print(k, len(v))"
   ]
  },
  {
   "cell_type": "code",
   "execution_count": 11,
   "id": "80c2af41-8b0b-4db6-bff5-4862c551748d",
   "metadata": {},
   "outputs": [
    {
     "data": {
      "text/html": [
       "<div><style>\n",
       ".dataframe > thead > tr,\n",
       ".dataframe > tbody > tr {\n",
       "  text-align: right;\n",
       "  white-space: pre-wrap;\n",
       "}\n",
       "</style>\n",
       "<small>shape: (878_022, 8)</small><table border=\"1\" class=\"dataframe\"><thead><tr><th>molecule</th><th>bb1</th><th>bb2</th><th>bb3</th><th>id_BRD4</th><th>id_HSA</th><th>id_sEH</th><th>mol_group</th></tr><tr><td>str</td><td>u16</td><td>u16</td><td>u16</td><td>i64</td><td>i64</td><td>i64</td><td>i32</td></tr></thead><tbody><tr><td>&quot;C#CCCC[C@H](Nc…</td><td>1989</td><td>409</td><td>409</td><td>295246830</td><td>295246831</td><td>295246832</td><td>-1</td></tr><tr><td>&quot;C#CCCC[C@H](Nc…</td><td>1989</td><td>409</td><td>1012</td><td>295246833</td><td>295246834</td><td>295246835</td><td>-1</td></tr><tr><td>&quot;C#CCCC[C@H](Nc…</td><td>1989</td><td>409</td><td>1722</td><td>295246836</td><td>295246837</td><td>295246838</td><td>-1</td></tr><tr><td>&quot;C#CCCC[C@H](Nc…</td><td>1989</td><td>409</td><td>1078</td><td>295246839</td><td>295246840</td><td>295246841</td><td>-1</td></tr><tr><td>&quot;C#CCCC[C@H](Nc…</td><td>1989</td><td>409</td><td>605</td><td>295246842</td><td>295246843</td><td>295246844</td><td>-1</td></tr><tr><td>&hellip;</td><td>&hellip;</td><td>&hellip;</td><td>&hellip;</td><td>&hellip;</td><td>&hellip;</td><td>&hellip;</td><td>&hellip;</td></tr><tr><td>&quot;Cn1ncc2cc(Nc3n…</td><td>141</td><td>1699</td><td>307</td><td>296921711</td><td>296921712</td><td>296921713</td><td>-1</td></tr><tr><td>&quot;[N-]=[N+]=NCCC…</td><td>141</td><td>1699</td><td>1254</td><td>296921714</td><td>296921715</td><td>296921716</td><td>-1</td></tr><tr><td>&quot;COC(=O)c1ccnc(…</td><td>141</td><td>1415</td><td>1390</td><td>296921717</td><td>296921718</td><td>296921719</td><td>-1</td></tr><tr><td>&quot;COC1CCC(CCNc2n…</td><td>141</td><td>1415</td><td>1556</td><td>296921720</td><td>296921721</td><td>296921722</td><td>-1</td></tr><tr><td>&quot;[N-]=[N+]=NCCC…</td><td>141</td><td>1415</td><td>236</td><td>296921723</td><td>296921724</td><td>296921725</td><td>-1</td></tr></tbody></table></div>"
      ],
      "text/plain": [
       "shape: (878_022, 8)\n",
       "┌─────────────────────────────┬──────┬──────┬──────┬───────────┬───────────┬───────────┬───────────┐\n",
       "│ molecule                    ┆ bb1  ┆ bb2  ┆ bb3  ┆ id_BRD4   ┆ id_HSA    ┆ id_sEH    ┆ mol_group │\n",
       "│ ---                         ┆ ---  ┆ ---  ┆ ---  ┆ ---       ┆ ---       ┆ ---       ┆ ---       │\n",
       "│ str                         ┆ u16  ┆ u16  ┆ u16  ┆ i64       ┆ i64       ┆ i64       ┆ i32       │\n",
       "╞═════════════════════════════╪══════╪══════╪══════╪═══════════╪═══════════╪═══════════╪═══════════╡\n",
       "│ C#CCCC[C@H](Nc1nc(Nc2ccc(C= ┆ 1989 ┆ 409  ┆ 409  ┆ 295246830 ┆ 295246831 ┆ 295246832 ┆ -1        │\n",
       "│ C)cc2…                      ┆      ┆      ┆      ┆           ┆           ┆           ┆           │\n",
       "│ C#CCCC[C@H](Nc1nc(Nc2ccc(C= ┆ 1989 ┆ 409  ┆ 1012 ┆ 295246833 ┆ 295246834 ┆ 295246835 ┆ -1        │\n",
       "│ C)cc2…                      ┆      ┆      ┆      ┆           ┆           ┆           ┆           │\n",
       "│ C#CCCC[C@H](Nc1nc(NCC2(O)CC ┆ 1989 ┆ 409  ┆ 1722 ┆ 295246836 ┆ 295246837 ┆ 295246838 ┆ -1        │\n",
       "│ CC2(C…                      ┆      ┆      ┆      ┆           ┆           ┆           ┆           │\n",
       "│ C#CCCC[C@H](Nc1nc(Nc2ccc(C= ┆ 1989 ┆ 409  ┆ 1078 ┆ 295246839 ┆ 295246840 ┆ 295246841 ┆ -1        │\n",
       "│ C)cc2…                      ┆      ┆      ┆      ┆           ┆           ┆           ┆           │\n",
       "│ C#CCCC[C@H](Nc1nc(NCC2CCC(S ┆ 1989 ┆ 409  ┆ 605  ┆ 295246842 ┆ 295246843 ┆ 295246844 ┆ -1        │\n",
       "│ C)CC2…                      ┆      ┆      ┆      ┆           ┆           ┆           ┆           │\n",
       "│ …                           ┆ …    ┆ …    ┆ …    ┆ …         ┆ …         ┆ …         ┆ …         │\n",
       "│ Cn1ncc2cc(Nc3nc(Nc4nncs4)nc ┆ 141  ┆ 1699 ┆ 307  ┆ 296921711 ┆ 296921712 ┆ 296921713 ┆ -1        │\n",
       "│ (N[C@…                      ┆      ┆      ┆      ┆           ┆           ┆           ┆           │\n",
       "│ [N-]=[N+]=NCCC[C@H](Nc1nc(N ┆ 141  ┆ 1699 ┆ 1254 ┆ 296921714 ┆ 296921715 ┆ 296921716 ┆ -1        │\n",
       "│ CC2CC…                      ┆      ┆      ┆      ┆           ┆           ┆           ┆           │\n",
       "│ COC(=O)c1ccnc(Nc2nc(Nc3noc4 ┆ 141  ┆ 1415 ┆ 1390 ┆ 296921717 ┆ 296921718 ┆ 296921719 ┆ -1        │\n",
       "│ ccc(F…                      ┆      ┆      ┆      ┆           ┆           ┆           ┆           │\n",
       "│ COC1CCC(CCNc2nc(Nc3noc4ccc( ┆ 141  ┆ 1415 ┆ 1556 ┆ 296921720 ┆ 296921721 ┆ 296921722 ┆ -1        │\n",
       "│ F)cc3…                      ┆      ┆      ┆      ┆           ┆           ┆           ┆           │\n",
       "│ [N-]=[N+]=NCCC[C@H](Nc1nc(N ┆ 141  ┆ 1415 ┆ 236  ┆ 296921723 ┆ 296921724 ┆ 296921725 ┆ -1        │\n",
       "│ Cc2cc…                      ┆      ┆      ┆      ┆           ┆           ┆           ┆           │\n",
       "└─────────────────────────────┴──────┴──────┴──────┴───────────┴───────────┴───────────┴───────────┘"
      ]
     },
     "execution_count": 11,
     "metadata": {},
     "output_type": "execute_result"
    }
   ],
   "source": [
    "test_df = test_df.with_columns(pl.lit(-1).alias('mol_group'))\n",
    "test_df"
   ]
  },
  {
   "cell_type": "code",
   "execution_count": 39,
   "id": "a3e2d815-cf95-48bf-824f-0c1219afac2a",
   "metadata": {},
   "outputs": [
    {
     "name": "stdout",
     "output_type": "stream",
     "text": [
      "0 369039\n",
      "1 486390\n",
      "2 11271\n",
      "3 11322\n"
     ]
    }
   ],
   "source": [
    "for mol_group_id, group_bbs in bb_clusters.items():\n",
    "    mol_group_id = int(mol_group_id)\n",
    "    test_df = test_df.with_columns(\n",
    "        pl.when(pl.col('bb1').is_in(group_bbs) | pl.col('bb2').is_in(group_bbs) | pl.col('bb3').is_in(group_bbs)).then(pl.lit(int(mol_group_id))).otherwise('mol_group').alias('mol_group')\n",
    "    )\n",
    "    # test_df.filter(pl.col('bb1').is_in(group_bbs) | pl.col('bb2').is_in(group_bbs) | pl.col('bb3').is_in(group_bbs))['mol_group'] = mol_group_id\n",
    "    print(mol_group_id, test_df.filter(pl.col('mol_group') == mol_group_id).select('mol_group').count()[0, 'mol_group'])"
   ]
  },
  {
   "cell_type": "code",
   "execution_count": 40,
   "id": "dd0da86f-d4fb-43f8-a270-eae02fb8d8db",
   "metadata": {},
   "outputs": [
    {
     "data": {
      "text/plain": [
       "878022"
      ]
     },
     "execution_count": 40,
     "metadata": {},
     "output_type": "execute_result"
    }
   ],
   "source": [
    "369039 + 486390 + 11271 + 11322"
   ]
  },
  {
   "cell_type": "code",
   "execution_count": 1,
   "id": "7b6d5f26-fe62-4a80-a629-bebd67057e49",
   "metadata": {},
   "outputs": [
    {
     "data": {
      "text/plain": [
       "0.5539610624790723"
      ]
     },
     "execution_count": 1,
     "metadata": {},
     "output_type": "execute_result"
    }
   ],
   "source": [
    "486390  / 878_022"
   ]
  },
  {
   "cell_type": "code",
   "execution_count": null,
   "id": "810add15-f389-4216-a5b5-113c1dff0bae",
   "metadata": {},
   "outputs": [],
   "source": []
  },
  {
   "cell_type": "code",
   "execution_count": null,
   "id": "379ead72-48c1-499c-b5a8-66ef41fdb791",
   "metadata": {},
   "outputs": [],
   "source": []
  },
  {
   "cell_type": "code",
   "execution_count": null,
   "id": "17aa8ef7-e0bd-434d-9b52-c3794585912a",
   "metadata": {},
   "outputs": [],
   "source": []
  },
  {
   "cell_type": "code",
   "execution_count": 41,
   "id": "dd46df9d-a41d-49be-b864-076232f9f405",
   "metadata": {},
   "outputs": [
    {
     "data": {
      "text/html": [
       "<div><style>\n",
       ".dataframe > thead > tr,\n",
       ".dataframe > tbody > tr {\n",
       "  text-align: right;\n",
       "  white-space: pre-wrap;\n",
       "}\n",
       "</style>\n",
       "<small>shape: (878_022, 8)</small><table border=\"1\" class=\"dataframe\"><thead><tr><th>molecule</th><th>bb1</th><th>bb2</th><th>bb3</th><th>id_BRD4</th><th>id_HSA</th><th>id_sEH</th><th>mol_group</th></tr><tr><td>str</td><td>u16</td><td>u16</td><td>u16</td><td>i64</td><td>i64</td><td>i64</td><td>i32</td></tr></thead><tbody><tr><td>&quot;C#CCCC[C@H](Nc…</td><td>1989</td><td>409</td><td>409</td><td>295246830</td><td>295246831</td><td>295246832</td><td>2</td></tr><tr><td>&quot;C#CCCC[C@H](Nc…</td><td>1989</td><td>409</td><td>1012</td><td>295246833</td><td>295246834</td><td>295246835</td><td>2</td></tr><tr><td>&quot;C#CCCC[C@H](Nc…</td><td>1989</td><td>409</td><td>1722</td><td>295246836</td><td>295246837</td><td>295246838</td><td>2</td></tr><tr><td>&quot;C#CCCC[C@H](Nc…</td><td>1989</td><td>409</td><td>1078</td><td>295246839</td><td>295246840</td><td>295246841</td><td>2</td></tr><tr><td>&quot;C#CCCC[C@H](Nc…</td><td>1989</td><td>409</td><td>605</td><td>295246842</td><td>295246843</td><td>295246844</td><td>2</td></tr><tr><td>&hellip;</td><td>&hellip;</td><td>&hellip;</td><td>&hellip;</td><td>&hellip;</td><td>&hellip;</td><td>&hellip;</td><td>&hellip;</td></tr><tr><td>&quot;Cn1ncc2cc(Nc3n…</td><td>141</td><td>1699</td><td>307</td><td>296921711</td><td>296921712</td><td>296921713</td><td>0</td></tr><tr><td>&quot;[N-]=[N+]=NCCC…</td><td>141</td><td>1699</td><td>1254</td><td>296921714</td><td>296921715</td><td>296921716</td><td>0</td></tr><tr><td>&quot;COC(=O)c1ccnc(…</td><td>141</td><td>1415</td><td>1390</td><td>296921717</td><td>296921718</td><td>296921719</td><td>0</td></tr><tr><td>&quot;COC1CCC(CCNc2n…</td><td>141</td><td>1415</td><td>1556</td><td>296921720</td><td>296921721</td><td>296921722</td><td>0</td></tr><tr><td>&quot;[N-]=[N+]=NCCC…</td><td>141</td><td>1415</td><td>236</td><td>296921723</td><td>296921724</td><td>296921725</td><td>0</td></tr></tbody></table></div>"
      ],
      "text/plain": [
       "shape: (878_022, 8)\n",
       "┌─────────────────────────────┬──────┬──────┬──────┬───────────┬───────────┬───────────┬───────────┐\n",
       "│ molecule                    ┆ bb1  ┆ bb2  ┆ bb3  ┆ id_BRD4   ┆ id_HSA    ┆ id_sEH    ┆ mol_group │\n",
       "│ ---                         ┆ ---  ┆ ---  ┆ ---  ┆ ---       ┆ ---       ┆ ---       ┆ ---       │\n",
       "│ str                         ┆ u16  ┆ u16  ┆ u16  ┆ i64       ┆ i64       ┆ i64       ┆ i32       │\n",
       "╞═════════════════════════════╪══════╪══════╪══════╪═══════════╪═══════════╪═══════════╪═══════════╡\n",
       "│ C#CCCC[C@H](Nc1nc(Nc2ccc(C= ┆ 1989 ┆ 409  ┆ 409  ┆ 295246830 ┆ 295246831 ┆ 295246832 ┆ 2         │\n",
       "│ C)cc2…                      ┆      ┆      ┆      ┆           ┆           ┆           ┆           │\n",
       "│ C#CCCC[C@H](Nc1nc(Nc2ccc(C= ┆ 1989 ┆ 409  ┆ 1012 ┆ 295246833 ┆ 295246834 ┆ 295246835 ┆ 2         │\n",
       "│ C)cc2…                      ┆      ┆      ┆      ┆           ┆           ┆           ┆           │\n",
       "│ C#CCCC[C@H](Nc1nc(NCC2(O)CC ┆ 1989 ┆ 409  ┆ 1722 ┆ 295246836 ┆ 295246837 ┆ 295246838 ┆ 2         │\n",
       "│ CC2(C…                      ┆      ┆      ┆      ┆           ┆           ┆           ┆           │\n",
       "│ C#CCCC[C@H](Nc1nc(Nc2ccc(C= ┆ 1989 ┆ 409  ┆ 1078 ┆ 295246839 ┆ 295246840 ┆ 295246841 ┆ 2         │\n",
       "│ C)cc2…                      ┆      ┆      ┆      ┆           ┆           ┆           ┆           │\n",
       "│ C#CCCC[C@H](Nc1nc(NCC2CCC(S ┆ 1989 ┆ 409  ┆ 605  ┆ 295246842 ┆ 295246843 ┆ 295246844 ┆ 2         │\n",
       "│ C)CC2…                      ┆      ┆      ┆      ┆           ┆           ┆           ┆           │\n",
       "│ …                           ┆ …    ┆ …    ┆ …    ┆ …         ┆ …         ┆ …         ┆ …         │\n",
       "│ Cn1ncc2cc(Nc3nc(Nc4nncs4)nc ┆ 141  ┆ 1699 ┆ 307  ┆ 296921711 ┆ 296921712 ┆ 296921713 ┆ 0         │\n",
       "│ (N[C@…                      ┆      ┆      ┆      ┆           ┆           ┆           ┆           │\n",
       "│ [N-]=[N+]=NCCC[C@H](Nc1nc(N ┆ 141  ┆ 1699 ┆ 1254 ┆ 296921714 ┆ 296921715 ┆ 296921716 ┆ 0         │\n",
       "│ CC2CC…                      ┆      ┆      ┆      ┆           ┆           ┆           ┆           │\n",
       "│ COC(=O)c1ccnc(Nc2nc(Nc3noc4 ┆ 141  ┆ 1415 ┆ 1390 ┆ 296921717 ┆ 296921718 ┆ 296921719 ┆ 0         │\n",
       "│ ccc(F…                      ┆      ┆      ┆      ┆           ┆           ┆           ┆           │\n",
       "│ COC1CCC(CCNc2nc(Nc3noc4ccc( ┆ 141  ┆ 1415 ┆ 1556 ┆ 296921720 ┆ 296921721 ┆ 296921722 ┆ 0         │\n",
       "│ F)cc3…                      ┆      ┆      ┆      ┆           ┆           ┆           ┆           │\n",
       "│ [N-]=[N+]=NCCC[C@H](Nc1nc(N ┆ 141  ┆ 1415 ┆ 236  ┆ 296921723 ┆ 296921724 ┆ 296921725 ┆ 0         │\n",
       "│ Cc2cc…                      ┆      ┆      ┆      ┆           ┆           ┆           ┆           │\n",
       "└─────────────────────────────┴──────┴──────┴──────┴───────────┴───────────┴───────────┴───────────┘"
      ]
     },
     "execution_count": 41,
     "metadata": {},
     "output_type": "execute_result"
    }
   ],
   "source": [
    "test_df"
   ]
  },
  {
   "cell_type": "code",
   "execution_count": 42,
   "id": "d98f5635-db0e-4061-8224-5539f2f0c730",
   "metadata": {},
   "outputs": [
    {
     "data": {
      "text/html": [
       "<div><style>\n",
       ".dataframe > thead > tr,\n",
       ".dataframe > tbody > tr {\n",
       "  text-align: right;\n",
       "  white-space: pre-wrap;\n",
       "}\n",
       "</style>\n",
       "<small>shape: (4, 1)</small><table border=\"1\" class=\"dataframe\"><thead><tr><th>mol_group</th></tr><tr><td>i32</td></tr></thead><tbody><tr><td>0</td></tr><tr><td>1</td></tr><tr><td>2</td></tr><tr><td>3</td></tr></tbody></table></div>"
      ],
      "text/plain": [
       "shape: (4, 1)\n",
       "┌───────────┐\n",
       "│ mol_group │\n",
       "│ ---       │\n",
       "│ i32       │\n",
       "╞═══════════╡\n",
       "│ 0         │\n",
       "│ 1         │\n",
       "│ 2         │\n",
       "│ 3         │\n",
       "└───────────┘"
      ]
     },
     "execution_count": 42,
     "metadata": {},
     "output_type": "execute_result"
    }
   ],
   "source": [
    "test_df.select(pl.col('mol_group').unique())"
   ]
  },
  {
   "cell_type": "code",
   "execution_count": 43,
   "id": "c46b1426-df71-4a90-b6f0-0fb275ba59f6",
   "metadata": {},
   "outputs": [
    {
     "data": {
      "text/html": [
       "<div><style>\n",
       ".dataframe > thead > tr,\n",
       ".dataframe > tbody > tr {\n",
       "  text-align: right;\n",
       "  white-space: pre-wrap;\n",
       "}\n",
       "</style>\n",
       "<small>shape: (878_022, 11)</small><table border=\"1\" class=\"dataframe\"><thead><tr><th>molecule</th><th>bb1</th><th>bb2</th><th>bb3</th><th>id_BRD4</th><th>id_HSA</th><th>id_sEH</th><th>mol_group</th><th>group_BRD4</th><th>group_HSA</th><th>group_sEH</th></tr><tr><td>str</td><td>u16</td><td>u16</td><td>u16</td><td>i64</td><td>i64</td><td>i64</td><td>i32</td><td>i32</td><td>i32</td><td>i32</td></tr></thead><tbody><tr><td>&quot;C#CCCC[C@H](Nc…</td><td>1989</td><td>409</td><td>409</td><td>295246830</td><td>295246831</td><td>295246832</td><td>2</td><td>6</td><td>7</td><td>8</td></tr><tr><td>&quot;C#CCCC[C@H](Nc…</td><td>1989</td><td>409</td><td>1012</td><td>295246833</td><td>295246834</td><td>295246835</td><td>2</td><td>6</td><td>7</td><td>8</td></tr><tr><td>&quot;C#CCCC[C@H](Nc…</td><td>1989</td><td>409</td><td>1722</td><td>295246836</td><td>295246837</td><td>295246838</td><td>2</td><td>6</td><td>7</td><td>8</td></tr><tr><td>&quot;C#CCCC[C@H](Nc…</td><td>1989</td><td>409</td><td>1078</td><td>295246839</td><td>295246840</td><td>295246841</td><td>2</td><td>6</td><td>7</td><td>8</td></tr><tr><td>&quot;C#CCCC[C@H](Nc…</td><td>1989</td><td>409</td><td>605</td><td>295246842</td><td>295246843</td><td>295246844</td><td>2</td><td>6</td><td>7</td><td>8</td></tr><tr><td>&hellip;</td><td>&hellip;</td><td>&hellip;</td><td>&hellip;</td><td>&hellip;</td><td>&hellip;</td><td>&hellip;</td><td>&hellip;</td><td>&hellip;</td><td>&hellip;</td><td>&hellip;</td></tr><tr><td>&quot;Cn1ncc2cc(Nc3n…</td><td>141</td><td>1699</td><td>307</td><td>296921711</td><td>296921712</td><td>296921713</td><td>0</td><td>0</td><td>1</td><td>2</td></tr><tr><td>&quot;[N-]=[N+]=NCCC…</td><td>141</td><td>1699</td><td>1254</td><td>296921714</td><td>296921715</td><td>296921716</td><td>0</td><td>0</td><td>1</td><td>2</td></tr><tr><td>&quot;COC(=O)c1ccnc(…</td><td>141</td><td>1415</td><td>1390</td><td>296921717</td><td>296921718</td><td>296921719</td><td>0</td><td>0</td><td>1</td><td>2</td></tr><tr><td>&quot;COC1CCC(CCNc2n…</td><td>141</td><td>1415</td><td>1556</td><td>296921720</td><td>296921721</td><td>296921722</td><td>0</td><td>0</td><td>1</td><td>2</td></tr><tr><td>&quot;[N-]=[N+]=NCCC…</td><td>141</td><td>1415</td><td>236</td><td>296921723</td><td>296921724</td><td>296921725</td><td>0</td><td>0</td><td>1</td><td>2</td></tr></tbody></table></div>"
      ],
      "text/plain": [
       "shape: (878_022, 11)\n",
       "┌────────────────────────┬──────┬──────┬──────┬───┬───────────┬────────────┬───────────┬───────────┐\n",
       "│ molecule               ┆ bb1  ┆ bb2  ┆ bb3  ┆ … ┆ mol_group ┆ group_BRD4 ┆ group_HSA ┆ group_sEH │\n",
       "│ ---                    ┆ ---  ┆ ---  ┆ ---  ┆   ┆ ---       ┆ ---        ┆ ---       ┆ ---       │\n",
       "│ str                    ┆ u16  ┆ u16  ┆ u16  ┆   ┆ i32       ┆ i32        ┆ i32       ┆ i32       │\n",
       "╞════════════════════════╪══════╪══════╪══════╪═══╪═══════════╪════════════╪═══════════╪═══════════╡\n",
       "│ C#CCCC[C@H](Nc1nc(Nc2c ┆ 1989 ┆ 409  ┆ 409  ┆ … ┆ 2         ┆ 6          ┆ 7         ┆ 8         │\n",
       "│ cc(C=C)cc2…            ┆      ┆      ┆      ┆   ┆           ┆            ┆           ┆           │\n",
       "│ C#CCCC[C@H](Nc1nc(Nc2c ┆ 1989 ┆ 409  ┆ 1012 ┆ … ┆ 2         ┆ 6          ┆ 7         ┆ 8         │\n",
       "│ cc(C=C)cc2…            ┆      ┆      ┆      ┆   ┆           ┆            ┆           ┆           │\n",
       "│ C#CCCC[C@H](Nc1nc(NCC2 ┆ 1989 ┆ 409  ┆ 1722 ┆ … ┆ 2         ┆ 6          ┆ 7         ┆ 8         │\n",
       "│ (O)CCCC2(C…            ┆      ┆      ┆      ┆   ┆           ┆            ┆           ┆           │\n",
       "│ C#CCCC[C@H](Nc1nc(Nc2c ┆ 1989 ┆ 409  ┆ 1078 ┆ … ┆ 2         ┆ 6          ┆ 7         ┆ 8         │\n",
       "│ cc(C=C)cc2…            ┆      ┆      ┆      ┆   ┆           ┆            ┆           ┆           │\n",
       "│ C#CCCC[C@H](Nc1nc(NCC2 ┆ 1989 ┆ 409  ┆ 605  ┆ … ┆ 2         ┆ 6          ┆ 7         ┆ 8         │\n",
       "│ CCC(SC)CC2…            ┆      ┆      ┆      ┆   ┆           ┆            ┆           ┆           │\n",
       "│ …                      ┆ …    ┆ …    ┆ …    ┆ … ┆ …         ┆ …          ┆ …         ┆ …         │\n",
       "│ Cn1ncc2cc(Nc3nc(Nc4nnc ┆ 141  ┆ 1699 ┆ 307  ┆ … ┆ 0         ┆ 0          ┆ 1         ┆ 2         │\n",
       "│ s4)nc(N[C@…            ┆      ┆      ┆      ┆   ┆           ┆            ┆           ┆           │\n",
       "│ [N-]=[N+]=NCCC[C@H](Nc ┆ 141  ┆ 1699 ┆ 1254 ┆ … ┆ 0         ┆ 0          ┆ 1         ┆ 2         │\n",
       "│ 1nc(NCC2CC…            ┆      ┆      ┆      ┆   ┆           ┆            ┆           ┆           │\n",
       "│ COC(=O)c1ccnc(Nc2nc(Nc ┆ 141  ┆ 1415 ┆ 1390 ┆ … ┆ 0         ┆ 0          ┆ 1         ┆ 2         │\n",
       "│ 3noc4ccc(F…            ┆      ┆      ┆      ┆   ┆           ┆            ┆           ┆           │\n",
       "│ COC1CCC(CCNc2nc(Nc3noc ┆ 141  ┆ 1415 ┆ 1556 ┆ … ┆ 0         ┆ 0          ┆ 1         ┆ 2         │\n",
       "│ 4ccc(F)cc3…            ┆      ┆      ┆      ┆   ┆           ┆            ┆           ┆           │\n",
       "│ [N-]=[N+]=NCCC[C@H](Nc ┆ 141  ┆ 1415 ┆ 236  ┆ … ┆ 0         ┆ 0          ┆ 1         ┆ 2         │\n",
       "│ 1nc(NCc2cc…            ┆      ┆      ┆      ┆   ┆           ┆            ┆           ┆           │\n",
       "└────────────────────────┴──────┴──────┴──────┴───┴───────────┴────────────┴───────────┴───────────┘"
      ]
     },
     "execution_count": 43,
     "metadata": {},
     "output_type": "execute_result"
    }
   ],
   "source": [
    "test_df = test_df.with_columns(\n",
    "    (pl.col('mol_group') * 3 + 0).alias('group_BRD4'),\n",
    "    (pl.col('mol_group') * 3 + 1).alias('group_HSA'),\n",
    "    (pl.col('mol_group') * 3 + 2).alias('group_sEH'),\n",
    ")\n",
    "test_df"
   ]
  },
  {
   "cell_type": "code",
   "execution_count": 46,
   "id": "8133c1cd-7acb-49e0-84a4-918074278a83",
   "metadata": {},
   "outputs": [
    {
     "data": {
      "text/html": [
       "<div><style>\n",
       ".dataframe > thead > tr,\n",
       ".dataframe > tbody > tr {\n",
       "  text-align: right;\n",
       "  white-space: pre-wrap;\n",
       "}\n",
       "</style>\n",
       "<small>shape: (4, 3)</small><table border=\"1\" class=\"dataframe\"><thead><tr><th>group_BRD4</th><th>group_HSA</th><th>group_sEH</th></tr><tr><td>i32</td><td>i32</td><td>i32</td></tr></thead><tbody><tr><td>0</td><td>1</td><td>2</td></tr><tr><td>3</td><td>4</td><td>5</td></tr><tr><td>6</td><td>7</td><td>8</td></tr><tr><td>9</td><td>10</td><td>11</td></tr></tbody></table></div>"
      ],
      "text/plain": [
       "shape: (4, 3)\n",
       "┌────────────┬───────────┬───────────┐\n",
       "│ group_BRD4 ┆ group_HSA ┆ group_sEH │\n",
       "│ ---        ┆ ---       ┆ ---       │\n",
       "│ i32        ┆ i32       ┆ i32       │\n",
       "╞════════════╪═══════════╪═══════════╡\n",
       "│ 0          ┆ 1         ┆ 2         │\n",
       "│ 3          ┆ 4         ┆ 5         │\n",
       "│ 6          ┆ 7         ┆ 8         │\n",
       "│ 9          ┆ 10        ┆ 11        │\n",
       "└────────────┴───────────┴───────────┘"
      ]
     },
     "execution_count": 46,
     "metadata": {},
     "output_type": "execute_result"
    }
   ],
   "source": [
    "test_df.select(pl.col('group_BRD4', 'group_HSA', 'group_sEH').unique())"
   ]
  },
  {
   "cell_type": "code",
   "execution_count": null,
   "id": "9707d340-1c09-493b-bbf8-07fa9649677f",
   "metadata": {},
   "outputs": [],
   "source": []
  },
  {
   "cell_type": "code",
   "execution_count": 47,
   "id": "f5db3106-d0e4-40a3-b045-6e5cd92ad966",
   "metadata": {},
   "outputs": [],
   "source": [
    "test_df.write_csv('/home/dangnh36/datasets/competitions/leash_belka/processed/test_v4.csv')"
   ]
  },
  {
   "cell_type": "code",
   "execution_count": null,
   "id": "907debee-8cda-497a-a10c-3b7d13b5bbc3",
   "metadata": {},
   "outputs": [],
   "source": []
  },
  {
   "cell_type": "code",
   "execution_count": null,
   "id": "2818131c-11b0-41c9-9dfb-14c0955bba16",
   "metadata": {},
   "outputs": [],
   "source": []
  }
 ],
 "metadata": {
  "kernelspec": {
   "display_name": "Python 3 (ipykernel)",
   "language": "python",
   "name": "python3"
  },
  "language_info": {
   "codemirror_mode": {
    "name": "ipython",
    "version": 3
   },
   "file_extension": ".py",
   "mimetype": "text/x-python",
   "name": "python",
   "nbconvert_exporter": "python",
   "pygments_lexer": "ipython3",
   "version": "3.10.13"
  }
 },
 "nbformat": 4,
 "nbformat_minor": 5
}
