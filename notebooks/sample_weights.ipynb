{
 "cells": [
  {
   "cell_type": "code",
   "execution_count": 1,
   "id": "7a00879e",
   "metadata": {},
   "outputs": [
    {
     "name": "stderr",
     "output_type": "stream",
     "text": [
      "No normalization for SPS. Feature removed!\n",
      "No normalization for AvgIpc. Feature removed!\n",
      "Skipped loading some Tensorflow models, missing a dependency. No module named 'tensorflow'\n",
      "Skipped loading modules with pytorch-geometric dependency, missing a dependency. No module named 'torch_geometric'\n",
      "Skipped loading modules with pytorch-geometric dependency, missing a dependency. cannot import name 'DMPNN' from 'deepchem.models.torch_models' (/opt/conda/lib/python3.10/site-packages/deepchem/models/torch_models/__init__.py)\n",
      "Skipped loading some Jax models, missing a dependency. No module named 'jax'\n",
      "Skipped loading some PyTorch models, missing a dependency. No module named 'tensorflow'\n"
     ]
    }
   ],
   "source": [
    "import pandas as pd\n",
    "import numpy as np\n",
    "import os\n",
    "import sys\n",
    "import polars as pl\n",
    "import json\n",
    "from joblib import Parallel, delayed\n",
    "import deepchem\n",
    "from tqdm import tqdm\n",
    "import warnings\n",
    "warnings.filterwarnings(\"ignore\")\n",
    "\n",
    "# Configure Polars \n",
    "cfg = pl.Config()\n",
    "cfg.set_tbl_rows(20)\n",
    "cfg.set_tbl_cols(50)\n",
    "from sklearn.model_selection import StratifiedGroupKFold, GroupKFold, KFold, GroupShuffleSplit, ShuffleSplit, StratifiedKFold\n",
    "import gc\n",
    "import random"
   ]
  },
  {
   "cell_type": "code",
   "execution_count": 2,
   "id": "dbdd8e37",
   "metadata": {},
   "outputs": [],
   "source": [
    "PERCENTILES = [0.01, 0.025, 0.05, 0.1, 0.25, 0.5, 0.75, 0.9, 0.95, 0.975, 0.99]"
   ]
  },
  {
   "cell_type": "code",
   "execution_count": 3,
   "id": "7183f148",
   "metadata": {},
   "outputs": [],
   "source": [
    "def scatter_plot(x, y, show = True, xlabel = 'X', ylabel = 'Y', title = 'plot'):\n",
    "    # Create the scatter plot\n",
    "    plt.scatter(x, y)\n",
    "\n",
    "    # Add labels and title for the axes\n",
    "    plt.xlabel(xlabel)\n",
    "    plt.ylabel(ylabel)\n",
    "    plt.title(title)\n",
    "\n",
    "    # Show the plot\n",
    "    if show:\n",
    "        plt.show()\n",
    "        \n",
    "        \n",
    "def analyze_sample_weight(df):\n",
    "    assert df.shape[0] == 98415610\n",
    "    w_sum = df['sample_weight'].sum()\n",
    "    for protein in ['BRD4', 'HSA', 'sEH']:\n",
    "        print(protein, df.filter(pl.col(protein) == 1)['sample_weight'].sum() / w_sum)\n",
    "    print('Union:', df.filter((pl.col('BRD4') + pl.col('HSA') + pl.col('sEH')) != 0)['sample_weight'].sum() / w_sum)"
   ]
  },
  {
   "cell_type": "code",
   "execution_count": null,
   "id": "91df62d7",
   "metadata": {},
   "outputs": [],
   "source": []
  },
  {
   "cell_type": "code",
   "execution_count": null,
   "id": "7b45f165",
   "metadata": {},
   "outputs": [],
   "source": []
  },
  {
   "cell_type": "code",
   "execution_count": 4,
   "id": "e9926b84",
   "metadata": {},
   "outputs": [
    {
     "name": "stdout",
     "output_type": "stream",
     "text": [
      "train_bbs --> 1145\n",
      "train_bb1s --> 271\n",
      "train_bb2s --> 693\n",
      "train_bb3s --> 872\n",
      "test_bb1s --> 341\n",
      "test_bb2s --> 1140\n",
      "test_bb3s --> 1389\n",
      "test_bbs --> 2110\n",
      "all_bbs --> 2110\n"
     ]
    }
   ],
   "source": [
    "with open('/home/dangnh36/datasets/competitions/leash_belka/processed/meta/building_blocks.json', 'r') as f:\n",
    "    bbs_meta = json.load(f)\n",
    "    \n",
    "for k, v in bbs_meta.items():\n",
    "    print(k, '-->', len(v)) "
   ]
  },
  {
   "cell_type": "code",
   "execution_count": 11,
   "id": "88f00150",
   "metadata": {},
   "outputs": [
    {
     "name": "stdout",
     "output_type": "stream",
     "text": [
      "(98415610, 8) 8601.91998577118\n"
     ]
    },
    {
     "data": {
      "text/html": [
       "<div><style>\n",
       ".dataframe > thead > tr,\n",
       ".dataframe > tbody > tr {\n",
       "  text-align: right;\n",
       "  white-space: pre-wrap;\n",
       "}\n",
       "</style>\n",
       "<small>shape: (98_415_610, 8)</small><table border=\"1\" class=\"dataframe\"><thead><tr><th>molecule</th><th>bb1</th><th>bb2</th><th>bb3</th><th>BRD4</th><th>HSA</th><th>sEH</th><th>scaffold_idx</th></tr><tr><td>str</td><td>u16</td><td>u16</td><td>u16</td><td>u8</td><td>u8</td><td>u8</td><td>i64</td></tr></thead><tbody><tr><td>&quot;C#CCOc1ccc(CNc…</td><td>1640</td><td>1653</td><td>765</td><td>0</td><td>0</td><td>0</td><td>4283326</td></tr><tr><td>&quot;C#CCOc1ccc(CNc…</td><td>1640</td><td>1653</td><td>205</td><td>0</td><td>0</td><td>0</td><td>4486646</td></tr><tr><td>&quot;C#CCOc1ccc(CNc…</td><td>1640</td><td>1653</td><td>1653</td><td>0</td><td>0</td><td>0</td><td>1015728</td></tr><tr><td>&quot;C#CCOc1ccc(CNc…</td><td>1640</td><td>1653</td><td>146</td><td>0</td><td>0</td><td>0</td><td>5301385</td></tr><tr><td>&quot;C#CCOc1ccc(CNc…</td><td>1640</td><td>1653</td><td>439</td><td>0</td><td>0</td><td>0</td><td>5301385</td></tr><tr><td>&quot;C#CCOc1ccc(CNc…</td><td>1640</td><td>1653</td><td>196</td><td>0</td><td>0</td><td>0</td><td>5301385</td></tr><tr><td>&quot;C#CCOc1ccc(CNc…</td><td>1640</td><td>1653</td><td>253</td><td>0</td><td>0</td><td>0</td><td>5301385</td></tr><tr><td>&quot;C#CCOc1ccc(CNc…</td><td>1640</td><td>1653</td><td>1219</td><td>0</td><td>0</td><td>0</td><td>5301385</td></tr><tr><td>&quot;C#CCOc1ccc(CNc…</td><td>1640</td><td>1653</td><td>604</td><td>0</td><td>0</td><td>0</td><td>543172</td></tr><tr><td>&quot;C#CCOc1ccc(CNc…</td><td>1640</td><td>1653</td><td>121</td><td>0</td><td>0</td><td>0</td><td>2571428</td></tr><tr><td>&hellip;</td><td>&hellip;</td><td>&hellip;</td><td>&hellip;</td><td>&hellip;</td><td>&hellip;</td><td>&hellip;</td><td>&hellip;</td></tr><tr><td>&quot;[N-]=[N+]=NCCC…</td><td>141</td><td>1415</td><td>536</td><td>0</td><td>0</td><td>0</td><td>4068980</td></tr><tr><td>&quot;[N-]=[N+]=NCCC…</td><td>141</td><td>1415</td><td>1367</td><td>0</td><td>0</td><td>0</td><td>2088996</td></tr><tr><td>&quot;[N-]=[N+]=NCCC…</td><td>141</td><td>1415</td><td>329</td><td>0</td><td>0</td><td>0</td><td>3192765</td></tr><tr><td>&quot;[N-]=[N+]=NCCC…</td><td>141</td><td>1415</td><td>757</td><td>0</td><td>0</td><td>0</td><td>4085046</td></tr><tr><td>&quot;[N-]=[N+]=NCCC…</td><td>141</td><td>1415</td><td>335</td><td>0</td><td>0</td><td>0</td><td>4087757</td></tr><tr><td>&quot;[N-]=[N+]=NCCC…</td><td>141</td><td>1415</td><td>1792</td><td>0</td><td>0</td><td>0</td><td>4674025</td></tr><tr><td>&quot;[N-]=[N+]=NCCC…</td><td>141</td><td>1415</td><td>1178</td><td>0</td><td>0</td><td>0</td><td>5240137</td></tr><tr><td>&quot;[N-]=[N+]=NCCC…</td><td>141</td><td>1415</td><td>1699</td><td>0</td><td>0</td><td>0</td><td>5240137</td></tr><tr><td>&quot;[N-]=[N+]=NCCC…</td><td>141</td><td>1415</td><td>1308</td><td>0</td><td>0</td><td>0</td><td>3617024</td></tr><tr><td>&quot;[N-]=[N+]=NCCC…</td><td>141</td><td>1415</td><td>1415</td><td>0</td><td>0</td><td>0</td><td>268351</td></tr></tbody></table></div>"
      ],
      "text/plain": [
       "shape: (98_415_610, 8)\n",
       "┌───────────────────────────────────┬──────┬──────┬──────┬──────┬─────┬─────┬──────────────┐\n",
       "│ molecule                          ┆ bb1  ┆ bb2  ┆ bb3  ┆ BRD4 ┆ HSA ┆ sEH ┆ scaffold_idx │\n",
       "│ ---                               ┆ ---  ┆ ---  ┆ ---  ┆ ---  ┆ --- ┆ --- ┆ ---          │\n",
       "│ str                               ┆ u16  ┆ u16  ┆ u16  ┆ u8   ┆ u8  ┆ u8  ┆ i64          │\n",
       "╞═══════════════════════════════════╪══════╪══════╪══════╪══════╪═════╪═════╪══════════════╡\n",
       "│ C#CCOc1ccc(CNc2nc(NCC3CCCN3c3ccc… ┆ 1640 ┆ 1653 ┆ 765  ┆ 0    ┆ 0   ┆ 0   ┆ 4283326      │\n",
       "│ C#CCOc1ccc(CNc2nc(NCc3cccc(Br)n3… ┆ 1640 ┆ 1653 ┆ 205  ┆ 0    ┆ 0   ┆ 0   ┆ 4486646      │\n",
       "│ C#CCOc1ccc(CNc2nc(NCc3ccc(OCC#C)… ┆ 1640 ┆ 1653 ┆ 1653 ┆ 0    ┆ 0   ┆ 0   ┆ 1015728      │\n",
       "│ C#CCOc1ccc(CNc2nc(NCCNC(=O)C(=C)… ┆ 1640 ┆ 1653 ┆ 146  ┆ 0    ┆ 0   ┆ 0   ┆ 5301385      │\n",
       "│ C#CCOc1ccc(CNc2nc(NCC(=O)NCC=C)n… ┆ 1640 ┆ 1653 ┆ 439  ┆ 0    ┆ 0   ┆ 0   ┆ 5301385      │\n",
       "│ C#CCOc1ccc(CNc2nc(NCC(C)OCC=C)nc… ┆ 1640 ┆ 1653 ┆ 196  ┆ 0    ┆ 0   ┆ 0   ┆ 5301385      │\n",
       "│ C#CCOc1ccc(CNc2nc(NCCCOCC=C)nc(N… ┆ 1640 ┆ 1653 ┆ 253  ┆ 0    ┆ 0   ┆ 0   ┆ 5301385      │\n",
       "│ C#CCOc1ccc(CNc2nc(NCCOCC=C)nc(N[… ┆ 1640 ┆ 1653 ┆ 1219 ┆ 0    ┆ 0   ┆ 0   ┆ 5301385      │\n",
       "│ C#CCOc1ccc(CNc2nc(Nc3cnn(C4CCN(C… ┆ 1640 ┆ 1653 ┆ 604  ┆ 0    ┆ 0   ┆ 0   ┆ 543172       │\n",
       "│ C#CCOc1ccc(CNc2nc(Nc3n[nH]c4c3CN… ┆ 1640 ┆ 1653 ┆ 121  ┆ 0    ┆ 0   ┆ 0   ┆ 2571428      │\n",
       "│ …                                 ┆ …    ┆ …    ┆ …    ┆ …    ┆ …   ┆ …   ┆ …            │\n",
       "│ [N-]=[N+]=NCCC[C@H](Nc1nc(Nc2ncc… ┆ 141  ┆ 1415 ┆ 536  ┆ 0    ┆ 0   ┆ 0   ┆ 4068980      │\n",
       "│ [N-]=[N+]=NCCC[C@H](Nc1nc(Nc2ncn… ┆ 141  ┆ 1415 ┆ 1367 ┆ 0    ┆ 0   ┆ 0   ┆ 2088996      │\n",
       "│ [N-]=[N+]=NCCC[C@H](Nc1nc(Nc2ncn… ┆ 141  ┆ 1415 ┆ 329  ┆ 0    ┆ 0   ┆ 0   ┆ 3192765      │\n",
       "│ [N-]=[N+]=NCCC[C@H](Nc1nc(Nc2noc… ┆ 141  ┆ 1415 ┆ 757  ┆ 0    ┆ 0   ┆ 0   ┆ 4085046      │\n",
       "│ [N-]=[N+]=NCCC[C@H](Nc1nc(Nc2ncn… ┆ 141  ┆ 1415 ┆ 335  ┆ 0    ┆ 0   ┆ 0   ┆ 4087757      │\n",
       "│ [N-]=[N+]=NCCC[C@H](Nc1nc(Nc2noc… ┆ 141  ┆ 1415 ┆ 1792 ┆ 0    ┆ 0   ┆ 0   ┆ 4674025      │\n",
       "│ [N-]=[N+]=NCCC[C@H](Nc1nc(Nc2nnc… ┆ 141  ┆ 1415 ┆ 1178 ┆ 0    ┆ 0   ┆ 0   ┆ 5240137      │\n",
       "│ [N-]=[N+]=NCCC[C@H](Nc1nc(Nc2nnc… ┆ 141  ┆ 1415 ┆ 1699 ┆ 0    ┆ 0   ┆ 0   ┆ 5240137      │\n",
       "│ [N-]=[N+]=NCCC[C@H](Nc1nc(Nc2nnn… ┆ 141  ┆ 1415 ┆ 1308 ┆ 0    ┆ 0   ┆ 0   ┆ 3617024      │\n",
       "│ [N-]=[N+]=NCCC[C@H](Nc1nc(Nc2noc… ┆ 141  ┆ 1415 ┆ 1415 ┆ 0    ┆ 0   ┆ 0   ┆ 268351       │\n",
       "└───────────────────────────────────┴──────┴──────┴──────┴──────┴─────┴─────┴──────────────┘"
      ]
     },
     "execution_count": 11,
     "metadata": {},
     "output_type": "execute_result"
    }
   ],
   "source": [
    "train_scaffolds = pl.scan_csv('/home/dangnh36/datasets/competitions/leash_belka/processed/train_scaffold.csv').collect()\n",
    "train_df = pl.scan_csv('/home/dangnh36/datasets/competitions/leash_belka/processed/train_v2.csv')\\\n",
    "    .select(\n",
    "        pl.col('molecule'),\n",
    "        pl.col('bb1', 'bb2', 'bb3').cast(pl.UInt16),\n",
    "        pl.col('BRD4', 'HSA', 'sEH').cast(pl.UInt8),\n",
    "        scaffold_idx = train_scaffolds['scaffold_idx'],\n",
    "    )\\\n",
    "    .collect()\n",
    "print(train_df.shape, train_df.estimated_size('mb'))\n",
    "train_df"
   ]
  },
  {
   "cell_type": "code",
   "execution_count": 12,
   "id": "1a696d3a",
   "metadata": {},
   "outputs": [],
   "source": [
    "train_df = train_df.with_columns(\n",
    "                pl.col('molecule').count().over('scaffold_idx').alias('mol_per_scaf'))"
   ]
  },
  {
   "cell_type": "code",
   "execution_count": null,
   "id": "c474c5ed",
   "metadata": {},
   "outputs": [],
   "source": []
  },
  {
   "cell_type": "markdown",
   "id": "6188f6c2",
   "metadata": {},
   "source": [
    "# Sample weights by mol_per_scaffold v0"
   ]
  },
  {
   "cell_type": "code",
   "execution_count": 6,
   "id": "af59ac61",
   "metadata": {},
   "outputs": [
    {
     "data": {
      "text/html": [
       "<div><style>\n",
       ".dataframe > thead > tr,\n",
       ".dataframe > tbody > tr {\n",
       "  text-align: right;\n",
       "  white-space: pre-wrap;\n",
       "}\n",
       "</style>\n",
       "<small>shape: (98_415_610, 10)</small><table border=\"1\" class=\"dataframe\"><thead><tr><th>molecule</th><th>bb1</th><th>bb2</th><th>bb3</th><th>BRD4</th><th>HSA</th><th>sEH</th><th>scaffold_idx</th><th>mol_per_scaf</th><th>sample_weight</th></tr><tr><td>str</td><td>u16</td><td>u16</td><td>u16</td><td>u8</td><td>u8</td><td>u8</td><td>i64</td><td>u32</td><td>f64</td></tr></thead><tbody><tr><td>&quot;C#CCOc1ccc(CNc…</td><td>1640</td><td>1653</td><td>765</td><td>0</td><td>0</td><td>0</td><td>4283326</td><td>843</td><td>0.001186</td></tr><tr><td>&quot;C#CCOc1ccc(CNc…</td><td>1640</td><td>1653</td><td>205</td><td>0</td><td>0</td><td>0</td><td>4486646</td><td>9415</td><td>0.000106</td></tr><tr><td>&quot;C#CCOc1ccc(CNc…</td><td>1640</td><td>1653</td><td>1653</td><td>0</td><td>0</td><td>0</td><td>1015728</td><td>9006</td><td>0.000111</td></tr><tr><td>&quot;C#CCOc1ccc(CNc…</td><td>1640</td><td>1653</td><td>146</td><td>0</td><td>0</td><td>0</td><td>5301385</td><td>26751</td><td>0.000037</td></tr><tr><td>&quot;C#CCOc1ccc(CNc…</td><td>1640</td><td>1653</td><td>439</td><td>0</td><td>0</td><td>0</td><td>5301385</td><td>26751</td><td>0.000037</td></tr><tr><td>&quot;C#CCOc1ccc(CNc…</td><td>1640</td><td>1653</td><td>196</td><td>0</td><td>0</td><td>0</td><td>5301385</td><td>26751</td><td>0.000037</td></tr><tr><td>&quot;C#CCOc1ccc(CNc…</td><td>1640</td><td>1653</td><td>253</td><td>0</td><td>0</td><td>0</td><td>5301385</td><td>26751</td><td>0.000037</td></tr><tr><td>&quot;C#CCOc1ccc(CNc…</td><td>1640</td><td>1653</td><td>1219</td><td>0</td><td>0</td><td>0</td><td>5301385</td><td>26751</td><td>0.000037</td></tr><tr><td>&quot;C#CCOc1ccc(CNc…</td><td>1640</td><td>1653</td><td>604</td><td>0</td><td>0</td><td>0</td><td>543172</td><td>842</td><td>0.001188</td></tr><tr><td>&quot;C#CCOc1ccc(CNc…</td><td>1640</td><td>1653</td><td>121</td><td>0</td><td>0</td><td>0</td><td>2571428</td><td>864</td><td>0.001157</td></tr><tr><td>&hellip;</td><td>&hellip;</td><td>&hellip;</td><td>&hellip;</td><td>&hellip;</td><td>&hellip;</td><td>&hellip;</td><td>&hellip;</td><td>&hellip;</td><td>&hellip;</td></tr><tr><td>&quot;[N-]=[N+]=NCCC…</td><td>141</td><td>1415</td><td>536</td><td>0</td><td>0</td><td>0</td><td>4068980</td><td>274</td><td>0.00365</td></tr><tr><td>&quot;[N-]=[N+]=NCCC…</td><td>141</td><td>1415</td><td>1367</td><td>0</td><td>0</td><td>0</td><td>2088996</td><td>20</td><td>0.05</td></tr><tr><td>&quot;[N-]=[N+]=NCCC…</td><td>141</td><td>1415</td><td>329</td><td>0</td><td>0</td><td>0</td><td>3192765</td><td>260</td><td>0.003846</td></tr><tr><td>&quot;[N-]=[N+]=NCCC…</td><td>141</td><td>1415</td><td>757</td><td>0</td><td>0</td><td>0</td><td>4085046</td><td>20</td><td>0.05</td></tr><tr><td>&quot;[N-]=[N+]=NCCC…</td><td>141</td><td>1415</td><td>335</td><td>0</td><td>0</td><td>0</td><td>4087757</td><td>20</td><td>0.05</td></tr><tr><td>&quot;[N-]=[N+]=NCCC…</td><td>141</td><td>1415</td><td>1792</td><td>0</td><td>0</td><td>0</td><td>4674025</td><td>20</td><td>0.05</td></tr><tr><td>&quot;[N-]=[N+]=NCCC…</td><td>141</td><td>1415</td><td>1178</td><td>0</td><td>0</td><td>0</td><td>5240137</td><td>60</td><td>0.016667</td></tr><tr><td>&quot;[N-]=[N+]=NCCC…</td><td>141</td><td>1415</td><td>1699</td><td>0</td><td>0</td><td>0</td><td>5240137</td><td>60</td><td>0.016667</td></tr><tr><td>&quot;[N-]=[N+]=NCCC…</td><td>141</td><td>1415</td><td>1308</td><td>0</td><td>0</td><td>0</td><td>3617024</td><td>20</td><td>0.05</td></tr><tr><td>&quot;[N-]=[N+]=NCCC…</td><td>141</td><td>1415</td><td>1415</td><td>0</td><td>0</td><td>0</td><td>268351</td><td>20</td><td>0.05</td></tr></tbody></table></div>"
      ],
      "text/plain": [
       "shape: (98_415_610, 10)\n",
       "┌──────────────┬──────┬──────┬──────┬──────┬─────┬─────┬──────────────┬──────────────┬─────────────┐\n",
       "│ molecule     ┆ bb1  ┆ bb2  ┆ bb3  ┆ BRD4 ┆ HSA ┆ sEH ┆ scaffold_idx ┆ mol_per_scaf ┆ sample_weig │\n",
       "│ ---          ┆ ---  ┆ ---  ┆ ---  ┆ ---  ┆ --- ┆ --- ┆ ---          ┆ ---          ┆ ht          │\n",
       "│ str          ┆ u16  ┆ u16  ┆ u16  ┆ u8   ┆ u8  ┆ u8  ┆ i64          ┆ u32          ┆ ---         │\n",
       "│              ┆      ┆      ┆      ┆      ┆     ┆     ┆              ┆              ┆ f64         │\n",
       "╞══════════════╪══════╪══════╪══════╪══════╪═════╪═════╪══════════════╪══════════════╪═════════════╡\n",
       "│ C#CCOc1ccc(C ┆ 1640 ┆ 1653 ┆ 765  ┆ 0    ┆ 0   ┆ 0   ┆ 4283326      ┆ 843          ┆ 0.001186    │\n",
       "│ Nc2nc(NCC3CC ┆      ┆      ┆      ┆      ┆     ┆     ┆              ┆              ┆             │\n",
       "│ CN3c3ccc…    ┆      ┆      ┆      ┆      ┆     ┆     ┆              ┆              ┆             │\n",
       "│ C#CCOc1ccc(C ┆ 1640 ┆ 1653 ┆ 205  ┆ 0    ┆ 0   ┆ 0   ┆ 4486646      ┆ 9415         ┆ 0.000106    │\n",
       "│ Nc2nc(NCc3cc ┆      ┆      ┆      ┆      ┆     ┆     ┆              ┆              ┆             │\n",
       "│ cc(Br)n3…    ┆      ┆      ┆      ┆      ┆     ┆     ┆              ┆              ┆             │\n",
       "│ C#CCOc1ccc(C ┆ 1640 ┆ 1653 ┆ 1653 ┆ 0    ┆ 0   ┆ 0   ┆ 1015728      ┆ 9006         ┆ 0.000111    │\n",
       "│ Nc2nc(NCc3cc ┆      ┆      ┆      ┆      ┆     ┆     ┆              ┆              ┆             │\n",
       "│ c(OCC#C)…    ┆      ┆      ┆      ┆      ┆     ┆     ┆              ┆              ┆             │\n",
       "│ C#CCOc1ccc(C ┆ 1640 ┆ 1653 ┆ 146  ┆ 0    ┆ 0   ┆ 0   ┆ 5301385      ┆ 26751        ┆ 0.000037    │\n",
       "│ Nc2nc(NCCNC( ┆      ┆      ┆      ┆      ┆     ┆     ┆              ┆              ┆             │\n",
       "│ =O)C(=C)…    ┆      ┆      ┆      ┆      ┆     ┆     ┆              ┆              ┆             │\n",
       "│ C#CCOc1ccc(C ┆ 1640 ┆ 1653 ┆ 439  ┆ 0    ┆ 0   ┆ 0   ┆ 5301385      ┆ 26751        ┆ 0.000037    │\n",
       "│ Nc2nc(NCC(=O ┆      ┆      ┆      ┆      ┆     ┆     ┆              ┆              ┆             │\n",
       "│ )NCC=C)n…    ┆      ┆      ┆      ┆      ┆     ┆     ┆              ┆              ┆             │\n",
       "│ C#CCOc1ccc(C ┆ 1640 ┆ 1653 ┆ 196  ┆ 0    ┆ 0   ┆ 0   ┆ 5301385      ┆ 26751        ┆ 0.000037    │\n",
       "│ Nc2nc(NCC(C) ┆      ┆      ┆      ┆      ┆     ┆     ┆              ┆              ┆             │\n",
       "│ OCC=C)nc…    ┆      ┆      ┆      ┆      ┆     ┆     ┆              ┆              ┆             │\n",
       "│ C#CCOc1ccc(C ┆ 1640 ┆ 1653 ┆ 253  ┆ 0    ┆ 0   ┆ 0   ┆ 5301385      ┆ 26751        ┆ 0.000037    │\n",
       "│ Nc2nc(NCCCOC ┆      ┆      ┆      ┆      ┆     ┆     ┆              ┆              ┆             │\n",
       "│ C=C)nc(N…    ┆      ┆      ┆      ┆      ┆     ┆     ┆              ┆              ┆             │\n",
       "│ C#CCOc1ccc(C ┆ 1640 ┆ 1653 ┆ 1219 ┆ 0    ┆ 0   ┆ 0   ┆ 5301385      ┆ 26751        ┆ 0.000037    │\n",
       "│ Nc2nc(NCCOCC ┆      ┆      ┆      ┆      ┆     ┆     ┆              ┆              ┆             │\n",
       "│ =C)nc(N[…    ┆      ┆      ┆      ┆      ┆     ┆     ┆              ┆              ┆             │\n",
       "│ C#CCOc1ccc(C ┆ 1640 ┆ 1653 ┆ 604  ┆ 0    ┆ 0   ┆ 0   ┆ 543172       ┆ 842          ┆ 0.001188    │\n",
       "│ Nc2nc(Nc3cnn ┆      ┆      ┆      ┆      ┆     ┆     ┆              ┆              ┆             │\n",
       "│ (C4CCN(C…    ┆      ┆      ┆      ┆      ┆     ┆     ┆              ┆              ┆             │\n",
       "│ C#CCOc1ccc(C ┆ 1640 ┆ 1653 ┆ 121  ┆ 0    ┆ 0   ┆ 0   ┆ 2571428      ┆ 864          ┆ 0.001157    │\n",
       "│ Nc2nc(Nc3n[n ┆      ┆      ┆      ┆      ┆     ┆     ┆              ┆              ┆             │\n",
       "│ H]c4c3CN…    ┆      ┆      ┆      ┆      ┆     ┆     ┆              ┆              ┆             │\n",
       "│ …            ┆ …    ┆ …    ┆ …    ┆ …    ┆ …   ┆ …   ┆ …            ┆ …            ┆ …           │\n",
       "│ [N-]=[N+]=NC ┆ 141  ┆ 1415 ┆ 536  ┆ 0    ┆ 0   ┆ 0   ┆ 4068980      ┆ 274          ┆ 0.00365     │\n",
       "│ CC[C@H](Nc1n ┆      ┆      ┆      ┆      ┆     ┆     ┆              ┆              ┆             │\n",
       "│ c(Nc2ncc…    ┆      ┆      ┆      ┆      ┆     ┆     ┆              ┆              ┆             │\n",
       "│ [N-]=[N+]=NC ┆ 141  ┆ 1415 ┆ 1367 ┆ 0    ┆ 0   ┆ 0   ┆ 2088996      ┆ 20           ┆ 0.05        │\n",
       "│ CC[C@H](Nc1n ┆      ┆      ┆      ┆      ┆     ┆     ┆              ┆              ┆             │\n",
       "│ c(Nc2ncn…    ┆      ┆      ┆      ┆      ┆     ┆     ┆              ┆              ┆             │\n",
       "│ [N-]=[N+]=NC ┆ 141  ┆ 1415 ┆ 329  ┆ 0    ┆ 0   ┆ 0   ┆ 3192765      ┆ 260          ┆ 0.003846    │\n",
       "│ CC[C@H](Nc1n ┆      ┆      ┆      ┆      ┆     ┆     ┆              ┆              ┆             │\n",
       "│ c(Nc2ncn…    ┆      ┆      ┆      ┆      ┆     ┆     ┆              ┆              ┆             │\n",
       "│ [N-]=[N+]=NC ┆ 141  ┆ 1415 ┆ 757  ┆ 0    ┆ 0   ┆ 0   ┆ 4085046      ┆ 20           ┆ 0.05        │\n",
       "│ CC[C@H](Nc1n ┆      ┆      ┆      ┆      ┆     ┆     ┆              ┆              ┆             │\n",
       "│ c(Nc2noc…    ┆      ┆      ┆      ┆      ┆     ┆     ┆              ┆              ┆             │\n",
       "│ [N-]=[N+]=NC ┆ 141  ┆ 1415 ┆ 335  ┆ 0    ┆ 0   ┆ 0   ┆ 4087757      ┆ 20           ┆ 0.05        │\n",
       "│ CC[C@H](Nc1n ┆      ┆      ┆      ┆      ┆     ┆     ┆              ┆              ┆             │\n",
       "│ c(Nc2ncn…    ┆      ┆      ┆      ┆      ┆     ┆     ┆              ┆              ┆             │\n",
       "│ [N-]=[N+]=NC ┆ 141  ┆ 1415 ┆ 1792 ┆ 0    ┆ 0   ┆ 0   ┆ 4674025      ┆ 20           ┆ 0.05        │\n",
       "│ CC[C@H](Nc1n ┆      ┆      ┆      ┆      ┆     ┆     ┆              ┆              ┆             │\n",
       "│ c(Nc2noc…    ┆      ┆      ┆      ┆      ┆     ┆     ┆              ┆              ┆             │\n",
       "│ [N-]=[N+]=NC ┆ 141  ┆ 1415 ┆ 1178 ┆ 0    ┆ 0   ┆ 0   ┆ 5240137      ┆ 60           ┆ 0.016667    │\n",
       "│ CC[C@H](Nc1n ┆      ┆      ┆      ┆      ┆     ┆     ┆              ┆              ┆             │\n",
       "│ c(Nc2nnc…    ┆      ┆      ┆      ┆      ┆     ┆     ┆              ┆              ┆             │\n",
       "│ [N-]=[N+]=NC ┆ 141  ┆ 1415 ┆ 1699 ┆ 0    ┆ 0   ┆ 0   ┆ 5240137      ┆ 60           ┆ 0.016667    │\n",
       "│ CC[C@H](Nc1n ┆      ┆      ┆      ┆      ┆     ┆     ┆              ┆              ┆             │\n",
       "│ c(Nc2nnc…    ┆      ┆      ┆      ┆      ┆     ┆     ┆              ┆              ┆             │\n",
       "│ [N-]=[N+]=NC ┆ 141  ┆ 1415 ┆ 1308 ┆ 0    ┆ 0   ┆ 0   ┆ 3617024      ┆ 20           ┆ 0.05        │\n",
       "│ CC[C@H](Nc1n ┆      ┆      ┆      ┆      ┆     ┆     ┆              ┆              ┆             │\n",
       "│ c(Nc2nnn…    ┆      ┆      ┆      ┆      ┆     ┆     ┆              ┆              ┆             │\n",
       "│ [N-]=[N+]=NC ┆ 141  ┆ 1415 ┆ 1415 ┆ 0    ┆ 0   ┆ 0   ┆ 268351       ┆ 20           ┆ 0.05        │\n",
       "│ CC[C@H](Nc1n ┆      ┆      ┆      ┆      ┆     ┆     ┆              ┆              ┆             │\n",
       "│ c(Nc2noc…    ┆      ┆      ┆      ┆      ┆     ┆     ┆              ┆              ┆             │\n",
       "└──────────────┴──────┴──────┴──────┴──────┴─────┴─────┴──────────────┴──────────────┴─────────────┘"
      ]
     },
     "execution_count": 6,
     "metadata": {},
     "output_type": "execute_result"
    }
   ],
   "source": [
    "train_df = train_df.with_columns(\n",
    "    (1.0 / pl.col('mol_per_scaf')).alias('sample_weight')\n",
    ")\n",
    "train_df"
   ]
  },
  {
   "cell_type": "code",
   "execution_count": 9,
   "id": "f433e7d6",
   "metadata": {},
   "outputs": [
    {
     "name": "stdout",
     "output_type": "stream",
     "text": [
      "BRD4 0.004247076070714362\n",
      "HSA 0.004290767990588202\n",
      "sEH 0.0058066215393041505\n",
      "Union: 0.013846545726438873\n"
     ]
    }
   ],
   "source": [
    "analyze_sample_weight(train_df)"
   ]
  },
  {
   "cell_type": "code",
   "execution_count": 10,
   "id": "baaa68b9",
   "metadata": {},
   "outputs": [],
   "source": [
    "train_df.select('sample_weight').write_csv('/home/dangnh36/datasets/competitions/leash_belka/processed/sample_weights/scaffold_v0.csv')"
   ]
  },
  {
   "cell_type": "code",
   "execution_count": null,
   "id": "b69997a4",
   "metadata": {},
   "outputs": [],
   "source": []
  },
  {
   "cell_type": "code",
   "execution_count": null,
   "id": "b4e897cd",
   "metadata": {},
   "outputs": [],
   "source": []
  },
  {
   "cell_type": "code",
   "execution_count": null,
   "id": "006076ef",
   "metadata": {},
   "outputs": [],
   "source": []
  },
  {
   "cell_type": "markdown",
   "id": "f988c91f",
   "metadata": {},
   "source": [
    "# Sample weights by mol_per_scaffold v2"
   ]
  },
  {
   "cell_type": "code",
   "execution_count": 13,
   "id": "575c07f7",
   "metadata": {},
   "outputs": [
    {
     "data": {
      "text/html": [
       "<div><style>\n",
       ".dataframe > thead > tr,\n",
       ".dataframe > tbody > tr {\n",
       "  text-align: right;\n",
       "  white-space: pre-wrap;\n",
       "}\n",
       "</style>\n",
       "<small>shape: (98_415_610, 10)</small><table border=\"1\" class=\"dataframe\"><thead><tr><th>molecule</th><th>bb1</th><th>bb2</th><th>bb3</th><th>BRD4</th><th>HSA</th><th>sEH</th><th>scaffold_idx</th><th>mol_per_scaf</th><th>sample_weight</th></tr><tr><td>str</td><td>u16</td><td>u16</td><td>u16</td><td>u8</td><td>u8</td><td>u8</td><td>i64</td><td>u32</td><td>f64</td></tr></thead><tbody><tr><td>&quot;C#CCOc1ccc(CNc…</td><td>1640</td><td>1653</td><td>765</td><td>0</td><td>0</td><td>0</td><td>4283326</td><td>843</td><td>0.034442</td></tr><tr><td>&quot;C#CCOc1ccc(CNc…</td><td>1640</td><td>1653</td><td>205</td><td>0</td><td>0</td><td>0</td><td>4486646</td><td>9415</td><td>0.010306</td></tr><tr><td>&quot;C#CCOc1ccc(CNc…</td><td>1640</td><td>1653</td><td>1653</td><td>0</td><td>0</td><td>0</td><td>1015728</td><td>9006</td><td>0.010537</td></tr><tr><td>&quot;C#CCOc1ccc(CNc…</td><td>1640</td><td>1653</td><td>146</td><td>0</td><td>0</td><td>0</td><td>5301385</td><td>26751</td><td>0.006114</td></tr><tr><td>&quot;C#CCOc1ccc(CNc…</td><td>1640</td><td>1653</td><td>439</td><td>0</td><td>0</td><td>0</td><td>5301385</td><td>26751</td><td>0.006114</td></tr><tr><td>&quot;C#CCOc1ccc(CNc…</td><td>1640</td><td>1653</td><td>196</td><td>0</td><td>0</td><td>0</td><td>5301385</td><td>26751</td><td>0.006114</td></tr><tr><td>&quot;C#CCOc1ccc(CNc…</td><td>1640</td><td>1653</td><td>253</td><td>0</td><td>0</td><td>0</td><td>5301385</td><td>26751</td><td>0.006114</td></tr><tr><td>&quot;C#CCOc1ccc(CNc…</td><td>1640</td><td>1653</td><td>1219</td><td>0</td><td>0</td><td>0</td><td>5301385</td><td>26751</td><td>0.006114</td></tr><tr><td>&quot;C#CCOc1ccc(CNc…</td><td>1640</td><td>1653</td><td>604</td><td>0</td><td>0</td><td>0</td><td>543172</td><td>842</td><td>0.034462</td></tr><tr><td>&quot;C#CCOc1ccc(CNc…</td><td>1640</td><td>1653</td><td>121</td><td>0</td><td>0</td><td>0</td><td>2571428</td><td>864</td><td>0.034021</td></tr><tr><td>&hellip;</td><td>&hellip;</td><td>&hellip;</td><td>&hellip;</td><td>&hellip;</td><td>&hellip;</td><td>&hellip;</td><td>&hellip;</td><td>&hellip;</td><td>&hellip;</td></tr><tr><td>&quot;[N-]=[N+]=NCCC…</td><td>141</td><td>1415</td><td>536</td><td>0</td><td>0</td><td>0</td><td>4068980</td><td>274</td><td>0.060412</td></tr><tr><td>&quot;[N-]=[N+]=NCCC…</td><td>141</td><td>1415</td><td>1367</td><td>0</td><td>0</td><td>0</td><td>2088996</td><td>20</td><td>0.223607</td></tr><tr><td>&quot;[N-]=[N+]=NCCC…</td><td>141</td><td>1415</td><td>329</td><td>0</td><td>0</td><td>0</td><td>3192765</td><td>260</td><td>0.062017</td></tr><tr><td>&quot;[N-]=[N+]=NCCC…</td><td>141</td><td>1415</td><td>757</td><td>0</td><td>0</td><td>0</td><td>4085046</td><td>20</td><td>0.223607</td></tr><tr><td>&quot;[N-]=[N+]=NCCC…</td><td>141</td><td>1415</td><td>335</td><td>0</td><td>0</td><td>0</td><td>4087757</td><td>20</td><td>0.223607</td></tr><tr><td>&quot;[N-]=[N+]=NCCC…</td><td>141</td><td>1415</td><td>1792</td><td>0</td><td>0</td><td>0</td><td>4674025</td><td>20</td><td>0.223607</td></tr><tr><td>&quot;[N-]=[N+]=NCCC…</td><td>141</td><td>1415</td><td>1178</td><td>0</td><td>0</td><td>0</td><td>5240137</td><td>60</td><td>0.129099</td></tr><tr><td>&quot;[N-]=[N+]=NCCC…</td><td>141</td><td>1415</td><td>1699</td><td>0</td><td>0</td><td>0</td><td>5240137</td><td>60</td><td>0.129099</td></tr><tr><td>&quot;[N-]=[N+]=NCCC…</td><td>141</td><td>1415</td><td>1308</td><td>0</td><td>0</td><td>0</td><td>3617024</td><td>20</td><td>0.223607</td></tr><tr><td>&quot;[N-]=[N+]=NCCC…</td><td>141</td><td>1415</td><td>1415</td><td>0</td><td>0</td><td>0</td><td>268351</td><td>20</td><td>0.223607</td></tr></tbody></table></div>"
      ],
      "text/plain": [
       "shape: (98_415_610, 10)\n",
       "┌──────────────┬──────┬──────┬──────┬──────┬─────┬─────┬──────────────┬──────────────┬─────────────┐\n",
       "│ molecule     ┆ bb1  ┆ bb2  ┆ bb3  ┆ BRD4 ┆ HSA ┆ sEH ┆ scaffold_idx ┆ mol_per_scaf ┆ sample_weig │\n",
       "│ ---          ┆ ---  ┆ ---  ┆ ---  ┆ ---  ┆ --- ┆ --- ┆ ---          ┆ ---          ┆ ht          │\n",
       "│ str          ┆ u16  ┆ u16  ┆ u16  ┆ u8   ┆ u8  ┆ u8  ┆ i64          ┆ u32          ┆ ---         │\n",
       "│              ┆      ┆      ┆      ┆      ┆     ┆     ┆              ┆              ┆ f64         │\n",
       "╞══════════════╪══════╪══════╪══════╪══════╪═════╪═════╪══════════════╪══════════════╪═════════════╡\n",
       "│ C#CCOc1ccc(C ┆ 1640 ┆ 1653 ┆ 765  ┆ 0    ┆ 0   ┆ 0   ┆ 4283326      ┆ 843          ┆ 0.034442    │\n",
       "│ Nc2nc(NCC3CC ┆      ┆      ┆      ┆      ┆     ┆     ┆              ┆              ┆             │\n",
       "│ CN3c3ccc…    ┆      ┆      ┆      ┆      ┆     ┆     ┆              ┆              ┆             │\n",
       "│ C#CCOc1ccc(C ┆ 1640 ┆ 1653 ┆ 205  ┆ 0    ┆ 0   ┆ 0   ┆ 4486646      ┆ 9415         ┆ 0.010306    │\n",
       "│ Nc2nc(NCc3cc ┆      ┆      ┆      ┆      ┆     ┆     ┆              ┆              ┆             │\n",
       "│ cc(Br)n3…    ┆      ┆      ┆      ┆      ┆     ┆     ┆              ┆              ┆             │\n",
       "│ C#CCOc1ccc(C ┆ 1640 ┆ 1653 ┆ 1653 ┆ 0    ┆ 0   ┆ 0   ┆ 1015728      ┆ 9006         ┆ 0.010537    │\n",
       "│ Nc2nc(NCc3cc ┆      ┆      ┆      ┆      ┆     ┆     ┆              ┆              ┆             │\n",
       "│ c(OCC#C)…    ┆      ┆      ┆      ┆      ┆     ┆     ┆              ┆              ┆             │\n",
       "│ C#CCOc1ccc(C ┆ 1640 ┆ 1653 ┆ 146  ┆ 0    ┆ 0   ┆ 0   ┆ 5301385      ┆ 26751        ┆ 0.006114    │\n",
       "│ Nc2nc(NCCNC( ┆      ┆      ┆      ┆      ┆     ┆     ┆              ┆              ┆             │\n",
       "│ =O)C(=C)…    ┆      ┆      ┆      ┆      ┆     ┆     ┆              ┆              ┆             │\n",
       "│ C#CCOc1ccc(C ┆ 1640 ┆ 1653 ┆ 439  ┆ 0    ┆ 0   ┆ 0   ┆ 5301385      ┆ 26751        ┆ 0.006114    │\n",
       "│ Nc2nc(NCC(=O ┆      ┆      ┆      ┆      ┆     ┆     ┆              ┆              ┆             │\n",
       "│ )NCC=C)n…    ┆      ┆      ┆      ┆      ┆     ┆     ┆              ┆              ┆             │\n",
       "│ C#CCOc1ccc(C ┆ 1640 ┆ 1653 ┆ 196  ┆ 0    ┆ 0   ┆ 0   ┆ 5301385      ┆ 26751        ┆ 0.006114    │\n",
       "│ Nc2nc(NCC(C) ┆      ┆      ┆      ┆      ┆     ┆     ┆              ┆              ┆             │\n",
       "│ OCC=C)nc…    ┆      ┆      ┆      ┆      ┆     ┆     ┆              ┆              ┆             │\n",
       "│ C#CCOc1ccc(C ┆ 1640 ┆ 1653 ┆ 253  ┆ 0    ┆ 0   ┆ 0   ┆ 5301385      ┆ 26751        ┆ 0.006114    │\n",
       "│ Nc2nc(NCCCOC ┆      ┆      ┆      ┆      ┆     ┆     ┆              ┆              ┆             │\n",
       "│ C=C)nc(N…    ┆      ┆      ┆      ┆      ┆     ┆     ┆              ┆              ┆             │\n",
       "│ C#CCOc1ccc(C ┆ 1640 ┆ 1653 ┆ 1219 ┆ 0    ┆ 0   ┆ 0   ┆ 5301385      ┆ 26751        ┆ 0.006114    │\n",
       "│ Nc2nc(NCCOCC ┆      ┆      ┆      ┆      ┆     ┆     ┆              ┆              ┆             │\n",
       "│ =C)nc(N[…    ┆      ┆      ┆      ┆      ┆     ┆     ┆              ┆              ┆             │\n",
       "│ C#CCOc1ccc(C ┆ 1640 ┆ 1653 ┆ 604  ┆ 0    ┆ 0   ┆ 0   ┆ 543172       ┆ 842          ┆ 0.034462    │\n",
       "│ Nc2nc(Nc3cnn ┆      ┆      ┆      ┆      ┆     ┆     ┆              ┆              ┆             │\n",
       "│ (C4CCN(C…    ┆      ┆      ┆      ┆      ┆     ┆     ┆              ┆              ┆             │\n",
       "│ C#CCOc1ccc(C ┆ 1640 ┆ 1653 ┆ 121  ┆ 0    ┆ 0   ┆ 0   ┆ 2571428      ┆ 864          ┆ 0.034021    │\n",
       "│ Nc2nc(Nc3n[n ┆      ┆      ┆      ┆      ┆     ┆     ┆              ┆              ┆             │\n",
       "│ H]c4c3CN…    ┆      ┆      ┆      ┆      ┆     ┆     ┆              ┆              ┆             │\n",
       "│ …            ┆ …    ┆ …    ┆ …    ┆ …    ┆ …   ┆ …   ┆ …            ┆ …            ┆ …           │\n",
       "│ [N-]=[N+]=NC ┆ 141  ┆ 1415 ┆ 536  ┆ 0    ┆ 0   ┆ 0   ┆ 4068980      ┆ 274          ┆ 0.060412    │\n",
       "│ CC[C@H](Nc1n ┆      ┆      ┆      ┆      ┆     ┆     ┆              ┆              ┆             │\n",
       "│ c(Nc2ncc…    ┆      ┆      ┆      ┆      ┆     ┆     ┆              ┆              ┆             │\n",
       "│ [N-]=[N+]=NC ┆ 141  ┆ 1415 ┆ 1367 ┆ 0    ┆ 0   ┆ 0   ┆ 2088996      ┆ 20           ┆ 0.223607    │\n",
       "│ CC[C@H](Nc1n ┆      ┆      ┆      ┆      ┆     ┆     ┆              ┆              ┆             │\n",
       "│ c(Nc2ncn…    ┆      ┆      ┆      ┆      ┆     ┆     ┆              ┆              ┆             │\n",
       "│ [N-]=[N+]=NC ┆ 141  ┆ 1415 ┆ 329  ┆ 0    ┆ 0   ┆ 0   ┆ 3192765      ┆ 260          ┆ 0.062017    │\n",
       "│ CC[C@H](Nc1n ┆      ┆      ┆      ┆      ┆     ┆     ┆              ┆              ┆             │\n",
       "│ c(Nc2ncn…    ┆      ┆      ┆      ┆      ┆     ┆     ┆              ┆              ┆             │\n",
       "│ [N-]=[N+]=NC ┆ 141  ┆ 1415 ┆ 757  ┆ 0    ┆ 0   ┆ 0   ┆ 4085046      ┆ 20           ┆ 0.223607    │\n",
       "│ CC[C@H](Nc1n ┆      ┆      ┆      ┆      ┆     ┆     ┆              ┆              ┆             │\n",
       "│ c(Nc2noc…    ┆      ┆      ┆      ┆      ┆     ┆     ┆              ┆              ┆             │\n",
       "│ [N-]=[N+]=NC ┆ 141  ┆ 1415 ┆ 335  ┆ 0    ┆ 0   ┆ 0   ┆ 4087757      ┆ 20           ┆ 0.223607    │\n",
       "│ CC[C@H](Nc1n ┆      ┆      ┆      ┆      ┆     ┆     ┆              ┆              ┆             │\n",
       "│ c(Nc2ncn…    ┆      ┆      ┆      ┆      ┆     ┆     ┆              ┆              ┆             │\n",
       "│ [N-]=[N+]=NC ┆ 141  ┆ 1415 ┆ 1792 ┆ 0    ┆ 0   ┆ 0   ┆ 4674025      ┆ 20           ┆ 0.223607    │\n",
       "│ CC[C@H](Nc1n ┆      ┆      ┆      ┆      ┆     ┆     ┆              ┆              ┆             │\n",
       "│ c(Nc2noc…    ┆      ┆      ┆      ┆      ┆     ┆     ┆              ┆              ┆             │\n",
       "│ [N-]=[N+]=NC ┆ 141  ┆ 1415 ┆ 1178 ┆ 0    ┆ 0   ┆ 0   ┆ 5240137      ┆ 60           ┆ 0.129099    │\n",
       "│ CC[C@H](Nc1n ┆      ┆      ┆      ┆      ┆     ┆     ┆              ┆              ┆             │\n",
       "│ c(Nc2nnc…    ┆      ┆      ┆      ┆      ┆     ┆     ┆              ┆              ┆             │\n",
       "│ [N-]=[N+]=NC ┆ 141  ┆ 1415 ┆ 1699 ┆ 0    ┆ 0   ┆ 0   ┆ 5240137      ┆ 60           ┆ 0.129099    │\n",
       "│ CC[C@H](Nc1n ┆      ┆      ┆      ┆      ┆     ┆     ┆              ┆              ┆             │\n",
       "│ c(Nc2nnc…    ┆      ┆      ┆      ┆      ┆     ┆     ┆              ┆              ┆             │\n",
       "│ [N-]=[N+]=NC ┆ 141  ┆ 1415 ┆ 1308 ┆ 0    ┆ 0   ┆ 0   ┆ 3617024      ┆ 20           ┆ 0.223607    │\n",
       "│ CC[C@H](Nc1n ┆      ┆      ┆      ┆      ┆     ┆     ┆              ┆              ┆             │\n",
       "│ c(Nc2nnn…    ┆      ┆      ┆      ┆      ┆     ┆     ┆              ┆              ┆             │\n",
       "│ [N-]=[N+]=NC ┆ 141  ┆ 1415 ┆ 1415 ┆ 0    ┆ 0   ┆ 0   ┆ 268351       ┆ 20           ┆ 0.223607    │\n",
       "│ CC[C@H](Nc1n ┆      ┆      ┆      ┆      ┆     ┆     ┆              ┆              ┆             │\n",
       "│ c(Nc2noc…    ┆      ┆      ┆      ┆      ┆     ┆     ┆              ┆              ┆             │\n",
       "└──────────────┴──────┴──────┴──────┴──────┴─────┴─────┴──────────────┴──────────────┴─────────────┘"
      ]
     },
     "execution_count": 13,
     "metadata": {},
     "output_type": "execute_result"
    }
   ],
   "source": [
    "train_df = train_df.with_columns(\n",
    "    (1.0 / (pl.col('mol_per_scaf') ** 0.5) ).alias('sample_weight')\n",
    ")\n",
    "train_df"
   ]
  },
  {
   "cell_type": "code",
   "execution_count": 14,
   "id": "15a7f5c8",
   "metadata": {},
   "outputs": [
    {
     "name": "stdout",
     "output_type": "stream",
     "text": [
      "BRD4 0.004435922243997791\n",
      "HSA 0.004351191914480281\n",
      "sEH 0.007742457807451675\n",
      "Union: 0.015901166740355292\n"
     ]
    }
   ],
   "source": [
    "analyze_sample_weight(train_df)"
   ]
  },
  {
   "cell_type": "code",
   "execution_count": 15,
   "id": "ccfdd131",
   "metadata": {},
   "outputs": [],
   "source": [
    "train_df.select('sample_weight').write_csv('/home/dangnh36/datasets/competitions/leash_belka/processed/sample_weights/scaffold_v2.csv')"
   ]
  },
  {
   "cell_type": "code",
   "execution_count": null,
   "id": "17e0ab7c",
   "metadata": {},
   "outputs": [],
   "source": []
  },
  {
   "cell_type": "code",
   "execution_count": null,
   "id": "42db610a",
   "metadata": {},
   "outputs": [],
   "source": []
  },
  {
   "cell_type": "code",
   "execution_count": null,
   "id": "0b129abe",
   "metadata": {},
   "outputs": [],
   "source": []
  },
  {
   "cell_type": "code",
   "execution_count": null,
   "id": "d0fea60d",
   "metadata": {},
   "outputs": [],
   "source": []
  },
  {
   "cell_type": "markdown",
   "id": "9d579695",
   "metadata": {},
   "source": [
    "# Sample weights by mol_per_scaffold v3"
   ]
  },
  {
   "cell_type": "code",
   "execution_count": 21,
   "id": "06181d9e",
   "metadata": {},
   "outputs": [
    {
     "data": {
      "text/html": [
       "<div><style>\n",
       ".dataframe > thead > tr,\n",
       ".dataframe > tbody > tr {\n",
       "  text-align: right;\n",
       "  white-space: pre-wrap;\n",
       "}\n",
       "</style>\n",
       "<small>shape: (98_415_610, 10)</small><table border=\"1\" class=\"dataframe\"><thead><tr><th>molecule</th><th>bb1</th><th>bb2</th><th>bb3</th><th>BRD4</th><th>HSA</th><th>sEH</th><th>scaffold_idx</th><th>mol_per_scaf</th><th>sample_weight</th></tr><tr><td>str</td><td>u16</td><td>u16</td><td>u16</td><td>u8</td><td>u8</td><td>u8</td><td>i64</td><td>u32</td><td>f64</td></tr></thead><tbody><tr><td>&quot;C#CCOc1ccc(CNc…</td><td>1640</td><td>1653</td><td>765</td><td>0</td><td>0</td><td>0</td><td>4283326</td><td>843</td><td>0.000001</td></tr><tr><td>&quot;C#CCOc1ccc(CNc…</td><td>1640</td><td>1653</td><td>205</td><td>0</td><td>0</td><td>0</td><td>4486646</td><td>9415</td><td>1.1281e-8</td></tr><tr><td>&quot;C#CCOc1ccc(CNc…</td><td>1640</td><td>1653</td><td>1653</td><td>0</td><td>0</td><td>0</td><td>1015728</td><td>9006</td><td>1.2329e-8</td></tr><tr><td>&quot;C#CCOc1ccc(CNc…</td><td>1640</td><td>1653</td><td>146</td><td>0</td><td>0</td><td>0</td><td>5301385</td><td>26751</td><td>1.3974e-9</td></tr><tr><td>&quot;C#CCOc1ccc(CNc…</td><td>1640</td><td>1653</td><td>439</td><td>0</td><td>0</td><td>0</td><td>5301385</td><td>26751</td><td>1.3974e-9</td></tr><tr><td>&quot;C#CCOc1ccc(CNc…</td><td>1640</td><td>1653</td><td>196</td><td>0</td><td>0</td><td>0</td><td>5301385</td><td>26751</td><td>1.3974e-9</td></tr><tr><td>&quot;C#CCOc1ccc(CNc…</td><td>1640</td><td>1653</td><td>253</td><td>0</td><td>0</td><td>0</td><td>5301385</td><td>26751</td><td>1.3974e-9</td></tr><tr><td>&quot;C#CCOc1ccc(CNc…</td><td>1640</td><td>1653</td><td>1219</td><td>0</td><td>0</td><td>0</td><td>5301385</td><td>26751</td><td>1.3974e-9</td></tr><tr><td>&quot;C#CCOc1ccc(CNc…</td><td>1640</td><td>1653</td><td>604</td><td>0</td><td>0</td><td>0</td><td>543172</td><td>842</td><td>0.000001</td></tr><tr><td>&quot;C#CCOc1ccc(CNc…</td><td>1640</td><td>1653</td><td>121</td><td>0</td><td>0</td><td>0</td><td>2571428</td><td>864</td><td>0.000001</td></tr><tr><td>&hellip;</td><td>&hellip;</td><td>&hellip;</td><td>&hellip;</td><td>&hellip;</td><td>&hellip;</td><td>&hellip;</td><td>&hellip;</td><td>&hellip;</td><td>&hellip;</td></tr><tr><td>&quot;[N-]=[N+]=NCCC…</td><td>141</td><td>1415</td><td>536</td><td>0</td><td>0</td><td>0</td><td>4068980</td><td>274</td><td>0.000013</td></tr><tr><td>&quot;[N-]=[N+]=NCCC…</td><td>141</td><td>1415</td><td>1367</td><td>0</td><td>0</td><td>0</td><td>2088996</td><td>20</td><td>0.0025</td></tr><tr><td>&quot;[N-]=[N+]=NCCC…</td><td>141</td><td>1415</td><td>329</td><td>0</td><td>0</td><td>0</td><td>3192765</td><td>260</td><td>0.000015</td></tr><tr><td>&quot;[N-]=[N+]=NCCC…</td><td>141</td><td>1415</td><td>757</td><td>0</td><td>0</td><td>0</td><td>4085046</td><td>20</td><td>0.0025</td></tr><tr><td>&quot;[N-]=[N+]=NCCC…</td><td>141</td><td>1415</td><td>335</td><td>0</td><td>0</td><td>0</td><td>4087757</td><td>20</td><td>0.0025</td></tr><tr><td>&quot;[N-]=[N+]=NCCC…</td><td>141</td><td>1415</td><td>1792</td><td>0</td><td>0</td><td>0</td><td>4674025</td><td>20</td><td>0.0025</td></tr><tr><td>&quot;[N-]=[N+]=NCCC…</td><td>141</td><td>1415</td><td>1178</td><td>0</td><td>0</td><td>0</td><td>5240137</td><td>60</td><td>0.000278</td></tr><tr><td>&quot;[N-]=[N+]=NCCC…</td><td>141</td><td>1415</td><td>1699</td><td>0</td><td>0</td><td>0</td><td>5240137</td><td>60</td><td>0.000278</td></tr><tr><td>&quot;[N-]=[N+]=NCCC…</td><td>141</td><td>1415</td><td>1308</td><td>0</td><td>0</td><td>0</td><td>3617024</td><td>20</td><td>0.0025</td></tr><tr><td>&quot;[N-]=[N+]=NCCC…</td><td>141</td><td>1415</td><td>1415</td><td>0</td><td>0</td><td>0</td><td>268351</td><td>20</td><td>0.0025</td></tr></tbody></table></div>"
      ],
      "text/plain": [
       "shape: (98_415_610, 10)\n",
       "┌──────────────┬──────┬──────┬──────┬──────┬─────┬─────┬──────────────┬──────────────┬─────────────┐\n",
       "│ molecule     ┆ bb1  ┆ bb2  ┆ bb3  ┆ BRD4 ┆ HSA ┆ sEH ┆ scaffold_idx ┆ mol_per_scaf ┆ sample_weig │\n",
       "│ ---          ┆ ---  ┆ ---  ┆ ---  ┆ ---  ┆ --- ┆ --- ┆ ---          ┆ ---          ┆ ht          │\n",
       "│ str          ┆ u16  ┆ u16  ┆ u16  ┆ u8   ┆ u8  ┆ u8  ┆ i64          ┆ u32          ┆ ---         │\n",
       "│              ┆      ┆      ┆      ┆      ┆     ┆     ┆              ┆              ┆ f64         │\n",
       "╞══════════════╪══════╪══════╪══════╪══════╪═════╪═════╪══════════════╪══════════════╪═════════════╡\n",
       "│ C#CCOc1ccc(C ┆ 1640 ┆ 1653 ┆ 765  ┆ 0    ┆ 0   ┆ 0   ┆ 4283326      ┆ 843          ┆ 0.000001    │\n",
       "│ Nc2nc(NCC3CC ┆      ┆      ┆      ┆      ┆     ┆     ┆              ┆              ┆             │\n",
       "│ CN3c3ccc…    ┆      ┆      ┆      ┆      ┆     ┆     ┆              ┆              ┆             │\n",
       "│ C#CCOc1ccc(C ┆ 1640 ┆ 1653 ┆ 205  ┆ 0    ┆ 0   ┆ 0   ┆ 4486646      ┆ 9415         ┆ 1.1281e-8   │\n",
       "│ Nc2nc(NCc3cc ┆      ┆      ┆      ┆      ┆     ┆     ┆              ┆              ┆             │\n",
       "│ cc(Br)n3…    ┆      ┆      ┆      ┆      ┆     ┆     ┆              ┆              ┆             │\n",
       "│ C#CCOc1ccc(C ┆ 1640 ┆ 1653 ┆ 1653 ┆ 0    ┆ 0   ┆ 0   ┆ 1015728      ┆ 9006         ┆ 1.2329e-8   │\n",
       "│ Nc2nc(NCc3cc ┆      ┆      ┆      ┆      ┆     ┆     ┆              ┆              ┆             │\n",
       "│ c(OCC#C)…    ┆      ┆      ┆      ┆      ┆     ┆     ┆              ┆              ┆             │\n",
       "│ C#CCOc1ccc(C ┆ 1640 ┆ 1653 ┆ 146  ┆ 0    ┆ 0   ┆ 0   ┆ 5301385      ┆ 26751        ┆ 1.3974e-9   │\n",
       "│ Nc2nc(NCCNC( ┆      ┆      ┆      ┆      ┆     ┆     ┆              ┆              ┆             │\n",
       "│ =O)C(=C)…    ┆      ┆      ┆      ┆      ┆     ┆     ┆              ┆              ┆             │\n",
       "│ C#CCOc1ccc(C ┆ 1640 ┆ 1653 ┆ 439  ┆ 0    ┆ 0   ┆ 0   ┆ 5301385      ┆ 26751        ┆ 1.3974e-9   │\n",
       "│ Nc2nc(NCC(=O ┆      ┆      ┆      ┆      ┆     ┆     ┆              ┆              ┆             │\n",
       "│ )NCC=C)n…    ┆      ┆      ┆      ┆      ┆     ┆     ┆              ┆              ┆             │\n",
       "│ C#CCOc1ccc(C ┆ 1640 ┆ 1653 ┆ 196  ┆ 0    ┆ 0   ┆ 0   ┆ 5301385      ┆ 26751        ┆ 1.3974e-9   │\n",
       "│ Nc2nc(NCC(C) ┆      ┆      ┆      ┆      ┆     ┆     ┆              ┆              ┆             │\n",
       "│ OCC=C)nc…    ┆      ┆      ┆      ┆      ┆     ┆     ┆              ┆              ┆             │\n",
       "│ C#CCOc1ccc(C ┆ 1640 ┆ 1653 ┆ 253  ┆ 0    ┆ 0   ┆ 0   ┆ 5301385      ┆ 26751        ┆ 1.3974e-9   │\n",
       "│ Nc2nc(NCCCOC ┆      ┆      ┆      ┆      ┆     ┆     ┆              ┆              ┆             │\n",
       "│ C=C)nc(N…    ┆      ┆      ┆      ┆      ┆     ┆     ┆              ┆              ┆             │\n",
       "│ C#CCOc1ccc(C ┆ 1640 ┆ 1653 ┆ 1219 ┆ 0    ┆ 0   ┆ 0   ┆ 5301385      ┆ 26751        ┆ 1.3974e-9   │\n",
       "│ Nc2nc(NCCOCC ┆      ┆      ┆      ┆      ┆     ┆     ┆              ┆              ┆             │\n",
       "│ =C)nc(N[…    ┆      ┆      ┆      ┆      ┆     ┆     ┆              ┆              ┆             │\n",
       "│ C#CCOc1ccc(C ┆ 1640 ┆ 1653 ┆ 604  ┆ 0    ┆ 0   ┆ 0   ┆ 543172       ┆ 842          ┆ 0.000001    │\n",
       "│ Nc2nc(Nc3cnn ┆      ┆      ┆      ┆      ┆     ┆     ┆              ┆              ┆             │\n",
       "│ (C4CCN(C…    ┆      ┆      ┆      ┆      ┆     ┆     ┆              ┆              ┆             │\n",
       "│ C#CCOc1ccc(C ┆ 1640 ┆ 1653 ┆ 121  ┆ 0    ┆ 0   ┆ 0   ┆ 2571428      ┆ 864          ┆ 0.000001    │\n",
       "│ Nc2nc(Nc3n[n ┆      ┆      ┆      ┆      ┆     ┆     ┆              ┆              ┆             │\n",
       "│ H]c4c3CN…    ┆      ┆      ┆      ┆      ┆     ┆     ┆              ┆              ┆             │\n",
       "│ …            ┆ …    ┆ …    ┆ …    ┆ …    ┆ …   ┆ …   ┆ …            ┆ …            ┆ …           │\n",
       "│ [N-]=[N+]=NC ┆ 141  ┆ 1415 ┆ 536  ┆ 0    ┆ 0   ┆ 0   ┆ 4068980      ┆ 274          ┆ 0.000013    │\n",
       "│ CC[C@H](Nc1n ┆      ┆      ┆      ┆      ┆     ┆     ┆              ┆              ┆             │\n",
       "│ c(Nc2ncc…    ┆      ┆      ┆      ┆      ┆     ┆     ┆              ┆              ┆             │\n",
       "│ [N-]=[N+]=NC ┆ 141  ┆ 1415 ┆ 1367 ┆ 0    ┆ 0   ┆ 0   ┆ 2088996      ┆ 20           ┆ 0.0025      │\n",
       "│ CC[C@H](Nc1n ┆      ┆      ┆      ┆      ┆     ┆     ┆              ┆              ┆             │\n",
       "│ c(Nc2ncn…    ┆      ┆      ┆      ┆      ┆     ┆     ┆              ┆              ┆             │\n",
       "│ [N-]=[N+]=NC ┆ 141  ┆ 1415 ┆ 329  ┆ 0    ┆ 0   ┆ 0   ┆ 3192765      ┆ 260          ┆ 0.000015    │\n",
       "│ CC[C@H](Nc1n ┆      ┆      ┆      ┆      ┆     ┆     ┆              ┆              ┆             │\n",
       "│ c(Nc2ncn…    ┆      ┆      ┆      ┆      ┆     ┆     ┆              ┆              ┆             │\n",
       "│ [N-]=[N+]=NC ┆ 141  ┆ 1415 ┆ 757  ┆ 0    ┆ 0   ┆ 0   ┆ 4085046      ┆ 20           ┆ 0.0025      │\n",
       "│ CC[C@H](Nc1n ┆      ┆      ┆      ┆      ┆     ┆     ┆              ┆              ┆             │\n",
       "│ c(Nc2noc…    ┆      ┆      ┆      ┆      ┆     ┆     ┆              ┆              ┆             │\n",
       "│ [N-]=[N+]=NC ┆ 141  ┆ 1415 ┆ 335  ┆ 0    ┆ 0   ┆ 0   ┆ 4087757      ┆ 20           ┆ 0.0025      │\n",
       "│ CC[C@H](Nc1n ┆      ┆      ┆      ┆      ┆     ┆     ┆              ┆              ┆             │\n",
       "│ c(Nc2ncn…    ┆      ┆      ┆      ┆      ┆     ┆     ┆              ┆              ┆             │\n",
       "│ [N-]=[N+]=NC ┆ 141  ┆ 1415 ┆ 1792 ┆ 0    ┆ 0   ┆ 0   ┆ 4674025      ┆ 20           ┆ 0.0025      │\n",
       "│ CC[C@H](Nc1n ┆      ┆      ┆      ┆      ┆     ┆     ┆              ┆              ┆             │\n",
       "│ c(Nc2noc…    ┆      ┆      ┆      ┆      ┆     ┆     ┆              ┆              ┆             │\n",
       "│ [N-]=[N+]=NC ┆ 141  ┆ 1415 ┆ 1178 ┆ 0    ┆ 0   ┆ 0   ┆ 5240137      ┆ 60           ┆ 0.000278    │\n",
       "│ CC[C@H](Nc1n ┆      ┆      ┆      ┆      ┆     ┆     ┆              ┆              ┆             │\n",
       "│ c(Nc2nnc…    ┆      ┆      ┆      ┆      ┆     ┆     ┆              ┆              ┆             │\n",
       "│ [N-]=[N+]=NC ┆ 141  ┆ 1415 ┆ 1699 ┆ 0    ┆ 0   ┆ 0   ┆ 5240137      ┆ 60           ┆ 0.000278    │\n",
       "│ CC[C@H](Nc1n ┆      ┆      ┆      ┆      ┆     ┆     ┆              ┆              ┆             │\n",
       "│ c(Nc2nnc…    ┆      ┆      ┆      ┆      ┆     ┆     ┆              ┆              ┆             │\n",
       "│ [N-]=[N+]=NC ┆ 141  ┆ 1415 ┆ 1308 ┆ 0    ┆ 0   ┆ 0   ┆ 3617024      ┆ 20           ┆ 0.0025      │\n",
       "│ CC[C@H](Nc1n ┆      ┆      ┆      ┆      ┆     ┆     ┆              ┆              ┆             │\n",
       "│ c(Nc2nnn…    ┆      ┆      ┆      ┆      ┆     ┆     ┆              ┆              ┆             │\n",
       "│ [N-]=[N+]=NC ┆ 141  ┆ 1415 ┆ 1415 ┆ 0    ┆ 0   ┆ 0   ┆ 268351       ┆ 20           ┆ 0.0025      │\n",
       "│ CC[C@H](Nc1n ┆      ┆      ┆      ┆      ┆     ┆     ┆              ┆              ┆             │\n",
       "│ c(Nc2noc…    ┆      ┆      ┆      ┆      ┆     ┆     ┆              ┆              ┆             │\n",
       "└──────────────┴──────┴──────┴──────┴──────┴─────┴─────┴──────────────┴──────────────┴─────────────┘"
      ]
     },
     "execution_count": 21,
     "metadata": {},
     "output_type": "execute_result"
    }
   ],
   "source": [
    "train_df = train_df.with_columns(\n",
    "    (1.0 / (pl.col('mol_per_scaf') ** 2) ).alias('sample_weight')\n",
    ")\n",
    "train_df"
   ]
  },
  {
   "cell_type": "code",
   "execution_count": 22,
   "id": "43000118",
   "metadata": {},
   "outputs": [
    {
     "name": "stdout",
     "output_type": "stream",
     "text": [
      "BRD4 0.004212658128955828\n",
      "HSA 0.004414961031634905\n",
      "sEH 0.0032135961826731266\n",
      "Union: 0.011383674971416971\n"
     ]
    }
   ],
   "source": [
    "analyze_sample_weight(train_df)"
   ]
  },
  {
   "cell_type": "code",
   "execution_count": 23,
   "id": "62708889",
   "metadata": {},
   "outputs": [],
   "source": [
    "train_df.select('sample_weight').write_csv('/home/dangnh36/datasets/competitions/leash_belka/processed/sample_weights/scaffold_v3.csv')"
   ]
  },
  {
   "cell_type": "code",
   "execution_count": null,
   "id": "86199429",
   "metadata": {},
   "outputs": [],
   "source": []
  },
  {
   "cell_type": "code",
   "execution_count": null,
   "id": "08055266",
   "metadata": {},
   "outputs": [],
   "source": []
  },
  {
   "cell_type": "code",
   "execution_count": null,
   "id": "00aecd7f",
   "metadata": {},
   "outputs": [],
   "source": []
  },
  {
   "cell_type": "code",
   "execution_count": null,
   "id": "a2d128fe",
   "metadata": {},
   "outputs": [],
   "source": []
  },
  {
   "cell_type": "code",
   "execution_count": null,
   "id": "9474d675",
   "metadata": {},
   "outputs": [],
   "source": []
  },
  {
   "cell_type": "code",
   "execution_count": null,
   "id": "f9146260",
   "metadata": {},
   "outputs": [],
   "source": []
  },
  {
   "cell_type": "code",
   "execution_count": null,
   "id": "36729ae3",
   "metadata": {},
   "outputs": [],
   "source": []
  },
  {
   "cell_type": "code",
   "execution_count": null,
   "id": "18529610",
   "metadata": {},
   "outputs": [],
   "source": []
  },
  {
   "cell_type": "code",
   "execution_count": null,
   "id": "9ac82df5",
   "metadata": {},
   "outputs": [],
   "source": []
  },
  {
   "cell_type": "code",
   "execution_count": null,
   "id": "e7489671",
   "metadata": {},
   "outputs": [],
   "source": []
  },
  {
   "cell_type": "code",
   "execution_count": null,
   "id": "0e0b8ceb",
   "metadata": {},
   "outputs": [],
   "source": []
  },
  {
   "cell_type": "code",
   "execution_count": null,
   "id": "24629f0a",
   "metadata": {},
   "outputs": [],
   "source": []
  },
  {
   "cell_type": "code",
   "execution_count": null,
   "id": "ecdcae6e",
   "metadata": {},
   "outputs": [],
   "source": []
  },
  {
   "cell_type": "markdown",
   "id": "16ae3ad2",
   "metadata": {},
   "source": [
    "# Sample weights by mol_per_scaffold v1"
   ]
  },
  {
   "cell_type": "code",
   "execution_count": 6,
   "id": "c27b9982",
   "metadata": {},
   "outputs": [
    {
     "data": {
      "text/html": [
       "<div><style>\n",
       ".dataframe > thead > tr,\n",
       ".dataframe > tbody > tr {\n",
       "  text-align: right;\n",
       "  white-space: pre-wrap;\n",
       "}\n",
       "</style>\n",
       "<small>shape: (98_415_610, 9)</small><table border=\"1\" class=\"dataframe\"><thead><tr><th>molecule</th><th>bb1</th><th>bb2</th><th>bb3</th><th>BRD4</th><th>HSA</th><th>sEH</th><th>scaffold_idx</th><th>mol_per_scaf</th></tr><tr><td>str</td><td>u16</td><td>u16</td><td>u16</td><td>u8</td><td>u8</td><td>u8</td><td>i64</td><td>u32</td></tr></thead><tbody><tr><td>&quot;C#CCOc1ccc(CNc…</td><td>1640</td><td>1653</td><td>765</td><td>0</td><td>0</td><td>0</td><td>4283326</td><td>843</td></tr><tr><td>&quot;C#CCOc1ccc(CNc…</td><td>1640</td><td>1653</td><td>205</td><td>0</td><td>0</td><td>0</td><td>4486646</td><td>9415</td></tr><tr><td>&quot;C#CCOc1ccc(CNc…</td><td>1640</td><td>1653</td><td>1653</td><td>0</td><td>0</td><td>0</td><td>1015728</td><td>9006</td></tr><tr><td>&quot;C#CCOc1ccc(CNc…</td><td>1640</td><td>1653</td><td>146</td><td>0</td><td>0</td><td>0</td><td>5301385</td><td>26751</td></tr><tr><td>&quot;C#CCOc1ccc(CNc…</td><td>1640</td><td>1653</td><td>439</td><td>0</td><td>0</td><td>0</td><td>5301385</td><td>26751</td></tr><tr><td>&quot;C#CCOc1ccc(CNc…</td><td>1640</td><td>1653</td><td>196</td><td>0</td><td>0</td><td>0</td><td>5301385</td><td>26751</td></tr><tr><td>&quot;C#CCOc1ccc(CNc…</td><td>1640</td><td>1653</td><td>253</td><td>0</td><td>0</td><td>0</td><td>5301385</td><td>26751</td></tr><tr><td>&quot;C#CCOc1ccc(CNc…</td><td>1640</td><td>1653</td><td>1219</td><td>0</td><td>0</td><td>0</td><td>5301385</td><td>26751</td></tr><tr><td>&quot;C#CCOc1ccc(CNc…</td><td>1640</td><td>1653</td><td>604</td><td>0</td><td>0</td><td>0</td><td>543172</td><td>842</td></tr><tr><td>&quot;C#CCOc1ccc(CNc…</td><td>1640</td><td>1653</td><td>121</td><td>0</td><td>0</td><td>0</td><td>2571428</td><td>864</td></tr><tr><td>&hellip;</td><td>&hellip;</td><td>&hellip;</td><td>&hellip;</td><td>&hellip;</td><td>&hellip;</td><td>&hellip;</td><td>&hellip;</td><td>&hellip;</td></tr><tr><td>&quot;[N-]=[N+]=NCCC…</td><td>141</td><td>1415</td><td>536</td><td>0</td><td>0</td><td>0</td><td>4068980</td><td>274</td></tr><tr><td>&quot;[N-]=[N+]=NCCC…</td><td>141</td><td>1415</td><td>1367</td><td>0</td><td>0</td><td>0</td><td>2088996</td><td>20</td></tr><tr><td>&quot;[N-]=[N+]=NCCC…</td><td>141</td><td>1415</td><td>329</td><td>0</td><td>0</td><td>0</td><td>3192765</td><td>260</td></tr><tr><td>&quot;[N-]=[N+]=NCCC…</td><td>141</td><td>1415</td><td>757</td><td>0</td><td>0</td><td>0</td><td>4085046</td><td>20</td></tr><tr><td>&quot;[N-]=[N+]=NCCC…</td><td>141</td><td>1415</td><td>335</td><td>0</td><td>0</td><td>0</td><td>4087757</td><td>20</td></tr><tr><td>&quot;[N-]=[N+]=NCCC…</td><td>141</td><td>1415</td><td>1792</td><td>0</td><td>0</td><td>0</td><td>4674025</td><td>20</td></tr><tr><td>&quot;[N-]=[N+]=NCCC…</td><td>141</td><td>1415</td><td>1178</td><td>0</td><td>0</td><td>0</td><td>5240137</td><td>60</td></tr><tr><td>&quot;[N-]=[N+]=NCCC…</td><td>141</td><td>1415</td><td>1699</td><td>0</td><td>0</td><td>0</td><td>5240137</td><td>60</td></tr><tr><td>&quot;[N-]=[N+]=NCCC…</td><td>141</td><td>1415</td><td>1308</td><td>0</td><td>0</td><td>0</td><td>3617024</td><td>20</td></tr><tr><td>&quot;[N-]=[N+]=NCCC…</td><td>141</td><td>1415</td><td>1415</td><td>0</td><td>0</td><td>0</td><td>268351</td><td>20</td></tr></tbody></table></div>"
      ],
      "text/plain": [
       "shape: (98_415_610, 9)\n",
       "┌────────────────────────────┬──────┬──────┬──────┬──────┬─────┬─────┬──────────────┬──────────────┐\n",
       "│ molecule                   ┆ bb1  ┆ bb2  ┆ bb3  ┆ BRD4 ┆ HSA ┆ sEH ┆ scaffold_idx ┆ mol_per_scaf │\n",
       "│ ---                        ┆ ---  ┆ ---  ┆ ---  ┆ ---  ┆ --- ┆ --- ┆ ---          ┆ ---          │\n",
       "│ str                        ┆ u16  ┆ u16  ┆ u16  ┆ u8   ┆ u8  ┆ u8  ┆ i64          ┆ u32          │\n",
       "╞════════════════════════════╪══════╪══════╪══════╪══════╪═════╪═════╪══════════════╪══════════════╡\n",
       "│ C#CCOc1ccc(CNc2nc(NCC3CCCN ┆ 1640 ┆ 1653 ┆ 765  ┆ 0    ┆ 0   ┆ 0   ┆ 4283326      ┆ 843          │\n",
       "│ 3c3ccc…                    ┆      ┆      ┆      ┆      ┆     ┆     ┆              ┆              │\n",
       "│ C#CCOc1ccc(CNc2nc(NCc3cccc ┆ 1640 ┆ 1653 ┆ 205  ┆ 0    ┆ 0   ┆ 0   ┆ 4486646      ┆ 9415         │\n",
       "│ (Br)n3…                    ┆      ┆      ┆      ┆      ┆     ┆     ┆              ┆              │\n",
       "│ C#CCOc1ccc(CNc2nc(NCc3ccc( ┆ 1640 ┆ 1653 ┆ 1653 ┆ 0    ┆ 0   ┆ 0   ┆ 1015728      ┆ 9006         │\n",
       "│ OCC#C)…                    ┆      ┆      ┆      ┆      ┆     ┆     ┆              ┆              │\n",
       "│ C#CCOc1ccc(CNc2nc(NCCNC(=O ┆ 1640 ┆ 1653 ┆ 146  ┆ 0    ┆ 0   ┆ 0   ┆ 5301385      ┆ 26751        │\n",
       "│ )C(=C)…                    ┆      ┆      ┆      ┆      ┆     ┆     ┆              ┆              │\n",
       "│ C#CCOc1ccc(CNc2nc(NCC(=O)N ┆ 1640 ┆ 1653 ┆ 439  ┆ 0    ┆ 0   ┆ 0   ┆ 5301385      ┆ 26751        │\n",
       "│ CC=C)n…                    ┆      ┆      ┆      ┆      ┆     ┆     ┆              ┆              │\n",
       "│ C#CCOc1ccc(CNc2nc(NCC(C)OC ┆ 1640 ┆ 1653 ┆ 196  ┆ 0    ┆ 0   ┆ 0   ┆ 5301385      ┆ 26751        │\n",
       "│ C=C)nc…                    ┆      ┆      ┆      ┆      ┆     ┆     ┆              ┆              │\n",
       "│ C#CCOc1ccc(CNc2nc(NCCCOCC= ┆ 1640 ┆ 1653 ┆ 253  ┆ 0    ┆ 0   ┆ 0   ┆ 5301385      ┆ 26751        │\n",
       "│ C)nc(N…                    ┆      ┆      ┆      ┆      ┆     ┆     ┆              ┆              │\n",
       "│ C#CCOc1ccc(CNc2nc(NCCOCC=C ┆ 1640 ┆ 1653 ┆ 1219 ┆ 0    ┆ 0   ┆ 0   ┆ 5301385      ┆ 26751        │\n",
       "│ )nc(N[…                    ┆      ┆      ┆      ┆      ┆     ┆     ┆              ┆              │\n",
       "│ C#CCOc1ccc(CNc2nc(Nc3cnn(C ┆ 1640 ┆ 1653 ┆ 604  ┆ 0    ┆ 0   ┆ 0   ┆ 543172       ┆ 842          │\n",
       "│ 4CCN(C…                    ┆      ┆      ┆      ┆      ┆     ┆     ┆              ┆              │\n",
       "│ C#CCOc1ccc(CNc2nc(Nc3n[nH] ┆ 1640 ┆ 1653 ┆ 121  ┆ 0    ┆ 0   ┆ 0   ┆ 2571428      ┆ 864          │\n",
       "│ c4c3CN…                    ┆      ┆      ┆      ┆      ┆     ┆     ┆              ┆              │\n",
       "│ …                          ┆ …    ┆ …    ┆ …    ┆ …    ┆ …   ┆ …   ┆ …            ┆ …            │\n",
       "│ [N-]=[N+]=NCCC[C@H](Nc1nc( ┆ 141  ┆ 1415 ┆ 536  ┆ 0    ┆ 0   ┆ 0   ┆ 4068980      ┆ 274          │\n",
       "│ Nc2ncc…                    ┆      ┆      ┆      ┆      ┆     ┆     ┆              ┆              │\n",
       "│ [N-]=[N+]=NCCC[C@H](Nc1nc( ┆ 141  ┆ 1415 ┆ 1367 ┆ 0    ┆ 0   ┆ 0   ┆ 2088996      ┆ 20           │\n",
       "│ Nc2ncn…                    ┆      ┆      ┆      ┆      ┆     ┆     ┆              ┆              │\n",
       "│ [N-]=[N+]=NCCC[C@H](Nc1nc( ┆ 141  ┆ 1415 ┆ 329  ┆ 0    ┆ 0   ┆ 0   ┆ 3192765      ┆ 260          │\n",
       "│ Nc2ncn…                    ┆      ┆      ┆      ┆      ┆     ┆     ┆              ┆              │\n",
       "│ [N-]=[N+]=NCCC[C@H](Nc1nc( ┆ 141  ┆ 1415 ┆ 757  ┆ 0    ┆ 0   ┆ 0   ┆ 4085046      ┆ 20           │\n",
       "│ Nc2noc…                    ┆      ┆      ┆      ┆      ┆     ┆     ┆              ┆              │\n",
       "│ [N-]=[N+]=NCCC[C@H](Nc1nc( ┆ 141  ┆ 1415 ┆ 335  ┆ 0    ┆ 0   ┆ 0   ┆ 4087757      ┆ 20           │\n",
       "│ Nc2ncn…                    ┆      ┆      ┆      ┆      ┆     ┆     ┆              ┆              │\n",
       "│ [N-]=[N+]=NCCC[C@H](Nc1nc( ┆ 141  ┆ 1415 ┆ 1792 ┆ 0    ┆ 0   ┆ 0   ┆ 4674025      ┆ 20           │\n",
       "│ Nc2noc…                    ┆      ┆      ┆      ┆      ┆     ┆     ┆              ┆              │\n",
       "│ [N-]=[N+]=NCCC[C@H](Nc1nc( ┆ 141  ┆ 1415 ┆ 1178 ┆ 0    ┆ 0   ┆ 0   ┆ 5240137      ┆ 60           │\n",
       "│ Nc2nnc…                    ┆      ┆      ┆      ┆      ┆     ┆     ┆              ┆              │\n",
       "│ [N-]=[N+]=NCCC[C@H](Nc1nc( ┆ 141  ┆ 1415 ┆ 1699 ┆ 0    ┆ 0   ┆ 0   ┆ 5240137      ┆ 60           │\n",
       "│ Nc2nnc…                    ┆      ┆      ┆      ┆      ┆     ┆     ┆              ┆              │\n",
       "│ [N-]=[N+]=NCCC[C@H](Nc1nc( ┆ 141  ┆ 1415 ┆ 1308 ┆ 0    ┆ 0   ┆ 0   ┆ 3617024      ┆ 20           │\n",
       "│ Nc2nnn…                    ┆      ┆      ┆      ┆      ┆     ┆     ┆              ┆              │\n",
       "│ [N-]=[N+]=NCCC[C@H](Nc1nc( ┆ 141  ┆ 1415 ┆ 1415 ┆ 0    ┆ 0   ┆ 0   ┆ 268351       ┆ 20           │\n",
       "│ Nc2noc…                    ┆      ┆      ┆      ┆      ┆     ┆     ┆              ┆              │\n",
       "└────────────────────────────┴──────┴──────┴──────┴──────┴─────┴─────┴──────────────┴──────────────┘"
      ]
     },
     "execution_count": 6,
     "metadata": {},
     "output_type": "execute_result"
    }
   ],
   "source": [
    "train_df = train_df.with_columns(\n",
    "                pl.col('molecule').count().over('scaffold_idx').alias('mol_per_scaf'))\n",
    "train_df"
   ]
  },
  {
   "cell_type": "code",
   "execution_count": 7,
   "id": "7ecc1dc8",
   "metadata": {},
   "outputs": [
    {
     "data": {
      "text/html": [
       "<div><style>\n",
       ".dataframe > thead > tr,\n",
       ".dataframe > tbody > tr {\n",
       "  text-align: right;\n",
       "  white-space: pre-wrap;\n",
       "}\n",
       "</style>\n",
       "<small>shape: (1, 1)</small><table border=\"1\" class=\"dataframe\"><thead><tr><th>scaffold_idx</th></tr><tr><td>u32</td></tr></thead><tbody><tr><td>5711873</td></tr></tbody></table></div>"
      ],
      "text/plain": [
       "shape: (1, 1)\n",
       "┌──────────────┐\n",
       "│ scaffold_idx │\n",
       "│ ---          │\n",
       "│ u32          │\n",
       "╞══════════════╡\n",
       "│ 5711873      │\n",
       "└──────────────┘"
      ]
     },
     "execution_count": 7,
     "metadata": {},
     "output_type": "execute_result"
    }
   ],
   "source": [
    "train_df.select(pl.n_unique('scaffold_idx'))"
   ]
  },
  {
   "cell_type": "code",
   "execution_count": 8,
   "id": "20efc4a3",
   "metadata": {},
   "outputs": [
    {
     "data": {
      "text/html": [
       "<div><style>\n",
       ".dataframe > thead > tr,\n",
       ".dataframe > tbody > tr {\n",
       "  text-align: right;\n",
       "  white-space: pre-wrap;\n",
       "}\n",
       "</style>\n",
       "<small>shape: (5_711_873, 6)</small><table border=\"1\" class=\"dataframe\"><thead><tr><th>scaffold_idx</th><th>BRD4</th><th>HSA</th><th>sEH</th><th>mol_per_scaf</th><th>count</th></tr><tr><td>i64</td><td>f64</td><td>f64</td><td>f64</td><td>u32</td><td>u32</td></tr></thead><tbody><tr><td>3877740</td><td>0.0</td><td>0.0</td><td>0.0</td><td>3</td><td>3</td></tr><tr><td>440695</td><td>0.0</td><td>0.0</td><td>0.0</td><td>2</td><td>2</td></tr><tr><td>4322493</td><td>0.0</td><td>0.0</td><td>0.0</td><td>6</td><td>6</td></tr><tr><td>4137279</td><td>0.0</td><td>0.0</td><td>0.0</td><td>22</td><td>22</td></tr><tr><td>3226929</td><td>0.0</td><td>0.0</td><td>0.0</td><td>1</td><td>1</td></tr><tr><td>998698</td><td>0.0</td><td>0.0</td><td>0.0</td><td>1</td><td>1</td></tr><tr><td>5288161</td><td>0.0</td><td>0.0</td><td>0.0</td><td>3</td><td>3</td></tr><tr><td>1175132</td><td>0.0</td><td>0.0</td><td>0.0</td><td>1</td><td>1</td></tr><tr><td>4614014</td><td>0.0</td><td>0.0</td><td>0.0</td><td>1</td><td>1</td></tr><tr><td>3376228</td><td>0.0</td><td>0.0</td><td>0.0</td><td>1</td><td>1</td></tr><tr><td>&hellip;</td><td>&hellip;</td><td>&hellip;</td><td>&hellip;</td><td>&hellip;</td><td>&hellip;</td></tr><tr><td>3367966</td><td>0.0</td><td>0.0</td><td>0.0</td><td>1</td><td>1</td></tr><tr><td>2633392</td><td>0.0</td><td>0.0</td><td>0.0</td><td>9</td><td>9</td></tr><tr><td>750166</td><td>0.0</td><td>0.0</td><td>0.0</td><td>4</td><td>4</td></tr><tr><td>5833314</td><td>0.0</td><td>0.0</td><td>0.0</td><td>13</td><td>13</td></tr><tr><td>2172514</td><td>0.0</td><td>0.0</td><td>0.0</td><td>141</td><td>141</td></tr><tr><td>3285123</td><td>0.0</td><td>0.0</td><td>0.0</td><td>6</td><td>6</td></tr><tr><td>5502210</td><td>0.0</td><td>0.0</td><td>0.0</td><td>1</td><td>1</td></tr><tr><td>2287735</td><td>0.0</td><td>0.0</td><td>0.0</td><td>2</td><td>2</td></tr><tr><td>2502180</td><td>0.0</td><td>0.0</td><td>0.0</td><td>1</td><td>1</td></tr><tr><td>3535090</td><td>0.0</td><td>0.0</td><td>0.0</td><td>5</td><td>5</td></tr></tbody></table></div>"
      ],
      "text/plain": [
       "shape: (5_711_873, 6)\n",
       "┌──────────────┬──────┬─────┬─────┬──────────────┬───────┐\n",
       "│ scaffold_idx ┆ BRD4 ┆ HSA ┆ sEH ┆ mol_per_scaf ┆ count │\n",
       "│ ---          ┆ ---  ┆ --- ┆ --- ┆ ---          ┆ ---   │\n",
       "│ i64          ┆ f64  ┆ f64 ┆ f64 ┆ u32          ┆ u32   │\n",
       "╞══════════════╪══════╪═════╪═════╪══════════════╪═══════╡\n",
       "│ 3877740      ┆ 0.0  ┆ 0.0 ┆ 0.0 ┆ 3            ┆ 3     │\n",
       "│ 440695       ┆ 0.0  ┆ 0.0 ┆ 0.0 ┆ 2            ┆ 2     │\n",
       "│ 4322493      ┆ 0.0  ┆ 0.0 ┆ 0.0 ┆ 6            ┆ 6     │\n",
       "│ 4137279      ┆ 0.0  ┆ 0.0 ┆ 0.0 ┆ 22           ┆ 22    │\n",
       "│ 3226929      ┆ 0.0  ┆ 0.0 ┆ 0.0 ┆ 1            ┆ 1     │\n",
       "│ 998698       ┆ 0.0  ┆ 0.0 ┆ 0.0 ┆ 1            ┆ 1     │\n",
       "│ 5288161      ┆ 0.0  ┆ 0.0 ┆ 0.0 ┆ 3            ┆ 3     │\n",
       "│ 1175132      ┆ 0.0  ┆ 0.0 ┆ 0.0 ┆ 1            ┆ 1     │\n",
       "│ 4614014      ┆ 0.0  ┆ 0.0 ┆ 0.0 ┆ 1            ┆ 1     │\n",
       "│ 3376228      ┆ 0.0  ┆ 0.0 ┆ 0.0 ┆ 1            ┆ 1     │\n",
       "│ …            ┆ …    ┆ …   ┆ …   ┆ …            ┆ …     │\n",
       "│ 3367966      ┆ 0.0  ┆ 0.0 ┆ 0.0 ┆ 1            ┆ 1     │\n",
       "│ 2633392      ┆ 0.0  ┆ 0.0 ┆ 0.0 ┆ 9            ┆ 9     │\n",
       "│ 750166       ┆ 0.0  ┆ 0.0 ┆ 0.0 ┆ 4            ┆ 4     │\n",
       "│ 5833314      ┆ 0.0  ┆ 0.0 ┆ 0.0 ┆ 13           ┆ 13    │\n",
       "│ 2172514      ┆ 0.0  ┆ 0.0 ┆ 0.0 ┆ 141          ┆ 141   │\n",
       "│ 3285123      ┆ 0.0  ┆ 0.0 ┆ 0.0 ┆ 6            ┆ 6     │\n",
       "│ 5502210      ┆ 0.0  ┆ 0.0 ┆ 0.0 ┆ 1            ┆ 1     │\n",
       "│ 2287735      ┆ 0.0  ┆ 0.0 ┆ 0.0 ┆ 2            ┆ 2     │\n",
       "│ 2502180      ┆ 0.0  ┆ 0.0 ┆ 0.0 ┆ 1            ┆ 1     │\n",
       "│ 3535090      ┆ 0.0  ┆ 0.0 ┆ 0.0 ┆ 5            ┆ 5     │\n",
       "└──────────────┴──────┴─────┴─────┴──────────────┴───────┘"
      ]
     },
     "execution_count": 8,
     "metadata": {},
     "output_type": "execute_result"
    }
   ],
   "source": [
    "tmp_df = train_df.group_by('scaffold_idx').agg(\n",
    "    pl.col('BRD4').mean(),\n",
    "    pl.col('HSA').mean(),\n",
    "    pl.col('sEH').mean(),\n",
    "    pl.col('mol_per_scaf').first(),\n",
    "    pl.col('molecule').count().alias('count')\n",
    ")\n",
    "tmp_df"
   ]
  },
  {
   "cell_type": "code",
   "execution_count": 9,
   "id": "fcc1eb77",
   "metadata": {},
   "outputs": [
    {
     "data": {
      "text/html": [
       "<div><style>\n",
       ".dataframe > thead > tr,\n",
       ".dataframe > tbody > tr {\n",
       "  text-align: right;\n",
       "  white-space: pre-wrap;\n",
       "}\n",
       "</style>\n",
       "<small>shape: (301_048, 6)</small><table border=\"1\" class=\"dataframe\"><thead><tr><th>scaffold_idx</th><th>BRD4</th><th>HSA</th><th>sEH</th><th>mol_per_scaf</th><th>count</th></tr><tr><td>i64</td><td>f64</td><td>f64</td><td>f64</td><td>u32</td><td>u32</td></tr></thead><tbody><tr><td>3913524</td><td>0.0</td><td>0.005236</td><td>0.0</td><td>191</td><td>191</td></tr><tr><td>923462</td><td>0.0</td><td>0.05</td><td>0.0</td><td>20</td><td>20</td></tr><tr><td>3414635</td><td>0.027235</td><td>0.005777</td><td>0.004677</td><td>3635</td><td>3635</td></tr><tr><td>2380284</td><td>0.0</td><td>0.0</td><td>0.276596</td><td>47</td><td>47</td></tr><tr><td>3492101</td><td>0.0</td><td>0.0</td><td>0.021277</td><td>47</td><td>47</td></tr><tr><td>1951915</td><td>0.0</td><td>0.111111</td><td>0.0</td><td>18</td><td>18</td></tr><tr><td>3058620</td><td>0.0</td><td>0.0</td><td>0.076923</td><td>13</td><td>13</td></tr><tr><td>2333618</td><td>0.0</td><td>0.5</td><td>0.0</td><td>2</td><td>2</td></tr><tr><td>1778887</td><td>0.005556</td><td>0.011111</td><td>0.0</td><td>180</td><td>180</td></tr><tr><td>4656485</td><td>0.0</td><td>0.142857</td><td>0.0</td><td>7</td><td>7</td></tr><tr><td>&hellip;</td><td>&hellip;</td><td>&hellip;</td><td>&hellip;</td><td>&hellip;</td><td>&hellip;</td></tr><tr><td>276840</td><td>0.0</td><td>0.0</td><td>0.3</td><td>40</td><td>40</td></tr><tr><td>5501028</td><td>0.0</td><td>0.031915</td><td>0.0</td><td>94</td><td>94</td></tr><tr><td>720149</td><td>0.0</td><td>0.0</td><td>0.4</td><td>15</td><td>15</td></tr><tr><td>4131113</td><td>0.0</td><td>0.0</td><td>0.24</td><td>25</td><td>25</td></tr><tr><td>2462335</td><td>0.0</td><td>0.0</td><td>0.3</td><td>20</td><td>20</td></tr><tr><td>607685</td><td>0.0</td><td>0.5</td><td>0.0</td><td>2</td><td>2</td></tr><tr><td>581208</td><td>0.25</td><td>0.0</td><td>0.0</td><td>4</td><td>4</td></tr><tr><td>726443</td><td>1.0</td><td>0.0</td><td>0.0</td><td>1</td><td>1</td></tr><tr><td>3406897</td><td>0.45</td><td>0.0</td><td>0.0</td><td>20</td><td>20</td></tr><tr><td>540964</td><td>0.010417</td><td>0.0</td><td>0.0</td><td>96</td><td>96</td></tr></tbody></table></div>"
      ],
      "text/plain": [
       "shape: (301_048, 6)\n",
       "┌──────────────┬──────────┬──────────┬──────────┬──────────────┬───────┐\n",
       "│ scaffold_idx ┆ BRD4     ┆ HSA      ┆ sEH      ┆ mol_per_scaf ┆ count │\n",
       "│ ---          ┆ ---      ┆ ---      ┆ ---      ┆ ---          ┆ ---   │\n",
       "│ i64          ┆ f64      ┆ f64      ┆ f64      ┆ u32          ┆ u32   │\n",
       "╞══════════════╪══════════╪══════════╪══════════╪══════════════╪═══════╡\n",
       "│ 3913524      ┆ 0.0      ┆ 0.005236 ┆ 0.0      ┆ 191          ┆ 191   │\n",
       "│ 923462       ┆ 0.0      ┆ 0.05     ┆ 0.0      ┆ 20           ┆ 20    │\n",
       "│ 3414635      ┆ 0.027235 ┆ 0.005777 ┆ 0.004677 ┆ 3635         ┆ 3635  │\n",
       "│ 2380284      ┆ 0.0      ┆ 0.0      ┆ 0.276596 ┆ 47           ┆ 47    │\n",
       "│ 3492101      ┆ 0.0      ┆ 0.0      ┆ 0.021277 ┆ 47           ┆ 47    │\n",
       "│ 1951915      ┆ 0.0      ┆ 0.111111 ┆ 0.0      ┆ 18           ┆ 18    │\n",
       "│ 3058620      ┆ 0.0      ┆ 0.0      ┆ 0.076923 ┆ 13           ┆ 13    │\n",
       "│ 2333618      ┆ 0.0      ┆ 0.5      ┆ 0.0      ┆ 2            ┆ 2     │\n",
       "│ 1778887      ┆ 0.005556 ┆ 0.011111 ┆ 0.0      ┆ 180          ┆ 180   │\n",
       "│ 4656485      ┆ 0.0      ┆ 0.142857 ┆ 0.0      ┆ 7            ┆ 7     │\n",
       "│ …            ┆ …        ┆ …        ┆ …        ┆ …            ┆ …     │\n",
       "│ 276840       ┆ 0.0      ┆ 0.0      ┆ 0.3      ┆ 40           ┆ 40    │\n",
       "│ 5501028      ┆ 0.0      ┆ 0.031915 ┆ 0.0      ┆ 94           ┆ 94    │\n",
       "│ 720149       ┆ 0.0      ┆ 0.0      ┆ 0.4      ┆ 15           ┆ 15    │\n",
       "│ 4131113      ┆ 0.0      ┆ 0.0      ┆ 0.24     ┆ 25           ┆ 25    │\n",
       "│ 2462335      ┆ 0.0      ┆ 0.0      ┆ 0.3      ┆ 20           ┆ 20    │\n",
       "│ 607685       ┆ 0.0      ┆ 0.5      ┆ 0.0      ┆ 2            ┆ 2     │\n",
       "│ 581208       ┆ 0.25     ┆ 0.0      ┆ 0.0      ┆ 4            ┆ 4     │\n",
       "│ 726443       ┆ 1.0      ┆ 0.0      ┆ 0.0      ┆ 1            ┆ 1     │\n",
       "│ 3406897      ┆ 0.45     ┆ 0.0      ┆ 0.0      ┆ 20           ┆ 20    │\n",
       "│ 540964       ┆ 0.010417 ┆ 0.0      ┆ 0.0      ┆ 96           ┆ 96    │\n",
       "└──────────────┴──────────┴──────────┴──────────┴──────────────┴───────┘"
      ]
     },
     "execution_count": 9,
     "metadata": {},
     "output_type": "execute_result"
    }
   ],
   "source": [
    "tmp_df = tmp_df.filter((pl.col('BRD4') > 0) | (pl.col('HSA') > 0) | (pl.col('sEH') > 0))\n",
    "tmp_df"
   ]
  },
  {
   "cell_type": "code",
   "execution_count": 10,
   "id": "da18c44f",
   "metadata": {},
   "outputs": [
    {
     "data": {
      "text/html": [
       "<div><style>\n",
       ".dataframe > thead > tr,\n",
       ".dataframe > tbody > tr {\n",
       "  text-align: right;\n",
       "  white-space: pre-wrap;\n",
       "}\n",
       "</style>\n",
       "<small>shape: (17, 7)</small><table border=\"1\" class=\"dataframe\"><thead><tr><th>statistic</th><th>scaffold_idx</th><th>BRD4</th><th>HSA</th><th>sEH</th><th>mol_per_scaf</th><th>count</th></tr><tr><td>str</td><td>f64</td><td>f64</td><td>f64</td><td>f64</td><td>f64</td><td>f64</td></tr></thead><tbody><tr><td>&quot;count&quot;</td><td>301048.0</td><td>301048.0</td><td>301048.0</td><td>301048.0</td><td>301048.0</td><td>301048.0</td></tr><tr><td>&quot;null_count&quot;</td><td>0.0</td><td>0.0</td><td>0.0</td><td>0.0</td><td>0.0</td><td>0.0</td></tr><tr><td>&quot;mean&quot;</td><td>2.9854e6</td><td>0.080581</td><td>0.08141</td><td>0.110171</td><td>185.088335</td><td>185.088335</td></tr><tr><td>&quot;std&quot;</td><td>1.7256e6</td><td>0.221663</td><td>0.214093</td><td>0.200038</td><td>2232.683301</td><td>2232.683301</td></tr><tr><td>&quot;min&quot;</td><td>10.0</td><td>0.0</td><td>0.0</td><td>0.0</td><td>1.0</td><td>1.0</td></tr><tr><td>&quot;1%&quot;</td><td>59729.0</td><td>0.0</td><td>0.0</td><td>0.0</td><td>1.0</td><td>1.0</td></tr><tr><td>&quot;2.5%&quot;</td><td>149070.0</td><td>0.0</td><td>0.0</td><td>0.0</td><td>1.0</td><td>1.0</td></tr><tr><td>&quot;5%&quot;</td><td>297182.0</td><td>0.0</td><td>0.0</td><td>0.0</td><td>1.0</td><td>1.0</td></tr><tr><td>&quot;10%&quot;</td><td>594367.0</td><td>0.0</td><td>0.0</td><td>0.0</td><td>2.0</td><td>2.0</td></tr><tr><td>&quot;25%&quot;</td><td>1.490325e6</td><td>0.0</td><td>0.0</td><td>0.0</td><td>5.0</td><td>5.0</td></tr><tr><td>&quot;50%&quot;</td><td>2.981351e6</td><td>0.0</td><td>0.0</td><td>0.0</td><td>13.0</td><td>13.0</td></tr><tr><td>&quot;75%&quot;</td><td>4.481635e6</td><td>0.013699</td><td>0.033333</td><td>0.2</td><td>75.0</td><td>75.0</td></tr><tr><td>&quot;90%&quot;</td><td>5.3747e6</td><td>0.25</td><td>0.25</td><td>0.4</td><td>235.0</td><td>235.0</td></tr><tr><td>&quot;95%&quot;</td><td>5.672929e6</td><td>0.5</td><td>0.5</td><td>0.4</td><td>527.0</td><td>527.0</td></tr><tr><td>&quot;97.5%&quot;</td><td>5.823608e6</td><td>1.0</td><td>1.0</td><td>0.6</td><td>1069.0</td><td>1069.0</td></tr><tr><td>&quot;99%&quot;</td><td>5.913977e6</td><td>1.0</td><td>1.0</td><td>1.0</td><td>3331.0</td><td>3331.0</td></tr><tr><td>&quot;max&quot;</td><td>5.971663e6</td><td>1.0</td><td>1.0</td><td>1.0</td><td>499089.0</td><td>499089.0</td></tr></tbody></table></div>"
      ],
      "text/plain": [
       "shape: (17, 7)\n",
       "┌────────────┬──────────────┬──────────┬──────────┬──────────┬──────────────┬─────────────┐\n",
       "│ statistic  ┆ scaffold_idx ┆ BRD4     ┆ HSA      ┆ sEH      ┆ mol_per_scaf ┆ count       │\n",
       "│ ---        ┆ ---          ┆ ---      ┆ ---      ┆ ---      ┆ ---          ┆ ---         │\n",
       "│ str        ┆ f64          ┆ f64      ┆ f64      ┆ f64      ┆ f64          ┆ f64         │\n",
       "╞════════════╪══════════════╪══════════╪══════════╪══════════╪══════════════╪═════════════╡\n",
       "│ count      ┆ 301048.0     ┆ 301048.0 ┆ 301048.0 ┆ 301048.0 ┆ 301048.0     ┆ 301048.0    │\n",
       "│ null_count ┆ 0.0          ┆ 0.0      ┆ 0.0      ┆ 0.0      ┆ 0.0          ┆ 0.0         │\n",
       "│ mean       ┆ 2.9854e6     ┆ 0.080581 ┆ 0.08141  ┆ 0.110171 ┆ 185.088335   ┆ 185.088335  │\n",
       "│ std        ┆ 1.7256e6     ┆ 0.221663 ┆ 0.214093 ┆ 0.200038 ┆ 2232.683301  ┆ 2232.683301 │\n",
       "│ min        ┆ 10.0         ┆ 0.0      ┆ 0.0      ┆ 0.0      ┆ 1.0          ┆ 1.0         │\n",
       "│ 1%         ┆ 59729.0      ┆ 0.0      ┆ 0.0      ┆ 0.0      ┆ 1.0          ┆ 1.0         │\n",
       "│ 2.5%       ┆ 149070.0     ┆ 0.0      ┆ 0.0      ┆ 0.0      ┆ 1.0          ┆ 1.0         │\n",
       "│ 5%         ┆ 297182.0     ┆ 0.0      ┆ 0.0      ┆ 0.0      ┆ 1.0          ┆ 1.0         │\n",
       "│ 10%        ┆ 594367.0     ┆ 0.0      ┆ 0.0      ┆ 0.0      ┆ 2.0          ┆ 2.0         │\n",
       "│ 25%        ┆ 1.490325e6   ┆ 0.0      ┆ 0.0      ┆ 0.0      ┆ 5.0          ┆ 5.0         │\n",
       "│ 50%        ┆ 2.981351e6   ┆ 0.0      ┆ 0.0      ┆ 0.0      ┆ 13.0         ┆ 13.0        │\n",
       "│ 75%        ┆ 4.481635e6   ┆ 0.013699 ┆ 0.033333 ┆ 0.2      ┆ 75.0         ┆ 75.0        │\n",
       "│ 90%        ┆ 5.3747e6     ┆ 0.25     ┆ 0.25     ┆ 0.4      ┆ 235.0        ┆ 235.0       │\n",
       "│ 95%        ┆ 5.672929e6   ┆ 0.5      ┆ 0.5      ┆ 0.4      ┆ 527.0        ┆ 527.0       │\n",
       "│ 97.5%      ┆ 5.823608e6   ┆ 1.0      ┆ 1.0      ┆ 0.6      ┆ 1069.0       ┆ 1069.0      │\n",
       "│ 99%        ┆ 5.913977e6   ┆ 1.0      ┆ 1.0      ┆ 1.0      ┆ 3331.0       ┆ 3331.0      │\n",
       "│ max        ┆ 5.971663e6   ┆ 1.0      ┆ 1.0      ┆ 1.0      ┆ 499089.0     ┆ 499089.0    │\n",
       "└────────────┴──────────────┴──────────┴──────────┴──────────┴──────────────┴─────────────┘"
      ]
     },
     "execution_count": 10,
     "metadata": {},
     "output_type": "execute_result"
    }
   ],
   "source": [
    "tmp_df.describe(percentiles=PERCENTILES)"
   ]
  },
  {
   "cell_type": "code",
   "execution_count": 11,
   "id": "8cd95600",
   "metadata": {},
   "outputs": [
    {
     "data": {
      "text/html": [
       "<div><style>\n",
       ".dataframe > thead > tr,\n",
       ".dataframe > tbody > tr {\n",
       "  text-align: right;\n",
       "  white-space: pre-wrap;\n",
       "}\n",
       "</style>\n",
       "<small>shape: (17, 10)</small><table border=\"1\" class=\"dataframe\"><thead><tr><th>statistic</th><th>molecule</th><th>bb1</th><th>bb2</th><th>bb3</th><th>BRD4</th><th>HSA</th><th>sEH</th><th>scaffold_idx</th><th>mol_per_scaf</th></tr><tr><td>str</td><td>str</td><td>f64</td><td>f64</td><td>f64</td><td>f64</td><td>f64</td><td>f64</td><td>f64</td><td>f64</td></tr></thead><tbody><tr><td>&quot;count&quot;</td><td>&quot;98415610&quot;</td><td>9.841561e7</td><td>9.841561e7</td><td>9.841561e7</td><td>9.841561e7</td><td>9.841561e7</td><td>9.841561e7</td><td>9.841561e7</td><td>9.841561e7</td></tr><tr><td>&quot;null_count&quot;</td><td>&quot;0&quot;</td><td>0.0</td><td>0.0</td><td>0.0</td><td>0.0</td><td>0.0</td><td>0.0</td><td>0.0</td><td>0.0</td></tr><tr><td>&quot;mean&quot;</td><td>null</td><td>1088.96044</td><td>1076.355559</td><td>1044.963728</td><td>0.004643</td><td>0.00415</td><td>0.007362</td><td>3.0290e6</td><td>15454.627679</td></tr><tr><td>&quot;std&quot;</td><td>null</td><td>590.597838</td><td>611.779516</td><td>611.650372</td><td>0.067983</td><td>0.064286</td><td>0.085485</td><td>1.7252e6</td><td>58830.300697</td></tr><tr><td>&quot;min&quot;</td><td>&quot;C#CCOc1ccc(CNc…</td><td>7.0</td><td>0.0</td><td>0.0</td><td>0.0</td><td>0.0</td><td>0.0</td><td>0.0</td><td>1.0</td></tr><tr><td>&quot;1%&quot;</td><td>null</td><td>21.0</td><td>25.0</td><td>16.0</td><td>0.0</td><td>0.0</td><td>0.0</td><td>65475.0</td><td>1.0</td></tr><tr><td>&quot;2.5%&quot;</td><td>null</td><td>76.0</td><td>46.0</td><td>44.0</td><td>0.0</td><td>0.0</td><td>0.0</td><td>156352.0</td><td>2.0</td></tr><tr><td>&quot;5%&quot;</td><td>null</td><td>159.0</td><td>92.0</td><td>101.0</td><td>0.0</td><td>0.0</td><td>0.0</td><td>287990.0</td><td>3.0</td></tr><tr><td>&quot;10%&quot;</td><td>null</td><td>294.0</td><td>155.0</td><td>205.0</td><td>0.0</td><td>0.0</td><td>0.0</td><td>609157.0</td><td>8.0</td></tr><tr><td>&quot;25%&quot;</td><td>null</td><td>575.0</td><td>570.0</td><td>519.0</td><td>0.0</td><td>0.0</td><td>0.0</td><td>1.548124e6</td><td>50.0</td></tr><tr><td>&quot;50%&quot;</td><td>null</td><td>1097.0</td><td>1118.0</td><td>1059.0</td><td>0.0</td><td>0.0</td><td>0.0</td><td>3.034755e6</td><td>387.0</td></tr><tr><td>&quot;75%&quot;</td><td>null</td><td>1618.0</td><td>1587.0</td><td>1546.0</td><td>0.0</td><td>0.0</td><td>0.0</td><td>4.567028e6</td><td>4539.0</td></tr><tr><td>&quot;90%&quot;</td><td>null</td><td>1912.0</td><td>1909.0</td><td>1890.0</td><td>0.0</td><td>0.0</td><td>0.0</td><td>5.391476e6</td><td>21796.0</td></tr><tr><td>&quot;95%&quot;</td><td>null</td><td>2011.0</td><td>2003.0</td><td>2010.0</td><td>0.0</td><td>0.0</td><td>0.0</td><td>5.684119e6</td><td>73117.0</td></tr><tr><td>&quot;97.5%&quot;</td><td>null</td><td>2050.0</td><td>2066.0</td><td>2071.0</td><td>0.0</td><td>0.0</td><td>0.0</td><td>5.845813e6</td><td>224511.0</td></tr><tr><td>&quot;99%&quot;</td><td>null</td><td>2061.0</td><td>2090.0</td><td>2096.0</td><td>0.0</td><td>0.0</td><td>0.0</td><td>5.929071e6</td><td>334289.0</td></tr><tr><td>&quot;max&quot;</td><td>&quot;[N-]=[N+]=NCCC…</td><td>2084.0</td><td>2109.0</td><td>2109.0</td><td>1.0</td><td>1.0</td><td>1.0</td><td>5.971684e6</td><td>499089.0</td></tr></tbody></table></div>"
      ],
      "text/plain": [
       "shape: (17, 10)\n",
       "┌─────────┬─────────┬─────────┬─────────┬─────────┬─────────┬─────────┬─────────┬─────────┬────────┐\n",
       "│ statist ┆ molecul ┆ bb1     ┆ bb2     ┆ bb3     ┆ BRD4    ┆ HSA     ┆ sEH     ┆ scaffol ┆ mol_pe │\n",
       "│ ic      ┆ e       ┆ ---     ┆ ---     ┆ ---     ┆ ---     ┆ ---     ┆ ---     ┆ d_idx   ┆ r_scaf │\n",
       "│ ---     ┆ ---     ┆ f64     ┆ f64     ┆ f64     ┆ f64     ┆ f64     ┆ f64     ┆ ---     ┆ ---    │\n",
       "│ str     ┆ str     ┆         ┆         ┆         ┆         ┆         ┆         ┆ f64     ┆ f64    │\n",
       "╞═════════╪═════════╪═════════╪═════════╪═════════╪═════════╪═════════╪═════════╪═════════╪════════╡\n",
       "│ count   ┆ 9841561 ┆ 9.84156 ┆ 9.84156 ┆ 9.84156 ┆ 9.84156 ┆ 9.84156 ┆ 9.84156 ┆ 9.84156 ┆ 9.8415 │\n",
       "│         ┆ 0       ┆ 1e7     ┆ 1e7     ┆ 1e7     ┆ 1e7     ┆ 1e7     ┆ 1e7     ┆ 1e7     ┆ 61e7   │\n",
       "│ null_co ┆ 0       ┆ 0.0     ┆ 0.0     ┆ 0.0     ┆ 0.0     ┆ 0.0     ┆ 0.0     ┆ 0.0     ┆ 0.0    │\n",
       "│ unt     ┆         ┆         ┆         ┆         ┆         ┆         ┆         ┆         ┆        │\n",
       "│ mean    ┆ null    ┆ 1088.96 ┆ 1076.35 ┆ 1044.96 ┆ 0.00464 ┆ 0.00415 ┆ 0.00736 ┆ 3.0290e ┆ 15454. │\n",
       "│         ┆         ┆ 044     ┆ 5559    ┆ 3728    ┆ 3       ┆         ┆ 2       ┆ 6       ┆ 627679 │\n",
       "│ std     ┆ null    ┆ 590.597 ┆ 611.779 ┆ 611.650 ┆ 0.06798 ┆ 0.06428 ┆ 0.08548 ┆ 1.7252e ┆ 58830. │\n",
       "│         ┆         ┆ 838     ┆ 516     ┆ 372     ┆ 3       ┆ 6       ┆ 5       ┆ 6       ┆ 300697 │\n",
       "│ min     ┆ C#CCOc1 ┆ 7.0     ┆ 0.0     ┆ 0.0     ┆ 0.0     ┆ 0.0     ┆ 0.0     ┆ 0.0     ┆ 1.0    │\n",
       "│         ┆ ccc(CNc ┆         ┆         ┆         ┆         ┆         ┆         ┆         ┆        │\n",
       "│         ┆ 2nc(NC( ┆         ┆         ┆         ┆         ┆         ┆         ┆         ┆        │\n",
       "│         ┆ =N)CCCN ┆         ┆         ┆         ┆         ┆         ┆         ┆         ┆        │\n",
       "│         ┆ )nc(…   ┆         ┆         ┆         ┆         ┆         ┆         ┆         ┆        │\n",
       "│ 1%      ┆ null    ┆ 21.0    ┆ 25.0    ┆ 16.0    ┆ 0.0     ┆ 0.0     ┆ 0.0     ┆ 65475.0 ┆ 1.0    │\n",
       "│ 2.5%    ┆ null    ┆ 76.0    ┆ 46.0    ┆ 44.0    ┆ 0.0     ┆ 0.0     ┆ 0.0     ┆ 156352. ┆ 2.0    │\n",
       "│         ┆         ┆         ┆         ┆         ┆         ┆         ┆         ┆ 0       ┆        │\n",
       "│ 5%      ┆ null    ┆ 159.0   ┆ 92.0    ┆ 101.0   ┆ 0.0     ┆ 0.0     ┆ 0.0     ┆ 287990. ┆ 3.0    │\n",
       "│         ┆         ┆         ┆         ┆         ┆         ┆         ┆         ┆ 0       ┆        │\n",
       "│ 10%     ┆ null    ┆ 294.0   ┆ 155.0   ┆ 205.0   ┆ 0.0     ┆ 0.0     ┆ 0.0     ┆ 609157. ┆ 8.0    │\n",
       "│         ┆         ┆         ┆         ┆         ┆         ┆         ┆         ┆ 0       ┆        │\n",
       "│ 25%     ┆ null    ┆ 575.0   ┆ 570.0   ┆ 519.0   ┆ 0.0     ┆ 0.0     ┆ 0.0     ┆ 1.54812 ┆ 50.0   │\n",
       "│         ┆         ┆         ┆         ┆         ┆         ┆         ┆         ┆ 4e6     ┆        │\n",
       "│ 50%     ┆ null    ┆ 1097.0  ┆ 1118.0  ┆ 1059.0  ┆ 0.0     ┆ 0.0     ┆ 0.0     ┆ 3.03475 ┆ 387.0  │\n",
       "│         ┆         ┆         ┆         ┆         ┆         ┆         ┆         ┆ 5e6     ┆        │\n",
       "│ 75%     ┆ null    ┆ 1618.0  ┆ 1587.0  ┆ 1546.0  ┆ 0.0     ┆ 0.0     ┆ 0.0     ┆ 4.56702 ┆ 4539.0 │\n",
       "│         ┆         ┆         ┆         ┆         ┆         ┆         ┆         ┆ 8e6     ┆        │\n",
       "│ 90%     ┆ null    ┆ 1912.0  ┆ 1909.0  ┆ 1890.0  ┆ 0.0     ┆ 0.0     ┆ 0.0     ┆ 5.39147 ┆ 21796. │\n",
       "│         ┆         ┆         ┆         ┆         ┆         ┆         ┆         ┆ 6e6     ┆ 0      │\n",
       "│ 95%     ┆ null    ┆ 2011.0  ┆ 2003.0  ┆ 2010.0  ┆ 0.0     ┆ 0.0     ┆ 0.0     ┆ 5.68411 ┆ 73117. │\n",
       "│         ┆         ┆         ┆         ┆         ┆         ┆         ┆         ┆ 9e6     ┆ 0      │\n",
       "│ 97.5%   ┆ null    ┆ 2050.0  ┆ 2066.0  ┆ 2071.0  ┆ 0.0     ┆ 0.0     ┆ 0.0     ┆ 5.84581 ┆ 224511 │\n",
       "│         ┆         ┆         ┆         ┆         ┆         ┆         ┆         ┆ 3e6     ┆ .0     │\n",
       "│ 99%     ┆ null    ┆ 2061.0  ┆ 2090.0  ┆ 2096.0  ┆ 0.0     ┆ 0.0     ┆ 0.0     ┆ 5.92907 ┆ 334289 │\n",
       "│         ┆         ┆         ┆         ┆         ┆         ┆         ┆         ┆ 1e6     ┆ .0     │\n",
       "│ max     ┆ [N-]=[N ┆ 2084.0  ┆ 2109.0  ┆ 2109.0  ┆ 1.0     ┆ 1.0     ┆ 1.0     ┆ 5.97168 ┆ 499089 │\n",
       "│         ┆ +]=NCCC ┆         ┆         ┆         ┆         ┆         ┆         ┆ 4e6     ┆ .0     │\n",
       "│         ┆ [C@H](N ┆         ┆         ┆         ┆         ┆         ┆         ┆         ┆        │\n",
       "│         ┆ c1nc(Nc ┆         ┆         ┆         ┆         ┆         ┆         ┆         ┆        │\n",
       "│         ┆ 2noc…   ┆         ┆         ┆         ┆         ┆         ┆         ┆         ┆        │\n",
       "└─────────┴─────────┴─────────┴─────────┴─────────┴─────────┴─────────┴─────────┴─────────┴────────┘"
      ]
     },
     "execution_count": 11,
     "metadata": {},
     "output_type": "execute_result"
    }
   ],
   "source": [
    "train_df.describe(percentiles=PERCENTILES)"
   ]
  },
  {
   "cell_type": "code",
   "execution_count": 12,
   "id": "2de09045",
   "metadata": {},
   "outputs": [
    {
     "name": "stdout",
     "output_type": "stream",
     "text": [
      "BRD4\n"
     ]
    },
    {
     "data": {
      "image/png": "[encoded data removed]",
      "text/plain": [
       "<Figure size 640x480 with 1 Axes>"
      ]
     },
     "metadata": {},
     "output_type": "display_data"
    },
    {
     "name": "stdout",
     "output_type": "stream",
     "text": [
      "HSA\n"
     ]
    },
    {
     "data": {
      "image/png": "[encoded data removed]",
      "text/plain": [
       "<Figure size 640x480 with 1 Axes>"
      ]
     },
     "metadata": {},
     "output_type": "display_data"
    },
    {
     "name": "stdout",
     "output_type": "stream",
     "text": [
      "sEH\n"
     ]
    },
    {
     "data": {
      "image/png": "[encoded data removed]",
      "text/plain": [
       "<Figure size 640x480 with 1 Axes>"
      ]
     },
     "metadata": {},
     "output_type": "display_data"
    }
   ],
   "source": [
    "from matplotlib import pyplot as plt\n",
    "\n",
    "for protein in ['BRD4', 'HSA', 'sEH']:\n",
    "    print(protein)\n",
    "    plt.hist(tmp_df[protein])\n",
    "    plt.show()"
   ]
  },
  {
   "cell_type": "code",
   "execution_count": 13,
   "id": "bfb5b6cc",
   "metadata": {},
   "outputs": [
    {
     "data": {
      "image/png": "[encoded data removed]",
      "text/plain": [
       "<Figure size 640x480 with 1 Axes>"
      ]
     },
     "metadata": {},
     "output_type": "display_data"
    }
   ],
   "source": [
    "scatter_plot(tmp_df['sEH'], tmp_df['count'].log())"
   ]
  },
  {
   "cell_type": "code",
   "execution_count": 14,
   "id": "a042ef6e",
   "metadata": {},
   "outputs": [
    {
     "name": "stdout",
     "output_type": "stream",
     "text": [
      "BRD4\n",
      "HSA\n",
      "sEH\n"
     ]
    },
    {
     "data": {
      "text/plain": [
       "<matplotlib.legend.Legend at 0x7fc740aff520>"
      ]
     },
     "execution_count": 14,
     "metadata": {},
     "output_type": "execute_result"
    },
    {
     "data": {
      "image/png": "[encoded data removed]",
      "text/plain": [
       "<Figure size 640x480 with 1 Axes>"
      ]
     },
     "metadata": {},
     "output_type": "display_data"
    }
   ],
   "source": [
    "for protein in ['BRD4', 'HSA', 'sEH']:\n",
    "    print(protein)\n",
    "    tmp = tmp_df.with_columns((pl.col(protein) // 0.05).alias('bin')).group_by('bin').agg(pl.col('count').mean()).sort('bin')\n",
    "    plt.plot(tmp['bin'] * 0.05, tmp['count'])\n",
    "plt.legend(['BRD4', 'HSA', 'sEH'])"
   ]
  },
  {
   "cell_type": "code",
   "execution_count": 15,
   "id": "0d614a13",
   "metadata": {},
   "outputs": [
    {
     "data": {
      "image/png": "[encoded data removed]",
      "text/plain": [
       "<Figure size 640x480 with 1 Axes>"
      ]
     },
     "metadata": {},
     "output_type": "display_data"
    },
    {
     "data": {
      "text/html": [
       "<div><style>\n",
       ".dataframe > thead > tr,\n",
       ".dataframe > tbody > tr {\n",
       "  text-align: right;\n",
       "  white-space: pre-wrap;\n",
       "}\n",
       "</style>\n",
       "<small>shape: (7_570, 6)</small><table border=\"1\" class=\"dataframe\"><thead><tr><th>scaffold_idx</th><th>BRD4</th><th>HSA</th><th>sEH</th><th>mol_per_scaf</th><th>count</th></tr><tr><td>i64</td><td>f64</td><td>f64</td><td>f64</td><td>u32</td><td>u32</td></tr></thead><tbody><tr><td>5445847</td><td>0.0</td><td>0.0</td><td>1.0</td><td>1</td><td>1</td></tr><tr><td>3334936</td><td>0.0</td><td>1.0</td><td>1.0</td><td>1</td><td>1</td></tr><tr><td>3951145</td><td>0.0</td><td>0.0</td><td>1.0</td><td>1</td><td>1</td></tr><tr><td>2549769</td><td>0.0</td><td>0.0</td><td>1.0</td><td>1</td><td>1</td></tr><tr><td>4063609</td><td>0.0</td><td>0.0</td><td>1.0</td><td>1</td><td>1</td></tr><tr><td>4304537</td><td>0.0</td><td>1.0</td><td>1.0</td><td>1</td><td>1</td></tr><tr><td>785301</td><td>0.0</td><td>0.0</td><td>1.0</td><td>1</td><td>1</td></tr><tr><td>41685</td><td>0.0</td><td>0.0</td><td>1.0</td><td>1</td><td>1</td></tr><tr><td>2156922</td><td>0.0</td><td>0.0</td><td>1.0</td><td>1</td><td>1</td></tr><tr><td>171715</td><td>0.0</td><td>0.0</td><td>1.0</td><td>1</td><td>1</td></tr><tr><td>&hellip;</td><td>&hellip;</td><td>&hellip;</td><td>&hellip;</td><td>&hellip;</td><td>&hellip;</td></tr><tr><td>520791</td><td>0.0</td><td>0.0</td><td>0.621053</td><td>95</td><td>95</td></tr><tr><td>5783650</td><td>0.0</td><td>0.0</td><td>0.835052</td><td>97</td><td>97</td></tr><tr><td>2505029</td><td>0.0</td><td>0.051546</td><td>0.680412</td><td>97</td><td>97</td></tr><tr><td>4623477</td><td>0.0</td><td>0.0</td><td>0.678261</td><td>115</td><td>115</td></tr><tr><td>2496255</td><td>0.0</td><td>0.0</td><td>0.608333</td><td>120</td><td>120</td></tr><tr><td>578715</td><td>0.0</td><td>0.106383</td><td>0.758865</td><td>141</td><td>141</td></tr><tr><td>4969246</td><td>0.0</td><td>0.0</td><td>0.697561</td><td>205</td><td>205</td></tr><tr><td>2145497</td><td>0.0</td><td>0.0</td><td>0.736585</td><td>205</td><td>205</td></tr><tr><td>3501572</td><td>0.0</td><td>0.004184</td><td>0.615063</td><td>239</td><td>239</td></tr><tr><td>4283950</td><td>0.0</td><td>0.0</td><td>0.616314</td><td>331</td><td>331</td></tr></tbody></table></div>"
      ],
      "text/plain": [
       "shape: (7_570, 6)\n",
       "┌──────────────┬──────┬──────────┬──────────┬──────────────┬───────┐\n",
       "│ scaffold_idx ┆ BRD4 ┆ HSA      ┆ sEH      ┆ mol_per_scaf ┆ count │\n",
       "│ ---          ┆ ---  ┆ ---      ┆ ---      ┆ ---          ┆ ---   │\n",
       "│ i64          ┆ f64  ┆ f64      ┆ f64      ┆ u32          ┆ u32   │\n",
       "╞══════════════╪══════╪══════════╪══════════╪══════════════╪═══════╡\n",
       "│ 5445847      ┆ 0.0  ┆ 0.0      ┆ 1.0      ┆ 1            ┆ 1     │\n",
       "│ 3334936      ┆ 0.0  ┆ 1.0      ┆ 1.0      ┆ 1            ┆ 1     │\n",
       "│ 3951145      ┆ 0.0  ┆ 0.0      ┆ 1.0      ┆ 1            ┆ 1     │\n",
       "│ 2549769      ┆ 0.0  ┆ 0.0      ┆ 1.0      ┆ 1            ┆ 1     │\n",
       "│ 4063609      ┆ 0.0  ┆ 0.0      ┆ 1.0      ┆ 1            ┆ 1     │\n",
       "│ 4304537      ┆ 0.0  ┆ 1.0      ┆ 1.0      ┆ 1            ┆ 1     │\n",
       "│ 785301       ┆ 0.0  ┆ 0.0      ┆ 1.0      ┆ 1            ┆ 1     │\n",
       "│ 41685        ┆ 0.0  ┆ 0.0      ┆ 1.0      ┆ 1            ┆ 1     │\n",
       "│ 2156922      ┆ 0.0  ┆ 0.0      ┆ 1.0      ┆ 1            ┆ 1     │\n",
       "│ 171715       ┆ 0.0  ┆ 0.0      ┆ 1.0      ┆ 1            ┆ 1     │\n",
       "│ …            ┆ …    ┆ …        ┆ …        ┆ …            ┆ …     │\n",
       "│ 520791       ┆ 0.0  ┆ 0.0      ┆ 0.621053 ┆ 95           ┆ 95    │\n",
       "│ 5783650      ┆ 0.0  ┆ 0.0      ┆ 0.835052 ┆ 97           ┆ 97    │\n",
       "│ 2505029      ┆ 0.0  ┆ 0.051546 ┆ 0.680412 ┆ 97           ┆ 97    │\n",
       "│ 4623477      ┆ 0.0  ┆ 0.0      ┆ 0.678261 ┆ 115          ┆ 115   │\n",
       "│ 2496255      ┆ 0.0  ┆ 0.0      ┆ 0.608333 ┆ 120          ┆ 120   │\n",
       "│ 578715       ┆ 0.0  ┆ 0.106383 ┆ 0.758865 ┆ 141          ┆ 141   │\n",
       "│ 4969246      ┆ 0.0  ┆ 0.0      ┆ 0.697561 ┆ 205          ┆ 205   │\n",
       "│ 2145497      ┆ 0.0  ┆ 0.0      ┆ 0.736585 ┆ 205          ┆ 205   │\n",
       "│ 3501572      ┆ 0.0  ┆ 0.004184 ┆ 0.615063 ┆ 239          ┆ 239   │\n",
       "│ 4283950      ┆ 0.0  ┆ 0.0      ┆ 0.616314 ┆ 331          ┆ 331   │\n",
       "└──────────────┴──────┴──────────┴──────────┴──────────────┴───────┘"
      ]
     },
     "execution_count": 15,
     "metadata": {},
     "output_type": "execute_result"
    }
   ],
   "source": [
    "tmp = tmp_df.filter(pl.col('sEH') >= 0.6).sort('count')\n",
    "scatter_plot(tmp['sEH'], tmp['count'].log())\n",
    "tmp"
   ]
  },
  {
   "cell_type": "code",
   "execution_count": 16,
   "id": "5e7af810",
   "metadata": {},
   "outputs": [
    {
     "data": {
      "image/png": "[encoded data removed]",
      "text/plain": [
       "<Figure size 640x480 with 1 Axes>"
      ]
     },
     "metadata": {},
     "output_type": "display_data"
    },
    {
     "data": {
      "text/html": [
       "<div><style>\n",
       ".dataframe > thead > tr,\n",
       ".dataframe > tbody > tr {\n",
       "  text-align: right;\n",
       "  white-space: pre-wrap;\n",
       "}\n",
       "</style>\n",
       "<small>shape: (210_702, 6)</small><table border=\"1\" class=\"dataframe\"><thead><tr><th>scaffold_idx</th><th>BRD4</th><th>HSA</th><th>sEH</th><th>mol_per_scaf</th><th>count</th></tr><tr><td>i64</td><td>f64</td><td>f64</td><td>f64</td><td>u32</td><td>u32</td></tr></thead><tbody><tr><td>3198219</td><td>1.0</td><td>0.0</td><td>0.0</td><td>1</td><td>1</td></tr><tr><td>5132175</td><td>0.0</td><td>1.0</td><td>0.0</td><td>1</td><td>1</td></tr><tr><td>4527765</td><td>1.0</td><td>0.0</td><td>0.0</td><td>1</td><td>1</td></tr><tr><td>5641681</td><td>0.0</td><td>1.0</td><td>0.0</td><td>1</td><td>1</td></tr><tr><td>1003027</td><td>0.0</td><td>1.0</td><td>0.0</td><td>1</td><td>1</td></tr><tr><td>2952316</td><td>1.0</td><td>0.0</td><td>0.0</td><td>1</td><td>1</td></tr><tr><td>3453301</td><td>0.0</td><td>1.0</td><td>0.0</td><td>1</td><td>1</td></tr><tr><td>1506897</td><td>1.0</td><td>0.0</td><td>0.0</td><td>1</td><td>1</td></tr><tr><td>4070034</td><td>1.0</td><td>0.0</td><td>0.0</td><td>1</td><td>1</td></tr><tr><td>3256419</td><td>1.0</td><td>0.0</td><td>0.0</td><td>1</td><td>1</td></tr><tr><td>&hellip;</td><td>&hellip;</td><td>&hellip;</td><td>&hellip;</td><td>&hellip;</td><td>&hellip;</td></tr><tr><td>5509544</td><td>0.000901</td><td>0.000227</td><td>0.000266</td><td>176474</td><td>176474</td></tr><tr><td>2963783</td><td>0.010951</td><td>0.00022</td><td>0.001118</td><td>195054</td><td>195054</td></tr><tr><td>4583912</td><td>0.005541</td><td>0.000178</td><td>0.007193</td><td>224511</td><td>224511</td></tr><tr><td>4912182</td><td>0.003531</td><td>0.000272</td><td>0.000052</td><td>231387</td><td>231387</td></tr><tr><td>162518</td><td>0.003213</td><td>0.001577</td><td>0.000902</td><td>237127</td><td>237127</td></tr><tr><td>4867705</td><td>0.002347</td><td>0.000216</td><td>0.000041</td><td>245872</td><td>245872</td></tr><tr><td>5929438</td><td>0.000871</td><td>0.005708</td><td>0.005967</td><td>312198</td><td>312198</td></tr><tr><td>4632750</td><td>0.000739</td><td>0.000236</td><td>0.000018</td><td>334289</td><td>334289</td></tr><tr><td>4861294</td><td>0.001876</td><td>0.000516</td><td>0.000036</td><td>412652</td><td>412652</td></tr><tr><td>2217250</td><td>0.00547</td><td>0.000202</td><td>0.00027</td><td>499089</td><td>499089</td></tr></tbody></table></div>"
      ],
      "text/plain": [
       "shape: (210_702, 6)\n",
       "┌──────────────┬──────────┬──────────┬──────────┬──────────────┬────────┐\n",
       "│ scaffold_idx ┆ BRD4     ┆ HSA      ┆ sEH      ┆ mol_per_scaf ┆ count  │\n",
       "│ ---          ┆ ---      ┆ ---      ┆ ---      ┆ ---          ┆ ---    │\n",
       "│ i64          ┆ f64      ┆ f64      ┆ f64      ┆ u32          ┆ u32    │\n",
       "╞══════════════╪══════════╪══════════╪══════════╪══════════════╪════════╡\n",
       "│ 3198219      ┆ 1.0      ┆ 0.0      ┆ 0.0      ┆ 1            ┆ 1      │\n",
       "│ 5132175      ┆ 0.0      ┆ 1.0      ┆ 0.0      ┆ 1            ┆ 1      │\n",
       "│ 4527765      ┆ 1.0      ┆ 0.0      ┆ 0.0      ┆ 1            ┆ 1      │\n",
       "│ 5641681      ┆ 0.0      ┆ 1.0      ┆ 0.0      ┆ 1            ┆ 1      │\n",
       "│ 1003027      ┆ 0.0      ┆ 1.0      ┆ 0.0      ┆ 1            ┆ 1      │\n",
       "│ 2952316      ┆ 1.0      ┆ 0.0      ┆ 0.0      ┆ 1            ┆ 1      │\n",
       "│ 3453301      ┆ 0.0      ┆ 1.0      ┆ 0.0      ┆ 1            ┆ 1      │\n",
       "│ 1506897      ┆ 1.0      ┆ 0.0      ┆ 0.0      ┆ 1            ┆ 1      │\n",
       "│ 4070034      ┆ 1.0      ┆ 0.0      ┆ 0.0      ┆ 1            ┆ 1      │\n",
       "│ 3256419      ┆ 1.0      ┆ 0.0      ┆ 0.0      ┆ 1            ┆ 1      │\n",
       "│ …            ┆ …        ┆ …        ┆ …        ┆ …            ┆ …      │\n",
       "│ 5509544      ┆ 0.000901 ┆ 0.000227 ┆ 0.000266 ┆ 176474       ┆ 176474 │\n",
       "│ 2963783      ┆ 0.010951 ┆ 0.00022  ┆ 0.001118 ┆ 195054       ┆ 195054 │\n",
       "│ 4583912      ┆ 0.005541 ┆ 0.000178 ┆ 0.007193 ┆ 224511       ┆ 224511 │\n",
       "│ 4912182      ┆ 0.003531 ┆ 0.000272 ┆ 0.000052 ┆ 231387       ┆ 231387 │\n",
       "│ 162518       ┆ 0.003213 ┆ 0.001577 ┆ 0.000902 ┆ 237127       ┆ 237127 │\n",
       "│ 4867705      ┆ 0.002347 ┆ 0.000216 ┆ 0.000041 ┆ 245872       ┆ 245872 │\n",
       "│ 5929438      ┆ 0.000871 ┆ 0.005708 ┆ 0.005967 ┆ 312198       ┆ 312198 │\n",
       "│ 4632750      ┆ 0.000739 ┆ 0.000236 ┆ 0.000018 ┆ 334289       ┆ 334289 │\n",
       "│ 4861294      ┆ 0.001876 ┆ 0.000516 ┆ 0.000036 ┆ 412652       ┆ 412652 │\n",
       "│ 2217250      ┆ 0.00547  ┆ 0.000202 ┆ 0.00027  ┆ 499089       ┆ 499089 │\n",
       "└──────────────┴──────────┴──────────┴──────────┴──────────────┴────────┘"
      ]
     },
     "execution_count": 16,
     "metadata": {},
     "output_type": "execute_result"
    }
   ],
   "source": [
    "tmp = tmp_df.filter(pl.col('sEH') < 0.1).sort('count')\n",
    "scatter_plot(tmp['sEH'], tmp['count'].log())\n",
    "tmp"
   ]
  },
  {
   "cell_type": "code",
   "execution_count": null,
   "id": "96c4af3f",
   "metadata": {},
   "outputs": [],
   "source": []
  },
  {
   "cell_type": "code",
   "execution_count": 17,
   "id": "ade3c9a7",
   "metadata": {},
   "outputs": [
    {
     "data": {
      "text/html": [
       "<div><style>\n",
       ".dataframe > thead > tr,\n",
       ".dataframe > tbody > tr {\n",
       "  text-align: right;\n",
       "  white-space: pre-wrap;\n",
       "}\n",
       "</style>\n",
       "<small>shape: (98_415_610, 9)</small><table border=\"1\" class=\"dataframe\"><thead><tr><th>molecule</th><th>bb1</th><th>bb2</th><th>bb3</th><th>BRD4</th><th>HSA</th><th>sEH</th><th>scaffold_idx</th><th>mol_per_scaf</th></tr><tr><td>str</td><td>u16</td><td>u16</td><td>u16</td><td>u8</td><td>u8</td><td>u8</td><td>i64</td><td>u32</td></tr></thead><tbody><tr><td>&quot;C#CCOc1ccc(CNc…</td><td>1640</td><td>1653</td><td>765</td><td>0</td><td>0</td><td>0</td><td>4283326</td><td>843</td></tr><tr><td>&quot;C#CCOc1ccc(CNc…</td><td>1640</td><td>1653</td><td>205</td><td>0</td><td>0</td><td>0</td><td>4486646</td><td>9415</td></tr><tr><td>&quot;C#CCOc1ccc(CNc…</td><td>1640</td><td>1653</td><td>1653</td><td>0</td><td>0</td><td>0</td><td>1015728</td><td>9006</td></tr><tr><td>&quot;C#CCOc1ccc(CNc…</td><td>1640</td><td>1653</td><td>146</td><td>0</td><td>0</td><td>0</td><td>5301385</td><td>26751</td></tr><tr><td>&quot;C#CCOc1ccc(CNc…</td><td>1640</td><td>1653</td><td>439</td><td>0</td><td>0</td><td>0</td><td>5301385</td><td>26751</td></tr><tr><td>&quot;C#CCOc1ccc(CNc…</td><td>1640</td><td>1653</td><td>196</td><td>0</td><td>0</td><td>0</td><td>5301385</td><td>26751</td></tr><tr><td>&quot;C#CCOc1ccc(CNc…</td><td>1640</td><td>1653</td><td>253</td><td>0</td><td>0</td><td>0</td><td>5301385</td><td>26751</td></tr><tr><td>&quot;C#CCOc1ccc(CNc…</td><td>1640</td><td>1653</td><td>1219</td><td>0</td><td>0</td><td>0</td><td>5301385</td><td>26751</td></tr><tr><td>&quot;C#CCOc1ccc(CNc…</td><td>1640</td><td>1653</td><td>604</td><td>0</td><td>0</td><td>0</td><td>543172</td><td>842</td></tr><tr><td>&quot;C#CCOc1ccc(CNc…</td><td>1640</td><td>1653</td><td>121</td><td>0</td><td>0</td><td>0</td><td>2571428</td><td>864</td></tr><tr><td>&hellip;</td><td>&hellip;</td><td>&hellip;</td><td>&hellip;</td><td>&hellip;</td><td>&hellip;</td><td>&hellip;</td><td>&hellip;</td><td>&hellip;</td></tr><tr><td>&quot;[N-]=[N+]=NCCC…</td><td>141</td><td>1415</td><td>536</td><td>0</td><td>0</td><td>0</td><td>4068980</td><td>274</td></tr><tr><td>&quot;[N-]=[N+]=NCCC…</td><td>141</td><td>1415</td><td>1367</td><td>0</td><td>0</td><td>0</td><td>2088996</td><td>20</td></tr><tr><td>&quot;[N-]=[N+]=NCCC…</td><td>141</td><td>1415</td><td>329</td><td>0</td><td>0</td><td>0</td><td>3192765</td><td>260</td></tr><tr><td>&quot;[N-]=[N+]=NCCC…</td><td>141</td><td>1415</td><td>757</td><td>0</td><td>0</td><td>0</td><td>4085046</td><td>20</td></tr><tr><td>&quot;[N-]=[N+]=NCCC…</td><td>141</td><td>1415</td><td>335</td><td>0</td><td>0</td><td>0</td><td>4087757</td><td>20</td></tr><tr><td>&quot;[N-]=[N+]=NCCC…</td><td>141</td><td>1415</td><td>1792</td><td>0</td><td>0</td><td>0</td><td>4674025</td><td>20</td></tr><tr><td>&quot;[N-]=[N+]=NCCC…</td><td>141</td><td>1415</td><td>1178</td><td>0</td><td>0</td><td>0</td><td>5240137</td><td>60</td></tr><tr><td>&quot;[N-]=[N+]=NCCC…</td><td>141</td><td>1415</td><td>1699</td><td>0</td><td>0</td><td>0</td><td>5240137</td><td>60</td></tr><tr><td>&quot;[N-]=[N+]=NCCC…</td><td>141</td><td>1415</td><td>1308</td><td>0</td><td>0</td><td>0</td><td>3617024</td><td>20</td></tr><tr><td>&quot;[N-]=[N+]=NCCC…</td><td>141</td><td>1415</td><td>1415</td><td>0</td><td>0</td><td>0</td><td>268351</td><td>20</td></tr></tbody></table></div>"
      ],
      "text/plain": [
       "shape: (98_415_610, 9)\n",
       "┌────────────────────────────┬──────┬──────┬──────┬──────┬─────┬─────┬──────────────┬──────────────┐\n",
       "│ molecule                   ┆ bb1  ┆ bb2  ┆ bb3  ┆ BRD4 ┆ HSA ┆ sEH ┆ scaffold_idx ┆ mol_per_scaf │\n",
       "│ ---                        ┆ ---  ┆ ---  ┆ ---  ┆ ---  ┆ --- ┆ --- ┆ ---          ┆ ---          │\n",
       "│ str                        ┆ u16  ┆ u16  ┆ u16  ┆ u8   ┆ u8  ┆ u8  ┆ i64          ┆ u32          │\n",
       "╞════════════════════════════╪══════╪══════╪══════╪══════╪═════╪═════╪══════════════╪══════════════╡\n",
       "│ C#CCOc1ccc(CNc2nc(NCC3CCCN ┆ 1640 ┆ 1653 ┆ 765  ┆ 0    ┆ 0   ┆ 0   ┆ 4283326      ┆ 843          │\n",
       "│ 3c3ccc…                    ┆      ┆      ┆      ┆      ┆     ┆     ┆              ┆              │\n",
       "│ C#CCOc1ccc(CNc2nc(NCc3cccc ┆ 1640 ┆ 1653 ┆ 205  ┆ 0    ┆ 0   ┆ 0   ┆ 4486646      ┆ 9415         │\n",
       "│ (Br)n3…                    ┆      ┆      ┆      ┆      ┆     ┆     ┆              ┆              │\n",
       "│ C#CCOc1ccc(CNc2nc(NCc3ccc( ┆ 1640 ┆ 1653 ┆ 1653 ┆ 0    ┆ 0   ┆ 0   ┆ 1015728      ┆ 9006         │\n",
       "│ OCC#C)…                    ┆      ┆      ┆      ┆      ┆     ┆     ┆              ┆              │\n",
       "│ C#CCOc1ccc(CNc2nc(NCCNC(=O ┆ 1640 ┆ 1653 ┆ 146  ┆ 0    ┆ 0   ┆ 0   ┆ 5301385      ┆ 26751        │\n",
       "│ )C(=C)…                    ┆      ┆      ┆      ┆      ┆     ┆     ┆              ┆              │\n",
       "│ C#CCOc1ccc(CNc2nc(NCC(=O)N ┆ 1640 ┆ 1653 ┆ 439  ┆ 0    ┆ 0   ┆ 0   ┆ 5301385      ┆ 26751        │\n",
       "│ CC=C)n…                    ┆      ┆      ┆      ┆      ┆     ┆     ┆              ┆              │\n",
       "│ C#CCOc1ccc(CNc2nc(NCC(C)OC ┆ 1640 ┆ 1653 ┆ 196  ┆ 0    ┆ 0   ┆ 0   ┆ 5301385      ┆ 26751        │\n",
       "│ C=C)nc…                    ┆      ┆      ┆      ┆      ┆     ┆     ┆              ┆              │\n",
       "│ C#CCOc1ccc(CNc2nc(NCCCOCC= ┆ 1640 ┆ 1653 ┆ 253  ┆ 0    ┆ 0   ┆ 0   ┆ 5301385      ┆ 26751        │\n",
       "│ C)nc(N…                    ┆      ┆      ┆      ┆      ┆     ┆     ┆              ┆              │\n",
       "│ C#CCOc1ccc(CNc2nc(NCCOCC=C ┆ 1640 ┆ 1653 ┆ 1219 ┆ 0    ┆ 0   ┆ 0   ┆ 5301385      ┆ 26751        │\n",
       "│ )nc(N[…                    ┆      ┆      ┆      ┆      ┆     ┆     ┆              ┆              │\n",
       "│ C#CCOc1ccc(CNc2nc(Nc3cnn(C ┆ 1640 ┆ 1653 ┆ 604  ┆ 0    ┆ 0   ┆ 0   ┆ 543172       ┆ 842          │\n",
       "│ 4CCN(C…                    ┆      ┆      ┆      ┆      ┆     ┆     ┆              ┆              │\n",
       "│ C#CCOc1ccc(CNc2nc(Nc3n[nH] ┆ 1640 ┆ 1653 ┆ 121  ┆ 0    ┆ 0   ┆ 0   ┆ 2571428      ┆ 864          │\n",
       "│ c4c3CN…                    ┆      ┆      ┆      ┆      ┆     ┆     ┆              ┆              │\n",
       "│ …                          ┆ …    ┆ …    ┆ …    ┆ …    ┆ …   ┆ …   ┆ …            ┆ …            │\n",
       "│ [N-]=[N+]=NCCC[C@H](Nc1nc( ┆ 141  ┆ 1415 ┆ 536  ┆ 0    ┆ 0   ┆ 0   ┆ 4068980      ┆ 274          │\n",
       "│ Nc2ncc…                    ┆      ┆      ┆      ┆      ┆     ┆     ┆              ┆              │\n",
       "│ [N-]=[N+]=NCCC[C@H](Nc1nc( ┆ 141  ┆ 1415 ┆ 1367 ┆ 0    ┆ 0   ┆ 0   ┆ 2088996      ┆ 20           │\n",
       "│ Nc2ncn…                    ┆      ┆      ┆      ┆      ┆     ┆     ┆              ┆              │\n",
       "│ [N-]=[N+]=NCCC[C@H](Nc1nc( ┆ 141  ┆ 1415 ┆ 329  ┆ 0    ┆ 0   ┆ 0   ┆ 3192765      ┆ 260          │\n",
       "│ Nc2ncn…                    ┆      ┆      ┆      ┆      ┆     ┆     ┆              ┆              │\n",
       "│ [N-]=[N+]=NCCC[C@H](Nc1nc( ┆ 141  ┆ 1415 ┆ 757  ┆ 0    ┆ 0   ┆ 0   ┆ 4085046      ┆ 20           │\n",
       "│ Nc2noc…                    ┆      ┆      ┆      ┆      ┆     ┆     ┆              ┆              │\n",
       "│ [N-]=[N+]=NCCC[C@H](Nc1nc( ┆ 141  ┆ 1415 ┆ 335  ┆ 0    ┆ 0   ┆ 0   ┆ 4087757      ┆ 20           │\n",
       "│ Nc2ncn…                    ┆      ┆      ┆      ┆      ┆     ┆     ┆              ┆              │\n",
       "│ [N-]=[N+]=NCCC[C@H](Nc1nc( ┆ 141  ┆ 1415 ┆ 1792 ┆ 0    ┆ 0   ┆ 0   ┆ 4674025      ┆ 20           │\n",
       "│ Nc2noc…                    ┆      ┆      ┆      ┆      ┆     ┆     ┆              ┆              │\n",
       "│ [N-]=[N+]=NCCC[C@H](Nc1nc( ┆ 141  ┆ 1415 ┆ 1178 ┆ 0    ┆ 0   ┆ 0   ┆ 5240137      ┆ 60           │\n",
       "│ Nc2nnc…                    ┆      ┆      ┆      ┆      ┆     ┆     ┆              ┆              │\n",
       "│ [N-]=[N+]=NCCC[C@H](Nc1nc( ┆ 141  ┆ 1415 ┆ 1699 ┆ 0    ┆ 0   ┆ 0   ┆ 5240137      ┆ 60           │\n",
       "│ Nc2nnc…                    ┆      ┆      ┆      ┆      ┆     ┆     ┆              ┆              │\n",
       "│ [N-]=[N+]=NCCC[C@H](Nc1nc( ┆ 141  ┆ 1415 ┆ 1308 ┆ 0    ┆ 0   ┆ 0   ┆ 3617024      ┆ 20           │\n",
       "│ Nc2nnn…                    ┆      ┆      ┆      ┆      ┆     ┆     ┆              ┆              │\n",
       "│ [N-]=[N+]=NCCC[C@H](Nc1nc( ┆ 141  ┆ 1415 ┆ 1415 ┆ 0    ┆ 0   ┆ 0   ┆ 268351       ┆ 20           │\n",
       "│ Nc2noc…                    ┆      ┆      ┆      ┆      ┆     ┆     ┆              ┆              │\n",
       "└────────────────────────────┴──────┴──────┴──────┴──────┴─────┴─────┴──────────────┴──────────────┘"
      ]
     },
     "execution_count": 17,
     "metadata": {},
     "output_type": "execute_result"
    }
   ],
   "source": [
    "train_df"
   ]
  },
  {
   "cell_type": "code",
   "execution_count": null,
   "id": "7c3a14a3",
   "metadata": {},
   "outputs": [],
   "source": []
  },
  {
   "cell_type": "code",
   "execution_count": 18,
   "id": "39e817f1",
   "metadata": {},
   "outputs": [
    {
     "data": {
      "text/html": [
       "<div><style>\n",
       ".dataframe > thead > tr,\n",
       ".dataframe > tbody > tr {\n",
       "  text-align: right;\n",
       "  white-space: pre-wrap;\n",
       "}\n",
       "</style>\n",
       "<small>shape: (98_415_610, 14)</small><table border=\"1\" class=\"dataframe\"><thead><tr><th>molecule</th><th>bb1</th><th>bb2</th><th>bb3</th><th>BRD4</th><th>HSA</th><th>sEH</th><th>scaffold_idx</th><th>mol_per_scaf</th><th>label</th><th>pos_BRD4_mol_per_scaf</th><th>pos_HSA_mol_per_scaf</th><th>pos_sEH_mol_per_scaf</th><th>pos_mol_per_scaf</th></tr><tr><td>str</td><td>u16</td><td>u16</td><td>u16</td><td>u8</td><td>u8</td><td>u8</td><td>i64</td><td>u32</td><td>u8</td><td>i64</td><td>i64</td><td>i64</td><td>i64</td></tr></thead><tbody><tr><td>&quot;C#CCOc1ccc(CNc…</td><td>1640</td><td>1653</td><td>765</td><td>0</td><td>0</td><td>0</td><td>4283326</td><td>843</td><td>0</td><td>41</td><td>3</td><td>1</td><td>45</td></tr><tr><td>&quot;C#CCOc1ccc(CNc…</td><td>1640</td><td>1653</td><td>205</td><td>0</td><td>0</td><td>0</td><td>4486646</td><td>9415</td><td>0</td><td>98</td><td>1</td><td>11</td><td>110</td></tr><tr><td>&quot;C#CCOc1ccc(CNc…</td><td>1640</td><td>1653</td><td>1653</td><td>0</td><td>0</td><td>0</td><td>1015728</td><td>9006</td><td>0</td><td>190</td><td>1</td><td>74</td><td>265</td></tr><tr><td>&quot;C#CCOc1ccc(CNc…</td><td>1640</td><td>1653</td><td>146</td><td>0</td><td>0</td><td>0</td><td>5301385</td><td>26751</td><td>0</td><td>635</td><td>4</td><td>146</td><td>780</td></tr><tr><td>&quot;C#CCOc1ccc(CNc…</td><td>1640</td><td>1653</td><td>439</td><td>0</td><td>0</td><td>0</td><td>5301385</td><td>26751</td><td>0</td><td>635</td><td>4</td><td>146</td><td>780</td></tr><tr><td>&quot;C#CCOc1ccc(CNc…</td><td>1640</td><td>1653</td><td>196</td><td>0</td><td>0</td><td>0</td><td>5301385</td><td>26751</td><td>0</td><td>635</td><td>4</td><td>146</td><td>780</td></tr><tr><td>&quot;C#CCOc1ccc(CNc…</td><td>1640</td><td>1653</td><td>253</td><td>0</td><td>0</td><td>0</td><td>5301385</td><td>26751</td><td>0</td><td>635</td><td>4</td><td>146</td><td>780</td></tr><tr><td>&quot;C#CCOc1ccc(CNc…</td><td>1640</td><td>1653</td><td>1219</td><td>0</td><td>0</td><td>0</td><td>5301385</td><td>26751</td><td>0</td><td>635</td><td>4</td><td>146</td><td>780</td></tr><tr><td>&quot;C#CCOc1ccc(CNc…</td><td>1640</td><td>1653</td><td>604</td><td>0</td><td>0</td><td>0</td><td>543172</td><td>842</td><td>0</td><td>25</td><td>2</td><td>0</td><td>27</td></tr><tr><td>&quot;C#CCOc1ccc(CNc…</td><td>1640</td><td>1653</td><td>121</td><td>0</td><td>0</td><td>0</td><td>2571428</td><td>864</td><td>0</td><td>9</td><td>0</td><td>0</td><td>9</td></tr><tr><td>&hellip;</td><td>&hellip;</td><td>&hellip;</td><td>&hellip;</td><td>&hellip;</td><td>&hellip;</td><td>&hellip;</td><td>&hellip;</td><td>&hellip;</td><td>&hellip;</td><td>&hellip;</td><td>&hellip;</td><td>&hellip;</td><td>&hellip;</td></tr><tr><td>&quot;[N-]=[N+]=NCCC…</td><td>141</td><td>1415</td><td>536</td><td>0</td><td>0</td><td>0</td><td>4068980</td><td>274</td><td>0</td><td>0</td><td>1</td><td>0</td><td>1</td></tr><tr><td>&quot;[N-]=[N+]=NCCC…</td><td>141</td><td>1415</td><td>1367</td><td>0</td><td>0</td><td>0</td><td>2088996</td><td>20</td><td>0</td><td>0</td><td>0</td><td>0</td><td>0</td></tr><tr><td>&quot;[N-]=[N+]=NCCC…</td><td>141</td><td>1415</td><td>329</td><td>0</td><td>0</td><td>0</td><td>3192765</td><td>260</td><td>0</td><td>0</td><td>1</td><td>0</td><td>1</td></tr><tr><td>&quot;[N-]=[N+]=NCCC…</td><td>141</td><td>1415</td><td>757</td><td>0</td><td>0</td><td>0</td><td>4085046</td><td>20</td><td>0</td><td>0</td><td>0</td><td>0</td><td>0</td></tr><tr><td>&quot;[N-]=[N+]=NCCC…</td><td>141</td><td>1415</td><td>335</td><td>0</td><td>0</td><td>0</td><td>4087757</td><td>20</td><td>0</td><td>0</td><td>0</td><td>0</td><td>0</td></tr><tr><td>&quot;[N-]=[N+]=NCCC…</td><td>141</td><td>1415</td><td>1792</td><td>0</td><td>0</td><td>0</td><td>4674025</td><td>20</td><td>0</td><td>0</td><td>0</td><td>0</td><td>0</td></tr><tr><td>&quot;[N-]=[N+]=NCCC…</td><td>141</td><td>1415</td><td>1178</td><td>0</td><td>0</td><td>0</td><td>5240137</td><td>60</td><td>0</td><td>0</td><td>0</td><td>0</td><td>0</td></tr><tr><td>&quot;[N-]=[N+]=NCCC…</td><td>141</td><td>1415</td><td>1699</td><td>0</td><td>0</td><td>0</td><td>5240137</td><td>60</td><td>0</td><td>0</td><td>0</td><td>0</td><td>0</td></tr><tr><td>&quot;[N-]=[N+]=NCCC…</td><td>141</td><td>1415</td><td>1308</td><td>0</td><td>0</td><td>0</td><td>3617024</td><td>20</td><td>0</td><td>0</td><td>0</td><td>0</td><td>0</td></tr><tr><td>&quot;[N-]=[N+]=NCCC…</td><td>141</td><td>1415</td><td>1415</td><td>0</td><td>0</td><td>0</td><td>268351</td><td>20</td><td>0</td><td>0</td><td>0</td><td>0</td><td>0</td></tr></tbody></table></div>"
      ],
      "text/plain": [
       "shape: (98_415_610, 14)\n",
       "┌─────┬─────┬─────┬─────┬─────┬─────┬─────┬────────┬───────┬───────┬───────┬───────┬───────┬───────┐\n",
       "│ mol ┆ bb1 ┆ bb2 ┆ bb3 ┆ BRD ┆ HSA ┆ sEH ┆ scaffo ┆ mol_p ┆ label ┆ pos_B ┆ pos_H ┆ pos_s ┆ pos_m │\n",
       "│ ecu ┆ --- ┆ --- ┆ --- ┆ 4   ┆ --- ┆ --- ┆ ld_idx ┆ er_sc ┆ ---   ┆ RD4_m ┆ SA_mo ┆ EH_mo ┆ ol_pe │\n",
       "│ le  ┆ u16 ┆ u16 ┆ u16 ┆ --- ┆ u8  ┆ u8  ┆ ---    ┆ af    ┆ u8    ┆ ol_pe ┆ l_per ┆ l_per ┆ r_sca │\n",
       "│ --- ┆     ┆     ┆     ┆ u8  ┆     ┆     ┆ i64    ┆ ---   ┆       ┆ r_sca ┆ _scaf ┆ _scaf ┆ f     │\n",
       "│ str ┆     ┆     ┆     ┆     ┆     ┆     ┆        ┆ u32   ┆       ┆ f     ┆ ---   ┆ ---   ┆ ---   │\n",
       "│     ┆     ┆     ┆     ┆     ┆     ┆     ┆        ┆       ┆       ┆ ---   ┆ i64   ┆ i64   ┆ i64   │\n",
       "│     ┆     ┆     ┆     ┆     ┆     ┆     ┆        ┆       ┆       ┆ i64   ┆       ┆       ┆       │\n",
       "╞═════╪═════╪═════╪═════╪═════╪═════╪═════╪════════╪═══════╪═══════╪═══════╪═══════╪═══════╪═══════╡\n",
       "│ C#C ┆ 164 ┆ 165 ┆ 765 ┆ 0   ┆ 0   ┆ 0   ┆ 428332 ┆ 843   ┆ 0     ┆ 41    ┆ 3     ┆ 1     ┆ 45    │\n",
       "│ COc ┆ 0   ┆ 3   ┆     ┆     ┆     ┆     ┆ 6      ┆       ┆       ┆       ┆       ┆       ┆       │\n",
       "│ 1cc ┆     ┆     ┆     ┆     ┆     ┆     ┆        ┆       ┆       ┆       ┆       ┆       ┆       │\n",
       "│ c(C ┆     ┆     ┆     ┆     ┆     ┆     ┆        ┆       ┆       ┆       ┆       ┆       ┆       │\n",
       "│ Nc2 ┆     ┆     ┆     ┆     ┆     ┆     ┆        ┆       ┆       ┆       ┆       ┆       ┆       │\n",
       "│ nc( ┆     ┆     ┆     ┆     ┆     ┆     ┆        ┆       ┆       ┆       ┆       ┆       ┆       │\n",
       "│ NCC ┆     ┆     ┆     ┆     ┆     ┆     ┆        ┆       ┆       ┆       ┆       ┆       ┆       │\n",
       "│ 3CC ┆     ┆     ┆     ┆     ┆     ┆     ┆        ┆       ┆       ┆       ┆       ┆       ┆       │\n",
       "│ CN3 ┆     ┆     ┆     ┆     ┆     ┆     ┆        ┆       ┆       ┆       ┆       ┆       ┆       │\n",
       "│ c3c ┆     ┆     ┆     ┆     ┆     ┆     ┆        ┆       ┆       ┆       ┆       ┆       ┆       │\n",
       "│ cc… ┆     ┆     ┆     ┆     ┆     ┆     ┆        ┆       ┆       ┆       ┆       ┆       ┆       │\n",
       "│ C#C ┆ 164 ┆ 165 ┆ 205 ┆ 0   ┆ 0   ┆ 0   ┆ 448664 ┆ 9415  ┆ 0     ┆ 98    ┆ 1     ┆ 11    ┆ 110   │\n",
       "│ COc ┆ 0   ┆ 3   ┆     ┆     ┆     ┆     ┆ 6      ┆       ┆       ┆       ┆       ┆       ┆       │\n",
       "│ 1cc ┆     ┆     ┆     ┆     ┆     ┆     ┆        ┆       ┆       ┆       ┆       ┆       ┆       │\n",
       "│ c(C ┆     ┆     ┆     ┆     ┆     ┆     ┆        ┆       ┆       ┆       ┆       ┆       ┆       │\n",
       "│ Nc2 ┆     ┆     ┆     ┆     ┆     ┆     ┆        ┆       ┆       ┆       ┆       ┆       ┆       │\n",
       "│ nc( ┆     ┆     ┆     ┆     ┆     ┆     ┆        ┆       ┆       ┆       ┆       ┆       ┆       │\n",
       "│ NCc ┆     ┆     ┆     ┆     ┆     ┆     ┆        ┆       ┆       ┆       ┆       ┆       ┆       │\n",
       "│ 3cc ┆     ┆     ┆     ┆     ┆     ┆     ┆        ┆       ┆       ┆       ┆       ┆       ┆       │\n",
       "│ cc( ┆     ┆     ┆     ┆     ┆     ┆     ┆        ┆       ┆       ┆       ┆       ┆       ┆       │\n",
       "│ Br) ┆     ┆     ┆     ┆     ┆     ┆     ┆        ┆       ┆       ┆       ┆       ┆       ┆       │\n",
       "│ n3… ┆     ┆     ┆     ┆     ┆     ┆     ┆        ┆       ┆       ┆       ┆       ┆       ┆       │\n",
       "│ C#C ┆ 164 ┆ 165 ┆ 165 ┆ 0   ┆ 0   ┆ 0   ┆ 101572 ┆ 9006  ┆ 0     ┆ 190   ┆ 1     ┆ 74    ┆ 265   │\n",
       "│ COc ┆ 0   ┆ 3   ┆ 3   ┆     ┆     ┆     ┆ 8      ┆       ┆       ┆       ┆       ┆       ┆       │\n",
       "│ 1cc ┆     ┆     ┆     ┆     ┆     ┆     ┆        ┆       ┆       ┆       ┆       ┆       ┆       │\n",
       "│ c(C ┆     ┆     ┆     ┆     ┆     ┆     ┆        ┆       ┆       ┆       ┆       ┆       ┆       │\n",
       "│ Nc2 ┆     ┆     ┆     ┆     ┆     ┆     ┆        ┆       ┆       ┆       ┆       ┆       ┆       │\n",
       "│ nc( ┆     ┆     ┆     ┆     ┆     ┆     ┆        ┆       ┆       ┆       ┆       ┆       ┆       │\n",
       "│ NCc ┆     ┆     ┆     ┆     ┆     ┆     ┆        ┆       ┆       ┆       ┆       ┆       ┆       │\n",
       "│ 3cc ┆     ┆     ┆     ┆     ┆     ┆     ┆        ┆       ┆       ┆       ┆       ┆       ┆       │\n",
       "│ c(O ┆     ┆     ┆     ┆     ┆     ┆     ┆        ┆       ┆       ┆       ┆       ┆       ┆       │\n",
       "│ CC# ┆     ┆     ┆     ┆     ┆     ┆     ┆        ┆       ┆       ┆       ┆       ┆       ┆       │\n",
       "│ C)… ┆     ┆     ┆     ┆     ┆     ┆     ┆        ┆       ┆       ┆       ┆       ┆       ┆       │\n",
       "│ C#C ┆ 164 ┆ 165 ┆ 146 ┆ 0   ┆ 0   ┆ 0   ┆ 530138 ┆ 26751 ┆ 0     ┆ 635   ┆ 4     ┆ 146   ┆ 780   │\n",
       "│ COc ┆ 0   ┆ 3   ┆     ┆     ┆     ┆     ┆ 5      ┆       ┆       ┆       ┆       ┆       ┆       │\n",
       "│ 1cc ┆     ┆     ┆     ┆     ┆     ┆     ┆        ┆       ┆       ┆       ┆       ┆       ┆       │\n",
       "│ c(C ┆     ┆     ┆     ┆     ┆     ┆     ┆        ┆       ┆       ┆       ┆       ┆       ┆       │\n",
       "│ Nc2 ┆     ┆     ┆     ┆     ┆     ┆     ┆        ┆       ┆       ┆       ┆       ┆       ┆       │\n",
       "│ nc( ┆     ┆     ┆     ┆     ┆     ┆     ┆        ┆       ┆       ┆       ┆       ┆       ┆       │\n",
       "│ NCC ┆     ┆     ┆     ┆     ┆     ┆     ┆        ┆       ┆       ┆       ┆       ┆       ┆       │\n",
       "│ NC( ┆     ┆     ┆     ┆     ┆     ┆     ┆        ┆       ┆       ┆       ┆       ┆       ┆       │\n",
       "│ =O) ┆     ┆     ┆     ┆     ┆     ┆     ┆        ┆       ┆       ┆       ┆       ┆       ┆       │\n",
       "│ C(= ┆     ┆     ┆     ┆     ┆     ┆     ┆        ┆       ┆       ┆       ┆       ┆       ┆       │\n",
       "│ C)… ┆     ┆     ┆     ┆     ┆     ┆     ┆        ┆       ┆       ┆       ┆       ┆       ┆       │\n",
       "│ C#C ┆ 164 ┆ 165 ┆ 439 ┆ 0   ┆ 0   ┆ 0   ┆ 530138 ┆ 26751 ┆ 0     ┆ 635   ┆ 4     ┆ 146   ┆ 780   │\n",
       "│ COc ┆ 0   ┆ 3   ┆     ┆     ┆     ┆     ┆ 5      ┆       ┆       ┆       ┆       ┆       ┆       │\n",
       "│ 1cc ┆     ┆     ┆     ┆     ┆     ┆     ┆        ┆       ┆       ┆       ┆       ┆       ┆       │\n",
       "│ c(C ┆     ┆     ┆     ┆     ┆     ┆     ┆        ┆       ┆       ┆       ┆       ┆       ┆       │\n",
       "│ Nc2 ┆     ┆     ┆     ┆     ┆     ┆     ┆        ┆       ┆       ┆       ┆       ┆       ┆       │\n",
       "│ nc( ┆     ┆     ┆     ┆     ┆     ┆     ┆        ┆       ┆       ┆       ┆       ┆       ┆       │\n",
       "│ NCC ┆     ┆     ┆     ┆     ┆     ┆     ┆        ┆       ┆       ┆       ┆       ┆       ┆       │\n",
       "│ (=O ┆     ┆     ┆     ┆     ┆     ┆     ┆        ┆       ┆       ┆       ┆       ┆       ┆       │\n",
       "│ )NC ┆     ┆     ┆     ┆     ┆     ┆     ┆        ┆       ┆       ┆       ┆       ┆       ┆       │\n",
       "│ C=C ┆     ┆     ┆     ┆     ┆     ┆     ┆        ┆       ┆       ┆       ┆       ┆       ┆       │\n",
       "│ )n… ┆     ┆     ┆     ┆     ┆     ┆     ┆        ┆       ┆       ┆       ┆       ┆       ┆       │\n",
       "│ C#C ┆ 164 ┆ 165 ┆ 196 ┆ 0   ┆ 0   ┆ 0   ┆ 530138 ┆ 26751 ┆ 0     ┆ 635   ┆ 4     ┆ 146   ┆ 780   │\n",
       "│ COc ┆ 0   ┆ 3   ┆     ┆     ┆     ┆     ┆ 5      ┆       ┆       ┆       ┆       ┆       ┆       │\n",
       "│ 1cc ┆     ┆     ┆     ┆     ┆     ┆     ┆        ┆       ┆       ┆       ┆       ┆       ┆       │\n",
       "│ c(C ┆     ┆     ┆     ┆     ┆     ┆     ┆        ┆       ┆       ┆       ┆       ┆       ┆       │\n",
       "│ Nc2 ┆     ┆     ┆     ┆     ┆     ┆     ┆        ┆       ┆       ┆       ┆       ┆       ┆       │\n",
       "│ nc( ┆     ┆     ┆     ┆     ┆     ┆     ┆        ┆       ┆       ┆       ┆       ┆       ┆       │\n",
       "│ NCC ┆     ┆     ┆     ┆     ┆     ┆     ┆        ┆       ┆       ┆       ┆       ┆       ┆       │\n",
       "│ (C) ┆     ┆     ┆     ┆     ┆     ┆     ┆        ┆       ┆       ┆       ┆       ┆       ┆       │\n",
       "│ OCC ┆     ┆     ┆     ┆     ┆     ┆     ┆        ┆       ┆       ┆       ┆       ┆       ┆       │\n",
       "│ =C) ┆     ┆     ┆     ┆     ┆     ┆     ┆        ┆       ┆       ┆       ┆       ┆       ┆       │\n",
       "│ nc… ┆     ┆     ┆     ┆     ┆     ┆     ┆        ┆       ┆       ┆       ┆       ┆       ┆       │\n",
       "│ C#C ┆ 164 ┆ 165 ┆ 253 ┆ 0   ┆ 0   ┆ 0   ┆ 530138 ┆ 26751 ┆ 0     ┆ 635   ┆ 4     ┆ 146   ┆ 780   │\n",
       "│ COc ┆ 0   ┆ 3   ┆     ┆     ┆     ┆     ┆ 5      ┆       ┆       ┆       ┆       ┆       ┆       │\n",
       "│ 1cc ┆     ┆     ┆     ┆     ┆     ┆     ┆        ┆       ┆       ┆       ┆       ┆       ┆       │\n",
       "│ c(C ┆     ┆     ┆     ┆     ┆     ┆     ┆        ┆       ┆       ┆       ┆       ┆       ┆       │\n",
       "│ Nc2 ┆     ┆     ┆     ┆     ┆     ┆     ┆        ┆       ┆       ┆       ┆       ┆       ┆       │\n",
       "│ nc( ┆     ┆     ┆     ┆     ┆     ┆     ┆        ┆       ┆       ┆       ┆       ┆       ┆       │\n",
       "│ NCC ┆     ┆     ┆     ┆     ┆     ┆     ┆        ┆       ┆       ┆       ┆       ┆       ┆       │\n",
       "│ COC ┆     ┆     ┆     ┆     ┆     ┆     ┆        ┆       ┆       ┆       ┆       ┆       ┆       │\n",
       "│ C=C ┆     ┆     ┆     ┆     ┆     ┆     ┆        ┆       ┆       ┆       ┆       ┆       ┆       │\n",
       "│ )nc ┆     ┆     ┆     ┆     ┆     ┆     ┆        ┆       ┆       ┆       ┆       ┆       ┆       │\n",
       "│ (N… ┆     ┆     ┆     ┆     ┆     ┆     ┆        ┆       ┆       ┆       ┆       ┆       ┆       │\n",
       "│ C#C ┆ 164 ┆ 165 ┆ 121 ┆ 0   ┆ 0   ┆ 0   ┆ 530138 ┆ 26751 ┆ 0     ┆ 635   ┆ 4     ┆ 146   ┆ 780   │\n",
       "│ COc ┆ 0   ┆ 3   ┆ 9   ┆     ┆     ┆     ┆ 5      ┆       ┆       ┆       ┆       ┆       ┆       │\n",
       "│ 1cc ┆     ┆     ┆     ┆     ┆     ┆     ┆        ┆       ┆       ┆       ┆       ┆       ┆       │\n",
       "│ c(C ┆     ┆     ┆     ┆     ┆     ┆     ┆        ┆       ┆       ┆       ┆       ┆       ┆       │\n",
       "│ Nc2 ┆     ┆     ┆     ┆     ┆     ┆     ┆        ┆       ┆       ┆       ┆       ┆       ┆       │\n",
       "│ nc( ┆     ┆     ┆     ┆     ┆     ┆     ┆        ┆       ┆       ┆       ┆       ┆       ┆       │\n",
       "│ NCC ┆     ┆     ┆     ┆     ┆     ┆     ┆        ┆       ┆       ┆       ┆       ┆       ┆       │\n",
       "│ OCC ┆     ┆     ┆     ┆     ┆     ┆     ┆        ┆       ┆       ┆       ┆       ┆       ┆       │\n",
       "│ =C) ┆     ┆     ┆     ┆     ┆     ┆     ┆        ┆       ┆       ┆       ┆       ┆       ┆       │\n",
       "│ nc( ┆     ┆     ┆     ┆     ┆     ┆     ┆        ┆       ┆       ┆       ┆       ┆       ┆       │\n",
       "│ N[… ┆     ┆     ┆     ┆     ┆     ┆     ┆        ┆       ┆       ┆       ┆       ┆       ┆       │\n",
       "│ C#C ┆ 164 ┆ 165 ┆ 604 ┆ 0   ┆ 0   ┆ 0   ┆ 543172 ┆ 842   ┆ 0     ┆ 25    ┆ 2     ┆ 0     ┆ 27    │\n",
       "│ COc ┆ 0   ┆ 3   ┆     ┆     ┆     ┆     ┆        ┆       ┆       ┆       ┆       ┆       ┆       │\n",
       "│ 1cc ┆     ┆     ┆     ┆     ┆     ┆     ┆        ┆       ┆       ┆       ┆       ┆       ┆       │\n",
       "│ c(C ┆     ┆     ┆     ┆     ┆     ┆     ┆        ┆       ┆       ┆       ┆       ┆       ┆       │\n",
       "│ Nc2 ┆     ┆     ┆     ┆     ┆     ┆     ┆        ┆       ┆       ┆       ┆       ┆       ┆       │\n",
       "│ nc( ┆     ┆     ┆     ┆     ┆     ┆     ┆        ┆       ┆       ┆       ┆       ┆       ┆       │\n",
       "│ Nc3 ┆     ┆     ┆     ┆     ┆     ┆     ┆        ┆       ┆       ┆       ┆       ┆       ┆       │\n",
       "│ cnn ┆     ┆     ┆     ┆     ┆     ┆     ┆        ┆       ┆       ┆       ┆       ┆       ┆       │\n",
       "│ (C4 ┆     ┆     ┆     ┆     ┆     ┆     ┆        ┆       ┆       ┆       ┆       ┆       ┆       │\n",
       "│ CCN ┆     ┆     ┆     ┆     ┆     ┆     ┆        ┆       ┆       ┆       ┆       ┆       ┆       │\n",
       "│ (C… ┆     ┆     ┆     ┆     ┆     ┆     ┆        ┆       ┆       ┆       ┆       ┆       ┆       │\n",
       "│ C#C ┆ 164 ┆ 165 ┆ 121 ┆ 0   ┆ 0   ┆ 0   ┆ 257142 ┆ 864   ┆ 0     ┆ 9     ┆ 0     ┆ 0     ┆ 9     │\n",
       "│ COc ┆ 0   ┆ 3   ┆     ┆     ┆     ┆     ┆ 8      ┆       ┆       ┆       ┆       ┆       ┆       │\n",
       "│ 1cc ┆     ┆     ┆     ┆     ┆     ┆     ┆        ┆       ┆       ┆       ┆       ┆       ┆       │\n",
       "│ c(C ┆     ┆     ┆     ┆     ┆     ┆     ┆        ┆       ┆       ┆       ┆       ┆       ┆       │\n",
       "│ Nc2 ┆     ┆     ┆     ┆     ┆     ┆     ┆        ┆       ┆       ┆       ┆       ┆       ┆       │\n",
       "│ nc( ┆     ┆     ┆     ┆     ┆     ┆     ┆        ┆       ┆       ┆       ┆       ┆       ┆       │\n",
       "│ Nc3 ┆     ┆     ┆     ┆     ┆     ┆     ┆        ┆       ┆       ┆       ┆       ┆       ┆       │\n",
       "│ n[n ┆     ┆     ┆     ┆     ┆     ┆     ┆        ┆       ┆       ┆       ┆       ┆       ┆       │\n",
       "│ H]c ┆     ┆     ┆     ┆     ┆     ┆     ┆        ┆       ┆       ┆       ┆       ┆       ┆       │\n",
       "│ 4c3 ┆     ┆     ┆     ┆     ┆     ┆     ┆        ┆       ┆       ┆       ┆       ┆       ┆       │\n",
       "│ CN… ┆     ┆     ┆     ┆     ┆     ┆     ┆        ┆       ┆       ┆       ┆       ┆       ┆       │\n",
       "│ …   ┆ …   ┆ …   ┆ …   ┆ …   ┆ …   ┆ …   ┆ …      ┆ …     ┆ …     ┆ …     ┆ …     ┆ …     ┆ …     │\n",
       "│ [N- ┆ 141 ┆ 141 ┆ 536 ┆ 0   ┆ 0   ┆ 0   ┆ 406898 ┆ 274   ┆ 0     ┆ 0     ┆ 1     ┆ 0     ┆ 1     │\n",
       "│ ]=[ ┆     ┆ 5   ┆     ┆     ┆     ┆     ┆ 0      ┆       ┆       ┆       ┆       ┆       ┆       │\n",
       "│ N+] ┆     ┆     ┆     ┆     ┆     ┆     ┆        ┆       ┆       ┆       ┆       ┆       ┆       │\n",
       "│ =NC ┆     ┆     ┆     ┆     ┆     ┆     ┆        ┆       ┆       ┆       ┆       ┆       ┆       │\n",
       "│ CC[ ┆     ┆     ┆     ┆     ┆     ┆     ┆        ┆       ┆       ┆       ┆       ┆       ┆       │\n",
       "│ C@H ┆     ┆     ┆     ┆     ┆     ┆     ┆        ┆       ┆       ┆       ┆       ┆       ┆       │\n",
       "│ ](N ┆     ┆     ┆     ┆     ┆     ┆     ┆        ┆       ┆       ┆       ┆       ┆       ┆       │\n",
       "│ c1n ┆     ┆     ┆     ┆     ┆     ┆     ┆        ┆       ┆       ┆       ┆       ┆       ┆       │\n",
       "│ c(N ┆     ┆     ┆     ┆     ┆     ┆     ┆        ┆       ┆       ┆       ┆       ┆       ┆       │\n",
       "│ c2n ┆     ┆     ┆     ┆     ┆     ┆     ┆        ┆       ┆       ┆       ┆       ┆       ┆       │\n",
       "│ cc… ┆     ┆     ┆     ┆     ┆     ┆     ┆        ┆       ┆       ┆       ┆       ┆       ┆       │\n",
       "│ [N- ┆ 141 ┆ 141 ┆ 136 ┆ 0   ┆ 0   ┆ 0   ┆ 208899 ┆ 20    ┆ 0     ┆ 0     ┆ 0     ┆ 0     ┆ 0     │\n",
       "│ ]=[ ┆     ┆ 5   ┆ 7   ┆     ┆     ┆     ┆ 6      ┆       ┆       ┆       ┆       ┆       ┆       │\n",
       "│ N+] ┆     ┆     ┆     ┆     ┆     ┆     ┆        ┆       ┆       ┆       ┆       ┆       ┆       │\n",
       "│ =NC ┆     ┆     ┆     ┆     ┆     ┆     ┆        ┆       ┆       ┆       ┆       ┆       ┆       │\n",
       "│ CC[ ┆     ┆     ┆     ┆     ┆     ┆     ┆        ┆       ┆       ┆       ┆       ┆       ┆       │\n",
       "│ C@H ┆     ┆     ┆     ┆     ┆     ┆     ┆        ┆       ┆       ┆       ┆       ┆       ┆       │\n",
       "│ ](N ┆     ┆     ┆     ┆     ┆     ┆     ┆        ┆       ┆       ┆       ┆       ┆       ┆       │\n",
       "│ c1n ┆     ┆     ┆     ┆     ┆     ┆     ┆        ┆       ┆       ┆       ┆       ┆       ┆       │\n",
       "│ c(N ┆     ┆     ┆     ┆     ┆     ┆     ┆        ┆       ┆       ┆       ┆       ┆       ┆       │\n",
       "│ c2n ┆     ┆     ┆     ┆     ┆     ┆     ┆        ┆       ┆       ┆       ┆       ┆       ┆       │\n",
       "│ cn… ┆     ┆     ┆     ┆     ┆     ┆     ┆        ┆       ┆       ┆       ┆       ┆       ┆       │\n",
       "│ [N- ┆ 141 ┆ 141 ┆ 329 ┆ 0   ┆ 0   ┆ 0   ┆ 319276 ┆ 260   ┆ 0     ┆ 0     ┆ 1     ┆ 0     ┆ 1     │\n",
       "│ ]=[ ┆     ┆ 5   ┆     ┆     ┆     ┆     ┆ 5      ┆       ┆       ┆       ┆       ┆       ┆       │\n",
       "│ N+] ┆     ┆     ┆     ┆     ┆     ┆     ┆        ┆       ┆       ┆       ┆       ┆       ┆       │\n",
       "│ =NC ┆     ┆     ┆     ┆     ┆     ┆     ┆        ┆       ┆       ┆       ┆       ┆       ┆       │\n",
       "│ CC[ ┆     ┆     ┆     ┆     ┆     ┆     ┆        ┆       ┆       ┆       ┆       ┆       ┆       │\n",
       "│ C@H ┆     ┆     ┆     ┆     ┆     ┆     ┆        ┆       ┆       ┆       ┆       ┆       ┆       │\n",
       "│ ](N ┆     ┆     ┆     ┆     ┆     ┆     ┆        ┆       ┆       ┆       ┆       ┆       ┆       │\n",
       "│ c1n ┆     ┆     ┆     ┆     ┆     ┆     ┆        ┆       ┆       ┆       ┆       ┆       ┆       │\n",
       "│ c(N ┆     ┆     ┆     ┆     ┆     ┆     ┆        ┆       ┆       ┆       ┆       ┆       ┆       │\n",
       "│ c2n ┆     ┆     ┆     ┆     ┆     ┆     ┆        ┆       ┆       ┆       ┆       ┆       ┆       │\n",
       "│ cn… ┆     ┆     ┆     ┆     ┆     ┆     ┆        ┆       ┆       ┆       ┆       ┆       ┆       │\n",
       "│ [N- ┆ 141 ┆ 141 ┆ 757 ┆ 0   ┆ 0   ┆ 0   ┆ 408504 ┆ 20    ┆ 0     ┆ 0     ┆ 0     ┆ 0     ┆ 0     │\n",
       "│ ]=[ ┆     ┆ 5   ┆     ┆     ┆     ┆     ┆ 6      ┆       ┆       ┆       ┆       ┆       ┆       │\n",
       "│ N+] ┆     ┆     ┆     ┆     ┆     ┆     ┆        ┆       ┆       ┆       ┆       ┆       ┆       │\n",
       "│ =NC ┆     ┆     ┆     ┆     ┆     ┆     ┆        ┆       ┆       ┆       ┆       ┆       ┆       │\n",
       "│ CC[ ┆     ┆     ┆     ┆     ┆     ┆     ┆        ┆       ┆       ┆       ┆       ┆       ┆       │\n",
       "│ C@H ┆     ┆     ┆     ┆     ┆     ┆     ┆        ┆       ┆       ┆       ┆       ┆       ┆       │\n",
       "│ ](N ┆     ┆     ┆     ┆     ┆     ┆     ┆        ┆       ┆       ┆       ┆       ┆       ┆       │\n",
       "│ c1n ┆     ┆     ┆     ┆     ┆     ┆     ┆        ┆       ┆       ┆       ┆       ┆       ┆       │\n",
       "│ c(N ┆     ┆     ┆     ┆     ┆     ┆     ┆        ┆       ┆       ┆       ┆       ┆       ┆       │\n",
       "│ c2n ┆     ┆     ┆     ┆     ┆     ┆     ┆        ┆       ┆       ┆       ┆       ┆       ┆       │\n",
       "│ oc… ┆     ┆     ┆     ┆     ┆     ┆     ┆        ┆       ┆       ┆       ┆       ┆       ┆       │\n",
       "│ [N- ┆ 141 ┆ 141 ┆ 335 ┆ 0   ┆ 0   ┆ 0   ┆ 408775 ┆ 20    ┆ 0     ┆ 0     ┆ 0     ┆ 0     ┆ 0     │\n",
       "│ ]=[ ┆     ┆ 5   ┆     ┆     ┆     ┆     ┆ 7      ┆       ┆       ┆       ┆       ┆       ┆       │\n",
       "│ N+] ┆     ┆     ┆     ┆     ┆     ┆     ┆        ┆       ┆       ┆       ┆       ┆       ┆       │\n",
       "│ =NC ┆     ┆     ┆     ┆     ┆     ┆     ┆        ┆       ┆       ┆       ┆       ┆       ┆       │\n",
       "│ CC[ ┆     ┆     ┆     ┆     ┆     ┆     ┆        ┆       ┆       ┆       ┆       ┆       ┆       │\n",
       "│ C@H ┆     ┆     ┆     ┆     ┆     ┆     ┆        ┆       ┆       ┆       ┆       ┆       ┆       │\n",
       "│ ](N ┆     ┆     ┆     ┆     ┆     ┆     ┆        ┆       ┆       ┆       ┆       ┆       ┆       │\n",
       "│ c1n ┆     ┆     ┆     ┆     ┆     ┆     ┆        ┆       ┆       ┆       ┆       ┆       ┆       │\n",
       "│ c(N ┆     ┆     ┆     ┆     ┆     ┆     ┆        ┆       ┆       ┆       ┆       ┆       ┆       │\n",
       "│ c2n ┆     ┆     ┆     ┆     ┆     ┆     ┆        ┆       ┆       ┆       ┆       ┆       ┆       │\n",
       "│ cn… ┆     ┆     ┆     ┆     ┆     ┆     ┆        ┆       ┆       ┆       ┆       ┆       ┆       │\n",
       "│ [N- ┆ 141 ┆ 141 ┆ 179 ┆ 0   ┆ 0   ┆ 0   ┆ 467402 ┆ 20    ┆ 0     ┆ 0     ┆ 0     ┆ 0     ┆ 0     │\n",
       "│ ]=[ ┆     ┆ 5   ┆ 2   ┆     ┆     ┆     ┆ 5      ┆       ┆       ┆       ┆       ┆       ┆       │\n",
       "│ N+] ┆     ┆     ┆     ┆     ┆     ┆     ┆        ┆       ┆       ┆       ┆       ┆       ┆       │\n",
       "│ =NC ┆     ┆     ┆     ┆     ┆     ┆     ┆        ┆       ┆       ┆       ┆       ┆       ┆       │\n",
       "│ CC[ ┆     ┆     ┆     ┆     ┆     ┆     ┆        ┆       ┆       ┆       ┆       ┆       ┆       │\n",
       "│ C@H ┆     ┆     ┆     ┆     ┆     ┆     ┆        ┆       ┆       ┆       ┆       ┆       ┆       │\n",
       "│ ](N ┆     ┆     ┆     ┆     ┆     ┆     ┆        ┆       ┆       ┆       ┆       ┆       ┆       │\n",
       "│ c1n ┆     ┆     ┆     ┆     ┆     ┆     ┆        ┆       ┆       ┆       ┆       ┆       ┆       │\n",
       "│ c(N ┆     ┆     ┆     ┆     ┆     ┆     ┆        ┆       ┆       ┆       ┆       ┆       ┆       │\n",
       "│ c2n ┆     ┆     ┆     ┆     ┆     ┆     ┆        ┆       ┆       ┆       ┆       ┆       ┆       │\n",
       "│ oc… ┆     ┆     ┆     ┆     ┆     ┆     ┆        ┆       ┆       ┆       ┆       ┆       ┆       │\n",
       "│ [N- ┆ 141 ┆ 141 ┆ 117 ┆ 0   ┆ 0   ┆ 0   ┆ 524013 ┆ 60    ┆ 0     ┆ 0     ┆ 0     ┆ 0     ┆ 0     │\n",
       "│ ]=[ ┆     ┆ 5   ┆ 8   ┆     ┆     ┆     ┆ 7      ┆       ┆       ┆       ┆       ┆       ┆       │\n",
       "│ N+] ┆     ┆     ┆     ┆     ┆     ┆     ┆        ┆       ┆       ┆       ┆       ┆       ┆       │\n",
       "│ =NC ┆     ┆     ┆     ┆     ┆     ┆     ┆        ┆       ┆       ┆       ┆       ┆       ┆       │\n",
       "│ CC[ ┆     ┆     ┆     ┆     ┆     ┆     ┆        ┆       ┆       ┆       ┆       ┆       ┆       │\n",
       "│ C@H ┆     ┆     ┆     ┆     ┆     ┆     ┆        ┆       ┆       ┆       ┆       ┆       ┆       │\n",
       "│ ](N ┆     ┆     ┆     ┆     ┆     ┆     ┆        ┆       ┆       ┆       ┆       ┆       ┆       │\n",
       "│ c1n ┆     ┆     ┆     ┆     ┆     ┆     ┆        ┆       ┆       ┆       ┆       ┆       ┆       │\n",
       "│ c(N ┆     ┆     ┆     ┆     ┆     ┆     ┆        ┆       ┆       ┆       ┆       ┆       ┆       │\n",
       "│ c2n ┆     ┆     ┆     ┆     ┆     ┆     ┆        ┆       ┆       ┆       ┆       ┆       ┆       │\n",
       "│ nc… ┆     ┆     ┆     ┆     ┆     ┆     ┆        ┆       ┆       ┆       ┆       ┆       ┆       │\n",
       "│ [N- ┆ 141 ┆ 141 ┆ 169 ┆ 0   ┆ 0   ┆ 0   ┆ 524013 ┆ 60    ┆ 0     ┆ 0     ┆ 0     ┆ 0     ┆ 0     │\n",
       "│ ]=[ ┆     ┆ 5   ┆ 9   ┆     ┆     ┆     ┆ 7      ┆       ┆       ┆       ┆       ┆       ┆       │\n",
       "│ N+] ┆     ┆     ┆     ┆     ┆     ┆     ┆        ┆       ┆       ┆       ┆       ┆       ┆       │\n",
       "│ =NC ┆     ┆     ┆     ┆     ┆     ┆     ┆        ┆       ┆       ┆       ┆       ┆       ┆       │\n",
       "│ CC[ ┆     ┆     ┆     ┆     ┆     ┆     ┆        ┆       ┆       ┆       ┆       ┆       ┆       │\n",
       "│ C@H ┆     ┆     ┆     ┆     ┆     ┆     ┆        ┆       ┆       ┆       ┆       ┆       ┆       │\n",
       "│ ](N ┆     ┆     ┆     ┆     ┆     ┆     ┆        ┆       ┆       ┆       ┆       ┆       ┆       │\n",
       "│ c1n ┆     ┆     ┆     ┆     ┆     ┆     ┆        ┆       ┆       ┆       ┆       ┆       ┆       │\n",
       "│ c(N ┆     ┆     ┆     ┆     ┆     ┆     ┆        ┆       ┆       ┆       ┆       ┆       ┆       │\n",
       "│ c2n ┆     ┆     ┆     ┆     ┆     ┆     ┆        ┆       ┆       ┆       ┆       ┆       ┆       │\n",
       "│ nc… ┆     ┆     ┆     ┆     ┆     ┆     ┆        ┆       ┆       ┆       ┆       ┆       ┆       │\n",
       "│ [N- ┆ 141 ┆ 141 ┆ 130 ┆ 0   ┆ 0   ┆ 0   ┆ 361702 ┆ 20    ┆ 0     ┆ 0     ┆ 0     ┆ 0     ┆ 0     │\n",
       "│ ]=[ ┆     ┆ 5   ┆ 8   ┆     ┆     ┆     ┆ 4      ┆       ┆       ┆       ┆       ┆       ┆       │\n",
       "│ N+] ┆     ┆     ┆     ┆     ┆     ┆     ┆        ┆       ┆       ┆       ┆       ┆       ┆       │\n",
       "│ =NC ┆     ┆     ┆     ┆     ┆     ┆     ┆        ┆       ┆       ┆       ┆       ┆       ┆       │\n",
       "│ CC[ ┆     ┆     ┆     ┆     ┆     ┆     ┆        ┆       ┆       ┆       ┆       ┆       ┆       │\n",
       "│ C@H ┆     ┆     ┆     ┆     ┆     ┆     ┆        ┆       ┆       ┆       ┆       ┆       ┆       │\n",
       "│ ](N ┆     ┆     ┆     ┆     ┆     ┆     ┆        ┆       ┆       ┆       ┆       ┆       ┆       │\n",
       "│ c1n ┆     ┆     ┆     ┆     ┆     ┆     ┆        ┆       ┆       ┆       ┆       ┆       ┆       │\n",
       "│ c(N ┆     ┆     ┆     ┆     ┆     ┆     ┆        ┆       ┆       ┆       ┆       ┆       ┆       │\n",
       "│ c2n ┆     ┆     ┆     ┆     ┆     ┆     ┆        ┆       ┆       ┆       ┆       ┆       ┆       │\n",
       "│ nn… ┆     ┆     ┆     ┆     ┆     ┆     ┆        ┆       ┆       ┆       ┆       ┆       ┆       │\n",
       "│ [N- ┆ 141 ┆ 141 ┆ 141 ┆ 0   ┆ 0   ┆ 0   ┆ 268351 ┆ 20    ┆ 0     ┆ 0     ┆ 0     ┆ 0     ┆ 0     │\n",
       "│ ]=[ ┆     ┆ 5   ┆ 5   ┆     ┆     ┆     ┆        ┆       ┆       ┆       ┆       ┆       ┆       │\n",
       "│ N+] ┆     ┆     ┆     ┆     ┆     ┆     ┆        ┆       ┆       ┆       ┆       ┆       ┆       │\n",
       "│ =NC ┆     ┆     ┆     ┆     ┆     ┆     ┆        ┆       ┆       ┆       ┆       ┆       ┆       │\n",
       "│ CC[ ┆     ┆     ┆     ┆     ┆     ┆     ┆        ┆       ┆       ┆       ┆       ┆       ┆       │\n",
       "│ C@H ┆     ┆     ┆     ┆     ┆     ┆     ┆        ┆       ┆       ┆       ┆       ┆       ┆       │\n",
       "│ ](N ┆     ┆     ┆     ┆     ┆     ┆     ┆        ┆       ┆       ┆       ┆       ┆       ┆       │\n",
       "│ c1n ┆     ┆     ┆     ┆     ┆     ┆     ┆        ┆       ┆       ┆       ┆       ┆       ┆       │\n",
       "│ c(N ┆     ┆     ┆     ┆     ┆     ┆     ┆        ┆       ┆       ┆       ┆       ┆       ┆       │\n",
       "│ c2n ┆     ┆     ┆     ┆     ┆     ┆     ┆        ┆       ┆       ┆       ┆       ┆       ┆       │\n",
       "│ oc… ┆     ┆     ┆     ┆     ┆     ┆     ┆        ┆       ┆       ┆       ┆       ┆       ┆       │\n",
       "└─────┴─────┴─────┴─────┴─────┴─────┴─────┴────────┴───────┴───────┴───────┴───────┴───────┴───────┘"
      ]
     },
     "execution_count": 18,
     "metadata": {},
     "output_type": "execute_result"
    }
   ],
   "source": [
    "train_df = train_df.with_columns(\n",
    "    pl.any_horizontal('BRD4', 'HSA', 'sEH').cast(pl.UInt8).alias('label')).with_columns(\n",
    "    pl.col('BRD4').sum().over('scaffold_idx').alias('pos_BRD4_mol_per_scaf'),\n",
    "    pl.col('HSA').sum().over('scaffold_idx').alias('pos_HSA_mol_per_scaf'),\n",
    "    pl.col('sEH').sum().over('scaffold_idx').alias('pos_sEH_mol_per_scaf'),\n",
    "    pl.col('label').sum().over('scaffold_idx').alias('pos_mol_per_scaf'),\n",
    ")\n",
    "\n",
    "train_df"
   ]
  },
  {
   "cell_type": "code",
   "execution_count": 19,
   "id": "8503ee6d",
   "metadata": {},
   "outputs": [
    {
     "data": {
      "text/html": [
       "<div><style>\n",
       ".dataframe > thead > tr,\n",
       ".dataframe > tbody > tr {\n",
       "  text-align: right;\n",
       "  white-space: pre-wrap;\n",
       "}\n",
       "</style>\n",
       "<small>shape: (1, 2)</small><table border=\"1\" class=\"dataframe\"><thead><tr><th>molecule</th><th>scaffold_idx</th></tr><tr><td>u32</td><td>u32</td></tr></thead><tbody><tr><td>42695137</td><td>5410825</td></tr></tbody></table></div>"
      ],
      "text/plain": [
       "shape: (1, 2)\n",
       "┌──────────┬──────────────┐\n",
       "│ molecule ┆ scaffold_idx │\n",
       "│ ---      ┆ ---          │\n",
       "│ u32      ┆ u32          │\n",
       "╞══════════╪══════════════╡\n",
       "│ 42695137 ┆ 5410825      │\n",
       "└──────────┴──────────────┘"
      ]
     },
     "execution_count": 19,
     "metadata": {},
     "output_type": "execute_result"
    }
   ],
   "source": [
    "train_df.filter(pl.col('pos_mol_per_scaf') == 0).select(pl.n_unique('molecule', 'scaffold_idx'))"
   ]
  },
  {
   "cell_type": "markdown",
   "id": "edaff8e5",
   "metadata": {},
   "source": [
    "5410825/5711873 (94.7294%) scaffolds are all negative"
   ]
  },
  {
   "cell_type": "code",
   "execution_count": 20,
   "id": "00ca1ab5",
   "metadata": {},
   "outputs": [
    {
     "data": {
      "text/plain": [
       "(array([5.41023e+06, 4.26000e+02, 1.24000e+02, 2.60000e+01, 6.00000e+00,\n",
       "        1.10000e+01, 1.00000e+00, 0.00000e+00, 0.00000e+00, 1.00000e+00]),\n",
       " array([1.00000e+00, 1.47270e+03, 2.94440e+03, 4.41610e+03, 5.88780e+03,\n",
       "        7.35950e+03, 8.83120e+03, 1.03029e+04, 1.17746e+04, 1.32463e+04,\n",
       "        1.47180e+04]),\n",
       " <BarContainer object of 10 artists>)"
      ]
     },
     "execution_count": 20,
     "metadata": {},
     "output_type": "execute_result"
    },
    {
     "data": {
      "image/png": "[encoded data removed]",
      "text/plain": [
       "<Figure size 640x480 with 1 Axes>"
      ]
     },
     "metadata": {},
     "output_type": "display_data"
    }
   ],
   "source": [
    "tmp_df = train_df.filter(pl.col('pos_mol_per_scaf') == 0).group_by('scaffold_idx').agg(pl.col('mol_per_scaf').first())\n",
    "plt.hist(tmp_df['mol_per_scaf'], log = True)"
   ]
  },
  {
   "cell_type": "code",
   "execution_count": 21,
   "id": "34ccac67",
   "metadata": {},
   "outputs": [
    {
     "data": {
      "text/plain": [
       "(7.890688942998526, 2.0, 14718)"
      ]
     },
     "execution_count": 21,
     "metadata": {},
     "output_type": "execute_result"
    }
   ],
   "source": [
    "tmp_df['mol_per_scaf'].mean(), tmp_df['mol_per_scaf'].median(), tmp_df['mol_per_scaf'].max()"
   ]
  },
  {
   "cell_type": "code",
   "execution_count": null,
   "id": "815409b2",
   "metadata": {},
   "outputs": [],
   "source": []
  },
  {
   "cell_type": "code",
   "execution_count": 22,
   "id": "e760b69e",
   "metadata": {},
   "outputs": [
    {
     "data": {
      "text/html": [
       "<div><style>\n",
       ".dataframe > thead > tr,\n",
       ".dataframe > tbody > tr {\n",
       "  text-align: right;\n",
       "  white-space: pre-wrap;\n",
       "}\n",
       "</style>\n",
       "<small>shape: (301_048, 3)</small><table border=\"1\" class=\"dataframe\"><thead><tr><th>scaffold_idx</th><th>mol_per_scaf</th><th>pos_mol_per_scaf</th></tr><tr><td>i64</td><td>u32</td><td>i64</td></tr></thead><tbody><tr><td>3242527</td><td>94</td><td>1</td></tr><tr><td>422340</td><td>36</td><td>1</td></tr><tr><td>991752</td><td>11</td><td>1</td></tr><tr><td>4767770</td><td>4</td><td>1</td></tr><tr><td>2009064</td><td>592</td><td>5</td></tr><tr><td>5045402</td><td>140</td><td>4</td></tr><tr><td>3305967</td><td>5</td><td>1</td></tr><tr><td>4224707</td><td>3</td><td>1</td></tr><tr><td>5945787</td><td>4</td><td>1</td></tr><tr><td>1215638</td><td>60</td><td>8</td></tr><tr><td>&hellip;</td><td>&hellip;</td><td>&hellip;</td></tr><tr><td>1033434</td><td>28</td><td>1</td></tr><tr><td>5550052</td><td>781</td><td>7</td></tr><tr><td>5384238</td><td>5</td><td>2</td></tr><tr><td>2775486</td><td>5</td><td>2</td></tr><tr><td>4915101</td><td>5</td><td>1</td></tr><tr><td>2887295</td><td>87</td><td>3</td></tr><tr><td>3739707</td><td>44</td><td>1</td></tr><tr><td>2767489</td><td>366</td><td>2</td></tr><tr><td>2260341</td><td>2</td><td>1</td></tr><tr><td>1075902</td><td>7</td><td>1</td></tr></tbody></table></div>"
      ],
      "text/plain": [
       "shape: (301_048, 3)\n",
       "┌──────────────┬──────────────┬──────────────────┐\n",
       "│ scaffold_idx ┆ mol_per_scaf ┆ pos_mol_per_scaf │\n",
       "│ ---          ┆ ---          ┆ ---              │\n",
       "│ i64          ┆ u32          ┆ i64              │\n",
       "╞══════════════╪══════════════╪══════════════════╡\n",
       "│ 3242527      ┆ 94           ┆ 1                │\n",
       "│ 422340       ┆ 36           ┆ 1                │\n",
       "│ 991752       ┆ 11           ┆ 1                │\n",
       "│ 4767770      ┆ 4            ┆ 1                │\n",
       "│ 2009064      ┆ 592          ┆ 5                │\n",
       "│ 5045402      ┆ 140          ┆ 4                │\n",
       "│ 3305967      ┆ 5            ┆ 1                │\n",
       "│ 4224707      ┆ 3            ┆ 1                │\n",
       "│ 5945787      ┆ 4            ┆ 1                │\n",
       "│ 1215638      ┆ 60           ┆ 8                │\n",
       "│ …            ┆ …            ┆ …                │\n",
       "│ 1033434      ┆ 28           ┆ 1                │\n",
       "│ 5550052      ┆ 781          ┆ 7                │\n",
       "│ 5384238      ┆ 5            ┆ 2                │\n",
       "│ 2775486      ┆ 5            ┆ 2                │\n",
       "│ 4915101      ┆ 5            ┆ 1                │\n",
       "│ 2887295      ┆ 87           ┆ 3                │\n",
       "│ 3739707      ┆ 44           ┆ 1                │\n",
       "│ 2767489      ┆ 366          ┆ 2                │\n",
       "│ 2260341      ┆ 2            ┆ 1                │\n",
       "│ 1075902      ┆ 7            ┆ 1                │\n",
       "└──────────────┴──────────────┴──────────────────┘"
      ]
     },
     "execution_count": 22,
     "metadata": {},
     "output_type": "execute_result"
    }
   ],
   "source": [
    "tmp_df = train_df.filter(pl.col('pos_mol_per_scaf') > 0).group_by('scaffold_idx').agg(pl.col('mol_per_scaf').first(),\n",
    "                                                                                     pl.col('pos_mol_per_scaf').first())\n",
    "tmp_df"
   ]
  },
  {
   "cell_type": "code",
   "execution_count": 23,
   "id": "33c1e87e",
   "metadata": {},
   "outputs": [
    {
     "data": {
      "text/plain": [
       "(array([3.00941e+05, 7.30000e+01, 1.80000e+01, 6.00000e+00, 5.00000e+00,\n",
       "        1.00000e+00, 1.00000e+00, 1.00000e+00, 1.00000e+00, 1.00000e+00]),\n",
       " array([1.0000e+00, 6.5230e+02, 1.3036e+03, 1.9549e+03, 2.6062e+03,\n",
       "        3.2575e+03, 3.9088e+03, 4.5601e+03, 5.2114e+03, 5.8627e+03,\n",
       "        6.5140e+03]),\n",
       " <BarContainer object of 10 artists>)"
      ]
     },
     "execution_count": 23,
     "metadata": {},
     "output_type": "execute_result"
    },
    {
     "data": {
      "image/png": "[encoded data removed]",
      "text/plain": [
       "<Figure size 640x480 with 1 Axes>"
      ]
     },
     "metadata": {},
     "output_type": "display_data"
    }
   ],
   "source": [
    "plt.hist(tmp_df['pos_mol_per_scaf'], log = True)"
   ]
  },
  {
   "cell_type": "code",
   "execution_count": 24,
   "id": "fd024839",
   "metadata": {},
   "outputs": [
    {
     "data": {
      "text/plain": [
       "(array([129212.,  49459.,  22683.,  41576.,  22827.,   1718.,   1936.,\n",
       "          1262.,    420.,  29955.]),\n",
       " array([9.28246542e-05, 1.00083542e-01, 2.00074260e-01, 3.00064977e-01,\n",
       "        4.00055695e-01, 5.00046412e-01, 6.00037130e-01, 7.00027847e-01,\n",
       "        8.00018565e-01, 9.00009282e-01, 1.00000000e+00]),\n",
       " <BarContainer object of 10 artists>)"
      ]
     },
     "execution_count": 24,
     "metadata": {},
     "output_type": "execute_result"
    },
    {
     "data": {
      "image/png": "[encoded data removed]",
      "text/plain": [
       "<Figure size 640x480 with 1 Axes>"
      ]
     },
     "metadata": {},
     "output_type": "display_data"
    }
   ],
   "source": [
    "plt.hist(tmp_df['pos_mol_per_scaf'] / tmp_df['mol_per_scaf'], log = False)"
   ]
  },
  {
   "cell_type": "code",
   "execution_count": 25,
   "id": "59641e6c",
   "metadata": {},
   "outputs": [],
   "source": [
    "tmp_df = tmp_df.with_columns((pl.col('pos_mol_per_scaf') / pl.col('mol_per_scaf')).alias('pos_ratio_per_scaf'))"
   ]
  },
  {
   "cell_type": "code",
   "execution_count": 26,
   "id": "3e80ace6",
   "metadata": {},
   "outputs": [
    {
     "data": {
      "text/html": [
       "<div><style>\n",
       ".dataframe > thead > tr,\n",
       ".dataframe > tbody > tr {\n",
       "  text-align: right;\n",
       "  white-space: pre-wrap;\n",
       "}\n",
       "</style>\n",
       "<small>shape: (1, 4)</small><table border=\"1\" class=\"dataframe\"><thead><tr><th>scaffold_idx</th><th>mol_per_scaf</th><th>pos_mol_per_scaf</th><th>pos_ratio_per_scaf</th></tr><tr><td>i64</td><td>u32</td><td>i64</td><td>f64</td></tr></thead><tbody><tr><td>5114213</td><td>65818</td><td>6514</td><td>0.09897</td></tr></tbody></table></div>"
      ],
      "text/plain": [
       "shape: (1, 4)\n",
       "┌──────────────┬──────────────┬──────────────────┬────────────────────┐\n",
       "│ scaffold_idx ┆ mol_per_scaf ┆ pos_mol_per_scaf ┆ pos_ratio_per_scaf │\n",
       "│ ---          ┆ ---          ┆ ---              ┆ ---                │\n",
       "│ i64          ┆ u32          ┆ i64              ┆ f64                │\n",
       "╞══════════════╪══════════════╪══════════════════╪════════════════════╡\n",
       "│ 5114213      ┆ 65818        ┆ 6514             ┆ 0.09897            │\n",
       "└──────────────┴──────────────┴──────────────────┴────────────────────┘"
      ]
     },
     "execution_count": 26,
     "metadata": {},
     "output_type": "execute_result"
    }
   ],
   "source": [
    "tmp_df.filter(pl.col('pos_mol_per_scaf') == 6514)"
   ]
  },
  {
   "cell_type": "code",
   "execution_count": 27,
   "id": "385ae939",
   "metadata": {},
   "outputs": [
    {
     "data": {
      "text/plain": [
       "(301048, 4)"
      ]
     },
     "execution_count": 27,
     "metadata": {},
     "output_type": "execute_result"
    }
   ],
   "source": [
    "tmp_df.shape"
   ]
  },
  {
   "cell_type": "code",
   "execution_count": 28,
   "id": "06f2cc59",
   "metadata": {},
   "outputs": [
    {
     "data": {
      "text/plain": [
       "0.015340848875498511"
      ]
     },
     "execution_count": 28,
     "metadata": {},
     "output_type": "execute_result"
    }
   ],
   "source": [
    "train_df['label'].mean()"
   ]
  },
  {
   "cell_type": "code",
   "execution_count": 29,
   "id": "82314fc4",
   "metadata": {},
   "outputs": [
    {
     "data": {
      "text/html": [
       "<div><style>\n",
       ".dataframe > thead > tr,\n",
       ".dataframe > tbody > tr {\n",
       "  text-align: right;\n",
       "  white-space: pre-wrap;\n",
       "}\n",
       "</style>\n",
       "<small>shape: (13, 4)</small><table border=\"1\" class=\"dataframe\"><thead><tr><th>scaffold_idx</th><th>mol_per_scaf</th><th>pos_mol_per_scaf</th><th>pos_ratio_per_scaf</th></tr><tr><td>i64</td><td>u32</td><td>i64</td><td>f64</td></tr></thead><tbody><tr><td>897637</td><td>87</td><td>82</td><td>0.942529</td></tr><tr><td>2671746</td><td>86</td><td>78</td><td>0.906977</td></tr><tr><td>5689881</td><td>87</td><td>81</td><td>0.931034</td></tr><tr><td>3951295</td><td>87</td><td>86</td><td>0.988506</td></tr><tr><td>5051066</td><td>97</td><td>88</td><td>0.907216</td></tr><tr><td>2217833</td><td>50</td><td>45</td><td>0.9</td></tr><tr><td>267005</td><td>97</td><td>88</td><td>0.907216</td></tr><tr><td>4075663</td><td>87</td><td>83</td><td>0.954023</td></tr><tr><td>1524870</td><td>87</td><td>80</td><td>0.91954</td></tr><tr><td>4339037</td><td>87</td><td>87</td><td>1.0</td></tr><tr><td>5664790</td><td>87</td><td>79</td><td>0.908046</td></tr><tr><td>4345605</td><td>87</td><td>80</td><td>0.91954</td></tr><tr><td>669621</td><td>87</td><td>84</td><td>0.965517</td></tr></tbody></table></div>"
      ],
      "text/plain": [
       "shape: (13, 4)\n",
       "┌──────────────┬──────────────┬──────────────────┬────────────────────┐\n",
       "│ scaffold_idx ┆ mol_per_scaf ┆ pos_mol_per_scaf ┆ pos_ratio_per_scaf │\n",
       "│ ---          ┆ ---          ┆ ---              ┆ ---                │\n",
       "│ i64          ┆ u32          ┆ i64              ┆ f64                │\n",
       "╞══════════════╪══════════════╪══════════════════╪════════════════════╡\n",
       "│ 897637       ┆ 87           ┆ 82               ┆ 0.942529           │\n",
       "│ 2671746      ┆ 86           ┆ 78               ┆ 0.906977           │\n",
       "│ 5689881      ┆ 87           ┆ 81               ┆ 0.931034           │\n",
       "│ 3951295      ┆ 87           ┆ 86               ┆ 0.988506           │\n",
       "│ 5051066      ┆ 97           ┆ 88               ┆ 0.907216           │\n",
       "│ 2217833      ┆ 50           ┆ 45               ┆ 0.9                │\n",
       "│ 267005       ┆ 97           ┆ 88               ┆ 0.907216           │\n",
       "│ 4075663      ┆ 87           ┆ 83               ┆ 0.954023           │\n",
       "│ 1524870      ┆ 87           ┆ 80               ┆ 0.91954            │\n",
       "│ 4339037      ┆ 87           ┆ 87               ┆ 1.0                │\n",
       "│ 5664790      ┆ 87           ┆ 79               ┆ 0.908046           │\n",
       "│ 4345605      ┆ 87           ┆ 80               ┆ 0.91954            │\n",
       "│ 669621       ┆ 87           ┆ 84               ┆ 0.965517           │\n",
       "└──────────────┴──────────────┴──────────────────┴────────────────────┘"
      ]
     },
     "execution_count": 29,
     "metadata": {},
     "output_type": "execute_result"
    }
   ],
   "source": [
    "tmp_df.filter((pl.col('pos_ratio_per_scaf') >= 0.9) & (pl.col('mol_per_scaf') >= 50))"
   ]
  },
  {
   "cell_type": "code",
   "execution_count": 30,
   "id": "06c872c8",
   "metadata": {},
   "outputs": [
    {
     "data": {
      "text/plain": [
       "(5.015077329861019,\n",
       " 1.0,\n",
       " 6514,\n",
       " 185.08833475060456,\n",
       " 13.0,\n",
       " 499089,\n",
       " 0.2627146191906659,\n",
       " 0.16666666666666666)"
      ]
     },
     "execution_count": 30,
     "metadata": {},
     "output_type": "execute_result"
    }
   ],
   "source": [
    "tmp_df['pos_mol_per_scaf'].mean(), \\\n",
    "tmp_df['pos_mol_per_scaf'].median(), \\\n",
    "tmp_df['pos_mol_per_scaf'].max(), \\\n",
    "tmp_df['mol_per_scaf'].mean(), \\\n",
    "tmp_df['mol_per_scaf'].median(), \\\n",
    "tmp_df['mol_per_scaf'].max(), \\\n",
    "tmp_df['pos_ratio_per_scaf'].mean(), \\\n",
    "tmp_df['pos_ratio_per_scaf'].median()"
   ]
  },
  {
   "cell_type": "code",
   "execution_count": null,
   "id": "1dc10234",
   "metadata": {},
   "outputs": [],
   "source": []
  },
  {
   "cell_type": "code",
   "execution_count": null,
   "id": "f9891f0e",
   "metadata": {},
   "outputs": [],
   "source": []
  },
  {
   "cell_type": "code",
   "execution_count": 32,
   "id": "7203864a",
   "metadata": {},
   "outputs": [
    {
     "data": {
      "text/plain": [
       "[<matplotlib.lines.Line2D at 0x7fc6317dece0>]"
      ]
     },
     "execution_count": 32,
     "metadata": {},
     "output_type": "execute_result"
    },
    {
     "data": {
      "image/png": "[encoded data removed]",
      "text/plain": [
       "<Figure size 640x480 with 1 Axes>"
      ]
     },
     "metadata": {},
     "output_type": "display_data"
    }
   ],
   "source": [
    "import math\n",
    "\n",
    "    \n",
    "def make_intra_group_pos_weight(pos_mol_per_scaf, mol_per_scaf, min_pos_ratio = 0.1, max_pos_ratio = 0.9):\n",
    "    pos_ratio = pos_mol_per_scaf / mol_per_scaf\n",
    "    if pos_ratio == 0:\n",
    "        return 0.0\n",
    "    elif pos_ratio == 1:\n",
    "        return 1.0\n",
    "    else:\n",
    "        return min(max(pos_ratio, min_pos_ratio), max_pos_ratio)\n",
    "    \n",
    "    \n",
    "def make_neg_inter_group_weight(mol_per_scaf, base = 7.890688942998526, mode = 'poly', log_base = None, poly_degree = 0.5):\n",
    "    if mol_per_scaf <= base:\n",
    "        return mol_per_scaf\n",
    "    if mode == 'log':\n",
    "        log_base = log_base or math.e\n",
    "        return base * (math.log(mol_per_scaf / base, log_base) + 1)\n",
    "    elif mode == 'poly':\n",
    "        # 1.0 is linear\n",
    "        poly_degree = poly_degree or 1.0\n",
    "        return base * (mol_per_scaf / base) ** poly_degree\n",
    "    else:\n",
    "        raise ValueError\n",
    "        \n",
    "\n",
    "def make_inter_group_weight(pos_mol_per_scaf, mol_per_scaf):\n",
    "    if pos_mol_per_scaf == 0:\n",
    "        return make_neg_inter_group_weight(mol_per_scaf, base = 7.890688942998526, mode = 'poly', poly_degree = 0.5)\n",
    "    else:\n",
    "        # keep all pos\n",
    "        intra_pos_weight = make_intra_group_pos_weight(pos_mol_per_scaf, mol_per_scaf)\n",
    "        return pos_mol_per_scaf / intra_pos_weight\n",
    "\n",
    "x = np.arange(1, 14000)\n",
    "y = [make_neg_inter_group_weight(e, mode = 'poly', poly_degree = 0.5) for e in x]\n",
    "plt.plot(x, y)"
   ]
  },
  {
   "cell_type": "code",
   "execution_count": null,
   "id": "a830df32",
   "metadata": {},
   "outputs": [],
   "source": [
    "train_df"
   ]
  },
  {
   "cell_type": "code",
   "execution_count": null,
   "id": "4959fe99",
   "metadata": {},
   "outputs": [],
   "source": []
  },
  {
   "cell_type": "code",
   "execution_count": null,
   "id": "3299d2f6",
   "metadata": {},
   "outputs": [],
   "source": []
  },
  {
   "cell_type": "code",
   "execution_count": null,
   "id": "08b3e422",
   "metadata": {},
   "outputs": [],
   "source": []
  },
  {
   "cell_type": "code",
   "execution_count": 34,
   "id": "6a17602e",
   "metadata": {},
   "outputs": [],
   "source": [
    "train_df = train_df.with_columns(pl.struct(['pos_mol_per_scaf', 'mol_per_scaf']).map_elements(\n",
    "    lambda x: make_inter_group_weight(x['pos_mol_per_scaf'], x['mol_per_scaf']), return_dtype = pl.Float32).alias('inter_group_weight'))"
   ]
  },
  {
   "cell_type": "code",
   "execution_count": 35,
   "id": "23dfd656",
   "metadata": {},
   "outputs": [],
   "source": [
    "train_df = train_df.with_columns(pl.struct(['pos_mol_per_scaf', 'mol_per_scaf']).map_elements(\n",
    "    lambda x: make_intra_group_pos_weight(x['pos_mol_per_scaf'], x['mol_per_scaf']), return_dtype = pl.Float32).alias('intra_group_weight'))"
   ]
  },
  {
   "cell_type": "code",
   "execution_count": 39,
   "id": "55777a8a",
   "metadata": {},
   "outputs": [
    {
     "data": {
      "text/html": [
       "<div><style>\n",
       ".dataframe > thead > tr,\n",
       ".dataframe > tbody > tr {\n",
       "  text-align: right;\n",
       "  white-space: pre-wrap;\n",
       "}\n",
       "</style>\n",
       "<small>shape: (98_415_610, 17)</small><table border=\"1\" class=\"dataframe\"><thead><tr><th>molecule</th><th>bb1</th><th>bb2</th><th>bb3</th><th>BRD4</th><th>HSA</th><th>sEH</th><th>scaffold_idx</th><th>mol_per_scaf</th><th>label</th><th>pos_BRD4_mol_per_scaf</th><th>pos_HSA_mol_per_scaf</th><th>pos_sEH_mol_per_scaf</th><th>pos_mol_per_scaf</th><th>inter_group_weight</th><th>intra_group_weight</th><th>sample_weight</th></tr><tr><td>str</td><td>u16</td><td>u16</td><td>u16</td><td>u8</td><td>u8</td><td>u8</td><td>i64</td><td>u32</td><td>u8</td><td>i64</td><td>i64</td><td>i64</td><td>i64</td><td>f32</td><td>f32</td><td>f64</td></tr></thead><tbody><tr><td>&quot;C#CCOc1ccc(CNc…</td><td>1640</td><td>1653</td><td>765</td><td>0</td><td>0</td><td>0</td><td>4283326</td><td>843</td><td>0</td><td>41</td><td>3</td><td>1</td><td>45</td><td>450.0</td><td>0.1</td><td>0.507519</td></tr><tr><td>&quot;C#CCOc1ccc(CNc…</td><td>1640</td><td>1653</td><td>205</td><td>0</td><td>0</td><td>0</td><td>4486646</td><td>9415</td><td>0</td><td>98</td><td>1</td><td>11</td><td>110</td><td>1100.0</td><td>0.1</td><td>0.106394</td></tr><tr><td>&quot;C#CCOc1ccc(CNc…</td><td>1640</td><td>1653</td><td>1653</td><td>0</td><td>0</td><td>0</td><td>1015728</td><td>9006</td><td>0</td><td>190</td><td>1</td><td>74</td><td>265</td><td>2650.0</td><td>0.1</td><td>0.272852</td></tr><tr><td>&quot;C#CCOc1ccc(CNc…</td><td>1640</td><td>1653</td><td>146</td><td>0</td><td>0</td><td>0</td><td>5301385</td><td>26751</td><td>0</td><td>635</td><td>4</td><td>146</td><td>780</td><td>7800.0</td><td>0.1</td><td>0.270301</td></tr><tr><td>&quot;C#CCOc1ccc(CNc…</td><td>1640</td><td>1653</td><td>439</td><td>0</td><td>0</td><td>0</td><td>5301385</td><td>26751</td><td>0</td><td>635</td><td>4</td><td>146</td><td>780</td><td>7800.0</td><td>0.1</td><td>0.270301</td></tr><tr><td>&quot;C#CCOc1ccc(CNc…</td><td>1640</td><td>1653</td><td>196</td><td>0</td><td>0</td><td>0</td><td>5301385</td><td>26751</td><td>0</td><td>635</td><td>4</td><td>146</td><td>780</td><td>7800.0</td><td>0.1</td><td>0.270301</td></tr><tr><td>&quot;C#CCOc1ccc(CNc…</td><td>1640</td><td>1653</td><td>253</td><td>0</td><td>0</td><td>0</td><td>5301385</td><td>26751</td><td>0</td><td>635</td><td>4</td><td>146</td><td>780</td><td>7800.0</td><td>0.1</td><td>0.270301</td></tr><tr><td>&quot;C#CCOc1ccc(CNc…</td><td>1640</td><td>1653</td><td>1219</td><td>0</td><td>0</td><td>0</td><td>5301385</td><td>26751</td><td>0</td><td>635</td><td>4</td><td>146</td><td>780</td><td>7800.0</td><td>0.1</td><td>0.270301</td></tr><tr><td>&quot;C#CCOc1ccc(CNc…</td><td>1640</td><td>1653</td><td>604</td><td>0</td><td>0</td><td>0</td><td>543172</td><td>842</td><td>0</td><td>25</td><td>2</td><td>0</td><td>27</td><td>270.0</td><td>0.1</td><td>0.29816</td></tr><tr><td>&quot;C#CCOc1ccc(CNc…</td><td>1640</td><td>1653</td><td>121</td><td>0</td><td>0</td><td>0</td><td>2571428</td><td>864</td><td>0</td><td>9</td><td>0</td><td>0</td><td>9</td><td>90.0</td><td>0.1</td><td>0.094737</td></tr><tr><td>&hellip;</td><td>&hellip;</td><td>&hellip;</td><td>&hellip;</td><td>&hellip;</td><td>&hellip;</td><td>&hellip;</td><td>&hellip;</td><td>&hellip;</td><td>&hellip;</td><td>&hellip;</td><td>&hellip;</td><td>&hellip;</td><td>&hellip;</td><td>&hellip;</td><td>&hellip;</td><td>&hellip;</td></tr><tr><td>&quot;[N-]=[N+]=NCCC…</td><td>141</td><td>1415</td><td>536</td><td>0</td><td>0</td><td>0</td><td>4068980</td><td>274</td><td>0</td><td>0</td><td>1</td><td>0</td><td>1</td><td>10.0</td><td>0.1</td><td>0.032967</td></tr><tr><td>&quot;[N-]=[N+]=NCCC…</td><td>141</td><td>1415</td><td>1367</td><td>0</td><td>0</td><td>0</td><td>2088996</td><td>20</td><td>0</td><td>0</td><td>0</td><td>0</td><td>0</td><td>12.562395</td><td>0.0</td><td>0.62812</td></tr><tr><td>&quot;[N-]=[N+]=NCCC…</td><td>141</td><td>1415</td><td>329</td><td>0</td><td>0</td><td>0</td><td>3192765</td><td>260</td><td>0</td><td>0</td><td>1</td><td>0</td><td>1</td><td>10.0</td><td>0.1</td><td>0.034749</td></tr><tr><td>&quot;[N-]=[N+]=NCCC…</td><td>141</td><td>1415</td><td>757</td><td>0</td><td>0</td><td>0</td><td>4085046</td><td>20</td><td>0</td><td>0</td><td>0</td><td>0</td><td>0</td><td>12.562395</td><td>0.0</td><td>0.62812</td></tr><tr><td>&quot;[N-]=[N+]=NCCC…</td><td>141</td><td>1415</td><td>335</td><td>0</td><td>0</td><td>0</td><td>4087757</td><td>20</td><td>0</td><td>0</td><td>0</td><td>0</td><td>0</td><td>12.562395</td><td>0.0</td><td>0.62812</td></tr><tr><td>&quot;[N-]=[N+]=NCCC…</td><td>141</td><td>1415</td><td>1792</td><td>0</td><td>0</td><td>0</td><td>4674025</td><td>20</td><td>0</td><td>0</td><td>0</td><td>0</td><td>0</td><td>12.562395</td><td>0.0</td><td>0.62812</td></tr><tr><td>&quot;[N-]=[N+]=NCCC…</td><td>141</td><td>1415</td><td>1178</td><td>0</td><td>0</td><td>0</td><td>5240137</td><td>60</td><td>0</td><td>0</td><td>0</td><td>0</td><td>0</td><td>21.758707</td><td>0.0</td><td>0.362645</td></tr><tr><td>&quot;[N-]=[N+]=NCCC…</td><td>141</td><td>1415</td><td>1699</td><td>0</td><td>0</td><td>0</td><td>5240137</td><td>60</td><td>0</td><td>0</td><td>0</td><td>0</td><td>0</td><td>21.758707</td><td>0.0</td><td>0.362645</td></tr><tr><td>&quot;[N-]=[N+]=NCCC…</td><td>141</td><td>1415</td><td>1308</td><td>0</td><td>0</td><td>0</td><td>3617024</td><td>20</td><td>0</td><td>0</td><td>0</td><td>0</td><td>0</td><td>12.562395</td><td>0.0</td><td>0.62812</td></tr><tr><td>&quot;[N-]=[N+]=NCCC…</td><td>141</td><td>1415</td><td>1415</td><td>0</td><td>0</td><td>0</td><td>268351</td><td>20</td><td>0</td><td>0</td><td>0</td><td>0</td><td>0</td><td>12.562395</td><td>0.0</td><td>0.62812</td></tr></tbody></table></div>"
      ],
      "text/plain": [
       "shape: (98_415_610, 17)\n",
       "┌─────┬─────┬─────┬─────┬─────┬─────┬─────┬─────┬─────┬─────┬─────┬─────┬─────┬─────┬─────┬─────┬─────┐\n",
       "│ mol ┆ bb1 ┆ bb2 ┆ bb3 ┆ BRD ┆ HSA ┆ sEH ┆ sca ┆ mol ┆ lab ┆ pos ┆ pos ┆ pos ┆ pos ┆ int ┆ int ┆ sam │\n",
       "│ ecu ┆ --- ┆ --- ┆ --- ┆ 4   ┆ --- ┆ --- ┆ ffo ┆ _pe ┆ el  ┆ _BR ┆ _HS ┆ _sE ┆ _mo ┆ er_ ┆ ra_ ┆ ple │\n",
       "│ le  ┆ u16 ┆ u16 ┆ u16 ┆ --- ┆ u8  ┆ u8  ┆ ld_ ┆ r_s ┆ --- ┆ D4_ ┆ A_m ┆ H_m ┆ l_p ┆ gro ┆ gro ┆ _we │\n",
       "│ --- ┆     ┆     ┆     ┆ u8  ┆     ┆     ┆ idx ┆ caf ┆ u8  ┆ mol ┆ ol_ ┆ ol_ ┆ er_ ┆ up_ ┆ up_ ┆ igh │\n",
       "│ str ┆     ┆     ┆     ┆     ┆     ┆     ┆ --- ┆ --- ┆     ┆ _pe ┆ per ┆ per ┆ sca ┆ wei ┆ wei ┆ t   │\n",
       "│     ┆     ┆     ┆     ┆     ┆     ┆     ┆ i64 ┆ u32 ┆     ┆ r_s ┆ _sc ┆ _sc ┆ f   ┆ ght ┆ ght ┆ --- │\n",
       "│     ┆     ┆     ┆     ┆     ┆     ┆     ┆     ┆     ┆     ┆ caf ┆ af  ┆ af  ┆ --- ┆ --- ┆ --- ┆ f64 │\n",
       "│     ┆     ┆     ┆     ┆     ┆     ┆     ┆     ┆     ┆     ┆ --- ┆ --- ┆ --- ┆ i64 ┆ f32 ┆ f32 ┆     │\n",
       "│     ┆     ┆     ┆     ┆     ┆     ┆     ┆     ┆     ┆     ┆ i64 ┆ i64 ┆ i64 ┆     ┆     ┆     ┆     │\n",
       "╞═════╪═════╪═════╪═════╪═════╪═════╪═════╪═════╪═════╪═════╪═════╪═════╪═════╪═════╪═════╪═════╪═════╡\n",
       "│ C#C ┆ 164 ┆ 165 ┆ 765 ┆ 0   ┆ 0   ┆ 0   ┆ 428 ┆ 843 ┆ 0   ┆ 41  ┆ 3   ┆ 1   ┆ 45  ┆ 450 ┆ 0.1 ┆ 0.5 │\n",
       "│ COc ┆ 0   ┆ 3   ┆     ┆     ┆     ┆     ┆ 332 ┆     ┆     ┆     ┆     ┆     ┆     ┆ .0  ┆     ┆ 075 │\n",
       "│ 1cc ┆     ┆     ┆     ┆     ┆     ┆     ┆ 6   ┆     ┆     ┆     ┆     ┆     ┆     ┆     ┆     ┆ 19  │\n",
       "│ c(C ┆     ┆     ┆     ┆     ┆     ┆     ┆     ┆     ┆     ┆     ┆     ┆     ┆     ┆     ┆     ┆     │\n",
       "│ Nc2 ┆     ┆     ┆     ┆     ┆     ┆     ┆     ┆     ┆     ┆     ┆     ┆     ┆     ┆     ┆     ┆     │\n",
       "│ nc( ┆     ┆     ┆     ┆     ┆     ┆     ┆     ┆     ┆     ┆     ┆     ┆     ┆     ┆     ┆     ┆     │\n",
       "│ NCC ┆     ┆     ┆     ┆     ┆     ┆     ┆     ┆     ┆     ┆     ┆     ┆     ┆     ┆     ┆     ┆     │\n",
       "│ 3CC ┆     ┆     ┆     ┆     ┆     ┆     ┆     ┆     ┆     ┆     ┆     ┆     ┆     ┆     ┆     ┆     │\n",
       "│ CN3 ┆     ┆     ┆     ┆     ┆     ┆     ┆     ┆     ┆     ┆     ┆     ┆     ┆     ┆     ┆     ┆     │\n",
       "│ c3c ┆     ┆     ┆     ┆     ┆     ┆     ┆     ┆     ┆     ┆     ┆     ┆     ┆     ┆     ┆     ┆     │\n",
       "│ cc… ┆     ┆     ┆     ┆     ┆     ┆     ┆     ┆     ┆     ┆     ┆     ┆     ┆     ┆     ┆     ┆     │\n",
       "│ C#C ┆ 164 ┆ 165 ┆ 205 ┆ 0   ┆ 0   ┆ 0   ┆ 448 ┆ 941 ┆ 0   ┆ 98  ┆ 1   ┆ 11  ┆ 110 ┆ 110 ┆ 0.1 ┆ 0.1 │\n",
       "│ COc ┆ 0   ┆ 3   ┆     ┆     ┆     ┆     ┆ 664 ┆ 5   ┆     ┆     ┆     ┆     ┆     ┆ 0.0 ┆     ┆ 063 │\n",
       "│ 1cc ┆     ┆     ┆     ┆     ┆     ┆     ┆ 6   ┆     ┆     ┆     ┆     ┆     ┆     ┆     ┆     ┆ 94  │\n",
       "│ c(C ┆     ┆     ┆     ┆     ┆     ┆     ┆     ┆     ┆     ┆     ┆     ┆     ┆     ┆     ┆     ┆     │\n",
       "│ Nc2 ┆     ┆     ┆     ┆     ┆     ┆     ┆     ┆     ┆     ┆     ┆     ┆     ┆     ┆     ┆     ┆     │\n",
       "│ nc( ┆     ┆     ┆     ┆     ┆     ┆     ┆     ┆     ┆     ┆     ┆     ┆     ┆     ┆     ┆     ┆     │\n",
       "│ NCc ┆     ┆     ┆     ┆     ┆     ┆     ┆     ┆     ┆     ┆     ┆     ┆     ┆     ┆     ┆     ┆     │\n",
       "│ 3cc ┆     ┆     ┆     ┆     ┆     ┆     ┆     ┆     ┆     ┆     ┆     ┆     ┆     ┆     ┆     ┆     │\n",
       "│ cc( ┆     ┆     ┆     ┆     ┆     ┆     ┆     ┆     ┆     ┆     ┆     ┆     ┆     ┆     ┆     ┆     │\n",
       "│ Br) ┆     ┆     ┆     ┆     ┆     ┆     ┆     ┆     ┆     ┆     ┆     ┆     ┆     ┆     ┆     ┆     │\n",
       "│ n3… ┆     ┆     ┆     ┆     ┆     ┆     ┆     ┆     ┆     ┆     ┆     ┆     ┆     ┆     ┆     ┆     │\n",
       "│ C#C ┆ 164 ┆ 165 ┆ 165 ┆ 0   ┆ 0   ┆ 0   ┆ 101 ┆ 900 ┆ 0   ┆ 190 ┆ 1   ┆ 74  ┆ 265 ┆ 265 ┆ 0.1 ┆ 0.2 │\n",
       "│ COc ┆ 0   ┆ 3   ┆ 3   ┆     ┆     ┆     ┆ 572 ┆ 6   ┆     ┆     ┆     ┆     ┆     ┆ 0.0 ┆     ┆ 728 │\n",
       "│ 1cc ┆     ┆     ┆     ┆     ┆     ┆     ┆ 8   ┆     ┆     ┆     ┆     ┆     ┆     ┆     ┆     ┆ 52  │\n",
       "│ c(C ┆     ┆     ┆     ┆     ┆     ┆     ┆     ┆     ┆     ┆     ┆     ┆     ┆     ┆     ┆     ┆     │\n",
       "│ Nc2 ┆     ┆     ┆     ┆     ┆     ┆     ┆     ┆     ┆     ┆     ┆     ┆     ┆     ┆     ┆     ┆     │\n",
       "│ nc( ┆     ┆     ┆     ┆     ┆     ┆     ┆     ┆     ┆     ┆     ┆     ┆     ┆     ┆     ┆     ┆     │\n",
       "│ NCc ┆     ┆     ┆     ┆     ┆     ┆     ┆     ┆     ┆     ┆     ┆     ┆     ┆     ┆     ┆     ┆     │\n",
       "│ 3cc ┆     ┆     ┆     ┆     ┆     ┆     ┆     ┆     ┆     ┆     ┆     ┆     ┆     ┆     ┆     ┆     │\n",
       "│ c(O ┆     ┆     ┆     ┆     ┆     ┆     ┆     ┆     ┆     ┆     ┆     ┆     ┆     ┆     ┆     ┆     │\n",
       "│ CC# ┆     ┆     ┆     ┆     ┆     ┆     ┆     ┆     ┆     ┆     ┆     ┆     ┆     ┆     ┆     ┆     │\n",
       "│ C)… ┆     ┆     ┆     ┆     ┆     ┆     ┆     ┆     ┆     ┆     ┆     ┆     ┆     ┆     ┆     ┆     │\n",
       "│ C#C ┆ 164 ┆ 165 ┆ 146 ┆ 0   ┆ 0   ┆ 0   ┆ 530 ┆ 267 ┆ 0   ┆ 635 ┆ 4   ┆ 146 ┆ 780 ┆ 780 ┆ 0.1 ┆ 0.2 │\n",
       "│ COc ┆ 0   ┆ 3   ┆     ┆     ┆     ┆     ┆ 138 ┆ 51  ┆     ┆     ┆     ┆     ┆     ┆ 0.0 ┆     ┆ 703 │\n",
       "│ 1cc ┆     ┆     ┆     ┆     ┆     ┆     ┆ 5   ┆     ┆     ┆     ┆     ┆     ┆     ┆     ┆     ┆ 01  │\n",
       "│ c(C ┆     ┆     ┆     ┆     ┆     ┆     ┆     ┆     ┆     ┆     ┆     ┆     ┆     ┆     ┆     ┆     │\n",
       "│ Nc2 ┆     ┆     ┆     ┆     ┆     ┆     ┆     ┆     ┆     ┆     ┆     ┆     ┆     ┆     ┆     ┆     │\n",
       "│ nc( ┆     ┆     ┆     ┆     ┆     ┆     ┆     ┆     ┆     ┆     ┆     ┆     ┆     ┆     ┆     ┆     │\n",
       "│ NCC ┆     ┆     ┆     ┆     ┆     ┆     ┆     ┆     ┆     ┆     ┆     ┆     ┆     ┆     ┆     ┆     │\n",
       "│ NC( ┆     ┆     ┆     ┆     ┆     ┆     ┆     ┆     ┆     ┆     ┆     ┆     ┆     ┆     ┆     ┆     │\n",
       "│ =O) ┆     ┆     ┆     ┆     ┆     ┆     ┆     ┆     ┆     ┆     ┆     ┆     ┆     ┆     ┆     ┆     │\n",
       "│ C(= ┆     ┆     ┆     ┆     ┆     ┆     ┆     ┆     ┆     ┆     ┆     ┆     ┆     ┆     ┆     ┆     │\n",
       "│ C)… ┆     ┆     ┆     ┆     ┆     ┆     ┆     ┆     ┆     ┆     ┆     ┆     ┆     ┆     ┆     ┆     │\n",
       "│ C#C ┆ 164 ┆ 165 ┆ 439 ┆ 0   ┆ 0   ┆ 0   ┆ 530 ┆ 267 ┆ 0   ┆ 635 ┆ 4   ┆ 146 ┆ 780 ┆ 780 ┆ 0.1 ┆ 0.2 │\n",
       "│ COc ┆ 0   ┆ 3   ┆     ┆     ┆     ┆     ┆ 138 ┆ 51  ┆     ┆     ┆     ┆     ┆     ┆ 0.0 ┆     ┆ 703 │\n",
       "│ 1cc ┆     ┆     ┆     ┆     ┆     ┆     ┆ 5   ┆     ┆     ┆     ┆     ┆     ┆     ┆     ┆     ┆ 01  │\n",
       "│ c(C ┆     ┆     ┆     ┆     ┆     ┆     ┆     ┆     ┆     ┆     ┆     ┆     ┆     ┆     ┆     ┆     │\n",
       "│ Nc2 ┆     ┆     ┆     ┆     ┆     ┆     ┆     ┆     ┆     ┆     ┆     ┆     ┆     ┆     ┆     ┆     │\n",
       "│ nc( ┆     ┆     ┆     ┆     ┆     ┆     ┆     ┆     ┆     ┆     ┆     ┆     ┆     ┆     ┆     ┆     │\n",
       "│ NCC ┆     ┆     ┆     ┆     ┆     ┆     ┆     ┆     ┆     ┆     ┆     ┆     ┆     ┆     ┆     ┆     │\n",
       "│ (=O ┆     ┆     ┆     ┆     ┆     ┆     ┆     ┆     ┆     ┆     ┆     ┆     ┆     ┆     ┆     ┆     │\n",
       "│ )NC ┆     ┆     ┆     ┆     ┆     ┆     ┆     ┆     ┆     ┆     ┆     ┆     ┆     ┆     ┆     ┆     │\n",
       "│ C=C ┆     ┆     ┆     ┆     ┆     ┆     ┆     ┆     ┆     ┆     ┆     ┆     ┆     ┆     ┆     ┆     │\n",
       "│ )n… ┆     ┆     ┆     ┆     ┆     ┆     ┆     ┆     ┆     ┆     ┆     ┆     ┆     ┆     ┆     ┆     │\n",
       "│ C#C ┆ 164 ┆ 165 ┆ 196 ┆ 0   ┆ 0   ┆ 0   ┆ 530 ┆ 267 ┆ 0   ┆ 635 ┆ 4   ┆ 146 ┆ 780 ┆ 780 ┆ 0.1 ┆ 0.2 │\n",
       "│ COc ┆ 0   ┆ 3   ┆     ┆     ┆     ┆     ┆ 138 ┆ 51  ┆     ┆     ┆     ┆     ┆     ┆ 0.0 ┆     ┆ 703 │\n",
       "│ 1cc ┆     ┆     ┆     ┆     ┆     ┆     ┆ 5   ┆     ┆     ┆     ┆     ┆     ┆     ┆     ┆     ┆ 01  │\n",
       "│ c(C ┆     ┆     ┆     ┆     ┆     ┆     ┆     ┆     ┆     ┆     ┆     ┆     ┆     ┆     ┆     ┆     │\n",
       "│ Nc2 ┆     ┆     ┆     ┆     ┆     ┆     ┆     ┆     ┆     ┆     ┆     ┆     ┆     ┆     ┆     ┆     │\n",
       "│ nc( ┆     ┆     ┆     ┆     ┆     ┆     ┆     ┆     ┆     ┆     ┆     ┆     ┆     ┆     ┆     ┆     │\n",
       "│ NCC ┆     ┆     ┆     ┆     ┆     ┆     ┆     ┆     ┆     ┆     ┆     ┆     ┆     ┆     ┆     ┆     │\n",
       "│ (C) ┆     ┆     ┆     ┆     ┆     ┆     ┆     ┆     ┆     ┆     ┆     ┆     ┆     ┆     ┆     ┆     │\n",
       "│ OCC ┆     ┆     ┆     ┆     ┆     ┆     ┆     ┆     ┆     ┆     ┆     ┆     ┆     ┆     ┆     ┆     │\n",
       "│ =C) ┆     ┆     ┆     ┆     ┆     ┆     ┆     ┆     ┆     ┆     ┆     ┆     ┆     ┆     ┆     ┆     │\n",
       "│ nc… ┆     ┆     ┆     ┆     ┆     ┆     ┆     ┆     ┆     ┆     ┆     ┆     ┆     ┆     ┆     ┆     │\n",
       "│ C#C ┆ 164 ┆ 165 ┆ 253 ┆ 0   ┆ 0   ┆ 0   ┆ 530 ┆ 267 ┆ 0   ┆ 635 ┆ 4   ┆ 146 ┆ 780 ┆ 780 ┆ 0.1 ┆ 0.2 │\n",
       "│ COc ┆ 0   ┆ 3   ┆     ┆     ┆     ┆     ┆ 138 ┆ 51  ┆     ┆     ┆     ┆     ┆     ┆ 0.0 ┆     ┆ 703 │\n",
       "│ 1cc ┆     ┆     ┆     ┆     ┆     ┆     ┆ 5   ┆     ┆     ┆     ┆     ┆     ┆     ┆     ┆     ┆ 01  │\n",
       "│ c(C ┆     ┆     ┆     ┆     ┆     ┆     ┆     ┆     ┆     ┆     ┆     ┆     ┆     ┆     ┆     ┆     │\n",
       "│ Nc2 ┆     ┆     ┆     ┆     ┆     ┆     ┆     ┆     ┆     ┆     ┆     ┆     ┆     ┆     ┆     ┆     │\n",
       "│ nc( ┆     ┆     ┆     ┆     ┆     ┆     ┆     ┆     ┆     ┆     ┆     ┆     ┆     ┆     ┆     ┆     │\n",
       "│ NCC ┆     ┆     ┆     ┆     ┆     ┆     ┆     ┆     ┆     ┆     ┆     ┆     ┆     ┆     ┆     ┆     │\n",
       "│ COC ┆     ┆     ┆     ┆     ┆     ┆     ┆     ┆     ┆     ┆     ┆     ┆     ┆     ┆     ┆     ┆     │\n",
       "│ C=C ┆     ┆     ┆     ┆     ┆     ┆     ┆     ┆     ┆     ┆     ┆     ┆     ┆     ┆     ┆     ┆     │\n",
       "│ )nc ┆     ┆     ┆     ┆     ┆     ┆     ┆     ┆     ┆     ┆     ┆     ┆     ┆     ┆     ┆     ┆     │\n",
       "│ (N… ┆     ┆     ┆     ┆     ┆     ┆     ┆     ┆     ┆     ┆     ┆     ┆     ┆     ┆     ┆     ┆     │\n",
       "│ C#C ┆ 164 ┆ 165 ┆ 121 ┆ 0   ┆ 0   ┆ 0   ┆ 530 ┆ 267 ┆ 0   ┆ 635 ┆ 4   ┆ 146 ┆ 780 ┆ 780 ┆ 0.1 ┆ 0.2 │\n",
       "│ COc ┆ 0   ┆ 3   ┆ 9   ┆     ┆     ┆     ┆ 138 ┆ 51  ┆     ┆     ┆     ┆     ┆     ┆ 0.0 ┆     ┆ 703 │\n",
       "│ 1cc ┆     ┆     ┆     ┆     ┆     ┆     ┆ 5   ┆     ┆     ┆     ┆     ┆     ┆     ┆     ┆     ┆ 01  │\n",
       "│ c(C ┆     ┆     ┆     ┆     ┆     ┆     ┆     ┆     ┆     ┆     ┆     ┆     ┆     ┆     ┆     ┆     │\n",
       "│ Nc2 ┆     ┆     ┆     ┆     ┆     ┆     ┆     ┆     ┆     ┆     ┆     ┆     ┆     ┆     ┆     ┆     │\n",
       "│ nc( ┆     ┆     ┆     ┆     ┆     ┆     ┆     ┆     ┆     ┆     ┆     ┆     ┆     ┆     ┆     ┆     │\n",
       "│ NCC ┆     ┆     ┆     ┆     ┆     ┆     ┆     ┆     ┆     ┆     ┆     ┆     ┆     ┆     ┆     ┆     │\n",
       "│ OCC ┆     ┆     ┆     ┆     ┆     ┆     ┆     ┆     ┆     ┆     ┆     ┆     ┆     ┆     ┆     ┆     │\n",
       "│ =C) ┆     ┆     ┆     ┆     ┆     ┆     ┆     ┆     ┆     ┆     ┆     ┆     ┆     ┆     ┆     ┆     │\n",
       "│ nc( ┆     ┆     ┆     ┆     ┆     ┆     ┆     ┆     ┆     ┆     ┆     ┆     ┆     ┆     ┆     ┆     │\n",
       "│ N[… ┆     ┆     ┆     ┆     ┆     ┆     ┆     ┆     ┆     ┆     ┆     ┆     ┆     ┆     ┆     ┆     │\n",
       "│ C#C ┆ 164 ┆ 165 ┆ 604 ┆ 0   ┆ 0   ┆ 0   ┆ 543 ┆ 842 ┆ 0   ┆ 25  ┆ 2   ┆ 0   ┆ 27  ┆ 270 ┆ 0.1 ┆ 0.2 │\n",
       "│ COc ┆ 0   ┆ 3   ┆     ┆     ┆     ┆     ┆ 172 ┆     ┆     ┆     ┆     ┆     ┆     ┆ .0  ┆     ┆ 981 │\n",
       "│ 1cc ┆     ┆     ┆     ┆     ┆     ┆     ┆     ┆     ┆     ┆     ┆     ┆     ┆     ┆     ┆     ┆ 6   │\n",
       "│ c(C ┆     ┆     ┆     ┆     ┆     ┆     ┆     ┆     ┆     ┆     ┆     ┆     ┆     ┆     ┆     ┆     │\n",
       "│ Nc2 ┆     ┆     ┆     ┆     ┆     ┆     ┆     ┆     ┆     ┆     ┆     ┆     ┆     ┆     ┆     ┆     │\n",
       "│ nc( ┆     ┆     ┆     ┆     ┆     ┆     ┆     ┆     ┆     ┆     ┆     ┆     ┆     ┆     ┆     ┆     │\n",
       "│ Nc3 ┆     ┆     ┆     ┆     ┆     ┆     ┆     ┆     ┆     ┆     ┆     ┆     ┆     ┆     ┆     ┆     │\n",
       "│ cnn ┆     ┆     ┆     ┆     ┆     ┆     ┆     ┆     ┆     ┆     ┆     ┆     ┆     ┆     ┆     ┆     │\n",
       "│ (C4 ┆     ┆     ┆     ┆     ┆     ┆     ┆     ┆     ┆     ┆     ┆     ┆     ┆     ┆     ┆     ┆     │\n",
       "│ CCN ┆     ┆     ┆     ┆     ┆     ┆     ┆     ┆     ┆     ┆     ┆     ┆     ┆     ┆     ┆     ┆     │\n",
       "│ (C… ┆     ┆     ┆     ┆     ┆     ┆     ┆     ┆     ┆     ┆     ┆     ┆     ┆     ┆     ┆     ┆     │\n",
       "│ C#C ┆ 164 ┆ 165 ┆ 121 ┆ 0   ┆ 0   ┆ 0   ┆ 257 ┆ 864 ┆ 0   ┆ 9   ┆ 0   ┆ 0   ┆ 9   ┆ 90. ┆ 0.1 ┆ 0.0 │\n",
       "│ COc ┆ 0   ┆ 3   ┆     ┆     ┆     ┆     ┆ 142 ┆     ┆     ┆     ┆     ┆     ┆     ┆ 0   ┆     ┆ 947 │\n",
       "│ 1cc ┆     ┆     ┆     ┆     ┆     ┆     ┆ 8   ┆     ┆     ┆     ┆     ┆     ┆     ┆     ┆     ┆ 37  │\n",
       "│ c(C ┆     ┆     ┆     ┆     ┆     ┆     ┆     ┆     ┆     ┆     ┆     ┆     ┆     ┆     ┆     ┆     │\n",
       "│ Nc2 ┆     ┆     ┆     ┆     ┆     ┆     ┆     ┆     ┆     ┆     ┆     ┆     ┆     ┆     ┆     ┆     │\n",
       "│ nc( ┆     ┆     ┆     ┆     ┆     ┆     ┆     ┆     ┆     ┆     ┆     ┆     ┆     ┆     ┆     ┆     │\n",
       "│ Nc3 ┆     ┆     ┆     ┆     ┆     ┆     ┆     ┆     ┆     ┆     ┆     ┆     ┆     ┆     ┆     ┆     │\n",
       "│ n[n ┆     ┆     ┆     ┆     ┆     ┆     ┆     ┆     ┆     ┆     ┆     ┆     ┆     ┆     ┆     ┆     │\n",
       "│ H]c ┆     ┆     ┆     ┆     ┆     ┆     ┆     ┆     ┆     ┆     ┆     ┆     ┆     ┆     ┆     ┆     │\n",
       "│ 4c3 ┆     ┆     ┆     ┆     ┆     ┆     ┆     ┆     ┆     ┆     ┆     ┆     ┆     ┆     ┆     ┆     │\n",
       "│ CN… ┆     ┆     ┆     ┆     ┆     ┆     ┆     ┆     ┆     ┆     ┆     ┆     ┆     ┆     ┆     ┆     │\n",
       "│ …   ┆ …   ┆ …   ┆ …   ┆ …   ┆ …   ┆ …   ┆ …   ┆ …   ┆ …   ┆ …   ┆ …   ┆ …   ┆ …   ┆ …   ┆ …   ┆ …   │\n",
       "│ [N- ┆ 141 ┆ 141 ┆ 536 ┆ 0   ┆ 0   ┆ 0   ┆ 406 ┆ 274 ┆ 0   ┆ 0   ┆ 1   ┆ 0   ┆ 1   ┆ 10. ┆ 0.1 ┆ 0.0 │\n",
       "│ ]=[ ┆     ┆ 5   ┆     ┆     ┆     ┆     ┆ 898 ┆     ┆     ┆     ┆     ┆     ┆     ┆ 0   ┆     ┆ 329 │\n",
       "│ N+] ┆     ┆     ┆     ┆     ┆     ┆     ┆ 0   ┆     ┆     ┆     ┆     ┆     ┆     ┆     ┆     ┆ 67  │\n",
       "│ =NC ┆     ┆     ┆     ┆     ┆     ┆     ┆     ┆     ┆     ┆     ┆     ┆     ┆     ┆     ┆     ┆     │\n",
       "│ CC[ ┆     ┆     ┆     ┆     ┆     ┆     ┆     ┆     ┆     ┆     ┆     ┆     ┆     ┆     ┆     ┆     │\n",
       "│ C@H ┆     ┆     ┆     ┆     ┆     ┆     ┆     ┆     ┆     ┆     ┆     ┆     ┆     ┆     ┆     ┆     │\n",
       "│ ](N ┆     ┆     ┆     ┆     ┆     ┆     ┆     ┆     ┆     ┆     ┆     ┆     ┆     ┆     ┆     ┆     │\n",
       "│ c1n ┆     ┆     ┆     ┆     ┆     ┆     ┆     ┆     ┆     ┆     ┆     ┆     ┆     ┆     ┆     ┆     │\n",
       "│ c(N ┆     ┆     ┆     ┆     ┆     ┆     ┆     ┆     ┆     ┆     ┆     ┆     ┆     ┆     ┆     ┆     │\n",
       "│ c2n ┆     ┆     ┆     ┆     ┆     ┆     ┆     ┆     ┆     ┆     ┆     ┆     ┆     ┆     ┆     ┆     │\n",
       "│ cc… ┆     ┆     ┆     ┆     ┆     ┆     ┆     ┆     ┆     ┆     ┆     ┆     ┆     ┆     ┆     ┆     │\n",
       "│ [N- ┆ 141 ┆ 141 ┆ 136 ┆ 0   ┆ 0   ┆ 0   ┆ 208 ┆ 20  ┆ 0   ┆ 0   ┆ 0   ┆ 0   ┆ 0   ┆ 12. ┆ 0.0 ┆ 0.6 │\n",
       "│ ]=[ ┆     ┆ 5   ┆ 7   ┆     ┆     ┆     ┆ 899 ┆     ┆     ┆     ┆     ┆     ┆     ┆ 562 ┆     ┆ 281 │\n",
       "│ N+] ┆     ┆     ┆     ┆     ┆     ┆     ┆ 6   ┆     ┆     ┆     ┆     ┆     ┆     ┆ 395 ┆     ┆ 2   │\n",
       "│ =NC ┆     ┆     ┆     ┆     ┆     ┆     ┆     ┆     ┆     ┆     ┆     ┆     ┆     ┆     ┆     ┆     │\n",
       "│ CC[ ┆     ┆     ┆     ┆     ┆     ┆     ┆     ┆     ┆     ┆     ┆     ┆     ┆     ┆     ┆     ┆     │\n",
       "│ C@H ┆     ┆     ┆     ┆     ┆     ┆     ┆     ┆     ┆     ┆     ┆     ┆     ┆     ┆     ┆     ┆     │\n",
       "│ ](N ┆     ┆     ┆     ┆     ┆     ┆     ┆     ┆     ┆     ┆     ┆     ┆     ┆     ┆     ┆     ┆     │\n",
       "│ c1n ┆     ┆     ┆     ┆     ┆     ┆     ┆     ┆     ┆     ┆     ┆     ┆     ┆     ┆     ┆     ┆     │\n",
       "│ c(N ┆     ┆     ┆     ┆     ┆     ┆     ┆     ┆     ┆     ┆     ┆     ┆     ┆     ┆     ┆     ┆     │\n",
       "│ c2n ┆     ┆     ┆     ┆     ┆     ┆     ┆     ┆     ┆     ┆     ┆     ┆     ┆     ┆     ┆     ┆     │\n",
       "│ cn… ┆     ┆     ┆     ┆     ┆     ┆     ┆     ┆     ┆     ┆     ┆     ┆     ┆     ┆     ┆     ┆     │\n",
       "│ [N- ┆ 141 ┆ 141 ┆ 329 ┆ 0   ┆ 0   ┆ 0   ┆ 319 ┆ 260 ┆ 0   ┆ 0   ┆ 1   ┆ 0   ┆ 1   ┆ 10. ┆ 0.1 ┆ 0.0 │\n",
       "│ ]=[ ┆     ┆ 5   ┆     ┆     ┆     ┆     ┆ 276 ┆     ┆     ┆     ┆     ┆     ┆     ┆ 0   ┆     ┆ 347 │\n",
       "│ N+] ┆     ┆     ┆     ┆     ┆     ┆     ┆ 5   ┆     ┆     ┆     ┆     ┆     ┆     ┆     ┆     ┆ 49  │\n",
       "│ =NC ┆     ┆     ┆     ┆     ┆     ┆     ┆     ┆     ┆     ┆     ┆     ┆     ┆     ┆     ┆     ┆     │\n",
       "│ CC[ ┆     ┆     ┆     ┆     ┆     ┆     ┆     ┆     ┆     ┆     ┆     ┆     ┆     ┆     ┆     ┆     │\n",
       "│ C@H ┆     ┆     ┆     ┆     ┆     ┆     ┆     ┆     ┆     ┆     ┆     ┆     ┆     ┆     ┆     ┆     │\n",
       "│ ](N ┆     ┆     ┆     ┆     ┆     ┆     ┆     ┆     ┆     ┆     ┆     ┆     ┆     ┆     ┆     ┆     │\n",
       "│ c1n ┆     ┆     ┆     ┆     ┆     ┆     ┆     ┆     ┆     ┆     ┆     ┆     ┆     ┆     ┆     ┆     │\n",
       "│ c(N ┆     ┆     ┆     ┆     ┆     ┆     ┆     ┆     ┆     ┆     ┆     ┆     ┆     ┆     ┆     ┆     │\n",
       "│ c2n ┆     ┆     ┆     ┆     ┆     ┆     ┆     ┆     ┆     ┆     ┆     ┆     ┆     ┆     ┆     ┆     │\n",
       "│ cn… ┆     ┆     ┆     ┆     ┆     ┆     ┆     ┆     ┆     ┆     ┆     ┆     ┆     ┆     ┆     ┆     │\n",
       "│ [N- ┆ 141 ┆ 141 ┆ 757 ┆ 0   ┆ 0   ┆ 0   ┆ 408 ┆ 20  ┆ 0   ┆ 0   ┆ 0   ┆ 0   ┆ 0   ┆ 12. ┆ 0.0 ┆ 0.6 │\n",
       "│ ]=[ ┆     ┆ 5   ┆     ┆     ┆     ┆     ┆ 504 ┆     ┆     ┆     ┆     ┆     ┆     ┆ 562 ┆     ┆ 281 │\n",
       "│ N+] ┆     ┆     ┆     ┆     ┆     ┆     ┆ 6   ┆     ┆     ┆     ┆     ┆     ┆     ┆ 395 ┆     ┆ 2   │\n",
       "│ =NC ┆     ┆     ┆     ┆     ┆     ┆     ┆     ┆     ┆     ┆     ┆     ┆     ┆     ┆     ┆     ┆     │\n",
       "│ CC[ ┆     ┆     ┆     ┆     ┆     ┆     ┆     ┆     ┆     ┆     ┆     ┆     ┆     ┆     ┆     ┆     │\n",
       "│ C@H ┆     ┆     ┆     ┆     ┆     ┆     ┆     ┆     ┆     ┆     ┆     ┆     ┆     ┆     ┆     ┆     │\n",
       "│ ](N ┆     ┆     ┆     ┆     ┆     ┆     ┆     ┆     ┆     ┆     ┆     ┆     ┆     ┆     ┆     ┆     │\n",
       "│ c1n ┆     ┆     ┆     ┆     ┆     ┆     ┆     ┆     ┆     ┆     ┆     ┆     ┆     ┆     ┆     ┆     │\n",
       "│ c(N ┆     ┆     ┆     ┆     ┆     ┆     ┆     ┆     ┆     ┆     ┆     ┆     ┆     ┆     ┆     ┆     │\n",
       "│ c2n ┆     ┆     ┆     ┆     ┆     ┆     ┆     ┆     ┆     ┆     ┆     ┆     ┆     ┆     ┆     ┆     │\n",
       "│ oc… ┆     ┆     ┆     ┆     ┆     ┆     ┆     ┆     ┆     ┆     ┆     ┆     ┆     ┆     ┆     ┆     │\n",
       "│ [N- ┆ 141 ┆ 141 ┆ 335 ┆ 0   ┆ 0   ┆ 0   ┆ 408 ┆ 20  ┆ 0   ┆ 0   ┆ 0   ┆ 0   ┆ 0   ┆ 12. ┆ 0.0 ┆ 0.6 │\n",
       "│ ]=[ ┆     ┆ 5   ┆     ┆     ┆     ┆     ┆ 775 ┆     ┆     ┆     ┆     ┆     ┆     ┆ 562 ┆     ┆ 281 │\n",
       "│ N+] ┆     ┆     ┆     ┆     ┆     ┆     ┆ 7   ┆     ┆     ┆     ┆     ┆     ┆     ┆ 395 ┆     ┆ 2   │\n",
       "│ =NC ┆     ┆     ┆     ┆     ┆     ┆     ┆     ┆     ┆     ┆     ┆     ┆     ┆     ┆     ┆     ┆     │\n",
       "│ CC[ ┆     ┆     ┆     ┆     ┆     ┆     ┆     ┆     ┆     ┆     ┆     ┆     ┆     ┆     ┆     ┆     │\n",
       "│ C@H ┆     ┆     ┆     ┆     ┆     ┆     ┆     ┆     ┆     ┆     ┆     ┆     ┆     ┆     ┆     ┆     │\n",
       "│ ](N ┆     ┆     ┆     ┆     ┆     ┆     ┆     ┆     ┆     ┆     ┆     ┆     ┆     ┆     ┆     ┆     │\n",
       "│ c1n ┆     ┆     ┆     ┆     ┆     ┆     ┆     ┆     ┆     ┆     ┆     ┆     ┆     ┆     ┆     ┆     │\n",
       "│ c(N ┆     ┆     ┆     ┆     ┆     ┆     ┆     ┆     ┆     ┆     ┆     ┆     ┆     ┆     ┆     ┆     │\n",
       "│ c2n ┆     ┆     ┆     ┆     ┆     ┆     ┆     ┆     ┆     ┆     ┆     ┆     ┆     ┆     ┆     ┆     │\n",
       "│ cn… ┆     ┆     ┆     ┆     ┆     ┆     ┆     ┆     ┆     ┆     ┆     ┆     ┆     ┆     ┆     ┆     │\n",
       "│ [N- ┆ 141 ┆ 141 ┆ 179 ┆ 0   ┆ 0   ┆ 0   ┆ 467 ┆ 20  ┆ 0   ┆ 0   ┆ 0   ┆ 0   ┆ 0   ┆ 12. ┆ 0.0 ┆ 0.6 │\n",
       "│ ]=[ ┆     ┆ 5   ┆ 2   ┆     ┆     ┆     ┆ 402 ┆     ┆     ┆     ┆     ┆     ┆     ┆ 562 ┆     ┆ 281 │\n",
       "│ N+] ┆     ┆     ┆     ┆     ┆     ┆     ┆ 5   ┆     ┆     ┆     ┆     ┆     ┆     ┆ 395 ┆     ┆ 2   │\n",
       "│ =NC ┆     ┆     ┆     ┆     ┆     ┆     ┆     ┆     ┆     ┆     ┆     ┆     ┆     ┆     ┆     ┆     │\n",
       "│ CC[ ┆     ┆     ┆     ┆     ┆     ┆     ┆     ┆     ┆     ┆     ┆     ┆     ┆     ┆     ┆     ┆     │\n",
       "│ C@H ┆     ┆     ┆     ┆     ┆     ┆     ┆     ┆     ┆     ┆     ┆     ┆     ┆     ┆     ┆     ┆     │\n",
       "│ ](N ┆     ┆     ┆     ┆     ┆     ┆     ┆     ┆     ┆     ┆     ┆     ┆     ┆     ┆     ┆     ┆     │\n",
       "│ c1n ┆     ┆     ┆     ┆     ┆     ┆     ┆     ┆     ┆     ┆     ┆     ┆     ┆     ┆     ┆     ┆     │\n",
       "│ c(N ┆     ┆     ┆     ┆     ┆     ┆     ┆     ┆     ┆     ┆     ┆     ┆     ┆     ┆     ┆     ┆     │\n",
       "│ c2n ┆     ┆     ┆     ┆     ┆     ┆     ┆     ┆     ┆     ┆     ┆     ┆     ┆     ┆     ┆     ┆     │\n",
       "│ oc… ┆     ┆     ┆     ┆     ┆     ┆     ┆     ┆     ┆     ┆     ┆     ┆     ┆     ┆     ┆     ┆     │\n",
       "│ [N- ┆ 141 ┆ 141 ┆ 117 ┆ 0   ┆ 0   ┆ 0   ┆ 524 ┆ 60  ┆ 0   ┆ 0   ┆ 0   ┆ 0   ┆ 0   ┆ 21. ┆ 0.0 ┆ 0.3 │\n",
       "│ ]=[ ┆     ┆ 5   ┆ 8   ┆     ┆     ┆     ┆ 013 ┆     ┆     ┆     ┆     ┆     ┆     ┆ 758 ┆     ┆ 626 │\n",
       "│ N+] ┆     ┆     ┆     ┆     ┆     ┆     ┆ 7   ┆     ┆     ┆     ┆     ┆     ┆     ┆ 707 ┆     ┆ 45  │\n",
       "│ =NC ┆     ┆     ┆     ┆     ┆     ┆     ┆     ┆     ┆     ┆     ┆     ┆     ┆     ┆     ┆     ┆     │\n",
       "│ CC[ ┆     ┆     ┆     ┆     ┆     ┆     ┆     ┆     ┆     ┆     ┆     ┆     ┆     ┆     ┆     ┆     │\n",
       "│ C@H ┆     ┆     ┆     ┆     ┆     ┆     ┆     ┆     ┆     ┆     ┆     ┆     ┆     ┆     ┆     ┆     │\n",
       "│ ](N ┆     ┆     ┆     ┆     ┆     ┆     ┆     ┆     ┆     ┆     ┆     ┆     ┆     ┆     ┆     ┆     │\n",
       "│ c1n ┆     ┆     ┆     ┆     ┆     ┆     ┆     ┆     ┆     ┆     ┆     ┆     ┆     ┆     ┆     ┆     │\n",
       "│ c(N ┆     ┆     ┆     ┆     ┆     ┆     ┆     ┆     ┆     ┆     ┆     ┆     ┆     ┆     ┆     ┆     │\n",
       "│ c2n ┆     ┆     ┆     ┆     ┆     ┆     ┆     ┆     ┆     ┆     ┆     ┆     ┆     ┆     ┆     ┆     │\n",
       "│ nc… ┆     ┆     ┆     ┆     ┆     ┆     ┆     ┆     ┆     ┆     ┆     ┆     ┆     ┆     ┆     ┆     │\n",
       "│ [N- ┆ 141 ┆ 141 ┆ 169 ┆ 0   ┆ 0   ┆ 0   ┆ 524 ┆ 60  ┆ 0   ┆ 0   ┆ 0   ┆ 0   ┆ 0   ┆ 21. ┆ 0.0 ┆ 0.3 │\n",
       "│ ]=[ ┆     ┆ 5   ┆ 9   ┆     ┆     ┆     ┆ 013 ┆     ┆     ┆     ┆     ┆     ┆     ┆ 758 ┆     ┆ 626 │\n",
       "│ N+] ┆     ┆     ┆     ┆     ┆     ┆     ┆ 7   ┆     ┆     ┆     ┆     ┆     ┆     ┆ 707 ┆     ┆ 45  │\n",
       "│ =NC ┆     ┆     ┆     ┆     ┆     ┆     ┆     ┆     ┆     ┆     ┆     ┆     ┆     ┆     ┆     ┆     │\n",
       "│ CC[ ┆     ┆     ┆     ┆     ┆     ┆     ┆     ┆     ┆     ┆     ┆     ┆     ┆     ┆     ┆     ┆     │\n",
       "│ C@H ┆     ┆     ┆     ┆     ┆     ┆     ┆     ┆     ┆     ┆     ┆     ┆     ┆     ┆     ┆     ┆     │\n",
       "│ ](N ┆     ┆     ┆     ┆     ┆     ┆     ┆     ┆     ┆     ┆     ┆     ┆     ┆     ┆     ┆     ┆     │\n",
       "│ c1n ┆     ┆     ┆     ┆     ┆     ┆     ┆     ┆     ┆     ┆     ┆     ┆     ┆     ┆     ┆     ┆     │\n",
       "│ c(N ┆     ┆     ┆     ┆     ┆     ┆     ┆     ┆     ┆     ┆     ┆     ┆     ┆     ┆     ┆     ┆     │\n",
       "│ c2n ┆     ┆     ┆     ┆     ┆     ┆     ┆     ┆     ┆     ┆     ┆     ┆     ┆     ┆     ┆     ┆     │\n",
       "│ nc… ┆     ┆     ┆     ┆     ┆     ┆     ┆     ┆     ┆     ┆     ┆     ┆     ┆     ┆     ┆     ┆     │\n",
       "│ [N- ┆ 141 ┆ 141 ┆ 130 ┆ 0   ┆ 0   ┆ 0   ┆ 361 ┆ 20  ┆ 0   ┆ 0   ┆ 0   ┆ 0   ┆ 0   ┆ 12. ┆ 0.0 ┆ 0.6 │\n",
       "│ ]=[ ┆     ┆ 5   ┆ 8   ┆     ┆     ┆     ┆ 702 ┆     ┆     ┆     ┆     ┆     ┆     ┆ 562 ┆     ┆ 281 │\n",
       "│ N+] ┆     ┆     ┆     ┆     ┆     ┆     ┆ 4   ┆     ┆     ┆     ┆     ┆     ┆     ┆ 395 ┆     ┆ 2   │\n",
       "│ =NC ┆     ┆     ┆     ┆     ┆     ┆     ┆     ┆     ┆     ┆     ┆     ┆     ┆     ┆     ┆     ┆     │\n",
       "│ CC[ ┆     ┆     ┆     ┆     ┆     ┆     ┆     ┆     ┆     ┆     ┆     ┆     ┆     ┆     ┆     ┆     │\n",
       "│ C@H ┆     ┆     ┆     ┆     ┆     ┆     ┆     ┆     ┆     ┆     ┆     ┆     ┆     ┆     ┆     ┆     │\n",
       "│ ](N ┆     ┆     ┆     ┆     ┆     ┆     ┆     ┆     ┆     ┆     ┆     ┆     ┆     ┆     ┆     ┆     │\n",
       "│ c1n ┆     ┆     ┆     ┆     ┆     ┆     ┆     ┆     ┆     ┆     ┆     ┆     ┆     ┆     ┆     ┆     │\n",
       "│ c(N ┆     ┆     ┆     ┆     ┆     ┆     ┆     ┆     ┆     ┆     ┆     ┆     ┆     ┆     ┆     ┆     │\n",
       "│ c2n ┆     ┆     ┆     ┆     ┆     ┆     ┆     ┆     ┆     ┆     ┆     ┆     ┆     ┆     ┆     ┆     │\n",
       "│ nn… ┆     ┆     ┆     ┆     ┆     ┆     ┆     ┆     ┆     ┆     ┆     ┆     ┆     ┆     ┆     ┆     │\n",
       "│ [N- ┆ 141 ┆ 141 ┆ 141 ┆ 0   ┆ 0   ┆ 0   ┆ 268 ┆ 20  ┆ 0   ┆ 0   ┆ 0   ┆ 0   ┆ 0   ┆ 12. ┆ 0.0 ┆ 0.6 │\n",
       "│ ]=[ ┆     ┆ 5   ┆ 5   ┆     ┆     ┆     ┆ 351 ┆     ┆     ┆     ┆     ┆     ┆     ┆ 562 ┆     ┆ 281 │\n",
       "│ N+] ┆     ┆     ┆     ┆     ┆     ┆     ┆     ┆     ┆     ┆     ┆     ┆     ┆     ┆ 395 ┆     ┆ 2   │\n",
       "│ =NC ┆     ┆     ┆     ┆     ┆     ┆     ┆     ┆     ┆     ┆     ┆     ┆     ┆     ┆     ┆     ┆     │\n",
       "│ CC[ ┆     ┆     ┆     ┆     ┆     ┆     ┆     ┆     ┆     ┆     ┆     ┆     ┆     ┆     ┆     ┆     │\n",
       "│ C@H ┆     ┆     ┆     ┆     ┆     ┆     ┆     ┆     ┆     ┆     ┆     ┆     ┆     ┆     ┆     ┆     │\n",
       "│ ](N ┆     ┆     ┆     ┆     ┆     ┆     ┆     ┆     ┆     ┆     ┆     ┆     ┆     ┆     ┆     ┆     │\n",
       "│ c1n ┆     ┆     ┆     ┆     ┆     ┆     ┆     ┆     ┆     ┆     ┆     ┆     ┆     ┆     ┆     ┆     │\n",
       "│ c(N ┆     ┆     ┆     ┆     ┆     ┆     ┆     ┆     ┆     ┆     ┆     ┆     ┆     ┆     ┆     ┆     │\n",
       "│ c2n ┆     ┆     ┆     ┆     ┆     ┆     ┆     ┆     ┆     ┆     ┆     ┆     ┆     ┆     ┆     ┆     │\n",
       "│ oc… ┆     ┆     ┆     ┆     ┆     ┆     ┆     ┆     ┆     ┆     ┆     ┆     ┆     ┆     ┆     ┆     │\n",
       "└─────┴─────┴─────┴─────┴─────┴─────┴─────┴─────┴─────┴─────┴─────┴─────┴─────┴─────┴─────┴─────┴─────┘"
      ]
     },
     "execution_count": 39,
     "metadata": {},
     "output_type": "execute_result"
    }
   ],
   "source": [
    "train_df = train_df.with_columns(\n",
    "    pl.when(pl.col('label') == 1).then(\n",
    "        pl.col('inter_group_weight') * pl.col('intra_group_weight') / pl.col('pos_mol_per_scaf')).otherwise(\n",
    "        pl.col('inter_group_weight') * (1.0 - pl.col('intra_group_weight')) / (pl.col('mol_per_scaf') - pl.col('pos_mol_per_scaf'))\n",
    "    ).alias('sample_weight')\n",
    ")\n",
    "train_df"
   ]
  },
  {
   "cell_type": "code",
   "execution_count": 41,
   "id": "03e0cf25",
   "metadata": {},
   "outputs": [
    {
     "data": {
      "text/plain": [
       "(array([4.2695137e+07, 5.3968569e+07, 9.1266800e+05, 3.3136300e+05,\n",
       "        2.9932300e+05, 9.9974000e+04, 3.7910000e+04, 1.8902000e+04,\n",
       "        1.1310000e+04, 4.0454000e+04]),\n",
       " array([0.        , 0.1       , 0.2       , 0.30000001, 0.40000001,\n",
       "        0.5       , 0.60000002, 0.69999999, 0.80000001, 0.89999998,\n",
       "        1.        ]),\n",
       " <BarContainer object of 10 artists>)"
      ]
     },
     "execution_count": 41,
     "metadata": {},
     "output_type": "execute_result"
    },
    {
     "data": {
      "image/png": "[encoded data removed]",
      "text/plain": [
       "<Figure size 640x480 with 1 Axes>"
      ]
     },
     "metadata": {},
     "output_type": "display_data"
    }
   ],
   "source": [
    "plt.hist(train_df['intra_group_weight'], log = True)"
   ]
  },
  {
   "cell_type": "code",
   "execution_count": 44,
   "id": "60962032",
   "metadata": {},
   "outputs": [
    {
     "data": {
      "text/plain": [
       "(array([9.4222456e+07, 1.8949360e+06, 5.8428700e+05, 1.9505400e+05,\n",
       "        1.0170030e+06, 3.8229600e+05, 0.0000000e+00, 0.0000000e+00,\n",
       "        5.3760000e+04, 6.5818000e+04]),\n",
       " array([1.00000000e+00, 6.51489990e+03, 1.30287998e+04, 1.95426992e+04,\n",
       "        2.60565996e+04, 3.25705000e+04, 3.90843984e+04, 4.55983008e+04,\n",
       "        5.21121992e+04, 5.86261016e+04, 6.51400000e+04]),\n",
       " <BarContainer object of 10 artists>)"
      ]
     },
     "execution_count": 44,
     "metadata": {},
     "output_type": "execute_result"
    },
    {
     "data": {
      "image/png": "[encoded data removed]",
      "text/plain": [
       "<Figure size 640x480 with 1 Axes>"
      ]
     },
     "metadata": {},
     "output_type": "display_data"
    }
   ],
   "source": [
    "plt.hist(train_df['inter_group_weight'], log = True)"
   ]
  },
  {
   "cell_type": "code",
   "execution_count": 47,
   "id": "656a900c",
   "metadata": {},
   "outputs": [
    {
     "data": {
      "text/plain": [
       "(array([8.4094985e+07, 1.4320595e+07, 1.8000000e+01, 4.0000000e+00,\n",
       "        1.0000000e+00, 6.0000000e+00, 0.0000000e+00, 0.0000000e+00,\n",
       "        0.0000000e+00, 1.0000000e+00]),\n",
       " array([8.35499443e-04, 9.56307770e-01, 1.91178004e+00, 2.86725231e+00,\n",
       "        3.82272458e+00, 4.77819685e+00, 5.73366912e+00, 6.68914139e+00,\n",
       "        7.64461366e+00, 8.60008593e+00, 9.55555820e+00]),\n",
       " <BarContainer object of 10 artists>)"
      ]
     },
     "execution_count": 47,
     "metadata": {},
     "output_type": "execute_result"
    },
    {
     "data": {
      "image/png": "[encoded data removed]",
      "text/plain": [
       "<Figure size 640x480 with 1 Axes>"
      ]
     },
     "metadata": {},
     "output_type": "display_data"
    }
   ],
   "source": [
    "plt.hist(train_df['sample_weight'], log = True)"
   ]
  },
  {
   "cell_type": "code",
   "execution_count": 53,
   "id": "d1c58262",
   "metadata": {},
   "outputs": [
    {
     "data": {
      "text/plain": [
       "(98415610, 17)"
      ]
     },
     "execution_count": 53,
     "metadata": {},
     "output_type": "execute_result"
    }
   ],
   "source": [
    "train_df.shape"
   ]
  },
  {
   "cell_type": "code",
   "execution_count": 54,
   "id": "9a9b0ff2",
   "metadata": {},
   "outputs": [
    {
     "name": "stdout",
     "output_type": "stream",
     "text": [
      "BRD4 0.014448811387579806\n",
      "HSA 0.012913575375656095\n",
      "sEH 0.02290908303554082\n",
      "Union: 0.047737922495750755\n"
     ]
    }
   ],
   "source": [
    "analyze_sample_weight(train_df)"
   ]
  },
  {
   "cell_type": "code",
   "execution_count": 55,
   "id": "77cae613",
   "metadata": {},
   "outputs": [],
   "source": [
    "!mkdir /home/dangnh36/datasets/competitions/leash_belka/processed/sample_weights/"
   ]
  },
  {
   "cell_type": "code",
   "execution_count": 57,
   "id": "524405a6",
   "metadata": {},
   "outputs": [],
   "source": [
    "train_df.select('sample_weight').write_csv('/home/dangnh36/datasets/competitions/leash_belka/processed/sample_weights/scaffold_v1.csv')"
   ]
  },
  {
   "cell_type": "code",
   "execution_count": null,
   "id": "03972fdb",
   "metadata": {},
   "outputs": [],
   "source": []
  },
  {
   "cell_type": "code",
   "execution_count": null,
   "id": "dd6aae7a",
   "metadata": {},
   "outputs": [],
   "source": []
  },
  {
   "cell_type": "markdown",
   "id": "9c4eda19",
   "metadata": {},
   "source": [
    "# Sample weight by Baseline"
   ]
  },
  {
   "cell_type": "code",
   "execution_count": 4,
   "id": "cec4d3ab",
   "metadata": {},
   "outputs": [
    {
     "data": {
      "text/html": [
       "<div><style>\n",
       ".dataframe > thead > tr,\n",
       ".dataframe > tbody > tr {\n",
       "  text-align: right;\n",
       "  white-space: pre-wrap;\n",
       "}\n",
       "</style>\n",
       "<small>shape: (98_415_610, 6)</small><table border=\"1\" class=\"dataframe\"><thead><tr><th>BRD4</th><th>HSA</th><th>sEH</th><th>BRD4_baseline</th><th>HSA_baseline</th><th>sEH_baseline</th></tr><tr><td>u8</td><td>u8</td><td>u8</td><td>f64</td><td>f64</td><td>f64</td></tr></thead><tbody><tr><td>0</td><td>0</td><td>0</td><td>0.000002</td><td>0.000047</td><td>0.000008</td></tr><tr><td>0</td><td>0</td><td>0</td><td>0.000002</td><td>0.000029</td><td>0.000008</td></tr><tr><td>0</td><td>0</td><td>0</td><td>6.5125e-8</td><td>0.000007</td><td>0.000006</td></tr><tr><td>0</td><td>0</td><td>0</td><td>1.4169e-7</td><td>0.000001</td><td>0.000002</td></tr><tr><td>0</td><td>0</td><td>0</td><td>2.8887e-7</td><td>0.000006</td><td>0.000003</td></tr><tr><td>0</td><td>0</td><td>0</td><td>3.1989e-7</td><td>0.000011</td><td>0.000006</td></tr><tr><td>0</td><td>0</td><td>0</td><td>2.3713e-7</td><td>0.000007</td><td>0.000007</td></tr><tr><td>0</td><td>0</td><td>0</td><td>4.0376e-7</td><td>0.00001</td><td>0.000006</td></tr><tr><td>0</td><td>0</td><td>0</td><td>0.000001</td><td>0.000034</td><td>0.000006</td></tr><tr><td>0</td><td>0</td><td>0</td><td>2.3771e-7</td><td>0.000011</td><td>0.000003</td></tr><tr><td>&hellip;</td><td>&hellip;</td><td>&hellip;</td><td>&hellip;</td><td>&hellip;</td><td>&hellip;</td></tr><tr><td>0</td><td>0</td><td>0</td><td>3.6129e-7</td><td>0.000018</td><td>0.000003</td></tr><tr><td>0</td><td>0</td><td>0</td><td>0.000001</td><td>0.000073</td><td>0.000004</td></tr><tr><td>0</td><td>0</td><td>0</td><td>0.000001</td><td>0.000029</td><td>0.000003</td></tr><tr><td>0</td><td>0</td><td>0</td><td>0.000001</td><td>0.000027</td><td>0.000003</td></tr><tr><td>0</td><td>0</td><td>0</td><td>0.000002</td><td>0.000063</td><td>0.000006</td></tr><tr><td>0</td><td>0</td><td>0</td><td>9.2532e-8</td><td>0.000002</td><td>0.000001</td></tr><tr><td>0</td><td>0</td><td>0</td><td>9.1673e-7</td><td>0.00002</td><td>0.000002</td></tr><tr><td>0</td><td>0</td><td>0</td><td>1.7096e-7</td><td>0.00016</td><td>0.000011</td></tr><tr><td>0</td><td>0</td><td>0</td><td>0.000003</td><td>0.000112</td><td>0.000007</td></tr><tr><td>0</td><td>0</td><td>0</td><td>2.0285e-7</td><td>0.000008</td><td>0.000003</td></tr></tbody></table></div>"
      ],
      "text/plain": [
       "shape: (98_415_610, 6)\n",
       "┌──────┬─────┬─────┬───────────────┬──────────────┬──────────────┐\n",
       "│ BRD4 ┆ HSA ┆ sEH ┆ BRD4_baseline ┆ HSA_baseline ┆ sEH_baseline │\n",
       "│ ---  ┆ --- ┆ --- ┆ ---           ┆ ---          ┆ ---          │\n",
       "│ u8   ┆ u8  ┆ u8  ┆ f64           ┆ f64          ┆ f64          │\n",
       "╞══════╪═════╪═════╪═══════════════╪══════════════╪══════════════╡\n",
       "│ 0    ┆ 0   ┆ 0   ┆ 0.000002      ┆ 0.000047     ┆ 0.000008     │\n",
       "│ 0    ┆ 0   ┆ 0   ┆ 0.000002      ┆ 0.000029     ┆ 0.000008     │\n",
       "│ 0    ┆ 0   ┆ 0   ┆ 6.5125e-8     ┆ 0.000007     ┆ 0.000006     │\n",
       "│ 0    ┆ 0   ┆ 0   ┆ 1.4169e-7     ┆ 0.000001     ┆ 0.000002     │\n",
       "│ 0    ┆ 0   ┆ 0   ┆ 2.8887e-7     ┆ 0.000006     ┆ 0.000003     │\n",
       "│ 0    ┆ 0   ┆ 0   ┆ 3.1989e-7     ┆ 0.000011     ┆ 0.000006     │\n",
       "│ 0    ┆ 0   ┆ 0   ┆ 2.3713e-7     ┆ 0.000007     ┆ 0.000007     │\n",
       "│ 0    ┆ 0   ┆ 0   ┆ 4.0376e-7     ┆ 0.00001      ┆ 0.000006     │\n",
       "│ 0    ┆ 0   ┆ 0   ┆ 0.000001      ┆ 0.000034     ┆ 0.000006     │\n",
       "│ 0    ┆ 0   ┆ 0   ┆ 2.3771e-7     ┆ 0.000011     ┆ 0.000003     │\n",
       "│ …    ┆ …   ┆ …   ┆ …             ┆ …            ┆ …            │\n",
       "│ 0    ┆ 0   ┆ 0   ┆ 3.6129e-7     ┆ 0.000018     ┆ 0.000003     │\n",
       "│ 0    ┆ 0   ┆ 0   ┆ 0.000001      ┆ 0.000073     ┆ 0.000004     │\n",
       "│ 0    ┆ 0   ┆ 0   ┆ 0.000001      ┆ 0.000029     ┆ 0.000003     │\n",
       "│ 0    ┆ 0   ┆ 0   ┆ 0.000001      ┆ 0.000027     ┆ 0.000003     │\n",
       "│ 0    ┆ 0   ┆ 0   ┆ 0.000002      ┆ 0.000063     ┆ 0.000006     │\n",
       "│ 0    ┆ 0   ┆ 0   ┆ 9.2532e-8     ┆ 0.000002     ┆ 0.000001     │\n",
       "│ 0    ┆ 0   ┆ 0   ┆ 9.1673e-7     ┆ 0.00002      ┆ 0.000002     │\n",
       "│ 0    ┆ 0   ┆ 0   ┆ 1.7096e-7     ┆ 0.00016      ┆ 0.000011     │\n",
       "│ 0    ┆ 0   ┆ 0   ┆ 0.000003      ┆ 0.000112     ┆ 0.000007     │\n",
       "│ 0    ┆ 0   ┆ 0   ┆ 2.0285e-7     ┆ 0.000008     ┆ 0.000003     │\n",
       "└──────┴─────┴─────┴───────────────┴──────────────┴──────────────┘"
      ]
     },
     "execution_count": 4,
     "metadata": {},
     "output_type": "execute_result"
    }
   ],
   "source": [
    "df = pl.scan_csv('/home/dangnh36/datasets/competitions/leash_belka/processed/train_v3.csv').select(\n",
    "                                     pl.col('BRD4', 'HSA',\n",
    "                                            'sEH').cast(pl.UInt8),\n",
    "                                     pl.col('BRD4_baseline', 'HSA_baseline',\n",
    "                                            'sEH_baseline')).collect()\n",
    "df"
   ]
  },
  {
   "cell_type": "code",
   "execution_count": 5,
   "id": "2a2a0c42",
   "metadata": {},
   "outputs": [],
   "source": [
    "PROTEINS = ['BRD4', 'HSA', 'sEH']\n",
    "BASELINE_COLS = [f'{protein}_baseline' for protein in PROTEINS]"
   ]
  },
  {
   "cell_type": "code",
   "execution_count": null,
   "id": "caba6beb",
   "metadata": {},
   "outputs": [],
   "source": [
    "# df[BASELINE_COLS].to_pandas().hist(bins = 50, log = True, figsize = (20, 15))"
   ]
  },
  {
   "cell_type": "code",
   "execution_count": 6,
   "id": "6e1cb702",
   "metadata": {},
   "outputs": [
    {
     "data": {
      "text/html": [
       "<div><style>\n",
       ".dataframe > thead > tr,\n",
       ".dataframe > tbody > tr {\n",
       "  text-align: right;\n",
       "  white-space: pre-wrap;\n",
       "}\n",
       "</style>\n",
       "<small>shape: (17, 4)</small><table border=\"1\" class=\"dataframe\"><thead><tr><th>statistic</th><th>BRD4_baseline</th><th>HSA_baseline</th><th>sEH_baseline</th></tr><tr><td>str</td><td>f64</td><td>f64</td><td>f64</td></tr></thead><tbody><tr><td>&quot;count&quot;</td><td>9.841561e7</td><td>9.841561e7</td><td>9.841561e7</td></tr><tr><td>&quot;null_count&quot;</td><td>0.0</td><td>0.0</td><td>0.0</td></tr><tr><td>&quot;mean&quot;</td><td>0.000017</td><td>0.000083</td><td>0.000019</td></tr><tr><td>&quot;std&quot;</td><td>0.000441</td><td>0.000975</td><td>0.000415</td></tr><tr><td>&quot;min&quot;</td><td>0.0</td><td>0.0</td><td>0.0</td></tr><tr><td>&quot;1%&quot;</td><td>4.2266e-9</td><td>1.7573e-7</td><td>6.1547e-9</td></tr><tr><td>&quot;2.5%&quot;</td><td>1.1823e-8</td><td>4.1410e-7</td><td>1.7956e-8</td></tr><tr><td>&quot;5%&quot;</td><td>3.0127e-8</td><td>9.1994e-7</td><td>6.4347e-8</td></tr><tr><td>&quot;10%&quot;</td><td>9.1774e-8</td><td>0.000002</td><td>3.4208e-7</td></tr><tr><td>&quot;25%&quot;</td><td>4.3897e-7</td><td>0.000006</td><td>0.000001</td></tr><tr><td>&quot;50%&quot;</td><td>0.000002</td><td>0.000015</td><td>0.000004</td></tr><tr><td>&quot;75%&quot;</td><td>0.000006</td><td>0.000041</td><td>0.000008</td></tr><tr><td>&quot;90%&quot;</td><td>0.000021</td><td>0.00011</td><td>0.000016</td></tr><tr><td>&quot;95%&quot;</td><td>0.000045</td><td>0.000226</td><td>0.000026</td></tr><tr><td>&quot;97.5%&quot;</td><td>0.000091</td><td>0.000463</td><td>0.000048</td></tr><tr><td>&quot;99%&quot;</td><td>0.000221</td><td>0.001113</td><td>0.000172</td></tr><tr><td>&quot;max&quot;</td><td>1.0</td><td>1.0</td><td>1.0</td></tr></tbody></table></div>"
      ],
      "text/plain": [
       "shape: (17, 4)\n",
       "┌────────────┬───────────────┬──────────────┬──────────────┐\n",
       "│ statistic  ┆ BRD4_baseline ┆ HSA_baseline ┆ sEH_baseline │\n",
       "│ ---        ┆ ---           ┆ ---          ┆ ---          │\n",
       "│ str        ┆ f64           ┆ f64          ┆ f64          │\n",
       "╞════════════╪═══════════════╪══════════════╪══════════════╡\n",
       "│ count      ┆ 9.841561e7    ┆ 9.841561e7   ┆ 9.841561e7   │\n",
       "│ null_count ┆ 0.0           ┆ 0.0          ┆ 0.0          │\n",
       "│ mean       ┆ 0.000017      ┆ 0.000083     ┆ 0.000019     │\n",
       "│ std        ┆ 0.000441      ┆ 0.000975     ┆ 0.000415     │\n",
       "│ min        ┆ 0.0           ┆ 0.0          ┆ 0.0          │\n",
       "│ 1%         ┆ 4.2266e-9     ┆ 1.7573e-7    ┆ 6.1547e-9    │\n",
       "│ 2.5%       ┆ 1.1823e-8     ┆ 4.1410e-7    ┆ 1.7956e-8    │\n",
       "│ 5%         ┆ 3.0127e-8     ┆ 9.1994e-7    ┆ 6.4347e-8    │\n",
       "│ 10%        ┆ 9.1774e-8     ┆ 0.000002     ┆ 3.4208e-7    │\n",
       "│ 25%        ┆ 4.3897e-7     ┆ 0.000006     ┆ 0.000001     │\n",
       "│ 50%        ┆ 0.000002      ┆ 0.000015     ┆ 0.000004     │\n",
       "│ 75%        ┆ 0.000006      ┆ 0.000041     ┆ 0.000008     │\n",
       "│ 90%        ┆ 0.000021      ┆ 0.00011      ┆ 0.000016     │\n",
       "│ 95%        ┆ 0.000045      ┆ 0.000226     ┆ 0.000026     │\n",
       "│ 97.5%      ┆ 0.000091      ┆ 0.000463     ┆ 0.000048     │\n",
       "│ 99%        ┆ 0.000221      ┆ 0.001113     ┆ 0.000172     │\n",
       "│ max        ┆ 1.0           ┆ 1.0          ┆ 1.0          │\n",
       "└────────────┴───────────────┴──────────────┴──────────────┘"
      ]
     },
     "execution_count": 6,
     "metadata": {},
     "output_type": "execute_result"
    }
   ],
   "source": [
    "df[BASELINE_COLS].describe(percentiles = PERCENTILES)"
   ]
  },
  {
   "cell_type": "code",
   "execution_count": 9,
   "id": "15eea09d",
   "metadata": {},
   "outputs": [
    {
     "data": {
      "text/plain": [
       "57149.65025596602"
      ]
     },
     "execution_count": 9,
     "metadata": {},
     "output_type": "execute_result"
    }
   ],
   "source": [
    "tmp = df.filter(pl.col('BRD4_baseline') > 0.0)['BRD4_baseline']\n",
    "tmp.max() / tmp.mean()"
   ]
  },
  {
   "cell_type": "code",
   "execution_count": null,
   "id": "28695c98",
   "metadata": {},
   "outputs": [],
   "source": []
  },
  {
   "cell_type": "code",
   "execution_count": null,
   "id": "96b09c57",
   "metadata": {},
   "outputs": [],
   "source": []
  },
  {
   "cell_type": "code",
   "execution_count": null,
   "id": "a4756580",
   "metadata": {},
   "outputs": [],
   "source": []
  },
  {
   "cell_type": "code",
   "execution_count": null,
   "id": "df084132",
   "metadata": {},
   "outputs": [],
   "source": []
  },
  {
   "cell_type": "code",
   "execution_count": null,
   "id": "865e6e37",
   "metadata": {},
   "outputs": [],
   "source": []
  },
  {
   "cell_type": "code",
   "execution_count": null,
   "id": "571aeb2e",
   "metadata": {},
   "outputs": [],
   "source": []
  },
  {
   "cell_type": "code",
   "execution_count": null,
   "id": "fbef52a4",
   "metadata": {},
   "outputs": [],
   "source": []
  },
  {
   "cell_type": "code",
   "execution_count": null,
   "id": "b3efee58",
   "metadata": {},
   "outputs": [],
   "source": []
  },
  {
   "cell_type": "code",
   "execution_count": null,
   "id": "66385f68",
   "metadata": {},
   "outputs": [],
   "source": []
  },
  {
   "cell_type": "code",
   "execution_count": null,
   "id": "c5e308fe",
   "metadata": {},
   "outputs": [],
   "source": []
  },
  {
   "cell_type": "code",
   "execution_count": null,
   "id": "c6dfae79",
   "metadata": {},
   "outputs": [],
   "source": []
  },
  {
   "cell_type": "code",
   "execution_count": null,
   "id": "76e19b88",
   "metadata": {},
   "outputs": [],
   "source": []
  },
  {
   "cell_type": "code",
   "execution_count": null,
   "id": "50786708",
   "metadata": {},
   "outputs": [],
   "source": []
  },
  {
   "cell_type": "code",
   "execution_count": null,
   "id": "aaea70f0",
   "metadata": {},
   "outputs": [],
   "source": []
  },
  {
   "cell_type": "code",
   "execution_count": null,
   "id": "5a1f7b81",
   "metadata": {},
   "outputs": [],
   "source": []
  },
  {
   "cell_type": "code",
   "execution_count": null,
   "id": "6b21766c",
   "metadata": {},
   "outputs": [],
   "source": []
  },
  {
   "cell_type": "code",
   "execution_count": null,
   "id": "5840521a",
   "metadata": {},
   "outputs": [],
   "source": []
  },
  {
   "cell_type": "code",
   "execution_count": null,
   "id": "1af6c8ee",
   "metadata": {},
   "outputs": [],
   "source": []
  },
  {
   "cell_type": "code",
   "execution_count": null,
   "id": "1d8f845f",
   "metadata": {},
   "outputs": [],
   "source": []
  },
  {
   "cell_type": "code",
   "execution_count": null,
   "id": "66b1df99",
   "metadata": {},
   "outputs": [],
   "source": []
  },
  {
   "cell_type": "code",
   "execution_count": null,
   "id": "f6f61d3f",
   "metadata": {},
   "outputs": [],
   "source": []
  },
  {
   "cell_type": "code",
   "execution_count": null,
   "id": "2f84d46e",
   "metadata": {},
   "outputs": [],
   "source": []
  },
  {
   "cell_type": "code",
   "execution_count": null,
   "id": "ce42f992",
   "metadata": {},
   "outputs": [],
   "source": []
  }
 ],
 "metadata": {
  "kernelspec": {
   "display_name": "Python 3 (ipykernel)",
   "language": "python",
   "name": "python3"
  },
  "language_info": {
   "codemirror_mode": {
    "name": "ipython",
    "version": 3
   },
   "file_extension": ".py",
   "mimetype": "text/x-python",
   "name": "python",
   "nbconvert_exporter": "python",
   "pygments_lexer": "ipython3",
   "version": "3.10.13"
  }
 },
 "nbformat": 4,
 "nbformat_minor": 5
}
