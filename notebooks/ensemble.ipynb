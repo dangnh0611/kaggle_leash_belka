{
 "cells": [
  {
   "cell_type": "code",
   "execution_count": 1,
   "id": "e9a103f2-1226-411a-a069-7a75beffc87c",
   "metadata": {},
   "outputs": [
    {
     "data": {
      "text/plain": [
       "80"
      ]
     },
     "execution_count": 1,
     "metadata": {},
     "output_type": "execute_result"
    }
   ],
   "source": [
    "from tokenizers import Tokenizer\n",
    "from transformers import PreTrainedTokenizerFast\n",
    "from tokenizers.models import WordLevel, BPE\n",
    "from tokenizers.pre_tokenizers import Whitespace,Split,ByteLevel\n",
    "from tokenizers.normalizers import Lowercase, NFKC\n",
    "import os\n",
    "import polars as pl\n",
    "from joblib import Parallel, delayed\n",
    "import multiprocessing\n",
    "import numpy as np\n",
    "import pandas as pd\n",
    "from tqdm import tqdm\n",
    "import time\n",
    "import json\n",
    "from tokenizers.trainers import BpeTrainer, UnigramTrainer, WordLevelTrainer, WordPieceTrainer\n",
    "import gc\n",
    "\n",
    "from rdkit import Chem\n",
    "from rdkit.Chem import AllChem\n",
    "import atomInSmiles\n",
    "import mapply\n",
    "from collections import Counter\n",
    "\n",
    "multiprocessing.cpu_count()"
   ]
  },
  {
   "cell_type": "code",
   "execution_count": null,
   "id": "cf2f140b-2346-43d5-9cb4-265db3a06858",
   "metadata": {},
   "outputs": [],
   "source": []
  },
  {
   "cell_type": "code",
   "execution_count": 2,
   "id": "58e361da-e52f-4342-b8d1-ae45ab452894",
   "metadata": {},
   "outputs": [
    {
     "name": "stdout",
     "output_type": "stream",
     "text": [
      "0.12669966649264097 GB\n"
     ]
    },
    {
     "data": {
      "text/html": [
       "<div><style>\n",
       ".dataframe > thead > tr,\n",
       ".dataframe > tbody > tr {\n",
       "  text-align: right;\n",
       "  white-space: pre-wrap;\n",
       "}\n",
       "</style>\n",
       "<small>shape: (878_022, 11)</small><table border=\"1\" class=\"dataframe\"><thead><tr><th>molecule</th><th>bb1</th><th>bb2</th><th>bb3</th><th>id_BRD4</th><th>id_HSA</th><th>id_sEH</th><th>mol_group</th><th>group_BRD4</th><th>group_HSA</th><th>group_sEH</th></tr><tr><td>str</td><td>i64</td><td>i64</td><td>i64</td><td>i64</td><td>i64</td><td>i64</td><td>i64</td><td>i64</td><td>i64</td><td>i64</td></tr></thead><tbody><tr><td>&quot;C#CCCC[C@H](Nc…</td><td>1989</td><td>409</td><td>409</td><td>295246830</td><td>295246831</td><td>295246832</td><td>2</td><td>6</td><td>7</td><td>8</td></tr><tr><td>&quot;C#CCCC[C@H](Nc…</td><td>1989</td><td>409</td><td>1012</td><td>295246833</td><td>295246834</td><td>295246835</td><td>2</td><td>6</td><td>7</td><td>8</td></tr><tr><td>&quot;C#CCCC[C@H](Nc…</td><td>1989</td><td>409</td><td>1722</td><td>295246836</td><td>295246837</td><td>295246838</td><td>2</td><td>6</td><td>7</td><td>8</td></tr><tr><td>&quot;C#CCCC[C@H](Nc…</td><td>1989</td><td>409</td><td>1078</td><td>295246839</td><td>295246840</td><td>295246841</td><td>2</td><td>6</td><td>7</td><td>8</td></tr><tr><td>&quot;C#CCCC[C@H](Nc…</td><td>1989</td><td>409</td><td>605</td><td>295246842</td><td>295246843</td><td>295246844</td><td>2</td><td>6</td><td>7</td><td>8</td></tr><tr><td>&hellip;</td><td>&hellip;</td><td>&hellip;</td><td>&hellip;</td><td>&hellip;</td><td>&hellip;</td><td>&hellip;</td><td>&hellip;</td><td>&hellip;</td><td>&hellip;</td><td>&hellip;</td></tr><tr><td>&quot;Cn1ncc2cc(Nc3n…</td><td>141</td><td>1699</td><td>307</td><td>296921711</td><td>296921712</td><td>296921713</td><td>0</td><td>0</td><td>1</td><td>2</td></tr><tr><td>&quot;[N-]=[N+]=NCCC…</td><td>141</td><td>1699</td><td>1254</td><td>296921714</td><td>296921715</td><td>296921716</td><td>0</td><td>0</td><td>1</td><td>2</td></tr><tr><td>&quot;COC(=O)c1ccnc(…</td><td>141</td><td>1415</td><td>1390</td><td>296921717</td><td>296921718</td><td>296921719</td><td>0</td><td>0</td><td>1</td><td>2</td></tr><tr><td>&quot;COC1CCC(CCNc2n…</td><td>141</td><td>1415</td><td>1556</td><td>296921720</td><td>296921721</td><td>296921722</td><td>0</td><td>0</td><td>1</td><td>2</td></tr><tr><td>&quot;[N-]=[N+]=NCCC…</td><td>141</td><td>1415</td><td>236</td><td>296921723</td><td>296921724</td><td>296921725</td><td>0</td><td>0</td><td>1</td><td>2</td></tr></tbody></table></div>"
      ],
      "text/plain": [
       "shape: (878_022, 11)\n",
       "┌────────────────────────┬──────┬──────┬──────┬───┬───────────┬────────────┬───────────┬───────────┐\n",
       "│ molecule               ┆ bb1  ┆ bb2  ┆ bb3  ┆ … ┆ mol_group ┆ group_BRD4 ┆ group_HSA ┆ group_sEH │\n",
       "│ ---                    ┆ ---  ┆ ---  ┆ ---  ┆   ┆ ---       ┆ ---        ┆ ---       ┆ ---       │\n",
       "│ str                    ┆ i64  ┆ i64  ┆ i64  ┆   ┆ i64       ┆ i64        ┆ i64       ┆ i64       │\n",
       "╞════════════════════════╪══════╪══════╪══════╪═══╪═══════════╪════════════╪═══════════╪═══════════╡\n",
       "│ C#CCCC[C@H](Nc1nc(Nc2c ┆ 1989 ┆ 409  ┆ 409  ┆ … ┆ 2         ┆ 6          ┆ 7         ┆ 8         │\n",
       "│ cc(C=C)cc2…            ┆      ┆      ┆      ┆   ┆           ┆            ┆           ┆           │\n",
       "│ C#CCCC[C@H](Nc1nc(Nc2c ┆ 1989 ┆ 409  ┆ 1012 ┆ … ┆ 2         ┆ 6          ┆ 7         ┆ 8         │\n",
       "│ cc(C=C)cc2…            ┆      ┆      ┆      ┆   ┆           ┆            ┆           ┆           │\n",
       "│ C#CCCC[C@H](Nc1nc(NCC2 ┆ 1989 ┆ 409  ┆ 1722 ┆ … ┆ 2         ┆ 6          ┆ 7         ┆ 8         │\n",
       "│ (O)CCCC2(C…            ┆      ┆      ┆      ┆   ┆           ┆            ┆           ┆           │\n",
       "│ C#CCCC[C@H](Nc1nc(Nc2c ┆ 1989 ┆ 409  ┆ 1078 ┆ … ┆ 2         ┆ 6          ┆ 7         ┆ 8         │\n",
       "│ cc(C=C)cc2…            ┆      ┆      ┆      ┆   ┆           ┆            ┆           ┆           │\n",
       "│ C#CCCC[C@H](Nc1nc(NCC2 ┆ 1989 ┆ 409  ┆ 605  ┆ … ┆ 2         ┆ 6          ┆ 7         ┆ 8         │\n",
       "│ CCC(SC)CC2…            ┆      ┆      ┆      ┆   ┆           ┆            ┆           ┆           │\n",
       "│ …                      ┆ …    ┆ …    ┆ …    ┆ … ┆ …         ┆ …          ┆ …         ┆ …         │\n",
       "│ Cn1ncc2cc(Nc3nc(Nc4nnc ┆ 141  ┆ 1699 ┆ 307  ┆ … ┆ 0         ┆ 0          ┆ 1         ┆ 2         │\n",
       "│ s4)nc(N[C@…            ┆      ┆      ┆      ┆   ┆           ┆            ┆           ┆           │\n",
       "│ [N-]=[N+]=NCCC[C@H](Nc ┆ 141  ┆ 1699 ┆ 1254 ┆ … ┆ 0         ┆ 0          ┆ 1         ┆ 2         │\n",
       "│ 1nc(NCC2CC…            ┆      ┆      ┆      ┆   ┆           ┆            ┆           ┆           │\n",
       "│ COC(=O)c1ccnc(Nc2nc(Nc ┆ 141  ┆ 1415 ┆ 1390 ┆ … ┆ 0         ┆ 0          ┆ 1         ┆ 2         │\n",
       "│ 3noc4ccc(F…            ┆      ┆      ┆      ┆   ┆           ┆            ┆           ┆           │\n",
       "│ COC1CCC(CCNc2nc(Nc3noc ┆ 141  ┆ 1415 ┆ 1556 ┆ … ┆ 0         ┆ 0          ┆ 1         ┆ 2         │\n",
       "│ 4ccc(F)cc3…            ┆      ┆      ┆      ┆   ┆           ┆            ┆           ┆           │\n",
       "│ [N-]=[N+]=NCCC[C@H](Nc ┆ 141  ┆ 1415 ┆ 236  ┆ … ┆ 0         ┆ 0          ┆ 1         ┆ 2         │\n",
       "│ 1nc(NCc2cc…            ┆      ┆      ┆      ┆   ┆           ┆            ┆           ┆           │\n",
       "└────────────────────────┴──────┴──────┴──────┴───┴───────────┴────────────┴───────────┴───────────┘"
      ]
     },
     "execution_count": 2,
     "metadata": {},
     "output_type": "execute_result"
    }
   ],
   "source": [
    "test_df = pl.scan_csv('/home/dangnh36/datasets/competitions/leash_belka/processed/test_v4.csv').select(\n",
    "    pl.col('*')\n",
    "        # pl.col('molecule'),\n",
    "        # pl.col('bb1', 'bb2', 'bb3').cast(pl.UInt16),\n",
    "    ).collect()\n",
    "print(test_df.estimated_size('gb'), 'GB')\n",
    "test_df"
   ]
  },
  {
   "cell_type": "code",
   "execution_count": 3,
   "id": "be4f2ee6-7ceb-4b29-bcb5-e59cdc40a7ae",
   "metadata": {},
   "outputs": [
    {
     "data": {
      "text/html": [
       "<div><style>\n",
       ".dataframe > thead > tr,\n",
       ".dataframe > tbody > tr {\n",
       "  text-align: right;\n",
       "  white-space: pre-wrap;\n",
       "}\n",
       "</style>\n",
       "<small>shape: (4, 2)</small><table border=\"1\" class=\"dataframe\"><thead><tr><th>mol_group</th><th>molecule</th></tr><tr><td>i64</td><td>u32</td></tr></thead><tbody><tr><td>0</td><td>369039</td></tr><tr><td>3</td><td>11322</td></tr><tr><td>1</td><td>486390</td></tr><tr><td>2</td><td>11271</td></tr></tbody></table></div>"
      ],
      "text/plain": [
       "shape: (4, 2)\n",
       "┌───────────┬──────────┐\n",
       "│ mol_group ┆ molecule │\n",
       "│ ---       ┆ ---      │\n",
       "│ i64       ┆ u32      │\n",
       "╞═══════════╪══════════╡\n",
       "│ 0         ┆ 369039   │\n",
       "│ 3         ┆ 11322    │\n",
       "│ 1         ┆ 486390   │\n",
       "│ 2         ┆ 11271    │\n",
       "└───────────┴──────────┘"
      ]
     },
     "execution_count": 3,
     "metadata": {},
     "output_type": "execute_result"
    }
   ],
   "source": [
    "test_df.group_by('mol_group').agg(pl.col('molecule').count())"
   ]
  },
  {
   "cell_type": "code",
   "execution_count": 4,
   "id": "6cced1ec-b38b-4417-89a7-caa84fb798b2",
   "metadata": {},
   "outputs": [
    {
     "data": {
      "text/plain": [
       "567779"
      ]
     },
     "execution_count": 4,
     "metadata": {},
     "output_type": "execute_result"
    }
   ],
   "source": [
    "1674896 - 369039 * 3"
   ]
  },
  {
   "cell_type": "code",
   "execution_count": null,
   "id": "fc4e1156-30b1-42c2-97c1-4ca90155295a",
   "metadata": {},
   "outputs": [],
   "source": []
  },
  {
   "cell_type": "code",
   "execution_count": null,
   "id": "3d2f4648-cc6b-455f-9fb4-472a8bb93007",
   "metadata": {},
   "outputs": [],
   "source": []
  },
  {
   "cell_type": "code",
   "execution_count": 5,
   "id": "6404ebc3-408a-4787-8349-89fe0bef91ad",
   "metadata": {},
   "outputs": [
    {
     "name": "stdout",
     "output_type": "stream",
     "text": [
      "(1674896,) (1674896,)\n"
     ]
    }
   ],
   "source": [
    "pred_ids = test_df[['id_BRD4', 'id_HSA', 'id_sEH']].to_numpy().reshape(-1)\n",
    "group_ids = test_df[['group_BRD4', 'group_HSA', 'group_sEH']].to_numpy().reshape(-1)\n",
    "mask = (pred_ids != 0)\n",
    "assert(mask.sum()==1674896)\n",
    "PRED_IDS = pred_ids[mask]\n",
    "GROUP_IDS = group_ids[mask]\n",
    "print(PRED_IDS.shape, GROUP_IDS.shape)"
   ]
  },
  {
   "cell_type": "code",
   "execution_count": 6,
   "id": "c5408726-c08c-4374-96e8-dcadcc543da1",
   "metadata": {},
   "outputs": [
    {
     "data": {
      "text/plain": [
       "1107117"
      ]
     },
     "execution_count": 6,
     "metadata": {},
     "output_type": "execute_result"
    }
   ],
   "source": [
    "(GROUP_IDS<3).sum()"
   ]
  },
  {
   "cell_type": "code",
   "execution_count": 7,
   "id": "fa970dbc-fba9-46f5-9af7-9fb8d151e31d",
   "metadata": {},
   "outputs": [
    {
     "data": {
      "text/plain": [
       "array([ 0,  1,  2,  3,  4,  5,  6,  7,  8,  9, 10, 11])"
      ]
     },
     "execution_count": 7,
     "metadata": {},
     "output_type": "execute_result"
    }
   ],
   "source": [
    "np.unique(GROUP_IDS)"
   ]
  },
  {
   "cell_type": "code",
   "execution_count": 10,
   "id": "dee6e578-8aa2-439a-91c2-01431ee0c9ac",
   "metadata": {},
   "outputs": [],
   "source": [
    "SHARE = [0, 1, 2]\n",
    "NONSHARE = [3, 4, 5, 6, 7, 8, 9, 10, 11]\n",
    "ALL = SHARE + NONSHARE"
   ]
  },
  {
   "cell_type": "code",
   "execution_count": 9,
   "id": "4367787a-e500-480d-932e-399de6fc3b60",
   "metadata": {},
   "outputs": [],
   "source": [
    "def ensemble(\n",
    "    test_df,\n",
    "    submissions = [],\n",
    "    save_path = None,\n",
    "):\n",
    "    ret_df = pd.DataFrame({\n",
    "        'id': PRED_IDS,\n",
    "        'group': GROUP_IDS,\n",
    "        'binds': -1.0\n",
    "    })\n",
    "    subset_to_binds = {}\n",
    "    for i, (csv_path, subsets) in enumerate(submissions):\n",
    "        print(f'Processing {csv_path}')\n",
    "        binds = pl.scan_csv(csv_path).select(pl.col('binds')).collect().to_numpy()[:, 0]\n",
    "        for subset in subsets:\n",
    "            subset_to_binds.setdefault(subset, []).append(binds[GROUP_IDS == subset])\n",
    "\n",
    "    for subset, subset_binds in subset_to_binds.items():\n",
    "        print(f'---subset {subset}---')\n",
    "        subset_binds = np.array(subset_binds)\n",
    "        print(subset_binds.shape)\n",
    "        subset_binds = np.mean(subset_binds, axis = 0)\n",
    "        print('after agg:', subset_binds.shape)\n",
    "        ret_df.loc[GROUP_IDS == subset, 'binds'] = subset_binds\n",
    "    assert (ret_df['binds'] >= 0).all()\n",
    "    ret_df = ret_df[['id', 'binds']].reset_index(drop = True)\n",
    "    if save_path is not None:\n",
    "        ret_df.to_csv(save_path, index = False)\n",
    "    return ret_df"
   ]
  },
  {
   "cell_type": "code",
   "execution_count": 11,
   "id": "ee1dce1a-cd69-4f99-b807-c11c0dacdb17",
   "metadata": {},
   "outputs": [
    {
     "name": "stdout",
     "output_type": "stream",
     "text": [
      "Processing /home/dangnh36/projects/competitions/kaggle_leash_belka/src/outputs/squeezeformer_0.1033_0.6376.csv\n",
      "Processing /home/dangnh36/projects/competitions/kaggle_leash_belka/src/outputs/lb0.41.csv\n",
      "---subset 0---\n",
      "(2, 369039)\n",
      "after agg: (369039,)\n",
      "---subset 1---\n",
      "(2, 369039)\n",
      "after agg: (369039,)\n",
      "---subset 2---\n",
      "(2, 369039)\n",
      "after agg: (369039,)\n",
      "---subset 3---\n",
      "(2, 167227)\n",
      "after agg: (167227,)\n",
      "---subset 4---\n",
      "(2, 166263)\n",
      "after agg: (166263,)\n",
      "---subset 5---\n",
      "(2, 166510)\n",
      "after agg: (166510,)\n",
      "---subset 6---\n",
      "(2, 11271)\n",
      "after agg: (11271,)\n",
      "---subset 7---\n",
      "(2, 11271)\n",
      "after agg: (11271,)\n",
      "---subset 8---\n",
      "(2, 11271)\n",
      "after agg: (11271,)\n",
      "---subset 9---\n",
      "(2, 11322)\n",
      "after agg: (11322,)\n",
      "---subset 10---\n",
      "(2, 11322)\n",
      "after agg: (11322,)\n",
      "---subset 11---\n",
      "(2, 11322)\n",
      "after agg: (11322,)\n"
     ]
    },
    {
     "data": {
      "text/html": [
       "<div>\n",
       "<style scoped>\n",
       "    .dataframe tbody tr th:only-of-type {\n",
       "        vertical-align: middle;\n",
       "    }\n",
       "\n",
       "    .dataframe tbody tr th {\n",
       "        vertical-align: top;\n",
       "    }\n",
       "\n",
       "    .dataframe thead th {\n",
       "        text-align: right;\n",
       "    }\n",
       "</style>\n",
       "<table border=\"1\" class=\"dataframe\">\n",
       "  <thead>\n",
       "    <tr style=\"text-align: right;\">\n",
       "      <th></th>\n",
       "      <th>id</th>\n",
       "      <th>binds</th>\n",
       "    </tr>\n",
       "  </thead>\n",
       "  <tbody>\n",
       "    <tr>\n",
       "      <th>0</th>\n",
       "      <td>295246830</td>\n",
       "      <td>5.096197e-06</td>\n",
       "    </tr>\n",
       "    <tr>\n",
       "      <th>1</th>\n",
       "      <td>295246831</td>\n",
       "      <td>8.973479e-05</td>\n",
       "    </tr>\n",
       "    <tr>\n",
       "      <th>2</th>\n",
       "      <td>295246832</td>\n",
       "      <td>5.364418e-07</td>\n",
       "    </tr>\n",
       "    <tr>\n",
       "      <th>3</th>\n",
       "      <td>295246833</td>\n",
       "      <td>1.943111e-05</td>\n",
       "    </tr>\n",
       "    <tr>\n",
       "      <th>4</th>\n",
       "      <td>295246834</td>\n",
       "      <td>8.359551e-05</td>\n",
       "    </tr>\n",
       "    <tr>\n",
       "      <th>...</th>\n",
       "      <td>...</td>\n",
       "      <td>...</td>\n",
       "    </tr>\n",
       "    <tr>\n",
       "      <th>1674891</th>\n",
       "      <td>296921721</td>\n",
       "      <td>1.475215e-05</td>\n",
       "    </tr>\n",
       "    <tr>\n",
       "      <th>1674892</th>\n",
       "      <td>296921722</td>\n",
       "      <td>1.817942e-06</td>\n",
       "    </tr>\n",
       "    <tr>\n",
       "      <th>1674893</th>\n",
       "      <td>296921723</td>\n",
       "      <td>2.086163e-07</td>\n",
       "    </tr>\n",
       "    <tr>\n",
       "      <th>1674894</th>\n",
       "      <td>296921724</td>\n",
       "      <td>1.534820e-05</td>\n",
       "    </tr>\n",
       "    <tr>\n",
       "      <th>1674895</th>\n",
       "      <td>296921725</td>\n",
       "      <td>1.192093e-07</td>\n",
       "    </tr>\n",
       "  </tbody>\n",
       "</table>\n",
       "<p>1674896 rows × 2 columns</p>\n",
       "</div>"
      ],
      "text/plain": [
       "                id         binds\n",
       "0        295246830  5.096197e-06\n",
       "1        295246831  8.973479e-05\n",
       "2        295246832  5.364418e-07\n",
       "3        295246833  1.943111e-05\n",
       "4        295246834  8.359551e-05\n",
       "...            ...           ...\n",
       "1674891  296921721  1.475215e-05\n",
       "1674892  296921722  1.817942e-06\n",
       "1674893  296921723  2.086163e-07\n",
       "1674894  296921724  1.534820e-05\n",
       "1674895  296921725  1.192093e-07\n",
       "\n",
       "[1674896 rows x 2 columns]"
      ]
     },
     "execution_count": 11,
     "metadata": {},
     "output_type": "execute_result"
    }
   ],
   "source": [
    "ret_df = ensemble(test_df,\n",
    "    [\n",
    "    ('/home/dangnh36/projects/competitions/kaggle_leash_belka/src/outputs/squeezeformer_0.1033_0.6376.csv', ALL),\n",
    "    ('/home/dangnh36/projects/competitions/kaggle_leash_belka/src/outputs/lb0.41.csv', ALL)\n",
    "    ],\n",
    "    '/home/dangnh36/projects/competitions/kaggle_leash_belka/src/outputs/lb041+squeeze.csv'                 \n",
    "    )\n",
    "ret_df"
   ]
  },
  {
   "cell_type": "code",
   "execution_count": null,
   "id": "81ff9c98-fe65-4eec-a501-de7174ecd116",
   "metadata": {},
   "outputs": [],
   "source": []
  },
  {
   "cell_type": "code",
   "execution_count": null,
   "id": "66e3f85e-12ab-4ffb-8070-bc6cdeacf9a4",
   "metadata": {},
   "outputs": [],
   "source": []
  },
  {
   "cell_type": "code",
   "execution_count": 117,
   "id": "cdd59139-2ad8-40a2-8a18-86fe0843b234",
   "metadata": {},
   "outputs": [],
   "source": [
    "df1 = pl.scan_csv('/home/dangnh36/projects/competitions/kaggle_leash_belka/src/outputs/v3.csv').collect()\n",
    "df2 = pl.scan_csv('/home/dangnh36/projects/competitions/kaggle_leash_belka/src/outputs/lb0.41.csv').collect()\n",
    "# df2 = pl.scan_csv('/home/dangnh36/projects/competitions/kaggle_leash_belka/src/outputs/ensemble_v2.csv').collect()"
   ]
  },
  {
   "cell_type": "code",
   "execution_count": 118,
   "id": "2f256215-7fad-4164-badd-da520ee5d383",
   "metadata": {},
   "outputs": [
    {
     "data": {
      "text/plain": [
       "False"
      ]
     },
     "execution_count": 118,
     "metadata": {},
     "output_type": "execute_result"
    }
   ],
   "source": [
    "(df1['binds'] == df2['binds']).all()"
   ]
  },
  {
   "cell_type": "code",
   "execution_count": null,
   "id": "04c8ca3a-bdac-417b-aae4-33b7e4e6abfc",
   "metadata": {},
   "outputs": [],
   "source": []
  },
  {
   "cell_type": "code",
   "execution_count": 119,
   "id": "1e4a7c2f-1f55-4f97-aee8-fda6f31dd3b1",
   "metadata": {},
   "outputs": [
    {
     "data": {
      "text/plain": [
       "1112479"
      ]
     },
     "execution_count": 119,
     "metadata": {},
     "output_type": "execute_result"
    }
   ],
   "source": [
    "\n",
    "(df1['binds'] == df2['binds']).sum()"
   ]
  },
  {
   "cell_type": "code",
   "execution_count": null,
   "id": "dde5c2e1-7e04-47d9-9d9e-49cb8ec1a1da",
   "metadata": {},
   "outputs": [],
   "source": []
  },
  {
   "cell_type": "code",
   "execution_count": null,
   "id": "ed5ff372-1e18-473c-b8c0-1e183028ed11",
   "metadata": {},
   "outputs": [],
   "source": []
  },
  {
   "cell_type": "code",
   "execution_count": null,
   "id": "c846dc3a-5be6-441a-9205-d5ad0028c5c4",
   "metadata": {},
   "outputs": [],
   "source": []
  },
  {
   "cell_type": "code",
   "execution_count": null,
   "id": "decf4596-0d13-4c0a-aaaf-3b294dbb8e9d",
   "metadata": {},
   "outputs": [],
   "source": []
  },
  {
   "cell_type": "code",
   "execution_count": null,
   "id": "95fcc71a-e03c-4614-a48d-71b076c33ec7",
   "metadata": {},
   "outputs": [],
   "source": []
  },
  {
   "cell_type": "code",
   "execution_count": null,
   "id": "61d546f3-dc99-401f-809c-7dd902a10f8b",
   "metadata": {},
   "outputs": [],
   "source": []
  },
  {
   "cell_type": "code",
   "execution_count": null,
   "id": "66d15e0e-3c54-4079-863f-70e17dc2c328",
   "metadata": {},
   "outputs": [],
   "source": []
  }
 ],
 "metadata": {
  "kernelspec": {
   "display_name": "Python 3 (ipykernel)",
   "language": "python",
   "name": "python3"
  },
  "language_info": {
   "codemirror_mode": {
    "name": "ipython",
    "version": 3
   },
   "file_extension": ".py",
   "mimetype": "text/x-python",
   "name": "python",
   "nbconvert_exporter": "python",
   "pygments_lexer": "ipython3",
   "version": "3.10.13"
  }
 },
 "nbformat": 4,
 "nbformat_minor": 5
}
