{
 "cells": [
  {
   "cell_type": "code",
   "execution_count": 1,
   "id": "fdf43856",
   "metadata": {},
   "outputs": [
    {
     "name": "stderr",
     "output_type": "stream",
     "text": [
      "No normalization for SPS. Feature removed!\n",
      "No normalization for AvgIpc. Feature removed!\n",
      "Skipped loading some Tensorflow models, missing a dependency. No module named 'tensorflow'\n",
      "Skipped loading modules with pytorch-geometric dependency, missing a dependency. No module named 'torch_geometric'\n",
      "Skipped loading modules with pytorch-geometric dependency, missing a dependency. cannot import name 'DMPNN' from 'deepchem.models.torch_models' (/opt/conda/lib/python3.10/site-packages/deepchem/models/torch_models/__init__.py)\n",
      "Skipped loading some Jax models, missing a dependency. No module named 'jax'\n",
      "Skipped loading some PyTorch models, missing a dependency. No module named 'tensorflow'\n"
     ]
    },
    {
     "data": {
      "text/plain": [
       "polars.config.Config"
      ]
     },
     "execution_count": 1,
     "metadata": {},
     "output_type": "execute_result"
    }
   ],
   "source": [
    "import pandas as pd\n",
    "import numpy as np\n",
    "import os\n",
    "import sys\n",
    "import polars as pl\n",
    "import json\n",
    "from joblib import Parallel, delayed\n",
    "import deepchem\n",
    "from tqdm import tqdm\n",
    "import warnings\n",
    "warnings.filterwarnings(\"ignore\")\n",
    "from sklearn.model_selection import StratifiedGroupKFold, GroupKFold, KFold, GroupShuffleSplit, ShuffleSplit\n",
    "import gc\n",
    "import random\n",
    "from functools import partial\n",
    "import catboost\n",
    "from catboost import FeaturesData, Pool, CatBoost, CatBoostClassifier, CatBoostRegressor, CatBoostRanker\n",
    "import time\n",
    "import math\n",
    "from sklearn.metrics import average_precision_score\n",
    "import sys\n",
    "sys.path.append('../')\n",
    "from src.utils.metrics import compute_metrics\n",
    "from src.utils.misc import dict_as_table\n",
    "\n",
    "# Configure Polars \n",
    "cfg = pl.Config()\n",
    "cfg.set_tbl_rows(20)\n",
    "cfg.set_tbl_cols(50)"
   ]
  },
  {
   "cell_type": "code",
   "execution_count": 2,
   "id": "c880b767-811c-44ca-838d-b8be800bf3d5",
   "metadata": {},
   "outputs": [],
   "source": [
    "DATA_DIR = '/home/dangnh36/datasets/competitions/leash_belka/'\n",
    "FEATURE_DIR = '/home/dangnh36/datasets/competitions/leash_belka/processed/features/'\n",
    "CV_STRATEGY = '16_19_0_2'\n",
    "CV_FOLD_IDX = 0\n",
    "TRAIN_SUBSET = 'train_7.8M'\n",
    "\n",
    "PROTEINS = ['BRD4', 'HSA', 'sEH']\n",
    "PRED_COLS = [f'pred_{col}' for col in PROTEINS]\n",
    "TARGET_COLS = [f'target_{col}' for col in PROTEINS]"
   ]
  },
  {
   "cell_type": "code",
   "execution_count": null,
   "id": "8c8daaf6-51ea-4026-b4f6-60471e76565f",
   "metadata": {},
   "outputs": [],
   "source": []
  },
  {
   "cell_type": "markdown",
   "id": "09d74951-151f-4796-a6e6-8f9acacc0015",
   "metadata": {},
   "source": [
    "# Utils"
   ]
  },
  {
   "cell_type": "code",
   "execution_count": 3,
   "id": "b3c1b81f-592d-4290-a76e-1082fdf5e006",
   "metadata": {},
   "outputs": [],
   "source": [
    "_CUR_TIME = None\n",
    "def log(*args, **kwargs):\n",
    "    global _CUR_TIME\n",
    "    if _CUR_TIME is None:\n",
    "        print('Start logging time..')\n",
    "        _CUR_TIME = time.time()\n",
    "    else:\n",
    "        cur_time = time.time()\n",
    "        take = round(cur_time - _CUR_TIME, 2)\n",
    "        _CUR_TIME = cur_time\n",
    "        if len(args) > 0:\n",
    "            print(f'[{take} s]', *args, **kwargs)\n",
    "\n",
    "            \n",
    "def evaluate(val_df, preds):\n",
    "    val_df = val_df.copy()\n",
    "    val_df[PRED_COLS] = preds\n",
    "    metrics = compute_metrics(val_df)\n",
    "    return metrics"
   ]
  },
  {
   "cell_type": "code",
   "execution_count": null,
   "id": "6113c2d1-e4db-4566-98c4-75523eb49cea",
   "metadata": {},
   "outputs": [],
   "source": []
  },
  {
   "cell_type": "markdown",
   "id": "881c96ed-f136-4499-85bf-950546b8faf5",
   "metadata": {},
   "source": [
    "## Load train-test split"
   ]
  },
  {
   "cell_type": "code",
   "execution_count": 4,
   "id": "1cf415e5-9696-41c0-9bd6-6b654c9da577",
   "metadata": {},
   "outputs": [],
   "source": [
    "def load_cv_split(data_dir, cv_strategy, cv_fold_idx, stage = 'train'):\n",
    "    val_df = None\n",
    "    idxs = None\n",
    "    if 'kf' in cv_strategy:\n",
    "        if stage == 'train':\n",
    "            filter_cond = pl.col('fold_idx') != cv_fold_idx\n",
    "        elif stage == 'val':\n",
    "            filter_cond = pl.col('fold_idx') == cv_fold_idx\n",
    "        val_df = pl.scan_csv(\n",
    "            os.path.join(data_dir, 'processed', 'cv', cv_strategy,\n",
    "                         'cv.csv')).filter(filter_cond).select(\n",
    "                             pl.col('index'), subset=pl.lit(3).cast(pl.UInt8)).collect().to_pandas()\n",
    "        idxs = val_df['index'].to_numpy()\n",
    "    else:\n",
    "        if stage == 'train':\n",
    "            if cv_fold_idx == 611:\n",
    "                raise NotImplementedError\n",
    "                idxs = np.arange(0, len(features))\n",
    "            else:\n",
    "                idxs = pl.scan_csv(\n",
    "                    os.path.join(\n",
    "                        data_dir, 'processed', 'cv', cv_strategy,\n",
    "                        'train.csv')).select(pl.col(\n",
    "                            'index')).collect().to_numpy().flatten()\n",
    "        elif stage == 'val':\n",
    "            val_df = pl.scan_csv(\n",
    "                os.path.join(data_dir, 'processed', 'cv', cv_strategy,\n",
    "                             'val.csv')).filter(pl.col('subset')!=1).select(\n",
    "                                 pl.col('index'),\n",
    "                                 pl.col('subset').cast(\n",
    "                                     pl.UInt8)).collect().to_pandas()\n",
    "            idxs = val_df['index'].to_numpy()\n",
    "        else:\n",
    "            raise AssertionError\n",
    "    return val_df, idxs"
   ]
  },
  {
   "cell_type": "code",
   "execution_count": 5,
   "id": "5a693416-531e-4390-b169-db99932af39d",
   "metadata": {},
   "outputs": [
    {
     "data": {
      "text/plain": [
       "((205900, 2), (205900,), (7812348,))"
      ]
     },
     "execution_count": 5,
     "metadata": {},
     "output_type": "execute_result"
    }
   ],
   "source": [
    "val_df, val_idxs = load_cv_split(DATA_DIR, CV_STRATEGY, CV_FOLD_IDX, 'val')\n",
    "train_idxs = pl.scan_csv('/home/dangnh36/datasets/competitions/leash_belka/processed/cv/train_5_7.8M_idxs.csv').\\\n",
    "    collect()['index'].to_numpy()\n",
    "\n",
    "val_df.shape, val_idxs.shape, train_idxs.shape"
   ]
  },
  {
   "cell_type": "code",
   "execution_count": null,
   "id": "c6b6a8f0-2bf9-4ea0-b659-200e0a6cbf42",
   "metadata": {},
   "outputs": [],
   "source": []
  },
  {
   "cell_type": "markdown",
   "id": "7c0190b2-22ac-4d26-9fd8-e6c009a53627",
   "metadata": {},
   "source": [
    "# Load data"
   ]
  },
  {
   "cell_type": "code",
   "execution_count": 6,
   "id": "10cacec2",
   "metadata": {},
   "outputs": [
    {
     "data": {
      "text/plain": [
       "(98415610, 3)"
      ]
     },
     "execution_count": 6,
     "metadata": {},
     "output_type": "execute_result"
    }
   ],
   "source": [
    "all_targets = pl.scan_csv(os.path.join(DATA_DIR, 'processed', 'train_v2.csv')).select(\n",
    "    pl.col('BRD4', 'HSA', 'sEH').cast(pl.UInt8), ).collect().to_numpy()\n",
    "all_targets.shape"
   ]
  },
  {
   "cell_type": "code",
   "execution_count": null,
   "id": "74cdaf55",
   "metadata": {},
   "outputs": [],
   "source": []
  },
  {
   "cell_type": "code",
   "execution_count": 7,
   "id": "64f96a07",
   "metadata": {},
   "outputs": [
    {
     "data": {
      "text/plain": [
       "(2030, 189)"
      ]
     },
     "execution_count": 7,
     "metadata": {},
     "output_type": "execute_result"
    }
   ],
   "source": [
    "ECFP6_IGNORE_COLS = [39, 378, 397, 450, 650, 807, 1152, 1182, 1184, 1201, 1350, 1380, 1582, 1621, 1855, 1917, 1967, 2007]\n",
    "ECFP6_KEEP_COLS = sorted(list(set(range(2048)).difference(set(ECFP6_IGNORE_COLS))))\n",
    "\n",
    "RDKIT_IGNORE_COLS = [10, 69, 82, 125, 157, 158, 160, 162, 163, 164, 168, 170, 174, 175, 178, 186, 192, 193, 197, 199, 206]\n",
    "RDKIT_KEEP_COLS = sorted(list(set(range(210)).difference(set(RDKIT_IGNORE_COLS))))\n",
    "\n",
    "len(ECFP6_KEEP_COLS), len(RDKIT_KEEP_COLS)"
   ]
  },
  {
   "cell_type": "markdown",
   "id": "14f02f54",
   "metadata": {},
   "source": [
    "### Train pool"
   ]
  },
  {
   "cell_type": "code",
   "execution_count": 8,
   "id": "8f680cef",
   "metadata": {},
   "outputs": [
    {
     "name": "stdout",
     "output_type": "stream",
     "text": [
      "Train features: (7812348, 2030) float32\n",
      "Train targets: (7812348, 3) uint8\n"
     ]
    },
    {
     "data": {
      "text/plain": [
       "(7812348, 2030)"
      ]
     },
     "execution_count": 8,
     "metadata": {},
     "output_type": "execute_result"
    }
   ],
   "source": [
    "all_ecfp6s = np.load(os.path.join(FEATURE_DIR, 'ecfp6', 'train.npy'), mmap_mode='r')\n",
    "train_ecfp6s = all_ecfp6s[train_idxs]\n",
    "train_ecfp6s = np.unpackbits(train_ecfp6s, axis = -1)\n",
    "train_ecfp6s = train_ecfp6s[:, ECFP6_KEEP_COLS]\n",
    "\n",
    "# train_rdkit210 = np.load(os.path.join(FEATURE_DIR, 'rdkit210', 'train_7.8M.npy'), mmap_mode='r')\n",
    "# train_rdkit210 = train_rdkit210[:, RDKIT_KEEP_COLS]\n",
    "# train_features = np.concatenate([train_ecfp6s, train_rdkit210], axis = -1, dtype = np.float32)\n",
    "train_features = train_ecfp6s\n",
    "\n",
    "train_features = train_features.astype(np.float32)\n",
    "print('Train features:', train_features.shape, train_features.dtype)\n",
    "\n",
    "train_targets = all_targets[train_idxs]\n",
    "print('Train targets:', train_targets.shape, train_targets.dtype)\n",
    "\n",
    "\n",
    "train_pool = Pool(\n",
    "       data = train_features,\n",
    "       label = train_targets,\n",
    "       cat_features=None,\n",
    "       weight=None,\n",
    "       baseline=None,\n",
    "       feature_names=None,\n",
    "       thread_count=-1\n",
    ")\n",
    "train_pool.num_row(), train_pool.num_col()"
   ]
  },
  {
   "cell_type": "code",
   "execution_count": null,
   "id": "5ea16790-e949-48db-a572-f36aeedfaf5d",
   "metadata": {},
   "outputs": [],
   "source": []
  },
  {
   "cell_type": "markdown",
   "id": "0ef00e01",
   "metadata": {},
   "source": [
    "### Val pool"
   ]
  },
  {
   "cell_type": "code",
   "execution_count": 9,
   "id": "25a8b2c4",
   "metadata": {},
   "outputs": [
    {
     "name": "stdout",
     "output_type": "stream",
     "text": [
      "Val features: (205900, 2030) float32\n",
      "Train targets: (205900, 3) uint8\n"
     ]
    },
    {
     "data": {
      "text/plain": [
       "(205900, 2030)"
      ]
     },
     "execution_count": 9,
     "metadata": {},
     "output_type": "execute_result"
    }
   ],
   "source": [
    "val_ecfp6s = all_ecfp6s[val_idxs]\n",
    "val_ecfp6s = np.unpackbits(val_ecfp6s, axis = -1)\n",
    "val_ecfp6s = val_ecfp6s[:, ECFP6_KEEP_COLS]\n",
    "\n",
    "# val_rdkit210 = np.load(os.path.join(FEATURE_DIR, 'rdkit210', 'val_02.npy'), mmap_mode='r')\n",
    "# val_rdkit210 = val_rdkit210[:, RDKIT_KEEP_COLS]\n",
    "# val_features = np.concatenate([val_ecfp6s, val_rdkit210], axis = -1, dtype = np.float32)\n",
    "val_features = val_ecfp6s\n",
    "\n",
    "val_features = val_features.astype(np.float32)\n",
    "\n",
    "print('Val features:', val_features.shape, val_features.dtype)\n",
    "\n",
    "val_targets = all_targets[val_idxs]\n",
    "print('Train targets:', val_targets.shape, val_targets.dtype)\n",
    "\n",
    "\n",
    "val_pool = Pool(\n",
    "       data = val_features,\n",
    "       label = val_targets,\n",
    "       cat_features=None,\n",
    "       weight=None,\n",
    "       baseline=None,\n",
    "       feature_names=None,\n",
    "       thread_count=-1\n",
    ")\n",
    "val_pool.num_row(), val_pool.num_col()"
   ]
  },
  {
   "cell_type": "code",
   "execution_count": 10,
   "id": "5de9ac8b",
   "metadata": {},
   "outputs": [],
   "source": [
    "val_df[TARGET_COLS] = val_targets"
   ]
  },
  {
   "cell_type": "code",
   "execution_count": null,
   "id": "c0beac8e",
   "metadata": {},
   "outputs": [],
   "source": []
  },
  {
   "cell_type": "code",
   "execution_count": null,
   "id": "3e5bf206",
   "metadata": {},
   "outputs": [],
   "source": []
  },
  {
   "cell_type": "code",
   "execution_count": null,
   "id": "915f2e0f",
   "metadata": {},
   "outputs": [],
   "source": []
  },
  {
   "cell_type": "code",
   "execution_count": 11,
   "id": "7e301c60",
   "metadata": {},
   "outputs": [
    {
     "data": {
      "text/plain": [
       "314"
      ]
     },
     "execution_count": 11,
     "metadata": {},
     "output_type": "execute_result"
    }
   ],
   "source": [
    "# del train_ecfp6s, train_rdkit210, val_ecfp6s, val_rdkit210, train_features, val_features\n",
    "del train_ecfp6s, val_ecfp6s, train_features, val_features\n",
    "\n",
    "gc.collect()"
   ]
  },
  {
   "cell_type": "code",
   "execution_count": null,
   "id": "b9cc67b7",
   "metadata": {},
   "outputs": [],
   "source": []
  },
  {
   "cell_type": "code",
   "execution_count": null,
   "id": "97285ccf",
   "metadata": {},
   "outputs": [],
   "source": []
  },
  {
   "cell_type": "markdown",
   "id": "b5582598",
   "metadata": {},
   "source": [
    "## Model"
   ]
  },
  {
   "cell_type": "code",
   "execution_count": 12,
   "id": "f458bde2",
   "metadata": {},
   "outputs": [],
   "source": [
    "CBM_DEFAULT_PARAMS = dict(\n",
    "    # Common settings\n",
    "    loss_function='MultiLogloss',\n",
    "    custom_metric=None,\n",
    "    eval_metric=None,\n",
    "    iterations=None,\n",
    "    learning_rate=None,\n",
    "    random_state=42,\n",
    "    l2_leaf_reg=None,\n",
    "    bootstrap_type=None,\n",
    "    bagging_temperature=None,\n",
    "    subsample=None,\n",
    "    sampling_frequency=None,  # PerTreeLevel | PerTree\n",
    "    sampling_unit=None,  # Object | Group\n",
    "    mvs_reg = None,\n",
    "    random_strength=None,\n",
    "    use_best_model = True,\n",
    "    best_model_min_trees = None,\n",
    "    max_depth = None,   # default = 6 | 16 if Lossguide\n",
    "    grow_policy = 'SymmetricTree',\n",
    "    min_data_in_leaf = None,\n",
    "    max_leaves = None,  # default = 31, Lossguide only\n",
    "    ignored_features = None,  # a list\n",
    "    one_hot_max_size = None,  # default to 2 usually\n",
    "    has_time = False,\n",
    "    rsm = None, # default = 1\n",
    "    nan_mode = 'Forbidden',\n",
    "    input_borders = None,   # should set\n",
    "    output_borders = None,  # should set\n",
    "    fold_permutation_block = None,  # default 1\n",
    "    leaf_estimation_method = None,\n",
    "    leaf_estimation_iterations = None,\n",
    "    leaf_estimation_backtracking = None, # AnyImprovement\n",
    "    fold_len_multiplier = None, # default 2\n",
    "    approx_on_full_history = None,  # default False -> faster but may less accurate\n",
    "    class_weights = None,   # list | dict | OrderedDict\n",
    "    classes_count = None,\n",
    "    class_names = None, # list of str\n",
    "    auto_class_weights = None, # None | Balanced | SqrtBalanced\n",
    "    scale_pos_weight = None,\n",
    "    boosting_type = None, # Ordered | Plain\n",
    "    boost_from_average = None,\n",
    "    langevin = None, # default False\n",
    "    diffusion_temperature = None,\n",
    "    posterior_sampling = None, # default False\n",
    "    allow_const_label = False,\n",
    "    score_function = None, # Cosine | L2 | NewtonCosine | NewtonL2\n",
    "    monotone_constraints = None, # prior knownledge\n",
    "    feature_weights = None, # prior knownledge or obtained from feature importance\n",
    "    first_feature_use_penalties = None, # ?\n",
    "    fixed_binary_splits = None, # ?\n",
    "    penalties_coefficient = None, # default 1\n",
    "    per_object_feature_penalties = None, # ?\n",
    "    model_shrink_rate = None, # ?\n",
    "    model_shrink_mode = None, # ?\n",
    "    # CTR Settings\n",
    "    simple_ctr = None,\n",
    "    combinations_ctr = None,\n",
    "    per_feature_ctr = None,\n",
    "    ctr_target_border_count = None,\n",
    "    counter_calc_method = None, # SkipTest | Full\n",
    "    max_ctr_complexity = None,  # default 4, 1 if multiclass\n",
    "    ctr_leaf_count_limit = None, # default to no limit\n",
    "    store_all_simple_ctr = None,\n",
    "    final_ctr_computation_mode = None,\n",
    "    # Output Settings\n",
    "    logging_level = 'Verbose',\n",
    "    metric_period = 100,\n",
    "    train_dir = 'runs/catboost/',\n",
    "    model_size_reg = None,  # default to 0.5, could try to turn off\n",
    "    allow_writing_files = True,\n",
    "    save_snapshot = True, # not supported in cv, should be disable when grid search\n",
    "    snapshot_file = None, # dangerous!\n",
    "    snapshot_interval = 600,\n",
    "    # roc_file = None,\n",
    "    border_count=None,\n",
    "    feature_border_type=None,\n",
    "\n",
    "    \n",
    "    # UNK UNK UNK !!!   \n",
    "    \n",
    "    per_float_feature_quantization=None,\n",
    "    od_pval=None,\n",
    "    od_wait=None,\n",
    "    od_type=None,\n",
    "    thread_count=None,\n",
    "    name=None,\n",
    "    custom_loss=None,\n",
    "    used_ram_limit=None,\n",
    "    gpu_ram_part=None,\n",
    "    task_type=None,\n",
    "    device_config=None,\n",
    "    devices=None,\n",
    "    dev_score_calc_obj_block_size=None,\n",
    "    reg_lambda=None,\n",
    "    eta=None,\n",
    "    gpu_cat_features_storage=None,\n",
    "    data_partition=None,\n",
    "    metadata=None,\n",
    "    early_stopping_rounds=None,\n",
    "    cat_features=None,\n",
    "    ctr_history_unit=None,\n",
    "    text_features=None,\n",
    "    tokenizers=None,\n",
    "    dictionaries=None,\n",
    "    feature_calcers=None,\n",
    "    text_processing=None,\n",
    ")\n",
    "\n",
    "# CBM_DEFAULT_PARAMS = dict()"
   ]
  },
  {
   "cell_type": "code",
   "execution_count": null,
   "id": "159110a5",
   "metadata": {},
   "outputs": [],
   "source": []
  },
  {
   "cell_type": "code",
   "execution_count": null,
   "id": "859aef63",
   "metadata": {},
   "outputs": [],
   "source": []
  },
  {
   "cell_type": "code",
   "execution_count": 13,
   "id": "1c905797",
   "metadata": {},
   "outputs": [],
   "source": [
    "!rm -r runs/catboost/chunk=None\n",
    "def build_model(chunk_idx = None):\n",
    "    SAVE_DIR = f'runs/catboost/chunk={chunk_idx}/'\n",
    "    os.makedirs(SAVE_DIR, exist_ok=True)\n",
    "    updated_params = dict(\n",
    "        task_type='GPU',\n",
    "        devices='1:3',\n",
    "        # loss_function = 'MultiCrossEntropy',\n",
    "        loss_function = 'MultiLogloss',\n",
    "        iterations = 15000,\n",
    "        learning_rate = 0.2,\n",
    "        random_state = 42,\n",
    "        train_dir = SAVE_DIR,\n",
    "        # max_ctr_complexity = 1,\n",
    "        depth = 6,\n",
    "        min_data_in_leaf = 2,\n",
    "#         colsample_bylevel = 0.3,\n",
    "        bootstrap_type = 'No',\n",
    "#         mvs_reg = 10,\n",
    "#         subsample = 0.3,\n",
    "#         thread_count = 80,\n",
    "        # auto_class_weights='Balanced',\n",
    "        # scale_pos_weight = 1.2,\n",
    "        # class_weights=[2.0, 1.0],\n",
    "        # used_ram_limit = '180GB',\n",
    "        gpu_ram_part = 0.75,\n",
    "        # gpu_cat_features_storage = 'CpuPinnedMemory',\n",
    "        early_stopping_rounds = 1000,\n",
    "        \n",
    "        \n",
    "#         border_count = 2, # binary features\n",
    "#         feature_border_type = 'Uniform',\n",
    "    )\n",
    "\n",
    "    params = CBM_DEFAULT_PARAMS.copy()\n",
    "    params.update(updated_params)\n",
    "    model = CatBoostClassifier(\n",
    "        **params\n",
    "    )\n",
    "    \n",
    "    print(model.get_params())\n",
    "    \n",
    "    return model"
   ]
  },
  {
   "cell_type": "code",
   "execution_count": null,
   "id": "8cc42885",
   "metadata": {},
   "outputs": [],
   "source": []
  },
  {
   "cell_type": "code",
   "execution_count": null,
   "id": "b69a5c88",
   "metadata": {},
   "outputs": [],
   "source": []
  },
  {
   "cell_type": "code",
   "execution_count": 14,
   "id": "bb6e92a4",
   "metadata": {},
   "outputs": [
    {
     "name": "stdout",
     "output_type": "stream",
     "text": [
      "rm: cannot remove 'runs/catboost/chunk=None': No such file or directory\r\n"
     ]
    }
   ],
   "source": [
    "!rm -r runs/catboost/chunk=None"
   ]
  },
  {
   "cell_type": "code",
   "execution_count": 15,
   "id": "5a3c1e58",
   "metadata": {},
   "outputs": [
    {
     "name": "stdout",
     "output_type": "stream",
     "text": [
      "{'iterations': 15000, 'learning_rate': 0.2, 'depth': 6, 'loss_function': 'MultiLogloss', 'nan_mode': 'Forbidden', 'use_best_model': True, 'logging_level': 'Verbose', 'metric_period': 100, 'has_time': False, 'allow_const_label': False, 'train_dir': 'runs/catboost/chunk=None/', 'save_snapshot': True, 'snapshot_interval': 600, 'gpu_ram_part': 0.75, 'allow_writing_files': True, 'task_type': 'GPU', 'devices': '1:3', 'bootstrap_type': 'No', 'random_state': 42, 'early_stopping_rounds': 1000, 'grow_policy': 'SymmetricTree', 'min_data_in_leaf': 2}\n",
      "{'iterations': 15000, 'learning_rate': 0.2, 'depth': 6, 'loss_function': 'MultiLogloss', 'nan_mode': 'Forbidden', 'use_best_model': True, 'logging_level': 'Verbose', 'metric_period': 100, 'has_time': False, 'allow_const_label': False, 'train_dir': 'runs/catboost/chunk=None/', 'save_snapshot': True, 'snapshot_interval': 600, 'gpu_ram_part': 0.75, 'allow_writing_files': True, 'task_type': 'GPU', 'devices': '1:3', 'bootstrap_type': 'No', 'random_state': 42, 'early_stopping_rounds': 1000, 'grow_policy': 'SymmetricTree', 'min_data_in_leaf': 2}\n"
     ]
    },
    {
     "data": {
      "application/vnd.jupyter.widget-view+json": {
       "model_id": "355a67e8f7b54c039fad3b875650e1ba",
       "version_major": 2,
       "version_minor": 0
      },
      "text/plain": [
       "MetricVisualizer(layout=Layout(align_self='stretch', height='500px'))"
      ]
     },
     "metadata": {},
     "output_type": "display_data"
    },
    {
     "name": "stdout",
     "output_type": "stream",
     "text": [
      "0:\tlearn: 0.4300400\ttest: 0.4161575\tbest: 0.4161575 (0)\ttotal: 533ms\tremaining: 2h 13m 19s\n",
      "100:\tlearn: 0.0932320\ttest: 0.0386495\tbest: 0.0386495 (100)\ttotal: 15.2s\tremaining: 37m 17s\n",
      "200:\tlearn: 0.0831780\ttest: 0.0351689\tbest: 0.0351626 (198)\ttotal: 30.1s\tremaining: 36m 59s\n",
      "300:\tlearn: 0.0783270\ttest: 0.0331490\tbest: 0.0331490 (300)\ttotal: 45.3s\tremaining: 36m 49s\n",
      "400:\tlearn: 0.0751468\ttest: 0.0319114\tbest: 0.0319114 (400)\ttotal: 59s\tremaining: 35m 46s\n",
      "500:\tlearn: 0.0729417\ttest: 0.0309673\tbest: 0.0309673 (500)\ttotal: 1m 13s\tremaining: 35m 16s\n",
      "600:\tlearn: 0.0713193\ttest: 0.0303599\tbest: 0.0303599 (600)\ttotal: 1m 27s\tremaining: 34m 59s\n",
      "700:\tlearn: 0.0700204\ttest: 0.0298160\tbest: 0.0298160 (700)\ttotal: 1m 42s\tremaining: 34m 42s\n",
      "800:\tlearn: 0.0689616\ttest: 0.0293742\tbest: 0.0293742 (800)\ttotal: 1m 56s\tremaining: 34m 22s\n",
      "900:\tlearn: 0.0680646\ttest: 0.0289856\tbest: 0.0289856 (900)\ttotal: 2m 10s\tremaining: 34m\n",
      "1000:\tlearn: 0.0672615\ttest: 0.0286451\tbest: 0.0286451 (1000)\ttotal: 2m 24s\tremaining: 33m 35s\n",
      "1100:\tlearn: 0.0665559\ttest: 0.0283914\tbest: 0.0283914 (1100)\ttotal: 2m 38s\tremaining: 33m 15s\n",
      "1200:\tlearn: 0.0659537\ttest: 0.0281675\tbest: 0.0281675 (1200)\ttotal: 2m 51s\tremaining: 32m 55s\n",
      "1300:\tlearn: 0.0653625\ttest: 0.0279385\tbest: 0.0279385 (1300)\ttotal: 3m 7s\tremaining: 32m 51s\n",
      "1400:\tlearn: 0.0648602\ttest: 0.0276966\tbest: 0.0276966 (1400)\ttotal: 3m 23s\tremaining: 32m 58s\n",
      "1500:\tlearn: 0.0643980\ttest: 0.0275151\tbest: 0.0275151 (1500)\ttotal: 3m 40s\tremaining: 32m 59s\n",
      "1600:\tlearn: 0.0639596\ttest: 0.0273362\tbest: 0.0273343 (1596)\ttotal: 3m 57s\tremaining: 33m 5s\n",
      "1700:\tlearn: 0.0635588\ttest: 0.0271849\tbest: 0.0271849 (1700)\ttotal: 4m 17s\tremaining: 33m 33s\n",
      "1800:\tlearn: 0.0631970\ttest: 0.0270290\tbest: 0.0270290 (1800)\ttotal: 4m 37s\tremaining: 33m 55s\n",
      "1900:\tlearn: 0.0628501\ttest: 0.0269215\tbest: 0.0269215 (1900)\ttotal: 4m 58s\tremaining: 34m 13s\n",
      "2000:\tlearn: 0.0625232\ttest: 0.0267808\tbest: 0.0267808 (2000)\ttotal: 5m 13s\tremaining: 33m 56s\n",
      "2100:\tlearn: 0.0622174\ttest: 0.0266936\tbest: 0.0266918 (2098)\ttotal: 5m 28s\tremaining: 33m 38s\n",
      "2200:\tlearn: 0.0619319\ttest: 0.0265986\tbest: 0.0265986 (2200)\ttotal: 5m 43s\tremaining: 33m 19s\n",
      "2300:\tlearn: 0.0616504\ttest: 0.0265132\tbest: 0.0265132 (2300)\ttotal: 5m 58s\tremaining: 32m 56s\n",
      "2400:\tlearn: 0.0613930\ttest: 0.0264544\tbest: 0.0264544 (2400)\ttotal: 6m 12s\tremaining: 32m 34s\n",
      "2500:\tlearn: 0.0611443\ttest: 0.0263833\tbest: 0.0263833 (2500)\ttotal: 6m 26s\tremaining: 32m 13s\n",
      "2600:\tlearn: 0.0609030\ttest: 0.0263140\tbest: 0.0263140 (2600)\ttotal: 6m 41s\tremaining: 31m 52s\n",
      "2700:\tlearn: 0.0606685\ttest: 0.0262726\tbest: 0.0262724 (2699)\ttotal: 6m 55s\tremaining: 31m 33s\n",
      "2800:\tlearn: 0.0604469\ttest: 0.0262062\tbest: 0.0262060 (2799)\ttotal: 7m 10s\tremaining: 31m 13s\n",
      "2900:\tlearn: 0.0602371\ttest: 0.0261524\tbest: 0.0261524 (2900)\ttotal: 7m 24s\tremaining: 30m 52s\n",
      "3000:\tlearn: 0.0600263\ttest: 0.0260811\tbest: 0.0260802 (2994)\ttotal: 7m 38s\tremaining: 30m 31s\n",
      "3100:\tlearn: 0.0598378\ttest: 0.0260269\tbest: 0.0260269 (3100)\ttotal: 7m 52s\tremaining: 30m 11s\n",
      "3200:\tlearn: 0.0596524\ttest: 0.0259630\tbest: 0.0259630 (3200)\ttotal: 8m 5s\tremaining: 29m 51s\n",
      "3300:\tlearn: 0.0594714\ttest: 0.0259221\tbest: 0.0259213 (3299)\ttotal: 8m 22s\tremaining: 29m 40s\n",
      "3400:\tlearn: 0.0592970\ttest: 0.0258849\tbest: 0.0258846 (3399)\ttotal: 8m 38s\tremaining: 29m 28s\n",
      "3500:\tlearn: 0.0591227\ttest: 0.0258600\tbest: 0.0258589 (3485)\ttotal: 8m 54s\tremaining: 29m 16s\n",
      "3600:\tlearn: 0.0589512\ttest: 0.0258035\tbest: 0.0258018 (3598)\ttotal: 9m 12s\tremaining: 29m 10s\n",
      "3700:\tlearn: 0.0587835\ttest: 0.0257542\tbest: 0.0257542 (3700)\ttotal: 9m 31s\tremaining: 29m 5s\n",
      "3800:\tlearn: 0.0586179\ttest: 0.0257079\tbest: 0.0257063 (3797)\ttotal: 9m 50s\tremaining: 29m\n",
      "3900:\tlearn: 0.0584604\ttest: 0.0256575\tbest: 0.0256575 (3900)\ttotal: 10m 7s\tremaining: 28m 49s\n",
      "4000:\tlearn: 0.0583074\ttest: 0.0256378\tbest: 0.0256330 (3961)\ttotal: 10m 23s\tremaining: 28m 32s\n",
      "4100:\tlearn: 0.0581585\ttest: 0.0256157\tbest: 0.0256157 (4100)\ttotal: 10m 38s\tremaining: 28m 15s\n",
      "4200:\tlearn: 0.0580097\ttest: 0.0255830\tbest: 0.0255828 (4197)\ttotal: 10m 52s\tremaining: 27m 58s\n",
      "4300:\tlearn: 0.0578645\ttest: 0.0255673\tbest: 0.0255656 (4293)\ttotal: 11m 6s\tremaining: 27m 38s\n",
      "4400:\tlearn: 0.0577258\ttest: 0.0255367\tbest: 0.0255360 (4393)\ttotal: 11m 21s\tremaining: 27m 20s\n",
      "4500:\tlearn: 0.0575907\ttest: 0.0255184\tbest: 0.0255170 (4469)\ttotal: 11m 35s\tremaining: 27m 1s\n",
      "4600:\tlearn: 0.0574542\ttest: 0.0255052\tbest: 0.0254989 (4586)\ttotal: 11m 49s\tremaining: 26m 44s\n",
      "4700:\tlearn: 0.0573239\ttest: 0.0254904\tbest: 0.0254889 (4687)\ttotal: 12m 5s\tremaining: 26m 30s\n",
      "4800:\tlearn: 0.0571924\ttest: 0.0254695\tbest: 0.0254695 (4800)\ttotal: 12m 23s\tremaining: 26m 20s\n",
      "4900:\tlearn: 0.0570649\ttest: 0.0254427\tbest: 0.0254420 (4898)\ttotal: 12m 43s\tremaining: 26m 12s\n",
      "5000:\tlearn: 0.0569373\ttest: 0.0254254\tbest: 0.0254243 (4998)\ttotal: 13m 2s\tremaining: 26m 3s\n",
      "5100:\tlearn: 0.0568112\ttest: 0.0254018\tbest: 0.0254018 (5100)\ttotal: 13m 19s\tremaining: 25m 50s\n",
      "5200:\tlearn: 0.0566907\ttest: 0.0253960\tbest: 0.0253926 (5173)\ttotal: 13m 33s\tremaining: 25m 32s\n",
      "5300:\tlearn: 0.0565733\ttest: 0.0253837\tbest: 0.0253829 (5299)\ttotal: 13m 48s\tremaining: 25m 14s\n",
      "5400:\tlearn: 0.0564517\ttest: 0.0253756\tbest: 0.0253709 (5345)\ttotal: 14m 1s\tremaining: 24m 55s\n",
      "5500:\tlearn: 0.0563360\ttest: 0.0253494\tbest: 0.0253494 (5500)\ttotal: 14m 16s\tremaining: 24m 38s\n",
      "5600:\tlearn: 0.0562172\ttest: 0.0253266\tbest: 0.0253247 (5595)\ttotal: 14m 30s\tremaining: 24m 20s\n",
      "5700:\tlearn: 0.0561022\ttest: 0.0253211\tbest: 0.0253191 (5667)\ttotal: 14m 44s\tremaining: 24m 1s\n",
      "5800:\tlearn: 0.0559960\ttest: 0.0252927\tbest: 0.0252921 (5796)\ttotal: 14m 59s\tremaining: 23m 46s\n",
      "5900:\tlearn: 0.0558802\ttest: 0.0252832\tbest: 0.0252832 (5900)\ttotal: 15m 17s\tremaining: 23m 34s\n",
      "6000:\tlearn: 0.0557742\ttest: 0.0252773\tbest: 0.0252747 (5994)\ttotal: 15m 35s\tremaining: 23m 22s\n",
      "6100:\tlearn: 0.0556630\ttest: 0.0252574\tbest: 0.0252551 (6094)\ttotal: 15m 54s\tremaining: 23m 11s\n",
      "6200:\tlearn: 0.0555577\ttest: 0.0252439\tbest: 0.0252439 (6200)\ttotal: 16m 13s\tremaining: 23m\n",
      "6300:\tlearn: 0.0554479\ttest: 0.0252209\tbest: 0.0252209 (6299)\ttotal: 16m 27s\tremaining: 22m 42s\n",
      "6400:\tlearn: 0.0553418\ttest: 0.0252058\tbest: 0.0252058 (6400)\ttotal: 16m 41s\tremaining: 22m 25s\n",
      "6500:\tlearn: 0.0552393\ttest: 0.0252005\tbest: 0.0251992 (6498)\ttotal: 16m 55s\tremaining: 22m 7s\n",
      "6600:\tlearn: 0.0551364\ttest: 0.0251899\tbest: 0.0251889 (6597)\ttotal: 17m 9s\tremaining: 21m 49s\n",
      "6700:\tlearn: 0.0550378\ttest: 0.0251847\tbest: 0.0251829 (6691)\ttotal: 17m 22s\tremaining: 21m 31s\n",
      "6800:\tlearn: 0.0549362\ttest: 0.0251637\tbest: 0.0251634 (6799)\ttotal: 17m 36s\tremaining: 21m 13s\n",
      "6900:\tlearn: 0.0548385\ttest: 0.0251548\tbest: 0.0251508 (6896)\ttotal: 17m 52s\tremaining: 20m 58s\n",
      "7000:\tlearn: 0.0547446\ttest: 0.0251556\tbest: 0.0251508 (6896)\ttotal: 18m 9s\tremaining: 20m 44s\n",
      "7100:\tlearn: 0.0546483\ttest: 0.0251459\tbest: 0.0251456 (7098)\ttotal: 18m 28s\tremaining: 20m 33s\n",
      "7200:\tlearn: 0.0545513\ttest: 0.0251297\tbest: 0.0251296 (7198)\ttotal: 18m 47s\tremaining: 20m 20s\n",
      "7300:\tlearn: 0.0544571\ttest: 0.0251245\tbest: 0.0251242 (7299)\ttotal: 19m 5s\tremaining: 20m 7s\n",
      "7400:\tlearn: 0.0543612\ttest: 0.0251027\tbest: 0.0251026 (7384)\ttotal: 19m 20s\tremaining: 19m 51s\n",
      "7500:\tlearn: 0.0542632\ttest: 0.0251000\tbest: 0.0250982 (7493)\ttotal: 19m 34s\tremaining: 19m 34s\n",
      "7600:\tlearn: 0.0541693\ttest: 0.0250817\tbest: 0.0250817 (7600)\ttotal: 19m 48s\tremaining: 19m 16s\n",
      "7700:\tlearn: 0.0540766\ttest: 0.0250751\tbest: 0.0250725 (7652)\ttotal: 20m 2s\tremaining: 18m 59s\n",
      "7800:\tlearn: 0.0539829\ttest: 0.0250620\tbest: 0.0250577 (7795)\ttotal: 20m 16s\tremaining: 18m 42s\n",
      "7900:\tlearn: 0.0538908\ttest: 0.0250578\tbest: 0.0250557 (7855)\ttotal: 20m 29s\tremaining: 18m 24s\n",
      "8000:\tlearn: 0.0537956\ttest: 0.0250429\tbest: 0.0250409 (7975)\ttotal: 20m 46s\tremaining: 18m 10s\n",
      "8100:\tlearn: 0.0537065\ttest: 0.0250302\tbest: 0.0250302 (8100)\ttotal: 21m 3s\tremaining: 17m 56s\n",
      "8200:\tlearn: 0.0536154\ttest: 0.0250215\tbest: 0.0250209 (8199)\ttotal: 21m 21s\tremaining: 17m 42s\n",
      "8300:\tlearn: 0.0535270\ttest: 0.0250090\tbest: 0.0250088 (8290)\ttotal: 21m 39s\tremaining: 17m 28s\n",
      "8400:\tlearn: 0.0534357\ttest: 0.0249993\tbest: 0.0249985 (8381)\ttotal: 21m 57s\tremaining: 17m 15s\n",
      "8500:\tlearn: 0.0533474\ttest: 0.0249928\tbest: 0.0249897 (8472)\ttotal: 22m 12s\tremaining: 16m 58s\n",
      "8600:\tlearn: 0.0532585\ttest: 0.0249831\tbest: 0.0249828 (8599)\ttotal: 22m 26s\tremaining: 16m 41s\n"
     ]
    },
    {
     "name": "stdout",
     "output_type": "stream",
     "text": [
      "8700:\tlearn: 0.0531706\ttest: 0.0249685\tbest: 0.0249676 (8671)\ttotal: 22m 40s\tremaining: 16m 24s\n",
      "8800:\tlearn: 0.0530840\ttest: 0.0249540\tbest: 0.0249535 (8797)\ttotal: 22m 53s\tremaining: 16m 7s\n",
      "8900:\tlearn: 0.0529980\ttest: 0.0249419\tbest: 0.0249404 (8886)\ttotal: 23m 7s\tremaining: 15m 50s\n",
      "9000:\tlearn: 0.0529132\ttest: 0.0249327\tbest: 0.0249324 (8999)\ttotal: 23m 21s\tremaining: 15m 33s\n",
      "9100:\tlearn: 0.0528308\ttest: 0.0249342\tbest: 0.0249320 (9002)\ttotal: 23m 36s\tremaining: 15m 18s\n",
      "9200:\tlearn: 0.0527481\ttest: 0.0249333\tbest: 0.0249317 (9191)\ttotal: 23m 52s\tremaining: 15m 3s\n",
      "9300:\tlearn: 0.0526629\ttest: 0.0249290\tbest: 0.0249233 (9232)\ttotal: 24m 11s\tremaining: 14m 49s\n",
      "9400:\tlearn: 0.0525783\ttest: 0.0249244\tbest: 0.0249233 (9232)\ttotal: 24m 29s\tremaining: 14m 35s\n",
      "9500:\tlearn: 0.0524940\ttest: 0.0249187\tbest: 0.0249182 (9495)\ttotal: 24m 48s\tremaining: 14m 21s\n",
      "9600:\tlearn: 0.0524106\ttest: 0.0249057\tbest: 0.0249057 (9600)\ttotal: 25m 3s\tremaining: 14m 5s\n",
      "9700:\tlearn: 0.0523316\ttest: 0.0249006\tbest: 0.0248999 (9621)\ttotal: 25m 17s\tremaining: 13m 48s\n",
      "9800:\tlearn: 0.0522512\ttest: 0.0248925\tbest: 0.0248910 (9792)\ttotal: 25m 31s\tremaining: 13m 32s\n",
      "9900:\tlearn: 0.0521672\ttest: 0.0248929\tbest: 0.0248879 (9820)\ttotal: 25m 45s\tremaining: 13m 15s\n",
      "10000:\tlearn: 0.0520840\ttest: 0.0248869\tbest: 0.0248811 (9949)\ttotal: 25m 59s\tremaining: 12m 59s\n",
      "10100:\tlearn: 0.0520026\ttest: 0.0248785\tbest: 0.0248762 (10050)\ttotal: 26m 13s\tremaining: 12m 42s\n",
      "10200:\tlearn: 0.0519231\ttest: 0.0248664\tbest: 0.0248661 (10199)\ttotal: 26m 26s\tremaining: 12m 26s\n",
      "10300:\tlearn: 0.0518447\ttest: 0.0248568\tbest: 0.0248559 (10293)\ttotal: 26m 40s\tremaining: 12m 10s\n",
      "10400:\tlearn: 0.0517658\ttest: 0.0248520\tbest: 0.0248511 (10357)\ttotal: 26m 54s\tremaining: 11m 53s\n",
      "10500:\tlearn: 0.0516888\ttest: 0.0248440\tbest: 0.0248438 (10499)\ttotal: 27m 7s\tremaining: 11m 37s\n",
      "10600:\tlearn: 0.0516073\ttest: 0.0248448\tbest: 0.0248404 (10525)\ttotal: 27m 20s\tremaining: 11m 20s\n",
      "10700:\tlearn: 0.0515283\ttest: 0.0248451\tbest: 0.0248404 (10525)\ttotal: 27m 34s\tremaining: 11m 4s\n",
      "10800:\tlearn: 0.0514514\ttest: 0.0248419\tbest: 0.0248404 (10525)\ttotal: 27m 47s\tremaining: 10m 48s\n",
      "10900:\tlearn: 0.0513756\ttest: 0.0248416\tbest: 0.0248352 (10857)\ttotal: 28m\tremaining: 10m 31s\n",
      "11000:\tlearn: 0.0512982\ttest: 0.0248321\tbest: 0.0248291 (10975)\ttotal: 28m 15s\tremaining: 10m 16s\n",
      "11100:\tlearn: 0.0512247\ttest: 0.0248270\tbest: 0.0248245 (11083)\ttotal: 28m 30s\tremaining: 10m\n",
      "11200:\tlearn: 0.0511488\ttest: 0.0248237\tbest: 0.0248216 (11169)\ttotal: 28m 45s\tremaining: 9m 45s\n",
      "11300:\tlearn: 0.0510730\ttest: 0.0248172\tbest: 0.0248171 (11299)\ttotal: 29m 1s\tremaining: 9m 29s\n",
      "11400:\tlearn: 0.0509974\ttest: 0.0248242\tbest: 0.0248152 (11352)\ttotal: 29m 18s\tremaining: 9m 15s\n",
      "11500:\tlearn: 0.0509204\ttest: 0.0248218\tbest: 0.0248152 (11352)\ttotal: 29m 35s\tremaining: 9m\n",
      "11600:\tlearn: 0.0508449\ttest: 0.0248197\tbest: 0.0248152 (11352)\ttotal: 29m 53s\tremaining: 8m 45s\n",
      "11700:\tlearn: 0.0507701\ttest: 0.0248185\tbest: 0.0248152 (11352)\ttotal: 30m 11s\tremaining: 8m 30s\n",
      "11800:\tlearn: 0.0506967\ttest: 0.0248223\tbest: 0.0248152 (11352)\ttotal: 30m 25s\tremaining: 8m 14s\n",
      "11900:\tlearn: 0.0506274\ttest: 0.0248189\tbest: 0.0248152 (11352)\ttotal: 30m 40s\tremaining: 7m 59s\n",
      "12000:\tlearn: 0.0505554\ttest: 0.0248146\tbest: 0.0248139 (11988)\ttotal: 30m 54s\tremaining: 7m 43s\n",
      "12100:\tlearn: 0.0504819\ttest: 0.0248202\tbest: 0.0248115 (12050)\ttotal: 31m 8s\tremaining: 7m 27s\n",
      "12200:\tlearn: 0.0504102\ttest: 0.0248099\tbest: 0.0248096 (12196)\ttotal: 31m 22s\tremaining: 7m 11s\n",
      "12300:\tlearn: 0.0503395\ttest: 0.0248086\tbest: 0.0248033 (12228)\ttotal: 31m 36s\tremaining: 6m 56s\n",
      "12400:\tlearn: 0.0502707\ttest: 0.0248020\tbest: 0.0248003 (12384)\ttotal: 31m 49s\tremaining: 6m 40s\n",
      "12500:\tlearn: 0.0502007\ttest: 0.0248029\tbest: 0.0248003 (12384)\ttotal: 32m 3s\tremaining: 6m 24s\n",
      "12600:\tlearn: 0.0501307\ttest: 0.0248066\tbest: 0.0248003 (12384)\ttotal: 32m 16s\tremaining: 6m 8s\n",
      "12700:\tlearn: 0.0500612\ttest: 0.0248084\tbest: 0.0248003 (12384)\ttotal: 32m 30s\tremaining: 5m 53s\n",
      "12800:\tlearn: 0.0499913\ttest: 0.0247928\tbest: 0.0247925 (12799)\ttotal: 32m 43s\tremaining: 5m 37s\n",
      "12900:\tlearn: 0.0499234\ttest: 0.0247996\tbest: 0.0247890 (12861)\ttotal: 32m 57s\tremaining: 5m 21s\n",
      "13000:\tlearn: 0.0498524\ttest: 0.0247929\tbest: 0.0247890 (12861)\ttotal: 33m 10s\tremaining: 5m 6s\n",
      "13100:\tlearn: 0.0497874\ttest: 0.0247913\tbest: 0.0247890 (12861)\ttotal: 33m 23s\tremaining: 4m 50s\n",
      "13200:\tlearn: 0.0497196\ttest: 0.0247912\tbest: 0.0247890 (12861)\ttotal: 33m 37s\tremaining: 4m 34s\n",
      "13300:\tlearn: 0.0496513\ttest: 0.0247869\tbest: 0.0247854 (13294)\ttotal: 33m 52s\tremaining: 4m 19s\n",
      "13400:\tlearn: 0.0495815\ttest: 0.0247777\tbest: 0.0247762 (13383)\ttotal: 34m 7s\tremaining: 4m 4s\n",
      "13500:\tlearn: 0.0495126\ttest: 0.0247798\tbest: 0.0247762 (13383)\ttotal: 34m 23s\tremaining: 3m 49s\n",
      "13600:\tlearn: 0.0494462\ttest: 0.0247736\tbest: 0.0247733 (13589)\ttotal: 34m 40s\tremaining: 3m 34s\n",
      "13700:\tlearn: 0.0493759\ttest: 0.0247735\tbest: 0.0247724 (13604)\ttotal: 34m 59s\tremaining: 3m 19s\n",
      "13800:\tlearn: 0.0493089\ttest: 0.0247657\tbest: 0.0247657 (13800)\ttotal: 35m 18s\tremaining: 3m 4s\n",
      "13900:\tlearn: 0.0492441\ttest: 0.0247606\tbest: 0.0247604 (13898)\ttotal: 35m 35s\tremaining: 2m 48s\n",
      "14000:\tlearn: 0.0491778\ttest: 0.0247596\tbest: 0.0247566 (13943)\ttotal: 35m 49s\tremaining: 2m 33s\n",
      "14100:\tlearn: 0.0491117\ttest: 0.0247547\tbest: 0.0247547 (14100)\ttotal: 36m 4s\tremaining: 2m 17s\n",
      "14200:\tlearn: 0.0490454\ttest: 0.0247529\tbest: 0.0247486 (14188)\ttotal: 36m 18s\tremaining: 2m 2s\n",
      "14300:\tlearn: 0.0489802\ttest: 0.0247466\tbest: 0.0247450 (14275)\ttotal: 36m 31s\tremaining: 1m 47s\n",
      "14400:\tlearn: 0.0489157\ttest: 0.0247414\tbest: 0.0247398 (14394)\ttotal: 36m 44s\tremaining: 1m 31s\n",
      "14500:\tlearn: 0.0488499\ttest: 0.0247405\tbest: 0.0247394 (14484)\ttotal: 36m 59s\tremaining: 1m 16s\n",
      "14600:\tlearn: 0.0487862\ttest: 0.0247640\tbest: 0.0247382 (14531)\ttotal: 37m 13s\tremaining: 1m 1s\n",
      "14700:\tlearn: 0.0487219\ttest: 0.0247659\tbest: 0.0247382 (14531)\ttotal: 37m 27s\tremaining: 45.7s\n",
      "14800:\tlearn: 0.0486569\ttest: 0.0247691\tbest: 0.0247382 (14531)\ttotal: 37m 40s\tremaining: 30.4s\n",
      "14900:\tlearn: 0.0485930\ttest: 0.0247647\tbest: 0.0247382 (14531)\ttotal: 37m 53s\tremaining: 15.1s\n",
      "14999:\tlearn: 0.0485265\ttest: 0.0247641\tbest: 0.0247382 (14531)\ttotal: 38m 7s\tremaining: 0us\n",
      "bestTest = 0.0247382158\n",
      "bestIteration = 14531\n",
      "Shrink model to first 14532 iterations.\n",
      "ALL PARAMS:\n",
      " {'nan_mode': 'Forbidden', 'gpu_ram_part': 0.75, 'eval_metric': 'MultiLogloss', 'iterations': 15000, 'leaf_estimation_method': 'Newton', 'observations_to_bootstrap': 'TestOnly', 'od_pval': 0, 'random_score_type': 'NormalWithModelSizeDecrease', 'grow_policy': 'SymmetricTree', 'penalties_coefficient': 1, 'boosting_type': 'Plain', 'feature_border_type': 'GreedyLogSum', 'bayesian_matrix_reg': 0.10000000149011612, 'devices': '1:3', 'eval_fraction': 0, 'pinned_memory_bytes': '104857600', 'force_unit_auto_pair_weights': False, 'l2_leaf_reg': 3, 'random_strength': 1, 'od_type': 'Iter', 'rsm': 1, 'boost_from_average': False, 'gpu_cat_features_storage': 'GpuRam', 'fold_size_loss_normalization': False, 'model_size_reg': 0.5, 'pool_metainfo_options': {'tags': {}}, 'use_best_model': True, 'meta_l2_frequency': 0, 'od_wait': 1000, 'class_names': [0, 1, 2], 'random_seed': 42, 'depth': 6, 'border_count': 128, 'min_fold_size': 100, 'data_partition': 'DocParallel', 'classes_count': 0, 'auto_class_weights': 'None', 'leaf_estimation_backtracking': 'AnyImprovement', 'best_model_min_trees': 1, 'min_data_in_leaf': 2, 'add_ridge_penalty_to_loss_function': False, 'loss_function': 'MultiLogloss', 'learning_rate': 0.20000000298023224, 'meta_l2_exponent': 1, 'score_function': 'Cosine', 'task_type': 'GPU', 'leaf_estimation_iterations': 10, 'bootstrap_type': 'No', 'max_leaves': 64}\n"
     ]
    }
   ],
   "source": [
    "model = build_model()\n",
    "print(model.get_params())\n",
    "\n",
    "model.fit(\n",
    "    train_pool,\n",
    "    verbose=100,\n",
    "    eval_set=val_pool,\n",
    "    plot = True,\n",
    ")\n",
    "print('ALL PARAMS:\\n', model.get_all_params())"
   ]
  },
  {
   "cell_type": "code",
   "execution_count": 16,
   "id": "bbc30811",
   "metadata": {},
   "outputs": [
    {
     "data": {
      "text/plain": [
       "array([0, 2, 3], dtype=uint8)"
      ]
     },
     "execution_count": 16,
     "metadata": {},
     "output_type": "execute_result"
    }
   ],
   "source": [
    "val_df.subset.unique()"
   ]
  },
  {
   "cell_type": "code",
   "execution_count": 17,
   "id": "231efe2d-39d5-44e4-b5e7-9b0b49af76dc",
   "metadata": {},
   "outputs": [
    {
     "name": "stdout",
     "output_type": "stream",
     "text": [
      "\n",
      "\n",
      "------------0-----------\n"
     ]
    },
    {
     "name": "stderr",
     "output_type": "stream",
     "text": [
      "[METRICS] Skip subset=share1 protein=BRD4 and set metric value to None..\n",
      "[METRICS] Skip subset=share1 protein=HSA and set metric value to None..\n",
      "[METRICS] Skip subset=share1 protein=sEH and set metric value to None..\n"
     ]
    },
    {
     "name": "stdout",
     "output_type": "stream",
     "text": [
      "0.0\t0.8282\t16.8932\t8.8607\t5.5917\t3.1633\t41.9245\t0.8435\t0.7968\t0.8442\t22.9515\t0.7951\t24.7268\n",
      "\n",
      "\n",
      "------------2000-----------\n"
     ]
    },
    {
     "name": "stderr",
     "output_type": "stream",
     "text": [
      "[METRICS] Skip subset=share1 protein=BRD4 and set metric value to None..\n",
      "[METRICS] Skip subset=share1 protein=HSA and set metric value to None..\n",
      "[METRICS] Skip subset=share1 protein=sEH and set metric value to None..\n"
     ]
    },
    {
     "name": "stdout",
     "output_type": "stream",
     "text": [
      "2.0\t3.3158\t53.4626\t28.3892\t52.2987\t28.9028\t79.1863\t2.6862\t5.0556\t2.2055\t56.6093\t2.5588\t60.4537\n",
      "\n",
      "\n",
      "------------4000-----------\n"
     ]
    },
    {
     "name": "stderr",
     "output_type": "stream",
     "text": [
      "[METRICS] Skip subset=share1 protein=BRD4 and set metric value to None..\n",
      "[METRICS] Skip subset=share1 protein=HSA and set metric value to None..\n",
      "[METRICS] Skip subset=share1 protein=sEH and set metric value to None..\n"
     ]
    },
    {
     "name": "stdout",
     "output_type": "stream",
     "text": [
      "4.0\t3.3006\t55.8261\t29.5634\t54.8239\t30.534\t82.1204\t2.7269\t4.6508\t2.5242\t58.9836\t2.5018\t63.0208\n",
      "\n",
      "\n",
      "------------6000-----------\n"
     ]
    },
    {
     "name": "stderr",
     "output_type": "stream",
     "text": [
      "[METRICS] Skip subset=share1 protein=BRD4 and set metric value to None..\n",
      "[METRICS] Skip subset=share1 protein=HSA and set metric value to None..\n",
      "[METRICS] Skip subset=share1 protein=sEH and set metric value to None..\n"
     ]
    },
    {
     "name": "stdout",
     "output_type": "stream",
     "text": [
      "6.0\t2.7499\t56.4597\t29.6048\t55.6892\t30.6473\t83.0425\t2.951\t2.9048\t2.394\t59.6859\t2.0471\t63.8125\n",
      "\n",
      "\n",
      "------------8000-----------\n"
     ]
    },
    {
     "name": "stderr",
     "output_type": "stream",
     "text": [
      "[METRICS] Skip subset=share1 protein=BRD4 and set metric value to None..\n",
      "[METRICS] Skip subset=share1 protein=HSA and set metric value to None..\n",
      "[METRICS] Skip subset=share1 protein=sEH and set metric value to None..\n"
     ]
    },
    {
     "name": "stdout",
     "output_type": "stream",
     "text": [
      "8.0\t2.7818\t56.693\t29.7374\t55.9556\t30.7058\t83.4177\t2.9992\t3.0392\t2.3071\t59.9672\t2.1167\t64.1184\n",
      "\n",
      "\n",
      "------------10000-----------\n"
     ]
    },
    {
     "name": "stderr",
     "output_type": "stream",
     "text": [
      "[METRICS] Skip subset=share1 protein=BRD4 and set metric value to None..\n",
      "[METRICS] Skip subset=share1 protein=HSA and set metric value to None..\n",
      "[METRICS] Skip subset=share1 protein=sEH and set metric value to None..\n"
     ]
    },
    {
     "name": "stdout",
     "output_type": "stream",
     "text": [
      "10.0\t2.8286\t56.9408\t29.8847\t56.4299\t30.7623\t83.6301\t2.9758\t3.0376\t2.4724\t60.1874\t2.103\t64.3584\n",
      "\n",
      "\n",
      "------------12000-----------\n"
     ]
    },
    {
     "name": "stderr",
     "output_type": "stream",
     "text": [
      "[METRICS] Skip subset=share1 protein=BRD4 and set metric value to None..\n",
      "[METRICS] Skip subset=share1 protein=HSA and set metric value to None..\n",
      "[METRICS] Skip subset=share1 protein=sEH and set metric value to None..\n"
     ]
    },
    {
     "name": "stdout",
     "output_type": "stream",
     "text": [
      "12.0\t2.8798\t57.0285\t29.9541\t56.5772\t30.7693\t83.7388\t3.1508\t2.6257\t2.8628\t60.255\t2.0076\t64.4443\n",
      "\n",
      "\n",
      "------------14000-----------\n"
     ]
    },
    {
     "name": "stderr",
     "output_type": "stream",
     "text": [
      "[METRICS] Skip subset=share1 protein=BRD4 and set metric value to None..\n",
      "[METRICS] Skip subset=share1 protein=HSA and set metric value to None..\n",
      "[METRICS] Skip subset=share1 protein=sEH and set metric value to None..\n"
     ]
    },
    {
     "name": "stdout",
     "output_type": "stream",
     "text": [
      "14.0\t2.9582\t57.0218\t29.99\t56.6104\t30.6471\t83.808\t3.1121\t2.8627\t2.8997\t60.3072\t2.0963\t64.5009\n",
      "\n",
      "\n",
      "------------14531-----------\n"
     ]
    },
    {
     "name": "stderr",
     "output_type": "stream",
     "text": [
      "[METRICS] Skip subset=share1 protein=BRD4 and set metric value to None..\n",
      "[METRICS] Skip subset=share1 protein=HSA and set metric value to None..\n",
      "[METRICS] Skip subset=share1 protein=sEH and set metric value to None..\n"
     ]
    },
    {
     "name": "stdout",
     "output_type": "stream",
     "text": [
      "14.5\t2.9693\t57.0991\t30.0342\t56.724\t30.7174\t83.8561\t3.1707\t2.742\t2.9952\t60.3631\t2.0696\t64.563\n",
      "------------FINAL RESULTS---------------\n",
      "\n",
      "iterations\tnonshare_AP\tshare_AP\tAP\tshare_BRD4_AP\tshare_HSA_AP\tshare_sEH_AP\tnonshare_BRD4_AP\tnonshare_HSA_AP\tnonshare_sEH_AP\tmicro_AP\tnonshare_micro_AP\tshare_micro_AP\n",
      "0.0\t0.8282\t16.8932\t8.8607\t5.5917\t3.1633\t41.9245\t0.8435\t0.7968\t0.8442\t22.9515\t0.7951\t24.7268\n",
      "2.0\t3.3158\t53.4626\t28.3892\t52.2987\t28.9028\t79.1863\t2.6862\t5.0556\t2.2055\t56.6093\t2.5588\t60.4537\n",
      "4.0\t3.3006\t55.8261\t29.5634\t54.8239\t30.534\t82.1204\t2.7269\t4.6508\t2.5242\t58.9836\t2.5018\t63.0208\n",
      "6.0\t2.7499\t56.4597\t29.6048\t55.6892\t30.6473\t83.0425\t2.951\t2.9048\t2.394\t59.6859\t2.0471\t63.8125\n",
      "8.0\t2.7818\t56.693\t29.7374\t55.9556\t30.7058\t83.4177\t2.9992\t3.0392\t2.3071\t59.9672\t2.1167\t64.1184\n",
      "10.0\t2.8286\t56.9408\t29.8847\t56.4299\t30.7623\t83.6301\t2.9758\t3.0376\t2.4724\t60.1874\t2.103\t64.3584\n",
      "12.0\t2.8798\t57.0285\t29.9541\t56.5772\t30.7693\t83.7388\t3.1508\t2.6257\t2.8628\t60.255\t2.0076\t64.4443\n",
      "14.0\t2.9582\t57.0218\t29.99\t56.6104\t30.6471\t83.808\t3.1121\t2.8627\t2.8997\t60.3072\t2.0963\t64.5009\n",
      "14.5\t2.9693\t57.0991\t30.0342\t56.724\t30.7174\t83.8561\t3.1707\t2.742\t2.9952\t60.3631\t2.0696\t64.563\n"
     ]
    }
   ],
   "source": [
    "##### EVALUATION #####\n",
    "\n",
    "metric_names = ['nonshare_AP', 'share_AP', 'AP',\n",
    "                'share_BRD4_AP', 'share_HSA_AP', 'share_sEH_AP',\n",
    "                'nonshare_BRD4_AP', 'nonshare_HSA_AP', 'nonshare_sEH_AP', 'micro_AP', 'nonshare_micro_AP', 'share_micro_AP'\n",
    "                ]\n",
    "all_scores = []\n",
    "for ntree_end in list(range(0, model.get_best_iteration(), 2000)) + [model.get_best_iteration()]:\n",
    "    print(f'\\n\\n------------{ntree_end}-----------')\n",
    "    preds = model.predict_proba(val_pool,\n",
    "                                ntree_start = 0,\n",
    "                                ntree_end = ntree_end + 1,\n",
    "                                verbose = 100)\n",
    "    preds.shape\n",
    "    metrics = evaluate(val_df, preds)\n",
    "    \n",
    "    # micro AP\n",
    "    gts = val_df[TARGET_COLS].to_numpy().flatten()\n",
    "    preds = preds.flatten()\n",
    "    metrics['micro_AP'] = average_precision_score(gts, preds)\n",
    "    \n",
    "    # nonshare micro AP\n",
    "    nonshare_mask = np.stack([val_df['subset'] == 0, val_df['subset'] == 0, val_df['subset'] == 0], axis = -1).flatten()\n",
    "    metrics['nonshare_micro_AP'] = average_precision_score(gts[nonshare_mask], preds[nonshare_mask])\n",
    "    metrics['share_micro_AP'] = average_precision_score(gts[~nonshare_mask], preds[~nonshare_mask])\n",
    "    \n",
    "    \n",
    "    \n",
    "    \n",
    "    _scores = [str(round(ntree_end / 1000, 1))] + [str(round(metrics[k] * 100, 4)) for k in metric_names]\n",
    "    all_scores.append(_scores)\n",
    "    print('\t'.join(_scores))\n",
    "    \n",
    "#     metrics_table = dict_as_table(metrics,\n",
    "#                                   sort_by=lambda x: (len(x[0].split('_')), x[0]),\n",
    "#     )\n",
    "#     print(metrics_table)\n",
    "\n",
    "\n",
    "print('------------FINAL RESULTS---------------\\n')\n",
    "print('\t'.join(['iterations'] + metric_names))\n",
    "for scores in all_scores:\n",
    "    print('\t'.join(scores))"
   ]
  },
  {
   "cell_type": "code",
   "execution_count": 18,
   "id": "5fc63ece",
   "metadata": {},
   "outputs": [
    {
     "data": {
      "text/plain": [
       "<catboost.core.CatBoostClassifier at 0x7f325996bd30>"
      ]
     },
     "execution_count": 18,
     "metadata": {},
     "output_type": "execute_result"
    }
   ],
   "source": [
    "model"
   ]
  },
  {
   "cell_type": "code",
   "execution_count": null,
   "id": "f64b4087-aae6-4ced-9179-fe94fdcb0808",
   "metadata": {},
   "outputs": [],
   "source": []
  },
  {
   "cell_type": "code",
   "execution_count": null,
   "id": "48132aa3-9636-49f2-8e11-7953a358172b",
   "metadata": {},
   "outputs": [],
   "source": []
  },
  {
   "cell_type": "code",
   "execution_count": null,
   "id": "d588c1a3-755f-44d0-8a20-b1a65e6a4deb",
   "metadata": {},
   "outputs": [],
   "source": []
  },
  {
   "cell_type": "code",
   "execution_count": null,
   "id": "b7aa5030-0072-4299-8706-8b8a0b28c33f",
   "metadata": {},
   "outputs": [],
   "source": []
  },
  {
   "cell_type": "code",
   "execution_count": null,
   "id": "2f4ef1cb-6f38-44ce-a4dd-d7026e018efb",
   "metadata": {},
   "outputs": [],
   "source": []
  },
  {
   "cell_type": "code",
   "execution_count": null,
   "id": "29467aec-eb72-4d3d-ad77-8f05a4fa9d7d",
   "metadata": {},
   "outputs": [],
   "source": []
  },
  {
   "cell_type": "code",
   "execution_count": null,
   "id": "c6ee02e5-245f-4f8b-a23f-25bd4873bc2e",
   "metadata": {},
   "outputs": [],
   "source": []
  },
  {
   "cell_type": "code",
   "execution_count": null,
   "id": "782e39cd-f907-4cf0-9360-dc9d0cc23a79",
   "metadata": {},
   "outputs": [],
   "source": []
  },
  {
   "cell_type": "code",
   "execution_count": null,
   "id": "cc871312-4e8e-4dcc-92e9-3a488f8e1790",
   "metadata": {},
   "outputs": [],
   "source": []
  }
 ],
 "metadata": {
  "kernelspec": {
   "display_name": "Python 3 (ipykernel)",
   "language": "python",
   "name": "python3"
  },
  "language_info": {
   "codemirror_mode": {
    "name": "ipython",
    "version": 3
   },
   "file_extension": ".py",
   "mimetype": "text/x-python",
   "name": "python",
   "nbconvert_exporter": "python",
   "pygments_lexer": "ipython3",
   "version": "3.10.13"
  }
 },
 "nbformat": 4,
 "nbformat_minor": 5
}
