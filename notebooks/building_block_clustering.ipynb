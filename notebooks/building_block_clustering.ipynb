{
 "cells": [
  {
   "cell_type": "code",
   "execution_count": 1,
   "id": "4ea232f7-2dcc-4d5a-aeb7-6c380a57ae77",
   "metadata": {},
   "outputs": [
    {
     "name": "stderr",
     "output_type": "stream",
     "text": [
      "No normalization for SPS. Feature removed!\n",
      "No normalization for AvgIpc. Feature removed!\n",
      "/opt/conda/lib/python3.10/site-packages/tqdm/auto.py:21: TqdmWarning: IProgress not found. Please update jupyter and ipywidgets. See https://ipywidgets.readthedocs.io/en/stable/user_install.html\n",
      "  from .autonotebook import tqdm as notebook_tqdm\n",
      "Skipped loading some Tensorflow models, missing a dependency. No module named 'tensorflow'\n",
      "\u001b[34m\u001b[1mwandb\u001b[0m: \u001b[33mWARNING\u001b[0m W&B installed but not logged in.  Run `wandb login` or set the WANDB_API_KEY env variable.\n",
      "Skipped loading modules with pytorch-geometric dependency, missing a dependency. No module named 'torch_geometric'\n",
      "Skipped loading modules with pytorch-geometric dependency, missing a dependency. cannot import name 'DMPNN' from 'deepchem.models.torch_models' (/opt/conda/lib/python3.10/site-packages/deepchem/models/torch_models/__init__.py)\n",
      "Skipped loading some Jax models, missing a dependency. No module named 'jax'\n",
      "Skipped loading some PyTorch models, missing a dependency. No module named 'tensorflow'\n"
     ]
    }
   ],
   "source": [
    "import pandas as pd\n",
    "import numpy as np\n",
    "import os\n",
    "import sys\n",
    "import polars as pl\n",
    "import json\n",
    "from joblib import Parallel, delayed\n",
    "import deepchem\n",
    "from tqdm import tqdm\n",
    "\n",
    "# Configure Polars \n",
    "cfg = pl.Config()\n",
    "cfg.set_tbl_rows(20)\n",
    "cfg.set_tbl_cols(50)\n",
    "from sklearn.model_selection import StratifiedGroupKFold, GroupKFold, KFold\n",
    "import gc"
   ]
  },
  {
   "cell_type": "code",
   "execution_count": 2,
   "id": "4b9fefe2-fe40-4e00-b241-063014558708",
   "metadata": {},
   "outputs": [],
   "source": [
    "PERCENTILES = [0.01, 0.025, 0.05, 0.1, 0.25, 0.5, 0.75, 0.9, 0.95, 0.975, 0.99]"
   ]
  },
  {
   "cell_type": "code",
   "execution_count": 3,
   "id": "9b093844-eaf3-4452-bb86-a52240cc91e1",
   "metadata": {},
   "outputs": [
    {
     "name": "stdout",
     "output_type": "stream",
     "text": [
      "train_bbs --> 1145\n",
      "train_bb1s --> 271\n",
      "train_bb2s --> 693\n",
      "train_bb3s --> 872\n",
      "test_bb1s --> 341\n",
      "test_bb2s --> 1140\n",
      "test_bb3s --> 1389\n",
      "test_bbs --> 2110\n",
      "all_bbs --> 2110\n"
     ]
    },
    {
     "data": {
      "text/plain": [
       "[None, None, None, None, None, None, None, None, None]"
      ]
     },
     "execution_count": 3,
     "metadata": {},
     "output_type": "execute_result"
    }
   ],
   "source": [
    "with open('/home/dangnh36/datasets/competitions/leash_belka/processed/meta/building_blocks.json', 'r') as f:\n",
    "    bbs_meta = json.load(f)\n",
    "\n",
    "[print(k, '-->', len(v)) for k, v in bbs_meta.items()]"
   ]
  },
  {
   "cell_type": "code",
   "execution_count": 4,
   "id": "53a84c23-7f9b-4485-8195-22c2eacf142c",
   "metadata": {},
   "outputs": [
    {
     "name": "stdout",
     "output_type": "stream",
     "text": [
      "5971685\n"
     ]
    }
   ],
   "source": [
    "with open('/home/dangnh36/datasets/competitions/leash_belka/processed/meta/scaffolds.json', 'r') as f:\n",
    "    scaffolds = json.load(f)\n",
    "print(len(scaffolds))"
   ]
  },
  {
   "cell_type": "code",
   "execution_count": 5,
   "id": "e8d626d5-8991-4961-834f-501101edd613",
   "metadata": {},
   "outputs": [
    {
     "name": "stdout",
     "output_type": "stream",
     "text": [
      "8601.91998577118\n"
     ]
    },
    {
     "data": {
      "text/html": [
       "<div><style>\n",
       ".dataframe > thead > tr,\n",
       ".dataframe > tbody > tr {\n",
       "  text-align: right;\n",
       "  white-space: pre-wrap;\n",
       "}\n",
       "</style>\n",
       "<small>shape: (98_415_610, 8)</small><table border=\"1\" class=\"dataframe\"><thead><tr><th>molecule</th><th>bb1</th><th>bb2</th><th>bb3</th><th>BRD4</th><th>HSA</th><th>eSH</th><th>scaffold_idx</th></tr><tr><td>str</td><td>u16</td><td>u16</td><td>u16</td><td>u8</td><td>u8</td><td>u8</td><td>i64</td></tr></thead><tbody><tr><td>&quot;C#CCOc1ccc(CNc…</td><td>1640</td><td>1653</td><td>765</td><td>0</td><td>0</td><td>0</td><td>4283326</td></tr><tr><td>&quot;C#CCOc1ccc(CNc…</td><td>1640</td><td>1653</td><td>205</td><td>0</td><td>0</td><td>0</td><td>4486646</td></tr><tr><td>&quot;C#CCOc1ccc(CNc…</td><td>1640</td><td>1653</td><td>1653</td><td>0</td><td>0</td><td>0</td><td>1015728</td></tr><tr><td>&quot;C#CCOc1ccc(CNc…</td><td>1640</td><td>1653</td><td>146</td><td>0</td><td>0</td><td>0</td><td>5301385</td></tr><tr><td>&quot;C#CCOc1ccc(CNc…</td><td>1640</td><td>1653</td><td>439</td><td>0</td><td>0</td><td>0</td><td>5301385</td></tr><tr><td>&quot;C#CCOc1ccc(CNc…</td><td>1640</td><td>1653</td><td>196</td><td>0</td><td>0</td><td>0</td><td>5301385</td></tr><tr><td>&quot;C#CCOc1ccc(CNc…</td><td>1640</td><td>1653</td><td>253</td><td>0</td><td>0</td><td>0</td><td>5301385</td></tr><tr><td>&quot;C#CCOc1ccc(CNc…</td><td>1640</td><td>1653</td><td>1219</td><td>0</td><td>0</td><td>0</td><td>5301385</td></tr><tr><td>&quot;C#CCOc1ccc(CNc…</td><td>1640</td><td>1653</td><td>604</td><td>0</td><td>0</td><td>0</td><td>543172</td></tr><tr><td>&quot;C#CCOc1ccc(CNc…</td><td>1640</td><td>1653</td><td>121</td><td>0</td><td>0</td><td>0</td><td>2571428</td></tr><tr><td>&hellip;</td><td>&hellip;</td><td>&hellip;</td><td>&hellip;</td><td>&hellip;</td><td>&hellip;</td><td>&hellip;</td><td>&hellip;</td></tr><tr><td>&quot;[N-]=[N+]=NCCC…</td><td>141</td><td>1415</td><td>536</td><td>0</td><td>0</td><td>0</td><td>4068980</td></tr><tr><td>&quot;[N-]=[N+]=NCCC…</td><td>141</td><td>1415</td><td>1367</td><td>0</td><td>0</td><td>0</td><td>2088996</td></tr><tr><td>&quot;[N-]=[N+]=NCCC…</td><td>141</td><td>1415</td><td>329</td><td>0</td><td>0</td><td>0</td><td>3192765</td></tr><tr><td>&quot;[N-]=[N+]=NCCC…</td><td>141</td><td>1415</td><td>757</td><td>0</td><td>0</td><td>0</td><td>4085046</td></tr><tr><td>&quot;[N-]=[N+]=NCCC…</td><td>141</td><td>1415</td><td>335</td><td>0</td><td>0</td><td>0</td><td>4087757</td></tr><tr><td>&quot;[N-]=[N+]=NCCC…</td><td>141</td><td>1415</td><td>1792</td><td>0</td><td>0</td><td>0</td><td>4674025</td></tr><tr><td>&quot;[N-]=[N+]=NCCC…</td><td>141</td><td>1415</td><td>1178</td><td>0</td><td>0</td><td>0</td><td>5240137</td></tr><tr><td>&quot;[N-]=[N+]=NCCC…</td><td>141</td><td>1415</td><td>1699</td><td>0</td><td>0</td><td>0</td><td>5240137</td></tr><tr><td>&quot;[N-]=[N+]=NCCC…</td><td>141</td><td>1415</td><td>1308</td><td>0</td><td>0</td><td>0</td><td>3617024</td></tr><tr><td>&quot;[N-]=[N+]=NCCC…</td><td>141</td><td>1415</td><td>1415</td><td>0</td><td>0</td><td>0</td><td>268351</td></tr></tbody></table></div>"
      ],
      "text/plain": [
       "shape: (98_415_610, 8)\n",
       "┌───────────────────────────────────┬──────┬──────┬──────┬──────┬─────┬─────┬──────────────┐\n",
       "│ molecule                          ┆ bb1  ┆ bb2  ┆ bb3  ┆ BRD4 ┆ HSA ┆ eSH ┆ scaffold_idx │\n",
       "│ ---                               ┆ ---  ┆ ---  ┆ ---  ┆ ---  ┆ --- ┆ --- ┆ ---          │\n",
       "│ str                               ┆ u16  ┆ u16  ┆ u16  ┆ u8   ┆ u8  ┆ u8  ┆ i64          │\n",
       "╞═══════════════════════════════════╪══════╪══════╪══════╪══════╪═════╪═════╪══════════════╡\n",
       "│ C#CCOc1ccc(CNc2nc(NCC3CCCN3c3ccc… ┆ 1640 ┆ 1653 ┆ 765  ┆ 0    ┆ 0   ┆ 0   ┆ 4283326      │\n",
       "│ C#CCOc1ccc(CNc2nc(NCc3cccc(Br)n3… ┆ 1640 ┆ 1653 ┆ 205  ┆ 0    ┆ 0   ┆ 0   ┆ 4486646      │\n",
       "│ C#CCOc1ccc(CNc2nc(NCc3ccc(OCC#C)… ┆ 1640 ┆ 1653 ┆ 1653 ┆ 0    ┆ 0   ┆ 0   ┆ 1015728      │\n",
       "│ C#CCOc1ccc(CNc2nc(NCCNC(=O)C(=C)… ┆ 1640 ┆ 1653 ┆ 146  ┆ 0    ┆ 0   ┆ 0   ┆ 5301385      │\n",
       "│ C#CCOc1ccc(CNc2nc(NCC(=O)NCC=C)n… ┆ 1640 ┆ 1653 ┆ 439  ┆ 0    ┆ 0   ┆ 0   ┆ 5301385      │\n",
       "│ C#CCOc1ccc(CNc2nc(NCC(C)OCC=C)nc… ┆ 1640 ┆ 1653 ┆ 196  ┆ 0    ┆ 0   ┆ 0   ┆ 5301385      │\n",
       "│ C#CCOc1ccc(CNc2nc(NCCCOCC=C)nc(N… ┆ 1640 ┆ 1653 ┆ 253  ┆ 0    ┆ 0   ┆ 0   ┆ 5301385      │\n",
       "│ C#CCOc1ccc(CNc2nc(NCCOCC=C)nc(N[… ┆ 1640 ┆ 1653 ┆ 1219 ┆ 0    ┆ 0   ┆ 0   ┆ 5301385      │\n",
       "│ C#CCOc1ccc(CNc2nc(Nc3cnn(C4CCN(C… ┆ 1640 ┆ 1653 ┆ 604  ┆ 0    ┆ 0   ┆ 0   ┆ 543172       │\n",
       "│ C#CCOc1ccc(CNc2nc(Nc3n[nH]c4c3CN… ┆ 1640 ┆ 1653 ┆ 121  ┆ 0    ┆ 0   ┆ 0   ┆ 2571428      │\n",
       "│ …                                 ┆ …    ┆ …    ┆ …    ┆ …    ┆ …   ┆ …   ┆ …            │\n",
       "│ [N-]=[N+]=NCCC[C@H](Nc1nc(Nc2ncc… ┆ 141  ┆ 1415 ┆ 536  ┆ 0    ┆ 0   ┆ 0   ┆ 4068980      │\n",
       "│ [N-]=[N+]=NCCC[C@H](Nc1nc(Nc2ncn… ┆ 141  ┆ 1415 ┆ 1367 ┆ 0    ┆ 0   ┆ 0   ┆ 2088996      │\n",
       "│ [N-]=[N+]=NCCC[C@H](Nc1nc(Nc2ncn… ┆ 141  ┆ 1415 ┆ 329  ┆ 0    ┆ 0   ┆ 0   ┆ 3192765      │\n",
       "│ [N-]=[N+]=NCCC[C@H](Nc1nc(Nc2noc… ┆ 141  ┆ 1415 ┆ 757  ┆ 0    ┆ 0   ┆ 0   ┆ 4085046      │\n",
       "│ [N-]=[N+]=NCCC[C@H](Nc1nc(Nc2ncn… ┆ 141  ┆ 1415 ┆ 335  ┆ 0    ┆ 0   ┆ 0   ┆ 4087757      │\n",
       "│ [N-]=[N+]=NCCC[C@H](Nc1nc(Nc2noc… ┆ 141  ┆ 1415 ┆ 1792 ┆ 0    ┆ 0   ┆ 0   ┆ 4674025      │\n",
       "│ [N-]=[N+]=NCCC[C@H](Nc1nc(Nc2nnc… ┆ 141  ┆ 1415 ┆ 1178 ┆ 0    ┆ 0   ┆ 0   ┆ 5240137      │\n",
       "│ [N-]=[N+]=NCCC[C@H](Nc1nc(Nc2nnc… ┆ 141  ┆ 1415 ┆ 1699 ┆ 0    ┆ 0   ┆ 0   ┆ 5240137      │\n",
       "│ [N-]=[N+]=NCCC[C@H](Nc1nc(Nc2nnn… ┆ 141  ┆ 1415 ┆ 1308 ┆ 0    ┆ 0   ┆ 0   ┆ 3617024      │\n",
       "│ [N-]=[N+]=NCCC[C@H](Nc1nc(Nc2noc… ┆ 141  ┆ 1415 ┆ 1415 ┆ 0    ┆ 0   ┆ 0   ┆ 268351       │\n",
       "└───────────────────────────────────┴──────┴──────┴──────┴──────┴─────┴─────┴──────────────┘"
      ]
     },
     "execution_count": 5,
     "metadata": {},
     "output_type": "execute_result"
    }
   ],
   "source": [
    "train_scaffolds = pl.scan_csv('/home/dangnh36/datasets/competitions/leash_belka/processed/train_scaffold.csv').collect()\n",
    "train_df = pl.scan_csv('/home/dangnh36/datasets/competitions/leash_belka/processed/train_v2.csv')\\\n",
    "    .select(\n",
    "        pl.col('molecule'),\n",
    "        pl.col('bb1', 'bb2', 'bb3').cast(pl.UInt16),\n",
    "        pl.col('BRD4', 'HSA', 'eSH').cast(pl.UInt8),\n",
    "        scaffold_idx = train_scaffolds['scaffold_idx'],\n",
    "    )\\\n",
    "    .collect()\n",
    "print(train_df.estimated_size('mb'))\n",
    "train_df"
   ]
  },
  {
   "cell_type": "code",
   "execution_count": 86,
   "id": "f8e70545-6437-483a-ab43-9dbcd539ff25",
   "metadata": {},
   "outputs": [
    {
     "name": "stdout",
     "output_type": "stream",
     "text": [
      "84.21934127807617\n"
     ]
    },
    {
     "data": {
      "text/html": [
       "<div><style>\n",
       ".dataframe > thead > tr,\n",
       ".dataframe > tbody > tr {\n",
       "  text-align: right;\n",
       "  white-space: pre-wrap;\n",
       "}\n",
       "</style>\n",
       "<small>shape: (878_022, 7)</small><table border=\"1\" class=\"dataframe\"><thead><tr><th>molecule</th><th>id</th><th>bb1</th><th>bb2</th><th>bb3</th><th>protein</th><th>scaffold_idx</th></tr><tr><td>str</td><td>i64</td><td>u16</td><td>u16</td><td>u16</td><td>str</td><td>i64</td></tr></thead><tbody><tr><td>&quot;Cn1ncc2c(C(=O)…</td><td>295336005</td><td>304</td><td>645</td><td>1201</td><td>&quot;BRD4&quot;</td><td>1024626</td></tr><tr><td>&quot;CC(C)(C#N)c1cc…</td><td>295987102</td><td>398</td><td>1173</td><td>979</td><td>&quot;HSA&quot;</td><td>5417893</td></tr><tr><td>&quot;COc1nc(Br)ccc1…</td><td>296231759</td><td>511</td><td>1880</td><td>1041</td><td>&quot;BRD4&quot;</td><td>204272</td></tr><tr><td>&quot;O=C(N[Dy])c1cc…</td><td>296406854</td><td>1798</td><td>801</td><td>1792</td><td>&quot;BRD4&quot;</td><td>3756277</td></tr><tr><td>&quot;CS(=O)(=O)c1cc…</td><td>295359211</td><td>1413</td><td>50</td><td>1203</td><td>&quot;sEH&quot;</td><td>5785756</td></tr><tr><td>&quot;O=C(N[Dy])c1cc…</td><td>296478917</td><td>2036</td><td>1944</td><td>329</td><td>&quot;BRD4&quot;</td><td>216077</td></tr><tr><td>&quot;CC(C)(C)OC(=O)…</td><td>295300740</td><td>349</td><td>1106</td><td>16</td><td>&quot;BRD4&quot;</td><td>724788</td></tr><tr><td>&quot;CCCCCC1CCC(C(=…</td><td>296862284</td><td>58</td><td>791</td><td>1764</td><td>&quot;HSA&quot;</td><td>1369803</td></tr><tr><td>&quot;O=C(C[C@@H](Cc…</td><td>296593445</td><td>1129</td><td>828</td><td>677</td><td>&quot;BRD4&quot;</td><td>4656606</td></tr><tr><td>&quot;O=C(N[Dy])[C@@…</td><td>296025403</td><td>442</td><td>24</td><td>1274</td><td>&quot;BRD4&quot;</td><td>1564299</td></tr><tr><td>&hellip;</td><td>&hellip;</td><td>&hellip;</td><td>&hellip;</td><td>&hellip;</td><td>&hellip;</td><td>&hellip;</td></tr><tr><td>&quot;CC(C)CC(Nc1nc(…</td><td>295575371</td><td>346</td><td>380</td><td>618</td><td>&quot;BRD4&quot;</td><td>5615867</td></tr><tr><td>&quot;Cc1cc(C)n(-c2c…</td><td>295382838</td><td>1124</td><td>870</td><td>289</td><td>&quot;HSA&quot;</td><td>741954</td></tr><tr><td>&quot;O=C(N[Dy])c1cc…</td><td>295858075</td><td>417</td><td>108</td><td>820</td><td>&quot;HSA&quot;</td><td>5504902</td></tr><tr><td>&quot;O=C(N[Dy])c1cc…</td><td>296342537</td><td>999</td><td>1268</td><td>695</td><td>&quot;BRD4&quot;</td><td>295936</td></tr><tr><td>&quot;COCCNC(=O)CNc1…</td><td>296387273</td><td>294</td><td>1242</td><td>1801</td><td>&quot;BRD4&quot;</td><td>1281519</td></tr><tr><td>&quot;COc1cc(OC)cc(-…</td><td>295423143</td><td>1249</td><td>297</td><td>988</td><td>&quot;BRD4&quot;</td><td>512800</td></tr><tr><td>&quot;O=C(N[Dy])[C@H…</td><td>296828642</td><td>244</td><td>1624</td><td>942</td><td>&quot;BRD4&quot;</td><td>4606056</td></tr><tr><td>&quot;CC(C)(C)c1ccc(…</td><td>295941832</td><td>1922</td><td>1980</td><td>298</td><td>&quot;BRD4&quot;</td><td>5328038</td></tr><tr><td>&quot;CCc1cc(Nc2nc(N…</td><td>295802809</td><td>904</td><td>64</td><td>1884</td><td>&quot;BRD4&quot;</td><td>4124300</td></tr><tr><td>&quot;Cc1cc(O)ncc1-c…</td><td>295455721</td><td>1421</td><td>1703</td><td>1629</td><td>&quot;sEH&quot;</td><td>4618000</td></tr></tbody></table></div>"
      ],
      "text/plain": [
       "shape: (878_022, 7)\n",
       "┌───────────────────────────────────┬───────────┬──────┬──────┬──────┬─────────┬──────────────┐\n",
       "│ molecule                          ┆ id        ┆ bb1  ┆ bb2  ┆ bb3  ┆ protein ┆ scaffold_idx │\n",
       "│ ---                               ┆ ---       ┆ ---  ┆ ---  ┆ ---  ┆ ---     ┆ ---          │\n",
       "│ str                               ┆ i64       ┆ u16  ┆ u16  ┆ u16  ┆ str     ┆ i64          │\n",
       "╞═══════════════════════════════════╪═══════════╪══════╪══════╪══════╪═════════╪══════════════╡\n",
       "│ Cn1ncc2c(C(=O)N3CCC(C(=O)N[Dy])(… ┆ 295336005 ┆ 304  ┆ 645  ┆ 1201 ┆ BRD4    ┆ 1024626      │\n",
       "│ CC(C)(C#N)c1cc(-c2cc(C(=O)N[Dy])… ┆ 295987102 ┆ 398  ┆ 1173 ┆ 979  ┆ HSA     ┆ 5417893      │\n",
       "│ COc1nc(Br)ccc1Nc1nc(Nc2ccc3[nH]c… ┆ 296231759 ┆ 511  ┆ 1880 ┆ 1041 ┆ BRD4    ┆ 204272       │\n",
       "│ O=C(N[Dy])c1cc(F)ccc1Nc1nc(Nc2cc… ┆ 296406854 ┆ 1798 ┆ 801  ┆ 1792 ┆ BRD4    ┆ 3756277      │\n",
       "│ CS(=O)(=O)c1ccccc1C(=O)N1CCC(COc… ┆ 295359211 ┆ 1413 ┆ 50   ┆ 1203 ┆ sEH     ┆ 5785756      │\n",
       "│ O=C(N[Dy])c1ccncc1Nc1nc(NCCCN2C(… ┆ 296478917 ┆ 2036 ┆ 1944 ┆ 329  ┆ BRD4    ┆ 216077       │\n",
       "│ CC(C)(C)OC(=O)CC(Nc1nc(Nc2ccc3nc… ┆ 295300740 ┆ 349  ┆ 1106 ┆ 16   ┆ BRD4    ┆ 724788       │\n",
       "│ CCCCCC1CCC(C(=O)N2CCCN(c3cc(C(=O… ┆ 296862284 ┆ 58   ┆ 791  ┆ 1764 ┆ HSA     ┆ 1369803      │\n",
       "│ O=C(C[C@@H](Cc1ccc(F)cc1)Nc1nc(N… ┆ 296593445 ┆ 1129 ┆ 828  ┆ 677  ┆ BRD4    ┆ 4656606      │\n",
       "│ O=C(N[Dy])[C@@H](Nc1nc(NCCC(O)C2… ┆ 296025403 ┆ 442  ┆ 24   ┆ 1274 ┆ BRD4    ┆ 1564299      │\n",
       "│ …                                 ┆ …         ┆ …    ┆ …    ┆ …    ┆ …       ┆ …            │\n",
       "│ CC(C)CC(Nc1nc(NCCN2CCCOCC2)nc(Nc… ┆ 295575371 ┆ 346  ┆ 380  ┆ 618  ┆ BRD4    ┆ 5615867      │\n",
       "│ Cc1cc(C)n(-c2cccc(-c3ccc(C(=O)N[… ┆ 295382838 ┆ 1124 ┆ 870  ┆ 289  ┆ HSA     ┆ 741954       │\n",
       "│ O=C(N[Dy])c1cc(C2=CCC(O)CC2)nc(N… ┆ 295858075 ┆ 417  ┆ 108  ┆ 820  ┆ HSA     ┆ 5504902      │\n",
       "│ O=C(N[Dy])c1ccc(Nc2nc(Nc3ccsc3)n… ┆ 296342537 ┆ 999  ┆ 1268 ┆ 695  ┆ BRD4    ┆ 295936       │\n",
       "│ COCCNC(=O)CNc1nc(Nc2ccc(C(F)(F)F… ┆ 296387273 ┆ 294  ┆ 1242 ┆ 1801 ┆ BRD4    ┆ 1281519      │\n",
       "│ COc1cc(OC)cc(-c2ccc3c(c2)c(C(=O)… ┆ 295423143 ┆ 1249 ┆ 297  ┆ 988  ┆ BRD4    ┆ 512800       │\n",
       "│ O=C(N[Dy])[C@H]1C[C@H](O)CN1c1nc… ┆ 296828642 ┆ 244  ┆ 1624 ┆ 942  ┆ BRD4    ┆ 4606056      │\n",
       "│ CC(C)(C)c1ccc(O)c(Nc2nc(Nc3ccncc… ┆ 295941832 ┆ 1922 ┆ 1980 ┆ 298  ┆ BRD4    ┆ 5328038      │\n",
       "│ CCc1cc(Nc2nc(Nc3nnc(C)s3)nc(N[C@… ┆ 295802809 ┆ 904  ┆ 64   ┆ 1884 ┆ BRD4    ┆ 4124300      │\n",
       "│ Cc1cc(O)ncc1-c1ccc(C(=O)N[Dy])c(… ┆ 295455721 ┆ 1421 ┆ 1703 ┆ 1629 ┆ sEH     ┆ 4618000      │\n",
       "└───────────────────────────────────┴───────────┴──────┴──────┴──────┴─────────┴──────────────┘"
      ]
     },
     "execution_count": 86,
     "metadata": {},
     "output_type": "execute_result"
    }
   ],
   "source": [
    "test_scaffolds = pl.scan_csv('/home/dangnh36/datasets/competitions/leash_belka/processed/test_scaffold.csv').collect()\n",
    "test_df = pl.scan_csv('/home/dangnh36/datasets/competitions/leash_belka/processed/test_v2.csv')\\\n",
    "    .select(\n",
    "        pl.col('id','molecule'),\n",
    "        pl.col('bb1', 'bb2', 'bb3').cast(pl.UInt16),\n",
    "        pl.col('protein'),\n",
    "        scaffold_idx = test_scaffolds['scaffold_idx']\n",
    "    ).group_by('molecule').first().collect()\n",
    "print(test_df.estimated_size('mb'))\n",
    "test_df"
   ]
  },
  {
   "cell_type": "code",
   "execution_count": null,
   "id": "8d97eecf-aca1-4ae0-8a46-153d85fb9503",
   "metadata": {},
   "outputs": [],
   "source": []
  },
  {
   "cell_type": "code",
   "execution_count": 8,
   "id": "f2e55227-2f22-4640-9f85-4e5cc7d546af",
   "metadata": {},
   "outputs": [
    {
     "data": {
      "text/plain": [
       "2110"
      ]
     },
     "execution_count": 8,
     "metadata": {},
     "output_type": "execute_result"
    }
   ],
   "source": [
    "all_bbs = bbs_meta['all_bbs']\n",
    "len(all_bbs)"
   ]
  },
  {
   "cell_type": "code",
   "execution_count": 9,
   "id": "7e8886f0-073f-42eb-bfbb-9c07df5fb435",
   "metadata": {},
   "outputs": [],
   "source": [
    "from scipy.sparse import csr_matrix\n",
    "from scipy.sparse.csgraph import connected_components"
   ]
  },
  {
   "cell_type": "code",
   "execution_count": 50,
   "id": "a8628646-9b49-4e24-a310-7c1f8b76ee42",
   "metadata": {},
   "outputs": [
    {
     "data": {
      "text/plain": [
       "array([[0, 0, 0, ..., 0, 0, 0],\n",
       "       [0, 0, 0, ..., 0, 0, 0],\n",
       "       [0, 0, 0, ..., 0, 0, 0],\n",
       "       ...,\n",
       "       [0, 0, 0, ..., 0, 0, 0],\n",
       "       [0, 0, 0, ..., 0, 0, 0],\n",
       "       [0, 0, 0, ..., 0, 0, 0]], dtype=uint8)"
      ]
     },
     "execution_count": 50,
     "metadata": {},
     "output_type": "execute_result"
    }
   ],
   "source": [
    "conn = np.zeros((len(all_bbs), len(all_bbs)), dtype = np.uint8)\n",
    "conn"
   ]
  },
  {
   "cell_type": "code",
   "execution_count": 51,
   "id": "0b70d0a3-c1e7-4c0a-91df-5d1ee8c0d44b",
   "metadata": {},
   "outputs": [
    {
     "name": "stderr",
     "output_type": "stream",
     "text": [
      "98415610it [03:23, 483619.78it/s]\n"
     ]
    },
    {
     "data": {
      "text/plain": [
       "601373"
      ]
     },
     "execution_count": 51,
     "metadata": {},
     "output_type": "execute_result"
    }
   ],
   "source": [
    "for row in tqdm(train_df.iter_rows(named=True)):\n",
    "    i1, i2, i3 = sorted([row['bb1'], row['bb2'], row['bb3']])\n",
    "    conn[i1, i2] = 1\n",
    "    conn[i1, i3] = 1\n",
    "    conn[i2, i3] = 1\n",
    "\n",
    "conn.sum()"
   ]
  },
  {
   "cell_type": "code",
   "execution_count": 56,
   "id": "80709941-7387-4ed4-a33f-f81072a017cd",
   "metadata": {},
   "outputs": [
    {
     "name": "stderr",
     "output_type": "stream",
     "text": [
      "878022it [00:01, 467440.44it/s]\n"
     ]
    },
    {
     "data": {
      "text/plain": [
       "793416"
      ]
     },
     "execution_count": 56,
     "metadata": {},
     "output_type": "execute_result"
    }
   ],
   "source": [
    "for row in tqdm(test_df.iter_rows(named=True)):\n",
    "    i1, i2, i3 = sorted([row['bb1'], row['bb2'], row['bb3']])\n",
    "    conn[i1, i2] = 1\n",
    "    conn[i1, i3] = 1\n",
    "    conn[i2, i3] = 1\n",
    "\n",
    "conn.sum()"
   ]
  },
  {
   "cell_type": "code",
   "execution_count": 57,
   "id": "236990c3-df42-4f85-8cd8-141c356c94de",
   "metadata": {},
   "outputs": [
    {
     "data": {
      "text/plain": [
       "4"
      ]
     },
     "execution_count": 57,
     "metadata": {},
     "output_type": "execute_result"
    }
   ],
   "source": [
    "graph = csr_matrix(conn)\n",
    "n_components, labels = connected_components(csgraph=graph, directed=False, return_labels=True)\n",
    "n_components"
   ]
  },
  {
   "cell_type": "code",
   "execution_count": 58,
   "id": "6ed2cd03-4098-4ef0-bfa4-136cd1953fca",
   "metadata": {},
   "outputs": [
    {
     "data": {
      "text/plain": [
       "array([0, 1, 2, 3], dtype=int32)"
      ]
     },
     "execution_count": 58,
     "metadata": {},
     "output_type": "execute_result"
    }
   ],
   "source": [
    "np.unique(labels)"
   ]
  },
  {
   "cell_type": "code",
   "execution_count": 91,
   "id": "1b3234da-71bf-4aac-9e8d-b9a91ca479fc",
   "metadata": {},
   "outputs": [
    {
     "name": "stdout",
     "output_type": "stream",
     "text": [
      "0 --> 1145\n",
      "1 --> 859\n",
      "2 --> 53\n",
      "3 --> 53\n"
     ]
    }
   ],
   "source": [
    "bb_cluster = {}\n",
    "\n",
    "for c in range(n_components):\n",
    "    cluster_idxs, = np.where(labels == c)\n",
    "    # print(cluster_idxs)\n",
    "    bb_cluster[c] = cluster_idxs.tolist()\n",
    "    print(c, '-->', len(cluster_idxs))"
   ]
  },
  {
   "cell_type": "code",
   "execution_count": 92,
   "id": "a407f003-5595-49e9-8aa2-c38b6984df4c",
   "metadata": {},
   "outputs": [],
   "source": [
    "with open('/home/dangnh36/datasets/competitions/leash_belka/processed/meta/building_blocks_cluster.json', 'w') as f:\n",
    "    json.dump(bb_cluster, f)"
   ]
  },
  {
   "cell_type": "code",
   "execution_count": 87,
   "id": "f435849a-214b-4b31-853e-a57481819312",
   "metadata": {},
   "outputs": [
    {
     "name": "stdout",
     "output_type": "stream",
     "text": [
      "cluster=0, 1145 building blocks, 369039 samples (42.03 %)\n",
      "cluster=1, 859 building blocks, 486390 samples (55.4 %)\n",
      "cluster=2, 53 building blocks, 11271 samples (1.28 %)\n",
      "cluster=3, 53 building blocks, 11322 samples (1.29 %)\n"
     ]
    }
   ],
   "source": [
    "for cluster_idx in bb_cluster:\n",
    "    cluster = bb_cluster[cluster_idx]\n",
    "    num_samples = test_df.filter(pl.col('bb1').is_in(cluster) | pl.col('bb2').is_in(cluster) | pl.col('bb2').is_in(cluster)).shape[0]\n",
    "    pct = round(num_samples / test_df.shape[0] * 100, 2)\n",
    "    print(f'cluster={cluster_idx}, {len(cluster)} building blocks, {num_samples} samples ({pct} %)')"
   ]
  },
  {
   "cell_type": "code",
   "execution_count": 94,
   "id": "cb98fd0c-fc3f-470d-abe7-ddb2bc6e7aca",
   "metadata": {},
   "outputs": [
    {
     "data": {
      "text/plain": [
       "11713.0"
      ]
     },
     "execution_count": 94,
     "metadata": {},
     "output_type": "execute_result"
    }
   ],
   "source": [
    "53 * 52 * 51 / 6 / 2"
   ]
  },
  {
   "cell_type": "code",
   "execution_count": null,
   "id": "366bb699-4341-42ab-8d94-c21e5109f591",
   "metadata": {},
   "outputs": [],
   "source": []
  },
  {
   "cell_type": "code",
   "execution_count": null,
   "id": "0b418e80-1079-46e4-9df5-eb407476c98b",
   "metadata": {},
   "outputs": [],
   "source": []
  },
  {
   "cell_type": "code",
   "execution_count": null,
   "id": "c10a91c9-c03b-43a4-bfa3-28afe632e910",
   "metadata": {},
   "outputs": [],
   "source": []
  },
  {
   "cell_type": "code",
   "execution_count": 83,
   "id": "f7db5ac4-2614-4e5f-80eb-6da518115514",
   "metadata": {},
   "outputs": [
    {
     "name": "stdout",
     "output_type": "stream",
     "text": [
      "160.23621368408203\n"
     ]
    },
    {
     "data": {
      "text/html": [
       "<div><style>\n",
       ".dataframe > thead > tr,\n",
       ".dataframe > tbody > tr {\n",
       "  text-align: right;\n",
       "  white-space: pre-wrap;\n",
       "}\n",
       "</style>\n",
       "<small>shape: (1_674_896, 7)</small><table border=\"1\" class=\"dataframe\"><thead><tr><th>id</th><th>molecule</th><th>bb1</th><th>bb2</th><th>bb3</th><th>protein</th><th>scaffold_idx</th></tr><tr><td>i64</td><td>str</td><td>u16</td><td>u16</td><td>u16</td><td>str</td><td>i64</td></tr></thead><tbody><tr><td>295246830</td><td>&quot;C#CCCC[C@H](Nc…</td><td>1989</td><td>409</td><td>409</td><td>&quot;BRD4&quot;</td><td>2217250</td></tr><tr><td>295246831</td><td>&quot;C#CCCC[C@H](Nc…</td><td>1989</td><td>409</td><td>409</td><td>&quot;HSA&quot;</td><td>2217250</td></tr><tr><td>295246832</td><td>&quot;C#CCCC[C@H](Nc…</td><td>1989</td><td>409</td><td>409</td><td>&quot;sEH&quot;</td><td>2217250</td></tr><tr><td>295246833</td><td>&quot;C#CCCC[C@H](Nc…</td><td>1989</td><td>409</td><td>1012</td><td>&quot;BRD4&quot;</td><td>602641</td></tr><tr><td>295246834</td><td>&quot;C#CCCC[C@H](Nc…</td><td>1989</td><td>409</td><td>1012</td><td>&quot;HSA&quot;</td><td>602641</td></tr><tr><td>295246835</td><td>&quot;C#CCCC[C@H](Nc…</td><td>1989</td><td>409</td><td>1012</td><td>&quot;sEH&quot;</td><td>602641</td></tr><tr><td>295246836</td><td>&quot;C#CCCC[C@H](Nc…</td><td>1989</td><td>409</td><td>1722</td><td>&quot;BRD4&quot;</td><td>4502748</td></tr><tr><td>295246837</td><td>&quot;C#CCCC[C@H](Nc…</td><td>1989</td><td>409</td><td>1722</td><td>&quot;HSA&quot;</td><td>4502748</td></tr><tr><td>295246838</td><td>&quot;C#CCCC[C@H](Nc…</td><td>1989</td><td>409</td><td>1722</td><td>&quot;sEH&quot;</td><td>4502748</td></tr><tr><td>295246839</td><td>&quot;C#CCCC[C@H](Nc…</td><td>1989</td><td>409</td><td>1078</td><td>&quot;BRD4&quot;</td><td>3936208</td></tr><tr><td>&hellip;</td><td>&hellip;</td><td>&hellip;</td><td>&hellip;</td><td>&hellip;</td><td>&hellip;</td><td>&hellip;</td></tr><tr><td>296921716</td><td>&quot;[N-]=[N+]=NCCC…</td><td>141</td><td>1699</td><td>1254</td><td>&quot;sEH&quot;</td><td>2925996</td></tr><tr><td>296921717</td><td>&quot;COC(=O)c1ccnc(…</td><td>141</td><td>1415</td><td>1390</td><td>&quot;BRD4&quot;</td><td>926159</td></tr><tr><td>296921718</td><td>&quot;COC(=O)c1ccnc(…</td><td>141</td><td>1415</td><td>1390</td><td>&quot;HSA&quot;</td><td>926159</td></tr><tr><td>296921719</td><td>&quot;COC(=O)c1ccnc(…</td><td>141</td><td>1415</td><td>1390</td><td>&quot;sEH&quot;</td><td>926159</td></tr><tr><td>296921720</td><td>&quot;COC1CCC(CCNc2n…</td><td>141</td><td>1415</td><td>1556</td><td>&quot;BRD4&quot;</td><td>3642883</td></tr><tr><td>296921721</td><td>&quot;COC1CCC(CCNc2n…</td><td>141</td><td>1415</td><td>1556</td><td>&quot;HSA&quot;</td><td>3642883</td></tr><tr><td>296921722</td><td>&quot;COC1CCC(CCNc2n…</td><td>141</td><td>1415</td><td>1556</td><td>&quot;sEH&quot;</td><td>3642883</td></tr><tr><td>296921723</td><td>&quot;[N-]=[N+]=NCCC…</td><td>141</td><td>1415</td><td>236</td><td>&quot;BRD4&quot;</td><td>2851961</td></tr><tr><td>296921724</td><td>&quot;[N-]=[N+]=NCCC…</td><td>141</td><td>1415</td><td>236</td><td>&quot;HSA&quot;</td><td>2851961</td></tr><tr><td>296921725</td><td>&quot;[N-]=[N+]=NCCC…</td><td>141</td><td>1415</td><td>236</td><td>&quot;sEH&quot;</td><td>2851961</td></tr></tbody></table></div>"
      ],
      "text/plain": [
       "shape: (1_674_896, 7)\n",
       "┌───────────┬───────────────────────────────────┬──────┬──────┬──────┬─────────┬──────────────┐\n",
       "│ id        ┆ molecule                          ┆ bb1  ┆ bb2  ┆ bb3  ┆ protein ┆ scaffold_idx │\n",
       "│ ---       ┆ ---                               ┆ ---  ┆ ---  ┆ ---  ┆ ---     ┆ ---          │\n",
       "│ i64       ┆ str                               ┆ u16  ┆ u16  ┆ u16  ┆ str     ┆ i64          │\n",
       "╞═══════════╪═══════════════════════════════════╪══════╪══════╪══════╪═════════╪══════════════╡\n",
       "│ 295246830 ┆ C#CCCC[C@H](Nc1nc(Nc2ccc(C=C)cc2… ┆ 1989 ┆ 409  ┆ 409  ┆ BRD4    ┆ 2217250      │\n",
       "│ 295246831 ┆ C#CCCC[C@H](Nc1nc(Nc2ccc(C=C)cc2… ┆ 1989 ┆ 409  ┆ 409  ┆ HSA     ┆ 2217250      │\n",
       "│ 295246832 ┆ C#CCCC[C@H](Nc1nc(Nc2ccc(C=C)cc2… ┆ 1989 ┆ 409  ┆ 409  ┆ sEH     ┆ 2217250      │\n",
       "│ 295246833 ┆ C#CCCC[C@H](Nc1nc(Nc2ccc(C=C)cc2… ┆ 1989 ┆ 409  ┆ 1012 ┆ BRD4    ┆ 602641       │\n",
       "│ 295246834 ┆ C#CCCC[C@H](Nc1nc(Nc2ccc(C=C)cc2… ┆ 1989 ┆ 409  ┆ 1012 ┆ HSA     ┆ 602641       │\n",
       "│ 295246835 ┆ C#CCCC[C@H](Nc1nc(Nc2ccc(C=C)cc2… ┆ 1989 ┆ 409  ┆ 1012 ┆ sEH     ┆ 602641       │\n",
       "│ 295246836 ┆ C#CCCC[C@H](Nc1nc(NCC2(O)CCCC2(C… ┆ 1989 ┆ 409  ┆ 1722 ┆ BRD4    ┆ 4502748      │\n",
       "│ 295246837 ┆ C#CCCC[C@H](Nc1nc(NCC2(O)CCCC2(C… ┆ 1989 ┆ 409  ┆ 1722 ┆ HSA     ┆ 4502748      │\n",
       "│ 295246838 ┆ C#CCCC[C@H](Nc1nc(NCC2(O)CCCC2(C… ┆ 1989 ┆ 409  ┆ 1722 ┆ sEH     ┆ 4502748      │\n",
       "│ 295246839 ┆ C#CCCC[C@H](Nc1nc(Nc2ccc(C=C)cc2… ┆ 1989 ┆ 409  ┆ 1078 ┆ BRD4    ┆ 3936208      │\n",
       "│ …         ┆ …                                 ┆ …    ┆ …    ┆ …    ┆ …       ┆ …            │\n",
       "│ 296921716 ┆ [N-]=[N+]=NCCC[C@H](Nc1nc(NCC2CC… ┆ 141  ┆ 1699 ┆ 1254 ┆ sEH     ┆ 2925996      │\n",
       "│ 296921717 ┆ COC(=O)c1ccnc(Nc2nc(Nc3noc4ccc(F… ┆ 141  ┆ 1415 ┆ 1390 ┆ BRD4    ┆ 926159       │\n",
       "│ 296921718 ┆ COC(=O)c1ccnc(Nc2nc(Nc3noc4ccc(F… ┆ 141  ┆ 1415 ┆ 1390 ┆ HSA     ┆ 926159       │\n",
       "│ 296921719 ┆ COC(=O)c1ccnc(Nc2nc(Nc3noc4ccc(F… ┆ 141  ┆ 1415 ┆ 1390 ┆ sEH     ┆ 926159       │\n",
       "│ 296921720 ┆ COC1CCC(CCNc2nc(Nc3noc4ccc(F)cc3… ┆ 141  ┆ 1415 ┆ 1556 ┆ BRD4    ┆ 3642883      │\n",
       "│ 296921721 ┆ COC1CCC(CCNc2nc(Nc3noc4ccc(F)cc3… ┆ 141  ┆ 1415 ┆ 1556 ┆ HSA     ┆ 3642883      │\n",
       "│ 296921722 ┆ COC1CCC(CCNc2nc(Nc3noc4ccc(F)cc3… ┆ 141  ┆ 1415 ┆ 1556 ┆ sEH     ┆ 3642883      │\n",
       "│ 296921723 ┆ [N-]=[N+]=NCCC[C@H](Nc1nc(NCc2cc… ┆ 141  ┆ 1415 ┆ 236  ┆ BRD4    ┆ 2851961      │\n",
       "│ 296921724 ┆ [N-]=[N+]=NCCC[C@H](Nc1nc(NCc2cc… ┆ 141  ┆ 1415 ┆ 236  ┆ HSA     ┆ 2851961      │\n",
       "│ 296921725 ┆ [N-]=[N+]=NCCC[C@H](Nc1nc(NCc2cc… ┆ 141  ┆ 1415 ┆ 236  ┆ sEH     ┆ 2851961      │\n",
       "└───────────┴───────────────────────────────────┴──────┴──────┴──────┴─────────┴──────────────┘"
      ]
     },
     "execution_count": 83,
     "metadata": {},
     "output_type": "execute_result"
    }
   ],
   "source": [
    "test_scaffolds = pl.scan_csv('/home/dangnh36/datasets/competitions/leash_belka/processed/test_scaffold.csv').collect()\n",
    "test_df = pl.scan_csv('/home/dangnh36/datasets/competitions/leash_belka/processed/test_v2.csv')\\\n",
    "    .select(\n",
    "        pl.col('id','molecule'),\n",
    "        pl.col('bb1', 'bb2', 'bb3').cast(pl.UInt16),\n",
    "        pl.col('protein'),\n",
    "        scaffold_idx = test_scaffolds['scaffold_idx']\n",
    "    ).collect()\n",
    "print(test_df.estimated_size('mb'))\n",
    "test_df"
   ]
  },
  {
   "cell_type": "code",
   "execution_count": 84,
   "id": "071b7236-432c-491e-b5b7-0989a64aeb1f",
   "metadata": {},
   "outputs": [
    {
     "data": {
      "text/plain": [
       "(1674896, 7)"
      ]
     },
     "execution_count": 84,
     "metadata": {},
     "output_type": "execute_result"
    }
   ],
   "source": [
    "test_df.shape"
   ]
  },
  {
   "cell_type": "code",
   "execution_count": 85,
   "id": "d49c391d-f31d-4c00-adeb-613137dccd88",
   "metadata": {},
   "outputs": [
    {
     "name": "stdout",
     "output_type": "stream",
     "text": [
      "cluster=0, 1145 building blocks, 1107117 samples (66.1 %)\n",
      "cluster=1, 859 building blocks, 500000 samples (29.85 %)\n",
      "cluster=2, 53 building blocks, 33813 samples (2.02 %)\n",
      "cluster=3, 53 building blocks, 33966 samples (2.03 %)\n"
     ]
    }
   ],
   "source": [
    "for cluster_idx in bb_cluster:\n",
    "    cluster = bb_cluster[cluster_idx]\n",
    "    num_samples = test_df.filter(pl.col('bb1').is_in(cluster) | pl.col('bb2').is_in(cluster) | pl.col('bb2').is_in(cluster)).shape[0]\n",
    "    pct = round(num_samples / test_df.shape[0] * 100, 2)\n",
    "    print(f'cluster={cluster_idx}, {len(cluster)} building blocks, {num_samples} samples ({pct} %)')"
   ]
  },
  {
   "cell_type": "code",
   "execution_count": null,
   "id": "d3e9a1d5-81c3-4367-9b2f-2fc634ecc39e",
   "metadata": {},
   "outputs": [],
   "source": []
  },
  {
   "cell_type": "code",
   "execution_count": null,
   "id": "99730fba-0e46-495e-8051-96d0f14b8539",
   "metadata": {},
   "outputs": [],
   "source": []
  },
  {
   "cell_type": "code",
   "execution_count": null,
   "id": "56e0267f-92e4-4f8e-a6f7-936f47639b83",
   "metadata": {},
   "outputs": [],
   "source": []
  },
  {
   "cell_type": "code",
   "execution_count": null,
   "id": "a7ad8456-5681-4d35-962f-74e86cb997f6",
   "metadata": {},
   "outputs": [],
   "source": []
  },
  {
   "cell_type": "code",
   "execution_count": null,
   "id": "45b29dac-7891-4033-b765-707c567f71e3",
   "metadata": {},
   "outputs": [],
   "source": []
  },
  {
   "cell_type": "code",
   "execution_count": null,
   "id": "65c54472-7606-4b70-851e-16ef229a2f35",
   "metadata": {},
   "outputs": [],
   "source": []
  },
  {
   "cell_type": "code",
   "execution_count": null,
   "id": "b9c7e296-138b-4c50-a316-ca56edaf16ea",
   "metadata": {},
   "outputs": [],
   "source": []
  },
  {
   "cell_type": "code",
   "execution_count": null,
   "id": "a7a3dff3-04fe-4ebc-8a9e-22b1b53d4cd2",
   "metadata": {},
   "outputs": [],
   "source": []
  },
  {
   "cell_type": "code",
   "execution_count": null,
   "id": "13401c0f-a326-4b08-b969-5fabcc39106f",
   "metadata": {},
   "outputs": [],
   "source": []
  },
  {
   "cell_type": "code",
   "execution_count": null,
   "id": "9cdc61cd-62e3-4eea-9439-81acaa4859d5",
   "metadata": {},
   "outputs": [],
   "source": []
  }
 ],
 "metadata": {
  "kernelspec": {
   "display_name": "Python 3 (ipykernel)",
   "language": "python",
   "name": "python3"
  },
  "language_info": {
   "codemirror_mode": {
    "name": "ipython",
    "version": 3
   },
   "file_extension": ".py",
   "mimetype": "text/x-python",
   "name": "python",
   "nbconvert_exporter": "python",
   "pygments_lexer": "ipython3",
   "version": "3.10.13"
  }
 },
 "nbformat": 4,
 "nbformat_minor": 5
}
